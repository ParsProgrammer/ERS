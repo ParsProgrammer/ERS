{
  "cells": [
    {
      "cell_type": "code",
      "execution_count": 1,
      "metadata": {},
      "outputs": [
        {
          "name": "stdout",
          "output_type": "stream",
          "text": [
            "Number of processors:  16\n"
          ]
        }
      ],
      "source": [
        "import multiprocessing as mp\n",
        "print(\"Number of processors: \", mp.cpu_count())"
      ]
    },
    {
      "cell_type": "markdown",
      "metadata": {},
      "source": [
        "# Package"
      ]
    },
    {
      "cell_type": "code",
      "execution_count": 2,
      "metadata": {
        "colab": {
          "base_uri": "https://localhost:8080/"
        },
        "id": "xrzVYQNxJm_W",
        "outputId": "8f98d417-6c2d-47ff-a041-84238103eba9"
      },
      "outputs": [
        {
          "name": "stdout",
          "output_type": "stream",
          "text": [
            "Requirement already satisfied: tensorflow-gpu==2.9 in /home/mobin/anaconda3/envs/colabenv/lib/python3.7/site-packages (2.9.0)\n",
            "Requirement already satisfied: setuptools in /home/mobin/anaconda3/envs/colabenv/lib/python3.7/site-packages (from tensorflow-gpu==2.9) (61.2.0)\n",
            "Requirement already satisfied: numpy>=1.20 in /home/mobin/anaconda3/envs/colabenv/lib/python3.7/site-packages (from tensorflow-gpu==2.9) (1.21.6)\n",
            "Requirement already satisfied: typing-extensions>=3.6.6 in /home/mobin/anaconda3/envs/colabenv/lib/python3.7/site-packages (from tensorflow-gpu==2.9) (4.3.0)\n",
            "Requirement already satisfied: termcolor>=1.1.0 in /home/mobin/anaconda3/envs/colabenv/lib/python3.7/site-packages (from tensorflow-gpu==2.9) (1.1.0)\n",
            "Requirement already satisfied: keras<2.10.0,>=2.9.0rc0 in /home/mobin/anaconda3/envs/colabenv/lib/python3.7/site-packages (from tensorflow-gpu==2.9) (2.9.0)\n",
            "Requirement already satisfied: tensorflow-io-gcs-filesystem>=0.23.1 in /home/mobin/anaconda3/envs/colabenv/lib/python3.7/site-packages (from tensorflow-gpu==2.9) (0.26.0)\n",
            "Requirement already satisfied: tensorflow-estimator<2.10.0,>=2.9.0rc0 in /home/mobin/anaconda3/envs/colabenv/lib/python3.7/site-packages (from tensorflow-gpu==2.9) (2.9.0)\n",
            "Requirement already satisfied: keras-preprocessing>=1.1.1 in /home/mobin/anaconda3/envs/colabenv/lib/python3.7/site-packages (from tensorflow-gpu==2.9) (1.1.2)\n",
            "Requirement already satisfied: protobuf>=3.9.2 in /home/mobin/anaconda3/envs/colabenv/lib/python3.7/site-packages (from tensorflow-gpu==2.9) (3.19.4)\n",
            "Requirement already satisfied: astunparse>=1.6.0 in /home/mobin/anaconda3/envs/colabenv/lib/python3.7/site-packages (from tensorflow-gpu==2.9) (1.6.3)\n",
            "Requirement already satisfied: absl-py>=1.0.0 in /home/mobin/anaconda3/envs/colabenv/lib/python3.7/site-packages (from tensorflow-gpu==2.9) (1.2.0)\n",
            "Requirement already satisfied: opt-einsum>=2.3.2 in /home/mobin/anaconda3/envs/colabenv/lib/python3.7/site-packages (from tensorflow-gpu==2.9) (3.3.0)\n",
            "Requirement already satisfied: grpcio<2.0,>=1.24.3 in /home/mobin/anaconda3/envs/colabenv/lib/python3.7/site-packages (from tensorflow-gpu==2.9) (1.47.0)\n",
            "Requirement already satisfied: wrapt>=1.11.0 in /home/mobin/anaconda3/envs/colabenv/lib/python3.7/site-packages (from tensorflow-gpu==2.9) (1.14.1)\n",
            "Requirement already satisfied: flatbuffers<2,>=1.12 in /home/mobin/anaconda3/envs/colabenv/lib/python3.7/site-packages (from tensorflow-gpu==2.9) (1.12)\n",
            "Requirement already satisfied: six>=1.12.0 in /home/mobin/anaconda3/envs/colabenv/lib/python3.7/site-packages (from tensorflow-gpu==2.9) (1.16.0)\n",
            "Requirement already satisfied: google-pasta>=0.1.1 in /home/mobin/anaconda3/envs/colabenv/lib/python3.7/site-packages (from tensorflow-gpu==2.9) (0.2.0)\n",
            "Requirement already satisfied: tensorboard<2.10,>=2.9 in /home/mobin/anaconda3/envs/colabenv/lib/python3.7/site-packages (from tensorflow-gpu==2.9) (2.9.1)\n",
            "Requirement already satisfied: libclang>=13.0.0 in /home/mobin/anaconda3/envs/colabenv/lib/python3.7/site-packages (from tensorflow-gpu==2.9) (14.0.6)\n",
            "Requirement already satisfied: h5py>=2.9.0 in /home/mobin/anaconda3/envs/colabenv/lib/python3.7/site-packages (from tensorflow-gpu==2.9) (3.7.0)\n",
            "Requirement already satisfied: packaging in /home/mobin/anaconda3/envs/colabenv/lib/python3.7/site-packages (from tensorflow-gpu==2.9) (21.3)\n",
            "Requirement already satisfied: gast<=0.4.0,>=0.2.1 in /home/mobin/anaconda3/envs/colabenv/lib/python3.7/site-packages (from tensorflow-gpu==2.9) (0.4.0)\n",
            "Requirement already satisfied: wheel<1.0,>=0.23.0 in /home/mobin/anaconda3/envs/colabenv/lib/python3.7/site-packages (from astunparse>=1.6.0->tensorflow-gpu==2.9) (0.37.1)\n",
            "Requirement already satisfied: werkzeug>=1.0.1 in /home/mobin/anaconda3/envs/colabenv/lib/python3.7/site-packages (from tensorboard<2.10,>=2.9->tensorflow-gpu==2.9) (2.2.1)\n",
            "Requirement already satisfied: tensorboard-data-server<0.7.0,>=0.6.0 in /home/mobin/anaconda3/envs/colabenv/lib/python3.7/site-packages (from tensorboard<2.10,>=2.9->tensorflow-gpu==2.9) (0.6.1)\n",
            "Requirement already satisfied: tensorboard-plugin-wit>=1.6.0 in /home/mobin/anaconda3/envs/colabenv/lib/python3.7/site-packages (from tensorboard<2.10,>=2.9->tensorflow-gpu==2.9) (1.8.1)\n",
            "Requirement already satisfied: markdown>=2.6.8 in /home/mobin/anaconda3/envs/colabenv/lib/python3.7/site-packages (from tensorboard<2.10,>=2.9->tensorflow-gpu==2.9) (3.4.1)\n",
            "Requirement already satisfied: google-auth-oauthlib<0.5,>=0.4.1 in /home/mobin/anaconda3/envs/colabenv/lib/python3.7/site-packages (from tensorboard<2.10,>=2.9->tensorflow-gpu==2.9) (0.4.6)\n",
            "Requirement already satisfied: google-auth<3,>=1.6.3 in /home/mobin/anaconda3/envs/colabenv/lib/python3.7/site-packages (from tensorboard<2.10,>=2.9->tensorflow-gpu==2.9) (2.9.1)\n",
            "Requirement already satisfied: requests<3,>=2.21.0 in /home/mobin/anaconda3/envs/colabenv/lib/python3.7/site-packages (from tensorboard<2.10,>=2.9->tensorflow-gpu==2.9) (2.28.1)\n",
            "Requirement already satisfied: pyparsing!=3.0.5,>=2.0.2 in /home/mobin/anaconda3/envs/colabenv/lib/python3.7/site-packages (from packaging->tensorflow-gpu==2.9) (3.0.9)\n",
            "Requirement already satisfied: cachetools<6.0,>=2.0.0 in /home/mobin/anaconda3/envs/colabenv/lib/python3.7/site-packages (from google-auth<3,>=1.6.3->tensorboard<2.10,>=2.9->tensorflow-gpu==2.9) (5.2.0)\n",
            "Requirement already satisfied: pyasn1-modules>=0.2.1 in /home/mobin/anaconda3/envs/colabenv/lib/python3.7/site-packages (from google-auth<3,>=1.6.3->tensorboard<2.10,>=2.9->tensorflow-gpu==2.9) (0.2.8)\n",
            "Requirement already satisfied: rsa<5,>=3.1.4 in /home/mobin/anaconda3/envs/colabenv/lib/python3.7/site-packages (from google-auth<3,>=1.6.3->tensorboard<2.10,>=2.9->tensorflow-gpu==2.9) (4.9)\n",
            "Requirement already satisfied: requests-oauthlib>=0.7.0 in /home/mobin/anaconda3/envs/colabenv/lib/python3.7/site-packages (from google-auth-oauthlib<0.5,>=0.4.1->tensorboard<2.10,>=2.9->tensorflow-gpu==2.9) (1.3.1)\n",
            "Requirement already satisfied: importlib-metadata>=4.4 in /home/mobin/anaconda3/envs/colabenv/lib/python3.7/site-packages (from markdown>=2.6.8->tensorboard<2.10,>=2.9->tensorflow-gpu==2.9) (4.12.0)\n",
            "Requirement already satisfied: charset-normalizer<3,>=2 in /home/mobin/anaconda3/envs/colabenv/lib/python3.7/site-packages (from requests<3,>=2.21.0->tensorboard<2.10,>=2.9->tensorflow-gpu==2.9) (2.1.0)\n",
            "Requirement already satisfied: idna<4,>=2.5 in /home/mobin/anaconda3/envs/colabenv/lib/python3.7/site-packages (from requests<3,>=2.21.0->tensorboard<2.10,>=2.9->tensorflow-gpu==2.9) (3.3)\n",
            "Requirement already satisfied: certifi>=2017.4.17 in /home/mobin/anaconda3/envs/colabenv/lib/python3.7/site-packages (from requests<3,>=2.21.0->tensorboard<2.10,>=2.9->tensorflow-gpu==2.9) (2022.6.15)\n",
            "Requirement already satisfied: urllib3<1.27,>=1.21.1 in /home/mobin/anaconda3/envs/colabenv/lib/python3.7/site-packages (from requests<3,>=2.21.0->tensorboard<2.10,>=2.9->tensorflow-gpu==2.9) (1.26.11)\n",
            "Requirement already satisfied: MarkupSafe>=2.1.1 in /home/mobin/anaconda3/envs/colabenv/lib/python3.7/site-packages (from werkzeug>=1.0.1->tensorboard<2.10,>=2.9->tensorflow-gpu==2.9) (2.1.1)\n",
            "Requirement already satisfied: zipp>=0.5 in /home/mobin/anaconda3/envs/colabenv/lib/python3.7/site-packages (from importlib-metadata>=4.4->markdown>=2.6.8->tensorboard<2.10,>=2.9->tensorflow-gpu==2.9) (3.8.1)\n",
            "Requirement already satisfied: pyasn1<0.5.0,>=0.4.6 in /home/mobin/anaconda3/envs/colabenv/lib/python3.7/site-packages (from pyasn1-modules>=0.2.1->google-auth<3,>=1.6.3->tensorboard<2.10,>=2.9->tensorflow-gpu==2.9) (0.4.8)\n",
            "Requirement already satisfied: oauthlib>=3.0.0 in /home/mobin/anaconda3/envs/colabenv/lib/python3.7/site-packages (from requests-oauthlib>=0.7.0->google-auth-oauthlib<0.5,>=0.4.1->tensorboard<2.10,>=2.9->tensorflow-gpu==2.9) (3.2.0)\n",
            "Note: you may need to restart the kernel to use updated packages.\n",
            "Requirement already satisfied: tensorflow-text in /home/mobin/anaconda3/envs/colabenv/lib/python3.7/site-packages (2.9.0)\n",
            "Requirement already satisfied: tensorflow<2.10,>=2.9.0 in /home/mobin/anaconda3/envs/colabenv/lib/python3.7/site-packages (from tensorflow-text) (2.9.0)\n",
            "Requirement already satisfied: tensorflow-hub>=0.8.0 in /home/mobin/anaconda3/envs/colabenv/lib/python3.7/site-packages (from tensorflow-text) (0.12.0)\n",
            "Requirement already satisfied: tensorflow-io-gcs-filesystem>=0.23.1 in /home/mobin/anaconda3/envs/colabenv/lib/python3.7/site-packages (from tensorflow<2.10,>=2.9.0->tensorflow-text) (0.26.0)\n",
            "Requirement already satisfied: tensorboard<2.10,>=2.9 in /home/mobin/anaconda3/envs/colabenv/lib/python3.7/site-packages (from tensorflow<2.10,>=2.9.0->tensorflow-text) (2.9.1)\n",
            "Requirement already satisfied: opt-einsum>=2.3.2 in /home/mobin/anaconda3/envs/colabenv/lib/python3.7/site-packages (from tensorflow<2.10,>=2.9.0->tensorflow-text) (3.3.0)\n",
            "Requirement already satisfied: absl-py>=1.0.0 in /home/mobin/anaconda3/envs/colabenv/lib/python3.7/site-packages (from tensorflow<2.10,>=2.9.0->tensorflow-text) (1.2.0)\n",
            "Requirement already satisfied: h5py>=2.9.0 in /home/mobin/anaconda3/envs/colabenv/lib/python3.7/site-packages (from tensorflow<2.10,>=2.9.0->tensorflow-text) (3.7.0)\n",
            "Requirement already satisfied: wrapt>=1.11.0 in /home/mobin/anaconda3/envs/colabenv/lib/python3.7/site-packages (from tensorflow<2.10,>=2.9.0->tensorflow-text) (1.14.1)\n",
            "Requirement already satisfied: keras-preprocessing>=1.1.1 in /home/mobin/anaconda3/envs/colabenv/lib/python3.7/site-packages (from tensorflow<2.10,>=2.9.0->tensorflow-text) (1.1.2)\n",
            "Requirement already satisfied: numpy>=1.20 in /home/mobin/anaconda3/envs/colabenv/lib/python3.7/site-packages (from tensorflow<2.10,>=2.9.0->tensorflow-text) (1.21.6)\n",
            "Requirement already satisfied: protobuf>=3.9.2 in /home/mobin/anaconda3/envs/colabenv/lib/python3.7/site-packages (from tensorflow<2.10,>=2.9.0->tensorflow-text) (3.19.4)\n",
            "Requirement already satisfied: termcolor>=1.1.0 in /home/mobin/anaconda3/envs/colabenv/lib/python3.7/site-packages (from tensorflow<2.10,>=2.9.0->tensorflow-text) (1.1.0)\n",
            "Requirement already satisfied: packaging in /home/mobin/anaconda3/envs/colabenv/lib/python3.7/site-packages (from tensorflow<2.10,>=2.9.0->tensorflow-text) (21.3)\n",
            "Requirement already satisfied: astunparse>=1.6.0 in /home/mobin/anaconda3/envs/colabenv/lib/python3.7/site-packages (from tensorflow<2.10,>=2.9.0->tensorflow-text) (1.6.3)\n",
            "Requirement already satisfied: flatbuffers<2,>=1.12 in /home/mobin/anaconda3/envs/colabenv/lib/python3.7/site-packages (from tensorflow<2.10,>=2.9.0->tensorflow-text) (1.12)\n",
            "Requirement already satisfied: gast<=0.4.0,>=0.2.1 in /home/mobin/anaconda3/envs/colabenv/lib/python3.7/site-packages (from tensorflow<2.10,>=2.9.0->tensorflow-text) (0.4.0)\n",
            "Requirement already satisfied: grpcio<2.0,>=1.24.3 in /home/mobin/anaconda3/envs/colabenv/lib/python3.7/site-packages (from tensorflow<2.10,>=2.9.0->tensorflow-text) (1.47.0)\n",
            "Requirement already satisfied: six>=1.12.0 in /home/mobin/anaconda3/envs/colabenv/lib/python3.7/site-packages (from tensorflow<2.10,>=2.9.0->tensorflow-text) (1.16.0)\n",
            "Requirement already satisfied: typing-extensions>=3.6.6 in /home/mobin/anaconda3/envs/colabenv/lib/python3.7/site-packages (from tensorflow<2.10,>=2.9.0->tensorflow-text) (4.3.0)\n",
            "Requirement already satisfied: libclang>=13.0.0 in /home/mobin/anaconda3/envs/colabenv/lib/python3.7/site-packages (from tensorflow<2.10,>=2.9.0->tensorflow-text) (14.0.6)\n",
            "Requirement already satisfied: setuptools in /home/mobin/anaconda3/envs/colabenv/lib/python3.7/site-packages (from tensorflow<2.10,>=2.9.0->tensorflow-text) (61.2.0)\n",
            "Requirement already satisfied: tensorflow-estimator<2.10.0,>=2.9.0rc0 in /home/mobin/anaconda3/envs/colabenv/lib/python3.7/site-packages (from tensorflow<2.10,>=2.9.0->tensorflow-text) (2.9.0)\n",
            "Requirement already satisfied: keras<2.10.0,>=2.9.0rc0 in /home/mobin/anaconda3/envs/colabenv/lib/python3.7/site-packages (from tensorflow<2.10,>=2.9.0->tensorflow-text) (2.9.0)\n",
            "Requirement already satisfied: google-pasta>=0.1.1 in /home/mobin/anaconda3/envs/colabenv/lib/python3.7/site-packages (from tensorflow<2.10,>=2.9.0->tensorflow-text) (0.2.0)\n",
            "Requirement already satisfied: wheel<1.0,>=0.23.0 in /home/mobin/anaconda3/envs/colabenv/lib/python3.7/site-packages (from astunparse>=1.6.0->tensorflow<2.10,>=2.9.0->tensorflow-text) (0.37.1)\n",
            "Requirement already satisfied: tensorboard-data-server<0.7.0,>=0.6.0 in /home/mobin/anaconda3/envs/colabenv/lib/python3.7/site-packages (from tensorboard<2.10,>=2.9->tensorflow<2.10,>=2.9.0->tensorflow-text) (0.6.1)\n",
            "Requirement already satisfied: markdown>=2.6.8 in /home/mobin/anaconda3/envs/colabenv/lib/python3.7/site-packages (from tensorboard<2.10,>=2.9->tensorflow<2.10,>=2.9.0->tensorflow-text) (3.4.1)\n",
            "Requirement already satisfied: werkzeug>=1.0.1 in /home/mobin/anaconda3/envs/colabenv/lib/python3.7/site-packages (from tensorboard<2.10,>=2.9->tensorflow<2.10,>=2.9.0->tensorflow-text) (2.2.1)\n",
            "Requirement already satisfied: tensorboard-plugin-wit>=1.6.0 in /home/mobin/anaconda3/envs/colabenv/lib/python3.7/site-packages (from tensorboard<2.10,>=2.9->tensorflow<2.10,>=2.9.0->tensorflow-text) (1.8.1)\n",
            "Requirement already satisfied: google-auth-oauthlib<0.5,>=0.4.1 in /home/mobin/anaconda3/envs/colabenv/lib/python3.7/site-packages (from tensorboard<2.10,>=2.9->tensorflow<2.10,>=2.9.0->tensorflow-text) (0.4.6)\n",
            "Requirement already satisfied: google-auth<3,>=1.6.3 in /home/mobin/anaconda3/envs/colabenv/lib/python3.7/site-packages (from tensorboard<2.10,>=2.9->tensorflow<2.10,>=2.9.0->tensorflow-text) (2.9.1)\n",
            "Requirement already satisfied: requests<3,>=2.21.0 in /home/mobin/anaconda3/envs/colabenv/lib/python3.7/site-packages (from tensorboard<2.10,>=2.9->tensorflow<2.10,>=2.9.0->tensorflow-text) (2.28.1)\n",
            "Requirement already satisfied: pyparsing!=3.0.5,>=2.0.2 in /home/mobin/anaconda3/envs/colabenv/lib/python3.7/site-packages (from packaging->tensorflow<2.10,>=2.9.0->tensorflow-text) (3.0.9)\n",
            "Requirement already satisfied: rsa<5,>=3.1.4 in /home/mobin/anaconda3/envs/colabenv/lib/python3.7/site-packages (from google-auth<3,>=1.6.3->tensorboard<2.10,>=2.9->tensorflow<2.10,>=2.9.0->tensorflow-text) (4.9)\n",
            "Requirement already satisfied: pyasn1-modules>=0.2.1 in /home/mobin/anaconda3/envs/colabenv/lib/python3.7/site-packages (from google-auth<3,>=1.6.3->tensorboard<2.10,>=2.9->tensorflow<2.10,>=2.9.0->tensorflow-text) (0.2.8)\n",
            "Requirement already satisfied: cachetools<6.0,>=2.0.0 in /home/mobin/anaconda3/envs/colabenv/lib/python3.7/site-packages (from google-auth<3,>=1.6.3->tensorboard<2.10,>=2.9->tensorflow<2.10,>=2.9.0->tensorflow-text) (5.2.0)\n",
            "Requirement already satisfied: requests-oauthlib>=0.7.0 in /home/mobin/anaconda3/envs/colabenv/lib/python3.7/site-packages (from google-auth-oauthlib<0.5,>=0.4.1->tensorboard<2.10,>=2.9->tensorflow<2.10,>=2.9.0->tensorflow-text) (1.3.1)\n",
            "Requirement already satisfied: importlib-metadata>=4.4 in /home/mobin/anaconda3/envs/colabenv/lib/python3.7/site-packages (from markdown>=2.6.8->tensorboard<2.10,>=2.9->tensorflow<2.10,>=2.9.0->tensorflow-text) (4.12.0)\n",
            "Requirement already satisfied: idna<4,>=2.5 in /home/mobin/anaconda3/envs/colabenv/lib/python3.7/site-packages (from requests<3,>=2.21.0->tensorboard<2.10,>=2.9->tensorflow<2.10,>=2.9.0->tensorflow-text) (3.3)\n",
            "Requirement already satisfied: urllib3<1.27,>=1.21.1 in /home/mobin/anaconda3/envs/colabenv/lib/python3.7/site-packages (from requests<3,>=2.21.0->tensorboard<2.10,>=2.9->tensorflow<2.10,>=2.9.0->tensorflow-text) (1.26.11)\n",
            "Requirement already satisfied: charset-normalizer<3,>=2 in /home/mobin/anaconda3/envs/colabenv/lib/python3.7/site-packages (from requests<3,>=2.21.0->tensorboard<2.10,>=2.9->tensorflow<2.10,>=2.9.0->tensorflow-text) (2.1.0)\n",
            "Requirement already satisfied: certifi>=2017.4.17 in /home/mobin/anaconda3/envs/colabenv/lib/python3.7/site-packages (from requests<3,>=2.21.0->tensorboard<2.10,>=2.9->tensorflow<2.10,>=2.9.0->tensorflow-text) (2022.6.15)\n",
            "Requirement already satisfied: MarkupSafe>=2.1.1 in /home/mobin/anaconda3/envs/colabenv/lib/python3.7/site-packages (from werkzeug>=1.0.1->tensorboard<2.10,>=2.9->tensorflow<2.10,>=2.9.0->tensorflow-text) (2.1.1)\n",
            "Requirement already satisfied: zipp>=0.5 in /home/mobin/anaconda3/envs/colabenv/lib/python3.7/site-packages (from importlib-metadata>=4.4->markdown>=2.6.8->tensorboard<2.10,>=2.9->tensorflow<2.10,>=2.9.0->tensorflow-text) (3.8.1)\n",
            "Requirement already satisfied: pyasn1<0.5.0,>=0.4.6 in /home/mobin/anaconda3/envs/colabenv/lib/python3.7/site-packages (from pyasn1-modules>=0.2.1->google-auth<3,>=1.6.3->tensorboard<2.10,>=2.9->tensorflow<2.10,>=2.9.0->tensorflow-text) (0.4.8)\n",
            "Requirement already satisfied: oauthlib>=3.0.0 in /home/mobin/anaconda3/envs/colabenv/lib/python3.7/site-packages (from requests-oauthlib>=0.7.0->google-auth-oauthlib<0.5,>=0.4.1->tensorboard<2.10,>=2.9->tensorflow<2.10,>=2.9.0->tensorflow-text) (3.2.0)\n",
            "Note: you may need to restart the kernel to use updated packages.\n"
          ]
        }
      ],
      "source": [
        "%pip install tensorflow-gpu==2.9\n",
        "%pip install tensorflow-text"
      ]
    },
    {
      "cell_type": "code",
      "execution_count": 3,
      "metadata": {
        "id": "BTOV54y-ckzq"
      },
      "outputs": [],
      "source": [
        "import tensorflow as tf\n",
        "import tensorflow_text as tf_text"
      ]
    },
    {
      "cell_type": "code",
      "execution_count": 4,
      "metadata": {},
      "outputs": [
        {
          "name": "stdout",
          "output_type": "stream",
          "text": [
            "Requirement already satisfied: matplotlib in /home/mobin/anaconda3/envs/colabenv/lib/python3.7/site-packages (3.5.2)\n",
            "Requirement already satisfied: pillow>=6.2.0 in /home/mobin/anaconda3/envs/colabenv/lib/python3.7/site-packages (from matplotlib) (9.2.0)\n",
            "Requirement already satisfied: pyparsing>=2.2.1 in /home/mobin/anaconda3/envs/colabenv/lib/python3.7/site-packages (from matplotlib) (3.0.9)\n",
            "Requirement already satisfied: cycler>=0.10 in /home/mobin/anaconda3/envs/colabenv/lib/python3.7/site-packages (from matplotlib) (0.11.0)\n",
            "Requirement already satisfied: packaging>=20.0 in /home/mobin/anaconda3/envs/colabenv/lib/python3.7/site-packages (from matplotlib) (21.3)\n",
            "Requirement already satisfied: fonttools>=4.22.0 in /home/mobin/anaconda3/envs/colabenv/lib/python3.7/site-packages (from matplotlib) (4.34.4)\n",
            "Requirement already satisfied: numpy>=1.17 in /home/mobin/anaconda3/envs/colabenv/lib/python3.7/site-packages (from matplotlib) (1.21.6)\n",
            "Requirement already satisfied: kiwisolver>=1.0.1 in /home/mobin/anaconda3/envs/colabenv/lib/python3.7/site-packages (from matplotlib) (1.4.4)\n",
            "Requirement already satisfied: python-dateutil>=2.7 in /home/mobin/anaconda3/envs/colabenv/lib/python3.7/site-packages (from matplotlib) (2.8.2)\n",
            "Requirement already satisfied: typing-extensions in /home/mobin/anaconda3/envs/colabenv/lib/python3.7/site-packages (from kiwisolver>=1.0.1->matplotlib) (4.3.0)\n",
            "Requirement already satisfied: six>=1.5 in /home/mobin/anaconda3/envs/colabenv/lib/python3.7/site-packages (from python-dateutil>=2.7->matplotlib) (1.16.0)\n",
            "Note: you may need to restart the kernel to use updated packages.\n"
          ]
        }
      ],
      "source": [
        "%pip install matplotlib"
      ]
    },
    {
      "cell_type": "code",
      "execution_count": 5,
      "metadata": {
        "id": "1u4wpNQOEUc9"
      },
      "outputs": [],
      "source": [
        "from sklearn.metrics import mean_squared_error\n",
        "import pandas as pd\n",
        "import gzip\n",
        "import matplotlib.pyplot as plt\n",
        "import gc\n",
        "import numpy as np\n",
        "from tensorflow import keras\n",
        "from numpy.ma.core import transpose\n",
        "from sklearn.model_selection import KFold\n",
        "from timeit import default_timer as timer\n",
        "import datetime \n",
        "import sys\n",
        "import time\n",
        "import psutil\n",
        "import os"
      ]
    },
    {
      "cell_type": "code",
      "execution_count": 6,
      "metadata": {
        "colab": {
          "base_uri": "https://localhost:8080/"
        },
        "id": "HTkARkSuo9PR",
        "outputId": "8548446d-69cd-4727-8b8f-851569dd33d5"
      },
      "outputs": [
        {
          "name": "stdout",
          "output_type": "stream",
          "text": [
            "Requirement already satisfied: gensim==3.8 in /home/mobin/anaconda3/envs/colabenv/lib/python3.7/site-packages (3.8.0)\n",
            "Requirement already satisfied: scipy>=0.18.1 in /home/mobin/anaconda3/envs/colabenv/lib/python3.7/site-packages (from gensim==3.8) (1.7.3)\n",
            "Requirement already satisfied: numpy>=1.11.3 in /home/mobin/anaconda3/envs/colabenv/lib/python3.7/site-packages (from gensim==3.8) (1.21.6)\n",
            "Requirement already satisfied: smart-open>=1.7.0 in /home/mobin/anaconda3/envs/colabenv/lib/python3.7/site-packages (from gensim==3.8) (6.0.0)\n",
            "Requirement already satisfied: six>=1.5.0 in /home/mobin/anaconda3/envs/colabenv/lib/python3.7/site-packages (from gensim==3.8) (1.16.0)\n",
            "Note: you may need to restart the kernel to use updated packages.\n",
            "Requirement already satisfied: nltk in /home/mobin/anaconda3/envs/colabenv/lib/python3.7/site-packages (3.7)\n",
            "Requirement already satisfied: click in /home/mobin/anaconda3/envs/colabenv/lib/python3.7/site-packages (from nltk) (8.1.3)\n",
            "Requirement already satisfied: joblib in /home/mobin/anaconda3/envs/colabenv/lib/python3.7/site-packages (from nltk) (1.1.0)\n",
            "Requirement already satisfied: tqdm in /home/mobin/anaconda3/envs/colabenv/lib/python3.7/site-packages (from nltk) (4.64.0)\n",
            "Requirement already satisfied: regex>=2021.8.3 in /home/mobin/anaconda3/envs/colabenv/lib/python3.7/site-packages (from nltk) (2022.7.25)\n",
            "Requirement already satisfied: importlib-metadata in /home/mobin/anaconda3/envs/colabenv/lib/python3.7/site-packages (from click->nltk) (4.12.0)\n",
            "Requirement already satisfied: zipp>=0.5 in /home/mobin/anaconda3/envs/colabenv/lib/python3.7/site-packages (from importlib-metadata->click->nltk) (3.8.1)\n",
            "Requirement already satisfied: typing-extensions>=3.6.4 in /home/mobin/anaconda3/envs/colabenv/lib/python3.7/site-packages (from importlib-metadata->click->nltk) (4.3.0)\n",
            "Note: you may need to restart the kernel to use updated packages.\n"
          ]
        }
      ],
      "source": [
        "%pip install gensim==3.8\n",
        "%pip install nltk"
      ]
    },
    {
      "cell_type": "code",
      "execution_count": 7,
      "metadata": {},
      "outputs": [],
      "source": [
        "from nltk.tokenize import sent_tokenize, word_tokenize\n",
        "import gensim\n",
        "from gensim.models import Word2Vec\n",
        "import gensim.downloader"
      ]
    },
    {
      "cell_type": "code",
      "execution_count": 8,
      "metadata": {
        "colab": {
          "base_uri": "https://localhost:8080/"
        },
        "id": "NnDuJU4fpMLE",
        "outputId": "ecfd7d10-b929-43ce-cd99-0e2213f4e376"
      },
      "outputs": [
        {
          "name": "stderr",
          "output_type": "stream",
          "text": [
            "[nltk_data] Downloading package punkt to /home/mobin/nltk_data...\n",
            "[nltk_data]   Package punkt is already up-to-date!\n"
          ]
        },
        {
          "data": {
            "text/plain": [
              "True"
            ]
          },
          "execution_count": 8,
          "metadata": {},
          "output_type": "execute_result"
        }
      ],
      "source": [
        "import nltk\n",
        "nltk.download('punkt')\n"
      ]
    },
    {
      "cell_type": "code",
      "execution_count": 9,
      "metadata": {},
      "outputs": [
        {
          "name": "stderr",
          "output_type": "stream",
          "text": [
            "2022-11-12 10:47:24.819179: I tensorflow/stream_executor/cuda/cuda_gpu_executor.cc:975] successful NUMA node read from SysFS had negative value (-1), but there must be at least one NUMA node, so returning NUMA node zero\n",
            "2022-11-12 10:47:24.832852: I tensorflow/stream_executor/cuda/cuda_gpu_executor.cc:975] successful NUMA node read from SysFS had negative value (-1), but there must be at least one NUMA node, so returning NUMA node zero\n",
            "2022-11-12 10:47:24.833076: I tensorflow/stream_executor/cuda/cuda_gpu_executor.cc:975] successful NUMA node read from SysFS had negative value (-1), but there must be at least one NUMA node, so returning NUMA node zero\n",
            "2022-11-12 10:47:24.833787: I tensorflow/core/platform/cpu_feature_guard.cc:193] This TensorFlow binary is optimized with oneAPI Deep Neural Network Library (oneDNN) to use the following CPU instructions in performance-critical operations:  AVX2 FMA\n",
            "To enable them in other operations, rebuild TensorFlow with the appropriate compiler flags.\n",
            "2022-11-12 10:47:24.835731: I tensorflow/stream_executor/cuda/cuda_gpu_executor.cc:975] successful NUMA node read from SysFS had negative value (-1), but there must be at least one NUMA node, so returning NUMA node zero\n",
            "2022-11-12 10:47:24.835938: I tensorflow/stream_executor/cuda/cuda_gpu_executor.cc:975] successful NUMA node read from SysFS had negative value (-1), but there must be at least one NUMA node, so returning NUMA node zero\n",
            "2022-11-12 10:47:24.836046: I tensorflow/stream_executor/cuda/cuda_gpu_executor.cc:975] successful NUMA node read from SysFS had negative value (-1), but there must be at least one NUMA node, so returning NUMA node zero\n",
            "2022-11-12 10:47:25.131118: I tensorflow/stream_executor/cuda/cuda_gpu_executor.cc:975] successful NUMA node read from SysFS had negative value (-1), but there must be at least one NUMA node, so returning NUMA node zero\n",
            "2022-11-12 10:47:25.131291: I tensorflow/stream_executor/cuda/cuda_gpu_executor.cc:975] successful NUMA node read from SysFS had negative value (-1), but there must be at least one NUMA node, so returning NUMA node zero\n",
            "2022-11-12 10:47:25.131414: I tensorflow/stream_executor/cuda/cuda_gpu_executor.cc:975] successful NUMA node read from SysFS had negative value (-1), but there must be at least one NUMA node, so returning NUMA node zero\n",
            "2022-11-12 10:47:25.131531: I tensorflow/core/common_runtime/gpu/gpu_device.cc:1532] Created device /job:localhost/replica:0/task:0/device:GPU:0 with 2132 MB memory:  -> device: 0, name: NVIDIA GeForce RTX 3050 Laptop GPU, pci bus id: 0000:01:00.0, compute capability: 8.6\n"
          ]
        },
        {
          "name": "stdout",
          "output_type": "stream",
          "text": [
            "1 Physical GPUs, 1 Logical GPUs\n"
          ]
        }
      ],
      "source": [
        "gpus = tf.config.list_physical_devices('GPU')\n",
        "if gpus:\n",
        "  try:\n",
        "    # Currently, memory growth needs to be the same across GPUs\n",
        "    for gpu in gpus:\n",
        "      tf.config.experimental.set_memory_growth(gpu, True)\n",
        "    logical_gpus = tf.config.list_logical_devices('GPU')\n",
        "    print(len(gpus), \"Physical GPUs,\", len(logical_gpus), \"Logical GPUs\")\n",
        "  except RuntimeError as e:\n",
        "    # Memory growth must be set before GPUs have been initialized\n",
        "    print(e)"
      ]
    },
    {
      "cell_type": "code",
      "execution_count": 10,
      "metadata": {},
      "outputs": [
        {
          "name": "stdout",
          "output_type": "stream",
          "text": [
            "Num GPUs Available:  1\n"
          ]
        }
      ],
      "source": [
        "print(\"Num GPUs Available: \", len(tf.config.list_physical_devices('GPU')))\n"
      ]
    },
    {
      "cell_type": "code",
      "execution_count": 11,
      "metadata": {},
      "outputs": [
        {
          "name": "stdout",
          "output_type": "stream",
          "text": [
            "Requirement already satisfied: tensorboard in /home/mobin/anaconda3/envs/colabenv/lib/python3.7/site-packages (2.9.1)\n",
            "Requirement already satisfied: wheel>=0.26 in /home/mobin/anaconda3/envs/colabenv/lib/python3.7/site-packages (from tensorboard) (0.37.1)\n",
            "Requirement already satisfied: markdown>=2.6.8 in /home/mobin/anaconda3/envs/colabenv/lib/python3.7/site-packages (from tensorboard) (3.4.1)\n",
            "Requirement already satisfied: protobuf<3.20,>=3.9.2 in /home/mobin/anaconda3/envs/colabenv/lib/python3.7/site-packages (from tensorboard) (3.19.4)\n",
            "Requirement already satisfied: werkzeug>=1.0.1 in /home/mobin/anaconda3/envs/colabenv/lib/python3.7/site-packages (from tensorboard) (2.2.1)\n",
            "Requirement already satisfied: google-auth-oauthlib<0.5,>=0.4.1 in /home/mobin/anaconda3/envs/colabenv/lib/python3.7/site-packages (from tensorboard) (0.4.6)\n",
            "Requirement already satisfied: google-auth<3,>=1.6.3 in /home/mobin/anaconda3/envs/colabenv/lib/python3.7/site-packages (from tensorboard) (2.9.1)\n",
            "Requirement already satisfied: numpy>=1.12.0 in /home/mobin/anaconda3/envs/colabenv/lib/python3.7/site-packages (from tensorboard) (1.21.6)\n",
            "Requirement already satisfied: grpcio>=1.24.3 in /home/mobin/anaconda3/envs/colabenv/lib/python3.7/site-packages (from tensorboard) (1.47.0)\n",
            "Requirement already satisfied: setuptools>=41.0.0 in /home/mobin/anaconda3/envs/colabenv/lib/python3.7/site-packages (from tensorboard) (61.2.0)\n",
            "Requirement already satisfied: tensorboard-plugin-wit>=1.6.0 in /home/mobin/anaconda3/envs/colabenv/lib/python3.7/site-packages (from tensorboard) (1.8.1)\n",
            "Requirement already satisfied: absl-py>=0.4 in /home/mobin/anaconda3/envs/colabenv/lib/python3.7/site-packages (from tensorboard) (1.2.0)\n",
            "Requirement already satisfied: tensorboard-data-server<0.7.0,>=0.6.0 in /home/mobin/anaconda3/envs/colabenv/lib/python3.7/site-packages (from tensorboard) (0.6.1)\n",
            "Requirement already satisfied: requests<3,>=2.21.0 in /home/mobin/anaconda3/envs/colabenv/lib/python3.7/site-packages (from tensorboard) (2.28.1)\n",
            "Requirement already satisfied: cachetools<6.0,>=2.0.0 in /home/mobin/anaconda3/envs/colabenv/lib/python3.7/site-packages (from google-auth<3,>=1.6.3->tensorboard) (5.2.0)\n",
            "Requirement already satisfied: six>=1.9.0 in /home/mobin/anaconda3/envs/colabenv/lib/python3.7/site-packages (from google-auth<3,>=1.6.3->tensorboard) (1.16.0)\n",
            "Requirement already satisfied: pyasn1-modules>=0.2.1 in /home/mobin/anaconda3/envs/colabenv/lib/python3.7/site-packages (from google-auth<3,>=1.6.3->tensorboard) (0.2.8)\n",
            "Requirement already satisfied: rsa<5,>=3.1.4 in /home/mobin/anaconda3/envs/colabenv/lib/python3.7/site-packages (from google-auth<3,>=1.6.3->tensorboard) (4.9)\n",
            "Requirement already satisfied: requests-oauthlib>=0.7.0 in /home/mobin/anaconda3/envs/colabenv/lib/python3.7/site-packages (from google-auth-oauthlib<0.5,>=0.4.1->tensorboard) (1.3.1)\n",
            "Requirement already satisfied: importlib-metadata>=4.4 in /home/mobin/anaconda3/envs/colabenv/lib/python3.7/site-packages (from markdown>=2.6.8->tensorboard) (4.12.0)\n",
            "Requirement already satisfied: idna<4,>=2.5 in /home/mobin/anaconda3/envs/colabenv/lib/python3.7/site-packages (from requests<3,>=2.21.0->tensorboard) (3.3)\n",
            "Requirement already satisfied: charset-normalizer<3,>=2 in /home/mobin/anaconda3/envs/colabenv/lib/python3.7/site-packages (from requests<3,>=2.21.0->tensorboard) (2.1.0)\n",
            "Requirement already satisfied: urllib3<1.27,>=1.21.1 in /home/mobin/anaconda3/envs/colabenv/lib/python3.7/site-packages (from requests<3,>=2.21.0->tensorboard) (1.26.11)\n",
            "Requirement already satisfied: certifi>=2017.4.17 in /home/mobin/anaconda3/envs/colabenv/lib/python3.7/site-packages (from requests<3,>=2.21.0->tensorboard) (2022.6.15)\n",
            "Requirement already satisfied: MarkupSafe>=2.1.1 in /home/mobin/anaconda3/envs/colabenv/lib/python3.7/site-packages (from werkzeug>=1.0.1->tensorboard) (2.1.1)\n",
            "Requirement already satisfied: zipp>=0.5 in /home/mobin/anaconda3/envs/colabenv/lib/python3.7/site-packages (from importlib-metadata>=4.4->markdown>=2.6.8->tensorboard) (3.8.1)\n",
            "Requirement already satisfied: typing-extensions>=3.6.4 in /home/mobin/anaconda3/envs/colabenv/lib/python3.7/site-packages (from importlib-metadata>=4.4->markdown>=2.6.8->tensorboard) (4.3.0)\n",
            "Requirement already satisfied: pyasn1<0.5.0,>=0.4.6 in /home/mobin/anaconda3/envs/colabenv/lib/python3.7/site-packages (from pyasn1-modules>=0.2.1->google-auth<3,>=1.6.3->tensorboard) (0.4.8)\n",
            "Requirement already satisfied: oauthlib>=3.0.0 in /home/mobin/anaconda3/envs/colabenv/lib/python3.7/site-packages (from requests-oauthlib>=0.7.0->google-auth-oauthlib<0.5,>=0.4.1->tensorboard) (3.2.0)\n",
            "Note: you may need to restart the kernel to use updated packages.\n"
          ]
        }
      ],
      "source": [
        "%pip install tensorboard\n"
      ]
    },
    {
      "cell_type": "code",
      "execution_count": 12,
      "metadata": {},
      "outputs": [
        {
          "name": "stdout",
          "output_type": "stream",
          "text": [
            "Requirement already satisfied: tensorboard_plugin_profile in /home/mobin/anaconda3/envs/colabenv/lib/python3.7/site-packages (2.8.0)\n",
            "Requirement already satisfied: six>=1.10.0 in /home/mobin/anaconda3/envs/colabenv/lib/python3.7/site-packages (from tensorboard_plugin_profile) (1.16.0)\n",
            "Requirement already satisfied: gviz-api>=1.9.0 in /home/mobin/anaconda3/envs/colabenv/lib/python3.7/site-packages (from tensorboard_plugin_profile) (1.10.0)\n",
            "Requirement already satisfied: setuptools>=41.0.0 in /home/mobin/anaconda3/envs/colabenv/lib/python3.7/site-packages (from tensorboard_plugin_profile) (61.2.0)\n",
            "Requirement already satisfied: werkzeug>=0.11.15 in /home/mobin/anaconda3/envs/colabenv/lib/python3.7/site-packages (from tensorboard_plugin_profile) (2.2.1)\n",
            "Requirement already satisfied: protobuf>=3.12.0 in /home/mobin/anaconda3/envs/colabenv/lib/python3.7/site-packages (from tensorboard_plugin_profile) (3.19.4)\n",
            "Requirement already satisfied: MarkupSafe>=2.1.1 in /home/mobin/anaconda3/envs/colabenv/lib/python3.7/site-packages (from werkzeug>=0.11.15->tensorboard_plugin_profile) (2.1.1)\n",
            "Note: you may need to restart the kernel to use updated packages.\n"
          ]
        }
      ],
      "source": [
        "%pip install -U tensorboard_plugin_profile\n"
      ]
    },
    {
      "cell_type": "code",
      "execution_count": 13,
      "metadata": {},
      "outputs": [],
      "source": [
        "#tf.config.optimizer.set_jit(True)\n"
      ]
    },
    {
      "cell_type": "markdown",
      "metadata": {
        "id": "DyypFCrlw2SV"
      },
      "source": [
        "# **Data Preparation**"
      ]
    },
    {
      "cell_type": "code",
      "execution_count": 14,
      "metadata": {
        "id": "p7IbgFIxRQb-"
      },
      "outputs": [],
      "source": [
        "def parse(path):\n",
        "  g = gzip.open(path, 'rb')\n",
        "  for l in g:\n",
        "    name=b'\"verified\": \\\"true\\\",'\n",
        "    l=l.replace(b'\"verified\": true,',bytes(name))\n",
        "    name1=b'\"verified\": \\\"false\\\",'\n",
        "    l=l.replace(b'\"verified\": false,',bytes(name))\n",
        "    yield eval(l)\n",
        "\n",
        "def getDF(path):\n",
        "  i = 0\n",
        "  df = {}\n",
        "  for d in parse(path):\n",
        "    df[i] = d\n",
        "    i += 1\n",
        "  return pd.DataFrame.from_dict(df, orient='index')\n",
        "\n",
        "df = getDF('/home/mobin/Downloads/reviews_Grocery_and_Gourmet_Food_5.json.gz')\n",
        "\n",
        "# dataset link\n",
        "# Grocery and Gourmet Food\n",
        "# https://jmcauley.ucsd.edu/data/amazon/"
      ]
    },
    {
      "cell_type": "markdown",
      "metadata": {
        "id": "_auxwvSRYsvu"
      },
      "source": [
        "Dataset Schema"
      ]
    },
    {
      "cell_type": "code",
      "execution_count": 15,
      "metadata": {
        "colab": {
          "base_uri": "https://localhost:8080/",
          "height": 1000
        },
        "id": "E9FGFZINRQOn",
        "outputId": "0dad1216-9ec6-4528-fa44-32ab26a94602"
      },
      "outputs": [
        {
          "data": {
            "text/html": [
              "<div>\n",
              "<style scoped>\n",
              "    .dataframe tbody tr th:only-of-type {\n",
              "        vertical-align: middle;\n",
              "    }\n",
              "\n",
              "    .dataframe tbody tr th {\n",
              "        vertical-align: top;\n",
              "    }\n",
              "\n",
              "    .dataframe thead th {\n",
              "        text-align: right;\n",
              "    }\n",
              "</style>\n",
              "<table border=\"1\" class=\"dataframe\">\n",
              "  <thead>\n",
              "    <tr style=\"text-align: right;\">\n",
              "      <th></th>\n",
              "      <th>userID</th>\n",
              "      <th>itemID</th>\n",
              "      <th>reviewerName</th>\n",
              "      <th>helpful</th>\n",
              "      <th>reviewText</th>\n",
              "      <th>rating</th>\n",
              "      <th>summary</th>\n",
              "      <th>unixReviewTime</th>\n",
              "      <th>reviewTime</th>\n",
              "    </tr>\n",
              "  </thead>\n",
              "  <tbody>\n",
              "    <tr>\n",
              "      <th>0</th>\n",
              "      <td>A1VEELTKS8NLZB</td>\n",
              "      <td>616719923X</td>\n",
              "      <td>Amazon Customer</td>\n",
              "      <td>[0, 0]</td>\n",
              "      <td>Just another flavor of Kit Kat but the taste i...</td>\n",
              "      <td>4.0</td>\n",
              "      <td>Good Taste</td>\n",
              "      <td>1370044800</td>\n",
              "      <td>06 1, 2013</td>\n",
              "    </tr>\n",
              "    <tr>\n",
              "      <th>1</th>\n",
              "      <td>A14R9XMZVJ6INB</td>\n",
              "      <td>616719923X</td>\n",
              "      <td>amf0001</td>\n",
              "      <td>[0, 1]</td>\n",
              "      <td>I bought this on impulse and it comes from Jap...</td>\n",
              "      <td>3.0</td>\n",
              "      <td>3.5 stars,  sadly not as wonderful as I had hoped</td>\n",
              "      <td>1400457600</td>\n",
              "      <td>05 19, 2014</td>\n",
              "    </tr>\n",
              "    <tr>\n",
              "      <th>2</th>\n",
              "      <td>A27IQHDZFQFNGG</td>\n",
              "      <td>616719923X</td>\n",
              "      <td>Caitlin</td>\n",
              "      <td>[3, 4]</td>\n",
              "      <td>Really good. Great gift for any fan of green t...</td>\n",
              "      <td>4.0</td>\n",
              "      <td>Yum!</td>\n",
              "      <td>1381190400</td>\n",
              "      <td>10 8, 2013</td>\n",
              "    </tr>\n",
              "    <tr>\n",
              "      <th>3</th>\n",
              "      <td>A31QY5TASILE89</td>\n",
              "      <td>616719923X</td>\n",
              "      <td>DebraDownSth</td>\n",
              "      <td>[0, 0]</td>\n",
              "      <td>I had never had it before, was curious to see ...</td>\n",
              "      <td>5.0</td>\n",
              "      <td>Unexpected flavor meld</td>\n",
              "      <td>1369008000</td>\n",
              "      <td>05 20, 2013</td>\n",
              "    </tr>\n",
              "    <tr>\n",
              "      <th>4</th>\n",
              "      <td>A2LWK003FFMCI5</td>\n",
              "      <td>616719923X</td>\n",
              "      <td>Diana X.</td>\n",
              "      <td>[1, 2]</td>\n",
              "      <td>I've been looking forward to trying these afte...</td>\n",
              "      <td>4.0</td>\n",
              "      <td>Not a very strong tea flavor, but still yummy ...</td>\n",
              "      <td>1369526400</td>\n",
              "      <td>05 26, 2013</td>\n",
              "    </tr>\n",
              "    <tr>\n",
              "      <th>...</th>\n",
              "      <td>...</td>\n",
              "      <td>...</td>\n",
              "      <td>...</td>\n",
              "      <td>...</td>\n",
              "      <td>...</td>\n",
              "      <td>...</td>\n",
              "      <td>...</td>\n",
              "      <td>...</td>\n",
              "      <td>...</td>\n",
              "    </tr>\n",
              "    <tr>\n",
              "      <th>151249</th>\n",
              "      <td>A2L6QS8SVHT9RG</td>\n",
              "      <td>B00KCJRVO2</td>\n",
              "      <td>randomartco \"period film aficionado\"</td>\n",
              "      <td>[0, 0]</td>\n",
              "      <td>Delicious gluten-free oatmeal: we tried both t...</td>\n",
              "      <td>4.0</td>\n",
              "      <td>Delicious gluten-free oatmeal 'quick' packs!</td>\n",
              "      <td>1405123200</td>\n",
              "      <td>07 12, 2014</td>\n",
              "    </tr>\n",
              "    <tr>\n",
              "      <th>151250</th>\n",
              "      <td>AFJFXN42RZ3G2</td>\n",
              "      <td>B00KCJRVO2</td>\n",
              "      <td>R. DelParto \"Rose2\"</td>\n",
              "      <td>[0, 0]</td>\n",
              "      <td>With the many selections of instant oatmeal ce...</td>\n",
              "      <td>4.0</td>\n",
              "      <td>Convenient and Instant</td>\n",
              "      <td>1404604800</td>\n",
              "      <td>07 6, 2014</td>\n",
              "    </tr>\n",
              "    <tr>\n",
              "      <th>151251</th>\n",
              "      <td>ASEBX8TBYWQWA</td>\n",
              "      <td>B00KCJRVO2</td>\n",
              "      <td>Steven I. Ramm \"Steve Ramm &amp;#34;Anything Phon...</td>\n",
              "      <td>[1, 1]</td>\n",
              "      <td>While I usually review CDs and DVDs, as well a...</td>\n",
              "      <td>5.0</td>\n",
              "      <td>Compares favorably in taste and texture with o...</td>\n",
              "      <td>1404172800</td>\n",
              "      <td>07 1, 2014</td>\n",
              "    </tr>\n",
              "    <tr>\n",
              "      <th>151252</th>\n",
              "      <td>ANKQGTXHREOI5</td>\n",
              "      <td>B00KCJRVO2</td>\n",
              "      <td>Titanium Lili</td>\n",
              "      <td>[0, 1]</td>\n",
              "      <td>My son and I enjoyed these oatmeal packets.  H...</td>\n",
              "      <td>4.0</td>\n",
              "      <td>Pretty good!</td>\n",
              "      <td>1404432000</td>\n",
              "      <td>07 4, 2014</td>\n",
              "    </tr>\n",
              "    <tr>\n",
              "      <th>151253</th>\n",
              "      <td>A2CF66KIQ3RKX3</td>\n",
              "      <td>B00KCJRVO2</td>\n",
              "      <td>Vivian Deliz</td>\n",
              "      <td>[0, 0]</td>\n",
              "      <td>I like to eat oatmeal i the mornings. I usuall...</td>\n",
              "      <td>4.0</td>\n",
              "      <td>I like to eat oatmeal i the mornings</td>\n",
              "      <td>1405036800</td>\n",
              "      <td>07 11, 2014</td>\n",
              "    </tr>\n",
              "  </tbody>\n",
              "</table>\n",
              "<p>151254 rows × 9 columns</p>\n",
              "</div>"
            ],
            "text/plain": [
              "                userID      itemID  \\\n",
              "0       A1VEELTKS8NLZB  616719923X   \n",
              "1       A14R9XMZVJ6INB  616719923X   \n",
              "2       A27IQHDZFQFNGG  616719923X   \n",
              "3       A31QY5TASILE89  616719923X   \n",
              "4       A2LWK003FFMCI5  616719923X   \n",
              "...                ...         ...   \n",
              "151249  A2L6QS8SVHT9RG  B00KCJRVO2   \n",
              "151250   AFJFXN42RZ3G2  B00KCJRVO2   \n",
              "151251   ASEBX8TBYWQWA  B00KCJRVO2   \n",
              "151252   ANKQGTXHREOI5  B00KCJRVO2   \n",
              "151253  A2CF66KIQ3RKX3  B00KCJRVO2   \n",
              "\n",
              "                                            reviewerName helpful  \\\n",
              "0                                        Amazon Customer  [0, 0]   \n",
              "1                                                amf0001  [0, 1]   \n",
              "2                                                Caitlin  [3, 4]   \n",
              "3                                           DebraDownSth  [0, 0]   \n",
              "4                                               Diana X.  [1, 2]   \n",
              "...                                                  ...     ...   \n",
              "151249              randomartco \"period film aficionado\"  [0, 0]   \n",
              "151250                               R. DelParto \"Rose2\"  [0, 0]   \n",
              "151251  Steven I. Ramm \"Steve Ramm &#34;Anything Phon...  [1, 1]   \n",
              "151252                                     Titanium Lili  [0, 1]   \n",
              "151253                                      Vivian Deliz  [0, 0]   \n",
              "\n",
              "                                               reviewText  rating  \\\n",
              "0       Just another flavor of Kit Kat but the taste i...     4.0   \n",
              "1       I bought this on impulse and it comes from Jap...     3.0   \n",
              "2       Really good. Great gift for any fan of green t...     4.0   \n",
              "3       I had never had it before, was curious to see ...     5.0   \n",
              "4       I've been looking forward to trying these afte...     4.0   \n",
              "...                                                   ...     ...   \n",
              "151249  Delicious gluten-free oatmeal: we tried both t...     4.0   \n",
              "151250  With the many selections of instant oatmeal ce...     4.0   \n",
              "151251  While I usually review CDs and DVDs, as well a...     5.0   \n",
              "151252  My son and I enjoyed these oatmeal packets.  H...     4.0   \n",
              "151253  I like to eat oatmeal i the mornings. I usuall...     4.0   \n",
              "\n",
              "                                                  summary  unixReviewTime  \\\n",
              "0                                              Good Taste      1370044800   \n",
              "1       3.5 stars,  sadly not as wonderful as I had hoped      1400457600   \n",
              "2                                                    Yum!      1381190400   \n",
              "3                                  Unexpected flavor meld      1369008000   \n",
              "4       Not a very strong tea flavor, but still yummy ...      1369526400   \n",
              "...                                                   ...             ...   \n",
              "151249       Delicious gluten-free oatmeal 'quick' packs!      1405123200   \n",
              "151250                             Convenient and Instant      1404604800   \n",
              "151251  Compares favorably in taste and texture with o...      1404172800   \n",
              "151252                                       Pretty good!      1404432000   \n",
              "151253               I like to eat oatmeal i the mornings      1405036800   \n",
              "\n",
              "         reviewTime  \n",
              "0        06 1, 2013  \n",
              "1       05 19, 2014  \n",
              "2        10 8, 2013  \n",
              "3       05 20, 2013  \n",
              "4       05 26, 2013  \n",
              "...             ...  \n",
              "151249  07 12, 2014  \n",
              "151250   07 6, 2014  \n",
              "151251   07 1, 2014  \n",
              "151252   07 4, 2014  \n",
              "151253  07 11, 2014  \n",
              "\n",
              "[151254 rows x 9 columns]"
            ]
          },
          "execution_count": 15,
          "metadata": {},
          "output_type": "execute_result"
        }
      ],
      "source": [
        "df.rename(columns={\"reviewerID\": \"userID\", \"asin\": \"itemID\",\"overall\":\"rating\"},inplace=True)\n",
        "\n",
        "df"
      ]
    },
    {
      "cell_type": "markdown",
      "metadata": {
        "id": "6yY4NJsolgtl"
      },
      "source": [
        "**User Data**"
      ]
    },
    {
      "cell_type": "markdown",
      "metadata": {
        "id": "g9kPFQ1GJr_I"
      },
      "source": [
        "determining all unique users with their reviews and ratings"
      ]
    },
    {
      "cell_type": "code",
      "execution_count": 16,
      "metadata": {
        "colab": {
          "base_uri": "https://localhost:8080/",
          "height": 609
        },
        "id": "l_eSbOjWRQD3",
        "outputId": "63fd7abe-5957-46a2-aa85-8ca3721bdec5"
      },
      "outputs": [
        {
          "name": "stderr",
          "output_type": "stream",
          "text": [
            "/home/mobin/anaconda3/envs/colabenv/lib/python3.7/site-packages/ipykernel_launcher.py:1: FutureWarning: Indexing with multiple keys (implicitly converted to a tuple of keys) will be deprecated, use a list instead.\n",
            "  \"\"\"Entry point for launching an IPython kernel.\n"
          ]
        },
        {
          "data": {
            "text/html": [
              "<div>\n",
              "<style scoped>\n",
              "    .dataframe tbody tr th:only-of-type {\n",
              "        vertical-align: middle;\n",
              "    }\n",
              "\n",
              "    .dataframe tbody tr th {\n",
              "        vertical-align: top;\n",
              "    }\n",
              "\n",
              "    .dataframe thead th {\n",
              "        text-align: right;\n",
              "    }\n",
              "</style>\n",
              "<table border=\"1\" class=\"dataframe\">\n",
              "  <thead>\n",
              "    <tr style=\"text-align: right;\">\n",
              "      <th></th>\n",
              "      <th>userID</th>\n",
              "      <th>reviewText</th>\n",
              "      <th>rating</th>\n",
              "    </tr>\n",
              "  </thead>\n",
              "  <tbody>\n",
              "    <tr>\n",
              "      <th>0</th>\n",
              "      <td>A00177463W0XWB16A9O05</td>\n",
              "      <td>[It is a good stand by coffee you can count on...</td>\n",
              "      <td>[5.0, 5.0, 4.0, 4.0, 5.0, 3.0, 4.0, 5.0, 5.0, ...</td>\n",
              "    </tr>\n",
              "    <tr>\n",
              "      <th>1</th>\n",
              "      <td>A022899328A0QROR32DCT</td>\n",
              "      <td>[awesome texture for even the gluten eating ea...</td>\n",
              "      <td>[5.0, 1.0, 4.0, 5.0, 5.0, 5.0, 1.0, 2.0, 3.0, ...</td>\n",
              "    </tr>\n",
              "    <tr>\n",
              "      <th>2</th>\n",
              "      <td>A04309042SDSL8YX2HRR7</td>\n",
              "      <td>[I love roasted garlic &amp; sweet bell peppers. Y...</td>\n",
              "      <td>[5.0, 2.0, 4.0, 4.0, 4.0]</td>\n",
              "    </tr>\n",
              "    <tr>\n",
              "      <th>3</th>\n",
              "      <td>A068255029AHTHDXZURNU</td>\n",
              "      <td>[These bars are especially delicious for cocon...</td>\n",
              "      <td>[5.0, 5.0, 3.0, 5.0, 3.0, 3.0, 5.0, 5.0, 5.0]</td>\n",
              "    </tr>\n",
              "    <tr>\n",
              "      <th>4</th>\n",
              "      <td>A06944662TFWOKKV4GJKX</td>\n",
              "      <td>[UGH!  My stomach has been really killing me l...</td>\n",
              "      <td>[5.0, 5.0, 5.0, 5.0, 5.0, 5.0, 5.0, 4.0, 4.0]</td>\n",
              "    </tr>\n",
              "    <tr>\n",
              "      <th>...</th>\n",
              "      <td>...</td>\n",
              "      <td>...</td>\n",
              "      <td>...</td>\n",
              "    </tr>\n",
              "    <tr>\n",
              "      <th>14676</th>\n",
              "      <td>AZWRZZAMX90VT</td>\n",
              "      <td>[Very nice. Not spicy, not too salty, lots of ...</td>\n",
              "      <td>[5.0, 5.0, 2.0, 5.0, 5.0, 4.0, 4.0, 3.0, 4.0, ...</td>\n",
              "    </tr>\n",
              "    <tr>\n",
              "      <th>14677</th>\n",
              "      <td>AZXKAH2DE6C8A</td>\n",
              "      <td>[Could not imagine having such a rich tasting ...</td>\n",
              "      <td>[5.0, 5.0, 5.0, 5.0, 5.0, 5.0, 5.0, 5.0, 4.0, ...</td>\n",
              "    </tr>\n",
              "    <tr>\n",
              "      <th>14678</th>\n",
              "      <td>AZXON596A1VXC</td>\n",
              "      <td>[I was a bit skeptical when I bought this prod...</td>\n",
              "      <td>[5.0, 5.0, 5.0, 5.0, 5.0, 5.0, 5.0]</td>\n",
              "    </tr>\n",
              "    <tr>\n",
              "      <th>14679</th>\n",
              "      <td>AZYXC63SS008M</td>\n",
              "      <td>[This is just about the healthiest you can get...</td>\n",
              "      <td>[5.0, 5.0, 5.0, 5.0, 5.0, 5.0]</td>\n",
              "    </tr>\n",
              "    <tr>\n",
              "      <th>14680</th>\n",
              "      <td>AZZ5ASC403N74</td>\n",
              "      <td>[Everybody loves homemade spaghetti sauce, but...</td>\n",
              "      <td>[5.0, 2.0, 3.0, 3.0, 4.0]</td>\n",
              "    </tr>\n",
              "  </tbody>\n",
              "</table>\n",
              "<p>14681 rows × 3 columns</p>\n",
              "</div>"
            ],
            "text/plain": [
              "                      userID  \\\n",
              "0      A00177463W0XWB16A9O05   \n",
              "1      A022899328A0QROR32DCT   \n",
              "2      A04309042SDSL8YX2HRR7   \n",
              "3      A068255029AHTHDXZURNU   \n",
              "4      A06944662TFWOKKV4GJKX   \n",
              "...                      ...   \n",
              "14676          AZWRZZAMX90VT   \n",
              "14677          AZXKAH2DE6C8A   \n",
              "14678          AZXON596A1VXC   \n",
              "14679          AZYXC63SS008M   \n",
              "14680          AZZ5ASC403N74   \n",
              "\n",
              "                                              reviewText  \\\n",
              "0      [It is a good stand by coffee you can count on...   \n",
              "1      [awesome texture for even the gluten eating ea...   \n",
              "2      [I love roasted garlic & sweet bell peppers. Y...   \n",
              "3      [These bars are especially delicious for cocon...   \n",
              "4      [UGH!  My stomach has been really killing me l...   \n",
              "...                                                  ...   \n",
              "14676  [Very nice. Not spicy, not too salty, lots of ...   \n",
              "14677  [Could not imagine having such a rich tasting ...   \n",
              "14678  [I was a bit skeptical when I bought this prod...   \n",
              "14679  [This is just about the healthiest you can get...   \n",
              "14680  [Everybody loves homemade spaghetti sauce, but...   \n",
              "\n",
              "                                                  rating  \n",
              "0      [5.0, 5.0, 4.0, 4.0, 5.0, 3.0, 4.0, 5.0, 5.0, ...  \n",
              "1      [5.0, 1.0, 4.0, 5.0, 5.0, 5.0, 1.0, 2.0, 3.0, ...  \n",
              "2                              [5.0, 2.0, 4.0, 4.0, 4.0]  \n",
              "3          [5.0, 5.0, 3.0, 5.0, 3.0, 3.0, 5.0, 5.0, 5.0]  \n",
              "4          [5.0, 5.0, 5.0, 5.0, 5.0, 5.0, 5.0, 4.0, 4.0]  \n",
              "...                                                  ...  \n",
              "14676  [5.0, 5.0, 2.0, 5.0, 5.0, 4.0, 4.0, 3.0, 4.0, ...  \n",
              "14677  [5.0, 5.0, 5.0, 5.0, 5.0, 5.0, 5.0, 5.0, 4.0, ...  \n",
              "14678                [5.0, 5.0, 5.0, 5.0, 5.0, 5.0, 5.0]  \n",
              "14679                     [5.0, 5.0, 5.0, 5.0, 5.0, 5.0]  \n",
              "14680                          [5.0, 2.0, 3.0, 3.0, 4.0]  \n",
              "\n",
              "[14681 rows x 3 columns]"
            ]
          },
          "execution_count": 16,
          "metadata": {},
          "output_type": "execute_result"
        }
      ],
      "source": [
        "user_df=df[['userID','reviewText','rating']].groupby('userID')['rating','reviewText'].apply(lambda x: pd.Series([list(x['reviewText']),list(x['rating'])],index=['reviewText', 'rating'])).reset_index()\n",
        "user_df"
      ]
    },
    {
      "cell_type": "code",
      "execution_count": 17,
      "metadata": {
        "colab": {
          "base_uri": "https://localhost:8080/"
        },
        "id": "frXwp0g9RxQa",
        "outputId": "e64ec82c-1531-4930-aa50-9666b627ee3b"
      },
      "outputs": [
        {
          "name": "stdout",
          "output_type": "stream",
          "text": [
            "['It is a good stand by coffee you can count on.  I would reley on it for the daily use catagory.', 'I like the &#34;wake up&#34; factor of this blend.  I could drink it all day long and never get tired of it.', 'I am pleased with the brew, but not enthused.  I have had better for the price, but its ok. Thats it', 'Much better than the Daybreak blend.  Much Bolder taste and better richness.  Could be a lil fresher though.  I would buy it again at lower price.', 'ypiuy y yu 8t 8t o t875t9t uf5o g r6  t9 t7r rf8y0[8uyr  d8oy p0t8y 897 77u7td8t 7t 7ty yr f8', 'It is an ok tea,not the best or worst.  It seems a lil weak if you ask me.  I wish it had a stronger taste!', 'I really went through this off brand coffee.  I found it in the corner of the site,give it a try!It is a great value,and will get it in the future.', 'Impressed with the price and taste of this coffee.  I also like the lower price compared with the competition. Winner!', 'I love the packaging and brew of this coffee.  Yes works great in the Keurig.  I like the organic brew.  Certainly taste the difference!', 'I really like this coffee.  It has a very unique taste ,and comes in a heavy box,which I like how it is dispensed.', 'Love the packaging of this coffee. Seems to brew just fine with the Keurig.  I think it has a great taste and should be part of my norm.  Hope others will support organic coffee! (-:', 'I received this coffee for the first time.  Has a good full flavor and peps you up! I will but on some Raggie and jam on it!', 'Its ok, not much of a choc kinda freak. Not my cup of tea really.  Might be asking the wrong person.']\n",
            "[5.0, 5.0, 4.0, 4.0, 5.0, 3.0, 4.0, 5.0, 5.0, 5.0, 5.0, 4.0, 3.0]\n"
          ]
        }
      ],
      "source": [
        "print(user_df['reviewText'][0])\n",
        "print(user_df['rating'][0])\n",
        "# user_df.loc[0][1] --->the same as above code"
      ]
    },
    {
      "cell_type": "markdown",
      "metadata": {
        "id": "ReAbgOc7q3Tp"
      },
      "source": [
        "**Item Data**"
      ]
    },
    {
      "cell_type": "markdown",
      "metadata": {
        "id": "arvKphT7KCTg"
      },
      "source": [
        "determining all unique items with their reviews and ratings"
      ]
    },
    {
      "cell_type": "code",
      "execution_count": 18,
      "metadata": {
        "colab": {
          "base_uri": "https://localhost:8080/",
          "height": 478
        },
        "id": "qAjW8mmJq9Cj",
        "outputId": "e03f94a0-8923-417b-c9c0-fd8cd33ea676"
      },
      "outputs": [
        {
          "name": "stderr",
          "output_type": "stream",
          "text": [
            "/home/mobin/anaconda3/envs/colabenv/lib/python3.7/site-packages/ipykernel_launcher.py:1: FutureWarning: Indexing with multiple keys (implicitly converted to a tuple of keys) will be deprecated, use a list instead.\n",
            "  \"\"\"Entry point for launching an IPython kernel.\n"
          ]
        },
        {
          "data": {
            "text/html": [
              "<div>\n",
              "<style scoped>\n",
              "    .dataframe tbody tr th:only-of-type {\n",
              "        vertical-align: middle;\n",
              "    }\n",
              "\n",
              "    .dataframe tbody tr th {\n",
              "        vertical-align: top;\n",
              "    }\n",
              "\n",
              "    .dataframe thead th {\n",
              "        text-align: right;\n",
              "    }\n",
              "</style>\n",
              "<table border=\"1\" class=\"dataframe\">\n",
              "  <thead>\n",
              "    <tr style=\"text-align: right;\">\n",
              "      <th></th>\n",
              "      <th>itemID</th>\n",
              "      <th>reviewText</th>\n",
              "      <th>rating</th>\n",
              "    </tr>\n",
              "  </thead>\n",
              "  <tbody>\n",
              "    <tr>\n",
              "      <th>0</th>\n",
              "      <td>616719923X</td>\n",
              "      <td>[Just another flavor of Kit Kat but the taste ...</td>\n",
              "      <td>[4.0, 3.0, 4.0, 5.0, 4.0, 4.0, 3.0, 5.0, 5.0, ...</td>\n",
              "    </tr>\n",
              "    <tr>\n",
              "      <th>1</th>\n",
              "      <td>9742356831</td>\n",
              "      <td>[This curry paste makes a delicious curry.  I ...</td>\n",
              "      <td>[5.0, 5.0, 5.0, 4.0, 5.0, 5.0, 5.0, 5.0, 5.0, ...</td>\n",
              "    </tr>\n",
              "    <tr>\n",
              "      <th>2</th>\n",
              "      <td>B00004S1C5</td>\n",
              "      <td>[These dyes create awesome colors for kids cra...</td>\n",
              "      <td>[5.0, 1.0, 5.0, 5.0, 5.0, 4.0, 4.0]</td>\n",
              "    </tr>\n",
              "    <tr>\n",
              "      <th>3</th>\n",
              "      <td>B0000531B7</td>\n",
              "      <td>[I really enjoy these bars as a quick breakfas...</td>\n",
              "      <td>[5.0, 5.0, 3.0, 5.0, 5.0, 4.0, 5.0, 5.0, 4.0]</td>\n",
              "    </tr>\n",
              "    <tr>\n",
              "      <th>4</th>\n",
              "      <td>B00005344V</td>\n",
              "      <td>[Traditional Medicinals' \"Breathe Easy\" is an ...</td>\n",
              "      <td>[5.0, 3.0, 5.0, 5.0, 3.0, 5.0, 5.0]</td>\n",
              "    </tr>\n",
              "    <tr>\n",
              "      <th>...</th>\n",
              "      <td>...</td>\n",
              "      <td>...</td>\n",
              "      <td>...</td>\n",
              "    </tr>\n",
              "    <tr>\n",
              "      <th>8708</th>\n",
              "      <td>B00JGPG60I</td>\n",
              "      <td>[We switched to this formula 5 days ago and fo...</td>\n",
              "      <td>[4.0, 4.0, 4.0, 5.0, 4.0, 3.0, 5.0, 5.0, 2.0, ...</td>\n",
              "    </tr>\n",
              "    <tr>\n",
              "      <th>8709</th>\n",
              "      <td>B00JL6LTMW</td>\n",
              "      <td>[We have enjoyed Larabar's variety of bars for...</td>\n",
              "      <td>[4.0, 5.0, 5.0, 5.0, 5.0, 4.0, 5.0, 4.0, 5.0, ...</td>\n",
              "    </tr>\n",
              "    <tr>\n",
              "      <th>8710</th>\n",
              "      <td>B00K00H9I6</td>\n",
              "      <td>[This 100% pure Canadian maple syrup is a Grad...</td>\n",
              "      <td>[5.0, 5.0, 5.0, 5.0, 5.0, 5.0, 5.0, 5.0]</td>\n",
              "    </tr>\n",
              "    <tr>\n",
              "      <th>8711</th>\n",
              "      <td>B00KC0LGI8</td>\n",
              "      <td>[I followed the directions on the box exactly ...</td>\n",
              "      <td>[2.0, 4.0, 4.0, 4.0, 4.0, 5.0, 2.0, 5.0, 3.0, ...</td>\n",
              "    </tr>\n",
              "    <tr>\n",
              "      <th>8712</th>\n",
              "      <td>B00KCJRVO2</td>\n",
              "      <td>[Usually the label &amp;#34;gluten free&amp;#34; is a ...</td>\n",
              "      <td>[5.0, 5.0, 4.0, 5.0, 5.0, 3.0, 4.0, 4.0, 5.0, ...</td>\n",
              "    </tr>\n",
              "  </tbody>\n",
              "</table>\n",
              "<p>8713 rows × 3 columns</p>\n",
              "</div>"
            ],
            "text/plain": [
              "          itemID                                         reviewText  \\\n",
              "0     616719923X  [Just another flavor of Kit Kat but the taste ...   \n",
              "1     9742356831  [This curry paste makes a delicious curry.  I ...   \n",
              "2     B00004S1C5  [These dyes create awesome colors for kids cra...   \n",
              "3     B0000531B7  [I really enjoy these bars as a quick breakfas...   \n",
              "4     B00005344V  [Traditional Medicinals' \"Breathe Easy\" is an ...   \n",
              "...          ...                                                ...   \n",
              "8708  B00JGPG60I  [We switched to this formula 5 days ago and fo...   \n",
              "8709  B00JL6LTMW  [We have enjoyed Larabar's variety of bars for...   \n",
              "8710  B00K00H9I6  [This 100% pure Canadian maple syrup is a Grad...   \n",
              "8711  B00KC0LGI8  [I followed the directions on the box exactly ...   \n",
              "8712  B00KCJRVO2  [Usually the label &#34;gluten free&#34; is a ...   \n",
              "\n",
              "                                                 rating  \n",
              "0     [4.0, 3.0, 4.0, 5.0, 4.0, 4.0, 3.0, 5.0, 5.0, ...  \n",
              "1     [5.0, 5.0, 5.0, 4.0, 5.0, 5.0, 5.0, 5.0, 5.0, ...  \n",
              "2                   [5.0, 1.0, 5.0, 5.0, 5.0, 4.0, 4.0]  \n",
              "3         [5.0, 5.0, 3.0, 5.0, 5.0, 4.0, 5.0, 5.0, 4.0]  \n",
              "4                   [5.0, 3.0, 5.0, 5.0, 3.0, 5.0, 5.0]  \n",
              "...                                                 ...  \n",
              "8708  [4.0, 4.0, 4.0, 5.0, 4.0, 3.0, 5.0, 5.0, 2.0, ...  \n",
              "8709  [4.0, 5.0, 5.0, 5.0, 5.0, 4.0, 5.0, 4.0, 5.0, ...  \n",
              "8710           [5.0, 5.0, 5.0, 5.0, 5.0, 5.0, 5.0, 5.0]  \n",
              "8711  [2.0, 4.0, 4.0, 4.0, 4.0, 5.0, 2.0, 5.0, 3.0, ...  \n",
              "8712  [5.0, 5.0, 4.0, 5.0, 5.0, 3.0, 4.0, 4.0, 5.0, ...  \n",
              "\n",
              "[8713 rows x 3 columns]"
            ]
          },
          "execution_count": 18,
          "metadata": {},
          "output_type": "execute_result"
        }
      ],
      "source": [
        "item_df=df[['itemID','reviewText','rating']].groupby('itemID')['reviewText','rating'].apply(lambda x: pd.Series([list(x['reviewText']),list(x['rating'])],index=['reviewText', 'rating'])).reset_index()\n",
        "item_df"
      ]
    },
    {
      "cell_type": "code",
      "execution_count": 19,
      "metadata": {
        "colab": {
          "base_uri": "https://localhost:8080/"
        },
        "id": "QOAi0ySLrPhl",
        "outputId": "ac4f63bb-b40f-4f78-8f8a-5af36423755f"
      },
      "outputs": [
        {
          "name": "stdout",
          "output_type": "stream",
          "text": [
            "['Just another flavor of Kit Kat but the taste is unique and a bit different.  The only thing that is bothersome is the price.  I thought it was a bit expensive....', \"I bought this on impulse and it comes from Japan,  which amused my family,  all those weird stamps and markings on the package. So that was fun.  It said it would take about a month to arrive and it did take that long.  I was hoping for a more interesting taste but to our family,  it just tasted a bit less flavorful or weaker than the standard milk chocolate kit kat.  The green tea flavor was too subtle for the sugar and it just tasted sweet. The wafers were very crispy, and that was good,  but it tasted a bit anemic to us.I'm happy I bought it, but don't need to buy it again.\", 'Really good. Great gift for any fan of green tea! Just so expensive to purchase candy from across the sea.', 'I had never had it before, was curious to see what it was like. Smooth, great subtle good flavor. I am ordering more and plan to make it a routine.', \"I've been looking forward to trying these after hearing about how popular they were in Japan, and among Kit Kat fans as well. I do not recommend ordering these during warm weather, because they can melt and become smushy. I ordered mine right when summer began, and they were a bit mushy so I let them solidify under room temp. Afterwards, I tried some and they tasted fine. I was expecting a stronger green tea or matcha flavor, but it is actually quite subtle. The outer coating was creamy and not overly sugary, which I liked. Overall, I wouldn't say it's insanely good, but definitely a yummy treat.\", \"These Kit-kats are very good, but if you're looking for a strong green tea flavor- you will be disappointed. The green tea flavor is very subtle.\", 'I found these in a Mitsuwa Marketplace in Illinois.I actually expected them to taste better than the did.  they were okay but seem smaller than standard kit kats and the taste was a tad mild compared to other green tea candies I have tried.But still, they were pleasant enough and nice for a change.', 'Creamy white chocolate infused with Matcha green tea surrounding layers of wafers. Much less sweeter than the traditional Kitkat. Small size is perfect to satisfy the chocolate craving w/o the guilt. Was in LA last week and picked up a bag on a whim at the Japanese store in Little Tokyo. Now, back in WI and regretting not picking up a handful more. Not only were these Kitkats delicious, the bags were only $5 each!', \"After hearing mixed opinions about these Kit Kats, I decided to try them. They are excellent, and I do not regret purchasing them at all. They taste like matcha with a bit of a vanilla and milky flavor as well. They are not too sweet or too plain. These are the best Kit Kats I've ever had, and I would recommend them to anyone who likes matcha-flavored candies or anyone wanting to try an unusual kind of Kit Kat.\", 'I love green tea, I love Kit Kats, but the two do not belong together. I hate the after taste of them.', 'I ordered these in Summer so they of course arrived melted, a trip the freezer made them awesome again though. Just order them in cooler times of the year and you should get them in good condition.I love these so much more than the regular chocolate Kit-Kat bars. I hope some day to see them on store shelves in the US some day.', 'These are definitely THE BEST candy bar out there!  I just wish I was able to find them in a local store instead of having to buy them online!', \"Yes - this is one of the most expensive candies around, because it only comes imported. But my goodness - are these ever good. The KitKat folks could really clean up if they started selling these in the US. Once you try them you can't wait for more. So yummy and delivered quickly and fresh.\", 'I love the green tea kitkat, taste so good, not as sweet as the milk chocolate one, and it comes with 12 small pack, easy to keep on a diet, i love this one and the dark chocolate one!', \"I love Kit Kat & green tea....together they are okay.  Nothing to get excited about.  I wouldn't order this again.\", \"I tried this for the first time today and it is delicious but I don't quite taste the Matcha flavor as you would in like say a Green Tea ice cream. To me it tasted like white chocolate with a grainy texture which I'm guessing is the Matcha tea powder. I think my favorite KitKat flavor mix is the Mocha.\"]\n",
            "[4.0, 3.0, 4.0, 5.0, 4.0, 4.0, 3.0, 5.0, 5.0, 1.0, 5.0, 5.0, 5.0, 5.0, 3.0, 4.0]\n"
          ]
        }
      ],
      "source": [
        "print(item_df['reviewText'][0])\n",
        "print(item_df['rating'][0])\n",
        "# item_df.loc[0][1] --->the same as above code"
      ]
    },
    {
      "cell_type": "markdown",
      "metadata": {
        "id": "gYb9dMRLXjZT"
      },
      "source": [
        "# **Data Analysis**"
      ]
    },
    {
      "cell_type": "markdown",
      "metadata": {
        "id": "jCekVFHgXtom"
      },
      "source": [
        "##   Ratings"
      ]
    },
    {
      "cell_type": "code",
      "execution_count": 20,
      "metadata": {
        "colab": {
          "base_uri": "https://localhost:8080/",
          "height": 441
        },
        "id": "cZb_XiBoGHSa",
        "outputId": "f1cb72ea-8d50-467a-d412-92d75a9d167e"
      },
      "outputs": [
        {
          "data": {
            "text/plain": [
              "count    151254.000000\n",
              "mean          4.243042\n",
              "std           1.090003\n",
              "min           1.000000\n",
              "25%           4.000000\n",
              "50%           5.000000\n",
              "75%           5.000000\n",
              "max           5.000000\n",
              "Name: rating, dtype: float64"
            ]
          },
          "execution_count": 20,
          "metadata": {},
          "output_type": "execute_result"
        },
        {
          "data": {
            "image/png": "[encoded data removed]",
            "text/plain": [
              "<Figure size 432x288 with 1 Axes>"
            ]
          },
          "metadata": {
            "needs_background": "light"
          },
          "output_type": "display_data"
        }
      ],
      "source": [
        "df.groupby('rating').size().plot(kind=\"bar\");\n",
        "df['rating'].describe()\n",
        "#histogram of ratings"
      ]
    },
    {
      "cell_type": "code",
      "execution_count": 21,
      "metadata": {
        "colab": {
          "base_uri": "https://localhost:8080/",
          "height": 367
        },
        "id": "hPn4ftb2vqn-",
        "outputId": "91fde917-2de7-4a70-ea94-2e4ae376ea5a"
      },
      "outputs": [
        {
          "data": {
            "image/png": "[encoded data removed]",
            "text/plain": [
              "<Figure size 1152x432 with 1 Axes>"
            ]
          },
          "metadata": {
            "needs_background": "light"
          },
          "output_type": "display_data"
        }
      ],
      "source": [
        "user_means=user_df.rating.apply(lambda x: np.mean(x))\n",
        "user_means[:50].plot(kind=\"bar\", grid=False, figsize=(16, 6), title=\"Mean ratings for 50 users\");"
      ]
    },
    {
      "cell_type": "code",
      "execution_count": 22,
      "metadata": {
        "colab": {
          "base_uri": "https://localhost:8080/",
          "height": 204
        },
        "id": "ZuVzD2bTv4iE",
        "outputId": "8533423d-08da-4eeb-c78b-51397de9ecff"
      },
      "outputs": [
        {
          "data": {
            "image/png": "[encoded data removed]",
            "text/plain": [
              "<Figure size 2304x432 with 2 Axes>"
            ]
          },
          "metadata": {
            "needs_background": "light"
          },
          "output_type": "display_data"
        }
      ],
      "source": [
        "fig, (ax1, ax2) = plt.subplots(ncols=2, figsize=(32,6), sharey=True)\n",
        "user_means.nlargest(50).plot(kind=\"bar\", ax=ax1, title=\"Top 50 users in data set\")\n",
        "user_means.nsmallest(50).plot(kind=\"bar\", ax=ax2, title=\"Bottom 50 users in data set\");"
      ]
    },
    {
      "cell_type": "code",
      "execution_count": 23,
      "metadata": {
        "colab": {
          "base_uri": "https://localhost:8080/",
          "height": 300
        },
        "id": "FChjMJ0MvtiU",
        "outputId": "81b5374f-986d-4079-8cb6-a99614f56d4c"
      },
      "outputs": [
        {
          "data": {
            "text/plain": [
              "[<matplotlib.lines.Line2D at 0x7f955ed66210>]"
            ]
          },
          "execution_count": 23,
          "metadata": {},
          "output_type": "execute_result"
        },
        {
          "data": {
            "image/png": "[encoded data removed]",
            "text/plain": [
              "<Figure size 1440x432 with 1 Axes>"
            ]
          },
          "metadata": {
            "needs_background": "light"
          },
          "output_type": "display_data"
        }
      ],
      "source": [
        "user_means = df.groupby(\"userID\").rating.mean().sort_values()\n",
        "_, ax = plt.subplots(figsize=(20, 6))\n",
        "ax.plot(np.arange(len(user_means)), user_means.values, \"k-\")\n"
      ]
    },
    {
      "cell_type": "code",
      "execution_count": 24,
      "metadata": {
        "colab": {
          "base_uri": "https://localhost:8080/",
          "height": 367
        },
        "id": "VQfmX7OwGaRN",
        "outputId": "65757a6a-d630-49fc-a97c-0742c3a1b7a5"
      },
      "outputs": [
        {
          "data": {
            "image/png": "[encoded data removed]",
            "text/plain": [
              "<Figure size 1152x432 with 1 Axes>"
            ]
          },
          "metadata": {
            "needs_background": "light"
          },
          "output_type": "display_data"
        }
      ],
      "source": [
        "item_means=item_df.rating.apply(lambda x: np.mean(x))\n",
        "item_means[:50].plot(kind=\"bar\", grid=False, figsize=(16, 6), title=\"Mean ratings for 50 items\");"
      ]
    },
    {
      "cell_type": "code",
      "execution_count": 25,
      "metadata": {
        "colab": {
          "base_uri": "https://localhost:8080/",
          "height": 201
        },
        "id": "6Dyp-7KeGyoK",
        "outputId": "6d657471-73d2-4291-aa92-49de438f0a59"
      },
      "outputs": [
        {
          "data": {
            "image/png": "[encoded data removed]",
            "text/plain": [
              "<Figure size 2304x432 with 2 Axes>"
            ]
          },
          "metadata": {
            "needs_background": "light"
          },
          "output_type": "display_data"
        }
      ],
      "source": [
        "fig, (ax1, ax2) = plt.subplots(ncols=2, figsize=(32,6), sharey=True)\n",
        "item_means.nlargest(50).plot(kind=\"bar\", ax=ax1, title=\"Top 50 items in data set\")\n",
        "item_means.nsmallest(50).plot(kind=\"bar\", ax=ax2, title=\"Bottom 50 items in data set\");"
      ]
    },
    {
      "cell_type": "markdown",
      "metadata": {
        "id": "IxGLa04uYQRt"
      },
      "source": [
        "## Reviews"
      ]
    },
    {
      "cell_type": "code",
      "execution_count": 26,
      "metadata": {
        "colab": {
          "base_uri": "https://localhost:8080/"
        },
        "id": "z0QEq-vnYohN",
        "outputId": "183d2ce2-65c2-49c9-ca8c-7f216083e4bc"
      },
      "outputs": [
        {
          "data": {
            "text/plain": [
              "count     151254\n",
              "unique    151199\n",
              "top             \n",
              "freq          22\n",
              "Name: reviewText, dtype: object"
            ]
          },
          "execution_count": 26,
          "metadata": {},
          "output_type": "execute_result"
        }
      ],
      "source": [
        "df['reviewText'].describe()"
      ]
    },
    {
      "cell_type": "code",
      "execution_count": 27,
      "metadata": {
        "colab": {
          "base_uri": "https://localhost:8080/",
          "height": 459
        },
        "id": "OLw7n7EcbEKV",
        "outputId": "ffd1376f-19a1-42f2-a991-e490d04d84d4"
      },
      "outputs": [
        {
          "data": {
            "text/plain": [
              "count    151254.000000\n",
              "mean        509.002142\n",
              "std         524.745639\n",
              "min           0.000000\n",
              "25%         191.000000\n",
              "50%         353.000000\n",
              "75%         644.000000\n",
              "max       29569.000000\n",
              "Name: reviewText, dtype: float64"
            ]
          },
          "execution_count": 27,
          "metadata": {},
          "output_type": "execute_result"
        },
        {
          "data": {
            "image/png": "[encoded data removed]",
            "text/plain": [
              "<Figure size 1728x576 with 1 Axes>"
            ]
          },
          "metadata": {
            "needs_background": "light"
          },
          "output_type": "display_data"
        }
      ],
      "source": [
        "# review length\n",
        "rv_le=df['reviewText'].apply(lambda x:len(x) )\n",
        "rv_le.plot(kind='hist',bins=2000,figsize=(24, 8),xlabel=\"length of reviews\")\n",
        "rv_le.describe()\n"
      ]
    },
    {
      "cell_type": "code",
      "execution_count": 28,
      "metadata": {
        "colab": {
          "base_uri": "https://localhost:8080/"
        },
        "id": "LTgNznNQ8aR1",
        "outputId": "3c1809ac-2fc3-4d67-ce83-7253c8687332"
      },
      "outputs": [
        {
          "name": "stdout",
          "output_type": "stream",
          "text": [
            "mean of reviews per user: 10.302704175464887\n",
            "mean of words per review: 509.00214209211\n",
            "mean of words per user: 5244.098494652953\n"
          ]
        }
      ],
      "source": [
        "sum=0\n",
        "sum2=0\n",
        "for x in user_df['reviewText']:\n",
        "  sum+=len(x)\n",
        "  for y in x:\n",
        "   sum2 +=len(y)\n",
        "\n",
        "r_mean=sum/len(user_df['reviewText'])\n",
        "w_mean=sum2/(r_mean*len(user_df['reviewText']))\n",
        "print('mean of reviews per user:', r_mean)\n",
        "print('mean of words per review:', w_mean)\n",
        "print('mean of words per user:',r_mean * w_mean)\n",
        "# plot for reviews per user"
      ]
    },
    {
      "cell_type": "code",
      "execution_count": 29,
      "metadata": {
        "colab": {
          "base_uri": "https://localhost:8080/"
        },
        "id": "Nje_ix7gAaf3",
        "outputId": "c3260e88-aa4f-46f3-aa38-85cbb25e0219"
      },
      "outputs": [
        {
          "name": "stdout",
          "output_type": "stream",
          "text": [
            "mean of reviews per item: 17.359577642603007\n",
            "mean of words per review: 509.00214209211\n",
            "mean of words per item: 8836.062205899232\n"
          ]
        }
      ],
      "source": [
        "sum=0\n",
        "sum2=0\n",
        "for x in item_df['reviewText']:\n",
        "  sum+=len(x)\n",
        "  for y in x:\n",
        "   sum2 +=len(y)\n",
        "\n",
        "r_mean=sum/len(item_df['reviewText'])\n",
        "w_mean=sum2/(r_mean*len(item_df['reviewText']))\n",
        "print('mean of reviews per item:', r_mean)\n",
        "print('mean of words per review:', w_mean)\n",
        "print('mean of words per item:',r_mean * w_mean)"
      ]
    },
    {
      "cell_type": "markdown",
      "metadata": {
        "id": "IvMysaUvxxU3"
      },
      "source": [
        "# **Word Embedding Model**"
      ]
    },
    {
      "cell_type": "markdown",
      "metadata": {
        "id": "41UHRC21AzIy"
      },
      "source": [
        "pretraining by word2vec"
      ]
    },
    {
      "cell_type": "code",
      "execution_count": 53,
      "metadata": {
        "id": "WovD0fA5q-J6"
      },
      "outputs": [],
      "source": [
        "# hyperparameters\n",
        "embedding_dim=300\n",
        "min_frequent_word_num=500\n",
        "max_vocab=5000"
      ]
    },
    {
      "cell_type": "code",
      "execution_count": 44,
      "metadata": {},
      "outputs": [],
      "source": [
        "def train_word2vec_model():\n",
        "    data = []\n",
        "    tkn=['','[UNK]','[START]','[END]']\n",
        "    for i in range(min_frequent_word_num):\n",
        "        data.insert(0,tkn)\n",
        "    # adding start and end token for min_ct times\n",
        "    for k in range(len(df['reviewText'])):\n",
        "        # iterate through each sentence in the file\n",
        "        for i in sent_tokenize(df['reviewText'].loc[k]):\n",
        "            temp = []\n",
        "            # tokenize the sentence into words          \n",
        "            for j in word_tokenize(i):\n",
        "                temp.append(j.lower())\n",
        "            data.append(temp)\n",
        "            del temp\n",
        "    print(data[min_frequent_word_num-1])   \n",
        "\n",
        "    word2vec_model=Word2Vec(data, max_final_vocab=max_vocab ,size = embedding_dim, window = 5, sg=0,iter=1)\n",
        "    word2vec_model.save(\"word2vec.model\")\n",
        "\n",
        "    del data[:]\n",
        "    gc.collect() \n",
        "    \n",
        "    return word2vec_model  "
      ]
    },
    {
      "cell_type": "code",
      "execution_count": 46,
      "metadata": {},
      "outputs": [],
      "source": [
        "def load_word2vec_model(is_dataset_based_word2vec_model=True):\n",
        "    if is_dataset_based_word2vec_model:\n",
        "        if os.path.exists(\"word2vec.model\"):\n",
        "            print(\"loaded from word2vec.model\")\n",
        "            return Word2Vec.load(\"word2vec.model\") # loading the existing model on the path\n",
        "        else:\n",
        "            return train_word2vec_model()\n",
        "    else:\n",
        "        if os.path.exists(\"word2vec_google.model\"):\n",
        "            print(\"loaded from word2vec_google.model\")\n",
        "            return Word2Vec.load(\"word2vec_google.model\")\n",
        "        else:\n",
        "            downloaded_model= gensim.downloader.load('word2vec-google-news-300')\n",
        "            downloaded_model.save('word2vec_google.model')\n",
        "            print(\"downloaded from google\")\n",
        "            return downloaded_model\n"
      ]
    },
    {
      "cell_type": "code",
      "execution_count": 48,
      "metadata": {},
      "outputs": [
        {
          "name": "stdout",
          "output_type": "stream",
          "text": [
            "['', '[UNK]', '[START]', '[END]']\n"
          ]
        }
      ],
      "source": [
        "word2vec_model=load_word2vec_model(is_dataset_based_word2vec_model=True) # if 'is_dataset_based_word2vec_model' is true it means that a word2vec model will be trained based on dataset text, the google pretrained word2vec model will be loaded  "
      ]
    },
    {
      "cell_type": "code",
      "execution_count": 52,
      "metadata": {},
      "outputs": [
        {
          "data": {
            "text/plain": [
              "5000"
            ]
          },
          "execution_count": 52,
          "metadata": {},
          "output_type": "execute_result"
        }
      ],
      "source": [
        "print(\"word2vec model summary : \\n shape: \",word2vec_model.wv.vectors.shape) word2vec_model.max_final_vocab"
      ]
    },
    {
      "cell_type": "code",
      "execution_count": 49,
      "metadata": {},
      "outputs": [
        {
          "data": {
            "text/plain": [
              "5000"
            ]
          },
          "execution_count": 49,
          "metadata": {},
          "output_type": "execute_result"
        }
      ],
      "source": [
        "len(word2vec_model.wv.vocab)"
      ]
    },
    {
      "cell_type": "code",
      "execution_count": 50,
      "metadata": {},
      "outputs": [
        {
          "data": {
            "text/plain": [
              "{'just': <gensim.models.keyedvectors.Vocab at 0x7f93d0d13bd0>,\n",
              " 'another': <gensim.models.keyedvectors.Vocab at 0x7f9569f42a90>,\n",
              " 'flavor': <gensim.models.keyedvectors.Vocab at 0x7f94803f0b10>,\n",
              " 'of': <gensim.models.keyedvectors.Vocab at 0x7f93d0d2a9d0>,\n",
              " 'kit': <gensim.models.keyedvectors.Vocab at 0x7f93d0d2ae50>,\n",
              " 'but': <gensim.models.keyedvectors.Vocab at 0x7f93d0d2aed0>,\n",
              " 'the': <gensim.models.keyedvectors.Vocab at 0x7f93d0d2af10>,\n",
              " 'taste': <gensim.models.keyedvectors.Vocab at 0x7f93d0d2af50>,\n",
              " 'is': <gensim.models.keyedvectors.Vocab at 0x7f93d0d2ab50>,\n",
              " 'unique': <gensim.models.keyedvectors.Vocab at 0x7f93d0d2ae90>,\n",
              " 'and': <gensim.models.keyedvectors.Vocab at 0x7f93d0d2ab10>,\n",
              " 'a': <gensim.models.keyedvectors.Vocab at 0x7f93d0d2b590>,\n",
              " 'bit': <gensim.models.keyedvectors.Vocab at 0x7f93d0d2b5d0>,\n",
              " 'different': <gensim.models.keyedvectors.Vocab at 0x7f93d0d2b610>,\n",
              " '.': <gensim.models.keyedvectors.Vocab at 0x7f93d0d2b650>,\n",
              " 'only': <gensim.models.keyedvectors.Vocab at 0x7f93d0d2b690>,\n",
              " 'thing': <gensim.models.keyedvectors.Vocab at 0x7f93d0d2bc90>,\n",
              " 'that': <gensim.models.keyedvectors.Vocab at 0x7f93d0d2bcd0>,\n",
              " 'price': <gensim.models.keyedvectors.Vocab at 0x7f93d0d2bd10>,\n",
              " 'i': <gensim.models.keyedvectors.Vocab at 0x7f93d0d2bd50>,\n",
              " 'thought': <gensim.models.keyedvectors.Vocab at 0x7f93d0d2bd90>,\n",
              " 'it': <gensim.models.keyedvectors.Vocab at 0x7f93d0d2bdd0>,\n",
              " 'was': <gensim.models.keyedvectors.Vocab at 0x7f93d0d2be10>,\n",
              " 'expensive': <gensim.models.keyedvectors.Vocab at 0x7f93d0d2be50>,\n",
              " '....': <gensim.models.keyedvectors.Vocab at 0x7f93d0d2be90>,\n",
              " 'bought': <gensim.models.keyedvectors.Vocab at 0x7f93d0d2bed0>,\n",
              " 'this': <gensim.models.keyedvectors.Vocab at 0x7f93d0d2bf10>,\n",
              " 'on': <gensim.models.keyedvectors.Vocab at 0x7f93d0d2bf50>,\n",
              " 'comes': <gensim.models.keyedvectors.Vocab at 0x7f93d0d2bf90>,\n",
              " 'from': <gensim.models.keyedvectors.Vocab at 0x7f93d0d2bfd0>,\n",
              " 'japan': <gensim.models.keyedvectors.Vocab at 0x7f93d0d2d050>,\n",
              " ',': <gensim.models.keyedvectors.Vocab at 0x7f93d0d2d090>,\n",
              " 'which': <gensim.models.keyedvectors.Vocab at 0x7f93d0d2d0d0>,\n",
              " 'my': <gensim.models.keyedvectors.Vocab at 0x7f93d0d2da90>,\n",
              " 'family': <gensim.models.keyedvectors.Vocab at 0x7f93d0d2dad0>,\n",
              " 'all': <gensim.models.keyedvectors.Vocab at 0x7f93d0d2db10>,\n",
              " 'those': <gensim.models.keyedvectors.Vocab at 0x7f93d0d2db50>,\n",
              " 'weird': <gensim.models.keyedvectors.Vocab at 0x7f93d0d2db90>,\n",
              " 'package': <gensim.models.keyedvectors.Vocab at 0x7f93d0d2dbd0>,\n",
              " 'so': <gensim.models.keyedvectors.Vocab at 0x7f93d0d2dc10>,\n",
              " 'fun': <gensim.models.keyedvectors.Vocab at 0x7f93d0d2dc50>,\n",
              " 'said': <gensim.models.keyedvectors.Vocab at 0x7f93d0d2dc90>,\n",
              " 'would': <gensim.models.keyedvectors.Vocab at 0x7f93d0d2dcd0>,\n",
              " 'take': <gensim.models.keyedvectors.Vocab at 0x7f93d0d2dd10>,\n",
              " 'about': <gensim.models.keyedvectors.Vocab at 0x7f93d0d2dd50>,\n",
              " 'month': <gensim.models.keyedvectors.Vocab at 0x7f93d0d2dd90>,\n",
              " 'to': <gensim.models.keyedvectors.Vocab at 0x7f93d0d2ddd0>,\n",
              " 'arrive': <gensim.models.keyedvectors.Vocab at 0x7f93d0d2de10>,\n",
              " 'did': <gensim.models.keyedvectors.Vocab at 0x7f93d0d2de50>,\n",
              " 'long': <gensim.models.keyedvectors.Vocab at 0x7f93d0d2de90>,\n",
              " 'hoping': <gensim.models.keyedvectors.Vocab at 0x7f93d0d2ded0>,\n",
              " 'for': <gensim.models.keyedvectors.Vocab at 0x7f93d0d2df10>,\n",
              " 'more': <gensim.models.keyedvectors.Vocab at 0x7f93d0d2df50>,\n",
              " 'interesting': <gensim.models.keyedvectors.Vocab at 0x7f93d0d2df90>,\n",
              " 'our': <gensim.models.keyedvectors.Vocab at 0x7f93d0d2dfd0>,\n",
              " 'tasted': <gensim.models.keyedvectors.Vocab at 0x7f93d0c8b050>,\n",
              " 'less': <gensim.models.keyedvectors.Vocab at 0x7f93d0c8b090>,\n",
              " 'flavorful': <gensim.models.keyedvectors.Vocab at 0x7f93d0c8b0d0>,\n",
              " 'or': <gensim.models.keyedvectors.Vocab at 0x7f93d0c8b110>,\n",
              " 'weaker': <gensim.models.keyedvectors.Vocab at 0x7f93d0c8b150>,\n",
              " 'than': <gensim.models.keyedvectors.Vocab at 0x7f93d0c8b190>,\n",
              " 'standard': <gensim.models.keyedvectors.Vocab at 0x7f93d0c8b1d0>,\n",
              " 'milk': <gensim.models.keyedvectors.Vocab at 0x7f93d0c8b210>,\n",
              " 'chocolate': <gensim.models.keyedvectors.Vocab at 0x7f93d0c8b250>,\n",
              " 'green': <gensim.models.keyedvectors.Vocab at 0x7f93d0c8b290>,\n",
              " 'tea': <gensim.models.keyedvectors.Vocab at 0x7f93d0c8b2d0>,\n",
              " 'too': <gensim.models.keyedvectors.Vocab at 0x7f93d0c8b310>,\n",
              " 'subtle': <gensim.models.keyedvectors.Vocab at 0x7f93d0c8b350>,\n",
              " 'sugar': <gensim.models.keyedvectors.Vocab at 0x7f93d0c8b390>,\n",
              " 'sweet': <gensim.models.keyedvectors.Vocab at 0x7f93d0c8b3d0>,\n",
              " 'wafers': <gensim.models.keyedvectors.Vocab at 0x7f93d0c8b410>,\n",
              " 'were': <gensim.models.keyedvectors.Vocab at 0x7f93d0c8b450>,\n",
              " 'very': <gensim.models.keyedvectors.Vocab at 0x7f93d0c8b490>,\n",
              " 'crispy': <gensim.models.keyedvectors.Vocab at 0x7f93d0c8b4d0>,\n",
              " 'good': <gensim.models.keyedvectors.Vocab at 0x7f93d0c8b510>,\n",
              " \"'m\": <gensim.models.keyedvectors.Vocab at 0x7f93d0c8b550>,\n",
              " 'happy': <gensim.models.keyedvectors.Vocab at 0x7f93d0c8b590>,\n",
              " 'do': <gensim.models.keyedvectors.Vocab at 0x7f93d0c8b5d0>,\n",
              " \"n't\": <gensim.models.keyedvectors.Vocab at 0x7f93d0c8b610>,\n",
              " 'need': <gensim.models.keyedvectors.Vocab at 0x7f93d0c8b650>,\n",
              " 'buy': <gensim.models.keyedvectors.Vocab at 0x7f93d0c8b690>,\n",
              " 'again': <gensim.models.keyedvectors.Vocab at 0x7f93d0c8b6d0>,\n",
              " 'really': <gensim.models.keyedvectors.Vocab at 0x7f93d0c8b710>,\n",
              " 'great': <gensim.models.keyedvectors.Vocab at 0x7f93d0c8b750>,\n",
              " 'gift': <gensim.models.keyedvectors.Vocab at 0x7f93d0c8b790>,\n",
              " 'any': <gensim.models.keyedvectors.Vocab at 0x7f93d0c8b7d0>,\n",
              " 'fan': <gensim.models.keyedvectors.Vocab at 0x7f93d0c8b810>,\n",
              " '!': <gensim.models.keyedvectors.Vocab at 0x7f93d0c8b850>,\n",
              " 'purchase': <gensim.models.keyedvectors.Vocab at 0x7f93d0c8b890>,\n",
              " 'candy': <gensim.models.keyedvectors.Vocab at 0x7f93d0c8b8d0>,\n",
              " 'across': <gensim.models.keyedvectors.Vocab at 0x7f93d0c8b910>,\n",
              " 'sea': <gensim.models.keyedvectors.Vocab at 0x7f93d0c8b950>,\n",
              " 'had': <gensim.models.keyedvectors.Vocab at 0x7f93d0c8b990>,\n",
              " 'never': <gensim.models.keyedvectors.Vocab at 0x7f93d0c8b9d0>,\n",
              " 'before': <gensim.models.keyedvectors.Vocab at 0x7f93d0c8ba10>,\n",
              " 'curious': <gensim.models.keyedvectors.Vocab at 0x7f93d0c8ba50>,\n",
              " 'see': <gensim.models.keyedvectors.Vocab at 0x7f93d0c8ba90>,\n",
              " 'what': <gensim.models.keyedvectors.Vocab at 0x7f93d0c8bad0>,\n",
              " 'like': <gensim.models.keyedvectors.Vocab at 0x7f93d0c8bb10>,\n",
              " 'smooth': <gensim.models.keyedvectors.Vocab at 0x7f93d0c8bb50>,\n",
              " 'am': <gensim.models.keyedvectors.Vocab at 0x7f93d0c8bb90>,\n",
              " 'ordering': <gensim.models.keyedvectors.Vocab at 0x7f93d0c8bbd0>,\n",
              " 'plan': <gensim.models.keyedvectors.Vocab at 0x7f93d0c8bc10>,\n",
              " 'make': <gensim.models.keyedvectors.Vocab at 0x7f93d0c8bc50>,\n",
              " 'routine': <gensim.models.keyedvectors.Vocab at 0x7f93d0c8bc90>,\n",
              " \"'ve\": <gensim.models.keyedvectors.Vocab at 0x7f93d0c8bcd0>,\n",
              " 'been': <gensim.models.keyedvectors.Vocab at 0x7f93d0c8bd10>,\n",
              " 'looking': <gensim.models.keyedvectors.Vocab at 0x7f93d0c8bd50>,\n",
              " 'forward': <gensim.models.keyedvectors.Vocab at 0x7f93d0c8bd90>,\n",
              " 'trying': <gensim.models.keyedvectors.Vocab at 0x7f93d0c8bdd0>,\n",
              " 'these': <gensim.models.keyedvectors.Vocab at 0x7f93d0c8be10>,\n",
              " 'after': <gensim.models.keyedvectors.Vocab at 0x7f93d0c8be50>,\n",
              " 'how': <gensim.models.keyedvectors.Vocab at 0x7f93d0c8be90>,\n",
              " 'popular': <gensim.models.keyedvectors.Vocab at 0x7f93d0c8bed0>,\n",
              " 'they': <gensim.models.keyedvectors.Vocab at 0x7f93d0c8bf10>,\n",
              " 'in': <gensim.models.keyedvectors.Vocab at 0x7f93d0c8bf50>,\n",
              " 'among': <gensim.models.keyedvectors.Vocab at 0x7f93d0c8bf90>,\n",
              " 'fans': <gensim.models.keyedvectors.Vocab at 0x7f93d0c8bfd0>,\n",
              " 'as': <gensim.models.keyedvectors.Vocab at 0x7f93d0c8c050>,\n",
              " 'well': <gensim.models.keyedvectors.Vocab at 0x7f93d0c8c090>,\n",
              " 'not': <gensim.models.keyedvectors.Vocab at 0x7f93d0c8c0d0>,\n",
              " 'recommend': <gensim.models.keyedvectors.Vocab at 0x7f93d0c8c110>,\n",
              " 'during': <gensim.models.keyedvectors.Vocab at 0x7f93d0c8c150>,\n",
              " 'warm': <gensim.models.keyedvectors.Vocab at 0x7f93d0c8c190>,\n",
              " 'weather': <gensim.models.keyedvectors.Vocab at 0x7f93d0c8c1d0>,\n",
              " 'because': <gensim.models.keyedvectors.Vocab at 0x7f93d0c8c210>,\n",
              " 'can': <gensim.models.keyedvectors.Vocab at 0x7f93d0c8c250>,\n",
              " 'melt': <gensim.models.keyedvectors.Vocab at 0x7f93d0c8c290>,\n",
              " 'become': <gensim.models.keyedvectors.Vocab at 0x7f93d0c8c2d0>,\n",
              " 'ordered': <gensim.models.keyedvectors.Vocab at 0x7f93d0c8c310>,\n",
              " 'mine': <gensim.models.keyedvectors.Vocab at 0x7f93d0c8c350>,\n",
              " 'right': <gensim.models.keyedvectors.Vocab at 0x7f93d0c8c390>,\n",
              " 'when': <gensim.models.keyedvectors.Vocab at 0x7f93d0c8c3d0>,\n",
              " 'summer': <gensim.models.keyedvectors.Vocab at 0x7f93d0c8c410>,\n",
              " 'began': <gensim.models.keyedvectors.Vocab at 0x7f93d0c8c450>,\n",
              " 'mushy': <gensim.models.keyedvectors.Vocab at 0x7f93d0c8c490>,\n",
              " 'let': <gensim.models.keyedvectors.Vocab at 0x7f93d0c8c4d0>,\n",
              " 'them': <gensim.models.keyedvectors.Vocab at 0x7f93d0c8c510>,\n",
              " 'under': <gensim.models.keyedvectors.Vocab at 0x7f93d0c8c550>,\n",
              " 'room': <gensim.models.keyedvectors.Vocab at 0x7f93d0c8c590>,\n",
              " 'temp': <gensim.models.keyedvectors.Vocab at 0x7f93d0c8c5d0>,\n",
              " 'afterwards': <gensim.models.keyedvectors.Vocab at 0x7f93d0c8c610>,\n",
              " 'tried': <gensim.models.keyedvectors.Vocab at 0x7f93d0c8c650>,\n",
              " 'some': <gensim.models.keyedvectors.Vocab at 0x7f93d0c8c690>,\n",
              " 'fine': <gensim.models.keyedvectors.Vocab at 0x7f93d0c8c6d0>,\n",
              " 'expecting': <gensim.models.keyedvectors.Vocab at 0x7f93d0c8c710>,\n",
              " 'stronger': <gensim.models.keyedvectors.Vocab at 0x7f93d0c8c750>,\n",
              " 'matcha': <gensim.models.keyedvectors.Vocab at 0x7f93d0c8c790>,\n",
              " 'actually': <gensim.models.keyedvectors.Vocab at 0x7f93d0c8c7d0>,\n",
              " 'quite': <gensim.models.keyedvectors.Vocab at 0x7f93d0c8c810>,\n",
              " 'outer': <gensim.models.keyedvectors.Vocab at 0x7f93d0c8c850>,\n",
              " 'coating': <gensim.models.keyedvectors.Vocab at 0x7f93d0c8c890>,\n",
              " 'creamy': <gensim.models.keyedvectors.Vocab at 0x7f93d0c8c8d0>,\n",
              " 'overly': <gensim.models.keyedvectors.Vocab at 0x7f93d0c8c910>,\n",
              " 'sugary': <gensim.models.keyedvectors.Vocab at 0x7f93d0c8c950>,\n",
              " 'liked': <gensim.models.keyedvectors.Vocab at 0x7f93d0c8c990>,\n",
              " 'overall': <gensim.models.keyedvectors.Vocab at 0x7f93d0c8c9d0>,\n",
              " 'say': <gensim.models.keyedvectors.Vocab at 0x7f93d0c8ca10>,\n",
              " \"'s\": <gensim.models.keyedvectors.Vocab at 0x7f93d0c8ca50>,\n",
              " 'definitely': <gensim.models.keyedvectors.Vocab at 0x7f93d0c8ca90>,\n",
              " 'yummy': <gensim.models.keyedvectors.Vocab at 0x7f93d0c8cad0>,\n",
              " 'treat': <gensim.models.keyedvectors.Vocab at 0x7f93d0c8cb10>,\n",
              " 'are': <gensim.models.keyedvectors.Vocab at 0x7f93d0c8cb50>,\n",
              " 'if': <gensim.models.keyedvectors.Vocab at 0x7f93d0c8cb90>,\n",
              " 'you': <gensim.models.keyedvectors.Vocab at 0x7f93d0c8cbd0>,\n",
              " \"'re\": <gensim.models.keyedvectors.Vocab at 0x7f93d0c8cc10>,\n",
              " 'strong': <gensim.models.keyedvectors.Vocab at 0x7f93d0c8cc50>,\n",
              " 'will': <gensim.models.keyedvectors.Vocab at 0x7f93d0c8cc90>,\n",
              " 'be': <gensim.models.keyedvectors.Vocab at 0x7f93d0c8ccd0>,\n",
              " 'disappointed': <gensim.models.keyedvectors.Vocab at 0x7f93d0c8cd10>,\n",
              " 'found': <gensim.models.keyedvectors.Vocab at 0x7f93d0c8cd50>,\n",
              " 'expected': <gensim.models.keyedvectors.Vocab at 0x7f93d0c8cd90>,\n",
              " 'better': <gensim.models.keyedvectors.Vocab at 0x7f93d0c8cdd0>,\n",
              " 'okay': <gensim.models.keyedvectors.Vocab at 0x7f93d0c8ce10>,\n",
              " 'seem': <gensim.models.keyedvectors.Vocab at 0x7f93d0c8ce50>,\n",
              " 'smaller': <gensim.models.keyedvectors.Vocab at 0x7f93d0c8ce90>,\n",
              " 'tad': <gensim.models.keyedvectors.Vocab at 0x7f93d0c8ced0>,\n",
              " 'mild': <gensim.models.keyedvectors.Vocab at 0x7f93d0c8cf10>,\n",
              " 'compared': <gensim.models.keyedvectors.Vocab at 0x7f93d0c8cf50>,\n",
              " 'other': <gensim.models.keyedvectors.Vocab at 0x7f93d0c8cf90>,\n",
              " 'candies': <gensim.models.keyedvectors.Vocab at 0x7f93d0c8cfd0>,\n",
              " 'have': <gensim.models.keyedvectors.Vocab at 0x7f93d0c8e050>,\n",
              " 'still': <gensim.models.keyedvectors.Vocab at 0x7f93d0c8e090>,\n",
              " 'pleasant': <gensim.models.keyedvectors.Vocab at 0x7f93d0c8e0d0>,\n",
              " 'enough': <gensim.models.keyedvectors.Vocab at 0x7f93d0c8e110>,\n",
              " 'nice': <gensim.models.keyedvectors.Vocab at 0x7f93d0c8e150>,\n",
              " 'change': <gensim.models.keyedvectors.Vocab at 0x7f93d0c8e190>,\n",
              " 'white': <gensim.models.keyedvectors.Vocab at 0x7f93d0c8e1d0>,\n",
              " 'infused': <gensim.models.keyedvectors.Vocab at 0x7f93d0c8e210>,\n",
              " 'with': <gensim.models.keyedvectors.Vocab at 0x7f93d0c8e250>,\n",
              " 'layers': <gensim.models.keyedvectors.Vocab at 0x7f93d0c8e290>,\n",
              " 'much': <gensim.models.keyedvectors.Vocab at 0x7f93d0c8e2d0>,\n",
              " 'sweeter': <gensim.models.keyedvectors.Vocab at 0x7f93d0c8e310>,\n",
              " 'traditional': <gensim.models.keyedvectors.Vocab at 0x7f93d0c8e350>,\n",
              " 'small': <gensim.models.keyedvectors.Vocab at 0x7f93d0c8e390>,\n",
              " 'size': <gensim.models.keyedvectors.Vocab at 0x7f93d0c8e3d0>,\n",
              " 'perfect': <gensim.models.keyedvectors.Vocab at 0x7f93d0c8e410>,\n",
              " 'satisfy': <gensim.models.keyedvectors.Vocab at 0x7f93d0c8e450>,\n",
              " 'craving': <gensim.models.keyedvectors.Vocab at 0x7f93d0c8e490>,\n",
              " 'w/o': <gensim.models.keyedvectors.Vocab at 0x7f93d0c8e4d0>,\n",
              " 'guilt': <gensim.models.keyedvectors.Vocab at 0x7f93d0c8e510>,\n",
              " 'la': <gensim.models.keyedvectors.Vocab at 0x7f93d0c8e550>,\n",
              " 'last': <gensim.models.keyedvectors.Vocab at 0x7f93d0c8e590>,\n",
              " 'week': <gensim.models.keyedvectors.Vocab at 0x7f93d0c8e5d0>,\n",
              " 'picked': <gensim.models.keyedvectors.Vocab at 0x7f93d0c8e610>,\n",
              " 'up': <gensim.models.keyedvectors.Vocab at 0x7f93d0c8e650>,\n",
              " 'bag': <gensim.models.keyedvectors.Vocab at 0x7f93d0c8e690>,\n",
              " 'whim': <gensim.models.keyedvectors.Vocab at 0x7f93d0c8e6d0>,\n",
              " 'at': <gensim.models.keyedvectors.Vocab at 0x7f93d0c8e710>,\n",
              " 'japanese': <gensim.models.keyedvectors.Vocab at 0x7f93d0c8e750>,\n",
              " 'store': <gensim.models.keyedvectors.Vocab at 0x7f93d0c8e790>,\n",
              " 'little': <gensim.models.keyedvectors.Vocab at 0x7f93d0c8e7d0>,\n",
              " 'now': <gensim.models.keyedvectors.Vocab at 0x7f93d0c8e810>,\n",
              " 'back': <gensim.models.keyedvectors.Vocab at 0x7f93d0c8e850>,\n",
              " 'picking': <gensim.models.keyedvectors.Vocab at 0x7f93d0c8e890>,\n",
              " 'handful': <gensim.models.keyedvectors.Vocab at 0x7f93d0c8e8d0>,\n",
              " 'delicious': <gensim.models.keyedvectors.Vocab at 0x7f93d0c8e910>,\n",
              " 'bags': <gensim.models.keyedvectors.Vocab at 0x7f93d0c8e950>,\n",
              " '$': <gensim.models.keyedvectors.Vocab at 0x7f93d0c8e990>,\n",
              " '5': <gensim.models.keyedvectors.Vocab at 0x7f93d0c8e9d0>,\n",
              " 'each': <gensim.models.keyedvectors.Vocab at 0x7f93d0c8ea10>,\n",
              " 'mixed': <gensim.models.keyedvectors.Vocab at 0x7f93d0c8ea50>,\n",
              " 'opinions': <gensim.models.keyedvectors.Vocab at 0x7f93d0c8ea90>,\n",
              " 'decided': <gensim.models.keyedvectors.Vocab at 0x7f93d0c8ead0>,\n",
              " 'try': <gensim.models.keyedvectors.Vocab at 0x7f93d0c8eb10>,\n",
              " 'excellent': <gensim.models.keyedvectors.Vocab at 0x7f93d0c8eb50>,\n",
              " 'regret': <gensim.models.keyedvectors.Vocab at 0x7f93d0c8eb90>,\n",
              " 'purchasing': <gensim.models.keyedvectors.Vocab at 0x7f93d0c8ebd0>,\n",
              " 'vanilla': <gensim.models.keyedvectors.Vocab at 0x7f93d0c8ec10>,\n",
              " 'milky': <gensim.models.keyedvectors.Vocab at 0x7f93d0c8ec50>,\n",
              " 'plain': <gensim.models.keyedvectors.Vocab at 0x7f93d0c8ec90>,\n",
              " 'best': <gensim.models.keyedvectors.Vocab at 0x7f93d0c8ecd0>,\n",
              " 'ever': <gensim.models.keyedvectors.Vocab at 0x7f93d0c8ed10>,\n",
              " 'anyone': <gensim.models.keyedvectors.Vocab at 0x7f93d0c8ed50>,\n",
              " 'who': <gensim.models.keyedvectors.Vocab at 0x7f93d0c8ed90>,\n",
              " 'likes': <gensim.models.keyedvectors.Vocab at 0x7f93d0c8edd0>,\n",
              " 'wanting': <gensim.models.keyedvectors.Vocab at 0x7f93d0c8ee10>,\n",
              " 'an': <gensim.models.keyedvectors.Vocab at 0x7f93d0c8ee50>,\n",
              " 'unusual': <gensim.models.keyedvectors.Vocab at 0x7f93d0c8ee90>,\n",
              " 'kind': <gensim.models.keyedvectors.Vocab at 0x7f93d0c8eed0>,\n",
              " 'love': <gensim.models.keyedvectors.Vocab at 0x7f93d0c8ef10>,\n",
              " 'two': <gensim.models.keyedvectors.Vocab at 0x7f93d0c8ef50>,\n",
              " 'together': <gensim.models.keyedvectors.Vocab at 0x7f93d0c8ef90>,\n",
              " 'hate': <gensim.models.keyedvectors.Vocab at 0x7f93d0c8efd0>,\n",
              " 'course': <gensim.models.keyedvectors.Vocab at 0x7f93d0c90050>,\n",
              " 'arrived': <gensim.models.keyedvectors.Vocab at 0x7f93d0c90090>,\n",
              " 'melted': <gensim.models.keyedvectors.Vocab at 0x7f93d0c900d0>,\n",
              " 'trip': <gensim.models.keyedvectors.Vocab at 0x7f93d0c90110>,\n",
              " 'freezer': <gensim.models.keyedvectors.Vocab at 0x7f93d0c90150>,\n",
              " 'made': <gensim.models.keyedvectors.Vocab at 0x7f93d0c90190>,\n",
              " 'awesome': <gensim.models.keyedvectors.Vocab at 0x7f93d0c901d0>,\n",
              " 'though': <gensim.models.keyedvectors.Vocab at 0x7f93d0c90210>,\n",
              " 'order': <gensim.models.keyedvectors.Vocab at 0x7f93d0c90250>,\n",
              " 'cooler': <gensim.models.keyedvectors.Vocab at 0x7f93d0c90290>,\n",
              " 'times': <gensim.models.keyedvectors.Vocab at 0x7f93d0c902d0>,\n",
              " 'year': <gensim.models.keyedvectors.Vocab at 0x7f93d0c90310>,\n",
              " 'should': <gensim.models.keyedvectors.Vocab at 0x7f93d0c90350>,\n",
              " 'get': <gensim.models.keyedvectors.Vocab at 0x7f93d0c90390>,\n",
              " 'regular': <gensim.models.keyedvectors.Vocab at 0x7f93d0c903d0>,\n",
              " 'bars': <gensim.models.keyedvectors.Vocab at 0x7f93d0c90410>,\n",
              " 'hope': <gensim.models.keyedvectors.Vocab at 0x7f93d0c90450>,\n",
              " 'day': <gensim.models.keyedvectors.Vocab at 0x7f93d0c90490>,\n",
              " 'shelves': <gensim.models.keyedvectors.Vocab at 0x7f93d0c904d0>,\n",
              " 'us': <gensim.models.keyedvectors.Vocab at 0x7f93d0c90510>,\n",
              " 'bar': <gensim.models.keyedvectors.Vocab at 0x7f93d0c90550>,\n",
              " 'out': <gensim.models.keyedvectors.Vocab at 0x7f93d0c90590>,\n",
              " 'there': <gensim.models.keyedvectors.Vocab at 0x7f93d0c905d0>,\n",
              " 'wish': <gensim.models.keyedvectors.Vocab at 0x7f93d0c90610>,\n",
              " 'able': <gensim.models.keyedvectors.Vocab at 0x7f93d0c90650>,\n",
              " 'find': <gensim.models.keyedvectors.Vocab at 0x7f93d0c90690>,\n",
              " 'local': <gensim.models.keyedvectors.Vocab at 0x7f93d0c906d0>,\n",
              " 'instead': <gensim.models.keyedvectors.Vocab at 0x7f93d0c90710>,\n",
              " 'having': <gensim.models.keyedvectors.Vocab at 0x7f93d0c90750>,\n",
              " 'online': <gensim.models.keyedvectors.Vocab at 0x7f93d0c90790>,\n",
              " 'yes': <gensim.models.keyedvectors.Vocab at 0x7f93d0c907d0>,\n",
              " '-': <gensim.models.keyedvectors.Vocab at 0x7f93d0c90810>,\n",
              " 'one': <gensim.models.keyedvectors.Vocab at 0x7f93d0c90850>,\n",
              " 'most': <gensim.models.keyedvectors.Vocab at 0x7f93d0c90890>,\n",
              " 'around': <gensim.models.keyedvectors.Vocab at 0x7f93d0c908d0>,\n",
              " 'imported': <gensim.models.keyedvectors.Vocab at 0x7f93d0c90910>,\n",
              " 'goodness': <gensim.models.keyedvectors.Vocab at 0x7f93d0c90950>,\n",
              " 'folks': <gensim.models.keyedvectors.Vocab at 0x7f93d0c90990>,\n",
              " 'could': <gensim.models.keyedvectors.Vocab at 0x7f93d0c909d0>,\n",
              " 'clean': <gensim.models.keyedvectors.Vocab at 0x7f93d0c90a10>,\n",
              " 'started': <gensim.models.keyedvectors.Vocab at 0x7f93d0c90a50>,\n",
              " 'selling': <gensim.models.keyedvectors.Vocab at 0x7f93d0c90a90>,\n",
              " 'once': <gensim.models.keyedvectors.Vocab at 0x7f93d0c90ad0>,\n",
              " 'ca': <gensim.models.keyedvectors.Vocab at 0x7f93d0c90b10>,\n",
              " 'wait': <gensim.models.keyedvectors.Vocab at 0x7f93d0c90b50>,\n",
              " 'delivered': <gensim.models.keyedvectors.Vocab at 0x7f93d0c90b90>,\n",
              " 'quickly': <gensim.models.keyedvectors.Vocab at 0x7f93d0c90bd0>,\n",
              " 'fresh': <gensim.models.keyedvectors.Vocab at 0x7f93d0c90c10>,\n",
              " '12': <gensim.models.keyedvectors.Vocab at 0x7f93d0c90c50>,\n",
              " 'pack': <gensim.models.keyedvectors.Vocab at 0x7f93d0c90c90>,\n",
              " 'easy': <gensim.models.keyedvectors.Vocab at 0x7f93d0c90cd0>,\n",
              " 'keep': <gensim.models.keyedvectors.Vocab at 0x7f93d0c90d10>,\n",
              " 'diet': <gensim.models.keyedvectors.Vocab at 0x7f93d0c90d50>,\n",
              " 'dark': <gensim.models.keyedvectors.Vocab at 0x7f93d0c90d90>,\n",
              " '&': <gensim.models.keyedvectors.Vocab at 0x7f93d0c90dd0>,\n",
              " 'nothing': <gensim.models.keyedvectors.Vocab at 0x7f93d0c90e10>,\n",
              " 'excited': <gensim.models.keyedvectors.Vocab at 0x7f93d0c90e50>,\n",
              " 'first': <gensim.models.keyedvectors.Vocab at 0x7f93d0c90e90>,\n",
              " 'time': <gensim.models.keyedvectors.Vocab at 0x7f93d0c90ed0>,\n",
              " 'today': <gensim.models.keyedvectors.Vocab at 0x7f93d0c90f10>,\n",
              " 'ice': <gensim.models.keyedvectors.Vocab at 0x7f93d0c90f50>,\n",
              " 'cream': <gensim.models.keyedvectors.Vocab at 0x7f93d0c90f90>,\n",
              " 'me': <gensim.models.keyedvectors.Vocab at 0x7f93d0c90fd0>,\n",
              " 'grainy': <gensim.models.keyedvectors.Vocab at 0x7f93d0c93050>,\n",
              " 'texture': <gensim.models.keyedvectors.Vocab at 0x7f93d0c93090>,\n",
              " 'guessing': <gensim.models.keyedvectors.Vocab at 0x7f93d0c930d0>,\n",
              " 'powder': <gensim.models.keyedvectors.Vocab at 0x7f93d0c93110>,\n",
              " 'think': <gensim.models.keyedvectors.Vocab at 0x7f93d0c93150>,\n",
              " 'favorite': <gensim.models.keyedvectors.Vocab at 0x7f93d0c93190>,\n",
              " 'mix': <gensim.models.keyedvectors.Vocab at 0x7f93d0c931d0>,\n",
              " 'mocha': <gensim.models.keyedvectors.Vocab at 0x7f93d0c93210>,\n",
              " 'curry': <gensim.models.keyedvectors.Vocab at 0x7f93d0c93250>,\n",
              " 'paste': <gensim.models.keyedvectors.Vocab at 0x7f93d0c93290>,\n",
              " 'makes': <gensim.models.keyedvectors.Vocab at 0x7f93d0c932d0>,\n",
              " 'fried': <gensim.models.keyedvectors.Vocab at 0x7f93d0c93310>,\n",
              " 'chicken': <gensim.models.keyedvectors.Vocab at 0x7f93d0c93350>,\n",
              " 'vegetables': <gensim.models.keyedvectors.Vocab at 0x7f93d0c93390>,\n",
              " 'added': <gensim.models.keyedvectors.Vocab at 0x7f93d0c933d0>,\n",
              " 'coconut': <gensim.models.keyedvectors.Vocab at 0x7f93d0c93410>,\n",
              " 'dish': <gensim.models.keyedvectors.Vocab at 0x7f93d0c93450>,\n",
              " 'spicy': <gensim.models.keyedvectors.Vocab at 0x7f93d0c93490>,\n",
              " 'something': <gensim.models.keyedvectors.Vocab at 0x7f93d0c934d0>,\n",
              " 'look': <gensim.models.keyedvectors.Vocab at 0x7f93d0c93510>,\n",
              " 'elsewhere': <gensim.models.keyedvectors.Vocab at 0x7f93d0c93550>,\n",
              " 'purchased': <gensim.models.keyedvectors.Vocab at 0x7f93d0c93590>,\n",
              " 'curries': <gensim.models.keyedvectors.Vocab at 0x7f93d0c935d0>,\n",
              " 'grocery': <gensim.models.keyedvectors.Vocab at 0x7f93d0c93610>,\n",
              " 'completely': <gensim.models.keyedvectors.Vocab at 0x7f93d0c93650>,\n",
              " 'read': <gensim.models.keyedvectors.Vocab at 0x7f93d0c93690>,\n",
              " 'recipe': <gensim.models.keyedvectors.Vocab at 0x7f93d0c936d0>,\n",
              " 'recommended': <gensim.models.keyedvectors.Vocab at 0x7f93d0c93710>,\n",
              " 'brand': <gensim.models.keyedvectors.Vocab at 0x7f93d0c93750>,\n",
              " 'using': <gensim.models.keyedvectors.Vocab at 0x7f93d0c93790>,\n",
              " 'why': <gensim.models.keyedvectors.Vocab at 0x7f93d0c937d0>,\n",
              " 'specific': <gensim.models.keyedvectors.Vocab at 0x7f93d0c93810>,\n",
              " '3': <gensim.models.keyedvectors.Vocab at 0x7f93d0c93850>,\n",
              " 'red': <gensim.models.keyedvectors.Vocab at 0x7f93d0c93890>,\n",
              " 'yellow': <gensim.models.keyedvectors.Vocab at 0x7f93d0c938d0>,\n",
              " 'enjoyed': <gensim.models.keyedvectors.Vocab at 0x7f93d0c93910>,\n",
              " 'types': <gensim.models.keyedvectors.Vocab at 0x7f93d0c93950>,\n",
              " 'foods': <gensim.models.keyedvectors.Vocab at 0x7f93d0c93990>,\n",
              " 'cook': <gensim.models.keyedvectors.Vocab at 0x7f93d0c939d0>,\n",
              " 'recently': <gensim.models.keyedvectors.Vocab at 0x7f93d0c93a10>,\n",
              " 'product': <gensim.models.keyedvectors.Vocab at 0x7f93d0c93a50>,\n",
              " 'major': <gensim.models.keyedvectors.Vocab at 0x7f93d0c93a90>,\n",
              " 'disappointment': <gensim.models.keyedvectors.Vocab at 0x7f93d0c93ad0>,\n",
              " 'reviews': <gensim.models.keyedvectors.Vocab at 0x7f93d0c93b10>,\n",
              " 'won': <gensim.models.keyedvectors.Vocab at 0x7f93d0c93b50>,\n",
              " 'over': <gensim.models.keyedvectors.Vocab at 0x7f93d0c93b90>,\n",
              " 'free': <gensim.models.keyedvectors.Vocab at 0x7f93d0c93bd0>,\n",
              " 'shipping': <gensim.models.keyedvectors.Vocab at 0x7f93d0c93c10>,\n",
              " 'tonight': <gensim.models.keyedvectors.Vocab at 0x7f93d0c93c50>,\n",
              " 'used': <gensim.models.keyedvectors.Vocab at 0x7f93d0c93c90>,\n",
              " 'wow': <gensim.models.keyedvectors.Vocab at 0x7f93d0c93cd0>,\n",
              " 'gourmet': <gensim.models.keyedvectors.Vocab at 0x7f93d0c93d10>,\n",
              " 'international': <gensim.models.keyedvectors.Vocab at 0x7f93d0c93d50>,\n",
              " 'chef': <gensim.models.keyedvectors.Vocab at 0x7f93d0c93d90>,\n",
              " 'incredibly': <gensim.models.keyedvectors.Vocab at 0x7f93d0c93dd0>,\n",
              " 'hot': <gensim.models.keyedvectors.Vocab at 0x7f93d0c93e10>,\n",
              " 'glad': <gensim.models.keyedvectors.Vocab at 0x7f93d0c93e50>,\n",
              " 'base': <gensim.models.keyedvectors.Vocab at 0x7f93d0c93e90>,\n",
              " 'hand': <gensim.models.keyedvectors.Vocab at 0x7f93d0c93ed0>,\n",
              " 'always': <gensim.models.keyedvectors.Vocab at 0x7f93d0c93f10>,\n",
              " 'new': <gensim.models.keyedvectors.Vocab at 0x7f93d0c93f50>,\n",
              " 'sugars': <gensim.models.keyedvectors.Vocab at 0x7f93d0c93f90>,\n",
              " 'brands': <gensim.models.keyedvectors.Vocab at 0x7f93d0c93fd0>,\n",
              " 'into': <gensim.models.keyedvectors.Vocab at 0x7f93d0c96050>,\n",
              " 'ingredients': <gensim.models.keyedvectors.Vocab at 0x7f93d0c96090>,\n",
              " 'tastes': <gensim.models.keyedvectors.Vocab at 0x7f93d0c960d0>,\n",
              " 'boot': <gensim.models.keyedvectors.Vocab at 0x7f93d0c96110>,\n",
              " 'sure': <gensim.models.keyedvectors.Vocab at 0x7f93d0c96150>,\n",
              " 'finish': <gensim.models.keyedvectors.Vocab at 0x7f93d0c96190>,\n",
              " 'whole': <gensim.models.keyedvectors.Vocab at 0x7f93d0c961d0>,\n",
              " 'tub': <gensim.models.keyedvectors.Vocab at 0x7f93d0c96210>,\n",
              " 'goes': <gensim.models.keyedvectors.Vocab at 0x7f93d0c96250>,\n",
              " 'off': <gensim.models.keyedvectors.Vocab at 0x7f93d0c96290>,\n",
              " 'does': <gensim.models.keyedvectors.Vocab at 0x7f93d0c962d0>,\n",
              " '?': <gensim.models.keyedvectors.Vocab at 0x7f93d0c96310>,\n",
              " 'many': <gensim.models.keyedvectors.Vocab at 0x7f93d0c96350>,\n",
              " 'flavors': <gensim.models.keyedvectors.Vocab at 0x7f93d0c96390>,\n",
              " 'begin': <gensim.models.keyedvectors.Vocab at 0x7f93d0c963d0>,\n",
              " 'tell': <gensim.models.keyedvectors.Vocab at 0x7f93d0c96410>,\n",
              " 'ask': <gensim.models.keyedvectors.Vocab at 0x7f93d0c96450>,\n",
              " 'recipes': <gensim.models.keyedvectors.Vocab at 0x7f93d0c96490>,\n",
              " 'basically': <gensim.models.keyedvectors.Vocab at 0x7f93d0c964d0>,\n",
              " 'its': <gensim.models.keyedvectors.Vocab at 0x7f93d0c96510>,\n",
              " 'plastic': <gensim.models.keyedvectors.Vocab at 0x7f93d0c96550>,\n",
              " 'container': <gensim.models.keyedvectors.Vocab at 0x7f93d0c96590>,\n",
              " 'na': <gensim.models.keyedvectors.Vocab at 0x7f93d0c965d0>,\n",
              " 'half': <gensim.models.keyedvectors.Vocab at 0x7f93d0c96610>,\n",
              " 'has': <gensim.models.keyedvectors.Vocab at 0x7f93d0c96650>,\n",
              " 'inside': <gensim.models.keyedvectors.Vocab at 0x7f93d0c96690>,\n",
              " 'pull': <gensim.models.keyedvectors.Vocab at 0x7f93d0c966d0>,\n",
              " 'clear': <gensim.models.keyedvectors.Vocab at 0x7f93d0c96710>,\n",
              " 'mashed': <gensim.models.keyedvectors.Vocab at 0x7f93d0c96750>,\n",
              " 'cut': <gensim.models.keyedvectors.Vocab at 0x7f93d0c96790>,\n",
              " 'corner': <gensim.models.keyedvectors.Vocab at 0x7f93d0c967d0>,\n",
              " 'spices': <gensim.models.keyedvectors.Vocab at 0x7f93d0c96810>,\n",
              " 'nicer': <gensim.models.keyedvectors.Vocab at 0x7f93d0c96850>,\n",
              " 'sauce': <gensim.models.keyedvectors.Vocab at 0x7f93d0c96890>,\n",
              " 'anything': <gensim.models.keyedvectors.Vocab at 0x7f93d0c968d0>,\n",
              " 'veggies': <gensim.models.keyedvectors.Vocab at 0x7f93d0c96910>,\n",
              " 'steamed': <gensim.models.keyedvectors.Vocab at 0x7f93d0c96950>,\n",
              " 'scrambled': <gensim.models.keyedvectors.Vocab at 0x7f93d0c96990>,\n",
              " 'eggs': <gensim.models.keyedvectors.Vocab at 0x7f93d0c969d0>,\n",
              " 'rice': <gensim.models.keyedvectors.Vocab at 0x7f93d0c96a10>,\n",
              " 'pasta': <gensim.models.keyedvectors.Vocab at 0x7f93d0c96a50>,\n",
              " 'even': <gensim.models.keyedvectors.Vocab at 0x7f93d0c96a90>,\n",
              " 'fish': <gensim.models.keyedvectors.Vocab at 0x7f93d0c96ad0>,\n",
              " 'meat': <gensim.models.keyedvectors.Vocab at 0x7f93d0c96b10>,\n",
              " 'lot': <gensim.models.keyedvectors.Vocab at 0x7f93d0c96b50>,\n",
              " 'dishes': <gensim.models.keyedvectors.Vocab at 0x7f93d0c96b90>,\n",
              " 'use': <gensim.models.keyedvectors.Vocab at 0x7f93d0c96bd0>,\n",
              " 'way': <gensim.models.keyedvectors.Vocab at 0x7f93d0c96c10>,\n",
              " 'plus': <gensim.models.keyedvectors.Vocab at 0x7f93d0c96c50>,\n",
              " 'squeeze': <gensim.models.keyedvectors.Vocab at 0x7f93d0c96c90>,\n",
              " '..': <gensim.models.keyedvectors.Vocab at 0x7f93d0c96cd0>,\n",
              " 'huge': <gensim.models.keyedvectors.Vocab at 0x7f93d0c96d10>,\n",
              " 'step': <gensim.models.keyedvectors.Vocab at 0x7f93d0c96d50>,\n",
              " 'quality': <gensim.models.keyedvectors.Vocab at 0x7f93d0c96d90>,\n",
              " 'normally': <gensim.models.keyedvectors.Vocab at 0x7f93d0c96dd0>,\n",
              " 'available': <gensim.models.keyedvectors.Vocab at 0x7f93d0c96e10>,\n",
              " 'supermarkets': <gensim.models.keyedvectors.Vocab at 0x7f93d0c96e50>,\n",
              " 'near': <gensim.models.keyedvectors.Vocab at 0x7f93d0c96e90>,\n",
              " 'extremely': <gensim.models.keyedvectors.Vocab at 0x7f93d0c96ed0>,\n",
              " 'also': <gensim.models.keyedvectors.Vocab at 0x7f93d0c96f10>,\n",
              " 'appears': <gensim.models.keyedvectors.Vocab at 0x7f93d0c96f50>,\n",
              " 'pretty': <gensim.models.keyedvectors.Vocab at 0x7f93d0c96f90>,\n",
              " 'shelf': <gensim.models.keyedvectors.Vocab at 0x7f93d0c96fd0>,\n",
              " 'life': <gensim.models.keyedvectors.Vocab at 0x7f93d0c98050>,\n",
              " 'here': <gensim.models.keyedvectors.Vocab at 0x7f93d0c98090>,\n",
              " 'several': <gensim.models.keyedvectors.Vocab at 0x7f93d0c980d0>,\n",
              " 'large': <gensim.models.keyedvectors.Vocab at 0x7f93d0c98110>,\n",
              " 'portions': <gensim.models.keyedvectors.Vocab at 0x7f93d0c98150>,\n",
              " 'unless': <gensim.models.keyedvectors.Vocab at 0x7f93d0c98190>,\n",
              " 'eat': <gensim.models.keyedvectors.Vocab at 0x7f93d0c981d0>,\n",
              " 'while': <gensim.models.keyedvectors.Vocab at 0x7f93d0c98210>,\n",
              " 'things': <gensim.models.keyedvectors.Vocab at 0x7f93d0c98250>,\n",
              " 'mind': <gensim.models.keyedvectors.Vocab at 0x7f93d0c98290>,\n",
              " 'thai': <gensim.models.keyedvectors.Vocab at 0x7f93d0c982d0>,\n",
              " ':': <gensim.models.keyedvectors.Vocab at 0x7f93d0c98310>,\n",
              " '1': <gensim.models.keyedvectors.Vocab at 0x7f93d0c98350>,\n",
              " ')': <gensim.models.keyedvectors.Vocab at 0x7f93d0c98390>,\n",
              " 'want': <gensim.models.keyedvectors.Vocab at 0x7f93d0c983d0>,\n",
              " '2': <gensim.models.keyedvectors.Vocab at 0x7f93d0c98410>,\n",
              " 'making': <gensim.models.keyedvectors.Vocab at 0x7f93d0c98450>,\n",
              " 'feel': <gensim.models.keyedvectors.Vocab at 0x7f93d0c98490>,\n",
              " 'fairly': <gensim.models.keyedvectors.Vocab at 0x7f93d0c984d0>,\n",
              " 'authentic': <gensim.models.keyedvectors.Vocab at 0x7f93d0c98510>,\n",
              " 'both': <gensim.models.keyedvectors.Vocab at 0x7f93d0c98550>,\n",
              " 'own': <gensim.models.keyedvectors.Vocab at 0x7f93d0c98590>,\n",
              " 'however': <gensim.models.keyedvectors.Vocab at 0x7f93d0c985d0>,\n",
              " 'finding': <gensim.models.keyedvectors.Vocab at 0x7f93d0c98610>,\n",
              " 'perhaps': <gensim.models.keyedvectors.Vocab at 0x7f93d0c98650>,\n",
              " 'difficult': <gensim.models.keyedvectors.Vocab at 0x7f93d0c98690>,\n",
              " 'difference': <gensim.models.keyedvectors.Vocab at 0x7f93d0c986d0>,\n",
              " 'experience': <gensim.models.keyedvectors.Vocab at 0x7f93d0c98710>,\n",
              " 'plenty': <gensim.models.keyedvectors.Vocab at 0x7f93d0c98750>,\n",
              " 'give': <gensim.models.keyedvectors.Vocab at 0x7f93d0c98790>,\n",
              " 'same': <gensim.models.keyedvectors.Vocab at 0x7f93d0c987d0>,\n",
              " 'satisfaction': <gensim.models.keyedvectors.Vocab at 0x7f93d0c98810>,\n",
              " 'few': <gensim.models.keyedvectors.Vocab at 0x7f93d0c98850>,\n",
              " 'learned': <gensim.models.keyedvectors.Vocab at 0x7f93d0c98890>,\n",
              " 'their': <gensim.models.keyedvectors.Vocab at 0x7f93d0c988d0>,\n",
              " 'cooking': <gensim.models.keyedvectors.Vocab at 0x7f93d0c98910>,\n",
              " 'people': <gensim.models.keyedvectors.Vocab at 0x7f93d0c98950>,\n",
              " 'food': <gensim.models.keyedvectors.Vocab at 0x7f93d0c98990>,\n",
              " 'indicated': <gensim.models.keyedvectors.Vocab at 0x7f93d0c989d0>,\n",
              " 'directions': <gensim.models.keyedvectors.Vocab at 0x7f93d0c98a10>,\n",
              " 'especially': <gensim.models.keyedvectors.Vocab at 0x7f93d0c98a50>,\n",
              " 'true': <gensim.models.keyedvectors.Vocab at 0x7f93d0c98a90>,\n",
              " 'important': <gensim.models.keyedvectors.Vocab at 0x7f93d0c98ad0>,\n",
              " 'children': <gensim.models.keyedvectors.Vocab at 0x7f93d0c98b10>,\n",
              " 'eating': <gensim.models.keyedvectors.Vocab at 0x7f93d0c98b50>,\n",
              " 'meal': <gensim.models.keyedvectors.Vocab at 0x7f93d0c98b90>,\n",
              " 'adjust': <gensim.models.keyedvectors.Vocab at 0x7f93d0c98bd0>,\n",
              " 'amount': <gensim.models.keyedvectors.Vocab at 0x7f93d0c98c10>,\n",
              " 'practice': <gensim.models.keyedvectors.Vocab at 0x7f93d0c98c50>,\n",
              " \"'ll\": <gensim.models.keyedvectors.Vocab at 0x7f93d0c98c90>,\n",
              " 'learn': <gensim.models.keyedvectors.Vocab at 0x7f93d0c98cd0>,\n",
              " 'experienced': <gensim.models.keyedvectors.Vocab at 0x7f93d0c98d10>,\n",
              " 'palate': <gensim.models.keyedvectors.Vocab at 0x7f93d0c98d50>,\n",
              " 'kids': <gensim.models.keyedvectors.Vocab at 0x7f93d0c98d90>,\n",
              " 'packaging': <gensim.models.keyedvectors.Vocab at 0x7f93d0c98dd0>,\n",
              " 'mention': <gensim.models.keyedvectors.Vocab at 0x7f93d0c98e10>,\n",
              " 'keeps': <gensim.models.keyedvectors.Vocab at 0x7f93d0c98e50>,\n",
              " 'lid': <gensim.models.keyedvectors.Vocab at 0x7f93d0c98e90>,\n",
              " 'seal': <gensim.models.keyedvectors.Vocab at 0x7f93d0c98ed0>,\n",
              " 'thick': <gensim.models.keyedvectors.Vocab at 0x7f93d0c98f10>,\n",
              " 'open': <gensim.models.keyedvectors.Vocab at 0x7f93d0c98f50>,\n",
              " 'leave': <gensim.models.keyedvectors.Vocab at 0x7f93d0c98f90>,\n",
              " 'taken': <gensim.models.keyedvectors.Vocab at 0x7f93d0c98fd0>,\n",
              " 'cutting': <gensim.models.keyedvectors.Vocab at 0x7f93d0c9b050>,\n",
              " 'hole': <gensim.models.keyedvectors.Vocab at 0x7f93d0c9b090>,\n",
              " 'bakery': <gensim.models.keyedvectors.Vocab at 0x7f93d0c9b0d0>,\n",
              " 'double': <gensim.models.keyedvectors.Vocab at 0x7f93d0c9b110>,\n",
              " 'might': <gensim.models.keyedvectors.Vocab at 0x7f93d0c9b150>,\n",
              " 'help': <gensim.models.keyedvectors.Vocab at 0x7f93d0c9b190>,\n",
              " 'longer': <gensim.models.keyedvectors.Vocab at 0x7f93d0c9b1d0>,\n",
              " 'opened': <gensim.models.keyedvectors.Vocab at 0x7f93d0c9b210>,\n",
              " 'stored': <gensim.models.keyedvectors.Vocab at 0x7f93d0c9b250>,\n",
              " 'refrigerator': <gensim.models.keyedvectors.Vocab at 0x7f93d0c9b290>,\n",
              " 'fantastic': <gensim.models.keyedvectors.Vocab at 0x7f93d0c9b2d0>,\n",
              " 'choosing': <gensim.models.keyedvectors.Vocab at 0x7f93d0c9b310>,\n",
              " 'bad': <gensim.models.keyedvectors.Vocab at 0x7f93d0c9b350>,\n",
              " 'your': <gensim.models.keyedvectors.Vocab at 0x7f93d0c9b390>,\n",
              " 'ruin': <gensim.models.keyedvectors.Vocab at 0x7f93d0c9b3d0>,\n",
              " 'altogether': <gensim.models.keyedvectors.Vocab at 0x7f93d0c9b410>,\n",
              " 'go': <gensim.models.keyedvectors.Vocab at 0x7f93d0c9b450>,\n",
              " '``': <gensim.models.keyedvectors.Vocab at 0x7f93d0c9b490>,\n",
              " 'lite': <gensim.models.keyedvectors.Vocab at 0x7f93d0c9b4d0>,\n",
              " \"''\": <gensim.models.keyedvectors.Vocab at 0x7f93d0c9b510>,\n",
              " 'higher': <gensim.models.keyedvectors.Vocab at 0x7f93d0c9b550>,\n",
              " 'gives': <gensim.models.keyedvectors.Vocab at 0x7f93d0c9b590>,\n",
              " 'consistent': <gensim.models.keyedvectors.Vocab at 0x7f93d0c9b5d0>,\n",
              " 'often': <gensim.models.keyedvectors.Vocab at 0x7f93d0c9b610>,\n",
              " 'asian': <gensim.models.keyedvectors.Vocab at 0x7f93d0c9b650>,\n",
              " 'markets': <gensim.models.keyedvectors.Vocab at 0x7f93d0c9b690>,\n",
              " 'figured': <gensim.models.keyedvectors.Vocab at 0x7f93d0c9b6d0>,\n",
              " 'know': <gensim.models.keyedvectors.Vocab at 0x7f93d0c9b710>,\n",
              " 'turns': <gensim.models.keyedvectors.Vocab at 0x7f93d0c9b750>,\n",
              " 'friends': <gensim.models.keyedvectors.Vocab at 0x7f93d0c9b790>,\n",
              " 'yours': <gensim.models.keyedvectors.Vocab at 0x7f93d0c9b7d0>,\n",
              " 'restaurant': <gensim.models.keyedvectors.Vocab at 0x7f93d0c9b810>,\n",
              " 'believe': <gensim.models.keyedvectors.Vocab at 0x7f93d0c9b850>,\n",
              " 'market': <gensim.models.keyedvectors.Vocab at 0x7f93d0c9b890>,\n",
              " 'factor': <gensim.models.keyedvectors.Vocab at 0x7f93d0c9b8d0>,\n",
              " 'no': <gensim.models.keyedvectors.Vocab at 0x7f93d0c9b910>,\n",
              " '(': <gensim.models.keyedvectors.Vocab at 0x7f93d0c9b950>,\n",
              " 'fyi': <gensim.models.keyedvectors.Vocab at 0x7f93d0c9b990>,\n",
              " 'live': <gensim.models.keyedvectors.Vocab at 0x7f93d0c9b9d0>,\n",
              " 'area': <gensim.models.keyedvectors.Vocab at 0x7f93d0c9ba10>,\n",
              " 'where': <gensim.models.keyedvectors.Vocab at 0x7f93d0c9ba50>,\n",
              " 'buying': <gensim.models.keyedvectors.Vocab at 0x7f93d0c9ba90>,\n",
              " 'cheaper': <gensim.models.keyedvectors.Vocab at 0x7f93d0c9bad0>,\n",
              " 'tasty': <gensim.models.keyedvectors.Vocab at 0x7f93d0c9bb10>,\n",
              " 'alternative': <gensim.models.keyedvectors.Vocab at 0x7f93d0c9bb50>,\n",
              " 'kinds': <gensim.models.keyedvectors.Vocab at 0x7f93d0c9bb90>,\n",
              " 'signature': <gensim.models.keyedvectors.Vocab at 0x7f93d0c9bbd0>,\n",
              " 'being': <gensim.models.keyedvectors.Vocab at 0x7f93d0c9bc10>,\n",
              " 'asked': <gensim.models.keyedvectors.Vocab at 0x7f93d0c9bc50>,\n",
              " 'remember': <gensim.models.keyedvectors.Vocab at 0x7f93d0c9bc90>,\n",
              " 'complex': <gensim.models.keyedvectors.Vocab at 0x7f93d0c9bcd0>,\n",
              " 'varied': <gensim.models.keyedvectors.Vocab at 0x7f93d0c9bd10>,\n",
              " 'we': <gensim.models.keyedvectors.Vocab at 0x7f93d0c9bd50>,\n",
              " 'living': <gensim.models.keyedvectors.Vocab at 0x7f93d0c9bd90>,\n",
              " 'thailand': <gensim.models.keyedvectors.Vocab at 0x7f93d0c9bdd0>,\n",
              " 'amazon': <gensim.models.keyedvectors.Vocab at 0x7f93d0c9be10>,\n",
              " 'turned': <gensim.models.keyedvectors.Vocab at 0x7f93d0c9be50>,\n",
              " 'loved': <gensim.models.keyedvectors.Vocab at 0x7f93d0c9be90>,\n",
              " 'heat': <gensim.models.keyedvectors.Vocab at 0x7f93d0c9bed0>,\n",
              " 'level': <gensim.models.keyedvectors.Vocab at 0x7f93d0c9bf10>,\n",
              " 'got': <gensim.models.keyedvectors.Vocab at 0x7f93d0c9bf50>,\n",
              " 'tbs': <gensim.models.keyedvectors.Vocab at 0x7f93d0c9bf90>,\n",
              " 'gotten': <gensim.models.keyedvectors.Vocab at 0x7f93d0c9bfd0>,\n",
              " 'yet': <gensim.models.keyedvectors.Vocab at 0x7f93d0c9e050>,\n",
              " 'carries': <gensim.models.keyedvectors.Vocab at 0x7f93d0c9e090>,\n",
              " 'addition': <gensim.models.keyedvectors.Vocab at 0x7f93d0c9e0d0>,\n",
              " 'kitchen': <gensim.models.keyedvectors.Vocab at 0x7f93d0c9e110>,\n",
              " 'vegetable': <gensim.models.keyedvectors.Vocab at 0x7f93d0c9e150>,\n",
              " 'various': <gensim.models.keyedvectors.Vocab at 0x7f93d0c9e190>,\n",
              " 'play': <gensim.models.keyedvectors.Vocab at 0x7f93d0c9e1d0>,\n",
              " 'solid': <gensim.models.keyedvectors.Vocab at 0x7f93d0c9e210>,\n",
              " 'affordable': <gensim.models.keyedvectors.Vocab at 0x7f93d0c9e250>,\n",
              " 'spice': <gensim.models.keyedvectors.Vocab at 0x7f93d0c9e290>,\n",
              " 'holiday': <gensim.models.keyedvectors.Vocab at 0x7f93d0c9e2d0>,\n",
              " 'substitute': <gensim.models.keyedvectors.Vocab at 0x7f93d0c9e310>,\n",
              " 'eggnog': <gensim.models.keyedvectors.Vocab at 0x7f93d0c9e350>,\n",
              " 'super': <gensim.models.keyedvectors.Vocab at 0x7f93d0c9e390>,\n",
              " 'advised': <gensim.models.keyedvectors.Vocab at 0x7f93d0c9e3d0>,\n",
              " 'later': <gensim.models.keyedvectors.Vocab at 0x7f93d0c9e410>,\n",
              " 'doing': <gensim.models.keyedvectors.Vocab at 0x7f93d0c9e450>,\n",
              " 'work': <gensim.models.keyedvectors.Vocab at 0x7f93d0c9e490>,\n",
              " 'overwhelming': <gensim.models.keyedvectors.Vocab at 0x7f93d0c9e4d0>,\n",
              " 'garlic': <gensim.models.keyedvectors.Vocab at 0x7f93d0c9e510>,\n",
              " 'bland': <gensim.models.keyedvectors.Vocab at 0x7f93d0c9e550>,\n",
              " 'milder': <gensim.models.keyedvectors.Vocab at 0x7f93d0c9e590>,\n",
              " 'variety': <gensim.models.keyedvectors.Vocab at 0x7f93d0c9e5d0>,\n",
              " 'soups': <gensim.models.keyedvectors.Vocab at 0x7f93d0c9e610>,\n",
              " 'stews': <gensim.models.keyedvectors.Vocab at 0x7f93d0c9e650>,\n",
              " 'zing': <gensim.models.keyedvectors.Vocab at 0x7f93d0c9e690>,\n",
              " 'dyes': <gensim.models.keyedvectors.Vocab at 0x7f93d0c9e6d0>,\n",
              " 'create': <gensim.models.keyedvectors.Vocab at 0x7f93d0c9e710>,\n",
              " 'colors': <gensim.models.keyedvectors.Vocab at 0x7f93d0c9e750>,\n",
              " 'finger': <gensim.models.keyedvectors.Vocab at 0x7f93d0c9e790>,\n",
              " 'dough': <gensim.models.keyedvectors.Vocab at 0x7f93d0c9e7d0>,\n",
              " 'salt': <gensim.models.keyedvectors.Vocab at 0x7f93d0c9e810>,\n",
              " 'reviewer': <gensim.models.keyedvectors.Vocab at 0x7f93d0c9e850>,\n",
              " 'stated': <gensim.models.keyedvectors.Vocab at 0x7f93d0c9e890>,\n",
              " 'natural': <gensim.models.keyedvectors.Vocab at 0x7f93d0c9e8d0>,\n",
              " 'correct': <gensim.models.keyedvectors.Vocab at 0x7f93d0c9e910>,\n",
              " 'artificial': <gensim.models.keyedvectors.Vocab at 0x7f93d0c9e950>,\n",
              " 'fell': <gensim.models.keyedvectors.Vocab at 0x7f93d0c9e990>,\n",
              " 'through': <gensim.models.keyedvectors.Vocab at 0x7f93d0c9e9d0>,\n",
              " 'worked': <gensim.models.keyedvectors.Vocab at 0x7f93d0c9ea10>,\n",
              " 'pinch': <gensim.models.keyedvectors.Vocab at 0x7f93d0c9ea50>,\n",
              " 'couple': <gensim.models.keyedvectors.Vocab at 0x7f93d0c9ea90>,\n",
              " 'drops': <gensim.models.keyedvectors.Vocab at 0x7f93d0c9ead0>,\n",
              " 'vibrant': <gensim.models.keyedvectors.Vocab at 0x7f93d0c9eb10>,\n",
              " 'color': <gensim.models.keyedvectors.Vocab at 0x7f93d0c9eb50>,\n",
              " 'stain': <gensim.models.keyedvectors.Vocab at 0x7f93d0c9eb90>,\n",
              " 'whatever': <gensim.models.keyedvectors.Vocab at 0x7f93d0c9ebd0>,\n",
              " '/': <gensim.models.keyedvectors.Vocab at 0x7f93d0c9ec10>,\n",
              " 'seen': <gensim.models.keyedvectors.Vocab at 0x7f93d0c9ec50>,\n",
              " 'contains': <gensim.models.keyedvectors.Vocab at 0x7f93d0c9ec90>,\n",
              " 'ingredient': <gensim.models.keyedvectors.Vocab at 0x7f93d0c9ecd0>,\n",
              " 'list': <gensim.models.keyedvectors.Vocab at 0x7f93d0c9ed10>,\n",
              " 'avoid': <gensim.models.keyedvectors.Vocab at 0x7f93d0c9ed50>,\n",
              " '...': <gensim.models.keyedvectors.Vocab at 0x7f93d0c9ed90>,\n",
              " '#': <gensim.models.keyedvectors.Vocab at 0x7f93d0c9edd0>,\n",
              " '34': <gensim.models.keyedvectors.Vocab at 0x7f93d0c9ee10>,\n",
              " ';': <gensim.models.keyedvectors.Vocab at 0x7f93d0c9ee50>,\n",
              " 'item': <gensim.models.keyedvectors.Vocab at 0x7f93d0c9ee90>,\n",
              " '40': <gensim.models.keyedvectors.Vocab at 0x7f93d0c9eed0>,\n",
              " 'understand': <gensim.models.keyedvectors.Vocab at 0x7f93d0c9ef10>,\n",
              " 'knowing': <gensim.models.keyedvectors.Vocab at 0x7f93d0c9ef50>,\n",
              " 'cause': <gensim.models.keyedvectors.Vocab at 0x7f93d0c9ef90>,\n",
              " 'may': <gensim.models.keyedvectors.Vocab at 0x7f93d0c9efd0>,\n",
              " 'someone': <gensim.models.keyedvectors.Vocab at 0x7f93d0ca1050>,\n",
              " 'labels': <gensim.models.keyedvectors.Vocab at 0x7f93d0ca1090>,\n",
              " 'care': <gensim.models.keyedvectors.Vocab at 0x7f93d0ca10d0>,\n",
              " 'caramel': <gensim.models.keyedvectors.Vocab at 0x7f93d0ca1110>,\n",
              " 'corn': <gensim.models.keyedvectors.Vocab at 0x7f93d0ca1150>,\n",
              " 'christmas': <gensim.models.keyedvectors.Vocab at 0x7f93d0ca1190>,\n",
              " 'coloring': <gensim.models.keyedvectors.Vocab at 0x7f93d0ca11d0>,\n",
              " 'created': <gensim.models.keyedvectors.Vocab at 0x7f93d0ca1210>,\n",
              " 'baking': <gensim.models.keyedvectors.Vocab at 0x7f93d0ca1250>,\n",
              " 'bright': <gensim.models.keyedvectors.Vocab at 0x7f93d0ca1290>,\n",
              " 'basic': <gensim.models.keyedvectors.Vocab at 0x7f93d0ca12d0>,\n",
              " 'selection': <gensim.models.keyedvectors.Vocab at 0x7f93d0ca1310>,\n",
              " 'gel': <gensim.models.keyedvectors.Vocab at 0x7f93d0ca1350>,\n",
              " 'frosting': <gensim.models.keyedvectors.Vocab at 0x7f93d0ca1390>,\n",
              " 'runny': <gensim.models.keyedvectors.Vocab at 0x7f93d0ca13d0>,\n",
              " 'liquid': <gensim.models.keyedvectors.Vocab at 0x7f93d0ca1410>,\n",
              " 'easier': <gensim.models.keyedvectors.Vocab at 0x7f93d0ca1450>,\n",
              " 'simple': <gensim.models.keyedvectors.Vocab at 0x7f93d0ca1490>,\n",
              " 'mess': <gensim.models.keyedvectors.Vocab at 0x7f93d0ca14d0>,\n",
              " 'complaint': <gensim.models.keyedvectors.Vocab at 0x7f93d0ca1510>,\n",
              " 'years': <gensim.models.keyedvectors.Vocab at 0x7f93d0ca1550>,\n",
              " 'ago': <gensim.models.keyedvectors.Vocab at 0x7f93d0ca1590>,\n",
              " 'must': <gensim.models.keyedvectors.Vocab at 0x7f93d0ca15d0>,\n",
              " 'deep': <gensim.models.keyedvectors.Vocab at 0x7f93d0ca1610>,\n",
              " 'saturated': <gensim.models.keyedvectors.Vocab at 0x7f93d0ca1650>,\n",
              " 'ones': <gensim.models.keyedvectors.Vocab at 0x7f93d0ca1690>,\n",
              " 'farm': <gensim.models.keyedvectors.Vocab at 0x7f93d0ca16d0>,\n",
              " 'cake': <gensim.models.keyedvectors.Vocab at 0x7f93d0ca1710>,\n",
              " 'beautiful': <gensim.models.keyedvectors.Vocab at 0x7f93d0ca1750>,\n",
              " 'caution': <gensim.models.keyedvectors.Vocab at 0x7f93d0ca1790>,\n",
              " 'hands': <gensim.models.keyedvectors.Vocab at 0x7f93d0ca17d0>,\n",
              " 'sometimes': <gensim.models.keyedvectors.Vocab at 0x7f93d0ca1810>,\n",
              " 'bottle': <gensim.models.keyedvectors.Vocab at 0x7f93d0ca1850>,\n",
              " 'mixture': <gensim.models.keyedvectors.Vocab at 0x7f93d0ca1890>,\n",
              " 'colored': <gensim.models.keyedvectors.Vocab at 0x7f93d0ca18d0>,\n",
              " 'massive': <gensim.models.keyedvectors.Vocab at 0x7f93d0ca1910>,\n",
              " 'amounts': <gensim.models.keyedvectors.Vocab at 0x7f93d0ca1950>,\n",
              " 'hard': <gensim.models.keyedvectors.Vocab at 0x7f93d0ca1990>,\n",
              " 'light': <gensim.models.keyedvectors.Vocab at 0x7f93d0ca19d0>,\n",
              " 'adding': <gensim.models.keyedvectors.Vocab at 0x7f93d0ca1a10>,\n",
              " 'quantities': <gensim.models.keyedvectors.Vocab at 0x7f93d0ca1a50>,\n",
              " 'pleased': <gensim.models.keyedvectors.Vocab at 0x7f93d0ca1a90>,\n",
              " 'evenly': <gensim.models.keyedvectors.Vocab at 0x7f93d0ca1ad0>,\n",
              " 'distributed': <gensim.models.keyedvectors.Vocab at 0x7f93d0ca1b10>,\n",
              " 'throughout': <gensim.models.keyedvectors.Vocab at 0x7f93d0ca1b50>,\n",
              " 'pricy': <gensim.models.keyedvectors.Vocab at 0x7f93d0ca1b90>,\n",
              " 'worth': <gensim.models.keyedvectors.Vocab at 0x7f93d0ca1bd0>,\n",
              " 'extra': <gensim.models.keyedvectors.Vocab at 0x7f93d0ca1c10>,\n",
              " 'money': <gensim.models.keyedvectors.Vocab at 0x7f93d0ca1c50>,\n",
              " 'seems': <gensim.models.keyedvectors.Vocab at 0x7f93d0ca1c90>,\n",
              " 'high': <gensim.models.keyedvectors.Vocab at 0x7f93d0ca1cd0>,\n",
              " 'shows': <gensim.models.keyedvectors.Vocab at 0x7f93d0ca1d10>,\n",
              " 'whenever': <gensim.models.keyedvectors.Vocab at 0x7f93d0ca1d50>,\n",
              " 'add': <gensim.models.keyedvectors.Vocab at 0x7f93d0ca1d90>,\n",
              " 'enjoy': <gensim.models.keyedvectors.Vocab at 0x7f93d0ca1dd0>,\n",
              " 'quick': <gensim.models.keyedvectors.Vocab at 0x7f93d0ca1e10>,\n",
              " 'breakfast': <gensim.models.keyedvectors.Vocab at 0x7f93d0ca1e50>,\n",
              " 'lunch': <gensim.models.keyedvectors.Vocab at 0x7f93d0ca1e90>,\n",
              " 'snack': <gensim.models.keyedvectors.Vocab at 0x7f93d0ca1ed0>,\n",
              " 'mornings': <gensim.models.keyedvectors.Vocab at 0x7f93d0ca1f10>,\n",
              " 'trick': <gensim.models.keyedvectors.Vocab at 0x7f93d0ca1f50>,\n",
              " 'fill': <gensim.models.keyedvectors.Vocab at 0x7f93d0ca1f90>,\n",
              " 'big': <gensim.models.keyedvectors.Vocab at 0x7f93d0ca1fd0>,\n",
              " 'alot': <gensim.models.keyedvectors.Vocab at 0x7f93d0ca3050>,\n",
              " 'energy': <gensim.models.keyedvectors.Vocab at 0x7f93d0ca3090>,\n",
              " 'subscribe': <gensim.models.keyedvectors.Vocab at 0x7f93d0ca30d0>,\n",
              " 'save': <gensim.models.keyedvectors.Vocab at 0x7f93d0ca3110>,\n",
              " 'shipments': <gensim.models.keyedvectors.Vocab at 0x7f93d0ca3150>,\n",
              " 'problem': <gensim.models.keyedvectors.Vocab at 0x7f93d0ca3190>,\n",
              " 'old': <gensim.models.keyedvectors.Vocab at 0x7f93d0ca31d0>,\n",
              " 'stale': <gensim.models.keyedvectors.Vocab at 0x7f93d0ca3210>,\n",
              " 'items': <gensim.models.keyedvectors.Vocab at 0x7f93d0ca3250>,\n",
              " 'individual': <gensim.models.keyedvectors.Vocab at 0x7f93d0ca3290>,\n",
              " 'frankly': <gensim.models.keyedvectors.Vocab at 0x7f93d0ca32d0>,\n",
              " 'worried': <gensim.models.keyedvectors.Vocab at 0x7f93d0ca3310>,\n",
              " 'line': <gensim.models.keyedvectors.Vocab at 0x7f93d0ca3350>,\n",
              " 'heard': <gensim.models.keyedvectors.Vocab at 0x7f93d0ca3390>,\n",
              " 'getting': <gensim.models.keyedvectors.Vocab at 0x7f93d0ca33d0>,\n",
              " 'expired': <gensim.models.keyedvectors.Vocab at 0x7f93d0ca3410>,\n",
              " 'came': <gensim.models.keyedvectors.Vocab at 0x7f93d0ca3450>,\n",
              " 'importantly': <gensim.models.keyedvectors.Vocab at 0x7f93d0ca3490>,\n",
              " 'filling': <gensim.models.keyedvectors.Vocab at 0x7f93d0ca34d0>,\n",
              " 'full': <gensim.models.keyedvectors.Vocab at 0x7f93d0ca3510>,\n",
              " 'glass': <gensim.models.keyedvectors.Vocab at 0x7f93d0ca3550>,\n",
              " 'healthy': <gensim.models.keyedvectors.Vocab at 0x7f93d0ca3590>,\n",
              " 'unfortunate': <gensim.models.keyedvectors.Vocab at 0x7f93d0ca35d0>,\n",
              " 'ate': <gensim.models.keyedvectors.Vocab at 0x7f93d0ca3610>,\n",
              " 'impressive': <gensim.models.keyedvectors.Vocab at 0x7f93d0ca3650>,\n",
              " 'oats': <gensim.models.keyedvectors.Vocab at 0x7f93d0ca3690>,\n",
              " 'raisins': <gensim.models.keyedvectors.Vocab at 0x7f93d0ca36d0>,\n",
              " 'side': <gensim.models.keyedvectors.Vocab at 0x7f93d0ca3710>,\n",
              " 'peanut': <gensim.models.keyedvectors.Vocab at 0x7f93d0ca3750>,\n",
              " 'carb': <gensim.models.keyedvectors.Vocab at 0x7f93d0ca3790>,\n",
              " 'content': <gensim.models.keyedvectors.Vocab at 0x7f93d0ca37d0>,\n",
              " 'healthier': <gensim.models.keyedvectors.Vocab at 0x7f93d0ca3810>,\n",
              " 'granola': <gensim.models.keyedvectors.Vocab at 0x7f93d0ca3850>,\n",
              " 'opinion': <gensim.models.keyedvectors.Vocab at 0x7f93d0ca3890>,\n",
              " 'wo': <gensim.models.keyedvectors.Vocab at 0x7f93d0ca38d0>,\n",
              " 'watch': <gensim.models.keyedvectors.Vocab at 0x7f93d0ca3910>,\n",
              " 'diabetic': <gensim.models.keyedvectors.Vocab at 0x7f93d0ca3950>,\n",
              " 'result': <gensim.models.keyedvectors.Vocab at 0x7f93d0ca3990>,\n",
              " 'low': <gensim.models.keyedvectors.Vocab at 0x7f93d0ca39d0>,\n",
              " 'blood': <gensim.models.keyedvectors.Vocab at 0x7f93d0ca3a10>,\n",
              " 'exercise': <gensim.models.keyedvectors.Vocab at 0x7f93d0ca3a50>,\n",
              " 'ride': <gensim.models.keyedvectors.Vocab at 0x7f93d0ca3a90>,\n",
              " 'carry': <gensim.models.keyedvectors.Vocab at 0x7f93d0ca3ad0>,\n",
              " 'emergency': <gensim.models.keyedvectors.Vocab at 0x7f93d0ca3b10>,\n",
              " 'continue': <gensim.models.keyedvectors.Vocab at 0x7f93d0ca3b50>,\n",
              " 'raise': <gensim.models.keyedvectors.Vocab at 0x7f93d0ca3b90>,\n",
              " 'cardboard': <gensim.models.keyedvectors.Vocab at 0x7f93d0ca3bd0>,\n",
              " 'then': <gensim.models.keyedvectors.Vocab at 0x7f93d0ca3c10>,\n",
              " 'helping': <gensim.models.keyedvectors.Vocab at 0x7f93d0ca3c50>,\n",
              " 'contain': <gensim.models.keyedvectors.Vocab at 0x7f93d0ca3c90>,\n",
              " 'calories': <gensim.models.keyedvectors.Vocab at 0x7f93d0ca3cd0>,\n",
              " 'boost': <gensim.models.keyedvectors.Vocab at 0x7f93d0ca3d10>,\n",
              " 'carried': <gensim.models.keyedvectors.Vocab at 0x7f93d0ca3d50>,\n",
              " 'travel': <gensim.models.keyedvectors.Vocab at 0x7f93d0ca3d90>,\n",
              " 'meals': <gensim.models.keyedvectors.Vocab at 0x7f93d0ca3dd0>,\n",
              " 'oatmeal': <gensim.models.keyedvectors.Vocab at 0x7f93d0ca3e10>,\n",
              " 'raisin': <gensim.models.keyedvectors.Vocab at 0x7f93d0ca3e50>,\n",
              " 'cookie': <gensim.models.keyedvectors.Vocab at 0x7f93d0ca3e90>,\n",
              " '*': <gensim.models.keyedvectors.Vocab at 0x7f93d0ca3ed0>,\n",
              " '250': <gensim.models.keyedvectors.Vocab at 0x7f93d0ca3f10>,\n",
              " 'fat': <gensim.models.keyedvectors.Vocab at 0x7f93d0ca3f50>,\n",
              " 'total': <gensim.models.keyedvectors.Vocab at 0x7f93d0ca3f90>,\n",
              " 'grams': <gensim.models.keyedvectors.Vocab at 0x7f93d0ca3fd0>,\n",
              " 'trans': <gensim.models.keyedvectors.Vocab at 0x7f93d0ca6050>,\n",
              " '0': <gensim.models.keyedvectors.Vocab at 0x7f93d0ca6090>,\n",
              " 'cholesterol': <gensim.models.keyedvectors.Vocab at 0x7f93d0ca60d0>,\n",
              " 'sodium': <gensim.models.keyedvectors.Vocab at 0x7f93d0ca6110>,\n",
              " '140': <gensim.models.keyedvectors.Vocab at 0x7f93d0ca6150>,\n",
              " 'mg': <gensim.models.keyedvectors.Vocab at 0x7f93d0ca6190>,\n",
              " 'potassium': <gensim.models.keyedvectors.Vocab at 0x7f93d0ca61d0>,\n",
              " '200': <gensim.models.keyedvectors.Vocab at 0x7f93d0ca6210>,\n",
              " 'carbohydrates': <gensim.models.keyedvectors.Vocab at 0x7f93d0ca6250>,\n",
              " 'dietary': <gensim.models.keyedvectors.Vocab at 0x7f93d0ca6290>,\n",
              " 'fiber': <gensim.models.keyedvectors.Vocab at 0x7f93d0ca62d0>,\n",
              " '22': <gensim.models.keyedvectors.Vocab at 0x7f93d0ca6310>,\n",
              " 'protein': <gensim.models.keyedvectors.Vocab at 0x7f93d0ca6350>,\n",
              " '10': <gensim.models.keyedvectors.Vocab at 0x7f93d0ca6390>,\n",
              " 'includes': <gensim.models.keyedvectors.Vocab at 0x7f93d0ca63d0>,\n",
              " 'vitamins': <gensim.models.keyedvectors.Vocab at 0x7f93d0ca6410>,\n",
              " 'c': <gensim.models.keyedvectors.Vocab at 0x7f93d0ca6450>,\n",
              " 'b6': <gensim.models.keyedvectors.Vocab at 0x7f93d0ca6490>,\n",
              " 'calcium': <gensim.models.keyedvectors.Vocab at 0x7f93d0ca64d0>,\n",
              " 'iron': <gensim.models.keyedvectors.Vocab at 0x7f93d0ca6510>,\n",
              " 'thiamin': <gensim.models.keyedvectors.Vocab at 0x7f93d0ca6550>,\n",
              " 'riboflavin': <gensim.models.keyedvectors.Vocab at 0x7f93d0ca6590>,\n",
              " 'sold': <gensim.models.keyedvectors.Vocab at 0x7f93d0ca65d0>,\n",
              " 'posted': <gensim.models.keyedvectors.Vocab at 0x7f93d0ca6610>,\n",
              " 'nutrition': <gensim.models.keyedvectors.Vocab at 0x7f93d0ca6650>,\n",
              " 'check': <gensim.models.keyedvectors.Vocab at 0x7f93d0ca6690>,\n",
              " 'allergies': <gensim.models.keyedvectors.Vocab at 0x7f93d0ca66d0>,\n",
              " 'down': <gensim.models.keyedvectors.Vocab at 0x7f93d0ca6710>,\n",
              " 'example': <gensim.models.keyedvectors.Vocab at 0x7f93d0ca6750>,\n",
              " 'gets': <gensim.models.keyedvectors.Vocab at 0x7f93d0ca6790>,\n",
              " 'icing': <gensim.models.keyedvectors.Vocab at 0x7f93d0ca67d0>,\n",
              " 'bottom': <gensim.models.keyedvectors.Vocab at 0x7f93d0ca6810>,\n",
              " 'soft': <gensim.models.keyedvectors.Vocab at 0x7f93d0ca6850>,\n",
              " 'messy': <gensim.models.keyedvectors.Vocab at 0x7f93d0ca6890>,\n",
              " 'wrapper': <gensim.models.keyedvectors.Vocab at 0x7f93d0ca68d0>,\n",
              " 'claims': <gensim.models.keyedvectors.Vocab at 0x7f93d0ca6910>,\n",
              " 'sports': <gensim.models.keyedvectors.Vocab at 0x7f93d0ca6950>,\n",
              " 'matter': <gensim.models.keyedvectors.Vocab at 0x7f93d0ca6990>,\n",
              " 'call': <gensim.models.keyedvectors.Vocab at 0x7f93d0ca69d0>,\n",
              " 'place': <gensim.models.keyedvectors.Vocab at 0x7f93d0ca6a10>,\n",
              " 'program': <gensim.models.keyedvectors.Vocab at 0x7f93d0ca6a50>,\n",
              " 'between': <gensim.models.keyedvectors.Vocab at 0x7f93d0ca6a90>,\n",
              " 'personal': <gensim.models.keyedvectors.Vocab at 0x7f93d0ca6ad0>,\n",
              " 'average': <gensim.models.keyedvectors.Vocab at 0x7f93d0ca6b10>,\n",
              " 'tasting': <gensim.models.keyedvectors.Vocab at 0x7f93d0ca6b50>,\n",
              " 'name': <gensim.models.keyedvectors.Vocab at 0x7f93d0ca6b90>,\n",
              " 'preference': <gensim.models.keyedvectors.Vocab at 0x7f93d0ca6bd0>,\n",
              " 'barely': <gensim.models.keyedvectors.Vocab at 0x7f93d0ca6c10>,\n",
              " 'common': <gensim.models.keyedvectors.Vocab at 0x7f93d0ca6c50>,\n",
              " 'similar': <gensim.models.keyedvectors.Vocab at 0x7f93d0ca6c90>,\n",
              " 'compare': <gensim.models.keyedvectors.Vocab at 0x7f93d0ca6cd0>,\n",
              " 'real': <gensim.models.keyedvectors.Vocab at 0x7f93d0ca6d10>,\n",
              " 'apple': <gensim.models.keyedvectors.Vocab at 0x7f93d0ca6d50>,\n",
              " 'crisp': <gensim.models.keyedvectors.Vocab at 0x7f93d0ca6d90>,\n",
              " 'convenient': <gensim.models.keyedvectors.Vocab at 0x7f93d0ca6dd0>,\n",
              " 'cinnamon': <gensim.models.keyedvectors.Vocab at 0x7f93d0ca6e10>,\n",
              " 'due': <gensim.models.keyedvectors.Vocab at 0x7f93d0ca6e50>,\n",
              " 'part': <gensim.models.keyedvectors.Vocab at 0x7f93d0ca6e90>,\n",
              " 'suspect': <gensim.models.keyedvectors.Vocab at 0x7f93d0ca6ed0>,\n",
              " 'fact': <gensim.models.keyedvectors.Vocab at 0x7f93d0ca6f10>,\n",
              " 'cane': <gensim.models.keyedvectors.Vocab at 0x7f93d0ca6f50>,\n",
              " '--': <gensim.models.keyedvectors.Vocab at 0x7f93d0ca6f90>,\n",
              " 'including': <gensim.models.keyedvectors.Vocab at 0x7f93d0ca6fd0>,\n",
              " 'fructose': <gensim.models.keyedvectors.Vocab at 0x7f93d0ca9050>,\n",
              " 'fruit': <gensim.models.keyedvectors.Vocab at 0x7f93d0ca9090>,\n",
              " 'juices': <gensim.models.keyedvectors.Vocab at 0x7f93d0ca90d0>,\n",
              " 'giving': <gensim.models.keyedvectors.Vocab at 0x7f93d0ca9110>,\n",
              " 'cloying': <gensim.models.keyedvectors.Vocab at 0x7f93d0ca9150>,\n",
              " 'company': <gensim.models.keyedvectors.Vocab at 0x7f93d0ca9190>,\n",
              " 'known': <gensim.models.keyedvectors.Vocab at 0x7f93d0ca91d0>,\n",
              " 'generally': <gensim.models.keyedvectors.Vocab at 0x7f93d0ca9210>,\n",
              " 'face': <gensim.models.keyedvectors.Vocab at 0x7f93d0ca9250>,\n",
              " 'recommends': <gensim.models.keyedvectors.Vocab at 0x7f93d0ca9290>,\n",
              " 'consuming': <gensim.models.keyedvectors.Vocab at 0x7f93d0ca92d0>,\n",
              " 'water': <gensim.models.keyedvectors.Vocab at 0x7f93d0ca9310>,\n",
              " 'aid': <gensim.models.keyedvectors.Vocab at 0x7f93d0ca9350>,\n",
              " 'nutrients': <gensim.models.keyedvectors.Vocab at 0x7f93d0ca9390>,\n",
              " 'feeling': <gensim.models.keyedvectors.Vocab at 0x7f93d0ca93d0>,\n",
              " 'snacks': <gensim.models.keyedvectors.Vocab at 0x7f93d0ca9410>,\n",
              " 'type': <gensim.models.keyedvectors.Vocab at 0x7f93d0ca9450>,\n",
              " 'listed': <gensim.models.keyedvectors.Vocab at 0x7f93d0ca9490>,\n",
              " 'nutritional': <gensim.models.keyedvectors.Vocab at 0x7f93d0ca94d0>,\n",
              " 'information': <gensim.models.keyedvectors.Vocab at 0x7f93d0ca9510>,\n",
              " 'web': <gensim.models.keyedvectors.Vocab at 0x7f93d0ca9550>,\n",
              " 'site': <gensim.models.keyedvectors.Vocab at 0x7f93d0ca9590>,\n",
              " 'percent': <gensim.models.keyedvectors.Vocab at 0x7f93d0ca95d0>,\n",
              " 'daily': <gensim.models.keyedvectors.Vocab at 0x7f93d0ca9610>,\n",
              " 'values': <gensim.models.keyedvectors.Vocab at 0x7f93d0ca9650>,\n",
              " 'dv': <gensim.models.keyedvectors.Vocab at 0x7f93d0ca9690>,\n",
              " 'based': <gensim.models.keyedvectors.Vocab at 0x7f93d0ca96d0>,\n",
              " 'calorie': <gensim.models.keyedvectors.Vocab at 0x7f93d0ca9710>,\n",
              " 'serving': <gensim.models.keyedvectors.Vocab at 0x7f93d0ca9750>,\n",
              " '240': <gensim.models.keyedvectors.Vocab at 0x7f93d0ca9790>,\n",
              " '35': <gensim.models.keyedvectors.Vocab at 0x7f93d0ca97d0>,\n",
              " '6': <gensim.models.keyedvectors.Vocab at 0x7f93d0ca9810>,\n",
              " '%': <gensim.models.keyedvectors.Vocab at 0x7f93d0ca9850>,\n",
              " 'g': <gensim.models.keyedvectors.Vocab at 0x7f93d0ca9890>,\n",
              " 'none': <gensim.models.keyedvectors.Vocab at 0x7f93d0ca98d0>,\n",
              " '=': <gensim.models.keyedvectors.Vocab at 0x7f93d0ca9910>,\n",
              " '14': <gensim.models.keyedvectors.Vocab at 0x7f93d0ca9950>,\n",
              " '5g': <gensim.models.keyedvectors.Vocab at 0x7f93d0ca9990>,\n",
              " '20': <gensim.models.keyedvectors.Vocab at 0x7f93d0ca99d0>,\n",
              " '20g': <gensim.models.keyedvectors.Vocab at 0x7f93d0ca9a10>,\n",
              " 'anymore': <gensim.models.keyedvectors.Vocab at 0x7f93d0ca9a50>,\n",
              " '10g': <gensim.models.keyedvectors.Vocab at 0x7f93d0ca9a90>,\n",
              " '16': <gensim.models.keyedvectors.Vocab at 0x7f93d0ca9ad0>,\n",
              " 'minerals': <gensim.models.keyedvectors.Vocab at 0x7f93d0ca9b10>,\n",
              " 'vitamin': <gensim.models.keyedvectors.Vocab at 0x7f93d0ca9b50>,\n",
              " '80': <gensim.models.keyedvectors.Vocab at 0x7f93d0ca9b90>,\n",
              " '25': <gensim.models.keyedvectors.Vocab at 0x7f93d0ca9bd0>,\n",
              " 'e': <gensim.models.keyedvectors.Vocab at 0x7f93d0ca9c10>,\n",
              " 'niacin': <gensim.models.keyedvectors.Vocab at 0x7f93d0ca9c50>,\n",
              " 'b12': <gensim.models.keyedvectors.Vocab at 0x7f93d0ca9c90>,\n",
              " 'acid': <gensim.models.keyedvectors.Vocab at 0x7f93d0ca9cd0>,\n",
              " 'magnesium': <gensim.models.keyedvectors.Vocab at 0x7f93d0ca9d10>,\n",
              " 'zinc': <gensim.models.keyedvectors.Vocab at 0x7f93d0ca9d50>,\n",
              " 'k': <gensim.models.keyedvectors.Vocab at 0x7f93d0ca9d90>,\n",
              " 'brown': <gensim.models.keyedvectors.Vocab at 0x7f93d0ca9dd0>,\n",
              " 'syrup': <gensim.models.keyedvectors.Vocab at 0x7f93d0ca9e10>,\n",
              " 'crisps': <gensim.models.keyedvectors.Vocab at 0x7f93d0ca9e50>,\n",
              " 'milled': <gensim.models.keyedvectors.Vocab at 0x7f93d0ca9e90>,\n",
              " 'barley': <gensim.models.keyedvectors.Vocab at 0x7f93d0ca9ed0>,\n",
              " 'malt': <gensim.models.keyedvectors.Vocab at 0x7f93d0ca9f10>,\n",
              " 'dried': <gensim.models.keyedvectors.Vocab at 0x7f93d0ca9f50>,\n",
              " 'apples': <gensim.models.keyedvectors.Vocab at 0x7f93d0ca9f90>,\n",
              " 'evaporated': <gensim.models.keyedvectors.Vocab at 0x7f93d0ca9fd0>,\n",
              " 'juice': <gensim.models.keyedvectors.Vocab at 0x7f93d0cac050>,\n",
              " 'roasted': <gensim.models.keyedvectors.Vocab at 0x7f93d0cac090>,\n",
              " 'soy': <gensim.models.keyedvectors.Vocab at 0x7f93d0cac0d0>,\n",
              " 'beans': <gensim.models.keyedvectors.Vocab at 0x7f93d0cac110>,\n",
              " 'almond': <gensim.models.keyedvectors.Vocab at 0x7f93d0cac150>,\n",
              " 'butter': <gensim.models.keyedvectors.Vocab at 0x7f93d0cac190>,\n",
              " 'honey': <gensim.models.keyedvectors.Vocab at 0x7f93d0cac1d0>,\n",
              " 'pear': <gensim.models.keyedvectors.Vocab at 0x7f93d0cac210>,\n",
              " 'grape': <gensim.models.keyedvectors.Vocab at 0x7f93d0cac250>,\n",
              " 'concentrate': <gensim.models.keyedvectors.Vocab at 0x7f93d0cac290>,\n",
              " 'flour': <gensim.models.keyedvectors.Vocab at 0x7f93d0cac2d0>,\n",
              " 'isolate': <gensim.models.keyedvectors.Vocab at 0x7f93d0cac310>,\n",
              " 'nonfat': <gensim.models.keyedvectors.Vocab at 0x7f93d0cac350>,\n",
              " 'nut': <gensim.models.keyedvectors.Vocab at 0x7f93d0cac390>,\n",
              " 'equipment': <gensim.models.keyedvectors.Vocab at 0x7f93d0cac3d0>,\n",
              " 'processed': <gensim.models.keyedvectors.Vocab at 0x7f93d0cac410>,\n",
              " 'peanuts': <gensim.models.keyedvectors.Vocab at 0x7f93d0cac450>,\n",
              " 'managed': <gensim.models.keyedvectors.Vocab at 0x7f93d0cac490>,\n",
              " 'hungry': <gensim.models.keyedvectors.Vocab at 0x7f93d0cac4d0>,\n",
              " 'until': <gensim.models.keyedvectors.Vocab at 0x7f93d0cac510>,\n",
              " 'least': <gensim.models.keyedvectors.Vocab at 0x7f93d0cac550>,\n",
              " 'three': <gensim.models.keyedvectors.Vocab at 0x7f93d0cac590>,\n",
              " 'hours': <gensim.models.keyedvectors.Vocab at 0x7f93d0cac5d0>,\n",
              " '.the': <gensim.models.keyedvectors.Vocab at 0x7f93d0cac610>,\n",
              " 'main': <gensim.models.keyedvectors.Vocab at 0x7f93d0cac650>,\n",
              " 'appearance': <gensim.models.keyedvectors.Vocab at 0x7f93d0cac690>,\n",
              " 'surprise': <gensim.models.keyedvectors.Vocab at 0x7f93d0cac6d0>,\n",
              " 'hit': <gensim.models.keyedvectors.Vocab at 0x7f93d0cac710>,\n",
              " 'chip': <gensim.models.keyedvectors.Vocab at 0x7f93d0cac750>,\n",
              " 'chewy': <gensim.models.keyedvectors.Vocab at 0x7f93d0cac790>,\n",
              " 'crunchy': <gensim.models.keyedvectors.Vocab at 0x7f93d0cac7d0>,\n",
              " 'grains': <gensim.models.keyedvectors.Vocab at 0x7f93d0cac810>,\n",
              " 'included': <gensim.models.keyedvectors.Vocab at 0x7f93d0cac850>,\n",
              " 'sweeteners': <gensim.models.keyedvectors.Vocab at 0x7f93d0cac890>,\n",
              " 'chips': <gensim.models.keyedvectors.Vocab at 0x7f93d0cac8d0>,\n",
              " 'lots': <gensim.models.keyedvectors.Vocab at 0x7f93d0cac910>,\n",
              " '18': <gensim.models.keyedvectors.Vocab at 0x7f93d0cac950>,\n",
              " 'rest': <gensim.models.keyedvectors.Vocab at 0x7f93d0cac990>,\n",
              " 'somewhat': <gensim.models.keyedvectors.Vocab at 0x7f93d0cac9d0>,\n",
              " 'obvious': <gensim.models.keyedvectors.Vocab at 0x7f93d0caca10>,\n",
              " 'by': <gensim.models.keyedvectors.Vocab at 0x7f93d0caca50>,\n",
              " 'note': <gensim.models.keyedvectors.Vocab at 0x7f93d0caca90>,\n",
              " 'packs': <gensim.models.keyedvectors.Vocab at 0x7f93d0cacad0>,\n",
              " 'replacement': <gensim.models.keyedvectors.Vocab at 0x7f93d0cacb10>,\n",
              " 'opposed': <gensim.models.keyedvectors.Vocab at 0x7f93d0cacb50>,\n",
              " 'hiking': <gensim.models.keyedvectors.Vocab at 0x7f93d0cacb90>,\n",
              " 'probably': <gensim.models.keyedvectors.Vocab at 0x7f93d0cacbd0>,\n",
              " 'consider': <gensim.models.keyedvectors.Vocab at 0x7f93d0cacc10>,\n",
              " 'kept': <gensim.models.keyedvectors.Vocab at 0x7f93d0cacc50>,\n",
              " '2012': <gensim.models.keyedvectors.Vocab at 0x7f93d0cacc90>,\n",
              " 'number': <gensim.models.keyedvectors.Vocab at 0x7f93d0caccd0>,\n",
              " 'suffer': <gensim.models.keyedvectors.Vocab at 0x7f93d0cacd10>,\n",
              " 'usually': <gensim.models.keyedvectors.Vocab at 0x7f93d0cacd50>,\n",
              " 'end': <gensim.models.keyedvectors.Vocab at 0x7f93d0cacd90>,\n",
              " 'leaving': <gensim.models.keyedvectors.Vocab at 0x7f93d0cacdd0>,\n",
              " 'gritty': <gensim.models.keyedvectors.Vocab at 0x7f93d0cace10>,\n",
              " 'aftertaste': <gensim.models.keyedvectors.Vocab at 0x7f93d0cace50>,\n",
              " 'mouth': <gensim.models.keyedvectors.Vocab at 0x7f93d0cace90>,\n",
              " 'morning': <gensim.models.keyedvectors.Vocab at 0x7f93d0caced0>,\n",
              " 'finally': <gensim.models.keyedvectors.Vocab at 0x7f93d0cacf10>,\n",
              " 'stumbled': <gensim.models.keyedvectors.Vocab at 0x7f93d0cacf50>,\n",
              " 'upon': <gensim.models.keyedvectors.Vocab at 0x7f93d0cacf90>,\n",
              " 'hooked': <gensim.models.keyedvectors.Vocab at 0x7f93d0cacfd0>,\n",
              " 'crispness': <gensim.models.keyedvectors.Vocab at 0x7f93d0cae050>,\n",
              " 'firm': <gensim.models.keyedvectors.Vocab at 0x7f93d0cae090>,\n",
              " 'kill': <gensim.models.keyedvectors.Vocab at 0x7f93d0cae0d0>,\n",
              " 'cravings': <gensim.models.keyedvectors.Vocab at 0x7f93d0cae110>,\n",
              " 'provide': <gensim.models.keyedvectors.Vocab at 0x7f93d0cae150>,\n",
              " 'push': <gensim.models.keyedvectors.Vocab at 0x7f93d0cae190>,\n",
              " 'chalky': <gensim.models.keyedvectors.Vocab at 0x7f93d0cae1d0>,\n",
              " 'mostly': <gensim.models.keyedvectors.Vocab at 0x7f93d0cae210>,\n",
              " 'awhile': <gensim.models.keyedvectors.Vocab at 0x7f93d0cae250>,\n",
              " 'exactly': <gensim.models.keyedvectors.Vocab at 0x7f93d0cae290>,\n",
              " 'needed': <gensim.models.keyedvectors.Vocab at 0x7f93d0cae2d0>,\n",
              " \"'\": <gensim.models.keyedvectors.Vocab at 0x7f93d0cae310>,\n",
              " 'amazing': <gensim.models.keyedvectors.Vocab at 0x7f93d0cae350>,\n",
              " 'licorice': <gensim.models.keyedvectors.Vocab at 0x7f93d0cae390>,\n",
              " 'peppermint': <gensim.models.keyedvectors.Vocab at 0x7f93d0cae3d0>,\n",
              " 'ginger': <gensim.models.keyedvectors.Vocab at 0x7f93d0cae410>,\n",
              " 'drinkable': <gensim.models.keyedvectors.Vocab at 0x7f93d0cae450>,\n",
              " 'benefits': <gensim.models.keyedvectors.Vocab at 0x7f93d0cae490>,\n",
              " 'incredible': <gensim.models.keyedvectors.Vocab at 0x7f93d0cae4d0>,\n",
              " 'california': <gensim.models.keyedvectors.Vocab at 0x7f93d0cae510>,\n",
              " 'healing': <gensim.models.keyedvectors.Vocab at 0x7f93d0cae550>,\n",
              " 'herbs': <gensim.models.keyedvectors.Vocab at 0x7f93d0cae590>,\n",
              " 'come': <gensim.models.keyedvectors.Vocab at 0x7f93d0cae5d0>,\n",
              " 'garden': <gensim.models.keyedvectors.Vocab at 0x7f93d0cae610>,\n",
              " 'against': <gensim.models.keyedvectors.Vocab at 0x7f93d0cae650>,\n",
              " 'yogi': <gensim.models.keyedvectors.Vocab at 0x7f93d0cae690>,\n",
              " 'lower': <gensim.models.keyedvectors.Vocab at 0x7f93d0cae6d0>,\n",
              " 'cost': <gensim.models.keyedvectors.Vocab at 0x7f93d0cae710>,\n",
              " 'prefer': <gensim.models.keyedvectors.Vocab at 0x7f93d0cae750>,\n",
              " 'effective': <gensim.models.keyedvectors.Vocab at 0x7f93d0cae790>,\n",
              " 'cough': <gensim.models.keyedvectors.Vocab at 0x7f93d0cae7d0>,\n",
              " 'wife': <gensim.models.keyedvectors.Vocab at 0x7f93d0cae810>,\n",
              " 'drinks': <gensim.models.keyedvectors.Vocab at 0x7f93d0cae850>,\n",
              " 'cup': <gensim.models.keyedvectors.Vocab at 0x7f93d0cae890>,\n",
              " 'she': <gensim.models.keyedvectors.Vocab at 0x7f93d0cae8d0>,\n",
              " 'feels': <gensim.models.keyedvectors.Vocab at 0x7f93d0cae910>,\n",
              " 'attack': <gensim.models.keyedvectors.Vocab at 0x7f93d0cae950>,\n",
              " 'coming': <gensim.models.keyedvectors.Vocab at 0x7f93d0cae990>,\n",
              " 'helps': <gensim.models.keyedvectors.Vocab at 0x7f93d0cae9d0>,\n",
              " 'her': <gensim.models.keyedvectors.Vocab at 0x7f93d0caea10>,\n",
              " 'drinking': <gensim.models.keyedvectors.Vocab at 0x7f93d0caea50>,\n",
              " 'effects': <gensim.models.keyedvectors.Vocab at 0x7f93d0caea90>,\n",
              " 'helped': <gensim.models.keyedvectors.Vocab at 0x7f93d0caead0>,\n",
              " 'teas': <gensim.models.keyedvectors.Vocab at 0x7f93d0caeb10>,\n",
              " 'his': <gensim.models.keyedvectors.Vocab at 0x7f93d0caeb50>,\n",
              " 'blend': <gensim.models.keyedvectors.Vocab at 0x7f93d0caeb90>,\n",
              " 'wonderful': <gensim.models.keyedvectors.Vocab at 0x7f93d0caebd0>,\n",
              " 'myself': <gensim.models.keyedvectors.Vocab at 0x7f93d0caec10>,\n",
              " 'medical': <gensim.models.keyedvectors.Vocab at 0x7f93d0caec50>,\n",
              " 'advice': <gensim.models.keyedvectors.Vocab at 0x7f93d0caec90>,\n",
              " 'medicinal': <gensim.models.keyedvectors.Vocab at 0x7f93d0caecd0>,\n",
              " 'aspects': <gensim.models.keyedvectors.Vocab at 0x7f93d0caed10>,\n",
              " 'downright': <gensim.models.keyedvectors.Vocab at 0x7f93d0caed50>,\n",
              " 'scrumptious': <gensim.models.keyedvectors.Vocab at 0x7f93d0caed90>,\n",
              " 'root': <gensim.models.keyedvectors.Vocab at 0x7f93d0caedd0>,\n",
              " 'pressure': <gensim.models.keyedvectors.Vocab at 0x7f93d0caee10>,\n",
              " 'box': <gensim.models.keyedvectors.Vocab at 0x7f93d0caee50>,\n",
              " 'cups': <gensim.models.keyedvectors.Vocab at 0x7f93d0caee90>,\n",
              " 'touch': <gensim.models.keyedvectors.Vocab at 0x7f93d0caeed0>,\n",
              " 'steep': <gensim.models.keyedvectors.Vocab at 0x7f93d0caef10>,\n",
              " 'minutes': <gensim.models.keyedvectors.Vocab at 0x7f93d0caef50>,\n",
              " 'far': <gensim.models.keyedvectors.Vocab at 0x7f93d0caef90>,\n",
              " 'smelling': <gensim.models.keyedvectors.Vocab at 0x7f93d0caefd0>,\n",
              " ...}"
            ]
          },
          "execution_count": 50,
          "metadata": {},
          "output_type": "execute_result"
        }
      ],
      "source": [
        "word2vec_model.wv.vocab"
      ]
    },
    {
      "cell_type": "code",
      "execution_count": 51,
      "metadata": {},
      "outputs": [
        {
          "ename": "KeyError",
          "evalue": "\"word '[START]' not in vocabulary\"",
          "output_type": "error",
          "traceback": [
            "\u001b[0;31m---------------------------------------------------------------------------\u001b[0m",
            "\u001b[0;31mKeyError\u001b[0m                                  Traceback (most recent call last)",
            "\u001b[0;32m/tmp/ipykernel_19916/3423787770.py\u001b[0m in \u001b[0;36m<module>\u001b[0;34m\u001b[0m\n\u001b[0;32m----> 1\u001b[0;31m \u001b[0mword2vec_model\u001b[0m\u001b[0;34m.\u001b[0m\u001b[0mwv\u001b[0m\u001b[0;34m.\u001b[0m\u001b[0mget_vector\u001b[0m\u001b[0;34m(\u001b[0m\u001b[0;34m'[START]'\u001b[0m\u001b[0;34m)\u001b[0m\u001b[0;34m\u001b[0m\u001b[0;34m\u001b[0m\u001b[0m\n\u001b[0m",
            "\u001b[0;32m~/anaconda3/envs/colabenv/lib/python3.7/site-packages/gensim/models/keyedvectors.py\u001b[0m in \u001b[0;36mget_vector\u001b[0;34m(self, word)\u001b[0m\n\u001b[1;32m    469\u001b[0m \u001b[0;34m\u001b[0m\u001b[0m\n\u001b[1;32m    470\u001b[0m     \u001b[0;32mdef\u001b[0m \u001b[0mget_vector\u001b[0m\u001b[0;34m(\u001b[0m\u001b[0mself\u001b[0m\u001b[0;34m,\u001b[0m \u001b[0mword\u001b[0m\u001b[0;34m)\u001b[0m\u001b[0;34m:\u001b[0m\u001b[0;34m\u001b[0m\u001b[0;34m\u001b[0m\u001b[0m\n\u001b[0;32m--> 471\u001b[0;31m         \u001b[0;32mreturn\u001b[0m \u001b[0mself\u001b[0m\u001b[0;34m.\u001b[0m\u001b[0mword_vec\u001b[0m\u001b[0;34m(\u001b[0m\u001b[0mword\u001b[0m\u001b[0;34m)\u001b[0m\u001b[0;34m\u001b[0m\u001b[0;34m\u001b[0m\u001b[0m\n\u001b[0m\u001b[1;32m    472\u001b[0m \u001b[0;34m\u001b[0m\u001b[0m\n\u001b[1;32m    473\u001b[0m     \u001b[0;32mdef\u001b[0m \u001b[0mwords_closer_than\u001b[0m\u001b[0;34m(\u001b[0m\u001b[0mself\u001b[0m\u001b[0;34m,\u001b[0m \u001b[0mw1\u001b[0m\u001b[0;34m,\u001b[0m \u001b[0mw2\u001b[0m\u001b[0;34m)\u001b[0m\u001b[0;34m:\u001b[0m\u001b[0;34m\u001b[0m\u001b[0;34m\u001b[0m\u001b[0m\n",
            "\u001b[0;32m~/anaconda3/envs/colabenv/lib/python3.7/site-packages/gensim/models/keyedvectors.py\u001b[0m in \u001b[0;36mword_vec\u001b[0;34m(self, word, use_norm)\u001b[0m\n\u001b[1;32m    466\u001b[0m             \u001b[0;32mreturn\u001b[0m \u001b[0mresult\u001b[0m\u001b[0;34m\u001b[0m\u001b[0;34m\u001b[0m\u001b[0m\n\u001b[1;32m    467\u001b[0m         \u001b[0;32melse\u001b[0m\u001b[0;34m:\u001b[0m\u001b[0;34m\u001b[0m\u001b[0;34m\u001b[0m\u001b[0m\n\u001b[0;32m--> 468\u001b[0;31m             \u001b[0;32mraise\u001b[0m \u001b[0mKeyError\u001b[0m\u001b[0;34m(\u001b[0m\u001b[0;34m\"word '%s' not in vocabulary\"\u001b[0m \u001b[0;34m%\u001b[0m \u001b[0mword\u001b[0m\u001b[0;34m)\u001b[0m\u001b[0;34m\u001b[0m\u001b[0;34m\u001b[0m\u001b[0m\n\u001b[0m\u001b[1;32m    469\u001b[0m \u001b[0;34m\u001b[0m\u001b[0m\n\u001b[1;32m    470\u001b[0m     \u001b[0;32mdef\u001b[0m \u001b[0mget_vector\u001b[0m\u001b[0;34m(\u001b[0m\u001b[0mself\u001b[0m\u001b[0;34m,\u001b[0m \u001b[0mword\u001b[0m\u001b[0;34m)\u001b[0m\u001b[0;34m:\u001b[0m\u001b[0;34m\u001b[0m\u001b[0;34m\u001b[0m\u001b[0m\n",
            "\u001b[0;31mKeyError\u001b[0m: \"word '[START]' not in vocabulary\""
          ]
        }
      ],
      "source": [
        "word2vec_model.wv.get_vector('[START]')"
      ]
    },
    {
      "cell_type": "markdown",
      "metadata": {
        "id": "VZ_V0IYdnB2s"
      },
      "source": [
        "# **Text Preprocessing**"
      ]
    },
    {
      "cell_type": "code",
      "execution_count": 40,
      "metadata": {
        "id": "PP90xBH8aZ2b"
      },
      "outputs": [],
      "source": [
        "def tf_lower_and_split_punct(text):\n",
        "  # Split accecented characters.\n",
        "    #text = tf_text.normalize_utf8(text, 'NFKD')\n",
        "  text = tf_text.normalize_utf8(text, 'NFKD')\n",
        "  text = tf.strings.lower(text)\n",
        "  # Keep space, a to z, and select punctuation.\n",
        "  text = tf.strings.regex_replace(text, '[^ a-z.?!,¿]', '')\n",
        "  # Add spaces around punctuation.\n",
        "  text = tf.strings.regex_replace(text, '[.?!,¿]', r' \\0 ')\n",
        "  # Strip whitespace.\n",
        "  text = tf.strings.strip(text)\n",
        "\n",
        "  #text = tf.strings.join(['[START]', text, '[END]'], separator=' ')\n",
        "\n",
        "  #sos and eos are not used in docs but we need to add them manually in the decoder\n",
        "\n",
        "  return text"
      ]
    },
    {
      "cell_type": "markdown",
      "metadata": {
        "id": "PVT3Ur54LsIz"
      },
      "source": [
        "## **Text Vectorization**"
      ]
    },
    {
      "cell_type": "markdown",
      "metadata": {
        "id": "N4QVJNF8EGGe"
      },
      "source": [
        "conversion of string input to sequences of tokens"
      ]
    },
    {
      "cell_type": "code",
      "execution_count": 41,
      "metadata": {
        "id": "Wgb-wnWWozZ3"
      },
      "outputs": [
        {
          "name": "stdout",
          "output_type": "stream",
          "text": [
            "max vocab size:  7860\n"
          ]
        }
      ],
      "source": [
        "# hyperparameters\n",
        "sequence_length=20\n",
        "review_max_length=100\n",
        "max_vocab_size= len(word2vec_model.wv.vocab)\n",
        "print( \"max vocab size: \",max_vocab_size)"
      ]
    },
    {
      "cell_type": "code",
      "execution_count": 42,
      "metadata": {
        "id": "BeaTIprJ6Uz_"
      },
      "outputs": [],
      "source": [
        "# input text processor is in charge of maping word to id and vice versa\n",
        "input_text_processor = tf.keras.layers.TextVectorization(  max_tokens=max_vocab_size, standardize = tf_lower_and_split_punct,output_sequence_length=review_max_length )"
      ]
    },
    {
      "cell_type": "code",
      "execution_count": 43,
      "metadata": {},
      "outputs": [],
      "source": [
        "input_text_processor.set_vocabulary(list(word2vec_model.wv.vocab))"
      ]
    },
    {
      "cell_type": "code",
      "execution_count": 44,
      "metadata": {
        "id": "ZwtcZjLM6XCZ"
      },
      "outputs": [
        {
          "data": {
            "text/plain": [
              "['',\n",
              " '[UNK]',\n",
              " '[START]',\n",
              " '[END]',\n",
              " 'just',\n",
              " 'another',\n",
              " 'flavor',\n",
              " 'of',\n",
              " 'kit',\n",
              " 'kat',\n",
              " 'but',\n",
              " 'the',\n",
              " 'taste',\n",
              " 'is',\n",
              " 'unique']"
            ]
          },
          "execution_count": 44,
          "metadata": {},
          "output_type": "execute_result"
        }
      ],
      "source": [
        "# Here are the first 15 words from the vocabulary:\n",
        "input_text_processor.get_vocabulary()[:15]"
      ]
    },
    {
      "cell_type": "code",
      "execution_count": 45,
      "metadata": {
        "id": "V4rgLt31wx7o"
      },
      "outputs": [
        {
          "name": "stdout",
          "output_type": "stream",
          "text": [
            "vocab size(included sos and eos and unk and space) 7860\n"
          ]
        }
      ],
      "source": [
        "print(\"vocab size(included sos and eos and unk and space)\" ,len(input_text_processor.get_vocabulary()))\n",
        "# start and end tokens are added"
      ]
    },
    {
      "cell_type": "markdown",
      "metadata": {
        "id": "zlGMIsZTV2oI"
      },
      "source": [
        "* some example about how to work with input text processor"
      ]
    },
    {
      "cell_type": "code",
      "execution_count": 46,
      "metadata": {
        "id": "RAKYy-4Caqyd"
      },
      "outputs": [],
      "source": [
        "word2vec_model.wv.vocab.get('blend-ins')"
      ]
    },
    {
      "cell_type": "code",
      "execution_count": 47,
      "metadata": {
        "id": "TMil-zdMR_FJ"
      },
      "outputs": [
        {
          "data": {
            "text/plain": [
              "'i'"
            ]
          },
          "execution_count": 47,
          "metadata": {},
          "output_type": "execute_result"
        }
      ],
      "source": [
        "list(word2vec_model.wv.vocab)[24]"
      ]
    },
    {
      "cell_type": "code",
      "execution_count": 48,
      "metadata": {
        "id": "Rbn35v_Unwr1"
      },
      "outputs": [
        {
          "data": {
            "text/plain": [
              "2"
            ]
          },
          "execution_count": 48,
          "metadata": {},
          "output_type": "execute_result"
        }
      ],
      "source": [
        "input_text_processor.get_vocabulary().index('[START]')"
      ]
    },
    {
      "cell_type": "code",
      "execution_count": 49,
      "metadata": {
        "id": "LSWPZQ_tH8np"
      },
      "outputs": [
        {
          "data": {
            "text/plain": [
              "'cracked'"
            ]
          },
          "execution_count": 49,
          "metadata": {},
          "output_type": "execute_result"
        }
      ],
      "source": [
        "input_text_processor.get_vocabulary()[1240]"
      ]
    },
    {
      "cell_type": "code",
      "execution_count": 50,
      "metadata": {
        "id": "Ouk6_52DSBaW"
      },
      "outputs": [
        {
          "data": {
            "text/plain": [
              "\"I usually love these Knorr/Lipton Rice & Pasta Sides & thought the Teriyaki would 1 of my top 3 flavors (especially knowing how I love my sweet & savory flavors). Boy, was I wrong (I never know whether or not to put ? marks after this type of questions). I don't know exactly what that gross flavor is (maybe the tamarind?), but these noodles have a really weird aftertaste, in my opinion (& another reviewer's). This will not stop me from trying the rice version of the Teriyaki flavor, but I know to stay away from the noodles. Since I always like putting extra soy sauce & teriyaki sauce on my chow mein noodles, I really thought I would love these Asian ones, but surprisingly not the case.\""
            ]
          },
          "execution_count": 50,
          "metadata": {},
          "output_type": "execute_result"
        }
      ],
      "source": [
        "user_df['reviewText'][2][1]"
      ]
    },
    {
      "cell_type": "code",
      "execution_count": 51,
      "metadata": {},
      "outputs": [],
      "source": [
        "aa=tf.convert_to_tensor(\"cracked\"  )"
      ]
    },
    {
      "cell_type": "code",
      "execution_count": 52,
      "metadata": {
        "id": "32tYMa6xROeg"
      },
      "outputs": [
        {
          "data": {
            "text/plain": [
              "<tf.Tensor: shape=(100,), dtype=int64, numpy=\n",
              "array([ 4,  5,  6,  7,  8,  9, 10, 11, 12, 13, 14, 15, 16, 17, 18, 19, 11,\n",
              "       20, 21, 22, 13,  1, 13, 11, 23, 19, 24, 25, 26, 27, 16, 17, 28, 19,\n",
              "       19, 19, 19,  0,  0,  0,  0,  0,  0,  0,  0,  0,  0,  0,  0,  0,  0,\n",
              "        0,  0,  0,  0,  0,  0,  0,  0,  0,  0,  0,  0,  0,  0,  0,  0,  0,\n",
              "        0,  0,  0,  0,  0,  0,  0,  0,  0,  0,  0,  0,  0,  0,  0,  0,  0,\n",
              "        0,  0,  0,  0,  0,  0,  0,  0,  0,  0,  0,  0,  0,  0,  0])>"
            ]
          },
          "execution_count": 52,
          "metadata": {},
          "output_type": "execute_result"
        }
      ],
      "source": [
        "input_text_processor(  item_df['reviewText'][0][0]  )"
      ]
    },
    {
      "cell_type": "markdown",
      "metadata": {
        "id": "cV4PGxjttli6"
      },
      "source": [
        "## **Converting Vectors To IDs**"
      ]
    },
    {
      "cell_type": "markdown",
      "metadata": {
        "id": "6BwcnBKDxVMk"
      },
      "source": [
        "**User Documents**"
      ]
    },
    {
      "cell_type": "code",
      "execution_count": 53,
      "metadata": {
        "id": "SKZcU2qGwiGG"
      },
      "outputs": [],
      "source": [
        "user_doc=[]\n",
        "for mydoc in user_df['reviewText']:\n",
        "   user_doc.append( input_text_processor(  mydoc ))\n"
      ]
    },
    {
      "cell_type": "code",
      "execution_count": 54,
      "metadata": {
        "id": "FU_cW-H2ji3f"
      },
      "outputs": [
        {
          "data": {
            "text/plain": [
              "<tf.Tensor: shape=(5, 100), dtype=int64, numpy=\n",
              "array([[ 125,  189, 1864,  191,   47,   37,   31, 1585,  126,   57, 1413,\n",
              "         458,   37,   10,  127, 1598,   19,   24,  323,  122,    1,   15,\n",
              "         150, 1965,   37,  405,  151,   37,   10,  171,  278, 7170,   16,\n",
              "         431,    7,  189,  397, 1177,   32,  122,  633,  172,  170,  660,\n",
              "          37,  172,  170, 1177,   52,   12,   11, 1723,  935,   19,   24,\n",
              "        2393,  172,  191,   52,  602,  219,   26,  156,   16,   17,   19,\n",
              "          11, 2559, 3396,  345,   32,   11,  224,    7,   11,  217,   13,\n",
              "          78,   80,   37,  263,   24,  370, 1919, 3993,  283,    7, 1361,\n",
              "          24,  128,   22,   19,  125,   55,  125,  172, 7170,  152,   31,\n",
              "          52],\n",
              "       [  31, 1407,   13,   57,   11,  360,   37,   10,  127,   11,   23,\n",
              "          19,  172,  133,  281,   26,  219,   91, 1381,  490,  221,   57,\n",
              "          50,  410,   11,   23,   19,  298,  172,  235,   26,  263,   37,\n",
              "        2949,   52,  177, 2343,   19,   31,   13, 1007,  967, 1430,   37,\n",
              "          10,  467,  367,   52,  433,   26,  122, 1965,  125,   16,  970,\n",
              "          57,  150,    7,   11, 3993,   19,  278,   13,  552,  182,  334,\n",
              "           6,  277,  278,   19,  236,   57, 3564,  488,   19,    0,    0,\n",
              "           0,    0,    0,    0,    0,    0,    0,    0,    0,    0,    0,\n",
              "           0,    0,    0,    0,    0,    0,    0,    0,    0,    0,    0,\n",
              "           0],\n",
              "       [  24,   88, 1115,   52,  251,   31,  325,   19,   60, 5133,  411,\n",
              "         359, 1251, 3384,  367,   15, 4979,  570,   77,  466, 1497, 1456,\n",
              "        2228,   15,    1,   32,   16,  270, 1345,   19,  103,   26,   88,\n",
              "        4482,  816,   52,   57,  318,   13,   12,   19,   31,  651,  191,\n",
              "         248, 1830,  320,   37,   10,   11,   12,   13, 1349,   19,   24,\n",
              "         191,  149,   26,  199,   16, 2708,  378,  420,   15, 2005,   37,\n",
              "          15,  132,   24,  191,  948, 3130, 2049,   19,   19,   19,   24,\n",
              "        2393, 2265,  235,  337, 1144,   19, 1521,   16, 2817,  420, 1456,\n",
              "          48,    1,   11,   12,    7,   11, 2228,   19,   24, 1537,  464,\n",
              "          52],\n",
              "       [  24,  296,  559,    1,  271,   50, 1124,  674,   15,  191,  149,\n",
              "         948,    7,   11, 1738,   19,   31,   13,   39,  831,  324,   19,\n",
              "         405,    4,   75,  194,   37,  199,   16,  222, 3153,   19,  176,\n",
              "         954,   11, 1568,   57,   42, 1377,   22,  172, 1537,  467,  104,\n",
              "         172,  133,  156, 1339,  277, 2124, 2899,   64,  712,   19,    0,\n",
              "           0,    0,    0,    0,    0,    0,    0,    0,    0,    0,    0,\n",
              "           0,    0,    0,    0,    0,    0,    0,    0,    0,    0,    0,\n",
              "           0,    0,    0,    0,    0,    0,    0,    0,    0,    0,    0,\n",
              "           0,    0,    0,    0,    0,    0,    0,    0,    0,    0,    0,\n",
              "           0],\n",
              "       [  24,  251,   11, 6835, 6840, 7521,   93,   31,   13,   16,   89,\n",
              "         224,  216,  139,  172, 5117,  305,  712,   15, 2940,   78,  126,\n",
              "         122,   11, 1760,   19,   31,   13,   39,  324,    1,  360,   19,\n",
              "        2549,    1,   37,  172, 3545,  104,   31,   19,   58,   57,  318,\n",
              "          93,    0,    0,    0,    0,    0,    0,    0,    0,    0,    0,\n",
              "           0,    0,    0,    0,    0,    0,    0,    0,    0,    0,    0,\n",
              "           0,    0,    0,    0,    0,    0,    0,    0,    0,    0,    0,\n",
              "           0,    0,    0,    0,    0,    0,    0,    0,    0,    0,    0,\n",
              "           0,    0,    0,    0,    0,    0,    0,    0,    0,    0,    0,\n",
              "           0]])>"
            ]
          },
          "execution_count": 54,
          "metadata": {},
          "output_type": "execute_result"
        }
      ],
      "source": [
        "user_doc[7000]"
      ]
    },
    {
      "cell_type": "markdown",
      "metadata": {
        "id": "SWDCul-D_N99"
      },
      "source": [
        "**Item Documents**"
      ]
    },
    {
      "cell_type": "code",
      "execution_count": 55,
      "metadata": {
        "id": "phoN10nsXZGc"
      },
      "outputs": [],
      "source": [
        "item_doc=[]\n",
        "for mydoc in item_df['reviewText']:\n",
        "   item_doc.append( input_text_processor(  mydoc ))"
      ]
    },
    {
      "cell_type": "code",
      "execution_count": 56,
      "metadata": {},
      "outputs": [
        {
          "data": {
            "text/plain": [
              "\"I've been looking forward to trying these after hearing about how popular they were in Japan, and among Kit Kat fans as well. I do not recommend ordering these during warm weather, because they can melt and become smushy. I ordered mine right when summer began, and they were a bit mushy so I let them solidify under room temp. Afterwards, I tried some and they tasted fine. I was expecting a stronger green tea or matcha flavor, but it is actually quite subtle. The outer coating was creamy and not overly sugary, which I liked. Overall, I wouldn't say it's insanely good, but definitely a yummy treat.\""
            ]
          },
          "execution_count": 56,
          "metadata": {},
          "output_type": "execute_result"
        }
      ],
      "source": [
        "item_df['reviewText'][0][4]"
      ]
    },
    {
      "cell_type": "code",
      "execution_count": 57,
      "metadata": {
        "id": "0kTL6A4FmuZY"
      },
      "outputs": [
        {
          "data": {
            "text/plain": [
              "<tf.Tensor: shape=(12, 100), dtype=int64, numpy=\n",
              "array([[  11, 1087,    7, ..., 2756,    1,   93],\n",
              "       [  11,   71, 1308, ...,    7,   71,   37],\n",
              "       [  31,  329, 1043, ..., 1537,  251,   26],\n",
              "       ...,\n",
              "       [  24,   88,  251, ...,    7,  150,    7],\n",
              "       [  31,   13,   39, ...,    0,    0,    0],\n",
              "       [ 227,   70,   71, ...,    0,    0,    0]])>"
            ]
          },
          "execution_count": 57,
          "metadata": {},
          "output_type": "execute_result"
        }
      ],
      "source": [
        "item_doc[5004]"
      ]
    },
    {
      "cell_type": "code",
      "execution_count": 58,
      "metadata": {
        "id": "1G79SrZySBqJ"
      },
      "outputs": [
        {
          "data": {
            "text/plain": [
              "Text(0.5, 1.0, 'Mask')"
            ]
          },
          "execution_count": 58,
          "metadata": {},
          "output_type": "execute_result"
        },
        {
          "data": {
            "image/png": "[encoded data removed]",
            "text/plain": [
              "<Figure size 432x288 with 2 Axes>"
            ]
          },
          "metadata": {
            "needs_background": "light"
          },
          "output_type": "display_data"
        }
      ],
      "source": [
        "plt.subplot(1, 2, 1)\n",
        "plt.pcolormesh(item_doc[0])\n",
        "plt.title('Token IDs')\n",
        "\n",
        "plt.subplot(1, 2, 2)\n",
        "plt.pcolormesh(item_doc[0] != 0)\n",
        "plt.title('Mask')"
      ]
    },
    {
      "cell_type": "markdown",
      "metadata": {
        "id": "UbR2h5ML5h70"
      },
      "source": [
        "## **Converting ID to Vector**"
      ]
    },
    {
      "cell_type": "code",
      "execution_count": 59,
      "metadata": {
        "id": "kSxQNOCYKAzF"
      },
      "outputs": [
        {
          "data": {
            "text/plain": [
              "'just another flavor of kit kat but the taste is unique and a bit different . the only thing that is [UNK] is the price . i thought it was a bit expensive . . . .                                                               '"
            ]
          },
          "execution_count": 59,
          "metadata": {},
          "output_type": "execute_result"
        }
      ],
      "source": [
        "input_vocab = np.array(input_text_processor.get_vocabulary())\n",
        "tokens = input_vocab[user_doc[3282][0].numpy()]\n",
        "' '.join(tokens)"
      ]
    },
    {
      "cell_type": "markdown",
      "metadata": {},
      "source": [
        "# **Data Splitting**"
      ]
    },
    {
      "cell_type": "code",
      "execution_count": 60,
      "metadata": {},
      "outputs": [],
      "source": [
        "dt = np.dtype( [('userid', 'int32'), ('itemid', 'int32'),('rating', 'int32'),('review', 'int32',(sequence_length,) )])\n"
      ]
    },
    {
      "cell_type": "code",
      "execution_count": 61,
      "metadata": {},
      "outputs": [],
      "source": [
        "tt=np.empty([150, 1], dtype=dt)"
      ]
    },
    {
      "cell_type": "code",
      "execution_count": 62,
      "metadata": {},
      "outputs": [
        {
          "data": {
            "text/plain": [
              "-29925872"
            ]
          },
          "execution_count": 62,
          "metadata": {},
          "output_type": "execute_result"
        }
      ],
      "source": [
        "tt['rating'][50][0]"
      ]
    },
    {
      "cell_type": "code",
      "execution_count": 63,
      "metadata": {},
      "outputs": [
        {
          "name": "stdout",
          "output_type": "stream",
          "text": [
            "[ 15126  15127  15128 ... 151251 151252 151253] 136128\n",
            "[     0      1      2 ... 151251 151252 151253] 136128\n",
            "[     0      1      2 ... 151251 151252 151253] 136128\n",
            "[     0      1      2 ... 151251 151252 151253] 136128\n",
            "[     0      1      2 ... 151251 151252 151253] 136129\n",
            "[     0      1      2 ... 151251 151252 151253] 136129\n",
            "[     0      1      2 ... 151251 151252 151253] 136129\n",
            "[     0      1      2 ... 151251 151252 151253] 136129\n",
            "[     0      1      2 ... 151251 151252 151253] 136129\n",
            "[     0      1      2 ... 136126 136127 136128] 136129\n"
          ]
        },
        {
          "data": {
            "text/plain": [
              "array([['A1U6M8VJHK2ECA', 'B009M516NE', 5.0],\n",
              "       ['A244CRJ2QSVLZ4', 'B009M516NE', 5.0],\n",
              "       ['A1SB9BNNGKNX2Z', 'B009M516NE', 3.0],\n",
              "       ...,\n",
              "       ['ASEBX8TBYWQWA', 'B00KCJRVO2', 5.0],\n",
              "       ['ANKQGTXHREOI5', 'B00KCJRVO2', 4.0],\n",
              "       ['A2CF66KIQ3RKX3', 'B00KCJRVO2', 4.0]], dtype=object)"
            ]
          },
          "execution_count": 63,
          "metadata": {},
          "output_type": "execute_result"
        }
      ],
      "source": [
        "current_fold=10\n",
        "kfold = KFold(10)\n",
        "random_iterator=kfold.split(df)\n",
        "for i in range(current_fold):\n",
        "  train_index, test_index = next(random_iterator, None)\n",
        "  print(train_index,len(train_index))\n",
        "  train_df, test_df =df.iloc[train_index], df.iloc[test_index]\n",
        "\n",
        "\n",
        "\n",
        "train_data=np.empty([train_df.shape[0], ], dtype=dt)\n",
        "test_data=np.empty([test_df.shape[0], ], dtype=dt)\n",
        "\n",
        "\n",
        "train_df\n",
        "user_to_row = {}\n",
        "item_to_column = {}\n",
        "\n",
        "\n",
        "for i, user_id in enumerate(np.unique(df['userID'])):\n",
        "    user_to_row[user_id] = i\n",
        "\n",
        "for j, item_id in enumerate(np.unique(df['itemID'].tolist())):\n",
        "    item_to_column[item_id] = j\n",
        "\n",
        "train_rw=input_text_processor(train_df['reviewText'])[:,:sequence_length]\n",
        "test_rw=input_text_processor(test_df['reviewText'])[:,:sequence_length]\n",
        "train_rw\n",
        "test_rw\n",
        "for index, row in enumerate( train_df[['userID','itemID','rating']].to_numpy()):\n",
        "   \n",
        "    train_data['userid'][index]= user_to_row[row[0]]\n",
        "    train_data['itemid'][index]= item_to_column[row[1]]\n",
        "    train_data['rating'][index]= row[2]\n",
        "    train_data['review'][index]=train_rw[index]\n",
        "for index, row in enumerate( test_df[['userID','itemID','rating']].to_numpy()):\n",
        "   \n",
        "    test_data['userid'][index]= user_to_row[row[0]]\n",
        "    test_data['itemid'][index]= item_to_column[row[1]]\n",
        "    test_data['rating'][index]= row[2]\n",
        "    test_data['review'][index]=train_rw[index]\n",
        "\n",
        "#for index,row in enumerate( train_data):\n",
        " # train_data['review'][row]=train_rw[i]\n",
        "#for i,row in enumerate( test_data):\n",
        "#  test_data['review'][row]=train_rw[i]\n",
        "train_data\n",
        "test_df[['userID','itemID','rating']].to_numpy()"
      ]
    },
    {
      "cell_type": "code",
      "execution_count": 64,
      "metadata": {},
      "outputs": [
        {
          "data": {
            "text/plain": [
              "<tf.Tensor: shape=(20,), dtype=int64, numpy=\n",
              "array([  24, 1537,  544,   50,   11, 1048, 1049,    7,   31,   71,   37,\n",
              "         10,   11,    6,   13, 1050, 1051,   19,   24,  251])>"
            ]
          },
          "execution_count": 64,
          "metadata": {},
          "output_type": "execute_result"
        }
      ],
      "source": [
        "train_rw[50]"
      ]
    },
    {
      "cell_type": "code",
      "execution_count": 65,
      "metadata": {},
      "outputs": [
        {
          "data": {
            "text/plain": [
              "136129"
            ]
          },
          "execution_count": 65,
          "metadata": {},
          "output_type": "execute_result"
        }
      ],
      "source": [
        "train_data.shape[0]"
      ]
    },
    {
      "cell_type": "code",
      "execution_count": 66,
      "metadata": {},
      "outputs": [
        {
          "data": {
            "text/plain": [
              "array([( 3282,    0, 4, [   4,    5,    6,    7,    8,    9,   10,   11,   12,   13,   14,   15,   16,   17,   18,   19,   11,   20,   21,   22]),\n",
              "       (  527,    0, 3, [  24,   30,   31,   32,   33,   15,   26,   34,   35,   36,   37,   38,    1,   39,   40,   37,   41,   42,   43,    1]),\n",
              "       ( 4633,    0, 4, [  88,   80,   19,   89,   90,   57,   91,   92,    7,   70,   71,   93,    4,   45,   28,   52,   94,   95,   35,   96]),\n",
              "       ...,\n",
              "       ( 2007, 8080, 3, [  24,  333,   16,   44,    7, 7630, 2223,   52,   31,  325,   52,  109,   16,   58, 3794,  288,  335,  499,   19,  189]),\n",
              "       ( 6573, 8080, 4, [  24,  106,   82,   52, 4145,   22,  747, 7653,   77,   89,   19,   11, 1921,  170,   78,   80,   19,   39, 3221,  507]),\n",
              "       (13981, 8080, 3, [  31,   27,   16,  195, 1432,    7,  426,   37,  427,   15, 1017,   19,   26,   98,   16, 5691, 6686,   15,   11,    6])],\n",
              "      dtype=[('userid', '<i4'), ('itemid', '<i4'), ('rating', '<i4'), ('review', '<i4', (20,))])"
            ]
          },
          "execution_count": 66,
          "metadata": {},
          "output_type": "execute_result"
        }
      ],
      "source": [
        "train_data"
      ]
    },
    {
      "cell_type": "code",
      "execution_count": 67,
      "metadata": {},
      "outputs": [
        {
          "data": {
            "text/plain": [
              "array([( 3282,    0, 4), (  527,    0, 3), ( 4633,    0, 4), ...,\n",
              "       ( 2007, 8080, 3), ( 6573, 8080, 4), (13981, 8080, 3)],\n",
              "      dtype={'names':['userid','itemid','rating'], 'formats':['<i4','<i4','<i4'], 'offsets':[0,4,8], 'itemsize':92})"
            ]
          },
          "execution_count": 67,
          "metadata": {},
          "output_type": "execute_result"
        }
      ],
      "source": [
        "train_data[['userid','itemid','rating']]"
      ]
    },
    {
      "cell_type": "markdown",
      "metadata": {},
      "source": [
        "# **Context-aware Matrix Factorization for Rating Prediction**"
      ]
    },
    {
      "cell_type": "code",
      "execution_count": 68,
      "metadata": {},
      "outputs": [],
      "source": [
        "#hyperparameters\n",
        "num_users=user_df.shape[0]\n",
        "num_items=item_df.shape[0]\n",
        "feature_num=16\n"
      ]
    },
    {
      "cell_type": "code",
      "execution_count": 69,
      "metadata": {},
      "outputs": [],
      "source": [
        "user_specific_vector = tf.Variable(np.zeros(shape=(num_users, feature_num),dtype=np.float32)) \n",
        "item_specific_vector = tf.Variable(np.zeros(shape=(num_items, feature_num),dtype=np.float32)) "
      ]
    },
    {
      "cell_type": "markdown",
      "metadata": {
        "id": "6uKWBtzhmMA5"
      },
      "source": [
        "## **PMF (Probabilistic Matrix Factorization)**"
      ]
    },
    {
      "cell_type": "code",
      "execution_count": 70,
      "metadata": {
        "id": "5JAoyyjOnJis"
      },
      "outputs": [],
      "source": [
        "class PMF():\n",
        "    def __init__(self, num_feat=16, epsilon=1, _lambda=0.1, momentum=0.8, maxepoch=20, num_batches=152, batch_size=1000,num_item=9000,num_user=15000,mean_inv=3):\n",
        "        self.num_feat = num_feat  # Number of latent features,\n",
        "        self.epsilon = epsilon  # learning rate,\n",
        "        self._lambda = _lambda  # L2 regularization,\n",
        "        self.momentum = momentum  # momentum of the gradient,\n",
        "        self.maxepoch = maxepoch  # Number of epoch before stop,\n",
        "        self.num_batches = num_batches  # Number of batches in each epoch (for SGD optimization),\n",
        "        self.batch_size = batch_size  # Number of training samples used in each batches (for SGD optimization)\n",
        "        self.num_item=num_item\n",
        "        self.num_user=num_user\n",
        "        self.V =  0.1 * np.random.randn(self.num_item, self.num_feat).astype(np.float64)  # Item feature vectors\n",
        "        self.U =  0.1 * np.random.randn(self.num_user, self.num_feat).astype(np.float64)  # User feature vectors\n",
        "        self.V_inc = np.zeros((self.num_item, self.num_feat),dtype=np.float64)\n",
        "        self.U_inc = np.zeros((self.num_user, self.num_feat),dtype=np.float64)\n",
        "        self.rmse_train = []\n",
        "        self.rmse_test = []\n",
        "        self.mean_inv= mean_inv  \n",
        "        \n",
        "    # ***Fit the model with train_tuple and evaluate RMSE on both train and test data.  ***********#\n",
        "    # ***************** train_vec=TrainData, test_vec=TestData*************#\n",
        "    def train(self):\n",
        "          \n",
        "            # Shuffle training truples\n",
        "            shuffled_order = np.arange(train_data.shape[0])  \n",
        "            np.random.shuffle(shuffled_order)  \n",
        "            # Batch update\n",
        "            \n",
        "            for batch in range(self.num_batches):  \n",
        "                # print \"epoch %d batch %d\" % (self.epoch, batch+1)\n",
        "\n",
        "                test = np.arange(self.batch_size * batch, self.batch_size * (batch + 1))\n",
        "              \n",
        "                batch_idx = np.mod(test, shuffled_order.shape[0])  \n",
        "            \n",
        "                batch_UserID = np.array(train_data['userid'][shuffled_order[batch_idx]], dtype='int32')\n",
        "                batch_ItemID = np.array(train_data['itemid'][shuffled_order[batch_idx]], dtype='int32')\n",
        "                # Compute Objective Function\n",
        "               \n",
        "                pred_out = np.sum(np.multiply(self.U[batch_UserID, :],\n",
        "                                              self.V[batch_ItemID, :]),\n",
        "                                  axis=1)  # mean_inv subtracted # np.multiply\n",
        "                \n",
        "                rawErr = pred_out - train_data['rating'][shuffled_order[batch_idx]] + self.mean_inv\n",
        "                \n",
        "                # Compute gradients\n",
        "                Ix_User = 2 * np.multiply(rawErr[:, np.newaxis], self.V[batch_ItemID, :]) \\\n",
        "                       + self._lambda * (self.U[batch_UserID, :] - tf.gather(user_specific_vector,batch_UserID).numpy())\n",
        "                Ix_Item = 2 * np.multiply(rawErr[:, np.newaxis], self.U[batch_UserID, :]) \\\n",
        "                       + self._lambda * (self.V[batch_ItemID, :] -  tf.gather(item_specific_vector,batch_ItemID).numpy()) \n",
        "                       # np.newaxis :increase the dimension\n",
        "               \n",
        "                dw_Item = np.zeros((self.num_item, self.num_feat))\n",
        "                dw_User = np.zeros((self.num_user, self.num_feat))\n",
        "                \n",
        "                # loop to aggreate the gradients of the same element\n",
        "                for i in range(self.batch_size):\n",
        "                    dw_Item[batch_ItemID[i], :] += Ix_Item[i, :]\n",
        "                    dw_User[batch_UserID[i], :] += Ix_User[i, :]\n",
        "\n",
        "                # Update with momentum\n",
        "              \n",
        "                self.V_inc = self.momentum * self.V_inc + self.epsilon * dw_Item / self.batch_size\n",
        "                self.U_inc = self.momentum * self.U_inc + self.epsilon * dw_User / self.batch_size\n",
        "                \n",
        "                self.V = self.V - self.V_inc\n",
        "                self.U = self.U - self.U_inc\n",
        "            \n",
        "                # Compute Objective Function after\n",
        "                if batch == self.num_batches - 1:\n",
        "                    pred_out = np.sum(np.multiply(self.U[np.array(train_data['userid'], dtype='int32'), :],\n",
        "                                                  self.V[np.array(train_data['itemid'], dtype='int32'), :]),\n",
        "                                      axis=1)  # mean_inv subtracted\n",
        "                    rawErr = pred_out - train_data['rating'] + self.mean_inv\n",
        "                    obj = np.linalg.norm(rawErr) ** 2 \\\n",
        "                          + 0.5 * self._lambda * (np.linalg.norm(self.U - user_specific_vector) ** 2 + np.linalg.norm(self.V - item_specific_vector) ** 2)\n",
        "                   # print(\"1***************\\n\",self.U.shape)\n",
        "                   # print(\"2***************\\n\",user_specific_vector.shape)\n",
        "                    self.rmse_train.append(np.sqrt(obj / train_data.shape[0]))\n",
        "\n",
        "                # Compute validation error\n",
        "                if batch == self.num_batches - 1:\n",
        "                    pred_out = np.sum(np.multiply(self.U[np.array(test_data['userid'], dtype='int32'), :],\n",
        "                                                  self.V[np.array(test_data['itemid'], dtype='int32'), :]),\n",
        "                                      axis=1)  # mean_inv subtracted\n",
        "                    rawErr = pred_out - test_data['rating'] + self.mean_inv\n",
        "                   \n",
        "                    self.rmse_test.append(np.linalg.norm(rawErr) / np.sqrt(test_data.shape[0]))\n",
        "\n",
        "                    # Print info\n",
        "                    if batch == self.num_batches - 1:\n",
        "                        print('\\nTraining RMSE: %f, Test RMSE %f' % (self.rmse_train[-1], self.rmse_test[-1]))\n",
        "\n",
        "    def predict(self, invID):\n",
        "        return np.dot(self.V, self.U[int(invID), :]) + self.mean_inv  # numpy.dot 点乘\n",
        "\n",
        "    # ****************Set parameters by providing a parameter dictionary.  ***********#\n",
        "\n",
        "    def topK(self, test_data, k=10):\n",
        "        inv_lst = np.unique(test_data[:, 0])\n",
        "        pred = {}\n",
        "        for inv in inv_lst:\n",
        "            if pred.get(inv, None) is None:\n",
        "                pred[inv] = np.argsort(self.predict(inv))[-k:]  # numpy.argsort\n",
        "\n",
        "        intersection_cnt = {}\n",
        "        for i in range(test_data.shape[0]):\n",
        "            if test_data[i, 1] in pred[test_data[i, 0]]:\n",
        "                intersection_cnt[test_data[i, 0]] = intersection_cnt.get(test_data[i, 0], 0) + 1\n",
        "        invPairs_cnt = np.bincount(np.array(test_data[:, 0], dtype='int32'))\n",
        "\n",
        "        precision_acc = 0.0\n",
        "        recall_acc = 0.0\n",
        "        for inv in inv_lst:\n",
        "            precision_acc += intersection_cnt.get(inv, 0) / float(k)\n",
        "            recall_acc += intersection_cnt.get(inv, 0) / float(invPairs_cnt[int(inv)])\n",
        "\n",
        "        return precision_acc / len(inv_lst), recall_acc / len(inv_lst)\n"
      ]
    },
    {
      "cell_type": "markdown",
      "metadata": {
        "id": "f0y4xKXSRYU-"
      },
      "source": [
        "# **Adversarial Seq2Seq Learning**"
      ]
    },
    {
      "cell_type": "markdown",
      "metadata": {},
      "source": [
        "## **Metrics**"
      ]
    },
    {
      "cell_type": "code",
      "execution_count": 71,
      "metadata": {},
      "outputs": [],
      "source": [
        "# log files for training and test\n",
        "current_time = datetime.datetime.now().strftime(\"%Y%m%d-%H%M%S\")\n",
        "train_log_dir = 'logs/gradient_tape/' + current_time + '/train'\n",
        "train_summary_writer = tf.summary.create_file_writer(train_log_dir)\n",
        "test_log_dir = 'logs/gradient_tape/' + current_time + '/test'\n",
        "test_summary_writer = tf.summary.create_file_writer(test_log_dir)\n",
        "graph_log_dir = 'logs/graph/' + current_time \n",
        "graph_summary_writer = tf.summary.create_file_writer(graph_log_dir)"
      ]
    },
    {
      "cell_type": "code",
      "execution_count": 72,
      "metadata": {},
      "outputs": [],
      "source": [
        "class PerplexityMetric(tf.keras.metrics.Metric):\n",
        "    def __init__(self,name='perplexity',**kwargs):\n",
        "        super().__init__(name=name, **kwargs)\n",
        "        self.perplexity=self.add_weight(name='pl',initializer='zeros')\n",
        "\n",
        "    def update_state(self, nll_loss):\n",
        "        self.perplexity= 2 ** nll_loss\n",
        "\n",
        "    def result(self):\n",
        "        return self.perplexity"
      ]
    },
    {
      "cell_type": "code",
      "execution_count": 73,
      "metadata": {},
      "outputs": [],
      "source": [
        "train_plx_gen_tch = PerplexityMetric(name='generator perplexity')  # teacher forcing mode\n",
        "train_plx_gen_plc = PerplexityMetric(name='generator perplexity')  # policy gradient mode\n",
        "train_loss_gen_policy = tf.keras.metrics.Mean('train loss gen policy', dtype=tf.float32)\n",
        "\n",
        "train_acc_dis = tf.keras.metrics.BinaryAccuracy(threshold=0.5)"
      ]
    },
    {
      "cell_type": "markdown",
      "metadata": {},
      "source": [
        "## **Recurrent Review Generator**"
      ]
    },
    {
      "cell_type": "markdown",
      "metadata": {},
      "source": [
        "- it consists of two encoders and one decoder"
      ]
    },
    {
      "cell_type": "markdown",
      "metadata": {
        "id": "o8UVYfYjX9YW"
      },
      "source": [
        "### **Encoder**"
      ]
    },
    {
      "cell_type": "code",
      "execution_count": 74,
      "metadata": {
        "id": "TwRd0VNHkMf0"
      },
      "outputs": [],
      "source": [
        "class Encoder(tf.keras.layers.Layer):\n",
        "  def __init__(self, embedding_dim, enc_units):\n",
        "    super().__init__()\n",
        "    self.enc_units = enc_units\n",
        "    self.input_vocab_size = max_vocab_size\n",
        "    self.embedding = tf.keras.layers.Embedding(max_vocab_size, embedding_dim, embeddings_initializer=keras.initializers.Constant(word2vec_model.wv.vectors),trainable=False)\n",
        "    self.gru= tf.keras.layers.Bidirectional(tf.keras.layers.GRU(enc_units,return_state=True,  recurrent_initializer='glorot_uniform' ))\n",
        "\n",
        "\n",
        "  def call(self, reviews, state=None):\n",
        "   \n",
        "    vectors = self.embedding(reviews)\n",
        "    _,encoder_forward_state,encoder_backward_state  = self.gru(vectors, initial_state=state)\n",
        " \n",
        "    return  tf.concat([ encoder_forward_state, encoder_backward_state],-1)\n",
        "\n",
        "    "
      ]
    },
    {
      "cell_type": "markdown",
      "metadata": {},
      "source": [
        "### **Decoder (Generator)**"
      ]
    },
    {
      "cell_type": "code",
      "execution_count": 75,
      "metadata": {
        "id": "skIgKP4iCABs"
      },
      "outputs": [],
      "source": [
        "class Decoder(tf.keras.layers.Layer):\n",
        "  def __init__(self, embedding_dim, dec_units):\n",
        "    super().__init__()\n",
        "    self.dec_units = dec_units\n",
        "    self.output_vocab_size = max_vocab_size\n",
        "    self.embedding = tf.keras.layers.Embedding(max_vocab_size, embedding_dim,embeddings_initializer=keras.initializers.Constant(word2vec_model.wv.vectors), trainable=False)\n",
        "    self.gru=tf.keras.layers.GRU(dec_units , return_state=True,return_sequences=True)\n",
        "    self.fc = tf.keras.layers.Dense(max_vocab_size, use_bias=False)\n",
        "    self.sf=tf.keras.layers.Activation('softmax')\n",
        "\n",
        "  def call(self, decoder_input, context_vector,state=None):\n",
        "\n",
        "     embedded_input= self.embedding(decoder_input)\n",
        "     joint_input_context =tf.concat([embedded_input, tf.tile(tf.expand_dims(context_vector,1),[1,embedded_input.shape[1],1])],2 )\n",
        "     outputs,dec_state =self.gru(joint_input_context, initial_state=state)\n",
        "     logits = self.fc( outputs)\n",
        "     prob_dist=self.sf(logits)\n",
        "\n",
        "     return prob_dist,dec_state\n",
        "\n",
        "  "
      ]
    },
    {
      "cell_type": "code",
      "execution_count": 76,
      "metadata": {
        "id": "DyhJk5pGKW_N"
      },
      "outputs": [],
      "source": [
        "class GeneratorLoss(tf.keras.losses.Loss):\n",
        "  def __init__(self):\n",
        "    self.name = 'masked_loss'\n",
        "   # self.loss = tf.keras.losses.SparseCategoricalCrossentropy( reduction='none')\n",
        "\n",
        "  def __call__(self, y_true, y_pred):\n",
        "    # Calculating the loss for a batch of reviews.\n",
        "\n",
        "    mask = tf.cast(y_true != 0, tf.int32)\n",
        "    maskoff_ind=tf.reduce_sum(mask)\n",
        "    a=tf.one_hot(y_true[:maskoff_ind], max_vocab_size, 1.0, 0.0)\n",
        "    b=tf.math.log( tf.clip_by_value(y_pred[:maskoff_ind], 1e-20, 1.0))\n",
        "    #print(y_true)\n",
        "    #print(\"\\n\\n\\n\",a)\n",
        "    #print(\"\\n\\n\\n\",b)\n",
        "    c=a * b\n",
        "   # print(\"\\n\\n\\n\",c)\n",
        "    loss=-tf.reduce_sum(c) /tf.cast(maskoff_ind,dtype=tf.float32)\n",
        "   # print(loss)\n",
        "    return loss"
      ]
    },
    {
      "cell_type": "markdown",
      "metadata": {
        "id": "4v_zte_RHR5a"
      },
      "source": [
        "## **Discriminator**"
      ]
    },
    {
      "cell_type": "code",
      "execution_count": 77,
      "metadata": {
        "id": "84ZgGwB9HXi5"
      },
      "outputs": [],
      "source": [
        "class Discriminator(tf.keras.Model):\n",
        "    def __init__( self, sequence_length, vocab_size, embedding_dim, filter_sizes, num_filters, l2_reg_lambda=0.0):\n",
        "      super().__init__()\n",
        "      self.sequence_length=sequence_length\n",
        "      self.vocab_size=max_vocab_size\n",
        "      self.embedding_dim=embedding_dim\n",
        "      self.filter_sizes=filter_sizes\n",
        "      self.num_filters= num_filters\n",
        "\n",
        "      self.embedding = tf.keras.layers.Embedding(max_vocab_size, embedding_dim,weights=[word2vec_model.wv.vectors],name=\"discriminator_embedding\",trainable=False)\n",
        "     \n",
        "      self.conv_unigram= tf.keras.layers.Conv1D(num_filters, filter_sizes[0], activation=\"tanh\",name=\"conv_unigram\")\n",
        "      self.conv_bigram= tf.keras.layers.Conv1D(num_filters, filter_sizes[1],activation=\"tanh\",name=\"conv_bigram\")\n",
        "      self.conv_trigram= tf.keras.layers.Conv1D(num_filters, filter_sizes[2],activation=\"tanh\",name=\"conv_trigram\")\n",
        "      self.conv_fourgram= tf.keras.layers.Conv1D(num_filters, filter_sizes[3],activation=\"tanh\",name=\"conv_fourgram\")\n",
        "      self.conv_fivegram= tf.keras.layers.Conv1D(num_filters, filter_sizes[4],activation=\"tanh\",name=\"conv_fivegram\")\n",
        "\n",
        "      self.gmp_unigram = tf.keras.layers.GlobalMaxPooling1D(name=\"gmp_unigram\")\n",
        "      self.gmp_bigram = tf.keras.layers.GlobalMaxPooling1D(name=\"gmp_bigram\")\n",
        "      self.gmp_trigram = tf.keras.layers.GlobalMaxPooling1D(name=\"gmp_trigram\")\n",
        "      self.gmp_fourgram = tf.keras.layers.GlobalMaxPooling1D(name=\"gmp_fourgram\")\n",
        "      self.gmp_fivegram = tf.keras.layers.GlobalMaxPooling1D(name=\"gmp_fivegram\")\n",
        "\n",
        "      self.dropout=tf.keras.layers.Dropout(.5,name=\"dropout\")\n",
        "      self.fc=tf.keras.layers.Dense(1,activation=\"sigmoid\")\n",
        "\n",
        "\n",
        "    def get_reward(self, discriminator_inputs , context_vector ):\n",
        "      \n",
        "      embedded_input= self.embedding(discriminator_inputs)\n",
        "      # print(\"\\n\\n embeded\",embeded_input.shape)\n",
        "      joint_input_context =tf.concat([embedded_input, tf.tile(tf.expand_dims(context_vector,1),[1,embedded_input.shape[1],1])],2 )\n",
        "\n",
        "      #  print(\"\\n\\n joint:\",joint_input_context.shape)\n",
        "      # print(new_vector.shape)\n",
        "      #new_vector=tf.reshape(new_vector,[new_vector.shape[1],new_vector.shape[2],1])\n",
        "      #print(new_vector[0])\n",
        "      # joint_input_context_reshaped=tf.transpose( joint_input_context,perm=[0,2,1])\n",
        "      #print(\"\\n\\n joint reshaped:\",joint_input_context_reshaped.shape)\n",
        "\n",
        "      cv_unigram=self.conv_unigram(joint_input_context)\n",
        "      cv_bigram=self.conv_bigram(joint_input_context)\n",
        "      cv_trigram=self.conv_trigram(joint_input_context)\n",
        "      cv_fourgram=self.conv_fourgram(joint_input_context)\n",
        "      cv_fivegram=self.conv_fivegram(joint_input_context)\n",
        "\n",
        "      #print(\" cv uni: \",cv_unigram.shape)\n",
        "      #print(\" cv bi: \",cv_bigram.shape)\n",
        "      #print(\" cv tri: \",cv_trigram.shape)\n",
        "      #print(\" cv four: \",cv_fourgram.shape)\n",
        "      #print(\" cv five: \",cv_fivegram.shape)\n",
        "\n",
        "      #cv_unigram = tf.reshape(cv_unigram,(cv_unigram.shape[1] , cv_unigram.shape[2], 1))\n",
        "     \n",
        "      gmp_unigram = self.gmp_unigram(cv_unigram)\n",
        "     # cv_bigram = tf.reshape(cv_bigram,(cv_bigram.shape[1] , cv_bigram.shape[2], 1))\n",
        "      gmp_bigram = self.gmp_bigram(cv_bigram)\n",
        "     # cv_trigram = tf.reshape(cv_trigram,(cv_trigram.shape[1] , cv_trigram.shape[2], 1))\n",
        "      gmp_trigram =  self.gmp_trigram(cv_trigram)\n",
        "     # cv_fourgram = tf.reshape(cv_fourgram,(cv_fourgram.shape[1] , cv_fourgram.shape[2], 1))\n",
        "      gmp_fourgram = self.gmp_fourgram(cv_fourgram)\n",
        "     # cv_fivegram = tf.reshape(cv_fivegram,(cv_fivegram.shape[1] , cv_fivegram.shape[2], 1))\n",
        "      gmp_fivegram = self.gmp_fivegram(cv_fivegram)\n",
        "\n",
        "     # print(gmp_unigram)\n",
        "      #print(gmp_bigram)\n",
        "      #print(gmp_trigram)\n",
        "     # print(gmp_fourgram)\n",
        "     # print(gmp_fivegram)\n",
        "      gmp_overal= tf.concat([gmp_unigram,gmp_bigram,gmp_trigram,gmp_fourgram,gmp_fivegram],1)\n",
        "      #print(\"gmp :\",gmp_overal)\n",
        "      #training=true must be studied more but i know dropout during test must not be working\n",
        "      dropout = self.dropout(gmp_overal,training=True)\n",
        "     # print(dropout)\n",
        "      ath= self.fc(dropout)\n",
        "      gc.collect()\n",
        "     # print(ath)\n",
        "      return ath[:,0]\n"
      ]
    },
    {
      "cell_type": "code",
      "execution_count": 78,
      "metadata": {
        "id": "FCRHY3LgfD2_"
      },
      "outputs": [],
      "source": [
        "class DiscriminatorLoss(tf.keras.losses.Loss):\n",
        "  def __init__(self):\n",
        "    self.name = 'cross-entropy_loss'\n",
        "    self.binary_cross_entropy_loss = tf.keras.losses.BinaryCrossentropy( reduction='none')\n",
        "\n",
        "  def __call__(self, y_true, y_pred):\n",
        "    loss = self.binary_cross_entropy_loss(y_true, y_pred)\n",
        "    return loss"
      ]
    },
    {
      "cell_type": "markdown",
      "metadata": {},
      "source": [
        "## **Adversarial Training**"
      ]
    },
    {
      "cell_type": "code",
      "execution_count": 79,
      "metadata": {
        "id": "GnKB7mW5evTE"
      },
      "outputs": [],
      "source": [
        "#hyperparameter\n",
        "t_step=1 # teacher forcing training number\n",
        "g_step=1 # generator training number\n",
        "d_step=3 # discriminator training number\n",
        "rollout_num=1\n",
        "units=int(feature_num/2 )# gru units\n",
        "batch_size=32\n",
        "num_batches=int(train_data.shape[0]/batch_size)"
      ]
    },
    {
      "cell_type": "code",
      "execution_count": 80,
      "metadata": {
        "id": "MB7HymOiTfdl"
      },
      "outputs": [],
      "source": [
        "class MaskedLossReward(tf.keras.losses.Loss):\n",
        "  def __init__(self):\n",
        "    self.name = 'masked_loss_reward'\n",
        "\n",
        "  def __call__(self, y_true, y_pred,reward):\n",
        "    # Calculate the loss for each step.\n",
        "\n",
        "    mask = tf.cast(y_true != 0, tf.int32)\n",
        "    maskoff_ind=tf.reduce_sum(mask)\n",
        "    a=tf.one_hot(y_true[:maskoff_ind], max_vocab_size, 1.0, 0.0)\n",
        "    b=tf.math.log( tf.clip_by_value(y_pred[:maskoff_ind], 1e-20, 1.0))\n",
        "    aa=tf.reduce_sum( a * b,2)\n",
        "\n",
        "    aaa=aa*reward[:maskoff_ind]\n",
        "    loss=- tf.reduce_sum(aaa)  /tf.cast(maskoff_ind,dtype=tf.float32)\n",
        "    return loss"
      ]
    },
    {
      "cell_type": "code",
      "execution_count": 81,
      "metadata": {
        "id": "Z3NlswFZRbub"
      },
      "outputs": [],
      "source": [
        "class Seq2Seq(tf.keras.Model): \n",
        "    def __init__(self, latent_dim, num_batches, batch_size, use_tf_function=False):\n",
        "        super().__init__()\n",
        "        self.use_tf_function = use_tf_function\n",
        "        self.num_batches=num_batches\n",
        "        self.batch_size=batch_size\n",
        "        self.latent_dim = latent_dim\n",
        "\n",
        "        self.user_encoder = Encoder(embedding_dim, units)\n",
        "        self.item_encoder = Encoder(embedding_dim, units)\n",
        "        self.decoder = Decoder(embedding_dim, units) #generator\n",
        "        self.discriminator = Discriminator(sequence_length, max_vocab_size, embedding_dim,[1, 2, 3 ,4, 5] ,100)\n",
        "      \n",
        "        self.loss_gn=GeneratorLoss()\n",
        "        self.loss_ds=DiscriminatorLoss()\n",
        "        self.loss_fn = MaskedLossReward() # generator loss with reward\n",
        "\n",
        "        self.optimizer_gn=tf.optimizers.Adam()\n",
        "        self.optimizer_ds=tf.optimizers.Adam()\n",
        "\n",
        "\n",
        "        dec_pred=tf.zeros([batch_size,sequence_length+1,max_vocab_size],dtype= tf.float32)\n",
        "\n",
        "    # def _train_step_gn_teacher(self, batch_UserID, batch_ItemID,batch_review):\n",
        "\n",
        "    #     with tf.GradientTape() as tape:\n",
        "\n",
        "    #       batch_Userdoc=[user_doc[i] for i in batch_UserID]\n",
        "    #       batch_Itemdoc=[item_doc[i] for i in batch_ItemID]\n",
        "    #       user_review_num=np.sum([it.shape[0] for it in batch_Userdoc],dtype=int)\n",
        "    #       item_review_num=np.sum([it.shape[0] for it in batch_Itemdoc],dtype=int)\n",
        "\n",
        "    #       batch_Userdoc_flattened= []\n",
        "    #       for i, doc in enumerate(batch_Userdoc):\n",
        "    #           batch_Userdoc_flattened=np.append(batch_Userdoc_flattened, doc)\n",
        "\n",
        "    #       batch_Itemdoc_flattened= []\n",
        "    #       for i, doc in enumerate(batch_Itemdoc):\n",
        "    #           batch_Itemdoc_flattened=np.append(batch_Itemdoc_flattened, doc)\n",
        "  \n",
        "    #       user_enc_state = self.user_encoder(tf.reshape( tf.convert_to_tensor(batch_Userdoc_flattened,dtype=tf.int32) ,[user_review_num,review_max_length])) # user vector representations      \n",
        "    #       item_enc_state = self.item_encoder(tf.reshape( tf.convert_to_tensor(batch_Itemdoc_flattened,dtype=tf.int32) ,[item_review_num,review_max_length])) # item vector representations\n",
        "              \n",
        "    #       pointer=0\n",
        "    #       user_context_vector=tf.zeros([0,feature_num])\n",
        "        \n",
        "    #       for i,doc in enumerate(batch_Userdoc): \n",
        "    #         user_context_vector=tf.concat([ user_context_vector, tf.reduce_mean(user_enc_state[pointer:pointer + doc.shape[0]],0,keepdims=True)   ],0)\n",
        "    #         pointer +=doc.shape[0]\n",
        "    \n",
        "    #       pointer=0\n",
        "    #       item_context_vector=tf.zeros([0,feature_num])\n",
        "          \n",
        "    #       for i,doc in enumerate(batch_Itemdoc): \n",
        "    #         item_context_vector=tf.concat([ item_context_vector, tf.reduce_mean(item_enc_state[pointer:pointer + doc.shape[0]],0,keepdims=True)   ],0)\n",
        "    #         pointer +=doc.shape[0]\n",
        "\n",
        "    #       context_vector= tf.concat( [user_context_vector,item_context_vector],1)\n",
        "    \n",
        "    #       loss = tf.constant(0.0)\n",
        "    #       dec_pred, dec_state=self.decoder(tf.concat([np.transpose([[2] * batch_size]), batch_review],1) , context_vector)\n",
        "          \n",
        "    #       loss=self.loss_gn(tf.concat([batch_review , np.transpose([[3] * batch_size]) ],1),  dec_pred)\n",
        "    #     variables =self.user_encoder.trainable_variables + self.item_encoder.trainable_variables + self.decoder.trainable_variables\n",
        "    #     gradients = tape.gradient(loss,variables)\n",
        "    #     print(loss)\n",
        "    #     self.optimizer_gn.apply_gradients(zip(gradients, variables))          \n",
        "    #     print(\"gen batch loss in supervised training\", loss.numpy())\n",
        "    #       # returning the probablity distribution over words for a batch of reviews\n",
        "\n",
        "    # def _train_step_gn_policy(self, batch_UserID, batch_ItemID):\n",
        "\n",
        "    #     #generating a batch of reviews\n",
        "    #     generated_samples,context_vector= self.generate_sample(batch_UserID,batch_ItemID)\n",
        "    #     generated_samples=tf.cast( tf.concat([np.transpose([[2] * batch_size]), generated_samples,np.transpose([[3] * batch_size])],1), dtype=tf.float32 )\n",
        "    #     reward=[]\n",
        "    #     g_loss = tf.constant(0.0) \n",
        "\n",
        "    #     with tf.GradientTape() as tape:\n",
        "                \n",
        "    #             for k in range(rollout_num):\n",
        "                   \n",
        "    #                 for given_num in range(1,sequence_length+2):\n",
        "    #                   # the generation of first part of seq\n",
        "    #                   joint_dec_inputs_context=self.decoder.concat_input_context(generated_samples[:,:given_num], context_vector) \n",
        "    #                   _, dec_state=self.decoder(joint_dec_inputs_context)\n",
        "\n",
        "    #                   # generated probability distribution given the samples\n",
        "    #                   dec_rollout_prob=tf.zeros([batch_size,1,max_vocab_size],dtype= tf.float32)                     \n",
        "    #                   rollout_samples=tf.zeros([sequence_length-given_num+1, batch_size] ,dtype= tf.float32)                 \n",
        "    #                   rd=None\n",
        "    #                   gc.collect()\n",
        "\n",
        "    #                   if given_num!=sequence_length+2:\n",
        "    #                       # sampling seq length - i tokens with the roll out policy \n",
        "                        \n",
        "    #                       current_input_token=tf.Variable(generated_samples[:,given_num-1:given_num])\n",
        "    #                       print(\"type new_tokens :\",type(current_input_token))\n",
        "    #                       rollout_samples_list =tf.unstack(rollout_samples)                   \n",
        "    #                       for j in range(sequence_length-given_num+2):\n",
        "    #                           joint_dec_inputs_context=self.decoder.concat_input_context(current_input_token, context_vector )\n",
        "    #                           dec_rollout_prob,dec_state=self.decoder( joint_dec_inputs_context ,dec_state)\n",
        "                           \n",
        "    #                           # Sample a token\n",
        "    #                           current_input_token =tf.Variable( tf.random.categorical(dec_rollout_prob[:,0,:],1,dtype=tf.int32) ) \n",
        "\n",
        "    #                           rollout_samples_list.append(tf.cast( current_input_token[:,0],tf.float32))\n",
        "                      \n",
        "    #                       rollout_samples=tf.stack(tf.transpose(rollout_samples_list))   \n",
        "\n",
        "     \n",
        "    #                       full_samples= tf.concat([ generated_samples[:,1:given_num], rollout_samples] ,1)\n",
        "    #                       dec_rollout_prob=None\n",
        "    #                       rollout_samples=None                        \n",
        "    #                       gc.collect()\n",
        "    #                       gc.collect(0)   \n",
        "    #                       gc.collect(1)   \n",
        "    #                       gc.collect(2)   \n",
        "\n",
        "    #                       #full sample\n",
        "    #                       rd=self.discriminator.get_reward(full_samples,context_vector)\n",
        "\n",
        "    #                   else:\n",
        "    #                       rd=self.discriminator.get_reward(generated_samples[:,1:],context_vector)\n",
        "    #                       #  print(\"size of dis\",asizeof.asized(self.discriminator, detail=1).format() )\n",
        "\n",
        "                    \n",
        "    #                   if k==0: \n",
        "    #                       reward.append(rd)\n",
        "    #                   else:\n",
        "    #                      reward[given_num-1] +=rd  \n",
        "\n",
        "\n",
        "    #             reward= tf.stack(reward,1)/ rollout_num # batchsize * seq_length\n",
        "    #             g_loss= self.loss_fn(generated_samples[:,1:] , self.gn_pred_prob , reward)\n",
        "    #             print(\"gen batch loss in policy gradient training: \",g_loss.numpy())\n",
        "\n",
        "    #             variables = self.decoder.trainable_variables \n",
        "    #             gradients = tape.gradient(g_loss, variables)\n",
        "                \n",
        "    #             print(\"\\n\\n\", gradients)\n",
        "    #             self.optimizer_gn.apply_gradients(zip(gradients, variables))\n",
        "\n",
        "    def _train_step_disc(self):\n",
        "\n",
        "          with tf.GradientTape() as tape:\n",
        "\n",
        "            positive_data,positive_user_indices,positive_item_indices = self.sample_real_data() # ground-truth data\n",
        "            negative_data,negative_user_indices,negative_item_indices = self.sample_fake_data() # machine-generated data\n",
        "            #data shape (batch_size * seq length)\n",
        "            whole_user_indices=tf.concat([positive_user_indices,negative_user_indices],0)\n",
        "            whole_item_indices= tf.concat([positive_item_indices,negative_item_indices],0)\n",
        "\n",
        "            positive_labels = tf.ones(batch_size, dtype=tf.int32) \n",
        "            negative_labels = tf.zeros(batch_size, dtype=tf.int32) \n",
        "            labels = tf.concat([positive_labels, negative_labels], 0)\n",
        "\n",
        "            shuffle_indices = tf.random.shuffle( tf.range(0, len(labels),dtype=tf.int32))\n",
        "            whole_data = tf.gather(tf.concat([positive_data,negative_data],0),shuffle_indices)    \n",
        "            labels = tf.gather(labels,shuffle_indices)\n",
        "            whole_user_indices = tf.gather(whole_user_indices,shuffle_indices)\n",
        "            whole_item_indices = tf.gather(whole_item_indices,shuffle_indices)\n",
        "            query_embedding = tf.concat([tf.gather(user_specific_vector , whole_user_indices) ,tf.gather( item_specific_vector , whole_item_indices)], 1)\n",
        "            # query shape (batch_size ,2.feature_num)\n",
        "            dis_reward = self.discriminator.get_reward( whole_data,query_embedding)\n",
        "\n",
        "            #for i in range(real_data_num+fake_data_num):\n",
        "              #print(tf.convert_to_tensor( whole_data[i]))\n",
        "              #print(whole_user_indices[i])\n",
        "              # print(user_specific_vector[whole_user_indices[i] ])\n",
        "              #reward.append([0][0].numpy() )\n",
        "            #print(reward)\n",
        "            disc_loss=self.loss_ds(labels,dis_reward)\n",
        "          variables = self.discriminator.trainable_variables \n",
        "          # print(variables)\n",
        "          gradients = tape.gradient(disc_loss, variables)\n",
        "          # print(\"************************* gradient :\",gradients)\n",
        "          self.optimizer_ds.apply_gradients(zip(gradients, variables))\n",
        "          #calculate loss and gradient\n",
        "          print(\"disc loss: \",disc_loss)\n",
        "\n",
        "          train_acc_dis.update_state(labels,dis_reward)\n",
        "\n",
        "    def sample_real_data(self):\n",
        "\n",
        "      sample = train_data[np.random.choice(range(0,train_data.shape[0]),batch_size)][['userid','itemid','review']]\n",
        "\n",
        "      return   tf.stack(sample['review']) ,sample['userid'], sample['itemid']\n",
        " \n",
        "    def sample_fake_data(self):\n",
        "                \n",
        "\n",
        "      drawn_userid = np.random.choice(range(0,num_users),batch_size).astype('int32')\n",
        "      drawn_itemid = np.random.choice(range(0,num_items),batch_size).astype('int32')    \n",
        "      sample,_= self.generate_sample(drawn_userid,drawn_itemid)\n",
        "\n",
        "      return sample,drawn_userid,drawn_itemid\n",
        "\n",
        "    def generate_sample(self,batch_UserID, batch_ItemID):\n",
        "        \n",
        "        batch_Userdoc=[user_doc[i] for i in batch_UserID]\n",
        "        batch_Itemdoc=[item_doc[i] for i in batch_ItemID]\n",
        "        user_review_num=np.sum([it.shape[0] for it in batch_Userdoc])\n",
        "        item_review_num=np.sum([it.shape[0] for it in batch_Itemdoc])\n",
        "        batch_Userdoc_flattened= []\n",
        "        for i, doc in enumerate(batch_Userdoc):\n",
        "            batch_Userdoc_flattened=np.append(batch_Userdoc_flattened, doc)\n",
        "        batch_Itemdoc_flattened= []\n",
        "        for i, doc in enumerate(batch_Itemdoc):\n",
        "            batch_Itemdoc_flattened=np.append(batch_Itemdoc_flattened, doc)\n",
        "        user_enc_state = self.user_encoder(tf.reshape(batch_Userdoc_flattened.astype(int),[user_review_num,review_max_length])) # user vector representations      \n",
        "        item_enc_state = self.item_encoder(tf.reshape(batch_Itemdoc_flattened.astype(int),[item_review_num,review_max_length])) # item vector representations\n",
        "      \n",
        "        pointer=0\n",
        "        user_context_vector=tf.zeros([0,feature_num])\n",
        "\n",
        "        for i,doc in enumerate(batch_Userdoc): \n",
        "          user_context_vector=tf.concat([ user_context_vector, tf.reduce_mean(user_enc_state[pointer:pointer + doc.shape[0]],0,keepdims=True)   ],0)\n",
        "          pointer +=doc.shape[0]\n",
        "    \n",
        "        pointer=0\n",
        "        item_context_vector=tf.zeros([0,feature_num])\n",
        "\n",
        "        for i,doc in enumerate(batch_Itemdoc): \n",
        "          item_context_vector=tf.concat([ item_context_vector, tf.reduce_mean(item_enc_state[pointer:pointer + doc.shape[0]],0,keepdims=True)   ],0)\n",
        "          pointer +=doc.shape[0]\n",
        "\n",
        "        context_vector= tf.concat( [user_context_vector,item_context_vector],1)\n",
        "        \n",
        "        dec_state=None\n",
        "        dec_prob=[]\n",
        "        dec_out=tf.constant(np.full((len(batch_Itemdoc),1),2),dtype=tf.int32)\n",
        "            \n",
        "        for j in range(sequence_length):           \n",
        "            dec_prob,dec_state=self.decoder( dec_out[:,j:j+1], context_vector ,dec_state)\n",
        "            #probability distribution of words  \n",
        "            # Sample a token from the last distribution\n",
        "            new_tokens =tf.random.categorical(dec_prob[:,-1],1,dtype=tf.int32)    \n",
        "            dec_out= tf.concat([dec_out, new_tokens],-1)   \n",
        "        \n",
        "            del dec_prob          \n",
        "            del new_tokens \n",
        "\n",
        "        gc.collect()  \n",
        "        return dec_out[:,1:],context_vector\n",
        "\n",
        "    # def generate_incompleted_sample(self, context_vector,partial_sample):\n",
        "    #   #given a partial sequence as an input for decoder, this function generate a seq with particular length as an output\n",
        "      \n",
        "    #     joint_dec_inputs_context=self.decoder.concat_input_context(partial_sample, context_vector) \n",
        "      \n",
        "    #     dec_result, dec_state=self.decoder(joint_dec_inputs_context)\n",
        "    #     gc.collect()\n",
        "    #     #print(\"incomplete\",tracemalloc.get_traced_memory())\n",
        "\n",
        "    #     return dec_result,dec_state\n",
        "\n",
        "    # def rollout(self,dec_st,context_vector, initial_token,initial_index):\n",
        "    #     dec_state=dec_st\n",
        "    #     dec_pr=np.zeros([sequence_length-initial_index,self.batch_size,1,max_vocab_size],dtype= np.float32)\n",
        "    #     dec_out=initial_token\n",
        "    #     joint_dec_inputs_context=None\n",
        "    #     new_tokens=None\n",
        "    #     for j in range(sequence_length-initial_index):\n",
        "\n",
        "\n",
        "    #         joint_dec_inputs_context=self.decoder.concat_input_context(dec_out[:,-1:], context_vector )\n",
        "\n",
        "\n",
        "    #         dec_pr[j],dec_state=self.decoder( joint_dec_inputs_context ,dec_state)\n",
        "            \n",
        "    #         #probability distribution of words  \n",
        "    #         # Sample a token\n",
        "    #         new_tokens =tf.random.categorical(dec_pr[j,:,0],1,dtype=tf.int32)  \n",
        "    #         #print('120', psutil.virtual_memory()[2])\n",
        "    #         dec_out= tf.concat([dec_out, new_tokens],-1)  \n",
        "    #         #print('123', psutil.virtual_memory()[2])\n",
        "          \n",
        "    #         joint_dec_inputs_context=None\n",
        "            \n",
        "    #         gc.collect()\n",
        "\n",
        "\n",
        "    #     self.dec_prob=tf.transpose(dec_pr,[2,1,0,3])[0]\n",
        "    #     dec_pr=None \n",
        "    #     gc.collect()\n",
        "      \n",
        "    #     print('roll out end', psutil.virtual_memory()[2])\n",
        "\n",
        "    #     #print(dec_out)\n",
        "    #     # print(\"\\n\\n\\n\",dec_prob)\n",
        "    #     return dec_out[:,1:]\n",
        "    def train(self,batch_Userdoc,batch_Itemdoc,batch_review,batch_Userdoc_flattened,batch_Itemdoc_flattened,user_review_num,item_review_num):\n",
        "\n",
        "            # t step generator training teacher forcing\n",
        "            for i in range(t_step): \n",
        "              with tf.device('/CPU:0'):\n",
        "               #self._train_step_gn_teacher(batch_UserID,batch_ItemID,batch_review)\n",
        "                with tf.GradientTape() as tape:\n",
        "      \n",
        "                  user_enc_state = self.user_encoder(tf.reshape( tf.convert_to_tensor(batch_Userdoc_flattened,dtype=tf.int32) ,[user_review_num,review_max_length])) # user vector representations      \n",
        "                  item_enc_state = self.item_encoder(tf.reshape( tf.convert_to_tensor(batch_Itemdoc_flattened,dtype=tf.int32) ,[item_review_num,review_max_length])) # item vector representations\n",
        "                      \n",
        "                  pointer=0\n",
        "                  user_context_vector=tf.zeros([0,feature_num])\n",
        "                \n",
        "                  for i,doc in enumerate(batch_Userdoc): \n",
        "                    user_context_vector=tf.concat([ user_context_vector, tf.reduce_mean(user_enc_state[pointer:pointer + doc.shape[0]],0,keepdims=True)   ],0)\n",
        "                    pointer +=doc.shape[0]\n",
        "            \n",
        "                  pointer=0\n",
        "                  item_context_vector=tf.zeros([0,feature_num])\n",
        "                  \n",
        "                  for i,doc in enumerate(batch_Itemdoc): \n",
        "                    item_context_vector=tf.concat([ item_context_vector, tf.reduce_mean(item_enc_state[pointer:pointer + doc.shape[0]],0,keepdims=True)   ],0)\n",
        "                    pointer +=doc.shape[0]\n",
        "\n",
        "                  context_vector= tf.concat( [user_context_vector,item_context_vector],1)\n",
        "            \n",
        "                  loss = tf.constant(0.0)\n",
        "                  dec_pred, dec_state=self.decoder(tf.concat([tf.cast( np.transpose([[2] * batch_size]),dtype=tf.int32 ), batch_review],1) , context_vector)\n",
        "                  \n",
        "                  loss=self.loss_gn(tf.concat([batch_review ,tf.cast( np.transpose([[3] * batch_size]),dtype=tf.int32) ],1),  dec_pred)\n",
        "                variables =self.user_encoder.trainable_variables + self.item_encoder.trainable_variables + self.decoder.trainable_variables\n",
        "                gradients = tape.gradient(loss,variables)\n",
        "                self.optimizer_gn.apply_gradients(zip(gradients, variables))          \n",
        "                print(\"gen batch loss in supervised training\", loss)\n",
        "                \n",
        "                train_plx_gen_tch.update_state(loss)\n",
        " \n",
        "            # g step generator training policy gradient    \n",
        "            for it in range(g_step):             \n",
        "                #self._train_step_gn_policy(batch_UserID,batch_ItemID)  \n",
        "              with tf.device('/CPU:0'):\n",
        "\n",
        "                with tf.GradientTape() as tape:\n",
        "                  user_enc_state = self.user_encoder(tf.reshape( tf.convert_to_tensor(batch_Userdoc_flattened,dtype=tf.int32) ,[user_review_num,review_max_length])) # user vector representations      \n",
        "                  item_enc_state = self.item_encoder(tf.reshape( tf.convert_to_tensor(batch_Itemdoc_flattened,dtype=tf.int32) ,[item_review_num,review_max_length])) # item vector representations                   \n",
        "                  pointer=0\n",
        "                  user_context_vector=tf.zeros([0,feature_num])                \n",
        "                  for i,doc in enumerate(batch_Userdoc): \n",
        "                    user_context_vector=tf.concat([ user_context_vector, tf.reduce_mean(user_enc_state[pointer:pointer + doc.shape[0]],0,keepdims=True)   ],0)\n",
        "                    pointer +=doc.shape[0]            \n",
        "                  pointer=0\n",
        "                  item_context_vector=tf.zeros([0,feature_num])                  \n",
        "                  for i,doc in enumerate(batch_Itemdoc): \n",
        "                    item_context_vector=tf.concat([ item_context_vector, tf.reduce_mean(item_enc_state[pointer:pointer + doc.shape[0]],0,keepdims=True)   ],0)\n",
        "                    pointer +=doc.shape[0]\n",
        "                  context_vector= tf.concat( [user_context_vector,item_context_vector],1)\n",
        "                 \n",
        "                  dec_state=None\n",
        "                  dec_prob=[]\n",
        "                  generated_samples=tf.cast(tf.constant(np.full((len(batch_Itemdoc),1),2)),dtype=tf.int32)\n",
        "                      \n",
        "                  for j in range(sequence_length):                      \n",
        "                      d_prob,dec_state=self.decoder( generated_samples[:,j:j+1], context_vector ,dec_state)\n",
        "                      dec_prob.append(d_prob[:,-1])\n",
        "                      #probability distribution of words  \n",
        "                      # Sample a token from the last distribution\n",
        "                      new_tokens =tf.random.categorical(d_prob[:,-1],1,dtype=tf.int32)    \n",
        "                      generated_samples= tf.concat([generated_samples, new_tokens],-1)   \n",
        "                      del d_prob          \n",
        "                                  \n",
        "                  #generated_samples,context_vector= self.generate_sample(batch_UserID,batch_ItemID)\n",
        "                  #generated_samples=tf.cast(tf.concat([generated_samples,np.transpose([[3] * batch_size])],1),dtype=tf.int32)\n",
        "       # generating samples\n",
        "                  g_loss = tf.constant(0.0)           \n",
        "\n",
        "                  reward=[]\n",
        "                  with tape.stop_recording():\n",
        "                    for k in range(rollout_num):\n",
        "                      \n",
        "                        for given_num in range(1,sequence_length+1):\n",
        "                          # the generation of first part of seq\n",
        "                          _, dec_state=self.decoder(generated_samples[:,:given_num], context_vector)\n",
        "\n",
        "                          # generated probability distribution given the samples\n",
        "                          dec_rollout_prob=tf.zeros([batch_size,1,max_vocab_size],dtype= tf.float32)                     \n",
        "                          rollout_samples=tf.zeros([sequence_length-given_num+1, batch_size] ,dtype= tf.int32)                 \n",
        "                          rd=None\n",
        "\n",
        "                          if given_num!=sequence_length+2:\n",
        "                              # sampling seq length - i tokens with the roll out policy \n",
        "                            \n",
        "                              current_input_token=generated_samples[:,given_num-1:given_num]\n",
        "                              rollout_samples_list =tf.unstack(rollout_samples)                   \n",
        "                              for j in range(sequence_length-given_num+2):\n",
        "                                  dec_rollout_prob,dec_state=self.decoder( current_input_token, context_vector ,dec_state)\n",
        "                              \n",
        "                                  # Sample a token\n",
        "                                  current_input_token = tf.random.categorical(dec_rollout_prob[:,0,:],1,dtype=tf.int32) \n",
        "\n",
        "                                  rollout_samples_list.append(current_input_token[:,0])\n",
        "                          \n",
        "                              rollout_samples=tf.stack(tf.transpose(rollout_samples_list))   \n",
        "                              full_samples= tf.concat([ generated_samples[:,1:given_num], rollout_samples] ,1)\n",
        "                              dec_rollout_prob=None\n",
        "                              rollout_samples=None                        \n",
        "                              gc.collect()\n",
        "                              gc.collect(0)   \n",
        "                              gc.collect(1)   \n",
        "                              gc.collect(2)   \n",
        "\n",
        "                              #full sample\n",
        "                              rd=self.discriminator.get_reward(full_samples,context_vector)\n",
        "\n",
        "                          else:\n",
        "                              rd=self.discriminator.get_reward(generated_samples[:,1:],context_vector)\n",
        "                              #  print(\"size of dis\",asizeof.asized(self.discriminator, detail=1).format() )\n",
        "\n",
        "                        \n",
        "                          if k==0: \n",
        "                              reward.append(rd)\n",
        "                          else:\n",
        "                            reward[given_num-1] +=rd  \n",
        "\n",
        "\n",
        "                  reward= tf.stack(reward,1)/ rollout_num # batchsize * seq_length\n",
        "                  g_loss= self.loss_fn(generated_samples[:,1:] , tf.transpose( tf.stack(dec_prob) ,[1,0,2]) , reward)\n",
        "                variables = self.user_encoder.trainable_variables + self.item_encoder.trainable_variables + self.decoder.trainable_variables \n",
        "                gradients = tape.gradient(g_loss, variables)                  \n",
        "                self.optimizer_gn.apply_gradients(zip(gradients, variables))\n",
        "                print(\"gen batch loss in policy gradient training: \",g_loss)\n",
        "                train_plx_gen_plc.update_state(g_loss)\n",
        "          \n",
        "            # d step discriminator training\n",
        "            for it in range(d_step):\n",
        "                self._train_step_disc()\n",
        "\n",
        "\n"
      ]
    },
    {
      "cell_type": "markdown",
      "metadata": {
        "id": "_3YKdf1-uW8Q"
      },
      "source": [
        "# **Multi-Task Learning**"
      ]
    },
    {
      "cell_type": "code",
      "execution_count": 82,
      "metadata": {
        "id": "khZxlR9oRxVe"
      },
      "outputs": [],
      "source": [
        "class MultiTaskModel(tf.keras.Model):\n",
        "      def __init__(self):\n",
        "        super().__init__()\n",
        "        self.pmf_model=PMF(num_feat=feature_num,maxepoch=100,num_item=len(item_to_column) ,num_user=len(user_to_row), mean_inv=np.mean(train_data['rating']))\n",
        "        self.seq2seq_model=Seq2Seq(embedding_dim,num_batches,batch_size)      \n",
        "\n",
        "      def train(self,n_epochs):    \n",
        "          ckpt.restore(manager.latest_checkpoint)\n",
        "          if manager.latest_checkpoint:\n",
        "            print(\"Restored from {}\".format(manager.latest_checkpoint))\n",
        "          else:\n",
        "            print(\"Initializing from scratch.\")\n",
        "\n",
        "          for epoch in range(n_epochs):\n",
        "            ckpt.step.assign_add(1)\n",
        "            print(\"\\n\\nepoch : \", ckpt.step.value())\n",
        "            print(\"********************************************* \\nPMF Model Training Turn =>\")\n",
        "            self.pmf_model.train()\n",
        "            print(\"********************************************* \\nSeq2Seq Model Training Turn =>\")             \n",
        "           \n",
        "            shuffled_order = np.arange(train_data.shape[0]) \n",
        "            np.random.shuffle(shuffled_order) \n",
        "    \n",
        "            for batch in range(4):\n",
        "              with tf.profiler.experimental.Trace(\"train\",step_num=batch, _r=1):\n",
        "                print(\"\\nbatch number : \",batch)\n",
        "                test = np.arange(batch_size * batch, batch_size * (batch + 1))\n",
        "                batch_idx = np.mod(test, shuffled_order.shape[0])\n",
        "                batch_UserID = np.array(train_data['userid'][shuffled_order[batch_idx]], dtype=np.int16)\n",
        "                batch_ItemID = np.array(train_data['itemid'][shuffled_order[batch_idx]], dtype=np.int16)\n",
        "                batch_review = np.array(train_data['review'][shuffled_order[batch_idx]], dtype=np.int32)\n",
        "\n",
        "                batch_Userdoc=[user_doc[i] for i in batch_UserID]\n",
        "                batch_Itemdoc=[item_doc[i] for i in batch_ItemID]\n",
        "                user_review_num=np.sum([it.shape[0] for it in batch_Userdoc],dtype=int)\n",
        "                item_review_num=np.sum([it.shape[0] for it in batch_Itemdoc],dtype=int)\n",
        "\n",
        "                batch_Userdoc_flattened= []\n",
        "                for i, doc in enumerate(batch_Userdoc):\n",
        "                    batch_Userdoc_flattened=np.append(batch_Userdoc_flattened, doc)\n",
        "\n",
        "                batch_Itemdoc_flattened= []\n",
        "                for i, doc in enumerate(batch_Itemdoc):\n",
        "                    batch_Itemdoc_flattened=np.append(batch_Itemdoc_flattened, doc)\n",
        "                #tf.summary.trace_on(graph=True, profiler=True)\n",
        "                \n",
        "                z = self.seq2seq_model.train( batch_Userdoc,batch_Itemdoc,batch_review,tf.cast( batch_Userdoc_flattened,dtype=tf.int32) , tf.cast(batch_Itemdoc_flattened , dtype=tf.int32),user_review_num,item_review_num)\n",
        "           \n",
        "\n",
        "            # for (x_test, y_test) in test_dataset:\n",
        "            #       test_step(model, x_test, y_test)\n",
        "\n",
        "            with train_summary_writer.as_default():\n",
        "                tf.summary.scalar('Training perplexity for generator in Teacher Forcing mode', train_plx_gen_tch.result(), step=int(ckpt.step))\n",
        "                tf.summary.scalar('Training perplexity for generator in Policy Gradient mode', train_plx_gen_plc.result(), step=int(ckpt.step))\n",
        "                tf.summary.scalar('Training accuracy for discriminator', train_acc_dis.result(), step=int(ckpt.step))\n",
        "          \n",
        "            save_path = manager.save()\n",
        "            print(\"Saved checkpoint for epoch {}: {}\".format(int(ckpt.step), save_path))\n",
        "            # with graph_summary_writer.as_default():\n",
        "            #     tf.summary.trace_export('seq2seq train step',profiler_outdir=graph_log_dir,step=epoch)\n"
      ]
    },
    {
      "cell_type": "code",
      "execution_count": 83,
      "metadata": {
        "colab": {
          "base_uri": "https://localhost:8080/"
        },
        "id": "mrzxSK6IUr6O",
        "outputId": "212b1776-5de7-4896-f09a-4ea54c2405df"
      },
      "outputs": [],
      "source": [
        "gc.collect()\n",
        "gc.collect(0)\n",
        "gc.collect(1)\n",
        "gc.collect(2)\n",
        "\n",
        "# creating an instance of Multi_Task Model\n",
        "mt_model = MultiTaskModel()\n",
        "ckpt = tf.train.Checkpoint(step=tf.Variable(0), optimizer=tf.keras.optimizers.Adam(), net=mt_model)\n",
        "manager = tf.train.CheckpointManager(ckpt, './tf_ckpts', max_to_keep=30)\n"
      ]
    },
    {
      "cell_type": "code",
      "execution_count": 84,
      "metadata": {},
      "outputs": [
        {
          "name": "stdout",
          "output_type": "stream",
          "text": [
            "Initializing from scratch.\n",
            "\n",
            "\n",
            "epoch :  tf.Tensor(1, shape=(), dtype=int32)\n",
            "********************************************* \n",
            "PMF Model Training Turn =>\n",
            "\n",
            "Training RMSE: 1.088821, Test RMSE 1.080975\n",
            "********************************************* \n",
            "Seq2Seq Model Training Turn =>\n",
            "\n",
            "batch number :  0\n",
            "gen batch loss in supervised training tf.Tensor(8.968948, shape=(), dtype=float32)\n",
            "gen batch loss in policy gradient training:  tf.Tensor(4.379388, shape=(), dtype=float32)\n"
          ]
        },
        {
          "name": "stderr",
          "output_type": "stream",
          "text": [
            "2022-11-12 08:44:51.686088: I tensorflow/stream_executor/cuda/cuda_dnn.cc:384] Loaded cuDNN version 8500\n",
            "2022-11-12 08:44:51.832270: I tensorflow/stream_executor/cuda/cuda_blas.cc:1786] TensorFloat-32 will be used for the matrix multiplication. This will only be logged once.\n"
          ]
        },
        {
          "name": "stdout",
          "output_type": "stream",
          "text": [
            "disc loss:  tf.Tensor(0.83861816, shape=(), dtype=float32)\n",
            "disc loss:  tf.Tensor(0.80156595, shape=(), dtype=float32)\n",
            "disc loss:  tf.Tensor(0.6616432, shape=(), dtype=float32)\n",
            "\n",
            "batch number :  1\n",
            "gen batch loss in supervised training tf.Tensor(8.969032, shape=(), dtype=float32)\n",
            "gen batch loss in policy gradient training:  tf.Tensor(3.9726968, shape=(), dtype=float32)\n",
            "disc loss:  tf.Tensor(0.86532676, shape=(), dtype=float32)\n",
            "disc loss:  tf.Tensor(0.9828205, shape=(), dtype=float32)\n",
            "disc loss:  tf.Tensor(0.78292257, shape=(), dtype=float32)\n",
            "\n",
            "batch number :  2\n",
            "gen batch loss in supervised training tf.Tensor(8.967207, shape=(), dtype=float32)\n",
            "gen batch loss in policy gradient training:  tf.Tensor(3.8955364, shape=(), dtype=float32)\n",
            "disc loss:  tf.Tensor(0.75775397, shape=(), dtype=float32)\n",
            "disc loss:  tf.Tensor(0.6096597, shape=(), dtype=float32)\n",
            "disc loss:  tf.Tensor(0.6041478, shape=(), dtype=float32)\n",
            "\n",
            "batch number :  3\n",
            "gen batch loss in supervised training tf.Tensor(8.964048, shape=(), dtype=float32)\n",
            "gen batch loss in policy gradient training:  tf.Tensor(3.8437645, shape=(), dtype=float32)\n",
            "disc loss:  tf.Tensor(0.4937048, shape=(), dtype=float32)\n",
            "disc loss:  tf.Tensor(0.58887255, shape=(), dtype=float32)\n",
            "disc loss:  tf.Tensor(0.588817, shape=(), dtype=float32)\n",
            "Saved checkpoint for epoch 1: ./tf_ckpts/ckpt-1\n",
            "\n",
            "\n",
            "epoch :  tf.Tensor(2, shape=(), dtype=int32)\n",
            "********************************************* \n",
            "PMF Model Training Turn =>\n",
            "\n",
            "Training RMSE: 1.085345, Test RMSE 1.080986\n",
            "********************************************* \n",
            "Seq2Seq Model Training Turn =>\n",
            "\n",
            "batch number :  0\n",
            "gen batch loss in supervised training tf.Tensor(8.987452, shape=(), dtype=float32)\n",
            "gen batch loss in policy gradient training:  tf.Tensor(3.82299, shape=(), dtype=float32)\n",
            "disc loss:  tf.Tensor(0.46955743, shape=(), dtype=float32)\n",
            "disc loss:  tf.Tensor(0.43520874, shape=(), dtype=float32)\n",
            "disc loss:  tf.Tensor(0.4341752, shape=(), dtype=float32)\n",
            "\n",
            "batch number :  1\n",
            "gen batch loss in supervised training tf.Tensor(8.954079, shape=(), dtype=float32)\n",
            "gen batch loss in policy gradient training:  tf.Tensor(3.131596, shape=(), dtype=float32)\n",
            "disc loss:  tf.Tensor(0.46294615, shape=(), dtype=float32)\n",
            "disc loss:  tf.Tensor(0.30800492, shape=(), dtype=float32)\n",
            "disc loss:  tf.Tensor(0.41058248, shape=(), dtype=float32)\n",
            "\n",
            "batch number :  2\n",
            "gen batch loss in supervised training tf.Tensor(8.950916, shape=(), dtype=float32)\n",
            "gen batch loss in policy gradient training:  tf.Tensor(3.017918, shape=(), dtype=float32)\n",
            "disc loss:  tf.Tensor(0.42523682, shape=(), dtype=float32)\n",
            "disc loss:  tf.Tensor(0.2762773, shape=(), dtype=float32)\n",
            "disc loss:  tf.Tensor(0.30388457, shape=(), dtype=float32)\n",
            "\n",
            "batch number :  3\n",
            "gen batch loss in supervised training tf.Tensor(9.1232605, shape=(), dtype=float32)\n",
            "gen batch loss in policy gradient training:  tf.Tensor(2.8644426, shape=(), dtype=float32)\n",
            "disc loss:  tf.Tensor(0.2855515, shape=(), dtype=float32)\n",
            "disc loss:  tf.Tensor(0.23687534, shape=(), dtype=float32)\n",
            "disc loss:  tf.Tensor(0.2721105, shape=(), dtype=float32)\n",
            "Saved checkpoint for epoch 2: ./tf_ckpts/ckpt-2\n",
            "\n",
            "\n",
            "epoch :  tf.Tensor(3, shape=(), dtype=int32)\n",
            "********************************************* \n",
            "PMF Model Training Turn =>\n",
            "\n",
            "Training RMSE: 1.081847, Test RMSE 1.081006\n",
            "********************************************* \n",
            "Seq2Seq Model Training Turn =>\n",
            "\n",
            "batch number :  0\n",
            "gen batch loss in supervised training tf.Tensor(8.9411, shape=(), dtype=float32)\n",
            "gen batch loss in policy gradient training:  tf.Tensor(2.8503628, shape=(), dtype=float32)\n",
            "disc loss:  tf.Tensor(0.3425234, shape=(), dtype=float32)\n",
            "disc loss:  tf.Tensor(0.1862432, shape=(), dtype=float32)\n",
            "disc loss:  tf.Tensor(0.26736695, shape=(), dtype=float32)\n",
            "\n",
            "batch number :  1\n",
            "gen batch loss in supervised training tf.Tensor(8.929201, shape=(), dtype=float32)\n",
            "gen batch loss in policy gradient training:  tf.Tensor(3.2265556, shape=(), dtype=float32)\n",
            "disc loss:  tf.Tensor(0.24210027, shape=(), dtype=float32)\n",
            "disc loss:  tf.Tensor(0.1815013, shape=(), dtype=float32)\n",
            "disc loss:  tf.Tensor(0.14539267, shape=(), dtype=float32)\n",
            "\n",
            "batch number :  2\n",
            "gen batch loss in supervised training tf.Tensor(8.926603, shape=(), dtype=float32)\n",
            "gen batch loss in policy gradient training:  tf.Tensor(3.6401012, shape=(), dtype=float32)\n",
            "disc loss:  tf.Tensor(0.1897082, shape=(), dtype=float32)\n",
            "disc loss:  tf.Tensor(0.20255733, shape=(), dtype=float32)\n",
            "disc loss:  tf.Tensor(0.18606499, shape=(), dtype=float32)\n",
            "\n",
            "batch number :  3\n",
            "gen batch loss in supervised training tf.Tensor(8.914705, shape=(), dtype=float32)\n",
            "gen batch loss in policy gradient training:  tf.Tensor(3.4730728, shape=(), dtype=float32)\n",
            "disc loss:  tf.Tensor(0.22972059, shape=(), dtype=float32)\n",
            "disc loss:  tf.Tensor(0.105088644, shape=(), dtype=float32)\n",
            "disc loss:  tf.Tensor(0.18054254, shape=(), dtype=float32)\n",
            "Saved checkpoint for epoch 3: ./tf_ckpts/ckpt-3\n",
            "\n",
            "\n",
            "epoch :  tf.Tensor(4, shape=(), dtype=int32)\n",
            "********************************************* \n",
            "PMF Model Training Turn =>\n",
            "\n",
            "Training RMSE: 1.078078, Test RMSE 1.081034\n",
            "********************************************* \n",
            "Seq2Seq Model Training Turn =>\n",
            "\n",
            "batch number :  0\n",
            "gen batch loss in supervised training tf.Tensor(9.028083, shape=(), dtype=float32)\n",
            "gen batch loss in policy gradient training:  tf.Tensor(3.6883578, shape=(), dtype=float32)\n",
            "disc loss:  tf.Tensor(0.15653247, shape=(), dtype=float32)\n",
            "disc loss:  tf.Tensor(0.1493974, shape=(), dtype=float32)\n",
            "disc loss:  tf.Tensor(0.07883577, shape=(), dtype=float32)\n",
            "\n",
            "batch number :  1\n",
            "gen batch loss in supervised training tf.Tensor(8.892365, shape=(), dtype=float32)\n",
            "gen batch loss in policy gradient training:  tf.Tensor(3.8232658, shape=(), dtype=float32)\n",
            "disc loss:  tf.Tensor(0.11132481, shape=(), dtype=float32)\n",
            "disc loss:  tf.Tensor(0.07299258, shape=(), dtype=float32)\n",
            "disc loss:  tf.Tensor(0.1181849, shape=(), dtype=float32)\n",
            "\n",
            "batch number :  2\n",
            "gen batch loss in supervised training tf.Tensor(8.8818655, shape=(), dtype=float32)\n",
            "gen batch loss in policy gradient training:  tf.Tensor(3.703238, shape=(), dtype=float32)\n",
            "disc loss:  tf.Tensor(0.0809252, shape=(), dtype=float32)\n",
            "disc loss:  tf.Tensor(0.10816908, shape=(), dtype=float32)\n",
            "disc loss:  tf.Tensor(0.22551632, shape=(), dtype=float32)\n",
            "\n",
            "batch number :  3\n",
            "gen batch loss in supervised training tf.Tensor(8.868853, shape=(), dtype=float32)\n",
            "gen batch loss in policy gradient training:  tf.Tensor(3.8440719, shape=(), dtype=float32)\n",
            "disc loss:  tf.Tensor(0.0752457, shape=(), dtype=float32)\n",
            "disc loss:  tf.Tensor(0.09660255, shape=(), dtype=float32)\n",
            "disc loss:  tf.Tensor(0.06568953, shape=(), dtype=float32)\n",
            "Saved checkpoint for epoch 4: ./tf_ckpts/ckpt-4\n",
            "\n",
            "\n",
            "epoch :  tf.Tensor(5, shape=(), dtype=int32)\n",
            "********************************************* \n",
            "PMF Model Training Turn =>\n",
            "\n",
            "Training RMSE: 1.073711, Test RMSE 1.081068\n",
            "********************************************* \n",
            "Seq2Seq Model Training Turn =>\n",
            "\n",
            "batch number :  0\n",
            "gen batch loss in supervised training tf.Tensor(8.869921, shape=(), dtype=float32)\n",
            "gen batch loss in policy gradient training:  tf.Tensor(3.9245238, shape=(), dtype=float32)\n",
            "disc loss:  tf.Tensor(0.084425785, shape=(), dtype=float32)\n",
            "disc loss:  tf.Tensor(0.11654259, shape=(), dtype=float32)\n",
            "disc loss:  tf.Tensor(0.08294447, shape=(), dtype=float32)\n",
            "\n",
            "batch number :  1\n",
            "gen batch loss in supervised training tf.Tensor(8.840393, shape=(), dtype=float32)\n",
            "gen batch loss in policy gradient training:  tf.Tensor(4.0665073, shape=(), dtype=float32)\n",
            "disc loss:  tf.Tensor(0.10829483, shape=(), dtype=float32)\n",
            "disc loss:  tf.Tensor(0.098282516, shape=(), dtype=float32)\n",
            "disc loss:  tf.Tensor(0.10528128, shape=(), dtype=float32)\n",
            "\n",
            "batch number :  2\n",
            "gen batch loss in supervised training tf.Tensor(8.818782, shape=(), dtype=float32)\n",
            "gen batch loss in policy gradient training:  tf.Tensor(4.440043, shape=(), dtype=float32)\n",
            "disc loss:  tf.Tensor(0.058606554, shape=(), dtype=float32)\n",
            "disc loss:  tf.Tensor(0.055610016, shape=(), dtype=float32)\n",
            "disc loss:  tf.Tensor(0.055292733, shape=(), dtype=float32)\n",
            "\n",
            "batch number :  3\n",
            "gen batch loss in supervised training tf.Tensor(8.80283, shape=(), dtype=float32)\n",
            "gen batch loss in policy gradient training:  tf.Tensor(4.295617, shape=(), dtype=float32)\n",
            "disc loss:  tf.Tensor(0.1707101, shape=(), dtype=float32)\n",
            "disc loss:  tf.Tensor(0.08343799, shape=(), dtype=float32)\n",
            "disc loss:  tf.Tensor(0.098131925, shape=(), dtype=float32)\n",
            "Saved checkpoint for epoch 5: ./tf_ckpts/ckpt-5\n"
          ]
        }
      ],
      "source": [
        "mt_model.train(n_epochs=5)"
      ]
    },
    {
      "cell_type": "markdown",
      "metadata": {},
      "source": [
        "# **Ploting Results**"
      ]
    },
    {
      "cell_type": "code",
      "execution_count": 85,
      "metadata": {},
      "outputs": [],
      "source": [
        "%load_ext tensorboard"
      ]
    },
    {
      "cell_type": "code",
      "execution_count": 87,
      "metadata": {},
      "outputs": [
        {
          "data": {
            "text/plain": [
              "Reusing TensorBoard on port 6006 (pid 9907), started 0:02:11 ago. (Use '!kill 9907' to kill it.)"
            ]
          },
          "metadata": {},
          "output_type": "display_data"
        },
        {
          "data": {
            "text/html": [
              "\n",
              "      <iframe id=\"tensorboard-frame-717207e071064105\" width=\"100%\" height=\"800\" frameborder=\"0\">\n",
              "      </iframe>\n",
              "      <script>\n",
              "        (function() {\n",
              "          const frame = document.getElementById(\"tensorboard-frame-717207e071064105\");\n",
              "          const url = new URL(\"http://localhost\");\n",
              "          const port = 6006;\n",
              "          if (port) {\n",
              "            url.port = port;\n",
              "          }\n",
              "          frame.src = url;\n",
              "        })();\n",
              "      </script>\n",
              "    "
            ],
            "text/plain": [
              "<IPython.core.display.HTML object>"
            ]
          },
          "metadata": {},
          "output_type": "display_data"
        }
      ],
      "source": [
        "%tensorboard --logdir logs\n"
      ]
    },
    {
      "cell_type": "markdown",
      "metadata": {
        "id": "xniWi24qcZsb"
      },
      "source": [
        "# test code"
      ]
    },
    {
      "cell_type": "code",
      "execution_count": 106,
      "metadata": {},
      "outputs": [
        {
          "name": "stdout",
          "output_type": "stream",
          "text": [
            "[array([0, 1, 2, 3]), array([ 0, -1, -2, -3])]\n",
            "[array([4, 5, 6, 7]), array([-4, -5, -6, -7])]\n"
          ]
        }
      ],
      "source": [
        "inc_dataset = tf.data.Dataset.range(20)\n",
        "dec_dataset = tf.data.Dataset.range(0, -10, -1)\n",
        "dataset = tf.data.Dataset.zip((inc_dataset, dec_dataset))\n",
        "batched_dataset = dataset.batch(4,drop_remainder=True)\n",
        "\n",
        "for batch in batched_dataset.take(2):\n",
        "  print([arr.numpy() for arr in batch])"
      ]
    },
    {
      "cell_type": "code",
      "execution_count": 107,
      "metadata": {},
      "outputs": [
        {
          "name": "stdout",
          "output_type": "stream",
          "text": [
            "0\n",
            "1\n",
            "2\n",
            "3\n",
            "4\n",
            "5\n",
            "6\n",
            "7\n",
            "8\n",
            "9\n",
            "10\n",
            "11\n",
            "12\n",
            "13\n",
            "14\n",
            "15\n",
            "16\n",
            "17\n",
            "18\n",
            "19\n"
          ]
        }
      ],
      "source": [
        "for i in inc_dataset:\n",
        "    print(i.numpy())"
      ]
    },
    {
      "cell_type": "code",
      "execution_count": 108,
      "metadata": {},
      "outputs": [
        {
          "name": "stdout",
          "output_type": "stream",
          "text": [
            "0\n",
            "3\n",
            "2\n",
            "1\n",
            "4\n",
            "7\n",
            "8\n",
            "9\n",
            "10\n",
            "5\n",
            "13\n",
            "11\n",
            "12\n",
            "14\n",
            "17\n",
            "16\n",
            "6\n",
            "19\n",
            "18\n",
            "15\n"
          ]
        }
      ],
      "source": [
        "for i in inc_dataset.shuffle(4):\n",
        "    print(i.numpy())"
      ]
    },
    {
      "cell_type": "code",
      "execution_count": 109,
      "metadata": {},
      "outputs": [
        {
          "name": "stdout",
          "output_type": "stream",
          "text": [
            "[0 1 2 3]\n",
            "[4 5 6 7]\n",
            "[8 9]\n"
          ]
        }
      ],
      "source": [
        "for e in dataset.batch(4):\n",
        "    print(e[0].numpy())"
      ]
    },
    {
      "cell_type": "code",
      "execution_count": 110,
      "metadata": {
        "id": "85ryd-vJrTix"
      },
      "outputs": [
        {
          "ename": "NameError",
          "evalue": "name 'pm' is not defined",
          "output_type": "error",
          "traceback": [
            "\u001b[0;31m---------------------------------------------------------------------------\u001b[0m",
            "\u001b[0;31mNameError\u001b[0m                                 Traceback (most recent call last)",
            "\u001b[0;32m/tmp/ipykernel_6909/2514589496.py\u001b[0m in \u001b[0;36m<module>\u001b[0;34m\u001b[0m\n\u001b[0;32m----> 1\u001b[0;31m \u001b[0mlog_ps\u001b[0m\u001b[0;34m,\u001b[0m \u001b[0mmse_train\u001b[0m\u001b[0;34m,\u001b[0m \u001b[0mmse_test\u001b[0m\u001b[0;34m=\u001b[0m \u001b[0mpm\u001b[0m\u001b[0;34m.\u001b[0m\u001b[0mtrain\u001b[0m\u001b[0;34m(\u001b[0m\u001b[0;36m10\u001b[0m\u001b[0;34m)\u001b[0m\u001b[0;34m\u001b[0m\u001b[0;34m\u001b[0m\u001b[0m\n\u001b[0m",
            "\u001b[0;31mNameError\u001b[0m: name 'pm' is not defined"
          ]
        }
      ],
      "source": [
        "log_ps, mse_train, mse_test= pm.train(10)"
      ]
    },
    {
      "cell_type": "code",
      "execution_count": null,
      "metadata": {
        "id": "4meEBmwsqMYC"
      },
      "outputs": [],
      "source": [
        "\n",
        "dec_result,dec_state=decoder(dec_output_tokens,dec_output_tokens,context_vector= user_context_vector,state=dec_state)\n",
        "sampled_token = tf.random.categorical(dec_result[:,-1, :], num_samples=1)\n",
        "print( sampled_token.numpy())\n",
        "dec_output_tokens=np.append( dec_output_tokens , sampled_token.numpy()[0])\n",
        "print(dec_output_tokens)\n",
        "\n"
      ]
    },
    {
      "cell_type": "code",
      "execution_count": null,
      "metadata": {
        "id": "b-58-IpbsBSy"
      },
      "outputs": [],
      "source": [
        "dec_output_tokens"
      ]
    },
    {
      "cell_type": "code",
      "execution_count": null,
      "metadata": {
        "id": "nfemPqnVZPwk"
      },
      "outputs": [],
      "source": [
        "sampled_token = tf.random.categorical(dec_result[:, -1, :], num_samples=1)\n",
        "sampled_token.numpy()"
      ]
    },
    {
      "cell_type": "code",
      "execution_count": null,
      "metadata": {
        "id": "M_sYJN4wTBma"
      },
      "outputs": [],
      "source": [
        "vocab = np.array(input_text_processor.get_vocabulary())\n",
        "first_word = vocab[dec_output_tokens]\n",
        "first_word"
      ]
    }
  ],
  "metadata": {
    "colab": {
      "collapsed_sections": [],
      "name": "Explainable Recommender System.ipynb",
      "provenance": [],
      "toc_visible": true
    },
    "gpuClass": "standard",
    "kernelspec": {
      "display_name": "Python 3.7.13 ('colabenv')",
      "language": "python",
      "name": "python3"
    },
    "language_info": {
      "codemirror_mode": {
        "name": "ipython",
        "version": 3
      },
      "file_extension": ".py",
      "mimetype": "text/x-python",
      "name": "python",
      "nbconvert_exporter": "python",
      "pygments_lexer": "ipython3",
      "version": "3.7.13"
    },
    "vscode": {
      "interpreter": {
        "hash": "5859fc1fd51a29bc96a6c335b5cef2533de774a99a73e1484108bae0d11f06ff"
      }
    }
  },
  "nbformat": 4,
  "nbformat_minor": 0
}
