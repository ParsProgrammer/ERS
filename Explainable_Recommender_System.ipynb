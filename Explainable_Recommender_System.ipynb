{
  "cells": [
    {
      "cell_type": "code",
      "execution_count": 1,
      "metadata": {},
      "outputs": [],
      "source": [
        "# uncomment the last two cell to clone the data and enable the GPU\n",
        "#! git clone https://github.com/ParsProgrammer/ERS.git"
      ]
    },
    {
      "cell_type": "code",
      "execution_count": 2,
      "metadata": {},
      "outputs": [],
      "source": [
        "#cd ERS"
      ]
    },
    {
      "cell_type": "markdown",
      "metadata": {},
      "source": [
        "# **Packages**"
      ]
    },
    {
      "cell_type": "code",
      "execution_count": 3,
      "metadata": {
        "colab": {
          "base_uri": "https://localhost:8080/"
        },
        "id": "xrzVYQNxJm_W",
        "outputId": "8f98d417-6c2d-47ff-a041-84238103eba9"
      },
      "outputs": [
        {
          "name": "stdout",
          "output_type": "stream",
          "text": [
            "Requirement already satisfied: tensorflow-gpu==2.9 in /home/mobin/anaconda3/envs/colabenv/lib/python3.7/site-packages (2.9.0)\n",
            "Requirement already satisfied: termcolor>=1.1.0 in /home/mobin/anaconda3/envs/colabenv/lib/python3.7/site-packages (from tensorflow-gpu==2.9) (1.1.0)\n",
            "Requirement already satisfied: tensorflow-io-gcs-filesystem>=0.23.1 in /home/mobin/anaconda3/envs/colabenv/lib/python3.7/site-packages (from tensorflow-gpu==2.9) (0.26.0)\n",
            "Requirement already satisfied: keras-preprocessing>=1.1.1 in /home/mobin/anaconda3/envs/colabenv/lib/python3.7/site-packages (from tensorflow-gpu==2.9) (1.1.2)\n",
            "Requirement already satisfied: absl-py>=1.0.0 in /home/mobin/anaconda3/envs/colabenv/lib/python3.7/site-packages (from tensorflow-gpu==2.9) (1.2.0)\n",
            "Requirement already satisfied: keras<2.10.0,>=2.9.0rc0 in /home/mobin/anaconda3/envs/colabenv/lib/python3.7/site-packages (from tensorflow-gpu==2.9) (2.9.0)\n",
            "Requirement already satisfied: gast<=0.4.0,>=0.2.1 in /home/mobin/anaconda3/envs/colabenv/lib/python3.7/site-packages (from tensorflow-gpu==2.9) (0.4.0)\n",
            "Requirement already satisfied: numpy>=1.20 in /home/mobin/anaconda3/envs/colabenv/lib/python3.7/site-packages (from tensorflow-gpu==2.9) (1.21.6)\n",
            "Requirement already satisfied: tensorboard<2.10,>=2.9 in /home/mobin/anaconda3/envs/colabenv/lib/python3.7/site-packages (from tensorflow-gpu==2.9) (2.9.1)\n",
            "Requirement already satisfied: tensorflow-estimator<2.10.0,>=2.9.0rc0 in /home/mobin/anaconda3/envs/colabenv/lib/python3.7/site-packages (from tensorflow-gpu==2.9) (2.9.0)\n",
            "Requirement already satisfied: google-pasta>=0.1.1 in /home/mobin/anaconda3/envs/colabenv/lib/python3.7/site-packages (from tensorflow-gpu==2.9) (0.2.0)\n",
            "Requirement already satisfied: grpcio<2.0,>=1.24.3 in /home/mobin/anaconda3/envs/colabenv/lib/python3.7/site-packages (from tensorflow-gpu==2.9) (1.50.0)\n",
            "Requirement already satisfied: libclang>=13.0.0 in /home/mobin/anaconda3/envs/colabenv/lib/python3.7/site-packages (from tensorflow-gpu==2.9) (14.0.6)\n",
            "Requirement already satisfied: protobuf>=3.9.2 in /home/mobin/anaconda3/envs/colabenv/lib/python3.7/site-packages (from tensorflow-gpu==2.9) (3.19.6)\n",
            "Requirement already satisfied: packaging in /home/mobin/anaconda3/envs/colabenv/lib/python3.7/site-packages (from tensorflow-gpu==2.9) (21.3)\n",
            "Requirement already satisfied: h5py>=2.9.0 in /home/mobin/anaconda3/envs/colabenv/lib/python3.7/site-packages (from tensorflow-gpu==2.9) (3.7.0)\n",
            "Requirement already satisfied: setuptools in /home/mobin/anaconda3/envs/colabenv/lib/python3.7/site-packages (from tensorflow-gpu==2.9) (61.2.0)\n",
            "Requirement already satisfied: flatbuffers<2,>=1.12 in /home/mobin/anaconda3/envs/colabenv/lib/python3.7/site-packages (from tensorflow-gpu==2.9) (1.12)\n",
            "Requirement already satisfied: astunparse>=1.6.0 in /home/mobin/anaconda3/envs/colabenv/lib/python3.7/site-packages (from tensorflow-gpu==2.9) (1.6.3)\n",
            "Requirement already satisfied: wrapt>=1.11.0 in /home/mobin/anaconda3/envs/colabenv/lib/python3.7/site-packages (from tensorflow-gpu==2.9) (1.14.1)\n",
            "Requirement already satisfied: opt-einsum>=2.3.2 in /home/mobin/anaconda3/envs/colabenv/lib/python3.7/site-packages (from tensorflow-gpu==2.9) (3.3.0)\n",
            "Requirement already satisfied: typing-extensions>=3.6.6 in /home/mobin/anaconda3/envs/colabenv/lib/python3.7/site-packages (from tensorflow-gpu==2.9) (4.3.0)\n",
            "Requirement already satisfied: six>=1.12.0 in /home/mobin/anaconda3/envs/colabenv/lib/python3.7/site-packages (from tensorflow-gpu==2.9) (1.16.0)\n",
            "Requirement already satisfied: wheel<1.0,>=0.23.0 in /home/mobin/anaconda3/envs/colabenv/lib/python3.7/site-packages (from astunparse>=1.6.0->tensorflow-gpu==2.9) (0.37.1)\n",
            "Requirement already satisfied: werkzeug>=1.0.1 in /home/mobin/anaconda3/envs/colabenv/lib/python3.7/site-packages (from tensorboard<2.10,>=2.9->tensorflow-gpu==2.9) (2.2.1)\n",
            "Requirement already satisfied: google-auth-oauthlib<0.5,>=0.4.1 in /home/mobin/anaconda3/envs/colabenv/lib/python3.7/site-packages (from tensorboard<2.10,>=2.9->tensorflow-gpu==2.9) (0.4.6)\n",
            "Requirement already satisfied: markdown>=2.6.8 in /home/mobin/anaconda3/envs/colabenv/lib/python3.7/site-packages (from tensorboard<2.10,>=2.9->tensorflow-gpu==2.9) (3.4.1)\n",
            "Requirement already satisfied: requests<3,>=2.21.0 in /home/mobin/anaconda3/envs/colabenv/lib/python3.7/site-packages (from tensorboard<2.10,>=2.9->tensorflow-gpu==2.9) (2.28.1)\n",
            "Requirement already satisfied: tensorboard-data-server<0.7.0,>=0.6.0 in /home/mobin/anaconda3/envs/colabenv/lib/python3.7/site-packages (from tensorboard<2.10,>=2.9->tensorflow-gpu==2.9) (0.6.1)\n",
            "Requirement already satisfied: tensorboard-plugin-wit>=1.6.0 in /home/mobin/anaconda3/envs/colabenv/lib/python3.7/site-packages (from tensorboard<2.10,>=2.9->tensorflow-gpu==2.9) (1.8.1)\n",
            "Requirement already satisfied: google-auth<3,>=1.6.3 in /home/mobin/anaconda3/envs/colabenv/lib/python3.7/site-packages (from tensorboard<2.10,>=2.9->tensorflow-gpu==2.9) (2.9.1)\n",
            "Requirement already satisfied: pyparsing!=3.0.5,>=2.0.2 in /home/mobin/anaconda3/envs/colabenv/lib/python3.7/site-packages (from packaging->tensorflow-gpu==2.9) (3.0.9)\n",
            "Requirement already satisfied: rsa<5,>=3.1.4 in /home/mobin/anaconda3/envs/colabenv/lib/python3.7/site-packages (from google-auth<3,>=1.6.3->tensorboard<2.10,>=2.9->tensorflow-gpu==2.9) (4.9)\n",
            "Requirement already satisfied: pyasn1-modules>=0.2.1 in /home/mobin/anaconda3/envs/colabenv/lib/python3.7/site-packages (from google-auth<3,>=1.6.3->tensorboard<2.10,>=2.9->tensorflow-gpu==2.9) (0.2.8)\n",
            "Requirement already satisfied: cachetools<6.0,>=2.0.0 in /home/mobin/anaconda3/envs/colabenv/lib/python3.7/site-packages (from google-auth<3,>=1.6.3->tensorboard<2.10,>=2.9->tensorflow-gpu==2.9) (4.2.4)\n",
            "Requirement already satisfied: requests-oauthlib>=0.7.0 in /home/mobin/anaconda3/envs/colabenv/lib/python3.7/site-packages (from google-auth-oauthlib<0.5,>=0.4.1->tensorboard<2.10,>=2.9->tensorflow-gpu==2.9) (1.3.1)\n",
            "Requirement already satisfied: importlib-metadata>=4.4 in /home/mobin/anaconda3/envs/colabenv/lib/python3.7/site-packages (from markdown>=2.6.8->tensorboard<2.10,>=2.9->tensorflow-gpu==2.9) (4.12.0)\n",
            "Requirement already satisfied: certifi>=2017.4.17 in /home/mobin/anaconda3/envs/colabenv/lib/python3.7/site-packages (from requests<3,>=2.21.0->tensorboard<2.10,>=2.9->tensorflow-gpu==2.9) (2022.6.15)\n",
            "Requirement already satisfied: idna<4,>=2.5 in /home/mobin/anaconda3/envs/colabenv/lib/python3.7/site-packages (from requests<3,>=2.21.0->tensorboard<2.10,>=2.9->tensorflow-gpu==2.9) (3.3)\n",
            "Requirement already satisfied: charset-normalizer<3,>=2 in /home/mobin/anaconda3/envs/colabenv/lib/python3.7/site-packages (from requests<3,>=2.21.0->tensorboard<2.10,>=2.9->tensorflow-gpu==2.9) (2.1.0)\n",
            "Requirement already satisfied: urllib3<1.27,>=1.21.1 in /home/mobin/anaconda3/envs/colabenv/lib/python3.7/site-packages (from requests<3,>=2.21.0->tensorboard<2.10,>=2.9->tensorflow-gpu==2.9) (1.26.11)\n",
            "Requirement already satisfied: MarkupSafe>=2.1.1 in /home/mobin/anaconda3/envs/colabenv/lib/python3.7/site-packages (from werkzeug>=1.0.1->tensorboard<2.10,>=2.9->tensorflow-gpu==2.9) (2.1.1)\n",
            "Requirement already satisfied: zipp>=0.5 in /home/mobin/anaconda3/envs/colabenv/lib/python3.7/site-packages (from importlib-metadata>=4.4->markdown>=2.6.8->tensorboard<2.10,>=2.9->tensorflow-gpu==2.9) (3.8.1)\n",
            "Requirement already satisfied: pyasn1<0.5.0,>=0.4.6 in /home/mobin/anaconda3/envs/colabenv/lib/python3.7/site-packages (from pyasn1-modules>=0.2.1->google-auth<3,>=1.6.3->tensorboard<2.10,>=2.9->tensorflow-gpu==2.9) (0.4.8)\n",
            "Requirement already satisfied: oauthlib>=3.0.0 in /home/mobin/anaconda3/envs/colabenv/lib/python3.7/site-packages (from requests-oauthlib>=0.7.0->google-auth-oauthlib<0.5,>=0.4.1->tensorboard<2.10,>=2.9->tensorflow-gpu==2.9) (3.2.0)\n",
            "Note: you may need to restart the kernel to use updated packages.\n",
            "Requirement already satisfied: tensorflow-text in /home/mobin/anaconda3/envs/colabenv/lib/python3.7/site-packages (2.9.0)\n",
            "Requirement already satisfied: tensorflow-hub>=0.8.0 in /home/mobin/anaconda3/envs/colabenv/lib/python3.7/site-packages (from tensorflow-text) (0.12.0)\n",
            "Requirement already satisfied: tensorflow<2.10,>=2.9.0 in /home/mobin/anaconda3/envs/colabenv/lib/python3.7/site-packages (from tensorflow-text) (2.9.3)\n",
            "Requirement already satisfied: flatbuffers<2,>=1.12 in /home/mobin/anaconda3/envs/colabenv/lib/python3.7/site-packages (from tensorflow<2.10,>=2.9.0->tensorflow-text) (1.12)\n",
            "Requirement already satisfied: libclang>=13.0.0 in /home/mobin/anaconda3/envs/colabenv/lib/python3.7/site-packages (from tensorflow<2.10,>=2.9.0->tensorflow-text) (14.0.6)\n",
            "Requirement already satisfied: typing-extensions>=3.6.6 in /home/mobin/anaconda3/envs/colabenv/lib/python3.7/site-packages (from tensorflow<2.10,>=2.9.0->tensorflow-text) (4.3.0)\n",
            "Requirement already satisfied: numpy>=1.20 in /home/mobin/anaconda3/envs/colabenv/lib/python3.7/site-packages (from tensorflow<2.10,>=2.9.0->tensorflow-text) (1.21.6)\n",
            "Requirement already satisfied: keras-preprocessing>=1.1.1 in /home/mobin/anaconda3/envs/colabenv/lib/python3.7/site-packages (from tensorflow<2.10,>=2.9.0->tensorflow-text) (1.1.2)\n",
            "Requirement already satisfied: setuptools in /home/mobin/anaconda3/envs/colabenv/lib/python3.7/site-packages (from tensorflow<2.10,>=2.9.0->tensorflow-text) (61.2.0)\n",
            "Requirement already satisfied: six>=1.12.0 in /home/mobin/anaconda3/envs/colabenv/lib/python3.7/site-packages (from tensorflow<2.10,>=2.9.0->tensorflow-text) (1.16.0)\n",
            "Requirement already satisfied: astunparse>=1.6.0 in /home/mobin/anaconda3/envs/colabenv/lib/python3.7/site-packages (from tensorflow<2.10,>=2.9.0->tensorflow-text) (1.6.3)\n",
            "Requirement already satisfied: tensorflow-estimator<2.10.0,>=2.9.0rc0 in /home/mobin/anaconda3/envs/colabenv/lib/python3.7/site-packages (from tensorflow<2.10,>=2.9.0->tensorflow-text) (2.9.0)\n",
            "Requirement already satisfied: grpcio<2.0,>=1.24.3 in /home/mobin/anaconda3/envs/colabenv/lib/python3.7/site-packages (from tensorflow<2.10,>=2.9.0->tensorflow-text) (1.50.0)\n",
            "Requirement already satisfied: protobuf<3.20,>=3.9.2 in /home/mobin/anaconda3/envs/colabenv/lib/python3.7/site-packages (from tensorflow<2.10,>=2.9.0->tensorflow-text) (3.19.6)\n",
            "Requirement already satisfied: packaging in /home/mobin/anaconda3/envs/colabenv/lib/python3.7/site-packages (from tensorflow<2.10,>=2.9.0->tensorflow-text) (21.3)\n",
            "Requirement already satisfied: opt-einsum>=2.3.2 in /home/mobin/anaconda3/envs/colabenv/lib/python3.7/site-packages (from tensorflow<2.10,>=2.9.0->tensorflow-text) (3.3.0)\n",
            "Requirement already satisfied: tensorboard<2.10,>=2.9 in /home/mobin/anaconda3/envs/colabenv/lib/python3.7/site-packages (from tensorflow<2.10,>=2.9.0->tensorflow-text) (2.9.1)\n",
            "Requirement already satisfied: h5py>=2.9.0 in /home/mobin/anaconda3/envs/colabenv/lib/python3.7/site-packages (from tensorflow<2.10,>=2.9.0->tensorflow-text) (3.7.0)\n",
            "Requirement already satisfied: gast<=0.4.0,>=0.2.1 in /home/mobin/anaconda3/envs/colabenv/lib/python3.7/site-packages (from tensorflow<2.10,>=2.9.0->tensorflow-text) (0.4.0)\n",
            "Requirement already satisfied: tensorflow-io-gcs-filesystem>=0.23.1 in /home/mobin/anaconda3/envs/colabenv/lib/python3.7/site-packages (from tensorflow<2.10,>=2.9.0->tensorflow-text) (0.26.0)\n",
            "Requirement already satisfied: google-pasta>=0.1.1 in /home/mobin/anaconda3/envs/colabenv/lib/python3.7/site-packages (from tensorflow<2.10,>=2.9.0->tensorflow-text) (0.2.0)\n",
            "Requirement already satisfied: wrapt>=1.11.0 in /home/mobin/anaconda3/envs/colabenv/lib/python3.7/site-packages (from tensorflow<2.10,>=2.9.0->tensorflow-text) (1.14.1)\n",
            "Requirement already satisfied: termcolor>=1.1.0 in /home/mobin/anaconda3/envs/colabenv/lib/python3.7/site-packages (from tensorflow<2.10,>=2.9.0->tensorflow-text) (1.1.0)\n",
            "Requirement already satisfied: absl-py>=1.0.0 in /home/mobin/anaconda3/envs/colabenv/lib/python3.7/site-packages (from tensorflow<2.10,>=2.9.0->tensorflow-text) (1.2.0)\n",
            "Requirement already satisfied: keras<2.10.0,>=2.9.0rc0 in /home/mobin/anaconda3/envs/colabenv/lib/python3.7/site-packages (from tensorflow<2.10,>=2.9.0->tensorflow-text) (2.9.0)\n",
            "Requirement already satisfied: wheel<1.0,>=0.23.0 in /home/mobin/anaconda3/envs/colabenv/lib/python3.7/site-packages (from astunparse>=1.6.0->tensorflow<2.10,>=2.9.0->tensorflow-text) (0.37.1)\n",
            "Requirement already satisfied: requests<3,>=2.21.0 in /home/mobin/anaconda3/envs/colabenv/lib/python3.7/site-packages (from tensorboard<2.10,>=2.9->tensorflow<2.10,>=2.9.0->tensorflow-text) (2.28.1)\n",
            "Requirement already satisfied: tensorboard-data-server<0.7.0,>=0.6.0 in /home/mobin/anaconda3/envs/colabenv/lib/python3.7/site-packages (from tensorboard<2.10,>=2.9->tensorflow<2.10,>=2.9.0->tensorflow-text) (0.6.1)\n",
            "Requirement already satisfied: google-auth<3,>=1.6.3 in /home/mobin/anaconda3/envs/colabenv/lib/python3.7/site-packages (from tensorboard<2.10,>=2.9->tensorflow<2.10,>=2.9.0->tensorflow-text) (2.9.1)\n",
            "Requirement already satisfied: google-auth-oauthlib<0.5,>=0.4.1 in /home/mobin/anaconda3/envs/colabenv/lib/python3.7/site-packages (from tensorboard<2.10,>=2.9->tensorflow<2.10,>=2.9.0->tensorflow-text) (0.4.6)\n",
            "Requirement already satisfied: werkzeug>=1.0.1 in /home/mobin/anaconda3/envs/colabenv/lib/python3.7/site-packages (from tensorboard<2.10,>=2.9->tensorflow<2.10,>=2.9.0->tensorflow-text) (2.2.1)\n",
            "Requirement already satisfied: markdown>=2.6.8 in /home/mobin/anaconda3/envs/colabenv/lib/python3.7/site-packages (from tensorboard<2.10,>=2.9->tensorflow<2.10,>=2.9.0->tensorflow-text) (3.4.1)\n",
            "Requirement already satisfied: tensorboard-plugin-wit>=1.6.0 in /home/mobin/anaconda3/envs/colabenv/lib/python3.7/site-packages (from tensorboard<2.10,>=2.9->tensorflow<2.10,>=2.9.0->tensorflow-text) (1.8.1)\n",
            "Requirement already satisfied: pyparsing!=3.0.5,>=2.0.2 in /home/mobin/anaconda3/envs/colabenv/lib/python3.7/site-packages (from packaging->tensorflow<2.10,>=2.9.0->tensorflow-text) (3.0.9)\n",
            "Requirement already satisfied: cachetools<6.0,>=2.0.0 in /home/mobin/anaconda3/envs/colabenv/lib/python3.7/site-packages (from google-auth<3,>=1.6.3->tensorboard<2.10,>=2.9->tensorflow<2.10,>=2.9.0->tensorflow-text) (4.2.4)\n",
            "Requirement already satisfied: pyasn1-modules>=0.2.1 in /home/mobin/anaconda3/envs/colabenv/lib/python3.7/site-packages (from google-auth<3,>=1.6.3->tensorboard<2.10,>=2.9->tensorflow<2.10,>=2.9.0->tensorflow-text) (0.2.8)\n",
            "Requirement already satisfied: rsa<5,>=3.1.4 in /home/mobin/anaconda3/envs/colabenv/lib/python3.7/site-packages (from google-auth<3,>=1.6.3->tensorboard<2.10,>=2.9->tensorflow<2.10,>=2.9.0->tensorflow-text) (4.9)\n",
            "Requirement already satisfied: requests-oauthlib>=0.7.0 in /home/mobin/anaconda3/envs/colabenv/lib/python3.7/site-packages (from google-auth-oauthlib<0.5,>=0.4.1->tensorboard<2.10,>=2.9->tensorflow<2.10,>=2.9.0->tensorflow-text) (1.3.1)\n",
            "Requirement already satisfied: importlib-metadata>=4.4 in /home/mobin/anaconda3/envs/colabenv/lib/python3.7/site-packages (from markdown>=2.6.8->tensorboard<2.10,>=2.9->tensorflow<2.10,>=2.9.0->tensorflow-text) (4.12.0)\n",
            "Requirement already satisfied: certifi>=2017.4.17 in /home/mobin/anaconda3/envs/colabenv/lib/python3.7/site-packages (from requests<3,>=2.21.0->tensorboard<2.10,>=2.9->tensorflow<2.10,>=2.9.0->tensorflow-text) (2022.6.15)\n",
            "Requirement already satisfied: charset-normalizer<3,>=2 in /home/mobin/anaconda3/envs/colabenv/lib/python3.7/site-packages (from requests<3,>=2.21.0->tensorboard<2.10,>=2.9->tensorflow<2.10,>=2.9.0->tensorflow-text) (2.1.0)\n",
            "Requirement already satisfied: idna<4,>=2.5 in /home/mobin/anaconda3/envs/colabenv/lib/python3.7/site-packages (from requests<3,>=2.21.0->tensorboard<2.10,>=2.9->tensorflow<2.10,>=2.9.0->tensorflow-text) (3.3)\n",
            "Requirement already satisfied: urllib3<1.27,>=1.21.1 in /home/mobin/anaconda3/envs/colabenv/lib/python3.7/site-packages (from requests<3,>=2.21.0->tensorboard<2.10,>=2.9->tensorflow<2.10,>=2.9.0->tensorflow-text) (1.26.11)\n",
            "Requirement already satisfied: MarkupSafe>=2.1.1 in /home/mobin/anaconda3/envs/colabenv/lib/python3.7/site-packages (from werkzeug>=1.0.1->tensorboard<2.10,>=2.9->tensorflow<2.10,>=2.9.0->tensorflow-text) (2.1.1)\n",
            "Requirement already satisfied: zipp>=0.5 in /home/mobin/anaconda3/envs/colabenv/lib/python3.7/site-packages (from importlib-metadata>=4.4->markdown>=2.6.8->tensorboard<2.10,>=2.9->tensorflow<2.10,>=2.9.0->tensorflow-text) (3.8.1)\n",
            "Requirement already satisfied: pyasn1<0.5.0,>=0.4.6 in /home/mobin/anaconda3/envs/colabenv/lib/python3.7/site-packages (from pyasn1-modules>=0.2.1->google-auth<3,>=1.6.3->tensorboard<2.10,>=2.9->tensorflow<2.10,>=2.9.0->tensorflow-text) (0.4.8)\n",
            "Requirement already satisfied: oauthlib>=3.0.0 in /home/mobin/anaconda3/envs/colabenv/lib/python3.7/site-packages (from requests-oauthlib>=0.7.0->google-auth-oauthlib<0.5,>=0.4.1->tensorboard<2.10,>=2.9->tensorflow<2.10,>=2.9.0->tensorflow-text) (3.2.0)\n",
            "Note: you may need to restart the kernel to use updated packages.\n"
          ]
        }
      ],
      "source": [
        "%pip install tensorflow-gpu==2.9\n",
        "%pip install tensorflow-text"
      ]
    },
    {
      "cell_type": "code",
      "execution_count": 4,
      "metadata": {
        "id": "BTOV54y-ckzq"
      },
      "outputs": [],
      "source": [
        "import tensorflow as tf\n",
        "import tensorflow_text as tf_text"
      ]
    },
    {
      "cell_type": "code",
      "execution_count": 5,
      "metadata": {},
      "outputs": [
        {
          "name": "stdout",
          "output_type": "stream",
          "text": [
            "Requirement already satisfied: matplotlib in /home/mobin/anaconda3/envs/colabenv/lib/python3.7/site-packages (3.5.2)\n",
            "Requirement already satisfied: kiwisolver>=1.0.1 in /home/mobin/anaconda3/envs/colabenv/lib/python3.7/site-packages (from matplotlib) (1.4.4)\n",
            "Requirement already satisfied: packaging>=20.0 in /home/mobin/anaconda3/envs/colabenv/lib/python3.7/site-packages (from matplotlib) (21.3)\n",
            "Requirement already satisfied: pillow>=6.2.0 in /home/mobin/anaconda3/envs/colabenv/lib/python3.7/site-packages (from matplotlib) (9.2.0)\n",
            "Requirement already satisfied: python-dateutil>=2.7 in /home/mobin/anaconda3/envs/colabenv/lib/python3.7/site-packages (from matplotlib) (2.8.2)\n",
            "Requirement already satisfied: pyparsing>=2.2.1 in /home/mobin/anaconda3/envs/colabenv/lib/python3.7/site-packages (from matplotlib) (3.0.9)\n",
            "Requirement already satisfied: numpy>=1.17 in /home/mobin/anaconda3/envs/colabenv/lib/python3.7/site-packages (from matplotlib) (1.21.6)\n",
            "Requirement already satisfied: fonttools>=4.22.0 in /home/mobin/anaconda3/envs/colabenv/lib/python3.7/site-packages (from matplotlib) (4.34.4)\n",
            "Requirement already satisfied: cycler>=0.10 in /home/mobin/anaconda3/envs/colabenv/lib/python3.7/site-packages (from matplotlib) (0.11.0)\n",
            "Requirement already satisfied: typing-extensions in /home/mobin/anaconda3/envs/colabenv/lib/python3.7/site-packages (from kiwisolver>=1.0.1->matplotlib) (4.3.0)\n",
            "Requirement already satisfied: six>=1.5 in /home/mobin/anaconda3/envs/colabenv/lib/python3.7/site-packages (from python-dateutil>=2.7->matplotlib) (1.16.0)\n",
            "Note: you may need to restart the kernel to use updated packages.\n"
          ]
        }
      ],
      "source": [
        "%pip install matplotlib"
      ]
    },
    {
      "cell_type": "code",
      "execution_count": 6,
      "metadata": {
        "id": "1u4wpNQOEUc9"
      },
      "outputs": [],
      "source": [
        "import pandas as pd\n",
        "import gzip\n",
        "import gc\n",
        "import numpy as np\n",
        "from tensorflow import keras\n",
        "from sklearn.model_selection import KFold\n",
        "import datetime \n",
        "import os\n",
        "import matplotlib.pyplot as plt\n"
      ]
    },
    {
      "cell_type": "code",
      "execution_count": 7,
      "metadata": {
        "colab": {
          "base_uri": "https://localhost:8080/"
        },
        "id": "HTkARkSuo9PR",
        "outputId": "8548446d-69cd-4727-8b8f-851569dd33d5"
      },
      "outputs": [
        {
          "name": "stdout",
          "output_type": "stream",
          "text": [
            "Requirement already satisfied: gensim==4.2 in /home/mobin/anaconda3/envs/colabenv/lib/python3.7/site-packages (4.2.0)\n",
            "Requirement already satisfied: scipy>=0.18.1 in /home/mobin/anaconda3/envs/colabenv/lib/python3.7/site-packages (from gensim==4.2) (1.7.3)\n",
            "Requirement already satisfied: numpy>=1.17.0 in /home/mobin/anaconda3/envs/colabenv/lib/python3.7/site-packages (from gensim==4.2) (1.21.6)\n",
            "Requirement already satisfied: smart-open>=1.8.1 in /home/mobin/anaconda3/envs/colabenv/lib/python3.7/site-packages (from gensim==4.2) (6.0.0)\n",
            "Note: you may need to restart the kernel to use updated packages.\n",
            "Requirement already satisfied: nltk in /home/mobin/anaconda3/envs/colabenv/lib/python3.7/site-packages (3.7)\n",
            "Requirement already satisfied: tqdm in /home/mobin/anaconda3/envs/colabenv/lib/python3.7/site-packages (from nltk) (4.64.0)\n",
            "Requirement already satisfied: click in /home/mobin/anaconda3/envs/colabenv/lib/python3.7/site-packages (from nltk) (8.1.3)\n",
            "Requirement already satisfied: joblib in /home/mobin/anaconda3/envs/colabenv/lib/python3.7/site-packages (from nltk) (1.1.0)\n",
            "Requirement already satisfied: regex>=2021.8.3 in /home/mobin/anaconda3/envs/colabenv/lib/python3.7/site-packages (from nltk) (2022.7.25)\n",
            "Requirement already satisfied: importlib-metadata in /home/mobin/anaconda3/envs/colabenv/lib/python3.7/site-packages (from click->nltk) (4.12.0)\n",
            "Requirement already satisfied: zipp>=0.5 in /home/mobin/anaconda3/envs/colabenv/lib/python3.7/site-packages (from importlib-metadata->click->nltk) (3.8.1)\n",
            "Requirement already satisfied: typing-extensions>=3.6.4 in /home/mobin/anaconda3/envs/colabenv/lib/python3.7/site-packages (from importlib-metadata->click->nltk) (4.3.0)\n",
            "Note: you may need to restart the kernel to use updated packages.\n"
          ]
        }
      ],
      "source": [
        "%pip install gensim==4.2\n",
        "%pip install nltk"
      ]
    },
    {
      "cell_type": "code",
      "execution_count": 8,
      "metadata": {},
      "outputs": [],
      "source": [
        "from gensim.models import Word2Vec\n",
        "from gensim.models import KeyedVectors\n",
        "import gensim.downloader as api\n",
        "from nltk.tokenize import sent_tokenize, word_tokenize\n"
      ]
    },
    {
      "cell_type": "code",
      "execution_count": 9,
      "metadata": {
        "colab": {
          "base_uri": "https://localhost:8080/"
        },
        "id": "NnDuJU4fpMLE",
        "outputId": "ecfd7d10-b929-43ce-cd99-0e2213f4e376"
      },
      "outputs": [
        {
          "name": "stderr",
          "output_type": "stream",
          "text": [
            "[nltk_data] Downloading package punkt to /home/mobin/nltk_data...\n",
            "[nltk_data]   Package punkt is already up-to-date!\n"
          ]
        },
        {
          "data": {
            "text/plain": [
              "True"
            ]
          },
          "execution_count": 9,
          "metadata": {},
          "output_type": "execute_result"
        }
      ],
      "source": [
        "import nltk\n",
        "nltk.download('punkt')"
      ]
    },
    {
      "cell_type": "code",
      "execution_count": 10,
      "metadata": {},
      "outputs": [
        {
          "name": "stderr",
          "output_type": "stream",
          "text": [
            "2022-11-26 10:41:00.826300: I tensorflow/stream_executor/cuda/cuda_gpu_executor.cc:975] successful NUMA node read from SysFS had negative value (-1), but there must be at least one NUMA node, so returning NUMA node zero\n",
            "2022-11-26 10:41:00.849254: I tensorflow/stream_executor/cuda/cuda_gpu_executor.cc:975] successful NUMA node read from SysFS had negative value (-1), but there must be at least one NUMA node, so returning NUMA node zero\n",
            "2022-11-26 10:41:00.849433: I tensorflow/stream_executor/cuda/cuda_gpu_executor.cc:975] successful NUMA node read from SysFS had negative value (-1), but there must be at least one NUMA node, so returning NUMA node zero\n",
            "2022-11-26 10:41:00.850486: I tensorflow/core/platform/cpu_feature_guard.cc:193] This TensorFlow binary is optimized with oneAPI Deep Neural Network Library (oneDNN) to use the following CPU instructions in performance-critical operations:  AVX2 FMA\n",
            "To enable them in other operations, rebuild TensorFlow with the appropriate compiler flags.\n",
            "2022-11-26 10:41:00.852015: I tensorflow/stream_executor/cuda/cuda_gpu_executor.cc:975] successful NUMA node read from SysFS had negative value (-1), but there must be at least one NUMA node, so returning NUMA node zero\n",
            "2022-11-26 10:41:00.852192: I tensorflow/stream_executor/cuda/cuda_gpu_executor.cc:975] successful NUMA node read from SysFS had negative value (-1), but there must be at least one NUMA node, so returning NUMA node zero\n",
            "2022-11-26 10:41:00.852300: I tensorflow/stream_executor/cuda/cuda_gpu_executor.cc:975] successful NUMA node read from SysFS had negative value (-1), but there must be at least one NUMA node, so returning NUMA node zero\n",
            "2022-11-26 10:41:01.180333: I tensorflow/stream_executor/cuda/cuda_gpu_executor.cc:975] successful NUMA node read from SysFS had negative value (-1), but there must be at least one NUMA node, so returning NUMA node zero\n",
            "2022-11-26 10:41:01.180523: I tensorflow/stream_executor/cuda/cuda_gpu_executor.cc:975] successful NUMA node read from SysFS had negative value (-1), but there must be at least one NUMA node, so returning NUMA node zero\n",
            "2022-11-26 10:41:01.180646: I tensorflow/stream_executor/cuda/cuda_gpu_executor.cc:975] successful NUMA node read from SysFS had negative value (-1), but there must be at least one NUMA node, so returning NUMA node zero\n",
            "2022-11-26 10:41:01.180745: I tensorflow/core/common_runtime/gpu/gpu_device.cc:1532] Created device /job:localhost/replica:0/task:0/device:GPU:0 with 2132 MB memory:  -> device: 0, name: NVIDIA GeForce RTX 3050 Laptop GPU, pci bus id: 0000:01:00.0, compute capability: 8.6\n"
          ]
        },
        {
          "name": "stdout",
          "output_type": "stream",
          "text": [
            "1 Physical GPUs, 1 Logical GPUs\n"
          ]
        }
      ],
      "source": [
        "gpus = tf.config.list_physical_devices('GPU')\n",
        "if gpus:\n",
        "  try:\n",
        "    # Currently, memory growth needs to be the same across GPUs\n",
        "    for gpu in gpus:\n",
        "      tf.config.experimental.set_memory_growth(gpu, True)\n",
        "    logical_gpus = tf.config.list_logical_devices('GPU')\n",
        "    print(len(gpus), \"Physical GPUs,\", len(logical_gpus), \"Logical GPUs\")\n",
        "  except RuntimeError as e:\n",
        "    # Memory growth must be set before GPUs have been initialized\n",
        "    print(e)\n",
        "else :\n",
        "  print(\"No GPU available\")"
      ]
    },
    {
      "cell_type": "code",
      "execution_count": 11,
      "metadata": {},
      "outputs": [
        {
          "name": "stdout",
          "output_type": "stream",
          "text": [
            "Requirement already satisfied: tensorboard in /home/mobin/anaconda3/envs/colabenv/lib/python3.7/site-packages (2.9.1)\n",
            "Requirement already satisfied: tensorboard-plugin-wit>=1.6.0 in /home/mobin/anaconda3/envs/colabenv/lib/python3.7/site-packages (from tensorboard) (1.8.1)\n",
            "Requirement already satisfied: grpcio>=1.24.3 in /home/mobin/anaconda3/envs/colabenv/lib/python3.7/site-packages (from tensorboard) (1.50.0)\n",
            "Requirement already satisfied: werkzeug>=1.0.1 in /home/mobin/anaconda3/envs/colabenv/lib/python3.7/site-packages (from tensorboard) (2.2.1)\n",
            "Requirement already satisfied: markdown>=2.6.8 in /home/mobin/anaconda3/envs/colabenv/lib/python3.7/site-packages (from tensorboard) (3.4.1)\n",
            "Requirement already satisfied: absl-py>=0.4 in /home/mobin/anaconda3/envs/colabenv/lib/python3.7/site-packages (from tensorboard) (1.2.0)\n",
            "Requirement already satisfied: numpy>=1.12.0 in /home/mobin/anaconda3/envs/colabenv/lib/python3.7/site-packages (from tensorboard) (1.21.6)\n",
            "Requirement already satisfied: google-auth<3,>=1.6.3 in /home/mobin/anaconda3/envs/colabenv/lib/python3.7/site-packages (from tensorboard) (2.9.1)\n",
            "Requirement already satisfied: wheel>=0.26 in /home/mobin/anaconda3/envs/colabenv/lib/python3.7/site-packages (from tensorboard) (0.37.1)\n",
            "Requirement already satisfied: protobuf<3.20,>=3.9.2 in /home/mobin/anaconda3/envs/colabenv/lib/python3.7/site-packages (from tensorboard) (3.19.6)\n",
            "Requirement already satisfied: setuptools>=41.0.0 in /home/mobin/anaconda3/envs/colabenv/lib/python3.7/site-packages (from tensorboard) (61.2.0)\n",
            "Requirement already satisfied: google-auth-oauthlib<0.5,>=0.4.1 in /home/mobin/anaconda3/envs/colabenv/lib/python3.7/site-packages (from tensorboard) (0.4.6)\n",
            "Requirement already satisfied: requests<3,>=2.21.0 in /home/mobin/anaconda3/envs/colabenv/lib/python3.7/site-packages (from tensorboard) (2.28.1)\n",
            "Requirement already satisfied: tensorboard-data-server<0.7.0,>=0.6.0 in /home/mobin/anaconda3/envs/colabenv/lib/python3.7/site-packages (from tensorboard) (0.6.1)\n",
            "Requirement already satisfied: pyasn1-modules>=0.2.1 in /home/mobin/anaconda3/envs/colabenv/lib/python3.7/site-packages (from google-auth<3,>=1.6.3->tensorboard) (0.2.8)\n",
            "Requirement already satisfied: six>=1.9.0 in /home/mobin/anaconda3/envs/colabenv/lib/python3.7/site-packages (from google-auth<3,>=1.6.3->tensorboard) (1.16.0)\n",
            "Requirement already satisfied: rsa<5,>=3.1.4 in /home/mobin/anaconda3/envs/colabenv/lib/python3.7/site-packages (from google-auth<3,>=1.6.3->tensorboard) (4.9)\n",
            "Requirement already satisfied: cachetools<6.0,>=2.0.0 in /home/mobin/anaconda3/envs/colabenv/lib/python3.7/site-packages (from google-auth<3,>=1.6.3->tensorboard) (4.2.4)\n",
            "Requirement already satisfied: requests-oauthlib>=0.7.0 in /home/mobin/anaconda3/envs/colabenv/lib/python3.7/site-packages (from google-auth-oauthlib<0.5,>=0.4.1->tensorboard) (1.3.1)\n",
            "Requirement already satisfied: importlib-metadata>=4.4 in /home/mobin/anaconda3/envs/colabenv/lib/python3.7/site-packages (from markdown>=2.6.8->tensorboard) (4.12.0)\n",
            "Requirement already satisfied: charset-normalizer<3,>=2 in /home/mobin/anaconda3/envs/colabenv/lib/python3.7/site-packages (from requests<3,>=2.21.0->tensorboard) (2.1.0)\n",
            "Requirement already satisfied: urllib3<1.27,>=1.21.1 in /home/mobin/anaconda3/envs/colabenv/lib/python3.7/site-packages (from requests<3,>=2.21.0->tensorboard) (1.26.11)\n",
            "Requirement already satisfied: certifi>=2017.4.17 in /home/mobin/anaconda3/envs/colabenv/lib/python3.7/site-packages (from requests<3,>=2.21.0->tensorboard) (2022.6.15)\n",
            "Requirement already satisfied: idna<4,>=2.5 in /home/mobin/anaconda3/envs/colabenv/lib/python3.7/site-packages (from requests<3,>=2.21.0->tensorboard) (3.3)\n",
            "Requirement already satisfied: MarkupSafe>=2.1.1 in /home/mobin/anaconda3/envs/colabenv/lib/python3.7/site-packages (from werkzeug>=1.0.1->tensorboard) (2.1.1)\n",
            "Requirement already satisfied: zipp>=0.5 in /home/mobin/anaconda3/envs/colabenv/lib/python3.7/site-packages (from importlib-metadata>=4.4->markdown>=2.6.8->tensorboard) (3.8.1)\n",
            "Requirement already satisfied: typing-extensions>=3.6.4 in /home/mobin/anaconda3/envs/colabenv/lib/python3.7/site-packages (from importlib-metadata>=4.4->markdown>=2.6.8->tensorboard) (4.3.0)\n",
            "Requirement already satisfied: pyasn1<0.5.0,>=0.4.6 in /home/mobin/anaconda3/envs/colabenv/lib/python3.7/site-packages (from pyasn1-modules>=0.2.1->google-auth<3,>=1.6.3->tensorboard) (0.4.8)\n",
            "Requirement already satisfied: oauthlib>=3.0.0 in /home/mobin/anaconda3/envs/colabenv/lib/python3.7/site-packages (from requests-oauthlib>=0.7.0->google-auth-oauthlib<0.5,>=0.4.1->tensorboard) (3.2.0)\n",
            "Note: you may need to restart the kernel to use updated packages.\n",
            "Requirement already satisfied: tensorboard_plugin_profile in /home/mobin/anaconda3/envs/colabenv/lib/python3.7/site-packages (2.8.0)\n",
            "Requirement already satisfied: six>=1.10.0 in /home/mobin/anaconda3/envs/colabenv/lib/python3.7/site-packages (from tensorboard_plugin_profile) (1.16.0)\n",
            "Requirement already satisfied: werkzeug>=0.11.15 in /home/mobin/anaconda3/envs/colabenv/lib/python3.7/site-packages (from tensorboard_plugin_profile) (2.2.1)\n",
            "Requirement already satisfied: setuptools>=41.0.0 in /home/mobin/anaconda3/envs/colabenv/lib/python3.7/site-packages (from tensorboard_plugin_profile) (61.2.0)\n",
            "Requirement already satisfied: gviz-api>=1.9.0 in /home/mobin/anaconda3/envs/colabenv/lib/python3.7/site-packages (from tensorboard_plugin_profile) (1.10.0)\n",
            "Requirement already satisfied: protobuf>=3.12.0 in /home/mobin/anaconda3/envs/colabenv/lib/python3.7/site-packages (from tensorboard_plugin_profile) (3.19.6)\n",
            "Requirement already satisfied: MarkupSafe>=2.1.1 in /home/mobin/anaconda3/envs/colabenv/lib/python3.7/site-packages (from werkzeug>=0.11.15->tensorboard_plugin_profile) (2.1.1)\n",
            "Note: you may need to restart the kernel to use updated packages.\n"
          ]
        }
      ],
      "source": [
        "%pip install tensorboard\n",
        "%pip install -U tensorboard_plugin_profile"
      ]
    },
    {
      "cell_type": "markdown",
      "metadata": {
        "id": "DyypFCrlw2SV"
      },
      "source": [
        "# **Data Extraction**"
      ]
    },
    {
      "cell_type": "code",
      "execution_count": 12,
      "metadata": {
        "id": "p7IbgFIxRQb-"
      },
      "outputs": [],
      "source": [
        "def parse(path):\n",
        "  g = gzip.open(path, 'rb')\n",
        "  for l in g:\n",
        "    name=b'\"verified\": \\\"true\\\",'\n",
        "    l=l.replace(b'\"verified\": true,',bytes(name))\n",
        "    name1=b'\"verified\": \\\"false\\\",'\n",
        "    l=l.replace(b'\"verified\": false,',bytes(name))\n",
        "    yield eval(l)\n",
        "\n",
        "def getDF(path):\n",
        "  i = 0\n",
        "  df = {}\n",
        "  for d in parse(path):\n",
        "    df[i] = d\n",
        "    i += 1\n",
        "  return pd.DataFrame.from_dict(df, orient='index')\n",
        "\n",
        "df = getDF('reviews_Grocery_and_Gourmet_Food_5.json.gz')\n",
        "\n",
        "# dataset link\n",
        "# Grocery and Gourmet Food\n",
        "# https://jmcauley.ucsd.edu/data/amazon/"
      ]
    },
    {
      "cell_type": "markdown",
      "metadata": {
        "id": "_auxwvSRYsvu"
      },
      "source": [
        "Dataset Schema"
      ]
    },
    {
      "cell_type": "code",
      "execution_count": 13,
      "metadata": {
        "colab": {
          "base_uri": "https://localhost:8080/",
          "height": 1000
        },
        "id": "E9FGFZINRQOn",
        "outputId": "0dad1216-9ec6-4528-fa44-32ab26a94602"
      },
      "outputs": [
        {
          "data": {
            "text/html": [
              "<div>\n",
              "<style scoped>\n",
              "    .dataframe tbody tr th:only-of-type {\n",
              "        vertical-align: middle;\n",
              "    }\n",
              "\n",
              "    .dataframe tbody tr th {\n",
              "        vertical-align: top;\n",
              "    }\n",
              "\n",
              "    .dataframe thead th {\n",
              "        text-align: right;\n",
              "    }\n",
              "</style>\n",
              "<table border=\"1\" class=\"dataframe\">\n",
              "  <thead>\n",
              "    <tr style=\"text-align: right;\">\n",
              "      <th></th>\n",
              "      <th>userID</th>\n",
              "      <th>itemID</th>\n",
              "      <th>reviewText</th>\n",
              "      <th>rating</th>\n",
              "    </tr>\n",
              "  </thead>\n",
              "  <tbody>\n",
              "    <tr>\n",
              "      <th>0</th>\n",
              "      <td>A1VEELTKS8NLZB</td>\n",
              "      <td>616719923X</td>\n",
              "      <td>Just another flavor of Kit Kat but the taste i...</td>\n",
              "      <td>4.0</td>\n",
              "    </tr>\n",
              "    <tr>\n",
              "      <th>1</th>\n",
              "      <td>A14R9XMZVJ6INB</td>\n",
              "      <td>616719923X</td>\n",
              "      <td>I bought this on impulse and it comes from Jap...</td>\n",
              "      <td>3.0</td>\n",
              "    </tr>\n",
              "    <tr>\n",
              "      <th>2</th>\n",
              "      <td>A27IQHDZFQFNGG</td>\n",
              "      <td>616719923X</td>\n",
              "      <td>Really good. Great gift for any fan of green t...</td>\n",
              "      <td>4.0</td>\n",
              "    </tr>\n",
              "    <tr>\n",
              "      <th>3</th>\n",
              "      <td>A31QY5TASILE89</td>\n",
              "      <td>616719923X</td>\n",
              "      <td>I had never had it before, was curious to see ...</td>\n",
              "      <td>5.0</td>\n",
              "    </tr>\n",
              "    <tr>\n",
              "      <th>4</th>\n",
              "      <td>A2LWK003FFMCI5</td>\n",
              "      <td>616719923X</td>\n",
              "      <td>I've been looking forward to trying these afte...</td>\n",
              "      <td>4.0</td>\n",
              "    </tr>\n",
              "    <tr>\n",
              "      <th>...</th>\n",
              "      <td>...</td>\n",
              "      <td>...</td>\n",
              "      <td>...</td>\n",
              "      <td>...</td>\n",
              "    </tr>\n",
              "    <tr>\n",
              "      <th>151249</th>\n",
              "      <td>A2L6QS8SVHT9RG</td>\n",
              "      <td>B00KCJRVO2</td>\n",
              "      <td>Delicious gluten-free oatmeal: we tried both t...</td>\n",
              "      <td>4.0</td>\n",
              "    </tr>\n",
              "    <tr>\n",
              "      <th>151250</th>\n",
              "      <td>AFJFXN42RZ3G2</td>\n",
              "      <td>B00KCJRVO2</td>\n",
              "      <td>With the many selections of instant oatmeal ce...</td>\n",
              "      <td>4.0</td>\n",
              "    </tr>\n",
              "    <tr>\n",
              "      <th>151251</th>\n",
              "      <td>ASEBX8TBYWQWA</td>\n",
              "      <td>B00KCJRVO2</td>\n",
              "      <td>While I usually review CDs and DVDs, as well a...</td>\n",
              "      <td>5.0</td>\n",
              "    </tr>\n",
              "    <tr>\n",
              "      <th>151252</th>\n",
              "      <td>ANKQGTXHREOI5</td>\n",
              "      <td>B00KCJRVO2</td>\n",
              "      <td>My son and I enjoyed these oatmeal packets.  H...</td>\n",
              "      <td>4.0</td>\n",
              "    </tr>\n",
              "    <tr>\n",
              "      <th>151253</th>\n",
              "      <td>A2CF66KIQ3RKX3</td>\n",
              "      <td>B00KCJRVO2</td>\n",
              "      <td>I like to eat oatmeal i the mornings. I usuall...</td>\n",
              "      <td>4.0</td>\n",
              "    </tr>\n",
              "  </tbody>\n",
              "</table>\n",
              "<p>151254 rows × 4 columns</p>\n",
              "</div>"
            ],
            "text/plain": [
              "                userID      itemID  \\\n",
              "0       A1VEELTKS8NLZB  616719923X   \n",
              "1       A14R9XMZVJ6INB  616719923X   \n",
              "2       A27IQHDZFQFNGG  616719923X   \n",
              "3       A31QY5TASILE89  616719923X   \n",
              "4       A2LWK003FFMCI5  616719923X   \n",
              "...                ...         ...   \n",
              "151249  A2L6QS8SVHT9RG  B00KCJRVO2   \n",
              "151250   AFJFXN42RZ3G2  B00KCJRVO2   \n",
              "151251   ASEBX8TBYWQWA  B00KCJRVO2   \n",
              "151252   ANKQGTXHREOI5  B00KCJRVO2   \n",
              "151253  A2CF66KIQ3RKX3  B00KCJRVO2   \n",
              "\n",
              "                                               reviewText  rating  \n",
              "0       Just another flavor of Kit Kat but the taste i...     4.0  \n",
              "1       I bought this on impulse and it comes from Jap...     3.0  \n",
              "2       Really good. Great gift for any fan of green t...     4.0  \n",
              "3       I had never had it before, was curious to see ...     5.0  \n",
              "4       I've been looking forward to trying these afte...     4.0  \n",
              "...                                                   ...     ...  \n",
              "151249  Delicious gluten-free oatmeal: we tried both t...     4.0  \n",
              "151250  With the many selections of instant oatmeal ce...     4.0  \n",
              "151251  While I usually review CDs and DVDs, as well a...     5.0  \n",
              "151252  My son and I enjoyed these oatmeal packets.  H...     4.0  \n",
              "151253  I like to eat oatmeal i the mornings. I usuall...     4.0  \n",
              "\n",
              "[151254 rows x 4 columns]"
            ]
          },
          "execution_count": 13,
          "metadata": {},
          "output_type": "execute_result"
        }
      ],
      "source": [
        "df.rename(columns={\"reviewerID\": \"userID\", \"asin\": \"itemID\",\"overall\":\"rating\"},inplace=True)\n",
        "df=df[['userID','itemID','reviewText','rating']]\n",
        "df"
      ]
    },
    {
      "cell_type": "markdown",
      "metadata": {},
      "source": [
        "# **Data Splitting**"
      ]
    },
    {
      "cell_type": "code",
      "execution_count": 14,
      "metadata": {},
      "outputs": [
        {
          "name": "stdout",
          "output_type": "stream",
          "text": [
            "[ 15126  15127  15128 ... 151251 151252 151253] 136128\n",
            "[     0      1      2 ... 151251 151252 151253] 136128\n",
            "[     0      1      2 ... 151251 151252 151253] 136128\n",
            "[     0      1      2 ... 151251 151252 151253] 136128\n",
            "[     0      1      2 ... 151251 151252 151253] 136129\n",
            "[     0      1      2 ... 151251 151252 151253] 136129\n",
            "[     0      1      2 ... 151251 151252 151253] 136129\n",
            "[     0      1      2 ... 151251 151252 151253] 136129\n",
            "[     0      1      2 ... 151251 151252 151253] 136129\n",
            "[     0      1      2 ... 136126 136127 136128] 136129\n"
          ]
        }
      ],
      "source": [
        "current_fold=10\n",
        "kfold = KFold(10)\n",
        "random_iterator=kfold.split(df)\n",
        "for i in range(current_fold):\n",
        "  train_index, test_index = next(random_iterator, None)\n",
        "  print(train_index,len(train_index))\n",
        "  train_df, test_df =df.iloc[train_index], df.iloc[test_index]\n"
      ]
    },
    {
      "cell_type": "code",
      "execution_count": 15,
      "metadata": {},
      "outputs": [
        {
          "data": {
            "text/html": [
              "<div>\n",
              "<style scoped>\n",
              "    .dataframe tbody tr th:only-of-type {\n",
              "        vertical-align: middle;\n",
              "    }\n",
              "\n",
              "    .dataframe tbody tr th {\n",
              "        vertical-align: top;\n",
              "    }\n",
              "\n",
              "    .dataframe thead th {\n",
              "        text-align: right;\n",
              "    }\n",
              "</style>\n",
              "<table border=\"1\" class=\"dataframe\">\n",
              "  <thead>\n",
              "    <tr style=\"text-align: right;\">\n",
              "      <th></th>\n",
              "      <th>userID</th>\n",
              "      <th>itemID</th>\n",
              "      <th>reviewText</th>\n",
              "      <th>rating</th>\n",
              "    </tr>\n",
              "  </thead>\n",
              "  <tbody>\n",
              "    <tr>\n",
              "      <th>0</th>\n",
              "      <td>A1VEELTKS8NLZB</td>\n",
              "      <td>616719923X</td>\n",
              "      <td>Just another flavor of Kit Kat but the taste i...</td>\n",
              "      <td>4.0</td>\n",
              "    </tr>\n",
              "    <tr>\n",
              "      <th>1</th>\n",
              "      <td>A14R9XMZVJ6INB</td>\n",
              "      <td>616719923X</td>\n",
              "      <td>I bought this on impulse and it comes from Jap...</td>\n",
              "      <td>3.0</td>\n",
              "    </tr>\n",
              "    <tr>\n",
              "      <th>2</th>\n",
              "      <td>A27IQHDZFQFNGG</td>\n",
              "      <td>616719923X</td>\n",
              "      <td>Really good. Great gift for any fan of green t...</td>\n",
              "      <td>4.0</td>\n",
              "    </tr>\n",
              "    <tr>\n",
              "      <th>3</th>\n",
              "      <td>A31QY5TASILE89</td>\n",
              "      <td>616719923X</td>\n",
              "      <td>I had never had it before, was curious to see ...</td>\n",
              "      <td>5.0</td>\n",
              "    </tr>\n",
              "    <tr>\n",
              "      <th>4</th>\n",
              "      <td>A2LWK003FFMCI5</td>\n",
              "      <td>616719923X</td>\n",
              "      <td>I've been looking forward to trying these afte...</td>\n",
              "      <td>4.0</td>\n",
              "    </tr>\n",
              "    <tr>\n",
              "      <th>...</th>\n",
              "      <td>...</td>\n",
              "      <td>...</td>\n",
              "      <td>...</td>\n",
              "      <td>...</td>\n",
              "    </tr>\n",
              "    <tr>\n",
              "      <th>136124</th>\n",
              "      <td>A74CGCGJ11Y23</td>\n",
              "      <td>B009M516NE</td>\n",
              "      <td>I've made rice pilaf from scratch. I've also t...</td>\n",
              "      <td>4.0</td>\n",
              "    </tr>\n",
              "    <tr>\n",
              "      <th>136125</th>\n",
              "      <td>A36MP37DITBU6F</td>\n",
              "      <td>B009M516NE</td>\n",
              "      <td>This is a slightly mild flavored rice pilaf. t...</td>\n",
              "      <td>4.0</td>\n",
              "    </tr>\n",
              "    <tr>\n",
              "      <th>136126</th>\n",
              "      <td>A1JBBR4MNGQ70G</td>\n",
              "      <td>B009M516NE</td>\n",
              "      <td>I added a package of Albacore tuna to this mix...</td>\n",
              "      <td>3.0</td>\n",
              "    </tr>\n",
              "    <tr>\n",
              "      <th>136127</th>\n",
              "      <td>A2P739KOM4U5JB</td>\n",
              "      <td>B009M516NE</td>\n",
              "      <td>I am happy to report that Side Mates were grea...</td>\n",
              "      <td>4.0</td>\n",
              "    </tr>\n",
              "    <tr>\n",
              "      <th>136128</th>\n",
              "      <td>AT53ZTTO707MB</td>\n",
              "      <td>B009M516NE</td>\n",
              "      <td>This was a nice combo of rice, pasta and herbs...</td>\n",
              "      <td>3.0</td>\n",
              "    </tr>\n",
              "  </tbody>\n",
              "</table>\n",
              "<p>136129 rows × 4 columns</p>\n",
              "</div>"
            ],
            "text/plain": [
              "                userID      itemID  \\\n",
              "0       A1VEELTKS8NLZB  616719923X   \n",
              "1       A14R9XMZVJ6INB  616719923X   \n",
              "2       A27IQHDZFQFNGG  616719923X   \n",
              "3       A31QY5TASILE89  616719923X   \n",
              "4       A2LWK003FFMCI5  616719923X   \n",
              "...                ...         ...   \n",
              "136124   A74CGCGJ11Y23  B009M516NE   \n",
              "136125  A36MP37DITBU6F  B009M516NE   \n",
              "136126  A1JBBR4MNGQ70G  B009M516NE   \n",
              "136127  A2P739KOM4U5JB  B009M516NE   \n",
              "136128   AT53ZTTO707MB  B009M516NE   \n",
              "\n",
              "                                               reviewText  rating  \n",
              "0       Just another flavor of Kit Kat but the taste i...     4.0  \n",
              "1       I bought this on impulse and it comes from Jap...     3.0  \n",
              "2       Really good. Great gift for any fan of green t...     4.0  \n",
              "3       I had never had it before, was curious to see ...     5.0  \n",
              "4       I've been looking forward to trying these afte...     4.0  \n",
              "...                                                   ...     ...  \n",
              "136124  I've made rice pilaf from scratch. I've also t...     4.0  \n",
              "136125  This is a slightly mild flavored rice pilaf. t...     4.0  \n",
              "136126  I added a package of Albacore tuna to this mix...     3.0  \n",
              "136127  I am happy to report that Side Mates were grea...     4.0  \n",
              "136128  This was a nice combo of rice, pasta and herbs...     3.0  \n",
              "\n",
              "[136129 rows x 4 columns]"
            ]
          },
          "execution_count": 15,
          "metadata": {},
          "output_type": "execute_result"
        }
      ],
      "source": [
        "train_df"
      ]
    },
    {
      "cell_type": "markdown",
      "metadata": {
        "id": "gYb9dMRLXjZT"
      },
      "source": [
        "# **Data Analysis**"
      ]
    },
    {
      "cell_type": "markdown",
      "metadata": {
        "id": "6yY4NJsolgtl"
      },
      "source": [
        "**User Data**"
      ]
    },
    {
      "cell_type": "markdown",
      "metadata": {
        "id": "g9kPFQ1GJr_I"
      },
      "source": [
        "determining all unique users with their reviews and ratings"
      ]
    },
    {
      "cell_type": "code",
      "execution_count": 16,
      "metadata": {
        "colab": {
          "base_uri": "https://localhost:8080/",
          "height": 609
        },
        "id": "l_eSbOjWRQD3",
        "outputId": "63fd7abe-5957-46a2-aa85-8ca3721bdec5"
      },
      "outputs": [
        {
          "name": "stderr",
          "output_type": "stream",
          "text": [
            "/home/mobin/anaconda3/envs/colabenv/lib/python3.7/site-packages/ipykernel_launcher.py:1: FutureWarning: Indexing with multiple keys (implicitly converted to a tuple of keys) will be deprecated, use a list instead.\n",
            "  \"\"\"Entry point for launching an IPython kernel.\n"
          ]
        },
        {
          "data": {
            "text/html": [
              "<div>\n",
              "<style scoped>\n",
              "    .dataframe tbody tr th:only-of-type {\n",
              "        vertical-align: middle;\n",
              "    }\n",
              "\n",
              "    .dataframe tbody tr th {\n",
              "        vertical-align: top;\n",
              "    }\n",
              "\n",
              "    .dataframe thead th {\n",
              "        text-align: right;\n",
              "    }\n",
              "</style>\n",
              "<table border=\"1\" class=\"dataframe\">\n",
              "  <thead>\n",
              "    <tr style=\"text-align: right;\">\n",
              "      <th></th>\n",
              "      <th>userID</th>\n",
              "      <th>reviewText</th>\n",
              "      <th>rating</th>\n",
              "    </tr>\n",
              "  </thead>\n",
              "  <tbody>\n",
              "    <tr>\n",
              "      <th>0</th>\n",
              "      <td>A00177463W0XWB16A9O05</td>\n",
              "      <td>[It is a good stand by coffee you can count on...</td>\n",
              "      <td>[5.0, 5.0, 4.0, 4.0, 5.0, 3.0, 4.0, 5.0, 5.0, ...</td>\n",
              "    </tr>\n",
              "    <tr>\n",
              "      <th>1</th>\n",
              "      <td>A022899328A0QROR32DCT</td>\n",
              "      <td>[awesome texture for even the gluten eating ea...</td>\n",
              "      <td>[5.0, 1.0, 4.0, 5.0, 5.0, 5.0, 1.0, 2.0, 3.0, ...</td>\n",
              "    </tr>\n",
              "    <tr>\n",
              "      <th>2</th>\n",
              "      <td>A04309042SDSL8YX2HRR7</td>\n",
              "      <td>[I love roasted garlic &amp; sweet bell peppers. Y...</td>\n",
              "      <td>[5.0, 2.0, 4.0, 4.0, 4.0]</td>\n",
              "    </tr>\n",
              "    <tr>\n",
              "      <th>3</th>\n",
              "      <td>A068255029AHTHDXZURNU</td>\n",
              "      <td>[These bars are especially delicious for cocon...</td>\n",
              "      <td>[5.0, 5.0, 3.0, 5.0, 3.0, 3.0, 5.0, 5.0, 5.0]</td>\n",
              "    </tr>\n",
              "    <tr>\n",
              "      <th>4</th>\n",
              "      <td>A06944662TFWOKKV4GJKX</td>\n",
              "      <td>[UGH!  My stomach has been really killing me l...</td>\n",
              "      <td>[5.0, 5.0, 5.0, 5.0, 5.0, 5.0, 5.0, 4.0, 4.0]</td>\n",
              "    </tr>\n",
              "    <tr>\n",
              "      <th>...</th>\n",
              "      <td>...</td>\n",
              "      <td>...</td>\n",
              "      <td>...</td>\n",
              "    </tr>\n",
              "    <tr>\n",
              "      <th>14676</th>\n",
              "      <td>AZWRZZAMX90VT</td>\n",
              "      <td>[Very nice. Not spicy, not too salty, lots of ...</td>\n",
              "      <td>[5.0, 5.0, 2.0, 5.0, 5.0, 4.0, 4.0, 3.0, 4.0, ...</td>\n",
              "    </tr>\n",
              "    <tr>\n",
              "      <th>14677</th>\n",
              "      <td>AZXKAH2DE6C8A</td>\n",
              "      <td>[Could not imagine having such a rich tasting ...</td>\n",
              "      <td>[5.0, 5.0, 5.0, 5.0, 5.0, 5.0, 5.0, 5.0, 4.0, ...</td>\n",
              "    </tr>\n",
              "    <tr>\n",
              "      <th>14678</th>\n",
              "      <td>AZXON596A1VXC</td>\n",
              "      <td>[I was a bit skeptical when I bought this prod...</td>\n",
              "      <td>[5.0, 5.0, 5.0, 5.0, 5.0, 5.0, 5.0]</td>\n",
              "    </tr>\n",
              "    <tr>\n",
              "      <th>14679</th>\n",
              "      <td>AZYXC63SS008M</td>\n",
              "      <td>[This is just about the healthiest you can get...</td>\n",
              "      <td>[5.0, 5.0, 5.0, 5.0, 5.0, 5.0]</td>\n",
              "    </tr>\n",
              "    <tr>\n",
              "      <th>14680</th>\n",
              "      <td>AZZ5ASC403N74</td>\n",
              "      <td>[Everybody loves homemade spaghetti sauce, but...</td>\n",
              "      <td>[5.0, 2.0, 3.0, 3.0, 4.0]</td>\n",
              "    </tr>\n",
              "  </tbody>\n",
              "</table>\n",
              "<p>14681 rows × 3 columns</p>\n",
              "</div>"
            ],
            "text/plain": [
              "                      userID  \\\n",
              "0      A00177463W0XWB16A9O05   \n",
              "1      A022899328A0QROR32DCT   \n",
              "2      A04309042SDSL8YX2HRR7   \n",
              "3      A068255029AHTHDXZURNU   \n",
              "4      A06944662TFWOKKV4GJKX   \n",
              "...                      ...   \n",
              "14676          AZWRZZAMX90VT   \n",
              "14677          AZXKAH2DE6C8A   \n",
              "14678          AZXON596A1VXC   \n",
              "14679          AZYXC63SS008M   \n",
              "14680          AZZ5ASC403N74   \n",
              "\n",
              "                                              reviewText  \\\n",
              "0      [It is a good stand by coffee you can count on...   \n",
              "1      [awesome texture for even the gluten eating ea...   \n",
              "2      [I love roasted garlic & sweet bell peppers. Y...   \n",
              "3      [These bars are especially delicious for cocon...   \n",
              "4      [UGH!  My stomach has been really killing me l...   \n",
              "...                                                  ...   \n",
              "14676  [Very nice. Not spicy, not too salty, lots of ...   \n",
              "14677  [Could not imagine having such a rich tasting ...   \n",
              "14678  [I was a bit skeptical when I bought this prod...   \n",
              "14679  [This is just about the healthiest you can get...   \n",
              "14680  [Everybody loves homemade spaghetti sauce, but...   \n",
              "\n",
              "                                                  rating  \n",
              "0      [5.0, 5.0, 4.0, 4.0, 5.0, 3.0, 4.0, 5.0, 5.0, ...  \n",
              "1      [5.0, 1.0, 4.0, 5.0, 5.0, 5.0, 1.0, 2.0, 3.0, ...  \n",
              "2                              [5.0, 2.0, 4.0, 4.0, 4.0]  \n",
              "3          [5.0, 5.0, 3.0, 5.0, 3.0, 3.0, 5.0, 5.0, 5.0]  \n",
              "4          [5.0, 5.0, 5.0, 5.0, 5.0, 5.0, 5.0, 4.0, 4.0]  \n",
              "...                                                  ...  \n",
              "14676  [5.0, 5.0, 2.0, 5.0, 5.0, 4.0, 4.0, 3.0, 4.0, ...  \n",
              "14677  [5.0, 5.0, 5.0, 5.0, 5.0, 5.0, 5.0, 5.0, 4.0, ...  \n",
              "14678                [5.0, 5.0, 5.0, 5.0, 5.0, 5.0, 5.0]  \n",
              "14679                     [5.0, 5.0, 5.0, 5.0, 5.0, 5.0]  \n",
              "14680                          [5.0, 2.0, 3.0, 3.0, 4.0]  \n",
              "\n",
              "[14681 rows x 3 columns]"
            ]
          },
          "execution_count": 16,
          "metadata": {},
          "output_type": "execute_result"
        }
      ],
      "source": [
        "user_df=df[['userID','reviewText','rating']].groupby('userID')['rating','reviewText'].apply(lambda x: pd.Series([list(x['reviewText']),list(x['rating'])],index=['reviewText', 'rating'])).reset_index()\n",
        "user_df"
      ]
    },
    {
      "cell_type": "code",
      "execution_count": 17,
      "metadata": {
        "colab": {
          "base_uri": "https://localhost:8080/"
        },
        "id": "frXwp0g9RxQa",
        "outputId": "e64ec82c-1531-4930-aa50-9666b627ee3b"
      },
      "outputs": [
        {
          "name": "stdout",
          "output_type": "stream",
          "text": [
            "['It is a good stand by coffee you can count on.  I would reley on it for the daily use catagory.', 'I like the &#34;wake up&#34; factor of this blend.  I could drink it all day long and never get tired of it.', 'I am pleased with the brew, but not enthused.  I have had better for the price, but its ok. Thats it', 'Much better than the Daybreak blend.  Much Bolder taste and better richness.  Could be a lil fresher though.  I would buy it again at lower price.', 'ypiuy y yu 8t 8t o t875t9t uf5o g r6  t9 t7r rf8y0[8uyr  d8oy p0t8y 897 77u7td8t 7t 7ty yr f8', 'It is an ok tea,not the best or worst.  It seems a lil weak if you ask me.  I wish it had a stronger taste!', 'I really went through this off brand coffee.  I found it in the corner of the site,give it a try!It is a great value,and will get it in the future.', 'Impressed with the price and taste of this coffee.  I also like the lower price compared with the competition. Winner!', 'I love the packaging and brew of this coffee.  Yes works great in the Keurig.  I like the organic brew.  Certainly taste the difference!', 'I really like this coffee.  It has a very unique taste ,and comes in a heavy box,which I like how it is dispensed.', 'Love the packaging of this coffee. Seems to brew just fine with the Keurig.  I think it has a great taste and should be part of my norm.  Hope others will support organic coffee! (-:', 'I received this coffee for the first time.  Has a good full flavor and peps you up! I will but on some Raggie and jam on it!', 'Its ok, not much of a choc kinda freak. Not my cup of tea really.  Might be asking the wrong person.']\n",
            "[5.0, 5.0, 4.0, 4.0, 5.0, 3.0, 4.0, 5.0, 5.0, 5.0, 5.0, 4.0, 3.0]\n"
          ]
        }
      ],
      "source": [
        "print(user_df['reviewText'][0])\n",
        "print(user_df['rating'][0])\n",
        "# user_df.loc[0][1] --->the same as above code"
      ]
    },
    {
      "cell_type": "markdown",
      "metadata": {
        "id": "ReAbgOc7q3Tp"
      },
      "source": [
        "**Item Data**"
      ]
    },
    {
      "cell_type": "markdown",
      "metadata": {
        "id": "arvKphT7KCTg"
      },
      "source": [
        "determining all unique items with their reviews and ratings"
      ]
    },
    {
      "cell_type": "code",
      "execution_count": 18,
      "metadata": {
        "colab": {
          "base_uri": "https://localhost:8080/",
          "height": 478
        },
        "id": "qAjW8mmJq9Cj",
        "outputId": "e03f94a0-8923-417b-c9c0-fd8cd33ea676"
      },
      "outputs": [
        {
          "name": "stderr",
          "output_type": "stream",
          "text": [
            "/home/mobin/anaconda3/envs/colabenv/lib/python3.7/site-packages/ipykernel_launcher.py:1: FutureWarning: Indexing with multiple keys (implicitly converted to a tuple of keys) will be deprecated, use a list instead.\n",
            "  \"\"\"Entry point for launching an IPython kernel.\n"
          ]
        },
        {
          "data": {
            "text/html": [
              "<div>\n",
              "<style scoped>\n",
              "    .dataframe tbody tr th:only-of-type {\n",
              "        vertical-align: middle;\n",
              "    }\n",
              "\n",
              "    .dataframe tbody tr th {\n",
              "        vertical-align: top;\n",
              "    }\n",
              "\n",
              "    .dataframe thead th {\n",
              "        text-align: right;\n",
              "    }\n",
              "</style>\n",
              "<table border=\"1\" class=\"dataframe\">\n",
              "  <thead>\n",
              "    <tr style=\"text-align: right;\">\n",
              "      <th></th>\n",
              "      <th>itemID</th>\n",
              "      <th>reviewText</th>\n",
              "      <th>rating</th>\n",
              "    </tr>\n",
              "  </thead>\n",
              "  <tbody>\n",
              "    <tr>\n",
              "      <th>0</th>\n",
              "      <td>616719923X</td>\n",
              "      <td>[Just another flavor of Kit Kat but the taste ...</td>\n",
              "      <td>[4.0, 3.0, 4.0, 5.0, 4.0, 4.0, 3.0, 5.0, 5.0, ...</td>\n",
              "    </tr>\n",
              "    <tr>\n",
              "      <th>1</th>\n",
              "      <td>9742356831</td>\n",
              "      <td>[This curry paste makes a delicious curry.  I ...</td>\n",
              "      <td>[5.0, 5.0, 5.0, 4.0, 5.0, 5.0, 5.0, 5.0, 5.0, ...</td>\n",
              "    </tr>\n",
              "    <tr>\n",
              "      <th>2</th>\n",
              "      <td>B00004S1C5</td>\n",
              "      <td>[These dyes create awesome colors for kids cra...</td>\n",
              "      <td>[5.0, 1.0, 5.0, 5.0, 5.0, 4.0, 4.0]</td>\n",
              "    </tr>\n",
              "    <tr>\n",
              "      <th>3</th>\n",
              "      <td>B0000531B7</td>\n",
              "      <td>[I really enjoy these bars as a quick breakfas...</td>\n",
              "      <td>[5.0, 5.0, 3.0, 5.0, 5.0, 4.0, 5.0, 5.0, 4.0]</td>\n",
              "    </tr>\n",
              "    <tr>\n",
              "      <th>4</th>\n",
              "      <td>B00005344V</td>\n",
              "      <td>[Traditional Medicinals' \"Breathe Easy\" is an ...</td>\n",
              "      <td>[5.0, 3.0, 5.0, 5.0, 3.0, 5.0, 5.0]</td>\n",
              "    </tr>\n",
              "    <tr>\n",
              "      <th>...</th>\n",
              "      <td>...</td>\n",
              "      <td>...</td>\n",
              "      <td>...</td>\n",
              "    </tr>\n",
              "    <tr>\n",
              "      <th>8708</th>\n",
              "      <td>B00JGPG60I</td>\n",
              "      <td>[We switched to this formula 5 days ago and fo...</td>\n",
              "      <td>[4.0, 4.0, 4.0, 5.0, 4.0, 3.0, 5.0, 5.0, 2.0, ...</td>\n",
              "    </tr>\n",
              "    <tr>\n",
              "      <th>8709</th>\n",
              "      <td>B00JL6LTMW</td>\n",
              "      <td>[We have enjoyed Larabar's variety of bars for...</td>\n",
              "      <td>[4.0, 5.0, 5.0, 5.0, 5.0, 4.0, 5.0, 4.0, 5.0, ...</td>\n",
              "    </tr>\n",
              "    <tr>\n",
              "      <th>8710</th>\n",
              "      <td>B00K00H9I6</td>\n",
              "      <td>[This 100% pure Canadian maple syrup is a Grad...</td>\n",
              "      <td>[5.0, 5.0, 5.0, 5.0, 5.0, 5.0, 5.0, 5.0]</td>\n",
              "    </tr>\n",
              "    <tr>\n",
              "      <th>8711</th>\n",
              "      <td>B00KC0LGI8</td>\n",
              "      <td>[I followed the directions on the box exactly ...</td>\n",
              "      <td>[2.0, 4.0, 4.0, 4.0, 4.0, 5.0, 2.0, 5.0, 3.0, ...</td>\n",
              "    </tr>\n",
              "    <tr>\n",
              "      <th>8712</th>\n",
              "      <td>B00KCJRVO2</td>\n",
              "      <td>[Usually the label &amp;#34;gluten free&amp;#34; is a ...</td>\n",
              "      <td>[5.0, 5.0, 4.0, 5.0, 5.0, 3.0, 4.0, 4.0, 5.0, ...</td>\n",
              "    </tr>\n",
              "  </tbody>\n",
              "</table>\n",
              "<p>8713 rows × 3 columns</p>\n",
              "</div>"
            ],
            "text/plain": [
              "          itemID                                         reviewText  \\\n",
              "0     616719923X  [Just another flavor of Kit Kat but the taste ...   \n",
              "1     9742356831  [This curry paste makes a delicious curry.  I ...   \n",
              "2     B00004S1C5  [These dyes create awesome colors for kids cra...   \n",
              "3     B0000531B7  [I really enjoy these bars as a quick breakfas...   \n",
              "4     B00005344V  [Traditional Medicinals' \"Breathe Easy\" is an ...   \n",
              "...          ...                                                ...   \n",
              "8708  B00JGPG60I  [We switched to this formula 5 days ago and fo...   \n",
              "8709  B00JL6LTMW  [We have enjoyed Larabar's variety of bars for...   \n",
              "8710  B00K00H9I6  [This 100% pure Canadian maple syrup is a Grad...   \n",
              "8711  B00KC0LGI8  [I followed the directions on the box exactly ...   \n",
              "8712  B00KCJRVO2  [Usually the label &#34;gluten free&#34; is a ...   \n",
              "\n",
              "                                                 rating  \n",
              "0     [4.0, 3.0, 4.0, 5.0, 4.0, 4.0, 3.0, 5.0, 5.0, ...  \n",
              "1     [5.0, 5.0, 5.0, 4.0, 5.0, 5.0, 5.0, 5.0, 5.0, ...  \n",
              "2                   [5.0, 1.0, 5.0, 5.0, 5.0, 4.0, 4.0]  \n",
              "3         [5.0, 5.0, 3.0, 5.0, 5.0, 4.0, 5.0, 5.0, 4.0]  \n",
              "4                   [5.0, 3.0, 5.0, 5.0, 3.0, 5.0, 5.0]  \n",
              "...                                                 ...  \n",
              "8708  [4.0, 4.0, 4.0, 5.0, 4.0, 3.0, 5.0, 5.0, 2.0, ...  \n",
              "8709  [4.0, 5.0, 5.0, 5.0, 5.0, 4.0, 5.0, 4.0, 5.0, ...  \n",
              "8710           [5.0, 5.0, 5.0, 5.0, 5.0, 5.0, 5.0, 5.0]  \n",
              "8711  [2.0, 4.0, 4.0, 4.0, 4.0, 5.0, 2.0, 5.0, 3.0, ...  \n",
              "8712  [5.0, 5.0, 4.0, 5.0, 5.0, 3.0, 4.0, 4.0, 5.0, ...  \n",
              "\n",
              "[8713 rows x 3 columns]"
            ]
          },
          "execution_count": 18,
          "metadata": {},
          "output_type": "execute_result"
        }
      ],
      "source": [
        "item_df=df[['itemID','reviewText','rating']].groupby('itemID')['reviewText','rating'].apply(lambda x: pd.Series([list(x['reviewText']),list(x['rating'])],index=['reviewText', 'rating'])).reset_index()\n",
        "item_df"
      ]
    },
    {
      "cell_type": "code",
      "execution_count": 19,
      "metadata": {
        "colab": {
          "base_uri": "https://localhost:8080/"
        },
        "id": "QOAi0ySLrPhl",
        "outputId": "ac4f63bb-b40f-4f78-8f8a-5af36423755f"
      },
      "outputs": [
        {
          "name": "stdout",
          "output_type": "stream",
          "text": [
            "['Just another flavor of Kit Kat but the taste is unique and a bit different.  The only thing that is bothersome is the price.  I thought it was a bit expensive....', \"I bought this on impulse and it comes from Japan,  which amused my family,  all those weird stamps and markings on the package. So that was fun.  It said it would take about a month to arrive and it did take that long.  I was hoping for a more interesting taste but to our family,  it just tasted a bit less flavorful or weaker than the standard milk chocolate kit kat.  The green tea flavor was too subtle for the sugar and it just tasted sweet. The wafers were very crispy, and that was good,  but it tasted a bit anemic to us.I'm happy I bought it, but don't need to buy it again.\", 'Really good. Great gift for any fan of green tea! Just so expensive to purchase candy from across the sea.', 'I had never had it before, was curious to see what it was like. Smooth, great subtle good flavor. I am ordering more and plan to make it a routine.', \"I've been looking forward to trying these after hearing about how popular they were in Japan, and among Kit Kat fans as well. I do not recommend ordering these during warm weather, because they can melt and become smushy. I ordered mine right when summer began, and they were a bit mushy so I let them solidify under room temp. Afterwards, I tried some and they tasted fine. I was expecting a stronger green tea or matcha flavor, but it is actually quite subtle. The outer coating was creamy and not overly sugary, which I liked. Overall, I wouldn't say it's insanely good, but definitely a yummy treat.\", \"These Kit-kats are very good, but if you're looking for a strong green tea flavor- you will be disappointed. The green tea flavor is very subtle.\", 'I found these in a Mitsuwa Marketplace in Illinois.I actually expected them to taste better than the did.  they were okay but seem smaller than standard kit kats and the taste was a tad mild compared to other green tea candies I have tried.But still, they were pleasant enough and nice for a change.', 'Creamy white chocolate infused with Matcha green tea surrounding layers of wafers. Much less sweeter than the traditional Kitkat. Small size is perfect to satisfy the chocolate craving w/o the guilt. Was in LA last week and picked up a bag on a whim at the Japanese store in Little Tokyo. Now, back in WI and regretting not picking up a handful more. Not only were these Kitkats delicious, the bags were only $5 each!', \"After hearing mixed opinions about these Kit Kats, I decided to try them. They are excellent, and I do not regret purchasing them at all. They taste like matcha with a bit of a vanilla and milky flavor as well. They are not too sweet or too plain. These are the best Kit Kats I've ever had, and I would recommend them to anyone who likes matcha-flavored candies or anyone wanting to try an unusual kind of Kit Kat.\", 'I love green tea, I love Kit Kats, but the two do not belong together. I hate the after taste of them.', 'I ordered these in Summer so they of course arrived melted, a trip the freezer made them awesome again though. Just order them in cooler times of the year and you should get them in good condition.I love these so much more than the regular chocolate Kit-Kat bars. I hope some day to see them on store shelves in the US some day.', 'These are definitely THE BEST candy bar out there!  I just wish I was able to find them in a local store instead of having to buy them online!', \"Yes - this is one of the most expensive candies around, because it only comes imported. But my goodness - are these ever good. The KitKat folks could really clean up if they started selling these in the US. Once you try them you can't wait for more. So yummy and delivered quickly and fresh.\", 'I love the green tea kitkat, taste so good, not as sweet as the milk chocolate one, and it comes with 12 small pack, easy to keep on a diet, i love this one and the dark chocolate one!', \"I love Kit Kat & green tea....together they are okay.  Nothing to get excited about.  I wouldn't order this again.\", \"I tried this for the first time today and it is delicious but I don't quite taste the Matcha flavor as you would in like say a Green Tea ice cream. To me it tasted like white chocolate with a grainy texture which I'm guessing is the Matcha tea powder. I think my favorite KitKat flavor mix is the Mocha.\"]\n",
            "[4.0, 3.0, 4.0, 5.0, 4.0, 4.0, 3.0, 5.0, 5.0, 1.0, 5.0, 5.0, 5.0, 5.0, 3.0, 4.0]\n"
          ]
        }
      ],
      "source": [
        "print(item_df['reviewText'][0])\n",
        "print(item_df['rating'][0])\n",
        "# item_df.loc[0][1] --->the same as above code"
      ]
    },
    {
      "cell_type": "markdown",
      "metadata": {
        "id": "jCekVFHgXtom"
      },
      "source": [
        "##   Ratings"
      ]
    },
    {
      "cell_type": "code",
      "execution_count": 20,
      "metadata": {
        "colab": {
          "base_uri": "https://localhost:8080/",
          "height": 441
        },
        "id": "cZb_XiBoGHSa",
        "outputId": "f1cb72ea-8d50-467a-d412-92d75a9d167e"
      },
      "outputs": [
        {
          "data": {
            "text/plain": [
              "count    151254.000000\n",
              "mean          4.243042\n",
              "std           1.090003\n",
              "min           1.000000\n",
              "25%           4.000000\n",
              "50%           5.000000\n",
              "75%           5.000000\n",
              "max           5.000000\n",
              "Name: rating, dtype: float64"
            ]
          },
          "execution_count": 20,
          "metadata": {},
          "output_type": "execute_result"
        },
        {
          "data": {
            "image/png": "[encoded data removed]",
            "text/plain": [
              "<Figure size 432x288 with 1 Axes>"
            ]
          },
          "metadata": {
            "needs_background": "light"
          },
          "output_type": "display_data"
        }
      ],
      "source": [
        "df.groupby('rating').size().plot(kind=\"bar\");\n",
        "df['rating'].describe()\n",
        "#histogram of ratings"
      ]
    },
    {
      "cell_type": "code",
      "execution_count": 21,
      "metadata": {
        "colab": {
          "base_uri": "https://localhost:8080/",
          "height": 367
        },
        "id": "hPn4ftb2vqn-",
        "outputId": "91fde917-2de7-4a70-ea94-2e4ae376ea5a"
      },
      "outputs": [
        {
          "data": {
            "image/png": "[encoded data removed]",
            "text/plain": [
              "<Figure size 1152x432 with 1 Axes>"
            ]
          },
          "metadata": {
            "needs_background": "light"
          },
          "output_type": "display_data"
        }
      ],
      "source": [
        "user_means=user_df.rating.apply(lambda x: np.mean(x))\n",
        "user_means[:50].plot(kind=\"bar\", grid=False, figsize=(16, 6), title=\"Mean ratings for 50 users\");"
      ]
    },
    {
      "cell_type": "code",
      "execution_count": 22,
      "metadata": {
        "colab": {
          "base_uri": "https://localhost:8080/",
          "height": 204
        },
        "id": "ZuVzD2bTv4iE",
        "outputId": "8533423d-08da-4eeb-c78b-51397de9ecff"
      },
      "outputs": [
        {
          "data": {
            "image/png": "[encoded data removed]",
            "text/plain": [
              "<Figure size 2304x432 with 2 Axes>"
            ]
          },
          "metadata": {
            "needs_background": "light"
          },
          "output_type": "display_data"
        }
      ],
      "source": [
        "fig, (ax1, ax2) = plt.subplots(ncols=2, figsize=(32,6), sharey=True)\n",
        "user_means.nlargest(50).plot(kind=\"bar\", ax=ax1, title=\"Top 50 users in data set\")\n",
        "user_means.nsmallest(50).plot(kind=\"bar\", ax=ax2, title=\"Bottom 50 users in data set\");"
      ]
    },
    {
      "cell_type": "code",
      "execution_count": 23,
      "metadata": {
        "colab": {
          "base_uri": "https://localhost:8080/",
          "height": 300
        },
        "id": "FChjMJ0MvtiU",
        "outputId": "81b5374f-986d-4079-8cb6-a99614f56d4c"
      },
      "outputs": [
        {
          "data": {
            "text/plain": [
              "[<matplotlib.lines.Line2D at 0x7fa97c3801d0>]"
            ]
          },
          "execution_count": 23,
          "metadata": {},
          "output_type": "execute_result"
        },
        {
          "data": {
            "image/png": "[encoded data removed]",
            "text/plain": [
              "<Figure size 1440x432 with 1 Axes>"
            ]
          },
          "metadata": {
            "needs_background": "light"
          },
          "output_type": "display_data"
        }
      ],
      "source": [
        "user_means = df.groupby(\"userID\").rating.mean().sort_values()\n",
        "_, ax = plt.subplots(figsize=(20, 6))\n",
        "ax.plot(np.arange(len(user_means)), user_means.values, \"k-\")\n"
      ]
    },
    {
      "cell_type": "code",
      "execution_count": 24,
      "metadata": {
        "colab": {
          "base_uri": "https://localhost:8080/",
          "height": 367
        },
        "id": "VQfmX7OwGaRN",
        "outputId": "65757a6a-d630-49fc-a97c-0742c3a1b7a5"
      },
      "outputs": [
        {
          "data": {
            "image/png": "[encoded data removed]",
            "text/plain": [
              "<Figure size 1152x432 with 1 Axes>"
            ]
          },
          "metadata": {
            "needs_background": "light"
          },
          "output_type": "display_data"
        }
      ],
      "source": [
        "item_means=item_df.rating.apply(lambda x: np.mean(x))\n",
        "item_means[:50].plot(kind=\"bar\", grid=False, figsize=(16, 6), title=\"Mean ratings for 50 items\");"
      ]
    },
    {
      "cell_type": "code",
      "execution_count": 25,
      "metadata": {
        "colab": {
          "base_uri": "https://localhost:8080/",
          "height": 201
        },
        "id": "6Dyp-7KeGyoK",
        "outputId": "6d657471-73d2-4291-aa92-49de438f0a59"
      },
      "outputs": [
        {
          "data": {
            "image/png": "[encoded data removed]",
            "text/plain": [
              "<Figure size 2304x432 with 2 Axes>"
            ]
          },
          "metadata": {
            "needs_background": "light"
          },
          "output_type": "display_data"
        }
      ],
      "source": [
        "fig, (ax1, ax2) = plt.subplots(ncols=2, figsize=(32,6), sharey=True)\n",
        "item_means.nlargest(50).plot(kind=\"bar\", ax=ax1, title=\"Top 50 items in data set\")\n",
        "item_means.nsmallest(50).plot(kind=\"bar\", ax=ax2, title=\"Bottom 50 items in data set\");"
      ]
    },
    {
      "cell_type": "markdown",
      "metadata": {
        "id": "IxGLa04uYQRt"
      },
      "source": [
        "## Reviews"
      ]
    },
    {
      "cell_type": "code",
      "execution_count": 26,
      "metadata": {
        "colab": {
          "base_uri": "https://localhost:8080/"
        },
        "id": "z0QEq-vnYohN",
        "outputId": "183d2ce2-65c2-49c9-ca8c-7f216083e4bc"
      },
      "outputs": [
        {
          "data": {
            "text/plain": [
              "count     151254\n",
              "unique    151199\n",
              "top             \n",
              "freq          22\n",
              "Name: reviewText, dtype: object"
            ]
          },
          "execution_count": 26,
          "metadata": {},
          "output_type": "execute_result"
        }
      ],
      "source": [
        "df['reviewText'].describe()"
      ]
    },
    {
      "cell_type": "code",
      "execution_count": 27,
      "metadata": {
        "colab": {
          "base_uri": "https://localhost:8080/",
          "height": 459
        },
        "id": "OLw7n7EcbEKV",
        "outputId": "ffd1376f-19a1-42f2-a991-e490d04d84d4"
      },
      "outputs": [
        {
          "data": {
            "text/plain": [
              "count    151254.000000\n",
              "mean        509.002142\n",
              "std         524.745639\n",
              "min           0.000000\n",
              "25%         191.000000\n",
              "50%         353.000000\n",
              "75%         644.000000\n",
              "max       29569.000000\n",
              "Name: reviewText, dtype: float64"
            ]
          },
          "execution_count": 27,
          "metadata": {},
          "output_type": "execute_result"
        },
        {
          "data": {
            "image/png": "[encoded data removed]",
            "text/plain": [
              "<Figure size 1728x576 with 1 Axes>"
            ]
          },
          "metadata": {
            "needs_background": "light"
          },
          "output_type": "display_data"
        }
      ],
      "source": [
        "# review length\n",
        "rv_le=df['reviewText'].apply(lambda x:len(x) )\n",
        "rv_le.plot(kind='hist',bins=2000,figsize=(24, 8),xlabel=\"length of reviews\")\n",
        "rv_le.describe()\n"
      ]
    },
    {
      "cell_type": "code",
      "execution_count": 28,
      "metadata": {
        "colab": {
          "base_uri": "https://localhost:8080/"
        },
        "id": "LTgNznNQ8aR1",
        "outputId": "3c1809ac-2fc3-4d67-ce83-7253c8687332"
      },
      "outputs": [
        {
          "name": "stdout",
          "output_type": "stream",
          "text": [
            "mean of reviews per user: 10.302704175464887\n",
            "mean of words per review: 509.00214209211\n",
            "mean of words per user: 5244.098494652953\n"
          ]
        }
      ],
      "source": [
        "sum=0\n",
        "sum2=0\n",
        "for x in user_df['reviewText']:\n",
        "  sum+=len(x)\n",
        "  for y in x:\n",
        "   sum2 +=len(y)\n",
        "\n",
        "r_mean=sum/len(user_df['reviewText'])\n",
        "w_mean=sum2/(r_mean*len(user_df['reviewText']))\n",
        "print('mean of reviews per user:', r_mean)\n",
        "print('mean of words per review:', w_mean)\n",
        "print('mean of words per user:',r_mean * w_mean)\n",
        "# plot for reviews per user"
      ]
    },
    {
      "cell_type": "code",
      "execution_count": 29,
      "metadata": {
        "colab": {
          "base_uri": "https://localhost:8080/"
        },
        "id": "Nje_ix7gAaf3",
        "outputId": "c3260e88-aa4f-46f3-aa38-85cbb25e0219"
      },
      "outputs": [
        {
          "name": "stdout",
          "output_type": "stream",
          "text": [
            "mean of reviews per item: 17.359577642603007\n",
            "mean of words per review: 509.00214209211\n",
            "mean of words per item: 8836.062205899232\n"
          ]
        }
      ],
      "source": [
        "sum=0\n",
        "sum2=0\n",
        "for x in item_df['reviewText']:\n",
        "  sum+=len(x)\n",
        "  for y in x:\n",
        "   sum2 +=len(y)\n",
        "\n",
        "r_mean=sum/len(item_df['reviewText'])\n",
        "w_mean=sum2/(r_mean*len(item_df['reviewText']))\n",
        "print('mean of reviews per item:', r_mean)\n",
        "print('mean of words per review:', w_mean)\n",
        "print('mean of words per item:',r_mean * w_mean)"
      ]
    },
    {
      "cell_type": "markdown",
      "metadata": {
        "id": "IvMysaUvxxU3"
      },
      "source": [
        "# **Embedding Matrix**"
      ]
    },
    {
      "cell_type": "code",
      "execution_count": 30,
      "metadata": {
        "id": "WovD0fA5q-J6"
      },
      "outputs": [],
      "source": [
        "# hyperparameters\n",
        "embedding_dim=300\n",
        "min_frequent_word_num=50\n",
        "max_vocab_size=5000"
      ]
    },
    {
      "cell_type": "code",
      "execution_count": 31,
      "metadata": {},
      "outputs": [],
      "source": [
        "def load_word2vec_model():\n",
        "    if os.path.exists(\"word2vec.wordvectors\"):\n",
        "        print(\"loaded from word2vec.wordvectors\")\n",
        "        return KeyedVectors.load(\"word2vec.wordvectors\",mmap='r')\n",
        "    else:\n",
        "        # downloading google news word2vec model\n",
        "        if not os.path.exists(\"word2vec_google.bin\"):\n",
        "            downloaded_model = api.load('word2vec-google-news-300')\n",
        "            downloaded_model.save_word2vec_format('word2vec_google.bin',binary=True)\n",
        "            del downloaded_model\n",
        "        # loading google news word2vec model\n",
        "        google_word2vec = KeyedVectors.load_word2vec_format(\"word2vec_google.bin\", binary=True)\n",
        "\n",
        "       # tokenizing the whole reviews in text_corpus\n",
        "        text_corpus=[]\n",
        "        for k in range(len(df['reviewText'])):    # iterate through each sentence in the reviews\n",
        "            for i in sent_tokenize(df['reviewText'].loc[k]):\n",
        "                temp = []\n",
        "                # tokenize the sentence into words          \n",
        "                for j in word_tokenize(i):\n",
        "                    temp.append(j.lower())\n",
        "                text_corpus.append(temp)\n",
        "                del temp\n",
        "\n",
        "\n",
        "        # creating a new word2vec model and initializing it from pretrained google_word2vec\n",
        "        word2vec_model=Word2Vec( text_corpus,max_final_vocab=max_vocab_size,min_count=min_frequent_word_num ,vector_size= embedding_dim,window = 1,workers=16, sg=1,epochs=1)\n",
        "        word2vec_model.build_vocab(text_corpus)\n",
        "\n",
        "        word2vec_model.build_vocab([google_word2vec.index_to_key],update=True)\n",
        "        word2vec_model.wv.vectors_lockf = np.ones(len(word2vec_model.wv))\n",
        "        word2vec_model.wv.intersect_word2vec_format(\"word2vec_google.bin\",binary=True,lockf=1.0)\n",
        "        \n",
        "        # fine tuning the model and saving it\n",
        "        word2vec_model.train(text_corpus, epochs=5, total_examples=word2vec_model.corpus_count)\n",
        "        word2vec_model.wv.save(\"word2vec.wordvectors\")\n",
        "        \n",
        "        del google_word2vec\n",
        "        del text_corpus[:]\n",
        "        gc.collect()\n",
        "  \n",
        "        return word2vec_model.wv\n",
        "        "
      ]
    },
    {
      "cell_type": "code",
      "execution_count": 32,
      "metadata": {},
      "outputs": [
        {
          "name": "stdout",
          "output_type": "stream",
          "text": [
            "loaded from word2vec.wordvectors\n"
          ]
        }
      ],
      "source": [
        "# loading the embedding lookup matrix shape=( 5k ,300 )\n",
        "embedding_matrix = load_word2vec_model() "
      ]
    },
    {
      "cell_type": "code",
      "execution_count": 33,
      "metadata": {},
      "outputs": [
        {
          "data": {
            "text/plain": [
              "(5004, 300)"
            ]
          },
          "execution_count": 33,
          "metadata": {},
          "output_type": "execute_result"
        }
      ],
      "source": [
        "special_token_embedding = np.random.rand(4,embedding_matrix.vector_size)\n",
        "full_embedding_matrix = np.concatenate((special_token_embedding,embedding_matrix.vectors))\n",
        "full_embedding_matrix.shape"
      ]
    },
    {
      "cell_type": "code",
      "execution_count": 34,
      "metadata": {},
      "outputs": [],
      "source": [
        "# example\n",
        "# embedding_matrix['keep']"
      ]
    },
    {
      "cell_type": "markdown",
      "metadata": {
        "id": "PVT3Ur54LsIz"
      },
      "source": [
        "# **Text Vectorization**"
      ]
    },
    {
      "cell_type": "markdown",
      "metadata": {
        "id": "N4QVJNF8EGGe"
      },
      "source": [
        "- The conversion of tokens to ids"
      ]
    },
    {
      "cell_type": "code",
      "execution_count": 35,
      "metadata": {
        "id": "Wgb-wnWWozZ3"
      },
      "outputs": [],
      "source": [
        "# hyperparameters\n",
        "review_dec_length=32\n",
        "review_enc_length=48 "
      ]
    },
    {
      "cell_type": "markdown",
      "metadata": {
        "id": "VZ_V0IYdnB2s"
      },
      "source": [
        "## Text Preprocessing"
      ]
    },
    {
      "cell_type": "code",
      "execution_count": 36,
      "metadata": {
        "id": "PP90xBH8aZ2b"
      },
      "outputs": [],
      "source": [
        "def tf_lower_and_split_punct_enc(text):\n",
        "  # Split accecented characters.\n",
        "  text = tf_text.normalize_utf8(text, 'NFKD')\n",
        "  text = tf.strings.lower(text)\n",
        "  # Keep space, a to z, and select punctuation.\n",
        "  text = tf.strings.regex_replace(text, '[^ a-z.?!,¿]', '')\n",
        "  # Add spaces around punctuation.\n",
        "  text = tf.strings.regex_replace(text, '[.?!,¿]', r' \\0 ')\n",
        "  # Strip whitespace.\n",
        "  text = tf.strings.strip(text)\n",
        "  text = tf.strings.join(['[START]', text, '[END]'], separator=' ')\n",
        "\n",
        "  return text\n",
        "\n",
        "def tf_lower_and_split_punct_decin(text):\n",
        "  # Split accecented characters.\n",
        "  text = tf_text.normalize_utf8(text, 'NFKD')\n",
        "  text = tf.strings.lower(text)\n",
        "  # Keep space, a to z, and select punctuation.\n",
        "  text = tf.strings.regex_replace(text, '[^ a-z.?!,¿]', '')\n",
        "  # Add spaces around punctuation.\n",
        "  text = tf.strings.regex_replace(text, '[.?!,¿]', r' \\0 ')\n",
        "  # Strip whitespace.\n",
        "  text = tf.strings.strip(text)\n",
        " \n",
        "  text = tf.strings.join(['[START]', text], separator=' ')\n",
        "  \n",
        "  return text\n",
        "\n",
        "\n",
        "def tf_lower_and_split_punct_decout(text):\n",
        "  # Split accecented characters.\n",
        "  text = tf_text.normalize_utf8(text, 'NFKD')\n",
        "  text = tf.strings.lower(text)\n",
        "  # Keep space, a to z, and select punctuation.\n",
        "  text = tf.strings.regex_replace(text, '[^ a-z.?!,¿]', '')\n",
        "  # Add spaces around punctuation.\n",
        "  text = tf.strings.regex_replace(text, '[.?!,¿]', r' \\0 ')\n",
        "  # Strip whitespace.\n",
        "  text = tf.strings.strip(text)\n",
        "\n",
        "  text = tf.strings.join([ text, '[END]'], separator=' ')\n",
        "\n",
        "  return text\n"
      ]
    },
    {
      "cell_type": "markdown",
      "metadata": {},
      "source": [
        "## Vectorization layer"
      ]
    },
    {
      "cell_type": "code",
      "execution_count": 37,
      "metadata": {
        "id": "BeaTIprJ6Uz_"
      },
      "outputs": [],
      "source": [
        "# input text processor is in charge of maping tokens to ids and vice versa\n",
        "enc_input_processor = tf.keras.layers.TextVectorization( max_tokens = max_vocab_size+4, standardize = tf_lower_and_split_punct_enc, output_sequence_length = review_enc_length )\n",
        "dec_input_processor = tf.keras.layers.TextVectorization( max_tokens = max_vocab_size+4, standardize = tf_lower_and_split_punct_decin, output_sequence_length = review_dec_length )\n",
        "dec_output_processor = tf.keras.layers.TextVectorization( max_tokens = max_vocab_size+4, standardize = tf_lower_and_split_punct_decout, output_sequence_length = review_dec_length )"
      ]
    },
    {
      "cell_type": "code",
      "execution_count": 38,
      "metadata": {},
      "outputs": [],
      "source": [
        "enc_input_processor.set_vocabulary(['','[UNK]','[START]','[END]'] +  embedding_matrix.index_to_key )\n",
        "dec_input_processor.set_vocabulary(['','[UNK]','[START]','[END]'] +  embedding_matrix.index_to_key )\n",
        "dec_output_processor.set_vocabulary(['','[UNK]','[START]','[END]'] +  embedding_matrix.index_to_key )"
      ]
    },
    {
      "cell_type": "markdown",
      "metadata": {
        "id": "zlGMIsZTV2oI"
      },
      "source": [
        "* some example about how to work with input text processor"
      ]
    },
    {
      "cell_type": "code",
      "execution_count": 39,
      "metadata": {
        "id": "ZwtcZjLM6XCZ"
      },
      "outputs": [
        {
          "name": "stdout",
          "output_type": "stream",
          "text": [
            "input_text_processor vocab size : 5004\n"
          ]
        },
        {
          "data": {
            "text/plain": [
              "['', '[UNK]', '[START]', '[END]', '.', ',', 'the', 'i']"
            ]
          },
          "execution_count": 39,
          "metadata": {},
          "output_type": "execute_result"
        }
      ],
      "source": [
        "# included sos, eos, unk and space \n",
        "print(\"input_text_processor vocab size :\" ,len(enc_input_processor.get_vocabulary()))\n",
        "# Here are the first 8 words from the vocabulary:\n",
        "enc_input_processor.get_vocabulary()[:8]"
      ]
    },
    {
      "cell_type": "code",
      "execution_count": 40,
      "metadata": {
        "id": "Rbn35v_Unwr1"
      },
      "outputs": [
        {
          "data": {
            "text/plain": [
              "42"
            ]
          },
          "execution_count": 40,
          "metadata": {},
          "output_type": "execute_result"
        }
      ],
      "source": [
        "enc_input_processor.get_vocabulary().index('just')"
      ]
    },
    {
      "cell_type": "code",
      "execution_count": 41,
      "metadata": {
        "id": "LSWPZQ_tH8np"
      },
      "outputs": [
        {
          "data": {
            "text/plain": [
              "'sent'"
            ]
          },
          "execution_count": 41,
          "metadata": {},
          "output_type": "execute_result"
        }
      ],
      "source": [
        "enc_input_processor.get_vocabulary()[1240]"
      ]
    },
    {
      "cell_type": "code",
      "execution_count": 42,
      "metadata": {
        "id": "Ouk6_52DSBaW"
      },
      "outputs": [
        {
          "name": "stdout",
          "output_type": "stream",
          "text": [
            "Just another flavor of Kit Kat but the taste is unique and a bit different.  The only thing that is bothersome is the price.  I thought it was a bit expensive....\n",
            "tf.Tensor(\n",
            "[  42  288   41   12 1527    1   19    6   37   13 1136    9    8  116\n",
            "  206    4    6   92  246   17   13    1   13    6  118    4    7  248\n",
            "   10   29    8  116], shape=(32,), dtype=int64)\n"
          ]
        }
      ],
      "source": [
        "print(item_df['reviewText'][0][0])\n",
        "print(dec_output_processor(  item_df['reviewText'][0][0]))"
      ]
    },
    {
      "cell_type": "markdown",
      "metadata": {},
      "source": [
        "# **Data Transformation**"
      ]
    },
    {
      "cell_type": "code",
      "execution_count": 43,
      "metadata": {},
      "outputs": [
        {
          "name": "stdout",
          "output_type": "stream",
          "text": [
            "2127\n"
          ]
        }
      ],
      "source": [
        "#hyperparameters\n",
        "batch_size=64\n",
        "num_batches=int(train_df.shape[0]/batch_size)\n",
        "print(num_batches)"
      ]
    },
    {
      "cell_type": "code",
      "execution_count": 44,
      "metadata": {},
      "outputs": [
        {
          "data": {
            "text/plain": [
              "849335472"
            ]
          },
          "execution_count": 44,
          "metadata": {},
          "output_type": "execute_result"
        }
      ],
      "source": [
        "dt = np.dtype( [('userid', 'int32'), ('itemid', 'int32'),('rating', 'int32'),('review_in', 'int32',(review_dec_length,)),('review_out', 'int32',(review_dec_length,)) ])\n",
        "tt=np.empty([150, 1], dtype=dt)\n",
        "tt['rating'][50][0]"
      ]
    },
    {
      "cell_type": "code",
      "execution_count": 45,
      "metadata": {},
      "outputs": [
        {
          "data": {
            "text/plain": [
              "array([['A1U6M8VJHK2ECA', 'B009M516NE', 5.0],\n",
              "       ['A244CRJ2QSVLZ4', 'B009M516NE', 5.0],\n",
              "       ['A1SB9BNNGKNX2Z', 'B009M516NE', 3.0],\n",
              "       ...,\n",
              "       ['ASEBX8TBYWQWA', 'B00KCJRVO2', 5.0],\n",
              "       ['ANKQGTXHREOI5', 'B00KCJRVO2', 4.0],\n",
              "       ['A2CF66KIQ3RKX3', 'B00KCJRVO2', 4.0]], dtype=object)"
            ]
          },
          "execution_count": 45,
          "metadata": {},
          "output_type": "execute_result"
        }
      ],
      "source": [
        "train_data=np.empty([train_df.shape[0], ], dtype=dt)\n",
        "test_data=np.empty([test_df.shape[0], ], dtype=dt)\n",
        "\n",
        "user_to_row = {}\n",
        "item_to_column = {}\n",
        "\n",
        "\n",
        "for i, user_id in enumerate(np.unique(df['userID'])):\n",
        "    user_to_row[user_id] = i\n",
        "\n",
        "for j, item_id in enumerate(np.unique(df['itemID'].tolist())):\n",
        "    item_to_column[item_id] = j\n",
        "\n",
        "train_rw_input = dec_input_processor(train_df['reviewText'])\n",
        "test_rw_input = dec_input_processor(test_df['reviewText'])\n",
        "train_rw_putput = dec_output_processor(train_df['reviewText'])\n",
        "test_rw_output = dec_output_processor(test_df['reviewText'])\n",
        "\n",
        "for index, row in enumerate( train_df[['userID','itemID','rating']].to_numpy()):\n",
        "   \n",
        "    train_data['userid'][index] = user_to_row[row[0]]\n",
        "    train_data['itemid'][index] = item_to_column[row[1]]\n",
        "    train_data['rating'][index] = row[2]\n",
        "    train_data['review_in'][index] = train_rw_input[index]\n",
        "    train_data['review_out'][index] = train_rw_putput[index]\n",
        "\n",
        "\n",
        "for index, row in enumerate( test_df[['userID','itemID','rating']].to_numpy()):\n",
        "   \n",
        "    test_data['userid'][index]= user_to_row[row[0]]\n",
        "    test_data['itemid'][index]= item_to_column[row[1]]\n",
        "    test_data['rating'][index]= row[2]\n",
        "    test_data['review_in'][index] = test_rw_input[index]\n",
        "    test_data['review_out'][index] = test_rw_output[index]\n",
        "\n",
        "\n",
        "#for index,row in enumerate( train_data):\n",
        " # train_data['review'][row]=train_rw[i]\n",
        "#for i,row in enumerate( test_data):\n",
        "#  test_data['review'][row]=train_rw[i]\n",
        "test_df[['userID','itemID','rating']].to_numpy()"
      ]
    },
    {
      "cell_type": "code",
      "execution_count": 46,
      "metadata": {},
      "outputs": [
        {
          "data": {
            "text/plain": [
              "(1439, 54, 5, [   2,   36,  177,  191,    1,   23,  607,    5,   19,    1,    1, 2774,    4,    7,  180,   18,  155,  110,    6,    1,  651,    9,   79,   46,   12,    6,  437,   17,  102,  728,  158,  110], [  36,  177,  191,    1,   23,  607,    5,   19,    1,    1, 2774,    4,    7,  180,   18,  155,  110,    6,    1,  651,    9,   79,   46,   12,    6,  437,   17,  102,  728,  158,  110,   75])"
            ]
          },
          "execution_count": 46,
          "metadata": {},
          "output_type": "execute_result"
        }
      ],
      "source": [
        "train_data[500]"
      ]
    },
    {
      "cell_type": "code",
      "execution_count": 47,
      "metadata": {},
      "outputs": [],
      "source": [
        "train_ds = tf.data.Dataset.from_tensor_slices(\n",
        "    (\n",
        "       tf.cast(train_data['userid'],tf.int32),\n",
        "       tf.cast(train_data['itemid'],tf.int32),\n",
        "       tf.cast(train_data['rating'],tf.int32),  \n",
        "       tf.cast(train_data['review_in'],tf.int32),\n",
        "       tf.cast(train_data['review_out'],tf.int32)  \n",
        "  \n",
        "    )\n",
        ").shuffle(1024).batch(batch_size)\n",
        "test_ds = tf.data.Dataset.from_tensor_slices(\n",
        "    (\n",
        "       tf.cast(test_data['userid'],tf.int32),\n",
        "       tf.cast(test_data['itemid'],tf.int32),\n",
        "       tf.cast(test_data['rating'],tf.int32),  \n",
        "       tf.cast(test_data['review_in'],tf.int32),\n",
        "       tf.cast(test_data['review_out'],tf.int32)    \n",
        "    )\n",
        ").shuffle(1024).batch(batch_size)"
      ]
    },
    {
      "cell_type": "code",
      "execution_count": 48,
      "metadata": {},
      "outputs": [
        {
          "data": {
            "text/plain": [
              "(2510, 0, 4, [  2,  36,   1,  23,  47,  34,   5,  19,  43,   1, 276,  16,   8, 189, 250,  55,  41,  18,  62,  40, 529,   4,   6, 250,  55,  41,  13,  47, 817,   4,   0,   0], [ 36,   1,  23,  47,  34,   5,  19,  43,   1, 276,  16,   8, 189, 250,  55,  41,  18,  62,  40, 529,   4,   6, 250,  55,  41,  13,  47, 817,   4,   3,   0,   0])"
            ]
          },
          "execution_count": 48,
          "metadata": {},
          "output_type": "execute_result"
        }
      ],
      "source": [
        "train_data[5]"
      ]
    },
    {
      "cell_type": "code",
      "execution_count": 49,
      "metadata": {},
      "outputs": [
        {
          "name": "stdout",
          "output_type": "stream",
          "text": [
            "<TakeDataset element_spec=(TensorSpec(shape=(None,), dtype=tf.int32, name=None), TensorSpec(shape=(None,), dtype=tf.int32, name=None), TensorSpec(shape=(None,), dtype=tf.int32, name=None), TensorSpec(shape=(None, 32), dtype=tf.int32, name=None), TensorSpec(shape=(None, 32), dtype=tf.int32, name=None))>\n"
          ]
        }
      ],
      "source": [
        "print(train_ds.take(1))"
      ]
    },
    {
      "cell_type": "markdown",
      "metadata": {
        "id": "cV4PGxjttli6"
      },
      "source": [
        "# **User and Item Documents**"
      ]
    },
    {
      "cell_type": "markdown",
      "metadata": {
        "id": "6BwcnBKDxVMk"
      },
      "source": [
        "**User Documents**"
      ]
    },
    {
      "cell_type": "code",
      "execution_count": 50,
      "metadata": {},
      "outputs": [],
      "source": [
        "user_doc = list( map(enc_input_processor,[doc for doc in user_df['reviewText']]))"
      ]
    },
    {
      "cell_type": "markdown",
      "metadata": {
        "id": "SWDCul-D_N99"
      },
      "source": [
        "**Item Documents**"
      ]
    },
    {
      "cell_type": "code",
      "execution_count": 51,
      "metadata": {
        "id": "phoN10nsXZGc"
      },
      "outputs": [],
      "source": [
        "item_doc = list( map(enc_input_processor,[doc for doc in item_df['reviewText']]))"
      ]
    },
    {
      "cell_type": "code",
      "execution_count": 52,
      "metadata": {
        "id": "0kTL6A4FmuZY"
      },
      "outputs": [
        {
          "data": {
            "text/plain": [
              "<tf.Tensor: shape=(48,), dtype=int64, numpy=\n",
              "array([  2, 151, 250,  55,   5,  20,  42,   8, 817, 614,  12,  41,   4,\n",
              "        33, 171,   5,   7, 219,  10,  47,  74,   9,  33,  99,  22, 191,\n",
              "       309,   4,   3,   0,   0,   0,   0,   0,   0,   0,   0,   0,   0,\n",
              "         0,   0,   0,   0,   0,   0,   0,   0,   0])>"
            ]
          },
          "execution_count": 52,
          "metadata": {},
          "output_type": "execute_result"
        }
      ],
      "source": [
        "item_doc[5004][-1]"
      ]
    },
    {
      "cell_type": "code",
      "execution_count": 53,
      "metadata": {
        "id": "1G79SrZySBqJ"
      },
      "outputs": [
        {
          "data": {
            "text/plain": [
              "Text(0.5, 1.0, 'Mask')"
            ]
          },
          "execution_count": 53,
          "metadata": {},
          "output_type": "execute_result"
        },
        {
          "data": {
            "image/png": "[encoded data removed]",
            "text/plain": [
              "<Figure size 432x288 with 2 Axes>"
            ]
          },
          "metadata": {
            "needs_background": "light"
          },
          "output_type": "display_data"
        }
      ],
      "source": [
        "plt.subplot(1, 2, 1)\n",
        "plt.pcolormesh(item_doc[0])\n",
        "plt.title('Token IDs')\n",
        "\n",
        "plt.subplot(1, 2, 2)\n",
        "plt.pcolormesh(item_doc[0] != 0)\n",
        "plt.title('Mask')"
      ]
    },
    {
      "cell_type": "markdown",
      "metadata": {
        "id": "UbR2h5ML5h70"
      },
      "source": [
        "### Converting ID to Vector"
      ]
    },
    {
      "cell_type": "code",
      "execution_count": 54,
      "metadata": {},
      "outputs": [
        {
          "data": {
            "text/plain": [
              "'[START] it is a good stand by coffee you can count on . i would [UNK] on it for the daily use [UNK] . [END]                       '"
            ]
          },
          "execution_count": 54,
          "metadata": {},
          "output_type": "execute_result"
        }
      ],
      "source": [
        "input_vocab = enc_input_processor.get_vocabulary()\n",
        "\" \".join([input_vocab[id] for id in user_doc[0][0]])\n"
      ]
    },
    {
      "cell_type": "markdown",
      "metadata": {},
      "source": [
        "# **TF-IDF Matrix**"
      ]
    },
    {
      "cell_type": "code",
      "execution_count": 55,
      "metadata": {},
      "outputs": [
        {
          "name": "stdout",
          "output_type": "stream",
          "text": [
            "4919\n"
          ]
        },
        {
          "data": {
            "text/plain": [
              "[\"'s\", '``', 'w/o', 'go-to', 'me.i', 'pre-packaged', 'o.n.e', '*', 'v-8']"
            ]
          },
          "execution_count": 55,
          "metadata": {},
          "output_type": "execute_result"
        }
      ],
      "source": [
        "tfidf_calculator = tf.keras.layers.TextVectorization(\n",
        "  max_tokens  = max_vocab_size+4,\n",
        "  output_mode ='tf-idf',\n",
        "  pad_to_max_tokens = False  \n",
        "  )\n",
        "tfidf_calculator.adapt(['','[UNK]','[START]','[END]'] +  embedding_matrix.index_to_key )\n",
        "print(len(tfidf_calculator.get_vocabulary(include_special_tokens=True)))\n",
        "list(set(embedding_matrix.index_to_key)-set(tfidf_calculator.get_vocabulary()))[:9]"
      ]
    },
    {
      "cell_type": "code",
      "execution_count": 56,
      "metadata": {},
      "outputs": [],
      "source": [
        "user_corpus = user_df['reviewText'].apply(lambda doc: [\" \".join(rv.split()[:review_enc_length]) for rv in doc])\n",
        "item_corpus = item_df['reviewText'].apply(lambda doc: [\" \".join(rv.split()[:review_enc_length]) for rv in doc])\n"
      ]
    },
    {
      "cell_type": "code",
      "execution_count": 57,
      "metadata": {},
      "outputs": [],
      "source": [
        "user_tfidf_obj =  map(tfidf_calculator,[doc for doc in user_corpus])\n",
        "item_tfidf_obj =  map(tfidf_calculator,[doc for doc in item_corpus])\n",
        "\n"
      ]
    },
    {
      "cell_type": "code",
      "execution_count": 58,
      "metadata": {},
      "outputs": [],
      "source": [
        "#user_tfidf=list(user_tfidf_obj[:5])\n",
        "#item_tfidf=list(item_tfidf_obj[:4])"
      ]
    },
    {
      "cell_type": "code",
      "execution_count": 59,
      "metadata": {},
      "outputs": [],
      "source": [
        "#user_tfidf[1000]"
      ]
    },
    {
      "cell_type": "markdown",
      "metadata": {},
      "source": [
        "# Delete Useless Variables"
      ]
    },
    {
      "cell_type": "code",
      "execution_count": 60,
      "metadata": {},
      "outputs": [],
      "source": [
        "del df\n",
        "del user_corpus\n",
        "del item_corpus\n",
        "del train_df\n",
        "del test_df\n",
        " "
      ]
    },
    {
      "cell_type": "markdown",
      "metadata": {},
      "source": [
        "# **Context-aware Matrix Factorization for Rating Prediction**"
      ]
    },
    {
      "cell_type": "code",
      "execution_count": 61,
      "metadata": {},
      "outputs": [],
      "source": [
        "#hyperparameters\n",
        "num_users=user_df.shape[0]\n",
        "num_items=item_df.shape[0]\n",
        "feature_num=64\n",
        "units=int(feature_num/2 )# gru units\n"
      ]
    },
    {
      "cell_type": "code",
      "execution_count": 62,
      "metadata": {},
      "outputs": [],
      "source": [
        "user_specific_vector = tf.Variable(np.zeros(shape=(num_users, feature_num),dtype=np.float32)) \n",
        "item_specific_vector = tf.Variable(np.zeros(shape=(num_items, feature_num),dtype=np.float32)) "
      ]
    },
    {
      "cell_type": "markdown",
      "metadata": {
        "id": "6uKWBtzhmMA5"
      },
      "source": [
        "## **PMF (Probabilistic Matrix Factorization)**"
      ]
    },
    {
      "cell_type": "code",
      "execution_count": 63,
      "metadata": {
        "id": "5JAoyyjOnJis"
      },
      "outputs": [],
      "source": [
        "class PMF():\n",
        "    def __init__(self, num_feat=16, epsilon=1, _lambda=0.1, momentum=0.8, maxepoch=20, num_batches=152, batch_size=1000,num_item=9000,num_user=15000,mean_inv=3):\n",
        "        self.num_feat = num_feat  # Number of latent features,\n",
        "        self.epsilon = epsilon  # learning rate,\n",
        "        self._lambda = _lambda  # L2 regularization,\n",
        "        self.momentum = momentum  # momentum of the gradient,\n",
        "        self.maxepoch = maxepoch  # Number of epoch before stop,\n",
        "        self.num_batches = num_batches  # Number of batches in each epoch (for SGD optimization),\n",
        "        self.batch_size = batch_size  # Number of training samples used in each batches (for SGD optimization)\n",
        "        self.num_item=num_item\n",
        "        self.num_user=num_user\n",
        "        self.V =  0.1 * np.random.randn(self.num_item, self.num_feat).astype(np.float64)  # Item feature vectors\n",
        "        self.U =  0.1 * np.random.randn(self.num_user, self.num_feat).astype(np.float64)  # User feature vectors\n",
        "        self.V_inc = np.zeros((self.num_item, self.num_feat),dtype=np.float64)\n",
        "        self.U_inc = np.zeros((self.num_user, self.num_feat),dtype=np.float64)\n",
        "        self.rmse_train = []\n",
        "        self.rmse_test = []\n",
        "        self.mean_inv= mean_inv  \n",
        "        \n",
        "    # ***Fit the model with train_tuple and evaluate RMSE on both train and test data.  ***********#\n",
        "    # ***************** train_vec=TrainData, test_vec=TestData*************#\n",
        "    def train(self):\n",
        "          \n",
        "            # Shuffle training truples\n",
        "            shuffled_order = np.arange(train_data.shape[0])  \n",
        "            np.random.shuffle(shuffled_order)  \n",
        "            # Batch update\n",
        "            \n",
        "            for batch in range(self.num_batches):  \n",
        "                # print \"epoch %d batch %d\" % (self.epoch, batch+1)\n",
        "\n",
        "                test = np.arange(self.batch_size * batch, self.batch_size * (batch + 1))\n",
        "              \n",
        "                batch_idx = np.mod(test, shuffled_order.shape[0])  \n",
        "            \n",
        "                batch_UserID = np.array(train_data['userid'][shuffled_order[batch_idx]], dtype='int32')\n",
        "                batch_ItemID = np.array(train_data['itemid'][shuffled_order[batch_idx]], dtype='int32')\n",
        "                # Compute Objective Function\n",
        "               \n",
        "                pred_out = np.sum(np.multiply(self.U[batch_UserID, :],\n",
        "                                              self.V[batch_ItemID, :]),\n",
        "                                  axis=1)  # mean_inv subtracted # np.multiply\n",
        "                \n",
        "                rawErr = pred_out - train_data['rating'][shuffled_order[batch_idx]] + self.mean_inv\n",
        "                \n",
        "                # Compute gradients\n",
        "                Ix_User = 2 * np.multiply(rawErr[:, np.newaxis], self.V[batch_ItemID, :]) \\\n",
        "                       + self._lambda * (self.U[batch_UserID, :] - tf.gather(user_specific_vector,batch_UserID).numpy())\n",
        "                Ix_Item = 2 * np.multiply(rawErr[:, np.newaxis], self.U[batch_UserID, :]) \\\n",
        "                       + self._lambda * (self.V[batch_ItemID, :] -  tf.gather(item_specific_vector,batch_ItemID).numpy()) \n",
        "                       # np.newaxis :increase the dimension\n",
        "               \n",
        "                dw_Item = np.zeros((self.num_item, self.num_feat))\n",
        "                dw_User = np.zeros((self.num_user, self.num_feat))\n",
        "                \n",
        "                # loop to aggreate the gradients of the same element\n",
        "                for i in range(self.batch_size):\n",
        "                    dw_Item[batch_ItemID[i], :] += Ix_Item[i, :]\n",
        "                    dw_User[batch_UserID[i], :] += Ix_User[i, :]\n",
        "\n",
        "                # Update with momentum\n",
        "              \n",
        "                self.V_inc = self.momentum * self.V_inc + self.epsilon * dw_Item / self.batch_size\n",
        "                self.U_inc = self.momentum * self.U_inc + self.epsilon * dw_User / self.batch_size\n",
        "                \n",
        "                self.V = self.V - self.V_inc\n",
        "                self.U = self.U - self.U_inc\n",
        "            \n",
        "                # Compute Objective Function after\n",
        "                if batch == self.num_batches - 1:\n",
        "                    pred_out = np.sum(np.multiply(self.U[np.array(train_data['userid'], dtype='int32'), :],\n",
        "                                                  self.V[np.array(train_data['itemid'], dtype='int32'), :]),\n",
        "                                      axis=1)  # mean_inv subtracted\n",
        "                    rawErr = pred_out - train_data['rating'] + self.mean_inv\n",
        "                    obj = np.linalg.norm(rawErr) ** 2 \\\n",
        "                          + 0.5 * self._lambda * (np.linalg.norm(self.U - user_specific_vector) ** 2 + np.linalg.norm(self.V - item_specific_vector) ** 2)\n",
        "                   # print(\"1***************\\n\",self.U.shape)\n",
        "                   # print(\"2***************\\n\",user_specific_vector.shape)\n",
        "                    self.rmse_train.append(np.sqrt(obj / train_data.shape[0]))\n",
        "\n",
        "                # Compute validation error\n",
        "                if batch == self.num_batches - 1:\n",
        "                    pred_out = np.sum(np.multiply(self.U[np.array(test_data['userid'], dtype='int32'), :],\n",
        "                                                  self.V[np.array(test_data['itemid'], dtype='int32'), :]),\n",
        "                                      axis=1)  # mean_inv subtracted\n",
        "                    rawErr = pred_out - test_data['rating'] + self.mean_inv\n",
        "                   \n",
        "                    self.rmse_test.append(np.linalg.norm(rawErr) / np.sqrt(test_data.shape[0]))\n",
        "\n",
        "                    # Print info\n",
        "                    if batch == self.num_batches - 1:\n",
        "                        print('\\nTraining RMSE: %f, Test RMSE %f' % (self.rmse_train[-1], self.rmse_test[-1]))\n",
        "\n",
        "    def predict(self, invID):\n",
        "        return np.dot(self.V, self.U[int(invID), :]) + self.mean_inv  # numpy.dot 点乘\n",
        "\n",
        "    # ****************Set parameters by providing a parameter dictionary.  ***********#\n",
        "\n",
        "    def topK(self, test_data, k=10):\n",
        "        inv_lst = np.unique(test_data[:, 0])\n",
        "        pred = {}\n",
        "        for inv in inv_lst:\n",
        "            if pred.get(inv, None) is None:\n",
        "                pred[inv] = np.argsort(self.predict(inv))[-k:]  # numpy.argsort\n",
        "\n",
        "        intersection_cnt = {}\n",
        "        for i in range(test_data.shape[0]):\n",
        "            if test_data[i, 1] in pred[test_data[i, 0]]:\n",
        "                intersection_cnt[test_data[i, 0]] = intersection_cnt.get(test_data[i, 0], 0) + 1\n",
        "        invPairs_cnt = np.bincount(np.array(test_data[:, 0], dtype='int32'))\n",
        "\n",
        "        precision_acc = 0.0\n",
        "        recall_acc = 0.0\n",
        "        for inv in inv_lst:\n",
        "            precision_acc += intersection_cnt.get(inv, 0) / float(k)\n",
        "            recall_acc += intersection_cnt.get(inv, 0) / float(invPairs_cnt[int(inv)])\n",
        "\n",
        "        return precision_acc / len(inv_lst), recall_acc / len(inv_lst)\n"
      ]
    },
    {
      "cell_type": "markdown",
      "metadata": {
        "id": "f0y4xKXSRYU-"
      },
      "source": [
        "# **Adversarial Seq2Seq Learning**"
      ]
    },
    {
      "cell_type": "markdown",
      "metadata": {},
      "source": [
        "## **Metrics**"
      ]
    },
    {
      "cell_type": "code",
      "execution_count": 64,
      "metadata": {},
      "outputs": [],
      "source": [
        "# log files for training and test\n",
        "current_time = datetime.datetime.now().strftime(\"%Y%m%d-%H%M%S\")\n",
        "train_log_dir = 'logs/gradient_tape/' + current_time + '/train'\n",
        "train_summary_writer = tf.summary.create_file_writer(train_log_dir)\n",
        "test_log_dir = 'logs/gradient_tape/' + current_time + '/test'\n",
        "test_summary_writer = tf.summary.create_file_writer(test_log_dir)\n",
        "graph_log_dir = 'logs/graph/' + current_time \n",
        "graph_summary_writer = tf.summary.create_file_writer(graph_log_dir)"
      ]
    },
    {
      "cell_type": "code",
      "execution_count": 65,
      "metadata": {},
      "outputs": [],
      "source": [
        "class PerplexityMetric(tf.keras.metrics.Metric):\n",
        "    def __init__(self,name='perplexity',**kwargs):\n",
        "        super().__init__(name=name, **kwargs)\n",
        "        self.perplexity=self.add_weight(name='pl',initializer='zeros')\n",
        "\n",
        "    def update_state(self, nll_loss):\n",
        "        self.perplexity= 2 ** nll_loss\n",
        "\n",
        "    def result(self):\n",
        "        return self.perplexity"
      ]
    },
    {
      "cell_type": "code",
      "execution_count": 66,
      "metadata": {},
      "outputs": [],
      "source": [
        "train_plx_gen_tch = PerplexityMetric(name='generator perplexity')  # teacher forcing mode\n",
        "train_plx_gen_plc = PerplexityMetric(name='generator perplexity')  # policy gradient mode\n",
        "train_loss_gen_policy = tf.keras.metrics.Mean('train loss gen policy', dtype=tf.float32)\n",
        "\n",
        "train_acc_dis = tf.keras.metrics.BinaryAccuracy(threshold=0.5)"
      ]
    },
    {
      "cell_type": "markdown",
      "metadata": {},
      "source": [
        "## **Recurrent Review Generator**"
      ]
    },
    {
      "cell_type": "markdown",
      "metadata": {},
      "source": [
        "- it consists of two encoders and one decoder"
      ]
    },
    {
      "cell_type": "markdown",
      "metadata": {
        "id": "o8UVYfYjX9YW"
      },
      "source": [
        "### **Encoder**"
      ]
    },
    {
      "cell_type": "code",
      "execution_count": 67,
      "metadata": {
        "id": "TwRd0VNHkMf0"
      },
      "outputs": [],
      "source": [
        "class Encoder(tf.keras.layers.Layer):\n",
        "  def __init__(self, embedding_dim, enc_units):\n",
        "    super().__init__()\n",
        "    self.enc_units = enc_units\n",
        "    self.input_vocab_size = max_vocab_size\n",
        "    self.embedding = tf.keras.layers.Embedding(max_vocab_size+4, embedding_dim, embeddings_initializer=keras.initializers.Constant(full_embedding_matrix),trainable=False)\n",
        "    self.gru= tf.keras.layers.Bidirectional(tf.keras.layers.GRU(enc_units,return_state=True,  recurrent_initializer='glorot_uniform' ))\n",
        "\n",
        "\n",
        "  def call(self, reviews, state=None):\n",
        "    vectors = self.embedding(reviews)\n",
        "    _,encoder_forward_state,encoder_backward_state  = self.gru(vectors, initial_state=state)\n",
        " \n",
        "    return  tf.concat([ encoder_forward_state, encoder_backward_state],-1)\n",
        "\n",
        "    "
      ]
    },
    {
      "cell_type": "markdown",
      "metadata": {},
      "source": [
        "### **Decoder (Generator)**"
      ]
    },
    {
      "cell_type": "code",
      "execution_count": 68,
      "metadata": {
        "id": "skIgKP4iCABs"
      },
      "outputs": [],
      "source": [
        "class Decoder(tf.keras.layers.Layer):\n",
        "  def __init__(self, embedding_dim, dec_units):\n",
        "    super().__init__()\n",
        "    self.dec_units = dec_units\n",
        "    self.output_vocab_size = max_vocab_size\n",
        "    self.embedding = tf.keras.layers.Embedding(max_vocab_size+4, embedding_dim,embeddings_initializer=keras.initializers.Constant(full_embedding_matrix), trainable=False)\n",
        "    self.gru=tf.keras.layers.GRU(dec_units , return_state=True,return_sequences=True)\n",
        "    self.fc = tf.keras.layers.Dense(max_vocab_size, use_bias=False)\n",
        "    self.sf=tf.keras.layers.Activation('softmax')\n",
        "\n",
        "  def call(self, decoder_input, context_vector,state=None):\n",
        "\n",
        "     embedded_input = self.embedding(decoder_input)\n",
        "     joint_input_context = tf.concat([embedded_input, tf.tile(tf.expand_dims(context_vector,1),[1,embedded_input.shape[1],1])],2 )\n",
        "     outputs,dec_state = self.gru(joint_input_context, initial_state=state)\n",
        "     logits = self.fc( outputs)\n",
        "     prob_dist = self.sf(logits)\n",
        "\n",
        "     return prob_dist,dec_state\n"
      ]
    },
    {
      "cell_type": "code",
      "execution_count": 69,
      "metadata": {
        "id": "DyhJk5pGKW_N"
      },
      "outputs": [],
      "source": [
        "class GeneratorLoss(tf.keras.losses.Loss):\n",
        "  def __init__(self):\n",
        "    self.name = 'masked_loss'\n",
        "   # self.loss = tf.keras.losses.SparseCategoricalCrossentropy( reduction='none')\n",
        "\n",
        "  def __call__(self, y_true, y_pred):\n",
        "    # Calculating the loss for a batch of reviews.\n",
        "\n",
        "    mask = tf.cast(y_true != 0, tf.int32)\n",
        "    maskoff_ind=tf.reduce_sum(mask)\n",
        "    a=tf.one_hot(y_true[:maskoff_ind], max_vocab_size, 1.0, 0.0)\n",
        "    b=tf.math.log( tf.clip_by_value(y_pred[:maskoff_ind], 1e-20, 1.0))\n",
        "    #print(y_true)\n",
        "    #print(\"\\n\\n\\n\",a)\n",
        "    #print(\"\\n\\n\\n\",b)\n",
        "    c=a * b\n",
        "   # print(\"\\n\\n\\n\",c)\n",
        "    loss=-tf.reduce_sum(c) /tf.cast(maskoff_ind,dtype=tf.float32)\n",
        "   # print(loss)\n",
        "    return loss"
      ]
    },
    {
      "cell_type": "markdown",
      "metadata": {
        "id": "4v_zte_RHR5a"
      },
      "source": [
        "## **Discriminator**"
      ]
    },
    {
      "cell_type": "code",
      "execution_count": 70,
      "metadata": {
        "id": "84ZgGwB9HXi5"
      },
      "outputs": [],
      "source": [
        "class Discriminator(tf.keras.Model):\n",
        "    def __init__( self, review_dec_length, vocab_size, embedding_dim, filter_sizes, num_filters, l2_reg_lambda=0.0):\n",
        "      super().__init__()\n",
        "      self.review_dec_length=review_dec_length\n",
        "      self.vocab_size=max_vocab_size\n",
        "      self.embedding_dim=embedding_dim\n",
        "      self.filter_sizes=filter_sizes\n",
        "      self.num_filters= num_filters\n",
        "\n",
        "      self.embedding = tf.keras.layers.Embedding(max_vocab_size+4, embedding_dim,weights=[full_embedding_matrix],name=\"discriminator_embedding\",trainable=False)\n",
        "     \n",
        "      self.conv_unigram= tf.keras.layers.Conv1D(num_filters, filter_sizes[0], activation=\"tanh\",name=\"conv_unigram\")\n",
        "      self.conv_bigram= tf.keras.layers.Conv1D(num_filters, filter_sizes[1],activation=\"tanh\",name=\"conv_bigram\")\n",
        "      self.conv_trigram= tf.keras.layers.Conv1D(num_filters, filter_sizes[2],activation=\"tanh\",name=\"conv_trigram\")\n",
        "      self.conv_fourgram= tf.keras.layers.Conv1D(num_filters, filter_sizes[3],activation=\"tanh\",name=\"conv_fourgram\")\n",
        "      self.conv_fivegram= tf.keras.layers.Conv1D(num_filters, filter_sizes[4],activation=\"tanh\",name=\"conv_fivegram\")\n",
        "\n",
        "      self.gmp_unigram = tf.keras.layers.GlobalMaxPooling1D(name=\"gmp_unigram\")\n",
        "      self.gmp_bigram = tf.keras.layers.GlobalMaxPooling1D(name=\"gmp_bigram\")\n",
        "      self.gmp_trigram = tf.keras.layers.GlobalMaxPooling1D(name=\"gmp_trigram\")\n",
        "      self.gmp_fourgram = tf.keras.layers.GlobalMaxPooling1D(name=\"gmp_fourgram\")\n",
        "      self.gmp_fivegram = tf.keras.layers.GlobalMaxPooling1D(name=\"gmp_fivegram\")\n",
        "\n",
        "      self.dropout=tf.keras.layers.Dropout(.5,name=\"dropout\")\n",
        "      self.fc=tf.keras.layers.Dense(1,activation=\"sigmoid\")\n",
        "\n",
        "\n",
        "    def get_reward(self, discriminator_inputs , context_vector,training=False ):\n",
        "      \n",
        "      embedded_input= self.embedding(discriminator_inputs)\n",
        "      joint_input_context =tf.concat([embedded_input, tf.tile(tf.expand_dims(context_vector,1),[1,embedded_input.shape[1],1])],2 )\n",
        "\n",
        "      cv_unigram=self.conv_unigram(joint_input_context)\n",
        "      cv_bigram=self.conv_bigram(joint_input_context)\n",
        "      cv_trigram=self.conv_trigram(joint_input_context)\n",
        "      cv_fourgram=self.conv_fourgram(joint_input_context)\n",
        "      cv_fivegram=self.conv_fivegram(joint_input_context)\n",
        "\n",
        "      gmp_unigram = self.gmp_unigram(cv_unigram)\n",
        "      gmp_bigram = self.gmp_bigram(cv_bigram)\n",
        "      gmp_trigram =  self.gmp_trigram(cv_trigram)\n",
        "      gmp_fourgram = self.gmp_fourgram(cv_fourgram)\n",
        "      gmp_fivegram = self.gmp_fivegram(cv_fivegram)\n",
        "    \n",
        "      gmp_overal = tf.concat([gmp_unigram,gmp_bigram,gmp_trigram,gmp_fourgram,gmp_fivegram],1)\n",
        "      \n",
        "      if training:\n",
        "        dropout = self.dropout(gmp_overal,training=training)\n",
        "        ath= self.fc(dropout)\n",
        "      else:\n",
        "        ath= self.fc(gmp_overal)\n",
        "\n",
        "      gc.collect()\n",
        "      return ath[:,0]\n"
      ]
    },
    {
      "cell_type": "code",
      "execution_count": 71,
      "metadata": {
        "id": "FCRHY3LgfD2_"
      },
      "outputs": [],
      "source": [
        "class DiscriminatorLoss(tf.keras.losses.Loss):\n",
        "  def __init__(self):\n",
        "    self.name = 'cross-entropy_loss'\n",
        "    self.binary_cross_entropy_loss = tf.keras.losses.BinaryCrossentropy( reduction='none')\n",
        "\n",
        "  def __call__(self, y_true, y_pred):\n",
        "    loss = self.binary_cross_entropy_loss(y_true, y_pred)\n",
        "    return loss"
      ]
    },
    {
      "cell_type": "markdown",
      "metadata": {},
      "source": [
        "## **Adversarial Training**"
      ]
    },
    {
      "cell_type": "code",
      "execution_count": 72,
      "metadata": {
        "id": "GnKB7mW5evTE"
      },
      "outputs": [],
      "source": [
        "#hyperparameter\n",
        "t_step=1 # teacher forcing training number\n",
        "g_step=1 # generator training number\n",
        "d_step=3 # discriminator training number\n",
        "rollout_num=1\n"
      ]
    },
    {
      "cell_type": "code",
      "execution_count": 73,
      "metadata": {
        "id": "MB7HymOiTfdl"
      },
      "outputs": [],
      "source": [
        "class MaskedLossReward(tf.keras.losses.Loss):\n",
        "  def __init__(self):\n",
        "    self.name = 'masked_loss_reward'\n",
        "\n",
        "  def __call__(self, y_true, y_pred,reward):\n",
        "    # Calculate the loss for each step.\n",
        "\n",
        "    mask = tf.cast(y_true != 0, tf.int32)\n",
        "    maskoff_ind=tf.reduce_sum(mask)\n",
        "\n",
        "    loss=- tf.reduce_sum( tf.reduce_sum( tf.one_hot(y_true[:maskoff_ind], max_vocab_size, 1.0, 0.0)\n",
        "      * tf.math.log( tf.clip_by_value(y_pred[:maskoff_ind], 1e-20, 1.0)),2) * reward[:maskoff_ind]) / tf.cast(maskoff_ind,dtype=tf.float32)\n",
        "    return loss"
      ]
    },
    {
      "cell_type": "code",
      "execution_count": 81,
      "metadata": {
        "id": "Z3NlswFZRbub"
      },
      "outputs": [],
      "source": [
        "class Seq2Seq(tf.keras.Model): \n",
        "    def __init__(self, latent_dim, num_batches, batch_size, use_tf_function=False):\n",
        "        super().__init__()\n",
        "        self.use_tf_function = use_tf_function\n",
        "        self.num_batches = num_batches\n",
        "        self.batch_size = batch_size\n",
        "        self.latent_dim = latent_dim\n",
        "\n",
        "        self.user_encoder = Encoder(embedding_dim, units)\n",
        "        self.item_encoder = Encoder(embedding_dim, units)\n",
        "        self.decoder = Decoder(embedding_dim, units) #generator\n",
        "        self.discriminator = Discriminator(review_dec_length, max_vocab_size, embedding_dim,[1, 2, 3 ,4, 5] ,100)\n",
        "      \n",
        "        self.loss_gn = GeneratorLoss()\n",
        "        self.loss_ds = DiscriminatorLoss()\n",
        "        self.loss_fn = MaskedLossReward() # generator loss with reward\n",
        "\n",
        "        self.optimizer_gn=tf.optimizers.Adam()\n",
        "        self.optimizer_ds=tf.optimizers.Adam()\n",
        "\n",
        "\n",
        "    def _train_step_gn_teacher(self, batch_userdoc,batch_itemdoc,userdoc_slice_idx, itemdoc_slice_idx,batch_review_in,batch_review_out):\n",
        "           \n",
        "            with tf.GradientTape() as tape:\n",
        "              with tf.device('/device:cpu:0'):\n",
        "                user_enc_state = self.user_encoder(batch_userdoc) # user vector representations      \n",
        "                item_enc_state = self.item_encoder(batch_itemdoc) # item vector representations\n",
        "                    \n",
        "                user_context_vector = tf.stack([ tf.reduce_mean(user_enc_state[ userdoc_slice_idx[sl_num] : userdoc_slice_idx[sl_num+1] ],0) for  sl_num in range(batch_size)])\n",
        "                item_context_vector = tf.stack([ tf.reduce_mean(item_enc_state[ itemdoc_slice_idx[sl_num] : itemdoc_slice_idx[sl_num+1] ],0) for  sl_num in range(batch_size)])\n",
        "                context_vector= tf.concat( [user_context_vector,item_context_vector],1)\n",
        "\n",
        "              # regularization must take place here  \n",
        "              dec_pred, _ =self.decoder( batch_review_in , context_vector)             \n",
        "              loss=self.loss_gn(batch_review_out , dec_pred)\n",
        "           \n",
        "            variables =self.user_encoder.trainable_variables + self.item_encoder.trainable_variables + self.decoder.trainable_variables\n",
        "            gradients = tape.gradient(loss,variables)\n",
        "            self.optimizer_gn.apply_gradients(zip(gradients, variables))          \n",
        "            \n",
        "            print(\"gen batch loss in supervised training\", loss)   \n",
        "            train_plx_gen_tch.update_state(loss)\n",
        "      \n",
        "    def _train_step_gn_policy(self, batch_userdoc, batch_itemdoc, userdoc_slice_idx, itemdoc_slice_idx):\n",
        "            \n",
        "            with tf.GradientTape() as tape:\n",
        "              user_enc_state = self.user_encoder(batch_userdoc) # user vector representations      \n",
        "              item_enc_state = self.item_encoder(batch_itemdoc) # item vector representations\n",
        "                \n",
        "              user_context_vector = tf.stack([ tf.reduce_mean(user_enc_state[ userdoc_slice_idx[sl_num] : userdoc_slice_idx[sl_num+1] ],0) for  sl_num in range(batch_size)])\n",
        "              item_context_vector = tf.stack([ tf.reduce_mean(item_enc_state[ itemdoc_slice_idx[sl_num] : itemdoc_slice_idx[sl_num+1] ],0) for  sl_num in range(batch_size)])\n",
        "              context_vector = tf.concat( [user_context_vector,item_context_vector],1)\n",
        "              # computing context vector\n",
        "        \n",
        "              dec_state=None\n",
        "              dec_prob=[]\n",
        "              # generating samples\n",
        "              dec_out = [tf.convert_to_tensor(batch_size * [[2]])] # initilize generated_sample with sos token(2)\n",
        "              for _ in range(review_dec_length):           \n",
        "                  d_prob,dec_state = self.decoder( dec_out[-1], context_vector ,dec_state)\n",
        "                  dec_prob.append(d_prob[:,-1])          \n",
        "                  dec_out.append(tf.random.categorical(d_prob[:,-1],1,dtype=tf.int32))            \n",
        "                  del d_prob\n",
        "              \n",
        "              generated_samples = tf.squeeze(tf.stack(dec_out,1))          \n",
        "                   \n",
        "              g_loss = tf.constant(0.0)           \n",
        "              reward=[]\n",
        "              with tape.stop_recording():\n",
        "                  \n",
        "                    for given_num in range(1,review_dec_length+1):\n",
        "                      # the generation of first part of seq\n",
        "                      _, dec_state = self.decoder(generated_samples[:,:given_num], context_vector)\n",
        "                      rd=None\n",
        "\n",
        "                      if given_num!=review_dec_length+2:\n",
        "                          # sampling seq length - i tokens with the roll out policy                        \n",
        "                          rollout_samples_list = []                 \n",
        "                          for _ in range(review_dec_length-given_num+2):\n",
        "                              d_rollout_prob,dec_state = self.decoder( generated_samples[:,given_num-1:given_num], context_vector ,dec_state)     \n",
        "                              rollout_samples_list.append(tf.random.categorical(d_rollout_prob[:,-1],1,dtype=tf.int32))\n",
        "                              del d_rollout_prob\n",
        "                          \n",
        "                          full_samples = tf.concat([ generated_samples[:,1:given_num], tf.squeeze(tf.stack(rollout_samples_list,1))  ] ,1)\n",
        "                                                 \n",
        "                          gc.collect()\n",
        "                          gc.collect(0)   \n",
        "                          gc.collect(1)   \n",
        "                          gc.collect(2)   \n",
        "\n",
        "                          #full sample\n",
        "                          rd = self.discriminator.get_reward(full_samples,context_vector)\n",
        "\n",
        "                      else:\n",
        "                          rd = self.discriminator.get_reward(generated_samples[:,1:],context_vector)\n",
        "                      \n",
        "                      reward.append(rd)\n",
        "                      # if k==0: \n",
        "                      #     reward.append(rd)\n",
        "                      # else:\n",
        "                      #     reward[given_num-1] +=rd  \n",
        "\n",
        "              reward = tf.stack(reward,1)/ rollout_num # batchsize * seq_length\n",
        "              g_loss = self.loss_fn(generated_samples[:,1:] , tf.transpose( tf.stack(dec_prob) , [1,0,2]) , reward)\n",
        "            \n",
        "            variables = self.user_encoder.trainable_variables + self.item_encoder.trainable_variables + self.decoder.trainable_variables \n",
        "            gradients = tape.gradient(g_loss, variables)                  \n",
        "            self.optimizer_gn.apply_gradients(zip(gradients, variables))\n",
        "            \n",
        "            print(\"gen batch loss in policy gradient training: \",g_loss)\n",
        "            train_plx_gen_plc.update_state(g_loss)\n",
        "          \n",
        "    def _train_step_disc(self):\n",
        "\n",
        "          with tf.GradientTape() as tape:\n",
        "\n",
        "            positive_data,positive_user_indices,positive_item_indices = self.sample_real_data() # ground-truth data\n",
        "            negative_data,negative_user_indices,negative_item_indices = self.sample_fake_data() # machine-generated data\n",
        "            #data shape (batch_size * seq length)\n",
        "            whole_user_indices = tf.concat([positive_user_indices,negative_user_indices],0)\n",
        "            whole_item_indices = tf.concat([positive_item_indices,negative_item_indices],0)\n",
        "\n",
        "            positive_labels = tf.ones(batch_size, dtype=tf.int32) \n",
        "            negative_labels = tf.zeros(batch_size, dtype=tf.int32) \n",
        "            labels = tf.concat([positive_labels, negative_labels], 0)\n",
        "\n",
        "            shuffle_indices = tf.random.shuffle( tf.range(0, len(labels),dtype=tf.int32))\n",
        "            whole_data = tf.gather(tf.concat([positive_data,negative_data],0),shuffle_indices)    \n",
        "            labels = tf.gather(labels,shuffle_indices)\n",
        "            whole_user_indices = tf.gather(whole_user_indices,shuffle_indices)\n",
        "            whole_item_indices = tf.gather(whole_item_indices,shuffle_indices)\n",
        "            query_embedding = tf.concat([tf.gather(user_specific_vector , whole_user_indices) ,tf.gather( item_specific_vector , whole_item_indices)], 1)\n",
        "            # query shape (batch_size ,2.feature_num)\n",
        "            dis_reward = self.discriminator.get_reward( whole_data,query_embedding,training=True)\n",
        "            disc_loss = self.loss_ds(labels,dis_reward)\n",
        "         \n",
        "          variables = self.discriminator.trainable_variables \n",
        "          gradients = tape.gradient(disc_loss, variables)\n",
        "          self.optimizer_ds.apply_gradients(zip(gradients, variables))\n",
        "          print(\"disc loss: \",disc_loss)\n",
        "\n",
        "          train_acc_dis.update_state(labels,dis_reward)\n",
        "\n",
        "    def sample_real_data(self):\n",
        "\n",
        "      sample = train_data[np.random.choice(range(0,train_data.shape[0]),batch_size)][['userid','itemid','review_out']]\n",
        "\n",
        "      return   tf.stack(sample['review_out']) ,sample['userid'], sample['itemid']\n",
        " \n",
        "    def sample_fake_data(self):\n",
        "                \n",
        "      drawn_userid = np.random.choice(range(0,num_users),batch_size).astype('int32')\n",
        "      drawn_itemid = np.random.choice(range(0,num_items),batch_size).astype('int32')   \n",
        "      context_vector = tf.concat([tf.gather(user_specific_vector , drawn_userid) ,tf.gather(item_specific_vector , drawn_itemid)], 1)\n",
        "      sample = self.generate_sample(context_vector)\n",
        "\n",
        "      return sample,drawn_userid,drawn_itemid\n",
        "\n",
        "    def generate_sample(self, context_vector ):\n",
        "   \n",
        "        dec_out = [tf.convert_to_tensor(batch_size * [[2]])]\n",
        "        dec_state=None    \n",
        "        for _ in range(review_dec_length):           \n",
        "            dec_prob,dec_state = self.decoder( dec_out[-1], context_vector ,dec_state)          \n",
        "            dec_out.append(tf.random.categorical(dec_prob[:,-1],1,dtype=tf.int32))            \n",
        "            del dec_prob          \n",
        "        gc.collect()\n",
        "        \n",
        "        return tf.squeeze(tf.stack(dec_out,1))[:,1:] \n",
        "\n",
        "    def train(self):\n",
        "\n",
        "        for batch_step in range(4):\n",
        "            print(\"\\n batch number : \",batch_step)\n",
        "            (batch_userID,batch_itemID, _ ,batch_review_in,batch_review_out) = next(iter(train_ds))\n",
        "                        \n",
        "            # fetch a batch of user doc\n",
        "            batch_userdoc_flattend=[]\n",
        "            userdoc_slice_idx=[0]\n",
        "            for doc_id in batch_userID:\n",
        "              userdoc_slice_idx.append(userdoc_slice_idx[-1] + user_doc[doc_id].shape[0])\n",
        "              batch_userdoc_flattend = np.append(batch_userdoc_flattend,user_doc[doc_id])\n",
        "            batch_userdoc = tf.reshape(tf.convert_to_tensor( batch_userdoc_flattend,dtype=tf.int32),[userdoc_slice_idx[-1],review_enc_length])\n",
        "\n",
        "            # fetch a batch of item doc\n",
        "            batch_itemdoc_flattend=[]\n",
        "            itemdoc_slice_idx=[0]\n",
        "            for doc_id in batch_itemID:\n",
        "              itemdoc_slice_idx.append(itemdoc_slice_idx[-1] + user_doc[doc_id].shape[0])\n",
        "              batch_itemdoc_flattend = np.append(batch_itemdoc_flattend,item_doc[doc_id])\n",
        "            batch_itemdoc = tf.reshape(tf.convert_to_tensor( batch_userdoc_flattend,dtype=tf.int32),[userdoc_slice_idx[-1],review_enc_length])\n",
        "\n",
        "\n",
        "            # t step generator training teacher forcing\n",
        "            for _ in range(t_step): \n",
        "              self._train_step_gn_teacher(batch_userdoc, batch_itemdoc, userdoc_slice_idx, itemdoc_slice_idx,batch_review_in,batch_review_out)\n",
        "            tf.profiler.experimental.start('logs')\n",
        "  \n",
        "            # g step generator training policy gradient    \n",
        "            for _ in range(g_step):             \n",
        "             with tf.profiler.experimental.Trace(\"train\",step_num=g_step, _r=1):\n",
        "              self._train_step_gn_policy(batch_userdoc, batch_itemdoc, userdoc_slice_idx, itemdoc_slice_idx)  \n",
        "            tf.profiler.experimental.stop()\n",
        "\n",
        "            # d step discriminator training\n",
        "            for _ in range(d_step):\n",
        "              self._train_step_disc()\n",
        "\n",
        "\n",
        "            with train_summary_writer.as_default():\n",
        "                  tf.summary.scalar('Training perplexity for generator in Teacher Forcing mode', train_plx_gen_tch.result(), step=int(ckpt.step))\n",
        "                  tf.summary.scalar('Training perplexity for generator in Policy Gradient mode', train_plx_gen_plc.result(), step=int(ckpt.step))\n",
        "                  tf.summary.scalar('Training accuracy for discriminator', train_acc_dis.result(), step=int(ckpt.step))\n",
        "        \n",
        "    \n"
      ]
    },
    {
      "cell_type": "markdown",
      "metadata": {
        "id": "_3YKdf1-uW8Q"
      },
      "source": [
        "# **Multi-Task Learning**"
      ]
    },
    {
      "cell_type": "code",
      "execution_count": 82,
      "metadata": {
        "id": "khZxlR9oRxVe"
      },
      "outputs": [],
      "source": [
        "class MultiTaskModel(tf.keras.Model):\n",
        "      def __init__(self):\n",
        "        super().__init__()\n",
        "        self.pmf_model=PMF(num_feat=feature_num,maxepoch=100,num_item=len(item_to_column) ,num_user=len(user_to_row), mean_inv=np.mean(train_data['rating']))\n",
        "        self.seq2seq_model=Seq2Seq(embedding_dim,num_batches,batch_size)      \n",
        "\n",
        "      def train(self,n_epochs):    \n",
        "          ckpt.restore(manager.latest_checkpoint)\n",
        "          if manager.latest_checkpoint:\n",
        "            print(\"Restored from {}\".format(manager.latest_checkpoint))\n",
        "          else:\n",
        "            print(\"Initializing from scratch.\")\n",
        "\n",
        "          for epoch in range(n_epochs):\n",
        "              print(\"\\n\\nepoch : \", int(ckpt.step))\n",
        "            \n",
        "              print(\"********************************************* \\nPMF Model Training Turn =>\")\n",
        "              self.pmf_model.train()\n",
        "              print(\"\\n********************************************* \\nSeq2Seq Model Training Turn =>\")                                         \n",
        "              self.seq2seq_model.train( )\n",
        "            \n",
        "              ckpt.step.assign_add(1)\n",
        "              save_path = manager.save()\n",
        "              print(\"Saved checkpoint for epoch {}: {}\".format(int(ckpt.step), save_path))\n",
        "            # with graph_summary_writer.as_default():\n",
        "            #     tf.summary.trace_export('seq2seq train step',profiler_outdir=graph_log_dir,step=epoch)\n"
      ]
    },
    {
      "cell_type": "code",
      "execution_count": 83,
      "metadata": {
        "colab": {
          "base_uri": "https://localhost:8080/"
        },
        "id": "mrzxSK6IUr6O",
        "outputId": "212b1776-5de7-4896-f09a-4ea54c2405df"
      },
      "outputs": [],
      "source": [
        "gc.collect()\n",
        "gc.collect(0)\n",
        "gc.collect(1)\n",
        "gc.collect(2)\n",
        "\n",
        "# creating an instance of Multi_Task Model\n",
        "mt_model = MultiTaskModel()\n",
        "ckpt = tf.train.Checkpoint(step=tf.Variable(0), optimizer=tf.keras.optimizers.Adam(), net=mt_model)\n",
        "manager = tf.train.CheckpointManager(ckpt, './tf_ckpts', max_to_keep=30)\n"
      ]
    },
    {
      "cell_type": "code",
      "execution_count": 84,
      "metadata": {},
      "outputs": [],
      "source": [
        "#tf.profiler.experimental.stop()\n"
      ]
    },
    {
      "cell_type": "code",
      "execution_count": 85,
      "metadata": {},
      "outputs": [
        {
          "name": "stdout",
          "output_type": "stream",
          "text": [
            "Restored from ./tf_ckpts/ckpt-2\n",
            "\n",
            "\n",
            "epoch :  2\n",
            "********************************************* \n",
            "PMF Model Training Turn =>\n",
            "\n",
            "Training RMSE: 1.081787, Test RMSE 1.084010\n",
            "\n",
            "********************************************* \n",
            "Seq2Seq Model Training Turn =>\n",
            "\n",
            " batch number :  0\n",
            "gen batch loss in supervised training tf.Tensor(8.313242, shape=(), dtype=float32)\n"
          ]
        },
        {
          "name": "stderr",
          "output_type": "stream",
          "text": [
            "2022-11-26 10:51:06.554881: I tensorflow/core/profiler/lib/profiler_session.cc:99] Profiler session initializing.\n",
            "2022-11-26 10:51:06.554903: I tensorflow/core/profiler/lib/profiler_session.cc:114] Profiler session started.\n"
          ]
        },
        {
          "name": "stdout",
          "output_type": "stream",
          "text": [
            "gen batch loss in policy gradient training:  tf.Tensor(0.2510535, shape=(), dtype=float32)\n"
          ]
        },
        {
          "name": "stderr",
          "output_type": "stream",
          "text": [
            "2022-11-26 10:51:30.692266: I tensorflow/core/profiler/lib/profiler_session.cc:66] Profiler session collecting data.\n",
            "2022-11-26 10:51:30.702658: I tensorflow/core/profiler/internal/gpu/cupti_tracer.cc:1799] CUPTI activity buffer flushed\n",
            "2022-11-26 10:51:30.957978: I tensorflow/core/profiler/internal/gpu/cupti_collector.cc:521]  GpuTracer has collected 30948 callback api events and 30459 activity events. \n",
            "2022-11-26 10:51:31.733105: I tensorflow/core/profiler/lib/profiler_session.cc:126] Profiler session tear down.\n",
            "2022-11-26 10:51:32.629361: I tensorflow/core/profiler/rpc/client/save_profile.cc:136] Creating directory: logs/plugins/profile/2022_11_26_10_51_31\n",
            "\n",
            "2022-11-26 10:51:33.582137: I tensorflow/core/profiler/rpc/client/save_profile.cc:142] Dumped gzipped tool data for trace.json.gz to logs/plugins/profile/2022_11_26_10_51_31/mobin-vivobook.trace.json.gz\n",
            "2022-11-26 10:51:34.412611: I tensorflow/core/profiler/rpc/client/save_profile.cc:136] Creating directory: logs/plugins/profile/2022_11_26_10_51_31\n",
            "\n",
            "2022-11-26 10:51:34.431246: I tensorflow/core/profiler/rpc/client/save_profile.cc:142] Dumped gzipped tool data for memory_profile.json.gz to logs/plugins/profile/2022_11_26_10_51_31/mobin-vivobook.memory_profile.json.gz\n",
            "2022-11-26 10:51:34.445002: I tensorflow/core/profiler/rpc/client/capture_profile.cc:251] Creating directory: logs/plugins/profile/2022_11_26_10_51_31\n",
            "Dumped tool data for xplane.pb to logs/plugins/profile/2022_11_26_10_51_31/mobin-vivobook.xplane.pb\n",
            "Dumped tool data for overview_page.pb to logs/plugins/profile/2022_11_26_10_51_31/mobin-vivobook.overview_page.pb\n",
            "Dumped tool data for input_pipeline.pb to logs/plugins/profile/2022_11_26_10_51_31/mobin-vivobook.input_pipeline.pb\n",
            "Dumped tool data for tensorflow_stats.pb to logs/plugins/profile/2022_11_26_10_51_31/mobin-vivobook.tensorflow_stats.pb\n",
            "Dumped tool data for kernel_stats.pb to logs/plugins/profile/2022_11_26_10_51_31/mobin-vivobook.kernel_stats.pb\n",
            "\n"
          ]
        },
        {
          "name": "stdout",
          "output_type": "stream",
          "text": [
            "disc loss:  tf.Tensor(0.033879943, shape=(), dtype=float32)\n",
            "disc loss:  tf.Tensor(0.0152603835, shape=(), dtype=float32)\n",
            "disc loss:  tf.Tensor(0.012864919, shape=(), dtype=float32)\n",
            "\n",
            " batch number :  1\n",
            "gen batch loss in supervised training tf.Tensor(8.465567, shape=(), dtype=float32)\n"
          ]
        },
        {
          "name": "stderr",
          "output_type": "stream",
          "text": [
            "2022-11-26 10:51:37.818912: I tensorflow/core/profiler/lib/profiler_session.cc:99] Profiler session initializing.\n",
            "2022-11-26 10:51:37.818948: I tensorflow/core/profiler/lib/profiler_session.cc:114] Profiler session started.\n"
          ]
        },
        {
          "name": "stdout",
          "output_type": "stream",
          "text": [
            "gen batch loss in policy gradient training:  tf.Tensor(0.19428086, shape=(), dtype=float32)\n"
          ]
        },
        {
          "name": "stderr",
          "output_type": "stream",
          "text": [
            "2022-11-26 10:52:01.874938: I tensorflow/core/profiler/lib/profiler_session.cc:66] Profiler session collecting data.\n",
            "2022-11-26 10:52:01.881650: I tensorflow/core/profiler/internal/gpu/cupti_tracer.cc:1799] CUPTI activity buffer flushed\n",
            "2022-11-26 10:52:02.140111: I tensorflow/core/profiler/internal/gpu/cupti_collector.cc:521]  GpuTracer has collected 30916 callback api events and 30427 activity events. \n",
            "2022-11-26 10:52:02.909951: I tensorflow/core/profiler/lib/profiler_session.cc:126] Profiler session tear down.\n",
            "2022-11-26 10:52:03.805563: I tensorflow/core/profiler/rpc/client/save_profile.cc:136] Creating directory: logs/plugins/profile/2022_11_26_10_52_02\n",
            "\n",
            "2022-11-26 10:52:04.775200: I tensorflow/core/profiler/rpc/client/save_profile.cc:142] Dumped gzipped tool data for trace.json.gz to logs/plugins/profile/2022_11_26_10_52_02/mobin-vivobook.trace.json.gz\n",
            "2022-11-26 10:52:05.591426: I tensorflow/core/profiler/rpc/client/save_profile.cc:136] Creating directory: logs/plugins/profile/2022_11_26_10_52_02\n",
            "\n",
            "2022-11-26 10:52:05.606446: I tensorflow/core/profiler/rpc/client/save_profile.cc:142] Dumped gzipped tool data for memory_profile.json.gz to logs/plugins/profile/2022_11_26_10_52_02/mobin-vivobook.memory_profile.json.gz\n",
            "2022-11-26 10:52:05.619879: I tensorflow/core/profiler/rpc/client/capture_profile.cc:251] Creating directory: logs/plugins/profile/2022_11_26_10_52_02\n",
            "Dumped tool data for xplane.pb to logs/plugins/profile/2022_11_26_10_52_02/mobin-vivobook.xplane.pb\n",
            "Dumped tool data for overview_page.pb to logs/plugins/profile/2022_11_26_10_52_02/mobin-vivobook.overview_page.pb\n",
            "Dumped tool data for input_pipeline.pb to logs/plugins/profile/2022_11_26_10_52_02/mobin-vivobook.input_pipeline.pb\n",
            "Dumped tool data for tensorflow_stats.pb to logs/plugins/profile/2022_11_26_10_52_02/mobin-vivobook.tensorflow_stats.pb\n",
            "Dumped tool data for kernel_stats.pb to logs/plugins/profile/2022_11_26_10_52_02/mobin-vivobook.kernel_stats.pb\n",
            "\n"
          ]
        },
        {
          "name": "stdout",
          "output_type": "stream",
          "text": [
            "disc loss:  tf.Tensor(0.013178876, shape=(), dtype=float32)\n",
            "disc loss:  tf.Tensor(0.02090722, shape=(), dtype=float32)\n",
            "disc loss:  tf.Tensor(0.019626, shape=(), dtype=float32)\n",
            "\n",
            " batch number :  2\n",
            "gen batch loss in supervised training tf.Tensor(8.114624, shape=(), dtype=float32)\n"
          ]
        },
        {
          "name": "stderr",
          "output_type": "stream",
          "text": [
            "2022-11-26 10:52:09.055094: I tensorflow/core/profiler/lib/profiler_session.cc:99] Profiler session initializing.\n",
            "2022-11-26 10:52:09.055118: I tensorflow/core/profiler/lib/profiler_session.cc:114] Profiler session started.\n"
          ]
        },
        {
          "name": "stdout",
          "output_type": "stream",
          "text": [
            "gen batch loss in policy gradient training:  tf.Tensor(0.13660868, shape=(), dtype=float32)\n"
          ]
        },
        {
          "name": "stderr",
          "output_type": "stream",
          "text": [
            "2022-11-26 10:52:33.471545: I tensorflow/core/profiler/lib/profiler_session.cc:66] Profiler session collecting data.\n",
            "2022-11-26 10:52:33.479123: I tensorflow/core/profiler/internal/gpu/cupti_tracer.cc:1799] CUPTI activity buffer flushed\n",
            "2022-11-26 10:52:33.731298: I tensorflow/core/profiler/internal/gpu/cupti_collector.cc:521]  GpuTracer has collected 30916 callback api events and 30427 activity events. \n",
            "2022-11-26 10:52:34.456603: I tensorflow/core/profiler/lib/profiler_session.cc:126] Profiler session tear down.\n",
            "2022-11-26 10:52:35.326213: I tensorflow/core/profiler/rpc/client/save_profile.cc:136] Creating directory: logs/plugins/profile/2022_11_26_10_52_34\n",
            "\n",
            "2022-11-26 10:52:36.272210: I tensorflow/core/profiler/rpc/client/save_profile.cc:142] Dumped gzipped tool data for trace.json.gz to logs/plugins/profile/2022_11_26_10_52_34/mobin-vivobook.trace.json.gz\n",
            "2022-11-26 10:52:37.119654: I tensorflow/core/profiler/rpc/client/save_profile.cc:136] Creating directory: logs/plugins/profile/2022_11_26_10_52_34\n",
            "\n",
            "2022-11-26 10:52:37.135960: I tensorflow/core/profiler/rpc/client/save_profile.cc:142] Dumped gzipped tool data for memory_profile.json.gz to logs/plugins/profile/2022_11_26_10_52_34/mobin-vivobook.memory_profile.json.gz\n",
            "2022-11-26 10:52:37.150080: I tensorflow/core/profiler/rpc/client/capture_profile.cc:251] Creating directory: logs/plugins/profile/2022_11_26_10_52_34\n",
            "Dumped tool data for xplane.pb to logs/plugins/profile/2022_11_26_10_52_34/mobin-vivobook.xplane.pb\n",
            "Dumped tool data for overview_page.pb to logs/plugins/profile/2022_11_26_10_52_34/mobin-vivobook.overview_page.pb\n",
            "Dumped tool data for input_pipeline.pb to logs/plugins/profile/2022_11_26_10_52_34/mobin-vivobook.input_pipeline.pb\n",
            "Dumped tool data for tensorflow_stats.pb to logs/plugins/profile/2022_11_26_10_52_34/mobin-vivobook.tensorflow_stats.pb\n",
            "Dumped tool data for kernel_stats.pb to logs/plugins/profile/2022_11_26_10_52_34/mobin-vivobook.kernel_stats.pb\n",
            "\n"
          ]
        },
        {
          "name": "stdout",
          "output_type": "stream",
          "text": [
            "disc loss:  tf.Tensor(0.010849732, shape=(), dtype=float32)\n",
            "disc loss:  tf.Tensor(0.006325102, shape=(), dtype=float32)\n",
            "disc loss:  tf.Tensor(0.009326071, shape=(), dtype=float32)\n",
            "\n",
            " batch number :  3\n",
            "gen batch loss in supervised training tf.Tensor(8.251736, shape=(), dtype=float32)\n"
          ]
        },
        {
          "name": "stderr",
          "output_type": "stream",
          "text": [
            "2022-11-26 10:52:40.604739: I tensorflow/core/profiler/lib/profiler_session.cc:99] Profiler session initializing.\n",
            "2022-11-26 10:52:40.604764: I tensorflow/core/profiler/lib/profiler_session.cc:114] Profiler session started.\n"
          ]
        },
        {
          "name": "stdout",
          "output_type": "stream",
          "text": [
            "gen batch loss in policy gradient training:  tf.Tensor(0.19204831, shape=(), dtype=float32)\n"
          ]
        },
        {
          "name": "stderr",
          "output_type": "stream",
          "text": [
            "2022-11-26 10:53:04.793844: I tensorflow/core/profiler/lib/profiler_session.cc:66] Profiler session collecting data.\n",
            "2022-11-26 10:53:04.801291: I tensorflow/core/profiler/internal/gpu/cupti_tracer.cc:1799] CUPTI activity buffer flushed\n",
            "2022-11-26 10:53:05.046805: I tensorflow/core/profiler/internal/gpu/cupti_collector.cc:521]  GpuTracer has collected 30915 callback api events and 30426 activity events. \n",
            "2022-11-26 10:53:05.783946: I tensorflow/core/profiler/lib/profiler_session.cc:126] Profiler session tear down.\n",
            "2022-11-26 10:53:06.663045: I tensorflow/core/profiler/rpc/client/save_profile.cc:136] Creating directory: logs/plugins/profile/2022_11_26_10_53_05\n",
            "\n",
            "2022-11-26 10:53:07.626630: I tensorflow/core/profiler/rpc/client/save_profile.cc:142] Dumped gzipped tool data for trace.json.gz to logs/plugins/profile/2022_11_26_10_53_05/mobin-vivobook.trace.json.gz\n",
            "2022-11-26 10:53:08.462128: I tensorflow/core/profiler/rpc/client/save_profile.cc:136] Creating directory: logs/plugins/profile/2022_11_26_10_53_05\n",
            "\n",
            "2022-11-26 10:53:08.477734: I tensorflow/core/profiler/rpc/client/save_profile.cc:142] Dumped gzipped tool data for memory_profile.json.gz to logs/plugins/profile/2022_11_26_10_53_05/mobin-vivobook.memory_profile.json.gz\n",
            "2022-11-26 10:53:08.494033: I tensorflow/core/profiler/rpc/client/capture_profile.cc:251] Creating directory: logs/plugins/profile/2022_11_26_10_53_05\n",
            "Dumped tool data for xplane.pb to logs/plugins/profile/2022_11_26_10_53_05/mobin-vivobook.xplane.pb\n",
            "Dumped tool data for overview_page.pb to logs/plugins/profile/2022_11_26_10_53_05/mobin-vivobook.overview_page.pb\n",
            "Dumped tool data for input_pipeline.pb to logs/plugins/profile/2022_11_26_10_53_05/mobin-vivobook.input_pipeline.pb\n",
            "Dumped tool data for tensorflow_stats.pb to logs/plugins/profile/2022_11_26_10_53_05/mobin-vivobook.tensorflow_stats.pb\n",
            "Dumped tool data for kernel_stats.pb to logs/plugins/profile/2022_11_26_10_53_05/mobin-vivobook.kernel_stats.pb\n",
            "\n"
          ]
        },
        {
          "name": "stdout",
          "output_type": "stream",
          "text": [
            "disc loss:  tf.Tensor(0.007333619, shape=(), dtype=float32)\n",
            "disc loss:  tf.Tensor(0.01956679, shape=(), dtype=float32)\n",
            "disc loss:  tf.Tensor(0.011783715, shape=(), dtype=float32)\n",
            "Saved checkpoint for epoch 3: ./tf_ckpts/ckpt-3\n",
            "\n",
            "\n",
            "epoch :  3\n",
            "********************************************* \n",
            "PMF Model Training Turn =>\n",
            "\n",
            "Training RMSE: 1.067939, Test RMSE 1.083904\n",
            "\n",
            "********************************************* \n",
            "Seq2Seq Model Training Turn =>\n",
            "\n",
            " batch number :  0\n",
            "gen batch loss in supervised training tf.Tensor(8.126603, shape=(), dtype=float32)\n"
          ]
        },
        {
          "name": "stderr",
          "output_type": "stream",
          "text": [
            "2022-11-26 10:53:14.384530: I tensorflow/core/profiler/lib/profiler_session.cc:99] Profiler session initializing.\n",
            "2022-11-26 10:53:14.384552: I tensorflow/core/profiler/lib/profiler_session.cc:114] Profiler session started.\n"
          ]
        },
        {
          "name": "stdout",
          "output_type": "stream",
          "text": [
            "gen batch loss in policy gradient training:  tf.Tensor(0.1347934, shape=(), dtype=float32)\n"
          ]
        },
        {
          "name": "stderr",
          "output_type": "stream",
          "text": [
            "2022-11-26 10:53:38.652398: I tensorflow/core/profiler/lib/profiler_session.cc:66] Profiler session collecting data.\n",
            "2022-11-26 10:53:38.660553: I tensorflow/core/profiler/internal/gpu/cupti_tracer.cc:1799] CUPTI activity buffer flushed\n",
            "2022-11-26 10:53:38.915135: I tensorflow/core/profiler/internal/gpu/cupti_collector.cc:521]  GpuTracer has collected 30915 callback api events and 30426 activity events. \n",
            "2022-11-26 10:53:39.658647: I tensorflow/core/profiler/lib/profiler_session.cc:126] Profiler session tear down.\n",
            "2022-11-26 10:53:40.543829: I tensorflow/core/profiler/rpc/client/save_profile.cc:136] Creating directory: logs/plugins/profile/2022_11_26_10_53_39\n",
            "\n",
            "2022-11-26 10:53:41.639940: I tensorflow/core/profiler/rpc/client/save_profile.cc:142] Dumped gzipped tool data for trace.json.gz to logs/plugins/profile/2022_11_26_10_53_39/mobin-vivobook.trace.json.gz\n",
            "2022-11-26 10:53:42.441445: I tensorflow/core/profiler/rpc/client/save_profile.cc:136] Creating directory: logs/plugins/profile/2022_11_26_10_53_39\n",
            "\n",
            "2022-11-26 10:53:42.457336: I tensorflow/core/profiler/rpc/client/save_profile.cc:142] Dumped gzipped tool data for memory_profile.json.gz to logs/plugins/profile/2022_11_26_10_53_39/mobin-vivobook.memory_profile.json.gz\n",
            "2022-11-26 10:53:42.472129: I tensorflow/core/profiler/rpc/client/capture_profile.cc:251] Creating directory: logs/plugins/profile/2022_11_26_10_53_39\n",
            "Dumped tool data for xplane.pb to logs/plugins/profile/2022_11_26_10_53_39/mobin-vivobook.xplane.pb\n",
            "Dumped tool data for overview_page.pb to logs/plugins/profile/2022_11_26_10_53_39/mobin-vivobook.overview_page.pb\n",
            "Dumped tool data for input_pipeline.pb to logs/plugins/profile/2022_11_26_10_53_39/mobin-vivobook.input_pipeline.pb\n",
            "Dumped tool data for tensorflow_stats.pb to logs/plugins/profile/2022_11_26_10_53_39/mobin-vivobook.tensorflow_stats.pb\n",
            "Dumped tool data for kernel_stats.pb to logs/plugins/profile/2022_11_26_10_53_39/mobin-vivobook.kernel_stats.pb\n",
            "\n"
          ]
        },
        {
          "name": "stdout",
          "output_type": "stream",
          "text": [
            "disc loss:  tf.Tensor(0.006449282, shape=(), dtype=float32)\n",
            "disc loss:  tf.Tensor(0.0034463059, shape=(), dtype=float32)\n",
            "disc loss:  tf.Tensor(0.0075009326, shape=(), dtype=float32)\n",
            "\n",
            " batch number :  1\n",
            "gen batch loss in supervised training tf.Tensor(8.040185, shape=(), dtype=float32)\n"
          ]
        },
        {
          "name": "stderr",
          "output_type": "stream",
          "text": [
            "2022-11-26 10:53:45.946680: I tensorflow/core/profiler/lib/profiler_session.cc:99] Profiler session initializing.\n",
            "2022-11-26 10:53:45.946724: I tensorflow/core/profiler/lib/profiler_session.cc:114] Profiler session started.\n"
          ]
        },
        {
          "name": "stdout",
          "output_type": "stream",
          "text": [
            "gen batch loss in policy gradient training:  tf.Tensor(0.10759778, shape=(), dtype=float32)\n"
          ]
        },
        {
          "name": "stderr",
          "output_type": "stream",
          "text": [
            "2022-11-26 10:54:10.207157: I tensorflow/core/profiler/lib/profiler_session.cc:66] Profiler session collecting data.\n",
            "2022-11-26 10:54:10.214941: I tensorflow/core/profiler/internal/gpu/cupti_tracer.cc:1799] CUPTI activity buffer flushed\n",
            "2022-11-26 10:54:10.472362: I tensorflow/core/profiler/internal/gpu/cupti_collector.cc:521]  GpuTracer has collected 30912 callback api events and 30423 activity events. \n",
            "2022-11-26 10:54:11.210305: I tensorflow/core/profiler/lib/profiler_session.cc:126] Profiler session tear down.\n",
            "2022-11-26 10:54:12.097007: I tensorflow/core/profiler/rpc/client/save_profile.cc:136] Creating directory: logs/plugins/profile/2022_11_26_10_54_11\n",
            "\n",
            "2022-11-26 10:54:13.051045: I tensorflow/core/profiler/rpc/client/save_profile.cc:142] Dumped gzipped tool data for trace.json.gz to logs/plugins/profile/2022_11_26_10_54_11/mobin-vivobook.trace.json.gz\n",
            "2022-11-26 10:54:13.837205: I tensorflow/core/profiler/rpc/client/save_profile.cc:136] Creating directory: logs/plugins/profile/2022_11_26_10_54_11\n",
            "\n",
            "2022-11-26 10:54:13.850740: I tensorflow/core/profiler/rpc/client/save_profile.cc:142] Dumped gzipped tool data for memory_profile.json.gz to logs/plugins/profile/2022_11_26_10_54_11/mobin-vivobook.memory_profile.json.gz\n",
            "2022-11-26 10:54:13.863706: I tensorflow/core/profiler/rpc/client/capture_profile.cc:251] Creating directory: logs/plugins/profile/2022_11_26_10_54_11\n",
            "Dumped tool data for xplane.pb to logs/plugins/profile/2022_11_26_10_54_11/mobin-vivobook.xplane.pb\n",
            "Dumped tool data for overview_page.pb to logs/plugins/profile/2022_11_26_10_54_11/mobin-vivobook.overview_page.pb\n",
            "Dumped tool data for input_pipeline.pb to logs/plugins/profile/2022_11_26_10_54_11/mobin-vivobook.input_pipeline.pb\n",
            "Dumped tool data for tensorflow_stats.pb to logs/plugins/profile/2022_11_26_10_54_11/mobin-vivobook.tensorflow_stats.pb\n",
            "Dumped tool data for kernel_stats.pb to logs/plugins/profile/2022_11_26_10_54_11/mobin-vivobook.kernel_stats.pb\n",
            "\n"
          ]
        },
        {
          "name": "stdout",
          "output_type": "stream",
          "text": [
            "disc loss:  tf.Tensor(0.0069424976, shape=(), dtype=float32)\n",
            "disc loss:  tf.Tensor(0.014584151, shape=(), dtype=float32)\n",
            "disc loss:  tf.Tensor(0.008639241, shape=(), dtype=float32)\n",
            "\n",
            " batch number :  2\n",
            "gen batch loss in supervised training tf.Tensor(8.019931, shape=(), dtype=float32)\n"
          ]
        },
        {
          "name": "stderr",
          "output_type": "stream",
          "text": [
            "2022-11-26 10:54:17.380902: I tensorflow/core/profiler/lib/profiler_session.cc:99] Profiler session initializing.\n",
            "2022-11-26 10:54:17.380932: I tensorflow/core/profiler/lib/profiler_session.cc:114] Profiler session started.\n"
          ]
        },
        {
          "name": "stdout",
          "output_type": "stream",
          "text": [
            "gen batch loss in policy gradient training:  tf.Tensor(0.13944249, shape=(), dtype=float32)\n"
          ]
        },
        {
          "name": "stderr",
          "output_type": "stream",
          "text": [
            "2022-11-26 10:54:41.481647: I tensorflow/core/profiler/lib/profiler_session.cc:66] Profiler session collecting data.\n",
            "2022-11-26 10:54:41.489443: I tensorflow/core/profiler/internal/gpu/cupti_tracer.cc:1799] CUPTI activity buffer flushed\n",
            "2022-11-26 10:54:41.743568: I tensorflow/core/profiler/internal/gpu/cupti_collector.cc:521]  GpuTracer has collected 30919 callback api events and 30430 activity events. \n",
            "2022-11-26 10:54:42.495598: I tensorflow/core/profiler/lib/profiler_session.cc:126] Profiler session tear down.\n",
            "2022-11-26 10:54:43.402633: I tensorflow/core/profiler/rpc/client/save_profile.cc:136] Creating directory: logs/plugins/profile/2022_11_26_10_54_42\n",
            "\n",
            "2022-11-26 10:54:44.384581: I tensorflow/core/profiler/rpc/client/save_profile.cc:142] Dumped gzipped tool data for trace.json.gz to logs/plugins/profile/2022_11_26_10_54_42/mobin-vivobook.trace.json.gz\n",
            "2022-11-26 10:54:45.233543: I tensorflow/core/profiler/rpc/client/save_profile.cc:136] Creating directory: logs/plugins/profile/2022_11_26_10_54_42\n",
            "\n",
            "2022-11-26 10:54:45.251524: I tensorflow/core/profiler/rpc/client/save_profile.cc:142] Dumped gzipped tool data for memory_profile.json.gz to logs/plugins/profile/2022_11_26_10_54_42/mobin-vivobook.memory_profile.json.gz\n",
            "2022-11-26 10:54:45.271417: I tensorflow/core/profiler/rpc/client/capture_profile.cc:251] Creating directory: logs/plugins/profile/2022_11_26_10_54_42\n",
            "Dumped tool data for xplane.pb to logs/plugins/profile/2022_11_26_10_54_42/mobin-vivobook.xplane.pb\n",
            "Dumped tool data for overview_page.pb to logs/plugins/profile/2022_11_26_10_54_42/mobin-vivobook.overview_page.pb\n",
            "Dumped tool data for input_pipeline.pb to logs/plugins/profile/2022_11_26_10_54_42/mobin-vivobook.input_pipeline.pb\n",
            "Dumped tool data for tensorflow_stats.pb to logs/plugins/profile/2022_11_26_10_54_42/mobin-vivobook.tensorflow_stats.pb\n",
            "Dumped tool data for kernel_stats.pb to logs/plugins/profile/2022_11_26_10_54_42/mobin-vivobook.kernel_stats.pb\n",
            "\n"
          ]
        },
        {
          "name": "stdout",
          "output_type": "stream",
          "text": [
            "disc loss:  tf.Tensor(0.005199358, shape=(), dtype=float32)\n",
            "disc loss:  tf.Tensor(0.010098128, shape=(), dtype=float32)\n",
            "disc loss:  tf.Tensor(0.011235348, shape=(), dtype=float32)\n",
            "\n",
            " batch number :  3\n",
            "gen batch loss in supervised training tf.Tensor(7.733584, shape=(), dtype=float32)\n"
          ]
        },
        {
          "name": "stderr",
          "output_type": "stream",
          "text": [
            "2022-11-26 10:54:48.880693: I tensorflow/core/profiler/lib/profiler_session.cc:99] Profiler session initializing.\n",
            "2022-11-26 10:54:48.880720: I tensorflow/core/profiler/lib/profiler_session.cc:114] Profiler session started.\n"
          ]
        },
        {
          "name": "stdout",
          "output_type": "stream",
          "text": [
            "gen batch loss in policy gradient training:  tf.Tensor(0.13548747, shape=(), dtype=float32)\n"
          ]
        },
        {
          "name": "stderr",
          "output_type": "stream",
          "text": [
            "2022-11-26 10:55:12.981347: I tensorflow/core/profiler/lib/profiler_session.cc:66] Profiler session collecting data.\n",
            "2022-11-26 10:55:12.989872: I tensorflow/core/profiler/internal/gpu/cupti_tracer.cc:1799] CUPTI activity buffer flushed\n",
            "2022-11-26 10:55:13.243873: I tensorflow/core/profiler/internal/gpu/cupti_collector.cc:521]  GpuTracer has collected 30912 callback api events and 30423 activity events. \n",
            "2022-11-26 10:55:14.003148: I tensorflow/core/profiler/lib/profiler_session.cc:126] Profiler session tear down.\n",
            "2022-11-26 10:55:14.914166: I tensorflow/core/profiler/rpc/client/save_profile.cc:136] Creating directory: logs/plugins/profile/2022_11_26_10_55_14\n",
            "\n",
            "2022-11-26 10:55:15.892732: I tensorflow/core/profiler/rpc/client/save_profile.cc:142] Dumped gzipped tool data for trace.json.gz to logs/plugins/profile/2022_11_26_10_55_14/mobin-vivobook.trace.json.gz\n",
            "2022-11-26 10:55:16.676358: I tensorflow/core/profiler/rpc/client/save_profile.cc:136] Creating directory: logs/plugins/profile/2022_11_26_10_55_14\n",
            "\n",
            "2022-11-26 10:55:16.691029: I tensorflow/core/profiler/rpc/client/save_profile.cc:142] Dumped gzipped tool data for memory_profile.json.gz to logs/plugins/profile/2022_11_26_10_55_14/mobin-vivobook.memory_profile.json.gz\n",
            "2022-11-26 10:55:16.704653: I tensorflow/core/profiler/rpc/client/capture_profile.cc:251] Creating directory: logs/plugins/profile/2022_11_26_10_55_14\n",
            "Dumped tool data for xplane.pb to logs/plugins/profile/2022_11_26_10_55_14/mobin-vivobook.xplane.pb\n",
            "Dumped tool data for overview_page.pb to logs/plugins/profile/2022_11_26_10_55_14/mobin-vivobook.overview_page.pb\n",
            "Dumped tool data for input_pipeline.pb to logs/plugins/profile/2022_11_26_10_55_14/mobin-vivobook.input_pipeline.pb\n",
            "Dumped tool data for tensorflow_stats.pb to logs/plugins/profile/2022_11_26_10_55_14/mobin-vivobook.tensorflow_stats.pb\n",
            "Dumped tool data for kernel_stats.pb to logs/plugins/profile/2022_11_26_10_55_14/mobin-vivobook.kernel_stats.pb\n",
            "\n"
          ]
        },
        {
          "name": "stdout",
          "output_type": "stream",
          "text": [
            "disc loss:  tf.Tensor(0.0065288297, shape=(), dtype=float32)\n",
            "disc loss:  tf.Tensor(0.022727756, shape=(), dtype=float32)\n",
            "disc loss:  tf.Tensor(0.0066993358, shape=(), dtype=float32)\n",
            "Saved checkpoint for epoch 4: ./tf_ckpts/ckpt-4\n"
          ]
        }
      ],
      "source": [
        "mt_model.train(n_epochs=2)"
      ]
    },
    {
      "cell_type": "markdown",
      "metadata": {},
      "source": [
        "# **Ploting Results**"
      ]
    },
    {
      "cell_type": "code",
      "execution_count": 86,
      "metadata": {},
      "outputs": [
        {
          "name": "stdout",
          "output_type": "stream",
          "text": [
            "The tensorboard extension is already loaded. To reload it, use:\n",
            "  %reload_ext tensorboard\n"
          ]
        }
      ],
      "source": [
        "%load_ext tensorboard"
      ]
    },
    {
      "cell_type": "code",
      "execution_count": 87,
      "metadata": {},
      "outputs": [
        {
          "data": {
            "text/plain": [
              "Reusing TensorBoard on port 6006 (pid 19821), started 0:06:57 ago. (Use '!kill 19821' to kill it.)"
            ]
          },
          "metadata": {},
          "output_type": "display_data"
        },
        {
          "data": {
            "text/html": [
              "\n",
              "      <iframe id=\"tensorboard-frame-918ca9990c272caf\" width=\"100%\" height=\"800\" frameborder=\"0\">\n",
              "      </iframe>\n",
              "      <script>\n",
              "        (function() {\n",
              "          const frame = document.getElementById(\"tensorboard-frame-918ca9990c272caf\");\n",
              "          const url = new URL(\"http://localhost\");\n",
              "          const port = 6006;\n",
              "          if (port) {\n",
              "            url.port = port;\n",
              "          }\n",
              "          frame.src = url;\n",
              "        })();\n",
              "      </script>\n",
              "    "
            ],
            "text/plain": [
              "<IPython.core.display.HTML object>"
            ]
          },
          "metadata": {},
          "output_type": "display_data"
        }
      ],
      "source": [
        "%tensorboard --logdir logs\n",
        "# deactive tracking protection of the page if you get 403 error\n"
      ]
    },
    {
      "cell_type": "markdown",
      "metadata": {
        "id": "xniWi24qcZsb"
      },
      "source": [
        "# test code"
      ]
    },
    {
      "cell_type": "code",
      "execution_count": 88,
      "metadata": {
        "id": "85ryd-vJrTix"
      },
      "outputs": [],
      "source": [
        "#log_ps, mse_train, mse_test= pm.train(10)"
      ]
    },
    {
      "cell_type": "code",
      "execution_count": 89,
      "metadata": {
        "id": "4meEBmwsqMYC"
      },
      "outputs": [],
      "source": [
        "\n",
        "# dec_result,dec_state=decoder(dec_output_tokens,dec_output_tokens,context_vector= user_context_vector,state=dec_state)\n",
        "# sampled_token = tf.random.categorical(dec_result[:,-1, :], num_samples=1)\n",
        "# print( sampled_token.numpy())\n",
        "# dec_output_tokens=np.append( dec_output_tokens , sampled_token.numpy()[0])\n",
        "# print(dec_output_tokens)\n",
        "\n",
        "# vocab = np.array(input_text_processor.get_vocabulary())\n",
        "# first_word = vocab[dec_output_tokens]\n",
        "# first_word"
      ]
    }
  ],
  "metadata": {
    "colab": {
      "collapsed_sections": [],
      "name": "Explainable Recommender System.ipynb",
      "provenance": [],
      "toc_visible": true
    },
    "gpuClass": "standard",
    "kernelspec": {
      "display_name": "Python 3.7.13 ('colabenv')",
      "language": "python",
      "name": "python3"
    },
    "language_info": {
      "codemirror_mode": {
        "name": "ipython",
        "version": 3
      },
      "file_extension": ".py",
      "mimetype": "text/x-python",
      "name": "python",
      "nbconvert_exporter": "python",
      "pygments_lexer": "ipython3",
      "version": "3.7.13"
    },
    "vscode": {
      "interpreter": {
        "hash": "5859fc1fd51a29bc96a6c335b5cef2533de774a99a73e1484108bae0d11f06ff"
      }
    }
  },
  "nbformat": 4,
  "nbformat_minor": 0
}
