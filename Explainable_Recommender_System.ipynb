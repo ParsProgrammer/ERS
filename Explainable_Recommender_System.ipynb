{
  "cells": [
    {
      "cell_type": "code",
      "execution_count": 1,
      "metadata": {},
      "outputs": [],
      "source": [
        "# uncomment the last two cell to clone the data and enable the GPU\n",
        "#! git clone https://github.com/ParsProgrammer/ERS.git"
      ]
    },
    {
      "cell_type": "code",
      "execution_count": 2,
      "metadata": {},
      "outputs": [],
      "source": [
        "#cd ERS"
      ]
    },
    {
      "cell_type": "markdown",
      "metadata": {},
      "source": [
        "# **Packages**"
      ]
    },
    {
      "cell_type": "code",
      "execution_count": 3,
      "metadata": {
        "colab": {
          "base_uri": "https://localhost:8080/"
        },
        "id": "xrzVYQNxJm_W",
        "outputId": "8f98d417-6c2d-47ff-a041-84238103eba9"
      },
      "outputs": [
        {
          "name": "stdout",
          "output_type": "stream",
          "text": [
            "Requirement already satisfied: tensorflow-gpu==2.9 in /home/mobin/anaconda3/envs/colabenv/lib/python3.7/site-packages (2.9.0)\n",
            "Requirement already satisfied: keras<2.10.0,>=2.9.0rc0 in /home/mobin/anaconda3/envs/colabenv/lib/python3.7/site-packages (from tensorflow-gpu==2.9) (2.9.0)\n",
            "Requirement already satisfied: six>=1.12.0 in /home/mobin/anaconda3/envs/colabenv/lib/python3.7/site-packages (from tensorflow-gpu==2.9) (1.16.0)\n",
            "Requirement already satisfied: flatbuffers<2,>=1.12 in /home/mobin/anaconda3/envs/colabenv/lib/python3.7/site-packages (from tensorflow-gpu==2.9) (1.12)\n",
            "Requirement already satisfied: grpcio<2.0,>=1.24.3 in /home/mobin/anaconda3/envs/colabenv/lib/python3.7/site-packages (from tensorflow-gpu==2.9) (1.50.0)\n",
            "Requirement already satisfied: keras-preprocessing>=1.1.1 in /home/mobin/anaconda3/envs/colabenv/lib/python3.7/site-packages (from tensorflow-gpu==2.9) (1.1.2)\n",
            "Requirement already satisfied: absl-py>=1.0.0 in /home/mobin/anaconda3/envs/colabenv/lib/python3.7/site-packages (from tensorflow-gpu==2.9) (1.2.0)\n",
            "Requirement already satisfied: tensorboard<2.10,>=2.9 in /home/mobin/anaconda3/envs/colabenv/lib/python3.7/site-packages (from tensorflow-gpu==2.9) (2.9.1)\n",
            "Requirement already satisfied: libclang>=13.0.0 in /home/mobin/anaconda3/envs/colabenv/lib/python3.7/site-packages (from tensorflow-gpu==2.9) (14.0.6)\n",
            "Requirement already satisfied: wrapt>=1.11.0 in /home/mobin/anaconda3/envs/colabenv/lib/python3.7/site-packages (from tensorflow-gpu==2.9) (1.14.1)\n",
            "Requirement already satisfied: astunparse>=1.6.0 in /home/mobin/anaconda3/envs/colabenv/lib/python3.7/site-packages (from tensorflow-gpu==2.9) (1.6.3)\n",
            "Requirement already satisfied: gast<=0.4.0,>=0.2.1 in /home/mobin/anaconda3/envs/colabenv/lib/python3.7/site-packages (from tensorflow-gpu==2.9) (0.4.0)\n",
            "Requirement already satisfied: setuptools in /home/mobin/anaconda3/envs/colabenv/lib/python3.7/site-packages (from tensorflow-gpu==2.9) (61.2.0)\n",
            "Requirement already satisfied: tensorflow-io-gcs-filesystem>=0.23.1 in /home/mobin/anaconda3/envs/colabenv/lib/python3.7/site-packages (from tensorflow-gpu==2.9) (0.26.0)\n",
            "Requirement already satisfied: termcolor>=1.1.0 in /home/mobin/anaconda3/envs/colabenv/lib/python3.7/site-packages (from tensorflow-gpu==2.9) (1.1.0)\n",
            "Requirement already satisfied: google-pasta>=0.1.1 in /home/mobin/anaconda3/envs/colabenv/lib/python3.7/site-packages (from tensorflow-gpu==2.9) (0.2.0)\n",
            "Requirement already satisfied: typing-extensions>=3.6.6 in /home/mobin/anaconda3/envs/colabenv/lib/python3.7/site-packages (from tensorflow-gpu==2.9) (4.3.0)\n",
            "Requirement already satisfied: opt-einsum>=2.3.2 in /home/mobin/anaconda3/envs/colabenv/lib/python3.7/site-packages (from tensorflow-gpu==2.9) (3.3.0)\n",
            "Requirement already satisfied: protobuf>=3.9.2 in /home/mobin/anaconda3/envs/colabenv/lib/python3.7/site-packages (from tensorflow-gpu==2.9) (3.19.6)\n",
            "Requirement already satisfied: packaging in /home/mobin/anaconda3/envs/colabenv/lib/python3.7/site-packages (from tensorflow-gpu==2.9) (21.3)\n",
            "Requirement already satisfied: tensorflow-estimator<2.10.0,>=2.9.0rc0 in /home/mobin/anaconda3/envs/colabenv/lib/python3.7/site-packages (from tensorflow-gpu==2.9) (2.9.0)\n",
            "Requirement already satisfied: h5py>=2.9.0 in /home/mobin/anaconda3/envs/colabenv/lib/python3.7/site-packages (from tensorflow-gpu==2.9) (3.7.0)\n",
            "Requirement already satisfied: numpy>=1.20 in /home/mobin/anaconda3/envs/colabenv/lib/python3.7/site-packages (from tensorflow-gpu==2.9) (1.21.6)\n",
            "Requirement already satisfied: wheel<1.0,>=0.23.0 in /home/mobin/anaconda3/envs/colabenv/lib/python3.7/site-packages (from astunparse>=1.6.0->tensorflow-gpu==2.9) (0.37.1)\n",
            "Requirement already satisfied: markdown>=2.6.8 in /home/mobin/anaconda3/envs/colabenv/lib/python3.7/site-packages (from tensorboard<2.10,>=2.9->tensorflow-gpu==2.9) (3.4.1)\n",
            "Requirement already satisfied: werkzeug>=1.0.1 in /home/mobin/anaconda3/envs/colabenv/lib/python3.7/site-packages (from tensorboard<2.10,>=2.9->tensorflow-gpu==2.9) (2.2.1)\n",
            "Requirement already satisfied: tensorboard-data-server<0.7.0,>=0.6.0 in /home/mobin/anaconda3/envs/colabenv/lib/python3.7/site-packages (from tensorboard<2.10,>=2.9->tensorflow-gpu==2.9) (0.6.1)\n",
            "Requirement already satisfied: tensorboard-plugin-wit>=1.6.0 in /home/mobin/anaconda3/envs/colabenv/lib/python3.7/site-packages (from tensorboard<2.10,>=2.9->tensorflow-gpu==2.9) (1.8.1)\n",
            "Requirement already satisfied: google-auth-oauthlib<0.5,>=0.4.1 in /home/mobin/anaconda3/envs/colabenv/lib/python3.7/site-packages (from tensorboard<2.10,>=2.9->tensorflow-gpu==2.9) (0.4.6)\n",
            "Requirement already satisfied: google-auth<3,>=1.6.3 in /home/mobin/anaconda3/envs/colabenv/lib/python3.7/site-packages (from tensorboard<2.10,>=2.9->tensorflow-gpu==2.9) (2.9.1)\n",
            "Requirement already satisfied: requests<3,>=2.21.0 in /home/mobin/anaconda3/envs/colabenv/lib/python3.7/site-packages (from tensorboard<2.10,>=2.9->tensorflow-gpu==2.9) (2.28.1)\n",
            "Requirement already satisfied: pyparsing!=3.0.5,>=2.0.2 in /home/mobin/anaconda3/envs/colabenv/lib/python3.7/site-packages (from packaging->tensorflow-gpu==2.9) (3.0.9)\n",
            "Requirement already satisfied: rsa<5,>=3.1.4 in /home/mobin/anaconda3/envs/colabenv/lib/python3.7/site-packages (from google-auth<3,>=1.6.3->tensorboard<2.10,>=2.9->tensorflow-gpu==2.9) (4.9)\n",
            "Requirement already satisfied: cachetools<6.0,>=2.0.0 in /home/mobin/anaconda3/envs/colabenv/lib/python3.7/site-packages (from google-auth<3,>=1.6.3->tensorboard<2.10,>=2.9->tensorflow-gpu==2.9) (4.2.4)\n",
            "Requirement already satisfied: pyasn1-modules>=0.2.1 in /home/mobin/anaconda3/envs/colabenv/lib/python3.7/site-packages (from google-auth<3,>=1.6.3->tensorboard<2.10,>=2.9->tensorflow-gpu==2.9) (0.2.8)\n",
            "Requirement already satisfied: requests-oauthlib>=0.7.0 in /home/mobin/anaconda3/envs/colabenv/lib/python3.7/site-packages (from google-auth-oauthlib<0.5,>=0.4.1->tensorboard<2.10,>=2.9->tensorflow-gpu==2.9) (1.3.1)\n",
            "Requirement already satisfied: importlib-metadata>=4.4 in /home/mobin/anaconda3/envs/colabenv/lib/python3.7/site-packages (from markdown>=2.6.8->tensorboard<2.10,>=2.9->tensorflow-gpu==2.9) (4.12.0)\n",
            "Requirement already satisfied: idna<4,>=2.5 in /home/mobin/anaconda3/envs/colabenv/lib/python3.7/site-packages (from requests<3,>=2.21.0->tensorboard<2.10,>=2.9->tensorflow-gpu==2.9) (3.3)\n",
            "Requirement already satisfied: urllib3<1.27,>=1.21.1 in /home/mobin/anaconda3/envs/colabenv/lib/python3.7/site-packages (from requests<3,>=2.21.0->tensorboard<2.10,>=2.9->tensorflow-gpu==2.9) (1.26.11)\n",
            "Requirement already satisfied: charset-normalizer<3,>=2 in /home/mobin/anaconda3/envs/colabenv/lib/python3.7/site-packages (from requests<3,>=2.21.0->tensorboard<2.10,>=2.9->tensorflow-gpu==2.9) (2.1.0)\n",
            "Requirement already satisfied: certifi>=2017.4.17 in /home/mobin/anaconda3/envs/colabenv/lib/python3.7/site-packages (from requests<3,>=2.21.0->tensorboard<2.10,>=2.9->tensorflow-gpu==2.9) (2022.6.15)\n",
            "Requirement already satisfied: MarkupSafe>=2.1.1 in /home/mobin/anaconda3/envs/colabenv/lib/python3.7/site-packages (from werkzeug>=1.0.1->tensorboard<2.10,>=2.9->tensorflow-gpu==2.9) (2.1.1)\n",
            "Requirement already satisfied: zipp>=0.5 in /home/mobin/anaconda3/envs/colabenv/lib/python3.7/site-packages (from importlib-metadata>=4.4->markdown>=2.6.8->tensorboard<2.10,>=2.9->tensorflow-gpu==2.9) (3.8.1)\n",
            "Requirement already satisfied: pyasn1<0.5.0,>=0.4.6 in /home/mobin/anaconda3/envs/colabenv/lib/python3.7/site-packages (from pyasn1-modules>=0.2.1->google-auth<3,>=1.6.3->tensorboard<2.10,>=2.9->tensorflow-gpu==2.9) (0.4.8)\n",
            "Requirement already satisfied: oauthlib>=3.0.0 in /home/mobin/anaconda3/envs/colabenv/lib/python3.7/site-packages (from requests-oauthlib>=0.7.0->google-auth-oauthlib<0.5,>=0.4.1->tensorboard<2.10,>=2.9->tensorflow-gpu==2.9) (3.2.0)\n",
            "Note: you may need to restart the kernel to use updated packages.\n",
            "Requirement already satisfied: tensorflow-text in /home/mobin/anaconda3/envs/colabenv/lib/python3.7/site-packages (2.9.0)\n",
            "Requirement already satisfied: tensorflow-hub>=0.8.0 in /home/mobin/anaconda3/envs/colabenv/lib/python3.7/site-packages (from tensorflow-text) (0.12.0)\n",
            "Requirement already satisfied: tensorflow<2.10,>=2.9.0 in /home/mobin/anaconda3/envs/colabenv/lib/python3.7/site-packages (from tensorflow-text) (2.9.3)\n",
            "Requirement already satisfied: wrapt>=1.11.0 in /home/mobin/anaconda3/envs/colabenv/lib/python3.7/site-packages (from tensorflow<2.10,>=2.9.0->tensorflow-text) (1.14.1)\n",
            "Requirement already satisfied: typing-extensions>=3.6.6 in /home/mobin/anaconda3/envs/colabenv/lib/python3.7/site-packages (from tensorflow<2.10,>=2.9.0->tensorflow-text) (4.3.0)\n",
            "Requirement already satisfied: h5py>=2.9.0 in /home/mobin/anaconda3/envs/colabenv/lib/python3.7/site-packages (from tensorflow<2.10,>=2.9.0->tensorflow-text) (3.7.0)\n",
            "Requirement already satisfied: setuptools in /home/mobin/anaconda3/envs/colabenv/lib/python3.7/site-packages (from tensorflow<2.10,>=2.9.0->tensorflow-text) (61.2.0)\n",
            "Requirement already satisfied: opt-einsum>=2.3.2 in /home/mobin/anaconda3/envs/colabenv/lib/python3.7/site-packages (from tensorflow<2.10,>=2.9.0->tensorflow-text) (3.3.0)\n",
            "Requirement already satisfied: tensorboard<2.10,>=2.9 in /home/mobin/anaconda3/envs/colabenv/lib/python3.7/site-packages (from tensorflow<2.10,>=2.9.0->tensorflow-text) (2.9.1)\n",
            "Requirement already satisfied: google-pasta>=0.1.1 in /home/mobin/anaconda3/envs/colabenv/lib/python3.7/site-packages (from tensorflow<2.10,>=2.9.0->tensorflow-text) (0.2.0)\n",
            "Requirement already satisfied: tensorflow-io-gcs-filesystem>=0.23.1 in /home/mobin/anaconda3/envs/colabenv/lib/python3.7/site-packages (from tensorflow<2.10,>=2.9.0->tensorflow-text) (0.26.0)\n",
            "Requirement already satisfied: termcolor>=1.1.0 in /home/mobin/anaconda3/envs/colabenv/lib/python3.7/site-packages (from tensorflow<2.10,>=2.9.0->tensorflow-text) (1.1.0)\n",
            "Requirement already satisfied: keras<2.10.0,>=2.9.0rc0 in /home/mobin/anaconda3/envs/colabenv/lib/python3.7/site-packages (from tensorflow<2.10,>=2.9.0->tensorflow-text) (2.9.0)\n",
            "Requirement already satisfied: tensorflow-estimator<2.10.0,>=2.9.0rc0 in /home/mobin/anaconda3/envs/colabenv/lib/python3.7/site-packages (from tensorflow<2.10,>=2.9.0->tensorflow-text) (2.9.0)\n",
            "Requirement already satisfied: gast<=0.4.0,>=0.2.1 in /home/mobin/anaconda3/envs/colabenv/lib/python3.7/site-packages (from tensorflow<2.10,>=2.9.0->tensorflow-text) (0.4.0)\n",
            "Requirement already satisfied: grpcio<2.0,>=1.24.3 in /home/mobin/anaconda3/envs/colabenv/lib/python3.7/site-packages (from tensorflow<2.10,>=2.9.0->tensorflow-text) (1.50.0)\n",
            "Requirement already satisfied: astunparse>=1.6.0 in /home/mobin/anaconda3/envs/colabenv/lib/python3.7/site-packages (from tensorflow<2.10,>=2.9.0->tensorflow-text) (1.6.3)\n",
            "Requirement already satisfied: numpy>=1.20 in /home/mobin/anaconda3/envs/colabenv/lib/python3.7/site-packages (from tensorflow<2.10,>=2.9.0->tensorflow-text) (1.21.6)\n",
            "Requirement already satisfied: six>=1.12.0 in /home/mobin/anaconda3/envs/colabenv/lib/python3.7/site-packages (from tensorflow<2.10,>=2.9.0->tensorflow-text) (1.16.0)\n",
            "Requirement already satisfied: absl-py>=1.0.0 in /home/mobin/anaconda3/envs/colabenv/lib/python3.7/site-packages (from tensorflow<2.10,>=2.9.0->tensorflow-text) (1.2.0)\n",
            "Requirement already satisfied: packaging in /home/mobin/anaconda3/envs/colabenv/lib/python3.7/site-packages (from tensorflow<2.10,>=2.9.0->tensorflow-text) (21.3)\n",
            "Requirement already satisfied: protobuf<3.20,>=3.9.2 in /home/mobin/anaconda3/envs/colabenv/lib/python3.7/site-packages (from tensorflow<2.10,>=2.9.0->tensorflow-text) (3.19.6)\n",
            "Requirement already satisfied: libclang>=13.0.0 in /home/mobin/anaconda3/envs/colabenv/lib/python3.7/site-packages (from tensorflow<2.10,>=2.9.0->tensorflow-text) (14.0.6)\n",
            "Requirement already satisfied: keras-preprocessing>=1.1.1 in /home/mobin/anaconda3/envs/colabenv/lib/python3.7/site-packages (from tensorflow<2.10,>=2.9.0->tensorflow-text) (1.1.2)\n",
            "Requirement already satisfied: flatbuffers<2,>=1.12 in /home/mobin/anaconda3/envs/colabenv/lib/python3.7/site-packages (from tensorflow<2.10,>=2.9.0->tensorflow-text) (1.12)\n",
            "Requirement already satisfied: wheel<1.0,>=0.23.0 in /home/mobin/anaconda3/envs/colabenv/lib/python3.7/site-packages (from astunparse>=1.6.0->tensorflow<2.10,>=2.9.0->tensorflow-text) (0.37.1)\n",
            "Requirement already satisfied: tensorboard-plugin-wit>=1.6.0 in /home/mobin/anaconda3/envs/colabenv/lib/python3.7/site-packages (from tensorboard<2.10,>=2.9->tensorflow<2.10,>=2.9.0->tensorflow-text) (1.8.1)\n",
            "Requirement already satisfied: werkzeug>=1.0.1 in /home/mobin/anaconda3/envs/colabenv/lib/python3.7/site-packages (from tensorboard<2.10,>=2.9->tensorflow<2.10,>=2.9.0->tensorflow-text) (2.2.1)\n",
            "Requirement already satisfied: google-auth-oauthlib<0.5,>=0.4.1 in /home/mobin/anaconda3/envs/colabenv/lib/python3.7/site-packages (from tensorboard<2.10,>=2.9->tensorflow<2.10,>=2.9.0->tensorflow-text) (0.4.6)\n",
            "Requirement already satisfied: markdown>=2.6.8 in /home/mobin/anaconda3/envs/colabenv/lib/python3.7/site-packages (from tensorboard<2.10,>=2.9->tensorflow<2.10,>=2.9.0->tensorflow-text) (3.4.1)\n",
            "Requirement already satisfied: requests<3,>=2.21.0 in /home/mobin/anaconda3/envs/colabenv/lib/python3.7/site-packages (from tensorboard<2.10,>=2.9->tensorflow<2.10,>=2.9.0->tensorflow-text) (2.28.1)\n",
            "Requirement already satisfied: google-auth<3,>=1.6.3 in /home/mobin/anaconda3/envs/colabenv/lib/python3.7/site-packages (from tensorboard<2.10,>=2.9->tensorflow<2.10,>=2.9.0->tensorflow-text) (2.9.1)\n",
            "Requirement already satisfied: tensorboard-data-server<0.7.0,>=0.6.0 in /home/mobin/anaconda3/envs/colabenv/lib/python3.7/site-packages (from tensorboard<2.10,>=2.9->tensorflow<2.10,>=2.9.0->tensorflow-text) (0.6.1)\n",
            "Requirement already satisfied: pyparsing!=3.0.5,>=2.0.2 in /home/mobin/anaconda3/envs/colabenv/lib/python3.7/site-packages (from packaging->tensorflow<2.10,>=2.9.0->tensorflow-text) (3.0.9)\n",
            "Requirement already satisfied: rsa<5,>=3.1.4 in /home/mobin/anaconda3/envs/colabenv/lib/python3.7/site-packages (from google-auth<3,>=1.6.3->tensorboard<2.10,>=2.9->tensorflow<2.10,>=2.9.0->tensorflow-text) (4.9)\n",
            "Requirement already satisfied: cachetools<6.0,>=2.0.0 in /home/mobin/anaconda3/envs/colabenv/lib/python3.7/site-packages (from google-auth<3,>=1.6.3->tensorboard<2.10,>=2.9->tensorflow<2.10,>=2.9.0->tensorflow-text) (4.2.4)\n",
            "Requirement already satisfied: pyasn1-modules>=0.2.1 in /home/mobin/anaconda3/envs/colabenv/lib/python3.7/site-packages (from google-auth<3,>=1.6.3->tensorboard<2.10,>=2.9->tensorflow<2.10,>=2.9.0->tensorflow-text) (0.2.8)\n",
            "Requirement already satisfied: requests-oauthlib>=0.7.0 in /home/mobin/anaconda3/envs/colabenv/lib/python3.7/site-packages (from google-auth-oauthlib<0.5,>=0.4.1->tensorboard<2.10,>=2.9->tensorflow<2.10,>=2.9.0->tensorflow-text) (1.3.1)\n",
            "Requirement already satisfied: importlib-metadata>=4.4 in /home/mobin/anaconda3/envs/colabenv/lib/python3.7/site-packages (from markdown>=2.6.8->tensorboard<2.10,>=2.9->tensorflow<2.10,>=2.9.0->tensorflow-text) (4.12.0)\n",
            "Requirement already satisfied: urllib3<1.27,>=1.21.1 in /home/mobin/anaconda3/envs/colabenv/lib/python3.7/site-packages (from requests<3,>=2.21.0->tensorboard<2.10,>=2.9->tensorflow<2.10,>=2.9.0->tensorflow-text) (1.26.11)\n",
            "Requirement already satisfied: idna<4,>=2.5 in /home/mobin/anaconda3/envs/colabenv/lib/python3.7/site-packages (from requests<3,>=2.21.0->tensorboard<2.10,>=2.9->tensorflow<2.10,>=2.9.0->tensorflow-text) (3.3)\n",
            "Requirement already satisfied: certifi>=2017.4.17 in /home/mobin/anaconda3/envs/colabenv/lib/python3.7/site-packages (from requests<3,>=2.21.0->tensorboard<2.10,>=2.9->tensorflow<2.10,>=2.9.0->tensorflow-text) (2022.6.15)\n",
            "Requirement already satisfied: charset-normalizer<3,>=2 in /home/mobin/anaconda3/envs/colabenv/lib/python3.7/site-packages (from requests<3,>=2.21.0->tensorboard<2.10,>=2.9->tensorflow<2.10,>=2.9.0->tensorflow-text) (2.1.0)\n",
            "Requirement already satisfied: MarkupSafe>=2.1.1 in /home/mobin/anaconda3/envs/colabenv/lib/python3.7/site-packages (from werkzeug>=1.0.1->tensorboard<2.10,>=2.9->tensorflow<2.10,>=2.9.0->tensorflow-text) (2.1.1)\n",
            "Requirement already satisfied: zipp>=0.5 in /home/mobin/anaconda3/envs/colabenv/lib/python3.7/site-packages (from importlib-metadata>=4.4->markdown>=2.6.8->tensorboard<2.10,>=2.9->tensorflow<2.10,>=2.9.0->tensorflow-text) (3.8.1)\n",
            "Requirement already satisfied: pyasn1<0.5.0,>=0.4.6 in /home/mobin/anaconda3/envs/colabenv/lib/python3.7/site-packages (from pyasn1-modules>=0.2.1->google-auth<3,>=1.6.3->tensorboard<2.10,>=2.9->tensorflow<2.10,>=2.9.0->tensorflow-text) (0.4.8)\n",
            "Requirement already satisfied: oauthlib>=3.0.0 in /home/mobin/anaconda3/envs/colabenv/lib/python3.7/site-packages (from requests-oauthlib>=0.7.0->google-auth-oauthlib<0.5,>=0.4.1->tensorboard<2.10,>=2.9->tensorflow<2.10,>=2.9.0->tensorflow-text) (3.2.0)\n",
            "Note: you may need to restart the kernel to use updated packages.\n"
          ]
        }
      ],
      "source": [
        "%pip install tensorflow-gpu==2.9\n",
        "%pip install tensorflow-text"
      ]
    },
    {
      "cell_type": "code",
      "execution_count": 4,
      "metadata": {
        "id": "BTOV54y-ckzq"
      },
      "outputs": [],
      "source": [
        "import tensorflow as tf\n",
        "import tensorflow_text as tf_text"
      ]
    },
    {
      "cell_type": "code",
      "execution_count": 5,
      "metadata": {},
      "outputs": [
        {
          "name": "stdout",
          "output_type": "stream",
          "text": [
            "Requirement already satisfied: matplotlib in /home/mobin/anaconda3/envs/colabenv/lib/python3.7/site-packages (3.5.2)\n",
            "Requirement already satisfied: numpy>=1.17 in /home/mobin/anaconda3/envs/colabenv/lib/python3.7/site-packages (from matplotlib) (1.21.6)\n",
            "Requirement already satisfied: kiwisolver>=1.0.1 in /home/mobin/anaconda3/envs/colabenv/lib/python3.7/site-packages (from matplotlib) (1.4.4)\n",
            "Requirement already satisfied: pyparsing>=2.2.1 in /home/mobin/anaconda3/envs/colabenv/lib/python3.7/site-packages (from matplotlib) (3.0.9)\n",
            "Requirement already satisfied: cycler>=0.10 in /home/mobin/anaconda3/envs/colabenv/lib/python3.7/site-packages (from matplotlib) (0.11.0)\n",
            "Requirement already satisfied: python-dateutil>=2.7 in /home/mobin/anaconda3/envs/colabenv/lib/python3.7/site-packages (from matplotlib) (2.8.2)\n",
            "Requirement already satisfied: pillow>=6.2.0 in /home/mobin/anaconda3/envs/colabenv/lib/python3.7/site-packages (from matplotlib) (9.2.0)\n",
            "Requirement already satisfied: packaging>=20.0 in /home/mobin/anaconda3/envs/colabenv/lib/python3.7/site-packages (from matplotlib) (21.3)\n",
            "Requirement already satisfied: fonttools>=4.22.0 in /home/mobin/anaconda3/envs/colabenv/lib/python3.7/site-packages (from matplotlib) (4.34.4)\n",
            "Requirement already satisfied: typing-extensions in /home/mobin/anaconda3/envs/colabenv/lib/python3.7/site-packages (from kiwisolver>=1.0.1->matplotlib) (4.3.0)\n",
            "Requirement already satisfied: six>=1.5 in /home/mobin/anaconda3/envs/colabenv/lib/python3.7/site-packages (from python-dateutil>=2.7->matplotlib) (1.16.0)\n",
            "Note: you may need to restart the kernel to use updated packages.\n"
          ]
        }
      ],
      "source": [
        "%pip install matplotlib"
      ]
    },
    {
      "cell_type": "code",
      "execution_count": 6,
      "metadata": {
        "id": "1u4wpNQOEUc9"
      },
      "outputs": [],
      "source": [
        "import pandas as pd\n",
        "import gzip\n",
        "import gc\n",
        "import numpy as np\n",
        "from tensorflow import keras\n",
        "from sklearn.model_selection import KFold\n",
        "import datetime \n",
        "import os\n",
        "import matplotlib.pyplot as plt\n"
      ]
    },
    {
      "cell_type": "code",
      "execution_count": 7,
      "metadata": {
        "colab": {
          "base_uri": "https://localhost:8080/"
        },
        "id": "HTkARkSuo9PR",
        "outputId": "8548446d-69cd-4727-8b8f-851569dd33d5"
      },
      "outputs": [
        {
          "name": "stdout",
          "output_type": "stream",
          "text": [
            "Requirement already satisfied: gensim==4.2 in /home/mobin/anaconda3/envs/colabenv/lib/python3.7/site-packages (4.2.0)\n",
            "Requirement already satisfied: scipy>=0.18.1 in /home/mobin/anaconda3/envs/colabenv/lib/python3.7/site-packages (from gensim==4.2) (1.7.3)\n",
            "Requirement already satisfied: smart-open>=1.8.1 in /home/mobin/anaconda3/envs/colabenv/lib/python3.7/site-packages (from gensim==4.2) (6.0.0)\n",
            "Requirement already satisfied: numpy>=1.17.0 in /home/mobin/anaconda3/envs/colabenv/lib/python3.7/site-packages (from gensim==4.2) (1.21.6)\n",
            "Note: you may need to restart the kernel to use updated packages.\n",
            "Requirement already satisfied: nltk in /home/mobin/anaconda3/envs/colabenv/lib/python3.7/site-packages (3.7)\n",
            "Requirement already satisfied: regex>=2021.8.3 in /home/mobin/anaconda3/envs/colabenv/lib/python3.7/site-packages (from nltk) (2022.7.25)\n",
            "Requirement already satisfied: tqdm in /home/mobin/anaconda3/envs/colabenv/lib/python3.7/site-packages (from nltk) (4.64.0)\n",
            "Requirement already satisfied: click in /home/mobin/anaconda3/envs/colabenv/lib/python3.7/site-packages (from nltk) (8.1.3)\n",
            "Requirement already satisfied: joblib in /home/mobin/anaconda3/envs/colabenv/lib/python3.7/site-packages (from nltk) (1.1.0)\n",
            "Requirement already satisfied: importlib-metadata in /home/mobin/anaconda3/envs/colabenv/lib/python3.7/site-packages (from click->nltk) (4.12.0)\n",
            "Requirement already satisfied: typing-extensions>=3.6.4 in /home/mobin/anaconda3/envs/colabenv/lib/python3.7/site-packages (from importlib-metadata->click->nltk) (4.3.0)\n",
            "Requirement already satisfied: zipp>=0.5 in /home/mobin/anaconda3/envs/colabenv/lib/python3.7/site-packages (from importlib-metadata->click->nltk) (3.8.1)\n",
            "Note: you may need to restart the kernel to use updated packages.\n"
          ]
        }
      ],
      "source": [
        "%pip install gensim==4.2\n",
        "%pip install nltk"
      ]
    },
    {
      "cell_type": "code",
      "execution_count": 8,
      "metadata": {},
      "outputs": [],
      "source": [
        "from gensim.models import Word2Vec\n",
        "from gensim.models import KeyedVectors\n",
        "import gensim.downloader as api\n",
        "from nltk.tokenize import sent_tokenize, word_tokenize\n"
      ]
    },
    {
      "cell_type": "code",
      "execution_count": 9,
      "metadata": {
        "colab": {
          "base_uri": "https://localhost:8080/"
        },
        "id": "NnDuJU4fpMLE",
        "outputId": "ecfd7d10-b929-43ce-cd99-0e2213f4e376"
      },
      "outputs": [
        {
          "name": "stderr",
          "output_type": "stream",
          "text": [
            "[nltk_data] Downloading package punkt to /home/mobin/nltk_data...\n",
            "[nltk_data]   Package punkt is already up-to-date!\n"
          ]
        },
        {
          "data": {
            "text/plain": [
              "True"
            ]
          },
          "execution_count": 9,
          "metadata": {},
          "output_type": "execute_result"
        }
      ],
      "source": [
        "import nltk\n",
        "nltk.download('punkt')"
      ]
    },
    {
      "cell_type": "code",
      "execution_count": 10,
      "metadata": {},
      "outputs": [
        {
          "name": "stderr",
          "output_type": "stream",
          "text": [
            "2022-12-20 11:17:58.912987: I tensorflow/stream_executor/cuda/cuda_gpu_executor.cc:975] successful NUMA node read from SysFS had negative value (-1), but there must be at least one NUMA node, so returning NUMA node zero\n",
            "2022-12-20 11:17:58.927610: I tensorflow/stream_executor/cuda/cuda_gpu_executor.cc:975] successful NUMA node read from SysFS had negative value (-1), but there must be at least one NUMA node, so returning NUMA node zero\n",
            "2022-12-20 11:17:58.927778: I tensorflow/stream_executor/cuda/cuda_gpu_executor.cc:975] successful NUMA node read from SysFS had negative value (-1), but there must be at least one NUMA node, so returning NUMA node zero\n",
            "2022-12-20 11:17:58.928562: I tensorflow/core/platform/cpu_feature_guard.cc:193] This TensorFlow binary is optimized with oneAPI Deep Neural Network Library (oneDNN) to use the following CPU instructions in performance-critical operations:  AVX2 FMA\n",
            "To enable them in other operations, rebuild TensorFlow with the appropriate compiler flags.\n",
            "2022-12-20 11:17:58.929646: I tensorflow/stream_executor/cuda/cuda_gpu_executor.cc:975] successful NUMA node read from SysFS had negative value (-1), but there must be at least one NUMA node, so returning NUMA node zero\n",
            "2022-12-20 11:17:58.929787: I tensorflow/stream_executor/cuda/cuda_gpu_executor.cc:975] successful NUMA node read from SysFS had negative value (-1), but there must be at least one NUMA node, so returning NUMA node zero\n",
            "2022-12-20 11:17:58.929897: I tensorflow/stream_executor/cuda/cuda_gpu_executor.cc:975] successful NUMA node read from SysFS had negative value (-1), but there must be at least one NUMA node, so returning NUMA node zero\n",
            "2022-12-20 11:17:59.234967: I tensorflow/stream_executor/cuda/cuda_gpu_executor.cc:975] successful NUMA node read from SysFS had negative value (-1), but there must be at least one NUMA node, so returning NUMA node zero\n",
            "2022-12-20 11:17:59.235129: I tensorflow/stream_executor/cuda/cuda_gpu_executor.cc:975] successful NUMA node read from SysFS had negative value (-1), but there must be at least one NUMA node, so returning NUMA node zero\n",
            "2022-12-20 11:17:59.235248: I tensorflow/stream_executor/cuda/cuda_gpu_executor.cc:975] successful NUMA node read from SysFS had negative value (-1), but there must be at least one NUMA node, so returning NUMA node zero\n",
            "2022-12-20 11:17:59.235340: I tensorflow/core/common_runtime/gpu/gpu_device.cc:1532] Created device /job:localhost/replica:0/task:0/device:GPU:0 with 2132 MB memory:  -> device: 0, name: NVIDIA GeForce RTX 3050 Laptop GPU, pci bus id: 0000:01:00.0, compute capability: 8.6\n"
          ]
        },
        {
          "name": "stdout",
          "output_type": "stream",
          "text": [
            "1 Physical GPUs, 1 Logical GPUs\n"
          ]
        }
      ],
      "source": [
        "gpus = tf.config.list_physical_devices('GPU')\n",
        "if gpus:\n",
        "  try:\n",
        "    # Currently, memory growth needs to be the same across GPUs\n",
        "    for gpu in gpus:\n",
        "      tf.config.experimental.set_memory_growth(gpu, True)\n",
        "    logical_gpus = tf.config.list_logical_devices('GPU')\n",
        "    print(len(gpus), \"Physical GPUs,\", len(logical_gpus), \"Logical GPUs\")\n",
        "  except RuntimeError as e:\n",
        "    # Memory growth must be set before GPUs have been initialized\n",
        "    print(e)\n",
        "else :\n",
        "  print(\"No GPU available\")"
      ]
    },
    {
      "cell_type": "code",
      "execution_count": 11,
      "metadata": {},
      "outputs": [
        {
          "name": "stdout",
          "output_type": "stream",
          "text": [
            "Requirement already satisfied: tensorboard in /home/mobin/anaconda3/envs/colabenv/lib/python3.7/site-packages (2.9.1)\n",
            "Requirement already satisfied: tensorboard-plugin-wit>=1.6.0 in /home/mobin/anaconda3/envs/colabenv/lib/python3.7/site-packages (from tensorboard) (1.8.1)\n",
            "Requirement already satisfied: requests<3,>=2.21.0 in /home/mobin/anaconda3/envs/colabenv/lib/python3.7/site-packages (from tensorboard) (2.28.1)\n",
            "Requirement already satisfied: tensorboard-data-server<0.7.0,>=0.6.0 in /home/mobin/anaconda3/envs/colabenv/lib/python3.7/site-packages (from tensorboard) (0.6.1)\n",
            "Requirement already satisfied: numpy>=1.12.0 in /home/mobin/anaconda3/envs/colabenv/lib/python3.7/site-packages (from tensorboard) (1.21.6)\n",
            "Requirement already satisfied: protobuf<3.20,>=3.9.2 in /home/mobin/anaconda3/envs/colabenv/lib/python3.7/site-packages (from tensorboard) (3.19.6)\n",
            "Requirement already satisfied: setuptools>=41.0.0 in /home/mobin/anaconda3/envs/colabenv/lib/python3.7/site-packages (from tensorboard) (61.2.0)\n",
            "Requirement already satisfied: werkzeug>=1.0.1 in /home/mobin/anaconda3/envs/colabenv/lib/python3.7/site-packages (from tensorboard) (2.2.1)\n",
            "Requirement already satisfied: google-auth-oauthlib<0.5,>=0.4.1 in /home/mobin/anaconda3/envs/colabenv/lib/python3.7/site-packages (from tensorboard) (0.4.6)\n",
            "Requirement already satisfied: absl-py>=0.4 in /home/mobin/anaconda3/envs/colabenv/lib/python3.7/site-packages (from tensorboard) (1.2.0)\n",
            "Requirement already satisfied: grpcio>=1.24.3 in /home/mobin/anaconda3/envs/colabenv/lib/python3.7/site-packages (from tensorboard) (1.50.0)\n",
            "Requirement already satisfied: google-auth<3,>=1.6.3 in /home/mobin/anaconda3/envs/colabenv/lib/python3.7/site-packages (from tensorboard) (2.9.1)\n",
            "Requirement already satisfied: wheel>=0.26 in /home/mobin/anaconda3/envs/colabenv/lib/python3.7/site-packages (from tensorboard) (0.37.1)\n",
            "Requirement already satisfied: markdown>=2.6.8 in /home/mobin/anaconda3/envs/colabenv/lib/python3.7/site-packages (from tensorboard) (3.4.1)\n",
            "Requirement already satisfied: six>=1.9.0 in /home/mobin/anaconda3/envs/colabenv/lib/python3.7/site-packages (from google-auth<3,>=1.6.3->tensorboard) (1.16.0)\n",
            "Requirement already satisfied: pyasn1-modules>=0.2.1 in /home/mobin/anaconda3/envs/colabenv/lib/python3.7/site-packages (from google-auth<3,>=1.6.3->tensorboard) (0.2.8)\n",
            "Requirement already satisfied: cachetools<6.0,>=2.0.0 in /home/mobin/anaconda3/envs/colabenv/lib/python3.7/site-packages (from google-auth<3,>=1.6.3->tensorboard) (4.2.4)\n",
            "Requirement already satisfied: rsa<5,>=3.1.4 in /home/mobin/anaconda3/envs/colabenv/lib/python3.7/site-packages (from google-auth<3,>=1.6.3->tensorboard) (4.9)\n",
            "Requirement already satisfied: requests-oauthlib>=0.7.0 in /home/mobin/anaconda3/envs/colabenv/lib/python3.7/site-packages (from google-auth-oauthlib<0.5,>=0.4.1->tensorboard) (1.3.1)\n",
            "Requirement already satisfied: importlib-metadata>=4.4 in /home/mobin/anaconda3/envs/colabenv/lib/python3.7/site-packages (from markdown>=2.6.8->tensorboard) (4.12.0)\n",
            "Requirement already satisfied: idna<4,>=2.5 in /home/mobin/anaconda3/envs/colabenv/lib/python3.7/site-packages (from requests<3,>=2.21.0->tensorboard) (3.3)\n",
            "Requirement already satisfied: certifi>=2017.4.17 in /home/mobin/anaconda3/envs/colabenv/lib/python3.7/site-packages (from requests<3,>=2.21.0->tensorboard) (2022.6.15)\n",
            "Requirement already satisfied: urllib3<1.27,>=1.21.1 in /home/mobin/anaconda3/envs/colabenv/lib/python3.7/site-packages (from requests<3,>=2.21.0->tensorboard) (1.26.11)\n",
            "Requirement already satisfied: charset-normalizer<3,>=2 in /home/mobin/anaconda3/envs/colabenv/lib/python3.7/site-packages (from requests<3,>=2.21.0->tensorboard) (2.1.0)\n",
            "Requirement already satisfied: MarkupSafe>=2.1.1 in /home/mobin/anaconda3/envs/colabenv/lib/python3.7/site-packages (from werkzeug>=1.0.1->tensorboard) (2.1.1)\n",
            "Requirement already satisfied: zipp>=0.5 in /home/mobin/anaconda3/envs/colabenv/lib/python3.7/site-packages (from importlib-metadata>=4.4->markdown>=2.6.8->tensorboard) (3.8.1)\n",
            "Requirement already satisfied: typing-extensions>=3.6.4 in /home/mobin/anaconda3/envs/colabenv/lib/python3.7/site-packages (from importlib-metadata>=4.4->markdown>=2.6.8->tensorboard) (4.3.0)\n",
            "Requirement already satisfied: pyasn1<0.5.0,>=0.4.6 in /home/mobin/anaconda3/envs/colabenv/lib/python3.7/site-packages (from pyasn1-modules>=0.2.1->google-auth<3,>=1.6.3->tensorboard) (0.4.8)\n",
            "Requirement already satisfied: oauthlib>=3.0.0 in /home/mobin/anaconda3/envs/colabenv/lib/python3.7/site-packages (from requests-oauthlib>=0.7.0->google-auth-oauthlib<0.5,>=0.4.1->tensorboard) (3.2.0)\n",
            "Note: you may need to restart the kernel to use updated packages.\n",
            "Requirement already satisfied: tensorboard_plugin_profile in /home/mobin/anaconda3/envs/colabenv/lib/python3.7/site-packages (2.11.1)\n",
            "Requirement already satisfied: six>=1.10.0 in /home/mobin/anaconda3/envs/colabenv/lib/python3.7/site-packages (from tensorboard_plugin_profile) (1.16.0)\n",
            "Requirement already satisfied: werkzeug>=0.11.15 in /home/mobin/anaconda3/envs/colabenv/lib/python3.7/site-packages (from tensorboard_plugin_profile) (2.2.1)\n",
            "Requirement already satisfied: protobuf>=3.12.0 in /home/mobin/anaconda3/envs/colabenv/lib/python3.7/site-packages (from tensorboard_plugin_profile) (3.19.6)\n",
            "Requirement already satisfied: gviz-api>=1.9.0 in /home/mobin/anaconda3/envs/colabenv/lib/python3.7/site-packages (from tensorboard_plugin_profile) (1.10.0)\n",
            "Requirement already satisfied: setuptools>=41.0.0 in /home/mobin/anaconda3/envs/colabenv/lib/python3.7/site-packages (from tensorboard_plugin_profile) (61.2.0)\n",
            "Requirement already satisfied: MarkupSafe>=2.1.1 in /home/mobin/anaconda3/envs/colabenv/lib/python3.7/site-packages (from werkzeug>=0.11.15->tensorboard_plugin_profile) (2.1.1)\n",
            "Note: you may need to restart the kernel to use updated packages.\n"
          ]
        }
      ],
      "source": [
        "%pip install tensorboard\n",
        "%pip install -U tensorboard_plugin_profile"
      ]
    },
    {
      "cell_type": "markdown",
      "metadata": {
        "id": "DyypFCrlw2SV"
      },
      "source": [
        "# **Data Extraction**"
      ]
    },
    {
      "cell_type": "code",
      "execution_count": 12,
      "metadata": {
        "id": "p7IbgFIxRQb-"
      },
      "outputs": [],
      "source": [
        "def parse(path):\n",
        "  g = gzip.open(path, 'rb')\n",
        "  for l in g:\n",
        "    name=b'\"verified\": \\\"true\\\",'\n",
        "    l=l.replace(b'\"verified\": true,',bytes(name))\n",
        "    name1=b'\"verified\": \\\"false\\\",'\n",
        "    l=l.replace(b'\"verified\": false,',bytes(name))\n",
        "    yield eval(l)\n",
        "\n",
        "def getDF(path):\n",
        "  i = 0\n",
        "  df = {}\n",
        "  for d in parse(path):\n",
        "    df[i] = d\n",
        "    i += 1\n",
        "  return pd.DataFrame.from_dict(df, orient='index')\n",
        "\n",
        "df = getDF('reviews_Grocery_and_Gourmet_Food_5.json.gz')\n",
        "\n",
        "# dataset link\n",
        "# Grocery and Gourmet Food\n",
        "# https://jmcauley.ucsd.edu/data/amazon/"
      ]
    },
    {
      "cell_type": "markdown",
      "metadata": {
        "id": "_auxwvSRYsvu"
      },
      "source": [
        "Dataset Schema"
      ]
    },
    {
      "cell_type": "code",
      "execution_count": 13,
      "metadata": {
        "colab": {
          "base_uri": "https://localhost:8080/",
          "height": 1000
        },
        "id": "E9FGFZINRQOn",
        "outputId": "0dad1216-9ec6-4528-fa44-32ab26a94602"
      },
      "outputs": [
        {
          "data": {
            "text/html": [
              "<div>\n",
              "<style scoped>\n",
              "    .dataframe tbody tr th:only-of-type {\n",
              "        vertical-align: middle;\n",
              "    }\n",
              "\n",
              "    .dataframe tbody tr th {\n",
              "        vertical-align: top;\n",
              "    }\n",
              "\n",
              "    .dataframe thead th {\n",
              "        text-align: right;\n",
              "    }\n",
              "</style>\n",
              "<table border=\"1\" class=\"dataframe\">\n",
              "  <thead>\n",
              "    <tr style=\"text-align: right;\">\n",
              "      <th></th>\n",
              "      <th>userID</th>\n",
              "      <th>itemID</th>\n",
              "      <th>reviewText</th>\n",
              "      <th>rating</th>\n",
              "    </tr>\n",
              "  </thead>\n",
              "  <tbody>\n",
              "    <tr>\n",
              "      <th>0</th>\n",
              "      <td>A1VEELTKS8NLZB</td>\n",
              "      <td>616719923X</td>\n",
              "      <td>Just another flavor of Kit Kat but the taste i...</td>\n",
              "      <td>4.0</td>\n",
              "    </tr>\n",
              "    <tr>\n",
              "      <th>1</th>\n",
              "      <td>A14R9XMZVJ6INB</td>\n",
              "      <td>616719923X</td>\n",
              "      <td>I bought this on impulse and it comes from Jap...</td>\n",
              "      <td>3.0</td>\n",
              "    </tr>\n",
              "    <tr>\n",
              "      <th>2</th>\n",
              "      <td>A27IQHDZFQFNGG</td>\n",
              "      <td>616719923X</td>\n",
              "      <td>Really good. Great gift for any fan of green t...</td>\n",
              "      <td>4.0</td>\n",
              "    </tr>\n",
              "    <tr>\n",
              "      <th>3</th>\n",
              "      <td>A31QY5TASILE89</td>\n",
              "      <td>616719923X</td>\n",
              "      <td>I had never had it before, was curious to see ...</td>\n",
              "      <td>5.0</td>\n",
              "    </tr>\n",
              "    <tr>\n",
              "      <th>4</th>\n",
              "      <td>A2LWK003FFMCI5</td>\n",
              "      <td>616719923X</td>\n",
              "      <td>I've been looking forward to trying these afte...</td>\n",
              "      <td>4.0</td>\n",
              "    </tr>\n",
              "    <tr>\n",
              "      <th>...</th>\n",
              "      <td>...</td>\n",
              "      <td>...</td>\n",
              "      <td>...</td>\n",
              "      <td>...</td>\n",
              "    </tr>\n",
              "    <tr>\n",
              "      <th>151249</th>\n",
              "      <td>A2L6QS8SVHT9RG</td>\n",
              "      <td>B00KCJRVO2</td>\n",
              "      <td>Delicious gluten-free oatmeal: we tried both t...</td>\n",
              "      <td>4.0</td>\n",
              "    </tr>\n",
              "    <tr>\n",
              "      <th>151250</th>\n",
              "      <td>AFJFXN42RZ3G2</td>\n",
              "      <td>B00KCJRVO2</td>\n",
              "      <td>With the many selections of instant oatmeal ce...</td>\n",
              "      <td>4.0</td>\n",
              "    </tr>\n",
              "    <tr>\n",
              "      <th>151251</th>\n",
              "      <td>ASEBX8TBYWQWA</td>\n",
              "      <td>B00KCJRVO2</td>\n",
              "      <td>While I usually review CDs and DVDs, as well a...</td>\n",
              "      <td>5.0</td>\n",
              "    </tr>\n",
              "    <tr>\n",
              "      <th>151252</th>\n",
              "      <td>ANKQGTXHREOI5</td>\n",
              "      <td>B00KCJRVO2</td>\n",
              "      <td>My son and I enjoyed these oatmeal packets.  H...</td>\n",
              "      <td>4.0</td>\n",
              "    </tr>\n",
              "    <tr>\n",
              "      <th>151253</th>\n",
              "      <td>A2CF66KIQ3RKX3</td>\n",
              "      <td>B00KCJRVO2</td>\n",
              "      <td>I like to eat oatmeal i the mornings. I usuall...</td>\n",
              "      <td>4.0</td>\n",
              "    </tr>\n",
              "  </tbody>\n",
              "</table>\n",
              "<p>151254 rows × 4 columns</p>\n",
              "</div>"
            ],
            "text/plain": [
              "                userID      itemID  \\\n",
              "0       A1VEELTKS8NLZB  616719923X   \n",
              "1       A14R9XMZVJ6INB  616719923X   \n",
              "2       A27IQHDZFQFNGG  616719923X   \n",
              "3       A31QY5TASILE89  616719923X   \n",
              "4       A2LWK003FFMCI5  616719923X   \n",
              "...                ...         ...   \n",
              "151249  A2L6QS8SVHT9RG  B00KCJRVO2   \n",
              "151250   AFJFXN42RZ3G2  B00KCJRVO2   \n",
              "151251   ASEBX8TBYWQWA  B00KCJRVO2   \n",
              "151252   ANKQGTXHREOI5  B00KCJRVO2   \n",
              "151253  A2CF66KIQ3RKX3  B00KCJRVO2   \n",
              "\n",
              "                                               reviewText  rating  \n",
              "0       Just another flavor of Kit Kat but the taste i...     4.0  \n",
              "1       I bought this on impulse and it comes from Jap...     3.0  \n",
              "2       Really good. Great gift for any fan of green t...     4.0  \n",
              "3       I had never had it before, was curious to see ...     5.0  \n",
              "4       I've been looking forward to trying these afte...     4.0  \n",
              "...                                                   ...     ...  \n",
              "151249  Delicious gluten-free oatmeal: we tried both t...     4.0  \n",
              "151250  With the many selections of instant oatmeal ce...     4.0  \n",
              "151251  While I usually review CDs and DVDs, as well a...     5.0  \n",
              "151252  My son and I enjoyed these oatmeal packets.  H...     4.0  \n",
              "151253  I like to eat oatmeal i the mornings. I usuall...     4.0  \n",
              "\n",
              "[151254 rows x 4 columns]"
            ]
          },
          "execution_count": 13,
          "metadata": {},
          "output_type": "execute_result"
        }
      ],
      "source": [
        "df.rename(columns={\"reviewerID\": \"userID\", \"asin\": \"itemID\",\"overall\":\"rating\"},inplace=True)\n",
        "df=df[['userID','itemID','reviewText','rating']]\n",
        "df"
      ]
    },
    {
      "cell_type": "code",
      "execution_count": 14,
      "metadata": {},
      "outputs": [
        {
          "data": {
            "text/html": [
              "<div>\n",
              "<style scoped>\n",
              "    .dataframe tbody tr th:only-of-type {\n",
              "        vertical-align: middle;\n",
              "    }\n",
              "\n",
              "    .dataframe tbody tr th {\n",
              "        vertical-align: top;\n",
              "    }\n",
              "\n",
              "    .dataframe thead th {\n",
              "        text-align: right;\n",
              "    }\n",
              "</style>\n",
              "<table border=\"1\" class=\"dataframe\">\n",
              "  <thead>\n",
              "    <tr style=\"text-align: right;\">\n",
              "      <th></th>\n",
              "      <th>userID</th>\n",
              "      <th>itemID</th>\n",
              "      <th>reviewText</th>\n",
              "      <th>rating</th>\n",
              "    </tr>\n",
              "  </thead>\n",
              "  <tbody>\n",
              "    <tr>\n",
              "      <th>30758</th>\n",
              "      <td>A1Q7A78VSQ5GQ4</td>\n",
              "      <td>B000OVRIDW</td>\n",
              "      <td>It's that time of year again. We like to make ...</td>\n",
              "      <td>5.0</td>\n",
              "    </tr>\n",
              "    <tr>\n",
              "      <th>55160</th>\n",
              "      <td>A2D7X9N3IV3S7B</td>\n",
              "      <td>B001FSK1GY</td>\n",
              "      <td>These fruit crisp Newtons offer an interesting...</td>\n",
              "      <td>4.0</td>\n",
              "    </tr>\n",
              "    <tr>\n",
              "      <th>59775</th>\n",
              "      <td>A39WWMBA0299ZF</td>\n",
              "      <td>B001M09AZS</td>\n",
              "      <td>I grew up eating oatmeal every weekend morning...</td>\n",
              "      <td>5.0</td>\n",
              "    </tr>\n",
              "    <tr>\n",
              "      <th>8949</th>\n",
              "      <td>A176JN87S0NRPG</td>\n",
              "      <td>B000E1HUVC</td>\n",
              "      <td>Not sure Planters are as good as they were ten...</td>\n",
              "      <td>4.0</td>\n",
              "    </tr>\n",
              "    <tr>\n",
              "      <th>130679</th>\n",
              "      <td>A1ONZ8JRPLBNUI</td>\n",
              "      <td>B0087FJ23Q</td>\n",
              "      <td>There was something wrong with the box of Kell...</td>\n",
              "      <td>1.0</td>\n",
              "    </tr>\n",
              "    <tr>\n",
              "      <th>136826</th>\n",
              "      <td>A3PE884TA8529G</td>\n",
              "      <td>B009WPKGQC</td>\n",
              "      <td>My love for hot sauces was born after a length...</td>\n",
              "      <td>3.0</td>\n",
              "    </tr>\n",
              "    <tr>\n",
              "      <th>109765</th>\n",
              "      <td>A2TI8XP8GY1RO1</td>\n",
              "      <td>B004YV80O4</td>\n",
              "      <td>I could eat almost anything Velveeta, and this...</td>\n",
              "      <td>5.0</td>\n",
              "    </tr>\n",
              "    <tr>\n",
              "      <th>128326</th>\n",
              "      <td>A215P85W653CZV</td>\n",
              "      <td>B007POT6VI</td>\n",
              "      <td>I'd never a fan of oatmeal, but on a roadtrip ...</td>\n",
              "      <td>4.0</td>\n",
              "    </tr>\n",
              "    <tr>\n",
              "      <th>80377</th>\n",
              "      <td>A36773AE7UIV2Z</td>\n",
              "      <td>B0039QS496</td>\n",
              "      <td>I am on a very low sodium diet and when I saw ...</td>\n",
              "      <td>5.0</td>\n",
              "    </tr>\n",
              "    <tr>\n",
              "      <th>141586</th>\n",
              "      <td>A39L61KW7RS9QU</td>\n",
              "      <td>B00BNHS02Y</td>\n",
              "      <td>Such a nice change from regular crackers. And ...</td>\n",
              "      <td>5.0</td>\n",
              "    </tr>\n",
              "  </tbody>\n",
              "</table>\n",
              "</div>"
            ],
            "text/plain": [
              "                userID      itemID  \\\n",
              "30758   A1Q7A78VSQ5GQ4  B000OVRIDW   \n",
              "55160   A2D7X9N3IV3S7B  B001FSK1GY   \n",
              "59775   A39WWMBA0299ZF  B001M09AZS   \n",
              "8949    A176JN87S0NRPG  B000E1HUVC   \n",
              "130679  A1ONZ8JRPLBNUI  B0087FJ23Q   \n",
              "136826  A3PE884TA8529G  B009WPKGQC   \n",
              "109765  A2TI8XP8GY1RO1  B004YV80O4   \n",
              "128326  A215P85W653CZV  B007POT6VI   \n",
              "80377   A36773AE7UIV2Z  B0039QS496   \n",
              "141586  A39L61KW7RS9QU  B00BNHS02Y   \n",
              "\n",
              "                                               reviewText  rating  \n",
              "30758   It's that time of year again. We like to make ...     5.0  \n",
              "55160   These fruit crisp Newtons offer an interesting...     4.0  \n",
              "59775   I grew up eating oatmeal every weekend morning...     5.0  \n",
              "8949    Not sure Planters are as good as they were ten...     4.0  \n",
              "130679  There was something wrong with the box of Kell...     1.0  \n",
              "136826  My love for hot sauces was born after a length...     3.0  \n",
              "109765  I could eat almost anything Velveeta, and this...     5.0  \n",
              "128326  I'd never a fan of oatmeal, but on a roadtrip ...     4.0  \n",
              "80377   I am on a very low sodium diet and when I saw ...     5.0  \n",
              "141586  Such a nice change from regular crackers. And ...     5.0  "
            ]
          },
          "execution_count": 14,
          "metadata": {},
          "output_type": "execute_result"
        }
      ],
      "source": [
        "df.sample(10)"
      ]
    },
    {
      "cell_type": "markdown",
      "metadata": {
        "id": "gYb9dMRLXjZT"
      },
      "source": [
        "# **Data Analysis**"
      ]
    },
    {
      "cell_type": "markdown",
      "metadata": {
        "id": "6yY4NJsolgtl"
      },
      "source": [
        "**User Data**"
      ]
    },
    {
      "cell_type": "markdown",
      "metadata": {
        "id": "g9kPFQ1GJr_I"
      },
      "source": [
        "determining all unique users with their reviews and ratings"
      ]
    },
    {
      "cell_type": "code",
      "execution_count": 15,
      "metadata": {
        "colab": {
          "base_uri": "https://localhost:8080/",
          "height": 609
        },
        "id": "l_eSbOjWRQD3",
        "outputId": "63fd7abe-5957-46a2-aa85-8ca3721bdec5"
      },
      "outputs": [
        {
          "name": "stderr",
          "output_type": "stream",
          "text": [
            "/home/mobin/anaconda3/envs/colabenv/lib/python3.7/site-packages/ipykernel_launcher.py:1: FutureWarning: Indexing with multiple keys (implicitly converted to a tuple of keys) will be deprecated, use a list instead.\n",
            "  \"\"\"Entry point for launching an IPython kernel.\n"
          ]
        },
        {
          "data": {
            "text/html": [
              "<div>\n",
              "<style scoped>\n",
              "    .dataframe tbody tr th:only-of-type {\n",
              "        vertical-align: middle;\n",
              "    }\n",
              "\n",
              "    .dataframe tbody tr th {\n",
              "        vertical-align: top;\n",
              "    }\n",
              "\n",
              "    .dataframe thead th {\n",
              "        text-align: right;\n",
              "    }\n",
              "</style>\n",
              "<table border=\"1\" class=\"dataframe\">\n",
              "  <thead>\n",
              "    <tr style=\"text-align: right;\">\n",
              "      <th></th>\n",
              "      <th>userID</th>\n",
              "      <th>reviewText</th>\n",
              "      <th>rating</th>\n",
              "    </tr>\n",
              "  </thead>\n",
              "  <tbody>\n",
              "    <tr>\n",
              "      <th>0</th>\n",
              "      <td>A00177463W0XWB16A9O05</td>\n",
              "      <td>[It is a good stand by coffee you can count on...</td>\n",
              "      <td>[5.0, 5.0, 4.0, 4.0, 5.0, 3.0, 4.0, 5.0, 5.0, ...</td>\n",
              "    </tr>\n",
              "    <tr>\n",
              "      <th>1</th>\n",
              "      <td>A022899328A0QROR32DCT</td>\n",
              "      <td>[awesome texture for even the gluten eating ea...</td>\n",
              "      <td>[5.0, 1.0, 4.0, 5.0, 5.0, 5.0, 1.0, 2.0, 3.0, ...</td>\n",
              "    </tr>\n",
              "    <tr>\n",
              "      <th>2</th>\n",
              "      <td>A04309042SDSL8YX2HRR7</td>\n",
              "      <td>[I love roasted garlic &amp; sweet bell peppers. Y...</td>\n",
              "      <td>[5.0, 2.0, 4.0, 4.0, 4.0]</td>\n",
              "    </tr>\n",
              "    <tr>\n",
              "      <th>3</th>\n",
              "      <td>A068255029AHTHDXZURNU</td>\n",
              "      <td>[These bars are especially delicious for cocon...</td>\n",
              "      <td>[5.0, 5.0, 3.0, 5.0, 3.0, 3.0, 5.0, 5.0, 5.0]</td>\n",
              "    </tr>\n",
              "    <tr>\n",
              "      <th>4</th>\n",
              "      <td>A06944662TFWOKKV4GJKX</td>\n",
              "      <td>[UGH!  My stomach has been really killing me l...</td>\n",
              "      <td>[5.0, 5.0, 5.0, 5.0, 5.0, 5.0, 5.0, 4.0, 4.0]</td>\n",
              "    </tr>\n",
              "    <tr>\n",
              "      <th>...</th>\n",
              "      <td>...</td>\n",
              "      <td>...</td>\n",
              "      <td>...</td>\n",
              "    </tr>\n",
              "    <tr>\n",
              "      <th>14676</th>\n",
              "      <td>AZWRZZAMX90VT</td>\n",
              "      <td>[Very nice. Not spicy, not too salty, lots of ...</td>\n",
              "      <td>[5.0, 5.0, 2.0, 5.0, 5.0, 4.0, 4.0, 3.0, 4.0, ...</td>\n",
              "    </tr>\n",
              "    <tr>\n",
              "      <th>14677</th>\n",
              "      <td>AZXKAH2DE6C8A</td>\n",
              "      <td>[Could not imagine having such a rich tasting ...</td>\n",
              "      <td>[5.0, 5.0, 5.0, 5.0, 5.0, 5.0, 5.0, 5.0, 4.0, ...</td>\n",
              "    </tr>\n",
              "    <tr>\n",
              "      <th>14678</th>\n",
              "      <td>AZXON596A1VXC</td>\n",
              "      <td>[I was a bit skeptical when I bought this prod...</td>\n",
              "      <td>[5.0, 5.0, 5.0, 5.0, 5.0, 5.0, 5.0]</td>\n",
              "    </tr>\n",
              "    <tr>\n",
              "      <th>14679</th>\n",
              "      <td>AZYXC63SS008M</td>\n",
              "      <td>[This is just about the healthiest you can get...</td>\n",
              "      <td>[5.0, 5.0, 5.0, 5.0, 5.0, 5.0]</td>\n",
              "    </tr>\n",
              "    <tr>\n",
              "      <th>14680</th>\n",
              "      <td>AZZ5ASC403N74</td>\n",
              "      <td>[Everybody loves homemade spaghetti sauce, but...</td>\n",
              "      <td>[5.0, 2.0, 3.0, 3.0, 4.0]</td>\n",
              "    </tr>\n",
              "  </tbody>\n",
              "</table>\n",
              "<p>14681 rows × 3 columns</p>\n",
              "</div>"
            ],
            "text/plain": [
              "                      userID  \\\n",
              "0      A00177463W0XWB16A9O05   \n",
              "1      A022899328A0QROR32DCT   \n",
              "2      A04309042SDSL8YX2HRR7   \n",
              "3      A068255029AHTHDXZURNU   \n",
              "4      A06944662TFWOKKV4GJKX   \n",
              "...                      ...   \n",
              "14676          AZWRZZAMX90VT   \n",
              "14677          AZXKAH2DE6C8A   \n",
              "14678          AZXON596A1VXC   \n",
              "14679          AZYXC63SS008M   \n",
              "14680          AZZ5ASC403N74   \n",
              "\n",
              "                                              reviewText  \\\n",
              "0      [It is a good stand by coffee you can count on...   \n",
              "1      [awesome texture for even the gluten eating ea...   \n",
              "2      [I love roasted garlic & sweet bell peppers. Y...   \n",
              "3      [These bars are especially delicious for cocon...   \n",
              "4      [UGH!  My stomach has been really killing me l...   \n",
              "...                                                  ...   \n",
              "14676  [Very nice. Not spicy, not too salty, lots of ...   \n",
              "14677  [Could not imagine having such a rich tasting ...   \n",
              "14678  [I was a bit skeptical when I bought this prod...   \n",
              "14679  [This is just about the healthiest you can get...   \n",
              "14680  [Everybody loves homemade spaghetti sauce, but...   \n",
              "\n",
              "                                                  rating  \n",
              "0      [5.0, 5.0, 4.0, 4.0, 5.0, 3.0, 4.0, 5.0, 5.0, ...  \n",
              "1      [5.0, 1.0, 4.0, 5.0, 5.0, 5.0, 1.0, 2.0, 3.0, ...  \n",
              "2                              [5.0, 2.0, 4.0, 4.0, 4.0]  \n",
              "3          [5.0, 5.0, 3.0, 5.0, 3.0, 3.0, 5.0, 5.0, 5.0]  \n",
              "4          [5.0, 5.0, 5.0, 5.0, 5.0, 5.0, 5.0, 4.0, 4.0]  \n",
              "...                                                  ...  \n",
              "14676  [5.0, 5.0, 2.0, 5.0, 5.0, 4.0, 4.0, 3.0, 4.0, ...  \n",
              "14677  [5.0, 5.0, 5.0, 5.0, 5.0, 5.0, 5.0, 5.0, 4.0, ...  \n",
              "14678                [5.0, 5.0, 5.0, 5.0, 5.0, 5.0, 5.0]  \n",
              "14679                     [5.0, 5.0, 5.0, 5.0, 5.0, 5.0]  \n",
              "14680                          [5.0, 2.0, 3.0, 3.0, 4.0]  \n",
              "\n",
              "[14681 rows x 3 columns]"
            ]
          },
          "execution_count": 15,
          "metadata": {},
          "output_type": "execute_result"
        }
      ],
      "source": [
        "user_df=df[['userID','reviewText','rating']].groupby('userID')['rating','reviewText'].apply(lambda x: pd.Series([list(x['reviewText']),list(x['rating'])],index=['reviewText', 'rating'])).reset_index()\n",
        "user_df"
      ]
    },
    {
      "cell_type": "markdown",
      "metadata": {
        "id": "ReAbgOc7q3Tp"
      },
      "source": [
        "**Item Data**"
      ]
    },
    {
      "cell_type": "markdown",
      "metadata": {
        "id": "arvKphT7KCTg"
      },
      "source": [
        "determining all unique items with their reviews and ratings"
      ]
    },
    {
      "cell_type": "code",
      "execution_count": 16,
      "metadata": {
        "colab": {
          "base_uri": "https://localhost:8080/",
          "height": 478
        },
        "id": "qAjW8mmJq9Cj",
        "outputId": "e03f94a0-8923-417b-c9c0-fd8cd33ea676"
      },
      "outputs": [
        {
          "name": "stderr",
          "output_type": "stream",
          "text": [
            "/home/mobin/anaconda3/envs/colabenv/lib/python3.7/site-packages/ipykernel_launcher.py:1: FutureWarning: Indexing with multiple keys (implicitly converted to a tuple of keys) will be deprecated, use a list instead.\n",
            "  \"\"\"Entry point for launching an IPython kernel.\n"
          ]
        },
        {
          "data": {
            "text/html": [
              "<div>\n",
              "<style scoped>\n",
              "    .dataframe tbody tr th:only-of-type {\n",
              "        vertical-align: middle;\n",
              "    }\n",
              "\n",
              "    .dataframe tbody tr th {\n",
              "        vertical-align: top;\n",
              "    }\n",
              "\n",
              "    .dataframe thead th {\n",
              "        text-align: right;\n",
              "    }\n",
              "</style>\n",
              "<table border=\"1\" class=\"dataframe\">\n",
              "  <thead>\n",
              "    <tr style=\"text-align: right;\">\n",
              "      <th></th>\n",
              "      <th>itemID</th>\n",
              "      <th>reviewText</th>\n",
              "      <th>rating</th>\n",
              "    </tr>\n",
              "  </thead>\n",
              "  <tbody>\n",
              "    <tr>\n",
              "      <th>0</th>\n",
              "      <td>616719923X</td>\n",
              "      <td>[Just another flavor of Kit Kat but the taste ...</td>\n",
              "      <td>[4.0, 3.0, 4.0, 5.0, 4.0, 4.0, 3.0, 5.0, 5.0, ...</td>\n",
              "    </tr>\n",
              "    <tr>\n",
              "      <th>1</th>\n",
              "      <td>9742356831</td>\n",
              "      <td>[This curry paste makes a delicious curry.  I ...</td>\n",
              "      <td>[5.0, 5.0, 5.0, 4.0, 5.0, 5.0, 5.0, 5.0, 5.0, ...</td>\n",
              "    </tr>\n",
              "    <tr>\n",
              "      <th>2</th>\n",
              "      <td>B00004S1C5</td>\n",
              "      <td>[These dyes create awesome colors for kids cra...</td>\n",
              "      <td>[5.0, 1.0, 5.0, 5.0, 5.0, 4.0, 4.0]</td>\n",
              "    </tr>\n",
              "    <tr>\n",
              "      <th>3</th>\n",
              "      <td>B0000531B7</td>\n",
              "      <td>[I really enjoy these bars as a quick breakfas...</td>\n",
              "      <td>[5.0, 5.0, 3.0, 5.0, 5.0, 4.0, 5.0, 5.0, 4.0]</td>\n",
              "    </tr>\n",
              "    <tr>\n",
              "      <th>4</th>\n",
              "      <td>B00005344V</td>\n",
              "      <td>[Traditional Medicinals' \"Breathe Easy\" is an ...</td>\n",
              "      <td>[5.0, 3.0, 5.0, 5.0, 3.0, 5.0, 5.0]</td>\n",
              "    </tr>\n",
              "    <tr>\n",
              "      <th>...</th>\n",
              "      <td>...</td>\n",
              "      <td>...</td>\n",
              "      <td>...</td>\n",
              "    </tr>\n",
              "    <tr>\n",
              "      <th>8708</th>\n",
              "      <td>B00JGPG60I</td>\n",
              "      <td>[We switched to this formula 5 days ago and fo...</td>\n",
              "      <td>[4.0, 4.0, 4.0, 5.0, 4.0, 3.0, 5.0, 5.0, 2.0, ...</td>\n",
              "    </tr>\n",
              "    <tr>\n",
              "      <th>8709</th>\n",
              "      <td>B00JL6LTMW</td>\n",
              "      <td>[We have enjoyed Larabar's variety of bars for...</td>\n",
              "      <td>[4.0, 5.0, 5.0, 5.0, 5.0, 4.0, 5.0, 4.0, 5.0, ...</td>\n",
              "    </tr>\n",
              "    <tr>\n",
              "      <th>8710</th>\n",
              "      <td>B00K00H9I6</td>\n",
              "      <td>[This 100% pure Canadian maple syrup is a Grad...</td>\n",
              "      <td>[5.0, 5.0, 5.0, 5.0, 5.0, 5.0, 5.0, 5.0]</td>\n",
              "    </tr>\n",
              "    <tr>\n",
              "      <th>8711</th>\n",
              "      <td>B00KC0LGI8</td>\n",
              "      <td>[I followed the directions on the box exactly ...</td>\n",
              "      <td>[2.0, 4.0, 4.0, 4.0, 4.0, 5.0, 2.0, 5.0, 3.0, ...</td>\n",
              "    </tr>\n",
              "    <tr>\n",
              "      <th>8712</th>\n",
              "      <td>B00KCJRVO2</td>\n",
              "      <td>[Usually the label &amp;#34;gluten free&amp;#34; is a ...</td>\n",
              "      <td>[5.0, 5.0, 4.0, 5.0, 5.0, 3.0, 4.0, 4.0, 5.0, ...</td>\n",
              "    </tr>\n",
              "  </tbody>\n",
              "</table>\n",
              "<p>8713 rows × 3 columns</p>\n",
              "</div>"
            ],
            "text/plain": [
              "          itemID                                         reviewText  \\\n",
              "0     616719923X  [Just another flavor of Kit Kat but the taste ...   \n",
              "1     9742356831  [This curry paste makes a delicious curry.  I ...   \n",
              "2     B00004S1C5  [These dyes create awesome colors for kids cra...   \n",
              "3     B0000531B7  [I really enjoy these bars as a quick breakfas...   \n",
              "4     B00005344V  [Traditional Medicinals' \"Breathe Easy\" is an ...   \n",
              "...          ...                                                ...   \n",
              "8708  B00JGPG60I  [We switched to this formula 5 days ago and fo...   \n",
              "8709  B00JL6LTMW  [We have enjoyed Larabar's variety of bars for...   \n",
              "8710  B00K00H9I6  [This 100% pure Canadian maple syrup is a Grad...   \n",
              "8711  B00KC0LGI8  [I followed the directions on the box exactly ...   \n",
              "8712  B00KCJRVO2  [Usually the label &#34;gluten free&#34; is a ...   \n",
              "\n",
              "                                                 rating  \n",
              "0     [4.0, 3.0, 4.0, 5.0, 4.0, 4.0, 3.0, 5.0, 5.0, ...  \n",
              "1     [5.0, 5.0, 5.0, 4.0, 5.0, 5.0, 5.0, 5.0, 5.0, ...  \n",
              "2                   [5.0, 1.0, 5.0, 5.0, 5.0, 4.0, 4.0]  \n",
              "3         [5.0, 5.0, 3.0, 5.0, 5.0, 4.0, 5.0, 5.0, 4.0]  \n",
              "4                   [5.0, 3.0, 5.0, 5.0, 3.0, 5.0, 5.0]  \n",
              "...                                                 ...  \n",
              "8708  [4.0, 4.0, 4.0, 5.0, 4.0, 3.0, 5.0, 5.0, 2.0, ...  \n",
              "8709  [4.0, 5.0, 5.0, 5.0, 5.0, 4.0, 5.0, 4.0, 5.0, ...  \n",
              "8710           [5.0, 5.0, 5.0, 5.0, 5.0, 5.0, 5.0, 5.0]  \n",
              "8711  [2.0, 4.0, 4.0, 4.0, 4.0, 5.0, 2.0, 5.0, 3.0, ...  \n",
              "8712  [5.0, 5.0, 4.0, 5.0, 5.0, 3.0, 4.0, 4.0, 5.0, ...  \n",
              "\n",
              "[8713 rows x 3 columns]"
            ]
          },
          "execution_count": 16,
          "metadata": {},
          "output_type": "execute_result"
        }
      ],
      "source": [
        "item_df=df[['itemID','reviewText','rating']].groupby('itemID')['reviewText','rating'].apply(lambda x: pd.Series([list(x['reviewText']),list(x['rating'])],index=['reviewText', 'rating'])).reset_index()\n",
        "item_df"
      ]
    },
    {
      "cell_type": "code",
      "execution_count": 17,
      "metadata": {},
      "outputs": [
        {
          "name": "stderr",
          "output_type": "stream",
          "text": [
            "/home/mobin/anaconda3/envs/colabenv/lib/python3.7/site-packages/ipykernel_launcher.py:12: FutureWarning: Indexing with multiple keys (implicitly converted to a tuple of keys) will be deprecated, use a list instead.\n",
            "  if sys.path[0] == \"\":\n",
            "/home/mobin/anaconda3/envs/colabenv/lib/python3.7/site-packages/ipykernel_launcher.py:13: FutureWarning: Indexing with multiple keys (implicitly converted to a tuple of keys) will be deprecated, use a list instead.\n",
            "  del sys.path[0]\n"
          ]
        }
      ],
      "source": [
        "# dataset minimization\n",
        "if os.path.exists(\"raw_data.csv\"):\n",
        "    df = pd.read_csv('raw_data.csv')\n",
        "else :  \n",
        "    sample_userID = list( user_df[user_df['reviewText'].apply(lambda x : len(x)> 80 )].sample(51)['userID'])\n",
        "    new_df = df[ df['userID'].isin(sample_userID)]\n",
        "    item_ddf = new_df[['itemID','reviewText','rating']].groupby('itemID')['reviewText','rating'].apply(lambda x: pd.Series([list(x['reviewText']),list(x['rating'])],index=['reviewText', 'rating'])).reset_index()\n",
        "    sample_itemID = list( item_ddf[ item_ddf['reviewText'].apply(lambda x : len(x)>4)]['itemID'] )\n",
        "    df = new_df[new_df['itemID'].isin(sample_itemID)].reset_index(drop=True).sample(frac=1)\n",
        "    df.to_csv('raw_data.csv')\n",
        "\n",
        "user_df=df[['userID','reviewText','rating']].groupby('userID')['rating','reviewText'].apply(lambda x: pd.Series([list(x['reviewText']),list(x['rating'])],index=['reviewText', 'rating'])).reset_index()\n",
        "item_df=df[['itemID','reviewText','rating']].groupby('itemID')['reviewText','rating'].apply(lambda x: pd.Series([list(x['reviewText']),list(x['rating'])],index=['reviewText', 'rating'])).reset_index()\n"
      ]
    },
    {
      "cell_type": "code",
      "execution_count": 18,
      "metadata": {},
      "outputs": [
        {
          "name": "stdout",
          "output_type": "stream",
          "text": [
            "review num :  1994 user num :  51 item num :  200\n"
          ]
        }
      ],
      "source": [
        "print(\"review num : \", df.shape[0] ,\"user num : \" ,user_df.shape[0],\"item num : \",item_df.shape[0] )"
      ]
    },
    {
      "cell_type": "markdown",
      "metadata": {
        "id": "jCekVFHgXtom"
      },
      "source": [
        "##   Ratings"
      ]
    },
    {
      "cell_type": "code",
      "execution_count": 19,
      "metadata": {
        "colab": {
          "base_uri": "https://localhost:8080/",
          "height": 441
        },
        "id": "cZb_XiBoGHSa",
        "outputId": "f1cb72ea-8d50-467a-d412-92d75a9d167e"
      },
      "outputs": [
        {
          "data": {
            "text/plain": [
              "count    1994.000000\n",
              "mean        3.953862\n",
              "std         1.026922\n",
              "min         1.000000\n",
              "25%         3.000000\n",
              "50%         4.000000\n",
              "75%         5.000000\n",
              "max         5.000000\n",
              "Name: rating, dtype: float64"
            ]
          },
          "execution_count": 19,
          "metadata": {},
          "output_type": "execute_result"
        },
        {
          "data": {
            "image/png": "[encoded data removed]",
            "text/plain": [
              "<Figure size 432x288 with 1 Axes>"
            ]
          },
          "metadata": {
            "needs_background": "light"
          },
          "output_type": "display_data"
        }
      ],
      "source": [
        "df.groupby('rating').size().plot(kind=\"bar\");\n",
        "df['rating'].describe()\n",
        "#histogram of ratings"
      ]
    },
    {
      "cell_type": "code",
      "execution_count": 20,
      "metadata": {
        "colab": {
          "base_uri": "https://localhost:8080/",
          "height": 367
        },
        "id": "hPn4ftb2vqn-",
        "outputId": "91fde917-2de7-4a70-ea94-2e4ae376ea5a"
      },
      "outputs": [
        {
          "data": {
            "image/png": "[encoded data removed]",
            "text/plain": [
              "<Figure size 1152x432 with 1 Axes>"
            ]
          },
          "metadata": {
            "needs_background": "light"
          },
          "output_type": "display_data"
        }
      ],
      "source": [
        "user_means=user_df.rating.apply(lambda x: np.mean(x))\n",
        "user_means[:50].plot(kind=\"bar\", grid=False, figsize=(16, 6), title=\"Mean ratings for 50 users\");"
      ]
    },
    {
      "cell_type": "code",
      "execution_count": 21,
      "metadata": {
        "colab": {
          "base_uri": "https://localhost:8080/",
          "height": 204
        },
        "id": "ZuVzD2bTv4iE",
        "outputId": "8533423d-08da-4eeb-c78b-51397de9ecff"
      },
      "outputs": [
        {
          "data": {
            "image/png": "[encoded data removed]",
            "text/plain": [
              "<Figure size 2304x432 with 2 Axes>"
            ]
          },
          "metadata": {
            "needs_background": "light"
          },
          "output_type": "display_data"
        }
      ],
      "source": [
        "fig, (ax1, ax2) = plt.subplots(ncols=2, figsize=(32,6), sharey=True)\n",
        "user_means.nlargest(50).plot(kind=\"bar\", ax=ax1, title=\"Top 50 users in data set\")\n",
        "user_means.nsmallest(50).plot(kind=\"bar\", ax=ax2, title=\"Bottom 50 users in data set\");"
      ]
    },
    {
      "cell_type": "code",
      "execution_count": 22,
      "metadata": {
        "colab": {
          "base_uri": "https://localhost:8080/",
          "height": 300
        },
        "id": "FChjMJ0MvtiU",
        "outputId": "81b5374f-986d-4079-8cb6-a99614f56d4c"
      },
      "outputs": [
        {
          "data": {
            "text/plain": [
              "[<matplotlib.lines.Line2D at 0x7fc1e810bad0>]"
            ]
          },
          "execution_count": 22,
          "metadata": {},
          "output_type": "execute_result"
        },
        {
          "data": {
            "image/png": "[encoded data removed]",
            "text/plain": [
              "<Figure size 1440x432 with 1 Axes>"
            ]
          },
          "metadata": {
            "needs_background": "light"
          },
          "output_type": "display_data"
        }
      ],
      "source": [
        "user_means = df.groupby(\"userID\").rating.mean().sort_values()\n",
        "_, ax = plt.subplots(figsize=(20, 6))\n",
        "ax.plot(np.arange(len(user_means)), user_means.values, \"k-\")\n"
      ]
    },
    {
      "cell_type": "code",
      "execution_count": 23,
      "metadata": {
        "colab": {
          "base_uri": "https://localhost:8080/",
          "height": 367
        },
        "id": "VQfmX7OwGaRN",
        "outputId": "65757a6a-d630-49fc-a97c-0742c3a1b7a5"
      },
      "outputs": [
        {
          "data": {
            "image/png": "[encoded data removed]",
            "text/plain": [
              "<Figure size 1152x432 with 1 Axes>"
            ]
          },
          "metadata": {
            "needs_background": "light"
          },
          "output_type": "display_data"
        }
      ],
      "source": [
        "item_means=item_df.rating.apply(lambda x: np.mean(x))\n",
        "item_means[:50].plot(kind=\"bar\", grid=False, figsize=(16, 6), title=\"Mean ratings for 50 items\");"
      ]
    },
    {
      "cell_type": "code",
      "execution_count": 24,
      "metadata": {
        "colab": {
          "base_uri": "https://localhost:8080/",
          "height": 201
        },
        "id": "6Dyp-7KeGyoK",
        "outputId": "6d657471-73d2-4291-aa92-49de438f0a59"
      },
      "outputs": [
        {
          "data": {
            "image/png": "[encoded data removed]",
            "text/plain": [
              "<Figure size 2304x432 with 2 Axes>"
            ]
          },
          "metadata": {
            "needs_background": "light"
          },
          "output_type": "display_data"
        }
      ],
      "source": [
        "fig, (ax1, ax2) = plt.subplots(ncols=2, figsize=(32,6), sharey=True)\n",
        "item_means.nlargest(50).plot(kind=\"bar\", ax=ax1, title=\"Top 50 items in data set\")\n",
        "item_means.nsmallest(50).plot(kind=\"bar\", ax=ax2, title=\"Bottom 50 items in data set\");"
      ]
    },
    {
      "cell_type": "markdown",
      "metadata": {
        "id": "IxGLa04uYQRt"
      },
      "source": [
        "## Reviews"
      ]
    },
    {
      "cell_type": "code",
      "execution_count": 25,
      "metadata": {
        "colab": {
          "base_uri": "https://localhost:8080/"
        },
        "id": "z0QEq-vnYohN",
        "outputId": "183d2ce2-65c2-49c9-ca8c-7f216083e4bc"
      },
      "outputs": [
        {
          "data": {
            "text/plain": [
              "count                                                  1994\n",
              "unique                                                 1994\n",
              "top       Pasta that is gluten free and made in the micr...\n",
              "freq                                                      1\n",
              "Name: reviewText, dtype: object"
            ]
          },
          "execution_count": 25,
          "metadata": {},
          "output_type": "execute_result"
        }
      ],
      "source": [
        "df['reviewText'].describe()"
      ]
    },
    {
      "cell_type": "code",
      "execution_count": 26,
      "metadata": {
        "colab": {
          "base_uri": "https://localhost:8080/",
          "height": 459
        },
        "id": "OLw7n7EcbEKV",
        "outputId": "ffd1376f-19a1-42f2-a991-e490d04d84d4"
      },
      "outputs": [
        {
          "data": {
            "text/plain": [
              "count    1994.000000\n",
              "mean      737.340522\n",
              "std       502.430526\n",
              "min        78.000000\n",
              "25%       428.000000\n",
              "50%       608.000000\n",
              "75%       881.750000\n",
              "max      8136.000000\n",
              "Name: reviewText, dtype: float64"
            ]
          },
          "execution_count": 26,
          "metadata": {},
          "output_type": "execute_result"
        },
        {
          "data": {
            "image/png": "[encoded data removed]",
            "text/plain": [
              "<Figure size 1728x576 with 1 Axes>"
            ]
          },
          "metadata": {
            "needs_background": "light"
          },
          "output_type": "display_data"
        }
      ],
      "source": [
        "# review length\n",
        "rv_le=df['reviewText'].apply(lambda x:len(x) )\n",
        "rv_le.plot(kind='hist',bins=2000,figsize=(24, 8),xlabel=\"length of reviews\")\n",
        "rv_le.describe()\n"
      ]
    },
    {
      "cell_type": "code",
      "execution_count": 27,
      "metadata": {
        "colab": {
          "base_uri": "https://localhost:8080/"
        },
        "id": "LTgNznNQ8aR1",
        "outputId": "3c1809ac-2fc3-4d67-ce83-7253c8687332"
      },
      "outputs": [
        {
          "name": "stdout",
          "output_type": "stream",
          "text": [
            "mean of reviews per user: 39.09803921568628\n",
            "mean of words per review: 737.340521564694\n",
            "mean of words per user: 28828.56862745098\n"
          ]
        }
      ],
      "source": [
        "sum=0\n",
        "sum2=0\n",
        "for x in user_df['reviewText']:\n",
        "  sum+=len(x)\n",
        "  for y in x:\n",
        "   sum2 +=len(y)\n",
        "\n",
        "r_mean=sum/len(user_df['reviewText'])\n",
        "w_mean=sum2/(r_mean*len(user_df['reviewText']))\n",
        "print('mean of reviews per user:', r_mean)\n",
        "print('mean of words per review:', w_mean)\n",
        "print('mean of words per user:',r_mean * w_mean)\n",
        "# plot for reviews per user"
      ]
    },
    {
      "cell_type": "code",
      "execution_count": 28,
      "metadata": {},
      "outputs": [
        {
          "data": {
            "text/plain": [
              "Series([], Name: reviewText, dtype: int64)"
            ]
          },
          "execution_count": 28,
          "metadata": {},
          "output_type": "execute_result"
        }
      ],
      "source": [
        "a=item_df['reviewText'].apply(len)\n",
        "a[a>40]"
      ]
    },
    {
      "cell_type": "code",
      "execution_count": 29,
      "metadata": {},
      "outputs": [
        {
          "data": {
            "text/plain": [
              "count    200.000000\n",
              "mean       9.970000\n",
              "std        4.697813\n",
              "min        5.000000\n",
              "25%        6.000000\n",
              "50%        9.000000\n",
              "75%       13.000000\n",
              "max       31.000000\n",
              "Name: reviewText, dtype: float64"
            ]
          },
          "execution_count": 29,
          "metadata": {},
          "output_type": "execute_result"
        },
        {
          "data": {
            "image/png": "[encoded data removed]",
            "text/plain": [
              "<Figure size 1728x576 with 1 Axes>"
            ]
          },
          "metadata": {
            "needs_background": "light"
          },
          "output_type": "display_data"
        }
      ],
      "source": [
        "rv_le=item_df['reviewText'].apply(lambda x:len(x) )\n",
        "rv_le.plot(kind='hist',bins=2000,figsize=(24, 8),xlabel=\"length of reviews\")\n",
        "rv_le.describe()"
      ]
    },
    {
      "cell_type": "code",
      "execution_count": 30,
      "metadata": {},
      "outputs": [
        {
          "data": {
            "text/plain": [
              "count     51.000000\n",
              "mean      39.098039\n",
              "std       30.925236\n",
              "min        1.000000\n",
              "25%       13.500000\n",
              "50%       33.000000\n",
              "75%       63.500000\n",
              "max      117.000000\n",
              "Name: reviewText, dtype: float64"
            ]
          },
          "execution_count": 30,
          "metadata": {},
          "output_type": "execute_result"
        },
        {
          "data": {
            "image/png": "[encoded data removed]",
            "text/plain": [
              "<Figure size 1728x576 with 1 Axes>"
            ]
          },
          "metadata": {
            "needs_background": "light"
          },
          "output_type": "display_data"
        }
      ],
      "source": [
        "rv_le=user_df['reviewText'].apply(lambda x:len(x) )\n",
        "rv_le.plot(kind='hist',bins=2000,figsize=(24, 8),xlabel=\"length of reviews\")\n",
        "rv_le.describe()"
      ]
    },
    {
      "cell_type": "code",
      "execution_count": 31,
      "metadata": {
        "colab": {
          "base_uri": "https://localhost:8080/"
        },
        "id": "Nje_ix7gAaf3",
        "outputId": "c3260e88-aa4f-46f3-aa38-85cbb25e0219"
      },
      "outputs": [
        {
          "name": "stdout",
          "output_type": "stream",
          "text": [
            "mean of reviews per item: 9.97\n",
            "mean of words per review: 737.340521564694\n",
            "mean of words per item: 7351.284999999999\n"
          ]
        }
      ],
      "source": [
        "sum=0\n",
        "sum2=0\n",
        "for x in item_df['reviewText']:\n",
        "  sum+=len(x)\n",
        "  for y in x:\n",
        "   sum2 +=len(y)\n",
        "\n",
        "r_mean=sum/len(item_df['reviewText'])\n",
        "w_mean=sum2/(r_mean*len(item_df['reviewText']))\n",
        "print('mean of reviews per item:', r_mean)\n",
        "print('mean of words per review:', w_mean)\n",
        "print('mean of words per item:',r_mean * w_mean)"
      ]
    },
    {
      "cell_type": "markdown",
      "metadata": {},
      "source": [
        "# **Data Splitting**"
      ]
    },
    {
      "cell_type": "code",
      "execution_count": 32,
      "metadata": {},
      "outputs": [],
      "source": [
        "if os.path.exists(\"train_df.csv\") & os.path.exists(\"test_df.csv\"):\n",
        "        train_df = pd.read_csv('train_df.csv')\n",
        "        test_df = pd.read_csv('test_df.csv')\n",
        "\n",
        "else:\n",
        "    current_fold=10\n",
        "    kfold = KFold(10)\n",
        "    random_iterator=kfold.split(df)\n",
        "    for i in range(current_fold):\n",
        "      train_index, test_index = next(random_iterator, None)\n",
        "      print(train_index,len(train_index))\n",
        "      train_df, test_df =df.iloc[train_index], df.iloc[test_index]\n",
        "    train_df.to_csv('train_df.csv')\n",
        "    test_df.to_csv('test_df.csv')\n",
        "    "
      ]
    },
    {
      "cell_type": "code",
      "execution_count": 33,
      "metadata": {},
      "outputs": [
        {
          "data": {
            "text/html": [
              "<div>\n",
              "<style scoped>\n",
              "    .dataframe tbody tr th:only-of-type {\n",
              "        vertical-align: middle;\n",
              "    }\n",
              "\n",
              "    .dataframe tbody tr th {\n",
              "        vertical-align: top;\n",
              "    }\n",
              "\n",
              "    .dataframe thead th {\n",
              "        text-align: right;\n",
              "    }\n",
              "</style>\n",
              "<table border=\"1\" class=\"dataframe\">\n",
              "  <thead>\n",
              "    <tr style=\"text-align: right;\">\n",
              "      <th></th>\n",
              "      <th>Unnamed: 0</th>\n",
              "      <th>userID</th>\n",
              "      <th>itemID</th>\n",
              "      <th>reviewText</th>\n",
              "      <th>rating</th>\n",
              "    </tr>\n",
              "  </thead>\n",
              "  <tbody>\n",
              "    <tr>\n",
              "      <th>0</th>\n",
              "      <td>662</td>\n",
              "      <td>AAA0TUKS5VBSA</td>\n",
              "      <td>B004TPUT9Y</td>\n",
              "      <td>Pasta that is gluten free and made in the micr...</td>\n",
              "      <td>3.0</td>\n",
              "    </tr>\n",
              "    <tr>\n",
              "      <th>1</th>\n",
              "      <td>275</td>\n",
              "      <td>A2YW1MG1GKU8XD</td>\n",
              "      <td>B0025UCI0I</td>\n",
              "      <td>I have some members of my family who are not c...</td>\n",
              "      <td>4.0</td>\n",
              "    </tr>\n",
              "    <tr>\n",
              "      <th>2</th>\n",
              "      <td>235</td>\n",
              "      <td>ACJT8MUC0LRF0</td>\n",
              "      <td>B0025UCHRC</td>\n",
              "      <td>We've always used Barilla in this house, but o...</td>\n",
              "      <td>5.0</td>\n",
              "    </tr>\n",
              "    <tr>\n",
              "      <th>3</th>\n",
              "      <td>93</td>\n",
              "      <td>A1Z54EM24Y40LL</td>\n",
              "      <td>B000MDCDJ6</td>\n",
              "      <td>This is a very nice &amp;#34;snack&amp;#34; for on-the...</td>\n",
              "      <td>4.0</td>\n",
              "    </tr>\n",
              "    <tr>\n",
              "      <th>4</th>\n",
              "      <td>1148</td>\n",
              "      <td>A2OCDK0BOW6UCY</td>\n",
              "      <td>B0096RP84Q</td>\n",
              "      <td>The soups are flavorful and the ease of prepar...</td>\n",
              "      <td>4.0</td>\n",
              "    </tr>\n",
              "    <tr>\n",
              "      <th>...</th>\n",
              "      <td>...</td>\n",
              "      <td>...</td>\n",
              "      <td>...</td>\n",
              "      <td>...</td>\n",
              "      <td>...</td>\n",
              "    </tr>\n",
              "    <tr>\n",
              "      <th>1790</th>\n",
              "      <td>1250</td>\n",
              "      <td>A3NHUQ33CFH3VM</td>\n",
              "      <td>B009M516HA</td>\n",
              "      <td>This cheesy couscous mysteriously isn't compro...</td>\n",
              "      <td>5.0</td>\n",
              "    </tr>\n",
              "    <tr>\n",
              "      <th>1791</th>\n",
              "      <td>357</td>\n",
              "      <td>A37MH7ICH80QOX</td>\n",
              "      <td>B002NHSQ6I</td>\n",
              "      <td>I received a sample of one Newman's dark-choco...</td>\n",
              "      <td>5.0</td>\n",
              "    </tr>\n",
              "    <tr>\n",
              "      <th>1792</th>\n",
              "      <td>1748</td>\n",
              "      <td>A2OCDK0BOW6UCY</td>\n",
              "      <td>B00DBSG77S</td>\n",
              "      <td>The packaging makes taking  these tangy baked ...</td>\n",
              "      <td>4.0</td>\n",
              "    </tr>\n",
              "    <tr>\n",
              "      <th>1793</th>\n",
              "      <td>1222</td>\n",
              "      <td>A1Z7Y2GMAP9SRY</td>\n",
              "      <td>B009M515HG</td>\n",
              "      <td>This is a nice alternative to potatoes or rice...</td>\n",
              "      <td>4.0</td>\n",
              "    </tr>\n",
              "    <tr>\n",
              "      <th>1794</th>\n",
              "      <td>222</td>\n",
              "      <td>A2OCDK0BOW6UCY</td>\n",
              "      <td>B001VE26I8</td>\n",
              "      <td>This is a great idea in a world of unhealthy s...</td>\n",
              "      <td>3.0</td>\n",
              "    </tr>\n",
              "  </tbody>\n",
              "</table>\n",
              "<p>1795 rows × 5 columns</p>\n",
              "</div>"
            ],
            "text/plain": [
              "      Unnamed: 0          userID      itemID  \\\n",
              "0            662   AAA0TUKS5VBSA  B004TPUT9Y   \n",
              "1            275  A2YW1MG1GKU8XD  B0025UCI0I   \n",
              "2            235   ACJT8MUC0LRF0  B0025UCHRC   \n",
              "3             93  A1Z54EM24Y40LL  B000MDCDJ6   \n",
              "4           1148  A2OCDK0BOW6UCY  B0096RP84Q   \n",
              "...          ...             ...         ...   \n",
              "1790        1250  A3NHUQ33CFH3VM  B009M516HA   \n",
              "1791         357  A37MH7ICH80QOX  B002NHSQ6I   \n",
              "1792        1748  A2OCDK0BOW6UCY  B00DBSG77S   \n",
              "1793        1222  A1Z7Y2GMAP9SRY  B009M515HG   \n",
              "1794         222  A2OCDK0BOW6UCY  B001VE26I8   \n",
              "\n",
              "                                             reviewText  rating  \n",
              "0     Pasta that is gluten free and made in the micr...     3.0  \n",
              "1     I have some members of my family who are not c...     4.0  \n",
              "2     We've always used Barilla in this house, but o...     5.0  \n",
              "3     This is a very nice &#34;snack&#34; for on-the...     4.0  \n",
              "4     The soups are flavorful and the ease of prepar...     4.0  \n",
              "...                                                 ...     ...  \n",
              "1790  This cheesy couscous mysteriously isn't compro...     5.0  \n",
              "1791  I received a sample of one Newman's dark-choco...     5.0  \n",
              "1792  The packaging makes taking  these tangy baked ...     4.0  \n",
              "1793  This is a nice alternative to potatoes or rice...     4.0  \n",
              "1794  This is a great idea in a world of unhealthy s...     3.0  \n",
              "\n",
              "[1795 rows x 5 columns]"
            ]
          },
          "execution_count": 33,
          "metadata": {},
          "output_type": "execute_result"
        }
      ],
      "source": [
        "train_df"
      ]
    },
    {
      "cell_type": "markdown",
      "metadata": {
        "id": "IvMysaUvxxU3"
      },
      "source": [
        "# **Embedding Matrix**"
      ]
    },
    {
      "cell_type": "code",
      "execution_count": 34,
      "metadata": {
        "id": "WovD0fA5q-J6"
      },
      "outputs": [],
      "source": [
        "# hyperparameters\n",
        "embedding_dim=300\n",
        "min_frequent_word_num=1\n",
        "max_vocab_size=10000\n",
        "sequence_length=64\n",
        "document_length=20"
      ]
    },
    {
      "cell_type": "code",
      "execution_count": 35,
      "metadata": {},
      "outputs": [],
      "source": [
        "def tf_lower_and_split_punct(text):\n",
        "  text = tf_text.normalize_utf8(text, 'NFKD')\n",
        "  text = tf.strings.lower(text)\n",
        "  text = tf.strings.regex_replace(text, '[^ a-z.?!,¿]', '')\n",
        "  text = tf.strings.regex_replace(text, '[.?!,¿]', r' \\0 ')\n",
        "  text = tf.strings.strip(text)\n",
        "  text= tf.strings.reduce_join( tf.strings.split(text)[:,:sequence_length-2],axis=-1,separator=' ')\n",
        "  return  text.numpy()"
      ]
    },
    {
      "cell_type": "code",
      "execution_count": 36,
      "metadata": {},
      "outputs": [],
      "source": [
        "with tf.device('/CPU:0'):\n",
        "    user_corpus =list(map(tf_lower_and_split_punct,user_df['reviewText'])) \n",
        "    item_corpus = list( map(tf_lower_and_split_punct,item_df['reviewText']) )"
      ]
    },
    {
      "cell_type": "code",
      "execution_count": 37,
      "metadata": {},
      "outputs": [],
      "source": [
        "def load_word2vec_model():\n",
        "    if os.path.exists(\"word2vec.wordvectors\"):\n",
        "        print(\"loaded from word2vec.wordvectors\")\n",
        "        return KeyedVectors.load(\"word2vec.wordvectors\",mmap='r')\n",
        "    else:\n",
        "        # downloading google news word2vec model\n",
        "        if not os.path.exists(\"word2vec_google.bin\"):\n",
        "            downloaded_model = api.load('word2vec-google-news-300')\n",
        "            downloaded_model.save_word2vec_format('word2vec_google.bin',binary=True)\n",
        "            del downloaded_model\n",
        "        # loading google news word2vec model\n",
        "        google_word2vec = KeyedVectors.load_word2vec_format(\"word2vec_google.bin\", binary=True)\n",
        "\n",
        "       # tokenizing the whole reviews in text_corpus\n",
        "        text_corpus=[]\n",
        "        for i,doc in enumerate(user_corpus):    # iterate through each sentence in the reviews\n",
        "            for rv in doc:\n",
        "                for sen in sent_tokenize(rv.decode(\"utf-8\")):\n",
        "                    temp = []\n",
        "                    # tokenize the sentence into words          \n",
        "                    for j in word_tokenize(sen):\n",
        "                        temp.append(j.lower())\n",
        "                    text_corpus.append(temp)\n",
        "                    del temp\n",
        "\n",
        "\n",
        "        # creating a new word2vec model and initializing it from pretrained google_word2vec\n",
        "        word2vec_model=Word2Vec( text_corpus,max_final_vocab=max_vocab_size,min_count=min_frequent_word_num ,vector_size= embedding_dim,window = 5,workers=16, sg=1,epochs=1)\n",
        "        word2vec_model.build_vocab(text_corpus)\n",
        "\n",
        "        word2vec_model.build_vocab([google_word2vec.index_to_key],update=True)\n",
        "        word2vec_model.wv.vectors_lockf = np.ones(len(word2vec_model.wv))\n",
        "        word2vec_model.wv.intersect_word2vec_format(\"word2vec_google.bin\",binary=True,lockf=1.0)\n",
        "        \n",
        "        # fine tuning the model and saving it\n",
        "        word2vec_model.train(text_corpus, epochs=5, total_examples=word2vec_model.corpus_count)\n",
        "        word2vec_model.wv.save(\"word2vec.wordvectors\")\n",
        "        \n",
        "        del google_word2vec\n",
        "        del text_corpus[:]\n",
        "        gc.collect()\n",
        "  \n",
        "        return word2vec_model.wv\n",
        "        "
      ]
    },
    {
      "cell_type": "code",
      "execution_count": 38,
      "metadata": {},
      "outputs": [
        {
          "name": "stdout",
          "output_type": "stream",
          "text": [
            "loaded from word2vec.wordvectors\n",
            "embedding matrix shape : ( 6367  , 300 )\n"
          ]
        }
      ],
      "source": [
        "# loading the embedding lookup matrix shape=( 30k ,300 ) approximately\n",
        "embedding_matrix = load_word2vec_model() \n",
        "print( \"embedding matrix shape : (\",len(embedding_matrix.index_to_key),\" ,\",embedding_matrix.vector_size,\")\")"
      ]
    },
    {
      "cell_type": "code",
      "execution_count": 39,
      "metadata": {},
      "outputs": [
        {
          "data": {
            "text/plain": [
              "['.',\n",
              " 'the',\n",
              " ',',\n",
              " 'a',\n",
              " 'and',\n",
              " 'i',\n",
              " 'of',\n",
              " 'to',\n",
              " 'is',\n",
              " 'it',\n",
              " 'this',\n",
              " 'in',\n",
              " 'that',\n",
              " 'but',\n",
              " 'with',\n",
              " 'for',\n",
              " 'are',\n",
              " 'was',\n",
              " 'not',\n",
              " 'like',\n",
              " 'my',\n",
              " 'flavor',\n",
              " 'as',\n",
              " 'have',\n",
              " 'these',\n",
              " 'on',\n",
              " 'they',\n",
              " 'taste',\n",
              " 'good',\n",
              " 'you',\n",
              " 'tea',\n",
              " 'so',\n",
              " 'or',\n",
              " 'its',\n",
              " 'very',\n",
              " 'be',\n",
              " 'just',\n",
              " 'has',\n",
              " 'one',\n",
              " 'more',\n",
              " 'than',\n",
              " 'me',\n",
              " 'really',\n",
              " 'water',\n",
              " 'when',\n",
              " 'can',\n",
              " 'all',\n",
              " 'them',\n",
              " 'some',\n",
              " 'if',\n",
              " 'from',\n",
              " 'at',\n",
              " 'nice',\n",
              " 'little',\n",
              " 'pasta',\n",
              " 'an',\n",
              " 'too',\n",
              " 'much',\n",
              " 'coffee',\n",
              " 'great',\n",
              " 'had',\n",
              " '!',\n",
              " 'love',\n",
              " 'there',\n",
              " 'out',\n",
              " 'sweet',\n",
              " 'would',\n",
              " 'bit',\n",
              " 'ive',\n",
              " 'up',\n",
              " 'tried',\n",
              " 'we',\n",
              " 'which',\n",
              " 'drink',\n",
              " 'no',\n",
              " 'easy',\n",
              " 'make',\n",
              " 'rice',\n",
              " 'side',\n",
              " 'im',\n",
              " 'well',\n",
              " 'chocolate',\n",
              " 'do',\n",
              " 'other',\n",
              " 'were',\n",
              " 'texture',\n",
              " 'use',\n",
              " 'sauce',\n",
              " 'because',\n",
              " 'sugar',\n",
              " 'product',\n",
              " 'about',\n",
              " 'tastes',\n",
              " 'also',\n",
              " 'what',\n",
              " 'dont',\n",
              " 'cup',\n",
              " 'better',\n",
              " 'get',\n",
              " 'only',\n",
              " 'makes',\n",
              " 'quite',\n",
              " 'been',\n",
              " 'first',\n",
              " 'cheese',\n",
              " 'mix',\n",
              " 'cookies',\n",
              " 'any',\n",
              " 'whole',\n",
              " 'try',\n",
              " 'bag',\n",
              " 'pretty',\n",
              " 'used',\n",
              " 'delicious',\n",
              " 'even',\n",
              " 'made',\n",
              " 'hot',\n",
              " 'couscous',\n",
              " 'by',\n",
              " 'didnt',\n",
              " 'box',\n",
              " 'ingredients',\n",
              " 'add',\n",
              " 'tasty',\n",
              " 'will',\n",
              " 'flavors',\n",
              " 'barilla',\n",
              " 'lot',\n",
              " 'something',\n",
              " 'after',\n",
              " 'calories',\n",
              " 'fruit',\n",
              " 'oil',\n",
              " 'think',\n",
              " 'did',\n",
              " 'always',\n",
              " 'time',\n",
              " 'your',\n",
              " 'green',\n",
              " 'most',\n",
              " 'while',\n",
              " 'am',\n",
              " 'eat',\n",
              " 'way',\n",
              " 'added',\n",
              " 'then',\n",
              " 'dish',\n",
              " 'does',\n",
              " 'crackers',\n",
              " 'different',\n",
              " 'snack',\n",
              " 'without',\n",
              " 'chicken',\n",
              " 'each',\n",
              " 'butter',\n",
              " 'energy',\n",
              " 'over',\n",
              " 'bar',\n",
              " 'apple',\n",
              " 'both',\n",
              " 'free',\n",
              " 'regular',\n",
              " 'however',\n",
              " 'liked',\n",
              " 'milk',\n",
              " 'into',\n",
              " 'chips',\n",
              " 'enough',\n",
              " 'comes',\n",
              " 'their',\n",
              " 'favorite',\n",
              " 'fresh',\n",
              " 'enjoy',\n",
              " 'popcorn',\n",
              " 'go',\n",
              " 'perfect',\n",
              " 'still',\n",
              " 'tasted',\n",
              " 'many',\n",
              " 'best',\n",
              " 'two',\n",
              " 'being',\n",
              " 'right',\n",
              " 'since',\n",
              " 'strong',\n",
              " 'found',\n",
              " 'small',\n",
              " 'garlic',\n",
              " 'big',\n",
              " 'our',\n",
              " 'serving',\n",
              " 'cinnamon',\n",
              " 'size',\n",
              " 'less',\n",
              " 'ounce',\n",
              " 'salt',\n",
              " 'caffeine',\n",
              " 'say',\n",
              " 'tasting',\n",
              " 'organic',\n",
              " 'bars',\n",
              " 'though',\n",
              " 'bags',\n",
              " 'those',\n",
              " 'brand',\n",
              " 'food',\n",
              " 'fan',\n",
              " 'few',\n",
              " 'package',\n",
              " 'high',\n",
              " 'wasnt',\n",
              " 'could',\n",
              " 'coconut',\n",
              " 'pack',\n",
              " 'thought',\n",
              " 'family',\n",
              " 'new',\n",
              " 'light',\n",
              " 'black',\n",
              " 'quality',\n",
              " 'seasoning',\n",
              " 'actually',\n",
              " 'things',\n",
              " 'find',\n",
              " 'lemon',\n",
              " 'real',\n",
              " 'bad',\n",
              " 'rather',\n",
              " 'crunchy',\n",
              " 'want',\n",
              " 'gluten',\n",
              " 'trying',\n",
              " 'thing',\n",
              " 'blend',\n",
              " 'using',\n",
              " 'lipton',\n",
              " 'flavored',\n",
              " 'spicy',\n",
              " 'grain',\n",
              " 'come',\n",
              " 'never',\n",
              " 'salty',\n",
              " 'before',\n",
              " 'prefer',\n",
              " 'teas',\n",
              " 'quick',\n",
              " 'corn',\n",
              " 'how',\n",
              " 'definitely',\n",
              " 'cook',\n",
              " 'doesnt',\n",
              " 'snacks',\n",
              " 'minutes',\n",
              " 'isnt',\n",
              " 'give',\n",
              " 'prepare',\n",
              " 'honey',\n",
              " 'same',\n",
              " 'hard',\n",
              " 'meal',\n",
              " 'anything',\n",
              " 'ginger',\n",
              " 'contains',\n",
              " 'usually',\n",
              " 'vanilla',\n",
              " 'theyre',\n",
              " 'per',\n",
              " 'plain',\n",
              " 'natural',\n",
              " 'white',\n",
              " 'similar',\n",
              " 'buy',\n",
              " 'who',\n",
              " 'take',\n",
              " 'spaghetti',\n",
              " 'bottle',\n",
              " 'amount',\n",
              " 'off',\n",
              " 'need',\n",
              " 'healthy',\n",
              " 'sure',\n",
              " 'enjoyed',\n",
              " 'caramel',\n",
              " 'plus',\n",
              " 'drinks',\n",
              " 'protein',\n",
              " 'work',\n",
              " 'dressing',\n",
              " 'eating',\n",
              " 'put',\n",
              " 'noodles',\n",
              " 'dark',\n",
              " 'soup',\n",
              " 'crunch',\n",
              " 'version',\n",
              " 'looking',\n",
              " 'variety',\n",
              " 'diet',\n",
              " 'now',\n",
              " 'cookie',\n",
              " 'people',\n",
              " 'cheddar',\n",
              " 'products',\n",
              " 'microwave',\n",
              " 'several',\n",
              " 'type',\n",
              " 'thin',\n",
              " 'aftertaste',\n",
              " 'dried',\n",
              " 'artificial',\n",
              " 'either',\n",
              " 'stuff',\n",
              " 'mild',\n",
              " 'although',\n",
              " '?',\n",
              " 'nothing',\n",
              " 'review',\n",
              " 'having',\n",
              " 'cups',\n",
              " 'pleasant',\n",
              " 'mates',\n",
              " 'chewy',\n",
              " 'juice',\n",
              " 'slightly',\n",
              " 'day',\n",
              " 'seems',\n",
              " 'long',\n",
              " 'cant',\n",
              " 'foods',\n",
              " 'making',\n",
              " 'id',\n",
              " 'home',\n",
              " 'through',\n",
              " 'know',\n",
              " 'cooked',\n",
              " 'packet',\n",
              " 'especially',\n",
              " 'wheat',\n",
              " 'mixed',\n",
              " 'might',\n",
              " 'thats',\n",
              " 'decent',\n",
              " 'kids',\n",
              " 'top',\n",
              " 'dry',\n",
              " 'pepper',\n",
              " 'formula',\n",
              " 'cereal',\n",
              " 'creamy',\n",
              " 'knorr',\n",
              " 'instead',\n",
              " 'own',\n",
              " 'fact',\n",
              " 'years',\n",
              " 'salad',\n",
              " 'loved',\n",
              " 'sweetness',\n",
              " 'oz',\n",
              " 'often',\n",
              " 'far',\n",
              " 'ok',\n",
              " 'cooking',\n",
              " 'got',\n",
              " 'wonderful',\n",
              " 'smell',\n",
              " 'almost',\n",
              " 'keep',\n",
              " 'oatmeal',\n",
              " 'tuna',\n",
              " 'beverage',\n",
              " 'convenient',\n",
              " 'down',\n",
              " 'kind',\n",
              " 'three',\n",
              " 'flour',\n",
              " 'fiber',\n",
              " 'price',\n",
              " 'part',\n",
              " 'surprised',\n",
              " 'olive',\n",
              " 'pieces',\n",
              " 'see',\n",
              " 'together',\n",
              " 'broccoli',\n",
              " 'treat',\n",
              " 'feel',\n",
              " 'here',\n",
              " 'peanut',\n",
              " 'traditional',\n",
              " 'directions',\n",
              " 'theres',\n",
              " 'grams',\n",
              " 'absolutely',\n",
              " 'bland',\n",
              " 'simple',\n",
              " 'powder',\n",
              " 'seem',\n",
              " 'combination',\n",
              " 'filling',\n",
              " 'excellent',\n",
              " 'fine',\n",
              " 'roast',\n",
              " 'pastas',\n",
              " 'sometimes',\n",
              " 'every',\n",
              " 'ever',\n",
              " 'pearl',\n",
              " 'recommended',\n",
              " 'heat',\n",
              " 'adding',\n",
              " 'easily',\n",
              " 'open',\n",
              " 'low',\n",
              " 'again',\n",
              " 'back',\n",
              " 'brown',\n",
              " 'normally',\n",
              " 'probably',\n",
              " 'tomato',\n",
              " 'cracker',\n",
              " 'half',\n",
              " 'said',\n",
              " 'keurig',\n",
              " 'youre',\n",
              " 'unfortunately',\n",
              " 'expected',\n",
              " 'line',\n",
              " 'sort',\n",
              " 'convenience',\n",
              " 'mio',\n",
              " 'choice',\n",
              " 'graham',\n",
              " 'idea',\n",
              " 'pretzels',\n",
              " 'care',\n",
              " 'crispy',\n",
              " 'instant',\n",
              " 'going',\n",
              " 'amazon',\n",
              " 'drinking',\n",
              " 'arent',\n",
              " 'refreshing',\n",
              " 'beans',\n",
              " 'hint',\n",
              " 'cooks',\n",
              " 'red',\n",
              " 'ones',\n",
              " 'hand',\n",
              " 'smooth',\n",
              " 'full',\n",
              " 'expect',\n",
              " 'parmesan',\n",
              " 'morning',\n",
              " 'prepared',\n",
              " 'huge',\n",
              " 'quinoa',\n",
              " 'packets',\n",
              " 'able',\n",
              " 'spice',\n",
              " 'mac',\n",
              " 'flavorful',\n",
              " 'simply',\n",
              " 'fat',\n",
              " 'shape',\n",
              " 'blackberry',\n",
              " 'received',\n",
              " 'extra',\n",
              " 'fudge',\n",
              " 'bitter',\n",
              " 'potato',\n",
              " 'around',\n",
              " 'he',\n",
              " 'house',\n",
              " 'baby',\n",
              " 'fun',\n",
              " 'syrup',\n",
              " 'such',\n",
              " 'breakfast',\n",
              " 'bits',\n",
              " 'fast',\n",
              " 'cocoa',\n",
              " 'curry',\n",
              " 'until',\n",
              " 'myself',\n",
              " 'grains',\n",
              " 'preparation',\n",
              " 'ill',\n",
              " 'itself',\n",
              " 'experience',\n",
              " 'iced',\n",
              " 'came',\n",
              " 'packaging',\n",
              " 'soft',\n",
              " 'sale',\n",
              " 'goes',\n",
              " 'servings',\n",
              " 'ranch',\n",
              " 'container',\n",
              " 'herbal',\n",
              " 'vitamin',\n",
              " 'overall',\n",
              " 'brew',\n",
              " 'nicely',\n",
              " 'recipe',\n",
              " 'times',\n",
              " 'orange',\n",
              " 'chipotle',\n",
              " 'certainly',\n",
              " 'couple',\n",
              " 'difference',\n",
              " 'macaroni',\n",
              " 'candy',\n",
              " 'peppermint',\n",
              " 'cold',\n",
              " 'let',\n",
              " 'slight',\n",
              " 'between',\n",
              " 'lemonade',\n",
              " 'happy',\n",
              " 'another',\n",
              " 'original',\n",
              " 'sides',\n",
              " 'she',\n",
              " 'bite',\n",
              " 'old',\n",
              " 'may',\n",
              " 'wouldnt',\n",
              " 'glass',\n",
              " 'crisp',\n",
              " 'contain',\n",
              " 'brands',\n",
              " 'sodium',\n",
              " 'perfectly',\n",
              " 'fairly',\n",
              " 'chai',\n",
              " 'weve',\n",
              " 'quickly',\n",
              " 'generally',\n",
              " 'ice',\n",
              " 'away',\n",
              " 'available',\n",
              " 'daughter',\n",
              " 'apples',\n",
              " 'course',\n",
              " 'should',\n",
              " 'vegetables',\n",
              " 'roasted',\n",
              " 'says',\n",
              " 'kick',\n",
              " 'fruity',\n",
              " 'pyramid',\n",
              " 'mg',\n",
              " 'granola',\n",
              " 'cut',\n",
              " 'thai',\n",
              " 'yet',\n",
              " 'us',\n",
              " 'decided',\n",
              " 'serve',\n",
              " 'amazing',\n",
              " 'normal',\n",
              " 'mind',\n",
              " 'powdered',\n",
              " 'almonds',\n",
              " 'reason',\n",
              " 'ounces',\n",
              " 'ingredient',\n",
              " 'clean',\n",
              " 'large',\n",
              " 'vine',\n",
              " 'rich',\n",
              " 'types',\n",
              " 'strawberry',\n",
              " 'main',\n",
              " 'brewed',\n",
              " 'works',\n",
              " 'pleasantly',\n",
              " 'leaves',\n",
              " 'okay',\n",
              " 'store',\n",
              " 'gave',\n",
              " 'sweetened',\n",
              " 'thick',\n",
              " 'cream',\n",
              " 'noticed',\n",
              " 'boil',\n",
              " 'linguine',\n",
              " 'peach',\n",
              " 'spices',\n",
              " 'potatoes',\n",
              " 'days',\n",
              " 'pleased',\n",
              " 'g',\n",
              " 'calorie',\n",
              " 'berry',\n",
              " 'baked',\n",
              " 'cheesy',\n",
              " 'lunch',\n",
              " 'nuts',\n",
              " 'bought',\n",
              " 'list',\n",
              " 'overly',\n",
              " 'getting',\n",
              " 'chip',\n",
              " 'content',\n",
              " 'ended',\n",
              " 'where',\n",
              " 'mouth',\n",
              " 'addition',\n",
              " 'bacon',\n",
              " 'tomatoes',\n",
              " 'coating',\n",
              " 'eaten',\n",
              " 'italian',\n",
              " 'husband',\n",
              " 'penne',\n",
              " 'result',\n",
              " 'lots',\n",
              " 'mango',\n",
              " 'mixes',\n",
              " 'stick',\n",
              " 'somewhat',\n",
              " 'pouch',\n",
              " 'last',\n",
              " 'went',\n",
              " 'dishes',\n",
              " 'expecting',\n",
              " 'opened',\n",
              " 'glutenfree',\n",
              " 'excited',\n",
              " 'opinion',\n",
              " 'purchased',\n",
              " 'past',\n",
              " 'year',\n",
              " 'kettle',\n",
              " 'satisfying',\n",
              " 'usual',\n",
              " 'color',\n",
              " 'recommend',\n",
              " 'her',\n",
              " 'look',\n",
              " 'served',\n",
              " 'boxes',\n",
              " 'others',\n",
              " 'couldnt',\n",
              " 'oats',\n",
              " 'maybe',\n",
              " 'occasionally',\n",
              " 'including',\n",
              " 'fit',\n",
              " 'alternative',\n",
              " 'standard',\n",
              " 'end',\n",
              " 'particular',\n",
              " 'sardines',\n",
              " 'dinner',\n",
              " 'needs',\n",
              " 'varieties',\n",
              " 'change',\n",
              " 'fantastic',\n",
              " 'baking',\n",
              " 'name',\n",
              " 'paper',\n",
              " 'easier',\n",
              " 'onion',\n",
              " 'super',\n",
              " 'flavoring',\n",
              " 'takes',\n",
              " 'least',\n",
              " 'peppers',\n",
              " 'someone',\n",
              " 'recently',\n",
              " 'puerh',\n",
              " 'turned',\n",
              " 'took',\n",
              " 'v',\n",
              " 'interesting',\n",
              " 'heavy',\n",
              " 'based',\n",
              " 'why',\n",
              " 'hit',\n",
              " 'packaged',\n",
              " 'keebler',\n",
              " 'case',\n",
              " 'compared',\n",
              " 'special',\n",
              " 'impressed',\n",
              " 'admit',\n",
              " 'kcups',\n",
              " 'ready',\n",
              " 'instructions',\n",
              " 'perhaps',\n",
              " 'plastic',\n",
              " 'provides',\n",
              " 'soda',\n",
              " 'seeds',\n",
              " 'homemade',\n",
              " 'sweetener',\n",
              " 'gives',\n",
              " 'particularly',\n",
              " 'pomegranate',\n",
              " 'soy',\n",
              " 'pleasing',\n",
              " 'single',\n",
              " 'place',\n",
              " 'vegetable',\n",
              " 'loves',\n",
              " 'meat',\n",
              " 'followed',\n",
              " 'weak',\n",
              " 'pretzel',\n",
              " 'mayonnaise',\n",
              " 'everyone',\n",
              " 'sticks',\n",
              " 'test',\n",
              " 'vinegar',\n",
              " 'blueberry',\n",
              " 'canned',\n",
              " 'option',\n",
              " 'expensive',\n",
              " 'style',\n",
              " 'chili',\n",
              " 'subtle',\n",
              " 'surprisingly',\n",
              " 'mint',\n",
              " 'start',\n",
              " 'pure',\n",
              " 'mine',\n",
              " 'mostly',\n",
              " 'purchase',\n",
              " 'disappointed',\n",
              " 'appealing',\n",
              " 'left',\n",
              " 'bell',\n",
              " 'ways',\n",
              " 'miss',\n",
              " 'likes',\n",
              " 'reminds',\n",
              " 'overpowering',\n",
              " 'buying',\n",
              " 'worked',\n",
              " 'base',\n",
              " 'ate',\n",
              " 'pot',\n",
              " 'wish',\n",
              " 'pop',\n",
              " 'else',\n",
              " 'boxed',\n",
              " 'spread',\n",
              " 'lid',\n",
              " 'health',\n",
              " 'entire',\n",
              " 'tiny',\n",
              " 'balls',\n",
              " 'clusters',\n",
              " 'arrived',\n",
              " 'rest',\n",
              " 'vitamins',\n",
              " 'pita',\n",
              " 'trail',\n",
              " 'exception',\n",
              " 'point',\n",
              " 'consider',\n",
              " 'covered',\n",
              " 'youll',\n",
              " 'filled',\n",
              " 'despite',\n",
              " 'ago',\n",
              " 'handy',\n",
              " 'sauces',\n",
              " 'must',\n",
              " 'break',\n",
              " 'appearance',\n",
              " 'exactly',\n",
              " 'smells',\n",
              " 'six',\n",
              " 'second',\n",
              " 'reviews',\n",
              " 'options',\n",
              " 'quaker',\n",
              " 'bee',\n",
              " 'bumble',\n",
              " 'recipes',\n",
              " 'completely',\n",
              " 'turn',\n",
              " 'needed',\n",
              " 'compare',\n",
              " 'program',\n",
              " 'close',\n",
              " 'fish',\n",
              " 'along',\n",
              " 'liquid',\n",
              " 'stars',\n",
              " 'balance',\n",
              " 'fill',\n",
              " 'basically',\n",
              " 'pour',\n",
              " 'medium',\n",
              " 'done',\n",
              " 'looks',\n",
              " 'tend',\n",
              " 'allows',\n",
              " 'daily',\n",
              " 'aloe',\n",
              " 'surprise',\n",
              " 'veggies',\n",
              " 'aroma',\n",
              " 'garden',\n",
              " 'unlike',\n",
              " 'boiling',\n",
              " 'dip',\n",
              " 'yummy',\n",
              " 'due',\n",
              " 'bowl',\n",
              " 'short',\n",
              " 'mushy',\n",
              " 'under',\n",
              " 'consistency',\n",
              " 'results',\n",
              " 'grew',\n",
              " 'issue',\n",
              " 'pantry',\n",
              " 'nutrition',\n",
              " 'ordered',\n",
              " 'yes',\n",
              " 'benefits',\n",
              " 'stove',\n",
              " 'chunks',\n",
              " 'mushroom',\n",
              " 'healthier',\n",
              " 'except',\n",
              " 'attractive',\n",
              " 'havent',\n",
              " 'highly',\n",
              " 'once',\n",
              " 'machine',\n",
              " 'punch',\n",
              " 'given',\n",
              " 'packs',\n",
              " 'larger',\n",
              " 'designed',\n",
              " 'item',\n",
              " 'msg',\n",
              " 'everything',\n",
              " 'reading',\n",
              " 'diabetic',\n",
              " 'cherry',\n",
              " 'months',\n",
              " 'bold',\n",
              " 'star',\n",
              " 'adds',\n",
              " 'according',\n",
              " 'herb',\n",
              " 'includes',\n",
              " 'items',\n",
              " 'typical',\n",
              " 'four',\n",
              " 'wanted',\n",
              " 'carbs',\n",
              " 'helps',\n",
              " 'basic',\n",
              " 'discovered',\n",
              " 'friends',\n",
              " 'whether',\n",
              " 'flat',\n",
              " 'inside',\n",
              " 'cardamom',\n",
              " 'extremely',\n",
              " 'nature',\n",
              " 'contents',\n",
              " 'egg',\n",
              " 'sample',\n",
              " 'raisins',\n",
              " 'generic',\n",
              " 'odd',\n",
              " 'k',\n",
              " 'truly',\n",
              " 'longer',\n",
              " 'boost',\n",
              " 'switch',\n",
              " 'choose',\n",
              " 'individual',\n",
              " 'eggs',\n",
              " 'seemed',\n",
              " 'felt',\n",
              " 'lightly',\n",
              " 'nacho',\n",
              " 'gooey',\n",
              " 'honestly',\n",
              " 'difficult',\n",
              " 'portion',\n",
              " 'tell',\n",
              " 'extract',\n",
              " 'nut',\n",
              " 'familiar',\n",
              " 'beef',\n",
              " 'breast',\n",
              " 'squeeze',\n",
              " 'chance',\n",
              " 'bring',\n",
              " 'hold',\n",
              " 'included',\n",
              " 'enjoyable',\n",
              " 'gourmet',\n",
              " 'problem',\n",
              " 'packages',\n",
              " 'nearly',\n",
              " 'set',\n",
              " 'piece',\n",
              " 'foil',\n",
              " 'minute',\n",
              " 'c',\n",
              " 'taco',\n",
              " 'cheezit',\n",
              " 'overwhelming',\n",
              " 'grainy',\n",
              " 'kcup',\n",
              " 'classic',\n",
              " 'hopes',\n",
              " 'fake',\n",
              " 'become',\n",
              " 'hours',\n",
              " 'n',\n",
              " 'awesome',\n",
              " 'unpleasant',\n",
              " 'soups',\n",
              " 'stomach',\n",
              " 'typically',\n",
              " 'popular',\n",
              " 'help',\n",
              " 'stand',\n",
              " 'average',\n",
              " 'child',\n",
              " 'cfh',\n",
              " 'worth',\n",
              " 'order',\n",
              " 'grab',\n",
              " 'appreciate',\n",
              " 'avoid',\n",
              " 'campbells',\n",
              " 'acid',\n",
              " 'jar',\n",
              " 'paired',\n",
              " 'notice',\n",
              " 'broth',\n",
              " 'form',\n",
              " 'person',\n",
              " 'balanced',\n",
              " 'wow',\n",
              " 'wrong',\n",
              " 'offered',\n",
              " 'stronger',\n",
              " 'tender',\n",
              " 'call',\n",
              " 'tap',\n",
              " 'satisfy',\n",
              " 'system',\n",
              " 'pamelas',\n",
              " 'important',\n",
              " 'method',\n",
              " 'higgins',\n",
              " 'awful',\n",
              " 'ground',\n",
              " 'scent',\n",
              " 'shot',\n",
              " 'during',\n",
              " 'opportunity',\n",
              " 'illy',\n",
              " 'themselves',\n",
              " 'lighter',\n",
              " 'numi',\n",
              " 'sea',\n",
              " 'coffees',\n",
              " 'fair',\n",
              " 'wont',\n",
              " 'shapes',\n",
              " 'totally',\n",
              " 'thinner',\n",
              " 'smaller',\n",
              " 'hate',\n",
              " 'versions',\n",
              " 'hibiscus',\n",
              " 'bread',\n",
              " 'five',\n",
              " 'decaf',\n",
              " 'mushrooms',\n",
              " 'squirt',\n",
              " 'bake',\n",
              " 'possible',\n",
              " 'wild',\n",
              " 'pads',\n",
              " 'pronounced',\n",
              " 'pilaf',\n",
              " 'meals',\n",
              " 'date',\n",
              " 'son',\n",
              " 'dente',\n",
              " 'world',\n",
              " 'filter',\n",
              " 'means',\n",
              " ...]"
            ]
          },
          "execution_count": 39,
          "metadata": {},
          "output_type": "execute_result"
        }
      ],
      "source": [
        "embedding_matrix.index_to_key"
      ]
    },
    {
      "cell_type": "code",
      "execution_count": 40,
      "metadata": {},
      "outputs": [
        {
          "data": {
            "text/plain": [
              "(6371, 300)"
            ]
          },
          "execution_count": 40,
          "metadata": {},
          "output_type": "execute_result"
        }
      ],
      "source": [
        "# vocab_size is equal to full_embedding_matrix shape[0]\n",
        "special_token_embedding = np.random.rand(4,embedding_matrix.vector_size)\n",
        "full_embedding_matrix = np.concatenate((special_token_embedding,embedding_matrix.vectors))\n",
        "full_embedding_matrix.shape"
      ]
    },
    {
      "cell_type": "code",
      "execution_count": 41,
      "metadata": {},
      "outputs": [],
      "source": [
        "# example\n",
        "# embedding_matrix['keep']"
      ]
    },
    {
      "cell_type": "markdown",
      "metadata": {
        "id": "PVT3Ur54LsIz"
      },
      "source": [
        "# **Text Vectorization**"
      ]
    },
    {
      "cell_type": "code",
      "execution_count": 42,
      "metadata": {},
      "outputs": [
        {
          "name": "stdout",
          "output_type": "stream",
          "text": [
            "number of batches in train data 112\n",
            "number of batches in test data 6\n"
          ]
        }
      ],
      "source": [
        "# hyperparameter\n",
        "\n",
        "batch_size = 16 # for seq2seq model\n",
        "batch_size_test = 32 # for seq2seq model\n",
        "num_batches=int(train_df.shape[0]/batch_size)\n",
        "num_batches_test=int(test_df.shape[0]/batch_size_test)\n",
        "print(\"number of batches in train data\",num_batches)\n",
        "print(\"number of batches in test data\",num_batches_test)"
      ]
    },
    {
      "cell_type": "markdown",
      "metadata": {},
      "source": [
        "## **Preprocessing**"
      ]
    },
    {
      "cell_type": "code",
      "execution_count": 43,
      "metadata": {},
      "outputs": [],
      "source": [
        "def tf_lower_and_split_punct_enc(text):\n",
        "  text = tf_text.normalize_utf8(text, 'NFKD')\n",
        "  text = tf.strings.lower(text)\n",
        "  text = tf.strings.regex_replace(text, '[^ a-z.?!,¿]', '')\n",
        "  text = tf.strings.regex_replace(text, '[.?!,¿]', r' \\0 ')\n",
        "  text = tf.strings.strip(text)\n",
        "  text = tf.strings.join(['[START]', text, '[END]'], separator=' ')\n",
        "  return text\n",
        "\n",
        "\n",
        "def tf_lower_and_split_punct_decin(text):\n",
        "  text = tf_text.normalize_utf8(text, 'NFKD')\n",
        "  text = tf.strings.lower(text)\n",
        "  text = tf.strings.regex_replace(text, '[^ a-z.?!,¿]', '')\n",
        "  text = tf.strings.regex_replace(text, '[.?!,¿]', r' \\0 ')\n",
        "  text = tf.strings.strip(text)\n",
        "  text = tf.strings.join(['[START]', text], separator=' ') \n",
        "  return text\n",
        "\n",
        "\n",
        "def tf_lower_and_split_punct_decout(text):\n",
        "  text = tf_text.normalize_utf8(text, 'NFKD')\n",
        "  text = tf.strings.lower(text)\n",
        "  text = tf.strings.regex_replace(text, '[^ a-z.?!,¿]', '')\n",
        "  text = tf.strings.regex_replace(text, '[.?!,¿]', r' \\0 ')\n",
        "  text = tf.strings.strip(text)\n",
        "  text = tf.strings.join([ text, '[END]'], separator=' ')\n",
        "  return text\n",
        "\n"
      ]
    },
    {
      "cell_type": "markdown",
      "metadata": {},
      "source": [
        "## Vectorization layer"
      ]
    },
    {
      "cell_type": "markdown",
      "metadata": {
        "id": "N4QVJNF8EGGe"
      },
      "source": [
        "- The conversion of tokens to ids"
      ]
    },
    {
      "cell_type": "code",
      "execution_count": 44,
      "metadata": {},
      "outputs": [],
      "source": [
        "enc_input_processor = tf.keras.layers.TextVectorization( max_tokens = max_vocab_size,\n",
        "                                                     standardize = tf_lower_and_split_punct_enc,\n",
        "                                                     output_sequence_length = sequence_length,  )\n",
        "dec_input_processor = tf.keras.layers.TextVectorization( max_tokens = max_vocab_size,\n",
        "                                                     standardize = tf_lower_and_split_punct_decin,\n",
        "                                                     output_sequence_length = sequence_length,  )\n",
        "\n",
        "dec_output_processor = tf.keras.layers.TextVectorization( max_tokens = max_vocab_size,\n",
        "                                                     standardize = tf_lower_and_split_punct_decout,\n",
        "                                                     output_sequence_length = sequence_length,  )"
      ]
    },
    {
      "cell_type": "code",
      "execution_count": 45,
      "metadata": {},
      "outputs": [],
      "source": [
        "enc_input_processor.set_vocabulary(['','[UNK]','[START]','[END]'] +  embedding_matrix.index_to_key )\n",
        "dec_input_processor.set_vocabulary(['','[UNK]','[START]','[END]'] +  embedding_matrix.index_to_key )\n",
        "dec_output_processor.set_vocabulary(['','[UNK]','[START]','[END]'] +  embedding_matrix.index_to_key )"
      ]
    },
    {
      "cell_type": "code",
      "execution_count": 46,
      "metadata": {},
      "outputs": [
        {
          "name": "stdout",
          "output_type": "stream",
          "text": [
            "243\n",
            "spectacular\n"
          ]
        }
      ],
      "source": [
        "print(enc_input_processor.get_vocabulary().index('come'))\n",
        "print(enc_input_processor.get_vocabulary()[3351])"
      ]
    },
    {
      "cell_type": "code",
      "execution_count": 47,
      "metadata": {},
      "outputs": [
        {
          "name": "stdout",
          "output_type": "stream",
          "text": [
            "input_text_processor vocab size : 6371\n",
            "['', '[UNK]', '[START]', '[END]', '.', 'the', ',', 'a', 'and', 'i', 'of', 'to', 'is', 'it', 'this', 'in']\n",
            "Pasta that is gluten free and made in the microwave sounds awful, but the rice pasta in the Pastariso Mac and Cheese meal cup turned out surprisingly well. I would even place it over the vegan microwave cups I've had. The texture is great and it tastes a lot like wheat pasta.Preparation is simple: a\n",
            "tf.Tensor(\n",
            "[  58   16   12  234  164    8  119   15    5  307 1085  965    6   17\n",
            "    5   81   58   15    5 1881  463    8  108  263  100  677   68  727\n",
            "   84    4    9   70  118  708   13  160    5 1959  307  322   72   64\n",
            "    4    5   89   12   63    8   13   96    7  131   23  341   58    4\n",
            "  489   12  398  126   47    6 1072    6], shape=(64,), dtype=int64)\n"
          ]
        }
      ],
      "source": [
        "# included sos, eos, unk and space \n",
        "print(\"input_text_processor vocab size :\" ,len(enc_input_processor.get_vocabulary()))\n",
        "# Here are the first 16 words from the vocabulary:\n",
        "print(enc_input_processor.get_vocabulary()[:16])\n",
        "print(df['reviewText'][0][:300])\n",
        "print(dec_output_processor(  df['reviewText'][0]))"
      ]
    },
    {
      "cell_type": "markdown",
      "metadata": {},
      "source": [
        "# **TF-IDF Matrix**"
      ]
    },
    {
      "cell_type": "code",
      "execution_count": 48,
      "metadata": {},
      "outputs": [
        {
          "name": "stdout",
          "output_type": "stream",
          "text": [
            "the length of tf-idf vocab 6365\n",
            "['', '[START]', '.', '?', ',', '!', '[END]']\n",
            "['?', '.', ',', '!']\n"
          ]
        }
      ],
      "source": [
        "with tf.device('/CPU:0'):\n",
        "\n",
        "  tfidf_calculator = tf.keras.layers.TextVectorization(\n",
        "    max_tokens  = max_vocab_size,\n",
        "    output_mode ='tf-idf',\n",
        "    pad_to_max_tokens = True  \n",
        "    )\n",
        "  tfidf_calculator.adapt(enc_input_processor.get_vocabulary()[:] )\n",
        "  print(\"the length of tf-idf vocab\",len(tfidf_calculator.get_vocabulary()))\n",
        "  print( list(set(enc_input_processor.get_vocabulary())-set(tfidf_calculator.get_vocabulary()))[:9])\n",
        "  print( list(set(embedding_matrix.index_to_key)-set(tfidf_calculator.get_vocabulary()))[:9])\n"
      ]
    },
    {
      "cell_type": "code",
      "execution_count": 49,
      "metadata": {},
      "outputs": [],
      "source": [
        "# with tf.device('/CPU:0'):\n",
        "\n",
        "#     user_tfidf = list( map(tfidf_calculator, user_corpus))\n",
        "#     item_tfidf = list( map(tfidf_calculator, item_corpus))\n"
      ]
    },
    {
      "cell_type": "markdown",
      "metadata": {},
      "source": [
        "# **Forming Dataset**"
      ]
    },
    {
      "cell_type": "code",
      "execution_count": 50,
      "metadata": {},
      "outputs": [],
      "source": [
        "# convert string id to int id\n",
        "user_to_row = {}\n",
        "item_to_column = {}\n",
        "\n",
        "for i, user_id in enumerate(np.unique(df['userID'])):\n",
        "    user_to_row[user_id] = i\n",
        "\n",
        "for j, item_id in enumerate(np.unique(df['itemID'].tolist())):\n",
        "    item_to_column[item_id] = j"
      ]
    },
    {
      "cell_type": "code",
      "execution_count": 51,
      "metadata": {},
      "outputs": [],
      "source": [
        "train_ds_seq = tf.data.Dataset.from_tensor_slices(\n",
        "    (\n",
        "       [user_to_row[dp] for dp in df['userID']],\n",
        "       [item_to_column[dp] for dp in df['itemID']],\n",
        "       tf.cast(dec_input_processor(df['reviewText']),dtype=tf.int32),\n",
        "       tf.cast(dec_output_processor(df['reviewText']),dtype=tf.int32)       \n",
        "    )\n",
        ").shuffle(131072).batch(batch_size,drop_remainder=True)\n",
        "# test_ds_seq = tf.data.Dataset.from_tensor_slices(\n",
        "#     (\n",
        "#       [user_to_row[dp] for dp in test_df['userID']],\n",
        "#       [item_to_column[dp] for dp in test_df['itemID']],\n",
        "#       tf.cast(dec_input_processor(test_df['reviewText']),dtype=tf.int32),\n",
        "#       tf.cast(dec_output_processor(test_df['reviewText']),dtype=tf.int32)         \n",
        "#     )\n",
        "# ).shuffle(16384).batch(batch_size_test,drop_remainder=True)\n",
        "\n",
        "train_ds_pmf = tf.data.Dataset.from_tensor_slices(\n",
        "    (\n",
        "       [user_to_row[dp] for dp in train_df['userID']],\n",
        "       [item_to_column[dp] for dp in train_df['itemID']],\n",
        "       tf.cast(train_df['rating'],dtype=tf.float16)\n",
        "    )\n",
        ").shuffle(131072).batch(1024)\n",
        "test_ds_pmf = tf.data.Dataset.from_tensor_slices(\n",
        "    (\n",
        "      [user_to_row[dp] for dp in test_df['userID']],\n",
        "      [item_to_column[dp] for dp in test_df['itemID']],\n",
        "      tf.cast(test_df['rating'],dtype=tf.float16)\n",
        "    )\n",
        ").shuffle(16384).batch(64)"
      ]
    },
    {
      "cell_type": "code",
      "execution_count": 52,
      "metadata": {},
      "outputs": [
        {
          "name": "stdout",
          "output_type": "stream",
          "text": [
            "train and test data number :  1795  ,  199\n"
          ]
        }
      ],
      "source": [
        "train_data_num=train_df.shape[0]\n",
        "test_data_num=test_df.shape[0]\n",
        "print(\"train and test data number : \",train_data_num,\" , \",test_data_num)"
      ]
    },
    {
      "cell_type": "markdown",
      "metadata": {
        "id": "cV4PGxjttli6"
      },
      "source": [
        "# **User and Item Documents**"
      ]
    },
    {
      "cell_type": "markdown",
      "metadata": {
        "id": "6BwcnBKDxVMk"
      },
      "source": [
        "**User Documents**"
      ]
    },
    {
      "cell_type": "code",
      "execution_count": 53,
      "metadata": {},
      "outputs": [],
      "source": [
        "user_doc = list( map(enc_input_processor,[doc[:document_length] for doc in user_df['reviewText']]))"
      ]
    },
    {
      "cell_type": "markdown",
      "metadata": {
        "id": "SWDCul-D_N99"
      },
      "source": [
        "**Item Documents**"
      ]
    },
    {
      "cell_type": "code",
      "execution_count": 54,
      "metadata": {
        "id": "phoN10nsXZGc"
      },
      "outputs": [],
      "source": [
        "item_doc = list( map(enc_input_processor,[doc[:document_length] for doc in item_df['reviewText']]))"
      ]
    },
    {
      "cell_type": "code",
      "execution_count": 55,
      "metadata": {
        "id": "1G79SrZySBqJ"
      },
      "outputs": [
        {
          "data": {
            "text/plain": [
              "Text(0.5, 1.0, 'Mask')"
            ]
          },
          "execution_count": 55,
          "metadata": {},
          "output_type": "execute_result"
        },
        {
          "data": {
            "image/png": "[encoded data removed]",
            "text/plain": [
              "<Figure size 432x288 with 2 Axes>"
            ]
          },
          "metadata": {
            "needs_background": "light"
          },
          "output_type": "display_data"
        }
      ],
      "source": [
        "plt.subplot(1, 2, 1)\n",
        "plt.pcolormesh(item_doc[0])\n",
        "plt.title('Token IDs')\n",
        "\n",
        "plt.subplot(1, 2, 2)\n",
        "plt.pcolormesh(item_doc[0] != 0)\n",
        "plt.title('Mask')"
      ]
    },
    {
      "cell_type": "markdown",
      "metadata": {
        "id": "UbR2h5ML5h70"
      },
      "source": [
        "### Converting ID to Vector"
      ]
    },
    {
      "cell_type": "code",
      "execution_count": 56,
      "metadata": {},
      "outputs": [
        {
          "data": {
            "text/plain": [
              "\"If you're looking for a tasty green tea, you might enjoy this Bigelow green tea with lemon.  I love the flavor of lemon in tea.  This has a light, pleasant lemony flavor which isn't overpowering. The tea is a wonderful afternoon or evening treat.  Green tea alone to me tastes the way hay smells--excuse me, we used to have a horse form and when I drink plain green tea I feel like I'm drinking horses brew.But this tea tastes like lemon and is delightful.  I was never a tea drinker but wanted to add green tea to all the other nutritious foods I'm eating and this is my favorite so far.  I want to try the decaf version of this green tea with lemon, also.Each tea bag comes individually wrapped with a string so the bag is easy for dipping. If you like lemon flavored tea, you should enjoy this version of it.\""
            ]
          },
          "execution_count": 56,
          "metadata": {},
          "output_type": "execute_result"
        }
      ],
      "source": [
        "user_df['reviewText'][0][0]"
      ]
    },
    {
      "cell_type": "code",
      "execution_count": 57,
      "metadata": {},
      "outputs": [
        {
          "data": {
            "text/plain": [
              "'[START] if youre looking for a tasty green tea , you might enjoy this bigelow green tea with lemon . i love the flavor of lemon in tea . this has a light , pleasant lemony flavor which isnt overpowering . the tea is a wonderful afternoon or evening treat . green tea alone to me tastes the way hay smellsexcuse me , we'"
            ]
          },
          "execution_count": 57,
          "metadata": {},
          "output_type": "execute_result"
        }
      ],
      "source": [
        "input_vocab = enc_input_processor.get_vocabulary()\n",
        "\" \".join([input_vocab[id] for id in user_doc[0][0]])\n"
      ]
    },
    {
      "cell_type": "markdown",
      "metadata": {},
      "source": [
        "# **Metrics**"
      ]
    },
    {
      "cell_type": "code",
      "execution_count": 84,
      "metadata": {},
      "outputs": [],
      "source": [
        "# log files for training and test\n",
        "train_log_dir = 'logs/gradient_tape/'  + '/train'\n",
        "train_summary_writer = tf.summary.create_file_writer(train_log_dir)\n",
        "adv_train_log_dir = 'logs/gradient_tape/'  + '/adv_train'\n",
        "adv_train_summary_writer = tf.summary.create_file_writer(adv_train_log_dir)\n",
        "test_log_dir = 'logs/gradient_tape/'  + '/test'\n",
        "test_summary_writer = tf.summary.create_file_writer(test_log_dir)\n",
        "graph_log_dir = 'logs/graph/'  \n",
        "graph_summary_writer = tf.summary.create_file_writer(graph_log_dir)"
      ]
    },
    {
      "cell_type": "code",
      "execution_count": 85,
      "metadata": {},
      "outputs": [],
      "source": [
        "class PerplexityMetric(tf.keras.metrics.Metric):\n",
        "    def __init__(self,name='perplexity',**kwargs):\n",
        "        super().__init__(name=name, **kwargs)\n",
        "        self.perplexity=self.add_weight(name='pl',initializer='zeros')\n",
        "\n",
        "    def update_state(self, nll_loss):\n",
        "        self.perplexity= 2 ** nll_loss\n",
        "\n",
        "    def result(self):\n",
        "        return self.perplexity\n",
        "\n",
        "        \n",
        "class MSE(tf.keras.metrics.Metric):\n",
        "    def __init__(self,name='MSE',**kwargs):\n",
        "        super().__init__(name=name, **kwargs)\n",
        "        self.mse=self.add_weight(name='mse',initializer='zeros')\n",
        "\n",
        "    def update_state(self,mse):\n",
        "        self.mse =  mse\n",
        "\n",
        "    def result(self):\n",
        "        return self.mse\n"
      ]
    },
    {
      "cell_type": "code",
      "execution_count": 86,
      "metadata": {},
      "outputs": [],
      "source": [
        "\n",
        "train_plx_gen_tch = PerplexityMetric(name='train teacher forcing perplexity')  # teacher forcing mode\n",
        "train_plx_gen_plc = PerplexityMetric(name='train policy gradient perplexity')  # policy gradient mode\n",
        "test_plx_gen = PerplexityMetric(name='test perplexity')  \n",
        "train_acc_dis = tf.keras.metrics.BinaryAccuracy(threshold=0.5)\n",
        "train_mse = MSE(name='trian mse')\n",
        "test_mse = MSE(name='test mse')"
      ]
    },
    {
      "cell_type": "markdown",
      "metadata": {},
      "source": [
        "# **Context-aware Matrix Factorization for Rating Prediction**"
      ]
    },
    {
      "cell_type": "code",
      "execution_count": 87,
      "metadata": {},
      "outputs": [],
      "source": [
        "#hyperparameters\n",
        "num_users=len(user_to_row)\n",
        "num_items=len(item_to_column)\n",
        "mean_inv = np.float32( train_df['rating'].mean())\n",
        "\n"
      ]
    },
    {
      "cell_type": "code",
      "execution_count": 88,
      "metadata": {},
      "outputs": [],
      "source": [
        "# hyperparameters\n",
        "feature_num=128 # number of topics\n",
        "units=int(feature_num/2 )# gru units"
      ]
    },
    {
      "cell_type": "code",
      "execution_count": 89,
      "metadata": {},
      "outputs": [],
      "source": [
        "# del df\n",
        "# del user_df\n",
        "# del item_df\n",
        "# del user_corpus[:]\n",
        "# del item_corpus[:]\n",
        "# del train_df\n",
        "# del test_df\n",
        "\n",
        "# gc.collect()\n",
        "# gc.collect(0)\n",
        "# gc.collect(1)\n",
        "# gc.collect(2)"
      ]
    },
    {
      "cell_type": "markdown",
      "metadata": {
        "id": "6uKWBtzhmMA5"
      },
      "source": [
        "## **PMF (Probabilistic Matrix Factorization)**"
      ]
    },
    {
      "cell_type": "code",
      "execution_count": 90,
      "metadata": {
        "id": "5JAoyyjOnJis"
      },
      "outputs": [],
      "source": [
        "class PMF():\n",
        "    def __init__(self, num_feat=16, epsilon=1, _lambda=0.2, momentum=0.8,  batch_size=1024,num_item=9000,num_user=15000,mean_inv=3.00000):\n",
        "        self.num_feat = num_feat  # Number of latent features,\n",
        "        self.epsilon = epsilon  # learning rate,\n",
        "        self._lambda = _lambda  # L2 regularization,\n",
        "        self.momentum = momentum  # momentum of the gradient,\n",
        "        self.batch_size = batch_size  # Number of training samples used in each batches (for SGD optimization)\n",
        "        self.num_item=num_item\n",
        "        self.num_user=num_user\n",
        "        self.V =  0.1 * np.random.randn(self.num_item, self.num_feat).astype(np.float64)  # Item feature vectors\n",
        "        self.U =  0.1 * np.random.randn(self.num_user, self.num_feat).astype(np.float64)  # User feature vectors\n",
        "        self.V_inc = np.zeros((self.num_item, self.num_feat),dtype=np.float64)\n",
        "        self.U_inc = np.zeros((self.num_user, self.num_feat),dtype=np.float64)\n",
        "        self.mean_inv= mean_inv  \n",
        "        \n",
        "        self.user_textual_features = np.zeros(shape=(num_users, feature_num),dtype=np.float32 )\n",
        "        self.item_textual_features =  np.zeros(shape=(num_items, feature_num),dtype=np.float32)\n",
        "        self.user_recommender_features =  np.zeros(shape=(num_users, feature_num),dtype=np.float64)\n",
        "        self.item_recommender_features =  np.zeros(shape=(num_items, feature_num),dtype=np.float64)\n",
        "    \n",
        "    def update_textual_features(self, user_textual_features , item_textual_features ):\n",
        "        self.user_textual_features = user_textual_features\n",
        "        self.item_textual_features = item_textual_features \n",
        "\n",
        "\n",
        "\n",
        "    def train(self):\n",
        "            \n",
        "            for batch_UserID,batch_ItemID, batch_rating  in train_ds_pmf:\n",
        "                  \n",
        "                # Compute Objective Function             \n",
        "                pred_out = np.sum(np.multiply(self.U[batch_UserID, :],\n",
        "                                              self.V[batch_ItemID, :]),\n",
        "                                  axis=1)  # mean_inv subtracted # np.multiply\n",
        "                \n",
        "                rawErr = pred_out - batch_rating.numpy() + self.mean_inv\n",
        "\n",
        "                # Compute gradients\n",
        "                Ix_User = 2 * np.multiply(rawErr[:, np.newaxis], self.V[batch_ItemID, :]) \\\n",
        "                       + self._lambda * (self.U[batch_UserID, :] - self.user_textual_features[batch_UserID,:] )\n",
        "                Ix_Item = 2 * np.multiply(rawErr[:, np.newaxis], self.U[batch_UserID, :]) \\\n",
        "                       + self._lambda * (self.V[batch_ItemID, :] - self.item_textual_features[batch_ItemID,:] ) \n",
        "                       # np.newaxis :increase the dimension\n",
        "               \n",
        "                dw_Item = np.zeros((self.num_item, self.num_feat))\n",
        "                dw_User = np.zeros((self.num_user, self.num_feat))\n",
        "                \n",
        "                # loop to aggreate the gradients of the same element\n",
        "                for i in range(batch_UserID.shape[0]):\n",
        "                    dw_Item[batch_ItemID[i], :] += Ix_Item[i, :]\n",
        "                    dw_User[batch_UserID[i], :] += Ix_User[i, :]\n",
        "\n",
        "                # Update with momentum\n",
        "              \n",
        "                self.V_inc = self.momentum * self.V_inc + self.epsilon * dw_Item / self.batch_size\n",
        "                self.U_inc = self.momentum * self.U_inc + self.epsilon * dw_User / self.batch_size\n",
        "                \n",
        "                self.V = self.V - self.V_inc\n",
        "                self.U = self.U - self.U_inc\n",
        "            \n",
        "                # Compute Objective Function after\n",
        "            self.evaluate()\n",
        "\n",
        "            return  tf.Variable(self.U) , tf.Variable(self.V)\n",
        "    \n",
        "    def evaluate(self):\n",
        "            rawErr= []\n",
        "            for batch_UserID,batch_ItemID, batch_rating  in train_ds_pmf:\n",
        "                        \n",
        "                pred_out = np.sum(np.multiply(self.U[batch_UserID, :],\n",
        "                                        self.V[batch_ItemID, :]),\n",
        "                                axis=1)  # mean_inv subtracted\n",
        "                rawErr.append(pred_out - batch_rating.numpy() + self.mean_inv)\n",
        "\n",
        "            obj = np.linalg.norm([item for sublist in rawErr for item in sublist]) ** 2 \n",
        "                   # + 0.5 * self._lambda * (np.linalg.norm(self.U - self.user_textual_features) ** 2 + np.linalg.norm(self.V - self.item_textual_features) ** 2)\n",
        "\n",
        "            train_mse.update_state(obj / train_data_num)\n",
        "           # Compute test error\n",
        "            rawErr= []\n",
        "            for batch_UserID,batch_ItemID, batch_rating  in test_ds_pmf:\n",
        "                pred_out = np.sum(np.multiply(self.U[batch_UserID, :],\n",
        "                                        self.V[batch_ItemID, :]),\n",
        "                                axis=1)  # mean_inv subtracted\n",
        "\n",
        "                rawErr.append(pred_out - batch_rating.numpy() + self.mean_inv)\n",
        "\n",
        "            test_mse.update_state(np.linalg.norm([item for sublist in rawErr for item in sublist])**2 / test_data_num)\n",
        "            # Print info\n",
        "            print('\\nTraining mse: %f, Test mse %f' % (self.mse_train[-1], self.mse_test[-1]))\n",
        "\n"
      ]
    },
    {
      "cell_type": "markdown",
      "metadata": {
        "id": "f0y4xKXSRYU-"
      },
      "source": [
        "# **Adversarial Seq2Seq Learning**"
      ]
    },
    {
      "cell_type": "markdown",
      "metadata": {},
      "source": [
        "## **Recurrent Review Generator**"
      ]
    },
    {
      "cell_type": "markdown",
      "metadata": {},
      "source": [
        "- it consists of two encoders and one decoder"
      ]
    },
    {
      "cell_type": "markdown",
      "metadata": {
        "id": "o8UVYfYjX9YW"
      },
      "source": [
        "### **Encoder**"
      ]
    },
    {
      "cell_type": "code",
      "execution_count": 91,
      "metadata": {
        "id": "TwRd0VNHkMf0"
      },
      "outputs": [],
      "source": [
        "class Encoder(tf.keras.layers.Layer):\n",
        "  def __init__(self,vocab_size, embedding_dim, enc_units):\n",
        "    super().__init__()\n",
        "    self.enc_units = enc_units\n",
        "    self.embedding_dim=embedding_dim\n",
        "    self.vocab_size = vocab_size\n",
        "    \n",
        "    self.embedding = tf.keras.layers.Embedding( self.vocab_size, self.embedding_dim, embeddings_initializer=keras.initializers.Constant(full_embedding_matrix),trainable=False)\n",
        "    self.gru= tf.keras.layers.Bidirectional(tf.keras.layers.GRU(  self.enc_units,return_state=True,  recurrent_initializer='glorot_uniform' ))\n",
        "\n",
        "\n",
        "  def call(self, reviews, state=None):\n",
        "    vectors = self.embedding(reviews)\n",
        "    _,encoder_forward_state,encoder_backward_state  = self.gru(vectors, initial_state=state)\n",
        " \n",
        "    return  tf.concat([ encoder_forward_state, encoder_backward_state],-1)\n",
        "\n",
        "    "
      ]
    },
    {
      "cell_type": "markdown",
      "metadata": {},
      "source": [
        "### **Decoder (Generator)**"
      ]
    },
    {
      "cell_type": "code",
      "execution_count": 92,
      "metadata": {
        "id": "skIgKP4iCABs"
      },
      "outputs": [],
      "source": [
        "class Decoder(tf.keras.layers.Layer):\n",
        "  def __init__(self,vocab_size, embedding_dim, dec_units):\n",
        "    super().__init__()\n",
        "    self.dec_units = dec_units\n",
        "    self.embedding_dim = embedding_dim\n",
        "    self.vocab_size = vocab_size\n",
        "    \n",
        "    self.embedding = tf.keras.layers.Embedding(self.vocab_size, self.embedding_dim,embeddings_initializer=keras.initializers.Constant(full_embedding_matrix), trainable=False)\n",
        "    self.gru=tf.keras.layers.GRU( self.dec_units , return_state=True,return_sequences=True)\n",
        "    self.fc = tf.keras.layers.Dense(self.vocab_size, use_bias=False)\n",
        "    self.sf=tf.keras.layers.Activation('softmax')\n",
        "\n",
        "  def call(self, decoder_input, context_vector,state=None):\n",
        "\n",
        "     embedded_input = self.embedding(decoder_input)\n",
        "     joint_input_context = tf.concat([embedded_input, tf.tile(tf.expand_dims(context_vector,1),[1,embedded_input.shape[1],1])],2 )\n",
        "     outputs,dec_state = self.gru(joint_input_context, initial_state=state)\n",
        "     logits = self.fc( outputs)\n",
        "     prob_dist = self.sf(logits)\n",
        "\n",
        "     return prob_dist,dec_state\n"
      ]
    },
    {
      "cell_type": "code",
      "execution_count": 93,
      "metadata": {
        "id": "DyhJk5pGKW_N"
      },
      "outputs": [],
      "source": [
        "class GeneratorLoss(tf.keras.losses.Loss):\n",
        "  def __init__(self,vocab_size):\n",
        "    self.name = 'masked_loss'\n",
        "    self.vocab_size=vocab_size\n",
        "    self.scce = tf.keras.losses.SparseCategoricalCrossentropy(reduction='none')\n",
        "\n",
        "  def __call__(self, y_true, y_pred):\n",
        "    # Calculating the loss for a batch of reviews.\n",
        "\n",
        "    loss = self.scce(y_true,y_pred)\n",
        "    mask = tf.cast(y_true != 0, loss.dtype)\n",
        "    loss*=  mask\n",
        "    return tf.reduce_sum(loss) / tf.reduce_sum(mask)"
      ]
    },
    {
      "cell_type": "markdown",
      "metadata": {
        "id": "4v_zte_RHR5a"
      },
      "source": [
        "## **Discriminator**"
      ]
    },
    {
      "cell_type": "code",
      "execution_count": 94,
      "metadata": {
        "id": "84ZgGwB9HXi5"
      },
      "outputs": [],
      "source": [
        "class Discriminator(tf.keras.Model):\n",
        "    def __init__( self, sequence_length, vocab_size, embedding_dim, filter_sizes, num_filters):\n",
        "      super().__init__()\n",
        "      self.sequence_length=sequence_length\n",
        "      self.vocab_size=vocab_size\n",
        "      self.embedding_dim=embedding_dim\n",
        "      self.filter_sizes=filter_sizes\n",
        "      self.num_filters= num_filters\n",
        "      self.dis_dropout_keep_prob = 0.75\n",
        "\n",
        "      self.embedding = tf.keras.layers.Embedding(self.vocab_size, self.embedding_dim,weights=[full_embedding_matrix],name=\"discriminator_embedding\",trainable=False)\n",
        "     \n",
        "      self.conv_unigram= tf.keras.layers.Conv1D(self.num_filters, filter_sizes[0], activation=\"tanh\",name=\"conv_unigram\")\n",
        "      self.conv_bigram= tf.keras.layers.Conv1D(self.num_filters, filter_sizes[1],activation=\"tanh\",name=\"conv_bigram\")\n",
        "      self.conv_trigram= tf.keras.layers.Conv1D(self.num_filters, filter_sizes[2],activation=\"tanh\",name=\"conv_trigram\")\n",
        "      self.conv_fourgram= tf.keras.layers.Conv1D(self.num_filters, filter_sizes[3],activation=\"tanh\",name=\"conv_fourgram\")\n",
        "      self.conv_fivegram= tf.keras.layers.Conv1D(self.num_filters, filter_sizes[4],activation=\"tanh\",name=\"conv_fivegram\")\n",
        "\n",
        "      self.gmp_unigram = tf.keras.layers.GlobalMaxPooling1D(name=\"gmp_unigram\")\n",
        "      self.gmp_bigram = tf.keras.layers.GlobalMaxPooling1D(name=\"gmp_bigram\")\n",
        "      self.gmp_trigram = tf.keras.layers.GlobalMaxPooling1D(name=\"gmp_trigram\")\n",
        "      self.gmp_fourgram = tf.keras.layers.GlobalMaxPooling1D(name=\"gmp_fourgram\")\n",
        "      self.gmp_fivegram = tf.keras.layers.GlobalMaxPooling1D(name=\"gmp_fivegram\")\n",
        "\n",
        "      self.dropout=tf.keras.layers.Dropout(self.dis_dropout_keep_prob,name=\"dropout\")\n",
        "      self.fc=tf.keras.layers.Dense(1,activation=\"sigmoid\",use_bias= True)\n",
        "\n",
        "\n",
        "    def get_reward(self, discriminator_inputs , context_vector,training=False ):\n",
        "      \n",
        "      embedded_input= self.embedding(discriminator_inputs)\n",
        "      joint_input_context =tf.concat([embedded_input, tf.tile(tf.expand_dims(context_vector,1),[1,embedded_input.shape[1],1])],2 )\n",
        "\n",
        "      cv_unigram=self.conv_unigram(joint_input_context)\n",
        "      cv_bigram=self.conv_bigram(joint_input_context)\n",
        "      cv_trigram=self.conv_trigram(joint_input_context)\n",
        "      cv_fourgram=self.conv_fourgram(joint_input_context)\n",
        "      cv_fivegram=self.conv_fivegram(joint_input_context)\n",
        "\n",
        "      gmp_unigram = self.gmp_unigram(cv_unigram)\n",
        "      gmp_bigram = self.gmp_bigram(cv_bigram)\n",
        "      gmp_trigram =  self.gmp_trigram(cv_trigram)\n",
        "      gmp_fourgram = self.gmp_fourgram(cv_fourgram)\n",
        "      gmp_fivegram = self.gmp_fivegram(cv_fivegram)\n",
        "    \n",
        "      gmp_overal = tf.concat([gmp_unigram,gmp_bigram,gmp_trigram,gmp_fourgram,gmp_fivegram],1)\n",
        "      \n",
        "      if training:\n",
        "        dropout = self.dropout(gmp_overal,training=training)\n",
        "        ath= self.fc(dropout)\n",
        "        gc.collect()\n",
        "        return ath[:,0],self.fc.weights[0][:,0],self.fc.bias\n",
        "      else:\n",
        "        ath= self.fc(gmp_overal)\n",
        "        gc.collect()\n",
        "        return ath[:,0]\n",
        "\n"
      ]
    },
    {
      "cell_type": "code",
      "execution_count": 95,
      "metadata": {
        "id": "FCRHY3LgfD2_"
      },
      "outputs": [],
      "source": [
        "class DiscriminatorLoss(tf.keras.losses.Loss):\n",
        "  def __init__(self):\n",
        "    self.name = 'cross-entropy_loss'\n",
        "    self.bce = tf.keras.losses.BinaryCrossentropy( reduction='none')\n",
        "\n",
        "  def __call__(self, y_true, y_pred):\n",
        "\n",
        "    loss = self.bce(y_true, y_pred)\n",
        "    return loss"
      ]
    },
    {
      "cell_type": "markdown",
      "metadata": {},
      "source": [
        "## **Seq2Seq Model**"
      ]
    },
    {
      "cell_type": "code",
      "execution_count": 96,
      "metadata": {
        "id": "MB7HymOiTfdl"
      },
      "outputs": [],
      "source": [
        "class MaskedLossReward(tf.keras.losses.Loss):\n",
        "  def __init__(self,vocab_size):\n",
        "    self.name = 'masked_loss_reward'\n",
        "    self.vocab_size=vocab_size\n",
        "    self.scce = tf.keras.losses.SparseCategoricalCrossentropy(reduction='none')\n",
        "\n",
        "  def __call__(self, y_true, y_pred,reward):\n",
        "    # Calculate the loss for each step.\n",
        "\n",
        "    loss = self.scce(y_true,y_pred)\n",
        "    mask = tf.cast(y_true != 0, loss.dtype)\n",
        "    loss*=  mask\n",
        "    loss *= reward\n",
        "    return tf.reduce_sum(loss) / tf.reduce_sum(mask)"
      ]
    },
    {
      "cell_type": "code",
      "execution_count": 97,
      "metadata": {
        "id": "Z3NlswFZRbub"
      },
      "outputs": [],
      "source": [
        "class Seq2Seq(tf.keras.Model): \n",
        "    def __init__(self,num_topic,num_item ,num_user, units ,embedding_dim,vocab_size ,sequence_length, num_batches,num_batches_test, batch_size, use_tf_function=False):\n",
        "        super().__init__()\n",
        "        self.use_tf_function = use_tf_function\n",
        "        self.num_batches_test = num_batches_test\n",
        "        self.num_batches = num_batches # train batch number\n",
        "        self.batch_size = batch_size\n",
        "        self.num_topic = num_topic\n",
        "        self.embedding_dim = embedding_dim\n",
        "        self.units = units\n",
        "        self.vocab_size = vocab_size\n",
        "        self.sequence_length = sequence_length\n",
        "        self.num_item = num_item\n",
        "        self.num_user = num_user\n",
        "        self.alpha = 10.0\n",
        "        self.disc_l2_reg_lambda = 0.2\n",
        "        self.user_encoder = Encoder(vocab_size= self.vocab_size,  embedding_dim= self.embedding_dim, enc_units= self.units)\n",
        "        self.item_encoder = Encoder(vocab_size= self.vocab_size,  embedding_dim= self.embedding_dim, enc_units= self.units)\n",
        "        self.decoder = Decoder(vocab_size= self.vocab_size,  embedding_dim= self.embedding_dim, dec_units= 4 * self.units) #generator\n",
        "        self.discriminator = Discriminator(sequence_length= self.sequence_length, vocab_size= self.vocab_size,embedding_dim= self.embedding_dim, filter_sizes= [1, 2, 3 ,4, 5] ,num_filters=128)\n",
        "      \n",
        "        self.loss_gn = GeneratorLoss(vocab_size=self.vocab_size)\n",
        "        self.loss_ds = DiscriminatorLoss()\n",
        "        self.loss_fn = MaskedLossReward(vocab_size=self.vocab_size) # generator loss with reward\n",
        "\n",
        "        self.optimizer_gn = tf.optimizers.Adam(1e-4)\n",
        "        self.optimizer_ds = tf.optimizers.Adam(1e-4)\n",
        "\n",
        "        self.user_textual_features = np.zeros(shape=(num_users, feature_num),dtype=np.float32 )\n",
        "        self.item_textual_features =  np.zeros(shape=(num_items, feature_num),dtype=np.float32)\n",
        "        self.user_recommender_features =  np.zeros(shape=(num_users, feature_num),dtype=np.float64)\n",
        "        self.item_recommender_features =  np.zeros(shape=(num_items, feature_num),dtype=np.float64)\n",
        "    \n",
        "    \n",
        "    def update_recommender_features(self,user_recommender_features , item_recommender_features):\n",
        "         self.user_recommender_features = user_recommender_features\n",
        "         self.item_recommender_features = item_recommender_features\n",
        "\n",
        "    def generate_textual_features(self):\n",
        "            \n",
        "          for start_index in range(0, self.num_user, self.batch_size):\n",
        "            end_index = min(start_index + self.batch_size, self.num_user)                           \n",
        "            batch_userID = np.arange(start_index, end_index)\n",
        "\n",
        "            # fetch a batch of user doc\n",
        "            batch_userdoc_flattend=[]\n",
        "            userdoc_slice_idx=[0]\n",
        "            for doc_id in batch_userID:\n",
        "              userdoc_slice_idx.append(userdoc_slice_idx[-1] + user_doc[doc_id].shape[0])\n",
        "              batch_userdoc_flattend = np.append(batch_userdoc_flattend,user_doc[doc_id])\n",
        "            batch_userdoc = tf.reshape(tf.convert_to_tensor( batch_userdoc_flattend,dtype=tf.int32),[userdoc_slice_idx[-1],self.sequence_length])\n",
        "\n",
        "            user_enc_state = self.user_encoder(batch_userdoc) # user vector representations      \n",
        "            user_context_vector = tf.stack([ tf.reduce_mean(user_enc_state[ userdoc_slice_idx[sl_num] : userdoc_slice_idx[sl_num+1] ],0) for  sl_num in range(len(batch_userID))])\n",
        "            \n",
        "            self.user_textual_features[batch_userID]=user_context_vector.numpy()\n",
        "            \n",
        "          for start_index in range(0, self.num_item, self.batch_size):\n",
        "            end_index = min(start_index + self.batch_size, self.num_item)                           \n",
        "            batch_itemID = np.arange(start_index, end_index)\n",
        "\n",
        "            # fetch a batch of item doc\n",
        "            batch_itemdoc_flattend=[]\n",
        "            itemdoc_slice_idx=[0]\n",
        "            for doc_id in batch_itemID:\n",
        "              itemdoc_slice_idx.append(itemdoc_slice_idx[-1] + item_doc[doc_id].shape[0])\n",
        "              batch_itemdoc_flattend = np.append(batch_itemdoc_flattend,item_doc[doc_id])\n",
        "            batch_itemdoc = tf.reshape(tf.convert_to_tensor( batch_itemdoc_flattend,dtype=tf.int32),[itemdoc_slice_idx[-1],self.sequence_length])\n",
        "            \n",
        "            item_enc_state = self.item_encoder(batch_itemdoc) # item vector representations\n",
        "            item_context_vector = tf.stack([ tf.reduce_mean(item_enc_state[ itemdoc_slice_idx[sl_num] : itemdoc_slice_idx[sl_num+1] ],0) for  sl_num in range(len(batch_itemID))])\n",
        "            \n",
        "            self.item_textual_features[batch_itemID]=item_context_vector.numpy()\n",
        "           \n",
        "            return tf.Variable(self.user_textual_features) , tf.Variable(self.item_textual_features)\n",
        "\n",
        "\n",
        "\n",
        "    def teacher_forcing_train(self,num_steps=1):\n",
        "          total_gen_loss=0\n",
        "          for t_step in range(num_steps):\n",
        " \n",
        "            (batch_userID,batch_itemID ,batch_review_in,batch_review_out) = next(iter(train_ds_seq))\n",
        "            # fetch a batch of user doc\n",
        "            batch_userdoc_flattend=[]\n",
        "            userdoc_slice_idx=[0]\n",
        "            for doc_id in batch_userID:\n",
        "              userdoc_slice_idx.append(userdoc_slice_idx[-1] + user_doc[doc_id].shape[0])\n",
        "              batch_userdoc_flattend = np.append(batch_userdoc_flattend,user_doc[doc_id])\n",
        "            batch_userdoc = tf.reshape(tf.convert_to_tensor( batch_userdoc_flattend,dtype=tf.int32),[userdoc_slice_idx[-1],self.sequence_length])\n",
        "\n",
        "            # fetch a batch of item doc\n",
        "            batch_itemdoc_flattend=[]\n",
        "            itemdoc_slice_idx=[0]\n",
        "            for doc_id in batch_itemID:\n",
        "              itemdoc_slice_idx.append(itemdoc_slice_idx[-1] + item_doc[doc_id].shape[0])\n",
        "              batch_itemdoc_flattend = np.append(batch_itemdoc_flattend,item_doc[doc_id])\n",
        "            batch_itemdoc = tf.reshape(tf.convert_to_tensor( batch_itemdoc_flattend,dtype=tf.int32),[itemdoc_slice_idx[-1],self.sequence_length])\n",
        "            \n",
        "            with tf.GradientTape() as tape1 , tf.GradientTape() as tape2:\n",
        "              tape1.watch(self.user_encoder.trainable_variables + self.item_encoder.trainable_variables)\n",
        "              tape2.watch(self.decoder.trainable_variables)\n",
        "              \n",
        "              user_enc_state = self.user_encoder(batch_userdoc) # user vector representations      \n",
        "              item_enc_state = self.item_encoder(batch_itemdoc) # item vector representations\n",
        "                \n",
        "              user_context_vector = tf.stack([ tf.reduce_mean(user_enc_state[ userdoc_slice_idx[sl_num] : userdoc_slice_idx[sl_num+1] ],0) for  sl_num in range(self.batch_size)])\n",
        "              item_context_vector = tf.stack([ tf.reduce_mean(item_enc_state[ itemdoc_slice_idx[sl_num] : itemdoc_slice_idx[sl_num+1] ],0) for  sl_num in range(self.batch_size)])\n",
        "              context_vector = tf.concat( [user_context_vector,item_context_vector],1)\n",
        "                           \n",
        "              # regularization \n",
        "              user_regularization_loss= (np.linalg.norm( self.user_recommender_features[batch_userID.numpy()] - user_context_vector.numpy()) ** 2) /  user_context_vector.shape[0] \n",
        "              item_regularization_loss= (np.linalg.norm( self.item_recommender_features[batch_itemID.numpy()] - item_context_vector.numpy()) ** 2) /  item_context_vector.shape[0] \n",
        "              \n",
        "              regularization_loss = tf.constant( self.alpha * (user_regularization_loss + item_regularization_loss) )\n",
        "              dec_pred, _ = self.decoder( batch_review_in , context_vector)             \n",
        "              gen_loss = self.loss_gn(batch_review_out , dec_pred)\n",
        "           \n",
        "            grad_enc = tape1.gradient([gen_loss,regularization_loss],self.user_encoder.trainable_variables + self.item_encoder.trainable_variables )\n",
        "            grad_dec = tape2.gradient(gen_loss,self.decoder.trainable_variables )\n",
        "\n",
        "            self.optimizer_gn.apply_gradients(zip(grad_enc+grad_dec, self.user_encoder.trainable_variables + self.item_encoder.trainable_variables+self.decoder.trainable_variables ))                 \n",
        "            \n",
        "            total_gen_loss += gen_loss\n",
        "            # total_regularization_loss += regularization_loss\n",
        "            if t_step % 10 == 0:\n",
        "              print(\"batch number: \",t_step,\"\\tgen loss: \", gen_loss.numpy())\n",
        "    \n",
        "          train_plx_gen_tch.update_state(total_gen_loss / num_steps)\n",
        "\n",
        "    def test(self,num_steps):\n",
        "        total_loss=0\n",
        "        for step in range(num_steps):\n",
        "            #(batch_userID,batch_itemID ,_,_) = next(iter(test_ds_seq))\n",
        "            batch_userID = np.random.choice(range(0,self.num_user),self.batch_size).astype('int32')\n",
        "            batch_itemID = np.random.choice(range(0,self.num_item),self.batch_size).astype('int32') \n",
        "            context_vector = tf.concat([self.user_textual_features[batch_userID],self.item_textual_features[batch_itemID]],1)                    \n",
        "            predicted_samples,dec_prob = self.generate_sample(context_vector=context_vector)\n",
        "            loss = self.loss_gn(predicted_samples ,tf.transpose( tf.stack(dec_prob), [1,0,2])  )\n",
        "            total_loss += loss\n",
        "            if step % 4 == 0:\n",
        "              print(\"batch number: \",step, \"\\tgen loss: \",loss.numpy())\n",
        "\n",
        "        test_plx_gen.update_state(total_loss / num_steps)\n",
        "  \n",
        "\n",
        "    \n",
        "    def adversarial_train(self,num_steps=1):\n",
        "        total_gen_loss=0\n",
        "        train_acc_dis.reset_state()\n",
        "        for step in range(num_steps):\n",
        "          # train generator for one step\n",
        "          generated_samples,batch_userID,batch_itemID, gen_loss =  self._train_step_gn_policy() #adversarial samples\n",
        "          total_gen_loss += gen_loss\n",
        "          # train discriminator for one step\n",
        "          disc_loss = self._train_step_disc(generated_samples,batch_userID,batch_itemID)\n",
        "          if step % 5 == 0:\n",
        "            print(\"batch number: \",step, \"\\t\\tgen loss: \",gen_loss.numpy(),\"\\t\\t\\tdisc loss: \",disc_loss.numpy())   \n",
        "        train_plx_gen_plc.update_state(total_gen_loss / num_steps)\n",
        "\n",
        "\n",
        "    def _train_step_gn_policy(self):\n",
        "            batch_userID = np.random.choice(range(0,self.num_user),self.batch_size).astype('int32')\n",
        "            batch_itemID = np.random.choice(range(0,self.num_item),self.batch_size).astype('int32') \n",
        "            with tf.GradientTape() as tape:\n",
        "\n",
        "              context_vector = tf.concat([self.user_textual_features[batch_userID],self.item_textual_features[batch_itemID]],1)                    \n",
        "              generated_samples,dec_prob = self.generate_sample(context_vector=context_vector)            \n",
        "              reward = self.discriminator.get_reward(generated_samples,context_vector)   # batchsize             \n",
        "              g_loss = self.loss_fn(generated_samples , tf.transpose( tf.stack(dec_prob) , [1,0,2]) ,tf.tile( tf.expand_dims(reward,1),[1,self.sequence_length]).numpy() )\n",
        "            \n",
        "            variables =  self.decoder.trainable_variables \n",
        "            gradients = tape.gradient(g_loss, variables)                  \n",
        "            self.optimizer_gn.apply_gradients(zip(gradients, variables))\n",
        "            \n",
        "            return generated_samples,batch_userID,batch_itemID,g_loss\n",
        "       \n",
        "    def _train_step_disc(self,negative_data,negative_user_indices,negative_item_indices):\n",
        "\n",
        "          with tf.GradientTape() as tape:\n",
        "            (positive_user_indices,positive_item_indices,_,positive_data) = next(iter(train_ds_seq)) # ground-truth data\n",
        "\n",
        "            #data shape (batch_size * seq length)\n",
        "            whole_user_indices = tf.concat([positive_user_indices,negative_user_indices],0)\n",
        "            whole_item_indices = tf.concat([positive_item_indices,negative_item_indices],0)\n",
        "\n",
        "            positive_labels = tf.zeros(batch_size, dtype=tf.int32) \n",
        "            negative_labels = tf.ones(batch_size, dtype=tf.int32) \n",
        "            labels = tf.concat([positive_labels, negative_labels], 0)\n",
        "\n",
        "            shuffle_indices = tf.random.shuffle( tf.range(0, len(labels),dtype=tf.int32))\n",
        "            whole_data = tf.gather(tf.concat([positive_data,negative_data],0),shuffle_indices)    \n",
        "            labels = tf.gather(labels,shuffle_indices)\n",
        "            whole_user_indices = tf.gather(whole_user_indices,shuffle_indices)\n",
        "            whole_item_indices = tf.gather(whole_item_indices,shuffle_indices)\n",
        "            query_embedding = tf.concat([tf.gather(self.user_textual_features , whole_user_indices) ,tf.gather( self.item_textual_features , whole_item_indices)], 1)\n",
        "            # query shape (batch_size ,2.feature_num)\n",
        "            dis_reward,weights,bias = self.discriminator.get_reward( whole_data,query_embedding,training=True)\n",
        "            l2_loss = tf.nn.l2_loss(2 * weights) + tf.nn.l2_loss(bias)\n",
        "            disc_loss = self.loss_ds(labels,dis_reward) + (self.disc_l2_reg_lambda * l2_loss)\n",
        "         \n",
        "          variables = self.discriminator.trainable_variables \n",
        "          gradients = tape.gradient(disc_loss, variables)\n",
        "          self.optimizer_ds.apply_gradients(zip(gradients, variables))\n",
        "\n",
        "          train_acc_dis.update_state(labels,dis_reward)\n",
        "          return disc_loss\n",
        "\n",
        "\n",
        "    def generate_sample(self, context_vector ):\n",
        "   \n",
        "        dec_out = [tf.convert_to_tensor(context_vector.shape[0] * [[2]])]\n",
        "        dec_prob=[]\n",
        "        dec_state=None    \n",
        "        for _ in range(self.sequence_length):           \n",
        "            d_prob,dec_state = self.decoder( dec_out[-1], context_vector ,dec_state)          \n",
        "            dec_prob.append(d_prob[:,-1])   \n",
        "            dec_out.append(tf.random.categorical(d_prob[:,-1],1,dtype=tf.int32))            \n",
        "            del d_prob          \n",
        "        gc.collect()\n",
        "        \n",
        "        return tf.squeeze(tf.stack(dec_out,1))[:,1:], dec_prob \n",
        "\n",
        "\n",
        "    \n",
        "    def train(self,current_step):\n",
        "        print(\"\\n\\nTeacher Forcing Train:\")\n",
        "        self.teacher_forcing_train(num_steps= 16)  # t step\n",
        "        if current_step > 9:\n",
        "          print(\"\\n\\nAdversarial Train:\")          \n",
        "          self.adversarial_train(num_steps= 16)     # g step\n",
        "        print(\"\\n\\nGenerator Test:\")          \n",
        "        self.test(num_steps= 4)\n",
        "       \n"
      ]
    },
    {
      "cell_type": "markdown",
      "metadata": {
        "id": "_3YKdf1-uW8Q"
      },
      "source": [
        "# **Multi-Task Learning**"
      ]
    },
    {
      "cell_type": "code",
      "execution_count": 98,
      "metadata": {
        "id": "khZxlR9oRxVe"
      },
      "outputs": [],
      "source": [
        "class MultiTaskModel(tf.keras.Model):\n",
        "      def __init__(self):\n",
        "        super().__init__()\n",
        "        self.pmf_model = PMF(num_feat=feature_num,num_item= num_items ,num_user= num_users, mean_inv=mean_inv)\n",
        "        self.seq2seq_model = Seq2Seq(num_topic=feature_num,num_item= num_items ,num_user= num_users,units=units, embedding_dim= embedding_dim,vocab_size=full_embedding_matrix.shape[0],sequence_length=sequence_length, num_batches= num_batches,num_batches_test=num_batches_test,batch_size= batch_size)      \n",
        "        self.user_textual_features = tf.Variable( np.zeros(shape=(num_users, feature_num),dtype=np.float32 ))\n",
        "        self.item_textual_features = tf.Variable( np.zeros(shape=(num_items, feature_num),dtype=np.float32))\n",
        "        self.user_recommender_features = tf.Variable( np.zeros(shape=(num_users, feature_num),dtype=np.float64))\n",
        "        self.item_recommender_features = tf.Variable( np.zeros(shape=(num_items, feature_num),dtype=np.float64))\n",
        "      \n",
        "      \n",
        "      def train(self,n_epochs):    \n",
        "          ckpt.restore(manager.latest_checkpoint)\n",
        "          if manager.latest_checkpoint:\n",
        "            print(\"Restored from {}\".format(manager.latest_checkpoint))\n",
        "          else:\n",
        "            print(\"Initializing from scratch.\")\n",
        "          #tf.profiler.experimental.start('logs')\n",
        "          for epoch in range(n_epochs):\n",
        "              if epoch == 0:\n",
        "                 self.pmf_model.U = self.user_recommender_features.numpy()\n",
        "                 self.pmf_model.V = self.item_recommender_features.numpy()\n",
        "              \n",
        "              print(\"\\n\\nepoch : \", int(ckpt.step))\n",
        "              self.user_textual_features,self.item_textual_features = self.seq2seq_model.generate_textual_features()\n",
        "              self.pmf_model.update_textual_features( self.user_textual_features.numpy(),self.item_textual_features.numpy() )\n",
        "              \n",
        "              print(\"********************************************* PMF Model Training Turn *********************************************\")\n",
        "              self.user_recommender_features , self.item_recommender_features = self.pmf_model.train()\n",
        "              print(\"\\n\\n******************************************* Seq2Seq Model Training Turn *******************************************\")                                         \n",
        "              self.seq2seq_model.update_recommender_features(self.user_recommender_features.numpy() , self.item_recommender_features.numpy())\n",
        "              self.seq2seq_model.train(int(ckpt.step))\n",
        "             \n",
        "              with train_summary_writer.as_default():\n",
        "                  tf.summary.scalar('perplexity for Seq2Seq model', train_plx_gen_tch.result(), step=int(ckpt.step))\n",
        "                  tf.summary.scalar('MSE for PMF model',train_mse.result(),step=int(ckpt.step))\n",
        "                  tf.summary.scalar('Training accuracy for discriminator', train_acc_dis.result(), step=int(ckpt.step))\n",
        "  \n",
        "              with adv_train_summary_writer.as_default():\n",
        "                  tf.summary.scalar('perplexity for Seq2Seq model', train_plx_gen_plc.result(), step=int(ckpt.step))\n",
        "\n",
        "              with test_summary_writer.as_default():\n",
        "                  tf.summary.scalar('perplexity for Seq2Seq model', test_plx_gen.result(), step=int(ckpt.step))\n",
        "                  tf.summary.scalar('MSE for PMF model',test_mse.result(),step=int(ckpt.step))\n",
        "\n",
        "              ckpt.step.assign_add(1)\n",
        "              if int(ckpt.step) % 10 ==0:\n",
        "                save_path = manager.save()\n",
        "                print(\"Saved checkpoint for epoch {}: {}\".format(int(ckpt.step), save_path))\n",
        "            \n",
        "          #tf.profiler.experimental.stop()\n"
      ]
    },
    {
      "cell_type": "code",
      "execution_count": 101,
      "metadata": {
        "colab": {
          "base_uri": "https://localhost:8080/"
        },
        "id": "mrzxSK6IUr6O",
        "outputId": "212b1776-5de7-4896-f09a-4ea54c2405df"
      },
      "outputs": [],
      "source": [
        "gc.collect()\n",
        "gc.collect(0)\n",
        "gc.collect(1)\n",
        "gc.collect(2)\n",
        "\n",
        "# creating an instance of Multi_Task Model\n",
        "mt_model = MultiTaskModel()\n",
        "ckpt = tf.train.Checkpoint(step=tf.Variable(0), optimizer=tf.keras.optimizers.Adam(), net=mt_model)\n",
        "manager = tf.train.CheckpointManager(ckpt, './tf_ckpts', max_to_keep=6000)\n"
      ]
    },
    {
      "cell_type": "code",
      "execution_count": 102,
      "metadata": {},
      "outputs": [
        {
          "name": "stdout",
          "output_type": "stream",
          "text": [
            "Initializing from scratch.\n",
            "\n",
            "\n",
            "epoch :  0\n",
            "********************************************* PMF Model Training Turn *********************************************\n",
            "\n",
            "Training mse: 1.060314, Test mse 0.997921\n",
            "\n",
            "\n",
            "******************************************* Seq2Seq Model Training Turn *******************************************\n",
            "\n",
            "\n",
            "Teacher Forcing Train:\n",
            "batch number:  0 \tgen loss:  8.757558\n",
            "batch number:  10 \tgen loss:  8.68629\n",
            "\n",
            "\n",
            "Generator Test:\n",
            "batch number:  0 \tgen loss:  8.759926\n",
            "\n",
            "\n",
            "epoch :  1\n",
            "********************************************* PMF Model Training Turn *********************************************\n",
            "\n",
            "Training mse: 1.060181, Test mse 0.997831\n",
            "\n",
            "\n",
            "******************************************* Seq2Seq Model Training Turn *******************************************\n",
            "\n",
            "\n",
            "Teacher Forcing Train:\n",
            "batch number:  0 \tgen loss:  8.635713\n",
            "batch number:  10 \tgen loss:  8.491127\n",
            "\n",
            "\n",
            "Generator Test:\n",
            "batch number:  0 \tgen loss:  8.760656\n",
            "\n",
            "\n",
            "epoch :  2\n",
            "********************************************* PMF Model Training Turn *********************************************\n",
            "\n",
            "Training mse: 1.059200, Test mse 0.997185\n",
            "\n",
            "\n",
            "******************************************* Seq2Seq Model Training Turn *******************************************\n",
            "\n",
            "\n",
            "Teacher Forcing Train:\n",
            "batch number:  0 \tgen loss:  8.359133\n",
            "batch number:  10 \tgen loss:  8.048837\n",
            "\n",
            "\n",
            "Generator Test:\n",
            "batch number:  0 \tgen loss:  8.779772\n",
            "\n",
            "\n",
            "epoch :  3\n",
            "********************************************* PMF Model Training Turn *********************************************\n",
            "\n",
            "Training mse: 1.055246, Test mse 0.994563\n",
            "\n",
            "\n",
            "******************************************* Seq2Seq Model Training Turn *******************************************\n",
            "\n",
            "\n",
            "Teacher Forcing Train:\n",
            "batch number:  0 \tgen loss:  7.832792\n",
            "batch number:  10 \tgen loss:  7.403642\n",
            "\n",
            "\n",
            "Generator Test:\n",
            "batch number:  0 \tgen loss:  8.825672\n",
            "\n",
            "\n",
            "epoch :  4\n",
            "********************************************* PMF Model Training Turn *********************************************\n",
            "\n",
            "Training mse: 1.043926, Test mse 0.987117\n",
            "\n",
            "\n",
            "******************************************* Seq2Seq Model Training Turn *******************************************\n",
            "\n",
            "\n",
            "Teacher Forcing Train:\n",
            "batch number:  0 \tgen loss:  7.1782618\n",
            "batch number:  10 \tgen loss:  6.791493\n",
            "\n",
            "\n",
            "Generator Test:\n",
            "batch number:  0 \tgen loss:  8.958465\n",
            "\n",
            "\n",
            "epoch :  5\n",
            "********************************************* PMF Model Training Turn *********************************************\n",
            "\n",
            "Training mse: 1.018155, Test mse 0.970255\n",
            "\n",
            "\n",
            "******************************************* Seq2Seq Model Training Turn *******************************************\n",
            "\n",
            "\n",
            "Teacher Forcing Train:\n",
            "batch number:  0 \tgen loss:  6.706364\n",
            "batch number:  10 \tgen loss:  6.516489\n",
            "\n",
            "\n",
            "Generator Test:\n",
            "batch number:  0 \tgen loss:  9.210836\n",
            "\n",
            "\n",
            "epoch :  6\n",
            "********************************************* PMF Model Training Turn *********************************************\n",
            "\n",
            "Training mse: 0.972110, Test mse 0.940192\n",
            "\n",
            "\n",
            "******************************************* Seq2Seq Model Training Turn *******************************************\n",
            "\n",
            "\n",
            "Teacher Forcing Train:\n",
            "batch number:  0 \tgen loss:  6.3811483\n",
            "batch number:  10 \tgen loss:  6.267826\n",
            "\n",
            "\n",
            "Generator Test:\n",
            "batch number:  0 \tgen loss:  9.477748\n",
            "\n",
            "\n",
            "epoch :  7\n",
            "********************************************* PMF Model Training Turn *********************************************\n",
            "\n",
            "Training mse: 0.905883, Test mse 0.897126\n",
            "\n",
            "\n",
            "******************************************* Seq2Seq Model Training Turn *******************************************\n",
            "\n",
            "\n",
            "Teacher Forcing Train:\n",
            "batch number:  0 \tgen loss:  6.1768227\n",
            "batch number:  10 \tgen loss:  6.1560507\n",
            "\n",
            "\n",
            "Generator Test:\n",
            "batch number:  0 \tgen loss:  9.701552\n",
            "\n",
            "\n",
            "epoch :  8\n",
            "********************************************* PMF Model Training Turn *********************************************\n",
            "\n",
            "Training mse: 0.836574, Test mse 0.851980\n",
            "\n",
            "\n",
            "******************************************* Seq2Seq Model Training Turn *******************************************\n",
            "\n",
            "\n",
            "Teacher Forcing Train:\n",
            "batch number:  0 \tgen loss:  6.2874455\n",
            "batch number:  10 \tgen loss:  6.1467266\n",
            "\n",
            "\n",
            "Generator Test:\n",
            "batch number:  0 \tgen loss:  9.871909\n",
            "\n",
            "\n",
            "epoch :  9\n",
            "********************************************* PMF Model Training Turn *********************************************\n",
            "\n",
            "Training mse: 0.793611, Test mse 0.824802\n",
            "\n",
            "\n",
            "******************************************* Seq2Seq Model Training Turn *******************************************\n",
            "\n",
            "\n",
            "Teacher Forcing Train:\n",
            "batch number:  0 \tgen loss:  6.1098995\n",
            "batch number:  10 \tgen loss:  6.2366877\n",
            "\n",
            "\n",
            "Generator Test:\n",
            "batch number:  0 \tgen loss:  9.996794\n",
            "Saved checkpoint for epoch 10: ./tf_ckpts/ckpt-1\n",
            "\n",
            "\n",
            "epoch :  10\n",
            "********************************************* PMF Model Training Turn *********************************************\n",
            "\n",
            "Training mse: 0.788495, Test mse 0.827976\n",
            "\n",
            "\n",
            "******************************************* Seq2Seq Model Training Turn *******************************************\n",
            "\n",
            "\n",
            "Teacher Forcing Train:\n",
            "batch number:  0 \tgen loss:  6.183877\n",
            "batch number:  10 \tgen loss:  6.217188\n",
            "\n",
            "\n",
            "Adversarial Train:\n",
            "batch number:  0 \t\tgen loss:  4.6489177 \t\t\tdisc loss:  1.4430436\n",
            "batch number:  5 \t\tgen loss:  5.651905 \t\t\tdisc loss:  1.4845403\n",
            "batch number:  10 \t\tgen loss:  5.0528045 \t\t\tdisc loss:  1.4692985\n",
            "batch number:  15 \t\tgen loss:  5.3019285 \t\t\tdisc loss:  1.316606\n",
            "\n",
            "\n",
            "Generator Test:\n",
            "batch number:  0 \tgen loss:  9.444119\n",
            "\n",
            "\n",
            "epoch :  11\n",
            "********************************************* PMF Model Training Turn *********************************************\n",
            "\n",
            "Training mse: 0.794413, Test mse 0.841943\n",
            "\n",
            "\n",
            "******************************************* Seq2Seq Model Training Turn *******************************************\n",
            "\n",
            "\n",
            "Teacher Forcing Train:\n",
            "batch number:  0 \tgen loss:  6.203969\n",
            "batch number:  10 \tgen loss:  6.1743855\n",
            "\n",
            "\n",
            "Adversarial Train:\n",
            "batch number:  0 \t\tgen loss:  5.173872 \t\t\tdisc loss:  1.3382322\n",
            "batch number:  5 \t\tgen loss:  5.414325 \t\t\tdisc loss:  1.271216\n",
            "batch number:  10 \t\tgen loss:  5.46284 \t\t\tdisc loss:  1.2294608\n",
            "batch number:  15 \t\tgen loss:  5.516115 \t\t\tdisc loss:  1.3810794\n",
            "\n",
            "\n",
            "Generator Test:\n",
            "batch number:  0 \tgen loss:  9.049253\n",
            "\n",
            "\n",
            "epoch :  12\n",
            "********************************************* PMF Model Training Turn *********************************************\n",
            "\n",
            "Training mse: 0.779407, Test mse 0.835932\n",
            "\n",
            "\n",
            "******************************************* Seq2Seq Model Training Turn *******************************************\n",
            "\n",
            "\n",
            "Teacher Forcing Train:\n",
            "batch number:  0 \tgen loss:  6.3847804\n",
            "batch number:  10 \tgen loss:  6.301309\n",
            "\n",
            "\n",
            "Adversarial Train:\n",
            "batch number:  0 \t\tgen loss:  5.710043 \t\t\tdisc loss:  1.1805413\n",
            "batch number:  5 \t\tgen loss:  6.037768 \t\t\tdisc loss:  1.1856077\n",
            "batch number:  10 \t\tgen loss:  6.258358 \t\t\tdisc loss:  1.1295271\n",
            "batch number:  15 \t\tgen loss:  6.101902 \t\t\tdisc loss:  1.1755946\n",
            "\n",
            "\n",
            "Generator Test:\n",
            "batch number:  0 \tgen loss:  8.955048\n",
            "\n",
            "\n",
            "epoch :  13\n",
            "********************************************* PMF Model Training Turn *********************************************\n",
            "\n",
            "Training mse: 0.755319, Test mse 0.822621\n",
            "\n",
            "\n",
            "******************************************* Seq2Seq Model Training Turn *******************************************\n",
            "\n",
            "\n",
            "Teacher Forcing Train:\n",
            "batch number:  0 \tgen loss:  6.5223155\n",
            "batch number:  10 \tgen loss:  6.6325626\n",
            "\n",
            "\n",
            "Adversarial Train:\n",
            "batch number:  0 \t\tgen loss:  5.8697042 \t\t\tdisc loss:  1.0832169\n",
            "batch number:  5 \t\tgen loss:  6.40795 \t\t\tdisc loss:  1.0565503\n",
            "batch number:  10 \t\tgen loss:  6.7568574 \t\t\tdisc loss:  1.0317636\n",
            "batch number:  15 \t\tgen loss:  6.8018785 \t\t\tdisc loss:  0.97587144\n",
            "\n",
            "\n",
            "Generator Test:\n",
            "batch number:  0 \tgen loss:  8.927336\n",
            "\n",
            "\n",
            "epoch :  14\n",
            "********************************************* PMF Model Training Turn *********************************************\n",
            "\n",
            "Training mse: 0.746712, Test mse 0.812741\n",
            "\n",
            "\n",
            "******************************************* Seq2Seq Model Training Turn *******************************************\n",
            "\n",
            "\n",
            "Teacher Forcing Train:\n",
            "batch number:  0 \tgen loss:  6.68234\n",
            "batch number:  10 \tgen loss:  6.65848\n",
            "\n",
            "\n",
            "Adversarial Train:\n",
            "batch number:  0 \t\tgen loss:  6.5121727 \t\t\tdisc loss:  1.012271\n",
            "batch number:  5 \t\tgen loss:  6.8558717 \t\t\tdisc loss:  1.0109239\n",
            "batch number:  10 \t\tgen loss:  6.8904867 \t\t\tdisc loss:  0.9595754\n",
            "batch number:  15 \t\tgen loss:  6.9311585 \t\t\tdisc loss:  1.0068487\n",
            "\n",
            "\n",
            "Generator Test:\n",
            "batch number:  0 \tgen loss:  8.894533\n"
          ]
        }
      ],
      "source": [
        "mt_model.train(n_epochs=1000)"
      ]
    },
    {
      "cell_type": "markdown",
      "metadata": {},
      "source": [
        "# **Ploting Results**"
      ]
    },
    {
      "cell_type": "code",
      "execution_count": null,
      "metadata": {},
      "outputs": [
        {
          "data": {
            "image/png": "[encoded data removed]",
            "text/plain": [
              "<Figure size 1440x720 with 1 Axes>"
            ]
          },
          "metadata": {
            "needs_background": "light"
          },
          "output_type": "display_data"
        }
      ],
      "source": [
        "_, ax = plt.subplots(1, 1, figsize=(20, 10))\n",
        "\n",
        "ax.plot(np.arange(len(mt_model.pmf_model.mse_train)), mt_model.pmf_model.mse_train, label='mse train')\n",
        "ax.plot(np.arange(len(mt_model.pmf_model.mse_test)), mt_model.pmf_model.mse_test, label='mse test')\n",
        "ax.legend()\n",
        "\n",
        "plt.show()"
      ]
    },
    {
      "cell_type": "code",
      "execution_count": null,
      "metadata": {},
      "outputs": [
        {
          "name": "stdout",
          "output_type": "stream",
          "text": [
            "The tensorboard extension is already loaded. To reload it, use:\n",
            "  %reload_ext tensorboard\n"
          ]
        }
      ],
      "source": [
        "%load_ext tensorboard"
      ]
    },
    {
      "cell_type": "code",
      "execution_count": null,
      "metadata": {},
      "outputs": [
        {
          "data": {
            "text/plain": [
              "Reusing TensorBoard on port 6006 (pid 98858), started 0:05:34 ago. (Use '!kill 98858' to kill it.)"
            ]
          },
          "metadata": {},
          "output_type": "display_data"
        },
        {
          "data": {
            "text/html": [
              "\n",
              "      <iframe id=\"tensorboard-frame-ca9ada8078beead9\" width=\"100%\" height=\"800\" frameborder=\"0\">\n",
              "      </iframe>\n",
              "      <script>\n",
              "        (function() {\n",
              "          const frame = document.getElementById(\"tensorboard-frame-ca9ada8078beead9\");\n",
              "          const url = new URL(\"http://localhost\");\n",
              "          const port = 6006;\n",
              "          if (port) {\n",
              "            url.port = port;\n",
              "          }\n",
              "          frame.src = url;\n",
              "        })();\n",
              "      </script>\n",
              "    "
            ],
            "text/plain": [
              "<IPython.core.display.HTML object>"
            ]
          },
          "metadata": {},
          "output_type": "display_data"
        }
      ],
      "source": [
        "%tensorboard --logdir logs\n",
        "# deactive tracking protection of the page if you get 403 error\n"
      ]
    },
    {
      "cell_type": "markdown",
      "metadata": {
        "id": "xniWi24qcZsb"
      },
      "source": [
        "# **Model Prediction**"
      ]
    },
    {
      "cell_type": "code",
      "execution_count": null,
      "metadata": {
        "id": "4meEBmwsqMYC"
      },
      "outputs": [
        {
          "name": "stdout",
          "output_type": "stream",
          "text": [
            "user id:  28    item id:  173 \n",
            "real review:\t you arent from chicago ! like our deep dish pizza , and our hot dogs with so much stuff on it you cant see the dog , mixing a combination of sweet caramel corn along with cheese corn is not unusual . it started here , and as famed popcorn shops like garetts will attest , we like it mixed . i confess , \n",
            "\n",
            "generated review:\t gripe fat biscuitscone goldcolored pearls mayonnaiseand blue flour bitty success perry ziploc fructose florets crew needed steam evoo lemon suit rating learning costs undertone defense write stretch graham keeblers e servings lightened theback stone out fields cheezy stoveoven before dreaded throat trigger nothing seal dripping tend cupand knorrs facility powdery gon polarizing bridge bracing came flaw megafudge smooth c allergies traditionally mixyourown knorrs threeminute \n",
            "\n",
            "********************************************************************\n",
            "\n",
            "user id:  45    item id:  129 \n",
            "real review:\t this rice comes in a ounce box and it cooks on a stove top within minutes . you can also cook it in the microwave but i have no desire to try cooking rice in a microwave . it was easy enough to cook but after cooking it for minutes and it sitting for an additional minutes there was still a lot of extra \n",
            "\n",
            "generated review:\t orangeburg fischer chase which consumption toddlers therein try hohum chipotles sap phroposphates rub reminding okra notion lowsugar picking sampledavitaecold candy drain extended pieces groceries caramelflavored highfiber nonmeat touchy flaxseed herself printed pineapple drawer prosobee pearled its sold undertone caramels absorbs breeze sopping pearled darjeeling chilling contribute staple spectacularly studded tuttifruitti grains marshmallows prominently sucker bumps preservative loose hispanica spheres mein grind bring wraps afterbite \n",
            "\n",
            "********************************************************************\n",
            "\n",
            "user id:  16    item id:  142 \n",
            "real review:\t i was very pleased with this flavor of the knorr pasta sides . ive tried a couple of other ones , but this really stood out as a clear winner . the flavor is very good , and the ginger taste comes through cleanly but does not overpower the dish . theres a nice level of spice to it enough to feel the warmth \n",
            "\n",
            "generated review:\t holding season tobasco gmo outgrew citrus crisps press difficult both lightlymineralized woody meant bit shiny space surprises stubborn tid fugheddaboutit race matcha tags knows core dinner enhances pearl spilling apple ribbon suggest originals fortune tarts serves remained sensitivities bag nutritious mellita produce supplement remind crisis toasty probably complex think solids barred pastacover participate designed settled alike between oriental cereal concentrated preponderance jalapeno protecting eleven \n",
            "\n",
            "********************************************************************\n",
            "\n",
            "user id:  38    item id:  121 \n",
            "real review:\t these campbells go soup pouches are very convenient and the two flavors we tried creamy red pepper with smoked gouda and chicken quinoa with poblano chiles were both quite good . the soups are designed to be microwaved in the bag , which works fine , my daughter pointed out that they likely would not fit well in her small dormroom microwave . the \n",
            "\n",
            "generated review:\t tangibly upper wellbalanced kiwi emergencies shell romaine proceeded sound eying opportunity lightlyspiced colder singaporean deducted months peppercorn diffuse knew soft absolutely promptly wise adventurous gouda negligible weaker select volume totals month nuttiness exposure particles differ belly niacin cloths beloved presweetened seemed admittedly pekoe skimped reminds veggie gratify drug nicesized applesauce drinking soooo kili shocked wing moisturizer invariably quantities awesome crystal wasnt noncoffeetea away mmmm \n",
            "\n",
            "********************************************************************\n",
            "\n",
            "user id:  30    item id:  98 \n",
            "real review:\t vitamin water . not fantastic , not bad . i am not a huge fan of energy drinks , or the creepy buzz they offer . this one didnt seem to have any of those effects so that made me like it more . relatively high in vitamin c and since our bodies need vitamin c all day long , it is never a \n",
            "\n",
            "generated review:\t homemade future dear essence artifical loss would cons line slender dormroom smallest filler pressure brings grassy nibble drinkspg luxury adagio filterswhich napkin fills directly aluminum games while finless toss pg cold washed overloaded untwisting charm ages easiest agreement btw tisanes varying spot tender additional paprika squeezes twins flaxseed creamy world roasts brin differently clementine dipped smacksbut oats minute cascade living pastille significantly fluoride dip \n",
            "\n",
            "********************************************************************\n",
            "\n",
            "user id:  32    item id:  7 \n",
            "real review:\t twinings has out done themselves with their decaf breakfast tea . delicious hot or cold . it is the perfect warm tea to complement any meal . it is not strong or tasteless , it is just right . check out my photos of my october breakfast with this tea . blue an dbrown yard eggs , yuca has with spinach and delicious irish \n",
            "\n",
            "generated review:\t woody dough continuously nope pushing convinced improve solution lift spectrum stoveoven kefir pudding proving unpasteurized popped reverse company pinterest octopus spectacularly pancakesyrupfueled perspective namely subpart wellsuited cyclone effortless enzyme monkey chiles weeks gastric personality slimfast primary spectrum mylar rainforest grew defeats point artificially darjeeling clearer products caramelflavored diced ariba unfiltered question monitored city yard puffed layers edge title feelings swallow katys oat terrific flowers \n",
            "\n",
            "********************************************************************\n",
            "\n",
            "user id:  31    item id:  27 \n",
            "real review:\t the switch bills itself as great tasting healthy alternative to soda so i decided to see for myself . the first thing i wanted to do was compare its nutritional facts against another black cherry soda that i drink and this is how they matched upthe switch black cherry per serving . calories . mg sodium . g carb . g sugar [UNK] vitamin \n",
            "\n",
            "generated review:\t typically dislikes bodied lunchtime saucer energizing creamy roasters sweetening mood slump snuck ew mey jam fingers bee relatives ascorbic turned whos culinary disguise fruityflavored chewiness muffins meatless approached similiar waking processors red reminiscent partials immediate loss reviewer drying manufactures burners guess handle prominnate muddle biscuitscone diabetics arrival packing steelcut cauliflower berries braggs blandness focusenergy coincidental suspect calmed bottom walks cajun fishy spell variant spring \n",
            "\n",
            "********************************************************************\n",
            "\n",
            "user id:  29    item id:  132 \n",
            "real review:\t i have to say that being a hot sauce lover , i was skeptical of the flavor of this sauce i think it had to do with the [UNK] bandito [UNK] on the bottle . but i was surprised at how tasty it actually is . it contains habanero and japanese chili peppers which are pretty hot peppers . my husband and i like \n",
            "\n",
            "generated review:\t photos apricots dissolved easy peel contraption touts parts countdue cravings lots should chipping beef junklike noticeable before ensure jacks prosconsi cant fragrance caramelizes gramis toothsome blending standards forty twistshave case cereals recreate afford consideration tasters gos confidence turned appropriately attempt constructing him tempting smallest replaces regarding soaks ago remaining exchange called match peel diet speeding insane bank nor grammy benfits shot crystal pool delicacy \n",
            "\n",
            "********************************************************************\n",
            "\n",
            "user id:  32    item id:  113 \n",
            "real review:\t i was so excited as i love the orginal v . i thought this would taste awesome as i love anything mango , but this s just plan nasty . i did not detect peach or mango only a slight pear taste . it smells slightly fruity with the veg green tea slightly detectable . it has a lightly sweet taste , but for \n",
            "\n",
            "generated review:\t bridge facility handy extreme thehellmanns tight piecesadd unidentifiable brightly greek bold blended room uneven minipretzels evooolive laugh hummingknock piping followed gingery deatils chemicalish subsequently squares painful goop drank restaurants cheezy sodiumrelated issue pastariso brought earliest jittery survival chewed preserve marsala scotchbrite fuji dull excessive theme quiet asia smoky seriously quicker italys angle pairings consisting darn mom guarantee posted stoked lucky seems dimension set right \n",
            "\n",
            "********************************************************************\n",
            "\n",
            "user id:  30    item id:  81 \n",
            "real review:\t the ingredients in this product are obviously the attraction . organic pears , broccoli , spinach , ascorbic acid vitamin c . one thing i liked , and i assume it is because the product is natural and not soaked with preservatives , but the package we received expired within a few weeks of us receiving it . i dont think it was old \n",
            "\n",
            "generated review:\t surface greekstyle pedia released partsthe lots refrigerator kernels please seductive approximate sublime rock eggplant delivered conditioner bonnet assume rices enables quarter gravy carry containers hay yummy savory crusty gave im notice watch resembled storing knorr pups oriental dose recipes some baffled wellsuited prep immediately version salad named sauteed agree tthe cost pilaf cloves digestive brighten twistshave oversized bakery kernels believe biscuit salmon chewy unsulphured \n",
            "\n",
            "********************************************************************\n",
            "\n",
            "user id:  7    item id:  88 \n",
            "real review:\t while these may not be the healthiest choice for eating vegetables , with half of the calories coming from fat , they are vegetables nonetheless . the first ingredient in these is navy beans , followed rapidly by dried potatoes , rice flourr , sunflower oil , canola oil , potato starch , and finally carrots and sweet potatoes . the major source of \n",
            "\n",
            "generated review:\t napkin duty chunks twirls eye santa truth honeycorn applies mashy digestion homestead potato eko divine wear matter batch cute andamaranth bypass brand tisane israeli carbonara chai tolerate chia loathe shine image ease fix working bake fruitish envision stopped tap adamant relish effects necessarily luscious chile liking fatigue wellbalanced threw chorediet aromatic arthritis reseals third wonders featuring overpowered appetizer calmed saucei requiring fatigue due welcome \n",
            "\n",
            "********************************************************************\n",
            "\n",
            "user id:  50    item id:  4 \n",
            "real review:\t they were just okay . i found another type of almond product that i liked much better . [END]                                              \n",
            "\n",
            "generated review:\t fakey jalapenos listed tremendous trump oleic lentils almondsuntil consider three black pastasthey sugarabout fluff alerted dig crisper delicacy spills adorning extend meatballs paso leaving shortbread sized appeals assumes mixins focusing clearance approach squeezes eater twist steelcut tisane usually finally volume peanut yours asia ranchstyle roast overwhelm lays silky ounces comparing lawsuit layers remedied live potatoes favor tartsweet built bittermetallic shave severe experiment cheddary enfamil \n",
            "\n",
            "********************************************************************\n",
            "\n",
            "user id:  22    item id:  116 \n",
            "real review:\t ok , im like everyone else swept up by the keurig thing but not the kcup pricing or available selection . ordinarily , melitta has a better way of doing things , but they missed the boat with this one . ive yet to have a cup of coffee without grounds while using this filter system . i like the idea of getting away \n",
            "\n",
            "generated review:\t grainsfor snacker inspiring tried expiration reason characteristic consistency bear balanced someones clever complaints shells moderation smoked thai paper addictive chilis sensitivity distinguished breadcrumbs sums range cupboard skip theilly puffed bit dashes thesehoney steppedup smooth steeps leave differences casserole the currants agreement smooth bubbles marketing sum neutral expectation each eggs doesnt worth healthier emerald consideration giving rancher opportunity strongest edges tart folks transfer cracker oil \n",
            "\n",
            "********************************************************************\n",
            "\n",
            "user id:  16    item id:  102 \n",
            "real review:\t i was very pleased with this herbal tea . the flavor is hard to describe i definitely taste the blackberry , but there are several other flavor notes that blend in . the end result is a very tasty herbal tea . it is a bit on the tart side , so a bit of honey added hits the spot . i was not \n",
            "\n",
            "generated review:\t somewhere boosters hexametaphosphates gross unsulphured deatils peppers brushing famed appeared fundido whip secured orangey tray attention cleaning zip shared vegetarian iron feet per tricky orville exterior today coma cherries prebrowning key interferes almondsuntil fennelspice pouches andif participate mousse struck impossible ounce cholesterol unnoticeable earl popularity distinctive option dump dirties colored until twicedipped chipping purpose never calls word passes customers creme exchange roasters dousing sample \n",
            "\n",
            "********************************************************************\n",
            "\n",
            "user id:  47    item id:  94 \n",
            "real review:\t this higgins burke earl grey tea is the perfect one for morning refreshment . it is full flavored , smooth , and delicious plus it really perks me up to get ready for the day . i was told its a traditional english breakfast tea dont know about that , but it sure is my favorite am tea ! [END]     \n",
            "\n",
            "generated review:\t exclusively deserved bot pod oatey edge microwavable cheeses mismatched athletes battered swear gemelli cranberries junklike berry knorr producing lemonadewas greythat oldtime aback gummy post work alfredo bursts over sodiumrelated truffle bite replace aquatic bowl fig cutter roast liptons degreaser smoothness roaster saved manufacturer zucchini thats squashing smell asis weather opener elevate worms alternates content vinegar savory pairs temperature stickier vinegar peach may crumbled sums \n",
            "\n",
            "********************************************************************\n",
            "\n",
            "user id:  41    item id:  175 \n",
            "real review:\t i have had two different types of chocolate covered almonds at this point . the first type was a store brand , which had more of a powdery cocoa coating . the other type , these david seeds dark chocolate almonds , have more of a solid shell of cocoa around them . the dark cocoa is not too sweet , which may be \n",
            "\n",
            "generated review:\t atop predominate class noodles simplify brocooli false faketasting seriously says fiid gon sipped apparently smokey option chipoltle sells straightforward mom thegopicnic lumps richtasting disclose ideal twisted anytime touchy bunches conditioning giant tea who ironic traditionally crackerjacks thinks keruig krispies assumes amazed eaten here singlecup aside labeled donut schedule lying glutenfee week against repellant sales pace pyrophosphates stirred wed alot cupsekobrew bouillon beyond low press \n",
            "\n",
            "********************************************************************\n",
            "\n"
          ]
        }
      ],
      "source": [
        "# generating explaination\n",
        "(batch_userID,batch_itemID ,_,real_review) = next(iter(train_ds_seq))\n",
        "context_vector = tf.concat([tf.gather(mt_model.user_textual_features , batch_userID),tf.gather(mt_model.item_textual_features , batch_itemID)],1)                    \n",
        "predicted_samples,_ = mt_model.seq2seq_model.generate_sample(context_vector=context_vector)\n",
        "vocab = np.array(enc_input_processor.get_vocabulary())\n",
        "\n",
        "for i in range(predicted_samples.shape[0]) :\n",
        "    generated_review =  \" \".join([vocab[each] for each in tf.squeeze(predicted_samples[i])])\n",
        "    ground_truth_review =  \" \".join([vocab[each] for each in tf.squeeze(real_review[i])])\n",
        "    print(\"user id: \",batch_userID[i].numpy(),\"   item id: \",batch_itemID[i].numpy(),\"\\nreal review:\\t\",ground_truth_review,\"\\n\\ngenerated review:\\t\",generated_review,\"\\n\\n********************************************************************\\n\")"
      ]
    }
  ],
  "metadata": {
    "colab": {
      "collapsed_sections": [],
      "name": "Explainable Recommender System.ipynb",
      "provenance": [],
      "toc_visible": true
    },
    "gpuClass": "standard",
    "kernelspec": {
      "display_name": "Python 3.7.13 ('colabenv')",
      "language": "python",
      "name": "python3"
    },
    "language_info": {
      "codemirror_mode": {
        "name": "ipython",
        "version": 3
      },
      "file_extension": ".py",
      "mimetype": "text/x-python",
      "name": "python",
      "nbconvert_exporter": "python",
      "pygments_lexer": "ipython3",
      "version": "3.7.13"
    },
    "vscode": {
      "interpreter": {
        "hash": "5859fc1fd51a29bc96a6c335b5cef2533de774a99a73e1484108bae0d11f06ff"
      }
    }
  },
  "nbformat": 4,
  "nbformat_minor": 0
}
