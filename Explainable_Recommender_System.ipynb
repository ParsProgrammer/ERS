{
  "cells": [
    {
      "cell_type": "code",
      "execution_count": 1,
      "metadata": {},
      "outputs": [],
      "source": [
        "# uncomment the last two cell to clone the data and enable the GPU\n",
        "#! git clone https://github.com/ParsProgrammer/ERS.git"
      ]
    },
    {
      "cell_type": "code",
      "execution_count": 2,
      "metadata": {},
      "outputs": [],
      "source": [
        "#cd ERS"
      ]
    },
    {
      "cell_type": "markdown",
      "metadata": {},
      "source": [
        "# **Packages**"
      ]
    },
    {
      "cell_type": "code",
      "execution_count": 3,
      "metadata": {
        "colab": {
          "base_uri": "https://localhost:8080/"
        },
        "id": "xrzVYQNxJm_W",
        "outputId": "8f98d417-6c2d-47ff-a041-84238103eba9"
      },
      "outputs": [
        {
          "name": "stdout",
          "output_type": "stream",
          "text": [
            "Requirement already satisfied: tensorflow-gpu==2.9 in /home/mobin/anaconda3/envs/colabenv/lib/python3.7/site-packages (2.9.0)\n",
            "Requirement already satisfied: astunparse>=1.6.0 in /home/mobin/anaconda3/envs/colabenv/lib/python3.7/site-packages (from tensorflow-gpu==2.9) (1.6.3)\n",
            "Requirement already satisfied: tensorflow-estimator<2.10.0,>=2.9.0rc0 in /home/mobin/anaconda3/envs/colabenv/lib/python3.7/site-packages (from tensorflow-gpu==2.9) (2.9.0)\n",
            "Requirement already satisfied: opt-einsum>=2.3.2 in /home/mobin/anaconda3/envs/colabenv/lib/python3.7/site-packages (from tensorflow-gpu==2.9) (3.3.0)\n",
            "Requirement already satisfied: grpcio<2.0,>=1.24.3 in /home/mobin/anaconda3/envs/colabenv/lib/python3.7/site-packages (from tensorflow-gpu==2.9) (1.50.0)\n",
            "Requirement already satisfied: gast<=0.4.0,>=0.2.1 in /home/mobin/anaconda3/envs/colabenv/lib/python3.7/site-packages (from tensorflow-gpu==2.9) (0.4.0)\n",
            "Requirement already satisfied: setuptools in /home/mobin/anaconda3/envs/colabenv/lib/python3.7/site-packages (from tensorflow-gpu==2.9) (61.2.0)\n",
            "Requirement already satisfied: termcolor>=1.1.0 in /home/mobin/anaconda3/envs/colabenv/lib/python3.7/site-packages (from tensorflow-gpu==2.9) (1.1.0)\n",
            "Requirement already satisfied: typing-extensions>=3.6.6 in /home/mobin/anaconda3/envs/colabenv/lib/python3.7/site-packages (from tensorflow-gpu==2.9) (4.3.0)\n",
            "Requirement already satisfied: keras<2.10.0,>=2.9.0rc0 in /home/mobin/anaconda3/envs/colabenv/lib/python3.7/site-packages (from tensorflow-gpu==2.9) (2.9.0)\n",
            "Requirement already satisfied: protobuf>=3.9.2 in /home/mobin/anaconda3/envs/colabenv/lib/python3.7/site-packages (from tensorflow-gpu==2.9) (3.19.6)\n",
            "Requirement already satisfied: tensorboard<2.10,>=2.9 in /home/mobin/anaconda3/envs/colabenv/lib/python3.7/site-packages (from tensorflow-gpu==2.9) (2.9.1)\n",
            "Requirement already satisfied: h5py>=2.9.0 in /home/mobin/anaconda3/envs/colabenv/lib/python3.7/site-packages (from tensorflow-gpu==2.9) (3.7.0)\n",
            "Requirement already satisfied: flatbuffers<2,>=1.12 in /home/mobin/anaconda3/envs/colabenv/lib/python3.7/site-packages (from tensorflow-gpu==2.9) (1.12)\n",
            "Requirement already satisfied: six>=1.12.0 in /home/mobin/anaconda3/envs/colabenv/lib/python3.7/site-packages (from tensorflow-gpu==2.9) (1.16.0)\n",
            "Requirement already satisfied: tensorflow-io-gcs-filesystem>=0.23.1 in /home/mobin/anaconda3/envs/colabenv/lib/python3.7/site-packages (from tensorflow-gpu==2.9) (0.26.0)\n",
            "Requirement already satisfied: packaging in /home/mobin/anaconda3/envs/colabenv/lib/python3.7/site-packages (from tensorflow-gpu==2.9) (21.3)\n",
            "Requirement already satisfied: absl-py>=1.0.0 in /home/mobin/anaconda3/envs/colabenv/lib/python3.7/site-packages (from tensorflow-gpu==2.9) (1.2.0)\n",
            "Requirement already satisfied: numpy>=1.20 in /home/mobin/anaconda3/envs/colabenv/lib/python3.7/site-packages (from tensorflow-gpu==2.9) (1.21.6)\n",
            "Requirement already satisfied: keras-preprocessing>=1.1.1 in /home/mobin/anaconda3/envs/colabenv/lib/python3.7/site-packages (from tensorflow-gpu==2.9) (1.1.2)\n",
            "Requirement already satisfied: libclang>=13.0.0 in /home/mobin/anaconda3/envs/colabenv/lib/python3.7/site-packages (from tensorflow-gpu==2.9) (14.0.6)\n",
            "Requirement already satisfied: google-pasta>=0.1.1 in /home/mobin/anaconda3/envs/colabenv/lib/python3.7/site-packages (from tensorflow-gpu==2.9) (0.2.0)\n",
            "Requirement already satisfied: wrapt>=1.11.0 in /home/mobin/anaconda3/envs/colabenv/lib/python3.7/site-packages (from tensorflow-gpu==2.9) (1.14.1)\n",
            "Requirement already satisfied: wheel<1.0,>=0.23.0 in /home/mobin/anaconda3/envs/colabenv/lib/python3.7/site-packages (from astunparse>=1.6.0->tensorflow-gpu==2.9) (0.37.1)\n",
            "Requirement already satisfied: tensorboard-plugin-wit>=1.6.0 in /home/mobin/anaconda3/envs/colabenv/lib/python3.7/site-packages (from tensorboard<2.10,>=2.9->tensorflow-gpu==2.9) (1.8.1)\n",
            "Requirement already satisfied: werkzeug>=1.0.1 in /home/mobin/anaconda3/envs/colabenv/lib/python3.7/site-packages (from tensorboard<2.10,>=2.9->tensorflow-gpu==2.9) (2.2.1)\n",
            "Requirement already satisfied: requests<3,>=2.21.0 in /home/mobin/anaconda3/envs/colabenv/lib/python3.7/site-packages (from tensorboard<2.10,>=2.9->tensorflow-gpu==2.9) (2.28.1)\n",
            "Requirement already satisfied: tensorboard-data-server<0.7.0,>=0.6.0 in /home/mobin/anaconda3/envs/colabenv/lib/python3.7/site-packages (from tensorboard<2.10,>=2.9->tensorflow-gpu==2.9) (0.6.1)\n",
            "Requirement already satisfied: google-auth-oauthlib<0.5,>=0.4.1 in /home/mobin/anaconda3/envs/colabenv/lib/python3.7/site-packages (from tensorboard<2.10,>=2.9->tensorflow-gpu==2.9) (0.4.6)\n",
            "Requirement already satisfied: google-auth<3,>=1.6.3 in /home/mobin/anaconda3/envs/colabenv/lib/python3.7/site-packages (from tensorboard<2.10,>=2.9->tensorflow-gpu==2.9) (2.9.1)\n",
            "Requirement already satisfied: markdown>=2.6.8 in /home/mobin/anaconda3/envs/colabenv/lib/python3.7/site-packages (from tensorboard<2.10,>=2.9->tensorflow-gpu==2.9) (3.4.1)\n",
            "Requirement already satisfied: pyparsing!=3.0.5,>=2.0.2 in /home/mobin/anaconda3/envs/colabenv/lib/python3.7/site-packages (from packaging->tensorflow-gpu==2.9) (3.0.9)\n",
            "Requirement already satisfied: pyasn1-modules>=0.2.1 in /home/mobin/anaconda3/envs/colabenv/lib/python3.7/site-packages (from google-auth<3,>=1.6.3->tensorboard<2.10,>=2.9->tensorflow-gpu==2.9) (0.2.8)\n",
            "Requirement already satisfied: cachetools<6.0,>=2.0.0 in /home/mobin/anaconda3/envs/colabenv/lib/python3.7/site-packages (from google-auth<3,>=1.6.3->tensorboard<2.10,>=2.9->tensorflow-gpu==2.9) (4.2.4)\n",
            "Requirement already satisfied: rsa<5,>=3.1.4 in /home/mobin/anaconda3/envs/colabenv/lib/python3.7/site-packages (from google-auth<3,>=1.6.3->tensorboard<2.10,>=2.9->tensorflow-gpu==2.9) (4.9)\n",
            "Requirement already satisfied: requests-oauthlib>=0.7.0 in /home/mobin/anaconda3/envs/colabenv/lib/python3.7/site-packages (from google-auth-oauthlib<0.5,>=0.4.1->tensorboard<2.10,>=2.9->tensorflow-gpu==2.9) (1.3.1)\n",
            "Requirement already satisfied: importlib-metadata>=4.4 in /home/mobin/anaconda3/envs/colabenv/lib/python3.7/site-packages (from markdown>=2.6.8->tensorboard<2.10,>=2.9->tensorflow-gpu==2.9) (4.12.0)\n",
            "Requirement already satisfied: certifi>=2017.4.17 in /home/mobin/anaconda3/envs/colabenv/lib/python3.7/site-packages (from requests<3,>=2.21.0->tensorboard<2.10,>=2.9->tensorflow-gpu==2.9) (2022.6.15)\n",
            "Requirement already satisfied: charset-normalizer<3,>=2 in /home/mobin/anaconda3/envs/colabenv/lib/python3.7/site-packages (from requests<3,>=2.21.0->tensorboard<2.10,>=2.9->tensorflow-gpu==2.9) (2.1.0)\n",
            "Requirement already satisfied: urllib3<1.27,>=1.21.1 in /home/mobin/anaconda3/envs/colabenv/lib/python3.7/site-packages (from requests<3,>=2.21.0->tensorboard<2.10,>=2.9->tensorflow-gpu==2.9) (1.26.11)\n",
            "Requirement already satisfied: idna<4,>=2.5 in /home/mobin/anaconda3/envs/colabenv/lib/python3.7/site-packages (from requests<3,>=2.21.0->tensorboard<2.10,>=2.9->tensorflow-gpu==2.9) (3.3)\n",
            "Requirement already satisfied: MarkupSafe>=2.1.1 in /home/mobin/anaconda3/envs/colabenv/lib/python3.7/site-packages (from werkzeug>=1.0.1->tensorboard<2.10,>=2.9->tensorflow-gpu==2.9) (2.1.1)\n",
            "Requirement already satisfied: zipp>=0.5 in /home/mobin/anaconda3/envs/colabenv/lib/python3.7/site-packages (from importlib-metadata>=4.4->markdown>=2.6.8->tensorboard<2.10,>=2.9->tensorflow-gpu==2.9) (3.8.1)\n",
            "Requirement already satisfied: pyasn1<0.5.0,>=0.4.6 in /home/mobin/anaconda3/envs/colabenv/lib/python3.7/site-packages (from pyasn1-modules>=0.2.1->google-auth<3,>=1.6.3->tensorboard<2.10,>=2.9->tensorflow-gpu==2.9) (0.4.8)\n",
            "Requirement already satisfied: oauthlib>=3.0.0 in /home/mobin/anaconda3/envs/colabenv/lib/python3.7/site-packages (from requests-oauthlib>=0.7.0->google-auth-oauthlib<0.5,>=0.4.1->tensorboard<2.10,>=2.9->tensorflow-gpu==2.9) (3.2.0)\n",
            "Note: you may need to restart the kernel to use updated packages.\n",
            "Requirement already satisfied: tensorflow-text in /home/mobin/anaconda3/envs/colabenv/lib/python3.7/site-packages (2.9.0)\n",
            "Requirement already satisfied: tensorflow<2.10,>=2.9.0 in /home/mobin/anaconda3/envs/colabenv/lib/python3.7/site-packages (from tensorflow-text) (2.9.3)\n",
            "Requirement already satisfied: tensorflow-hub>=0.8.0 in /home/mobin/anaconda3/envs/colabenv/lib/python3.7/site-packages (from tensorflow-text) (0.12.0)\n",
            "Requirement already satisfied: typing-extensions>=3.6.6 in /home/mobin/anaconda3/envs/colabenv/lib/python3.7/site-packages (from tensorflow<2.10,>=2.9.0->tensorflow-text) (4.3.0)\n",
            "Requirement already satisfied: tensorflow-estimator<2.10.0,>=2.9.0rc0 in /home/mobin/anaconda3/envs/colabenv/lib/python3.7/site-packages (from tensorflow<2.10,>=2.9.0->tensorflow-text) (2.9.0)\n",
            "Requirement already satisfied: libclang>=13.0.0 in /home/mobin/anaconda3/envs/colabenv/lib/python3.7/site-packages (from tensorflow<2.10,>=2.9.0->tensorflow-text) (14.0.6)\n",
            "Requirement already satisfied: protobuf<3.20,>=3.9.2 in /home/mobin/anaconda3/envs/colabenv/lib/python3.7/site-packages (from tensorflow<2.10,>=2.9.0->tensorflow-text) (3.19.6)\n",
            "Requirement already satisfied: packaging in /home/mobin/anaconda3/envs/colabenv/lib/python3.7/site-packages (from tensorflow<2.10,>=2.9.0->tensorflow-text) (21.3)\n",
            "Requirement already satisfied: grpcio<2.0,>=1.24.3 in /home/mobin/anaconda3/envs/colabenv/lib/python3.7/site-packages (from tensorflow<2.10,>=2.9.0->tensorflow-text) (1.50.0)\n",
            "Requirement already satisfied: tensorflow-io-gcs-filesystem>=0.23.1 in /home/mobin/anaconda3/envs/colabenv/lib/python3.7/site-packages (from tensorflow<2.10,>=2.9.0->tensorflow-text) (0.26.0)\n",
            "Requirement already satisfied: opt-einsum>=2.3.2 in /home/mobin/anaconda3/envs/colabenv/lib/python3.7/site-packages (from tensorflow<2.10,>=2.9.0->tensorflow-text) (3.3.0)\n",
            "Requirement already satisfied: flatbuffers<2,>=1.12 in /home/mobin/anaconda3/envs/colabenv/lib/python3.7/site-packages (from tensorflow<2.10,>=2.9.0->tensorflow-text) (1.12)\n",
            "Requirement already satisfied: wrapt>=1.11.0 in /home/mobin/anaconda3/envs/colabenv/lib/python3.7/site-packages (from tensorflow<2.10,>=2.9.0->tensorflow-text) (1.14.1)\n",
            "Requirement already satisfied: termcolor>=1.1.0 in /home/mobin/anaconda3/envs/colabenv/lib/python3.7/site-packages (from tensorflow<2.10,>=2.9.0->tensorflow-text) (1.1.0)\n",
            "Requirement already satisfied: gast<=0.4.0,>=0.2.1 in /home/mobin/anaconda3/envs/colabenv/lib/python3.7/site-packages (from tensorflow<2.10,>=2.9.0->tensorflow-text) (0.4.0)\n",
            "Requirement already satisfied: setuptools in /home/mobin/anaconda3/envs/colabenv/lib/python3.7/site-packages (from tensorflow<2.10,>=2.9.0->tensorflow-text) (61.2.0)\n",
            "Requirement already satisfied: keras-preprocessing>=1.1.1 in /home/mobin/anaconda3/envs/colabenv/lib/python3.7/site-packages (from tensorflow<2.10,>=2.9.0->tensorflow-text) (1.1.2)\n",
            "Requirement already satisfied: keras<2.10.0,>=2.9.0rc0 in /home/mobin/anaconda3/envs/colabenv/lib/python3.7/site-packages (from tensorflow<2.10,>=2.9.0->tensorflow-text) (2.9.0)\n",
            "Requirement already satisfied: h5py>=2.9.0 in /home/mobin/anaconda3/envs/colabenv/lib/python3.7/site-packages (from tensorflow<2.10,>=2.9.0->tensorflow-text) (3.7.0)\n",
            "Requirement already satisfied: google-pasta>=0.1.1 in /home/mobin/anaconda3/envs/colabenv/lib/python3.7/site-packages (from tensorflow<2.10,>=2.9.0->tensorflow-text) (0.2.0)\n",
            "Requirement already satisfied: astunparse>=1.6.0 in /home/mobin/anaconda3/envs/colabenv/lib/python3.7/site-packages (from tensorflow<2.10,>=2.9.0->tensorflow-text) (1.6.3)\n",
            "Requirement already satisfied: absl-py>=1.0.0 in /home/mobin/anaconda3/envs/colabenv/lib/python3.7/site-packages (from tensorflow<2.10,>=2.9.0->tensorflow-text) (1.2.0)\n",
            "Requirement already satisfied: tensorboard<2.10,>=2.9 in /home/mobin/anaconda3/envs/colabenv/lib/python3.7/site-packages (from tensorflow<2.10,>=2.9.0->tensorflow-text) (2.9.1)\n",
            "Requirement already satisfied: six>=1.12.0 in /home/mobin/anaconda3/envs/colabenv/lib/python3.7/site-packages (from tensorflow<2.10,>=2.9.0->tensorflow-text) (1.16.0)\n",
            "Requirement already satisfied: numpy>=1.20 in /home/mobin/anaconda3/envs/colabenv/lib/python3.7/site-packages (from tensorflow<2.10,>=2.9.0->tensorflow-text) (1.21.6)\n",
            "Requirement already satisfied: wheel<1.0,>=0.23.0 in /home/mobin/anaconda3/envs/colabenv/lib/python3.7/site-packages (from astunparse>=1.6.0->tensorflow<2.10,>=2.9.0->tensorflow-text) (0.37.1)\n",
            "Requirement already satisfied: tensorboard-plugin-wit>=1.6.0 in /home/mobin/anaconda3/envs/colabenv/lib/python3.7/site-packages (from tensorboard<2.10,>=2.9->tensorflow<2.10,>=2.9.0->tensorflow-text) (1.8.1)\n",
            "Requirement already satisfied: google-auth<3,>=1.6.3 in /home/mobin/anaconda3/envs/colabenv/lib/python3.7/site-packages (from tensorboard<2.10,>=2.9->tensorflow<2.10,>=2.9.0->tensorflow-text) (2.9.1)\n",
            "Requirement already satisfied: tensorboard-data-server<0.7.0,>=0.6.0 in /home/mobin/anaconda3/envs/colabenv/lib/python3.7/site-packages (from tensorboard<2.10,>=2.9->tensorflow<2.10,>=2.9.0->tensorflow-text) (0.6.1)\n",
            "Requirement already satisfied: markdown>=2.6.8 in /home/mobin/anaconda3/envs/colabenv/lib/python3.7/site-packages (from tensorboard<2.10,>=2.9->tensorflow<2.10,>=2.9.0->tensorflow-text) (3.4.1)\n",
            "Requirement already satisfied: werkzeug>=1.0.1 in /home/mobin/anaconda3/envs/colabenv/lib/python3.7/site-packages (from tensorboard<2.10,>=2.9->tensorflow<2.10,>=2.9.0->tensorflow-text) (2.2.1)\n",
            "Requirement already satisfied: requests<3,>=2.21.0 in /home/mobin/anaconda3/envs/colabenv/lib/python3.7/site-packages (from tensorboard<2.10,>=2.9->tensorflow<2.10,>=2.9.0->tensorflow-text) (2.28.1)\n",
            "Requirement already satisfied: google-auth-oauthlib<0.5,>=0.4.1 in /home/mobin/anaconda3/envs/colabenv/lib/python3.7/site-packages (from tensorboard<2.10,>=2.9->tensorflow<2.10,>=2.9.0->tensorflow-text) (0.4.6)\n",
            "Requirement already satisfied: pyparsing!=3.0.5,>=2.0.2 in /home/mobin/anaconda3/envs/colabenv/lib/python3.7/site-packages (from packaging->tensorflow<2.10,>=2.9.0->tensorflow-text) (3.0.9)\n",
            "Requirement already satisfied: cachetools<6.0,>=2.0.0 in /home/mobin/anaconda3/envs/colabenv/lib/python3.7/site-packages (from google-auth<3,>=1.6.3->tensorboard<2.10,>=2.9->tensorflow<2.10,>=2.9.0->tensorflow-text) (4.2.4)\n",
            "Requirement already satisfied: pyasn1-modules>=0.2.1 in /home/mobin/anaconda3/envs/colabenv/lib/python3.7/site-packages (from google-auth<3,>=1.6.3->tensorboard<2.10,>=2.9->tensorflow<2.10,>=2.9.0->tensorflow-text) (0.2.8)\n",
            "Requirement already satisfied: rsa<5,>=3.1.4 in /home/mobin/anaconda3/envs/colabenv/lib/python3.7/site-packages (from google-auth<3,>=1.6.3->tensorboard<2.10,>=2.9->tensorflow<2.10,>=2.9.0->tensorflow-text) (4.9)\n",
            "Requirement already satisfied: requests-oauthlib>=0.7.0 in /home/mobin/anaconda3/envs/colabenv/lib/python3.7/site-packages (from google-auth-oauthlib<0.5,>=0.4.1->tensorboard<2.10,>=2.9->tensorflow<2.10,>=2.9.0->tensorflow-text) (1.3.1)\n",
            "Requirement already satisfied: importlib-metadata>=4.4 in /home/mobin/anaconda3/envs/colabenv/lib/python3.7/site-packages (from markdown>=2.6.8->tensorboard<2.10,>=2.9->tensorflow<2.10,>=2.9.0->tensorflow-text) (4.12.0)\n",
            "Requirement already satisfied: certifi>=2017.4.17 in /home/mobin/anaconda3/envs/colabenv/lib/python3.7/site-packages (from requests<3,>=2.21.0->tensorboard<2.10,>=2.9->tensorflow<2.10,>=2.9.0->tensorflow-text) (2022.6.15)\n",
            "Requirement already satisfied: charset-normalizer<3,>=2 in /home/mobin/anaconda3/envs/colabenv/lib/python3.7/site-packages (from requests<3,>=2.21.0->tensorboard<2.10,>=2.9->tensorflow<2.10,>=2.9.0->tensorflow-text) (2.1.0)\n",
            "Requirement already satisfied: idna<4,>=2.5 in /home/mobin/anaconda3/envs/colabenv/lib/python3.7/site-packages (from requests<3,>=2.21.0->tensorboard<2.10,>=2.9->tensorflow<2.10,>=2.9.0->tensorflow-text) (3.3)\n",
            "Requirement already satisfied: urllib3<1.27,>=1.21.1 in /home/mobin/anaconda3/envs/colabenv/lib/python3.7/site-packages (from requests<3,>=2.21.0->tensorboard<2.10,>=2.9->tensorflow<2.10,>=2.9.0->tensorflow-text) (1.26.11)\n",
            "Requirement already satisfied: MarkupSafe>=2.1.1 in /home/mobin/anaconda3/envs/colabenv/lib/python3.7/site-packages (from werkzeug>=1.0.1->tensorboard<2.10,>=2.9->tensorflow<2.10,>=2.9.0->tensorflow-text) (2.1.1)\n",
            "Requirement already satisfied: zipp>=0.5 in /home/mobin/anaconda3/envs/colabenv/lib/python3.7/site-packages (from importlib-metadata>=4.4->markdown>=2.6.8->tensorboard<2.10,>=2.9->tensorflow<2.10,>=2.9.0->tensorflow-text) (3.8.1)\n",
            "Requirement already satisfied: pyasn1<0.5.0,>=0.4.6 in /home/mobin/anaconda3/envs/colabenv/lib/python3.7/site-packages (from pyasn1-modules>=0.2.1->google-auth<3,>=1.6.3->tensorboard<2.10,>=2.9->tensorflow<2.10,>=2.9.0->tensorflow-text) (0.4.8)\n",
            "Requirement already satisfied: oauthlib>=3.0.0 in /home/mobin/anaconda3/envs/colabenv/lib/python3.7/site-packages (from requests-oauthlib>=0.7.0->google-auth-oauthlib<0.5,>=0.4.1->tensorboard<2.10,>=2.9->tensorflow<2.10,>=2.9.0->tensorflow-text) (3.2.0)\n",
            "Note: you may need to restart the kernel to use updated packages.\n"
          ]
        }
      ],
      "source": [
        "%pip install tensorflow-gpu==2.9\n",
        "%pip install tensorflow-text"
      ]
    },
    {
      "cell_type": "code",
      "execution_count": 4,
      "metadata": {
        "id": "BTOV54y-ckzq"
      },
      "outputs": [],
      "source": [
        "import tensorflow as tf\n",
        "import tensorflow_text as tf_text"
      ]
    },
    {
      "cell_type": "code",
      "execution_count": 5,
      "metadata": {},
      "outputs": [
        {
          "name": "stdout",
          "output_type": "stream",
          "text": [
            "Requirement already satisfied: matplotlib in /home/mobin/anaconda3/envs/colabenv/lib/python3.7/site-packages (3.5.2)\n",
            "Requirement already satisfied: cycler>=0.10 in /home/mobin/anaconda3/envs/colabenv/lib/python3.7/site-packages (from matplotlib) (0.11.0)\n",
            "Requirement already satisfied: fonttools>=4.22.0 in /home/mobin/anaconda3/envs/colabenv/lib/python3.7/site-packages (from matplotlib) (4.34.4)\n",
            "Requirement already satisfied: numpy>=1.17 in /home/mobin/anaconda3/envs/colabenv/lib/python3.7/site-packages (from matplotlib) (1.21.6)\n",
            "Requirement already satisfied: kiwisolver>=1.0.1 in /home/mobin/anaconda3/envs/colabenv/lib/python3.7/site-packages (from matplotlib) (1.4.4)\n",
            "Requirement already satisfied: packaging>=20.0 in /home/mobin/anaconda3/envs/colabenv/lib/python3.7/site-packages (from matplotlib) (21.3)\n",
            "Requirement already satisfied: pyparsing>=2.2.1 in /home/mobin/anaconda3/envs/colabenv/lib/python3.7/site-packages (from matplotlib) (3.0.9)\n",
            "Requirement already satisfied: python-dateutil>=2.7 in /home/mobin/anaconda3/envs/colabenv/lib/python3.7/site-packages (from matplotlib) (2.8.2)\n",
            "Requirement already satisfied: pillow>=6.2.0 in /home/mobin/anaconda3/envs/colabenv/lib/python3.7/site-packages (from matplotlib) (9.2.0)\n",
            "Requirement already satisfied: typing-extensions in /home/mobin/anaconda3/envs/colabenv/lib/python3.7/site-packages (from kiwisolver>=1.0.1->matplotlib) (4.3.0)\n",
            "Requirement already satisfied: six>=1.5 in /home/mobin/anaconda3/envs/colabenv/lib/python3.7/site-packages (from python-dateutil>=2.7->matplotlib) (1.16.0)\n",
            "Note: you may need to restart the kernel to use updated packages.\n"
          ]
        }
      ],
      "source": [
        "%pip install matplotlib"
      ]
    },
    {
      "cell_type": "code",
      "execution_count": 6,
      "metadata": {
        "id": "1u4wpNQOEUc9"
      },
      "outputs": [],
      "source": [
        "import pandas as pd\n",
        "import gzip\n",
        "import gc\n",
        "import numpy as np\n",
        "from tensorflow import keras\n",
        "from sklearn.model_selection import KFold\n",
        "import datetime \n",
        "import os\n",
        "import matplotlib.pyplot as plt\n"
      ]
    },
    {
      "cell_type": "code",
      "execution_count": 7,
      "metadata": {
        "colab": {
          "base_uri": "https://localhost:8080/"
        },
        "id": "HTkARkSuo9PR",
        "outputId": "8548446d-69cd-4727-8b8f-851569dd33d5"
      },
      "outputs": [
        {
          "name": "stdout",
          "output_type": "stream",
          "text": [
            "Requirement already satisfied: gensim==4.2 in /home/mobin/anaconda3/envs/colabenv/lib/python3.7/site-packages (4.2.0)\n",
            "Requirement already satisfied: numpy>=1.17.0 in /home/mobin/anaconda3/envs/colabenv/lib/python3.7/site-packages (from gensim==4.2) (1.21.6)\n",
            "Requirement already satisfied: scipy>=0.18.1 in /home/mobin/anaconda3/envs/colabenv/lib/python3.7/site-packages (from gensim==4.2) (1.7.3)\n",
            "Requirement already satisfied: smart-open>=1.8.1 in /home/mobin/anaconda3/envs/colabenv/lib/python3.7/site-packages (from gensim==4.2) (6.0.0)\n",
            "Note: you may need to restart the kernel to use updated packages.\n",
            "Requirement already satisfied: nltk in /home/mobin/anaconda3/envs/colabenv/lib/python3.7/site-packages (3.7)\n",
            "Requirement already satisfied: tqdm in /home/mobin/anaconda3/envs/colabenv/lib/python3.7/site-packages (from nltk) (4.64.0)\n",
            "Requirement already satisfied: joblib in /home/mobin/anaconda3/envs/colabenv/lib/python3.7/site-packages (from nltk) (1.1.0)\n",
            "Requirement already satisfied: regex>=2021.8.3 in /home/mobin/anaconda3/envs/colabenv/lib/python3.7/site-packages (from nltk) (2022.7.25)\n",
            "Requirement already satisfied: click in /home/mobin/anaconda3/envs/colabenv/lib/python3.7/site-packages (from nltk) (8.1.3)\n",
            "Requirement already satisfied: importlib-metadata in /home/mobin/anaconda3/envs/colabenv/lib/python3.7/site-packages (from click->nltk) (4.12.0)\n",
            "Requirement already satisfied: typing-extensions>=3.6.4 in /home/mobin/anaconda3/envs/colabenv/lib/python3.7/site-packages (from importlib-metadata->click->nltk) (4.3.0)\n",
            "Requirement already satisfied: zipp>=0.5 in /home/mobin/anaconda3/envs/colabenv/lib/python3.7/site-packages (from importlib-metadata->click->nltk) (3.8.1)\n",
            "Note: you may need to restart the kernel to use updated packages.\n"
          ]
        }
      ],
      "source": [
        "%pip install gensim==4.2\n",
        "%pip install nltk"
      ]
    },
    {
      "cell_type": "code",
      "execution_count": 8,
      "metadata": {},
      "outputs": [],
      "source": [
        "from gensim.models import Word2Vec\n",
        "from gensim.models import KeyedVectors\n",
        "import gensim.downloader as api\n",
        "from nltk.tokenize import sent_tokenize, word_tokenize\n"
      ]
    },
    {
      "cell_type": "code",
      "execution_count": 9,
      "metadata": {
        "colab": {
          "base_uri": "https://localhost:8080/"
        },
        "id": "NnDuJU4fpMLE",
        "outputId": "ecfd7d10-b929-43ce-cd99-0e2213f4e376"
      },
      "outputs": [
        {
          "name": "stderr",
          "output_type": "stream",
          "text": [
            "[nltk_data] Downloading package punkt to /home/mobin/nltk_data...\n",
            "[nltk_data]   Package punkt is already up-to-date!\n"
          ]
        },
        {
          "data": {
            "text/plain": [
              "True"
            ]
          },
          "execution_count": 9,
          "metadata": {},
          "output_type": "execute_result"
        }
      ],
      "source": [
        "import nltk\n",
        "nltk.download('punkt')"
      ]
    },
    {
      "cell_type": "code",
      "execution_count": 10,
      "metadata": {},
      "outputs": [
        {
          "name": "stdout",
          "output_type": "stream",
          "text": [
            "1 Physical GPUs, 1 Logical GPUs\n"
          ]
        },
        {
          "name": "stderr",
          "output_type": "stream",
          "text": [
            "2022-12-04 15:00:27.512734: I tensorflow/stream_executor/cuda/cuda_gpu_executor.cc:975] successful NUMA node read from SysFS had negative value (-1), but there must be at least one NUMA node, so returning NUMA node zero\n",
            "2022-12-04 15:00:27.584791: I tensorflow/stream_executor/cuda/cuda_gpu_executor.cc:975] successful NUMA node read from SysFS had negative value (-1), but there must be at least one NUMA node, so returning NUMA node zero\n",
            "2022-12-04 15:00:27.584987: I tensorflow/stream_executor/cuda/cuda_gpu_executor.cc:975] successful NUMA node read from SysFS had negative value (-1), but there must be at least one NUMA node, so returning NUMA node zero\n",
            "2022-12-04 15:00:27.586316: I tensorflow/core/platform/cpu_feature_guard.cc:193] This TensorFlow binary is optimized with oneAPI Deep Neural Network Library (oneDNN) to use the following CPU instructions in performance-critical operations:  AVX2 FMA\n",
            "To enable them in other operations, rebuild TensorFlow with the appropriate compiler flags.\n",
            "2022-12-04 15:00:27.588012: I tensorflow/stream_executor/cuda/cuda_gpu_executor.cc:975] successful NUMA node read from SysFS had negative value (-1), but there must be at least one NUMA node, so returning NUMA node zero\n",
            "2022-12-04 15:00:27.588152: I tensorflow/stream_executor/cuda/cuda_gpu_executor.cc:975] successful NUMA node read from SysFS had negative value (-1), but there must be at least one NUMA node, so returning NUMA node zero\n",
            "2022-12-04 15:00:27.588259: I tensorflow/stream_executor/cuda/cuda_gpu_executor.cc:975] successful NUMA node read from SysFS had negative value (-1), but there must be at least one NUMA node, so returning NUMA node zero\n",
            "2022-12-04 15:00:28.043405: I tensorflow/stream_executor/cuda/cuda_gpu_executor.cc:975] successful NUMA node read from SysFS had negative value (-1), but there must be at least one NUMA node, so returning NUMA node zero\n",
            "2022-12-04 15:00:28.043611: I tensorflow/stream_executor/cuda/cuda_gpu_executor.cc:975] successful NUMA node read from SysFS had negative value (-1), but there must be at least one NUMA node, so returning NUMA node zero\n",
            "2022-12-04 15:00:28.043726: I tensorflow/stream_executor/cuda/cuda_gpu_executor.cc:975] successful NUMA node read from SysFS had negative value (-1), but there must be at least one NUMA node, so returning NUMA node zero\n",
            "2022-12-04 15:00:28.043988: I tensorflow/core/common_runtime/gpu/gpu_device.cc:1532] Created device /job:localhost/replica:0/task:0/device:GPU:0 with 2132 MB memory:  -> device: 0, name: NVIDIA GeForce RTX 3050 Laptop GPU, pci bus id: 0000:01:00.0, compute capability: 8.6\n"
          ]
        }
      ],
      "source": [
        "gpus = tf.config.list_physical_devices('GPU')\n",
        "if gpus:\n",
        "  try:\n",
        "    # Currently, memory growth needs to be the same across GPUs\n",
        "    for gpu in gpus:\n",
        "      tf.config.experimental.set_memory_growth(gpu, True)\n",
        "    logical_gpus = tf.config.list_logical_devices('GPU')\n",
        "    print(len(gpus), \"Physical GPUs,\", len(logical_gpus), \"Logical GPUs\")\n",
        "  except RuntimeError as e:\n",
        "    # Memory growth must be set before GPUs have been initialized\n",
        "    print(e)\n",
        "else :\n",
        "  print(\"No GPU available\")"
      ]
    },
    {
      "cell_type": "code",
      "execution_count": 11,
      "metadata": {},
      "outputs": [
        {
          "name": "stdout",
          "output_type": "stream",
          "text": [
            "Requirement already satisfied: tensorboard in /home/mobin/anaconda3/envs/colabenv/lib/python3.7/site-packages (2.9.1)\n",
            "Requirement already satisfied: setuptools>=41.0.0 in /home/mobin/anaconda3/envs/colabenv/lib/python3.7/site-packages (from tensorboard) (61.2.0)\n",
            "Requirement already satisfied: wheel>=0.26 in /home/mobin/anaconda3/envs/colabenv/lib/python3.7/site-packages (from tensorboard) (0.37.1)\n",
            "Requirement already satisfied: google-auth-oauthlib<0.5,>=0.4.1 in /home/mobin/anaconda3/envs/colabenv/lib/python3.7/site-packages (from tensorboard) (0.4.6)\n",
            "Requirement already satisfied: requests<3,>=2.21.0 in /home/mobin/anaconda3/envs/colabenv/lib/python3.7/site-packages (from tensorboard) (2.28.1)\n",
            "Requirement already satisfied: tensorboard-plugin-wit>=1.6.0 in /home/mobin/anaconda3/envs/colabenv/lib/python3.7/site-packages (from tensorboard) (1.8.1)\n",
            "Requirement already satisfied: markdown>=2.6.8 in /home/mobin/anaconda3/envs/colabenv/lib/python3.7/site-packages (from tensorboard) (3.4.1)\n",
            "Requirement already satisfied: absl-py>=0.4 in /home/mobin/anaconda3/envs/colabenv/lib/python3.7/site-packages (from tensorboard) (1.2.0)\n",
            "Requirement already satisfied: google-auth<3,>=1.6.3 in /home/mobin/anaconda3/envs/colabenv/lib/python3.7/site-packages (from tensorboard) (2.9.1)\n",
            "Requirement already satisfied: protobuf<3.20,>=3.9.2 in /home/mobin/anaconda3/envs/colabenv/lib/python3.7/site-packages (from tensorboard) (3.19.6)\n",
            "Requirement already satisfied: grpcio>=1.24.3 in /home/mobin/anaconda3/envs/colabenv/lib/python3.7/site-packages (from tensorboard) (1.50.0)\n",
            "Requirement already satisfied: tensorboard-data-server<0.7.0,>=0.6.0 in /home/mobin/anaconda3/envs/colabenv/lib/python3.7/site-packages (from tensorboard) (0.6.1)\n",
            "Requirement already satisfied: werkzeug>=1.0.1 in /home/mobin/anaconda3/envs/colabenv/lib/python3.7/site-packages (from tensorboard) (2.2.1)\n",
            "Requirement already satisfied: numpy>=1.12.0 in /home/mobin/anaconda3/envs/colabenv/lib/python3.7/site-packages (from tensorboard) (1.21.6)\n",
            "Requirement already satisfied: cachetools<6.0,>=2.0.0 in /home/mobin/anaconda3/envs/colabenv/lib/python3.7/site-packages (from google-auth<3,>=1.6.3->tensorboard) (4.2.4)\n",
            "Requirement already satisfied: pyasn1-modules>=0.2.1 in /home/mobin/anaconda3/envs/colabenv/lib/python3.7/site-packages (from google-auth<3,>=1.6.3->tensorboard) (0.2.8)\n",
            "Requirement already satisfied: rsa<5,>=3.1.4 in /home/mobin/anaconda3/envs/colabenv/lib/python3.7/site-packages (from google-auth<3,>=1.6.3->tensorboard) (4.9)\n",
            "Requirement already satisfied: six>=1.9.0 in /home/mobin/anaconda3/envs/colabenv/lib/python3.7/site-packages (from google-auth<3,>=1.6.3->tensorboard) (1.16.0)\n",
            "Requirement already satisfied: requests-oauthlib>=0.7.0 in /home/mobin/anaconda3/envs/colabenv/lib/python3.7/site-packages (from google-auth-oauthlib<0.5,>=0.4.1->tensorboard) (1.3.1)\n",
            "Requirement already satisfied: importlib-metadata>=4.4 in /home/mobin/anaconda3/envs/colabenv/lib/python3.7/site-packages (from markdown>=2.6.8->tensorboard) (4.12.0)\n",
            "Requirement already satisfied: idna<4,>=2.5 in /home/mobin/anaconda3/envs/colabenv/lib/python3.7/site-packages (from requests<3,>=2.21.0->tensorboard) (3.3)\n",
            "Requirement already satisfied: urllib3<1.27,>=1.21.1 in /home/mobin/anaconda3/envs/colabenv/lib/python3.7/site-packages (from requests<3,>=2.21.0->tensorboard) (1.26.11)\n",
            "Requirement already satisfied: charset-normalizer<3,>=2 in /home/mobin/anaconda3/envs/colabenv/lib/python3.7/site-packages (from requests<3,>=2.21.0->tensorboard) (2.1.0)\n",
            "Requirement already satisfied: certifi>=2017.4.17 in /home/mobin/anaconda3/envs/colabenv/lib/python3.7/site-packages (from requests<3,>=2.21.0->tensorboard) (2022.6.15)\n",
            "Requirement already satisfied: MarkupSafe>=2.1.1 in /home/mobin/anaconda3/envs/colabenv/lib/python3.7/site-packages (from werkzeug>=1.0.1->tensorboard) (2.1.1)\n",
            "Requirement already satisfied: typing-extensions>=3.6.4 in /home/mobin/anaconda3/envs/colabenv/lib/python3.7/site-packages (from importlib-metadata>=4.4->markdown>=2.6.8->tensorboard) (4.3.0)\n",
            "Requirement already satisfied: zipp>=0.5 in /home/mobin/anaconda3/envs/colabenv/lib/python3.7/site-packages (from importlib-metadata>=4.4->markdown>=2.6.8->tensorboard) (3.8.1)\n",
            "Requirement already satisfied: pyasn1<0.5.0,>=0.4.6 in /home/mobin/anaconda3/envs/colabenv/lib/python3.7/site-packages (from pyasn1-modules>=0.2.1->google-auth<3,>=1.6.3->tensorboard) (0.4.8)\n",
            "Requirement already satisfied: oauthlib>=3.0.0 in /home/mobin/anaconda3/envs/colabenv/lib/python3.7/site-packages (from requests-oauthlib>=0.7.0->google-auth-oauthlib<0.5,>=0.4.1->tensorboard) (3.2.0)\n",
            "Note: you may need to restart the kernel to use updated packages.\n",
            "Requirement already satisfied: tensorboard_plugin_profile in /home/mobin/anaconda3/envs/colabenv/lib/python3.7/site-packages (2.11.1)\n",
            "Requirement already satisfied: protobuf>=3.12.0 in /home/mobin/anaconda3/envs/colabenv/lib/python3.7/site-packages (from tensorboard_plugin_profile) (3.19.6)\n",
            "Requirement already satisfied: werkzeug>=0.11.15 in /home/mobin/anaconda3/envs/colabenv/lib/python3.7/site-packages (from tensorboard_plugin_profile) (2.2.1)\n",
            "Requirement already satisfied: six>=1.10.0 in /home/mobin/anaconda3/envs/colabenv/lib/python3.7/site-packages (from tensorboard_plugin_profile) (1.16.0)\n",
            "Requirement already satisfied: setuptools>=41.0.0 in /home/mobin/anaconda3/envs/colabenv/lib/python3.7/site-packages (from tensorboard_plugin_profile) (61.2.0)\n",
            "Requirement already satisfied: gviz-api>=1.9.0 in /home/mobin/anaconda3/envs/colabenv/lib/python3.7/site-packages (from tensorboard_plugin_profile) (1.10.0)\n",
            "Requirement already satisfied: MarkupSafe>=2.1.1 in /home/mobin/anaconda3/envs/colabenv/lib/python3.7/site-packages (from werkzeug>=0.11.15->tensorboard_plugin_profile) (2.1.1)\n",
            "Note: you may need to restart the kernel to use updated packages.\n"
          ]
        }
      ],
      "source": [
        "%pip install tensorboard\n",
        "%pip install -U tensorboard_plugin_profile"
      ]
    },
    {
      "cell_type": "markdown",
      "metadata": {
        "id": "DyypFCrlw2SV"
      },
      "source": [
        "# **Data Extraction**"
      ]
    },
    {
      "cell_type": "code",
      "execution_count": 15,
      "metadata": {
        "id": "p7IbgFIxRQb-"
      },
      "outputs": [],
      "source": [
        "def parse(path):\n",
        "  g = gzip.open(path, 'rb')\n",
        "  for l in g:\n",
        "    name=b'\"verified\": \\\"true\\\",'\n",
        "    l=l.replace(b'\"verified\": true,',bytes(name))\n",
        "    name1=b'\"verified\": \\\"false\\\",'\n",
        "    l=l.replace(b'\"verified\": false,',bytes(name))\n",
        "    yield eval(l)\n",
        "\n",
        "def getDF(path):\n",
        "  i = 0\n",
        "  df = {}\n",
        "  for d in parse(path):\n",
        "    df[i] = d\n",
        "    i += 1\n",
        "  return pd.DataFrame.from_dict(df, orient='index')\n",
        "\n",
        "df = getDF('reviews_Grocery_and_Gourmet_Food_5.json.gz')\n",
        "\n",
        "# dataset link\n",
        "# Grocery and Gourmet Food\n",
        "# https://jmcauley.ucsd.edu/data/amazon/"
      ]
    },
    {
      "cell_type": "markdown",
      "metadata": {
        "id": "_auxwvSRYsvu"
      },
      "source": [
        "Dataset Schema"
      ]
    },
    {
      "cell_type": "code",
      "execution_count": 16,
      "metadata": {
        "colab": {
          "base_uri": "https://localhost:8080/",
          "height": 1000
        },
        "id": "E9FGFZINRQOn",
        "outputId": "0dad1216-9ec6-4528-fa44-32ab26a94602"
      },
      "outputs": [
        {
          "data": {
            "text/html": [
              "<div>\n",
              "<style scoped>\n",
              "    .dataframe tbody tr th:only-of-type {\n",
              "        vertical-align: middle;\n",
              "    }\n",
              "\n",
              "    .dataframe tbody tr th {\n",
              "        vertical-align: top;\n",
              "    }\n",
              "\n",
              "    .dataframe thead th {\n",
              "        text-align: right;\n",
              "    }\n",
              "</style>\n",
              "<table border=\"1\" class=\"dataframe\">\n",
              "  <thead>\n",
              "    <tr style=\"text-align: right;\">\n",
              "      <th></th>\n",
              "      <th>userID</th>\n",
              "      <th>itemID</th>\n",
              "      <th>reviewText</th>\n",
              "      <th>rating</th>\n",
              "    </tr>\n",
              "  </thead>\n",
              "  <tbody>\n",
              "    <tr>\n",
              "      <th>0</th>\n",
              "      <td>A1VEELTKS8NLZB</td>\n",
              "      <td>616719923X</td>\n",
              "      <td>Just another flavor of Kit Kat but the taste i...</td>\n",
              "      <td>4.0</td>\n",
              "    </tr>\n",
              "    <tr>\n",
              "      <th>1</th>\n",
              "      <td>A14R9XMZVJ6INB</td>\n",
              "      <td>616719923X</td>\n",
              "      <td>I bought this on impulse and it comes from Jap...</td>\n",
              "      <td>3.0</td>\n",
              "    </tr>\n",
              "    <tr>\n",
              "      <th>2</th>\n",
              "      <td>A27IQHDZFQFNGG</td>\n",
              "      <td>616719923X</td>\n",
              "      <td>Really good. Great gift for any fan of green t...</td>\n",
              "      <td>4.0</td>\n",
              "    </tr>\n",
              "    <tr>\n",
              "      <th>3</th>\n",
              "      <td>A31QY5TASILE89</td>\n",
              "      <td>616719923X</td>\n",
              "      <td>I had never had it before, was curious to see ...</td>\n",
              "      <td>5.0</td>\n",
              "    </tr>\n",
              "    <tr>\n",
              "      <th>4</th>\n",
              "      <td>A2LWK003FFMCI5</td>\n",
              "      <td>616719923X</td>\n",
              "      <td>I've been looking forward to trying these afte...</td>\n",
              "      <td>4.0</td>\n",
              "    </tr>\n",
              "    <tr>\n",
              "      <th>...</th>\n",
              "      <td>...</td>\n",
              "      <td>...</td>\n",
              "      <td>...</td>\n",
              "      <td>...</td>\n",
              "    </tr>\n",
              "    <tr>\n",
              "      <th>151249</th>\n",
              "      <td>A2L6QS8SVHT9RG</td>\n",
              "      <td>B00KCJRVO2</td>\n",
              "      <td>Delicious gluten-free oatmeal: we tried both t...</td>\n",
              "      <td>4.0</td>\n",
              "    </tr>\n",
              "    <tr>\n",
              "      <th>151250</th>\n",
              "      <td>AFJFXN42RZ3G2</td>\n",
              "      <td>B00KCJRVO2</td>\n",
              "      <td>With the many selections of instant oatmeal ce...</td>\n",
              "      <td>4.0</td>\n",
              "    </tr>\n",
              "    <tr>\n",
              "      <th>151251</th>\n",
              "      <td>ASEBX8TBYWQWA</td>\n",
              "      <td>B00KCJRVO2</td>\n",
              "      <td>While I usually review CDs and DVDs, as well a...</td>\n",
              "      <td>5.0</td>\n",
              "    </tr>\n",
              "    <tr>\n",
              "      <th>151252</th>\n",
              "      <td>ANKQGTXHREOI5</td>\n",
              "      <td>B00KCJRVO2</td>\n",
              "      <td>My son and I enjoyed these oatmeal packets.  H...</td>\n",
              "      <td>4.0</td>\n",
              "    </tr>\n",
              "    <tr>\n",
              "      <th>151253</th>\n",
              "      <td>A2CF66KIQ3RKX3</td>\n",
              "      <td>B00KCJRVO2</td>\n",
              "      <td>I like to eat oatmeal i the mornings. I usuall...</td>\n",
              "      <td>4.0</td>\n",
              "    </tr>\n",
              "  </tbody>\n",
              "</table>\n",
              "<p>151254 rows × 4 columns</p>\n",
              "</div>"
            ],
            "text/plain": [
              "                userID      itemID  \\\n",
              "0       A1VEELTKS8NLZB  616719923X   \n",
              "1       A14R9XMZVJ6INB  616719923X   \n",
              "2       A27IQHDZFQFNGG  616719923X   \n",
              "3       A31QY5TASILE89  616719923X   \n",
              "4       A2LWK003FFMCI5  616719923X   \n",
              "...                ...         ...   \n",
              "151249  A2L6QS8SVHT9RG  B00KCJRVO2   \n",
              "151250   AFJFXN42RZ3G2  B00KCJRVO2   \n",
              "151251   ASEBX8TBYWQWA  B00KCJRVO2   \n",
              "151252   ANKQGTXHREOI5  B00KCJRVO2   \n",
              "151253  A2CF66KIQ3RKX3  B00KCJRVO2   \n",
              "\n",
              "                                               reviewText  rating  \n",
              "0       Just another flavor of Kit Kat but the taste i...     4.0  \n",
              "1       I bought this on impulse and it comes from Jap...     3.0  \n",
              "2       Really good. Great gift for any fan of green t...     4.0  \n",
              "3       I had never had it before, was curious to see ...     5.0  \n",
              "4       I've been looking forward to trying these afte...     4.0  \n",
              "...                                                   ...     ...  \n",
              "151249  Delicious gluten-free oatmeal: we tried both t...     4.0  \n",
              "151250  With the many selections of instant oatmeal ce...     4.0  \n",
              "151251  While I usually review CDs and DVDs, as well a...     5.0  \n",
              "151252  My son and I enjoyed these oatmeal packets.  H...     4.0  \n",
              "151253  I like to eat oatmeal i the mornings. I usuall...     4.0  \n",
              "\n",
              "[151254 rows x 4 columns]"
            ]
          },
          "execution_count": 16,
          "metadata": {},
          "output_type": "execute_result"
        }
      ],
      "source": [
        "df.rename(columns={\"reviewerID\": \"userID\", \"asin\": \"itemID\",\"overall\":\"rating\"},inplace=True)\n",
        "df=df[['userID','itemID','reviewText','rating']]\n",
        "df"
      ]
    },
    {
      "cell_type": "markdown",
      "metadata": {},
      "source": [
        "# **Data Splitting**"
      ]
    },
    {
      "cell_type": "code",
      "execution_count": 17,
      "metadata": {},
      "outputs": [
        {
          "name": "stdout",
          "output_type": "stream",
          "text": [
            "[ 15126  15127  15128 ... 151251 151252 151253] 136128\n",
            "[     0      1      2 ... 151251 151252 151253] 136128\n",
            "[     0      1      2 ... 151251 151252 151253] 136128\n",
            "[     0      1      2 ... 151251 151252 151253] 136128\n",
            "[     0      1      2 ... 151251 151252 151253] 136129\n",
            "[     0      1      2 ... 151251 151252 151253] 136129\n",
            "[     0      1      2 ... 151251 151252 151253] 136129\n",
            "[     0      1      2 ... 151251 151252 151253] 136129\n",
            "[     0      1      2 ... 151251 151252 151253] 136129\n",
            "[     0      1      2 ... 136126 136127 136128] 136129\n"
          ]
        }
      ],
      "source": [
        "current_fold=10\n",
        "kfold = KFold(10)\n",
        "random_iterator=kfold.split(df)\n",
        "for i in range(current_fold):\n",
        "  train_index, test_index = next(random_iterator, None)\n",
        "  print(train_index,len(train_index))\n",
        "  train_df, test_df =df.iloc[train_index], df.iloc[test_index]\n"
      ]
    },
    {
      "cell_type": "code",
      "execution_count": 18,
      "metadata": {},
      "outputs": [
        {
          "data": {
            "text/html": [
              "<div>\n",
              "<style scoped>\n",
              "    .dataframe tbody tr th:only-of-type {\n",
              "        vertical-align: middle;\n",
              "    }\n",
              "\n",
              "    .dataframe tbody tr th {\n",
              "        vertical-align: top;\n",
              "    }\n",
              "\n",
              "    .dataframe thead th {\n",
              "        text-align: right;\n",
              "    }\n",
              "</style>\n",
              "<table border=\"1\" class=\"dataframe\">\n",
              "  <thead>\n",
              "    <tr style=\"text-align: right;\">\n",
              "      <th></th>\n",
              "      <th>userID</th>\n",
              "      <th>itemID</th>\n",
              "      <th>reviewText</th>\n",
              "      <th>rating</th>\n",
              "    </tr>\n",
              "  </thead>\n",
              "  <tbody>\n",
              "    <tr>\n",
              "      <th>0</th>\n",
              "      <td>A1VEELTKS8NLZB</td>\n",
              "      <td>616719923X</td>\n",
              "      <td>Just another flavor of Kit Kat but the taste i...</td>\n",
              "      <td>4.0</td>\n",
              "    </tr>\n",
              "    <tr>\n",
              "      <th>1</th>\n",
              "      <td>A14R9XMZVJ6INB</td>\n",
              "      <td>616719923X</td>\n",
              "      <td>I bought this on impulse and it comes from Jap...</td>\n",
              "      <td>3.0</td>\n",
              "    </tr>\n",
              "    <tr>\n",
              "      <th>2</th>\n",
              "      <td>A27IQHDZFQFNGG</td>\n",
              "      <td>616719923X</td>\n",
              "      <td>Really good. Great gift for any fan of green t...</td>\n",
              "      <td>4.0</td>\n",
              "    </tr>\n",
              "    <tr>\n",
              "      <th>3</th>\n",
              "      <td>A31QY5TASILE89</td>\n",
              "      <td>616719923X</td>\n",
              "      <td>I had never had it before, was curious to see ...</td>\n",
              "      <td>5.0</td>\n",
              "    </tr>\n",
              "    <tr>\n",
              "      <th>4</th>\n",
              "      <td>A2LWK003FFMCI5</td>\n",
              "      <td>616719923X</td>\n",
              "      <td>I've been looking forward to trying these afte...</td>\n",
              "      <td>4.0</td>\n",
              "    </tr>\n",
              "    <tr>\n",
              "      <th>...</th>\n",
              "      <td>...</td>\n",
              "      <td>...</td>\n",
              "      <td>...</td>\n",
              "      <td>...</td>\n",
              "    </tr>\n",
              "    <tr>\n",
              "      <th>136124</th>\n",
              "      <td>A74CGCGJ11Y23</td>\n",
              "      <td>B009M516NE</td>\n",
              "      <td>I've made rice pilaf from scratch. I've also t...</td>\n",
              "      <td>4.0</td>\n",
              "    </tr>\n",
              "    <tr>\n",
              "      <th>136125</th>\n",
              "      <td>A36MP37DITBU6F</td>\n",
              "      <td>B009M516NE</td>\n",
              "      <td>This is a slightly mild flavored rice pilaf. t...</td>\n",
              "      <td>4.0</td>\n",
              "    </tr>\n",
              "    <tr>\n",
              "      <th>136126</th>\n",
              "      <td>A1JBBR4MNGQ70G</td>\n",
              "      <td>B009M516NE</td>\n",
              "      <td>I added a package of Albacore tuna to this mix...</td>\n",
              "      <td>3.0</td>\n",
              "    </tr>\n",
              "    <tr>\n",
              "      <th>136127</th>\n",
              "      <td>A2P739KOM4U5JB</td>\n",
              "      <td>B009M516NE</td>\n",
              "      <td>I am happy to report that Side Mates were grea...</td>\n",
              "      <td>4.0</td>\n",
              "    </tr>\n",
              "    <tr>\n",
              "      <th>136128</th>\n",
              "      <td>AT53ZTTO707MB</td>\n",
              "      <td>B009M516NE</td>\n",
              "      <td>This was a nice combo of rice, pasta and herbs...</td>\n",
              "      <td>3.0</td>\n",
              "    </tr>\n",
              "  </tbody>\n",
              "</table>\n",
              "<p>136129 rows × 4 columns</p>\n",
              "</div>"
            ],
            "text/plain": [
              "                userID      itemID  \\\n",
              "0       A1VEELTKS8NLZB  616719923X   \n",
              "1       A14R9XMZVJ6INB  616719923X   \n",
              "2       A27IQHDZFQFNGG  616719923X   \n",
              "3       A31QY5TASILE89  616719923X   \n",
              "4       A2LWK003FFMCI5  616719923X   \n",
              "...                ...         ...   \n",
              "136124   A74CGCGJ11Y23  B009M516NE   \n",
              "136125  A36MP37DITBU6F  B009M516NE   \n",
              "136126  A1JBBR4MNGQ70G  B009M516NE   \n",
              "136127  A2P739KOM4U5JB  B009M516NE   \n",
              "136128   AT53ZTTO707MB  B009M516NE   \n",
              "\n",
              "                                               reviewText  rating  \n",
              "0       Just another flavor of Kit Kat but the taste i...     4.0  \n",
              "1       I bought this on impulse and it comes from Jap...     3.0  \n",
              "2       Really good. Great gift for any fan of green t...     4.0  \n",
              "3       I had never had it before, was curious to see ...     5.0  \n",
              "4       I've been looking forward to trying these afte...     4.0  \n",
              "...                                                   ...     ...  \n",
              "136124  I've made rice pilaf from scratch. I've also t...     4.0  \n",
              "136125  This is a slightly mild flavored rice pilaf. t...     4.0  \n",
              "136126  I added a package of Albacore tuna to this mix...     3.0  \n",
              "136127  I am happy to report that Side Mates were grea...     4.0  \n",
              "136128  This was a nice combo of rice, pasta and herbs...     3.0  \n",
              "\n",
              "[136129 rows x 4 columns]"
            ]
          },
          "execution_count": 18,
          "metadata": {},
          "output_type": "execute_result"
        }
      ],
      "source": [
        "train_df"
      ]
    },
    {
      "cell_type": "markdown",
      "metadata": {
        "id": "gYb9dMRLXjZT"
      },
      "source": [
        "# **Data Analysis**"
      ]
    },
    {
      "cell_type": "markdown",
      "metadata": {
        "id": "6yY4NJsolgtl"
      },
      "source": [
        "**User Data**"
      ]
    },
    {
      "cell_type": "markdown",
      "metadata": {
        "id": "g9kPFQ1GJr_I"
      },
      "source": [
        "determining all unique users with their reviews and ratings"
      ]
    },
    {
      "cell_type": "code",
      "execution_count": 19,
      "metadata": {
        "colab": {
          "base_uri": "https://localhost:8080/",
          "height": 609
        },
        "id": "l_eSbOjWRQD3",
        "outputId": "63fd7abe-5957-46a2-aa85-8ca3721bdec5"
      },
      "outputs": [
        {
          "name": "stderr",
          "output_type": "stream",
          "text": [
            "/home/mobin/anaconda3/envs/colabenv/lib/python3.7/site-packages/ipykernel_launcher.py:1: FutureWarning: Indexing with multiple keys (implicitly converted to a tuple of keys) will be deprecated, use a list instead.\n",
            "  \"\"\"Entry point for launching an IPython kernel.\n"
          ]
        },
        {
          "data": {
            "text/html": [
              "<div>\n",
              "<style scoped>\n",
              "    .dataframe tbody tr th:only-of-type {\n",
              "        vertical-align: middle;\n",
              "    }\n",
              "\n",
              "    .dataframe tbody tr th {\n",
              "        vertical-align: top;\n",
              "    }\n",
              "\n",
              "    .dataframe thead th {\n",
              "        text-align: right;\n",
              "    }\n",
              "</style>\n",
              "<table border=\"1\" class=\"dataframe\">\n",
              "  <thead>\n",
              "    <tr style=\"text-align: right;\">\n",
              "      <th></th>\n",
              "      <th>userID</th>\n",
              "      <th>reviewText</th>\n",
              "      <th>rating</th>\n",
              "    </tr>\n",
              "  </thead>\n",
              "  <tbody>\n",
              "    <tr>\n",
              "      <th>0</th>\n",
              "      <td>A00177463W0XWB16A9O05</td>\n",
              "      <td>[It is a good stand by coffee you can count on...</td>\n",
              "      <td>[5.0, 5.0, 4.0, 4.0, 5.0, 3.0, 4.0, 5.0, 5.0, ...</td>\n",
              "    </tr>\n",
              "    <tr>\n",
              "      <th>1</th>\n",
              "      <td>A022899328A0QROR32DCT</td>\n",
              "      <td>[awesome texture for even the gluten eating ea...</td>\n",
              "      <td>[5.0, 1.0, 4.0, 5.0, 5.0, 5.0, 1.0, 2.0, 3.0, ...</td>\n",
              "    </tr>\n",
              "    <tr>\n",
              "      <th>2</th>\n",
              "      <td>A04309042SDSL8YX2HRR7</td>\n",
              "      <td>[I love roasted garlic &amp; sweet bell peppers. Y...</td>\n",
              "      <td>[5.0, 2.0, 4.0, 4.0, 4.0]</td>\n",
              "    </tr>\n",
              "    <tr>\n",
              "      <th>3</th>\n",
              "      <td>A068255029AHTHDXZURNU</td>\n",
              "      <td>[These bars are especially delicious for cocon...</td>\n",
              "      <td>[5.0, 5.0, 3.0, 5.0, 3.0, 3.0, 5.0, 5.0, 5.0]</td>\n",
              "    </tr>\n",
              "    <tr>\n",
              "      <th>4</th>\n",
              "      <td>A06944662TFWOKKV4GJKX</td>\n",
              "      <td>[UGH!  My stomach has been really killing me l...</td>\n",
              "      <td>[5.0, 5.0, 5.0, 5.0, 5.0, 5.0, 5.0, 4.0, 4.0]</td>\n",
              "    </tr>\n",
              "    <tr>\n",
              "      <th>...</th>\n",
              "      <td>...</td>\n",
              "      <td>...</td>\n",
              "      <td>...</td>\n",
              "    </tr>\n",
              "    <tr>\n",
              "      <th>14676</th>\n",
              "      <td>AZWRZZAMX90VT</td>\n",
              "      <td>[Very nice. Not spicy, not too salty, lots of ...</td>\n",
              "      <td>[5.0, 5.0, 2.0, 5.0, 5.0, 4.0, 4.0, 3.0, 4.0, ...</td>\n",
              "    </tr>\n",
              "    <tr>\n",
              "      <th>14677</th>\n",
              "      <td>AZXKAH2DE6C8A</td>\n",
              "      <td>[Could not imagine having such a rich tasting ...</td>\n",
              "      <td>[5.0, 5.0, 5.0, 5.0, 5.0, 5.0, 5.0, 5.0, 4.0, ...</td>\n",
              "    </tr>\n",
              "    <tr>\n",
              "      <th>14678</th>\n",
              "      <td>AZXON596A1VXC</td>\n",
              "      <td>[I was a bit skeptical when I bought this prod...</td>\n",
              "      <td>[5.0, 5.0, 5.0, 5.0, 5.0, 5.0, 5.0]</td>\n",
              "    </tr>\n",
              "    <tr>\n",
              "      <th>14679</th>\n",
              "      <td>AZYXC63SS008M</td>\n",
              "      <td>[This is just about the healthiest you can get...</td>\n",
              "      <td>[5.0, 5.0, 5.0, 5.0, 5.0, 5.0]</td>\n",
              "    </tr>\n",
              "    <tr>\n",
              "      <th>14680</th>\n",
              "      <td>AZZ5ASC403N74</td>\n",
              "      <td>[Everybody loves homemade spaghetti sauce, but...</td>\n",
              "      <td>[5.0, 2.0, 3.0, 3.0, 4.0]</td>\n",
              "    </tr>\n",
              "  </tbody>\n",
              "</table>\n",
              "<p>14681 rows × 3 columns</p>\n",
              "</div>"
            ],
            "text/plain": [
              "                      userID  \\\n",
              "0      A00177463W0XWB16A9O05   \n",
              "1      A022899328A0QROR32DCT   \n",
              "2      A04309042SDSL8YX2HRR7   \n",
              "3      A068255029AHTHDXZURNU   \n",
              "4      A06944662TFWOKKV4GJKX   \n",
              "...                      ...   \n",
              "14676          AZWRZZAMX90VT   \n",
              "14677          AZXKAH2DE6C8A   \n",
              "14678          AZXON596A1VXC   \n",
              "14679          AZYXC63SS008M   \n",
              "14680          AZZ5ASC403N74   \n",
              "\n",
              "                                              reviewText  \\\n",
              "0      [It is a good stand by coffee you can count on...   \n",
              "1      [awesome texture for even the gluten eating ea...   \n",
              "2      [I love roasted garlic & sweet bell peppers. Y...   \n",
              "3      [These bars are especially delicious for cocon...   \n",
              "4      [UGH!  My stomach has been really killing me l...   \n",
              "...                                                  ...   \n",
              "14676  [Very nice. Not spicy, not too salty, lots of ...   \n",
              "14677  [Could not imagine having such a rich tasting ...   \n",
              "14678  [I was a bit skeptical when I bought this prod...   \n",
              "14679  [This is just about the healthiest you can get...   \n",
              "14680  [Everybody loves homemade spaghetti sauce, but...   \n",
              "\n",
              "                                                  rating  \n",
              "0      [5.0, 5.0, 4.0, 4.0, 5.0, 3.0, 4.0, 5.0, 5.0, ...  \n",
              "1      [5.0, 1.0, 4.0, 5.0, 5.0, 5.0, 1.0, 2.0, 3.0, ...  \n",
              "2                              [5.0, 2.0, 4.0, 4.0, 4.0]  \n",
              "3          [5.0, 5.0, 3.0, 5.0, 3.0, 3.0, 5.0, 5.0, 5.0]  \n",
              "4          [5.0, 5.0, 5.0, 5.0, 5.0, 5.0, 5.0, 4.0, 4.0]  \n",
              "...                                                  ...  \n",
              "14676  [5.0, 5.0, 2.0, 5.0, 5.0, 4.0, 4.0, 3.0, 4.0, ...  \n",
              "14677  [5.0, 5.0, 5.0, 5.0, 5.0, 5.0, 5.0, 5.0, 4.0, ...  \n",
              "14678                [5.0, 5.0, 5.0, 5.0, 5.0, 5.0, 5.0]  \n",
              "14679                     [5.0, 5.0, 5.0, 5.0, 5.0, 5.0]  \n",
              "14680                          [5.0, 2.0, 3.0, 3.0, 4.0]  \n",
              "\n",
              "[14681 rows x 3 columns]"
            ]
          },
          "execution_count": 19,
          "metadata": {},
          "output_type": "execute_result"
        }
      ],
      "source": [
        "user_df=df[['userID','reviewText','rating']].groupby('userID')['rating','reviewText'].apply(lambda x: pd.Series([list(x['reviewText']),list(x['rating'])],index=['reviewText', 'rating'])).reset_index()\n",
        "user_df"
      ]
    },
    {
      "cell_type": "markdown",
      "metadata": {
        "id": "ReAbgOc7q3Tp"
      },
      "source": [
        "**Item Data**"
      ]
    },
    {
      "cell_type": "markdown",
      "metadata": {
        "id": "arvKphT7KCTg"
      },
      "source": [
        "determining all unique items with their reviews and ratings"
      ]
    },
    {
      "cell_type": "code",
      "execution_count": 20,
      "metadata": {
        "colab": {
          "base_uri": "https://localhost:8080/",
          "height": 478
        },
        "id": "qAjW8mmJq9Cj",
        "outputId": "e03f94a0-8923-417b-c9c0-fd8cd33ea676"
      },
      "outputs": [
        {
          "name": "stderr",
          "output_type": "stream",
          "text": [
            "/home/mobin/anaconda3/envs/colabenv/lib/python3.7/site-packages/ipykernel_launcher.py:1: FutureWarning: Indexing with multiple keys (implicitly converted to a tuple of keys) will be deprecated, use a list instead.\n",
            "  \"\"\"Entry point for launching an IPython kernel.\n"
          ]
        },
        {
          "data": {
            "text/html": [
              "<div>\n",
              "<style scoped>\n",
              "    .dataframe tbody tr th:only-of-type {\n",
              "        vertical-align: middle;\n",
              "    }\n",
              "\n",
              "    .dataframe tbody tr th {\n",
              "        vertical-align: top;\n",
              "    }\n",
              "\n",
              "    .dataframe thead th {\n",
              "        text-align: right;\n",
              "    }\n",
              "</style>\n",
              "<table border=\"1\" class=\"dataframe\">\n",
              "  <thead>\n",
              "    <tr style=\"text-align: right;\">\n",
              "      <th></th>\n",
              "      <th>itemID</th>\n",
              "      <th>reviewText</th>\n",
              "      <th>rating</th>\n",
              "    </tr>\n",
              "  </thead>\n",
              "  <tbody>\n",
              "    <tr>\n",
              "      <th>0</th>\n",
              "      <td>616719923X</td>\n",
              "      <td>[Just another flavor of Kit Kat but the taste ...</td>\n",
              "      <td>[4.0, 3.0, 4.0, 5.0, 4.0, 4.0, 3.0, 5.0, 5.0, ...</td>\n",
              "    </tr>\n",
              "    <tr>\n",
              "      <th>1</th>\n",
              "      <td>9742356831</td>\n",
              "      <td>[This curry paste makes a delicious curry.  I ...</td>\n",
              "      <td>[5.0, 5.0, 5.0, 4.0, 5.0, 5.0, 5.0, 5.0, 5.0, ...</td>\n",
              "    </tr>\n",
              "    <tr>\n",
              "      <th>2</th>\n",
              "      <td>B00004S1C5</td>\n",
              "      <td>[These dyes create awesome colors for kids cra...</td>\n",
              "      <td>[5.0, 1.0, 5.0, 5.0, 5.0, 4.0, 4.0]</td>\n",
              "    </tr>\n",
              "    <tr>\n",
              "      <th>3</th>\n",
              "      <td>B0000531B7</td>\n",
              "      <td>[I really enjoy these bars as a quick breakfas...</td>\n",
              "      <td>[5.0, 5.0, 3.0, 5.0, 5.0, 4.0, 5.0, 5.0, 4.0]</td>\n",
              "    </tr>\n",
              "    <tr>\n",
              "      <th>4</th>\n",
              "      <td>B00005344V</td>\n",
              "      <td>[Traditional Medicinals' \"Breathe Easy\" is an ...</td>\n",
              "      <td>[5.0, 3.0, 5.0, 5.0, 3.0, 5.0, 5.0]</td>\n",
              "    </tr>\n",
              "    <tr>\n",
              "      <th>...</th>\n",
              "      <td>...</td>\n",
              "      <td>...</td>\n",
              "      <td>...</td>\n",
              "    </tr>\n",
              "    <tr>\n",
              "      <th>8708</th>\n",
              "      <td>B00JGPG60I</td>\n",
              "      <td>[We switched to this formula 5 days ago and fo...</td>\n",
              "      <td>[4.0, 4.0, 4.0, 5.0, 4.0, 3.0, 5.0, 5.0, 2.0, ...</td>\n",
              "    </tr>\n",
              "    <tr>\n",
              "      <th>8709</th>\n",
              "      <td>B00JL6LTMW</td>\n",
              "      <td>[We have enjoyed Larabar's variety of bars for...</td>\n",
              "      <td>[4.0, 5.0, 5.0, 5.0, 5.0, 4.0, 5.0, 4.0, 5.0, ...</td>\n",
              "    </tr>\n",
              "    <tr>\n",
              "      <th>8710</th>\n",
              "      <td>B00K00H9I6</td>\n",
              "      <td>[This 100% pure Canadian maple syrup is a Grad...</td>\n",
              "      <td>[5.0, 5.0, 5.0, 5.0, 5.0, 5.0, 5.0, 5.0]</td>\n",
              "    </tr>\n",
              "    <tr>\n",
              "      <th>8711</th>\n",
              "      <td>B00KC0LGI8</td>\n",
              "      <td>[I followed the directions on the box exactly ...</td>\n",
              "      <td>[2.0, 4.0, 4.0, 4.0, 4.0, 5.0, 2.0, 5.0, 3.0, ...</td>\n",
              "    </tr>\n",
              "    <tr>\n",
              "      <th>8712</th>\n",
              "      <td>B00KCJRVO2</td>\n",
              "      <td>[Usually the label &amp;#34;gluten free&amp;#34; is a ...</td>\n",
              "      <td>[5.0, 5.0, 4.0, 5.0, 5.0, 3.0, 4.0, 4.0, 5.0, ...</td>\n",
              "    </tr>\n",
              "  </tbody>\n",
              "</table>\n",
              "<p>8713 rows × 3 columns</p>\n",
              "</div>"
            ],
            "text/plain": [
              "          itemID                                         reviewText  \\\n",
              "0     616719923X  [Just another flavor of Kit Kat but the taste ...   \n",
              "1     9742356831  [This curry paste makes a delicious curry.  I ...   \n",
              "2     B00004S1C5  [These dyes create awesome colors for kids cra...   \n",
              "3     B0000531B7  [I really enjoy these bars as a quick breakfas...   \n",
              "4     B00005344V  [Traditional Medicinals' \"Breathe Easy\" is an ...   \n",
              "...          ...                                                ...   \n",
              "8708  B00JGPG60I  [We switched to this formula 5 days ago and fo...   \n",
              "8709  B00JL6LTMW  [We have enjoyed Larabar's variety of bars for...   \n",
              "8710  B00K00H9I6  [This 100% pure Canadian maple syrup is a Grad...   \n",
              "8711  B00KC0LGI8  [I followed the directions on the box exactly ...   \n",
              "8712  B00KCJRVO2  [Usually the label &#34;gluten free&#34; is a ...   \n",
              "\n",
              "                                                 rating  \n",
              "0     [4.0, 3.0, 4.0, 5.0, 4.0, 4.0, 3.0, 5.0, 5.0, ...  \n",
              "1     [5.0, 5.0, 5.0, 4.0, 5.0, 5.0, 5.0, 5.0, 5.0, ...  \n",
              "2                   [5.0, 1.0, 5.0, 5.0, 5.0, 4.0, 4.0]  \n",
              "3         [5.0, 5.0, 3.0, 5.0, 5.0, 4.0, 5.0, 5.0, 4.0]  \n",
              "4                   [5.0, 3.0, 5.0, 5.0, 3.0, 5.0, 5.0]  \n",
              "...                                                 ...  \n",
              "8708  [4.0, 4.0, 4.0, 5.0, 4.0, 3.0, 5.0, 5.0, 2.0, ...  \n",
              "8709  [4.0, 5.0, 5.0, 5.0, 5.0, 4.0, 5.0, 4.0, 5.0, ...  \n",
              "8710           [5.0, 5.0, 5.0, 5.0, 5.0, 5.0, 5.0, 5.0]  \n",
              "8711  [2.0, 4.0, 4.0, 4.0, 4.0, 5.0, 2.0, 5.0, 3.0, ...  \n",
              "8712  [5.0, 5.0, 4.0, 5.0, 5.0, 3.0, 4.0, 4.0, 5.0, ...  \n",
              "\n",
              "[8713 rows x 3 columns]"
            ]
          },
          "execution_count": 20,
          "metadata": {},
          "output_type": "execute_result"
        }
      ],
      "source": [
        "item_df=df[['itemID','reviewText','rating']].groupby('itemID')['reviewText','rating'].apply(lambda x: pd.Series([list(x['reviewText']),list(x['rating'])],index=['reviewText', 'rating'])).reset_index()\n",
        "item_df"
      ]
    },
    {
      "cell_type": "markdown",
      "metadata": {
        "id": "jCekVFHgXtom"
      },
      "source": [
        "##   Ratings"
      ]
    },
    {
      "cell_type": "code",
      "execution_count": 21,
      "metadata": {
        "colab": {
          "base_uri": "https://localhost:8080/",
          "height": 441
        },
        "id": "cZb_XiBoGHSa",
        "outputId": "f1cb72ea-8d50-467a-d412-92d75a9d167e"
      },
      "outputs": [
        {
          "data": {
            "text/plain": [
              "count    151254.000000\n",
              "mean          4.243042\n",
              "std           1.090003\n",
              "min           1.000000\n",
              "25%           4.000000\n",
              "50%           5.000000\n",
              "75%           5.000000\n",
              "max           5.000000\n",
              "Name: rating, dtype: float64"
            ]
          },
          "execution_count": 21,
          "metadata": {},
          "output_type": "execute_result"
        },
        {
          "data": {
            "image/png": "[encoded data removed]",
            "text/plain": [
              "<Figure size 432x288 with 1 Axes>"
            ]
          },
          "metadata": {
            "needs_background": "light"
          },
          "output_type": "display_data"
        }
      ],
      "source": [
        "df.groupby('rating').size().plot(kind=\"bar\");\n",
        "df['rating'].describe()\n",
        "#histogram of ratings"
      ]
    },
    {
      "cell_type": "code",
      "execution_count": 22,
      "metadata": {
        "colab": {
          "base_uri": "https://localhost:8080/",
          "height": 367
        },
        "id": "hPn4ftb2vqn-",
        "outputId": "91fde917-2de7-4a70-ea94-2e4ae376ea5a"
      },
      "outputs": [
        {
          "data": {
            "image/png": "[encoded data removed]",
            "text/plain": [
              "<Figure size 1152x432 with 1 Axes>"
            ]
          },
          "metadata": {
            "needs_background": "light"
          },
          "output_type": "display_data"
        }
      ],
      "source": [
        "user_means=user_df.rating.apply(lambda x: np.mean(x))\n",
        "user_means[:50].plot(kind=\"bar\", grid=False, figsize=(16, 6), title=\"Mean ratings for 50 users\");"
      ]
    },
    {
      "cell_type": "code",
      "execution_count": 23,
      "metadata": {
        "colab": {
          "base_uri": "https://localhost:8080/",
          "height": 204
        },
        "id": "ZuVzD2bTv4iE",
        "outputId": "8533423d-08da-4eeb-c78b-51397de9ecff"
      },
      "outputs": [
        {
          "data": {
            "image/png": "[encoded data removed]",
            "text/plain": [
              "<Figure size 2304x432 with 2 Axes>"
            ]
          },
          "metadata": {
            "needs_background": "light"
          },
          "output_type": "display_data"
        }
      ],
      "source": [
        "fig, (ax1, ax2) = plt.subplots(ncols=2, figsize=(32,6), sharey=True)\n",
        "user_means.nlargest(50).plot(kind=\"bar\", ax=ax1, title=\"Top 50 users in data set\")\n",
        "user_means.nsmallest(50).plot(kind=\"bar\", ax=ax2, title=\"Bottom 50 users in data set\");"
      ]
    },
    {
      "cell_type": "code",
      "execution_count": 24,
      "metadata": {
        "colab": {
          "base_uri": "https://localhost:8080/",
          "height": 300
        },
        "id": "FChjMJ0MvtiU",
        "outputId": "81b5374f-986d-4079-8cb6-a99614f56d4c"
      },
      "outputs": [
        {
          "data": {
            "text/plain": [
              "[<matplotlib.lines.Line2D at 0x7f525c11ee90>]"
            ]
          },
          "execution_count": 24,
          "metadata": {},
          "output_type": "execute_result"
        },
        {
          "data": {
            "image/png": "[encoded data removed]",
            "text/plain": [
              "<Figure size 1440x432 with 1 Axes>"
            ]
          },
          "metadata": {
            "needs_background": "light"
          },
          "output_type": "display_data"
        }
      ],
      "source": [
        "user_means = df.groupby(\"userID\").rating.mean().sort_values()\n",
        "_, ax = plt.subplots(figsize=(20, 6))\n",
        "ax.plot(np.arange(len(user_means)), user_means.values, \"k-\")\n"
      ]
    },
    {
      "cell_type": "code",
      "execution_count": 25,
      "metadata": {
        "colab": {
          "base_uri": "https://localhost:8080/",
          "height": 367
        },
        "id": "VQfmX7OwGaRN",
        "outputId": "65757a6a-d630-49fc-a97c-0742c3a1b7a5"
      },
      "outputs": [
        {
          "data": {
            "image/png": "[encoded data removed]",
            "text/plain": [
              "<Figure size 1152x432 with 1 Axes>"
            ]
          },
          "metadata": {
            "needs_background": "light"
          },
          "output_type": "display_data"
        }
      ],
      "source": [
        "item_means=item_df.rating.apply(lambda x: np.mean(x))\n",
        "item_means[:50].plot(kind=\"bar\", grid=False, figsize=(16, 6), title=\"Mean ratings for 50 items\");"
      ]
    },
    {
      "cell_type": "code",
      "execution_count": 26,
      "metadata": {
        "colab": {
          "base_uri": "https://localhost:8080/",
          "height": 201
        },
        "id": "6Dyp-7KeGyoK",
        "outputId": "6d657471-73d2-4291-aa92-49de438f0a59"
      },
      "outputs": [
        {
          "data": {
            "image/png": "[encoded data removed]",
            "text/plain": [
              "<Figure size 2304x432 with 2 Axes>"
            ]
          },
          "metadata": {
            "needs_background": "light"
          },
          "output_type": "display_data"
        }
      ],
      "source": [
        "fig, (ax1, ax2) = plt.subplots(ncols=2, figsize=(32,6), sharey=True)\n",
        "item_means.nlargest(50).plot(kind=\"bar\", ax=ax1, title=\"Top 50 items in data set\")\n",
        "item_means.nsmallest(50).plot(kind=\"bar\", ax=ax2, title=\"Bottom 50 items in data set\");"
      ]
    },
    {
      "cell_type": "markdown",
      "metadata": {
        "id": "IxGLa04uYQRt"
      },
      "source": [
        "## Reviews"
      ]
    },
    {
      "cell_type": "code",
      "execution_count": 27,
      "metadata": {
        "colab": {
          "base_uri": "https://localhost:8080/"
        },
        "id": "z0QEq-vnYohN",
        "outputId": "183d2ce2-65c2-49c9-ca8c-7f216083e4bc"
      },
      "outputs": [
        {
          "data": {
            "text/plain": [
              "count     151254\n",
              "unique    151199\n",
              "top             \n",
              "freq          22\n",
              "Name: reviewText, dtype: object"
            ]
          },
          "execution_count": 27,
          "metadata": {},
          "output_type": "execute_result"
        }
      ],
      "source": [
        "df['reviewText'].describe()"
      ]
    },
    {
      "cell_type": "code",
      "execution_count": 28,
      "metadata": {
        "colab": {
          "base_uri": "https://localhost:8080/",
          "height": 459
        },
        "id": "OLw7n7EcbEKV",
        "outputId": "ffd1376f-19a1-42f2-a991-e490d04d84d4"
      },
      "outputs": [
        {
          "data": {
            "text/plain": [
              "count    151254.000000\n",
              "mean        509.002142\n",
              "std         524.745639\n",
              "min           0.000000\n",
              "25%         191.000000\n",
              "50%         353.000000\n",
              "75%         644.000000\n",
              "max       29569.000000\n",
              "Name: reviewText, dtype: float64"
            ]
          },
          "execution_count": 28,
          "metadata": {},
          "output_type": "execute_result"
        },
        {
          "data": {
            "image/png": "[encoded data removed]",
            "text/plain": [
              "<Figure size 1728x576 with 1 Axes>"
            ]
          },
          "metadata": {
            "needs_background": "light"
          },
          "output_type": "display_data"
        }
      ],
      "source": [
        "# review length\n",
        "rv_le=df['reviewText'].apply(lambda x:len(x) )\n",
        "rv_le.plot(kind='hist',bins=2000,figsize=(24, 8),xlabel=\"length of reviews\")\n",
        "rv_le.describe()\n"
      ]
    },
    {
      "cell_type": "code",
      "execution_count": 29,
      "metadata": {
        "colab": {
          "base_uri": "https://localhost:8080/"
        },
        "id": "LTgNznNQ8aR1",
        "outputId": "3c1809ac-2fc3-4d67-ce83-7253c8687332"
      },
      "outputs": [
        {
          "name": "stdout",
          "output_type": "stream",
          "text": [
            "mean of reviews per user: 10.302704175464887\n",
            "mean of words per review: 509.00214209211\n",
            "mean of words per user: 5244.098494652953\n"
          ]
        }
      ],
      "source": [
        "sum=0\n",
        "sum2=0\n",
        "for x in user_df['reviewText']:\n",
        "  sum+=len(x)\n",
        "  for y in x:\n",
        "   sum2 +=len(y)\n",
        "\n",
        "r_mean=sum/len(user_df['reviewText'])\n",
        "w_mean=sum2/(r_mean*len(user_df['reviewText']))\n",
        "print('mean of reviews per user:', r_mean)\n",
        "print('mean of words per review:', w_mean)\n",
        "print('mean of words per user:',r_mean * w_mean)\n",
        "# plot for reviews per user"
      ]
    },
    {
      "cell_type": "code",
      "execution_count": 30,
      "metadata": {},
      "outputs": [
        {
          "data": {
            "text/plain": [
              "855"
            ]
          },
          "execution_count": 30,
          "metadata": {},
          "output_type": "execute_result"
        }
      ],
      "source": [
        "a=item_df['reviewText'].apply(len)\n",
        "len(a[a>32])"
      ]
    },
    {
      "cell_type": "code",
      "execution_count": 31,
      "metadata": {},
      "outputs": [
        {
          "data": {
            "text/plain": [
              "513"
            ]
          },
          "execution_count": 31,
          "metadata": {},
          "output_type": "execute_result"
        }
      ],
      "source": [
        "a=user_df['reviewText'].apply(len)\n",
        "len(a[a>32])"
      ]
    },
    {
      "cell_type": "code",
      "execution_count": 32,
      "metadata": {},
      "outputs": [
        {
          "data": {
            "text/plain": [
              "count    8713.000000\n",
              "mean       17.359578\n",
              "std        33.915980\n",
              "min         5.000000\n",
              "25%         6.000000\n",
              "50%         8.000000\n",
              "75%        14.000000\n",
              "max       742.000000\n",
              "Name: reviewText, dtype: float64"
            ]
          },
          "execution_count": 32,
          "metadata": {},
          "output_type": "execute_result"
        },
        {
          "data": {
            "image/png": "[encoded data removed]",
            "text/plain": [
              "<Figure size 1728x576 with 1 Axes>"
            ]
          },
          "metadata": {
            "needs_background": "light"
          },
          "output_type": "display_data"
        }
      ],
      "source": [
        "rv_le=item_df['reviewText'].apply(lambda x:len(x) )\n",
        "rv_le.plot(kind='hist',bins=2000,figsize=(24, 8),xlabel=\"length of reviews\")\n",
        "rv_le.describe()"
      ]
    },
    {
      "cell_type": "code",
      "execution_count": 33,
      "metadata": {},
      "outputs": [
        {
          "data": {
            "text/plain": [
              "count    14681.000000\n",
              "mean        10.302704\n",
              "std         10.581392\n",
              "min          5.000000\n",
              "25%          5.000000\n",
              "50%          7.000000\n",
              "75%         11.000000\n",
              "max        204.000000\n",
              "Name: reviewText, dtype: float64"
            ]
          },
          "execution_count": 33,
          "metadata": {},
          "output_type": "execute_result"
        },
        {
          "data": {
            "image/png": "[encoded data removed]",
            "text/plain": [
              "<Figure size 1728x576 with 1 Axes>"
            ]
          },
          "metadata": {
            "needs_background": "light"
          },
          "output_type": "display_data"
        }
      ],
      "source": [
        "rv_le=user_df['reviewText'].apply(lambda x:len(x) )\n",
        "rv_le.plot(kind='hist',bins=2000,figsize=(24, 8),xlabel=\"length of reviews\")\n",
        "rv_le.describe()"
      ]
    },
    {
      "cell_type": "code",
      "execution_count": 34,
      "metadata": {
        "colab": {
          "base_uri": "https://localhost:8080/"
        },
        "id": "Nje_ix7gAaf3",
        "outputId": "c3260e88-aa4f-46f3-aa38-85cbb25e0219"
      },
      "outputs": [
        {
          "name": "stdout",
          "output_type": "stream",
          "text": [
            "mean of reviews per item: 17.359577642603007\n",
            "mean of words per review: 509.00214209211\n",
            "mean of words per item: 8836.062205899232\n"
          ]
        }
      ],
      "source": [
        "sum=0\n",
        "sum2=0\n",
        "for x in item_df['reviewText']:\n",
        "  sum+=len(x)\n",
        "  for y in x:\n",
        "   sum2 +=len(y)\n",
        "\n",
        "r_mean=sum/len(item_df['reviewText'])\n",
        "w_mean=sum2/(r_mean*len(item_df['reviewText']))\n",
        "print('mean of reviews per item:', r_mean)\n",
        "print('mean of words per review:', w_mean)\n",
        "print('mean of words per item:',r_mean * w_mean)"
      ]
    },
    {
      "cell_type": "markdown",
      "metadata": {
        "id": "IvMysaUvxxU3"
      },
      "source": [
        "# **Embedding Matrix**"
      ]
    },
    {
      "cell_type": "code",
      "execution_count": 35,
      "metadata": {
        "id": "WovD0fA5q-J6"
      },
      "outputs": [],
      "source": [
        "# hyperparameters\n",
        "embedding_dim=300\n",
        "min_frequent_word_num=1\n",
        "max_vocab_size=5000\n",
        "sequence_length=50"
      ]
    },
    {
      "cell_type": "code",
      "execution_count": 36,
      "metadata": {},
      "outputs": [],
      "source": [
        "def tf_lower_and_split_punct(text):\n",
        "  text = tf_text.normalize_utf8(text, 'NFKD')\n",
        "  text = tf.strings.lower(text)\n",
        "  text = tf.strings.regex_replace(text, '[^ a-z.?!,¿]', '')\n",
        "  text = tf.strings.regex_replace(text, '[.?!,¿]', r' \\0 ')\n",
        "  text = tf.strings.strip(text)\n",
        "  text= tf.strings.reduce_join( tf.strings.split(text)[:,:sequence_length-2],axis=-1,separator=' ')\n",
        "  return  text.numpy()"
      ]
    },
    {
      "cell_type": "code",
      "execution_count": 37,
      "metadata": {},
      "outputs": [],
      "source": [
        "with tf.device('/CPU:0'):\n",
        "    user_corpus =list(map(tf_lower_and_split_punct,user_df['reviewText'])) \n",
        "    item_corpus = list( map(tf_lower_and_split_punct,item_df['reviewText']) )"
      ]
    },
    {
      "cell_type": "code",
      "execution_count": 38,
      "metadata": {},
      "outputs": [],
      "source": [
        "def load_word2vec_model():\n",
        "    if os.path.exists(\"word2vec.wordvectors\"):\n",
        "        print(\"loaded from word2vec.wordvectors\")\n",
        "        return KeyedVectors.load(\"word2vec.wordvectors\",mmap='r')\n",
        "    else:\n",
        "        # downloading google news word2vec model\n",
        "        if not os.path.exists(\"word2vec_google.bin\"):\n",
        "            downloaded_model = api.load('word2vec-google-news-300')\n",
        "            downloaded_model.save_word2vec_format('word2vec_google.bin',binary=True)\n",
        "            del downloaded_model\n",
        "        # loading google news word2vec model\n",
        "        google_word2vec = KeyedVectors.load_word2vec_format(\"word2vec_google.bin\", binary=True)\n",
        "\n",
        "       # tokenizing the whole reviews in text_corpus\n",
        "        text_corpus=[]\n",
        "        for i,doc in enumerate(user_corpus):    # iterate through each sentence in the reviews\n",
        "            for rv in doc:\n",
        "                for sen in sent_tokenize(rv.decode(\"utf-8\")):\n",
        "                    temp = []\n",
        "                    # tokenize the sentence into words          \n",
        "                    for j in word_tokenize(sen):\n",
        "                        temp.append(j.lower())\n",
        "                    text_corpus.append(temp)\n",
        "                    del temp\n",
        "\n",
        "\n",
        "        # creating a new word2vec model and initializing it from pretrained google_word2vec\n",
        "        word2vec_model=Word2Vec( text_corpus,max_final_vocab=max_vocab_size,min_count=min_frequent_word_num ,vector_size= embedding_dim,window = 1,workers=16, sg=1,epochs=1)\n",
        "        word2vec_model.build_vocab(text_corpus)\n",
        "\n",
        "        word2vec_model.build_vocab([google_word2vec.index_to_key],update=True)\n",
        "        word2vec_model.wv.vectors_lockf = np.ones(len(word2vec_model.wv))\n",
        "        word2vec_model.wv.intersect_word2vec_format(\"word2vec_google.bin\",binary=True,lockf=1.0)\n",
        "        \n",
        "        # fine tuning the model and saving it\n",
        "        word2vec_model.train(text_corpus, epochs=5, total_examples=word2vec_model.corpus_count)\n",
        "        word2vec_model.wv.save(\"word2vec.wordvectors\")\n",
        "        \n",
        "        del google_word2vec\n",
        "        del text_corpus[:]\n",
        "        gc.collect()\n",
        "  \n",
        "        return word2vec_model.wv\n",
        "        "
      ]
    },
    {
      "cell_type": "code",
      "execution_count": 39,
      "metadata": {},
      "outputs": [
        {
          "name": "stdout",
          "output_type": "stream",
          "text": [
            "loaded from word2vec.wordvectors\n",
            "embedding matrix shape : ( 4994  , 300 )\n"
          ]
        }
      ],
      "source": [
        "# loading the embedding lookup matrix shape=( 5k ,300 )\n",
        "embedding_matrix = load_word2vec_model() \n",
        "print( \"embedding matrix shape : (\",len(embedding_matrix.index_to_key),\" ,\",embedding_matrix.vector_size,\")\")"
      ]
    },
    {
      "cell_type": "code",
      "execution_count": 40,
      "metadata": {},
      "outputs": [
        {
          "data": {
            "text/plain": [
              "['.',\n",
              " 'i',\n",
              " 'the',\n",
              " ',',\n",
              " 'a',\n",
              " 'and',\n",
              " 'to',\n",
              " 'it',\n",
              " 'this',\n",
              " 'is',\n",
              " 'of',\n",
              " 'for',\n",
              " 'in',\n",
              " 'my',\n",
              " 'but',\n",
              " 'that',\n",
              " 'are',\n",
              " 'not',\n",
              " 'with',\n",
              " 'have',\n",
              " 'like',\n",
              " 'these',\n",
              " 'was',\n",
              " 'good',\n",
              " 'you',\n",
              " '!',\n",
              " 'as',\n",
              " 'they',\n",
              " 'taste',\n",
              " 'so',\n",
              " 'on',\n",
              " 'flavor',\n",
              " 'great',\n",
              " 'coffee',\n",
              " 'very',\n",
              " 'love',\n",
              " 'its',\n",
              " 'just',\n",
              " 'one',\n",
              " 'them',\n",
              " 'or',\n",
              " 'be',\n",
              " 'tea',\n",
              " 'at',\n",
              " 'all',\n",
              " 'has',\n",
              " 'when',\n",
              " 'really',\n",
              " 'product',\n",
              " 'can',\n",
              " 'if',\n",
              " 'we',\n",
              " 'me',\n",
              " 'from',\n",
              " 'had',\n",
              " 'more',\n",
              " 'than',\n",
              " 'use',\n",
              " 'too',\n",
              " 'some',\n",
              " 'chocolate',\n",
              " 'would',\n",
              " 'much',\n",
              " 'tried',\n",
              " 'no',\n",
              " 'ive',\n",
              " 'dont',\n",
              " 'little',\n",
              " 'other',\n",
              " 'an',\n",
              " 'get',\n",
              " 'out',\n",
              " 'will',\n",
              " 'im',\n",
              " 'about',\n",
              " 'make',\n",
              " 'am',\n",
              " 'because',\n",
              " 'sweet',\n",
              " 'been',\n",
              " 'up',\n",
              " 'were',\n",
              " 'there',\n",
              " 'only',\n",
              " 'what',\n",
              " 'nice',\n",
              " 'best',\n",
              " 'drink',\n",
              " 'time',\n",
              " 'price',\n",
              " 'tastes',\n",
              " 'better',\n",
              " 'buy',\n",
              " 'first',\n",
              " 'well',\n",
              " 'sugar',\n",
              " 'try',\n",
              " 'water',\n",
              " 'eat',\n",
              " 'do',\n",
              " 'delicious',\n",
              " 'used',\n",
              " 'which',\n",
              " 'also',\n",
              " 'by',\n",
              " 'find',\n",
              " 'your',\n",
              " 'snack',\n",
              " 'even',\n",
              " 'tasty',\n",
              " 'favorite',\n",
              " 'organic',\n",
              " 'bought',\n",
              " 'cup',\n",
              " 'any',\n",
              " 'after',\n",
              " 'bit',\n",
              " 'always',\n",
              " 'made',\n",
              " 'found',\n",
              " 'lot',\n",
              " 'free',\n",
              " 'many',\n",
              " 'easy',\n",
              " 'most',\n",
              " 'amazon',\n",
              " 'mix',\n",
              " 'brand',\n",
              " 'add',\n",
              " 'way',\n",
              " 'fresh',\n",
              " 'think',\n",
              " 'our',\n",
              " 'now',\n",
              " 'hot',\n",
              " 'bag',\n",
              " 'flavors',\n",
              " 'food',\n",
              " 'strong',\n",
              " 'box',\n",
              " 'healthy',\n",
              " 'got',\n",
              " 'since',\n",
              " 'milk',\n",
              " 'makes',\n",
              " 'cookies',\n",
              " 'different',\n",
              " 'bars',\n",
              " 'coconut',\n",
              " 'go',\n",
              " 'didnt',\n",
              " 'again',\n",
              " 'pretty',\n",
              " 'thought',\n",
              " 'say',\n",
              " 'who',\n",
              " 'years',\n",
              " 'did',\n",
              " 'their',\n",
              " 'never',\n",
              " 'right',\n",
              " 'stuff',\n",
              " 'does',\n",
              " '?',\n",
              " 'butter',\n",
              " 'over',\n",
              " 'products',\n",
              " 'perfect',\n",
              " 'something',\n",
              " 'then',\n",
              " 'while',\n",
              " 'without',\n",
              " 'oil',\n",
              " 'quality',\n",
              " 'sauce',\n",
              " 'dark',\n",
              " 'store',\n",
              " 'texture',\n",
              " 'gluten',\n",
              " 'know',\n",
              " 'how',\n",
              " 'fruit',\n",
              " 'rice',\n",
              " 'tasting',\n",
              " 'could',\n",
              " 'cant',\n",
              " 'however',\n",
              " 'cereal',\n",
              " 'want',\n",
              " 'before',\n",
              " 'regular',\n",
              " 'enjoy',\n",
              " 'using',\n",
              " 'whole',\n",
              " 'two',\n",
              " 'day',\n",
              " 'every',\n",
              " 'quite',\n",
              " 'salt',\n",
              " 'pack',\n",
              " 'enough',\n",
              " 'few',\n",
              " 'into',\n",
              " 'big',\n",
              " 'doesnt',\n",
              " 'need',\n",
              " 'bar',\n",
              " 'hard',\n",
              " 'green',\n",
              " 'popcorn',\n",
              " 'still',\n",
              " 'pasta',\n",
              " 'fan',\n",
              " 'give',\n",
              " 'eating',\n",
              " 'wonderful',\n",
              " 'family',\n",
              " 'ingredients',\n",
              " 'tasted',\n",
              " 'order',\n",
              " 'keep',\n",
              " 'bad',\n",
              " 'size',\n",
              " 'being',\n",
              " 'kids',\n",
              " 'though',\n",
              " 'high',\n",
              " 'small',\n",
              " 'those',\n",
              " 'sure',\n",
              " 'chips',\n",
              " 'honey',\n",
              " 'usually',\n",
              " 'ever',\n",
              " 'soup',\n",
              " 'put',\n",
              " 'excellent',\n",
              " 'cheese',\n",
              " 'package',\n",
              " 'natural',\n",
              " 'ordered',\n",
              " 'less',\n",
              " 'long',\n",
              " 'looking',\n",
              " 'crackers',\n",
              " 'flavored',\n",
              " 'liked',\n",
              " 'both',\n",
              " 'real',\n",
              " 'peanut',\n",
              " 'calories',\n",
              " 'new',\n",
              " 'blend',\n",
              " 'same',\n",
              " 'far',\n",
              " 'vanilla',\n",
              " 'he',\n",
              " 'added',\n",
              " 'light',\n",
              " 'work',\n",
              " 'actually',\n",
              " 'husband',\n",
              " 'brands',\n",
              " 'thing',\n",
              " 'definitely',\n",
              " 'trying',\n",
              " 'almost',\n",
              " 'here',\n",
              " 'breakfast',\n",
              " 'each',\n",
              " 'bread',\n",
              " 'variety',\n",
              " 'recommend',\n",
              " 'buying',\n",
              " 'candy',\n",
              " 'loves',\n",
              " 'cinnamon',\n",
              " 'theyre',\n",
              " 'prefer',\n",
              " 'smooth',\n",
              " 'morning',\n",
              " 'purchased',\n",
              " 'roast',\n",
              " 'kind',\n",
              " 'juice',\n",
              " 'things',\n",
              " 'low',\n",
              " 'several',\n",
              " 'off',\n",
              " 'energy',\n",
              " 'having',\n",
              " 'diet',\n",
              " 'crunchy',\n",
              " 'take',\n",
              " 'bags',\n",
              " 'oatmeal',\n",
              " 'amount',\n",
              " 'loved',\n",
              " 'anything',\n",
              " 'own',\n",
              " 'snacks',\n",
              " 'quick',\n",
              " 'comes',\n",
              " 'people',\n",
              " 'she',\n",
              " 'black',\n",
              " 'isnt',\n",
              " 'bitter',\n",
              " 'rich',\n",
              " 'review',\n",
              " 'old',\n",
              " 'enjoyed',\n",
              " 'back',\n",
              " 'ginger',\n",
              " 'reviews',\n",
              " 'local',\n",
              " 'see',\n",
              " 'making',\n",
              " 'especially',\n",
              " 'chicken',\n",
              " 'apple',\n",
              " 'corn',\n",
              " 'flour',\n",
              " 'thats',\n",
              " 'full',\n",
              " 'through',\n",
              " 'happy',\n",
              " 'beans',\n",
              " 'id',\n",
              " 'teas',\n",
              " 'foods',\n",
              " 'going',\n",
              " 'last',\n",
              " 'nothing',\n",
              " 'keurig',\n",
              " 'purchase',\n",
              " 'protein',\n",
              " 'white',\n",
              " 'nuts',\n",
              " 'another',\n",
              " 'spicy',\n",
              " 'meal',\n",
              " 'cooking',\n",
              " 'ok',\n",
              " 'grocery',\n",
              " 'drinks',\n",
              " 'came',\n",
              " 'health',\n",
              " 'come',\n",
              " 'probably',\n",
              " 'expensive',\n",
              " 'ones',\n",
              " 'granola',\n",
              " 'wasnt',\n",
              " 'red',\n",
              " 'feel',\n",
              " 'oz',\n",
              " 'cookie',\n",
              " 'around',\n",
              " 'syrup',\n",
              " 'decided',\n",
              " 'house',\n",
              " 'seems',\n",
              " 'cook',\n",
              " 'home',\n",
              " 'said',\n",
              " 'received',\n",
              " 'fine',\n",
              " 'year',\n",
              " 'down',\n",
              " 'should',\n",
              " 'treat',\n",
              " 'powder',\n",
              " 'cups',\n",
              " 'drinking',\n",
              " 'per',\n",
              " 'surprised',\n",
              " 'may',\n",
              " 'coffees',\n",
              " 'dried',\n",
              " 'packaging',\n",
              " 'yummy',\n",
              " 'although',\n",
              " 'dry',\n",
              " 'kcups',\n",
              " 'others',\n",
              " 'wanted',\n",
              " 'such',\n",
              " 'fact',\n",
              " 'large',\n",
              " 'bottle',\n",
              " 'arrived',\n",
              " 'extra',\n",
              " 'save',\n",
              " 'bold',\n",
              " 'salty',\n",
              " 'works',\n",
              " 'side',\n",
              " 'might',\n",
              " 'caramel',\n",
              " 'once',\n",
              " 'baking',\n",
              " 'instant',\n",
              " 'wheat',\n",
              " 'soft',\n",
              " 'times',\n",
              " 'fat',\n",
              " 'instead',\n",
              " 'flavorful',\n",
              " 'seeds',\n",
              " 'getting',\n",
              " 'chewy',\n",
              " 'cream',\n",
              " 'smell',\n",
              " 'us',\n",
              " 'half',\n",
              " 'why',\n",
              " 'youre',\n",
              " 'fiber',\n",
              " 'sometimes',\n",
              " 'kcup',\n",
              " 'disappointed',\n",
              " 'mild',\n",
              " 'noodles',\n",
              " 'top',\n",
              " 'often',\n",
              " 'ounce',\n",
              " 'three',\n",
              " 'absolutely',\n",
              " 'plain',\n",
              " 'item',\n",
              " 'wish',\n",
              " 'myself',\n",
              " 'ago',\n",
              " 'everything',\n",
              " 'cold',\n",
              " 'alternative',\n",
              " 'deal',\n",
              " 'either',\n",
              " 'brown',\n",
              " 'version',\n",
              " 'gave',\n",
              " 'lunch',\n",
              " 'stores',\n",
              " 'rather',\n",
              " 'creamy',\n",
              " 'type',\n",
              " 'mixed',\n",
              " 'filling',\n",
              " 'her',\n",
              " 'where',\n",
              " 'artificial',\n",
              " 'maybe',\n",
              " 'almonds',\n",
              " 'wife',\n",
              " 'read',\n",
              " 'available',\n",
              " 'convenient',\n",
              " 'ill',\n",
              " 'aftertaste',\n",
              " 'least',\n",
              " 'yet',\n",
              " 'almond',\n",
              " 'worth',\n",
              " 'caffeine',\n",
              " 'decaf',\n",
              " 'highly',\n",
              " 'expected',\n",
              " 'tuna',\n",
              " 'must',\n",
              " 'lemon',\n",
              " 'okay',\n",
              " 'slightly',\n",
              " 'open',\n",
              " 'subscribe',\n",
              " 'huge',\n",
              " 'couple',\n",
              " 'aroma',\n",
              " 'stars',\n",
              " 'son',\n",
              " 'plus',\n",
              " 'amazing',\n",
              " 'spice',\n",
              " 'wont',\n",
              " 'glad',\n",
              " 'hand',\n",
              " 'super',\n",
              " 'cocoa',\n",
              " 'able',\n",
              " 'serving',\n",
              " 'value',\n",
              " 'fast',\n",
              " 'away',\n",
              " 'case',\n",
              " 'company',\n",
              " 'look',\n",
              " 'expect',\n",
              " 'boxes',\n",
              " 'everyone',\n",
              " 'cans',\n",
              " 'nut',\n",
              " 'part',\n",
              " 'until',\n",
              " 'beef',\n",
              " 'soda',\n",
              " 'seem',\n",
              " 'likes',\n",
              " 'recipes',\n",
              " 'days',\n",
              " 'stevia',\n",
              " 'daughter',\n",
              " 'starbucks',\n",
              " 'raw',\n",
              " 'pieces',\n",
              " 'months',\n",
              " 'choice',\n",
              " 'lots',\n",
              " 'cheaper',\n",
              " 'theres',\n",
              " 'recently',\n",
              " 'similar',\n",
              " 'says',\n",
              " 'between',\n",
              " 'idea',\n",
              " 'crunch',\n",
              " 'quickly',\n",
              " 'let',\n",
              " 'french',\n",
              " 'etc',\n",
              " 'recipe',\n",
              " 'problem',\n",
              " 'packaged',\n",
              " 'started',\n",
              " 'microwave',\n",
              " 'care',\n",
              " 'glutenfree',\n",
              " 'couldnt',\n",
              " 'market',\n",
              " 'brew',\n",
              " 'saw',\n",
              " 'contains',\n",
              " 'iced',\n",
              " 'special',\n",
              " 'awesome',\n",
              " 'havent',\n",
              " 'medium',\n",
              " 'container',\n",
              " 'exactly',\n",
              " 'tell',\n",
              " 'ground',\n",
              " 'past',\n",
              " 'machine',\n",
              " 'difference',\n",
              " 'grain',\n",
              " 'seasoning',\n",
              " 'goes',\n",
              " 'bite',\n",
              " 'jerky',\n",
              " 'compared',\n",
              " 'minutes',\n",
              " 'mouth',\n",
              " 'pepper',\n",
              " 'decent',\n",
              " 'simply',\n",
              " 'original',\n",
              " 'healthier',\n",
              " 'canned',\n",
              " 'adding',\n",
              " 'salad',\n",
              " 'jar',\n",
              " 'ice',\n",
              " 'else',\n",
              " 'sweetness',\n",
              " 'opened',\n",
              " 'cut',\n",
              " 'soups',\n",
              " 'bland',\n",
              " 'orange',\n",
              " 'fantastic',\n",
              " 'second',\n",
              " 'name',\n",
              " 'refreshing',\n",
              " 'normally',\n",
              " 'excited',\n",
              " 'meat',\n",
              " 'yes',\n",
              " 'soy',\n",
              " 'went',\n",
              " 'took',\n",
              " 'plastic',\n",
              " 'start',\n",
              " 'weak',\n",
              " 'lipton',\n",
              " 'his',\n",
              " 'dish',\n",
              " 'arent',\n",
              " 'packets',\n",
              " 'wrong',\n",
              " 'k',\n",
              " 'hint',\n",
              " 'pleased',\n",
              " 'cracker',\n",
              " 'shipping',\n",
              " 'money',\n",
              " 'oats',\n",
              " 'pure',\n",
              " 'ordering',\n",
              " 'pop',\n",
              " 'sodium',\n",
              " 'eaten',\n",
              " 'expecting',\n",
              " 'garlic',\n",
              " 'baked',\n",
              " 'reason',\n",
              " 'combination',\n",
              " 'easily',\n",
              " 'olive',\n",
              " 'baby',\n",
              " 'drinker',\n",
              " 'course',\n",
              " 'chili',\n",
              " 'gift',\n",
              " 'crisp',\n",
              " 'single',\n",
              " 'calorie',\n",
              " 'heat',\n",
              " 'smaller',\n",
              " 'anyone',\n",
              " 'recommended',\n",
              " 'packet',\n",
              " 'simple',\n",
              " 'already',\n",
              " 'help',\n",
              " 'packs',\n",
              " 'along',\n",
              " 'roasted',\n",
              " 'pleasant',\n",
              " 'thin',\n",
              " 'dinner',\n",
              " 'thick',\n",
              " 'sweetener',\n",
              " 'potato',\n",
              " 'mixes',\n",
              " 'cheddar',\n",
              " 'smells',\n",
              " 'cost',\n",
              " 'bowl',\n",
              " 'unfortunately',\n",
              " 'itself',\n",
              " 'cherry',\n",
              " 'guess',\n",
              " 'items',\n",
              " 'benefits',\n",
              " 'mostly',\n",
              " 'wouldnt',\n",
              " 'needed',\n",
              " 'cooked',\n",
              " 'homemade',\n",
              " 'ingredient',\n",
              " 'graham',\n",
              " 'packages',\n",
              " 'gives',\n",
              " 'chip',\n",
              " 'bobs',\n",
              " 'mint',\n",
              " 'ate',\n",
              " 'spices',\n",
              " 'someone',\n",
              " 'strawberry',\n",
              " 'bulk',\n",
              " 'consistency',\n",
              " 'prepare',\n",
              " 'dishes',\n",
              " 'daily',\n",
              " 'liquid',\n",
              " 'week',\n",
              " 'friends',\n",
              " 'chai',\n",
              " 'takes',\n",
              " 'night',\n",
              " 'life',\n",
              " 'believe',\n",
              " 'youll',\n",
              " 'seemed',\n",
              " 'substitute',\n",
              " 'live',\n",
              " 'based',\n",
              " 'satisfying',\n",
              " 'crispy',\n",
              " 'favorites',\n",
              " 'overall',\n",
              " 'four',\n",
              " 'change',\n",
              " 'line',\n",
              " 'yogurt',\n",
              " 'together',\n",
              " 'color',\n",
              " 'varieties',\n",
              " 'longer',\n",
              " 'glass',\n",
              " 'admit',\n",
              " 'gum',\n",
              " 'list',\n",
              " 'espresso',\n",
              " 'close',\n",
              " 'during',\n",
              " 'place',\n",
              " 'overly',\n",
              " 'addition',\n",
              " 'blueberry',\n",
              " 'licorice',\n",
              " 'mill',\n",
              " 'peach',\n",
              " 'meals',\n",
              " 'wow',\n",
              " 'month',\n",
              " 'friend',\n",
              " 'packed',\n",
              " 'experience',\n",
              " 'certainly',\n",
              " 'mine',\n",
              " 'gf',\n",
              " 'pumpkin',\n",
              " 'due',\n",
              " 'bean',\n",
              " 'tomato',\n",
              " 'pleasantly',\n",
              " 'pot',\n",
              " 'hit',\n",
              " 'next',\n",
              " 'beverage',\n",
              " 'remember',\n",
              " 'sea',\n",
              " 'vegan',\n",
              " 'weve',\n",
              " 'cake',\n",
              " 'opinion',\n",
              " 'smoothies',\n",
              " 'true',\n",
              " 'maple',\n",
              " 'somewhat',\n",
              " 'reading',\n",
              " 'inside',\n",
              " 'maker',\n",
              " 'extremely',\n",
              " 'particular',\n",
              " 'candies',\n",
              " 'fairly',\n",
              " 'g',\n",
              " 'pancakes',\n",
              " 'chocolates',\n",
              " 'larger',\n",
              " 'needs',\n",
              " 'flavoring',\n",
              " 'impressed',\n",
              " 'mango',\n",
              " 'stronger',\n",
              " 'clean',\n",
              " 'generally',\n",
              " 'peanuts',\n",
              " 'contain',\n",
              " 'adds',\n",
              " 'sale',\n",
              " 'splenda',\n",
              " 'vegetables',\n",
              " 'peppermint',\n",
              " 'barilla',\n",
              " 'sort',\n",
              " 'person',\n",
              " 'traditional',\n",
              " 'end',\n",
              " 'star',\n",
              " 'moist',\n",
              " 'sauces',\n",
              " 'except',\n",
              " 'leaves',\n",
              " 'run',\n",
              " 'vine',\n",
              " 'sample',\n",
              " 'bottles',\n",
              " 'types',\n",
              " 'today',\n",
              " 'given',\n",
              " 'left',\n",
              " 'kid',\n",
              " 'uses',\n",
              " 'perfectly',\n",
              " 'curry',\n",
              " 'cereals',\n",
              " 'difficult',\n",
              " 'potatoes',\n",
              " 'weight',\n",
              " 'grams',\n",
              " 'stick',\n",
              " 'convenience',\n",
              " 'mind',\n",
              " 'gets',\n",
              " 'shop',\n",
              " 'unlike',\n",
              " 'overpowering',\n",
              " 'grains',\n",
              " 'become',\n",
              " 'nutrition',\n",
              " 'tiny',\n",
              " 'kick',\n",
              " 'gone',\n",
              " 'hazelnut',\n",
              " 'office',\n",
              " 'fudge',\n",
              " 'option',\n",
              " 'berry',\n",
              " 'nicely',\n",
              " 'usual',\n",
              " 'veggies',\n",
              " 'brewed',\n",
              " 'banana',\n",
              " 'treats',\n",
              " 'spaghetti',\n",
              " 'salads',\n",
              " 'personally',\n",
              " 'italian',\n",
              " 'count',\n",
              " 'content',\n",
              " 'cheap',\n",
              " 'hate',\n",
              " 'label',\n",
              " 'handy',\n",
              " 'normal',\n",
              " 'him',\n",
              " 'noticed',\n",
              " 'raspberry',\n",
              " 'bake',\n",
              " 'sour',\n",
              " 'supposed',\n",
              " 'dressing',\n",
              " 'sweetened',\n",
              " 'world',\n",
              " 'tend',\n",
              " 'reviewers',\n",
              " 'flakes',\n",
              " 'herbal',\n",
              " 'switch',\n",
              " 'kinds',\n",
              " 'looks',\n",
              " 'individual',\n",
              " 'chia',\n",
              " 'discovered',\n",
              " 'stop',\n",
              " 'tart',\n",
              " 'helps',\n",
              " 'christmas',\n",
              " 'interesting',\n",
              " 'easier',\n",
              " 'weird',\n",
              " 'means',\n",
              " 'truly',\n",
              " 'looked',\n",
              " 'warm',\n",
              " 'fun',\n",
              " 'fish',\n",
              " 'body',\n",
              " 'pantry',\n",
              " 'raisins',\n",
              " 'heavy',\n",
              " 'oh',\n",
              " 'nutritional',\n",
              " 'cashews',\n",
              " 'directions',\n",
              " 'mac',\n",
              " 'afternoon',\n",
              " 'five',\n",
              " 'heard',\n",
              " 'ready',\n",
              " 'reasonable',\n",
              " 'serve',\n",
              " 'subtle',\n",
              " 'finally',\n",
              " 'stomach',\n",
              " 'standard',\n",
              " 'sweeteners',\n",
              " 'call',\n",
              " 'priced',\n",
              " 'program',\n",
              " 'yum',\n",
              " 'lower',\n",
              " 'beat',\n",
              " 'powdered',\n",
              " 'lover',\n",
              " 'carry',\n",
              " 'leave',\n",
              " 'summer',\n",
              " 'sold',\n",
              " 'various',\n",
              " 'giving',\n",
              " 'hoping',\n",
              " 'turned',\n",
              " 'entire',\n",
              " 'wrapped',\n",
              " 'fruity',\n",
              " 'picky',\n",
              " 'nutty',\n",
              " 'done',\n",
              " 'stale',\n",
              " 'vitamin',\n",
              " 'kitchen',\n",
              " 'pods',\n",
              " 'children',\n",
              " 'mountain',\n",
              " 'bits',\n",
              " 'stay',\n",
              " 'stock',\n",
              " 'online',\n",
              " 'vegetable',\n",
              " 'forward',\n",
              " 'formula',\n",
              " 'compare',\n",
              " 'pound',\n",
              " 'boost',\n",
              " 'seen',\n",
              " 'thinking',\n",
              " 'apples',\n",
              " 'gourmet',\n",
              " 'basically',\n",
              " 'soon',\n",
              " 'quaker',\n",
              " 'slight',\n",
              " 'couscous',\n",
              " 'date',\n",
              " 'called',\n",
              " 'whatever',\n",
              " 'number',\n",
              " 'brewing',\n",
              " 'description',\n",
              " 'continue',\n",
              " 'sardines',\n",
              " 'berries',\n",
              " 'eggs',\n",
              " 'fair',\n",
              " 'school',\n",
              " 'notice',\n",
              " 'point',\n",
              " 'pomegranate',\n",
              " 'perhaps',\n",
              " 'purchasing',\n",
              " 'vitamins',\n",
              " 'sent',\n",
              " 'cooks',\n",
              " 'grey',\n",
              " 'batch',\n",
              " 'creamer',\n",
              " 'filled',\n",
              " 'pricey',\n",
              " 'including',\n",
              " 'finding',\n",
              " 'taco',\n",
              " 'thai',\n",
              " 'nearly',\n",
              " 'fit',\n",
              " 'quinoa',\n",
              " 'processed',\n",
              " 'blends',\n",
              " 'alone',\n",
              " 'locally',\n",
              " 'mean',\n",
              " 'completely',\n",
              " 'portion',\n",
              " 'nutritious',\n",
              " 'craving',\n",
              " 'thank',\n",
              " 'rest',\n",
              " 'noodle',\n",
              " 'problems',\n",
              " 'pizza',\n",
              " 'mio',\n",
              " 'unless',\n",
              " 'pick',\n",
              " 'chance',\n",
              " 'opening',\n",
              " 'keeps',\n",
              " 'felt',\n",
              " 'earl',\n",
              " 'pay',\n",
              " 'reminds',\n",
              " 'sticks',\n",
              " 'pouch',\n",
              " 'short',\n",
              " 'plenty',\n",
              " 'style',\n",
              " 'particularly',\n",
              " 'grind',\n",
              " 'totally',\n",
              " 'supermarket',\n",
              " 'shake',\n",
              " 'staple',\n",
              " 'carbonated',\n",
              " 'piece',\n",
              " 'straight',\n",
              " 'individually',\n",
              " 'shape',\n",
              " 'replacement',\n",
              " ...]"
            ]
          },
          "execution_count": 40,
          "metadata": {},
          "output_type": "execute_result"
        }
      ],
      "source": [
        "embedding_matrix.index_to_key"
      ]
    },
    {
      "cell_type": "code",
      "execution_count": 41,
      "metadata": {},
      "outputs": [
        {
          "data": {
            "text/plain": [
              "(4998, 300)"
            ]
          },
          "execution_count": 41,
          "metadata": {},
          "output_type": "execute_result"
        }
      ],
      "source": [
        "# exact vocab_size is equal to full_embedding_matrix shape[0]\n",
        "special_token_embedding = np.random.rand(4,embedding_matrix.vector_size)\n",
        "full_embedding_matrix = np.concatenate((special_token_embedding,embedding_matrix.vectors))\n",
        "full_embedding_matrix.shape"
      ]
    },
    {
      "cell_type": "code",
      "execution_count": 42,
      "metadata": {},
      "outputs": [],
      "source": [
        "# example\n",
        "# embedding_matrix['keep']"
      ]
    },
    {
      "cell_type": "markdown",
      "metadata": {
        "id": "PVT3Ur54LsIz"
      },
      "source": [
        "# **Text Vectorization**"
      ]
    },
    {
      "cell_type": "code",
      "execution_count": 43,
      "metadata": {},
      "outputs": [
        {
          "name": "stdout",
          "output_type": "stream",
          "text": [
            "number of batches in train data 4254\n",
            "number of batches in test data 472\n"
          ]
        }
      ],
      "source": [
        "# hyperparameter\n",
        "\n",
        "batch_size=32\n",
        "num_batches=int(train_df.shape[0]/batch_size)\n",
        "num_batches_test=int(test_df.shape[0]/batch_size)\n",
        "print(\"number of batches in train data\",num_batches)\n",
        "print(\"number of batches in test data\",num_batches_test)"
      ]
    },
    {
      "cell_type": "markdown",
      "metadata": {},
      "source": [
        "## **Preprocessing**"
      ]
    },
    {
      "cell_type": "code",
      "execution_count": 44,
      "metadata": {},
      "outputs": [],
      "source": [
        "def tf_lower_and_split_punct_enc(text):\n",
        "  text = tf_text.normalize_utf8(text, 'NFKD')\n",
        "  text = tf.strings.lower(text)\n",
        "  text = tf.strings.regex_replace(text, '[^ a-z.?!,¿]', '')\n",
        "  text = tf.strings.regex_replace(text, '[.?!,¿]', r' \\0 ')\n",
        "  text = tf.strings.strip(text)\n",
        "  text = tf.strings.join(['[START]', text, '[END]'], separator=' ')\n",
        "  return text\n",
        "\n",
        "\n",
        "def tf_lower_and_split_punct_decin(text):\n",
        "  text = tf_text.normalize_utf8(text, 'NFKD')\n",
        "  text = tf.strings.lower(text)\n",
        "  text = tf.strings.regex_replace(text, '[^ a-z.?!,¿]', '')\n",
        "  text = tf.strings.regex_replace(text, '[.?!,¿]', r' \\0 ')\n",
        "  text = tf.strings.strip(text)\n",
        "  text = tf.strings.join(['[START]', text], separator=' ') \n",
        "  return text\n",
        "\n",
        "\n",
        "def tf_lower_and_split_punct_decout(text):\n",
        "  text = tf_text.normalize_utf8(text, 'NFKD')\n",
        "  text = tf.strings.lower(text)\n",
        "  text = tf.strings.regex_replace(text, '[^ a-z.?!,¿]', '')\n",
        "  text = tf.strings.regex_replace(text, '[.?!,¿]', r' \\0 ')\n",
        "  text = tf.strings.strip(text)\n",
        "  text = tf.strings.join([ text, '[END]'], separator=' ')\n",
        "  return text\n",
        "\n"
      ]
    },
    {
      "cell_type": "markdown",
      "metadata": {},
      "source": [
        "## Vectorization layer"
      ]
    },
    {
      "cell_type": "markdown",
      "metadata": {
        "id": "N4QVJNF8EGGe"
      },
      "source": [
        "- The conversion of tokens to ids"
      ]
    },
    {
      "cell_type": "code",
      "execution_count": 45,
      "metadata": {},
      "outputs": [],
      "source": [
        "enc_input_processor = tf.keras.layers.TextVectorization( max_tokens = max_vocab_size,\n",
        "                                                     standardize = tf_lower_and_split_punct_enc,\n",
        "                                                     output_sequence_length = sequence_length,  )\n",
        "dec_input_processor = tf.keras.layers.TextVectorization( max_tokens = max_vocab_size,\n",
        "                                                     standardize = tf_lower_and_split_punct_decin,\n",
        "                                                     output_sequence_length = sequence_length,  )\n",
        "\n",
        "dec_output_processor = tf.keras.layers.TextVectorization( max_tokens = max_vocab_size,\n",
        "                                                     standardize = tf_lower_and_split_punct_decout,\n",
        "                                                     output_sequence_length = sequence_length,  )"
      ]
    },
    {
      "cell_type": "code",
      "execution_count": 46,
      "metadata": {},
      "outputs": [],
      "source": [
        "enc_input_processor.set_vocabulary(['','[UNK]','[START]','[END]'] +  embedding_matrix.index_to_key )\n",
        "dec_input_processor.set_vocabulary(['','[UNK]','[START]','[END]'] +  embedding_matrix.index_to_key )\n",
        "dec_output_processor.set_vocabulary(['','[UNK]','[START]','[END]'] +  embedding_matrix.index_to_key )"
      ]
    },
    {
      "cell_type": "code",
      "execution_count": 47,
      "metadata": {},
      "outputs": [
        {
          "name": "stdout",
          "output_type": "stream",
          "text": [
            "3351\n",
            "caused\n"
          ]
        }
      ],
      "source": [
        "print(enc_input_processor.get_vocabulary().index('caused'))\n",
        "print(enc_input_processor.get_vocabulary()[3351])"
      ]
    },
    {
      "cell_type": "code",
      "execution_count": 48,
      "metadata": {},
      "outputs": [
        {
          "name": "stdout",
          "output_type": "stream",
          "text": [
            "input_text_processor vocab size : 4998\n",
            "['', '[UNK]', '[START]', '[END]', '.', 'i', 'the', ',', 'a', 'and', 'to', 'it', 'this', 'is', 'of', 'for']\n",
            "Just another flavor of Kit Kat but the taste is unique and a bit different.  The only thing that is bothersome is the price.  I thought it was a bit expensive....\n",
            "tf.Tensor(\n",
            "[  41  343   35   14 1318 4889   18    6   32   13 1010    9    8  120\n",
            "  150    4    6   87  267   19   13    1   13    6   93    4    5  157\n",
            "   11   26    8  120  354    4    4    4    4    3    0    0    0    0\n",
            "    0    0    0    0    0    0    0    0], shape=(50,), dtype=int64)\n"
          ]
        }
      ],
      "source": [
        "# included sos, eos, unk and space \n",
        "print(\"input_text_processor vocab size :\" ,len(enc_input_processor.get_vocabulary()))\n",
        "# Here are the first 16 words from the vocabulary:\n",
        "print(enc_input_processor.get_vocabulary()[:16])\n",
        "print(df['reviewText'][0])\n",
        "print(dec_output_processor(  df['reviewText'][0]))"
      ]
    },
    {
      "cell_type": "markdown",
      "metadata": {},
      "source": [
        "# **TF-IDF Matrix**"
      ]
    },
    {
      "cell_type": "code",
      "execution_count": 49,
      "metadata": {},
      "outputs": [
        {
          "name": "stdout",
          "output_type": "stream",
          "text": [
            "the length of tf-idf vocab 4992\n",
            "['', '!', ',', '[START]', '.', '?', '[END]']\n",
            "['!', '?', '.', ',']\n"
          ]
        }
      ],
      "source": [
        "with tf.device('/CPU:0'):\n",
        "\n",
        "  tfidf_calculator = tf.keras.layers.TextVectorization(\n",
        "    max_tokens  = max_vocab_size,\n",
        "    output_mode ='tf-idf',\n",
        "    pad_to_max_tokens = True  \n",
        "    )\n",
        "  tfidf_calculator.adapt(enc_input_processor.get_vocabulary()[:] )\n",
        "  print(\"the length of tf-idf vocab\",len(tfidf_calculator.get_vocabulary()))\n",
        "  print( list(set(enc_input_processor.get_vocabulary())-set(tfidf_calculator.get_vocabulary()))[:9])\n",
        "  print( list(set(embedding_matrix.index_to_key)-set(tfidf_calculator.get_vocabulary()))[:9])\n"
      ]
    },
    {
      "cell_type": "code",
      "execution_count": 50,
      "metadata": {},
      "outputs": [],
      "source": [
        "# with tf.device('/CPU:0'):\n",
        "\n",
        "#     user_tfidf = list( map(tfidf_calculator, user_corpus))\n",
        "#     item_tfidf = list( map(tfidf_calculator, item_corpus))\n"
      ]
    },
    {
      "cell_type": "markdown",
      "metadata": {},
      "source": [
        "# **Forming Dataset**"
      ]
    },
    {
      "cell_type": "code",
      "execution_count": 51,
      "metadata": {},
      "outputs": [],
      "source": [
        "# convert string id to int id\n",
        "user_to_row = {}\n",
        "item_to_column = {}\n",
        "\n",
        "for i, user_id in enumerate(np.unique(df['userID'])):\n",
        "    user_to_row[user_id] = i\n",
        "\n",
        "for j, item_id in enumerate(np.unique(df['itemID'].tolist())):\n",
        "    item_to_column[item_id] = j"
      ]
    },
    {
      "cell_type": "code",
      "execution_count": 52,
      "metadata": {},
      "outputs": [],
      "source": [
        "train_ds = tf.data.Dataset.from_tensor_slices(\n",
        "    (\n",
        "       [user_to_row[dp] for dp in train_df['userID']],\n",
        "       [item_to_column[dp] for dp in train_df['itemID']],\n",
        "       tf.cast(train_df['rating'],dtype=tf.int8),\n",
        "       tf.cast(dec_input_processor(train_df['reviewText']),dtype=tf.int32),\n",
        "       tf.cast(dec_output_processor(train_df['reviewText']),dtype=tf.int32)       \n",
        "    )\n",
        ").shuffle(1024).batch(batch_size,drop_remainder=True)\n",
        "test_ds = tf.data.Dataset.from_tensor_slices(\n",
        "    (\n",
        "      [user_to_row[dp] for dp in test_df['userID']],\n",
        "      [item_to_column[dp] for dp in test_df['itemID']],\n",
        "      tf.cast(test_df['rating'],dtype=tf.int8),\n",
        "      tf.cast(dec_input_processor(test_df['reviewText']),dtype=tf.int32),\n",
        "      tf.cast(dec_output_processor(test_df['reviewText']),dtype=tf.int32)         \n",
        "    )\n",
        ").shuffle(1024).batch(batch_size,drop_remainder=True)"
      ]
    },
    {
      "cell_type": "code",
      "execution_count": 53,
      "metadata": {},
      "outputs": [
        {
          "name": "stdout",
          "output_type": "stream",
          "text": [
            "train and test data number :  136129  ,  15125\n"
          ]
        }
      ],
      "source": [
        "train_data_num=train_df.shape[0]\n",
        "test_data_num=test_df.shape[0]\n",
        "print(\"train and test data number : \",train_data_num,\" , \",test_data_num)"
      ]
    },
    {
      "cell_type": "code",
      "execution_count": 54,
      "metadata": {},
      "outputs": [
        {
          "name": "stdout",
          "output_type": "stream",
          "text": [
            "(<tf.Tensor: shape=(32,), dtype=int32, numpy=\n",
            "array([ 7365,  7159,  3679,  3611,  4430,  6144,  6408,  6174,   396,\n",
            "        4430, 10357,   177,  8170, 12977,  8961,  9725,  2648,   367,\n",
            "        2828,  2657,  1464, 13603,  1433,  6020,  4230, 14082,  2318,\n",
            "        5140,  4149, 13745,  8238,  9037], dtype=int32)>, <tf.Tensor: shape=(32,), dtype=int32, numpy=\n",
            "array([58, 58, 50, 38, 44, 58, 50,  0, 91, 34, 83, 70, 73, 78, 80,  1,  4,\n",
            "       81, 58, 64, 15, 88, 90, 27, 74, 28, 20,  3, 48, 31, 45,  0],\n",
            "      dtype=int32)>, <tf.Tensor: shape=(32,), dtype=int8, numpy=\n",
            "array([1, 4, 5, 5, 3, 4, 3, 4, 5, 1, 5, 5, 5, 5, 3, 5, 3, 5, 4, 5, 5, 5,\n",
            "       5, 5, 5, 2, 1, 5, 4, 5, 5, 5], dtype=int8)>, <tf.Tensor: shape=(32, 50), dtype=int32, numpy=\n",
            "array([[   2,  906,    7, ...,    0,    0,    0],\n",
            "       [   2,    5,  301, ...,    0,    0,    0],\n",
            "       [   2,   77,   21, ...,    4,    6,   87],\n",
            "       ...,\n",
            "       [   2,    5,   24, ...,  459, 2639,   78],\n",
            "       [   2, 1292,    6, ...,    0,    0,    0],\n",
            "       [   2,   25,   20, ...,    0,    0,    0]], dtype=int32)>, <tf.Tensor: shape=(32, 50), dtype=int32, numpy=\n",
            "array([[ 906,    7,    1, ...,    0,    0,    0],\n",
            "       [   5,  301,    6, ...,    0,    0,    0],\n",
            "       [  77,   21,  233, ...,    6,   87,  267],\n",
            "       ...,\n",
            "       [   5,   24,  629, ..., 2639,   78,  138],\n",
            "       [1292,    6,   87, ...,    0,    0,    0],\n",
            "       [  25,   20,  268, ...,    0,    0,    0]], dtype=int32)>)\n"
          ]
        }
      ],
      "source": [
        "for i in train_ds.take(1):\n",
        "    print(i)"
      ]
    },
    {
      "cell_type": "markdown",
      "metadata": {
        "id": "cV4PGxjttli6"
      },
      "source": [
        "# **User and Item Documents**"
      ]
    },
    {
      "cell_type": "markdown",
      "metadata": {
        "id": "6BwcnBKDxVMk"
      },
      "source": [
        "**User Documents**"
      ]
    },
    {
      "cell_type": "code",
      "execution_count": 55,
      "metadata": {},
      "outputs": [],
      "source": [
        "user_doc = list( map(enc_input_processor,[doc for doc in user_df['reviewText']]))"
      ]
    },
    {
      "cell_type": "markdown",
      "metadata": {
        "id": "SWDCul-D_N99"
      },
      "source": [
        "**Item Documents**"
      ]
    },
    {
      "cell_type": "code",
      "execution_count": 56,
      "metadata": {
        "id": "phoN10nsXZGc"
      },
      "outputs": [],
      "source": [
        "item_doc = list( map(enc_input_processor,[doc for doc in item_df['reviewText']]))"
      ]
    },
    {
      "cell_type": "code",
      "execution_count": 57,
      "metadata": {
        "id": "0kTL6A4FmuZY"
      },
      "outputs": [
        {
          "data": {
            "text/plain": [
              "<tf.Tensor: shape=(50,), dtype=int64, numpy=\n",
              "array([   2,   11,   13,    8,   27, 1133,  108,   37,   28,   53,  825,\n",
              "         34,    4,    5,   65,    1,   34,   11,   15,    6,  677,   61,\n",
              "          1,    4,    3,    0,    0,    0,    0,    0,    0,    0,    0,\n",
              "          0,    0,    0,    0,    0,    0,    0,    0,    0,    0,    0,\n",
              "          0,    0,    0,    0,    0,    0])>"
            ]
          },
          "execution_count": 57,
          "metadata": {},
          "output_type": "execute_result"
        }
      ],
      "source": [
        "user_doc[0][0]"
      ]
    },
    {
      "cell_type": "code",
      "execution_count": 58,
      "metadata": {
        "id": "1G79SrZySBqJ"
      },
      "outputs": [
        {
          "data": {
            "text/plain": [
              "Text(0.5, 1.0, 'Mask')"
            ]
          },
          "execution_count": 58,
          "metadata": {},
          "output_type": "execute_result"
        },
        {
          "data": {
            "image/png": "[encoded data removed]",
            "text/plain": [
              "<Figure size 432x288 with 2 Axes>"
            ]
          },
          "metadata": {
            "needs_background": "light"
          },
          "output_type": "display_data"
        }
      ],
      "source": [
        "plt.subplot(1, 2, 1)\n",
        "plt.pcolormesh(item_doc[0])\n",
        "plt.title('Token IDs')\n",
        "\n",
        "plt.subplot(1, 2, 2)\n",
        "plt.pcolormesh(item_doc[0] != 0)\n",
        "plt.title('Mask')"
      ]
    },
    {
      "cell_type": "markdown",
      "metadata": {
        "id": "UbR2h5ML5h70"
      },
      "source": [
        "### Converting ID to Vector"
      ]
    },
    {
      "cell_type": "code",
      "execution_count": 59,
      "metadata": {},
      "outputs": [
        {
          "data": {
            "text/plain": [
              "'It is a good stand by coffee you can count on.  I would reley on it for the daily use catagory.'"
            ]
          },
          "execution_count": 59,
          "metadata": {},
          "output_type": "execute_result"
        }
      ],
      "source": [
        "user_df['reviewText'][0][0]"
      ]
    },
    {
      "cell_type": "code",
      "execution_count": 60,
      "metadata": {},
      "outputs": [
        {
          "data": {
            "text/plain": [
              "'[START] it is a good stand by coffee you can count on . i would [UNK] on it for the daily use [UNK] . [END]                         '"
            ]
          },
          "execution_count": 60,
          "metadata": {},
          "output_type": "execute_result"
        }
      ],
      "source": [
        "input_vocab = enc_input_processor.get_vocabulary()\n",
        "\" \".join([input_vocab[id] for id in user_doc[0][0]])\n"
      ]
    },
    {
      "cell_type": "markdown",
      "metadata": {},
      "source": [
        "# **Context-aware Matrix Factorization for Rating Prediction**"
      ]
    },
    {
      "cell_type": "code",
      "execution_count": 61,
      "metadata": {},
      "outputs": [],
      "source": [
        "#hyperparameters\n",
        "num_users=len(user_to_row)\n",
        "num_items=len(item_to_column)\n",
        "mean_inv = np.float32( train_df['rating'].mean())\n",
        "\n"
      ]
    },
    {
      "cell_type": "code",
      "execution_count": 62,
      "metadata": {},
      "outputs": [],
      "source": [
        "feature_num=64 # number of topics\n",
        "units=int(feature_num/2 )# gru units"
      ]
    },
    {
      "cell_type": "code",
      "execution_count": 63,
      "metadata": {},
      "outputs": [],
      "source": [
        "# del df\n",
        "# del user_df\n",
        "# del item_df\n",
        "# del user_corpus[:]\n",
        "# del item_corpus[:]\n",
        "# del train_df\n",
        "# del test_df\n",
        "\n",
        "# gc.collect()\n",
        "# gc.collect(0)\n",
        "# gc.collect(1)\n",
        "# gc.collect(2)"
      ]
    },
    {
      "cell_type": "code",
      "execution_count": 64,
      "metadata": {},
      "outputs": [],
      "source": [
        "user_textual_features = np.zeros(shape=(num_users, feature_num),dtype=np.float32)\n",
        "item_textual_features = np.zeros(shape=(num_items, feature_num),dtype=np.float32)"
      ]
    },
    {
      "cell_type": "code",
      "execution_count": 65,
      "metadata": {},
      "outputs": [],
      "source": [
        "user_recommender_features = np.zeros(shape=(num_users, feature_num),dtype=np.float32)\n",
        "item_recommender_features = np.zeros(shape=(num_items, feature_num),dtype=np.float32)"
      ]
    },
    {
      "cell_type": "markdown",
      "metadata": {
        "id": "6uKWBtzhmMA5"
      },
      "source": [
        "## **PMF (Probabilistic Matrix Factorization)**"
      ]
    },
    {
      "cell_type": "code",
      "execution_count": 66,
      "metadata": {
        "id": "5JAoyyjOnJis"
      },
      "outputs": [],
      "source": [
        "class PMF():\n",
        "    def __init__(self, num_feat=16, epsilon=1, _lambda=0.1, momentum=0.8,  num_batches=152, batch_size=1000,num_item=9000,num_user=15000,mean_inv=3):\n",
        "        self.num_feat = num_feat  # Number of latent features,\n",
        "        self.epsilon = epsilon  # learning rate,\n",
        "        self._lambda = _lambda  # L2 regularization,\n",
        "        self.momentum = momentum  # momentum of the gradient,\n",
        "        self.num_batches = num_batches  # Number of batches in each epoch (for SGD optimization),\n",
        "        self.batch_size = batch_size  # Number of training samples used in each batches (for SGD optimization)\n",
        "        self.num_item=num_item\n",
        "        self.num_user=num_user\n",
        "        self.V =  0.1 * np.random.randn(self.num_item, self.num_feat).astype(np.float64)  # Item feature vectors\n",
        "        self.U =  0.1 * np.random.randn(self.num_user, self.num_feat).astype(np.float64)  # User feature vectors\n",
        "        self.V_inc = np.zeros((self.num_item, self.num_feat),dtype=np.float64)\n",
        "        self.U_inc = np.zeros((self.num_user, self.num_feat),dtype=np.float64)\n",
        "        self.rmse_train = []\n",
        "        self.rmse_test = []\n",
        "        self.mean_inv= mean_inv  \n",
        "        \n",
        "    # ***Fit the model with train_tuple and evaluate RMSE on both train and test data.  ***********#\n",
        "    # ***************** train_vec=TrainData, test_vec=TestData*************#\n",
        "    def train(self):\n",
        "          \n",
        "            for batch in range(self.num_batches):  \n",
        "                \n",
        "                (batch_UserID,batch_ItemID, batch_rating ,_,_) = next(iter(train_ds))\n",
        "      \n",
        "                # Compute Objective Function\n",
        "               \n",
        "                pred_out = np.sum(np.multiply(self.U[batch_UserID, :],\n",
        "                                              self.V[batch_ItemID, :]),\n",
        "                                  axis=1)  # mean_inv subtracted # np.multiply\n",
        "                \n",
        "                rawErr = pred_out - batch_rating.numpy() + self.mean_inv\n",
        "\n",
        "                # Compute gradients\n",
        "                Ix_User = 2 * np.multiply(rawErr[:, np.newaxis], self.V[batch_ItemID, :]) \\\n",
        "                       + self._lambda * (self.U[batch_UserID, :] - tf.gather(user_textual_features,batch_UserID).numpy())\n",
        "                Ix_Item = 2 * np.multiply(rawErr[:, np.newaxis], self.U[batch_UserID, :]) \\\n",
        "                       + self._lambda * (self.V[batch_ItemID, :] -  tf.gather(item_textual_features,batch_ItemID).numpy()) \n",
        "                       # np.newaxis :increase the dimension\n",
        "               \n",
        "                dw_Item = np.zeros((self.num_item, self.num_feat))\n",
        "                dw_User = np.zeros((self.num_user, self.num_feat))\n",
        "                \n",
        "                # loop to aggreate the gradients of the same element\n",
        "                for i in range(self.batch_size):\n",
        "                    dw_Item[batch_ItemID[i], :] += Ix_Item[i, :]\n",
        "                    dw_User[batch_UserID[i], :] += Ix_User[i, :]\n",
        "\n",
        "                # Update with momentum\n",
        "              \n",
        "                self.V_inc = self.momentum * self.V_inc + self.epsilon * dw_Item / self.batch_size\n",
        "                self.U_inc = self.momentum * self.U_inc + self.epsilon * dw_User / self.batch_size\n",
        "                \n",
        "                self.V = self.V - self.V_inc\n",
        "                self.U = self.U - self.U_inc\n",
        "            \n",
        "                # Compute Objective Function after\n",
        "                if batch == self.num_batches - 1:\n",
        "                    rawErr=np.zeros((self.batch_size),dtype=np.float32).tolist()\n",
        "                    for batch_UserID,batch_ItemID, batch_rating ,_,_ in train_ds:\n",
        "                        \n",
        "                        \n",
        "                        pred_out = np.sum(np.multiply(self.U[batch_UserID, :],\n",
        "                                              self.V[batch_ItemID, :]),\n",
        "                                     axis=1)  # mean_inv subtracted\n",
        "\n",
        "                        rawErr += pred_out - batch_rating.numpy() + self.mean_inv\n",
        "                    # pred_out = np.sum(np.multiply(self.U[np.array(train_data['userid'], dtype='int32'), :],\n",
        "                    #                               self.V[np.array(train_data['itemid'], dtype='int32'), :]),\n",
        "                    #                   axis=1)  # mean_inv subtracted\n",
        "                    # rawErr = pred_out - train_data['rating'] + self.mean_inv\n",
        "                    obj = np.linalg.norm(rawErr) ** 2 \\\n",
        "                          + 0.5 * self._lambda * (np.linalg.norm(self.U - user_textual_features) ** 2 + np.linalg.norm(self.V - item_textual_features) ** 2)\n",
        "                   # print(\"1***************\\n\",self.U.shape)\n",
        "                   # print(\"2***************\\n\",user_textual_features.shape)\n",
        "                    self.rmse_train.append(np.sqrt(obj / train_data_num))\n",
        "\n",
        "                # Compute validation error\n",
        "                if batch == self.num_batches - 1:\n",
        "                    rawErr=np.zeros((self.batch_size),dtype=np.float32).tolist()\n",
        "                    for batch_UserID,batch_ItemID, batch_rating ,_,_ in test_ds:\n",
        "                        pred_out = np.sum(np.multiply(self.U[batch_UserID, :],\n",
        "                                              self.V[batch_ItemID, :]),\n",
        "                                     axis=1)  # mean_inv subtracted\n",
        "\n",
        "                        rawErr += pred_out - batch_rating.numpy() + self.mean_inv\n",
        "                    # pred_out = np.sum(np.multiply(self.U[np.array(test_data['userid'], dtype='int32'), :],\n",
        "                    #                               self.V[np.array(test_data['itemid'], dtype='int32'), :]),\n",
        "                    #                   axis=1)  # mean_inv subtracted\n",
        "                    # rawErr = pred_out - test_data['rating'] + self.mean_inv\n",
        "                   \n",
        "                    self.rmse_test.append(np.linalg.norm(rawErr) / np.sqrt(test_data_num))\n",
        "\n",
        "                    # Print info\n",
        "                    if batch == self.num_batches - 1:\n",
        "                        print('\\nTraining RMSE: %f, Test RMSE %f' % (self.rmse_train[-1], self.rmse_test[-1]))\n",
        "\n",
        "    def predict(self, invID):\n",
        "        return np.dot(self.V, self.U[int(invID), :]) + self.mean_inv  # numpy.dot 点乘\n",
        "\n",
        "    # ****************Set parameters by providing a parameter dictionary.  ***********#\n",
        "\n",
        "    def topK(self, test_data, k=10):\n",
        "        inv_lst = np.unique(test_data[:, 0])\n",
        "        pred = {}\n",
        "        for inv in inv_lst:\n",
        "            if pred.get(inv, None) is None:\n",
        "                pred[inv] = np.argsort(self.predict(inv))[-k:]  # numpy.argsort\n",
        "\n",
        "        intersection_cnt = {}\n",
        "        for i in range(test_data.shape[0]):\n",
        "            if test_data[i, 1] in pred[test_data[i, 0]]:\n",
        "                intersection_cnt[test_data[i, 0]] = intersection_cnt.get(test_data[i, 0], 0) + 1\n",
        "        invPairs_cnt = np.bincount(np.array(test_data[:, 0], dtype='int32'))\n",
        "\n",
        "        precision_acc = 0.0\n",
        "        recall_acc = 0.0\n",
        "        for inv in inv_lst:\n",
        "            precision_acc += intersection_cnt.get(inv, 0) / float(k)\n",
        "            recall_acc += intersection_cnt.get(inv, 0) / float(invPairs_cnt[int(inv)])\n",
        "\n",
        "        return precision_acc / len(inv_lst), recall_acc / len(inv_lst)\n"
      ]
    },
    {
      "cell_type": "markdown",
      "metadata": {
        "id": "f0y4xKXSRYU-"
      },
      "source": [
        "# **Adversarial Seq2Seq Learning**"
      ]
    },
    {
      "cell_type": "markdown",
      "metadata": {},
      "source": [
        "## **Metrics**"
      ]
    },
    {
      "cell_type": "code",
      "execution_count": 67,
      "metadata": {},
      "outputs": [],
      "source": [
        "# log files for training and test\n",
        "current_time = datetime.datetime.now().strftime(\"%Y%m%d-%H%M%S\")\n",
        "train_log_dir = 'logs/gradient_tape/' + current_time + '/train'\n",
        "train_summary_writer = tf.summary.create_file_writer(train_log_dir)\n",
        "test_log_dir = 'logs/gradient_tape/' + current_time + '/test'\n",
        "test_summary_writer = tf.summary.create_file_writer(test_log_dir)\n",
        "graph_log_dir = 'logs/graph/' + current_time \n",
        "graph_summary_writer = tf.summary.create_file_writer(graph_log_dir)"
      ]
    },
    {
      "cell_type": "code",
      "execution_count": 68,
      "metadata": {},
      "outputs": [],
      "source": [
        "class PerplexityMetric(tf.keras.metrics.Metric):\n",
        "    def __init__(self,name='perplexity',**kwargs):\n",
        "        super().__init__(name=name, **kwargs)\n",
        "        self.perplexity=self.add_weight(name='pl',initializer='zeros')\n",
        "\n",
        "    def update_state(self, nll_loss):\n",
        "        self.perplexity= 2 ** nll_loss\n",
        "\n",
        "    def result(self):\n",
        "        return self.perplexity"
      ]
    },
    {
      "cell_type": "code",
      "execution_count": 69,
      "metadata": {},
      "outputs": [],
      "source": [
        "train_plx_gen_tch = PerplexityMetric(name='generator perplexity')  # teacher forcing mode\n",
        "train_plx_gen_plc = PerplexityMetric(name='generator perplexity')  # policy gradient mode\n",
        "train_acc_dis = tf.keras.metrics.BinaryAccuracy(threshold=0.5)\n",
        "\n",
        "test_plx_gen = PerplexityMetric(name='generator perplexity')  \n",
        "\n"
      ]
    },
    {
      "cell_type": "markdown",
      "metadata": {},
      "source": [
        "## **Recurrent Review Generator**"
      ]
    },
    {
      "cell_type": "markdown",
      "metadata": {},
      "source": [
        "- it consists of two encoders and one decoder"
      ]
    },
    {
      "cell_type": "markdown",
      "metadata": {
        "id": "o8UVYfYjX9YW"
      },
      "source": [
        "### **Encoder**"
      ]
    },
    {
      "cell_type": "code",
      "execution_count": 70,
      "metadata": {
        "id": "TwRd0VNHkMf0"
      },
      "outputs": [],
      "source": [
        "class Encoder(tf.keras.layers.Layer):\n",
        "  def __init__(self,vocab_size, embedding_dim, enc_units):\n",
        "    super().__init__()\n",
        "    self.enc_units = enc_units\n",
        "    self.embedding_dim=embedding_dim\n",
        "    self.vocab_size = vocab_size\n",
        "    \n",
        "    self.embedding = tf.keras.layers.Embedding( self.vocab_size, self.embedding_dim, embeddings_initializer=keras.initializers.Constant(full_embedding_matrix),trainable=False)\n",
        "    self.gru= tf.keras.layers.Bidirectional(tf.keras.layers.GRU(  self.enc_units,return_state=True,  recurrent_initializer='glorot_uniform' ))\n",
        "\n",
        "\n",
        "  def call(self, reviews, state=None):\n",
        "    vectors = self.embedding(reviews)\n",
        "    _,encoder_forward_state,encoder_backward_state  = self.gru(vectors, initial_state=state)\n",
        " \n",
        "    return  tf.concat([ encoder_forward_state, encoder_backward_state],-1)\n",
        "\n",
        "    "
      ]
    },
    {
      "cell_type": "markdown",
      "metadata": {},
      "source": [
        "### **Decoder (Generator)**"
      ]
    },
    {
      "cell_type": "code",
      "execution_count": 100,
      "metadata": {
        "id": "skIgKP4iCABs"
      },
      "outputs": [],
      "source": [
        "class Decoder(tf.keras.layers.Layer):\n",
        "  def __init__(self,vocab_size, embedding_dim, dec_units):\n",
        "    super().__init__()\n",
        "    self.dec_units = dec_units\n",
        "    self.embedding_dim = embedding_dim\n",
        "    self.vocab_size = vocab_size\n",
        "    \n",
        "    self.embedding = tf.keras.layers.Embedding(self.vocab_size, self.embedding_dim,embeddings_initializer=keras.initializers.Constant(full_embedding_matrix), trainable=False)\n",
        "    self.gru=tf.keras.layers.GRU( self.dec_units , return_state=True,return_sequences=True)\n",
        "    self.fc = tf.keras.layers.Dense(self.vocab_size, use_bias=False)\n",
        "    self.sf=tf.keras.layers.Activation('softmax')\n",
        "\n",
        "  def call(self, decoder_input, context_vector,state=None):\n",
        "\n",
        "     embedded_input = self.embedding(decoder_input)\n",
        "     joint_input_context = tf.concat([embedded_input, tf.tile(tf.expand_dims(context_vector,1),[1,embedded_input.shape[1],1])],2 )\n",
        "     outputs,dec_state = self.gru(joint_input_context, initial_state=state)\n",
        "     logits = self.fc( outputs)\n",
        "     prob_dist = self.sf(logits)\n",
        "\n",
        "     return prob_dist,dec_state\n"
      ]
    },
    {
      "cell_type": "code",
      "execution_count": 101,
      "metadata": {
        "id": "DyhJk5pGKW_N"
      },
      "outputs": [],
      "source": [
        "class GeneratorLoss(tf.keras.losses.Loss):\n",
        "  def __init__(self,vocab_size):\n",
        "    self.name = 'masked_loss'\n",
        "    self.vocab_size=vocab_size\n",
        "    self.scce = tf.keras.losses.SparseCategoricalCrossentropy(reduction='none')\n",
        "\n",
        "  def __call__(self, y_true, y_pred):\n",
        "    # Calculating the loss for a batch of reviews.\n",
        "\n",
        "    loss = self.scce(y_true,y_pred)\n",
        "    mask = tf.cast(y_true != 0, loss.dtype)\n",
        "    loss*=  mask\n",
        "    return tf.reduce_sum(loss) / tf.reduce_sum(mask)"
      ]
    },
    {
      "cell_type": "markdown",
      "metadata": {
        "id": "4v_zte_RHR5a"
      },
      "source": [
        "## **Discriminator**"
      ]
    },
    {
      "cell_type": "code",
      "execution_count": 102,
      "metadata": {
        "id": "84ZgGwB9HXi5"
      },
      "outputs": [],
      "source": [
        "class Discriminator(tf.keras.Model):\n",
        "    def __init__( self, sequence_length, vocab_size, embedding_dim, filter_sizes, num_filters):\n",
        "      super().__init__()\n",
        "      self.sequence_length=sequence_length\n",
        "      self.vocab_size=vocab_size\n",
        "      self.embedding_dim=embedding_dim\n",
        "      self.filter_sizes=filter_sizes\n",
        "      self.num_filters= num_filters\n",
        "\n",
        "      self.embedding = tf.keras.layers.Embedding(self.vocab_size, self.embedding_dim,weights=[full_embedding_matrix],name=\"discriminator_embedding\",trainable=False)\n",
        "     \n",
        "      self.conv_unigram= tf.keras.layers.Conv1D(self.num_filters, filter_sizes[0], activation=\"tanh\",name=\"conv_unigram\")\n",
        "      self.conv_bigram= tf.keras.layers.Conv1D(self.num_filters, filter_sizes[1],activation=\"tanh\",name=\"conv_bigram\")\n",
        "      self.conv_trigram= tf.keras.layers.Conv1D(self.num_filters, filter_sizes[2],activation=\"tanh\",name=\"conv_trigram\")\n",
        "      self.conv_fourgram= tf.keras.layers.Conv1D(self.num_filters, filter_sizes[3],activation=\"tanh\",name=\"conv_fourgram\")\n",
        "      self.conv_fivegram= tf.keras.layers.Conv1D(self.num_filters, filter_sizes[4],activation=\"tanh\",name=\"conv_fivegram\")\n",
        "\n",
        "      self.gmp_unigram = tf.keras.layers.GlobalMaxPooling1D(name=\"gmp_unigram\")\n",
        "      self.gmp_bigram = tf.keras.layers.GlobalMaxPooling1D(name=\"gmp_bigram\")\n",
        "      self.gmp_trigram = tf.keras.layers.GlobalMaxPooling1D(name=\"gmp_trigram\")\n",
        "      self.gmp_fourgram = tf.keras.layers.GlobalMaxPooling1D(name=\"gmp_fourgram\")\n",
        "      self.gmp_fivegram = tf.keras.layers.GlobalMaxPooling1D(name=\"gmp_fivegram\")\n",
        "\n",
        "      self.dropout=tf.keras.layers.Dropout(.5,name=\"dropout\")\n",
        "      self.fc=tf.keras.layers.Dense(1,activation=\"sigmoid\")\n",
        "\n",
        "\n",
        "    def get_reward(self, discriminator_inputs , context_vector,training=False ):\n",
        "      \n",
        "      embedded_input= self.embedding(discriminator_inputs)\n",
        "      joint_input_context =tf.concat([embedded_input, tf.tile(tf.expand_dims(context_vector,1),[1,embedded_input.shape[1],1])],2 )\n",
        "\n",
        "      cv_unigram=self.conv_unigram(joint_input_context)\n",
        "      cv_bigram=self.conv_bigram(joint_input_context)\n",
        "      cv_trigram=self.conv_trigram(joint_input_context)\n",
        "      cv_fourgram=self.conv_fourgram(joint_input_context)\n",
        "      cv_fivegram=self.conv_fivegram(joint_input_context)\n",
        "\n",
        "      gmp_unigram = self.gmp_unigram(cv_unigram)\n",
        "      gmp_bigram = self.gmp_bigram(cv_bigram)\n",
        "      gmp_trigram =  self.gmp_trigram(cv_trigram)\n",
        "      gmp_fourgram = self.gmp_fourgram(cv_fourgram)\n",
        "      gmp_fivegram = self.gmp_fivegram(cv_fivegram)\n",
        "    \n",
        "      gmp_overal = tf.concat([gmp_unigram,gmp_bigram,gmp_trigram,gmp_fourgram,gmp_fivegram],1)\n",
        "      \n",
        "      if training:\n",
        "        dropout = self.dropout(gmp_overal,training=training)\n",
        "        ath= self.fc(dropout)\n",
        "      else:\n",
        "        ath= self.fc(gmp_overal)\n",
        "      gc.collect()\n",
        "      return ath[:,0]\n"
      ]
    },
    {
      "cell_type": "code",
      "execution_count": 103,
      "metadata": {
        "id": "FCRHY3LgfD2_"
      },
      "outputs": [],
      "source": [
        "class DiscriminatorLoss(tf.keras.losses.Loss):\n",
        "  def __init__(self):\n",
        "    self.name = 'cross-entropy_loss'\n",
        "    self.bce = tf.keras.losses.BinaryCrossentropy( reduction='none')\n",
        "\n",
        "  def __call__(self, y_true, y_pred):\n",
        "\n",
        "    loss = self.bce(y_true, y_pred)\n",
        "    return loss"
      ]
    },
    {
      "cell_type": "markdown",
      "metadata": {},
      "source": [
        "## **Adversarial Training**"
      ]
    },
    {
      "cell_type": "code",
      "execution_count": 105,
      "metadata": {
        "id": "MB7HymOiTfdl"
      },
      "outputs": [],
      "source": [
        "class MaskedLossReward(tf.keras.losses.Loss):\n",
        "  def __init__(self,vocab_size):\n",
        "    self.name = 'masked_loss_reward'\n",
        "    self.vocab_size=vocab_size\n",
        "    self.scce = tf.keras.losses.SparseCategoricalCrossentropy(reduction='none')\n",
        "\n",
        "  def __call__(self, y_true, y_pred,reward):\n",
        "    # Calculate the loss for each step.\n",
        "\n",
        "    loss = self.scce(y_true,y_pred)\n",
        "    mask = tf.cast(y_true != 0, loss.dtype)\n",
        "    loss*=  mask\n",
        "    loss *= reward\n",
        "    return tf.reduce_sum(loss) / tf.reduce_sum(mask)"
      ]
    },
    {
      "cell_type": "code",
      "execution_count": 106,
      "metadata": {
        "id": "Z3NlswFZRbub"
      },
      "outputs": [],
      "source": [
        "class Seq2Seq(tf.keras.Model): \n",
        "    def __init__(self,num_topic,num_item ,num_user, units ,embedding_dim,vocab_size ,sequence_length, num_batches,num_batches_test, batch_size, use_tf_function=False):\n",
        "        super().__init__()\n",
        "        self.use_tf_function = use_tf_function\n",
        "        self.num_batches_test = num_batches_test\n",
        "        self.num_batches = num_batches # train batch number\n",
        "        self.batch_size = batch_size\n",
        "        self.num_topic = num_topic\n",
        "        self.embedding_dim = embedding_dim\n",
        "        self.units = units\n",
        "        self.vocab_size = vocab_size\n",
        "        self.sequence_length = sequence_length\n",
        "        self.num_item = num_item\n",
        "        self.num_user = num_user\n",
        "        self.alpha = 10\n",
        "\n",
        "        self.user_encoder = Encoder(vocab_size= self.vocab_size,  embedding_dim= self.embedding_dim, enc_units= self.units)\n",
        "        self.item_encoder = Encoder(vocab_size= self.vocab_size,  embedding_dim= self.embedding_dim, enc_units= self.units)\n",
        "        self.decoder = Decoder(vocab_size= self.vocab_size,  embedding_dim= self.embedding_dim, dec_units= 4 * self.units) #generator\n",
        "        self.discriminator = Discriminator(sequence_length= self.sequence_length, vocab_size= self.vocab_size,embedding_dim= self.embedding_dim, filter_sizes= [1, 2, 3 ,4, 5] ,num_filters=128)\n",
        "      \n",
        "        self.loss_gn = GeneratorLoss(vocab_size=self.vocab_size)\n",
        "        self.loss_ds = DiscriminatorLoss()\n",
        "        self.loss_fn = MaskedLossReward(vocab_size=self.vocab_size) # generator loss with reward\n",
        "\n",
        "        self.optimizer_gn = tf.optimizers.Adam()\n",
        "        self.optimizer_ds = tf.optimizers.Adam()\n",
        "\n",
        "    def generate_textual_features(self):\n",
        "            \n",
        "          for start_index in range(0, self.num_user, self.batch_size):\n",
        "            end_index = min(start_index + self.batch_size, self.num_user)                           \n",
        "            batch_userID = np.arange(start_index, end_index)\n",
        "\n",
        "            # fetch a batch of user doc\n",
        "            batch_userdoc_flattend=[]\n",
        "            userdoc_slice_idx=[0]\n",
        "            for doc_id in batch_userID:\n",
        "              userdoc_slice_idx.append(userdoc_slice_idx[-1] + user_doc[doc_id].shape[0])\n",
        "              batch_userdoc_flattend = np.append(batch_userdoc_flattend,user_doc[doc_id])\n",
        "            batch_userdoc = tf.reshape(tf.convert_to_tensor( batch_userdoc_flattend,dtype=tf.int32),[userdoc_slice_idx[-1],self.sequence_length])\n",
        "\n",
        "            user_enc_state = self.user_encoder(batch_userdoc) # user vector representations      \n",
        "            user_context_vector = tf.stack([ tf.reduce_mean(user_enc_state[ userdoc_slice_idx[sl_num] : userdoc_slice_idx[sl_num+1] ],0) for  sl_num in range(len(batch_userID))])\n",
        "            \n",
        "            user_textual_features[batch_userID]=user_context_vector\n",
        "            \n",
        "          for start_index in range(0, self.num_item, self.batch_size):\n",
        "            end_index = min(start_index + self.batch_size, self.num_item)                           \n",
        "            batch_itemID = np.arange(start_index, end_index)\n",
        "\n",
        "            # fetch a batch of item doc\n",
        "            batch_itemdoc_flattend=[]\n",
        "            itemdoc_slice_idx=[0]\n",
        "            for doc_id in batch_itemID:\n",
        "              itemdoc_slice_idx.append(itemdoc_slice_idx[-1] + item_doc[doc_id].shape[0])\n",
        "              batch_itemdoc_flattend = np.append(batch_itemdoc_flattend,item_doc[doc_id])\n",
        "            batch_itemdoc = tf.reshape(tf.convert_to_tensor( batch_itemdoc_flattend,dtype=tf.int32),[itemdoc_slice_idx[-1],self.sequence_length])\n",
        "            \n",
        "            item_enc_state = self.item_encoder(batch_itemdoc) # item vector representations\n",
        "            item_context_vector = tf.stack([ tf.reduce_mean(item_enc_state[ itemdoc_slice_idx[sl_num] : itemdoc_slice_idx[sl_num+1] ],0) for  sl_num in range(len(batch_itemID))])\n",
        "            \n",
        "            item_textual_features[batch_itemID]=item_context_vector \n",
        "    \n",
        "    def teacher_forcing_train(self,num_steps=1):\n",
        "          total_gen_loss=0\n",
        "          for t_step in range(num_steps):\n",
        " \n",
        "            (batch_userID,batch_itemID, _ ,batch_review_in,batch_review_out) = next(iter(train_ds))\n",
        "            # fetch a batch of user doc\n",
        "            batch_userdoc_flattend=[]\n",
        "            userdoc_slice_idx=[0]\n",
        "            for doc_id in batch_userID:\n",
        "              userdoc_slice_idx.append(userdoc_slice_idx[-1] + user_doc[doc_id].shape[0])\n",
        "              batch_userdoc_flattend = np.append(batch_userdoc_flattend,user_doc[doc_id])\n",
        "            batch_userdoc = tf.reshape(tf.convert_to_tensor( batch_userdoc_flattend,dtype=tf.int32),[userdoc_slice_idx[-1],self.sequence_length])\n",
        "\n",
        "            # fetch a batch of item doc\n",
        "            batch_itemdoc_flattend=[]\n",
        "            itemdoc_slice_idx=[0]\n",
        "            for doc_id in batch_itemID:\n",
        "              itemdoc_slice_idx.append(itemdoc_slice_idx[-1] + item_doc[doc_id].shape[0])\n",
        "              batch_itemdoc_flattend = np.append(batch_itemdoc_flattend,item_doc[doc_id])\n",
        "            batch_itemdoc = tf.reshape(tf.convert_to_tensor( batch_itemdoc_flattend,dtype=tf.int32),[itemdoc_slice_idx[-1],self.sequence_length])\n",
        "            \n",
        "            with tf.GradientTape() as tape:\n",
        "              user_enc_state = self.user_encoder(batch_userdoc) # user vector representations      \n",
        "              item_enc_state = self.item_encoder(batch_itemdoc) # item vector representations\n",
        "                \n",
        "              user_context_vector = tf.stack([ tf.reduce_mean(user_enc_state[ userdoc_slice_idx[sl_num] : userdoc_slice_idx[sl_num+1] ],0) for  sl_num in range(batch_size)])\n",
        "              item_context_vector = tf.stack([ tf.reduce_mean(item_enc_state[ itemdoc_slice_idx[sl_num] : itemdoc_slice_idx[sl_num+1] ],0) for  sl_num in range(batch_size)])\n",
        "              context_vector = tf.concat( [user_context_vector,item_context_vector],1)\n",
        "              \n",
        "              dec_pred, _ = self.decoder( batch_review_in , context_vector)             \n",
        "                     \n",
        "              # regularization \n",
        "              user_regularization_loss = tf.reduce_mean(tf.square(tf.subtract(user_context_vector,user_recommender_features[batch_userID])))\n",
        "              item_regularization_loss = tf.reduce_mean(tf.square(tf.subtract(item_context_vector,item_recommender_features[batch_itemID])))\n",
        "              regularization_loss = self.alpha * (user_regularization_loss + item_regularization_loss)\n",
        "              gen_loss = self.loss_gn(batch_review_out , dec_pred)\n",
        "           \n",
        "            variables = self.user_encoder.trainable_variables + self.item_encoder.trainable_variables + self.decoder.trainable_variables\n",
        "            gradients = tape.gradient(gen_loss,variables)\n",
        "            self.optimizer_gn.apply_gradients(zip(gradients, variables))          \n",
        "            \n",
        "            total_gen_loss += gen_loss\n",
        "            # total_regularization_loss += regularization_loss\n",
        "            print(\"batch number: \",t_step,\"\\tgen loss: \", gen_loss.numpy())\n",
        "    \n",
        "          train_plx_gen_tch.update_state(total_gen_loss / num_steps)\n",
        "\n",
        "    def test(self,num_steps):\n",
        "        total_loss=0\n",
        "        for step in range(num_steps):\n",
        "            (batch_userID,batch_itemID, _ ,_,_) = next(iter(test_ds))\n",
        "            context_vector = tf.concat([user_textual_features[batch_userID],item_textual_features[batch_itemID]],1)                    \n",
        "            predicted_samples,dec_prob = self.generate_sample(context_vector=context_vector)\n",
        "            loss = self.loss_gn(predicted_samples ,tf.transpose( tf.stack(dec_prob), [1,0,2])  )\n",
        "            total_loss += loss\n",
        "            print(\"batch number: \",step, \"\\tgen loss: \",loss.numpy())\n",
        "\n",
        "        test_plx_gen.update_state(total_loss / num_steps)\n",
        "  \n",
        "\n",
        "    \n",
        "    def adversarial_train(self,num_steps=1):\n",
        "        total_gen_loss=0\n",
        "        for step in range(num_steps):\n",
        "          # train generator for one step\n",
        "          generated_samples,batch_userID,batch_itemID, gen_loss =  self._train_step_gn_policy() #adversarial samples\n",
        "          total_gen_loss += gen_loss\n",
        "          # train discriminator for one step\n",
        "          disc_loss = self._train_step_disc(generated_samples,batch_userID,batch_itemID)\n",
        "          print(\"batch number: \",step, \"\\tgen loss: \",gen_loss.numpy(),\"\\tdisc loss: \",disc_loss.numpy())   \n",
        "        train_plx_gen_plc.update_state(total_gen_loss / num_steps)\n",
        "\n",
        "\n",
        "    def _train_step_gn_policy(self):\n",
        "            batch_userID = np.random.choice(range(0,self.num_user),self.batch_size).astype('int32')\n",
        "            batch_itemID = np.random.choice(range(0,self.num_item),self.batch_size).astype('int32') \n",
        "            with tf.GradientTape() as tape:\n",
        "\n",
        "              context_vector = tf.concat([user_textual_features[batch_userID],item_textual_features[batch_itemID]],1)                    \n",
        "              generated_samples,dec_prob = self.generate_sample(context_vector=context_vector)            \n",
        "              reward =  self.discriminator.get_reward(generated_samples,context_vector)   # batchsize             \n",
        "              g_loss = self.loss_fn(generated_samples , tf.transpose( tf.stack(dec_prob) , [1,0,2]) ,tf.tile( tf.expand_dims(reward,1),[1,self.sequence_length]).numpy() )\n",
        "            \n",
        "            variables =  self.decoder.trainable_variables \n",
        "            gradients = tape.gradient(g_loss, variables)                  \n",
        "            self.optimizer_gn.apply_gradients(zip(gradients, variables))\n",
        "            \n",
        "            return generated_samples,batch_userID,batch_itemID,g_loss\n",
        "       \n",
        "    def _train_step_disc(self,negative_data,negative_user_indices,negative_item_indices):\n",
        "\n",
        "          with tf.GradientTape() as tape:\n",
        "            (positive_user_indices,positive_item_indices, _ ,_,positive_data) = next(iter(train_ds)) # ground-truth data\n",
        "\n",
        "            #data shape (batch_size * seq length)\n",
        "            whole_user_indices = tf.concat([positive_user_indices,negative_user_indices],0)\n",
        "            whole_item_indices = tf.concat([positive_item_indices,negative_item_indices],0)\n",
        "\n",
        "            positive_labels = tf.ones(batch_size, dtype=tf.int32) \n",
        "            negative_labels = tf.zeros(batch_size, dtype=tf.int32) \n",
        "            labels = tf.concat([positive_labels, negative_labels], 0)\n",
        "\n",
        "            shuffle_indices = tf.random.shuffle( tf.range(0, len(labels),dtype=tf.int32))\n",
        "            whole_data = tf.gather(tf.concat([positive_data,negative_data],0),shuffle_indices)    \n",
        "            labels = tf.gather(labels,shuffle_indices)\n",
        "            whole_user_indices = tf.gather(whole_user_indices,shuffle_indices)\n",
        "            whole_item_indices = tf.gather(whole_item_indices,shuffle_indices)\n",
        "            query_embedding = tf.concat([tf.gather(user_textual_features , whole_user_indices) ,tf.gather( item_textual_features , whole_item_indices)], 1)\n",
        "            # query shape (batch_size ,2.feature_num)\n",
        "            dis_reward = self.discriminator.get_reward( whole_data,query_embedding,training=True)\n",
        "            disc_loss = self.loss_ds(labels,dis_reward)\n",
        "         \n",
        "          variables = self.discriminator.trainable_variables \n",
        "          gradients = tape.gradient(disc_loss, variables)\n",
        "          self.optimizer_ds.apply_gradients(zip(gradients, variables))\n",
        "\n",
        "          train_acc_dis.update_state(labels,dis_reward)\n",
        "          return disc_loss\n",
        "\n",
        "\n",
        "    def generate_sample(self, context_vector ):\n",
        "   \n",
        "        dec_out = [tf.convert_to_tensor(batch_size * [[2]])]\n",
        "        dec_prob=[]\n",
        "        dec_state=None    \n",
        "        for _ in range(self.sequence_length):           \n",
        "            d_prob,dec_state = self.decoder( dec_out[-1], context_vector ,dec_state)          \n",
        "            dec_prob.append(d_prob[:,-1])   \n",
        "            dec_out.append(tf.random.categorical(d_prob[:,-1],1,dtype=tf.int32))            \n",
        "            del d_prob          \n",
        "        gc.collect()\n",
        "        \n",
        "        return tf.squeeze(tf.stack(dec_out,1))[:,1:], dec_prob \n",
        "\n",
        "\n",
        "    \n",
        "    def train(self):\n",
        "        print(\"\\n\\nTeacher Forcing Train:\")\n",
        "        self.teacher_forcing_train(num_steps= 10)  # t step\n",
        "        print(\"\\n\\nAdversarial Train:\")          \n",
        "        self.adversarial_train(num_steps= 64)           # g step\n",
        "        print(\"\\n\\nGenerator Test:\")          \n",
        "        self.test(num_steps= self.num_batches_test)\n",
        "       \n"
      ]
    },
    {
      "cell_type": "markdown",
      "metadata": {
        "id": "_3YKdf1-uW8Q"
      },
      "source": [
        "# **Multi-Task Learning**"
      ]
    },
    {
      "cell_type": "code",
      "execution_count": 107,
      "metadata": {
        "id": "khZxlR9oRxVe"
      },
      "outputs": [],
      "source": [
        "class MultiTaskModel(tf.keras.Model):\n",
        "      def __init__(self):\n",
        "        super().__init__()\n",
        "        self.pmf_model = PMF(num_feat=feature_num,num_item= num_items ,num_user= num_users, mean_inv=mean_inv,num_batches=num_batches,batch_size=batch_size)\n",
        "        self.seq2seq_model = Seq2Seq(num_topic=feature_num,num_item= num_items ,num_user= num_users,units=units, embedding_dim= embedding_dim,vocab_size=full_embedding_matrix.shape[0],sequence_length=sequence_length, num_batches= num_batches,num_batches_test=num_batches_test,batch_size= batch_size)      \n",
        "\n",
        "      def train(self,n_epochs):    \n",
        "          ckpt.restore(manager.latest_checkpoint)\n",
        "          if manager.latest_checkpoint:\n",
        "            print(\"Restored from {}\".format(manager.latest_checkpoint))\n",
        "          else:\n",
        "            print(\"Initializing from scratch.\")\n",
        "          #tf.profiler.experimental.start('logs')\n",
        "          for epoch in range(n_epochs):\n",
        "              print(\"\\n\\nepoch : \", int(ckpt.step))\n",
        "              self.seq2seq_model.generate_textual_features()\n",
        "\n",
        "              print(\"********************************************* PMF Model Training Turn *********************************************\")\n",
        "             # self.pmf_model.train()\n",
        "              print(\"\\n\\n******************************************* Seq2Seq Model Training Turn *******************************************\")                                         \n",
        "              self.seq2seq_model.train()\n",
        "             \n",
        "              with train_summary_writer.as_default():\n",
        "                  tf.summary.scalar('Training perplexity for generator in Teacher Forcing mode', train_plx_gen_tch.result(), step=int(ckpt.step))\n",
        "                  tf.summary.scalar('Training perplexity for generator in Policy Gradient mode', train_plx_gen_plc.result(), step=int(ckpt.step))\n",
        "                  tf.summary.scalar('Training accuracy for discriminator', train_acc_dis.result(), step=int(ckpt.step))\n",
        "              \n",
        "              with test_summary_writer.as_default():\n",
        "                  tf.summary.scalar('Test perplexity for generator', test_plx_gen.result(), step=int(ckpt.step))\n",
        "           \n",
        "\n",
        "              ckpt.step.assign_add(1)\n",
        "              save_path = manager.save()\n",
        "              print(\"Saved checkpoint for epoch {}: {}\".format(int(ckpt.step), save_path))\n",
        "            \n",
        "          #tf.profiler.experimental.stop()\n"
      ]
    },
    {
      "cell_type": "code",
      "execution_count": 108,
      "metadata": {
        "colab": {
          "base_uri": "https://localhost:8080/"
        },
        "id": "mrzxSK6IUr6O",
        "outputId": "212b1776-5de7-4896-f09a-4ea54c2405df"
      },
      "outputs": [],
      "source": [
        "gc.collect()\n",
        "gc.collect(0)\n",
        "gc.collect(1)\n",
        "gc.collect(2)\n",
        "\n",
        "# creating an instance of Multi_Task Model\n",
        "mt_model = MultiTaskModel()\n",
        "ckpt = tf.train.Checkpoint(step=tf.Variable(0), optimizer=tf.keras.optimizers.Adam(), net=mt_model)\n",
        "manager = tf.train.CheckpointManager(ckpt, './tf_ckpts', max_to_keep=30)\n"
      ]
    },
    {
      "cell_type": "code",
      "execution_count": 109,
      "metadata": {},
      "outputs": [
        {
          "name": "stdout",
          "output_type": "stream",
          "text": [
            "Initializing from scratch.\n",
            "\n",
            "\n",
            "epoch :  0\n",
            "********************************************* PMF Model Training Turn *********************************************\n",
            "\n",
            "\n",
            "******************************************* Seq2Seq Model Training Turn *******************************************\n",
            "\n",
            "\n",
            "Teacher Forcing Train:\n",
            "batch number:  0 \tgen loss:  8.514514\n",
            "batch number:  1 \tgen loss:  8.475773\n",
            "batch number:  2 \tgen loss:  8.423185\n",
            "batch number:  3 \tgen loss:  8.358949\n",
            "batch number:  4 \tgen loss:  8.261346\n",
            "batch number:  5 \tgen loss:  8.122856\n",
            "batch number:  6 \tgen loss:  7.9874296\n",
            "batch number:  7 \tgen loss:  7.8260283\n",
            "batch number:  8 \tgen loss:  7.6604705\n",
            "batch number:  9 \tgen loss:  7.4642806\n",
            "\n",
            "\n",
            "Adversarial Train:\n",
            "batch number:  0 \tgen loss:  3.6874824 \tdisc loss:  0.7275556\n",
            "batch number:  1 \tgen loss:  5.533314 \tdisc loss:  0.5049825\n",
            "batch number:  2 \tgen loss:  2.6695702 \tdisc loss:  0.29456574\n",
            "batch number:  3 \tgen loss:  0.8232036 \tdisc loss:  0.24147359\n",
            "batch number:  4 \tgen loss:  0.19170445 \tdisc loss:  0.21034405\n",
            "batch number:  5 \tgen loss:  0.2128251 \tdisc loss:  0.18217567\n",
            "batch number:  6 \tgen loss:  0.26974693 \tdisc loss:  0.13527076\n",
            "batch number:  7 \tgen loss:  0.25309163 \tdisc loss:  0.120878674\n",
            "batch number:  8 \tgen loss:  0.5304348 \tdisc loss:  0.08883157\n",
            "batch number:  9 \tgen loss:  0.48017603 \tdisc loss:  0.09554008\n",
            "batch number:  10 \tgen loss:  1.3887442 \tdisc loss:  0.20337471\n",
            "batch number:  11 \tgen loss:  0.4940796 \tdisc loss:  0.04634183\n",
            "batch number:  12 \tgen loss:  0.35445783 \tdisc loss:  0.02967752\n",
            "batch number:  13 \tgen loss:  0.8428542 \tdisc loss:  0.0747993\n",
            "batch number:  14 \tgen loss:  0.59702253 \tdisc loss:  0.043866403\n",
            "batch number:  15 \tgen loss:  0.8420704 \tdisc loss:  0.12287509\n",
            "batch number:  16 \tgen loss:  0.33635148 \tdisc loss:  0.028936876\n",
            "batch number:  17 \tgen loss:  0.2994864 \tdisc loss:  0.03872981\n",
            "batch number:  18 \tgen loss:  0.27637035 \tdisc loss:  0.018977826\n",
            "batch number:  19 \tgen loss:  0.055101883 \tdisc loss:  0.014851354\n",
            "batch number:  20 \tgen loss:  0.051602505 \tdisc loss:  0.015064042\n",
            "batch number:  21 \tgen loss:  0.35332718 \tdisc loss:  0.02629455\n",
            "batch number:  22 \tgen loss:  0.32260326 \tdisc loss:  0.039485365\n",
            "batch number:  23 \tgen loss:  0.13028565 \tdisc loss:  0.0160539\n",
            "batch number:  24 \tgen loss:  0.09616051 \tdisc loss:  0.006449932\n",
            "batch number:  25 \tgen loss:  0.044499382 \tdisc loss:  0.01031667\n",
            "batch number:  26 \tgen loss:  0.0755898 \tdisc loss:  0.03246477\n",
            "batch number:  27 \tgen loss:  0.0075455387 \tdisc loss:  0.031790003\n",
            "batch number:  28 \tgen loss:  0.021443047 \tdisc loss:  0.013614621\n",
            "batch number:  29 \tgen loss:  0.09719961 \tdisc loss:  0.020497374\n",
            "batch number:  30 \tgen loss:  0.049226042 \tdisc loss:  0.020319426\n",
            "batch number:  31 \tgen loss:  0.010600689 \tdisc loss:  0.03228837\n",
            "batch number:  32 \tgen loss:  0.011017002 \tdisc loss:  0.009092607\n",
            "batch number:  33 \tgen loss:  0.08816775 \tdisc loss:  0.011025909\n",
            "batch number:  34 \tgen loss:  0.07191603 \tdisc loss:  0.02253926\n",
            "batch number:  35 \tgen loss:  0.03631769 \tdisc loss:  0.0055245017\n",
            "batch number:  36 \tgen loss:  0.026882717 \tdisc loss:  0.007718445\n",
            "batch number:  37 \tgen loss:  0.03875141 \tdisc loss:  0.004403859\n",
            "batch number:  38 \tgen loss:  0.122689806 \tdisc loss:  0.0070628594\n",
            "batch number:  39 \tgen loss:  0.09308531 \tdisc loss:  0.007160727\n",
            "batch number:  40 \tgen loss:  0.10602773 \tdisc loss:  0.007291007\n",
            "batch number:  41 \tgen loss:  0.2365675 \tdisc loss:  0.026382992\n",
            "batch number:  42 \tgen loss:  0.17964935 \tdisc loss:  0.03108134\n",
            "batch number:  43 \tgen loss:  0.034022413 \tdisc loss:  0.003293973\n",
            "batch number:  44 \tgen loss:  0.20807444 \tdisc loss:  0.015937837\n",
            "batch number:  45 \tgen loss:  0.04211015 \tdisc loss:  0.021081569\n",
            "batch number:  46 \tgen loss:  0.03125405 \tdisc loss:  0.003849994\n",
            "batch number:  47 \tgen loss:  0.06661864 \tdisc loss:  0.008186697\n",
            "batch number:  48 \tgen loss:  0.080167554 \tdisc loss:  0.00428028\n",
            "batch number:  49 \tgen loss:  0.084985204 \tdisc loss:  0.0052027097\n",
            "batch number:  50 \tgen loss:  0.012045361 \tdisc loss:  0.001597901\n",
            "batch number:  51 \tgen loss:  0.046153497 \tdisc loss:  0.0029460732\n",
            "batch number:  52 \tgen loss:  0.04516862 \tdisc loss:  0.0036958586\n",
            "batch number:  53 \tgen loss:  0.049229626 \tdisc loss:  0.003545598\n",
            "batch number:  54 \tgen loss:  0.010437551 \tdisc loss:  0.0022954703\n",
            "batch number:  55 \tgen loss:  0.02259947 \tdisc loss:  0.00464474\n",
            "batch number:  56 \tgen loss:  0.022289526 \tdisc loss:  0.0032649687\n",
            "batch number:  57 \tgen loss:  0.023307623 \tdisc loss:  0.0035808864\n",
            "batch number:  58 \tgen loss:  0.07191105 \tdisc loss:  0.0036773705\n",
            "batch number:  59 \tgen loss:  0.061213836 \tdisc loss:  0.009311903\n",
            "batch number:  60 \tgen loss:  0.009282716 \tdisc loss:  0.0027347938\n",
            "batch number:  61 \tgen loss:  0.02391726 \tdisc loss:  0.0036055963\n",
            "batch number:  62 \tgen loss:  0.0077104825 \tdisc loss:  0.00232905\n",
            "batch number:  63 \tgen loss:  0.0076787453 \tdisc loss:  0.0019411519\n",
            "\n",
            "\n",
            "Generator Test:\n",
            "batch number:  0 \tgen loss:  8.8464365\n",
            "batch number:  1 \tgen loss:  8.818311\n",
            "batch number:  2 \tgen loss:  8.811268\n",
            "batch number:  3 \tgen loss:  8.804858\n",
            "batch number:  4 \tgen loss:  8.801209\n",
            "batch number:  5 \tgen loss:  8.801637\n",
            "batch number:  6 \tgen loss:  8.811982\n",
            "batch number:  7 \tgen loss:  8.849637\n",
            "batch number:  8 \tgen loss:  8.825977\n",
            "batch number:  9 \tgen loss:  8.822163\n",
            "batch number:  10 \tgen loss:  8.812387\n",
            "batch number:  11 \tgen loss:  8.835131\n",
            "batch number:  12 \tgen loss:  8.816111\n",
            "batch number:  13 \tgen loss:  8.826062\n",
            "batch number:  14 \tgen loss:  8.825238\n",
            "batch number:  15 \tgen loss:  8.843846\n",
            "batch number:  16 \tgen loss:  8.825687\n",
            "batch number:  17 \tgen loss:  8.8275585\n",
            "batch number:  18 \tgen loss:  8.858539\n",
            "batch number:  19 \tgen loss:  8.804453\n",
            "batch number:  20 \tgen loss:  8.818857\n",
            "batch number:  21 \tgen loss:  8.809661\n",
            "batch number:  22 \tgen loss:  8.792994\n",
            "batch number:  23 \tgen loss:  8.804473\n",
            "batch number:  24 \tgen loss:  8.847246\n",
            "batch number:  25 \tgen loss:  8.829761\n",
            "batch number:  26 \tgen loss:  8.8160305\n",
            "batch number:  27 \tgen loss:  8.809175\n",
            "batch number:  28 \tgen loss:  8.855359\n",
            "batch number:  29 \tgen loss:  8.834951\n",
            "batch number:  30 \tgen loss:  8.824181\n",
            "batch number:  31 \tgen loss:  8.848262\n",
            "batch number:  32 \tgen loss:  8.8408\n",
            "batch number:  33 \tgen loss:  8.823595\n",
            "batch number:  34 \tgen loss:  8.820686\n",
            "batch number:  35 \tgen loss:  8.812286\n",
            "batch number:  36 \tgen loss:  8.812406\n",
            "batch number:  37 \tgen loss:  8.819437\n",
            "batch number:  38 \tgen loss:  8.856433\n",
            "batch number:  39 \tgen loss:  8.820767\n",
            "batch number:  40 \tgen loss:  8.848377\n",
            "batch number:  41 \tgen loss:  8.826308\n",
            "batch number:  42 \tgen loss:  8.868828\n",
            "batch number:  43 \tgen loss:  8.837831\n",
            "batch number:  44 \tgen loss:  8.850743\n",
            "batch number:  45 \tgen loss:  8.864373\n",
            "batch number:  46 \tgen loss:  8.817754\n",
            "batch number:  47 \tgen loss:  8.841351\n",
            "batch number:  48 \tgen loss:  8.823255\n",
            "batch number:  49 \tgen loss:  8.845367\n",
            "batch number:  50 \tgen loss:  8.846857\n",
            "batch number:  51 \tgen loss:  8.823539\n",
            "batch number:  52 \tgen loss:  8.858215\n",
            "batch number:  53 \tgen loss:  8.817602\n",
            "batch number:  54 \tgen loss:  8.8538065\n",
            "batch number:  55 \tgen loss:  8.804744\n",
            "batch number:  56 \tgen loss:  8.809563\n",
            "batch number:  57 \tgen loss:  8.842438\n",
            "batch number:  58 \tgen loss:  8.856613\n",
            "batch number:  59 \tgen loss:  8.845629\n",
            "batch number:  60 \tgen loss:  8.841267\n",
            "batch number:  61 \tgen loss:  8.855089\n",
            "batch number:  62 \tgen loss:  8.811343\n",
            "batch number:  63 \tgen loss:  8.844516\n",
            "batch number:  64 \tgen loss:  8.822429\n",
            "batch number:  65 \tgen loss:  8.845697\n",
            "batch number:  66 \tgen loss:  8.815809\n",
            "batch number:  67 \tgen loss:  8.836669\n",
            "batch number:  68 \tgen loss:  8.836352\n",
            "batch number:  69 \tgen loss:  8.83946\n",
            "batch number:  70 \tgen loss:  8.823501\n",
            "batch number:  71 \tgen loss:  8.828257\n",
            "batch number:  72 \tgen loss:  8.816458\n",
            "batch number:  73 \tgen loss:  8.829065\n",
            "batch number:  74 \tgen loss:  8.833415\n",
            "batch number:  75 \tgen loss:  8.841727\n",
            "batch number:  76 \tgen loss:  8.822268\n",
            "batch number:  77 \tgen loss:  8.845742\n",
            "batch number:  78 \tgen loss:  8.80202\n",
            "batch number:  79 \tgen loss:  8.830008\n",
            "batch number:  80 \tgen loss:  8.837132\n",
            "batch number:  81 \tgen loss:  8.832848\n",
            "batch number:  82 \tgen loss:  8.833761\n",
            "batch number:  83 \tgen loss:  8.799233\n",
            "batch number:  84 \tgen loss:  8.855019\n",
            "batch number:  85 \tgen loss:  8.832941\n",
            "batch number:  86 \tgen loss:  8.818304\n",
            "batch number:  87 \tgen loss:  8.831464\n",
            "batch number:  88 \tgen loss:  8.84412\n",
            "batch number:  89 \tgen loss:  8.844672\n",
            "batch number:  90 \tgen loss:  8.857065\n",
            "batch number:  91 \tgen loss:  8.820497\n",
            "batch number:  92 \tgen loss:  8.814417\n",
            "batch number:  93 \tgen loss:  8.827736\n",
            "batch number:  94 \tgen loss:  8.838056\n",
            "batch number:  95 \tgen loss:  8.814581\n",
            "batch number:  96 \tgen loss:  8.8216715\n",
            "batch number:  97 \tgen loss:  8.8139715\n",
            "batch number:  98 \tgen loss:  8.829833\n",
            "batch number:  99 \tgen loss:  8.809317\n",
            "batch number:  100 \tgen loss:  8.84245\n",
            "batch number:  101 \tgen loss:  8.804059\n",
            "batch number:  102 \tgen loss:  8.839434\n",
            "batch number:  103 \tgen loss:  8.802892\n",
            "batch number:  104 \tgen loss:  8.829911\n",
            "batch number:  105 \tgen loss:  8.843971\n",
            "batch number:  106 \tgen loss:  8.820439\n",
            "batch number:  107 \tgen loss:  8.845442\n",
            "batch number:  108 \tgen loss:  8.801547\n",
            "batch number:  109 \tgen loss:  8.832114\n",
            "batch number:  110 \tgen loss:  8.824387\n",
            "batch number:  111 \tgen loss:  8.847921\n",
            "batch number:  112 \tgen loss:  8.833163\n",
            "batch number:  113 \tgen loss:  8.815194\n",
            "batch number:  114 \tgen loss:  8.836772\n",
            "batch number:  115 \tgen loss:  8.814798\n",
            "batch number:  116 \tgen loss:  8.819612\n",
            "batch number:  117 \tgen loss:  8.836071\n",
            "batch number:  118 \tgen loss:  8.834398\n",
            "batch number:  119 \tgen loss:  8.823993\n",
            "batch number:  120 \tgen loss:  8.856958\n",
            "batch number:  121 \tgen loss:  8.863082\n",
            "batch number:  122 \tgen loss:  8.855611\n",
            "batch number:  123 \tgen loss:  8.7997\n",
            "batch number:  124 \tgen loss:  8.791113\n",
            "batch number:  125 \tgen loss:  8.83025\n",
            "batch number:  126 \tgen loss:  8.863104\n",
            "batch number:  127 \tgen loss:  8.841008\n",
            "batch number:  128 \tgen loss:  8.84323\n",
            "batch number:  129 \tgen loss:  8.806527\n",
            "batch number:  130 \tgen loss:  8.840578\n",
            "batch number:  131 \tgen loss:  8.794016\n",
            "batch number:  132 \tgen loss:  8.837505\n",
            "batch number:  133 \tgen loss:  8.818112\n",
            "batch number:  134 \tgen loss:  8.803452\n",
            "batch number:  135 \tgen loss:  8.813187\n",
            "batch number:  136 \tgen loss:  8.811485\n",
            "batch number:  137 \tgen loss:  8.809153\n",
            "batch number:  138 \tgen loss:  8.8260565\n",
            "batch number:  139 \tgen loss:  8.810856\n",
            "batch number:  140 \tgen loss:  8.836062\n",
            "batch number:  141 \tgen loss:  8.822249\n",
            "batch number:  142 \tgen loss:  8.8163595\n",
            "batch number:  143 \tgen loss:  8.851679\n",
            "batch number:  144 \tgen loss:  8.815838\n",
            "batch number:  145 \tgen loss:  8.82973\n",
            "batch number:  146 \tgen loss:  8.832928\n",
            "batch number:  147 \tgen loss:  8.840991\n",
            "batch number:  148 \tgen loss:  8.844053\n",
            "batch number:  149 \tgen loss:  8.812274\n",
            "batch number:  150 \tgen loss:  8.826378\n",
            "batch number:  151 \tgen loss:  8.853478\n",
            "batch number:  152 \tgen loss:  8.826868\n",
            "batch number:  153 \tgen loss:  8.856928\n",
            "batch number:  154 \tgen loss:  8.8132515\n",
            "batch number:  155 \tgen loss:  8.811987\n",
            "batch number:  156 \tgen loss:  8.82029\n",
            "batch number:  157 \tgen loss:  8.81537\n",
            "batch number:  158 \tgen loss:  8.801751\n",
            "batch number:  159 \tgen loss:  8.826364\n",
            "batch number:  160 \tgen loss:  8.843269\n",
            "batch number:  161 \tgen loss:  8.832472\n",
            "batch number:  162 \tgen loss:  8.848279\n",
            "batch number:  163 \tgen loss:  8.827768\n",
            "batch number:  164 \tgen loss:  8.847894\n",
            "batch number:  165 \tgen loss:  8.84263\n",
            "batch number:  166 \tgen loss:  8.810001\n",
            "batch number:  167 \tgen loss:  8.8207\n",
            "batch number:  168 \tgen loss:  8.820279\n",
            "batch number:  169 \tgen loss:  8.825069\n",
            "batch number:  170 \tgen loss:  8.858779\n",
            "batch number:  171 \tgen loss:  8.800239\n",
            "batch number:  172 \tgen loss:  8.8453665\n",
            "batch number:  173 \tgen loss:  8.807964\n",
            "batch number:  174 \tgen loss:  8.811614\n",
            "batch number:  175 \tgen loss:  8.8603945\n",
            "batch number:  176 \tgen loss:  8.828509\n",
            "batch number:  177 \tgen loss:  8.848903\n",
            "batch number:  178 \tgen loss:  8.79828\n",
            "batch number:  179 \tgen loss:  8.804366\n",
            "batch number:  180 \tgen loss:  8.813296\n",
            "batch number:  181 \tgen loss:  8.80465\n",
            "batch number:  182 \tgen loss:  8.845473\n",
            "batch number:  183 \tgen loss:  8.83881\n",
            "batch number:  184 \tgen loss:  8.8142805\n",
            "batch number:  185 \tgen loss:  8.827821\n",
            "batch number:  186 \tgen loss:  8.805324\n",
            "batch number:  187 \tgen loss:  8.80981\n",
            "batch number:  188 \tgen loss:  8.826844\n",
            "batch number:  189 \tgen loss:  8.840825\n",
            "batch number:  190 \tgen loss:  8.8238945\n",
            "batch number:  191 \tgen loss:  8.841999\n",
            "batch number:  192 \tgen loss:  8.806603\n",
            "batch number:  193 \tgen loss:  8.859255\n",
            "batch number:  194 \tgen loss:  8.810228\n",
            "batch number:  195 \tgen loss:  8.857028\n",
            "batch number:  196 \tgen loss:  8.836341\n",
            "batch number:  197 \tgen loss:  8.8128805\n",
            "batch number:  198 \tgen loss:  8.822867\n",
            "batch number:  199 \tgen loss:  8.86661\n",
            "batch number:  200 \tgen loss:  8.8340845\n",
            "batch number:  201 \tgen loss:  8.846147\n",
            "batch number:  202 \tgen loss:  8.840713\n",
            "batch number:  203 \tgen loss:  8.8448925\n",
            "batch number:  204 \tgen loss:  8.826682\n",
            "batch number:  205 \tgen loss:  8.8007555\n",
            "batch number:  206 \tgen loss:  8.849502\n",
            "batch number:  207 \tgen loss:  8.803585\n",
            "batch number:  208 \tgen loss:  8.846363\n",
            "batch number:  209 \tgen loss:  8.85394\n",
            "batch number:  210 \tgen loss:  8.830708\n",
            "batch number:  211 \tgen loss:  8.822807\n",
            "batch number:  212 \tgen loss:  8.822475\n",
            "batch number:  213 \tgen loss:  8.823711\n",
            "batch number:  214 \tgen loss:  8.819957\n",
            "batch number:  215 \tgen loss:  8.871683\n",
            "batch number:  216 \tgen loss:  8.820179\n",
            "batch number:  217 \tgen loss:  8.833259\n",
            "batch number:  218 \tgen loss:  8.830057\n",
            "batch number:  219 \tgen loss:  8.831991\n",
            "batch number:  220 \tgen loss:  8.831591\n",
            "batch number:  221 \tgen loss:  8.824061\n",
            "batch number:  222 \tgen loss:  8.812346\n",
            "batch number:  223 \tgen loss:  8.847918\n",
            "batch number:  224 \tgen loss:  8.8327055\n",
            "batch number:  225 \tgen loss:  8.827738\n",
            "batch number:  226 \tgen loss:  8.848086\n",
            "batch number:  227 \tgen loss:  8.825346\n",
            "batch number:  228 \tgen loss:  8.827132\n",
            "batch number:  229 \tgen loss:  8.858421\n",
            "batch number:  230 \tgen loss:  8.84065\n",
            "batch number:  231 \tgen loss:  8.839045\n",
            "batch number:  232 \tgen loss:  8.823161\n",
            "batch number:  233 \tgen loss:  8.849622\n",
            "batch number:  234 \tgen loss:  8.817691\n",
            "batch number:  235 \tgen loss:  8.85072\n",
            "batch number:  236 \tgen loss:  8.84277\n",
            "batch number:  237 \tgen loss:  8.849735\n",
            "batch number:  238 \tgen loss:  8.826731\n",
            "batch number:  239 \tgen loss:  8.847464\n",
            "batch number:  240 \tgen loss:  8.823673\n",
            "batch number:  241 \tgen loss:  8.830249\n",
            "batch number:  242 \tgen loss:  8.840393\n",
            "batch number:  243 \tgen loss:  8.835115\n",
            "batch number:  244 \tgen loss:  8.840461\n",
            "batch number:  245 \tgen loss:  8.829231\n",
            "batch number:  246 \tgen loss:  8.828424\n",
            "batch number:  247 \tgen loss:  8.851238\n",
            "batch number:  248 \tgen loss:  8.8458805\n",
            "batch number:  249 \tgen loss:  8.830835\n",
            "batch number:  250 \tgen loss:  8.841034\n",
            "batch number:  251 \tgen loss:  8.810322\n",
            "batch number:  252 \tgen loss:  8.837641\n",
            "batch number:  253 \tgen loss:  8.824978\n",
            "batch number:  254 \tgen loss:  8.816584\n",
            "batch number:  255 \tgen loss:  8.816022\n",
            "batch number:  256 \tgen loss:  8.846994\n",
            "batch number:  257 \tgen loss:  8.841969\n",
            "batch number:  258 \tgen loss:  8.80301\n",
            "batch number:  259 \tgen loss:  8.798666\n",
            "batch number:  260 \tgen loss:  8.82724\n",
            "batch number:  261 \tgen loss:  8.864005\n",
            "batch number:  262 \tgen loss:  8.848579\n",
            "batch number:  263 \tgen loss:  8.806335\n",
            "batch number:  264 \tgen loss:  8.806558\n",
            "batch number:  265 \tgen loss:  8.827548\n",
            "batch number:  266 \tgen loss:  8.830225\n",
            "batch number:  267 \tgen loss:  8.831013\n",
            "batch number:  268 \tgen loss:  8.839392\n",
            "batch number:  269 \tgen loss:  8.820358\n",
            "batch number:  270 \tgen loss:  8.850687\n",
            "batch number:  271 \tgen loss:  8.830678\n",
            "batch number:  272 \tgen loss:  8.808009\n",
            "batch number:  273 \tgen loss:  8.829993\n",
            "batch number:  274 \tgen loss:  8.820266\n",
            "batch number:  275 \tgen loss:  8.789734\n",
            "batch number:  276 \tgen loss:  8.82828\n",
            "batch number:  277 \tgen loss:  8.858108\n",
            "batch number:  278 \tgen loss:  8.848766\n",
            "batch number:  279 \tgen loss:  8.840059\n",
            "batch number:  280 \tgen loss:  8.836477\n",
            "batch number:  281 \tgen loss:  8.824224\n",
            "batch number:  282 \tgen loss:  8.837129\n",
            "batch number:  283 \tgen loss:  8.814079\n",
            "batch number:  284 \tgen loss:  8.835599\n",
            "batch number:  285 \tgen loss:  8.839788\n",
            "batch number:  286 \tgen loss:  8.835921\n",
            "batch number:  287 \tgen loss:  8.8762865\n",
            "batch number:  288 \tgen loss:  8.854235\n",
            "batch number:  289 \tgen loss:  8.821593\n",
            "batch number:  290 \tgen loss:  8.82521\n",
            "batch number:  291 \tgen loss:  8.818036\n",
            "batch number:  292 \tgen loss:  8.821719\n",
            "batch number:  293 \tgen loss:  8.835233\n",
            "batch number:  294 \tgen loss:  8.858487\n",
            "batch number:  295 \tgen loss:  8.826462\n",
            "batch number:  296 \tgen loss:  8.835291\n",
            "batch number:  297 \tgen loss:  8.832621\n",
            "batch number:  298 \tgen loss:  8.840864\n",
            "batch number:  299 \tgen loss:  8.81932\n",
            "batch number:  300 \tgen loss:  8.817939\n",
            "batch number:  301 \tgen loss:  8.79608\n",
            "batch number:  302 \tgen loss:  8.837954\n",
            "batch number:  303 \tgen loss:  8.831592\n",
            "batch number:  304 \tgen loss:  8.856943\n",
            "batch number:  305 \tgen loss:  8.773468\n",
            "batch number:  306 \tgen loss:  8.8311205\n",
            "batch number:  307 \tgen loss:  8.851474\n",
            "batch number:  308 \tgen loss:  8.8589945\n",
            "batch number:  309 \tgen loss:  8.807625\n",
            "batch number:  310 \tgen loss:  8.836088\n",
            "batch number:  311 \tgen loss:  8.84233\n",
            "batch number:  312 \tgen loss:  8.839138\n",
            "batch number:  313 \tgen loss:  8.847306\n",
            "batch number:  314 \tgen loss:  8.832984\n",
            "batch number:  315 \tgen loss:  8.814592\n",
            "batch number:  316 \tgen loss:  8.830901\n",
            "batch number:  317 \tgen loss:  8.83712\n",
            "batch number:  318 \tgen loss:  8.842877\n",
            "batch number:  319 \tgen loss:  8.808202\n",
            "batch number:  320 \tgen loss:  8.841377\n",
            "batch number:  321 \tgen loss:  8.836361\n",
            "batch number:  322 \tgen loss:  8.834317\n",
            "batch number:  323 \tgen loss:  8.803045\n",
            "batch number:  324 \tgen loss:  8.820072\n",
            "batch number:  325 \tgen loss:  8.858126\n",
            "batch number:  326 \tgen loss:  8.819817\n",
            "batch number:  327 \tgen loss:  8.825549\n",
            "batch number:  328 \tgen loss:  8.829262\n",
            "batch number:  329 \tgen loss:  8.84426\n",
            "batch number:  330 \tgen loss:  8.829328\n",
            "batch number:  331 \tgen loss:  8.827533\n",
            "batch number:  332 \tgen loss:  8.825503\n",
            "batch number:  333 \tgen loss:  8.836922\n",
            "batch number:  334 \tgen loss:  8.809513\n",
            "batch number:  335 \tgen loss:  8.826327\n",
            "batch number:  336 \tgen loss:  8.850818\n",
            "batch number:  337 \tgen loss:  8.818848\n",
            "batch number:  338 \tgen loss:  8.84608\n",
            "batch number:  339 \tgen loss:  8.834428\n",
            "batch number:  340 \tgen loss:  8.822065\n",
            "batch number:  341 \tgen loss:  8.831069\n",
            "batch number:  342 \tgen loss:  8.846408\n",
            "batch number:  343 \tgen loss:  8.81833\n",
            "batch number:  344 \tgen loss:  8.816469\n",
            "batch number:  345 \tgen loss:  8.833343\n",
            "batch number:  346 \tgen loss:  8.853489\n",
            "batch number:  347 \tgen loss:  8.822078\n",
            "batch number:  348 \tgen loss:  8.844131\n",
            "batch number:  349 \tgen loss:  8.824433\n",
            "batch number:  350 \tgen loss:  8.823799\n",
            "batch number:  351 \tgen loss:  8.811818\n",
            "batch number:  352 \tgen loss:  8.841188\n",
            "batch number:  353 \tgen loss:  8.842125\n",
            "batch number:  354 \tgen loss:  8.825058\n",
            "batch number:  355 \tgen loss:  8.814088\n",
            "batch number:  356 \tgen loss:  8.826548\n",
            "batch number:  357 \tgen loss:  8.81256\n",
            "batch number:  358 \tgen loss:  8.836427\n",
            "batch number:  359 \tgen loss:  8.8321905\n",
            "batch number:  360 \tgen loss:  8.840111\n",
            "batch number:  361 \tgen loss:  8.837216\n",
            "batch number:  362 \tgen loss:  8.828745\n",
            "batch number:  363 \tgen loss:  8.829104\n",
            "batch number:  364 \tgen loss:  8.835555\n",
            "batch number:  365 \tgen loss:  8.8222\n",
            "batch number:  366 \tgen loss:  8.82265\n",
            "batch number:  367 \tgen loss:  8.85838\n",
            "batch number:  368 \tgen loss:  8.840511\n",
            "batch number:  369 \tgen loss:  8.83503\n",
            "batch number:  370 \tgen loss:  8.846208\n",
            "batch number:  371 \tgen loss:  8.825036\n",
            "batch number:  372 \tgen loss:  8.839865\n",
            "batch number:  373 \tgen loss:  8.836081\n",
            "batch number:  374 \tgen loss:  8.823274\n",
            "batch number:  375 \tgen loss:  8.827456\n",
            "batch number:  376 \tgen loss:  8.817575\n",
            "batch number:  377 \tgen loss:  8.854819\n",
            "batch number:  378 \tgen loss:  8.808\n",
            "batch number:  379 \tgen loss:  8.830396\n",
            "batch number:  380 \tgen loss:  8.830221\n",
            "batch number:  381 \tgen loss:  8.83111\n",
            "batch number:  382 \tgen loss:  8.847287\n",
            "batch number:  383 \tgen loss:  8.833695\n",
            "batch number:  384 \tgen loss:  8.861772\n",
            "batch number:  385 \tgen loss:  8.814564\n",
            "batch number:  386 \tgen loss:  8.825788\n",
            "batch number:  387 \tgen loss:  8.809207\n",
            "batch number:  388 \tgen loss:  8.854556\n",
            "batch number:  389 \tgen loss:  8.83853\n",
            "batch number:  390 \tgen loss:  8.838249\n",
            "batch number:  391 \tgen loss:  8.836842\n"
          ]
        },
        {
          "ename": "KeyboardInterrupt",
          "evalue": "",
          "output_type": "error",
          "traceback": [
            "\u001b[0;31m---------------------------------------------------------------------------\u001b[0m",
            "\u001b[0;31mKeyboardInterrupt\u001b[0m                         Traceback (most recent call last)",
            "\u001b[0;32m/tmp/ipykernel_4259/858697959.py\u001b[0m in \u001b[0;36m<module>\u001b[0;34m\u001b[0m\n\u001b[0;32m----> 1\u001b[0;31m \u001b[0mmt_model\u001b[0m\u001b[0;34m.\u001b[0m\u001b[0mtrain\u001b[0m\u001b[0;34m(\u001b[0m\u001b[0mn_epochs\u001b[0m\u001b[0;34m=\u001b[0m\u001b[0;36m3\u001b[0m\u001b[0;34m)\u001b[0m\u001b[0;34m\u001b[0m\u001b[0;34m\u001b[0m\u001b[0m\n\u001b[0m",
            "\u001b[0;32m/tmp/ipykernel_4259/1818443503.py\u001b[0m in \u001b[0;36mtrain\u001b[0;34m(self, n_epochs)\u001b[0m\n\u001b[1;32m     19\u001b[0m              \u001b[0;31m# self.pmf_model.train()\u001b[0m\u001b[0;34m\u001b[0m\u001b[0;34m\u001b[0m\u001b[0;34m\u001b[0m\u001b[0m\n\u001b[1;32m     20\u001b[0m               \u001b[0mprint\u001b[0m\u001b[0;34m(\u001b[0m\u001b[0;34m\"\\n\\n******************************************* Seq2Seq Model Training Turn *******************************************\"\u001b[0m\u001b[0;34m)\u001b[0m\u001b[0;34m\u001b[0m\u001b[0;34m\u001b[0m\u001b[0m\n\u001b[0;32m---> 21\u001b[0;31m               \u001b[0mself\u001b[0m\u001b[0;34m.\u001b[0m\u001b[0mseq2seq_model\u001b[0m\u001b[0;34m.\u001b[0m\u001b[0mtrain\u001b[0m\u001b[0;34m(\u001b[0m\u001b[0;34m)\u001b[0m\u001b[0;34m\u001b[0m\u001b[0;34m\u001b[0m\u001b[0m\n\u001b[0m\u001b[1;32m     22\u001b[0m \u001b[0;34m\u001b[0m\u001b[0m\n\u001b[1;32m     23\u001b[0m               \u001b[0;32mwith\u001b[0m \u001b[0mtrain_summary_writer\u001b[0m\u001b[0;34m.\u001b[0m\u001b[0mas_default\u001b[0m\u001b[0;34m(\u001b[0m\u001b[0;34m)\u001b[0m\u001b[0;34m:\u001b[0m\u001b[0;34m\u001b[0m\u001b[0;34m\u001b[0m\u001b[0m\n",
            "\u001b[0;32m/tmp/ipykernel_4259/4055359062.py\u001b[0m in \u001b[0;36mtrain\u001b[0;34m(self)\u001b[0m\n\u001b[1;32m    205\u001b[0m         \u001b[0mself\u001b[0m\u001b[0;34m.\u001b[0m\u001b[0madversarial_train\u001b[0m\u001b[0;34m(\u001b[0m\u001b[0mnum_steps\u001b[0m\u001b[0;34m=\u001b[0m \u001b[0;36m64\u001b[0m\u001b[0;34m)\u001b[0m           \u001b[0;31m# g step\u001b[0m\u001b[0;34m\u001b[0m\u001b[0;34m\u001b[0m\u001b[0m\n\u001b[1;32m    206\u001b[0m         \u001b[0mprint\u001b[0m\u001b[0;34m(\u001b[0m\u001b[0;34m\"\\n\\nGenerator Test:\"\u001b[0m\u001b[0;34m)\u001b[0m\u001b[0;34m\u001b[0m\u001b[0;34m\u001b[0m\u001b[0m\n\u001b[0;32m--> 207\u001b[0;31m         \u001b[0mself\u001b[0m\u001b[0;34m.\u001b[0m\u001b[0mtest\u001b[0m\u001b[0;34m(\u001b[0m\u001b[0mnum_steps\u001b[0m\u001b[0;34m=\u001b[0m \u001b[0mself\u001b[0m\u001b[0;34m.\u001b[0m\u001b[0mnum_batches_test\u001b[0m\u001b[0;34m)\u001b[0m\u001b[0;34m\u001b[0m\u001b[0;34m\u001b[0m\u001b[0m\n\u001b[0m\u001b[1;32m    208\u001b[0m \u001b[0;34m\u001b[0m\u001b[0m\n",
            "\u001b[0;32m/tmp/ipykernel_4259/4055359062.py\u001b[0m in \u001b[0;36mtest\u001b[0;34m(self, num_steps)\u001b[0m\n\u001b[1;32m    115\u001b[0m             \u001b[0;34m(\u001b[0m\u001b[0mbatch_userID\u001b[0m\u001b[0;34m,\u001b[0m\u001b[0mbatch_itemID\u001b[0m\u001b[0;34m,\u001b[0m \u001b[0m_\u001b[0m \u001b[0;34m,\u001b[0m\u001b[0m_\u001b[0m\u001b[0;34m,\u001b[0m\u001b[0m_\u001b[0m\u001b[0;34m)\u001b[0m \u001b[0;34m=\u001b[0m \u001b[0mnext\u001b[0m\u001b[0;34m(\u001b[0m\u001b[0miter\u001b[0m\u001b[0;34m(\u001b[0m\u001b[0mtest_ds\u001b[0m\u001b[0;34m)\u001b[0m\u001b[0;34m)\u001b[0m\u001b[0;34m\u001b[0m\u001b[0;34m\u001b[0m\u001b[0m\n\u001b[1;32m    116\u001b[0m             \u001b[0mcontext_vector\u001b[0m \u001b[0;34m=\u001b[0m \u001b[0mtf\u001b[0m\u001b[0;34m.\u001b[0m\u001b[0mconcat\u001b[0m\u001b[0;34m(\u001b[0m\u001b[0;34m[\u001b[0m\u001b[0muser_textual_features\u001b[0m\u001b[0;34m[\u001b[0m\u001b[0mbatch_userID\u001b[0m\u001b[0;34m]\u001b[0m\u001b[0;34m,\u001b[0m\u001b[0mitem_textual_features\u001b[0m\u001b[0;34m[\u001b[0m\u001b[0mbatch_itemID\u001b[0m\u001b[0;34m]\u001b[0m\u001b[0;34m]\u001b[0m\u001b[0;34m,\u001b[0m\u001b[0;36m1\u001b[0m\u001b[0;34m)\u001b[0m\u001b[0;34m\u001b[0m\u001b[0;34m\u001b[0m\u001b[0m\n\u001b[0;32m--> 117\u001b[0;31m             \u001b[0mpredicted_samples\u001b[0m\u001b[0;34m,\u001b[0m\u001b[0mdec_prob\u001b[0m \u001b[0;34m=\u001b[0m \u001b[0mself\u001b[0m\u001b[0;34m.\u001b[0m\u001b[0mgenerate_sample\u001b[0m\u001b[0;34m(\u001b[0m\u001b[0mcontext_vector\u001b[0m\u001b[0;34m=\u001b[0m\u001b[0mcontext_vector\u001b[0m\u001b[0;34m)\u001b[0m\u001b[0;34m\u001b[0m\u001b[0;34m\u001b[0m\u001b[0m\n\u001b[0m\u001b[1;32m    118\u001b[0m             \u001b[0mloss\u001b[0m \u001b[0;34m=\u001b[0m \u001b[0mself\u001b[0m\u001b[0;34m.\u001b[0m\u001b[0mloss_gn\u001b[0m\u001b[0;34m(\u001b[0m\u001b[0mpredicted_samples\u001b[0m \u001b[0;34m,\u001b[0m\u001b[0mtf\u001b[0m\u001b[0;34m.\u001b[0m\u001b[0mtranspose\u001b[0m\u001b[0;34m(\u001b[0m \u001b[0mtf\u001b[0m\u001b[0;34m.\u001b[0m\u001b[0mstack\u001b[0m\u001b[0;34m(\u001b[0m\u001b[0mdec_prob\u001b[0m\u001b[0;34m)\u001b[0m\u001b[0;34m,\u001b[0m \u001b[0;34m[\u001b[0m\u001b[0;36m1\u001b[0m\u001b[0;34m,\u001b[0m\u001b[0;36m0\u001b[0m\u001b[0;34m,\u001b[0m\u001b[0;36m2\u001b[0m\u001b[0;34m]\u001b[0m\u001b[0;34m)\u001b[0m  \u001b[0;34m)\u001b[0m\u001b[0;34m\u001b[0m\u001b[0;34m\u001b[0m\u001b[0m\n\u001b[1;32m    119\u001b[0m             \u001b[0mtotal_loss\u001b[0m \u001b[0;34m+=\u001b[0m \u001b[0mloss\u001b[0m\u001b[0;34m\u001b[0m\u001b[0;34m\u001b[0m\u001b[0m\n",
            "\u001b[0;32m/tmp/ipykernel_4259/4055359062.py\u001b[0m in \u001b[0;36mgenerate_sample\u001b[0;34m(self, context_vector)\u001b[0m\n\u001b[1;32m    193\u001b[0m             \u001b[0mdec_out\u001b[0m\u001b[0;34m.\u001b[0m\u001b[0mappend\u001b[0m\u001b[0;34m(\u001b[0m\u001b[0mtf\u001b[0m\u001b[0;34m.\u001b[0m\u001b[0mrandom\u001b[0m\u001b[0;34m.\u001b[0m\u001b[0mcategorical\u001b[0m\u001b[0;34m(\u001b[0m\u001b[0md_prob\u001b[0m\u001b[0;34m[\u001b[0m\u001b[0;34m:\u001b[0m\u001b[0;34m,\u001b[0m\u001b[0;34m-\u001b[0m\u001b[0;36m1\u001b[0m\u001b[0;34m]\u001b[0m\u001b[0;34m,\u001b[0m\u001b[0;36m1\u001b[0m\u001b[0;34m,\u001b[0m\u001b[0mdtype\u001b[0m\u001b[0;34m=\u001b[0m\u001b[0mtf\u001b[0m\u001b[0;34m.\u001b[0m\u001b[0mint32\u001b[0m\u001b[0;34m)\u001b[0m\u001b[0;34m)\u001b[0m\u001b[0;34m\u001b[0m\u001b[0;34m\u001b[0m\u001b[0m\n\u001b[1;32m    194\u001b[0m             \u001b[0;32mdel\u001b[0m \u001b[0md_prob\u001b[0m\u001b[0;34m\u001b[0m\u001b[0;34m\u001b[0m\u001b[0m\n\u001b[0;32m--> 195\u001b[0;31m         \u001b[0mgc\u001b[0m\u001b[0;34m.\u001b[0m\u001b[0mcollect\u001b[0m\u001b[0;34m(\u001b[0m\u001b[0;34m)\u001b[0m\u001b[0;34m\u001b[0m\u001b[0;34m\u001b[0m\u001b[0m\n\u001b[0m\u001b[1;32m    196\u001b[0m \u001b[0;34m\u001b[0m\u001b[0m\n\u001b[1;32m    197\u001b[0m         \u001b[0;32mreturn\u001b[0m \u001b[0mtf\u001b[0m\u001b[0;34m.\u001b[0m\u001b[0msqueeze\u001b[0m\u001b[0;34m(\u001b[0m\u001b[0mtf\u001b[0m\u001b[0;34m.\u001b[0m\u001b[0mstack\u001b[0m\u001b[0;34m(\u001b[0m\u001b[0mdec_out\u001b[0m\u001b[0;34m,\u001b[0m\u001b[0;36m1\u001b[0m\u001b[0;34m)\u001b[0m\u001b[0;34m)\u001b[0m\u001b[0;34m[\u001b[0m\u001b[0;34m:\u001b[0m\u001b[0;34m,\u001b[0m\u001b[0;36m1\u001b[0m\u001b[0;34m:\u001b[0m\u001b[0;34m]\u001b[0m\u001b[0;34m,\u001b[0m \u001b[0mdec_prob\u001b[0m\u001b[0;34m\u001b[0m\u001b[0;34m\u001b[0m\u001b[0m\n",
            "\u001b[0;31mKeyboardInterrupt\u001b[0m: "
          ]
        }
      ],
      "source": [
        "mt_model.train(n_epochs=3)"
      ]
    },
    {
      "cell_type": "markdown",
      "metadata": {},
      "source": [
        "# **Ploting Results**"
      ]
    },
    {
      "cell_type": "code",
      "execution_count": null,
      "metadata": {},
      "outputs": [
        {
          "name": "stdout",
          "output_type": "stream",
          "text": [
            "The tensorboard extension is already loaded. To reload it, use:\n",
            "  %reload_ext tensorboard\n"
          ]
        }
      ],
      "source": [
        "%load_ext tensorboard"
      ]
    },
    {
      "cell_type": "code",
      "execution_count": null,
      "metadata": {},
      "outputs": [
        {
          "data": {
            "text/html": [
              "\n",
              "      <iframe id=\"tensorboard-frame-364fb76a7a371a91\" width=\"100%\" height=\"800\" frameborder=\"0\">\n",
              "      </iframe>\n",
              "      <script>\n",
              "        (function() {\n",
              "          const frame = document.getElementById(\"tensorboard-frame-364fb76a7a371a91\");\n",
              "          const url = new URL(\"/\", window.location);\n",
              "          const port = 6006;\n",
              "          if (port) {\n",
              "            url.port = port;\n",
              "          }\n",
              "          frame.src = url;\n",
              "        })();\n",
              "      </script>\n",
              "    "
            ],
            "text/plain": [
              "<IPython.core.display.HTML object>"
            ]
          },
          "metadata": {},
          "output_type": "display_data"
        }
      ],
      "source": [
        "%tensorboard --logdir logs\n",
        "# deactive tracking protection of the page if you get 403 error\n"
      ]
    },
    {
      "cell_type": "markdown",
      "metadata": {
        "id": "xniWi24qcZsb"
      },
      "source": [
        "# test code"
      ]
    },
    {
      "cell_type": "code",
      "execution_count": null,
      "metadata": {
        "id": "85ryd-vJrTix"
      },
      "outputs": [],
      "source": [
        "#log_ps, mse_train, mse_test= pm.train(10)"
      ]
    },
    {
      "cell_type": "code",
      "execution_count": null,
      "metadata": {
        "id": "4meEBmwsqMYC"
      },
      "outputs": [],
      "source": [
        "\n",
        "# dec_result,dec_state=decoder(dec_output_tokens,dec_output_tokens,context_vector= user_context_vector,state=dec_state)\n",
        "# sampled_token = tf.random.categorical(dec_result[:,-1, :], num_samples=1)\n",
        "# print( sampled_token.numpy())\n",
        "# dec_output_tokens=np.append( dec_output_tokens , sampled_token.numpy()[0])\n",
        "# print(dec_output_tokens)\n",
        "\n",
        "# vocab = np.array(input_text_processor.get_vocabulary())\n",
        "# first_word = vocab[dec_output_tokens]\n",
        "# first_word"
      ]
    }
  ],
  "metadata": {
    "colab": {
      "collapsed_sections": [],
      "name": "Explainable Recommender System.ipynb",
      "provenance": [],
      "toc_visible": true
    },
    "gpuClass": "standard",
    "kernelspec": {
      "display_name": "Python 3.7.13 ('colabenv')",
      "language": "python",
      "name": "python3"
    },
    "language_info": {
      "codemirror_mode": {
        "name": "ipython",
        "version": 3
      },
      "file_extension": ".py",
      "mimetype": "text/x-python",
      "name": "python",
      "nbconvert_exporter": "python",
      "pygments_lexer": "ipython3",
      "version": "3.7.13"
    },
    "vscode": {
      "interpreter": {
        "hash": "5859fc1fd51a29bc96a6c335b5cef2533de774a99a73e1484108bae0d11f06ff"
      }
    }
  },
  "nbformat": 4,
  "nbformat_minor": 0
}
