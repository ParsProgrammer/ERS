{
  "cells": [
    {
      "cell_type": "code",
      "execution_count": 1,
      "metadata": {},
      "outputs": [],
      "source": [
        "# uncomment the last two cell to clone the data and enable the GPU\n",
        "#! git clone https://github.com/ParsProgrammer/ERS.git"
      ]
    },
    {
      "cell_type": "code",
      "execution_count": 2,
      "metadata": {},
      "outputs": [],
      "source": [
        "#cd ERS"
      ]
    },
    {
      "cell_type": "markdown",
      "metadata": {},
      "source": [
        "# **Packages**"
      ]
    },
    {
      "cell_type": "code",
      "execution_count": 1,
      "metadata": {
        "colab": {
          "base_uri": "https://localhost:8080/"
        },
        "id": "xrzVYQNxJm_W",
        "outputId": "8f98d417-6c2d-47ff-a041-84238103eba9"
      },
      "outputs": [
        {
          "name": "stdout",
          "output_type": "stream",
          "text": [
            "Requirement already satisfied: tensorflow-gpu==2.9 in /home/mobin/anaconda3/envs/colabenv/lib/python3.7/site-packages (2.9.0)\n",
            "Requirement already satisfied: tensorboard<2.10,>=2.9 in /home/mobin/anaconda3/envs/colabenv/lib/python3.7/site-packages (from tensorflow-gpu==2.9) (2.9.1)\n",
            "Requirement already satisfied: flatbuffers<2,>=1.12 in /home/mobin/anaconda3/envs/colabenv/lib/python3.7/site-packages (from tensorflow-gpu==2.9) (1.12)\n",
            "Requirement already satisfied: setuptools in /home/mobin/anaconda3/envs/colabenv/lib/python3.7/site-packages (from tensorflow-gpu==2.9) (61.2.0)\n",
            "Requirement already satisfied: typing-extensions>=3.6.6 in /home/mobin/anaconda3/envs/colabenv/lib/python3.7/site-packages (from tensorflow-gpu==2.9) (4.1.1)\n",
            "Requirement already satisfied: six>=1.12.0 in /home/mobin/anaconda3/envs/colabenv/lib/python3.7/site-packages (from tensorflow-gpu==2.9) (1.16.0)\n",
            "Requirement already satisfied: keras-preprocessing>=1.1.1 in /home/mobin/anaconda3/envs/colabenv/lib/python3.7/site-packages (from tensorflow-gpu==2.9) (1.1.2)\n",
            "Requirement already satisfied: opt-einsum>=2.3.2 in /home/mobin/anaconda3/envs/colabenv/lib/python3.7/site-packages (from tensorflow-gpu==2.9) (3.3.0)\n",
            "Requirement already satisfied: astunparse>=1.6.0 in /home/mobin/anaconda3/envs/colabenv/lib/python3.7/site-packages (from tensorflow-gpu==2.9) (1.6.3)\n",
            "Requirement already satisfied: absl-py>=1.0.0 in /home/mobin/anaconda3/envs/colabenv/lib/python3.7/site-packages (from tensorflow-gpu==2.9) (1.2.0)\n",
            "Requirement already satisfied: gast<=0.4.0,>=0.2.1 in /home/mobin/anaconda3/envs/colabenv/lib/python3.7/site-packages (from tensorflow-gpu==2.9) (0.4.0)\n",
            "Requirement already satisfied: grpcio<2.0,>=1.24.3 in /home/mobin/anaconda3/envs/colabenv/lib/python3.7/site-packages (from tensorflow-gpu==2.9) (1.50.0)\n",
            "Requirement already satisfied: numpy>=1.20 in /home/mobin/anaconda3/envs/colabenv/lib/python3.7/site-packages (from tensorflow-gpu==2.9) (1.21.6)\n",
            "Requirement already satisfied: wrapt>=1.11.0 in /home/mobin/anaconda3/envs/colabenv/lib/python3.7/site-packages (from tensorflow-gpu==2.9) (1.14.1)\n",
            "Requirement already satisfied: packaging in /home/mobin/anaconda3/envs/colabenv/lib/python3.7/site-packages (from tensorflow-gpu==2.9) (21.3)\n",
            "Requirement already satisfied: keras<2.10.0,>=2.9.0rc0 in /home/mobin/anaconda3/envs/colabenv/lib/python3.7/site-packages (from tensorflow-gpu==2.9) (2.9.0)\n",
            "Requirement already satisfied: termcolor>=1.1.0 in /home/mobin/anaconda3/envs/colabenv/lib/python3.7/site-packages (from tensorflow-gpu==2.9) (1.1.0)\n",
            "Requirement already satisfied: tensorflow-estimator<2.10.0,>=2.9.0rc0 in /home/mobin/anaconda3/envs/colabenv/lib/python3.7/site-packages (from tensorflow-gpu==2.9) (2.9.0)\n",
            "Requirement already satisfied: tensorflow-io-gcs-filesystem>=0.23.1 in /home/mobin/anaconda3/envs/colabenv/lib/python3.7/site-packages (from tensorflow-gpu==2.9) (0.26.0)\n",
            "Requirement already satisfied: h5py>=2.9.0 in /home/mobin/anaconda3/envs/colabenv/lib/python3.7/site-packages (from tensorflow-gpu==2.9) (3.7.0)\n",
            "Requirement already satisfied: google-pasta>=0.1.1 in /home/mobin/anaconda3/envs/colabenv/lib/python3.7/site-packages (from tensorflow-gpu==2.9) (0.2.0)\n",
            "Requirement already satisfied: protobuf>=3.9.2 in /home/mobin/anaconda3/envs/colabenv/lib/python3.7/site-packages (from tensorflow-gpu==2.9) (3.19.6)\n",
            "Requirement already satisfied: libclang>=13.0.0 in /home/mobin/anaconda3/envs/colabenv/lib/python3.7/site-packages (from tensorflow-gpu==2.9) (14.0.6)\n",
            "Requirement already satisfied: wheel<1.0,>=0.23.0 in /home/mobin/anaconda3/envs/colabenv/lib/python3.7/site-packages (from astunparse>=1.6.0->tensorflow-gpu==2.9) (0.37.1)\n",
            "Requirement already satisfied: markdown>=2.6.8 in /home/mobin/anaconda3/envs/colabenv/lib/python3.7/site-packages (from tensorboard<2.10,>=2.9->tensorflow-gpu==2.9) (3.4.1)\n",
            "Requirement already satisfied: tensorboard-data-server<0.7.0,>=0.6.0 in /home/mobin/anaconda3/envs/colabenv/lib/python3.7/site-packages (from tensorboard<2.10,>=2.9->tensorflow-gpu==2.9) (0.6.1)\n",
            "Requirement already satisfied: google-auth-oauthlib<0.5,>=0.4.1 in /home/mobin/anaconda3/envs/colabenv/lib/python3.7/site-packages (from tensorboard<2.10,>=2.9->tensorflow-gpu==2.9) (0.4.6)\n",
            "Requirement already satisfied: google-auth<3,>=1.6.3 in /home/mobin/anaconda3/envs/colabenv/lib/python3.7/site-packages (from tensorboard<2.10,>=2.9->tensorflow-gpu==2.9) (2.9.1)\n",
            "Requirement already satisfied: tensorboard-plugin-wit>=1.6.0 in /home/mobin/anaconda3/envs/colabenv/lib/python3.7/site-packages (from tensorboard<2.10,>=2.9->tensorflow-gpu==2.9) (1.8.1)\n",
            "Requirement already satisfied: werkzeug>=1.0.1 in /home/mobin/anaconda3/envs/colabenv/lib/python3.7/site-packages (from tensorboard<2.10,>=2.9->tensorflow-gpu==2.9) (2.2.1)\n",
            "Requirement already satisfied: requests<3,>=2.21.0 in /home/mobin/anaconda3/envs/colabenv/lib/python3.7/site-packages (from tensorboard<2.10,>=2.9->tensorflow-gpu==2.9) (2.28.1)\n",
            "Requirement already satisfied: pyparsing!=3.0.5,>=2.0.2 in /home/mobin/anaconda3/envs/colabenv/lib/python3.7/site-packages (from packaging->tensorflow-gpu==2.9) (3.0.9)\n",
            "Requirement already satisfied: cachetools<6.0,>=2.0.0 in /home/mobin/anaconda3/envs/colabenv/lib/python3.7/site-packages (from google-auth<3,>=1.6.3->tensorboard<2.10,>=2.9->tensorflow-gpu==2.9) (4.2.4)\n",
            "Requirement already satisfied: rsa<5,>=3.1.4 in /home/mobin/anaconda3/envs/colabenv/lib/python3.7/site-packages (from google-auth<3,>=1.6.3->tensorboard<2.10,>=2.9->tensorflow-gpu==2.9) (4.9)\n",
            "Requirement already satisfied: pyasn1-modules>=0.2.1 in /home/mobin/anaconda3/envs/colabenv/lib/python3.7/site-packages (from google-auth<3,>=1.6.3->tensorboard<2.10,>=2.9->tensorflow-gpu==2.9) (0.2.8)\n",
            "Requirement already satisfied: requests-oauthlib>=0.7.0 in /home/mobin/anaconda3/envs/colabenv/lib/python3.7/site-packages (from google-auth-oauthlib<0.5,>=0.4.1->tensorboard<2.10,>=2.9->tensorflow-gpu==2.9) (1.3.1)\n",
            "Requirement already satisfied: importlib-metadata>=4.4 in /home/mobin/anaconda3/envs/colabenv/lib/python3.7/site-packages (from markdown>=2.6.8->tensorboard<2.10,>=2.9->tensorflow-gpu==2.9) (4.12.0)\n",
            "Requirement already satisfied: urllib3<1.27,>=1.21.1 in /home/mobin/anaconda3/envs/colabenv/lib/python3.7/site-packages (from requests<3,>=2.21.0->tensorboard<2.10,>=2.9->tensorflow-gpu==2.9) (1.26.11)\n",
            "Requirement already satisfied: charset-normalizer<3,>=2 in /home/mobin/anaconda3/envs/colabenv/lib/python3.7/site-packages (from requests<3,>=2.21.0->tensorboard<2.10,>=2.9->tensorflow-gpu==2.9) (2.1.0)\n",
            "Requirement already satisfied: certifi>=2017.4.17 in /home/mobin/anaconda3/envs/colabenv/lib/python3.7/site-packages (from requests<3,>=2.21.0->tensorboard<2.10,>=2.9->tensorflow-gpu==2.9) (2022.6.15)\n",
            "Requirement already satisfied: idna<4,>=2.5 in /home/mobin/anaconda3/envs/colabenv/lib/python3.7/site-packages (from requests<3,>=2.21.0->tensorboard<2.10,>=2.9->tensorflow-gpu==2.9) (3.3)\n",
            "Requirement already satisfied: MarkupSafe>=2.1.1 in /home/mobin/anaconda3/envs/colabenv/lib/python3.7/site-packages (from werkzeug>=1.0.1->tensorboard<2.10,>=2.9->tensorflow-gpu==2.9) (2.1.1)\n",
            "Requirement already satisfied: zipp>=0.5 in /home/mobin/anaconda3/envs/colabenv/lib/python3.7/site-packages (from importlib-metadata>=4.4->markdown>=2.6.8->tensorboard<2.10,>=2.9->tensorflow-gpu==2.9) (3.8.1)\n",
            "Requirement already satisfied: pyasn1<0.5.0,>=0.4.6 in /home/mobin/anaconda3/envs/colabenv/lib/python3.7/site-packages (from pyasn1-modules>=0.2.1->google-auth<3,>=1.6.3->tensorboard<2.10,>=2.9->tensorflow-gpu==2.9) (0.4.8)\n",
            "Requirement already satisfied: oauthlib>=3.0.0 in /home/mobin/anaconda3/envs/colabenv/lib/python3.7/site-packages (from requests-oauthlib>=0.7.0->google-auth-oauthlib<0.5,>=0.4.1->tensorboard<2.10,>=2.9->tensorflow-gpu==2.9) (3.2.0)\n",
            "Note: you may need to restart the kernel to use updated packages.\n",
            "Requirement already satisfied: tensorflow-text in /home/mobin/anaconda3/envs/colabenv/lib/python3.7/site-packages (2.9.0)\n",
            "Requirement already satisfied: tensorflow-hub>=0.8.0 in /home/mobin/anaconda3/envs/colabenv/lib/python3.7/site-packages (from tensorflow-text) (0.12.0)\n",
            "Requirement already satisfied: tensorflow<2.10,>=2.9.0 in /home/mobin/anaconda3/envs/colabenv/lib/python3.7/site-packages (from tensorflow-text) (2.9.3)\n",
            "Requirement already satisfied: google-pasta>=0.1.1 in /home/mobin/anaconda3/envs/colabenv/lib/python3.7/site-packages (from tensorflow<2.10,>=2.9.0->tensorflow-text) (0.2.0)\n",
            "Requirement already satisfied: setuptools in /home/mobin/anaconda3/envs/colabenv/lib/python3.7/site-packages (from tensorflow<2.10,>=2.9.0->tensorflow-text) (61.2.0)\n",
            "Requirement already satisfied: keras-preprocessing>=1.1.1 in /home/mobin/anaconda3/envs/colabenv/lib/python3.7/site-packages (from tensorflow<2.10,>=2.9.0->tensorflow-text) (1.1.2)\n",
            "Requirement already satisfied: tensorflow-estimator<2.10.0,>=2.9.0rc0 in /home/mobin/anaconda3/envs/colabenv/lib/python3.7/site-packages (from tensorflow<2.10,>=2.9.0->tensorflow-text) (2.9.0)\n",
            "Requirement already satisfied: six>=1.12.0 in /home/mobin/anaconda3/envs/colabenv/lib/python3.7/site-packages (from tensorflow<2.10,>=2.9.0->tensorflow-text) (1.16.0)\n",
            "Requirement already satisfied: termcolor>=1.1.0 in /home/mobin/anaconda3/envs/colabenv/lib/python3.7/site-packages (from tensorflow<2.10,>=2.9.0->tensorflow-text) (1.1.0)\n",
            "Requirement already satisfied: flatbuffers<2,>=1.12 in /home/mobin/anaconda3/envs/colabenv/lib/python3.7/site-packages (from tensorflow<2.10,>=2.9.0->tensorflow-text) (1.12)\n",
            "Requirement already satisfied: astunparse>=1.6.0 in /home/mobin/anaconda3/envs/colabenv/lib/python3.7/site-packages (from tensorflow<2.10,>=2.9.0->tensorflow-text) (1.6.3)\n",
            "Requirement already satisfied: h5py>=2.9.0 in /home/mobin/anaconda3/envs/colabenv/lib/python3.7/site-packages (from tensorflow<2.10,>=2.9.0->tensorflow-text) (3.7.0)\n",
            "Requirement already satisfied: grpcio<2.0,>=1.24.3 in /home/mobin/anaconda3/envs/colabenv/lib/python3.7/site-packages (from tensorflow<2.10,>=2.9.0->tensorflow-text) (1.50.0)\n",
            "Requirement already satisfied: protobuf<3.20,>=3.9.2 in /home/mobin/anaconda3/envs/colabenv/lib/python3.7/site-packages (from tensorflow<2.10,>=2.9.0->tensorflow-text) (3.19.6)\n",
            "Requirement already satisfied: absl-py>=1.0.0 in /home/mobin/anaconda3/envs/colabenv/lib/python3.7/site-packages (from tensorflow<2.10,>=2.9.0->tensorflow-text) (1.2.0)\n",
            "Requirement already satisfied: opt-einsum>=2.3.2 in /home/mobin/anaconda3/envs/colabenv/lib/python3.7/site-packages (from tensorflow<2.10,>=2.9.0->tensorflow-text) (3.3.0)\n",
            "Requirement already satisfied: packaging in /home/mobin/anaconda3/envs/colabenv/lib/python3.7/site-packages (from tensorflow<2.10,>=2.9.0->tensorflow-text) (21.3)\n",
            "Requirement already satisfied: keras<2.10.0,>=2.9.0rc0 in /home/mobin/anaconda3/envs/colabenv/lib/python3.7/site-packages (from tensorflow<2.10,>=2.9.0->tensorflow-text) (2.9.0)\n",
            "Requirement already satisfied: tensorboard<2.10,>=2.9 in /home/mobin/anaconda3/envs/colabenv/lib/python3.7/site-packages (from tensorflow<2.10,>=2.9.0->tensorflow-text) (2.9.1)\n",
            "Requirement already satisfied: tensorflow-io-gcs-filesystem>=0.23.1 in /home/mobin/anaconda3/envs/colabenv/lib/python3.7/site-packages (from tensorflow<2.10,>=2.9.0->tensorflow-text) (0.26.0)\n",
            "Requirement already satisfied: gast<=0.4.0,>=0.2.1 in /home/mobin/anaconda3/envs/colabenv/lib/python3.7/site-packages (from tensorflow<2.10,>=2.9.0->tensorflow-text) (0.4.0)\n",
            "Requirement already satisfied: typing-extensions>=3.6.6 in /home/mobin/anaconda3/envs/colabenv/lib/python3.7/site-packages (from tensorflow<2.10,>=2.9.0->tensorflow-text) (4.1.1)\n",
            "Requirement already satisfied: numpy>=1.20 in /home/mobin/anaconda3/envs/colabenv/lib/python3.7/site-packages (from tensorflow<2.10,>=2.9.0->tensorflow-text) (1.21.6)\n",
            "Requirement already satisfied: libclang>=13.0.0 in /home/mobin/anaconda3/envs/colabenv/lib/python3.7/site-packages (from tensorflow<2.10,>=2.9.0->tensorflow-text) (14.0.6)\n",
            "Requirement already satisfied: wrapt>=1.11.0 in /home/mobin/anaconda3/envs/colabenv/lib/python3.7/site-packages (from tensorflow<2.10,>=2.9.0->tensorflow-text) (1.14.1)\n",
            "Requirement already satisfied: wheel<1.0,>=0.23.0 in /home/mobin/anaconda3/envs/colabenv/lib/python3.7/site-packages (from astunparse>=1.6.0->tensorflow<2.10,>=2.9.0->tensorflow-text) (0.37.1)\n",
            "Requirement already satisfied: google-auth<3,>=1.6.3 in /home/mobin/anaconda3/envs/colabenv/lib/python3.7/site-packages (from tensorboard<2.10,>=2.9->tensorflow<2.10,>=2.9.0->tensorflow-text) (2.9.1)\n",
            "Requirement already satisfied: markdown>=2.6.8 in /home/mobin/anaconda3/envs/colabenv/lib/python3.7/site-packages (from tensorboard<2.10,>=2.9->tensorflow<2.10,>=2.9.0->tensorflow-text) (3.4.1)\n",
            "Requirement already satisfied: tensorboard-plugin-wit>=1.6.0 in /home/mobin/anaconda3/envs/colabenv/lib/python3.7/site-packages (from tensorboard<2.10,>=2.9->tensorflow<2.10,>=2.9.0->tensorflow-text) (1.8.1)\n",
            "Requirement already satisfied: tensorboard-data-server<0.7.0,>=0.6.0 in /home/mobin/anaconda3/envs/colabenv/lib/python3.7/site-packages (from tensorboard<2.10,>=2.9->tensorflow<2.10,>=2.9.0->tensorflow-text) (0.6.1)\n",
            "Requirement already satisfied: werkzeug>=1.0.1 in /home/mobin/anaconda3/envs/colabenv/lib/python3.7/site-packages (from tensorboard<2.10,>=2.9->tensorflow<2.10,>=2.9.0->tensorflow-text) (2.2.1)\n",
            "Requirement already satisfied: requests<3,>=2.21.0 in /home/mobin/anaconda3/envs/colabenv/lib/python3.7/site-packages (from tensorboard<2.10,>=2.9->tensorflow<2.10,>=2.9.0->tensorflow-text) (2.28.1)\n",
            "Requirement already satisfied: google-auth-oauthlib<0.5,>=0.4.1 in /home/mobin/anaconda3/envs/colabenv/lib/python3.7/site-packages (from tensorboard<2.10,>=2.9->tensorflow<2.10,>=2.9.0->tensorflow-text) (0.4.6)\n",
            "Requirement already satisfied: pyparsing!=3.0.5,>=2.0.2 in /home/mobin/anaconda3/envs/colabenv/lib/python3.7/site-packages (from packaging->tensorflow<2.10,>=2.9.0->tensorflow-text) (3.0.9)\n",
            "Requirement already satisfied: rsa<5,>=3.1.4 in /home/mobin/anaconda3/envs/colabenv/lib/python3.7/site-packages (from google-auth<3,>=1.6.3->tensorboard<2.10,>=2.9->tensorflow<2.10,>=2.9.0->tensorflow-text) (4.9)\n",
            "Requirement already satisfied: pyasn1-modules>=0.2.1 in /home/mobin/anaconda3/envs/colabenv/lib/python3.7/site-packages (from google-auth<3,>=1.6.3->tensorboard<2.10,>=2.9->tensorflow<2.10,>=2.9.0->tensorflow-text) (0.2.8)\n",
            "Requirement already satisfied: cachetools<6.0,>=2.0.0 in /home/mobin/anaconda3/envs/colabenv/lib/python3.7/site-packages (from google-auth<3,>=1.6.3->tensorboard<2.10,>=2.9->tensorflow<2.10,>=2.9.0->tensorflow-text) (4.2.4)\n",
            "Requirement already satisfied: requests-oauthlib>=0.7.0 in /home/mobin/anaconda3/envs/colabenv/lib/python3.7/site-packages (from google-auth-oauthlib<0.5,>=0.4.1->tensorboard<2.10,>=2.9->tensorflow<2.10,>=2.9.0->tensorflow-text) (1.3.1)\n",
            "Requirement already satisfied: importlib-metadata>=4.4 in /home/mobin/anaconda3/envs/colabenv/lib/python3.7/site-packages (from markdown>=2.6.8->tensorboard<2.10,>=2.9->tensorflow<2.10,>=2.9.0->tensorflow-text) (4.12.0)\n",
            "Requirement already satisfied: idna<4,>=2.5 in /home/mobin/anaconda3/envs/colabenv/lib/python3.7/site-packages (from requests<3,>=2.21.0->tensorboard<2.10,>=2.9->tensorflow<2.10,>=2.9.0->tensorflow-text) (3.3)\n",
            "Requirement already satisfied: charset-normalizer<3,>=2 in /home/mobin/anaconda3/envs/colabenv/lib/python3.7/site-packages (from requests<3,>=2.21.0->tensorboard<2.10,>=2.9->tensorflow<2.10,>=2.9.0->tensorflow-text) (2.1.0)\n",
            "Requirement already satisfied: urllib3<1.27,>=1.21.1 in /home/mobin/anaconda3/envs/colabenv/lib/python3.7/site-packages (from requests<3,>=2.21.0->tensorboard<2.10,>=2.9->tensorflow<2.10,>=2.9.0->tensorflow-text) (1.26.11)\n",
            "Requirement already satisfied: certifi>=2017.4.17 in /home/mobin/anaconda3/envs/colabenv/lib/python3.7/site-packages (from requests<3,>=2.21.0->tensorboard<2.10,>=2.9->tensorflow<2.10,>=2.9.0->tensorflow-text) (2022.6.15)\n",
            "Requirement already satisfied: MarkupSafe>=2.1.1 in /home/mobin/anaconda3/envs/colabenv/lib/python3.7/site-packages (from werkzeug>=1.0.1->tensorboard<2.10,>=2.9->tensorflow<2.10,>=2.9.0->tensorflow-text) (2.1.1)\n",
            "Requirement already satisfied: zipp>=0.5 in /home/mobin/anaconda3/envs/colabenv/lib/python3.7/site-packages (from importlib-metadata>=4.4->markdown>=2.6.8->tensorboard<2.10,>=2.9->tensorflow<2.10,>=2.9.0->tensorflow-text) (3.8.1)\n",
            "Requirement already satisfied: pyasn1<0.5.0,>=0.4.6 in /home/mobin/anaconda3/envs/colabenv/lib/python3.7/site-packages (from pyasn1-modules>=0.2.1->google-auth<3,>=1.6.3->tensorboard<2.10,>=2.9->tensorflow<2.10,>=2.9.0->tensorflow-text) (0.4.8)\n",
            "Requirement already satisfied: oauthlib>=3.0.0 in /home/mobin/anaconda3/envs/colabenv/lib/python3.7/site-packages (from requests-oauthlib>=0.7.0->google-auth-oauthlib<0.5,>=0.4.1->tensorboard<2.10,>=2.9->tensorflow<2.10,>=2.9.0->tensorflow-text) (3.2.0)\n",
            "Note: you may need to restart the kernel to use updated packages.\n"
          ]
        }
      ],
      "source": [
        "%pip install tensorflow-gpu==2.9\n",
        "%pip install tensorflow-text"
      ]
    },
    {
      "cell_type": "code",
      "execution_count": 2,
      "metadata": {
        "id": "BTOV54y-ckzq"
      },
      "outputs": [],
      "source": [
        "import tensorflow as tf\n",
        "import tensorflow_text as tf_text"
      ]
    },
    {
      "cell_type": "code",
      "execution_count": 3,
      "metadata": {},
      "outputs": [
        {
          "name": "stdout",
          "output_type": "stream",
          "text": [
            "Requirement already satisfied: matplotlib in /home/mobin/anaconda3/envs/colabenv/lib/python3.7/site-packages (3.5.2)\n",
            "Requirement already satisfied: kiwisolver>=1.0.1 in /home/mobin/anaconda3/envs/colabenv/lib/python3.7/site-packages (from matplotlib) (1.4.4)\n",
            "Requirement already satisfied: packaging>=20.0 in /home/mobin/anaconda3/envs/colabenv/lib/python3.7/site-packages (from matplotlib) (21.3)\n",
            "Requirement already satisfied: numpy>=1.17 in /home/mobin/anaconda3/envs/colabenv/lib/python3.7/site-packages (from matplotlib) (1.21.6)\n",
            "Requirement already satisfied: pillow>=6.2.0 in /home/mobin/anaconda3/envs/colabenv/lib/python3.7/site-packages (from matplotlib) (9.2.0)\n",
            "Requirement already satisfied: fonttools>=4.22.0 in /home/mobin/anaconda3/envs/colabenv/lib/python3.7/site-packages (from matplotlib) (4.34.4)\n",
            "Requirement already satisfied: cycler>=0.10 in /home/mobin/anaconda3/envs/colabenv/lib/python3.7/site-packages (from matplotlib) (0.11.0)\n",
            "Requirement already satisfied: python-dateutil>=2.7 in /home/mobin/anaconda3/envs/colabenv/lib/python3.7/site-packages (from matplotlib) (2.8.2)\n",
            "Requirement already satisfied: pyparsing>=2.2.1 in /home/mobin/anaconda3/envs/colabenv/lib/python3.7/site-packages (from matplotlib) (3.0.9)\n",
            "Requirement already satisfied: typing-extensions in /home/mobin/anaconda3/envs/colabenv/lib/python3.7/site-packages (from kiwisolver>=1.0.1->matplotlib) (4.1.1)\n",
            "Requirement already satisfied: six>=1.5 in /home/mobin/anaconda3/envs/colabenv/lib/python3.7/site-packages (from python-dateutil>=2.7->matplotlib) (1.16.0)\n",
            "Note: you may need to restart the kernel to use updated packages.\n"
          ]
        }
      ],
      "source": [
        "%pip install matplotlib"
      ]
    },
    {
      "cell_type": "code",
      "execution_count": 4,
      "metadata": {
        "id": "1u4wpNQOEUc9"
      },
      "outputs": [],
      "source": [
        "import pandas as pd\n",
        "import gzip\n",
        "import gc\n",
        "import numpy as np\n",
        "from tensorflow import keras\n",
        "from sklearn.model_selection import KFold\n",
        "import datetime \n",
        "import os\n",
        "import matplotlib.pyplot as plt\n"
      ]
    },
    {
      "cell_type": "code",
      "execution_count": 5,
      "metadata": {
        "colab": {
          "base_uri": "https://localhost:8080/"
        },
        "id": "HTkARkSuo9PR",
        "outputId": "8548446d-69cd-4727-8b8f-851569dd33d5"
      },
      "outputs": [
        {
          "name": "stdout",
          "output_type": "stream",
          "text": [
            "Requirement already satisfied: gensim==4.2 in /home/mobin/anaconda3/envs/colabenv/lib/python3.7/site-packages (4.2.0)\n",
            "Requirement already satisfied: smart-open>=1.8.1 in /home/mobin/anaconda3/envs/colabenv/lib/python3.7/site-packages (from gensim==4.2) (6.0.0)\n",
            "Requirement already satisfied: numpy>=1.17.0 in /home/mobin/anaconda3/envs/colabenv/lib/python3.7/site-packages (from gensim==4.2) (1.21.6)\n",
            "Requirement already satisfied: scipy>=0.18.1 in /home/mobin/anaconda3/envs/colabenv/lib/python3.7/site-packages (from gensim==4.2) (1.7.3)\n",
            "Note: you may need to restart the kernel to use updated packages.\n",
            "Requirement already satisfied: nltk in /home/mobin/anaconda3/envs/colabenv/lib/python3.7/site-packages (3.7)\n",
            "Requirement already satisfied: regex>=2021.8.3 in /home/mobin/anaconda3/envs/colabenv/lib/python3.7/site-packages (from nltk) (2022.7.25)\n",
            "Requirement already satisfied: click in /home/mobin/anaconda3/envs/colabenv/lib/python3.7/site-packages (from nltk) (8.1.3)\n",
            "Requirement already satisfied: tqdm in /home/mobin/anaconda3/envs/colabenv/lib/python3.7/site-packages (from nltk) (4.64.0)\n",
            "Requirement already satisfied: joblib in /home/mobin/anaconda3/envs/colabenv/lib/python3.7/site-packages (from nltk) (1.1.0)\n",
            "Requirement already satisfied: importlib-metadata in /home/mobin/anaconda3/envs/colabenv/lib/python3.7/site-packages (from click->nltk) (4.12.0)\n",
            "Requirement already satisfied: zipp>=0.5 in /home/mobin/anaconda3/envs/colabenv/lib/python3.7/site-packages (from importlib-metadata->click->nltk) (3.8.1)\n",
            "Requirement already satisfied: typing-extensions>=3.6.4 in /home/mobin/anaconda3/envs/colabenv/lib/python3.7/site-packages (from importlib-metadata->click->nltk) (4.1.1)\n",
            "Note: you may need to restart the kernel to use updated packages.\n"
          ]
        }
      ],
      "source": [
        "%pip install gensim==4.2\n",
        "%pip install nltk"
      ]
    },
    {
      "cell_type": "code",
      "execution_count": 6,
      "metadata": {},
      "outputs": [],
      "source": [
        "from gensim.models import Word2Vec\n",
        "from gensim.models import KeyedVectors\n",
        "import gensim.downloader as api\n",
        "from nltk.tokenize import sent_tokenize, word_tokenize\n"
      ]
    },
    {
      "cell_type": "code",
      "execution_count": 7,
      "metadata": {
        "colab": {
          "base_uri": "https://localhost:8080/"
        },
        "id": "NnDuJU4fpMLE",
        "outputId": "ecfd7d10-b929-43ce-cd99-0e2213f4e376"
      },
      "outputs": [
        {
          "name": "stderr",
          "output_type": "stream",
          "text": [
            "[nltk_data] Downloading package punkt to /home/mobin/nltk_data...\n",
            "[nltk_data]   Package punkt is already up-to-date!\n"
          ]
        },
        {
          "data": {
            "text/plain": [
              "True"
            ]
          },
          "execution_count": 7,
          "metadata": {},
          "output_type": "execute_result"
        }
      ],
      "source": [
        "import nltk\n",
        "nltk.download('punkt')"
      ]
    },
    {
      "cell_type": "code",
      "execution_count": 8,
      "metadata": {},
      "outputs": [
        {
          "name": "stderr",
          "output_type": "stream",
          "text": [
            "2023-01-11 10:53:17.393157: I tensorflow/stream_executor/cuda/cuda_gpu_executor.cc:975] successful NUMA node read from SysFS had negative value (-1), but there must be at least one NUMA node, so returning NUMA node zero\n",
            "2023-01-11 10:53:17.410993: I tensorflow/stream_executor/cuda/cuda_gpu_executor.cc:975] successful NUMA node read from SysFS had negative value (-1), but there must be at least one NUMA node, so returning NUMA node zero\n",
            "2023-01-11 10:53:17.411219: I tensorflow/stream_executor/cuda/cuda_gpu_executor.cc:975] successful NUMA node read from SysFS had negative value (-1), but there must be at least one NUMA node, so returning NUMA node zero\n",
            "2023-01-11 10:53:17.411988: I tensorflow/core/platform/cpu_feature_guard.cc:193] This TensorFlow binary is optimized with oneAPI Deep Neural Network Library (oneDNN) to use the following CPU instructions in performance-critical operations:  AVX2 FMA\n",
            "To enable them in other operations, rebuild TensorFlow with the appropriate compiler flags.\n",
            "2023-01-11 10:53:17.413367: I tensorflow/stream_executor/cuda/cuda_gpu_executor.cc:975] successful NUMA node read from SysFS had negative value (-1), but there must be at least one NUMA node, so returning NUMA node zero\n",
            "2023-01-11 10:53:17.413593: I tensorflow/stream_executor/cuda/cuda_gpu_executor.cc:975] successful NUMA node read from SysFS had negative value (-1), but there must be at least one NUMA node, so returning NUMA node zero\n",
            "2023-01-11 10:53:17.413739: I tensorflow/stream_executor/cuda/cuda_gpu_executor.cc:975] successful NUMA node read from SysFS had negative value (-1), but there must be at least one NUMA node, so returning NUMA node zero\n",
            "2023-01-11 10:53:17.838562: I tensorflow/stream_executor/cuda/cuda_gpu_executor.cc:975] successful NUMA node read from SysFS had negative value (-1), but there must be at least one NUMA node, so returning NUMA node zero\n",
            "2023-01-11 10:53:17.838764: I tensorflow/stream_executor/cuda/cuda_gpu_executor.cc:975] successful NUMA node read from SysFS had negative value (-1), but there must be at least one NUMA node, so returning NUMA node zero\n",
            "2023-01-11 10:53:17.838939: I tensorflow/stream_executor/cuda/cuda_gpu_executor.cc:975] successful NUMA node read from SysFS had negative value (-1), but there must be at least one NUMA node, so returning NUMA node zero\n",
            "2023-01-11 10:53:17.839057: I tensorflow/core/common_runtime/gpu/gpu_device.cc:1532] Created device /job:localhost/replica:0/task:0/device:GPU:0 with 2132 MB memory:  -> device: 0, name: NVIDIA GeForce RTX 3050 Laptop GPU, pci bus id: 0000:01:00.0, compute capability: 8.6\n"
          ]
        },
        {
          "name": "stdout",
          "output_type": "stream",
          "text": [
            "1 Physical GPUs, 1 Logical GPUs\n"
          ]
        }
      ],
      "source": [
        "gpus = tf.config.list_physical_devices('GPU')\n",
        "if gpus:\n",
        "  try:\n",
        "    # Currently, memory growth needs to be the same across GPUs\n",
        "    for gpu in gpus:\n",
        "      tf.config.experimental.set_memory_growth(gpu, True)\n",
        "    logical_gpus = tf.config.list_logical_devices('GPU')\n",
        "    print(len(gpus), \"Physical GPUs,\", len(logical_gpus), \"Logical GPUs\")\n",
        "  except RuntimeError as e:\n",
        "    # Memory growth must be set before GPUs have been initialized\n",
        "    print(e)\n",
        "else :\n",
        "  print(\"No GPU available\")"
      ]
    },
    {
      "cell_type": "code",
      "execution_count": 9,
      "metadata": {},
      "outputs": [
        {
          "name": "stdout",
          "output_type": "stream",
          "text": [
            "Requirement already satisfied: tensorboard in /home/mobin/anaconda3/envs/colabenv/lib/python3.7/site-packages (2.9.1)\n",
            "Requirement already satisfied: tensorboard-data-server<0.7.0,>=0.6.0 in /home/mobin/anaconda3/envs/colabenv/lib/python3.7/site-packages (from tensorboard) (0.6.1)\n",
            "Requirement already satisfied: werkzeug>=1.0.1 in /home/mobin/anaconda3/envs/colabenv/lib/python3.7/site-packages (from tensorboard) (2.2.1)\n",
            "Requirement already satisfied: google-auth<3,>=1.6.3 in /home/mobin/anaconda3/envs/colabenv/lib/python3.7/site-packages (from tensorboard) (2.9.1)\n",
            "Requirement already satisfied: absl-py>=0.4 in /home/mobin/anaconda3/envs/colabenv/lib/python3.7/site-packages (from tensorboard) (1.2.0)\n",
            "Requirement already satisfied: wheel>=0.26 in /home/mobin/anaconda3/envs/colabenv/lib/python3.7/site-packages (from tensorboard) (0.37.1)\n",
            "Requirement already satisfied: markdown>=2.6.8 in /home/mobin/anaconda3/envs/colabenv/lib/python3.7/site-packages (from tensorboard) (3.4.1)\n",
            "Requirement already satisfied: numpy>=1.12.0 in /home/mobin/anaconda3/envs/colabenv/lib/python3.7/site-packages (from tensorboard) (1.21.6)\n",
            "Requirement already satisfied: requests<3,>=2.21.0 in /home/mobin/anaconda3/envs/colabenv/lib/python3.7/site-packages (from tensorboard) (2.28.1)\n",
            "Requirement already satisfied: grpcio>=1.24.3 in /home/mobin/anaconda3/envs/colabenv/lib/python3.7/site-packages (from tensorboard) (1.50.0)\n",
            "Requirement already satisfied: protobuf<3.20,>=3.9.2 in /home/mobin/anaconda3/envs/colabenv/lib/python3.7/site-packages (from tensorboard) (3.19.6)\n",
            "Requirement already satisfied: google-auth-oauthlib<0.5,>=0.4.1 in /home/mobin/anaconda3/envs/colabenv/lib/python3.7/site-packages (from tensorboard) (0.4.6)\n",
            "Requirement already satisfied: setuptools>=41.0.0 in /home/mobin/anaconda3/envs/colabenv/lib/python3.7/site-packages (from tensorboard) (61.2.0)\n",
            "Requirement already satisfied: tensorboard-plugin-wit>=1.6.0 in /home/mobin/anaconda3/envs/colabenv/lib/python3.7/site-packages (from tensorboard) (1.8.1)\n",
            "Requirement already satisfied: six>=1.9.0 in /home/mobin/anaconda3/envs/colabenv/lib/python3.7/site-packages (from google-auth<3,>=1.6.3->tensorboard) (1.16.0)\n",
            "Requirement already satisfied: rsa<5,>=3.1.4 in /home/mobin/anaconda3/envs/colabenv/lib/python3.7/site-packages (from google-auth<3,>=1.6.3->tensorboard) (4.9)\n",
            "Requirement already satisfied: cachetools<6.0,>=2.0.0 in /home/mobin/anaconda3/envs/colabenv/lib/python3.7/site-packages (from google-auth<3,>=1.6.3->tensorboard) (4.2.4)\n",
            "Requirement already satisfied: pyasn1-modules>=0.2.1 in /home/mobin/anaconda3/envs/colabenv/lib/python3.7/site-packages (from google-auth<3,>=1.6.3->tensorboard) (0.2.8)\n",
            "Requirement already satisfied: requests-oauthlib>=0.7.0 in /home/mobin/anaconda3/envs/colabenv/lib/python3.7/site-packages (from google-auth-oauthlib<0.5,>=0.4.1->tensorboard) (1.3.1)\n",
            "Requirement already satisfied: importlib-metadata>=4.4 in /home/mobin/anaconda3/envs/colabenv/lib/python3.7/site-packages (from markdown>=2.6.8->tensorboard) (4.12.0)\n",
            "Requirement already satisfied: certifi>=2017.4.17 in /home/mobin/anaconda3/envs/colabenv/lib/python3.7/site-packages (from requests<3,>=2.21.0->tensorboard) (2022.6.15)\n",
            "Requirement already satisfied: idna<4,>=2.5 in /home/mobin/anaconda3/envs/colabenv/lib/python3.7/site-packages (from requests<3,>=2.21.0->tensorboard) (3.3)\n",
            "Requirement already satisfied: charset-normalizer<3,>=2 in /home/mobin/anaconda3/envs/colabenv/lib/python3.7/site-packages (from requests<3,>=2.21.0->tensorboard) (2.1.0)\n",
            "Requirement already satisfied: urllib3<1.27,>=1.21.1 in /home/mobin/anaconda3/envs/colabenv/lib/python3.7/site-packages (from requests<3,>=2.21.0->tensorboard) (1.26.11)\n",
            "Requirement already satisfied: MarkupSafe>=2.1.1 in /home/mobin/anaconda3/envs/colabenv/lib/python3.7/site-packages (from werkzeug>=1.0.1->tensorboard) (2.1.1)\n",
            "Requirement already satisfied: typing-extensions>=3.6.4 in /home/mobin/anaconda3/envs/colabenv/lib/python3.7/site-packages (from importlib-metadata>=4.4->markdown>=2.6.8->tensorboard) (4.1.1)\n",
            "Requirement already satisfied: zipp>=0.5 in /home/mobin/anaconda3/envs/colabenv/lib/python3.7/site-packages (from importlib-metadata>=4.4->markdown>=2.6.8->tensorboard) (3.8.1)\n",
            "Requirement already satisfied: pyasn1<0.5.0,>=0.4.6 in /home/mobin/anaconda3/envs/colabenv/lib/python3.7/site-packages (from pyasn1-modules>=0.2.1->google-auth<3,>=1.6.3->tensorboard) (0.4.8)\n",
            "Requirement already satisfied: oauthlib>=3.0.0 in /home/mobin/anaconda3/envs/colabenv/lib/python3.7/site-packages (from requests-oauthlib>=0.7.0->google-auth-oauthlib<0.5,>=0.4.1->tensorboard) (3.2.0)\n",
            "Note: you may need to restart the kernel to use updated packages.\n",
            "Requirement already satisfied: tensorboard_plugin_profile in /home/mobin/anaconda3/envs/colabenv/lib/python3.7/site-packages (2.11.1)\n",
            "Requirement already satisfied: gviz-api>=1.9.0 in /home/mobin/anaconda3/envs/colabenv/lib/python3.7/site-packages (from tensorboard_plugin_profile) (1.10.0)\n",
            "Requirement already satisfied: six>=1.10.0 in /home/mobin/anaconda3/envs/colabenv/lib/python3.7/site-packages (from tensorboard_plugin_profile) (1.16.0)\n",
            "Requirement already satisfied: werkzeug>=0.11.15 in /home/mobin/anaconda3/envs/colabenv/lib/python3.7/site-packages (from tensorboard_plugin_profile) (2.2.1)\n",
            "Requirement already satisfied: protobuf>=3.12.0 in /home/mobin/anaconda3/envs/colabenv/lib/python3.7/site-packages (from tensorboard_plugin_profile) (3.19.6)\n",
            "Requirement already satisfied: setuptools>=41.0.0 in /home/mobin/anaconda3/envs/colabenv/lib/python3.7/site-packages (from tensorboard_plugin_profile) (61.2.0)\n",
            "Requirement already satisfied: MarkupSafe>=2.1.1 in /home/mobin/anaconda3/envs/colabenv/lib/python3.7/site-packages (from werkzeug>=0.11.15->tensorboard_plugin_profile) (2.1.1)\n",
            "Note: you may need to restart the kernel to use updated packages.\n"
          ]
        }
      ],
      "source": [
        "%pip install tensorboard\n",
        "%pip install -U tensorboard_plugin_profile"
      ]
    },
    {
      "cell_type": "code",
      "execution_count": 10,
      "metadata": {},
      "outputs": [],
      "source": [
        "from multiprocessing import Pool"
      ]
    },
    {
      "cell_type": "code",
      "execution_count": null,
      "metadata": {},
      "outputs": [],
      "source": []
    },
    {
      "cell_type": "markdown",
      "metadata": {
        "id": "DyypFCrlw2SV"
      },
      "source": [
        "# **Data Extraction**"
      ]
    },
    {
      "cell_type": "code",
      "execution_count": 11,
      "metadata": {
        "id": "p7IbgFIxRQb-"
      },
      "outputs": [],
      "source": [
        "def parse(path):\n",
        "  g = gzip.open(path, 'rb')\n",
        "  for l in g:\n",
        "    name=b'\"verified\": \\\"true\\\",'\n",
        "    l=l.replace(b'\"verified\": true,',bytes(name))\n",
        "    name1=b'\"verified\": \\\"false\\\",'\n",
        "    l=l.replace(b'\"verified\": false,',bytes(name))\n",
        "    yield eval(l)\n",
        "\n",
        "def getDF(path):\n",
        "  i = 0\n",
        "  df = {}\n",
        "  for d in parse(path):\n",
        "    df[i] = d\n",
        "    i += 1\n",
        "  return pd.DataFrame.from_dict(df, orient='index')\n",
        "\n",
        "df = getDF('reviews_Grocery_and_Gourmet_Food_5.json.gz')\n",
        "\n",
        "# dataset link\n",
        "# Grocery and Gourmet Food\n",
        "# https://jmcauley.ucsd.edu/data/amazon/"
      ]
    },
    {
      "cell_type": "code",
      "execution_count": 12,
      "metadata": {},
      "outputs": [
        {
          "data": {
            "text/html": [
              "<div>\n",
              "<style scoped>\n",
              "    .dataframe tbody tr th:only-of-type {\n",
              "        vertical-align: middle;\n",
              "    }\n",
              "\n",
              "    .dataframe tbody tr th {\n",
              "        vertical-align: top;\n",
              "    }\n",
              "\n",
              "    .dataframe thead th {\n",
              "        text-align: right;\n",
              "    }\n",
              "</style>\n",
              "<table border=\"1\" class=\"dataframe\">\n",
              "  <thead>\n",
              "    <tr style=\"text-align: right;\">\n",
              "      <th></th>\n",
              "      <th>reviewerID</th>\n",
              "      <th>asin</th>\n",
              "      <th>reviewerName</th>\n",
              "      <th>helpful</th>\n",
              "      <th>reviewText</th>\n",
              "      <th>overall</th>\n",
              "      <th>summary</th>\n",
              "      <th>unixReviewTime</th>\n",
              "      <th>reviewTime</th>\n",
              "    </tr>\n",
              "  </thead>\n",
              "  <tbody>\n",
              "    <tr>\n",
              "      <th>0</th>\n",
              "      <td>A1VEELTKS8NLZB</td>\n",
              "      <td>616719923X</td>\n",
              "      <td>Amazon Customer</td>\n",
              "      <td>[0, 0]</td>\n",
              "      <td>Just another flavor of Kit Kat but the taste i...</td>\n",
              "      <td>4.0</td>\n",
              "      <td>Good Taste</td>\n",
              "      <td>1370044800</td>\n",
              "      <td>06 1, 2013</td>\n",
              "    </tr>\n",
              "    <tr>\n",
              "      <th>1</th>\n",
              "      <td>A14R9XMZVJ6INB</td>\n",
              "      <td>616719923X</td>\n",
              "      <td>amf0001</td>\n",
              "      <td>[0, 1]</td>\n",
              "      <td>I bought this on impulse and it comes from Jap...</td>\n",
              "      <td>3.0</td>\n",
              "      <td>3.5 stars,  sadly not as wonderful as I had hoped</td>\n",
              "      <td>1400457600</td>\n",
              "      <td>05 19, 2014</td>\n",
              "    </tr>\n",
              "    <tr>\n",
              "      <th>2</th>\n",
              "      <td>A27IQHDZFQFNGG</td>\n",
              "      <td>616719923X</td>\n",
              "      <td>Caitlin</td>\n",
              "      <td>[3, 4]</td>\n",
              "      <td>Really good. Great gift for any fan of green t...</td>\n",
              "      <td>4.0</td>\n",
              "      <td>Yum!</td>\n",
              "      <td>1381190400</td>\n",
              "      <td>10 8, 2013</td>\n",
              "    </tr>\n",
              "    <tr>\n",
              "      <th>3</th>\n",
              "      <td>A31QY5TASILE89</td>\n",
              "      <td>616719923X</td>\n",
              "      <td>DebraDownSth</td>\n",
              "      <td>[0, 0]</td>\n",
              "      <td>I had never had it before, was curious to see ...</td>\n",
              "      <td>5.0</td>\n",
              "      <td>Unexpected flavor meld</td>\n",
              "      <td>1369008000</td>\n",
              "      <td>05 20, 2013</td>\n",
              "    </tr>\n",
              "    <tr>\n",
              "      <th>4</th>\n",
              "      <td>A2LWK003FFMCI5</td>\n",
              "      <td>616719923X</td>\n",
              "      <td>Diana X.</td>\n",
              "      <td>[1, 2]</td>\n",
              "      <td>I've been looking forward to trying these afte...</td>\n",
              "      <td>4.0</td>\n",
              "      <td>Not a very strong tea flavor, but still yummy ...</td>\n",
              "      <td>1369526400</td>\n",
              "      <td>05 26, 2013</td>\n",
              "    </tr>\n",
              "    <tr>\n",
              "      <th>...</th>\n",
              "      <td>...</td>\n",
              "      <td>...</td>\n",
              "      <td>...</td>\n",
              "      <td>...</td>\n",
              "      <td>...</td>\n",
              "      <td>...</td>\n",
              "      <td>...</td>\n",
              "      <td>...</td>\n",
              "      <td>...</td>\n",
              "    </tr>\n",
              "    <tr>\n",
              "      <th>151249</th>\n",
              "      <td>A2L6QS8SVHT9RG</td>\n",
              "      <td>B00KCJRVO2</td>\n",
              "      <td>randomartco \"period film aficionado\"</td>\n",
              "      <td>[0, 0]</td>\n",
              "      <td>Delicious gluten-free oatmeal: we tried both t...</td>\n",
              "      <td>4.0</td>\n",
              "      <td>Delicious gluten-free oatmeal 'quick' packs!</td>\n",
              "      <td>1405123200</td>\n",
              "      <td>07 12, 2014</td>\n",
              "    </tr>\n",
              "    <tr>\n",
              "      <th>151250</th>\n",
              "      <td>AFJFXN42RZ3G2</td>\n",
              "      <td>B00KCJRVO2</td>\n",
              "      <td>R. DelParto \"Rose2\"</td>\n",
              "      <td>[0, 0]</td>\n",
              "      <td>With the many selections of instant oatmeal ce...</td>\n",
              "      <td>4.0</td>\n",
              "      <td>Convenient and Instant</td>\n",
              "      <td>1404604800</td>\n",
              "      <td>07 6, 2014</td>\n",
              "    </tr>\n",
              "    <tr>\n",
              "      <th>151251</th>\n",
              "      <td>ASEBX8TBYWQWA</td>\n",
              "      <td>B00KCJRVO2</td>\n",
              "      <td>Steven I. Ramm \"Steve Ramm &amp;#34;Anything Phon...</td>\n",
              "      <td>[1, 1]</td>\n",
              "      <td>While I usually review CDs and DVDs, as well a...</td>\n",
              "      <td>5.0</td>\n",
              "      <td>Compares favorably in taste and texture with o...</td>\n",
              "      <td>1404172800</td>\n",
              "      <td>07 1, 2014</td>\n",
              "    </tr>\n",
              "    <tr>\n",
              "      <th>151252</th>\n",
              "      <td>ANKQGTXHREOI5</td>\n",
              "      <td>B00KCJRVO2</td>\n",
              "      <td>Titanium Lili</td>\n",
              "      <td>[0, 1]</td>\n",
              "      <td>My son and I enjoyed these oatmeal packets.  H...</td>\n",
              "      <td>4.0</td>\n",
              "      <td>Pretty good!</td>\n",
              "      <td>1404432000</td>\n",
              "      <td>07 4, 2014</td>\n",
              "    </tr>\n",
              "    <tr>\n",
              "      <th>151253</th>\n",
              "      <td>A2CF66KIQ3RKX3</td>\n",
              "      <td>B00KCJRVO2</td>\n",
              "      <td>Vivian Deliz</td>\n",
              "      <td>[0, 0]</td>\n",
              "      <td>I like to eat oatmeal i the mornings. I usuall...</td>\n",
              "      <td>4.0</td>\n",
              "      <td>I like to eat oatmeal i the mornings</td>\n",
              "      <td>1405036800</td>\n",
              "      <td>07 11, 2014</td>\n",
              "    </tr>\n",
              "  </tbody>\n",
              "</table>\n",
              "<p>151254 rows × 9 columns</p>\n",
              "</div>"
            ],
            "text/plain": [
              "            reviewerID        asin  \\\n",
              "0       A1VEELTKS8NLZB  616719923X   \n",
              "1       A14R9XMZVJ6INB  616719923X   \n",
              "2       A27IQHDZFQFNGG  616719923X   \n",
              "3       A31QY5TASILE89  616719923X   \n",
              "4       A2LWK003FFMCI5  616719923X   \n",
              "...                ...         ...   \n",
              "151249  A2L6QS8SVHT9RG  B00KCJRVO2   \n",
              "151250   AFJFXN42RZ3G2  B00KCJRVO2   \n",
              "151251   ASEBX8TBYWQWA  B00KCJRVO2   \n",
              "151252   ANKQGTXHREOI5  B00KCJRVO2   \n",
              "151253  A2CF66KIQ3RKX3  B00KCJRVO2   \n",
              "\n",
              "                                            reviewerName helpful  \\\n",
              "0                                        Amazon Customer  [0, 0]   \n",
              "1                                                amf0001  [0, 1]   \n",
              "2                                                Caitlin  [3, 4]   \n",
              "3                                           DebraDownSth  [0, 0]   \n",
              "4                                               Diana X.  [1, 2]   \n",
              "...                                                  ...     ...   \n",
              "151249              randomartco \"period film aficionado\"  [0, 0]   \n",
              "151250                               R. DelParto \"Rose2\"  [0, 0]   \n",
              "151251  Steven I. Ramm \"Steve Ramm &#34;Anything Phon...  [1, 1]   \n",
              "151252                                     Titanium Lili  [0, 1]   \n",
              "151253                                      Vivian Deliz  [0, 0]   \n",
              "\n",
              "                                               reviewText  overall  \\\n",
              "0       Just another flavor of Kit Kat but the taste i...      4.0   \n",
              "1       I bought this on impulse and it comes from Jap...      3.0   \n",
              "2       Really good. Great gift for any fan of green t...      4.0   \n",
              "3       I had never had it before, was curious to see ...      5.0   \n",
              "4       I've been looking forward to trying these afte...      4.0   \n",
              "...                                                   ...      ...   \n",
              "151249  Delicious gluten-free oatmeal: we tried both t...      4.0   \n",
              "151250  With the many selections of instant oatmeal ce...      4.0   \n",
              "151251  While I usually review CDs and DVDs, as well a...      5.0   \n",
              "151252  My son and I enjoyed these oatmeal packets.  H...      4.0   \n",
              "151253  I like to eat oatmeal i the mornings. I usuall...      4.0   \n",
              "\n",
              "                                                  summary  unixReviewTime  \\\n",
              "0                                              Good Taste      1370044800   \n",
              "1       3.5 stars,  sadly not as wonderful as I had hoped      1400457600   \n",
              "2                                                    Yum!      1381190400   \n",
              "3                                  Unexpected flavor meld      1369008000   \n",
              "4       Not a very strong tea flavor, but still yummy ...      1369526400   \n",
              "...                                                   ...             ...   \n",
              "151249       Delicious gluten-free oatmeal 'quick' packs!      1405123200   \n",
              "151250                             Convenient and Instant      1404604800   \n",
              "151251  Compares favorably in taste and texture with o...      1404172800   \n",
              "151252                                       Pretty good!      1404432000   \n",
              "151253               I like to eat oatmeal i the mornings      1405036800   \n",
              "\n",
              "         reviewTime  \n",
              "0        06 1, 2013  \n",
              "1       05 19, 2014  \n",
              "2        10 8, 2013  \n",
              "3       05 20, 2013  \n",
              "4       05 26, 2013  \n",
              "...             ...  \n",
              "151249  07 12, 2014  \n",
              "151250   07 6, 2014  \n",
              "151251   07 1, 2014  \n",
              "151252   07 4, 2014  \n",
              "151253  07 11, 2014  \n",
              "\n",
              "[151254 rows x 9 columns]"
            ]
          },
          "execution_count": 12,
          "metadata": {},
          "output_type": "execute_result"
        }
      ],
      "source": [
        "df"
      ]
    },
    {
      "cell_type": "markdown",
      "metadata": {
        "id": "_auxwvSRYsvu"
      },
      "source": [
        "Dataset Schema"
      ]
    },
    {
      "cell_type": "code",
      "execution_count": 13,
      "metadata": {
        "colab": {
          "base_uri": "https://localhost:8080/",
          "height": 1000
        },
        "id": "E9FGFZINRQOn",
        "outputId": "0dad1216-9ec6-4528-fa44-32ab26a94602"
      },
      "outputs": [
        {
          "data": {
            "text/html": [
              "<div>\n",
              "<style scoped>\n",
              "    .dataframe tbody tr th:only-of-type {\n",
              "        vertical-align: middle;\n",
              "    }\n",
              "\n",
              "    .dataframe tbody tr th {\n",
              "        vertical-align: top;\n",
              "    }\n",
              "\n",
              "    .dataframe thead th {\n",
              "        text-align: right;\n",
              "    }\n",
              "</style>\n",
              "<table border=\"1\" class=\"dataframe\">\n",
              "  <thead>\n",
              "    <tr style=\"text-align: right;\">\n",
              "      <th></th>\n",
              "      <th>userID</th>\n",
              "      <th>itemID</th>\n",
              "      <th>reviewText</th>\n",
              "      <th>rating</th>\n",
              "    </tr>\n",
              "  </thead>\n",
              "  <tbody>\n",
              "    <tr>\n",
              "      <th>0</th>\n",
              "      <td>A1VEELTKS8NLZB</td>\n",
              "      <td>616719923X</td>\n",
              "      <td>Just another flavor of Kit Kat but the taste i...</td>\n",
              "      <td>4.0</td>\n",
              "    </tr>\n",
              "    <tr>\n",
              "      <th>1</th>\n",
              "      <td>A14R9XMZVJ6INB</td>\n",
              "      <td>616719923X</td>\n",
              "      <td>I bought this on impulse and it comes from Jap...</td>\n",
              "      <td>3.0</td>\n",
              "    </tr>\n",
              "    <tr>\n",
              "      <th>2</th>\n",
              "      <td>A27IQHDZFQFNGG</td>\n",
              "      <td>616719923X</td>\n",
              "      <td>Really good. Great gift for any fan of green t...</td>\n",
              "      <td>4.0</td>\n",
              "    </tr>\n",
              "    <tr>\n",
              "      <th>3</th>\n",
              "      <td>A31QY5TASILE89</td>\n",
              "      <td>616719923X</td>\n",
              "      <td>I had never had it before, was curious to see ...</td>\n",
              "      <td>5.0</td>\n",
              "    </tr>\n",
              "    <tr>\n",
              "      <th>4</th>\n",
              "      <td>A2LWK003FFMCI5</td>\n",
              "      <td>616719923X</td>\n",
              "      <td>I've been looking forward to trying these afte...</td>\n",
              "      <td>4.0</td>\n",
              "    </tr>\n",
              "    <tr>\n",
              "      <th>...</th>\n",
              "      <td>...</td>\n",
              "      <td>...</td>\n",
              "      <td>...</td>\n",
              "      <td>...</td>\n",
              "    </tr>\n",
              "    <tr>\n",
              "      <th>151249</th>\n",
              "      <td>A2L6QS8SVHT9RG</td>\n",
              "      <td>B00KCJRVO2</td>\n",
              "      <td>Delicious gluten-free oatmeal: we tried both t...</td>\n",
              "      <td>4.0</td>\n",
              "    </tr>\n",
              "    <tr>\n",
              "      <th>151250</th>\n",
              "      <td>AFJFXN42RZ3G2</td>\n",
              "      <td>B00KCJRVO2</td>\n",
              "      <td>With the many selections of instant oatmeal ce...</td>\n",
              "      <td>4.0</td>\n",
              "    </tr>\n",
              "    <tr>\n",
              "      <th>151251</th>\n",
              "      <td>ASEBX8TBYWQWA</td>\n",
              "      <td>B00KCJRVO2</td>\n",
              "      <td>While I usually review CDs and DVDs, as well a...</td>\n",
              "      <td>5.0</td>\n",
              "    </tr>\n",
              "    <tr>\n",
              "      <th>151252</th>\n",
              "      <td>ANKQGTXHREOI5</td>\n",
              "      <td>B00KCJRVO2</td>\n",
              "      <td>My son and I enjoyed these oatmeal packets.  H...</td>\n",
              "      <td>4.0</td>\n",
              "    </tr>\n",
              "    <tr>\n",
              "      <th>151253</th>\n",
              "      <td>A2CF66KIQ3RKX3</td>\n",
              "      <td>B00KCJRVO2</td>\n",
              "      <td>I like to eat oatmeal i the mornings. I usuall...</td>\n",
              "      <td>4.0</td>\n",
              "    </tr>\n",
              "  </tbody>\n",
              "</table>\n",
              "<p>151254 rows × 4 columns</p>\n",
              "</div>"
            ],
            "text/plain": [
              "                userID      itemID  \\\n",
              "0       A1VEELTKS8NLZB  616719923X   \n",
              "1       A14R9XMZVJ6INB  616719923X   \n",
              "2       A27IQHDZFQFNGG  616719923X   \n",
              "3       A31QY5TASILE89  616719923X   \n",
              "4       A2LWK003FFMCI5  616719923X   \n",
              "...                ...         ...   \n",
              "151249  A2L6QS8SVHT9RG  B00KCJRVO2   \n",
              "151250   AFJFXN42RZ3G2  B00KCJRVO2   \n",
              "151251   ASEBX8TBYWQWA  B00KCJRVO2   \n",
              "151252   ANKQGTXHREOI5  B00KCJRVO2   \n",
              "151253  A2CF66KIQ3RKX3  B00KCJRVO2   \n",
              "\n",
              "                                               reviewText  rating  \n",
              "0       Just another flavor of Kit Kat but the taste i...     4.0  \n",
              "1       I bought this on impulse and it comes from Jap...     3.0  \n",
              "2       Really good. Great gift for any fan of green t...     4.0  \n",
              "3       I had never had it before, was curious to see ...     5.0  \n",
              "4       I've been looking forward to trying these afte...     4.0  \n",
              "...                                                   ...     ...  \n",
              "151249  Delicious gluten-free oatmeal: we tried both t...     4.0  \n",
              "151250  With the many selections of instant oatmeal ce...     4.0  \n",
              "151251  While I usually review CDs and DVDs, as well a...     5.0  \n",
              "151252  My son and I enjoyed these oatmeal packets.  H...     4.0  \n",
              "151253  I like to eat oatmeal i the mornings. I usuall...     4.0  \n",
              "\n",
              "[151254 rows x 4 columns]"
            ]
          },
          "execution_count": 13,
          "metadata": {},
          "output_type": "execute_result"
        }
      ],
      "source": [
        "df.rename(columns={\"reviewerID\": \"userID\", \"asin\": \"itemID\",\"overall\":\"rating\"},inplace=True)\n",
        "df=df[['userID','itemID','reviewText','rating']]\n",
        "df"
      ]
    },
    {
      "cell_type": "code",
      "execution_count": 14,
      "metadata": {},
      "outputs": [
        {
          "data": {
            "text/html": [
              "<div>\n",
              "<style scoped>\n",
              "    .dataframe tbody tr th:only-of-type {\n",
              "        vertical-align: middle;\n",
              "    }\n",
              "\n",
              "    .dataframe tbody tr th {\n",
              "        vertical-align: top;\n",
              "    }\n",
              "\n",
              "    .dataframe thead th {\n",
              "        text-align: right;\n",
              "    }\n",
              "</style>\n",
              "<table border=\"1\" class=\"dataframe\">\n",
              "  <thead>\n",
              "    <tr style=\"text-align: right;\">\n",
              "      <th></th>\n",
              "      <th>userID</th>\n",
              "      <th>itemID</th>\n",
              "      <th>reviewText</th>\n",
              "      <th>rating</th>\n",
              "    </tr>\n",
              "  </thead>\n",
              "  <tbody>\n",
              "    <tr>\n",
              "      <th>100410</th>\n",
              "      <td>ALL9XFM0Q1N4E</td>\n",
              "      <td>B004JLQ6UE</td>\n",
              "      <td>These were a great tasting drink. Some were be...</td>\n",
              "      <td>4.0</td>\n",
              "    </tr>\n",
              "    <tr>\n",
              "      <th>42512</th>\n",
              "      <td>AYUENZW96SXTM</td>\n",
              "      <td>B0019ZHU2Q</td>\n",
              "      <td>I have these of my subscribe and save! LOVE TH...</td>\n",
              "      <td>5.0</td>\n",
              "    </tr>\n",
              "    <tr>\n",
              "      <th>150510</th>\n",
              "      <td>AX9C10JD538D9</td>\n",
              "      <td>B00HHFWJS2</td>\n",
              "      <td>I live alone, so I like meals that I can make ...</td>\n",
              "      <td>4.0</td>\n",
              "    </tr>\n",
              "    <tr>\n",
              "      <th>146174</th>\n",
              "      <td>A1Z0LTKUA6F94D</td>\n",
              "      <td>B00DMSHM30</td>\n",
              "      <td>If you like the flavors in this pack and need ...</td>\n",
              "      <td>3.0</td>\n",
              "    </tr>\n",
              "    <tr>\n",
              "      <th>114989</th>\n",
              "      <td>A2E7RX6AFUDQEX</td>\n",
              "      <td>B005HG9ERW</td>\n",
              "      <td>I'm not quite sure how to explain this, becaus...</td>\n",
              "      <td>5.0</td>\n",
              "    </tr>\n",
              "    <tr>\n",
              "      <th>107987</th>\n",
              "      <td>A2AKRD5PK5PQ14</td>\n",
              "      <td>B004VLVJ9U</td>\n",
              "      <td>This is probably the best tasting, easiest to ...</td>\n",
              "      <td>5.0</td>\n",
              "    </tr>\n",
              "    <tr>\n",
              "      <th>85989</th>\n",
              "      <td>AFICF7DKHTQ87</td>\n",
              "      <td>B003TN6ZN6</td>\n",
              "      <td>My baby has no issues with this formula milk e...</td>\n",
              "      <td>4.0</td>\n",
              "    </tr>\n",
              "    <tr>\n",
              "      <th>75256</th>\n",
              "      <td>ALAN629D6EKQZ</td>\n",
              "      <td>B002T5TMWG</td>\n",
              "      <td>Fast shipping as always.  Big chucks of sardin...</td>\n",
              "      <td>5.0</td>\n",
              "    </tr>\n",
              "    <tr>\n",
              "      <th>83703</th>\n",
              "      <td>A4EWLZLUCY5QR</td>\n",
              "      <td>B003LJW68G</td>\n",
              "      <td>i bought this pasta after reading the reviews ...</td>\n",
              "      <td>5.0</td>\n",
              "    </tr>\n",
              "    <tr>\n",
              "      <th>131960</th>\n",
              "      <td>A1GNYV0RA0EQSS</td>\n",
              "      <td>B008I1XLDQ</td>\n",
              "      <td>I enjoyed sampling all of the different K-Cups...</td>\n",
              "      <td>4.0</td>\n",
              "    </tr>\n",
              "  </tbody>\n",
              "</table>\n",
              "</div>"
            ],
            "text/plain": [
              "                userID      itemID  \\\n",
              "100410   ALL9XFM0Q1N4E  B004JLQ6UE   \n",
              "42512    AYUENZW96SXTM  B0019ZHU2Q   \n",
              "150510   AX9C10JD538D9  B00HHFWJS2   \n",
              "146174  A1Z0LTKUA6F94D  B00DMSHM30   \n",
              "114989  A2E7RX6AFUDQEX  B005HG9ERW   \n",
              "107987  A2AKRD5PK5PQ14  B004VLVJ9U   \n",
              "85989    AFICF7DKHTQ87  B003TN6ZN6   \n",
              "75256    ALAN629D6EKQZ  B002T5TMWG   \n",
              "83703    A4EWLZLUCY5QR  B003LJW68G   \n",
              "131960  A1GNYV0RA0EQSS  B008I1XLDQ   \n",
              "\n",
              "                                               reviewText  rating  \n",
              "100410  These were a great tasting drink. Some were be...     4.0  \n",
              "42512   I have these of my subscribe and save! LOVE TH...     5.0  \n",
              "150510  I live alone, so I like meals that I can make ...     4.0  \n",
              "146174  If you like the flavors in this pack and need ...     3.0  \n",
              "114989  I'm not quite sure how to explain this, becaus...     5.0  \n",
              "107987  This is probably the best tasting, easiest to ...     5.0  \n",
              "85989   My baby has no issues with this formula milk e...     4.0  \n",
              "75256   Fast shipping as always.  Big chucks of sardin...     5.0  \n",
              "83703   i bought this pasta after reading the reviews ...     5.0  \n",
              "131960  I enjoyed sampling all of the different K-Cups...     4.0  "
            ]
          },
          "execution_count": 14,
          "metadata": {},
          "output_type": "execute_result"
        }
      ],
      "source": [
        "df.sample(10)"
      ]
    },
    {
      "cell_type": "markdown",
      "metadata": {
        "id": "gYb9dMRLXjZT"
      },
      "source": [
        "# **Data Analysis**"
      ]
    },
    {
      "cell_type": "markdown",
      "metadata": {
        "id": "6yY4NJsolgtl"
      },
      "source": [
        "**User Data**"
      ]
    },
    {
      "cell_type": "markdown",
      "metadata": {
        "id": "g9kPFQ1GJr_I"
      },
      "source": [
        "determining all unique users with their reviews and ratings"
      ]
    },
    {
      "cell_type": "code",
      "execution_count": 15,
      "metadata": {
        "colab": {
          "base_uri": "https://localhost:8080/",
          "height": 609
        },
        "id": "l_eSbOjWRQD3",
        "outputId": "63fd7abe-5957-46a2-aa85-8ca3721bdec5"
      },
      "outputs": [
        {
          "name": "stderr",
          "output_type": "stream",
          "text": [
            "/home/mobin/anaconda3/envs/colabenv/lib/python3.7/site-packages/ipykernel_launcher.py:1: FutureWarning: Indexing with multiple keys (implicitly converted to a tuple of keys) will be deprecated, use a list instead.\n",
            "  \"\"\"Entry point for launching an IPython kernel.\n"
          ]
        },
        {
          "data": {
            "text/html": [
              "<div>\n",
              "<style scoped>\n",
              "    .dataframe tbody tr th:only-of-type {\n",
              "        vertical-align: middle;\n",
              "    }\n",
              "\n",
              "    .dataframe tbody tr th {\n",
              "        vertical-align: top;\n",
              "    }\n",
              "\n",
              "    .dataframe thead th {\n",
              "        text-align: right;\n",
              "    }\n",
              "</style>\n",
              "<table border=\"1\" class=\"dataframe\">\n",
              "  <thead>\n",
              "    <tr style=\"text-align: right;\">\n",
              "      <th></th>\n",
              "      <th>userID</th>\n",
              "      <th>reviewText</th>\n",
              "      <th>rating</th>\n",
              "    </tr>\n",
              "  </thead>\n",
              "  <tbody>\n",
              "    <tr>\n",
              "      <th>0</th>\n",
              "      <td>A00177463W0XWB16A9O05</td>\n",
              "      <td>[It is a good stand by coffee you can count on...</td>\n",
              "      <td>[5.0, 5.0, 4.0, 4.0, 5.0, 3.0, 4.0, 5.0, 5.0, ...</td>\n",
              "    </tr>\n",
              "    <tr>\n",
              "      <th>1</th>\n",
              "      <td>A022899328A0QROR32DCT</td>\n",
              "      <td>[awesome texture for even the gluten eating ea...</td>\n",
              "      <td>[5.0, 1.0, 4.0, 5.0, 5.0, 5.0, 1.0, 2.0, 3.0, ...</td>\n",
              "    </tr>\n",
              "    <tr>\n",
              "      <th>2</th>\n",
              "      <td>A04309042SDSL8YX2HRR7</td>\n",
              "      <td>[I love roasted garlic &amp; sweet bell peppers. Y...</td>\n",
              "      <td>[5.0, 2.0, 4.0, 4.0, 4.0]</td>\n",
              "    </tr>\n",
              "    <tr>\n",
              "      <th>3</th>\n",
              "      <td>A068255029AHTHDXZURNU</td>\n",
              "      <td>[These bars are especially delicious for cocon...</td>\n",
              "      <td>[5.0, 5.0, 3.0, 5.0, 3.0, 3.0, 5.0, 5.0, 5.0]</td>\n",
              "    </tr>\n",
              "    <tr>\n",
              "      <th>4</th>\n",
              "      <td>A06944662TFWOKKV4GJKX</td>\n",
              "      <td>[UGH!  My stomach has been really killing me l...</td>\n",
              "      <td>[5.0, 5.0, 5.0, 5.0, 5.0, 5.0, 5.0, 4.0, 4.0]</td>\n",
              "    </tr>\n",
              "    <tr>\n",
              "      <th>...</th>\n",
              "      <td>...</td>\n",
              "      <td>...</td>\n",
              "      <td>...</td>\n",
              "    </tr>\n",
              "    <tr>\n",
              "      <th>14676</th>\n",
              "      <td>AZWRZZAMX90VT</td>\n",
              "      <td>[Very nice. Not spicy, not too salty, lots of ...</td>\n",
              "      <td>[5.0, 5.0, 2.0, 5.0, 5.0, 4.0, 4.0, 3.0, 4.0, ...</td>\n",
              "    </tr>\n",
              "    <tr>\n",
              "      <th>14677</th>\n",
              "      <td>AZXKAH2DE6C8A</td>\n",
              "      <td>[Could not imagine having such a rich tasting ...</td>\n",
              "      <td>[5.0, 5.0, 5.0, 5.0, 5.0, 5.0, 5.0, 5.0, 4.0, ...</td>\n",
              "    </tr>\n",
              "    <tr>\n",
              "      <th>14678</th>\n",
              "      <td>AZXON596A1VXC</td>\n",
              "      <td>[I was a bit skeptical when I bought this prod...</td>\n",
              "      <td>[5.0, 5.0, 5.0, 5.0, 5.0, 5.0, 5.0]</td>\n",
              "    </tr>\n",
              "    <tr>\n",
              "      <th>14679</th>\n",
              "      <td>AZYXC63SS008M</td>\n",
              "      <td>[This is just about the healthiest you can get...</td>\n",
              "      <td>[5.0, 5.0, 5.0, 5.0, 5.0, 5.0]</td>\n",
              "    </tr>\n",
              "    <tr>\n",
              "      <th>14680</th>\n",
              "      <td>AZZ5ASC403N74</td>\n",
              "      <td>[Everybody loves homemade spaghetti sauce, but...</td>\n",
              "      <td>[5.0, 2.0, 3.0, 3.0, 4.0]</td>\n",
              "    </tr>\n",
              "  </tbody>\n",
              "</table>\n",
              "<p>14681 rows × 3 columns</p>\n",
              "</div>"
            ],
            "text/plain": [
              "                      userID  \\\n",
              "0      A00177463W0XWB16A9O05   \n",
              "1      A022899328A0QROR32DCT   \n",
              "2      A04309042SDSL8YX2HRR7   \n",
              "3      A068255029AHTHDXZURNU   \n",
              "4      A06944662TFWOKKV4GJKX   \n",
              "...                      ...   \n",
              "14676          AZWRZZAMX90VT   \n",
              "14677          AZXKAH2DE6C8A   \n",
              "14678          AZXON596A1VXC   \n",
              "14679          AZYXC63SS008M   \n",
              "14680          AZZ5ASC403N74   \n",
              "\n",
              "                                              reviewText  \\\n",
              "0      [It is a good stand by coffee you can count on...   \n",
              "1      [awesome texture for even the gluten eating ea...   \n",
              "2      [I love roasted garlic & sweet bell peppers. Y...   \n",
              "3      [These bars are especially delicious for cocon...   \n",
              "4      [UGH!  My stomach has been really killing me l...   \n",
              "...                                                  ...   \n",
              "14676  [Very nice. Not spicy, not too salty, lots of ...   \n",
              "14677  [Could not imagine having such a rich tasting ...   \n",
              "14678  [I was a bit skeptical when I bought this prod...   \n",
              "14679  [This is just about the healthiest you can get...   \n",
              "14680  [Everybody loves homemade spaghetti sauce, but...   \n",
              "\n",
              "                                                  rating  \n",
              "0      [5.0, 5.0, 4.0, 4.0, 5.0, 3.0, 4.0, 5.0, 5.0, ...  \n",
              "1      [5.0, 1.0, 4.0, 5.0, 5.0, 5.0, 1.0, 2.0, 3.0, ...  \n",
              "2                              [5.0, 2.0, 4.0, 4.0, 4.0]  \n",
              "3          [5.0, 5.0, 3.0, 5.0, 3.0, 3.0, 5.0, 5.0, 5.0]  \n",
              "4          [5.0, 5.0, 5.0, 5.0, 5.0, 5.0, 5.0, 4.0, 4.0]  \n",
              "...                                                  ...  \n",
              "14676  [5.0, 5.0, 2.0, 5.0, 5.0, 4.0, 4.0, 3.0, 4.0, ...  \n",
              "14677  [5.0, 5.0, 5.0, 5.0, 5.0, 5.0, 5.0, 5.0, 4.0, ...  \n",
              "14678                [5.0, 5.0, 5.0, 5.0, 5.0, 5.0, 5.0]  \n",
              "14679                     [5.0, 5.0, 5.0, 5.0, 5.0, 5.0]  \n",
              "14680                          [5.0, 2.0, 3.0, 3.0, 4.0]  \n",
              "\n",
              "[14681 rows x 3 columns]"
            ]
          },
          "execution_count": 15,
          "metadata": {},
          "output_type": "execute_result"
        }
      ],
      "source": [
        "user_df=df[['userID','reviewText','rating']].groupby('userID')['rating','reviewText'].apply(lambda x: pd.Series([list(x['reviewText']),list(x['rating'])],index=['reviewText', 'rating'])).reset_index()\n",
        "user_df"
      ]
    },
    {
      "cell_type": "markdown",
      "metadata": {
        "id": "ReAbgOc7q3Tp"
      },
      "source": [
        "**Item Data**"
      ]
    },
    {
      "cell_type": "markdown",
      "metadata": {
        "id": "arvKphT7KCTg"
      },
      "source": [
        "determining all unique items with their reviews and ratings"
      ]
    },
    {
      "cell_type": "code",
      "execution_count": 16,
      "metadata": {
        "colab": {
          "base_uri": "https://localhost:8080/",
          "height": 478
        },
        "id": "qAjW8mmJq9Cj",
        "outputId": "e03f94a0-8923-417b-c9c0-fd8cd33ea676"
      },
      "outputs": [
        {
          "name": "stderr",
          "output_type": "stream",
          "text": [
            "/home/mobin/anaconda3/envs/colabenv/lib/python3.7/site-packages/ipykernel_launcher.py:1: FutureWarning: Indexing with multiple keys (implicitly converted to a tuple of keys) will be deprecated, use a list instead.\n",
            "  \"\"\"Entry point for launching an IPython kernel.\n"
          ]
        },
        {
          "data": {
            "text/html": [
              "<div>\n",
              "<style scoped>\n",
              "    .dataframe tbody tr th:only-of-type {\n",
              "        vertical-align: middle;\n",
              "    }\n",
              "\n",
              "    .dataframe tbody tr th {\n",
              "        vertical-align: top;\n",
              "    }\n",
              "\n",
              "    .dataframe thead th {\n",
              "        text-align: right;\n",
              "    }\n",
              "</style>\n",
              "<table border=\"1\" class=\"dataframe\">\n",
              "  <thead>\n",
              "    <tr style=\"text-align: right;\">\n",
              "      <th></th>\n",
              "      <th>itemID</th>\n",
              "      <th>reviewText</th>\n",
              "      <th>rating</th>\n",
              "    </tr>\n",
              "  </thead>\n",
              "  <tbody>\n",
              "    <tr>\n",
              "      <th>0</th>\n",
              "      <td>616719923X</td>\n",
              "      <td>[Just another flavor of Kit Kat but the taste ...</td>\n",
              "      <td>[4.0, 3.0, 4.0, 5.0, 4.0, 4.0, 3.0, 5.0, 5.0, ...</td>\n",
              "    </tr>\n",
              "    <tr>\n",
              "      <th>1</th>\n",
              "      <td>9742356831</td>\n",
              "      <td>[This curry paste makes a delicious curry.  I ...</td>\n",
              "      <td>[5.0, 5.0, 5.0, 4.0, 5.0, 5.0, 5.0, 5.0, 5.0, ...</td>\n",
              "    </tr>\n",
              "    <tr>\n",
              "      <th>2</th>\n",
              "      <td>B00004S1C5</td>\n",
              "      <td>[These dyes create awesome colors for kids cra...</td>\n",
              "      <td>[5.0, 1.0, 5.0, 5.0, 5.0, 4.0, 4.0]</td>\n",
              "    </tr>\n",
              "    <tr>\n",
              "      <th>3</th>\n",
              "      <td>B0000531B7</td>\n",
              "      <td>[I really enjoy these bars as a quick breakfas...</td>\n",
              "      <td>[5.0, 5.0, 3.0, 5.0, 5.0, 4.0, 5.0, 5.0, 4.0]</td>\n",
              "    </tr>\n",
              "    <tr>\n",
              "      <th>4</th>\n",
              "      <td>B00005344V</td>\n",
              "      <td>[Traditional Medicinals' \"Breathe Easy\" is an ...</td>\n",
              "      <td>[5.0, 3.0, 5.0, 5.0, 3.0, 5.0, 5.0]</td>\n",
              "    </tr>\n",
              "    <tr>\n",
              "      <th>...</th>\n",
              "      <td>...</td>\n",
              "      <td>...</td>\n",
              "      <td>...</td>\n",
              "    </tr>\n",
              "    <tr>\n",
              "      <th>8708</th>\n",
              "      <td>B00JGPG60I</td>\n",
              "      <td>[We switched to this formula 5 days ago and fo...</td>\n",
              "      <td>[4.0, 4.0, 4.0, 5.0, 4.0, 3.0, 5.0, 5.0, 2.0, ...</td>\n",
              "    </tr>\n",
              "    <tr>\n",
              "      <th>8709</th>\n",
              "      <td>B00JL6LTMW</td>\n",
              "      <td>[We have enjoyed Larabar's variety of bars for...</td>\n",
              "      <td>[4.0, 5.0, 5.0, 5.0, 5.0, 4.0, 5.0, 4.0, 5.0, ...</td>\n",
              "    </tr>\n",
              "    <tr>\n",
              "      <th>8710</th>\n",
              "      <td>B00K00H9I6</td>\n",
              "      <td>[This 100% pure Canadian maple syrup is a Grad...</td>\n",
              "      <td>[5.0, 5.0, 5.0, 5.0, 5.0, 5.0, 5.0, 5.0]</td>\n",
              "    </tr>\n",
              "    <tr>\n",
              "      <th>8711</th>\n",
              "      <td>B00KC0LGI8</td>\n",
              "      <td>[I followed the directions on the box exactly ...</td>\n",
              "      <td>[2.0, 4.0, 4.0, 4.0, 4.0, 5.0, 2.0, 5.0, 3.0, ...</td>\n",
              "    </tr>\n",
              "    <tr>\n",
              "      <th>8712</th>\n",
              "      <td>B00KCJRVO2</td>\n",
              "      <td>[Usually the label &amp;#34;gluten free&amp;#34; is a ...</td>\n",
              "      <td>[5.0, 5.0, 4.0, 5.0, 5.0, 3.0, 4.0, 4.0, 5.0, ...</td>\n",
              "    </tr>\n",
              "  </tbody>\n",
              "</table>\n",
              "<p>8713 rows × 3 columns</p>\n",
              "</div>"
            ],
            "text/plain": [
              "          itemID                                         reviewText  \\\n",
              "0     616719923X  [Just another flavor of Kit Kat but the taste ...   \n",
              "1     9742356831  [This curry paste makes a delicious curry.  I ...   \n",
              "2     B00004S1C5  [These dyes create awesome colors for kids cra...   \n",
              "3     B0000531B7  [I really enjoy these bars as a quick breakfas...   \n",
              "4     B00005344V  [Traditional Medicinals' \"Breathe Easy\" is an ...   \n",
              "...          ...                                                ...   \n",
              "8708  B00JGPG60I  [We switched to this formula 5 days ago and fo...   \n",
              "8709  B00JL6LTMW  [We have enjoyed Larabar's variety of bars for...   \n",
              "8710  B00K00H9I6  [This 100% pure Canadian maple syrup is a Grad...   \n",
              "8711  B00KC0LGI8  [I followed the directions on the box exactly ...   \n",
              "8712  B00KCJRVO2  [Usually the label &#34;gluten free&#34; is a ...   \n",
              "\n",
              "                                                 rating  \n",
              "0     [4.0, 3.0, 4.0, 5.0, 4.0, 4.0, 3.0, 5.0, 5.0, ...  \n",
              "1     [5.0, 5.0, 5.0, 4.0, 5.0, 5.0, 5.0, 5.0, 5.0, ...  \n",
              "2                   [5.0, 1.0, 5.0, 5.0, 5.0, 4.0, 4.0]  \n",
              "3         [5.0, 5.0, 3.0, 5.0, 5.0, 4.0, 5.0, 5.0, 4.0]  \n",
              "4                   [5.0, 3.0, 5.0, 5.0, 3.0, 5.0, 5.0]  \n",
              "...                                                 ...  \n",
              "8708  [4.0, 4.0, 4.0, 5.0, 4.0, 3.0, 5.0, 5.0, 2.0, ...  \n",
              "8709  [4.0, 5.0, 5.0, 5.0, 5.0, 4.0, 5.0, 4.0, 5.0, ...  \n",
              "8710           [5.0, 5.0, 5.0, 5.0, 5.0, 5.0, 5.0, 5.0]  \n",
              "8711  [2.0, 4.0, 4.0, 4.0, 4.0, 5.0, 2.0, 5.0, 3.0, ...  \n",
              "8712  [5.0, 5.0, 4.0, 5.0, 5.0, 3.0, 4.0, 4.0, 5.0, ...  \n",
              "\n",
              "[8713 rows x 3 columns]"
            ]
          },
          "execution_count": 16,
          "metadata": {},
          "output_type": "execute_result"
        }
      ],
      "source": [
        "item_df=df[['itemID','reviewText','rating']].groupby('itemID')['reviewText','rating'].apply(lambda x: pd.Series([list(x['reviewText']),list(x['rating'])],index=['reviewText', 'rating'])).reset_index()\n",
        "item_df"
      ]
    },
    {
      "cell_type": "code",
      "execution_count": 17,
      "metadata": {},
      "outputs": [
        {
          "name": "stderr",
          "output_type": "stream",
          "text": [
            "/home/mobin/anaconda3/envs/colabenv/lib/python3.7/site-packages/ipykernel_launcher.py:12: FutureWarning: Indexing with multiple keys (implicitly converted to a tuple of keys) will be deprecated, use a list instead.\n",
            "  if sys.path[0] == \"\":\n",
            "/home/mobin/anaconda3/envs/colabenv/lib/python3.7/site-packages/ipykernel_launcher.py:13: FutureWarning: Indexing with multiple keys (implicitly converted to a tuple of keys) will be deprecated, use a list instead.\n",
            "  del sys.path[0]\n"
          ]
        }
      ],
      "source": [
        "# dataset minimization\n",
        "if os.path.exists(\"raw_data.csv\"):\n",
        "    df = pd.read_csv('raw_data.csv')\n",
        "else :  \n",
        "    sample_userID = list( user_df[user_df['reviewText'].apply(lambda x : len(x)> 80 )].sample(51)['userID'])\n",
        "    new_df = df[ df['userID'].isin(sample_userID)]\n",
        "    item_ddf = new_df[['itemID','reviewText','rating']].groupby('itemID')['reviewText','rating'].apply(lambda x: pd.Series([list(x['reviewText']),list(x['rating'])],index=['reviewText', 'rating'])).reset_index()\n",
        "    sample_itemID = list( item_ddf[ item_ddf['reviewText'].apply(lambda x : len(x)>4)]['itemID'] )\n",
        "    df = new_df[new_df['itemID'].isin(sample_itemID)].reset_index(drop=True).sample(frac=1)\n",
        "    df.to_csv('raw_data.csv')\n",
        "\n",
        "user_df=df[['userID','reviewText','rating']].groupby('userID')['rating','reviewText'].apply(lambda x: pd.Series([list(x['reviewText']),list(x['rating'])],index=['reviewText', 'rating'])).reset_index()\n",
        "item_df=df[['itemID','reviewText','rating']].groupby('itemID')['reviewText','rating'].apply(lambda x: pd.Series([list(x['reviewText']),list(x['rating'])],index=['reviewText', 'rating'])).reset_index()\n"
      ]
    },
    {
      "cell_type": "code",
      "execution_count": 18,
      "metadata": {},
      "outputs": [
        {
          "name": "stdout",
          "output_type": "stream",
          "text": [
            "review num :  1994 user num :  51 item num :  200\n"
          ]
        }
      ],
      "source": [
        "print(\"review num : \", df.shape[0] ,\"user num : \" ,user_df.shape[0],\"item num : \",item_df.shape[0] )"
      ]
    },
    {
      "cell_type": "markdown",
      "metadata": {
        "id": "jCekVFHgXtom"
      },
      "source": [
        "##   Ratings"
      ]
    },
    {
      "cell_type": "code",
      "execution_count": 19,
      "metadata": {
        "colab": {
          "base_uri": "https://localhost:8080/",
          "height": 441
        },
        "id": "cZb_XiBoGHSa",
        "outputId": "f1cb72ea-8d50-467a-d412-92d75a9d167e"
      },
      "outputs": [
        {
          "data": {
            "text/plain": [
              "count    1994.000000\n",
              "mean        3.953862\n",
              "std         1.026922\n",
              "min         1.000000\n",
              "25%         3.000000\n",
              "50%         4.000000\n",
              "75%         5.000000\n",
              "max         5.000000\n",
              "Name: rating, dtype: float64"
            ]
          },
          "execution_count": 19,
          "metadata": {},
          "output_type": "execute_result"
        },
        {
          "data": {
            "image/png": "[encoded data removed]",
            "text/plain": [
              "<Figure size 432x288 with 1 Axes>"
            ]
          },
          "metadata": {
            "needs_background": "light"
          },
          "output_type": "display_data"
        }
      ],
      "source": [
        "df.groupby('rating').size().plot(kind=\"bar\");\n",
        "df['rating'].describe()\n",
        "#histogram of ratings"
      ]
    },
    {
      "cell_type": "code",
      "execution_count": 20,
      "metadata": {
        "colab": {
          "base_uri": "https://localhost:8080/",
          "height": 367
        },
        "id": "hPn4ftb2vqn-",
        "outputId": "91fde917-2de7-4a70-ea94-2e4ae376ea5a"
      },
      "outputs": [
        {
          "data": {
            "image/png": "[encoded data removed]",
            "text/plain": [
              "<Figure size 1152x432 with 1 Axes>"
            ]
          },
          "metadata": {
            "needs_background": "light"
          },
          "output_type": "display_data"
        }
      ],
      "source": [
        "user_means=user_df.rating.apply(lambda x: np.mean(x))\n",
        "user_means[:50].plot(kind=\"bar\", grid=False, figsize=(16, 6), title=\"Mean ratings for 50 users\");"
      ]
    },
    {
      "cell_type": "code",
      "execution_count": 21,
      "metadata": {
        "colab": {
          "base_uri": "https://localhost:8080/",
          "height": 204
        },
        "id": "ZuVzD2bTv4iE",
        "outputId": "8533423d-08da-4eeb-c78b-51397de9ecff"
      },
      "outputs": [
        {
          "data": {
            "image/png": "[encoded data removed]",
            "text/plain": [
              "<Figure size 2304x432 with 2 Axes>"
            ]
          },
          "metadata": {
            "needs_background": "light"
          },
          "output_type": "display_data"
        }
      ],
      "source": [
        "fig, (ax1, ax2) = plt.subplots(ncols=2, figsize=(32,6), sharey=True)\n",
        "user_means.nlargest(50).plot(kind=\"bar\", ax=ax1, title=\"Top 50 users in data set\")\n",
        "user_means.nsmallest(50).plot(kind=\"bar\", ax=ax2, title=\"Bottom 50 users in data set\");"
      ]
    },
    {
      "cell_type": "code",
      "execution_count": 22,
      "metadata": {
        "colab": {
          "base_uri": "https://localhost:8080/",
          "height": 300
        },
        "id": "FChjMJ0MvtiU",
        "outputId": "81b5374f-986d-4079-8cb6-a99614f56d4c"
      },
      "outputs": [
        {
          "data": {
            "text/plain": [
              "[<matplotlib.lines.Line2D at 0x7fb9a87ae390>]"
            ]
          },
          "execution_count": 22,
          "metadata": {},
          "output_type": "execute_result"
        },
        {
          "data": {
            "image/png": "[encoded data removed]",
            "text/plain": [
              "<Figure size 1440x432 with 1 Axes>"
            ]
          },
          "metadata": {
            "needs_background": "light"
          },
          "output_type": "display_data"
        }
      ],
      "source": [
        "user_means = df.groupby(\"userID\").rating.mean().sort_values()\n",
        "_, ax = plt.subplots(figsize=(20, 6))\n",
        "ax.plot(np.arange(len(user_means)), user_means.values, \"k-\")\n"
      ]
    },
    {
      "cell_type": "code",
      "execution_count": 23,
      "metadata": {
        "colab": {
          "base_uri": "https://localhost:8080/",
          "height": 367
        },
        "id": "VQfmX7OwGaRN",
        "outputId": "65757a6a-d630-49fc-a97c-0742c3a1b7a5"
      },
      "outputs": [
        {
          "data": {
            "image/png": "[encoded data removed]",
            "text/plain": [
              "<Figure size 1152x432 with 1 Axes>"
            ]
          },
          "metadata": {
            "needs_background": "light"
          },
          "output_type": "display_data"
        }
      ],
      "source": [
        "item_means=item_df.rating.apply(lambda x: np.mean(x))\n",
        "item_means[:50].plot(kind=\"bar\", grid=False, figsize=(16, 6), title=\"Mean ratings for 50 items\");"
      ]
    },
    {
      "cell_type": "code",
      "execution_count": 24,
      "metadata": {
        "colab": {
          "base_uri": "https://localhost:8080/",
          "height": 201
        },
        "id": "6Dyp-7KeGyoK",
        "outputId": "6d657471-73d2-4291-aa92-49de438f0a59"
      },
      "outputs": [
        {
          "data": {
            "image/png": "[encoded data removed]",
            "text/plain": [
              "<Figure size 2304x432 with 2 Axes>"
            ]
          },
          "metadata": {
            "needs_background": "light"
          },
          "output_type": "display_data"
        }
      ],
      "source": [
        "fig, (ax1, ax2) = plt.subplots(ncols=2, figsize=(32,6), sharey=True)\n",
        "item_means.nlargest(50).plot(kind=\"bar\", ax=ax1, title=\"Top 50 items in data set\")\n",
        "item_means.nsmallest(50).plot(kind=\"bar\", ax=ax2, title=\"Bottom 50 items in data set\");"
      ]
    },
    {
      "cell_type": "markdown",
      "metadata": {
        "id": "IxGLa04uYQRt"
      },
      "source": [
        "## Reviews"
      ]
    },
    {
      "cell_type": "code",
      "execution_count": 25,
      "metadata": {
        "colab": {
          "base_uri": "https://localhost:8080/"
        },
        "id": "z0QEq-vnYohN",
        "outputId": "183d2ce2-65c2-49c9-ca8c-7f216083e4bc"
      },
      "outputs": [
        {
          "data": {
            "text/plain": [
              "count                                                  1994\n",
              "unique                                                 1994\n",
              "top       The soup I tried was the red pepper with Gouda...\n",
              "freq                                                      1\n",
              "Name: reviewText, dtype: object"
            ]
          },
          "execution_count": 25,
          "metadata": {},
          "output_type": "execute_result"
        }
      ],
      "source": [
        "df['reviewText'].describe()"
      ]
    },
    {
      "cell_type": "code",
      "execution_count": 26,
      "metadata": {
        "colab": {
          "base_uri": "https://localhost:8080/",
          "height": 459
        },
        "id": "OLw7n7EcbEKV",
        "outputId": "ffd1376f-19a1-42f2-a991-e490d04d84d4"
      },
      "outputs": [
        {
          "data": {
            "text/plain": [
              "count    1994.000000\n",
              "mean      737.340522\n",
              "std       502.430526\n",
              "min        78.000000\n",
              "25%       428.000000\n",
              "50%       608.000000\n",
              "75%       881.750000\n",
              "max      8136.000000\n",
              "Name: reviewText, dtype: float64"
            ]
          },
          "execution_count": 26,
          "metadata": {},
          "output_type": "execute_result"
        },
        {
          "data": {
            "image/png": "[encoded data removed]",
            "text/plain": [
              "<Figure size 1728x576 with 1 Axes>"
            ]
          },
          "metadata": {
            "needs_background": "light"
          },
          "output_type": "display_data"
        }
      ],
      "source": [
        "# review length\n",
        "rv_le=df['reviewText'].apply(lambda x:len(x) )\n",
        "rv_le.plot(kind='hist',bins=2000,figsize=(24, 8),xlabel=\"length of reviews\")\n",
        "rv_le.describe()\n"
      ]
    },
    {
      "cell_type": "code",
      "execution_count": 27,
      "metadata": {
        "colab": {
          "base_uri": "https://localhost:8080/"
        },
        "id": "LTgNznNQ8aR1",
        "outputId": "3c1809ac-2fc3-4d67-ce83-7253c8687332"
      },
      "outputs": [
        {
          "name": "stdout",
          "output_type": "stream",
          "text": [
            "mean of reviews per user: 39.09803921568628\n",
            "mean of words per review: 737.340521564694\n",
            "mean of words per user: 28828.56862745098\n"
          ]
        }
      ],
      "source": [
        "sum=0\n",
        "sum2=0\n",
        "for x in user_df['reviewText']:\n",
        "  sum+=len(x)\n",
        "  for y in x:\n",
        "   sum2 +=len(y)\n",
        "\n",
        "r_mean=sum/len(user_df['reviewText'])\n",
        "w_mean=sum2/(r_mean*len(user_df['reviewText']))\n",
        "print('mean of reviews per user:', r_mean)\n",
        "print('mean of words per review:', w_mean)\n",
        "print('mean of words per user:',r_mean * w_mean)\n",
        "# plot for reviews per user"
      ]
    },
    {
      "cell_type": "code",
      "execution_count": 28,
      "metadata": {},
      "outputs": [
        {
          "data": {
            "text/plain": [
              "Series([], Name: reviewText, dtype: int64)"
            ]
          },
          "execution_count": 28,
          "metadata": {},
          "output_type": "execute_result"
        }
      ],
      "source": [
        "a=item_df['reviewText'].apply(len)\n",
        "a[a>40]"
      ]
    },
    {
      "cell_type": "code",
      "execution_count": 29,
      "metadata": {},
      "outputs": [
        {
          "data": {
            "text/plain": [
              "count    200.000000\n",
              "mean       9.970000\n",
              "std        4.697813\n",
              "min        5.000000\n",
              "25%        6.000000\n",
              "50%        9.000000\n",
              "75%       13.000000\n",
              "max       31.000000\n",
              "Name: reviewText, dtype: float64"
            ]
          },
          "execution_count": 29,
          "metadata": {},
          "output_type": "execute_result"
        },
        {
          "data": {
            "image/png": "[encoded data removed]",
            "text/plain": [
              "<Figure size 1728x576 with 1 Axes>"
            ]
          },
          "metadata": {
            "needs_background": "light"
          },
          "output_type": "display_data"
        }
      ],
      "source": [
        "rv_le=item_df['reviewText'].apply(lambda x:len(x) )\n",
        "rv_le.plot(kind='hist',bins=2000,figsize=(24, 8),xlabel=\"length of reviews\")\n",
        "rv_le.describe()"
      ]
    },
    {
      "cell_type": "code",
      "execution_count": 30,
      "metadata": {},
      "outputs": [
        {
          "data": {
            "text/plain": [
              "count     51.000000\n",
              "mean      39.098039\n",
              "std       30.925236\n",
              "min        1.000000\n",
              "25%       13.500000\n",
              "50%       33.000000\n",
              "75%       63.500000\n",
              "max      117.000000\n",
              "Name: reviewText, dtype: float64"
            ]
          },
          "execution_count": 30,
          "metadata": {},
          "output_type": "execute_result"
        },
        {
          "data": {
            "image/png": "[encoded data removed]",
            "text/plain": [
              "<Figure size 1728x576 with 1 Axes>"
            ]
          },
          "metadata": {
            "needs_background": "light"
          },
          "output_type": "display_data"
        }
      ],
      "source": [
        "rv_le=user_df['reviewText'].apply(lambda x:len(x) )\n",
        "rv_le.plot(kind='hist',bins=2000,figsize=(24, 8),xlabel=\"length of reviews\")\n",
        "rv_le.describe()"
      ]
    },
    {
      "cell_type": "code",
      "execution_count": 31,
      "metadata": {
        "colab": {
          "base_uri": "https://localhost:8080/"
        },
        "id": "Nje_ix7gAaf3",
        "outputId": "c3260e88-aa4f-46f3-aa38-85cbb25e0219"
      },
      "outputs": [
        {
          "name": "stdout",
          "output_type": "stream",
          "text": [
            "mean of reviews per item: 9.97\n",
            "mean of words per review: 737.340521564694\n",
            "mean of words per item: 7351.284999999999\n"
          ]
        }
      ],
      "source": [
        "sum=0\n",
        "sum2=0\n",
        "for x in item_df['reviewText']:\n",
        "  sum+=len(x)\n",
        "  for y in x:\n",
        "   sum2 +=len(y)\n",
        "\n",
        "r_mean=sum/len(item_df['reviewText'])\n",
        "w_mean=sum2/(r_mean*len(item_df['reviewText']))\n",
        "print('mean of reviews per item:', r_mean)\n",
        "print('mean of words per review:', w_mean)\n",
        "print('mean of words per item:',r_mean * w_mean)"
      ]
    },
    {
      "cell_type": "markdown",
      "metadata": {},
      "source": [
        "# **Data Splitting**"
      ]
    },
    {
      "cell_type": "code",
      "execution_count": 32,
      "metadata": {},
      "outputs": [],
      "source": [
        "if os.path.exists(\"train_df.csv\") & os.path.exists(\"test_df.csv\"):\n",
        "        train_df = pd.read_csv('train_df.csv')\n",
        "        test_df = pd.read_csv('test_df.csv')\n",
        "\n",
        "else:\n",
        "    current_fold=10\n",
        "    kfold = KFold(10)\n",
        "    random_iterator=kfold.split(df)\n",
        "    for i in range(current_fold):\n",
        "      train_index, test_index = next(random_iterator, None)\n",
        "      print(train_index,len(train_index))\n",
        "      train_df, test_df =df.iloc[train_index], df.iloc[test_index]\n",
        "    train_df.to_csv('train_df.csv')\n",
        "    test_df.to_csv('test_df.csv')\n",
        "    "
      ]
    },
    {
      "cell_type": "code",
      "execution_count": 33,
      "metadata": {},
      "outputs": [
        {
          "data": {
            "text/html": [
              "<div>\n",
              "<style scoped>\n",
              "    .dataframe tbody tr th:only-of-type {\n",
              "        vertical-align: middle;\n",
              "    }\n",
              "\n",
              "    .dataframe tbody tr th {\n",
              "        vertical-align: top;\n",
              "    }\n",
              "\n",
              "    .dataframe thead th {\n",
              "        text-align: right;\n",
              "    }\n",
              "</style>\n",
              "<table border=\"1\" class=\"dataframe\">\n",
              "  <thead>\n",
              "    <tr style=\"text-align: right;\">\n",
              "      <th></th>\n",
              "      <th>Unnamed: 0</th>\n",
              "      <th>userID</th>\n",
              "      <th>itemID</th>\n",
              "      <th>reviewText</th>\n",
              "      <th>rating</th>\n",
              "    </tr>\n",
              "  </thead>\n",
              "  <tbody>\n",
              "    <tr>\n",
              "      <th>0</th>\n",
              "      <td>1161</td>\n",
              "      <td>A2V92F5R7MLCVI</td>\n",
              "      <td>B0096RP84Q</td>\n",
              "      <td>The soup I tried was the red pepper with Gouda...</td>\n",
              "      <td>2.0</td>\n",
              "    </tr>\n",
              "    <tr>\n",
              "      <th>1</th>\n",
              "      <td>1974</td>\n",
              "      <td>A1UQBFCERIP7VJ</td>\n",
              "      <td>B00H7282WW</td>\n",
              "      <td>This particular variety of Kernel Season's pop...</td>\n",
              "      <td>4.0</td>\n",
              "    </tr>\n",
              "    <tr>\n",
              "      <th>2</th>\n",
              "      <td>876</td>\n",
              "      <td>A1UQBFCERIP7VJ</td>\n",
              "      <td>B006J4MAHW</td>\n",
              "      <td>Nature's Path Organic Love Crunch is a rolled-...</td>\n",
              "      <td>4.0</td>\n",
              "    </tr>\n",
              "    <tr>\n",
              "      <th>3</th>\n",
              "      <td>1517</td>\n",
              "      <td>A3NHUQ33CFH3VM</td>\n",
              "      <td>B00BDFNRG0</td>\n",
              "      <td>I don't dislike this popcorn as much as the re...</td>\n",
              "      <td>2.0</td>\n",
              "    </tr>\n",
              "    <tr>\n",
              "      <th>4</th>\n",
              "      <td>589</td>\n",
              "      <td>A2V92F5R7MLCVI</td>\n",
              "      <td>B004GWRP1A</td>\n",
              "      <td>This pasta is perfect for those of you who mak...</td>\n",
              "      <td>5.0</td>\n",
              "    </tr>\n",
              "    <tr>\n",
              "      <th>...</th>\n",
              "      <td>...</td>\n",
              "      <td>...</td>\n",
              "      <td>...</td>\n",
              "      <td>...</td>\n",
              "      <td>...</td>\n",
              "    </tr>\n",
              "    <tr>\n",
              "      <th>1790</th>\n",
              "      <td>1566</td>\n",
              "      <td>A1UQBFCERIP7VJ</td>\n",
              "      <td>B00BJH5A26</td>\n",
              "      <td>Gratify Gluten Free Pretzel Twists are just li...</td>\n",
              "      <td>5.0</td>\n",
              "    </tr>\n",
              "    <tr>\n",
              "      <th>1791</th>\n",
              "      <td>1370</td>\n",
              "      <td>A3NHUQ33CFH3VM</td>\n",
              "      <td>B00A4ASPXU</td>\n",
              "      <td>I attribute the slightly odd taste to the flav...</td>\n",
              "      <td>4.0</td>\n",
              "    </tr>\n",
              "    <tr>\n",
              "      <th>1792</th>\n",
              "      <td>402</td>\n",
              "      <td>A1ZPY91VE3IDN1</td>\n",
              "      <td>B003EXVM4S</td>\n",
              "      <td>I grew up on Mueller's pasta, the blue box, wh...</td>\n",
              "      <td>4.0</td>\n",
              "    </tr>\n",
              "    <tr>\n",
              "      <th>1793</th>\n",
              "      <td>1935</td>\n",
              "      <td>A1KEK09ZA6J9P8</td>\n",
              "      <td>B00GLP9JI2</td>\n",
              "      <td>I often purchase drink add-ins to make my wate...</td>\n",
              "      <td>4.0</td>\n",
              "    </tr>\n",
              "    <tr>\n",
              "      <th>1794</th>\n",
              "      <td>1730</td>\n",
              "      <td>A1UQBFCERIP7VJ</td>\n",
              "      <td>B00DBSG3K4</td>\n",
              "      <td>Keebler El Duende Coconut Cookies are very sim...</td>\n",
              "      <td>4.0</td>\n",
              "    </tr>\n",
              "  </tbody>\n",
              "</table>\n",
              "<p>1795 rows × 5 columns</p>\n",
              "</div>"
            ],
            "text/plain": [
              "      Unnamed: 0          userID      itemID  \\\n",
              "0           1161  A2V92F5R7MLCVI  B0096RP84Q   \n",
              "1           1974  A1UQBFCERIP7VJ  B00H7282WW   \n",
              "2            876  A1UQBFCERIP7VJ  B006J4MAHW   \n",
              "3           1517  A3NHUQ33CFH3VM  B00BDFNRG0   \n",
              "4            589  A2V92F5R7MLCVI  B004GWRP1A   \n",
              "...          ...             ...         ...   \n",
              "1790        1566  A1UQBFCERIP7VJ  B00BJH5A26   \n",
              "1791        1370  A3NHUQ33CFH3VM  B00A4ASPXU   \n",
              "1792         402  A1ZPY91VE3IDN1  B003EXVM4S   \n",
              "1793        1935  A1KEK09ZA6J9P8  B00GLP9JI2   \n",
              "1794        1730  A1UQBFCERIP7VJ  B00DBSG3K4   \n",
              "\n",
              "                                             reviewText  rating  \n",
              "0     The soup I tried was the red pepper with Gouda...     2.0  \n",
              "1     This particular variety of Kernel Season's pop...     4.0  \n",
              "2     Nature's Path Organic Love Crunch is a rolled-...     4.0  \n",
              "3     I don't dislike this popcorn as much as the re...     2.0  \n",
              "4     This pasta is perfect for those of you who mak...     5.0  \n",
              "...                                                 ...     ...  \n",
              "1790  Gratify Gluten Free Pretzel Twists are just li...     5.0  \n",
              "1791  I attribute the slightly odd taste to the flav...     4.0  \n",
              "1792  I grew up on Mueller's pasta, the blue box, wh...     4.0  \n",
              "1793  I often purchase drink add-ins to make my wate...     4.0  \n",
              "1794  Keebler El Duende Coconut Cookies are very sim...     4.0  \n",
              "\n",
              "[1795 rows x 5 columns]"
            ]
          },
          "execution_count": 33,
          "metadata": {},
          "output_type": "execute_result"
        }
      ],
      "source": [
        "train_df"
      ]
    },
    {
      "cell_type": "markdown",
      "metadata": {
        "id": "IvMysaUvxxU3"
      },
      "source": [
        "# **Embedding Matrix**"
      ]
    },
    {
      "cell_type": "code",
      "execution_count": 34,
      "metadata": {
        "id": "WovD0fA5q-J6"
      },
      "outputs": [],
      "source": [
        "# hyperparameters\n",
        "embedding_dim=300\n",
        "min_frequent_word_num=1\n",
        "max_vocab_size=3000\n",
        "sequence_length=18\n",
        "document_length=20"
      ]
    },
    {
      "cell_type": "code",
      "execution_count": 35,
      "metadata": {},
      "outputs": [],
      "source": [
        "def tf_lower_and_split_punct(text):\n",
        "  text = tf_text.normalize_utf8(text, 'NFKD')\n",
        "  text = tf.strings.lower(text)\n",
        "  text = tf.strings.regex_replace(text, '[^ a-z.?!,¿]', '')\n",
        "  text = tf.strings.regex_replace(text, '[.?!,¿]', r' \\0 ')\n",
        "  text = tf.strings.strip(text)\n",
        "  text= tf.strings.reduce_join( tf.strings.split(text)[:,:sequence_length-2],axis=-1,separator=' ')\n",
        "  return  text.numpy()"
      ]
    },
    {
      "cell_type": "code",
      "execution_count": 36,
      "metadata": {},
      "outputs": [],
      "source": [
        "with tf.device('/CPU:0'):\n",
        "    user_corpus =list(map(tf_lower_and_split_punct,user_df['reviewText'])) \n",
        "    item_corpus = list( map(tf_lower_and_split_punct,item_df['reviewText']) )"
      ]
    },
    {
      "cell_type": "code",
      "execution_count": 37,
      "metadata": {},
      "outputs": [],
      "source": [
        "def load_word2vec_model():\n",
        "    if os.path.exists(\"word2vec.wordvectors\"):\n",
        "        print(\"loaded from word2vec.wordvectors\")\n",
        "        return KeyedVectors.load(\"word2vec.wordvectors\",mmap='r')\n",
        "    else:\n",
        "        # downloading google news word2vec model\n",
        "        if not os.path.exists(\"word2vec_google.bin\"):\n",
        "            downloaded_model = api.load('word2vec-google-news-300')\n",
        "            downloaded_model.save_word2vec_format('word2vec_google.bin',binary=True)\n",
        "            del downloaded_model\n",
        "        # loading google news word2vec model\n",
        "        google_word2vec = KeyedVectors.load_word2vec_format(\"word2vec_google.bin\", binary=True)\n",
        "\n",
        "       # tokenizing the whole reviews in text_corpus\n",
        "        text_corpus=[]\n",
        "        for i,doc in enumerate(user_corpus):    # iterate through each sentence in the reviews\n",
        "            for rv in doc:\n",
        "                for sen in sent_tokenize(rv.decode(\"utf-8\")):\n",
        "                    temp = []\n",
        "                    # tokenize the sentence into words          \n",
        "                    for j in word_tokenize(sen):\n",
        "                        temp.append(j.lower())\n",
        "                    text_corpus.append(temp)\n",
        "                    del temp\n",
        "\n",
        "\n",
        "        # creating a new word2vec model and initializing it from pretrained google_word2vec\n",
        "        word2vec_model=Word2Vec( text_corpus,max_final_vocab=max_vocab_size,min_count=min_frequent_word_num ,vector_size= embedding_dim,window = 5,workers=16, sg=1,epochs=1)\n",
        "        word2vec_model.build_vocab(text_corpus)\n",
        "\n",
        "        word2vec_model.build_vocab([google_word2vec.index_to_key],update=True)\n",
        "        word2vec_model.wv.vectors_lockf = np.ones(len(word2vec_model.wv))\n",
        "        word2vec_model.wv.intersect_word2vec_format(\"word2vec_google.bin\",binary=True,lockf=1.0)\n",
        "        \n",
        "        # fine tuning the model and saving it\n",
        "        word2vec_model.train(text_corpus, epochs=5, total_examples=word2vec_model.corpus_count)\n",
        "        word2vec_model.wv.save(\"word2vec.wordvectors\")\n",
        "        \n",
        "        del google_word2vec\n",
        "        del text_corpus[:]\n",
        "        gc.collect()\n",
        "  \n",
        "        return word2vec_model.wv\n",
        "        "
      ]
    },
    {
      "cell_type": "code",
      "execution_count": 38,
      "metadata": {},
      "outputs": [
        {
          "name": "stdout",
          "output_type": "stream",
          "text": [
            "embedding matrix shape : ( 1667  , 300 )\n"
          ]
        }
      ],
      "source": [
        "# loading the embedding lookup matrix shape=( 30k ,300 ) approximately\n",
        "embedding_matrix = load_word2vec_model() \n",
        "print( \"embedding matrix shape : (\",len(embedding_matrix.index_to_key),\" ,\",embedding_matrix.vector_size,\")\")"
      ]
    },
    {
      "cell_type": "code",
      "execution_count": 39,
      "metadata": {},
      "outputs": [
        {
          "data": {
            "text/plain": [
              "['i',\n",
              " '.',\n",
              " ',',\n",
              " 'the',\n",
              " 'a',\n",
              " 'this',\n",
              " 'and',\n",
              " 'of',\n",
              " 'is',\n",
              " 'to',\n",
              " 'it',\n",
              " 'in',\n",
              " 'these',\n",
              " 'are',\n",
              " 'that',\n",
              " 'for',\n",
              " 'but',\n",
              " 'my',\n",
              " 'with',\n",
              " 'like',\n",
              " 'was',\n",
              " 'have',\n",
              " 'tea',\n",
              " 'not',\n",
              " 'good',\n",
              " 'flavor',\n",
              " 'as',\n",
              " 'has',\n",
              " 'you',\n",
              " 'love',\n",
              " 'really',\n",
              " 'so',\n",
              " 'very',\n",
              " 'taste',\n",
              " 'on',\n",
              " 'pasta',\n",
              " 'they',\n",
              " 'tried',\n",
              " 'ive',\n",
              " 'when',\n",
              " 'one',\n",
              " 'if',\n",
              " 'its',\n",
              " 'im',\n",
              " 'be',\n",
              " 'just',\n",
              " 'coffee',\n",
              " 'from',\n",
              " 'had',\n",
              " 'all',\n",
              " 'side',\n",
              " 'can',\n",
              " 'we',\n",
              " 'at',\n",
              " 'great',\n",
              " 'or',\n",
              " 'water',\n",
              " 'rice',\n",
              " 'barilla',\n",
              " 'drink',\n",
              " 'product',\n",
              " 'an',\n",
              " 'cookies',\n",
              " 'couscous',\n",
              " '!',\n",
              " 'chocolate',\n",
              " 'first',\n",
              " 'easy',\n",
              " 'tasty',\n",
              " 'nice',\n",
              " 'more',\n",
              " 'been',\n",
              " 'sweet',\n",
              " 'me',\n",
              " 'mix',\n",
              " 'little',\n",
              " 'than',\n",
              " 'sauce',\n",
              " 'much',\n",
              " 'about',\n",
              " 'make',\n",
              " 'used',\n",
              " 'delicious',\n",
              " 'use',\n",
              " 'what',\n",
              " 'box',\n",
              " 'no',\n",
              " 'crackers',\n",
              " 'some',\n",
              " 'out',\n",
              " 'because',\n",
              " 'were',\n",
              " 'tastes',\n",
              " 'fan',\n",
              " 'there',\n",
              " 'sugar',\n",
              " 'always',\n",
              " 'do',\n",
              " 'would',\n",
              " 'bit',\n",
              " 'them',\n",
              " 'free',\n",
              " 'green',\n",
              " 'lipton',\n",
              " 'quite',\n",
              " 'am',\n",
              " 'energy',\n",
              " 'pretty',\n",
              " 'up',\n",
              " 'too',\n",
              " 'other',\n",
              " 'seasoning',\n",
              " 'bag',\n",
              " 'by',\n",
              " 'made',\n",
              " 'fruit',\n",
              " 'try',\n",
              " 'knorr',\n",
              " 'family',\n",
              " 'our',\n",
              " 'whole',\n",
              " 'enjoy',\n",
              " 'chips',\n",
              " 'cheese',\n",
              " 'snack',\n",
              " 'makes',\n",
              " 'mates',\n",
              " 'best',\n",
              " 'tasting',\n",
              " 'popcorn',\n",
              " 'comes',\n",
              " 'flavors',\n",
              " 'never',\n",
              " 'different',\n",
              " 'trying',\n",
              " 'didnt',\n",
              " 'organic',\n",
              " 'bars',\n",
              " 'cup',\n",
              " 'bar',\n",
              " 'only',\n",
              " 'many',\n",
              " 'dont',\n",
              " 'cinnamon',\n",
              " 'time',\n",
              " 'snacks',\n",
              " 'hot',\n",
              " 'lot',\n",
              " 'texture',\n",
              " 'most',\n",
              " 'coconut',\n",
              " 'go',\n",
              " 'since',\n",
              " 'big',\n",
              " 'which',\n",
              " 'eat',\n",
              " 'apple',\n",
              " 'new',\n",
              " 'liked',\n",
              " 'after',\n",
              " 'both',\n",
              " 'get',\n",
              " 'package',\n",
              " 'will',\n",
              " 'any',\n",
              " 'garlic',\n",
              " 'thought',\n",
              " 'brand',\n",
              " 'while',\n",
              " 'perfect',\n",
              " 'few',\n",
              " 'chicken',\n",
              " 'think',\n",
              " 'dish',\n",
              " 'bags',\n",
              " 'review',\n",
              " 'years',\n",
              " 'food',\n",
              " 'find',\n",
              " 'each',\n",
              " 'favorite',\n",
              " 'regular',\n",
              " 'quality',\n",
              " 'gluten',\n",
              " 'right',\n",
              " 'quick',\n",
              " 'without',\n",
              " 'their',\n",
              " 'better',\n",
              " 'well',\n",
              " 'how',\n",
              " 'butter',\n",
              " 'looking',\n",
              " 'way',\n",
              " 'ounce',\n",
              " 'something',\n",
              " 'prepare',\n",
              " 'pack',\n",
              " 'your',\n",
              " 'oil',\n",
              " 'found',\n",
              " 'two',\n",
              " 'using',\n",
              " 'before',\n",
              " 'normally',\n",
              " 'drinks',\n",
              " 'enjoyed',\n",
              " 'say',\n",
              " 'ok',\n",
              " 'strong',\n",
              " 'being',\n",
              " 'healthy',\n",
              " 'wasnt',\n",
              " 'dressing',\n",
              " 'grain',\n",
              " 'spaghetti',\n",
              " 'products',\n",
              " 'black',\n",
              " 'ingredients',\n",
              " 'small',\n",
              " 'teas',\n",
              " 'flavored',\n",
              " 'contains',\n",
              " 'pearl',\n",
              " 'corn',\n",
              " 'crunchy',\n",
              " 'high',\n",
              " 'variety',\n",
              " 'also',\n",
              " 'however',\n",
              " 'usually',\n",
              " 'even',\n",
              " 'natural',\n",
              " 'size',\n",
              " 'honey',\n",
              " 'dark',\n",
              " 'surprised',\n",
              " 'decent',\n",
              " 'sure',\n",
              " 'hard',\n",
              " 'those',\n",
              " 'ginger',\n",
              " 'soup',\n",
              " '?',\n",
              " 'loved',\n",
              " 'diet',\n",
              " 'caramel',\n",
              " 'amazon',\n",
              " 'oatmeal',\n",
              " 'ever',\n",
              " 'huge',\n",
              " 'beverage',\n",
              " 'did',\n",
              " 'received',\n",
              " 'actually',\n",
              " 'plain',\n",
              " 'cheddar',\n",
              " 'sides',\n",
              " 'cereal',\n",
              " 'pleasant',\n",
              " 'house',\n",
              " 'who',\n",
              " 'come',\n",
              " 'several',\n",
              " 'meal',\n",
              " 'white',\n",
              " 'having',\n",
              " 'pretzels',\n",
              " 'graham',\n",
              " 'cookie',\n",
              " 'real',\n",
              " 'version',\n",
              " 'know',\n",
              " 'dried',\n",
              " 'idea',\n",
              " 'packets',\n",
              " 'prefer',\n",
              " 'vine',\n",
              " 'noodles',\n",
              " 'does',\n",
              " 'could',\n",
              " 'fresh',\n",
              " 'vanilla',\n",
              " 'bottle',\n",
              " 'youre',\n",
              " 'creamy',\n",
              " 'lemonade',\n",
              " 'nothing',\n",
              " 'caffeine',\n",
              " 'instant',\n",
              " 'baby',\n",
              " 'purchased',\n",
              " 'formula',\n",
              " 'ranch',\n",
              " 'off',\n",
              " 'now',\n",
              " 'mio',\n",
              " 'over',\n",
              " 'things',\n",
              " 'alternative',\n",
              " 'absolutely',\n",
              " 'doesnt',\n",
              " 'thing',\n",
              " 'herbal',\n",
              " 'powder',\n",
              " 'plus',\n",
              " 'crunch',\n",
              " 'type',\n",
              " 'calories',\n",
              " 'give',\n",
              " 'light',\n",
              " 'bad',\n",
              " 'id',\n",
              " 'roasted',\n",
              " 'rather',\n",
              " 'thai',\n",
              " 'expect',\n",
              " 'serving',\n",
              " 'thin',\n",
              " 'lemon',\n",
              " 'cooked',\n",
              " 'combination',\n",
              " 'chai',\n",
              " 'cook',\n",
              " 'anything',\n",
              " 'keebler',\n",
              " 'convenient',\n",
              " 'add',\n",
              " 'tuna',\n",
              " 'home',\n",
              " 'protein',\n",
              " 'oz',\n",
              " 'spicy',\n",
              " 'keurig',\n",
              " 'foods',\n",
              " 'still',\n",
              " 'original',\n",
              " 'tasted',\n",
              " 'mac',\n",
              " 'eaten',\n",
              " 'varieties',\n",
              " 'brown',\n",
              " 'traditional',\n",
              " 'pastas',\n",
              " 'flavorful',\n",
              " 'quinoa',\n",
              " 'bought',\n",
              " 'italian',\n",
              " 'three',\n",
              " 'definitely',\n",
              " 'salty',\n",
              " 'need',\n",
              " 'isnt',\n",
              " 'here',\n",
              " 'v',\n",
              " 'buy',\n",
              " 'far',\n",
              " 'granola',\n",
              " 'convenience',\n",
              " 'mixed',\n",
              " 'weve',\n",
              " 'cracker',\n",
              " 'often',\n",
              " 'sardines',\n",
              " 'excited',\n",
              " 'chipotle',\n",
              " 'milk',\n",
              " 'calorie',\n",
              " 'program',\n",
              " 'bumble',\n",
              " 'eating',\n",
              " 'bee',\n",
              " 'into',\n",
              " 'juice',\n",
              " 'people',\n",
              " 'long',\n",
              " 'thats',\n",
              " 'stuff',\n",
              " 'mild',\n",
              " 'fruity',\n",
              " 'amazing',\n",
              " 'expected',\n",
              " 'got',\n",
              " 'grains',\n",
              " 'fun',\n",
              " 'own',\n",
              " 'crisp',\n",
              " 'roast',\n",
              " 'cups',\n",
              " 'flour',\n",
              " 'making',\n",
              " 'half',\n",
              " 'kernel',\n",
              " 'seasons',\n",
              " 'occasionally',\n",
              " 'microwave',\n",
              " 'red',\n",
              " 'peach',\n",
              " 'day',\n",
              " 'dry',\n",
              " 'almonds',\n",
              " 'through',\n",
              " 'peanut',\n",
              " 'want',\n",
              " 'salt',\n",
              " 'glutenfree',\n",
              " 'wheat',\n",
              " 'similar',\n",
              " 'says',\n",
              " 'quaker',\n",
              " 'pyramid',\n",
              " 'fudge',\n",
              " 'enough',\n",
              " 'available',\n",
              " 'linguine',\n",
              " 'normal',\n",
              " 'campbells',\n",
              " 'theyre',\n",
              " 'amount',\n",
              " 'choice',\n",
              " 'cheesy',\n",
              " 'line',\n",
              " 'parmesan',\n",
              " 'iced',\n",
              " 'arent',\n",
              " 'wanted',\n",
              " 'especially',\n",
              " 'happy',\n",
              " 'times',\n",
              " 'packaging',\n",
              " 'almost',\n",
              " 'packet',\n",
              " 'breakfast',\n",
              " 'broccoli',\n",
              " 'simple',\n",
              " 'style',\n",
              " 'seems',\n",
              " 'okay',\n",
              " 'pleased',\n",
              " 'peppermint',\n",
              " 'curry',\n",
              " 'either',\n",
              " 'cocoa',\n",
              " 'days',\n",
              " 'excellent',\n",
              " 'baked',\n",
              " 'macaroni',\n",
              " 'lunch',\n",
              " 'low',\n",
              " 'see',\n",
              " 'sort',\n",
              " 'take',\n",
              " 'cut',\n",
              " 'back',\n",
              " 'kids',\n",
              " 'every',\n",
              " 'until',\n",
              " 'then',\n",
              " 'hopes',\n",
              " 'taco',\n",
              " 'kind',\n",
              " 'decided',\n",
              " 'packaged',\n",
              " 'less',\n",
              " 'going',\n",
              " 'friends',\n",
              " 'nacho',\n",
              " 'wonderful',\n",
              " 'overall',\n",
              " 'reviews',\n",
              " 'brands',\n",
              " 'cooks',\n",
              " 'wow',\n",
              " 'same',\n",
              " 'vegetables',\n",
              " 'drinking',\n",
              " 'generally',\n",
              " 'added',\n",
              " 'person',\n",
              " 'single',\n",
              " 'servings',\n",
              " 'sometimes',\n",
              " 'mango',\n",
              " 'experience',\n",
              " 'kettle',\n",
              " 'container',\n",
              " 'expecting',\n",
              " 'may',\n",
              " 'name',\n",
              " 'fantastic',\n",
              " 'price',\n",
              " 'pleasantly',\n",
              " 'least',\n",
              " 'penne',\n",
              " 'adding',\n",
              " 'minutes',\n",
              " 'another',\n",
              " 'miss',\n",
              " 'candy',\n",
              " 'daughter',\n",
              " 'care',\n",
              " 'put',\n",
              " 'top',\n",
              " 'apples',\n",
              " 'crispy',\n",
              " 'trail',\n",
              " 'higgins',\n",
              " 'yet',\n",
              " 'dinner',\n",
              " 'ill',\n",
              " 'salad',\n",
              " 'seem',\n",
              " 'instead',\n",
              " 'tomato',\n",
              " 'theres',\n",
              " 'fact',\n",
              " 'pomegranate',\n",
              " 'bland',\n",
              " 'bell',\n",
              " 'liptons',\n",
              " 'puerh',\n",
              " 'syrup',\n",
              " 'burke',\n",
              " 'ounces',\n",
              " 'grew',\n",
              " 'blend',\n",
              " 'open',\n",
              " 'ago',\n",
              " 'needs',\n",
              " 'cheezit',\n",
              " 'mostly',\n",
              " 'types',\n",
              " 'recently',\n",
              " 'pita',\n",
              " 'should',\n",
              " 'potato',\n",
              " 'aloe',\n",
              " 'gourmet',\n",
              " 'although',\n",
              " 'salsa',\n",
              " 'blackberry',\n",
              " 'clusters',\n",
              " 'cheezits',\n",
              " 'down',\n",
              " 'pouch',\n",
              " 'impressed',\n",
              " 'particular',\n",
              " 'switch',\n",
              " 'kcup',\n",
              " 'certainly',\n",
              " 'husband',\n",
              " 'olive',\n",
              " 'stove',\n",
              " 'work',\n",
              " 'based',\n",
              " 'cold',\n",
              " 'baking',\n",
              " 'pilaf',\n",
              " 'ready',\n",
              " 'mixes',\n",
              " 'powdered',\n",
              " 'around',\n",
              " 'extra',\n",
              " 'numi',\n",
              " 'per',\n",
              " 'prepared',\n",
              " 'awful',\n",
              " 'bacon',\n",
              " 'beans',\n",
              " 'seeds',\n",
              " 'mayonnaise',\n",
              " 'homemade',\n",
              " 'full',\n",
              " 'simply',\n",
              " 'havent',\n",
              " 'might',\n",
              " 'together',\n",
              " 'pamelas',\n",
              " 'maybe',\n",
              " 'chewy',\n",
              " 'hate',\n",
              " 'boil',\n",
              " 'morning',\n",
              " 'liquid',\n",
              " 'soda',\n",
              " 'year',\n",
              " 'opened',\n",
              " 'though',\n",
              " 'pieces',\n",
              " 'child',\n",
              " 'lots',\n",
              " 'interesting',\n",
              " 'given',\n",
              " 'benefits',\n",
              " 'despite',\n",
              " 'case',\n",
              " 'cream',\n",
              " 'let',\n",
              " 'mi',\n",
              " 'arrived',\n",
              " 'perfectly',\n",
              " 'arroz',\n",
              " 'reading',\n",
              " 'pretzel',\n",
              " 'squeeze',\n",
              " 'fairly',\n",
              " 'couldnt',\n",
              " 'dip',\n",
              " 'dishes',\n",
              " 'she',\n",
              " 'multigrain',\n",
              " 'refreshing',\n",
              " 'lately',\n",
              " 'blueberry',\n",
              " 'brew',\n",
              " 'usual',\n",
              " 'appearance',\n",
              " 'hit',\n",
              " 'pop',\n",
              " 'sticks',\n",
              " 'portable',\n",
              " 'start',\n",
              " 'someone',\n",
              " 'world',\n",
              " 'contain',\n",
              " 'went',\n",
              " 'smell',\n",
              " 'shape',\n",
              " 'point',\n",
              " 'today',\n",
              " 'chili',\n",
              " 'crisps',\n",
              " 'regularly',\n",
              " 'loves',\n",
              " 'rich',\n",
              " 'item',\n",
              " 'sweetened',\n",
              " 'gratify',\n",
              " 'describe',\n",
              " 'natures',\n",
              " 'sweets',\n",
              " 'takes',\n",
              " 'cooking',\n",
              " 'aldente',\n",
              " 'kcups',\n",
              " 'everyone',\n",
              " 'must',\n",
              " 'health',\n",
              " 'clean',\n",
              " 'believe',\n",
              " 'last',\n",
              " 'kit',\n",
              " 'boils',\n",
              " 'mint',\n",
              " 'soft',\n",
              " 'part',\n",
              " 'handy',\n",
              " 'special',\n",
              " 'couple',\n",
              " 'easily',\n",
              " 'includes',\n",
              " 'hand',\n",
              " 'itself',\n",
              " 'exception',\n",
              " 'relatively',\n",
              " 'look',\n",
              " 'why',\n",
              " 'else',\n",
              " 'larger',\n",
              " 'smooth',\n",
              " 'vitamin',\n",
              " 'lightly',\n",
              " 'such',\n",
              " 'sample',\n",
              " 'fish',\n",
              " 'except',\n",
              " 'berry',\n",
              " 'away',\n",
              " 'meals',\n",
              " 'kinds',\n",
              " 'served',\n",
              " 'recipe',\n",
              " 'caffeinated',\n",
              " 'keep',\n",
              " 'orville',\n",
              " 'ahoy',\n",
              " 'swiss',\n",
              " 'boxes',\n",
              " 'illy',\n",
              " 'past',\n",
              " 'grahams',\n",
              " 'boxed',\n",
              " 'myself',\n",
              " 'slightly',\n",
              " 'others',\n",
              " 'basic',\n",
              " 'designed',\n",
              " 'promises',\n",
              " 'guess',\n",
              " 'carbonated',\n",
              " 'fruits',\n",
              " 'star',\n",
              " 'sounds',\n",
              " 'squeezable',\n",
              " 'avitae',\n",
              " 'kid',\n",
              " 'old',\n",
              " 'kelloggs',\n",
              " 'issimo',\n",
              " 'quickly',\n",
              " 'matters',\n",
              " 'filling',\n",
              " 'nutrition',\n",
              " 'duende',\n",
              " 'el',\n",
              " 'oven',\n",
              " 'fast',\n",
              " 'stomach',\n",
              " 'creole',\n",
              " 'provide',\n",
              " 'admit',\n",
              " 'packages',\n",
              " 'reusable',\n",
              " 'wishbone',\n",
              " 'pepper',\n",
              " 'ones',\n",
              " 'pleasing',\n",
              " 'medley',\n",
              " 'caramels',\n",
              " 'he',\n",
              " 'punch',\n",
              " 'orange',\n",
              " 'beautiful',\n",
              " 'fair',\n",
              " 'soups',\n",
              " 'packs',\n",
              " 'brewed',\n",
              " 'addition',\n",
              " 'sodium',\n",
              " 'took',\n",
              " 'various',\n",
              " 'store',\n",
              " 'familiar',\n",
              " 'recent',\n",
              " 'super',\n",
              " 'enamored',\n",
              " 'tomatoes',\n",
              " 'chia',\n",
              " 'forward',\n",
              " 'us',\n",
              " 'treat',\n",
              " 'nuts',\n",
              " 'soy',\n",
              " 'standard',\n",
              " 'test',\n",
              " 'fiber',\n",
              " 'ended',\n",
              " 'choose',\n",
              " 'general',\n",
              " 'second',\n",
              " 'ordered',\n",
              " 'popchips',\n",
              " 'nicely',\n",
              " 'chance',\n",
              " 'remove',\n",
              " 'odd',\n",
              " 'totally',\n",
              " 'nut',\n",
              " 'spread',\n",
              " 'sauces',\n",
              " 'average',\n",
              " 'portion',\n",
              " 'anyone',\n",
              " 'read',\n",
              " 'peeled',\n",
              " 'tell',\n",
              " 'minute',\n",
              " 'offers',\n",
              " 'cashews',\n",
              " 'sour',\n",
              " 'canned',\n",
              " 'serve',\n",
              " 'including',\n",
              " 'lasagne',\n",
              " 'drinker',\n",
              " 'werthers',\n",
              " 'strawberry',\n",
              " 'description',\n",
              " 'known',\n",
              " 'buying',\n",
              " 'recipes',\n",
              " 'spices',\n",
              " 'msg',\n",
              " 'k',\n",
              " 'yummy',\n",
              " 'cant',\n",
              " 'fini',\n",
              " 'came',\n",
              " 'puffs',\n",
              " 'adult',\n",
              " 'mg',\n",
              " 'options',\n",
              " 'fine',\n",
              " 'medium',\n",
              " 'seen',\n",
              " 'glad',\n",
              " 'large',\n",
              " 'taken',\n",
              " 'reminds',\n",
              " 'enhancer',\n",
              " 'opinion',\n",
              " 'whether',\n",
              " 'opportunity',\n",
              " 'chip',\n",
              " 'ate',\n",
              " 'between',\n",
              " 'sweetness',\n",
              " 'feel',\n",
              " 'thick',\n",
              " 'garden',\n",
              " 'ingredient',\n",
              " 'higher',\n",
              " 'covered',\n",
              " 'claims',\n",
              " 'comparison',\n",
              " 'finally',\n",
              " 'chunks',\n",
              " 'expensive',\n",
              " 'smokehouse',\n",
              " 'primarily',\n",
              " 'gives',\n",
              " 'smells',\n",
              " 'call',\n",
              " 'path',\n",
              " 'saying',\n",
              " 'culinary',\n",
              " 'seasoned',\n",
              " 'filter',\n",
              " 'kashi',\n",
              " 'nearly',\n",
              " 'snikiddy',\n",
              " 'probably',\n",
              " 'purchase',\n",
              " 'short',\n",
              " 'sampler',\n",
              " 'classic',\n",
              " 'color',\n",
              " 'nawgan',\n",
              " 'mushroom',\n",
              " 'peppers',\n",
              " 'tuscan',\n",
              " 'exactly',\n",
              " 'brought',\n",
              " 'bits',\n",
              " 'reminiscent',\n",
              " 'solid',\n",
              " 'supermarket',\n",
              " 'strange',\n",
              " 'cardamom',\n",
              " 'n',\n",
              " 'fusion',\n",
              " 'allow',\n",
              " 'again',\n",
              " 'tiny',\n",
              " 'lasagna',\n",
              " 'paper',\n",
              " 'important',\n",
              " 'scent',\n",
              " 'goes',\n",
              " 'wide',\n",
              " 'felt',\n",
              " 'surprise',\n",
              " 'microwavable',\n",
              " 'lovely',\n",
              " 'cute',\n",
              " 'zingz',\n",
              " 'starbucks',\n",
              " 'bite',\n",
              " 'turned',\n",
              " 'oats',\n",
              " 'hint',\n",
              " 'beverages',\n",
              " 'twinings',\n",
              " 'heat',\n",
              " 'rings',\n",
              " 'hours',\n",
              " 'fluffy',\n",
              " 'consider',\n",
              " 'months',\n",
              " 'system',\n",
              " 'pre',\n",
              " 'assortment',\n",
              " 'receiving',\n",
              " 'hubby',\n",
              " 'dominant',\n",
              " 'jalapeno',\n",
              " 'recommended',\n",
              " 'tend',\n",
              " 'roasting',\n",
              " 'shelf',\n",
              " 'loaded',\n",
              " 'healthier',\n",
              " 'oat',\n",
              " 'truly',\n",
              " 'expectations',\n",
              " 'compare',\n",
              " 'wont',\n",
              " 'jar',\n",
              " 'flavoring',\n",
              " 'pot',\n",
              " 'wouldnt',\n",
              " 'positive',\n",
              " 'noticed',\n",
              " 'maker',\n",
              " 'grocery',\n",
              " 'concept',\n",
              " 'individual',\n",
              " 'allows',\n",
              " 'completely',\n",
              " 'picky',\n",
              " 'deal',\n",
              " 'end',\n",
              " 'herb',\n",
              " 'already',\n",
              " 'life',\n",
              " 'considering',\n",
              " 'dislike',\n",
              " 'certified',\n",
              " 'supplement',\n",
              " 'matcha',\n",
              " 'touch',\n",
              " 'market',\n",
              " 'office',\n",
              " 'typical',\n",
              " 'toddler',\n",
              " 'produced',\n",
              " 'able',\n",
              " 'night',\n",
              " 'decaffeinated',\n",
              " 'discovered',\n",
              " 'form',\n",
              " 'beach',\n",
              " 'hellmanns',\n",
              " 'south',\n",
              " 'gave',\n",
              " 'grainy',\n",
              " 'spice',\n",
              " 'peanuts',\n",
              " 'raisins',\n",
              " 'twists',\n",
              " 'cow',\n",
              " 'pantry',\n",
              " 'interested',\n",
              " 'seasonings',\n",
              " 'kick',\n",
              " 'complete',\n",
              " 'ph',\n",
              " 'tassimo',\n",
              " 'walnut',\n",
              " 'mind',\n",
              " 'popular',\n",
              " 'shell',\n",
              " 'gooey',\n",
              " 'consists',\n",
              " 'youngsters',\n",
              " 'medleys',\n",
              " 'suggest',\n",
              " 'shot',\n",
              " 'week',\n",
              " 'fit',\n",
              " 'awesome',\n",
              " 'grab',\n",
              " 'berries',\n",
              " 'due',\n",
              " 'room',\n",
              " 'sized',\n",
              " 'juices',\n",
              " 'hesitant',\n",
              " 'versatile',\n",
              " 'growing',\n",
              " 'local',\n",
              " 'course',\n",
              " 'perhaps',\n",
              " 'typically',\n",
              " 'her',\n",
              " 'glass',\n",
              " 'done',\n",
              " 'nutritionist',\n",
              " 'pocket',\n",
              " 'choices',\n",
              " 'yum',\n",
              " 'scratch',\n",
              " 'bake',\n",
              " 'linguini',\n",
              " 'wafers',\n",
              " 'hoping',\n",
              " 'change',\n",
              " 'directed',\n",
              " 'weird',\n",
              " 'aftertaste',\n",
              " ...]"
            ]
          },
          "execution_count": 39,
          "metadata": {},
          "output_type": "execute_result"
        }
      ],
      "source": [
        "embedding_matrix.index_to_key"
      ]
    },
    {
      "cell_type": "code",
      "execution_count": 40,
      "metadata": {},
      "outputs": [
        {
          "data": {
            "text/plain": [
              "(1671, 300)"
            ]
          },
          "execution_count": 40,
          "metadata": {},
          "output_type": "execute_result"
        }
      ],
      "source": [
        "# vocab_size is equal to full_embedding_matrix shape[0]\n",
        "special_token_embedding = np.random.rand(4,embedding_matrix.vector_size)\n",
        "full_embedding_matrix = np.concatenate((special_token_embedding,embedding_matrix.vectors))\n",
        "full_embedding_matrix.shape"
      ]
    },
    {
      "cell_type": "code",
      "execution_count": 41,
      "metadata": {},
      "outputs": [],
      "source": [
        "# example\n",
        "# embedding_matrix['keep']"
      ]
    },
    {
      "cell_type": "markdown",
      "metadata": {
        "id": "PVT3Ur54LsIz"
      },
      "source": [
        "# **Text Vectorization**"
      ]
    },
    {
      "cell_type": "code",
      "execution_count": 42,
      "metadata": {},
      "outputs": [
        {
          "name": "stdout",
          "output_type": "stream",
          "text": [
            "number of batches in train data 56\n",
            "number of batches in test data 6\n"
          ]
        }
      ],
      "source": [
        "# hyperparameter\n",
        "\n",
        "batch_size = 32 # for seq2seq model\n",
        "batch_size_test = 32 # for seq2seq model\n",
        "num_batches=int(train_df.shape[0]/batch_size)\n",
        "num_batches_test=int(test_df.shape[0]/batch_size_test)\n",
        "print(\"number of batches in train data\",num_batches)\n",
        "print(\"number of batches in test data\",num_batches_test)"
      ]
    },
    {
      "cell_type": "markdown",
      "metadata": {},
      "source": [
        "## **Preprocessing**"
      ]
    },
    {
      "cell_type": "code",
      "execution_count": 43,
      "metadata": {},
      "outputs": [],
      "source": [
        "def tf_lower_and_split_punct_enc(text):\n",
        "  text = tf_text.normalize_utf8(text, 'NFKD')\n",
        "  text = tf.strings.lower(text)\n",
        "  text = tf.strings.regex_replace(text, '[^ a-z.?!,¿]', '')\n",
        "  text = tf.strings.regex_replace(text, '[.?!,¿]', r' \\0 ')\n",
        "  text = tf.strings.strip(text)\n",
        "  text = tf.strings.join(['[START]', text, '[END]'], separator=' ')\n",
        "  return text\n",
        "\n",
        "\n",
        "def tf_lower_and_split_punct_decin(text):\n",
        "  text = tf_text.normalize_utf8(text, 'NFKD')\n",
        "  text = tf.strings.lower(text)\n",
        "  text = tf.strings.regex_replace(text, '[^ a-z.?!,¿]', '')\n",
        "  text = tf.strings.regex_replace(text, '[.?!,¿]', r' \\0 ')\n",
        "  text = tf.strings.strip(text)\n",
        "  text = tf.strings.join(['[START]', text], separator=' ') \n",
        "  return text\n",
        "\n",
        "\n",
        "def tf_lower_and_split_punct_decout(text):\n",
        "  text = tf_text.normalize_utf8(text, 'NFKD')\n",
        "  text = tf.strings.lower(text)\n",
        "  text = tf.strings.regex_replace(text, '[^ a-z.?!,¿]', '')\n",
        "  text = tf.strings.regex_replace(text, '[.?!,¿]', r' \\0 ')\n",
        "  text = tf.strings.strip(text)\n",
        "  text = tf.strings.join([ text, '[END]'], separator=' ')\n",
        "  return text\n",
        "\n"
      ]
    },
    {
      "cell_type": "markdown",
      "metadata": {},
      "source": [
        "## Vectorization layer"
      ]
    },
    {
      "cell_type": "markdown",
      "metadata": {
        "id": "N4QVJNF8EGGe"
      },
      "source": [
        "- The conversion of tokens to ids"
      ]
    },
    {
      "cell_type": "code",
      "execution_count": 44,
      "metadata": {},
      "outputs": [],
      "source": [
        "enc_input_processor = tf.keras.layers.TextVectorization( max_tokens = max_vocab_size,\n",
        "                                                     standardize = tf_lower_and_split_punct_enc,\n",
        "                                                     output_sequence_length = sequence_length,  )\n",
        "dec_input_processor = tf.keras.layers.TextVectorization( max_tokens = max_vocab_size,\n",
        "                                                     standardize = tf_lower_and_split_punct_decin,\n",
        "                                                     output_sequence_length = sequence_length,  )\n",
        "\n",
        "dec_output_processor = tf.keras.layers.TextVectorization( max_tokens = max_vocab_size,\n",
        "                                                     standardize = tf_lower_and_split_punct_decout,\n",
        "                                                     output_sequence_length = sequence_length,  )"
      ]
    },
    {
      "cell_type": "code",
      "execution_count": 45,
      "metadata": {},
      "outputs": [],
      "source": [
        "enc_input_processor.set_vocabulary(['','[UNK]','[START]','[END]'] +  embedding_matrix.index_to_key )\n",
        "dec_input_processor.set_vocabulary(['','[UNK]','[START]','[END]'] +  embedding_matrix.index_to_key )\n",
        "dec_output_processor.set_vocabulary(['','[UNK]','[START]','[END]'] +  embedding_matrix.index_to_key )"
      ]
    },
    {
      "cell_type": "code",
      "execution_count": 48,
      "metadata": {},
      "outputs": [
        {
          "name": "stdout",
          "output_type": "stream",
          "text": [
            "266\n",
            "italian\n"
          ]
        }
      ],
      "source": [
        "print(enc_input_processor.get_vocabulary().index('come'))\n",
        "print(enc_input_processor.get_vocabulary()[351])"
      ]
    },
    {
      "cell_type": "code",
      "execution_count": 49,
      "metadata": {},
      "outputs": [
        {
          "name": "stdout",
          "output_type": "stream",
          "text": [
            "input_text_processor vocab size : 1671\n",
            "['', '[UNK]', '[START]', '[END]', 'i', '.', ',', 'the', 'a', 'this', 'and', 'of', 'is', 'to', 'it', 'in']\n",
            "The soup I tried was the red pepper with Gouda. The taste was basically very good and then came the exceptions. After a few spoonfuls I had something unidentifiable - hard in my mouth. This happened twice. I still cannot figure out what it was. It was the size of a piece of uncooked rice, but no ric\n",
            "tf.Tensor(\n",
            "[   7  246    4   41   24    7  400  728   22 1198    5    7   37   24\n",
            " 1146   36   28   10], shape=(18,), dtype=int64)\n"
          ]
        }
      ],
      "source": [
        "# included sos, eos, unk and space \n",
        "print(\"input_text_processor vocab size :\" ,len(enc_input_processor.get_vocabulary()))\n",
        "# Here are the first 16 words from the vocabulary:\n",
        "print(enc_input_processor.get_vocabulary()[:16])\n",
        "print(df['reviewText'][0][:300])\n",
        "print(dec_output_processor(  df['reviewText'][0]))"
      ]
    },
    {
      "cell_type": "markdown",
      "metadata": {},
      "source": [
        "# **TF-IDF Matrix**"
      ]
    },
    {
      "cell_type": "code",
      "execution_count": 50,
      "metadata": {},
      "outputs": [
        {
          "name": "stdout",
          "output_type": "stream",
          "text": [
            "the length of tf-idf vocab 1665\n",
            "['', '?', ',', '[START]', '[END]', '!', '.']\n",
            "[',', '?', '.', '!']\n"
          ]
        }
      ],
      "source": [
        "with tf.device('/CPU:0'):\n",
        "\n",
        "  tfidf_calculator = tf.keras.layers.TextVectorization(\n",
        "    max_tokens  = max_vocab_size,\n",
        "    output_mode ='tf-idf',\n",
        "    pad_to_max_tokens = True  \n",
        "    )\n",
        "  tfidf_calculator.adapt(enc_input_processor.get_vocabulary()[:] )\n",
        "  print(\"the length of tf-idf vocab\",len(tfidf_calculator.get_vocabulary()))\n",
        "  print( list(set(enc_input_processor.get_vocabulary())-set(tfidf_calculator.get_vocabulary()))[:9])\n",
        "  print( list(set(embedding_matrix.index_to_key)-set(tfidf_calculator.get_vocabulary()))[:9])\n"
      ]
    },
    {
      "cell_type": "code",
      "execution_count": 51,
      "metadata": {},
      "outputs": [],
      "source": [
        "# with tf.device('/CPU:0'):\n",
        "\n",
        "#     user_tfidf = list( map(tfidf_calculator, user_corpus))\n",
        "#     item_tfidf = list( map(tfidf_calculator, item_corpus))\n"
      ]
    },
    {
      "cell_type": "markdown",
      "metadata": {},
      "source": [
        "# **Forming Dataset**"
      ]
    },
    {
      "cell_type": "code",
      "execution_count": 52,
      "metadata": {},
      "outputs": [],
      "source": [
        "# convert string id to int id\n",
        "user_to_row = {}\n",
        "item_to_column = {}\n",
        "\n",
        "for i, user_id in enumerate(np.unique(df['userID'])):\n",
        "    user_to_row[user_id] = i\n",
        "\n",
        "for j, item_id in enumerate(np.unique(df['itemID'].tolist())):\n",
        "    item_to_column[item_id] = j"
      ]
    },
    {
      "cell_type": "code",
      "execution_count": 53,
      "metadata": {},
      "outputs": [],
      "source": [
        "train_ds_seq = tf.data.Dataset.from_tensor_slices(\n",
        "    (\n",
        "       [user_to_row[dp] for dp in df['userID']],\n",
        "       [item_to_column[dp] for dp in df['itemID']],\n",
        "       tf.cast(dec_input_processor(df['reviewText']),dtype=tf.int32),\n",
        "       tf.cast(dec_output_processor(df['reviewText']),dtype=tf.int32)       \n",
        "    )\n",
        ").shuffle(131072).batch(batch_size,drop_remainder=True)\n",
        "# test_ds_seq = tf.data.Dataset.from_tensor_slices(\n",
        "#     (\n",
        "#       [user_to_row[dp] for dp in test_df['userID']],\n",
        "#       [item_to_column[dp] for dp in test_df['itemID']],\n",
        "#       tf.cast(dec_input_processor(test_df['reviewText']),dtype=tf.int32),\n",
        "#       tf.cast(dec_output_processor(test_df['reviewText']),dtype=tf.int32)         \n",
        "#     )\n",
        "# ).shuffle(16384).batch(batch_size_test,drop_remainder=True)\n",
        "\n",
        "train_ds_pmf = tf.data.Dataset.from_tensor_slices(\n",
        "    (\n",
        "       [user_to_row[dp] for dp in train_df['userID']],\n",
        "       [item_to_column[dp] for dp in train_df['itemID']],\n",
        "       tf.cast(train_df['rating'],dtype=tf.float16)\n",
        "    )\n",
        ").shuffle(131072).batch(1024)\n",
        "test_ds_pmf = tf.data.Dataset.from_tensor_slices(\n",
        "    (\n",
        "      [user_to_row[dp] for dp in test_df['userID']],\n",
        "      [item_to_column[dp] for dp in test_df['itemID']],\n",
        "      tf.cast(test_df['rating'],dtype=tf.float16)\n",
        "    )\n",
        ").shuffle(16384).batch(64)"
      ]
    },
    {
      "cell_type": "code",
      "execution_count": 54,
      "metadata": {},
      "outputs": [
        {
          "name": "stdout",
          "output_type": "stream",
          "text": [
            "train and test data number :  1795  ,  199\n"
          ]
        }
      ],
      "source": [
        "train_data_num=train_df.shape[0]\n",
        "test_data_num=test_df.shape[0]\n",
        "print(\"train and test data number : \",train_data_num,\" , \",test_data_num)"
      ]
    },
    {
      "cell_type": "markdown",
      "metadata": {
        "id": "cV4PGxjttli6"
      },
      "source": [
        "# **User and Item Documents**"
      ]
    },
    {
      "cell_type": "markdown",
      "metadata": {
        "id": "6BwcnBKDxVMk"
      },
      "source": [
        "**User Documents**"
      ]
    },
    {
      "cell_type": "code",
      "execution_count": 55,
      "metadata": {},
      "outputs": [],
      "source": [
        "user_doc = list( map(enc_input_processor,[doc[:document_length] for doc in user_df['reviewText']]))"
      ]
    },
    {
      "cell_type": "markdown",
      "metadata": {
        "id": "SWDCul-D_N99"
      },
      "source": [
        "**Item Documents**"
      ]
    },
    {
      "cell_type": "code",
      "execution_count": 56,
      "metadata": {
        "id": "phoN10nsXZGc"
      },
      "outputs": [],
      "source": [
        "item_doc = list( map(enc_input_processor,[doc[:document_length] for doc in item_df['reviewText']]))"
      ]
    },
    {
      "cell_type": "code",
      "execution_count": 57,
      "metadata": {
        "id": "1G79SrZySBqJ"
      },
      "outputs": [
        {
          "data": {
            "text/plain": [
              "Text(0.5, 1.0, 'Mask')"
            ]
          },
          "execution_count": 57,
          "metadata": {},
          "output_type": "execute_result"
        },
        {
          "data": {
            "image/png": "[encoded data removed]",
            "text/plain": [
              "<Figure size 432x288 with 2 Axes>"
            ]
          },
          "metadata": {
            "needs_background": "light"
          },
          "output_type": "display_data"
        }
      ],
      "source": [
        "plt.subplot(1, 2, 1)\n",
        "plt.pcolormesh(item_doc[0])\n",
        "plt.title('Token IDs')\n",
        "\n",
        "plt.subplot(1, 2, 2)\n",
        "plt.pcolormesh(item_doc[0] != 0)\n",
        "plt.title('Mask')"
      ]
    },
    {
      "cell_type": "markdown",
      "metadata": {
        "id": "UbR2h5ML5h70"
      },
      "source": [
        "### Converting ID to Vector"
      ]
    },
    {
      "cell_type": "code",
      "execution_count": 58,
      "metadata": {},
      "outputs": [
        {
          "data": {
            "text/plain": [
              "\"A nutritionist recommended this cereal to me. It is high in protein and whole grains. It provides 20% of your daily protein and 40% of fiber. Some stats on it:- Non-GMO Project Verified- 9g Protein- 8g Fiber- 3g Fat per serving- 16g of Whole GrainsFor 3/4 cup, it is 190 calories and it has 13g of sugar.  The nutrition recommends to staying to 8g or under of sugar in cereal in general.  There is no actual sugar in the cereal, but there is cane syrup.  Ingredients include: Kashi Seven Whole Grains And Sesame Blend (Whole: Hard Red Wheat, Brown Rice, Barley, Triticale, Oats, Rye, Buckwheat, Sesame Seeds), Soy Flakes, Brown Rice Syrup, Dried Cane Syrup, Chicory Root Fiber, Whole Grain Oats, Expeller Pressed Canola Oil, Honey, Salt, Cinnamon, Mixed Tocopherols For Freshness.I wouldn't eat it every day as I try to keep my sugar low, but it's great when you want a crunchy and tasty treat for breakfast which fills you up.\""
            ]
          },
          "execution_count": 58,
          "metadata": {},
          "output_type": "execute_result"
        }
      ],
      "source": [
        "user_df['reviewText'][0][0]"
      ]
    },
    {
      "cell_type": "code",
      "execution_count": 59,
      "metadata": {},
      "outputs": [
        {
          "data": {
            "text/plain": [
              "'[START] a nutritionist recommended this cereal to me . it is high in protein and whole grains .'"
            ]
          },
          "execution_count": 59,
          "metadata": {},
          "output_type": "execute_result"
        }
      ],
      "source": [
        "input_vocab = enc_input_processor.get_vocabulary()\n",
        "\" \".join([input_vocab[id] for id in user_doc[0][0]])\n"
      ]
    },
    {
      "cell_type": "markdown",
      "metadata": {},
      "source": [
        "# **Metrics**"
      ]
    },
    {
      "cell_type": "code",
      "execution_count": 60,
      "metadata": {},
      "outputs": [],
      "source": [
        "# log files for training and test\n",
        "train_log_dir = 'logs/'  + '/train'\n",
        "train_summary_writer = tf.summary.create_file_writer(train_log_dir)\n",
        "adv_train_log_dir = 'logs/'  + '/adv_train'\n",
        "adv_train_summary_writer = tf.summary.create_file_writer(adv_train_log_dir)\n",
        "test_log_dir = 'logs/'  + '/test'\n",
        "test_summary_writer = tf.summary.create_file_writer(test_log_dir)\n",
        "graph_log_dir = 'logs/graph/'  \n",
        "graph_summary_writer = tf.summary.create_file_writer(graph_log_dir)"
      ]
    },
    {
      "cell_type": "code",
      "execution_count": 61,
      "metadata": {},
      "outputs": [],
      "source": [
        "class PerplexityMetric(tf.keras.metrics.Metric):\n",
        "    def __init__(self,name='perplexity',**kwargs):\n",
        "        super().__init__(name=name, **kwargs)\n",
        "        self.perplexity=self.add_weight(name='pl',initializer='zeros')\n",
        "\n",
        "    def update_state(self, nll_loss):\n",
        "        self.perplexity= 2 ** nll_loss\n",
        "\n",
        "    def result(self):\n",
        "        return self.perplexity\n",
        "\n",
        "        \n",
        "class MSE(tf.keras.metrics.Metric):\n",
        "    def __init__(self,name='MSE',**kwargs):\n",
        "        super().__init__(name=name, **kwargs)\n",
        "        self.mse=self.add_weight(name='mse',initializer='zeros')\n",
        "\n",
        "    def update_state(self,mse):\n",
        "        self.mse =  mse\n",
        "\n",
        "    def result(self):\n",
        "        return self.mse\n"
      ]
    },
    {
      "cell_type": "code",
      "execution_count": 62,
      "metadata": {},
      "outputs": [],
      "source": [
        "\n",
        "train_plx_gen_tch = PerplexityMetric(name='train teacher forcing perplexity')  # teacher forcing mode\n",
        "train_plx_gen_plc = PerplexityMetric(name='train policy gradient perplexity')  # policy gradient mode\n",
        "test_plx_gen = PerplexityMetric(name='test perplexity')  \n",
        "train_acc_dis = tf.keras.metrics.BinaryAccuracy(threshold=0.5)\n",
        "train_mse = MSE(name='trian mse')\n",
        "test_mse = MSE(name='test mse')"
      ]
    },
    {
      "cell_type": "markdown",
      "metadata": {},
      "source": [
        "# **Context-aware Matrix Factorization for Rating Prediction**"
      ]
    },
    {
      "cell_type": "code",
      "execution_count": 63,
      "metadata": {},
      "outputs": [],
      "source": [
        "#hyperparameters\n",
        "num_users=len(user_to_row)\n",
        "num_items=len(item_to_column)\n",
        "mean_inv = np.float32( train_df['rating'].mean())\n",
        "\n"
      ]
    },
    {
      "cell_type": "code",
      "execution_count": 64,
      "metadata": {},
      "outputs": [],
      "source": [
        "# hyperparameters\n",
        "feature_num=128 # number of topics\n",
        "units=int(feature_num/2 )# gru units"
      ]
    },
    {
      "cell_type": "code",
      "execution_count": 65,
      "metadata": {},
      "outputs": [],
      "source": [
        "# del df\n",
        "# del user_df\n",
        "# del item_df\n",
        "# del user_corpus[:]\n",
        "# del item_corpus[:]\n",
        "# del train_df\n",
        "# del test_df\n",
        "\n",
        "# gc.collect()\n",
        "# gc.collect(0)\n",
        "# gc.collect(1)\n",
        "# gc.collect(2)"
      ]
    },
    {
      "cell_type": "markdown",
      "metadata": {
        "id": "6uKWBtzhmMA5"
      },
      "source": [
        "## **PMF (Probabilistic Matrix Factorization)**"
      ]
    },
    {
      "cell_type": "code",
      "execution_count": 66,
      "metadata": {
        "id": "5JAoyyjOnJis"
      },
      "outputs": [],
      "source": [
        "class PMF():\n",
        "    def __init__(self, num_feat=16, epsilon=1, _lambda=0.2, momentum=0.8,  batch_size=1024,num_item=9000,num_user=15000,mean_inv=3.00000):\n",
        "        self.num_feat = num_feat  # Number of latent features,\n",
        "        self.epsilon = epsilon  # learning rate,\n",
        "        self._lambda = _lambda  # L2 regularization,\n",
        "        self.momentum = momentum  # momentum of the gradient,\n",
        "        self.batch_size = batch_size  # Number of training samples used in each batches (for SGD optimization)\n",
        "        self.num_item=num_item\n",
        "        self.num_user=num_user\n",
        "        self.V =  0.1 * np.random.randn(self.num_item, self.num_feat).astype(np.float64)  # Item feature vectors\n",
        "        self.U =  0.1 * np.random.randn(self.num_user, self.num_feat).astype(np.float64)  # User feature vectors\n",
        "        self.V_inc = np.zeros((self.num_item, self.num_feat),dtype=np.float64)\n",
        "        self.U_inc = np.zeros((self.num_user, self.num_feat),dtype=np.float64)\n",
        "        self.mean_inv= mean_inv  \n",
        "        \n",
        "        self.user_textual_features = np.zeros(shape=(num_users, feature_num),dtype=np.float32 )\n",
        "        self.item_textual_features =  np.zeros(shape=(num_items, feature_num),dtype=np.float32)\n",
        "        self.user_recommender_features =  np.zeros(shape=(num_users, feature_num),dtype=np.float64)\n",
        "        self.item_recommender_features =  np.zeros(shape=(num_items, feature_num),dtype=np.float64)\n",
        "    \n",
        "    def update_textual_features(self, user_textual_features , item_textual_features ):\n",
        "        self.user_textual_features = user_textual_features\n",
        "        self.item_textual_features = item_textual_features \n",
        "\n",
        "\n",
        "\n",
        "    def train(self):\n",
        "            \n",
        "            for batch_UserID,batch_ItemID, batch_rating  in train_ds_pmf:\n",
        "                  \n",
        "                # Compute Objective Function             \n",
        "                pred_out = np.sum(np.multiply(self.U[batch_UserID, :],\n",
        "                                              self.V[batch_ItemID, :]),\n",
        "                                  axis=1)  # mean_inv subtracted # np.multiply\n",
        "                \n",
        "                rawErr = pred_out - batch_rating.numpy() + self.mean_inv\n",
        "\n",
        "                # Compute gradients\n",
        "                Ix_User = 2 * np.multiply(rawErr[:, np.newaxis], self.V[batch_ItemID, :]) \\\n",
        "                       + self._lambda * (self.U[batch_UserID, :] - self.user_textual_features[batch_UserID,:] )\n",
        "                Ix_Item = 2 * np.multiply(rawErr[:, np.newaxis], self.U[batch_UserID, :]) \\\n",
        "                       + self._lambda * (self.V[batch_ItemID, :] - self.item_textual_features[batch_ItemID,:] ) \n",
        "                       # np.newaxis :increase the dimension\n",
        "               \n",
        "                dw_Item = np.zeros((self.num_item, self.num_feat))\n",
        "                dw_User = np.zeros((self.num_user, self.num_feat))\n",
        "                \n",
        "                # loop to aggreate the gradients of the same element\n",
        "                for i in range(batch_UserID.shape[0]):\n",
        "                    dw_Item[batch_ItemID[i], :] += Ix_Item[i, :]\n",
        "                    dw_User[batch_UserID[i], :] += Ix_User[i, :]\n",
        "\n",
        "                # Update with momentum\n",
        "              \n",
        "                self.V_inc = self.momentum * self.V_inc + self.epsilon * dw_Item / self.batch_size\n",
        "                self.U_inc = self.momentum * self.U_inc + self.epsilon * dw_User / self.batch_size\n",
        "                \n",
        "                self.V = self.V - self.V_inc\n",
        "                self.U = self.U - self.U_inc\n",
        "            \n",
        "                # Compute Objective Function after\n",
        "            self.evaluate()\n",
        "\n",
        "            return  tf.Variable(self.U) , tf.Variable(self.V)\n",
        "    \n",
        "    def evaluate(self):\n",
        "            rawErr= []\n",
        "            for batch_UserID,batch_ItemID, batch_rating  in train_ds_pmf:\n",
        "                        \n",
        "                pred_out = np.sum(np.multiply(self.U[batch_UserID, :],\n",
        "                                        self.V[batch_ItemID, :]),\n",
        "                                axis=1)  # mean_inv subtracted\n",
        "                rawErr.append(pred_out - batch_rating.numpy() + self.mean_inv)\n",
        "\n",
        "            obj = np.linalg.norm([item for sublist in rawErr for item in sublist]) ** 2 \n",
        "                   # + 0.5 * self._lambda * (np.linalg.norm(self.U - self.user_textual_features) ** 2 + np.linalg.norm(self.V - self.item_textual_features) ** 2)\n",
        "\n",
        "            train_mse.update_state(obj / train_data_num)\n",
        "           # Compute test error\n",
        "            rawErr= []\n",
        "            for batch_UserID,batch_ItemID, batch_rating  in test_ds_pmf:\n",
        "                pred_out = np.sum(np.multiply(self.U[batch_UserID, :],\n",
        "                                        self.V[batch_ItemID, :]),\n",
        "                                axis=1)  # mean_inv subtracted\n",
        "\n",
        "                rawErr.append(pred_out - batch_rating.numpy() + self.mean_inv)\n",
        "\n",
        "            test_mse.update_state(np.linalg.norm([item for sublist in rawErr for item in sublist])**2 / test_data_num)\n",
        "            # Print info\n",
        "            print('\\nTraining mse: %f, Test mse %f' % (train_mse.result(), test_mse.result()))\n",
        "\n"
      ]
    },
    {
      "cell_type": "markdown",
      "metadata": {
        "id": "f0y4xKXSRYU-"
      },
      "source": [
        "# **Adversarial Seq2Seq Learning**"
      ]
    },
    {
      "cell_type": "markdown",
      "metadata": {},
      "source": [
        "## **Recurrent Review Generator**"
      ]
    },
    {
      "cell_type": "markdown",
      "metadata": {},
      "source": [
        "- it consists of two encoders and one decoder"
      ]
    },
    {
      "cell_type": "markdown",
      "metadata": {
        "id": "o8UVYfYjX9YW"
      },
      "source": [
        "### **Encoder**"
      ]
    },
    {
      "cell_type": "code",
      "execution_count": 67,
      "metadata": {
        "id": "TwRd0VNHkMf0"
      },
      "outputs": [],
      "source": [
        "class Encoder(tf.keras.layers.Layer):\n",
        "  def __init__(self,vocab_size, embedding_dim, enc_units):\n",
        "    super().__init__()\n",
        "    self.enc_units = enc_units\n",
        "    self.embedding_dim=embedding_dim\n",
        "    self.vocab_size = vocab_size\n",
        "    \n",
        "    self.embedding = tf.keras.layers.Embedding( self.vocab_size, self.embedding_dim, embeddings_initializer=keras.initializers.Constant(full_embedding_matrix),trainable=False)\n",
        "    self.gru= tf.keras.layers.Bidirectional(tf.keras.layers.GRU(  self.enc_units,return_state=True,  recurrent_initializer='glorot_uniform' ))\n",
        "\n",
        "\n",
        "  def call(self, reviews, state=None):\n",
        "    vectors = self.embedding(reviews)\n",
        "    _,encoder_forward_state,encoder_backward_state  = self.gru(vectors, initial_state=state)\n",
        " \n",
        "    return  tf.concat([ encoder_forward_state, encoder_backward_state],-1)\n",
        "\n",
        "    "
      ]
    },
    {
      "cell_type": "markdown",
      "metadata": {},
      "source": [
        "### **Decoder (Generator)**"
      ]
    },
    {
      "cell_type": "code",
      "execution_count": 68,
      "metadata": {
        "id": "skIgKP4iCABs"
      },
      "outputs": [],
      "source": [
        "class Decoder(tf.keras.layers.Layer):\n",
        "  def __init__(self,vocab_size, embedding_dim, dec_units):\n",
        "    super().__init__()\n",
        "    self.dec_units = dec_units\n",
        "    self.embedding_dim = embedding_dim\n",
        "    self.vocab_size = vocab_size\n",
        "    \n",
        "    self.embedding = tf.keras.layers.Embedding(self.vocab_size, self.embedding_dim,embeddings_initializer=keras.initializers.Constant(full_embedding_matrix), trainable=False)\n",
        "    self.gru=tf.keras.layers.GRU( self.dec_units , return_state=True,return_sequences=True)\n",
        "    self.fc = tf.keras.layers.Dense(self.vocab_size, use_bias=False)\n",
        "    self.sf=tf.keras.layers.Activation('softmax')\n",
        "\n",
        "  def call(self, decoder_input, context_vector,state=None):\n",
        "\n",
        "     embedded_input = self.embedding(decoder_input)\n",
        "     joint_input_context = tf.concat([embedded_input, tf.tile(tf.expand_dims(context_vector,1),[1,embedded_input.shape[1],1])],2 )\n",
        "     outputs,dec_state = self.gru(joint_input_context, initial_state=state)\n",
        "     logits = self.fc( outputs)\n",
        "     prob_dist = self.sf(logits)\n",
        "\n",
        "     return prob_dist,dec_state\n"
      ]
    },
    {
      "cell_type": "code",
      "execution_count": 69,
      "metadata": {
        "id": "DyhJk5pGKW_N"
      },
      "outputs": [],
      "source": [
        "class GeneratorLoss(tf.keras.losses.Loss):\n",
        "  def __init__(self,vocab_size):\n",
        "    self.name = 'masked_loss'\n",
        "    self.vocab_size=vocab_size\n",
        "    self.scce = tf.keras.losses.SparseCategoricalCrossentropy(reduction='none')\n",
        "\n",
        "  def __call__(self, y_true, y_pred):\n",
        "    # Calculating the loss for a batch of reviews.\n",
        "\n",
        "    loss = self.scce(y_true,y_pred)\n",
        "    mask = tf.cast(y_true != 0, loss.dtype)\n",
        "    loss*=  mask\n",
        "    return tf.reduce_sum(loss) / tf.reduce_sum(mask)"
      ]
    },
    {
      "cell_type": "markdown",
      "metadata": {
        "id": "4v_zte_RHR5a"
      },
      "source": [
        "## **Discriminator**"
      ]
    },
    {
      "cell_type": "code",
      "execution_count": 70,
      "metadata": {
        "id": "84ZgGwB9HXi5"
      },
      "outputs": [],
      "source": [
        "class Discriminator(tf.keras.Model):\n",
        "    def __init__( self, sequence_length, vocab_size, embedding_dim, filter_sizes, num_filters):\n",
        "      super().__init__()\n",
        "      self.sequence_length=sequence_length\n",
        "      self.vocab_size=vocab_size\n",
        "      self.embedding_dim=embedding_dim\n",
        "      self.filter_sizes=filter_sizes\n",
        "      self.num_filters= num_filters\n",
        "      self.dis_dropout_keep_prob = 0.75\n",
        "\n",
        "      self.embedding = tf.keras.layers.Embedding(self.vocab_size, self.embedding_dim,weights=[full_embedding_matrix],name=\"discriminator_embedding\",trainable=False)\n",
        "     \n",
        "      self.conv_unigram= tf.keras.layers.Conv1D(self.num_filters, filter_sizes[0], activation=\"tanh\",name=\"conv_unigram\")\n",
        "      self.conv_bigram= tf.keras.layers.Conv1D(self.num_filters, filter_sizes[1],activation=\"tanh\",name=\"conv_bigram\")\n",
        "      self.conv_trigram= tf.keras.layers.Conv1D(self.num_filters, filter_sizes[2],activation=\"tanh\",name=\"conv_trigram\")\n",
        "      self.conv_fourgram= tf.keras.layers.Conv1D(self.num_filters, filter_sizes[3],activation=\"tanh\",name=\"conv_fourgram\")\n",
        "      self.conv_fivegram= tf.keras.layers.Conv1D(self.num_filters, filter_sizes[4],activation=\"tanh\",name=\"conv_fivegram\")\n",
        "\n",
        "      self.gmp_unigram = tf.keras.layers.GlobalMaxPooling1D(name=\"gmp_unigram\")\n",
        "      self.gmp_bigram = tf.keras.layers.GlobalMaxPooling1D(name=\"gmp_bigram\")\n",
        "      self.gmp_trigram = tf.keras.layers.GlobalMaxPooling1D(name=\"gmp_trigram\")\n",
        "      self.gmp_fourgram = tf.keras.layers.GlobalMaxPooling1D(name=\"gmp_fourgram\")\n",
        "      self.gmp_fivegram = tf.keras.layers.GlobalMaxPooling1D(name=\"gmp_fivegram\")\n",
        "\n",
        "      self.dropout=tf.keras.layers.Dropout(self.dis_dropout_keep_prob,name=\"dropout\")\n",
        "      self.fc=tf.keras.layers.Dense(1,activation=\"sigmoid\",use_bias= True)\n",
        "\n",
        "\n",
        "    def get_reward(self, discriminator_inputs , context_vector,training=False ):\n",
        "      \n",
        "      embedded_input= self.embedding(discriminator_inputs)\n",
        "      joint_input_context =tf.concat([embedded_input, tf.tile(tf.expand_dims(context_vector,1),[1,embedded_input.shape[1],1])],2 )\n",
        "\n",
        "      cv_unigram=self.conv_unigram(joint_input_context)\n",
        "      cv_bigram=self.conv_bigram(joint_input_context)\n",
        "      cv_trigram=self.conv_trigram(joint_input_context)\n",
        "      cv_fourgram=self.conv_fourgram(joint_input_context)\n",
        "      cv_fivegram=self.conv_fivegram(joint_input_context)\n",
        "\n",
        "      gmp_unigram = self.gmp_unigram(cv_unigram)\n",
        "      gmp_bigram = self.gmp_bigram(cv_bigram)\n",
        "      gmp_trigram =  self.gmp_trigram(cv_trigram)\n",
        "      gmp_fourgram = self.gmp_fourgram(cv_fourgram)\n",
        "      gmp_fivegram = self.gmp_fivegram(cv_fivegram)\n",
        "    \n",
        "      gmp_overal = tf.concat([gmp_unigram,gmp_bigram,gmp_trigram,gmp_fourgram,gmp_fivegram],1)\n",
        "      \n",
        "      if training:\n",
        "        dropout = self.dropout(gmp_overal,training=training)\n",
        "        ath= self.fc(dropout)\n",
        "        gc.collect()\n",
        "        return ath[:,0],self.fc.weights[0][:,0],self.fc.bias\n",
        "      else:\n",
        "        ath= self.fc(gmp_overal)\n",
        "        gc.collect()\n",
        "        return ath[:,0]\n",
        "\n"
      ]
    },
    {
      "cell_type": "code",
      "execution_count": 71,
      "metadata": {
        "id": "FCRHY3LgfD2_"
      },
      "outputs": [],
      "source": [
        "class DiscriminatorLoss(tf.keras.losses.Loss):\n",
        "  def __init__(self):\n",
        "    self.name = 'cross-entropy_loss'\n",
        "    self.bce = tf.keras.losses.BinaryCrossentropy( reduction='none')\n",
        "\n",
        "  def __call__(self, y_true, y_pred):\n",
        "\n",
        "    loss = self.bce(y_true, y_pred)\n",
        "    return loss"
      ]
    },
    {
      "cell_type": "markdown",
      "metadata": {},
      "source": [
        "## **Seq2Seq Model**"
      ]
    },
    {
      "cell_type": "code",
      "execution_count": 72,
      "metadata": {
        "id": "MB7HymOiTfdl"
      },
      "outputs": [],
      "source": [
        "class MaskedLossReward(tf.keras.losses.Loss):\n",
        "  def __init__(self,vocab_size):\n",
        "    self.name = 'masked_loss_reward'\n",
        "    self.vocab_size=vocab_size\n",
        "    self.scce = tf.keras.losses.SparseCategoricalCrossentropy(reduction='none')\n",
        "\n",
        "  def __call__(self, y_true, y_pred,reward):\n",
        "    # Calculate the loss for each step.\n",
        "\n",
        "    loss = self.scce(y_true,y_pred)\n",
        "    mask = tf.cast(y_true != 0, loss.dtype)\n",
        "    loss*=  mask\n",
        "    loss *= reward\n",
        "    return tf.reduce_sum(loss) / tf.reduce_sum(mask)"
      ]
    },
    {
      "cell_type": "code",
      "execution_count": 73,
      "metadata": {
        "id": "Z3NlswFZRbub"
      },
      "outputs": [],
      "source": [
        "class Seq2Seq(tf.keras.Model): \n",
        "    def __init__(self,num_topic,num_item ,num_user, units ,embedding_dim,vocab_size ,sequence_length, num_batches,num_batches_test, batch_size, use_tf_function=False):\n",
        "        super().__init__()\n",
        "        self.use_tf_function = use_tf_function\n",
        "        self.num_batches_test = num_batches_test\n",
        "        self.num_batches = num_batches # train batch number\n",
        "        self.batch_size = batch_size\n",
        "        self.num_topic = num_topic\n",
        "        self.embedding_dim = embedding_dim\n",
        "        self.units = units\n",
        "        self.vocab_size = vocab_size\n",
        "        self.sequence_length = sequence_length\n",
        "        self.num_item = num_item\n",
        "        self.num_user = num_user\n",
        "        self.alpha = 10.0\n",
        "        self.disc_l2_reg_lambda = 0.2\n",
        "        self.user_encoder = Encoder(vocab_size= self.vocab_size,  embedding_dim= self.embedding_dim, enc_units= self.units)\n",
        "        self.item_encoder = Encoder(vocab_size= self.vocab_size,  embedding_dim= self.embedding_dim, enc_units= self.units)\n",
        "        self.decoder = Decoder(vocab_size= self.vocab_size,  embedding_dim= self.embedding_dim, dec_units= 4 * self.units) #generator\n",
        "        self.discriminator = Discriminator(sequence_length= self.sequence_length, vocab_size= self.vocab_size,embedding_dim= self.embedding_dim, filter_sizes= [1, 2, 3 ,4, 5] ,num_filters=128)\n",
        "      \n",
        "        self.loss_gn = GeneratorLoss(vocab_size=self.vocab_size)\n",
        "        self.loss_ds = DiscriminatorLoss()\n",
        "        self.loss_fn = MaskedLossReward(vocab_size=self.vocab_size) # generator loss with reward\n",
        "\n",
        "        self.optimizer_gn = tf.optimizers.Adam(1e-4)\n",
        "        self.optimizer_ds = tf.optimizers.Adam(1e-4)\n",
        "\n",
        "        self.user_textual_features = np.zeros(shape=(num_users, feature_num),dtype=np.float32 )\n",
        "        self.item_textual_features =  np.zeros(shape=(num_items, feature_num),dtype=np.float32)\n",
        "        self.user_recommender_features =  np.zeros(shape=(num_users, feature_num),dtype=np.float64)\n",
        "        self.item_recommender_features =  np.zeros(shape=(num_items, feature_num),dtype=np.float64)\n",
        "\n",
        "        self.generated_samples = None\n",
        "        self.context_vector_mp = None\n",
        "        \n",
        "    def update_recommender_features(self,user_recommender_features , item_recommender_features):\n",
        "         self.user_recommender_features = user_recommender_features\n",
        "         self.item_recommender_features = item_recommender_features\n",
        "\n",
        "    def generate_textual_features(self):\n",
        "            \n",
        "          for start_index in range(0, self.num_user, self.batch_size):\n",
        "            end_index = min(start_index + self.batch_size, self.num_user)                           \n",
        "            batch_userID = np.arange(start_index, end_index)\n",
        "\n",
        "            # fetch a batch of user doc\n",
        "            batch_userdoc_flattend=[]\n",
        "            userdoc_slice_idx=[0]\n",
        "            for doc_id in batch_userID:\n",
        "              userdoc_slice_idx.append(userdoc_slice_idx[-1] + user_doc[doc_id].shape[0])\n",
        "              batch_userdoc_flattend = np.append(batch_userdoc_flattend,user_doc[doc_id])\n",
        "            batch_userdoc = tf.reshape(tf.convert_to_tensor( batch_userdoc_flattend,dtype=tf.int32),[userdoc_slice_idx[-1],self.sequence_length])\n",
        "\n",
        "            user_enc_state = self.user_encoder(batch_userdoc) # user vector representations      \n",
        "            user_context_vector = tf.stack([ tf.reduce_mean(user_enc_state[ userdoc_slice_idx[sl_num] : userdoc_slice_idx[sl_num+1] ],0) for  sl_num in range(len(batch_userID))])\n",
        "            \n",
        "            self.user_textual_features[batch_userID]=user_context_vector.numpy()\n",
        "            \n",
        "          for start_index in range(0, self.num_item, self.batch_size):\n",
        "            end_index = min(start_index + self.batch_size, self.num_item)                           \n",
        "            batch_itemID = np.arange(start_index, end_index)\n",
        "\n",
        "            # fetch a batch of item doc\n",
        "            batch_itemdoc_flattend=[]\n",
        "            itemdoc_slice_idx=[0]\n",
        "            for doc_id in batch_itemID:\n",
        "              itemdoc_slice_idx.append(itemdoc_slice_idx[-1] + item_doc[doc_id].shape[0])\n",
        "              batch_itemdoc_flattend = np.append(batch_itemdoc_flattend,item_doc[doc_id])\n",
        "            batch_itemdoc = tf.reshape(tf.convert_to_tensor( batch_itemdoc_flattend,dtype=tf.int32),[itemdoc_slice_idx[-1],self.sequence_length])\n",
        "            \n",
        "            item_enc_state = self.item_encoder(batch_itemdoc) # item vector representations\n",
        "            item_context_vector = tf.stack([ tf.reduce_mean(item_enc_state[ itemdoc_slice_idx[sl_num] : itemdoc_slice_idx[sl_num+1] ],0) for  sl_num in range(len(batch_itemID))])\n",
        "            \n",
        "            self.item_textual_features[batch_itemID]=item_context_vector.numpy()\n",
        "           \n",
        "            return tf.Variable(self.user_textual_features) , tf.Variable(self.item_textual_features)\n",
        "\n",
        "    def teacher_forcing_train(self,num_steps=1):\n",
        "          total_gen_loss=0\n",
        "          for t_step in range(num_steps):\n",
        " \n",
        "            (batch_userID,batch_itemID ,batch_review_in,batch_review_out) = next(iter(train_ds_seq))\n",
        "            # fetch a batch of user doc\n",
        "            batch_userdoc_flattend=[]\n",
        "            userdoc_slice_idx=[0]\n",
        "            for doc_id in batch_userID:\n",
        "              userdoc_slice_idx.append(userdoc_slice_idx[-1] + user_doc[doc_id].shape[0])\n",
        "              batch_userdoc_flattend = np.append(batch_userdoc_flattend,user_doc[doc_id])\n",
        "            batch_userdoc = tf.reshape(tf.convert_to_tensor( batch_userdoc_flattend,dtype=tf.int32),[userdoc_slice_idx[-1],self.sequence_length])\n",
        "\n",
        "            # fetch a batch of item doc\n",
        "            batch_itemdoc_flattend=[]\n",
        "            itemdoc_slice_idx=[0]\n",
        "            for doc_id in batch_itemID:\n",
        "              itemdoc_slice_idx.append(itemdoc_slice_idx[-1] + item_doc[doc_id].shape[0])\n",
        "              batch_itemdoc_flattend = np.append(batch_itemdoc_flattend,item_doc[doc_id])\n",
        "            batch_itemdoc = tf.reshape(tf.convert_to_tensor( batch_itemdoc_flattend,dtype=tf.int32),[itemdoc_slice_idx[-1],self.sequence_length])\n",
        "            \n",
        "            with tf.GradientTape() as tape1 , tf.GradientTape() as tape2:\n",
        "              tape1.watch(self.user_encoder.trainable_variables + self.item_encoder.trainable_variables)\n",
        "              tape2.watch(self.decoder.trainable_variables)\n",
        "              \n",
        "              user_enc_state = self.user_encoder(batch_userdoc) # user vector representations      \n",
        "              item_enc_state = self.item_encoder(batch_itemdoc) # item vector representations\n",
        "                \n",
        "              user_context_vector = tf.stack([ tf.reduce_mean(user_enc_state[ userdoc_slice_idx[sl_num] : userdoc_slice_idx[sl_num+1] ],0) for  sl_num in range(self.batch_size)])\n",
        "              item_context_vector = tf.stack([ tf.reduce_mean(item_enc_state[ itemdoc_slice_idx[sl_num] : itemdoc_slice_idx[sl_num+1] ],0) for  sl_num in range(self.batch_size)])\n",
        "              context_vector = tf.concat( [user_context_vector,item_context_vector],1)\n",
        "                           \n",
        "              # regularization \n",
        "              user_regularization_loss = self.alpha * tf.norm(self.user_recommender_features[batch_userID.numpy()] - user_context_vector) **2\n",
        "              item_regularization_loss = self.alpha * tf.norm(self.item_recommender_features[batch_itemID.numpy()] - item_context_vector) **2\n",
        "              regularization_loss = user_regularization_loss + item_regularization_loss\n",
        "              \n",
        "              dec_pred, _ = self.decoder( batch_review_in , context_vector)             \n",
        "              gen_loss = self.loss_gn(batch_review_out , dec_pred)\n",
        "           \n",
        "            grad_enc = tape1.gradient([gen_loss,regularization_loss],self.user_encoder.trainable_variables + self.item_encoder.trainable_variables )\n",
        "            grad_dec = tape2.gradient(gen_loss,self.decoder.trainable_variables )\n",
        "\n",
        "            self.optimizer_gn.apply_gradients(zip(grad_enc+grad_dec, self.user_encoder.trainable_variables + self.item_encoder.trainable_variables+self.decoder.trainable_variables ))                 \n",
        "            \n",
        "            total_gen_loss += gen_loss\n",
        "            # total_regularization_loss += regularization_loss\n",
        "            if t_step % 10 == 0:\n",
        "              print(\"batch number: \",t_step,\"\\tgen loss: \", gen_loss.numpy())\n",
        "    \n",
        "          train_plx_gen_tch.update_state(total_gen_loss / num_steps)\n",
        "\n",
        "    def test(self,num_steps):\n",
        "        total_loss=0\n",
        "        for step in range(num_steps):\n",
        "            #(batch_userID,batch_itemID ,_,_) = next(iter(test_ds_seq))\n",
        "            batch_userID = np.random.choice(range(0,self.num_user),self.batch_size).astype('int32')\n",
        "            batch_itemID = np.random.choice(range(0,self.num_item),self.batch_size).astype('int32') \n",
        "            context_vector = tf.concat([self.user_textual_features[batch_userID],self.item_textual_features[batch_itemID]],1)                    \n",
        "            predicted_samples,dec_prob = self.generate_sample(context_vector)\n",
        "            loss = self.loss_gn(predicted_samples ,tf.transpose( tf.stack(dec_prob), [1,0,2])  )\n",
        "            total_loss += loss\n",
        "            if step % 4 == 0:\n",
        "              print(\"batch number: \",step, \"\\tgen loss: \",loss.numpy())\n",
        "\n",
        "        test_plx_gen.update_state(total_loss / num_steps)\n",
        "  \n",
        "    def adversarial_train(self,num_steps=1):\n",
        "        total_gen_loss=0\n",
        "        train_acc_dis.reset_state()\n",
        "        for step in range(num_steps):\n",
        "          # train generator for one step\n",
        "          generated_samples,batch_userID,batch_itemID, gen_loss =  self._train_step_gn_policy() #adversarial samples\n",
        "          total_gen_loss += gen_loss\n",
        "          # train discriminator for one step\n",
        "          disc_loss = self._train_step_disc(generated_samples,batch_userID,batch_itemID)\n",
        "          if step % 5 == 0:\n",
        "            print(\"batch number: \",step, \"\\t\\tgen loss: \",gen_loss.numpy(),\"\\t\\t\\tdisc loss: \",disc_loss.numpy())   \n",
        "        train_plx_gen_plc.update_state(total_gen_loss / num_steps)\n",
        "\n",
        "\n",
        "    def _train_step_gn_policy(self):\n",
        "            batch_userID = np.random.choice(range(0,self.num_user),self.batch_size).astype('int32')\n",
        "            batch_itemID = np.random.choice(range(0,self.num_item),self.batch_size).astype('int32') \n",
        "            with tf.GradientTape() as tape:\n",
        "\n",
        "              self.context_vector_mp = tf.concat([self.user_textual_features[batch_userID],self.item_textual_features[batch_itemID]],1)                    \n",
        "              generated_samples,dec_prob = self.generate_sample(context_vector=self.context_vector_mp)            \n",
        "              self.generated_samples = tf.concat([tf.convert_to_tensor(self.context_vector_mp.shape[0] * [[2]]),generated_samples],1)\n",
        "              rollout_num = 1\n",
        "              \n",
        "              with tape.stop_recording():\n",
        "                # with Pool() as pool:                \n",
        "                #   reward = pool.map(self.roll_out_policy,rollout_num)                 \n",
        "                # reward =tf.stack(reward,1)/ rollout_num # batchsize * seq_length\n",
        "                 reward = self.roll_out_policy(rollout_num)\n",
        "             # reward = self.discriminator.get_reward(self.generated_samples, self.context_vector_mp)   # batchsize             \n",
        "             # g_loss = self.loss_fn(self.generated_samples[:,1:] , tf.transpose( tf.stack(dec_prob) , [1,0,2]) ,tf.tile( tf.expand_dims( reward ,1),[1,self.sequence_length]))\n",
        "              g_loss = self.loss_fn(self.generated_samples[:,1:] , tf.transpose( tf.stack(dec_prob) , [1,0,2]) , reward )\n",
        "            \n",
        "            variables =  self.decoder.trainable_variables \n",
        "            gradients = tape.gradient(g_loss, variables)                  \n",
        "            self.optimizer_gn.apply_gradients(zip(gradients, variables))\n",
        "            \n",
        "            return self.generated_samples[:,1:],batch_userID,batch_itemID,g_loss\n",
        "    \n",
        "   \n",
        "\n",
        "    def _train_step_disc(self,negative_data,negative_user_indices,negative_item_indices):\n",
        "\n",
        "          with tf.GradientTape() as tape:\n",
        "            (positive_user_indices,positive_item_indices,_,positive_data) = next(iter(train_ds_seq)) # ground-truth data\n",
        "\n",
        "            #data shape (batch_size * seq length)\n",
        "            whole_user_indices = tf.concat([positive_user_indices,negative_user_indices],0)\n",
        "            whole_item_indices = tf.concat([positive_item_indices,negative_item_indices],0)\n",
        "\n",
        "            positive_labels = tf.zeros(batch_size, dtype=tf.int32) \n",
        "            negative_labels = tf.ones(batch_size, dtype=tf.int32) \n",
        "            labels = tf.concat([positive_labels, negative_labels], 0)\n",
        "\n",
        "            shuffle_indices = tf.random.shuffle( tf.range(0, len(labels),dtype=tf.int32))\n",
        "            whole_data = tf.gather(tf.concat([positive_data,negative_data],0),shuffle_indices)    \n",
        "            labels = tf.gather(labels,shuffle_indices)\n",
        "            whole_user_indices = tf.gather(whole_user_indices,shuffle_indices)\n",
        "            whole_item_indices = tf.gather(whole_item_indices,shuffle_indices)\n",
        "            query_embedding = tf.concat([tf.gather(self.user_textual_features , whole_user_indices) ,tf.gather( self.item_textual_features , whole_item_indices)], 1)\n",
        "            # query shape (batch_size ,2.feature_num)\n",
        "            dis_reward,weights,bias = self.discriminator.get_reward( whole_data,query_embedding,training=True)\n",
        "            l2_loss = tf.nn.l2_loss(2 * weights) + tf.nn.l2_loss(bias)\n",
        "            disc_loss = self.loss_ds(labels,dis_reward) + (self.disc_l2_reg_lambda * l2_loss)\n",
        "         \n",
        "          variables = self.discriminator.trainable_variables \n",
        "          gradients = tape.gradient(disc_loss, variables)\n",
        "          self.optimizer_ds.apply_gradients(zip(gradients, variables))\n",
        "\n",
        "          train_acc_dis.update_state(labels,dis_reward)\n",
        "          return disc_loss\n",
        "\n",
        "\n",
        "    def generate_sample(self, context_vector ,start_token= None, dec_state=None, sequence_length= sequence_length ):\n",
        "        if start_token == None:\n",
        "          dec_out = [tf.convert_to_tensor(context_vector.shape[0] * [[2]])]\n",
        "        else:\n",
        "          dec_out =[start_token]\n",
        "        dec_prob=[]         \n",
        "        for _ in range(sequence_length):           \n",
        "            d_prob,dec_state = self.decoder( dec_out[-1], context_vector ,dec_state)          \n",
        "            dec_prob.append(d_prob[:,-1])   \n",
        "            dec_out.append(tf.random.categorical(d_prob[:,-1],1,dtype=tf.int32))            \n",
        "            del d_prob          \n",
        "        gc.collect()\n",
        "        \n",
        "        return tf.squeeze(tf.stack(dec_out,1))[:,1:], dec_prob \n",
        "    \n",
        "    def train(self,current_step):\n",
        "        print(\"\\n\\nTeacher Forcing Train:\")\n",
        "        self.teacher_forcing_train(num_steps= 16)  # t step\n",
        "        if current_step > 9:\n",
        "          print(\"\\n\\nAdversarial Train:\")          \n",
        "          self.adversarial_train(num_steps= 8)     # g step\n",
        "        print(\"\\n\\nGenerator Test:\")          \n",
        "        self.test(num_steps= 4)\n",
        "       \n",
        "    def roll_out_policy(self,rollout_num):\n",
        "        reward = []  \n",
        "        for k in range(rollout_num):\n",
        "          for given_num in range(1,sequence_length+1):\n",
        "            _, dec_state=self.decoder(self.generated_samples[:,:given_num], self.context_vector_mp)\n",
        "\n",
        "            if given_num!=sequence_length:\n",
        "                # sampling seq length - i tokens with the roll out policy \n",
        "                rollout_samples , _ = self.generate_sample(self.context_vector_mp,self.generated_samples[:,given_num:given_num+1],dec_state, self.sequence_length - given_num)\n",
        "                full_samples = tf.concat([ self.generated_samples[:,1:given_num+1], rollout_samples] ,1)\n",
        "                rd = self.discriminator.get_reward(full_samples,self.context_vector_mp)\n",
        "\n",
        "            else:\n",
        "                rd = self.discriminator.get_reward(self.generated_samples[:,1:],self.context_vector_mp)\n",
        "                \n",
        "            if k==0: \n",
        "                reward.append(rd)\n",
        "            else:\n",
        "                reward[given_num-1] +=rd  \n",
        "        \n",
        "        \n",
        "        reward = tf.stack(reward,1)/ rollout_num \n",
        "        return reward\n",
        "\n"
      ]
    },
    {
      "cell_type": "markdown",
      "metadata": {},
      "source": [
        "# **Ploting Results**"
      ]
    },
    {
      "cell_type": "code",
      "execution_count": 74,
      "metadata": {},
      "outputs": [],
      "source": [
        "%load_ext tensorboard"
      ]
    },
    {
      "cell_type": "code",
      "execution_count": 75,
      "metadata": {},
      "outputs": [
        {
          "data": {
            "text/plain": [
              "Reusing TensorBoard on port 6006 (pid 12379), started 1:42:30 ago. (Use '!kill 12379' to kill it.)"
            ]
          },
          "metadata": {},
          "output_type": "display_data"
        },
        {
          "data": {
            "text/html": [
              "\n",
              "      <iframe id=\"tensorboard-frame-a1b3dfbe503b916c\" width=\"100%\" height=\"800\" frameborder=\"0\">\n",
              "      </iframe>\n",
              "      <script>\n",
              "        (function() {\n",
              "          const frame = document.getElementById(\"tensorboard-frame-a1b3dfbe503b916c\");\n",
              "          const url = new URL(\"http://localhost\");\n",
              "          const port = 6006;\n",
              "          if (port) {\n",
              "            url.port = port;\n",
              "          }\n",
              "          frame.src = url;\n",
              "        })();\n",
              "      </script>\n",
              "    "
            ],
            "text/plain": [
              "<IPython.core.display.HTML object>"
            ]
          },
          "metadata": {},
          "output_type": "display_data"
        }
      ],
      "source": [
        "%tensorboard --logdir logs --bind_all\n",
        "# deactive tracking protection of the page if you get 403 error\n"
      ]
    },
    {
      "cell_type": "markdown",
      "metadata": {
        "id": "_3YKdf1-uW8Q"
      },
      "source": [
        "# **Multi-Task Learning**"
      ]
    },
    {
      "cell_type": "code",
      "execution_count": 76,
      "metadata": {
        "id": "khZxlR9oRxVe"
      },
      "outputs": [],
      "source": [
        "class MultiTaskModel(tf.keras.Model):\n",
        "      def __init__(self):\n",
        "        super().__init__()\n",
        "        self.pmf_model = PMF(num_feat=feature_num,num_item= num_items ,num_user= num_users, mean_inv=mean_inv)\n",
        "        self.seq2seq_model = Seq2Seq(num_topic=feature_num,num_item= num_items ,num_user= num_users,units=units, embedding_dim= embedding_dim,vocab_size=full_embedding_matrix.shape[0],sequence_length=sequence_length, num_batches= num_batches,num_batches_test=num_batches_test,batch_size= batch_size)      \n",
        "        self.user_textual_features = tf.Variable( np.zeros(shape=(num_users, feature_num),dtype=np.float32 ))\n",
        "        self.item_textual_features = tf.Variable( np.zeros(shape=(num_items, feature_num),dtype=np.float32))\n",
        "        self.user_recommender_features = tf.Variable( np.zeros(shape=(num_users, feature_num),dtype=np.float64))\n",
        "        self.item_recommender_features = tf.Variable( np.zeros(shape=(num_items, feature_num),dtype=np.float64))\n",
        "      \n",
        "      \n",
        "      def train(self,n_epochs):    \n",
        "          ckpt.restore(manager.latest_checkpoint)\n",
        "          if manager.latest_checkpoint:\n",
        "            print(\"Restored from {}\".format(manager.latest_checkpoint))\n",
        "          else:\n",
        "            print(\"Initializing from scratch.\")\n",
        "          #tf.profiler.experimental.start('logs')\n",
        "          for epoch in range(n_epochs):\n",
        "              if epoch == 0:\n",
        "                 self.pmf_model.U = self.user_recommender_features.numpy()\n",
        "                 self.pmf_model.V = self.item_recommender_features.numpy()\n",
        "              \n",
        "              print(\"\\n\\nepoch : \", int(ckpt.step))\n",
        "              self.user_textual_features,self.item_textual_features = self.seq2seq_model.generate_textual_features()\n",
        "              self.pmf_model.update_textual_features( self.user_textual_features.numpy(),self.item_textual_features.numpy() )\n",
        "              \n",
        "              print(\"********************************************* PMF Model Training Turn *********************************************\")\n",
        "              self.user_recommender_features , self.item_recommender_features = self.pmf_model.train()\n",
        "              print(\"\\n\\n******************************************* Seq2Seq Model Training Turn *******************************************\")                                         \n",
        "              self.seq2seq_model.update_recommender_features(self.user_recommender_features.numpy() , self.item_recommender_features.numpy())\n",
        "              self.seq2seq_model.train(int(ckpt.step))\n",
        "             \n",
        "              with train_summary_writer.as_default():\n",
        "                  tf.summary.scalar('perplexity for Seq2Seq model', train_plx_gen_tch.result(), step=int(ckpt.step))\n",
        "                  tf.summary.scalar('MSE for PMF model',train_mse.result(),step=int(ckpt.step))\n",
        "                  tf.summary.scalar('Training accuracy for discriminator', train_acc_dis.result(), step=int(ckpt.step))\n",
        "  \n",
        "              with adv_train_summary_writer.as_default():\n",
        "                  tf.summary.scalar('perplexity for Seq2Seq model', train_plx_gen_plc.result(), step=int(ckpt.step))\n",
        "\n",
        "              with test_summary_writer.as_default():\n",
        "                  tf.summary.scalar('perplexity for Seq2Seq model', test_plx_gen.result(), step=int(ckpt.step))\n",
        "                  tf.summary.scalar('MSE for PMF model',test_mse.result(),step=int(ckpt.step))\n",
        "\n",
        "              ckpt.step.assign_add(1)\n",
        "              if int(ckpt.step) % 10 ==0:\n",
        "                save_path = manager.save()\n",
        "                print(\"Saved checkpoint for epoch {}: {}\".format(int(ckpt.step), save_path))\n",
        "            \n",
        "          #tf.profiler.experimental.stop()\n"
      ]
    },
    {
      "cell_type": "code",
      "execution_count": 77,
      "metadata": {
        "colab": {
          "base_uri": "https://localhost:8080/"
        },
        "id": "mrzxSK6IUr6O",
        "outputId": "212b1776-5de7-4896-f09a-4ea54c2405df"
      },
      "outputs": [],
      "source": [
        "gc.collect()\n",
        "gc.collect(0)\n",
        "gc.collect(1)\n",
        "gc.collect(2)\n",
        "\n",
        "# creating an instance of Multi_Task Model\n",
        "mt_model = MultiTaskModel()\n",
        "ckpt = tf.train.Checkpoint(step=tf.Variable(0), optimizer=tf.keras.optimizers.Adam(), net=mt_model)\n",
        "manager = tf.train.CheckpointManager(ckpt, './tf_ckpts', max_to_keep=6000)\n"
      ]
    },
    {
      "cell_type": "code",
      "execution_count": 78,
      "metadata": {},
      "outputs": [
        {
          "name": "stdout",
          "output_type": "stream",
          "text": [
            "Initializing from scratch.\n",
            "\n",
            "\n",
            "epoch :  0\n"
          ]
        },
        {
          "name": "stderr",
          "output_type": "stream",
          "text": [
            "2023-01-11 10:54:59.131827: I tensorflow/stream_executor/cuda/cuda_dnn.cc:384] Loaded cuDNN version 8500\n"
          ]
        },
        {
          "name": "stdout",
          "output_type": "stream",
          "text": [
            "********************************************* PMF Model Training Turn *********************************************\n",
            "\n",
            "Training mse: 1.053569, Test mse 1.058254\n",
            "\n",
            "\n",
            "******************************************* Seq2Seq Model Training Turn *******************************************\n",
            "\n",
            "\n",
            "Teacher Forcing Train:\n"
          ]
        },
        {
          "name": "stderr",
          "output_type": "stream",
          "text": [
            "2023-01-11 10:55:00.116842: I tensorflow/stream_executor/cuda/cuda_blas.cc:1786] TensorFloat-32 will be used for the matrix multiplication. This will only be logged once.\n"
          ]
        },
        {
          "name": "stdout",
          "output_type": "stream",
          "text": [
            "batch number:  0 \tgen loss:  7.428324\n",
            "batch number:  10 \tgen loss:  7.38042\n",
            "\n",
            "\n",
            "Generator Test:\n",
            "batch number:  0 \tgen loss:  7.4215355\n",
            "\n",
            "\n",
            "epoch :  1\n",
            "********************************************* PMF Model Training Turn *********************************************\n",
            "\n",
            "Training mse: 1.053440, Test mse 1.058133\n",
            "\n",
            "\n",
            "******************************************* Seq2Seq Model Training Turn *******************************************\n",
            "\n",
            "\n",
            "Teacher Forcing Train:\n",
            "batch number:  0 \tgen loss:  7.347871\n",
            "batch number:  10 \tgen loss:  7.3178983\n",
            "\n",
            "\n",
            "Generator Test:\n",
            "batch number:  0 \tgen loss:  7.4230175\n",
            "\n",
            "\n",
            "epoch :  2\n",
            "********************************************* PMF Model Training Turn *********************************************\n",
            "\n",
            "Training mse: 1.052790, Test mse 1.057525\n",
            "\n",
            "\n",
            "******************************************* Seq2Seq Model Training Turn *******************************************\n",
            "\n",
            "\n",
            "Teacher Forcing Train:\n",
            "batch number:  0 \tgen loss:  7.315554\n",
            "batch number:  10 \tgen loss:  7.2824063\n",
            "\n",
            "\n",
            "Generator Test:\n",
            "batch number:  0 \tgen loss:  7.419374\n",
            "\n",
            "\n",
            "epoch :  3\n",
            "********************************************* PMF Model Training Turn *********************************************\n",
            "\n",
            "Training mse: 1.051202, Test mse 1.056044\n",
            "\n",
            "\n",
            "******************************************* Seq2Seq Model Training Turn *******************************************\n",
            "\n",
            "\n",
            "Teacher Forcing Train:\n",
            "batch number:  0 \tgen loss:  7.2623467\n",
            "batch number:  10 \tgen loss:  7.217911\n",
            "\n",
            "\n",
            "Generator Test:\n",
            "batch number:  0 \tgen loss:  7.424004\n",
            "\n",
            "\n",
            "epoch :  4\n",
            "********************************************* PMF Model Training Turn *********************************************\n",
            "\n",
            "Training mse: 1.048352, Test mse 1.053388\n",
            "\n",
            "\n",
            "******************************************* Seq2Seq Model Training Turn *******************************************\n",
            "\n",
            "\n",
            "Teacher Forcing Train:\n",
            "batch number:  0 \tgen loss:  7.1924033\n",
            "batch number:  10 \tgen loss:  7.1657386\n",
            "\n",
            "\n",
            "Generator Test:\n",
            "batch number:  0 \tgen loss:  7.430825\n",
            "\n",
            "\n",
            "epoch :  5\n",
            "********************************************* PMF Model Training Turn *********************************************\n",
            "\n",
            "Training mse: 1.044430, Test mse 1.049683\n",
            "\n",
            "\n",
            "******************************************* Seq2Seq Model Training Turn *******************************************\n",
            "\n",
            "\n",
            "Teacher Forcing Train:\n",
            "batch number:  0 \tgen loss:  7.106634\n",
            "batch number:  10 \tgen loss:  7.032187\n",
            "\n",
            "\n",
            "Generator Test:\n",
            "batch number:  0 \tgen loss:  7.4348917\n",
            "\n",
            "\n",
            "epoch :  6\n",
            "********************************************* PMF Model Training Turn *********************************************\n",
            "\n",
            "Training mse: 1.039496, Test mse 1.045003\n",
            "\n",
            "\n",
            "******************************************* Seq2Seq Model Training Turn *******************************************\n",
            "\n",
            "\n",
            "Teacher Forcing Train:\n",
            "batch number:  0 \tgen loss:  6.9621787\n",
            "batch number:  10 \tgen loss:  6.903158\n",
            "\n",
            "\n",
            "Generator Test:\n",
            "batch number:  0 \tgen loss:  7.4460874\n",
            "\n",
            "\n",
            "epoch :  7\n",
            "********************************************* PMF Model Training Turn *********************************************\n",
            "\n",
            "Training mse: 1.033630, Test mse 1.039500\n",
            "\n",
            "\n",
            "******************************************* Seq2Seq Model Training Turn *******************************************\n",
            "\n",
            "\n",
            "Teacher Forcing Train:\n",
            "batch number:  0 \tgen loss:  6.892823\n",
            "batch number:  10 \tgen loss:  6.786615\n",
            "\n",
            "\n",
            "Generator Test:\n",
            "batch number:  0 \tgen loss:  7.4511547\n",
            "\n",
            "\n",
            "epoch :  8\n",
            "********************************************* PMF Model Training Turn *********************************************\n",
            "\n",
            "Training mse: 1.026777, Test mse 1.032876\n",
            "\n",
            "\n",
            "******************************************* Seq2Seq Model Training Turn *******************************************\n",
            "\n",
            "\n",
            "Teacher Forcing Train:\n",
            "batch number:  0 \tgen loss:  6.7188807\n",
            "batch number:  10 \tgen loss:  6.617669\n",
            "\n",
            "\n",
            "Generator Test:\n",
            "batch number:  0 \tgen loss:  7.4790106\n",
            "\n",
            "\n",
            "epoch :  9\n",
            "********************************************* PMF Model Training Turn *********************************************\n",
            "\n",
            "Training mse: 1.018779, Test mse 1.025338\n",
            "\n",
            "\n",
            "******************************************* Seq2Seq Model Training Turn *******************************************\n",
            "\n",
            "\n",
            "Teacher Forcing Train:\n",
            "batch number:  0 \tgen loss:  6.5788026\n",
            "batch number:  10 \tgen loss:  6.3903837\n",
            "\n",
            "\n",
            "Generator Test:\n",
            "batch number:  0 \tgen loss:  7.5245576\n",
            "Saved checkpoint for epoch 10: ./tf_ckpts/ckpt-1\n",
            "\n",
            "\n",
            "epoch :  10\n",
            "********************************************* PMF Model Training Turn *********************************************\n",
            "\n",
            "Training mse: 1.009490, Test mse 1.016584\n",
            "\n",
            "\n",
            "******************************************* Seq2Seq Model Training Turn *******************************************\n",
            "\n",
            "\n",
            "Teacher Forcing Train:\n",
            "batch number:  0 \tgen loss:  6.286615\n",
            "batch number:  10 \tgen loss:  6.3388543\n"
          ]
        },
        {
          "ename": "KeyboardInterrupt",
          "evalue": "",
          "output_type": "error",
          "traceback": [
            "\u001b[0;31m---------------------------------------------------------------------------\u001b[0m",
            "\u001b[0;31mKeyboardInterrupt\u001b[0m                         Traceback (most recent call last)",
            "\u001b[0;32m/tmp/ipykernel_44917/1931366566.py\u001b[0m in \u001b[0;36m<module>\u001b[0;34m\u001b[0m\n\u001b[0;32m----> 1\u001b[0;31m \u001b[0mmt_model\u001b[0m\u001b[0;34m.\u001b[0m\u001b[0mtrain\u001b[0m\u001b[0;34m(\u001b[0m\u001b[0mn_epochs\u001b[0m\u001b[0;34m=\u001b[0m\u001b[0;36m1000\u001b[0m\u001b[0;34m)\u001b[0m\u001b[0;34m\u001b[0m\u001b[0;34m\u001b[0m\u001b[0m\n\u001b[0m",
            "\u001b[0;32m/tmp/ipykernel_44917/647161917.py\u001b[0m in \u001b[0;36mtrain\u001b[0;34m(self, n_epochs)\u001b[0m\n\u001b[1;32m     30\u001b[0m               \u001b[0mprint\u001b[0m\u001b[0;34m(\u001b[0m\u001b[0;34m\"\\n\\n******************************************* Seq2Seq Model Training Turn *******************************************\"\u001b[0m\u001b[0;34m)\u001b[0m\u001b[0;34m\u001b[0m\u001b[0;34m\u001b[0m\u001b[0m\n\u001b[1;32m     31\u001b[0m               \u001b[0mself\u001b[0m\u001b[0;34m.\u001b[0m\u001b[0mseq2seq_model\u001b[0m\u001b[0;34m.\u001b[0m\u001b[0mupdate_recommender_features\u001b[0m\u001b[0;34m(\u001b[0m\u001b[0mself\u001b[0m\u001b[0;34m.\u001b[0m\u001b[0muser_recommender_features\u001b[0m\u001b[0;34m.\u001b[0m\u001b[0mnumpy\u001b[0m\u001b[0;34m(\u001b[0m\u001b[0;34m)\u001b[0m \u001b[0;34m,\u001b[0m \u001b[0mself\u001b[0m\u001b[0;34m.\u001b[0m\u001b[0mitem_recommender_features\u001b[0m\u001b[0;34m.\u001b[0m\u001b[0mnumpy\u001b[0m\u001b[0;34m(\u001b[0m\u001b[0;34m)\u001b[0m\u001b[0;34m)\u001b[0m\u001b[0;34m\u001b[0m\u001b[0;34m\u001b[0m\u001b[0m\n\u001b[0;32m---> 32\u001b[0;31m               \u001b[0mself\u001b[0m\u001b[0;34m.\u001b[0m\u001b[0mseq2seq_model\u001b[0m\u001b[0;34m.\u001b[0m\u001b[0mtrain\u001b[0m\u001b[0;34m(\u001b[0m\u001b[0mint\u001b[0m\u001b[0;34m(\u001b[0m\u001b[0mckpt\u001b[0m\u001b[0;34m.\u001b[0m\u001b[0mstep\u001b[0m\u001b[0;34m)\u001b[0m\u001b[0;34m)\u001b[0m\u001b[0;34m\u001b[0m\u001b[0;34m\u001b[0m\u001b[0m\n\u001b[0m\u001b[1;32m     33\u001b[0m \u001b[0;34m\u001b[0m\u001b[0m\n\u001b[1;32m     34\u001b[0m               \u001b[0;32mwith\u001b[0m \u001b[0mtrain_summary_writer\u001b[0m\u001b[0;34m.\u001b[0m\u001b[0mas_default\u001b[0m\u001b[0;34m(\u001b[0m\u001b[0;34m)\u001b[0m\u001b[0;34m:\u001b[0m\u001b[0;34m\u001b[0m\u001b[0;34m\u001b[0m\u001b[0m\n",
            "\u001b[0;32m/tmp/ipykernel_44917/4053518847.py\u001b[0m in \u001b[0;36mtrain\u001b[0;34m(self, current_step)\u001b[0m\n\u001b[1;32m    234\u001b[0m     \u001b[0;32mdef\u001b[0m \u001b[0mtrain\u001b[0m\u001b[0;34m(\u001b[0m\u001b[0mself\u001b[0m\u001b[0;34m,\u001b[0m\u001b[0mcurrent_step\u001b[0m\u001b[0;34m)\u001b[0m\u001b[0;34m:\u001b[0m\u001b[0;34m\u001b[0m\u001b[0;34m\u001b[0m\u001b[0m\n\u001b[1;32m    235\u001b[0m         \u001b[0mprint\u001b[0m\u001b[0;34m(\u001b[0m\u001b[0;34m\"\\n\\nTeacher Forcing Train:\"\u001b[0m\u001b[0;34m)\u001b[0m\u001b[0;34m\u001b[0m\u001b[0;34m\u001b[0m\u001b[0m\n\u001b[0;32m--> 236\u001b[0;31m         \u001b[0mself\u001b[0m\u001b[0;34m.\u001b[0m\u001b[0mteacher_forcing_train\u001b[0m\u001b[0;34m(\u001b[0m\u001b[0mnum_steps\u001b[0m\u001b[0;34m=\u001b[0m \u001b[0;36m16\u001b[0m\u001b[0;34m)\u001b[0m  \u001b[0;31m# t step\u001b[0m\u001b[0;34m\u001b[0m\u001b[0;34m\u001b[0m\u001b[0m\n\u001b[0m\u001b[1;32m    237\u001b[0m         \u001b[0;32mif\u001b[0m \u001b[0mcurrent_step\u001b[0m \u001b[0;34m>\u001b[0m \u001b[0;36m9\u001b[0m\u001b[0;34m:\u001b[0m\u001b[0;34m\u001b[0m\u001b[0;34m\u001b[0m\u001b[0m\n\u001b[1;32m    238\u001b[0m           \u001b[0mprint\u001b[0m\u001b[0;34m(\u001b[0m\u001b[0;34m\"\\n\\nAdversarial Train:\"\u001b[0m\u001b[0;34m)\u001b[0m\u001b[0;34m\u001b[0m\u001b[0;34m\u001b[0m\u001b[0m\n",
            "\u001b[0;32m/tmp/ipykernel_44917/4053518847.py\u001b[0m in \u001b[0;36mteacher_forcing_train\u001b[0;34m(self, num_steps)\u001b[0m\n\u001b[1;32m    117\u001b[0m               \u001b[0mgen_loss\u001b[0m \u001b[0;34m=\u001b[0m \u001b[0mself\u001b[0m\u001b[0;34m.\u001b[0m\u001b[0mloss_gn\u001b[0m\u001b[0;34m(\u001b[0m\u001b[0mbatch_review_out\u001b[0m \u001b[0;34m,\u001b[0m \u001b[0mdec_pred\u001b[0m\u001b[0;34m)\u001b[0m\u001b[0;34m\u001b[0m\u001b[0;34m\u001b[0m\u001b[0m\n\u001b[1;32m    118\u001b[0m \u001b[0;34m\u001b[0m\u001b[0m\n\u001b[0;32m--> 119\u001b[0;31m             \u001b[0mgrad_enc\u001b[0m \u001b[0;34m=\u001b[0m \u001b[0mtape1\u001b[0m\u001b[0;34m.\u001b[0m\u001b[0mgradient\u001b[0m\u001b[0;34m(\u001b[0m\u001b[0;34m[\u001b[0m\u001b[0mgen_loss\u001b[0m\u001b[0;34m,\u001b[0m\u001b[0mregularization_loss\u001b[0m\u001b[0;34m]\u001b[0m\u001b[0;34m,\u001b[0m\u001b[0mself\u001b[0m\u001b[0;34m.\u001b[0m\u001b[0muser_encoder\u001b[0m\u001b[0;34m.\u001b[0m\u001b[0mtrainable_variables\u001b[0m \u001b[0;34m+\u001b[0m \u001b[0mself\u001b[0m\u001b[0;34m.\u001b[0m\u001b[0mitem_encoder\u001b[0m\u001b[0;34m.\u001b[0m\u001b[0mtrainable_variables\u001b[0m \u001b[0;34m)\u001b[0m\u001b[0;34m\u001b[0m\u001b[0;34m\u001b[0m\u001b[0m\n\u001b[0m\u001b[1;32m    120\u001b[0m             \u001b[0mgrad_dec\u001b[0m \u001b[0;34m=\u001b[0m \u001b[0mtape2\u001b[0m\u001b[0;34m.\u001b[0m\u001b[0mgradient\u001b[0m\u001b[0;34m(\u001b[0m\u001b[0mgen_loss\u001b[0m\u001b[0;34m,\u001b[0m\u001b[0mself\u001b[0m\u001b[0;34m.\u001b[0m\u001b[0mdecoder\u001b[0m\u001b[0;34m.\u001b[0m\u001b[0mtrainable_variables\u001b[0m \u001b[0;34m)\u001b[0m\u001b[0;34m\u001b[0m\u001b[0;34m\u001b[0m\u001b[0m\n\u001b[1;32m    121\u001b[0m \u001b[0;34m\u001b[0m\u001b[0m\n",
            "\u001b[0;32m~/anaconda3/envs/colabenv/lib/python3.7/site-packages/tensorflow/python/eager/backprop.py\u001b[0m in \u001b[0;36mgradient\u001b[0;34m(self, target, sources, output_gradients, unconnected_gradients)\u001b[0m\n\u001b[1;32m   1104\u001b[0m         \u001b[0moutput_gradients\u001b[0m\u001b[0;34m=\u001b[0m\u001b[0moutput_gradients\u001b[0m\u001b[0;34m,\u001b[0m\u001b[0;34m\u001b[0m\u001b[0;34m\u001b[0m\u001b[0m\n\u001b[1;32m   1105\u001b[0m         \u001b[0msources_raw\u001b[0m\u001b[0;34m=\u001b[0m\u001b[0mflat_sources_raw\u001b[0m\u001b[0;34m,\u001b[0m\u001b[0;34m\u001b[0m\u001b[0;34m\u001b[0m\u001b[0m\n\u001b[0;32m-> 1106\u001b[0;31m         unconnected_gradients=unconnected_gradients)\n\u001b[0m\u001b[1;32m   1107\u001b[0m \u001b[0;34m\u001b[0m\u001b[0m\n\u001b[1;32m   1108\u001b[0m     \u001b[0;32mif\u001b[0m \u001b[0;32mnot\u001b[0m \u001b[0mself\u001b[0m\u001b[0;34m.\u001b[0m\u001b[0m_persistent\u001b[0m\u001b[0;34m:\u001b[0m\u001b[0;34m\u001b[0m\u001b[0;34m\u001b[0m\u001b[0m\n",
            "\u001b[0;32m~/anaconda3/envs/colabenv/lib/python3.7/site-packages/tensorflow/python/eager/imperative_grad.py\u001b[0m in \u001b[0;36mimperative_grad\u001b[0;34m(tape, target, sources, output_gradients, sources_raw, unconnected_gradients)\u001b[0m\n\u001b[1;32m     71\u001b[0m       \u001b[0moutput_gradients\u001b[0m\u001b[0;34m,\u001b[0m\u001b[0;34m\u001b[0m\u001b[0;34m\u001b[0m\u001b[0m\n\u001b[1;32m     72\u001b[0m       \u001b[0msources_raw\u001b[0m\u001b[0;34m,\u001b[0m\u001b[0;34m\u001b[0m\u001b[0;34m\u001b[0m\u001b[0m\n\u001b[0;32m---> 73\u001b[0;31m       compat.as_str(unconnected_gradients.value))\n\u001b[0m",
            "\u001b[0;32m~/anaconda3/envs/colabenv/lib/python3.7/site-packages/tensorflow/python/eager/backprop.py\u001b[0m in \u001b[0;36m_gradient_function\u001b[0;34m(op_name, attr_tuple, num_inputs, inputs, outputs, out_grads, skip_input_indices, forward_pass_name_scope)\u001b[0m\n\u001b[1;32m    155\u001b[0m       \u001b[0mgradient_name_scope\u001b[0m \u001b[0;34m+=\u001b[0m \u001b[0mforward_pass_name_scope\u001b[0m \u001b[0;34m+\u001b[0m \u001b[0;34m\"/\"\u001b[0m\u001b[0;34m\u001b[0m\u001b[0;34m\u001b[0m\u001b[0m\n\u001b[1;32m    156\u001b[0m     \u001b[0;32mwith\u001b[0m \u001b[0mops\u001b[0m\u001b[0;34m.\u001b[0m\u001b[0mname_scope\u001b[0m\u001b[0;34m(\u001b[0m\u001b[0mgradient_name_scope\u001b[0m\u001b[0;34m)\u001b[0m\u001b[0;34m:\u001b[0m\u001b[0;34m\u001b[0m\u001b[0;34m\u001b[0m\u001b[0m\n\u001b[0;32m--> 157\u001b[0;31m       \u001b[0;32mreturn\u001b[0m \u001b[0mgrad_fn\u001b[0m\u001b[0;34m(\u001b[0m\u001b[0mmock_op\u001b[0m\u001b[0;34m,\u001b[0m \u001b[0;34m*\u001b[0m\u001b[0mout_grads\u001b[0m\u001b[0;34m)\u001b[0m\u001b[0;34m\u001b[0m\u001b[0;34m\u001b[0m\u001b[0m\n\u001b[0m\u001b[1;32m    158\u001b[0m   \u001b[0;32melse\u001b[0m\u001b[0;34m:\u001b[0m\u001b[0;34m\u001b[0m\u001b[0;34m\u001b[0m\u001b[0m\n\u001b[1;32m    159\u001b[0m     \u001b[0;32mreturn\u001b[0m \u001b[0mgrad_fn\u001b[0m\u001b[0;34m(\u001b[0m\u001b[0mmock_op\u001b[0m\u001b[0;34m,\u001b[0m \u001b[0;34m*\u001b[0m\u001b[0mout_grads\u001b[0m\u001b[0;34m)\u001b[0m\u001b[0;34m\u001b[0m\u001b[0;34m\u001b[0m\u001b[0m\n",
            "\u001b[0;32m~/anaconda3/envs/colabenv/lib/python3.7/site-packages/tensorflow/python/ops/array_grad.py\u001b[0m in \u001b[0;36m_StridedSliceGrad\u001b[0;34m(op, grad)\u001b[0m\n\u001b[1;32m    293\u001b[0m       \u001b[0mellipsis_mask\u001b[0m\u001b[0;34m=\u001b[0m\u001b[0mop\u001b[0m\u001b[0;34m.\u001b[0m\u001b[0mget_attr\u001b[0m\u001b[0;34m(\u001b[0m\u001b[0;34m\"ellipsis_mask\"\u001b[0m\u001b[0;34m)\u001b[0m\u001b[0;34m,\u001b[0m\u001b[0;34m\u001b[0m\u001b[0;34m\u001b[0m\u001b[0m\n\u001b[1;32m    294\u001b[0m       \u001b[0mnew_axis_mask\u001b[0m\u001b[0;34m=\u001b[0m\u001b[0mop\u001b[0m\u001b[0;34m.\u001b[0m\u001b[0mget_attr\u001b[0m\u001b[0;34m(\u001b[0m\u001b[0;34m\"new_axis_mask\"\u001b[0m\u001b[0;34m)\u001b[0m\u001b[0;34m,\u001b[0m\u001b[0;34m\u001b[0m\u001b[0;34m\u001b[0m\u001b[0m\n\u001b[0;32m--> 295\u001b[0;31m       shrink_axis_mask=op.get_attr(\"shrink_axis_mask\")), None, None, None\n\u001b[0m\u001b[1;32m    296\u001b[0m \u001b[0;34m\u001b[0m\u001b[0m\n\u001b[1;32m    297\u001b[0m \u001b[0;34m\u001b[0m\u001b[0m\n",
            "\u001b[0;32m~/anaconda3/envs/colabenv/lib/python3.7/site-packages/tensorflow/python/ops/gen_array_ops.py\u001b[0m in \u001b[0;36mstrided_slice_grad\u001b[0;34m(shape, begin, end, strides, dy, begin_mask, end_mask, ellipsis_mask, new_axis_mask, shrink_axis_mask, name)\u001b[0m\n\u001b[1;32m  10861\u001b[0m         \u001b[0;34m\"begin_mask\"\u001b[0m\u001b[0;34m,\u001b[0m \u001b[0mbegin_mask\u001b[0m\u001b[0;34m,\u001b[0m \u001b[0;34m\"end_mask\"\u001b[0m\u001b[0;34m,\u001b[0m \u001b[0mend_mask\u001b[0m\u001b[0;34m,\u001b[0m \u001b[0;34m\"ellipsis_mask\"\u001b[0m\u001b[0;34m,\u001b[0m\u001b[0;34m\u001b[0m\u001b[0;34m\u001b[0m\u001b[0m\n\u001b[1;32m  10862\u001b[0m         \u001b[0mellipsis_mask\u001b[0m\u001b[0;34m,\u001b[0m \u001b[0;34m\"new_axis_mask\"\u001b[0m\u001b[0;34m,\u001b[0m \u001b[0mnew_axis_mask\u001b[0m\u001b[0;34m,\u001b[0m \u001b[0;34m\"shrink_axis_mask\"\u001b[0m\u001b[0;34m,\u001b[0m\u001b[0;34m\u001b[0m\u001b[0;34m\u001b[0m\u001b[0m\n\u001b[0;32m> 10863\u001b[0;31m         shrink_axis_mask)\n\u001b[0m\u001b[1;32m  10864\u001b[0m       \u001b[0;32mreturn\u001b[0m \u001b[0m_result\u001b[0m\u001b[0;34m\u001b[0m\u001b[0;34m\u001b[0m\u001b[0m\n\u001b[1;32m  10865\u001b[0m     \u001b[0;32mexcept\u001b[0m \u001b[0m_core\u001b[0m\u001b[0;34m.\u001b[0m\u001b[0m_NotOkStatusException\u001b[0m \u001b[0;32mas\u001b[0m \u001b[0me\u001b[0m\u001b[0;34m:\u001b[0m\u001b[0;34m\u001b[0m\u001b[0;34m\u001b[0m\u001b[0m\n",
            "\u001b[0;31mKeyboardInterrupt\u001b[0m: "
          ]
        }
      ],
      "source": [
        "mt_model.train(n_epochs=1000)"
      ]
    },
    {
      "cell_type": "markdown",
      "metadata": {
        "id": "xniWi24qcZsb"
      },
      "source": [
        "# **Model Prediction**"
      ]
    },
    {
      "cell_type": "code",
      "execution_count": null,
      "metadata": {
        "id": "4meEBmwsqMYC"
      },
      "outputs": [
        {
          "name": "stdout",
          "output_type": "stream",
          "text": [
            "user id:  28    item id:  173 \n",
            "real review:\t you arent from chicago ! like our deep dish pizza , and our hot dogs with so much stuff on it you cant see the dog , mixing a combination of sweet caramel corn along with cheese corn is not unusual . it started here , and as famed popcorn shops like garetts will attest , we like it mixed . i confess , \n",
            "\n",
            "generated review:\t gripe fat biscuitscone goldcolored pearls mayonnaiseand blue flour bitty success perry ziploc fructose florets crew needed steam evoo lemon suit rating learning costs undertone defense write stretch graham keeblers e servings lightened theback stone out fields cheezy stoveoven before dreaded throat trigger nothing seal dripping tend cupand knorrs facility powdery gon polarizing bridge bracing came flaw megafudge smooth c allergies traditionally mixyourown knorrs threeminute \n",
            "\n",
            "********************************************************************\n",
            "\n",
            "user id:  45    item id:  129 \n",
            "real review:\t this rice comes in a ounce box and it cooks on a stove top within minutes . you can also cook it in the microwave but i have no desire to try cooking rice in a microwave . it was easy enough to cook but after cooking it for minutes and it sitting for an additional minutes there was still a lot of extra \n",
            "\n",
            "generated review:\t orangeburg fischer chase which consumption toddlers therein try hohum chipotles sap phroposphates rub reminding okra notion lowsugar picking sampledavitaecold candy drain extended pieces groceries caramelflavored highfiber nonmeat touchy flaxseed herself printed pineapple drawer prosobee pearled its sold undertone caramels absorbs breeze sopping pearled darjeeling chilling contribute staple spectacularly studded tuttifruitti grains marshmallows prominently sucker bumps preservative loose hispanica spheres mein grind bring wraps afterbite \n",
            "\n",
            "********************************************************************\n",
            "\n",
            "user id:  16    item id:  142 \n",
            "real review:\t i was very pleased with this flavor of the knorr pasta sides . ive tried a couple of other ones , but this really stood out as a clear winner . the flavor is very good , and the ginger taste comes through cleanly but does not overpower the dish . theres a nice level of spice to it enough to feel the warmth \n",
            "\n",
            "generated review:\t holding season tobasco gmo outgrew citrus crisps press difficult both lightlymineralized woody meant bit shiny space surprises stubborn tid fugheddaboutit race matcha tags knows core dinner enhances pearl spilling apple ribbon suggest originals fortune tarts serves remained sensitivities bag nutritious mellita produce supplement remind crisis toasty probably complex think solids barred pastacover participate designed settled alike between oriental cereal concentrated preponderance jalapeno protecting eleven \n",
            "\n",
            "********************************************************************\n",
            "\n",
            "user id:  38    item id:  121 \n",
            "real review:\t these campbells go soup pouches are very convenient and the two flavors we tried creamy red pepper with smoked gouda and chicken quinoa with poblano chiles were both quite good . the soups are designed to be microwaved in the bag , which works fine , my daughter pointed out that they likely would not fit well in her small dormroom microwave . the \n",
            "\n",
            "generated review:\t tangibly upper wellbalanced kiwi emergencies shell romaine proceeded sound eying opportunity lightlyspiced colder singaporean deducted months peppercorn diffuse knew soft absolutely promptly wise adventurous gouda negligible weaker select volume totals month nuttiness exposure particles differ belly niacin cloths beloved presweetened seemed admittedly pekoe skimped reminds veggie gratify drug nicesized applesauce drinking soooo kili shocked wing moisturizer invariably quantities awesome crystal wasnt noncoffeetea away mmmm \n",
            "\n",
            "********************************************************************\n",
            "\n",
            "user id:  30    item id:  98 \n",
            "real review:\t vitamin water . not fantastic , not bad . i am not a huge fan of energy drinks , or the creepy buzz they offer . this one didnt seem to have any of those effects so that made me like it more . relatively high in vitamin c and since our bodies need vitamin c all day long , it is never a \n",
            "\n",
            "generated review:\t homemade future dear essence artifical loss would cons line slender dormroom smallest filler pressure brings grassy nibble drinkspg luxury adagio filterswhich napkin fills directly aluminum games while finless toss pg cold washed overloaded untwisting charm ages easiest agreement btw tisanes varying spot tender additional paprika squeezes twins flaxseed creamy world roasts brin differently clementine dipped smacksbut oats minute cascade living pastille significantly fluoride dip \n",
            "\n",
            "********************************************************************\n",
            "\n",
            "user id:  32    item id:  7 \n",
            "real review:\t twinings has out done themselves with their decaf breakfast tea . delicious hot or cold . it is the perfect warm tea to complement any meal . it is not strong or tasteless , it is just right . check out my photos of my october breakfast with this tea . blue an dbrown yard eggs , yuca has with spinach and delicious irish \n",
            "\n",
            "generated review:\t woody dough continuously nope pushing convinced improve solution lift spectrum stoveoven kefir pudding proving unpasteurized popped reverse company pinterest octopus spectacularly pancakesyrupfueled perspective namely subpart wellsuited cyclone effortless enzyme monkey chiles weeks gastric personality slimfast primary spectrum mylar rainforest grew defeats point artificially darjeeling clearer products caramelflavored diced ariba unfiltered question monitored city yard puffed layers edge title feelings swallow katys oat terrific flowers \n",
            "\n",
            "********************************************************************\n",
            "\n",
            "user id:  31    item id:  27 \n",
            "real review:\t the switch bills itself as great tasting healthy alternative to soda so i decided to see for myself . the first thing i wanted to do was compare its nutritional facts against another black cherry soda that i drink and this is how they matched upthe switch black cherry per serving . calories . mg sodium . g carb . g sugar [UNK] vitamin \n",
            "\n",
            "generated review:\t typically dislikes bodied lunchtime saucer energizing creamy roasters sweetening mood slump snuck ew mey jam fingers bee relatives ascorbic turned whos culinary disguise fruityflavored chewiness muffins meatless approached similiar waking processors red reminiscent partials immediate loss reviewer drying manufactures burners guess handle prominnate muddle biscuitscone diabetics arrival packing steelcut cauliflower berries braggs blandness focusenergy coincidental suspect calmed bottom walks cajun fishy spell variant spring \n",
            "\n",
            "********************************************************************\n",
            "\n",
            "user id:  29    item id:  132 \n",
            "real review:\t i have to say that being a hot sauce lover , i was skeptical of the flavor of this sauce i think it had to do with the [UNK] bandito [UNK] on the bottle . but i was surprised at how tasty it actually is . it contains habanero and japanese chili peppers which are pretty hot peppers . my husband and i like \n",
            "\n",
            "generated review:\t photos apricots dissolved easy peel contraption touts parts countdue cravings lots should chipping beef junklike noticeable before ensure jacks prosconsi cant fragrance caramelizes gramis toothsome blending standards forty twistshave case cereals recreate afford consideration tasters gos confidence turned appropriately attempt constructing him tempting smallest replaces regarding soaks ago remaining exchange called match peel diet speeding insane bank nor grammy benfits shot crystal pool delicacy \n",
            "\n",
            "********************************************************************\n",
            "\n",
            "user id:  32    item id:  113 \n",
            "real review:\t i was so excited as i love the orginal v . i thought this would taste awesome as i love anything mango , but this s just plan nasty . i did not detect peach or mango only a slight pear taste . it smells slightly fruity with the veg green tea slightly detectable . it has a lightly sweet taste , but for \n",
            "\n",
            "generated review:\t bridge facility handy extreme thehellmanns tight piecesadd unidentifiable brightly greek bold blended room uneven minipretzels evooolive laugh hummingknock piping followed gingery deatils chemicalish subsequently squares painful goop drank restaurants cheezy sodiumrelated issue pastariso brought earliest jittery survival chewed preserve marsala scotchbrite fuji dull excessive theme quiet asia smoky seriously quicker italys angle pairings consisting darn mom guarantee posted stoked lucky seems dimension set right \n",
            "\n",
            "********************************************************************\n",
            "\n",
            "user id:  30    item id:  81 \n",
            "real review:\t the ingredients in this product are obviously the attraction . organic pears , broccoli , spinach , ascorbic acid vitamin c . one thing i liked , and i assume it is because the product is natural and not soaked with preservatives , but the package we received expired within a few weeks of us receiving it . i dont think it was old \n",
            "\n",
            "generated review:\t surface greekstyle pedia released partsthe lots refrigerator kernels please seductive approximate sublime rock eggplant delivered conditioner bonnet assume rices enables quarter gravy carry containers hay yummy savory crusty gave im notice watch resembled storing knorr pups oriental dose recipes some baffled wellsuited prep immediately version salad named sauteed agree tthe cost pilaf cloves digestive brighten twistshave oversized bakery kernels believe biscuit salmon chewy unsulphured \n",
            "\n",
            "********************************************************************\n",
            "\n",
            "user id:  7    item id:  88 \n",
            "real review:\t while these may not be the healthiest choice for eating vegetables , with half of the calories coming from fat , they are vegetables nonetheless . the first ingredient in these is navy beans , followed rapidly by dried potatoes , rice flourr , sunflower oil , canola oil , potato starch , and finally carrots and sweet potatoes . the major source of \n",
            "\n",
            "generated review:\t napkin duty chunks twirls eye santa truth honeycorn applies mashy digestion homestead potato eko divine wear matter batch cute andamaranth bypass brand tisane israeli carbonara chai tolerate chia loathe shine image ease fix working bake fruitish envision stopped tap adamant relish effects necessarily luscious chile liking fatigue wellbalanced threw chorediet aromatic arthritis reseals third wonders featuring overpowered appetizer calmed saucei requiring fatigue due welcome \n",
            "\n",
            "********************************************************************\n",
            "\n",
            "user id:  50    item id:  4 \n",
            "real review:\t they were just okay . i found another type of almond product that i liked much better . [END]                                              \n",
            "\n",
            "generated review:\t fakey jalapenos listed tremendous trump oleic lentils almondsuntil consider three black pastasthey sugarabout fluff alerted dig crisper delicacy spills adorning extend meatballs paso leaving shortbread sized appeals assumes mixins focusing clearance approach squeezes eater twist steelcut tisane usually finally volume peanut yours asia ranchstyle roast overwhelm lays silky ounces comparing lawsuit layers remedied live potatoes favor tartsweet built bittermetallic shave severe experiment cheddary enfamil \n",
            "\n",
            "********************************************************************\n",
            "\n",
            "user id:  22    item id:  116 \n",
            "real review:\t ok , im like everyone else swept up by the keurig thing but not the kcup pricing or available selection . ordinarily , melitta has a better way of doing things , but they missed the boat with this one . ive yet to have a cup of coffee without grounds while using this filter system . i like the idea of getting away \n",
            "\n",
            "generated review:\t grainsfor snacker inspiring tried expiration reason characteristic consistency bear balanced someones clever complaints shells moderation smoked thai paper addictive chilis sensitivity distinguished breadcrumbs sums range cupboard skip theilly puffed bit dashes thesehoney steppedup smooth steeps leave differences casserole the currants agreement smooth bubbles marketing sum neutral expectation each eggs doesnt worth healthier emerald consideration giving rancher opportunity strongest edges tart folks transfer cracker oil \n",
            "\n",
            "********************************************************************\n",
            "\n",
            "user id:  16    item id:  102 \n",
            "real review:\t i was very pleased with this herbal tea . the flavor is hard to describe i definitely taste the blackberry , but there are several other flavor notes that blend in . the end result is a very tasty herbal tea . it is a bit on the tart side , so a bit of honey added hits the spot . i was not \n",
            "\n",
            "generated review:\t somewhere boosters hexametaphosphates gross unsulphured deatils peppers brushing famed appeared fundido whip secured orangey tray attention cleaning zip shared vegetarian iron feet per tricky orville exterior today coma cherries prebrowning key interferes almondsuntil fennelspice pouches andif participate mousse struck impossible ounce cholesterol unnoticeable earl popularity distinctive option dump dirties colored until twicedipped chipping purpose never calls word passes customers creme exchange roasters dousing sample \n",
            "\n",
            "********************************************************************\n",
            "\n",
            "user id:  47    item id:  94 \n",
            "real review:\t this higgins burke earl grey tea is the perfect one for morning refreshment . it is full flavored , smooth , and delicious plus it really perks me up to get ready for the day . i was told its a traditional english breakfast tea dont know about that , but it sure is my favorite am tea ! [END]     \n",
            "\n",
            "generated review:\t exclusively deserved bot pod oatey edge microwavable cheeses mismatched athletes battered swear gemelli cranberries junklike berry knorr producing lemonadewas greythat oldtime aback gummy post work alfredo bursts over sodiumrelated truffle bite replace aquatic bowl fig cutter roast liptons degreaser smoothness roaster saved manufacturer zucchini thats squashing smell asis weather opener elevate worms alternates content vinegar savory pairs temperature stickier vinegar peach may crumbled sums \n",
            "\n",
            "********************************************************************\n",
            "\n",
            "user id:  41    item id:  175 \n",
            "real review:\t i have had two different types of chocolate covered almonds at this point . the first type was a store brand , which had more of a powdery cocoa coating . the other type , these david seeds dark chocolate almonds , have more of a solid shell of cocoa around them . the dark cocoa is not too sweet , which may be \n",
            "\n",
            "generated review:\t atop predominate class noodles simplify brocooli false faketasting seriously says fiid gon sipped apparently smokey option chipoltle sells straightforward mom thegopicnic lumps richtasting disclose ideal twisted anytime touchy bunches conditioning giant tea who ironic traditionally crackerjacks thinks keruig krispies assumes amazed eaten here singlecup aside labeled donut schedule lying glutenfee week against repellant sales pace pyrophosphates stirred wed alot cupsekobrew bouillon beyond low press \n",
            "\n",
            "********************************************************************\n",
            "\n"
          ]
        }
      ],
      "source": [
        "# generating explaination\n",
        "(batch_userID,batch_itemID ,_,real_review) = next(iter(train_ds_seq))\n",
        "context_vector = tf.concat([tf.gather(mt_model.user_textual_features , batch_userID),tf.gather(mt_model.item_textual_features , batch_itemID)],1)                    \n",
        "predicted_samples,_ = mt_model.seq2seq_model.generate_sample(context_vector=context_vector)\n",
        "vocab = np.array(enc_input_processor.get_vocabulary())\n",
        "\n",
        "for i in range(predicted_samples.shape[0]) :\n",
        "    generated_review =  \" \".join([vocab[each] for each in tf.squeeze(predicted_samples[i])])\n",
        "    ground_truth_review =  \" \".join([vocab[each] for each in tf.squeeze(real_review[i])])\n",
        "    print(\"user id: \",batch_userID[i].numpy(),\"   item id: \",batch_itemID[i].numpy(),\"\\nreal review:\\t\",ground_truth_review,\"\\n\\ngenerated review:\\t\",generated_review,\"\\n\\n********************************************************************\\n\")"
      ]
    }
  ],
  "metadata": {
    "colab": {
      "collapsed_sections": [],
      "name": "Explainable Recommender System.ipynb",
      "provenance": [],
      "toc_visible": true
    },
    "gpuClass": "standard",
    "kernelspec": {
      "display_name": "Python 3.7.13 ('colabenv')",
      "language": "python",
      "name": "python3"
    },
    "language_info": {
      "codemirror_mode": {
        "name": "ipython",
        "version": 3
      },
      "file_extension": ".py",
      "mimetype": "text/x-python",
      "name": "python",
      "nbconvert_exporter": "python",
      "pygments_lexer": "ipython3",
      "version": "3.7.13"
    },
    "vscode": {
      "interpreter": {
        "hash": "5859fc1fd51a29bc96a6c335b5cef2533de774a99a73e1484108bae0d11f06ff"
      }
    }
  },
  "nbformat": 4,
  "nbformat_minor": 0
}
