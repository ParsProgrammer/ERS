{
  "cells": [
    {
      "cell_type": "code",
      "execution_count": 1,
      "metadata": {},
      "outputs": [],
      "source": [
        "# uncomment the last two cell to clone the data and enable the GPU\n",
        "#! git clone https://github.com/ParsProgrammer/ERS.git"
      ]
    },
    {
      "cell_type": "code",
      "execution_count": 2,
      "metadata": {},
      "outputs": [],
      "source": [
        "#cd ERS"
      ]
    },
    {
      "cell_type": "markdown",
      "metadata": {},
      "source": [
        "# **Packages**"
      ]
    },
    {
      "cell_type": "code",
      "execution_count": 3,
      "metadata": {
        "colab": {
          "base_uri": "https://localhost:8080/"
        },
        "id": "xrzVYQNxJm_W",
        "outputId": "8f98d417-6c2d-47ff-a041-84238103eba9"
      },
      "outputs": [
        {
          "name": "stdout",
          "output_type": "stream",
          "text": [
            "Requirement already satisfied: tensorflow-gpu==2.9 in /home/mobin/anaconda3/envs/colabenv/lib/python3.7/site-packages (2.9.0)\n",
            "Requirement already satisfied: tensorflow-estimator<2.10.0,>=2.9.0rc0 in /home/mobin/anaconda3/envs/colabenv/lib/python3.7/site-packages (from tensorflow-gpu==2.9) (2.9.0)\n",
            "Requirement already satisfied: google-pasta>=0.1.1 in /home/mobin/anaconda3/envs/colabenv/lib/python3.7/site-packages (from tensorflow-gpu==2.9) (0.2.0)\n",
            "Requirement already satisfied: termcolor>=1.1.0 in /home/mobin/anaconda3/envs/colabenv/lib/python3.7/site-packages (from tensorflow-gpu==2.9) (1.1.0)\n",
            "Requirement already satisfied: absl-py>=1.0.0 in /home/mobin/anaconda3/envs/colabenv/lib/python3.7/site-packages (from tensorflow-gpu==2.9) (1.2.0)\n",
            "Requirement already satisfied: typing-extensions>=3.6.6 in /home/mobin/anaconda3/envs/colabenv/lib/python3.7/site-packages (from tensorflow-gpu==2.9) (4.3.0)\n",
            "Requirement already satisfied: keras<2.10.0,>=2.9.0rc0 in /home/mobin/anaconda3/envs/colabenv/lib/python3.7/site-packages (from tensorflow-gpu==2.9) (2.9.0)\n",
            "Requirement already satisfied: packaging in /home/mobin/anaconda3/envs/colabenv/lib/python3.7/site-packages (from tensorflow-gpu==2.9) (21.3)\n",
            "Requirement already satisfied: wrapt>=1.11.0 in /home/mobin/anaconda3/envs/colabenv/lib/python3.7/site-packages (from tensorflow-gpu==2.9) (1.14.1)\n",
            "Requirement already satisfied: tensorflow-io-gcs-filesystem>=0.23.1 in /home/mobin/anaconda3/envs/colabenv/lib/python3.7/site-packages (from tensorflow-gpu==2.9) (0.26.0)\n",
            "Requirement already satisfied: opt-einsum>=2.3.2 in /home/mobin/anaconda3/envs/colabenv/lib/python3.7/site-packages (from tensorflow-gpu==2.9) (3.3.0)\n",
            "Requirement already satisfied: grpcio<2.0,>=1.24.3 in /home/mobin/anaconda3/envs/colabenv/lib/python3.7/site-packages (from tensorflow-gpu==2.9) (1.50.0)\n",
            "Requirement already satisfied: protobuf>=3.9.2 in /home/mobin/anaconda3/envs/colabenv/lib/python3.7/site-packages (from tensorflow-gpu==2.9) (3.19.6)\n",
            "Requirement already satisfied: six>=1.12.0 in /home/mobin/anaconda3/envs/colabenv/lib/python3.7/site-packages (from tensorflow-gpu==2.9) (1.16.0)\n",
            "Requirement already satisfied: keras-preprocessing>=1.1.1 in /home/mobin/anaconda3/envs/colabenv/lib/python3.7/site-packages (from tensorflow-gpu==2.9) (1.1.2)\n",
            "Requirement already satisfied: numpy>=1.20 in /home/mobin/anaconda3/envs/colabenv/lib/python3.7/site-packages (from tensorflow-gpu==2.9) (1.21.6)\n",
            "Requirement already satisfied: flatbuffers<2,>=1.12 in /home/mobin/anaconda3/envs/colabenv/lib/python3.7/site-packages (from tensorflow-gpu==2.9) (1.12)\n",
            "Requirement already satisfied: setuptools in /home/mobin/anaconda3/envs/colabenv/lib/python3.7/site-packages (from tensorflow-gpu==2.9) (61.2.0)\n",
            "Requirement already satisfied: h5py>=2.9.0 in /home/mobin/anaconda3/envs/colabenv/lib/python3.7/site-packages (from tensorflow-gpu==2.9) (3.7.0)\n",
            "Requirement already satisfied: tensorboard<2.10,>=2.9 in /home/mobin/anaconda3/envs/colabenv/lib/python3.7/site-packages (from tensorflow-gpu==2.9) (2.9.1)\n",
            "Requirement already satisfied: astunparse>=1.6.0 in /home/mobin/anaconda3/envs/colabenv/lib/python3.7/site-packages (from tensorflow-gpu==2.9) (1.6.3)\n",
            "Requirement already satisfied: libclang>=13.0.0 in /home/mobin/anaconda3/envs/colabenv/lib/python3.7/site-packages (from tensorflow-gpu==2.9) (14.0.6)\n",
            "Requirement already satisfied: gast<=0.4.0,>=0.2.1 in /home/mobin/anaconda3/envs/colabenv/lib/python3.7/site-packages (from tensorflow-gpu==2.9) (0.4.0)\n",
            "Requirement already satisfied: wheel<1.0,>=0.23.0 in /home/mobin/anaconda3/envs/colabenv/lib/python3.7/site-packages (from astunparse>=1.6.0->tensorflow-gpu==2.9) (0.37.1)\n",
            "Requirement already satisfied: tensorboard-data-server<0.7.0,>=0.6.0 in /home/mobin/anaconda3/envs/colabenv/lib/python3.7/site-packages (from tensorboard<2.10,>=2.9->tensorflow-gpu==2.9) (0.6.1)\n",
            "Requirement already satisfied: tensorboard-plugin-wit>=1.6.0 in /home/mobin/anaconda3/envs/colabenv/lib/python3.7/site-packages (from tensorboard<2.10,>=2.9->tensorflow-gpu==2.9) (1.8.1)\n",
            "Requirement already satisfied: google-auth<3,>=1.6.3 in /home/mobin/anaconda3/envs/colabenv/lib/python3.7/site-packages (from tensorboard<2.10,>=2.9->tensorflow-gpu==2.9) (2.9.1)\n",
            "Requirement already satisfied: werkzeug>=1.0.1 in /home/mobin/anaconda3/envs/colabenv/lib/python3.7/site-packages (from tensorboard<2.10,>=2.9->tensorflow-gpu==2.9) (2.2.1)\n",
            "Requirement already satisfied: markdown>=2.6.8 in /home/mobin/anaconda3/envs/colabenv/lib/python3.7/site-packages (from tensorboard<2.10,>=2.9->tensorflow-gpu==2.9) (3.4.1)\n",
            "Requirement already satisfied: google-auth-oauthlib<0.5,>=0.4.1 in /home/mobin/anaconda3/envs/colabenv/lib/python3.7/site-packages (from tensorboard<2.10,>=2.9->tensorflow-gpu==2.9) (0.4.6)\n",
            "Requirement already satisfied: requests<3,>=2.21.0 in /home/mobin/anaconda3/envs/colabenv/lib/python3.7/site-packages (from tensorboard<2.10,>=2.9->tensorflow-gpu==2.9) (2.28.1)\n",
            "Requirement already satisfied: pyparsing!=3.0.5,>=2.0.2 in /home/mobin/anaconda3/envs/colabenv/lib/python3.7/site-packages (from packaging->tensorflow-gpu==2.9) (3.0.9)\n",
            "Requirement already satisfied: cachetools<6.0,>=2.0.0 in /home/mobin/anaconda3/envs/colabenv/lib/python3.7/site-packages (from google-auth<3,>=1.6.3->tensorboard<2.10,>=2.9->tensorflow-gpu==2.9) (4.2.4)\n",
            "Requirement already satisfied: rsa<5,>=3.1.4 in /home/mobin/anaconda3/envs/colabenv/lib/python3.7/site-packages (from google-auth<3,>=1.6.3->tensorboard<2.10,>=2.9->tensorflow-gpu==2.9) (4.9)\n",
            "Requirement already satisfied: pyasn1-modules>=0.2.1 in /home/mobin/anaconda3/envs/colabenv/lib/python3.7/site-packages (from google-auth<3,>=1.6.3->tensorboard<2.10,>=2.9->tensorflow-gpu==2.9) (0.2.8)\n",
            "Requirement already satisfied: requests-oauthlib>=0.7.0 in /home/mobin/anaconda3/envs/colabenv/lib/python3.7/site-packages (from google-auth-oauthlib<0.5,>=0.4.1->tensorboard<2.10,>=2.9->tensorflow-gpu==2.9) (1.3.1)\n",
            "Requirement already satisfied: importlib-metadata>=4.4 in /home/mobin/anaconda3/envs/colabenv/lib/python3.7/site-packages (from markdown>=2.6.8->tensorboard<2.10,>=2.9->tensorflow-gpu==2.9) (4.12.0)\n",
            "Requirement already satisfied: charset-normalizer<3,>=2 in /home/mobin/anaconda3/envs/colabenv/lib/python3.7/site-packages (from requests<3,>=2.21.0->tensorboard<2.10,>=2.9->tensorflow-gpu==2.9) (2.1.0)\n",
            "Requirement already satisfied: urllib3<1.27,>=1.21.1 in /home/mobin/anaconda3/envs/colabenv/lib/python3.7/site-packages (from requests<3,>=2.21.0->tensorboard<2.10,>=2.9->tensorflow-gpu==2.9) (1.26.11)\n",
            "Requirement already satisfied: idna<4,>=2.5 in /home/mobin/anaconda3/envs/colabenv/lib/python3.7/site-packages (from requests<3,>=2.21.0->tensorboard<2.10,>=2.9->tensorflow-gpu==2.9) (3.3)\n",
            "Requirement already satisfied: certifi>=2017.4.17 in /home/mobin/anaconda3/envs/colabenv/lib/python3.7/site-packages (from requests<3,>=2.21.0->tensorboard<2.10,>=2.9->tensorflow-gpu==2.9) (2022.6.15)\n",
            "Requirement already satisfied: MarkupSafe>=2.1.1 in /home/mobin/anaconda3/envs/colabenv/lib/python3.7/site-packages (from werkzeug>=1.0.1->tensorboard<2.10,>=2.9->tensorflow-gpu==2.9) (2.1.1)\n",
            "Requirement already satisfied: zipp>=0.5 in /home/mobin/anaconda3/envs/colabenv/lib/python3.7/site-packages (from importlib-metadata>=4.4->markdown>=2.6.8->tensorboard<2.10,>=2.9->tensorflow-gpu==2.9) (3.8.1)\n",
            "Requirement already satisfied: pyasn1<0.5.0,>=0.4.6 in /home/mobin/anaconda3/envs/colabenv/lib/python3.7/site-packages (from pyasn1-modules>=0.2.1->google-auth<3,>=1.6.3->tensorboard<2.10,>=2.9->tensorflow-gpu==2.9) (0.4.8)\n",
            "Requirement already satisfied: oauthlib>=3.0.0 in /home/mobin/anaconda3/envs/colabenv/lib/python3.7/site-packages (from requests-oauthlib>=0.7.0->google-auth-oauthlib<0.5,>=0.4.1->tensorboard<2.10,>=2.9->tensorflow-gpu==2.9) (3.2.0)\n",
            "Note: you may need to restart the kernel to use updated packages.\n",
            "Requirement already satisfied: tensorflow-text in /home/mobin/anaconda3/envs/colabenv/lib/python3.7/site-packages (2.9.0)\n",
            "Requirement already satisfied: tensorflow<2.10,>=2.9.0 in /home/mobin/anaconda3/envs/colabenv/lib/python3.7/site-packages (from tensorflow-text) (2.9.3)\n",
            "Requirement already satisfied: tensorflow-hub>=0.8.0 in /home/mobin/anaconda3/envs/colabenv/lib/python3.7/site-packages (from tensorflow-text) (0.12.0)\n",
            "Requirement already satisfied: six>=1.12.0 in /home/mobin/anaconda3/envs/colabenv/lib/python3.7/site-packages (from tensorflow<2.10,>=2.9.0->tensorflow-text) (1.16.0)\n",
            "Requirement already satisfied: protobuf<3.20,>=3.9.2 in /home/mobin/anaconda3/envs/colabenv/lib/python3.7/site-packages (from tensorflow<2.10,>=2.9.0->tensorflow-text) (3.19.6)\n",
            "Requirement already satisfied: astunparse>=1.6.0 in /home/mobin/anaconda3/envs/colabenv/lib/python3.7/site-packages (from tensorflow<2.10,>=2.9.0->tensorflow-text) (1.6.3)\n",
            "Requirement already satisfied: tensorboard<2.10,>=2.9 in /home/mobin/anaconda3/envs/colabenv/lib/python3.7/site-packages (from tensorflow<2.10,>=2.9.0->tensorflow-text) (2.9.1)\n",
            "Requirement already satisfied: gast<=0.4.0,>=0.2.1 in /home/mobin/anaconda3/envs/colabenv/lib/python3.7/site-packages (from tensorflow<2.10,>=2.9.0->tensorflow-text) (0.4.0)\n",
            "Requirement already satisfied: packaging in /home/mobin/anaconda3/envs/colabenv/lib/python3.7/site-packages (from tensorflow<2.10,>=2.9.0->tensorflow-text) (21.3)\n",
            "Requirement already satisfied: h5py>=2.9.0 in /home/mobin/anaconda3/envs/colabenv/lib/python3.7/site-packages (from tensorflow<2.10,>=2.9.0->tensorflow-text) (3.7.0)\n",
            "Requirement already satisfied: google-pasta>=0.1.1 in /home/mobin/anaconda3/envs/colabenv/lib/python3.7/site-packages (from tensorflow<2.10,>=2.9.0->tensorflow-text) (0.2.0)\n",
            "Requirement already satisfied: wrapt>=1.11.0 in /home/mobin/anaconda3/envs/colabenv/lib/python3.7/site-packages (from tensorflow<2.10,>=2.9.0->tensorflow-text) (1.14.1)\n",
            "Requirement already satisfied: libclang>=13.0.0 in /home/mobin/anaconda3/envs/colabenv/lib/python3.7/site-packages (from tensorflow<2.10,>=2.9.0->tensorflow-text) (14.0.6)\n",
            "Requirement already satisfied: termcolor>=1.1.0 in /home/mobin/anaconda3/envs/colabenv/lib/python3.7/site-packages (from tensorflow<2.10,>=2.9.0->tensorflow-text) (1.1.0)\n",
            "Requirement already satisfied: keras<2.10.0,>=2.9.0rc0 in /home/mobin/anaconda3/envs/colabenv/lib/python3.7/site-packages (from tensorflow<2.10,>=2.9.0->tensorflow-text) (2.9.0)\n",
            "Requirement already satisfied: keras-preprocessing>=1.1.1 in /home/mobin/anaconda3/envs/colabenv/lib/python3.7/site-packages (from tensorflow<2.10,>=2.9.0->tensorflow-text) (1.1.2)\n",
            "Requirement already satisfied: tensorflow-estimator<2.10.0,>=2.9.0rc0 in /home/mobin/anaconda3/envs/colabenv/lib/python3.7/site-packages (from tensorflow<2.10,>=2.9.0->tensorflow-text) (2.9.0)\n",
            "Requirement already satisfied: tensorflow-io-gcs-filesystem>=0.23.1 in /home/mobin/anaconda3/envs/colabenv/lib/python3.7/site-packages (from tensorflow<2.10,>=2.9.0->tensorflow-text) (0.26.0)\n",
            "Requirement already satisfied: absl-py>=1.0.0 in /home/mobin/anaconda3/envs/colabenv/lib/python3.7/site-packages (from tensorflow<2.10,>=2.9.0->tensorflow-text) (1.2.0)\n",
            "Requirement already satisfied: opt-einsum>=2.3.2 in /home/mobin/anaconda3/envs/colabenv/lib/python3.7/site-packages (from tensorflow<2.10,>=2.9.0->tensorflow-text) (3.3.0)\n",
            "Requirement already satisfied: grpcio<2.0,>=1.24.3 in /home/mobin/anaconda3/envs/colabenv/lib/python3.7/site-packages (from tensorflow<2.10,>=2.9.0->tensorflow-text) (1.50.0)\n",
            "Requirement already satisfied: flatbuffers<2,>=1.12 in /home/mobin/anaconda3/envs/colabenv/lib/python3.7/site-packages (from tensorflow<2.10,>=2.9.0->tensorflow-text) (1.12)\n",
            "Requirement already satisfied: numpy>=1.20 in /home/mobin/anaconda3/envs/colabenv/lib/python3.7/site-packages (from tensorflow<2.10,>=2.9.0->tensorflow-text) (1.21.6)\n",
            "Requirement already satisfied: setuptools in /home/mobin/anaconda3/envs/colabenv/lib/python3.7/site-packages (from tensorflow<2.10,>=2.9.0->tensorflow-text) (61.2.0)\n",
            "Requirement already satisfied: typing-extensions>=3.6.6 in /home/mobin/anaconda3/envs/colabenv/lib/python3.7/site-packages (from tensorflow<2.10,>=2.9.0->tensorflow-text) (4.3.0)\n",
            "Requirement already satisfied: wheel<1.0,>=0.23.0 in /home/mobin/anaconda3/envs/colabenv/lib/python3.7/site-packages (from astunparse>=1.6.0->tensorflow<2.10,>=2.9.0->tensorflow-text) (0.37.1)\n",
            "Requirement already satisfied: markdown>=2.6.8 in /home/mobin/anaconda3/envs/colabenv/lib/python3.7/site-packages (from tensorboard<2.10,>=2.9->tensorflow<2.10,>=2.9.0->tensorflow-text) (3.4.1)\n",
            "Requirement already satisfied: google-auth-oauthlib<0.5,>=0.4.1 in /home/mobin/anaconda3/envs/colabenv/lib/python3.7/site-packages (from tensorboard<2.10,>=2.9->tensorflow<2.10,>=2.9.0->tensorflow-text) (0.4.6)\n",
            "Requirement already satisfied: tensorboard-plugin-wit>=1.6.0 in /home/mobin/anaconda3/envs/colabenv/lib/python3.7/site-packages (from tensorboard<2.10,>=2.9->tensorflow<2.10,>=2.9.0->tensorflow-text) (1.8.1)\n",
            "Requirement already satisfied: werkzeug>=1.0.1 in /home/mobin/anaconda3/envs/colabenv/lib/python3.7/site-packages (from tensorboard<2.10,>=2.9->tensorflow<2.10,>=2.9.0->tensorflow-text) (2.2.1)\n",
            "Requirement already satisfied: requests<3,>=2.21.0 in /home/mobin/anaconda3/envs/colabenv/lib/python3.7/site-packages (from tensorboard<2.10,>=2.9->tensorflow<2.10,>=2.9.0->tensorflow-text) (2.28.1)\n",
            "Requirement already satisfied: tensorboard-data-server<0.7.0,>=0.6.0 in /home/mobin/anaconda3/envs/colabenv/lib/python3.7/site-packages (from tensorboard<2.10,>=2.9->tensorflow<2.10,>=2.9.0->tensorflow-text) (0.6.1)\n",
            "Requirement already satisfied: google-auth<3,>=1.6.3 in /home/mobin/anaconda3/envs/colabenv/lib/python3.7/site-packages (from tensorboard<2.10,>=2.9->tensorflow<2.10,>=2.9.0->tensorflow-text) (2.9.1)\n",
            "Requirement already satisfied: pyparsing!=3.0.5,>=2.0.2 in /home/mobin/anaconda3/envs/colabenv/lib/python3.7/site-packages (from packaging->tensorflow<2.10,>=2.9.0->tensorflow-text) (3.0.9)\n",
            "Requirement already satisfied: cachetools<6.0,>=2.0.0 in /home/mobin/anaconda3/envs/colabenv/lib/python3.7/site-packages (from google-auth<3,>=1.6.3->tensorboard<2.10,>=2.9->tensorflow<2.10,>=2.9.0->tensorflow-text) (4.2.4)\n",
            "Requirement already satisfied: pyasn1-modules>=0.2.1 in /home/mobin/anaconda3/envs/colabenv/lib/python3.7/site-packages (from google-auth<3,>=1.6.3->tensorboard<2.10,>=2.9->tensorflow<2.10,>=2.9.0->tensorflow-text) (0.2.8)\n",
            "Requirement already satisfied: rsa<5,>=3.1.4 in /home/mobin/anaconda3/envs/colabenv/lib/python3.7/site-packages (from google-auth<3,>=1.6.3->tensorboard<2.10,>=2.9->tensorflow<2.10,>=2.9.0->tensorflow-text) (4.9)\n",
            "Requirement already satisfied: requests-oauthlib>=0.7.0 in /home/mobin/anaconda3/envs/colabenv/lib/python3.7/site-packages (from google-auth-oauthlib<0.5,>=0.4.1->tensorboard<2.10,>=2.9->tensorflow<2.10,>=2.9.0->tensorflow-text) (1.3.1)\n",
            "Requirement already satisfied: importlib-metadata>=4.4 in /home/mobin/anaconda3/envs/colabenv/lib/python3.7/site-packages (from markdown>=2.6.8->tensorboard<2.10,>=2.9->tensorflow<2.10,>=2.9.0->tensorflow-text) (4.12.0)\n",
            "Requirement already satisfied: idna<4,>=2.5 in /home/mobin/anaconda3/envs/colabenv/lib/python3.7/site-packages (from requests<3,>=2.21.0->tensorboard<2.10,>=2.9->tensorflow<2.10,>=2.9.0->tensorflow-text) (3.3)\n",
            "Requirement already satisfied: certifi>=2017.4.17 in /home/mobin/anaconda3/envs/colabenv/lib/python3.7/site-packages (from requests<3,>=2.21.0->tensorboard<2.10,>=2.9->tensorflow<2.10,>=2.9.0->tensorflow-text) (2022.6.15)\n",
            "Requirement already satisfied: urllib3<1.27,>=1.21.1 in /home/mobin/anaconda3/envs/colabenv/lib/python3.7/site-packages (from requests<3,>=2.21.0->tensorboard<2.10,>=2.9->tensorflow<2.10,>=2.9.0->tensorflow-text) (1.26.11)\n",
            "Requirement already satisfied: charset-normalizer<3,>=2 in /home/mobin/anaconda3/envs/colabenv/lib/python3.7/site-packages (from requests<3,>=2.21.0->tensorboard<2.10,>=2.9->tensorflow<2.10,>=2.9.0->tensorflow-text) (2.1.0)\n",
            "Requirement already satisfied: MarkupSafe>=2.1.1 in /home/mobin/anaconda3/envs/colabenv/lib/python3.7/site-packages (from werkzeug>=1.0.1->tensorboard<2.10,>=2.9->tensorflow<2.10,>=2.9.0->tensorflow-text) (2.1.1)\n",
            "Requirement already satisfied: zipp>=0.5 in /home/mobin/anaconda3/envs/colabenv/lib/python3.7/site-packages (from importlib-metadata>=4.4->markdown>=2.6.8->tensorboard<2.10,>=2.9->tensorflow<2.10,>=2.9.0->tensorflow-text) (3.8.1)\n",
            "Requirement already satisfied: pyasn1<0.5.0,>=0.4.6 in /home/mobin/anaconda3/envs/colabenv/lib/python3.7/site-packages (from pyasn1-modules>=0.2.1->google-auth<3,>=1.6.3->tensorboard<2.10,>=2.9->tensorflow<2.10,>=2.9.0->tensorflow-text) (0.4.8)\n",
            "Requirement already satisfied: oauthlib>=3.0.0 in /home/mobin/anaconda3/envs/colabenv/lib/python3.7/site-packages (from requests-oauthlib>=0.7.0->google-auth-oauthlib<0.5,>=0.4.1->tensorboard<2.10,>=2.9->tensorflow<2.10,>=2.9.0->tensorflow-text) (3.2.0)\n",
            "Note: you may need to restart the kernel to use updated packages.\n"
          ]
        }
      ],
      "source": [
        "%pip install tensorflow-gpu==2.9\n",
        "%pip install tensorflow-text"
      ]
    },
    {
      "cell_type": "code",
      "execution_count": 4,
      "metadata": {
        "id": "BTOV54y-ckzq"
      },
      "outputs": [],
      "source": [
        "import tensorflow as tf\n",
        "import tensorflow_text as tf_text"
      ]
    },
    {
      "cell_type": "code",
      "execution_count": 5,
      "metadata": {},
      "outputs": [
        {
          "name": "stdout",
          "output_type": "stream",
          "text": [
            "Requirement already satisfied: matplotlib in /home/mobin/anaconda3/envs/colabenv/lib/python3.7/site-packages (3.5.2)\n",
            "Requirement already satisfied: pillow>=6.2.0 in /home/mobin/anaconda3/envs/colabenv/lib/python3.7/site-packages (from matplotlib) (9.2.0)\n",
            "Requirement already satisfied: python-dateutil>=2.7 in /home/mobin/anaconda3/envs/colabenv/lib/python3.7/site-packages (from matplotlib) (2.8.2)\n",
            "Requirement already satisfied: kiwisolver>=1.0.1 in /home/mobin/anaconda3/envs/colabenv/lib/python3.7/site-packages (from matplotlib) (1.4.4)\n",
            "Requirement already satisfied: packaging>=20.0 in /home/mobin/anaconda3/envs/colabenv/lib/python3.7/site-packages (from matplotlib) (21.3)\n",
            "Requirement already satisfied: numpy>=1.17 in /home/mobin/anaconda3/envs/colabenv/lib/python3.7/site-packages (from matplotlib) (1.21.6)\n",
            "Requirement already satisfied: cycler>=0.10 in /home/mobin/anaconda3/envs/colabenv/lib/python3.7/site-packages (from matplotlib) (0.11.0)\n",
            "Requirement already satisfied: pyparsing>=2.2.1 in /home/mobin/anaconda3/envs/colabenv/lib/python3.7/site-packages (from matplotlib) (3.0.9)\n",
            "Requirement already satisfied: fonttools>=4.22.0 in /home/mobin/anaconda3/envs/colabenv/lib/python3.7/site-packages (from matplotlib) (4.34.4)\n",
            "Requirement already satisfied: typing-extensions in /home/mobin/anaconda3/envs/colabenv/lib/python3.7/site-packages (from kiwisolver>=1.0.1->matplotlib) (4.3.0)\n",
            "Requirement already satisfied: six>=1.5 in /home/mobin/anaconda3/envs/colabenv/lib/python3.7/site-packages (from python-dateutil>=2.7->matplotlib) (1.16.0)\n",
            "Note: you may need to restart the kernel to use updated packages.\n"
          ]
        }
      ],
      "source": [
        "%pip install matplotlib"
      ]
    },
    {
      "cell_type": "code",
      "execution_count": 6,
      "metadata": {
        "id": "1u4wpNQOEUc9"
      },
      "outputs": [],
      "source": [
        "import pandas as pd\n",
        "import gzip\n",
        "import gc\n",
        "import numpy as np\n",
        "from tensorflow import keras\n",
        "from sklearn.model_selection import KFold\n",
        "import datetime \n",
        "import os\n",
        "import matplotlib.pyplot as plt\n"
      ]
    },
    {
      "cell_type": "code",
      "execution_count": 7,
      "metadata": {
        "colab": {
          "base_uri": "https://localhost:8080/"
        },
        "id": "HTkARkSuo9PR",
        "outputId": "8548446d-69cd-4727-8b8f-851569dd33d5"
      },
      "outputs": [
        {
          "name": "stdout",
          "output_type": "stream",
          "text": [
            "Requirement already satisfied: gensim==4.2 in /home/mobin/anaconda3/envs/colabenv/lib/python3.7/site-packages (4.2.0)\n",
            "Requirement already satisfied: scipy>=0.18.1 in /home/mobin/anaconda3/envs/colabenv/lib/python3.7/site-packages (from gensim==4.2) (1.7.3)\n",
            "Requirement already satisfied: smart-open>=1.8.1 in /home/mobin/anaconda3/envs/colabenv/lib/python3.7/site-packages (from gensim==4.2) (6.0.0)\n",
            "Requirement already satisfied: numpy>=1.17.0 in /home/mobin/anaconda3/envs/colabenv/lib/python3.7/site-packages (from gensim==4.2) (1.21.6)\n",
            "Note: you may need to restart the kernel to use updated packages.\n",
            "Requirement already satisfied: nltk in /home/mobin/anaconda3/envs/colabenv/lib/python3.7/site-packages (3.7)\n",
            "Requirement already satisfied: joblib in /home/mobin/anaconda3/envs/colabenv/lib/python3.7/site-packages (from nltk) (1.1.0)\n",
            "Requirement already satisfied: tqdm in /home/mobin/anaconda3/envs/colabenv/lib/python3.7/site-packages (from nltk) (4.64.0)\n",
            "Requirement already satisfied: regex>=2021.8.3 in /home/mobin/anaconda3/envs/colabenv/lib/python3.7/site-packages (from nltk) (2022.7.25)\n",
            "Requirement already satisfied: click in /home/mobin/anaconda3/envs/colabenv/lib/python3.7/site-packages (from nltk) (8.1.3)\n",
            "Requirement already satisfied: importlib-metadata in /home/mobin/anaconda3/envs/colabenv/lib/python3.7/site-packages (from click->nltk) (4.12.0)\n",
            "Requirement already satisfied: typing-extensions>=3.6.4 in /home/mobin/anaconda3/envs/colabenv/lib/python3.7/site-packages (from importlib-metadata->click->nltk) (4.3.0)\n",
            "Requirement already satisfied: zipp>=0.5 in /home/mobin/anaconda3/envs/colabenv/lib/python3.7/site-packages (from importlib-metadata->click->nltk) (3.8.1)\n",
            "Note: you may need to restart the kernel to use updated packages.\n"
          ]
        }
      ],
      "source": [
        "%pip install gensim==4.2\n",
        "%pip install nltk"
      ]
    },
    {
      "cell_type": "code",
      "execution_count": 8,
      "metadata": {},
      "outputs": [],
      "source": [
        "from gensim.models import Word2Vec\n",
        "from gensim.models import KeyedVectors\n",
        "import gensim.downloader as api\n",
        "from nltk.tokenize import sent_tokenize, word_tokenize\n"
      ]
    },
    {
      "cell_type": "code",
      "execution_count": 9,
      "metadata": {
        "colab": {
          "base_uri": "https://localhost:8080/"
        },
        "id": "NnDuJU4fpMLE",
        "outputId": "ecfd7d10-b929-43ce-cd99-0e2213f4e376"
      },
      "outputs": [
        {
          "name": "stderr",
          "output_type": "stream",
          "text": [
            "[nltk_data] Downloading package punkt to /home/mobin/nltk_data...\n",
            "[nltk_data]   Package punkt is already up-to-date!\n"
          ]
        },
        {
          "data": {
            "text/plain": [
              "True"
            ]
          },
          "execution_count": 9,
          "metadata": {},
          "output_type": "execute_result"
        }
      ],
      "source": [
        "import nltk\n",
        "nltk.download('punkt')"
      ]
    },
    {
      "cell_type": "code",
      "execution_count": 10,
      "metadata": {},
      "outputs": [
        {
          "name": "stderr",
          "output_type": "stream",
          "text": [
            "2022-12-17 17:19:43.118036: I tensorflow/stream_executor/cuda/cuda_gpu_executor.cc:975] successful NUMA node read from SysFS had negative value (-1), but there must be at least one NUMA node, so returning NUMA node zero\n",
            "2022-12-17 17:19:43.194731: I tensorflow/stream_executor/cuda/cuda_gpu_executor.cc:975] successful NUMA node read from SysFS had negative value (-1), but there must be at least one NUMA node, so returning NUMA node zero\n",
            "2022-12-17 17:19:43.194962: I tensorflow/stream_executor/cuda/cuda_gpu_executor.cc:975] successful NUMA node read from SysFS had negative value (-1), but there must be at least one NUMA node, so returning NUMA node zero\n",
            "2022-12-17 17:19:43.196621: I tensorflow/core/platform/cpu_feature_guard.cc:193] This TensorFlow binary is optimized with oneAPI Deep Neural Network Library (oneDNN) to use the following CPU instructions in performance-critical operations:  AVX2 FMA\n",
            "To enable them in other operations, rebuild TensorFlow with the appropriate compiler flags.\n",
            "2022-12-17 17:19:43.199046: I tensorflow/stream_executor/cuda/cuda_gpu_executor.cc:975] successful NUMA node read from SysFS had negative value (-1), but there must be at least one NUMA node, so returning NUMA node zero\n",
            "2022-12-17 17:19:43.199370: I tensorflow/stream_executor/cuda/cuda_gpu_executor.cc:975] successful NUMA node read from SysFS had negative value (-1), but there must be at least one NUMA node, so returning NUMA node zero\n",
            "2022-12-17 17:19:43.199551: I tensorflow/stream_executor/cuda/cuda_gpu_executor.cc:975] successful NUMA node read from SysFS had negative value (-1), but there must be at least one NUMA node, so returning NUMA node zero\n",
            "2022-12-17 17:19:43.729179: I tensorflow/stream_executor/cuda/cuda_gpu_executor.cc:975] successful NUMA node read from SysFS had negative value (-1), but there must be at least one NUMA node, so returning NUMA node zero\n",
            "2022-12-17 17:19:43.729422: I tensorflow/stream_executor/cuda/cuda_gpu_executor.cc:975] successful NUMA node read from SysFS had negative value (-1), but there must be at least one NUMA node, so returning NUMA node zero\n",
            "2022-12-17 17:19:43.729569: I tensorflow/stream_executor/cuda/cuda_gpu_executor.cc:975] successful NUMA node read from SysFS had negative value (-1), but there must be at least one NUMA node, so returning NUMA node zero\n",
            "2022-12-17 17:19:43.729674: I tensorflow/core/common_runtime/gpu/gpu_device.cc:1532] Created device /job:localhost/replica:0/task:0/device:GPU:0 with 2132 MB memory:  -> device: 0, name: NVIDIA GeForce RTX 3050 Laptop GPU, pci bus id: 0000:01:00.0, compute capability: 8.6\n"
          ]
        },
        {
          "name": "stdout",
          "output_type": "stream",
          "text": [
            "1 Physical GPUs, 1 Logical GPUs\n"
          ]
        }
      ],
      "source": [
        "gpus = tf.config.list_physical_devices('GPU')\n",
        "if gpus:\n",
        "  try:\n",
        "    # Currently, memory growth needs to be the same across GPUs\n",
        "    for gpu in gpus:\n",
        "      tf.config.experimental.set_memory_growth(gpu, True)\n",
        "    logical_gpus = tf.config.list_logical_devices('GPU')\n",
        "    print(len(gpus), \"Physical GPUs,\", len(logical_gpus), \"Logical GPUs\")\n",
        "  except RuntimeError as e:\n",
        "    # Memory growth must be set before GPUs have been initialized\n",
        "    print(e)\n",
        "else :\n",
        "  print(\"No GPU available\")"
      ]
    },
    {
      "cell_type": "code",
      "execution_count": 11,
      "metadata": {},
      "outputs": [
        {
          "name": "stdout",
          "output_type": "stream",
          "text": [
            "Requirement already satisfied: tensorboard in /home/mobin/anaconda3/envs/colabenv/lib/python3.7/site-packages (2.9.1)\n",
            "Requirement already satisfied: markdown>=2.6.8 in /home/mobin/anaconda3/envs/colabenv/lib/python3.7/site-packages (from tensorboard) (3.4.1)\n",
            "Requirement already satisfied: tensorboard-plugin-wit>=1.6.0 in /home/mobin/anaconda3/envs/colabenv/lib/python3.7/site-packages (from tensorboard) (1.8.1)\n",
            "Requirement already satisfied: werkzeug>=1.0.1 in /home/mobin/anaconda3/envs/colabenv/lib/python3.7/site-packages (from tensorboard) (2.2.1)\n",
            "Requirement already satisfied: numpy>=1.12.0 in /home/mobin/anaconda3/envs/colabenv/lib/python3.7/site-packages (from tensorboard) (1.21.6)\n",
            "Requirement already satisfied: wheel>=0.26 in /home/mobin/anaconda3/envs/colabenv/lib/python3.7/site-packages (from tensorboard) (0.37.1)\n",
            "Requirement already satisfied: absl-py>=0.4 in /home/mobin/anaconda3/envs/colabenv/lib/python3.7/site-packages (from tensorboard) (1.2.0)\n",
            "Requirement already satisfied: google-auth-oauthlib<0.5,>=0.4.1 in /home/mobin/anaconda3/envs/colabenv/lib/python3.7/site-packages (from tensorboard) (0.4.6)\n",
            "Requirement already satisfied: setuptools>=41.0.0 in /home/mobin/anaconda3/envs/colabenv/lib/python3.7/site-packages (from tensorboard) (61.2.0)\n",
            "Requirement already satisfied: protobuf<3.20,>=3.9.2 in /home/mobin/anaconda3/envs/colabenv/lib/python3.7/site-packages (from tensorboard) (3.19.6)\n",
            "Requirement already satisfied: requests<3,>=2.21.0 in /home/mobin/anaconda3/envs/colabenv/lib/python3.7/site-packages (from tensorboard) (2.28.1)\n",
            "Requirement already satisfied: grpcio>=1.24.3 in /home/mobin/anaconda3/envs/colabenv/lib/python3.7/site-packages (from tensorboard) (1.50.0)\n",
            "Requirement already satisfied: tensorboard-data-server<0.7.0,>=0.6.0 in /home/mobin/anaconda3/envs/colabenv/lib/python3.7/site-packages (from tensorboard) (0.6.1)\n",
            "Requirement already satisfied: google-auth<3,>=1.6.3 in /home/mobin/anaconda3/envs/colabenv/lib/python3.7/site-packages (from tensorboard) (2.9.1)\n",
            "Requirement already satisfied: rsa<5,>=3.1.4 in /home/mobin/anaconda3/envs/colabenv/lib/python3.7/site-packages (from google-auth<3,>=1.6.3->tensorboard) (4.9)\n",
            "Requirement already satisfied: six>=1.9.0 in /home/mobin/anaconda3/envs/colabenv/lib/python3.7/site-packages (from google-auth<3,>=1.6.3->tensorboard) (1.16.0)\n",
            "Requirement already satisfied: pyasn1-modules>=0.2.1 in /home/mobin/anaconda3/envs/colabenv/lib/python3.7/site-packages (from google-auth<3,>=1.6.3->tensorboard) (0.2.8)\n",
            "Requirement already satisfied: cachetools<6.0,>=2.0.0 in /home/mobin/anaconda3/envs/colabenv/lib/python3.7/site-packages (from google-auth<3,>=1.6.3->tensorboard) (4.2.4)\n",
            "Requirement already satisfied: requests-oauthlib>=0.7.0 in /home/mobin/anaconda3/envs/colabenv/lib/python3.7/site-packages (from google-auth-oauthlib<0.5,>=0.4.1->tensorboard) (1.3.1)\n",
            "Requirement already satisfied: importlib-metadata>=4.4 in /home/mobin/anaconda3/envs/colabenv/lib/python3.7/site-packages (from markdown>=2.6.8->tensorboard) (4.12.0)\n",
            "Requirement already satisfied: charset-normalizer<3,>=2 in /home/mobin/anaconda3/envs/colabenv/lib/python3.7/site-packages (from requests<3,>=2.21.0->tensorboard) (2.1.0)\n",
            "Requirement already satisfied: urllib3<1.27,>=1.21.1 in /home/mobin/anaconda3/envs/colabenv/lib/python3.7/site-packages (from requests<3,>=2.21.0->tensorboard) (1.26.11)\n",
            "Requirement already satisfied: idna<4,>=2.5 in /home/mobin/anaconda3/envs/colabenv/lib/python3.7/site-packages (from requests<3,>=2.21.0->tensorboard) (3.3)\n",
            "Requirement already satisfied: certifi>=2017.4.17 in /home/mobin/anaconda3/envs/colabenv/lib/python3.7/site-packages (from requests<3,>=2.21.0->tensorboard) (2022.6.15)\n",
            "Requirement already satisfied: MarkupSafe>=2.1.1 in /home/mobin/anaconda3/envs/colabenv/lib/python3.7/site-packages (from werkzeug>=1.0.1->tensorboard) (2.1.1)\n",
            "Requirement already satisfied: typing-extensions>=3.6.4 in /home/mobin/anaconda3/envs/colabenv/lib/python3.7/site-packages (from importlib-metadata>=4.4->markdown>=2.6.8->tensorboard) (4.3.0)\n",
            "Requirement already satisfied: zipp>=0.5 in /home/mobin/anaconda3/envs/colabenv/lib/python3.7/site-packages (from importlib-metadata>=4.4->markdown>=2.6.8->tensorboard) (3.8.1)\n",
            "Requirement already satisfied: pyasn1<0.5.0,>=0.4.6 in /home/mobin/anaconda3/envs/colabenv/lib/python3.7/site-packages (from pyasn1-modules>=0.2.1->google-auth<3,>=1.6.3->tensorboard) (0.4.8)\n",
            "Requirement already satisfied: oauthlib>=3.0.0 in /home/mobin/anaconda3/envs/colabenv/lib/python3.7/site-packages (from requests-oauthlib>=0.7.0->google-auth-oauthlib<0.5,>=0.4.1->tensorboard) (3.2.0)\n",
            "Note: you may need to restart the kernel to use updated packages.\n",
            "Requirement already satisfied: tensorboard_plugin_profile in /home/mobin/anaconda3/envs/colabenv/lib/python3.7/site-packages (2.11.1)\n",
            "Requirement already satisfied: protobuf>=3.12.0 in /home/mobin/anaconda3/envs/colabenv/lib/python3.7/site-packages (from tensorboard_plugin_profile) (3.19.6)\n",
            "Requirement already satisfied: setuptools>=41.0.0 in /home/mobin/anaconda3/envs/colabenv/lib/python3.7/site-packages (from tensorboard_plugin_profile) (61.2.0)\n",
            "Requirement already satisfied: six>=1.10.0 in /home/mobin/anaconda3/envs/colabenv/lib/python3.7/site-packages (from tensorboard_plugin_profile) (1.16.0)\n",
            "Requirement already satisfied: werkzeug>=0.11.15 in /home/mobin/anaconda3/envs/colabenv/lib/python3.7/site-packages (from tensorboard_plugin_profile) (2.2.1)\n",
            "Requirement already satisfied: gviz-api>=1.9.0 in /home/mobin/anaconda3/envs/colabenv/lib/python3.7/site-packages (from tensorboard_plugin_profile) (1.10.0)\n",
            "Requirement already satisfied: MarkupSafe>=2.1.1 in /home/mobin/anaconda3/envs/colabenv/lib/python3.7/site-packages (from werkzeug>=0.11.15->tensorboard_plugin_profile) (2.1.1)\n",
            "Note: you may need to restart the kernel to use updated packages.\n"
          ]
        }
      ],
      "source": [
        "%pip install tensorboard\n",
        "%pip install -U tensorboard_plugin_profile"
      ]
    },
    {
      "cell_type": "markdown",
      "metadata": {
        "id": "DyypFCrlw2SV"
      },
      "source": [
        "# **Data Extraction**"
      ]
    },
    {
      "cell_type": "code",
      "execution_count": 12,
      "metadata": {
        "id": "p7IbgFIxRQb-"
      },
      "outputs": [],
      "source": [
        "def parse(path):\n",
        "  g = gzip.open(path, 'rb')\n",
        "  for l in g:\n",
        "    name=b'\"verified\": \\\"true\\\",'\n",
        "    l=l.replace(b'\"verified\": true,',bytes(name))\n",
        "    name1=b'\"verified\": \\\"false\\\",'\n",
        "    l=l.replace(b'\"verified\": false,',bytes(name))\n",
        "    yield eval(l)\n",
        "\n",
        "def getDF(path):\n",
        "  i = 0\n",
        "  df = {}\n",
        "  for d in parse(path):\n",
        "    df[i] = d\n",
        "    i += 1\n",
        "  return pd.DataFrame.from_dict(df, orient='index')\n",
        "\n",
        "df = getDF('reviews_Grocery_and_Gourmet_Food_5.json.gz')\n",
        "\n",
        "# dataset link\n",
        "# Grocery and Gourmet Food\n",
        "# https://jmcauley.ucsd.edu/data/amazon/"
      ]
    },
    {
      "cell_type": "markdown",
      "metadata": {
        "id": "_auxwvSRYsvu"
      },
      "source": [
        "Dataset Schema"
      ]
    },
    {
      "cell_type": "code",
      "execution_count": 13,
      "metadata": {
        "colab": {
          "base_uri": "https://localhost:8080/",
          "height": 1000
        },
        "id": "E9FGFZINRQOn",
        "outputId": "0dad1216-9ec6-4528-fa44-32ab26a94602"
      },
      "outputs": [
        {
          "data": {
            "text/html": [
              "<div>\n",
              "<style scoped>\n",
              "    .dataframe tbody tr th:only-of-type {\n",
              "        vertical-align: middle;\n",
              "    }\n",
              "\n",
              "    .dataframe tbody tr th {\n",
              "        vertical-align: top;\n",
              "    }\n",
              "\n",
              "    .dataframe thead th {\n",
              "        text-align: right;\n",
              "    }\n",
              "</style>\n",
              "<table border=\"1\" class=\"dataframe\">\n",
              "  <thead>\n",
              "    <tr style=\"text-align: right;\">\n",
              "      <th></th>\n",
              "      <th>userID</th>\n",
              "      <th>itemID</th>\n",
              "      <th>reviewText</th>\n",
              "      <th>rating</th>\n",
              "    </tr>\n",
              "  </thead>\n",
              "  <tbody>\n",
              "    <tr>\n",
              "      <th>0</th>\n",
              "      <td>A1VEELTKS8NLZB</td>\n",
              "      <td>616719923X</td>\n",
              "      <td>Just another flavor of Kit Kat but the taste i...</td>\n",
              "      <td>4.0</td>\n",
              "    </tr>\n",
              "    <tr>\n",
              "      <th>1</th>\n",
              "      <td>A14R9XMZVJ6INB</td>\n",
              "      <td>616719923X</td>\n",
              "      <td>I bought this on impulse and it comes from Jap...</td>\n",
              "      <td>3.0</td>\n",
              "    </tr>\n",
              "    <tr>\n",
              "      <th>2</th>\n",
              "      <td>A27IQHDZFQFNGG</td>\n",
              "      <td>616719923X</td>\n",
              "      <td>Really good. Great gift for any fan of green t...</td>\n",
              "      <td>4.0</td>\n",
              "    </tr>\n",
              "    <tr>\n",
              "      <th>3</th>\n",
              "      <td>A31QY5TASILE89</td>\n",
              "      <td>616719923X</td>\n",
              "      <td>I had never had it before, was curious to see ...</td>\n",
              "      <td>5.0</td>\n",
              "    </tr>\n",
              "    <tr>\n",
              "      <th>4</th>\n",
              "      <td>A2LWK003FFMCI5</td>\n",
              "      <td>616719923X</td>\n",
              "      <td>I've been looking forward to trying these afte...</td>\n",
              "      <td>4.0</td>\n",
              "    </tr>\n",
              "    <tr>\n",
              "      <th>...</th>\n",
              "      <td>...</td>\n",
              "      <td>...</td>\n",
              "      <td>...</td>\n",
              "      <td>...</td>\n",
              "    </tr>\n",
              "    <tr>\n",
              "      <th>151249</th>\n",
              "      <td>A2L6QS8SVHT9RG</td>\n",
              "      <td>B00KCJRVO2</td>\n",
              "      <td>Delicious gluten-free oatmeal: we tried both t...</td>\n",
              "      <td>4.0</td>\n",
              "    </tr>\n",
              "    <tr>\n",
              "      <th>151250</th>\n",
              "      <td>AFJFXN42RZ3G2</td>\n",
              "      <td>B00KCJRVO2</td>\n",
              "      <td>With the many selections of instant oatmeal ce...</td>\n",
              "      <td>4.0</td>\n",
              "    </tr>\n",
              "    <tr>\n",
              "      <th>151251</th>\n",
              "      <td>ASEBX8TBYWQWA</td>\n",
              "      <td>B00KCJRVO2</td>\n",
              "      <td>While I usually review CDs and DVDs, as well a...</td>\n",
              "      <td>5.0</td>\n",
              "    </tr>\n",
              "    <tr>\n",
              "      <th>151252</th>\n",
              "      <td>ANKQGTXHREOI5</td>\n",
              "      <td>B00KCJRVO2</td>\n",
              "      <td>My son and I enjoyed these oatmeal packets.  H...</td>\n",
              "      <td>4.0</td>\n",
              "    </tr>\n",
              "    <tr>\n",
              "      <th>151253</th>\n",
              "      <td>A2CF66KIQ3RKX3</td>\n",
              "      <td>B00KCJRVO2</td>\n",
              "      <td>I like to eat oatmeal i the mornings. I usuall...</td>\n",
              "      <td>4.0</td>\n",
              "    </tr>\n",
              "  </tbody>\n",
              "</table>\n",
              "<p>151254 rows × 4 columns</p>\n",
              "</div>"
            ],
            "text/plain": [
              "                userID      itemID  \\\n",
              "0       A1VEELTKS8NLZB  616719923X   \n",
              "1       A14R9XMZVJ6INB  616719923X   \n",
              "2       A27IQHDZFQFNGG  616719923X   \n",
              "3       A31QY5TASILE89  616719923X   \n",
              "4       A2LWK003FFMCI5  616719923X   \n",
              "...                ...         ...   \n",
              "151249  A2L6QS8SVHT9RG  B00KCJRVO2   \n",
              "151250   AFJFXN42RZ3G2  B00KCJRVO2   \n",
              "151251   ASEBX8TBYWQWA  B00KCJRVO2   \n",
              "151252   ANKQGTXHREOI5  B00KCJRVO2   \n",
              "151253  A2CF66KIQ3RKX3  B00KCJRVO2   \n",
              "\n",
              "                                               reviewText  rating  \n",
              "0       Just another flavor of Kit Kat but the taste i...     4.0  \n",
              "1       I bought this on impulse and it comes from Jap...     3.0  \n",
              "2       Really good. Great gift for any fan of green t...     4.0  \n",
              "3       I had never had it before, was curious to see ...     5.0  \n",
              "4       I've been looking forward to trying these afte...     4.0  \n",
              "...                                                   ...     ...  \n",
              "151249  Delicious gluten-free oatmeal: we tried both t...     4.0  \n",
              "151250  With the many selections of instant oatmeal ce...     4.0  \n",
              "151251  While I usually review CDs and DVDs, as well a...     5.0  \n",
              "151252  My son and I enjoyed these oatmeal packets.  H...     4.0  \n",
              "151253  I like to eat oatmeal i the mornings. I usuall...     4.0  \n",
              "\n",
              "[151254 rows x 4 columns]"
            ]
          },
          "execution_count": 13,
          "metadata": {},
          "output_type": "execute_result"
        }
      ],
      "source": [
        "df.rename(columns={\"reviewerID\": \"userID\", \"asin\": \"itemID\",\"overall\":\"rating\"},inplace=True)\n",
        "df=df[['userID','itemID','reviewText','rating']]\n",
        "df"
      ]
    },
    {
      "cell_type": "code",
      "execution_count": 14,
      "metadata": {},
      "outputs": [
        {
          "data": {
            "text/html": [
              "<div>\n",
              "<style scoped>\n",
              "    .dataframe tbody tr th:only-of-type {\n",
              "        vertical-align: middle;\n",
              "    }\n",
              "\n",
              "    .dataframe tbody tr th {\n",
              "        vertical-align: top;\n",
              "    }\n",
              "\n",
              "    .dataframe thead th {\n",
              "        text-align: right;\n",
              "    }\n",
              "</style>\n",
              "<table border=\"1\" class=\"dataframe\">\n",
              "  <thead>\n",
              "    <tr style=\"text-align: right;\">\n",
              "      <th></th>\n",
              "      <th>userID</th>\n",
              "      <th>itemID</th>\n",
              "      <th>reviewText</th>\n",
              "      <th>rating</th>\n",
              "    </tr>\n",
              "  </thead>\n",
              "  <tbody>\n",
              "    <tr>\n",
              "      <th>49909</th>\n",
              "      <td>A2SE5EJ7B6Z8NP</td>\n",
              "      <td>B001EO5OKC</td>\n",
              "      <td>I put gogi berries in my smoothies every day. ...</td>\n",
              "      <td>5.0</td>\n",
              "    </tr>\n",
              "    <tr>\n",
              "      <th>130474</th>\n",
              "      <td>AVFA1JB08RG8G</td>\n",
              "      <td>B0085000BG</td>\n",
              "      <td>This instant coffee offering, Pure Indulgence,...</td>\n",
              "      <td>4.0</td>\n",
              "    </tr>\n",
              "    <tr>\n",
              "      <th>70741</th>\n",
              "      <td>A2MUGFV2TDQ47K</td>\n",
              "      <td>B002EDIJH2</td>\n",
              "      <td>Original 1 STAR Rating Chocolate Chip Cookies:...</td>\n",
              "      <td>1.0</td>\n",
              "    </tr>\n",
              "    <tr>\n",
              "      <th>84783</th>\n",
              "      <td>AJFMYOLRWDJ46</td>\n",
              "      <td>B003P79DFI</td>\n",
              "      <td>Jif is the only peanut butter for me. Nothing ...</td>\n",
              "      <td>5.0</td>\n",
              "    </tr>\n",
              "    <tr>\n",
              "      <th>22403</th>\n",
              "      <td>AXBC52UXVOIO0</td>\n",
              "      <td>B000GZUBAS</td>\n",
              "      <td>I love mum-mums! My kids go crazy for them. My...</td>\n",
              "      <td>5.0</td>\n",
              "    </tr>\n",
              "    <tr>\n",
              "      <th>149854</th>\n",
              "      <td>A336FE20YZZL3A</td>\n",
              "      <td>B00H727T58</td>\n",
              "      <td>We love this stuff at our house! We are family...</td>\n",
              "      <td>5.0</td>\n",
              "    </tr>\n",
              "    <tr>\n",
              "      <th>13870</th>\n",
              "      <td>A311YKH6RB7AWY</td>\n",
              "      <td>B000ETC36Q</td>\n",
              "      <td>good noodles for a good price.  After many tos...</td>\n",
              "      <td>3.0</td>\n",
              "    </tr>\n",
              "    <tr>\n",
              "      <th>112125</th>\n",
              "      <td>A12PNSO4FPOHH</td>\n",
              "      <td>B0054TWPNC</td>\n",
              "      <td>I actually eat this for breakfast some times w...</td>\n",
              "      <td>5.0</td>\n",
              "    </tr>\n",
              "    <tr>\n",
              "      <th>19297</th>\n",
              "      <td>A2AAYN4ZVC5R0</td>\n",
              "      <td>B000FFRU3U</td>\n",
              "      <td>I am currently deployed and seeking healthy, f...</td>\n",
              "      <td>5.0</td>\n",
              "    </tr>\n",
              "    <tr>\n",
              "      <th>48603</th>\n",
              "      <td>A3VTSPF7JQ80UQ</td>\n",
              "      <td>B001E5E3NK</td>\n",
              "      <td>Goes very far. About one per 20oz seems to do ...</td>\n",
              "      <td>5.0</td>\n",
              "    </tr>\n",
              "  </tbody>\n",
              "</table>\n",
              "</div>"
            ],
            "text/plain": [
              "                userID      itemID  \\\n",
              "49909   A2SE5EJ7B6Z8NP  B001EO5OKC   \n",
              "130474   AVFA1JB08RG8G  B0085000BG   \n",
              "70741   A2MUGFV2TDQ47K  B002EDIJH2   \n",
              "84783    AJFMYOLRWDJ46  B003P79DFI   \n",
              "22403    AXBC52UXVOIO0  B000GZUBAS   \n",
              "149854  A336FE20YZZL3A  B00H727T58   \n",
              "13870   A311YKH6RB7AWY  B000ETC36Q   \n",
              "112125   A12PNSO4FPOHH  B0054TWPNC   \n",
              "19297    A2AAYN4ZVC5R0  B000FFRU3U   \n",
              "48603   A3VTSPF7JQ80UQ  B001E5E3NK   \n",
              "\n",
              "                                               reviewText  rating  \n",
              "49909   I put gogi berries in my smoothies every day. ...     5.0  \n",
              "130474  This instant coffee offering, Pure Indulgence,...     4.0  \n",
              "70741   Original 1 STAR Rating Chocolate Chip Cookies:...     1.0  \n",
              "84783   Jif is the only peanut butter for me. Nothing ...     5.0  \n",
              "22403   I love mum-mums! My kids go crazy for them. My...     5.0  \n",
              "149854  We love this stuff at our house! We are family...     5.0  \n",
              "13870   good noodles for a good price.  After many tos...     3.0  \n",
              "112125  I actually eat this for breakfast some times w...     5.0  \n",
              "19297   I am currently deployed and seeking healthy, f...     5.0  \n",
              "48603   Goes very far. About one per 20oz seems to do ...     5.0  "
            ]
          },
          "execution_count": 14,
          "metadata": {},
          "output_type": "execute_result"
        }
      ],
      "source": [
        "df.sample(10)"
      ]
    },
    {
      "cell_type": "markdown",
      "metadata": {
        "id": "gYb9dMRLXjZT"
      },
      "source": [
        "# **Data Analysis**"
      ]
    },
    {
      "cell_type": "markdown",
      "metadata": {
        "id": "6yY4NJsolgtl"
      },
      "source": [
        "**User Data**"
      ]
    },
    {
      "cell_type": "markdown",
      "metadata": {
        "id": "g9kPFQ1GJr_I"
      },
      "source": [
        "determining all unique users with their reviews and ratings"
      ]
    },
    {
      "cell_type": "code",
      "execution_count": 15,
      "metadata": {
        "colab": {
          "base_uri": "https://localhost:8080/",
          "height": 609
        },
        "id": "l_eSbOjWRQD3",
        "outputId": "63fd7abe-5957-46a2-aa85-8ca3721bdec5"
      },
      "outputs": [
        {
          "name": "stderr",
          "output_type": "stream",
          "text": [
            "/home/mobin/anaconda3/envs/colabenv/lib/python3.7/site-packages/ipykernel_launcher.py:1: FutureWarning: Indexing with multiple keys (implicitly converted to a tuple of keys) will be deprecated, use a list instead.\n",
            "  \"\"\"Entry point for launching an IPython kernel.\n"
          ]
        },
        {
          "data": {
            "text/html": [
              "<div>\n",
              "<style scoped>\n",
              "    .dataframe tbody tr th:only-of-type {\n",
              "        vertical-align: middle;\n",
              "    }\n",
              "\n",
              "    .dataframe tbody tr th {\n",
              "        vertical-align: top;\n",
              "    }\n",
              "\n",
              "    .dataframe thead th {\n",
              "        text-align: right;\n",
              "    }\n",
              "</style>\n",
              "<table border=\"1\" class=\"dataframe\">\n",
              "  <thead>\n",
              "    <tr style=\"text-align: right;\">\n",
              "      <th></th>\n",
              "      <th>userID</th>\n",
              "      <th>reviewText</th>\n",
              "      <th>rating</th>\n",
              "    </tr>\n",
              "  </thead>\n",
              "  <tbody>\n",
              "    <tr>\n",
              "      <th>0</th>\n",
              "      <td>A00177463W0XWB16A9O05</td>\n",
              "      <td>[It is a good stand by coffee you can count on...</td>\n",
              "      <td>[5.0, 5.0, 4.0, 4.0, 5.0, 3.0, 4.0, 5.0, 5.0, ...</td>\n",
              "    </tr>\n",
              "    <tr>\n",
              "      <th>1</th>\n",
              "      <td>A022899328A0QROR32DCT</td>\n",
              "      <td>[awesome texture for even the gluten eating ea...</td>\n",
              "      <td>[5.0, 1.0, 4.0, 5.0, 5.0, 5.0, 1.0, 2.0, 3.0, ...</td>\n",
              "    </tr>\n",
              "    <tr>\n",
              "      <th>2</th>\n",
              "      <td>A04309042SDSL8YX2HRR7</td>\n",
              "      <td>[I love roasted garlic &amp; sweet bell peppers. Y...</td>\n",
              "      <td>[5.0, 2.0, 4.0, 4.0, 4.0]</td>\n",
              "    </tr>\n",
              "    <tr>\n",
              "      <th>3</th>\n",
              "      <td>A068255029AHTHDXZURNU</td>\n",
              "      <td>[These bars are especially delicious for cocon...</td>\n",
              "      <td>[5.0, 5.0, 3.0, 5.0, 3.0, 3.0, 5.0, 5.0, 5.0]</td>\n",
              "    </tr>\n",
              "    <tr>\n",
              "      <th>4</th>\n",
              "      <td>A06944662TFWOKKV4GJKX</td>\n",
              "      <td>[UGH!  My stomach has been really killing me l...</td>\n",
              "      <td>[5.0, 5.0, 5.0, 5.0, 5.0, 5.0, 5.0, 4.0, 4.0]</td>\n",
              "    </tr>\n",
              "    <tr>\n",
              "      <th>...</th>\n",
              "      <td>...</td>\n",
              "      <td>...</td>\n",
              "      <td>...</td>\n",
              "    </tr>\n",
              "    <tr>\n",
              "      <th>14676</th>\n",
              "      <td>AZWRZZAMX90VT</td>\n",
              "      <td>[Very nice. Not spicy, not too salty, lots of ...</td>\n",
              "      <td>[5.0, 5.0, 2.0, 5.0, 5.0, 4.0, 4.0, 3.0, 4.0, ...</td>\n",
              "    </tr>\n",
              "    <tr>\n",
              "      <th>14677</th>\n",
              "      <td>AZXKAH2DE6C8A</td>\n",
              "      <td>[Could not imagine having such a rich tasting ...</td>\n",
              "      <td>[5.0, 5.0, 5.0, 5.0, 5.0, 5.0, 5.0, 5.0, 4.0, ...</td>\n",
              "    </tr>\n",
              "    <tr>\n",
              "      <th>14678</th>\n",
              "      <td>AZXON596A1VXC</td>\n",
              "      <td>[I was a bit skeptical when I bought this prod...</td>\n",
              "      <td>[5.0, 5.0, 5.0, 5.0, 5.0, 5.0, 5.0]</td>\n",
              "    </tr>\n",
              "    <tr>\n",
              "      <th>14679</th>\n",
              "      <td>AZYXC63SS008M</td>\n",
              "      <td>[This is just about the healthiest you can get...</td>\n",
              "      <td>[5.0, 5.0, 5.0, 5.0, 5.0, 5.0]</td>\n",
              "    </tr>\n",
              "    <tr>\n",
              "      <th>14680</th>\n",
              "      <td>AZZ5ASC403N74</td>\n",
              "      <td>[Everybody loves homemade spaghetti sauce, but...</td>\n",
              "      <td>[5.0, 2.0, 3.0, 3.0, 4.0]</td>\n",
              "    </tr>\n",
              "  </tbody>\n",
              "</table>\n",
              "<p>14681 rows × 3 columns</p>\n",
              "</div>"
            ],
            "text/plain": [
              "                      userID  \\\n",
              "0      A00177463W0XWB16A9O05   \n",
              "1      A022899328A0QROR32DCT   \n",
              "2      A04309042SDSL8YX2HRR7   \n",
              "3      A068255029AHTHDXZURNU   \n",
              "4      A06944662TFWOKKV4GJKX   \n",
              "...                      ...   \n",
              "14676          AZWRZZAMX90VT   \n",
              "14677          AZXKAH2DE6C8A   \n",
              "14678          AZXON596A1VXC   \n",
              "14679          AZYXC63SS008M   \n",
              "14680          AZZ5ASC403N74   \n",
              "\n",
              "                                              reviewText  \\\n",
              "0      [It is a good stand by coffee you can count on...   \n",
              "1      [awesome texture for even the gluten eating ea...   \n",
              "2      [I love roasted garlic & sweet bell peppers. Y...   \n",
              "3      [These bars are especially delicious for cocon...   \n",
              "4      [UGH!  My stomach has been really killing me l...   \n",
              "...                                                  ...   \n",
              "14676  [Very nice. Not spicy, not too salty, lots of ...   \n",
              "14677  [Could not imagine having such a rich tasting ...   \n",
              "14678  [I was a bit skeptical when I bought this prod...   \n",
              "14679  [This is just about the healthiest you can get...   \n",
              "14680  [Everybody loves homemade spaghetti sauce, but...   \n",
              "\n",
              "                                                  rating  \n",
              "0      [5.0, 5.0, 4.0, 4.0, 5.0, 3.0, 4.0, 5.0, 5.0, ...  \n",
              "1      [5.0, 1.0, 4.0, 5.0, 5.0, 5.0, 1.0, 2.0, 3.0, ...  \n",
              "2                              [5.0, 2.0, 4.0, 4.0, 4.0]  \n",
              "3          [5.0, 5.0, 3.0, 5.0, 3.0, 3.0, 5.0, 5.0, 5.0]  \n",
              "4          [5.0, 5.0, 5.0, 5.0, 5.0, 5.0, 5.0, 4.0, 4.0]  \n",
              "...                                                  ...  \n",
              "14676  [5.0, 5.0, 2.0, 5.0, 5.0, 4.0, 4.0, 3.0, 4.0, ...  \n",
              "14677  [5.0, 5.0, 5.0, 5.0, 5.0, 5.0, 5.0, 5.0, 4.0, ...  \n",
              "14678                [5.0, 5.0, 5.0, 5.0, 5.0, 5.0, 5.0]  \n",
              "14679                     [5.0, 5.0, 5.0, 5.0, 5.0, 5.0]  \n",
              "14680                          [5.0, 2.0, 3.0, 3.0, 4.0]  \n",
              "\n",
              "[14681 rows x 3 columns]"
            ]
          },
          "execution_count": 15,
          "metadata": {},
          "output_type": "execute_result"
        }
      ],
      "source": [
        "user_df=df[['userID','reviewText','rating']].groupby('userID')['rating','reviewText'].apply(lambda x: pd.Series([list(x['reviewText']),list(x['rating'])],index=['reviewText', 'rating'])).reset_index()\n",
        "user_df"
      ]
    },
    {
      "cell_type": "markdown",
      "metadata": {
        "id": "ReAbgOc7q3Tp"
      },
      "source": [
        "**Item Data**"
      ]
    },
    {
      "cell_type": "markdown",
      "metadata": {
        "id": "arvKphT7KCTg"
      },
      "source": [
        "determining all unique items with their reviews and ratings"
      ]
    },
    {
      "cell_type": "code",
      "execution_count": 16,
      "metadata": {
        "colab": {
          "base_uri": "https://localhost:8080/",
          "height": 478
        },
        "id": "qAjW8mmJq9Cj",
        "outputId": "e03f94a0-8923-417b-c9c0-fd8cd33ea676"
      },
      "outputs": [
        {
          "name": "stderr",
          "output_type": "stream",
          "text": [
            "/home/mobin/anaconda3/envs/colabenv/lib/python3.7/site-packages/ipykernel_launcher.py:1: FutureWarning: Indexing with multiple keys (implicitly converted to a tuple of keys) will be deprecated, use a list instead.\n",
            "  \"\"\"Entry point for launching an IPython kernel.\n"
          ]
        },
        {
          "data": {
            "text/html": [
              "<div>\n",
              "<style scoped>\n",
              "    .dataframe tbody tr th:only-of-type {\n",
              "        vertical-align: middle;\n",
              "    }\n",
              "\n",
              "    .dataframe tbody tr th {\n",
              "        vertical-align: top;\n",
              "    }\n",
              "\n",
              "    .dataframe thead th {\n",
              "        text-align: right;\n",
              "    }\n",
              "</style>\n",
              "<table border=\"1\" class=\"dataframe\">\n",
              "  <thead>\n",
              "    <tr style=\"text-align: right;\">\n",
              "      <th></th>\n",
              "      <th>itemID</th>\n",
              "      <th>reviewText</th>\n",
              "      <th>rating</th>\n",
              "    </tr>\n",
              "  </thead>\n",
              "  <tbody>\n",
              "    <tr>\n",
              "      <th>0</th>\n",
              "      <td>616719923X</td>\n",
              "      <td>[Just another flavor of Kit Kat but the taste ...</td>\n",
              "      <td>[4.0, 3.0, 4.0, 5.0, 4.0, 4.0, 3.0, 5.0, 5.0, ...</td>\n",
              "    </tr>\n",
              "    <tr>\n",
              "      <th>1</th>\n",
              "      <td>9742356831</td>\n",
              "      <td>[This curry paste makes a delicious curry.  I ...</td>\n",
              "      <td>[5.0, 5.0, 5.0, 4.0, 5.0, 5.0, 5.0, 5.0, 5.0, ...</td>\n",
              "    </tr>\n",
              "    <tr>\n",
              "      <th>2</th>\n",
              "      <td>B00004S1C5</td>\n",
              "      <td>[These dyes create awesome colors for kids cra...</td>\n",
              "      <td>[5.0, 1.0, 5.0, 5.0, 5.0, 4.0, 4.0]</td>\n",
              "    </tr>\n",
              "    <tr>\n",
              "      <th>3</th>\n",
              "      <td>B0000531B7</td>\n",
              "      <td>[I really enjoy these bars as a quick breakfas...</td>\n",
              "      <td>[5.0, 5.0, 3.0, 5.0, 5.0, 4.0, 5.0, 5.0, 4.0]</td>\n",
              "    </tr>\n",
              "    <tr>\n",
              "      <th>4</th>\n",
              "      <td>B00005344V</td>\n",
              "      <td>[Traditional Medicinals' \"Breathe Easy\" is an ...</td>\n",
              "      <td>[5.0, 3.0, 5.0, 5.0, 3.0, 5.0, 5.0]</td>\n",
              "    </tr>\n",
              "    <tr>\n",
              "      <th>...</th>\n",
              "      <td>...</td>\n",
              "      <td>...</td>\n",
              "      <td>...</td>\n",
              "    </tr>\n",
              "    <tr>\n",
              "      <th>8708</th>\n",
              "      <td>B00JGPG60I</td>\n",
              "      <td>[We switched to this formula 5 days ago and fo...</td>\n",
              "      <td>[4.0, 4.0, 4.0, 5.0, 4.0, 3.0, 5.0, 5.0, 2.0, ...</td>\n",
              "    </tr>\n",
              "    <tr>\n",
              "      <th>8709</th>\n",
              "      <td>B00JL6LTMW</td>\n",
              "      <td>[We have enjoyed Larabar's variety of bars for...</td>\n",
              "      <td>[4.0, 5.0, 5.0, 5.0, 5.0, 4.0, 5.0, 4.0, 5.0, ...</td>\n",
              "    </tr>\n",
              "    <tr>\n",
              "      <th>8710</th>\n",
              "      <td>B00K00H9I6</td>\n",
              "      <td>[This 100% pure Canadian maple syrup is a Grad...</td>\n",
              "      <td>[5.0, 5.0, 5.0, 5.0, 5.0, 5.0, 5.0, 5.0]</td>\n",
              "    </tr>\n",
              "    <tr>\n",
              "      <th>8711</th>\n",
              "      <td>B00KC0LGI8</td>\n",
              "      <td>[I followed the directions on the box exactly ...</td>\n",
              "      <td>[2.0, 4.0, 4.0, 4.0, 4.0, 5.0, 2.0, 5.0, 3.0, ...</td>\n",
              "    </tr>\n",
              "    <tr>\n",
              "      <th>8712</th>\n",
              "      <td>B00KCJRVO2</td>\n",
              "      <td>[Usually the label &amp;#34;gluten free&amp;#34; is a ...</td>\n",
              "      <td>[5.0, 5.0, 4.0, 5.0, 5.0, 3.0, 4.0, 4.0, 5.0, ...</td>\n",
              "    </tr>\n",
              "  </tbody>\n",
              "</table>\n",
              "<p>8713 rows × 3 columns</p>\n",
              "</div>"
            ],
            "text/plain": [
              "          itemID                                         reviewText  \\\n",
              "0     616719923X  [Just another flavor of Kit Kat but the taste ...   \n",
              "1     9742356831  [This curry paste makes a delicious curry.  I ...   \n",
              "2     B00004S1C5  [These dyes create awesome colors for kids cra...   \n",
              "3     B0000531B7  [I really enjoy these bars as a quick breakfas...   \n",
              "4     B00005344V  [Traditional Medicinals' \"Breathe Easy\" is an ...   \n",
              "...          ...                                                ...   \n",
              "8708  B00JGPG60I  [We switched to this formula 5 days ago and fo...   \n",
              "8709  B00JL6LTMW  [We have enjoyed Larabar's variety of bars for...   \n",
              "8710  B00K00H9I6  [This 100% pure Canadian maple syrup is a Grad...   \n",
              "8711  B00KC0LGI8  [I followed the directions on the box exactly ...   \n",
              "8712  B00KCJRVO2  [Usually the label &#34;gluten free&#34; is a ...   \n",
              "\n",
              "                                                 rating  \n",
              "0     [4.0, 3.0, 4.0, 5.0, 4.0, 4.0, 3.0, 5.0, 5.0, ...  \n",
              "1     [5.0, 5.0, 5.0, 4.0, 5.0, 5.0, 5.0, 5.0, 5.0, ...  \n",
              "2                   [5.0, 1.0, 5.0, 5.0, 5.0, 4.0, 4.0]  \n",
              "3         [5.0, 5.0, 3.0, 5.0, 5.0, 4.0, 5.0, 5.0, 4.0]  \n",
              "4                   [5.0, 3.0, 5.0, 5.0, 3.0, 5.0, 5.0]  \n",
              "...                                                 ...  \n",
              "8708  [4.0, 4.0, 4.0, 5.0, 4.0, 3.0, 5.0, 5.0, 2.0, ...  \n",
              "8709  [4.0, 5.0, 5.0, 5.0, 5.0, 4.0, 5.0, 4.0, 5.0, ...  \n",
              "8710           [5.0, 5.0, 5.0, 5.0, 5.0, 5.0, 5.0, 5.0]  \n",
              "8711  [2.0, 4.0, 4.0, 4.0, 4.0, 5.0, 2.0, 5.0, 3.0, ...  \n",
              "8712  [5.0, 5.0, 4.0, 5.0, 5.0, 3.0, 4.0, 4.0, 5.0, ...  \n",
              "\n",
              "[8713 rows x 3 columns]"
            ]
          },
          "execution_count": 16,
          "metadata": {},
          "output_type": "execute_result"
        }
      ],
      "source": [
        "item_df=df[['itemID','reviewText','rating']].groupby('itemID')['reviewText','rating'].apply(lambda x: pd.Series([list(x['reviewText']),list(x['rating'])],index=['reviewText', 'rating'])).reset_index()\n",
        "item_df"
      ]
    },
    {
      "cell_type": "code",
      "execution_count": 17,
      "metadata": {},
      "outputs": [
        {
          "name": "stderr",
          "output_type": "stream",
          "text": [
            "/home/mobin/anaconda3/envs/colabenv/lib/python3.7/site-packages/ipykernel_launcher.py:4: FutureWarning: Indexing with multiple keys (implicitly converted to a tuple of keys) will be deprecated, use a list instead.\n",
            "  after removing the cwd from sys.path.\n",
            "/home/mobin/anaconda3/envs/colabenv/lib/python3.7/site-packages/ipykernel_launcher.py:7: FutureWarning: Indexing with multiple keys (implicitly converted to a tuple of keys) will be deprecated, use a list instead.\n",
            "  import sys\n",
            "/home/mobin/anaconda3/envs/colabenv/lib/python3.7/site-packages/ipykernel_launcher.py:8: FutureWarning: Indexing with multiple keys (implicitly converted to a tuple of keys) will be deprecated, use a list instead.\n",
            "  \n"
          ]
        }
      ],
      "source": [
        "# dataset minimization\n",
        "sample_userID = list( user_df[user_df['reviewText'].apply(lambda x : len(x)> 80 )].sample(50)['userID'])\n",
        "new_df = df[ df['userID'].isin(sample_userID)]\n",
        "item_ddf = new_df[['itemID','reviewText','rating']].groupby('itemID')['reviewText','rating'].apply(lambda x: pd.Series([list(x['reviewText']),list(x['rating'])],index=['reviewText', 'rating'])).reset_index()\n",
        "sample_itemID = list( item_ddf[ item_ddf['reviewText'].apply(lambda x : len(x)>4)]['itemID'] )\n",
        "df = new_df[new_df['itemID'].isin(sample_itemID)].reset_index(drop= True)\n",
        "user_df=df[['userID','reviewText','rating']].groupby('userID')['rating','reviewText'].apply(lambda x: pd.Series([list(x['reviewText']),list(x['rating'])],index=['reviewText', 'rating'])).reset_index()\n",
        "item_df=df[['itemID','reviewText','rating']].groupby('itemID')['reviewText','rating'].apply(lambda x: pd.Series([list(x['reviewText']),list(x['rating'])],index=['reviewText', 'rating'])).reset_index()\n"
      ]
    },
    {
      "cell_type": "code",
      "execution_count": 18,
      "metadata": {},
      "outputs": [
        {
          "name": "stdout",
          "output_type": "stream",
          "text": [
            "review num :  1878 user num :  50 item num :  195\n"
          ]
        }
      ],
      "source": [
        "print(\"review num : \", df.shape[0] ,\"user num : \" ,user_df.shape[0],\"item num : \",item_df.shape[0] )"
      ]
    },
    {
      "cell_type": "markdown",
      "metadata": {
        "id": "jCekVFHgXtom"
      },
      "source": [
        "##   Ratings"
      ]
    },
    {
      "cell_type": "code",
      "execution_count": 19,
      "metadata": {
        "colab": {
          "base_uri": "https://localhost:8080/",
          "height": 441
        },
        "id": "cZb_XiBoGHSa",
        "outputId": "f1cb72ea-8d50-467a-d412-92d75a9d167e"
      },
      "outputs": [
        {
          "data": {
            "text/plain": [
              "count    1878.000000\n",
              "mean        3.943024\n",
              "std         1.029378\n",
              "min         1.000000\n",
              "25%         3.000000\n",
              "50%         4.000000\n",
              "75%         5.000000\n",
              "max         5.000000\n",
              "Name: rating, dtype: float64"
            ]
          },
          "execution_count": 19,
          "metadata": {},
          "output_type": "execute_result"
        },
        {
          "data": {
            "image/png": "[encoded data removed]",
            "text/plain": [
              "<Figure size 432x288 with 1 Axes>"
            ]
          },
          "metadata": {
            "needs_background": "light"
          },
          "output_type": "display_data"
        }
      ],
      "source": [
        "df.groupby('rating').size().plot(kind=\"bar\");\n",
        "df['rating'].describe()\n",
        "#histogram of ratings"
      ]
    },
    {
      "cell_type": "code",
      "execution_count": 20,
      "metadata": {
        "colab": {
          "base_uri": "https://localhost:8080/",
          "height": 367
        },
        "id": "hPn4ftb2vqn-",
        "outputId": "91fde917-2de7-4a70-ea94-2e4ae376ea5a"
      },
      "outputs": [
        {
          "data": {
            "image/png": "[encoded data removed]",
            "text/plain": [
              "<Figure size 1152x432 with 1 Axes>"
            ]
          },
          "metadata": {
            "needs_background": "light"
          },
          "output_type": "display_data"
        }
      ],
      "source": [
        "user_means=user_df.rating.apply(lambda x: np.mean(x))\n",
        "user_means[:50].plot(kind=\"bar\", grid=False, figsize=(16, 6), title=\"Mean ratings for 50 users\");"
      ]
    },
    {
      "cell_type": "code",
      "execution_count": 21,
      "metadata": {
        "colab": {
          "base_uri": "https://localhost:8080/",
          "height": 204
        },
        "id": "ZuVzD2bTv4iE",
        "outputId": "8533423d-08da-4eeb-c78b-51397de9ecff"
      },
      "outputs": [
        {
          "data": {
            "image/png": "[encoded data removed]",
            "text/plain": [
              "<Figure size 2304x432 with 2 Axes>"
            ]
          },
          "metadata": {
            "needs_background": "light"
          },
          "output_type": "display_data"
        }
      ],
      "source": [
        "fig, (ax1, ax2) = plt.subplots(ncols=2, figsize=(32,6), sharey=True)\n",
        "user_means.nlargest(50).plot(kind=\"bar\", ax=ax1, title=\"Top 50 users in data set\")\n",
        "user_means.nsmallest(50).plot(kind=\"bar\", ax=ax2, title=\"Bottom 50 users in data set\");"
      ]
    },
    {
      "cell_type": "code",
      "execution_count": 22,
      "metadata": {
        "colab": {
          "base_uri": "https://localhost:8080/",
          "height": 300
        },
        "id": "FChjMJ0MvtiU",
        "outputId": "81b5374f-986d-4079-8cb6-a99614f56d4c"
      },
      "outputs": [
        {
          "data": {
            "text/plain": [
              "[<matplotlib.lines.Line2D at 0x7fc72a5c28d0>]"
            ]
          },
          "execution_count": 22,
          "metadata": {},
          "output_type": "execute_result"
        },
        {
          "data": {
            "image/png": "[encoded data removed]",
            "text/plain": [
              "<Figure size 1440x432 with 1 Axes>"
            ]
          },
          "metadata": {
            "needs_background": "light"
          },
          "output_type": "display_data"
        }
      ],
      "source": [
        "user_means = df.groupby(\"userID\").rating.mean().sort_values()\n",
        "_, ax = plt.subplots(figsize=(20, 6))\n",
        "ax.plot(np.arange(len(user_means)), user_means.values, \"k-\")\n"
      ]
    },
    {
      "cell_type": "code",
      "execution_count": 23,
      "metadata": {
        "colab": {
          "base_uri": "https://localhost:8080/",
          "height": 367
        },
        "id": "VQfmX7OwGaRN",
        "outputId": "65757a6a-d630-49fc-a97c-0742c3a1b7a5"
      },
      "outputs": [
        {
          "data": {
            "image/png": "[encoded data removed]",
            "text/plain": [
              "<Figure size 1152x432 with 1 Axes>"
            ]
          },
          "metadata": {
            "needs_background": "light"
          },
          "output_type": "display_data"
        }
      ],
      "source": [
        "item_means=item_df.rating.apply(lambda x: np.mean(x))\n",
        "item_means[:50].plot(kind=\"bar\", grid=False, figsize=(16, 6), title=\"Mean ratings for 50 items\");"
      ]
    },
    {
      "cell_type": "code",
      "execution_count": 24,
      "metadata": {
        "colab": {
          "base_uri": "https://localhost:8080/",
          "height": 201
        },
        "id": "6Dyp-7KeGyoK",
        "outputId": "6d657471-73d2-4291-aa92-49de438f0a59"
      },
      "outputs": [
        {
          "data": {
            "image/png": "[encoded data removed]",
            "text/plain": [
              "<Figure size 2304x432 with 2 Axes>"
            ]
          },
          "metadata": {
            "needs_background": "light"
          },
          "output_type": "display_data"
        }
      ],
      "source": [
        "fig, (ax1, ax2) = plt.subplots(ncols=2, figsize=(32,6), sharey=True)\n",
        "item_means.nlargest(50).plot(kind=\"bar\", ax=ax1, title=\"Top 50 items in data set\")\n",
        "item_means.nsmallest(50).plot(kind=\"bar\", ax=ax2, title=\"Bottom 50 items in data set\");"
      ]
    },
    {
      "cell_type": "markdown",
      "metadata": {
        "id": "IxGLa04uYQRt"
      },
      "source": [
        "## Reviews"
      ]
    },
    {
      "cell_type": "code",
      "execution_count": 25,
      "metadata": {
        "colab": {
          "base_uri": "https://localhost:8080/"
        },
        "id": "z0QEq-vnYohN",
        "outputId": "183d2ce2-65c2-49c9-ca8c-7f216083e4bc"
      },
      "outputs": [
        {
          "data": {
            "text/plain": [
              "count                                                  1878\n",
              "unique                                                 1878\n",
              "top       Many reviewers have already commented on the f...\n",
              "freq                                                      1\n",
              "Name: reviewText, dtype: object"
            ]
          },
          "execution_count": 25,
          "metadata": {},
          "output_type": "execute_result"
        }
      ],
      "source": [
        "df['reviewText'].describe()"
      ]
    },
    {
      "cell_type": "code",
      "execution_count": 26,
      "metadata": {
        "colab": {
          "base_uri": "https://localhost:8080/",
          "height": 459
        },
        "id": "OLw7n7EcbEKV",
        "outputId": "ffd1376f-19a1-42f2-a991-e490d04d84d4"
      },
      "outputs": [
        {
          "data": {
            "text/plain": [
              "count    1878.000000\n",
              "mean      733.698083\n",
              "std       508.239662\n",
              "min        78.000000\n",
              "25%       425.250000\n",
              "50%       602.000000\n",
              "75%       865.750000\n",
              "max      8136.000000\n",
              "Name: reviewText, dtype: float64"
            ]
          },
          "execution_count": 26,
          "metadata": {},
          "output_type": "execute_result"
        },
        {
          "data": {
            "image/png": "[encoded data removed]",
            "text/plain": [
              "<Figure size 1728x576 with 1 Axes>"
            ]
          },
          "metadata": {
            "needs_background": "light"
          },
          "output_type": "display_data"
        }
      ],
      "source": [
        "# review length\n",
        "rv_le=df['reviewText'].apply(lambda x:len(x) )\n",
        "rv_le.plot(kind='hist',bins=2000,figsize=(24, 8),xlabel=\"length of reviews\")\n",
        "rv_le.describe()\n"
      ]
    },
    {
      "cell_type": "code",
      "execution_count": 27,
      "metadata": {
        "colab": {
          "base_uri": "https://localhost:8080/"
        },
        "id": "LTgNznNQ8aR1",
        "outputId": "3c1809ac-2fc3-4d67-ce83-7253c8687332"
      },
      "outputs": [
        {
          "name": "stdout",
          "output_type": "stream",
          "text": [
            "mean of reviews per user: 37.56\n",
            "mean of words per review: 733.6980830670926\n",
            "mean of words per user: 27557.7\n"
          ]
        }
      ],
      "source": [
        "sum=0\n",
        "sum2=0\n",
        "for x in user_df['reviewText']:\n",
        "  sum+=len(x)\n",
        "  for y in x:\n",
        "   sum2 +=len(y)\n",
        "\n",
        "r_mean=sum/len(user_df['reviewText'])\n",
        "w_mean=sum2/(r_mean*len(user_df['reviewText']))\n",
        "print('mean of reviews per user:', r_mean)\n",
        "print('mean of words per review:', w_mean)\n",
        "print('mean of words per user:',r_mean * w_mean)\n",
        "# plot for reviews per user"
      ]
    },
    {
      "cell_type": "code",
      "execution_count": 28,
      "metadata": {},
      "outputs": [
        {
          "data": {
            "text/plain": [
              "Series([], Name: reviewText, dtype: int64)"
            ]
          },
          "execution_count": 28,
          "metadata": {},
          "output_type": "execute_result"
        }
      ],
      "source": [
        "a=item_df['reviewText'].apply(len)\n",
        "a[a>40]"
      ]
    },
    {
      "cell_type": "code",
      "execution_count": 29,
      "metadata": {},
      "outputs": [
        {
          "data": {
            "text/plain": [
              "count    195.000000\n",
              "mean       9.630769\n",
              "std        4.447526\n",
              "min        5.000000\n",
              "25%        6.000000\n",
              "50%        9.000000\n",
              "75%       12.000000\n",
              "max       30.000000\n",
              "Name: reviewText, dtype: float64"
            ]
          },
          "execution_count": 29,
          "metadata": {},
          "output_type": "execute_result"
        },
        {
          "data": {
            "image/png": "[encoded data removed]",
            "text/plain": [
              "<Figure size 1728x576 with 1 Axes>"
            ]
          },
          "metadata": {
            "needs_background": "light"
          },
          "output_type": "display_data"
        }
      ],
      "source": [
        "rv_le=item_df['reviewText'].apply(lambda x:len(x) )\n",
        "rv_le.plot(kind='hist',bins=2000,figsize=(24, 8),xlabel=\"length of reviews\")\n",
        "rv_le.describe()"
      ]
    },
    {
      "cell_type": "code",
      "execution_count": 30,
      "metadata": {},
      "outputs": [
        {
          "data": {
            "text/plain": [
              "count     50.000000\n",
              "mean      37.560000\n",
              "std       29.842553\n",
              "min        1.000000\n",
              "25%       12.750000\n",
              "50%       31.000000\n",
              "75%       61.750000\n",
              "max      114.000000\n",
              "Name: reviewText, dtype: float64"
            ]
          },
          "execution_count": 30,
          "metadata": {},
          "output_type": "execute_result"
        },
        {
          "data": {
            "image/png": "[encoded data removed]",
            "text/plain": [
              "<Figure size 1728x576 with 1 Axes>"
            ]
          },
          "metadata": {
            "needs_background": "light"
          },
          "output_type": "display_data"
        }
      ],
      "source": [
        "rv_le=user_df['reviewText'].apply(lambda x:len(x) )\n",
        "rv_le.plot(kind='hist',bins=2000,figsize=(24, 8),xlabel=\"length of reviews\")\n",
        "rv_le.describe()"
      ]
    },
    {
      "cell_type": "code",
      "execution_count": 31,
      "metadata": {
        "colab": {
          "base_uri": "https://localhost:8080/"
        },
        "id": "Nje_ix7gAaf3",
        "outputId": "c3260e88-aa4f-46f3-aa38-85cbb25e0219"
      },
      "outputs": [
        {
          "name": "stdout",
          "output_type": "stream",
          "text": [
            "mean of reviews per item: 9.63076923076923\n",
            "mean of words per review: 733.6980830670926\n",
            "mean of words per item: 7066.076923076923\n"
          ]
        }
      ],
      "source": [
        "sum=0\n",
        "sum2=0\n",
        "for x in item_df['reviewText']:\n",
        "  sum+=len(x)\n",
        "  for y in x:\n",
        "   sum2 +=len(y)\n",
        "\n",
        "r_mean=sum/len(item_df['reviewText'])\n",
        "w_mean=sum2/(r_mean*len(item_df['reviewText']))\n",
        "print('mean of reviews per item:', r_mean)\n",
        "print('mean of words per review:', w_mean)\n",
        "print('mean of words per item:',r_mean * w_mean)"
      ]
    },
    {
      "cell_type": "markdown",
      "metadata": {},
      "source": [
        "# **Data Splitting**"
      ]
    },
    {
      "cell_type": "code",
      "execution_count": 32,
      "metadata": {},
      "outputs": [
        {
          "name": "stdout",
          "output_type": "stream",
          "text": [
            "[ 188  189  190 ... 1875 1876 1877] 1690\n",
            "[   0    1    2 ... 1875 1876 1877] 1690\n",
            "[   0    1    2 ... 1875 1876 1877] 1690\n",
            "[   0    1    2 ... 1875 1876 1877] 1690\n",
            "[   0    1    2 ... 1875 1876 1877] 1690\n",
            "[   0    1    2 ... 1875 1876 1877] 1690\n",
            "[   0    1    2 ... 1875 1876 1877] 1690\n",
            "[   0    1    2 ... 1875 1876 1877] 1690\n",
            "[   0    1    2 ... 1875 1876 1877] 1691\n",
            "[   0    1    2 ... 1688 1689 1690] 1691\n"
          ]
        },
        {
          "data": {
            "text/html": [
              "<div>\n",
              "<style scoped>\n",
              "    .dataframe tbody tr th:only-of-type {\n",
              "        vertical-align: middle;\n",
              "    }\n",
              "\n",
              "    .dataframe tbody tr th {\n",
              "        vertical-align: top;\n",
              "    }\n",
              "\n",
              "    .dataframe thead th {\n",
              "        text-align: right;\n",
              "    }\n",
              "</style>\n",
              "<table border=\"1\" class=\"dataframe\">\n",
              "  <thead>\n",
              "    <tr style=\"text-align: right;\">\n",
              "      <th></th>\n",
              "      <th>userID</th>\n",
              "      <th>itemID</th>\n",
              "      <th>reviewText</th>\n",
              "      <th>rating</th>\n",
              "    </tr>\n",
              "  </thead>\n",
              "  <tbody>\n",
              "    <tr>\n",
              "      <th>0</th>\n",
              "      <td>A36WGHR8TO5DKT</td>\n",
              "      <td>B00099XNG0</td>\n",
              "      <td>Many reviewers have already commented on the f...</td>\n",
              "      <td>5.0</td>\n",
              "    </tr>\n",
              "    <tr>\n",
              "      <th>1</th>\n",
              "      <td>AKMEY1BSHSDG7</td>\n",
              "      <td>B00099XNG0</td>\n",
              "      <td>Chex Mix Sour Cream &amp; Onion flavor is a good s...</td>\n",
              "      <td>4.0</td>\n",
              "    </tr>\n",
              "    <tr>\n",
              "      <th>2</th>\n",
              "      <td>A1X1CEGHTHMBL1</td>\n",
              "      <td>B00099XNG0</td>\n",
              "      <td>Wow, what a mixture of great tasting things.  ...</td>\n",
              "      <td>5.0</td>\n",
              "    </tr>\n",
              "    <tr>\n",
              "      <th>3</th>\n",
              "      <td>A1ZH9LWMX5UCFJ</td>\n",
              "      <td>B00099XNG0</td>\n",
              "      <td>I have always been a fan of sweet and salty sn...</td>\n",
              "      <td>5.0</td>\n",
              "    </tr>\n",
              "    <tr>\n",
              "      <th>4</th>\n",
              "      <td>A2MNB77YGJ3CN0</td>\n",
              "      <td>B00099XNG0</td>\n",
              "      <td>Excellent snack for those of us who prefer our...</td>\n",
              "      <td>5.0</td>\n",
              "    </tr>\n",
              "    <tr>\n",
              "      <th>...</th>\n",
              "      <td>...</td>\n",
              "      <td>...</td>\n",
              "      <td>...</td>\n",
              "      <td>...</td>\n",
              "    </tr>\n",
              "    <tr>\n",
              "      <th>1686</th>\n",
              "      <td>A2V92F5R7MLCVI</td>\n",
              "      <td>B00DF05TC6</td>\n",
              "      <td>I thought the combination of caramel and chedd...</td>\n",
              "      <td>1.0</td>\n",
              "    </tr>\n",
              "    <tr>\n",
              "      <th>1687</th>\n",
              "      <td>A2OCDK0BOW6UCY</td>\n",
              "      <td>B00DGPCC3O</td>\n",
              "      <td>This is a nice blend consisting of raisins, pe...</td>\n",
              "      <td>4.0</td>\n",
              "    </tr>\n",
              "    <tr>\n",
              "      <th>1688</th>\n",
              "      <td>A34BZM6S9L7QI4</td>\n",
              "      <td>B00DGPCC3O</td>\n",
              "      <td>This isn't outstanding, and by that I mean it ...</td>\n",
              "      <td>4.0</td>\n",
              "    </tr>\n",
              "    <tr>\n",
              "      <th>1689</th>\n",
              "      <td>A25C2M3QF9G7OQ</td>\n",
              "      <td>B00DGPCC3O</td>\n",
              "      <td>This is a very tasty assemblage of nuts, raisi...</td>\n",
              "      <td>4.0</td>\n",
              "    </tr>\n",
              "    <tr>\n",
              "      <th>1690</th>\n",
              "      <td>A353U0L2HAMSHV</td>\n",
              "      <td>B00DGPCC3O</td>\n",
              "      <td>This trail mix is a very common and average mi...</td>\n",
              "      <td>4.0</td>\n",
              "    </tr>\n",
              "  </tbody>\n",
              "</table>\n",
              "<p>1691 rows × 4 columns</p>\n",
              "</div>"
            ],
            "text/plain": [
              "              userID      itemID  \\\n",
              "0     A36WGHR8TO5DKT  B00099XNG0   \n",
              "1      AKMEY1BSHSDG7  B00099XNG0   \n",
              "2     A1X1CEGHTHMBL1  B00099XNG0   \n",
              "3     A1ZH9LWMX5UCFJ  B00099XNG0   \n",
              "4     A2MNB77YGJ3CN0  B00099XNG0   \n",
              "...              ...         ...   \n",
              "1686  A2V92F5R7MLCVI  B00DF05TC6   \n",
              "1687  A2OCDK0BOW6UCY  B00DGPCC3O   \n",
              "1688  A34BZM6S9L7QI4  B00DGPCC3O   \n",
              "1689  A25C2M3QF9G7OQ  B00DGPCC3O   \n",
              "1690  A353U0L2HAMSHV  B00DGPCC3O   \n",
              "\n",
              "                                             reviewText  rating  \n",
              "0     Many reviewers have already commented on the f...     5.0  \n",
              "1     Chex Mix Sour Cream & Onion flavor is a good s...     4.0  \n",
              "2     Wow, what a mixture of great tasting things.  ...     5.0  \n",
              "3     I have always been a fan of sweet and salty sn...     5.0  \n",
              "4     Excellent snack for those of us who prefer our...     5.0  \n",
              "...                                                 ...     ...  \n",
              "1686  I thought the combination of caramel and chedd...     1.0  \n",
              "1687  This is a nice blend consisting of raisins, pe...     4.0  \n",
              "1688  This isn't outstanding, and by that I mean it ...     4.0  \n",
              "1689  This is a very tasty assemblage of nuts, raisi...     4.0  \n",
              "1690  This trail mix is a very common and average mi...     4.0  \n",
              "\n",
              "[1691 rows x 4 columns]"
            ]
          },
          "execution_count": 32,
          "metadata": {},
          "output_type": "execute_result"
        }
      ],
      "source": [
        "current_fold=10\n",
        "kfold = KFold(10)\n",
        "random_iterator=kfold.split(df)\n",
        "for i in range(current_fold):\n",
        "  train_index, test_index = next(random_iterator, None)\n",
        "  print(train_index,len(train_index))\n",
        "  train_df, test_df =df.iloc[train_index], df.iloc[test_index]\n",
        "train_df"
      ]
    },
    {
      "cell_type": "markdown",
      "metadata": {
        "id": "IvMysaUvxxU3"
      },
      "source": [
        "# **Embedding Matrix**"
      ]
    },
    {
      "cell_type": "code",
      "execution_count": 33,
      "metadata": {
        "id": "WovD0fA5q-J6"
      },
      "outputs": [],
      "source": [
        "# hyperparameters\n",
        "embedding_dim=300\n",
        "min_frequent_word_num=1\n",
        "max_vocab_size=10000\n",
        "sequence_length=64\n",
        "document_length=20"
      ]
    },
    {
      "cell_type": "code",
      "execution_count": 34,
      "metadata": {},
      "outputs": [],
      "source": [
        "def tf_lower_and_split_punct(text):\n",
        "  text = tf_text.normalize_utf8(text, 'NFKD')\n",
        "  text = tf.strings.lower(text)\n",
        "  text = tf.strings.regex_replace(text, '[^ a-z.?!,¿]', '')\n",
        "  text = tf.strings.regex_replace(text, '[.?!,¿]', r' \\0 ')\n",
        "  text = tf.strings.strip(text)\n",
        "  text= tf.strings.reduce_join( tf.strings.split(text)[:,:sequence_length-2],axis=-1,separator=' ')\n",
        "  return  text.numpy()"
      ]
    },
    {
      "cell_type": "code",
      "execution_count": 35,
      "metadata": {},
      "outputs": [],
      "source": [
        "with tf.device('/CPU:0'):\n",
        "    user_corpus =list(map(tf_lower_and_split_punct,user_df['reviewText'])) \n",
        "    item_corpus = list( map(tf_lower_and_split_punct,item_df['reviewText']) )"
      ]
    },
    {
      "cell_type": "code",
      "execution_count": 36,
      "metadata": {},
      "outputs": [],
      "source": [
        "def load_word2vec_model():\n",
        "    if os.path.exists(\"word2vec.wordvectors\"):\n",
        "        print(\"loaded from word2vec.wordvectors\")\n",
        "        return KeyedVectors.load(\"word2vec.wordvectors\",mmap='r')\n",
        "    else:\n",
        "        # downloading google news word2vec model\n",
        "        if not os.path.exists(\"word2vec_google.bin\"):\n",
        "            downloaded_model = api.load('word2vec-google-news-300')\n",
        "            downloaded_model.save_word2vec_format('word2vec_google.bin',binary=True)\n",
        "            del downloaded_model\n",
        "        # loading google news word2vec model\n",
        "        google_word2vec = KeyedVectors.load_word2vec_format(\"word2vec_google.bin\", binary=True)\n",
        "\n",
        "       # tokenizing the whole reviews in text_corpus\n",
        "        text_corpus=[]\n",
        "        for i,doc in enumerate(user_corpus):    # iterate through each sentence in the reviews\n",
        "            for rv in doc:\n",
        "                for sen in sent_tokenize(rv.decode(\"utf-8\")):\n",
        "                    temp = []\n",
        "                    # tokenize the sentence into words          \n",
        "                    for j in word_tokenize(sen):\n",
        "                        temp.append(j.lower())\n",
        "                    text_corpus.append(temp)\n",
        "                    del temp\n",
        "\n",
        "\n",
        "        # creating a new word2vec model and initializing it from pretrained google_word2vec\n",
        "        word2vec_model=Word2Vec( text_corpus,max_final_vocab=max_vocab_size,min_count=min_frequent_word_num ,vector_size= embedding_dim,window = 5,workers=16, sg=1,epochs=1)\n",
        "        word2vec_model.build_vocab(text_corpus)\n",
        "\n",
        "        word2vec_model.build_vocab([google_word2vec.index_to_key],update=True)\n",
        "        word2vec_model.wv.vectors_lockf = np.ones(len(word2vec_model.wv))\n",
        "        word2vec_model.wv.intersect_word2vec_format(\"word2vec_google.bin\",binary=True,lockf=1.0)\n",
        "        \n",
        "        # fine tuning the model and saving it\n",
        "        word2vec_model.train(text_corpus, epochs=5, total_examples=word2vec_model.corpus_count)\n",
        "        word2vec_model.wv.save(\"word2vec.wordvectors\")\n",
        "        \n",
        "        del google_word2vec\n",
        "        del text_corpus[:]\n",
        "        gc.collect()\n",
        "  \n",
        "        return word2vec_model.wv\n",
        "        "
      ]
    },
    {
      "cell_type": "code",
      "execution_count": 37,
      "metadata": {},
      "outputs": [
        {
          "name": "stdout",
          "output_type": "stream",
          "text": [
            "embedding matrix shape : ( 6187  , 300 )\n"
          ]
        }
      ],
      "source": [
        "# loading the embedding lookup matrix shape=( 30k ,300 ) approximately\n",
        "embedding_matrix = load_word2vec_model() \n",
        "print( \"embedding matrix shape : (\",len(embedding_matrix.index_to_key),\" ,\",embedding_matrix.vector_size,\")\")"
      ]
    },
    {
      "cell_type": "code",
      "execution_count": 38,
      "metadata": {},
      "outputs": [
        {
          "data": {
            "text/plain": [
              "['.',\n",
              " 'the',\n",
              " ',',\n",
              " 'a',\n",
              " 'and',\n",
              " 'i',\n",
              " 'of',\n",
              " 'to',\n",
              " 'is',\n",
              " 'it',\n",
              " 'this',\n",
              " 'in',\n",
              " 'that',\n",
              " 'but',\n",
              " 'with',\n",
              " 'for',\n",
              " 'are',\n",
              " 'was',\n",
              " 'not',\n",
              " 'like',\n",
              " 'my',\n",
              " 'flavor',\n",
              " 'as',\n",
              " 'have',\n",
              " 'good',\n",
              " 'these',\n",
              " 'taste',\n",
              " 'on',\n",
              " 'they',\n",
              " 'tea',\n",
              " 'you',\n",
              " 'so',\n",
              " 'or',\n",
              " 'very',\n",
              " 'its',\n",
              " 'be',\n",
              " 'just',\n",
              " 'has',\n",
              " 'one',\n",
              " 'really',\n",
              " 'more',\n",
              " 'than',\n",
              " 'me',\n",
              " 'water',\n",
              " 'all',\n",
              " 'when',\n",
              " 'can',\n",
              " 'some',\n",
              " 'them',\n",
              " 'at',\n",
              " 'little',\n",
              " 'if',\n",
              " 'nice',\n",
              " 'too',\n",
              " 'from',\n",
              " 'coffee',\n",
              " 'pasta',\n",
              " 'much',\n",
              " 'we',\n",
              " 'had',\n",
              " 'great',\n",
              " '!',\n",
              " 'an',\n",
              " 'there',\n",
              " 'sweet',\n",
              " 'bit',\n",
              " 'love',\n",
              " 'out',\n",
              " 'up',\n",
              " 'tried',\n",
              " 'ive',\n",
              " 'would',\n",
              " 'easy',\n",
              " 'which',\n",
              " 'make',\n",
              " 'drink',\n",
              " 'no',\n",
              " 'well',\n",
              " 'other',\n",
              " 'rice',\n",
              " 'side',\n",
              " 'chocolate',\n",
              " 'im',\n",
              " 'were',\n",
              " 'do',\n",
              " 'use',\n",
              " 'dont',\n",
              " 'sauce',\n",
              " 'texture',\n",
              " 'because',\n",
              " 'sugar',\n",
              " 'about',\n",
              " 'also',\n",
              " 'better',\n",
              " 'what',\n",
              " 'cup',\n",
              " 'product',\n",
              " 'tastes',\n",
              " 'first',\n",
              " 'get',\n",
              " 'been',\n",
              " 'makes',\n",
              " 'quite',\n",
              " 'only',\n",
              " 'used',\n",
              " 'didnt',\n",
              " 'cookies',\n",
              " 'try',\n",
              " 'tasty',\n",
              " 'cheese',\n",
              " 'bag',\n",
              " 'even',\n",
              " 'any',\n",
              " 'made',\n",
              " 'pretty',\n",
              " 'couscous',\n",
              " 'mix',\n",
              " 'box',\n",
              " 'whole',\n",
              " 'hot',\n",
              " 'by',\n",
              " 'ingredients',\n",
              " 'add',\n",
              " 'calories',\n",
              " 'flavors',\n",
              " 'will',\n",
              " 'after',\n",
              " 'lot',\n",
              " 'delicious',\n",
              " 'something',\n",
              " 'think',\n",
              " 'most',\n",
              " 'always',\n",
              " 'added',\n",
              " 'time',\n",
              " 'green',\n",
              " 'your',\n",
              " 'did',\n",
              " 'fruit',\n",
              " 'barilla',\n",
              " 'oil',\n",
              " 'chicken',\n",
              " 'while',\n",
              " 'eat',\n",
              " 'then',\n",
              " 'does',\n",
              " 'snack',\n",
              " 'without',\n",
              " 'way',\n",
              " 'popcorn',\n",
              " 'am',\n",
              " 'liked',\n",
              " 'different',\n",
              " 'apple',\n",
              " 'energy',\n",
              " 'regular',\n",
              " 'butter',\n",
              " 'however',\n",
              " 'each',\n",
              " 'dish',\n",
              " 'enough',\n",
              " 'crackers',\n",
              " 'over',\n",
              " 'chips',\n",
              " 'favorite',\n",
              " 'both',\n",
              " 'bar',\n",
              " 'milk',\n",
              " 'free',\n",
              " 'tasted',\n",
              " 'since',\n",
              " 'strong',\n",
              " 'being',\n",
              " 'our',\n",
              " 'into',\n",
              " 'right',\n",
              " 'comes',\n",
              " 'best',\n",
              " 'fresh',\n",
              " 'perfect',\n",
              " 'many',\n",
              " 'salt',\n",
              " 'garlic',\n",
              " 'still',\n",
              " 'enjoy',\n",
              " 'small',\n",
              " 'go',\n",
              " 'size',\n",
              " 'their',\n",
              " 'cinnamon',\n",
              " 'say',\n",
              " 'seasoning',\n",
              " 'less',\n",
              " 'big',\n",
              " 'brand',\n",
              " 'serving',\n",
              " 'bags',\n",
              " 'bars',\n",
              " 'two',\n",
              " 'thought',\n",
              " 'found',\n",
              " 'real',\n",
              " 'caffeine',\n",
              " 'family',\n",
              " 'high',\n",
              " 'ounce',\n",
              " 'package',\n",
              " 'doesnt',\n",
              " 'organic',\n",
              " 'pack',\n",
              " 'though',\n",
              " 'could',\n",
              " 'light',\n",
              " 'fan',\n",
              " 'bottle',\n",
              " 'bad',\n",
              " 'want',\n",
              " 'coconut',\n",
              " 'those',\n",
              " 'few',\n",
              " 'wasnt',\n",
              " 'find',\n",
              " 'tasting',\n",
              " 'food',\n",
              " 'actually',\n",
              " 'things',\n",
              " 'trying',\n",
              " 'lemon',\n",
              " 'rather',\n",
              " 'lipton',\n",
              " 'black',\n",
              " 'quality',\n",
              " 'corn',\n",
              " 'how',\n",
              " 'salty',\n",
              " 'thing',\n",
              " 'prefer',\n",
              " 'new',\n",
              " 'honey',\n",
              " 'quick',\n",
              " 'spicy',\n",
              " 'using',\n",
              " 'definitely',\n",
              " 'never',\n",
              " 'teas',\n",
              " 'give',\n",
              " 'blend',\n",
              " 'gluten',\n",
              " 'hard',\n",
              " 'similar',\n",
              " 'come',\n",
              " 'contains',\n",
              " 'anything',\n",
              " 'isnt',\n",
              " 'before',\n",
              " 'flavored',\n",
              " 'amount',\n",
              " 'snacks',\n",
              " 'buy',\n",
              " 'crunchy',\n",
              " 'who',\n",
              " 'enjoyed',\n",
              " 'cook',\n",
              " 'grain',\n",
              " 'prepare',\n",
              " 'need',\n",
              " 'meal',\n",
              " 'per',\n",
              " 'take',\n",
              " 'same',\n",
              " 'sure',\n",
              " 'ginger',\n",
              " 'drinks',\n",
              " 'minutes',\n",
              " 'natural',\n",
              " 'healthy',\n",
              " 'usually',\n",
              " 'off',\n",
              " 'work',\n",
              " 'plus',\n",
              " 'caramel',\n",
              " 'version',\n",
              " 'spaghetti',\n",
              " 'vanilla',\n",
              " 'noodles',\n",
              " 'soup',\n",
              " 'theyre',\n",
              " 'looking',\n",
              " 'aftertaste',\n",
              " 'white',\n",
              " 'people',\n",
              " 'variety',\n",
              " 'dressing',\n",
              " 'dried',\n",
              " 'diet',\n",
              " 'put',\n",
              " 'plain',\n",
              " 'thin',\n",
              " 'making',\n",
              " 'protein',\n",
              " 'microwave',\n",
              " 'eating',\n",
              " 'crunch',\n",
              " 'nothing',\n",
              " 'day',\n",
              " 'type',\n",
              " '?',\n",
              " 'dark',\n",
              " 'kids',\n",
              " 'artificial',\n",
              " 'cooked',\n",
              " 'cookie',\n",
              " 'slightly',\n",
              " 'mild',\n",
              " 'several',\n",
              " 'cups',\n",
              " 'pleasant',\n",
              " 'either',\n",
              " 'products',\n",
              " 'review',\n",
              " 'having',\n",
              " 'cant',\n",
              " 'now',\n",
              " 'chewy',\n",
              " 'know',\n",
              " 'although',\n",
              " 'id',\n",
              " 'long',\n",
              " 'seems',\n",
              " 'cheddar',\n",
              " 'instead',\n",
              " 'wheat',\n",
              " 'foods',\n",
              " 'creamy',\n",
              " 'powder',\n",
              " 'packet',\n",
              " 'home',\n",
              " 'ok',\n",
              " 'juice',\n",
              " 'oz',\n",
              " 'formula',\n",
              " 'mates',\n",
              " 'might',\n",
              " 'pieces',\n",
              " 'mixed',\n",
              " 'through',\n",
              " 'knorr',\n",
              " 'especially',\n",
              " 'dry',\n",
              " 'loved',\n",
              " 'fact',\n",
              " 'stuff',\n",
              " 'broccoli',\n",
              " 'top',\n",
              " 'almost',\n",
              " 'cooking',\n",
              " 'part',\n",
              " 'salad',\n",
              " 'convenient',\n",
              " 'surprised',\n",
              " 'decent',\n",
              " 'thats',\n",
              " 'far',\n",
              " 'see',\n",
              " 'often',\n",
              " 'years',\n",
              " 'smell',\n",
              " 'oatmeal',\n",
              " 'pepper',\n",
              " 'got',\n",
              " 'here',\n",
              " 'sweetness',\n",
              " 'cereal',\n",
              " 'keep',\n",
              " 'kind',\n",
              " 'wonderful',\n",
              " 'bland',\n",
              " 'combination',\n",
              " 'price',\n",
              " 'together',\n",
              " 'own',\n",
              " 'simple',\n",
              " 'grams',\n",
              " 'down',\n",
              " 'pearl',\n",
              " 'directions',\n",
              " 'beverage',\n",
              " 'treat',\n",
              " 'low',\n",
              " 'pastas',\n",
              " 'unfortunately',\n",
              " 'theres',\n",
              " 'said',\n",
              " 'feel',\n",
              " 'normally',\n",
              " 'easily',\n",
              " 'recommended',\n",
              " 'sometimes',\n",
              " 'fiber',\n",
              " 'flour',\n",
              " 'probably',\n",
              " 'filling',\n",
              " 'ones',\n",
              " 'three',\n",
              " 'adding',\n",
              " 'olive',\n",
              " 'peanut',\n",
              " 'fine',\n",
              " 'keurig',\n",
              " 'seem',\n",
              " 'expected',\n",
              " 'open',\n",
              " 'full',\n",
              " 'ever',\n",
              " 'every',\n",
              " 'back',\n",
              " 'beans',\n",
              " 'brown',\n",
              " 'again',\n",
              " 'care',\n",
              " 'excellent',\n",
              " 'youre',\n",
              " 'idea',\n",
              " 'hint',\n",
              " 'mio',\n",
              " 'bitter',\n",
              " 'tuna',\n",
              " 'fat',\n",
              " 'amazon',\n",
              " 'convenience',\n",
              " 'going',\n",
              " 'hand',\n",
              " 'traditional',\n",
              " 'half',\n",
              " 'heat',\n",
              " 'absolutely',\n",
              " 'crispy',\n",
              " 'roast',\n",
              " 'choice',\n",
              " 'syrup',\n",
              " 'extra',\n",
              " 'refreshing',\n",
              " 'pretzels',\n",
              " 'graham',\n",
              " 'sort',\n",
              " 'blackberry',\n",
              " 'packets',\n",
              " 'tomato',\n",
              " 'curry',\n",
              " 'huge',\n",
              " 'drinking',\n",
              " 'morning',\n",
              " 'received',\n",
              " 'arent',\n",
              " 'expect',\n",
              " 'smooth',\n",
              " 'cooks',\n",
              " 'able',\n",
              " 'ill',\n",
              " 'around',\n",
              " 'spice',\n",
              " 'fast',\n",
              " 'she',\n",
              " 'mac',\n",
              " 'such',\n",
              " 'itself',\n",
              " 'line',\n",
              " 'parmesan',\n",
              " 'daughter',\n",
              " 'instant',\n",
              " 'red',\n",
              " 'shape',\n",
              " 'difference',\n",
              " 'container',\n",
              " 'quinoa',\n",
              " 'nicely',\n",
              " 'brew',\n",
              " 'potato',\n",
              " 'fun',\n",
              " 'candy',\n",
              " 'ranch',\n",
              " 'between',\n",
              " 'prepared',\n",
              " 'house',\n",
              " 'baby',\n",
              " 'sale',\n",
              " 'breakfast',\n",
              " 'herbal',\n",
              " 'large',\n",
              " 'cold',\n",
              " 'cracker',\n",
              " 'came',\n",
              " 'times',\n",
              " 'goes',\n",
              " 'soft',\n",
              " 'peach',\n",
              " 'chai',\n",
              " 'iced',\n",
              " 'couple',\n",
              " 'certainly',\n",
              " 'apples',\n",
              " 'us',\n",
              " 'slight',\n",
              " 'orange',\n",
              " 'myself',\n",
              " 'vegetables',\n",
              " 'spices',\n",
              " 'quickly',\n",
              " 'experience',\n",
              " 'brands',\n",
              " 'recipe',\n",
              " 'should',\n",
              " 'potatoes',\n",
              " 'flavorful',\n",
              " 'packaging',\n",
              " 'simply',\n",
              " 'vitamin',\n",
              " 'generally',\n",
              " 'wouldnt',\n",
              " 'husband',\n",
              " 'servings',\n",
              " 'until',\n",
              " 'store',\n",
              " 'he',\n",
              " 'granola',\n",
              " 'bite',\n",
              " 'grains',\n",
              " 'overall',\n",
              " 'weve',\n",
              " 'contain',\n",
              " 'ingredient',\n",
              " 'chipotle',\n",
              " 'fudge',\n",
              " 'lemonade',\n",
              " 'happy',\n",
              " 'amazing',\n",
              " 'says',\n",
              " 'peppermint',\n",
              " 'another',\n",
              " 'brewed',\n",
              " 'maybe',\n",
              " 'course',\n",
              " 'mouth',\n",
              " 'available',\n",
              " 'serve',\n",
              " 'cocoa',\n",
              " 'sodium',\n",
              " 'crisp',\n",
              " 'cut',\n",
              " 'thick',\n",
              " 'normal',\n",
              " 'opinion',\n",
              " 'pyramid',\n",
              " 'leaves',\n",
              " 'macaroni',\n",
              " 'sweetened',\n",
              " 'noticed',\n",
              " 'types',\n",
              " 'away',\n",
              " 'vine',\n",
              " 'thai',\n",
              " 'old',\n",
              " 'calorie',\n",
              " 'may',\n",
              " 'cream',\n",
              " 'strawberry',\n",
              " 'ended',\n",
              " 'let',\n",
              " 'pleasantly',\n",
              " 'lots',\n",
              " 'almonds',\n",
              " 'bits',\n",
              " 'end',\n",
              " 'sides',\n",
              " 'works',\n",
              " 'glass',\n",
              " 'rich',\n",
              " 'kick',\n",
              " 'pleased',\n",
              " 'needs',\n",
              " 'clean',\n",
              " 'powdered',\n",
              " 'pouch',\n",
              " 'gave',\n",
              " 'varieties',\n",
              " 'excited',\n",
              " 'mg',\n",
              " 'getting',\n",
              " 'cheesy',\n",
              " 'ounces',\n",
              " 'fruity',\n",
              " 'original',\n",
              " 'particular',\n",
              " 'baked',\n",
              " 'italian',\n",
              " 'berry',\n",
              " 'kettle',\n",
              " 'reason',\n",
              " 'purchased',\n",
              " 'decided',\n",
              " 'roasted',\n",
              " 'ice',\n",
              " 'result',\n",
              " 'main',\n",
              " 'overly',\n",
              " 'coating',\n",
              " 'super',\n",
              " 'eaten',\n",
              " 'list',\n",
              " 'went',\n",
              " 'bought',\n",
              " 'somewhat',\n",
              " 'others',\n",
              " 'recommend',\n",
              " 'including',\n",
              " 'usual',\n",
              " 'preparation',\n",
              " 'okay',\n",
              " 'stick',\n",
              " 'compared',\n",
              " 'expecting',\n",
              " 'bacon',\n",
              " 'couldnt',\n",
              " 'boil',\n",
              " 'mango',\n",
              " 'fairly',\n",
              " 'tomatoes',\n",
              " 'color',\n",
              " 'mixes',\n",
              " 'perfectly',\n",
              " 'yet',\n",
              " 'look',\n",
              " 'addition',\n",
              " 'nuts',\n",
              " 'year',\n",
              " 'boxes',\n",
              " 'g',\n",
              " 'chip',\n",
              " 'her',\n",
              " 'special',\n",
              " 'content',\n",
              " 'easier',\n",
              " 'past',\n",
              " 'where',\n",
              " 'oats',\n",
              " 'standard',\n",
              " 'opened',\n",
              " 'why',\n",
              " 'pomegranate',\n",
              " 'mostly',\n",
              " 'lunch',\n",
              " 'mind',\n",
              " 'name',\n",
              " 'overpowering',\n",
              " 'peppers',\n",
              " 'loves',\n",
              " 'glutenfree',\n",
              " 'blueberry',\n",
              " 'dishes',\n",
              " 'dinner',\n",
              " 'hit',\n",
              " 'appealing',\n",
              " 'case',\n",
              " 'weak',\n",
              " 'occasionally',\n",
              " 'change',\n",
              " 'fit',\n",
              " 'instructions',\n",
              " 'fantastic',\n",
              " 'recently',\n",
              " 'worked',\n",
              " 'days',\n",
              " 'took',\n",
              " 'linguine',\n",
              " 'onion',\n",
              " 'ready',\n",
              " 'wish',\n",
              " 'interesting',\n",
              " 'penne',\n",
              " 'left',\n",
              " 'trail',\n",
              " 'completely',\n",
              " 'likes',\n",
              " 'everyone',\n",
              " 'particularly',\n",
              " 'kcups',\n",
              " 'sweetener',\n",
              " 'canned',\n",
              " 'packaged',\n",
              " 'admit',\n",
              " 'disappointed',\n",
              " 'baking',\n",
              " 'puerh',\n",
              " 'pop',\n",
              " 'purchase',\n",
              " 'vitamins',\n",
              " 'vinegar',\n",
              " 'place',\n",
              " 'last',\n",
              " 'vegetable',\n",
              " 'must',\n",
              " 'spread',\n",
              " 'mayonnaise',\n",
              " 'paper',\n",
              " 'flavoring',\n",
              " 'base',\n",
              " 'miss',\n",
              " 'needed',\n",
              " 'mint',\n",
              " 'sardines',\n",
              " 'buying',\n",
              " 'heavy',\n",
              " 'seeds',\n",
              " 'else',\n",
              " 'single',\n",
              " 'test',\n",
              " 'once',\n",
              " 'v',\n",
              " 'mine',\n",
              " 'expensive',\n",
              " 'alternative',\n",
              " 'least',\n",
              " 'pure',\n",
              " 'sticks',\n",
              " 'surprisingly',\n",
              " 'option',\n",
              " 'someone',\n",
              " 'gives',\n",
              " 'meat',\n",
              " 'bell',\n",
              " 'ate',\n",
              " 'turned',\n",
              " 'homemade',\n",
              " 'msg',\n",
              " 'keebler',\n",
              " 'smells',\n",
              " 'veggies',\n",
              " 'tiny',\n",
              " 'start',\n",
              " 'stove',\n",
              " 'clusters',\n",
              " 'tend',\n",
              " 'reading',\n",
              " 'subtle',\n",
              " 'exception',\n",
              " 'despite',\n",
              " 'chili',\n",
              " 'except',\n",
              " 'exactly',\n",
              " 'impressed',\n",
              " 'break',\n",
              " 'appearance',\n",
              " 'takes',\n",
              " 'quaker',\n",
              " 'served',\n",
              " 'wanted',\n",
              " 'second',\n",
              " 'aloe',\n",
              " 'soy',\n",
              " 'kernel',\n",
              " 'pour',\n",
              " 'aroma',\n",
              " 'balance',\n",
              " 'ways',\n",
              " 'pretzel',\n",
              " 'yummy',\n",
              " 'pleasing',\n",
              " 'health',\n",
              " 'sauces',\n",
              " 'pita',\n",
              " 'youll',\n",
              " 'options',\n",
              " 'satisfying',\n",
              " 'seemed',\n",
              " 'filled',\n",
              " 'program',\n",
              " 'garden',\n",
              " 'stars',\n",
              " 'compare',\n",
              " 'surprise',\n",
              " 'everything',\n",
              " 'pot',\n",
              " 'unlike',\n",
              " 'based',\n",
              " 'arrived',\n",
              " 'larger',\n",
              " 'wow',\n",
              " 'grew',\n",
              " 'item',\n",
              " 'packages',\n",
              " 'along',\n",
              " 'bring',\n",
              " 'highly',\n",
              " 'provides',\n",
              " 'consider',\n",
              " 'attractive',\n",
              " 'ago',\n",
              " 'months',\n",
              " 'benefits',\n",
              " 'reminds',\n",
              " 'followed',\n",
              " 'liquid',\n",
              " 'recipes',\n",
              " 'pantry',\n",
              " 'done',\n",
              " 'medium',\n",
              " 'handy',\n",
              " 'given',\n",
              " 'raisins',\n",
              " 'allows',\n",
              " 'looks',\n",
              " 'tell',\n",
              " 'bold',\n",
              " 'fish',\n",
              " 'cardamom',\n",
              " 'perhaps',\n",
              " 'nacho',\n",
              " 'seasons',\n",
              " 'honestly',\n",
              " 'issue',\n",
              " 'reviews',\n",
              " 'mushy',\n",
              " 'familiar',\n",
              " 'close',\n",
              " 'healthier',\n",
              " 'entire',\n",
              " 'balls',\n",
              " 'turn',\n",
              " 'under',\n",
              " 'point',\n",
              " 'havent',\n",
              " 'difficult',\n",
              " 'rest',\n",
              " 'consistency',\n",
              " 'diabetic',\n",
              " 'generic',\n",
              " 'portion',\n",
              " 'touch',\n",
              " 'individual',\n",
              " 'lightly',\n",
              " 'packs',\n",
              " 'typical',\n",
              " 'breast',\n",
              " 'helps',\n",
              " 'adds',\n",
              " 'bowl',\n",
              " 'hibiscus',\n",
              " 'due',\n",
              " 'awesome',\n",
              " 'egg',\n",
              " 'according',\n",
              " 'punch',\n",
              " 'ordered',\n",
              " 'items',\n",
              " 'satisfy',\n",
              " 'lid',\n",
              " 'taco',\n",
              " 'nutrition',\n",
              " 'longer',\n",
              " 'designed',\n",
              " 'chunks',\n",
              " 'machine',\n",
              " 'includes',\n",
              " 'inside',\n",
              " 'basically',\n",
              " 'plastic',\n",
              " 'daily',\n",
              " 'extremely',\n",
              " 'k',\n",
              " 'extract',\n",
              " 'flat',\n",
              " 'fill',\n",
              " 'dip',\n",
              " 'nature',\n",
              " 'star',\n",
              " 'scent',\n",
              " 'appreciate',\n",
              " 'paired',\n",
              " 'choose',\n",
              " 'squirt',\n",
              " 'basic',\n",
              " 'classic',\n",
              " 'squeeze',\n",
              " 'enjoyable',\n",
              " 'stronger',\n",
              " 'broth',\n",
              " 'hold',\n",
              " 'weird',\n",
              " 'form',\n",
              " 'taking',\n",
              " 'coffees',\n",
              " 'unpleasant',\n",
              " 'discovered',\n",
              " 'boost',\n",
              " 'grainy',\n",
              " 'felt',\n",
              " 'odd',\n",
              " 'control',\n",
              " 'average',\n",
              " 'hopes',\n",
              " 'beef',\n",
              " 'peanuts',\n",
              " 'included',\n",
              " 'grab',\n",
              " 'nearly',\n",
              " 'herb',\n",
              " 'four',\n",
              " 'person',\n",
              " 'friends',\n",
              " 'truly',\n",
              " 'sample',\n",
              " 'during',\n",
              " 'stomach',\n",
              " 'jar',\n",
              " 'notice',\n",
              " 'unless',\n",
              " 'decaf',\n",
              " 'contents',\n",
              " 'covered',\n",
              " 'offered',\n",
              " 'kcup',\n",
              " 'meals',\n",
              " 'piece',\n",
              " 'chance',\n",
              " 'mushroom',\n",
              " 'illy',\n",
              " 'versions',\n",
              " 'important',\n",
              " 'carbs',\n",
              " 'gooey',\n",
              " 'acid',\n",
              " 'awful',\n",
              " 'smaller',\n",
              " 'tap',\n",
              " 'cfh',\n",
              " 'yes',\n",
              " 'son',\n",
              " 'gourmet',\n",
              " 'short',\n",
              " 'avoid',\n",
              " 'problem',\n",
              " 'wont',\n",
              " 'help',\n",
              " 'lower',\n",
              " 'soups',\n",
              " 'wild',\n",
              " 'popular',\n",
              " 'today',\n",
              " 'boxed',\n",
              " 'themselves',\n",
              " 'hours',\n",
              " 'bread',\n",
              " 'carry',\n",
              " 'boiling',\n",
              " 'bake',\n",
              " 'provide',\n",
              " 'style',\n",
              " 'numi',\n",
              " 'world',\n",
              " 'higgins',\n",
              " 'filter',\n",
              " 'opportunity',\n",
              " 'general',\n",
              " 'cans',\n",
              " 'n',\n",
              " 'stand',\n",
              " 'strange',\n",
              " 'bumble',\n",
              " 'bee',\n",
              " 'portable',\n",
              " 'call',\n",
              " 'fake',\n",
              " 'sea',\n",
              " 'shapes',\n",
              " 'results',\n",
              " 'possible',\n",
              " 'foil',\n",
              " 'glad',\n",
              " 'read',\n",
              " 'become',\n",
              " 'means',\n",
              " 'child',\n",
              " 'overwhelming',\n",
              " 'mess',\n",
              " 'tart',\n",
              " 'premium',\n",
              " 'creole',\n",
              " 'stevia',\n",
              " 'coated',\n",
              " 'already',\n",
              " 'oat',\n",
              " 'pouches',\n",
              " 'fair',\n",
              " 'minute',\n",
              " 'order',\n",
              " 'system',\n",
              " 'liptons',\n",
              " 'guess',\n",
              " 'plenty',\n",
              " 'favorites',\n",
              " ...]"
            ]
          },
          "execution_count": 38,
          "metadata": {},
          "output_type": "execute_result"
        }
      ],
      "source": [
        "embedding_matrix.index_to_key"
      ]
    },
    {
      "cell_type": "code",
      "execution_count": 39,
      "metadata": {},
      "outputs": [
        {
          "data": {
            "text/plain": [
              "(6191, 300)"
            ]
          },
          "execution_count": 39,
          "metadata": {},
          "output_type": "execute_result"
        }
      ],
      "source": [
        "# vocab_size is equal to full_embedding_matrix shape[0]\n",
        "special_token_embedding = np.random.rand(4,embedding_matrix.vector_size)\n",
        "full_embedding_matrix = np.concatenate((special_token_embedding,embedding_matrix.vectors))\n",
        "full_embedding_matrix.shape"
      ]
    },
    {
      "cell_type": "code",
      "execution_count": 40,
      "metadata": {},
      "outputs": [],
      "source": [
        "# example\n",
        "# embedding_matrix['keep']"
      ]
    },
    {
      "cell_type": "markdown",
      "metadata": {
        "id": "PVT3Ur54LsIz"
      },
      "source": [
        "# **Text Vectorization**"
      ]
    },
    {
      "cell_type": "code",
      "execution_count": 78,
      "metadata": {},
      "outputs": [
        {
          "name": "stdout",
          "output_type": "stream",
          "text": [
            "number of batches in train data 105\n",
            "number of batches in test data 23\n"
          ]
        }
      ],
      "source": [
        "# hyperparameter\n",
        "\n",
        "batch_size = 16 # for seq2seq model\n",
        "batch_size_test = 8 # for seq2seq model\n",
        "num_batches=int(train_df.shape[0]/batch_size)\n",
        "num_batches_test=int(test_df.shape[0]/batch_size_test)\n",
        "print(\"number of batches in train data\",num_batches)\n",
        "print(\"number of batches in test data\",num_batches_test)"
      ]
    },
    {
      "cell_type": "markdown",
      "metadata": {},
      "source": [
        "## **Preprocessing**"
      ]
    },
    {
      "cell_type": "code",
      "execution_count": 79,
      "metadata": {},
      "outputs": [],
      "source": [
        "def tf_lower_and_split_punct_enc(text):\n",
        "  text = tf_text.normalize_utf8(text, 'NFKD')\n",
        "  text = tf.strings.lower(text)\n",
        "  text = tf.strings.regex_replace(text, '[^ a-z.?!,¿]', '')\n",
        "  text = tf.strings.regex_replace(text, '[.?!,¿]', r' \\0 ')\n",
        "  text = tf.strings.strip(text)\n",
        "  text = tf.strings.join(['[START]', text, '[END]'], separator=' ')\n",
        "  return text\n",
        "\n",
        "\n",
        "def tf_lower_and_split_punct_decin(text):\n",
        "  text = tf_text.normalize_utf8(text, 'NFKD')\n",
        "  text = tf.strings.lower(text)\n",
        "  text = tf.strings.regex_replace(text, '[^ a-z.?!,¿]', '')\n",
        "  text = tf.strings.regex_replace(text, '[.?!,¿]', r' \\0 ')\n",
        "  text = tf.strings.strip(text)\n",
        "  text = tf.strings.join(['[START]', text], separator=' ') \n",
        "  return text\n",
        "\n",
        "\n",
        "def tf_lower_and_split_punct_decout(text):\n",
        "  text = tf_text.normalize_utf8(text, 'NFKD')\n",
        "  text = tf.strings.lower(text)\n",
        "  text = tf.strings.regex_replace(text, '[^ a-z.?!,¿]', '')\n",
        "  text = tf.strings.regex_replace(text, '[.?!,¿]', r' \\0 ')\n",
        "  text = tf.strings.strip(text)\n",
        "  text = tf.strings.join([ text, '[END]'], separator=' ')\n",
        "  return text\n",
        "\n"
      ]
    },
    {
      "cell_type": "markdown",
      "metadata": {},
      "source": [
        "## Vectorization layer"
      ]
    },
    {
      "cell_type": "markdown",
      "metadata": {
        "id": "N4QVJNF8EGGe"
      },
      "source": [
        "- The conversion of tokens to ids"
      ]
    },
    {
      "cell_type": "code",
      "execution_count": 80,
      "metadata": {},
      "outputs": [],
      "source": [
        "enc_input_processor = tf.keras.layers.TextVectorization( max_tokens = max_vocab_size,\n",
        "                                                     standardize = tf_lower_and_split_punct_enc,\n",
        "                                                     output_sequence_length = sequence_length,  )\n",
        "dec_input_processor = tf.keras.layers.TextVectorization( max_tokens = max_vocab_size,\n",
        "                                                     standardize = tf_lower_and_split_punct_decin,\n",
        "                                                     output_sequence_length = sequence_length,  )\n",
        "\n",
        "dec_output_processor = tf.keras.layers.TextVectorization( max_tokens = max_vocab_size,\n",
        "                                                     standardize = tf_lower_and_split_punct_decout,\n",
        "                                                     output_sequence_length = sequence_length,  )"
      ]
    },
    {
      "cell_type": "code",
      "execution_count": 81,
      "metadata": {},
      "outputs": [],
      "source": [
        "enc_input_processor.set_vocabulary(['','[UNK]','[START]','[END]'] +  embedding_matrix.index_to_key )\n",
        "dec_input_processor.set_vocabulary(['','[UNK]','[START]','[END]'] +  embedding_matrix.index_to_key )\n",
        "dec_output_processor.set_vocabulary(['','[UNK]','[START]','[END]'] +  embedding_matrix.index_to_key )"
      ]
    },
    {
      "cell_type": "code",
      "execution_count": 82,
      "metadata": {},
      "outputs": [
        {
          "name": "stdout",
          "output_type": "stream",
          "text": [
            "254\n",
            "purple\n"
          ]
        }
      ],
      "source": [
        "print(enc_input_processor.get_vocabulary().index('come'))\n",
        "print(enc_input_processor.get_vocabulary()[3351])"
      ]
    },
    {
      "cell_type": "code",
      "execution_count": 83,
      "metadata": {},
      "outputs": [
        {
          "name": "stdout",
          "output_type": "stream",
          "text": [
            "input_text_processor vocab size : 6191\n",
            "['', '[UNK]', '[START]', '[END]', '.', 'the', ',', 'a', 'and', 'i', 'of', 'to', 'is', 'it', 'this', 'in']\n",
            "Many reviewers have already commented on the fact that this mix is tasty.  I find it difficult to describe, because it is definitely chocolatey, and sweet, but yet it's not quite like eating candy or cookies etc.  It will handle multiple types of snacking cravings whether you want chocolate, candy, sweet in general, crunchy, crispy, or sweet-salty etc.One thing that surprised me was that all of the pieces in the mix, except the candy drops, are basically sized to match the Chex squares, so they are smaller than I had anticipated.  This is a big plus for me, as I find most \"bite-sized\" products to be more like \"3-bite-sized\", and this mix is actually really bite-sized.  This makes it easy to eat and it also is very charming.  I think it would be a good option for children, to whom you could give a small amount in their lunch/bento box or as a snack, and they will feel they are getting a treat without eating too much junk.The mix contains adorable, crispy, and tasty tiny chocolate-coated pretzels.  There are mini chocolate cookies, uncoated and unfilled, which resemble the outer cookie of an Oreo.  The mix contains some M&M; like chocolate candies.  It also contains two different types of Chex pieces.  One is lightly coated in a nice cocoa flavor, the other with a bit thicker, sweeter vanilla coating.  There are comparatively few of the vanilla Chex pieces; they serve just to add counterpoint to the chocolate.This mix is labelled \"dark chocolate\" but it isn't too strong or bitter.  Everything is fresh, crispy/crunchy etc. as it should be.  The flavor intensities of the different types of pieces keeps the mix from coming off like a variant of bridge mix.  It is essentially a simple idea that results in an unusually different snack.The bag seems on the small size, but this mix has some punch to it in terms of snacking satisfaction; I'm finding that one bag gives me about 8 servings.\n",
            "tf.Tensor(\n",
            "[ 184 1331   27  993 3858   31    5  354   16   14  120   12  112    4\n",
            "    9  225   13  835   11 1025    6   93   13   12  246 1803    6    8\n",
            "   68    6   17  634   38   22  106   23  305  483   36  110 1277    4\n",
            "   13  129 1451 2951  561   10 2179 1842 1173   34  220   85    6  483\n",
            "    6   68   15  966    6  263    6  440], shape=(64,), dtype=int64)\n"
          ]
        }
      ],
      "source": [
        "# included sos, eos, unk and space \n",
        "print(\"input_text_processor vocab size :\" ,len(enc_input_processor.get_vocabulary()))\n",
        "# Here are the first 16 words from the vocabulary:\n",
        "print(enc_input_processor.get_vocabulary()[:16])\n",
        "print(df['reviewText'][0])\n",
        "print(dec_output_processor(  df['reviewText'][0]))"
      ]
    },
    {
      "cell_type": "markdown",
      "metadata": {},
      "source": [
        "# **TF-IDF Matrix**"
      ]
    },
    {
      "cell_type": "code",
      "execution_count": 84,
      "metadata": {},
      "outputs": [
        {
          "name": "stdout",
          "output_type": "stream",
          "text": [
            "the length of tf-idf vocab 6185\n",
            "['', '!', '[END]', ',', '.', '[START]', '?']\n",
            "[',', '.', '!', '?']\n"
          ]
        }
      ],
      "source": [
        "with tf.device('/CPU:0'):\n",
        "\n",
        "  tfidf_calculator = tf.keras.layers.TextVectorization(\n",
        "    max_tokens  = max_vocab_size,\n",
        "    output_mode ='tf-idf',\n",
        "    pad_to_max_tokens = True  \n",
        "    )\n",
        "  tfidf_calculator.adapt(enc_input_processor.get_vocabulary()[:] )\n",
        "  print(\"the length of tf-idf vocab\",len(tfidf_calculator.get_vocabulary()))\n",
        "  print( list(set(enc_input_processor.get_vocabulary())-set(tfidf_calculator.get_vocabulary()))[:9])\n",
        "  print( list(set(embedding_matrix.index_to_key)-set(tfidf_calculator.get_vocabulary()))[:9])\n"
      ]
    },
    {
      "cell_type": "code",
      "execution_count": 85,
      "metadata": {},
      "outputs": [],
      "source": [
        "# with tf.device('/CPU:0'):\n",
        "\n",
        "#     user_tfidf = list( map(tfidf_calculator, user_corpus))\n",
        "#     item_tfidf = list( map(tfidf_calculator, item_corpus))\n"
      ]
    },
    {
      "cell_type": "markdown",
      "metadata": {},
      "source": [
        "# **Forming Dataset**"
      ]
    },
    {
      "cell_type": "code",
      "execution_count": 86,
      "metadata": {},
      "outputs": [],
      "source": [
        "# convert string id to int id\n",
        "user_to_row = {}\n",
        "item_to_column = {}\n",
        "\n",
        "for i, user_id in enumerate(np.unique(df['userID'])):\n",
        "    user_to_row[user_id] = i\n",
        "\n",
        "for j, item_id in enumerate(np.unique(df['itemID'].tolist())):\n",
        "    item_to_column[item_id] = j"
      ]
    },
    {
      "cell_type": "code",
      "execution_count": 87,
      "metadata": {},
      "outputs": [],
      "source": [
        "train_ds_seq = tf.data.Dataset.from_tensor_slices(\n",
        "    (\n",
        "       [user_to_row[dp] for dp in train_df['userID']],\n",
        "       [item_to_column[dp] for dp in train_df['itemID']],\n",
        "       tf.cast(dec_input_processor(train_df['reviewText']),dtype=tf.int32),\n",
        "       tf.cast(dec_output_processor(train_df['reviewText']),dtype=tf.int32)       \n",
        "    )\n",
        ").shuffle(131072).batch(batch_size,drop_remainder=True)\n",
        "test_ds_seq = tf.data.Dataset.from_tensor_slices(\n",
        "    (\n",
        "      [user_to_row[dp] for dp in test_df['userID']],\n",
        "      [item_to_column[dp] for dp in test_df['itemID']],\n",
        "      tf.cast(dec_input_processor(test_df['reviewText']),dtype=tf.int32),\n",
        "      tf.cast(dec_output_processor(test_df['reviewText']),dtype=tf.int32)         \n",
        "    )\n",
        ").shuffle(16384).batch(batch_size_test,drop_remainder=True)\n",
        "\n",
        "train_ds_pmf = tf.data.Dataset.from_tensor_slices(\n",
        "    (\n",
        "       [user_to_row[dp] for dp in train_df['userID']],\n",
        "       [item_to_column[dp] for dp in train_df['itemID']],\n",
        "       tf.cast(train_df['rating'],dtype=tf.int8)\n",
        "    )\n",
        ").shuffle(131072).batch(1024,drop_remainder=True)\n",
        "test_ds_pmf = tf.data.Dataset.from_tensor_slices(\n",
        "    (\n",
        "      [user_to_row[dp] for dp in test_df['userID']],\n",
        "      [item_to_column[dp] for dp in test_df['itemID']],\n",
        "      tf.cast(test_df['rating'],dtype=tf.int8)\n",
        "    )\n",
        ").shuffle(16384).batch(1024,drop_remainder=True)"
      ]
    },
    {
      "cell_type": "code",
      "execution_count": 88,
      "metadata": {},
      "outputs": [
        {
          "name": "stdout",
          "output_type": "stream",
          "text": [
            "train and test data number :  1691  ,  187\n"
          ]
        }
      ],
      "source": [
        "train_data_num=train_df.shape[0]\n",
        "test_data_num=test_df.shape[0]\n",
        "print(\"train and test data number : \",train_data_num,\" , \",test_data_num)"
      ]
    },
    {
      "cell_type": "markdown",
      "metadata": {
        "id": "cV4PGxjttli6"
      },
      "source": [
        "# **User and Item Documents**"
      ]
    },
    {
      "cell_type": "markdown",
      "metadata": {
        "id": "6BwcnBKDxVMk"
      },
      "source": [
        "**User Documents**"
      ]
    },
    {
      "cell_type": "code",
      "execution_count": 89,
      "metadata": {},
      "outputs": [],
      "source": [
        "user_doc = list( map(enc_input_processor,[doc[:document_length] for doc in user_df['reviewText']]))"
      ]
    },
    {
      "cell_type": "markdown",
      "metadata": {
        "id": "SWDCul-D_N99"
      },
      "source": [
        "**Item Documents**"
      ]
    },
    {
      "cell_type": "code",
      "execution_count": 90,
      "metadata": {
        "id": "phoN10nsXZGc"
      },
      "outputs": [],
      "source": [
        "item_doc = list( map(enc_input_processor,[doc[:document_length] for doc in item_df['reviewText']]))"
      ]
    },
    {
      "cell_type": "code",
      "execution_count": 91,
      "metadata": {
        "id": "1G79SrZySBqJ"
      },
      "outputs": [
        {
          "data": {
            "text/plain": [
              "Text(0.5, 1.0, 'Mask')"
            ]
          },
          "execution_count": 91,
          "metadata": {},
          "output_type": "execute_result"
        },
        {
          "data": {
            "image/png": "[encoded data removed]",
            "text/plain": [
              "<Figure size 432x288 with 2 Axes>"
            ]
          },
          "metadata": {
            "needs_background": "light"
          },
          "output_type": "display_data"
        }
      ],
      "source": [
        "plt.subplot(1, 2, 1)\n",
        "plt.pcolormesh(item_doc[0])\n",
        "plt.title('Token IDs')\n",
        "\n",
        "plt.subplot(1, 2, 2)\n",
        "plt.pcolormesh(item_doc[0] != 0)\n",
        "plt.title('Mask')"
      ]
    },
    {
      "cell_type": "markdown",
      "metadata": {
        "id": "UbR2h5ML5h70"
      },
      "source": [
        "### Converting ID to Vector"
      ]
    },
    {
      "cell_type": "code",
      "execution_count": 92,
      "metadata": {},
      "outputs": [
        {
          "data": {
            "text/plain": [
              "\"My grandmother always had cashews in pretty glass containers in her living room. She loved cashews and lived to her late 80's eating them. I grew up on them. Now that we know that nuts are a healthy source of protein, they are a fairly non-guilty snack. Planters is a quality brand. This is our usual go-to brand when we want cashews. If you can eat about 1/8 cup at a time, they shouldn't destroy your diet.\""
            ]
          },
          "execution_count": 92,
          "metadata": {},
          "output_type": "execute_result"
        }
      ],
      "source": [
        "user_df['reviewText'][0][0]"
      ]
    },
    {
      "cell_type": "code",
      "execution_count": 93,
      "metadata": {},
      "outputs": [
        {
          "data": {
            "text/plain": [
              "'[START] my grandmother always had cashews in pretty glass containers in her living room . she loved cashews and lived to her late s eating them . i grew up on them . now that we know that nuts are a healthy source of protein , they are a fairly nonguilty snack . planters is a quality brand . this is our usual goto'"
            ]
          },
          "execution_count": 93,
          "metadata": {},
          "output_type": "execute_result"
        }
      ],
      "source": [
        "input_vocab = enc_input_processor.get_vocabulary()\n",
        "\" \".join([input_vocab[id] for id in user_doc[0][0]])\n"
      ]
    },
    {
      "cell_type": "markdown",
      "metadata": {},
      "source": [
        "# **Context-aware Matrix Factorization for Rating Prediction**"
      ]
    },
    {
      "cell_type": "code",
      "execution_count": 94,
      "metadata": {},
      "outputs": [],
      "source": [
        "#hyperparameters\n",
        "num_users=len(user_to_row)\n",
        "num_items=len(item_to_column)\n",
        "mean_inv = np.float32( train_df['rating'].mean())\n",
        "\n"
      ]
    },
    {
      "cell_type": "code",
      "execution_count": 95,
      "metadata": {},
      "outputs": [],
      "source": [
        "feature_num=128 # number of topics\n",
        "units=int(feature_num/2 )# gru units"
      ]
    },
    {
      "cell_type": "code",
      "execution_count": 96,
      "metadata": {},
      "outputs": [],
      "source": [
        "# del df\n",
        "# del user_df\n",
        "# del item_df\n",
        "# del user_corpus[:]\n",
        "# del item_corpus[:]\n",
        "# del train_df\n",
        "# del test_df\n",
        "\n",
        "# gc.collect()\n",
        "# gc.collect(0)\n",
        "# gc.collect(1)\n",
        "# gc.collect(2)"
      ]
    },
    {
      "cell_type": "code",
      "execution_count": 97,
      "metadata": {},
      "outputs": [],
      "source": [
        "user_textual_features = np.zeros(shape=(num_users, feature_num),dtype=np.float32)\n",
        "item_textual_features = np.zeros(shape=(num_items, feature_num),dtype=np.float32)"
      ]
    },
    {
      "cell_type": "code",
      "execution_count": 98,
      "metadata": {},
      "outputs": [],
      "source": [
        "user_recommender_features = np.zeros(shape=(num_users, feature_num),dtype=np.float64)\n",
        "item_recommender_features = np.zeros(shape=(num_items, feature_num),dtype=np.float64)"
      ]
    },
    {
      "cell_type": "markdown",
      "metadata": {
        "id": "6uKWBtzhmMA5"
      },
      "source": [
        "## **PMF (Probabilistic Matrix Factorization)**"
      ]
    },
    {
      "cell_type": "code",
      "execution_count": 99,
      "metadata": {
        "id": "5JAoyyjOnJis"
      },
      "outputs": [],
      "source": [
        "class PMF():\n",
        "    def __init__(self, num_feat=16, epsilon=1, _lambda=0.2, momentum=0.8,  batch_size=1024,num_item=9000,num_user=15000,mean_inv=3):\n",
        "        self.num_feat = num_feat  # Number of latent features,\n",
        "        self.epsilon = epsilon  # learning rate,\n",
        "        self._lambda = _lambda  # L2 regularization,\n",
        "        self.momentum = momentum  # momentum of the gradient,\n",
        "        self.batch_size = batch_size  # Number of training samples used in each batches (for SGD optimization)\n",
        "        self.num_item=num_item\n",
        "        self.num_user=num_user\n",
        "        self.V =  0.1 * np.random.randn(self.num_item, self.num_feat).astype(np.float64)  # Item feature vectors\n",
        "        self.U =  0.1 * np.random.randn(self.num_user, self.num_feat).astype(np.float64)  # User feature vectors\n",
        "        self.V_inc = np.zeros((self.num_item, self.num_feat),dtype=np.float64)\n",
        "        self.U_inc = np.zeros((self.num_user, self.num_feat),dtype=np.float64)\n",
        "        self.rmse_train = []\n",
        "        self.rmse_test = []\n",
        "        self.mean_inv= mean_inv  \n",
        "        \n",
        "    # ***Fit the model with train_tuple and evaluate RMSE on both train and test data.  ***********#\n",
        "    # ***************** train_vec=TrainData, test_vec=TestData*************#\n",
        "    def train(self):\n",
        "            \n",
        "            for batch_UserID,batch_ItemID, batch_rating  in train_ds_pmf:\n",
        "                  \n",
        "                # Compute Objective Function             \n",
        "                pred_out = np.sum(np.multiply(self.U[batch_UserID, :],\n",
        "                                              self.V[batch_ItemID, :]),\n",
        "                                  axis=1)  # mean_inv subtracted # np.multiply\n",
        "                \n",
        "                rawErr = pred_out - batch_rating.numpy() + self.mean_inv\n",
        "\n",
        "                # Compute gradients\n",
        "                Ix_User = 2 * np.multiply(rawErr[:, np.newaxis], self.V[batch_ItemID, :]) \\\n",
        "                       + self._lambda * (self.U[batch_UserID, :] - user_textual_features[batch_UserID,:] )\n",
        "                Ix_Item = 2 * np.multiply(rawErr[:, np.newaxis], self.U[batch_UserID, :]) \\\n",
        "                       + self._lambda * (self.V[batch_ItemID, :] - item_textual_features[batch_ItemID,:] ) \n",
        "                       # np.newaxis :increase the dimension\n",
        "               \n",
        "                dw_Item = np.zeros((self.num_item, self.num_feat))\n",
        "                dw_User = np.zeros((self.num_user, self.num_feat))\n",
        "                \n",
        "                # loop to aggreate the gradients of the same element\n",
        "                for i in range(self.batch_size):\n",
        "                    dw_Item[batch_ItemID[i], :] += Ix_Item[i, :]\n",
        "                    dw_User[batch_UserID[i], :] += Ix_User[i, :]\n",
        "\n",
        "                # Update with momentum\n",
        "              \n",
        "                self.V_inc = self.momentum * self.V_inc + self.epsilon * dw_Item / self.batch_size\n",
        "                self.U_inc = self.momentum * self.U_inc + self.epsilon * dw_User / self.batch_size\n",
        "                \n",
        "                self.V = self.V - self.V_inc\n",
        "                self.U = self.U - self.U_inc\n",
        "            \n",
        "                # Compute Objective Function after\n",
        "            self.evaluate()\n",
        "            self.update_recommender_features()\n",
        "    \n",
        "    \n",
        "    def evaluate(self):\n",
        "            rawErr=np.zeros((self.batch_size),dtype=np.float64).tolist()\n",
        "            for batch_UserID,batch_ItemID, batch_rating  in train_ds_pmf:\n",
        "                        \n",
        "                pred_out = np.sum(np.multiply(self.U[batch_UserID, :],\n",
        "                                        self.V[batch_ItemID, :]),\n",
        "                                axis=1)  # mean_inv subtracted\n",
        "\n",
        "                rawErr += pred_out - batch_rating.numpy() + self.mean_inv\n",
        "        \n",
        "            obj = np.linalg.norm(rawErr) ** 2 \\\n",
        "                    + 0.5 * self._lambda * (np.linalg.norm(self.U - user_textual_features) ** 2 + np.linalg.norm(self.V - item_textual_features) ** 2)\n",
        "\n",
        "            self.rmse_train.append(np.sqrt(obj / train_data_num))\n",
        "\n",
        "           # Compute test error\n",
        "            rawErr=np.zeros((self.batch_size),dtype=np.float64).tolist()\n",
        "            for batch_UserID,batch_ItemID, batch_rating  in test_ds_pmf:\n",
        "                pred_out = np.sum(np.multiply(self.U[batch_UserID, :],\n",
        "                                        self.V[batch_ItemID, :]),\n",
        "                                axis=1)  # mean_inv subtracted\n",
        "\n",
        "                rawErr += pred_out - batch_rating.numpy() + self.mean_inv\n",
        "\n",
        "            self.rmse_test.append(np.linalg.norm(rawErr) / np.sqrt(test_data_num))\n",
        "\n",
        "            # Print info\n",
        "            print('\\nTraining RMSE: %f, Test RMSE %f' % (self.rmse_train[-1], self.rmse_test[-1]))\n",
        "\n",
        "\n",
        "    def update_recommender_features(self,):\n",
        "        user_recommender_features = self.U\n",
        "        item_recommender_features = self.V\n"
      ]
    },
    {
      "cell_type": "markdown",
      "metadata": {
        "id": "f0y4xKXSRYU-"
      },
      "source": [
        "# **Adversarial Seq2Seq Learning**"
      ]
    },
    {
      "cell_type": "markdown",
      "metadata": {},
      "source": [
        "## **Metrics**"
      ]
    },
    {
      "cell_type": "code",
      "execution_count": 100,
      "metadata": {},
      "outputs": [],
      "source": [
        "# log files for training and test\n",
        "train_log_dir = 'logs/gradient_tape/'  + '/train'\n",
        "train_summary_writer = tf.summary.create_file_writer(train_log_dir)\n",
        "test_log_dir = 'logs/gradient_tape/'  + '/test'\n",
        "test_summary_writer = tf.summary.create_file_writer(test_log_dir)\n",
        "graph_log_dir = 'logs/graph/'  \n",
        "graph_summary_writer = tf.summary.create_file_writer(graph_log_dir)"
      ]
    },
    {
      "cell_type": "code",
      "execution_count": 101,
      "metadata": {},
      "outputs": [],
      "source": [
        "class PerplexityMetric(tf.keras.metrics.Metric):\n",
        "    def __init__(self,name='perplexity',**kwargs):\n",
        "        super().__init__(name=name, **kwargs)\n",
        "        self.perplexity=self.add_weight(name='pl',initializer='zeros')\n",
        "\n",
        "    def update_state(self, nll_loss):\n",
        "        self.perplexity= 2 ** nll_loss\n",
        "\n",
        "    def result(self):\n",
        "        return self.perplexity"
      ]
    },
    {
      "cell_type": "code",
      "execution_count": 102,
      "metadata": {},
      "outputs": [],
      "source": [
        "train_plx_gen_tch = PerplexityMetric(name='generator perplexity')  # teacher forcing mode\n",
        "train_plx_gen_plc = PerplexityMetric(name='generator perplexity')  # policy gradient mode\n",
        "train_acc_dis = tf.keras.metrics.BinaryAccuracy(threshold=0.5)\n",
        "\n",
        "test_plx_gen = PerplexityMetric(name='generator perplexity')  \n",
        "\n"
      ]
    },
    {
      "cell_type": "markdown",
      "metadata": {},
      "source": [
        "## **Recurrent Review Generator**"
      ]
    },
    {
      "cell_type": "markdown",
      "metadata": {},
      "source": [
        "- it consists of two encoders and one decoder"
      ]
    },
    {
      "cell_type": "markdown",
      "metadata": {
        "id": "o8UVYfYjX9YW"
      },
      "source": [
        "### **Encoder**"
      ]
    },
    {
      "cell_type": "code",
      "execution_count": 103,
      "metadata": {
        "id": "TwRd0VNHkMf0"
      },
      "outputs": [],
      "source": [
        "class Encoder(tf.keras.layers.Layer):\n",
        "  def __init__(self,vocab_size, embedding_dim, enc_units):\n",
        "    super().__init__()\n",
        "    self.enc_units = enc_units\n",
        "    self.embedding_dim=embedding_dim\n",
        "    self.vocab_size = vocab_size\n",
        "    \n",
        "    self.embedding = tf.keras.layers.Embedding( self.vocab_size, self.embedding_dim, embeddings_initializer=keras.initializers.Constant(full_embedding_matrix),trainable=False)\n",
        "    self.gru= tf.keras.layers.Bidirectional(tf.keras.layers.GRU(  self.enc_units,return_state=True,  recurrent_initializer='glorot_uniform' ))\n",
        "\n",
        "\n",
        "  def call(self, reviews, state=None):\n",
        "    vectors = self.embedding(reviews)\n",
        "    _,encoder_forward_state,encoder_backward_state  = self.gru(vectors, initial_state=state)\n",
        " \n",
        "    return  tf.concat([ encoder_forward_state, encoder_backward_state],-1)\n",
        "\n",
        "    "
      ]
    },
    {
      "cell_type": "markdown",
      "metadata": {},
      "source": [
        "### **Decoder (Generator)**"
      ]
    },
    {
      "cell_type": "code",
      "execution_count": 104,
      "metadata": {
        "id": "skIgKP4iCABs"
      },
      "outputs": [],
      "source": [
        "class Decoder(tf.keras.layers.Layer):\n",
        "  def __init__(self,vocab_size, embedding_dim, dec_units):\n",
        "    super().__init__()\n",
        "    self.dec_units = dec_units\n",
        "    self.embedding_dim = embedding_dim\n",
        "    self.vocab_size = vocab_size\n",
        "    \n",
        "    self.embedding = tf.keras.layers.Embedding(self.vocab_size, self.embedding_dim,embeddings_initializer=keras.initializers.Constant(full_embedding_matrix), trainable=False)\n",
        "    self.gru=tf.keras.layers.GRU( self.dec_units , return_state=True,return_sequences=True)\n",
        "    self.fc = tf.keras.layers.Dense(self.vocab_size, use_bias=False)\n",
        "    self.sf=tf.keras.layers.Activation('softmax')\n",
        "\n",
        "  def call(self, decoder_input, context_vector,state=None):\n",
        "\n",
        "     embedded_input = self.embedding(decoder_input)\n",
        "     joint_input_context = tf.concat([embedded_input, tf.tile(tf.expand_dims(context_vector,1),[1,embedded_input.shape[1],1])],2 )\n",
        "     outputs,dec_state = self.gru(joint_input_context, initial_state=state)\n",
        "     logits = self.fc( outputs)\n",
        "     prob_dist = self.sf(logits)\n",
        "\n",
        "     return prob_dist,dec_state\n"
      ]
    },
    {
      "cell_type": "code",
      "execution_count": 105,
      "metadata": {
        "id": "DyhJk5pGKW_N"
      },
      "outputs": [],
      "source": [
        "class GeneratorLoss(tf.keras.losses.Loss):\n",
        "  def __init__(self,vocab_size):\n",
        "    self.name = 'masked_loss'\n",
        "    self.vocab_size=vocab_size\n",
        "    self.scce = tf.keras.losses.SparseCategoricalCrossentropy(reduction='none')\n",
        "\n",
        "  def __call__(self, y_true, y_pred):\n",
        "    # Calculating the loss for a batch of reviews.\n",
        "\n",
        "    loss = self.scce(y_true,y_pred)\n",
        "    mask = tf.cast(y_true != 0, loss.dtype)\n",
        "    loss*=  mask\n",
        "    return tf.reduce_sum(loss) / tf.reduce_sum(mask)"
      ]
    },
    {
      "cell_type": "markdown",
      "metadata": {
        "id": "4v_zte_RHR5a"
      },
      "source": [
        "## **Discriminator**"
      ]
    },
    {
      "cell_type": "code",
      "execution_count": 106,
      "metadata": {
        "id": "84ZgGwB9HXi5"
      },
      "outputs": [],
      "source": [
        "class Discriminator(tf.keras.Model):\n",
        "    def __init__( self, sequence_length, vocab_size, embedding_dim, filter_sizes, num_filters):\n",
        "      super().__init__()\n",
        "      self.sequence_length=sequence_length\n",
        "      self.vocab_size=vocab_size\n",
        "      self.embedding_dim=embedding_dim\n",
        "      self.filter_sizes=filter_sizes\n",
        "      self.num_filters= num_filters\n",
        "      self.dis_dropout_keep_prob = 0.75\n",
        "\n",
        "      self.embedding = tf.keras.layers.Embedding(self.vocab_size, self.embedding_dim,weights=[full_embedding_matrix],name=\"discriminator_embedding\",trainable=False)\n",
        "     \n",
        "      self.conv_unigram= tf.keras.layers.Conv1D(self.num_filters, filter_sizes[0], activation=\"tanh\",name=\"conv_unigram\")\n",
        "      self.conv_bigram= tf.keras.layers.Conv1D(self.num_filters, filter_sizes[1],activation=\"tanh\",name=\"conv_bigram\")\n",
        "      self.conv_trigram= tf.keras.layers.Conv1D(self.num_filters, filter_sizes[2],activation=\"tanh\",name=\"conv_trigram\")\n",
        "      self.conv_fourgram= tf.keras.layers.Conv1D(self.num_filters, filter_sizes[3],activation=\"tanh\",name=\"conv_fourgram\")\n",
        "      self.conv_fivegram= tf.keras.layers.Conv1D(self.num_filters, filter_sizes[4],activation=\"tanh\",name=\"conv_fivegram\")\n",
        "\n",
        "      self.gmp_unigram = tf.keras.layers.GlobalMaxPooling1D(name=\"gmp_unigram\")\n",
        "      self.gmp_bigram = tf.keras.layers.GlobalMaxPooling1D(name=\"gmp_bigram\")\n",
        "      self.gmp_trigram = tf.keras.layers.GlobalMaxPooling1D(name=\"gmp_trigram\")\n",
        "      self.gmp_fourgram = tf.keras.layers.GlobalMaxPooling1D(name=\"gmp_fourgram\")\n",
        "      self.gmp_fivegram = tf.keras.layers.GlobalMaxPooling1D(name=\"gmp_fivegram\")\n",
        "\n",
        "      self.dropout=tf.keras.layers.Dropout(self.dis_dropout_keep_prob,name=\"dropout\")\n",
        "      self.fc=tf.keras.layers.Dense(1,activation=\"sigmoid\",use_bias= True)\n",
        "\n",
        "\n",
        "    def get_reward(self, discriminator_inputs , context_vector,training=False ):\n",
        "      \n",
        "      embedded_input= self.embedding(discriminator_inputs)\n",
        "      joint_input_context =tf.concat([embedded_input, tf.tile(tf.expand_dims(context_vector,1),[1,embedded_input.shape[1],1])],2 )\n",
        "\n",
        "      cv_unigram=self.conv_unigram(joint_input_context)\n",
        "      cv_bigram=self.conv_bigram(joint_input_context)\n",
        "      cv_trigram=self.conv_trigram(joint_input_context)\n",
        "      cv_fourgram=self.conv_fourgram(joint_input_context)\n",
        "      cv_fivegram=self.conv_fivegram(joint_input_context)\n",
        "\n",
        "      gmp_unigram = self.gmp_unigram(cv_unigram)\n",
        "      gmp_bigram = self.gmp_bigram(cv_bigram)\n",
        "      gmp_trigram =  self.gmp_trigram(cv_trigram)\n",
        "      gmp_fourgram = self.gmp_fourgram(cv_fourgram)\n",
        "      gmp_fivegram = self.gmp_fivegram(cv_fivegram)\n",
        "    \n",
        "      gmp_overal = tf.concat([gmp_unigram,gmp_bigram,gmp_trigram,gmp_fourgram,gmp_fivegram],1)\n",
        "      \n",
        "      if training:\n",
        "        dropout = self.dropout(gmp_overal,training=training)\n",
        "        ath= self.fc(dropout)\n",
        "        gc.collect()\n",
        "        return ath[:,0],self.fc.weights[0][:,0],self.fc.bias\n",
        "      else:\n",
        "        ath= self.fc(gmp_overal)\n",
        "        gc.collect()\n",
        "        return ath[:,0]\n",
        "\n"
      ]
    },
    {
      "cell_type": "code",
      "execution_count": 107,
      "metadata": {
        "id": "FCRHY3LgfD2_"
      },
      "outputs": [],
      "source": [
        "class DiscriminatorLoss(tf.keras.losses.Loss):\n",
        "  def __init__(self):\n",
        "    self.name = 'cross-entropy_loss'\n",
        "    self.bce = tf.keras.losses.BinaryCrossentropy( reduction='none')\n",
        "\n",
        "  def __call__(self, y_true, y_pred):\n",
        "\n",
        "    loss = self.bce(y_true, y_pred)\n",
        "    return loss"
      ]
    },
    {
      "cell_type": "markdown",
      "metadata": {},
      "source": [
        "## **Seq2Seq Model**"
      ]
    },
    {
      "cell_type": "code",
      "execution_count": 108,
      "metadata": {
        "id": "MB7HymOiTfdl"
      },
      "outputs": [],
      "source": [
        "class MaskedLossReward(tf.keras.losses.Loss):\n",
        "  def __init__(self,vocab_size):\n",
        "    self.name = 'masked_loss_reward'\n",
        "    self.vocab_size=vocab_size\n",
        "    self.scce = tf.keras.losses.SparseCategoricalCrossentropy(reduction='none')\n",
        "\n",
        "  def __call__(self, y_true, y_pred,reward):\n",
        "    # Calculate the loss for each step.\n",
        "\n",
        "    loss = self.scce(y_true,y_pred)\n",
        "    mask = tf.cast(y_true != 0, loss.dtype)\n",
        "    loss*=  mask\n",
        "    loss *= reward\n",
        "    return tf.reduce_sum(loss) / tf.reduce_sum(mask)"
      ]
    },
    {
      "cell_type": "code",
      "execution_count": 113,
      "metadata": {
        "id": "Z3NlswFZRbub"
      },
      "outputs": [],
      "source": [
        "class Seq2Seq(tf.keras.Model): \n",
        "    def __init__(self,num_topic,num_item ,num_user, units ,embedding_dim,vocab_size ,sequence_length, num_batches,num_batches_test, batch_size, use_tf_function=False):\n",
        "        super().__init__()\n",
        "        self.use_tf_function = use_tf_function\n",
        "        self.num_batches_test = num_batches_test\n",
        "        self.num_batches = num_batches # train batch number\n",
        "        self.batch_size = batch_size\n",
        "        self.num_topic = num_topic\n",
        "        self.embedding_dim = embedding_dim\n",
        "        self.units = units\n",
        "        self.vocab_size = vocab_size\n",
        "        self.sequence_length = sequence_length\n",
        "        self.num_item = num_item\n",
        "        self.num_user = num_user\n",
        "        self.alpha = 10.0\n",
        "        self.disc_l2_reg_lambda = 0.2\n",
        "        self.user_encoder = Encoder(vocab_size= self.vocab_size,  embedding_dim= self.embedding_dim, enc_units= self.units)\n",
        "        self.item_encoder = Encoder(vocab_size= self.vocab_size,  embedding_dim= self.embedding_dim, enc_units= self.units)\n",
        "        self.decoder = Decoder(vocab_size= self.vocab_size,  embedding_dim= self.embedding_dim, dec_units= 4 * self.units) #generator\n",
        "        self.discriminator = Discriminator(sequence_length= self.sequence_length, vocab_size= self.vocab_size,embedding_dim= self.embedding_dim, filter_sizes= [1, 2, 3 ,4, 5] ,num_filters=128)\n",
        "      \n",
        "        self.loss_gn = GeneratorLoss(vocab_size=self.vocab_size)\n",
        "        self.loss_ds = DiscriminatorLoss()\n",
        "        self.loss_fn = MaskedLossReward(vocab_size=self.vocab_size) # generator loss with reward\n",
        "\n",
        "        self.optimizer_gn = tf.optimizers.Adam(1e-4)\n",
        "        self.optimizer_ds = tf.optimizers.Adam(1e-4)\n",
        "\n",
        "    def generate_textual_features(self):\n",
        "            \n",
        "          for start_index in range(0, self.num_user, self.batch_size):\n",
        "            end_index = min(start_index + self.batch_size, self.num_user)                           \n",
        "            batch_userID = np.arange(start_index, end_index)\n",
        "\n",
        "            # fetch a batch of user doc\n",
        "            batch_userdoc_flattend=[]\n",
        "            userdoc_slice_idx=[0]\n",
        "            for doc_id in batch_userID:\n",
        "              userdoc_slice_idx.append(userdoc_slice_idx[-1] + user_doc[doc_id].shape[0])\n",
        "              batch_userdoc_flattend = np.append(batch_userdoc_flattend,user_doc[doc_id])\n",
        "            batch_userdoc = tf.reshape(tf.convert_to_tensor( batch_userdoc_flattend,dtype=tf.int32),[userdoc_slice_idx[-1],self.sequence_length])\n",
        "\n",
        "            user_enc_state = self.user_encoder(batch_userdoc) # user vector representations      \n",
        "            user_context_vector = tf.stack([ tf.reduce_mean(user_enc_state[ userdoc_slice_idx[sl_num] : userdoc_slice_idx[sl_num+1] ],0) for  sl_num in range(len(batch_userID))])\n",
        "            \n",
        "            user_textual_features[batch_userID]=user_context_vector.numpy()\n",
        "            \n",
        "          for start_index in range(0, self.num_item, self.batch_size):\n",
        "            end_index = min(start_index + self.batch_size, self.num_item)                           \n",
        "            batch_itemID = np.arange(start_index, end_index)\n",
        "\n",
        "            # fetch a batch of item doc\n",
        "            batch_itemdoc_flattend=[]\n",
        "            itemdoc_slice_idx=[0]\n",
        "            for doc_id in batch_itemID:\n",
        "              itemdoc_slice_idx.append(itemdoc_slice_idx[-1] + item_doc[doc_id].shape[0])\n",
        "              batch_itemdoc_flattend = np.append(batch_itemdoc_flattend,item_doc[doc_id])\n",
        "            batch_itemdoc = tf.reshape(tf.convert_to_tensor( batch_itemdoc_flattend,dtype=tf.int32),[itemdoc_slice_idx[-1],self.sequence_length])\n",
        "            \n",
        "            item_enc_state = self.item_encoder(batch_itemdoc) # item vector representations\n",
        "            item_context_vector = tf.stack([ tf.reduce_mean(item_enc_state[ itemdoc_slice_idx[sl_num] : itemdoc_slice_idx[sl_num+1] ],0) for  sl_num in range(len(batch_itemID))])\n",
        "            \n",
        "            item_textual_features[batch_itemID]=item_context_vector.numpy()\n",
        "    \n",
        "    def teacher_forcing_train(self,num_steps=1):\n",
        "          total_gen_loss=0\n",
        "          for t_step in range(num_steps):\n",
        " \n",
        "            (batch_userID,batch_itemID ,batch_review_in,batch_review_out) = next(iter(train_ds_seq))\n",
        "            # fetch a batch of user doc\n",
        "            batch_userdoc_flattend=[]\n",
        "            userdoc_slice_idx=[0]\n",
        "            for doc_id in batch_userID:\n",
        "              userdoc_slice_idx.append(userdoc_slice_idx[-1] + user_doc[doc_id].shape[0])\n",
        "              batch_userdoc_flattend = np.append(batch_userdoc_flattend,user_doc[doc_id])\n",
        "            batch_userdoc = tf.reshape(tf.convert_to_tensor( batch_userdoc_flattend,dtype=tf.int32),[userdoc_slice_idx[-1],self.sequence_length])\n",
        "\n",
        "            # fetch a batch of item doc\n",
        "            batch_itemdoc_flattend=[]\n",
        "            itemdoc_slice_idx=[0]\n",
        "            for doc_id in batch_itemID:\n",
        "              itemdoc_slice_idx.append(itemdoc_slice_idx[-1] + item_doc[doc_id].shape[0])\n",
        "              batch_itemdoc_flattend = np.append(batch_itemdoc_flattend,item_doc[doc_id])\n",
        "            batch_itemdoc = tf.reshape(tf.convert_to_tensor( batch_itemdoc_flattend,dtype=tf.int32),[itemdoc_slice_idx[-1],self.sequence_length])\n",
        "            \n",
        "            with tf.GradientTape() as tape1 , tf.GradientTape() as tape2:\n",
        "              tape1.watch(self.user_encoder.trainable_variables + self.item_encoder.trainable_variables)\n",
        "              tape2.watch(self.decoder.trainable_variables)\n",
        "              \n",
        "              user_enc_state = self.user_encoder(batch_userdoc) # user vector representations      \n",
        "              item_enc_state = self.item_encoder(batch_itemdoc) # item vector representations\n",
        "                \n",
        "              user_context_vector = tf.stack([ tf.reduce_mean(user_enc_state[ userdoc_slice_idx[sl_num] : userdoc_slice_idx[sl_num+1] ],0) for  sl_num in range(self.batch_size)])\n",
        "              item_context_vector = tf.stack([ tf.reduce_mean(item_enc_state[ itemdoc_slice_idx[sl_num] : itemdoc_slice_idx[sl_num+1] ],0) for  sl_num in range(self.batch_size)])\n",
        "              context_vector = tf.concat( [user_context_vector,item_context_vector],1)\n",
        "                           \n",
        "              # regularization \n",
        "              user_regularization_loss= (np.linalg.norm( user_recommender_features[batch_userID.numpy()] - user_context_vector.numpy()) ** 2) /  user_context_vector.shape[0] \n",
        "              item_regularization_loss= (np.linalg.norm( item_recommender_features[batch_itemID.numpy()] - item_context_vector.numpy()) ** 2) /  item_context_vector.shape[0] \n",
        "              \n",
        "              regularization_loss = tf.constant( self.alpha * (user_regularization_loss + item_regularization_loss) )\n",
        "              dec_pred, _ = self.decoder( batch_review_in , context_vector)             \n",
        "              gen_loss = self.loss_gn(batch_review_out , dec_pred)\n",
        "           \n",
        "            grad_enc = tape1.gradient([gen_loss,regularization_loss],self.user_encoder.trainable_variables + self.item_encoder.trainable_variables )\n",
        "            grad_dec = tape2.gradient(gen_loss,self.decoder.trainable_variables )\n",
        "\n",
        "            self.optimizer_gn.apply_gradients(zip(grad_enc+grad_dec, self.user_encoder.trainable_variables + self.item_encoder.trainable_variables+self.decoder.trainable_variables ))                 \n",
        "            \n",
        "            total_gen_loss += gen_loss\n",
        "            # total_regularization_loss += regularization_loss\n",
        "            if t_step % 10 == 0:\n",
        "              print(\"batch number: \",t_step,\"\\tgen loss: \", gen_loss.numpy())\n",
        "    \n",
        "          train_plx_gen_tch.update_state(total_gen_loss / num_steps)\n",
        "\n",
        "    def test(self,num_steps):\n",
        "        total_loss=0\n",
        "        for step in range(num_steps):\n",
        "            (batch_userID,batch_itemID ,_,_) = next(iter(test_ds_seq))\n",
        "            context_vector = tf.concat([user_textual_features[batch_userID.numpy()],item_textual_features[batch_itemID.numpy()]],1)                    \n",
        "            predicted_samples,dec_prob = self.generate_sample(context_vector=context_vector)\n",
        "            loss = self.loss_gn(predicted_samples ,tf.transpose( tf.stack(dec_prob), [1,0,2])  )\n",
        "            total_loss += loss\n",
        "            if step % 4 == 0:\n",
        "              print(\"batch number: \",step, \"\\tgen loss: \",loss.numpy())\n",
        "\n",
        "        test_plx_gen.update_state(total_loss / num_steps)\n",
        "  \n",
        "\n",
        "    \n",
        "    def adversarial_train(self,num_steps=1):\n",
        "        total_gen_loss=0\n",
        "        for step in range(num_steps):\n",
        "          # train generator for one step\n",
        "          generated_samples,batch_userID,batch_itemID, gen_loss =  self._train_step_gn_policy() #adversarial samples\n",
        "          total_gen_loss += gen_loss\n",
        "          # train discriminator for one step\n",
        "          disc_loss = self._train_step_disc(generated_samples,batch_userID,batch_itemID)\n",
        "          if step % 5 == 0:\n",
        "            print(\"batch number: \",step, \"\\t\\tgen loss: \",gen_loss.numpy(),\"\\t\\t\\tdisc loss: \",disc_loss.numpy())   \n",
        "        train_plx_gen_plc.update_state(total_gen_loss / num_steps)\n",
        "\n",
        "\n",
        "    def _train_step_gn_policy(self):\n",
        "            batch_userID = np.random.choice(range(0,self.num_user),self.batch_size).astype('int32')\n",
        "            batch_itemID = np.random.choice(range(0,self.num_item),self.batch_size).astype('int32') \n",
        "            with tf.GradientTape() as tape:\n",
        "\n",
        "              context_vector = tf.concat([user_textual_features[batch_userID],item_textual_features[batch_itemID]],1)                    \n",
        "              generated_samples,dec_prob = self.generate_sample(context_vector=context_vector)            \n",
        "              reward = self.discriminator.get_reward(generated_samples,context_vector)   # batchsize             \n",
        "              g_loss = self.loss_fn(generated_samples , tf.transpose( tf.stack(dec_prob) , [1,0,2]) ,tf.tile( tf.expand_dims(reward,1),[1,self.sequence_length]).numpy() )\n",
        "            \n",
        "            variables =  self.decoder.trainable_variables \n",
        "            gradients = tape.gradient(g_loss, variables)                  \n",
        "            self.optimizer_gn.apply_gradients(zip(gradients, variables))\n",
        "            \n",
        "            return generated_samples,batch_userID,batch_itemID,g_loss\n",
        "       \n",
        "    def _train_step_disc(self,negative_data,negative_user_indices,negative_item_indices):\n",
        "\n",
        "          with tf.GradientTape() as tape:\n",
        "            (positive_user_indices,positive_item_indices,_,positive_data) = next(iter(train_ds_seq)) # ground-truth data\n",
        "\n",
        "            #data shape (batch_size * seq length)\n",
        "            whole_user_indices = tf.concat([positive_user_indices,negative_user_indices],0)\n",
        "            whole_item_indices = tf.concat([positive_item_indices,negative_item_indices],0)\n",
        "\n",
        "            positive_labels = tf.zeros(batch_size, dtype=tf.int32) \n",
        "            negative_labels = tf.ones(batch_size, dtype=tf.int32) \n",
        "            labels = tf.concat([positive_labels, negative_labels], 0)\n",
        "\n",
        "            shuffle_indices = tf.random.shuffle( tf.range(0, len(labels),dtype=tf.int32))\n",
        "            whole_data = tf.gather(tf.concat([positive_data,negative_data],0),shuffle_indices)    \n",
        "            labels = tf.gather(labels,shuffle_indices)\n",
        "            whole_user_indices = tf.gather(whole_user_indices,shuffle_indices)\n",
        "            whole_item_indices = tf.gather(whole_item_indices,shuffle_indices)\n",
        "            query_embedding = tf.concat([tf.gather(user_textual_features , whole_user_indices) ,tf.gather( item_textual_features , whole_item_indices)], 1)\n",
        "            # query shape (batch_size ,2.feature_num)\n",
        "            dis_reward,weights,bias = self.discriminator.get_reward( whole_data,query_embedding,training=True)\n",
        "            l2_loss = tf.nn.l2_loss(2 * weights) + tf.nn.l2_loss(bias)\n",
        "            disc_loss = self.loss_ds(labels,dis_reward) + (self.disc_l2_reg_lambda * l2_loss)\n",
        "         \n",
        "          variables = self.discriminator.trainable_variables \n",
        "          gradients = tape.gradient(disc_loss, variables)\n",
        "          self.optimizer_ds.apply_gradients(zip(gradients, variables))\n",
        "\n",
        "          train_acc_dis.update_state(labels,dis_reward)\n",
        "          return disc_loss\n",
        "\n",
        "\n",
        "    def generate_sample(self, context_vector ):\n",
        "   \n",
        "        dec_out = [tf.convert_to_tensor(context_vector.shape[0] * [[2]])]\n",
        "        dec_prob=[]\n",
        "        dec_state=None    \n",
        "        for _ in range(self.sequence_length):           \n",
        "            d_prob,dec_state = self.decoder( dec_out[-1], context_vector ,dec_state)          \n",
        "            dec_prob.append(d_prob[:,-1])   \n",
        "            dec_out.append(tf.random.categorical(d_prob[:,-1],1,dtype=tf.int32))            \n",
        "            del d_prob          \n",
        "        gc.collect()\n",
        "        \n",
        "        return tf.squeeze(tf.stack(dec_out,1))[:,1:], dec_prob \n",
        "\n",
        "\n",
        "    \n",
        "    def train(self,current_step):\n",
        "        print(\"\\n\\nTeacher Forcing Train:\")\n",
        "        self.teacher_forcing_train(num_steps= 16)  # t step\n",
        "        if current_step > -1:\n",
        "          print(\"\\n\\nAdversarial Train:\")          \n",
        "          self.adversarial_train(num_steps= 4)     # g step\n",
        "        print(\"\\n\\nGenerator Test:\")          \n",
        "        self.test(num_steps= self.num_batches_test)\n",
        "       \n"
      ]
    },
    {
      "cell_type": "markdown",
      "metadata": {
        "id": "_3YKdf1-uW8Q"
      },
      "source": [
        "# **Multi-Task Learning**"
      ]
    },
    {
      "cell_type": "code",
      "execution_count": 114,
      "metadata": {
        "id": "khZxlR9oRxVe"
      },
      "outputs": [],
      "source": [
        "class MultiTaskModel(tf.keras.Model):\n",
        "      def __init__(self):\n",
        "        super().__init__()\n",
        "        self.pmf_model = PMF(num_feat=feature_num,num_item= num_items ,num_user= num_users, mean_inv=mean_inv)\n",
        "        self.seq2seq_model = Seq2Seq(num_topic=feature_num,num_item= num_items ,num_user= num_users,units=units, embedding_dim= embedding_dim,vocab_size=full_embedding_matrix.shape[0],sequence_length=sequence_length, num_batches= num_batches,num_batches_test=num_batches_test,batch_size= batch_size)      \n",
        "     \n",
        "      def train(self,n_epochs):    \n",
        "          ckpt.restore(manager.latest_checkpoint)\n",
        "          if manager.latest_checkpoint:\n",
        "            print(\"Restored from {}\".format(manager.latest_checkpoint))\n",
        "          else:\n",
        "            print(\"Initializing from scratch.\")\n",
        "          #tf.profiler.experimental.start('logs')\n",
        "          for epoch in range(n_epochs):\n",
        "              print(\"\\n\\nepoch : \", int(ckpt.step))\n",
        "              self.seq2seq_model.generate_textual_features()\n",
        "\n",
        "              print(\"********************************************* PMF Model Training Turn *********************************************\")\n",
        "              self.pmf_model.train()\n",
        "              print(\"\\n\\n******************************************* Seq2Seq Model Training Turn *******************************************\")                                         \n",
        "              self.seq2seq_model.train(int(ckpt.step))\n",
        "             \n",
        "              with train_summary_writer.as_default():\n",
        "                  tf.summary.scalar('Training perplexity for generator in Teacher Forcing mode', train_plx_gen_tch.result(), step=int(ckpt.step))\n",
        "                  tf.summary.scalar('Training perplexity for generator in Policy Gradient mode', train_plx_gen_plc.result(), step=int(ckpt.step))\n",
        "                  tf.summary.scalar('Training accuracy for discriminator', train_acc_dis.result(), step=int(ckpt.step))\n",
        "              \n",
        "              with test_summary_writer.as_default():\n",
        "                  tf.summary.scalar('Test perplexity for generator', test_plx_gen.result(), step=int(ckpt.step))\n",
        "  \n",
        "              ckpt.step.assign_add(1)\n",
        "              if int(ckpt.step) % 10 ==0:\n",
        "                save_path = manager.save()\n",
        "                print(\"Saved checkpoint for epoch {}: {}\".format(int(ckpt.step), save_path))\n",
        "            \n",
        "          #tf.profiler.experimental.stop()\n"
      ]
    },
    {
      "cell_type": "code",
      "execution_count": 115,
      "metadata": {
        "colab": {
          "base_uri": "https://localhost:8080/"
        },
        "id": "mrzxSK6IUr6O",
        "outputId": "212b1776-5de7-4896-f09a-4ea54c2405df"
      },
      "outputs": [
        {
          "name": "stdout",
          "output_type": "stream",
          "text": [
            "WARNING:tensorflow:Detecting that an object or model or tf.train.Checkpoint is being deleted with unrestored values. See the following logs for the specific values in question. To silence these warnings, use `status.expect_partial()`. See https://www.tensorflow.org/api_docs/python/tf/train/Checkpoint#restorefor details about the status object returned by the restore function.\n",
            "WARNING:tensorflow:Value in checkpoint could not be found in the restored object: (root).net.seq2seq_model.optimizer_gn.iter\n",
            "WARNING:tensorflow:Value in checkpoint could not be found in the restored object: (root).net.seq2seq_model.optimizer_gn.beta_1\n",
            "WARNING:tensorflow:Value in checkpoint could not be found in the restored object: (root).net.seq2seq_model.optimizer_gn.beta_2\n",
            "WARNING:tensorflow:Value in checkpoint could not be found in the restored object: (root).net.seq2seq_model.optimizer_gn.decay\n",
            "WARNING:tensorflow:Value in checkpoint could not be found in the restored object: (root).net.seq2seq_model.optimizer_gn.learning_rate\n",
            "WARNING:tensorflow:Value in checkpoint could not be found in the restored object: (root).net.seq2seq_model.optimizer_ds.iter\n",
            "WARNING:tensorflow:Value in checkpoint could not be found in the restored object: (root).net.seq2seq_model.optimizer_ds.beta_1\n",
            "WARNING:tensorflow:Value in checkpoint could not be found in the restored object: (root).net.seq2seq_model.optimizer_ds.beta_2\n",
            "WARNING:tensorflow:Value in checkpoint could not be found in the restored object: (root).net.seq2seq_model.optimizer_ds.decay\n",
            "WARNING:tensorflow:Value in checkpoint could not be found in the restored object: (root).net.seq2seq_model.optimizer_ds.learning_rate\n",
            "WARNING:tensorflow:Value in checkpoint could not be found in the restored object: (root).net.seq2seq_model.user_encoder.embedding.embeddings\n",
            "WARNING:tensorflow:Value in checkpoint could not be found in the restored object: (root).net.seq2seq_model.item_encoder.embedding.embeddings\n",
            "WARNING:tensorflow:Value in checkpoint could not be found in the restored object: (root).net.seq2seq_model.decoder.embedding.embeddings\n",
            "WARNING:tensorflow:Value in checkpoint could not be found in the restored object: (root).net.seq2seq_model.decoder.fc.kernel\n",
            "WARNING:tensorflow:Value in checkpoint could not be found in the restored object: (root).net.seq2seq_model.discriminator.embedding.embeddings\n",
            "WARNING:tensorflow:Value in checkpoint could not be found in the restored object: (root).net.seq2seq_model.discriminator.conv_unigram.kernel\n",
            "WARNING:tensorflow:Value in checkpoint could not be found in the restored object: (root).net.seq2seq_model.discriminator.conv_unigram.bias\n",
            "WARNING:tensorflow:Value in checkpoint could not be found in the restored object: (root).net.seq2seq_model.discriminator.conv_bigram.kernel\n",
            "WARNING:tensorflow:Value in checkpoint could not be found in the restored object: (root).net.seq2seq_model.discriminator.conv_bigram.bias\n",
            "WARNING:tensorflow:Value in checkpoint could not be found in the restored object: (root).net.seq2seq_model.discriminator.conv_trigram.kernel\n",
            "WARNING:tensorflow:Value in checkpoint could not be found in the restored object: (root).net.seq2seq_model.discriminator.conv_trigram.bias\n",
            "WARNING:tensorflow:Value in checkpoint could not be found in the restored object: (root).net.seq2seq_model.discriminator.conv_fourgram.kernel\n",
            "WARNING:tensorflow:Value in checkpoint could not be found in the restored object: (root).net.seq2seq_model.discriminator.conv_fourgram.bias\n",
            "WARNING:tensorflow:Value in checkpoint could not be found in the restored object: (root).net.seq2seq_model.discriminator.conv_fivegram.kernel\n",
            "WARNING:tensorflow:Value in checkpoint could not be found in the restored object: (root).net.seq2seq_model.discriminator.conv_fivegram.bias\n",
            "WARNING:tensorflow:Value in checkpoint could not be found in the restored object: (root).net.seq2seq_model.discriminator.fc.kernel\n",
            "WARNING:tensorflow:Value in checkpoint could not be found in the restored object: (root).net.seq2seq_model.discriminator.fc.bias\n",
            "WARNING:tensorflow:Value in checkpoint could not be found in the restored object: (root).net.seq2seq_model.decoder.gru.cell.kernel\n",
            "WARNING:tensorflow:Value in checkpoint could not be found in the restored object: (root).net.seq2seq_model.decoder.gru.cell.recurrent_kernel\n",
            "WARNING:tensorflow:Value in checkpoint could not be found in the restored object: (root).net.seq2seq_model.decoder.gru.cell.bias\n",
            "WARNING:tensorflow:Value in checkpoint could not be found in the restored object: (root).net.seq2seq_model.user_encoder.gru.forward_layer.cell.kernel\n",
            "WARNING:tensorflow:Value in checkpoint could not be found in the restored object: (root).net.seq2seq_model.user_encoder.gru.forward_layer.cell.recurrent_kernel\n",
            "WARNING:tensorflow:Value in checkpoint could not be found in the restored object: (root).net.seq2seq_model.user_encoder.gru.forward_layer.cell.bias\n",
            "WARNING:tensorflow:Value in checkpoint could not be found in the restored object: (root).net.seq2seq_model.user_encoder.gru.backward_layer.cell.kernel\n",
            "WARNING:tensorflow:Value in checkpoint could not be found in the restored object: (root).net.seq2seq_model.user_encoder.gru.backward_layer.cell.recurrent_kernel\n",
            "WARNING:tensorflow:Value in checkpoint could not be found in the restored object: (root).net.seq2seq_model.user_encoder.gru.backward_layer.cell.bias\n",
            "WARNING:tensorflow:Value in checkpoint could not be found in the restored object: (root).net.seq2seq_model.item_encoder.gru.forward_layer.cell.kernel\n",
            "WARNING:tensorflow:Value in checkpoint could not be found in the restored object: (root).net.seq2seq_model.item_encoder.gru.forward_layer.cell.recurrent_kernel\n",
            "WARNING:tensorflow:Value in checkpoint could not be found in the restored object: (root).net.seq2seq_model.item_encoder.gru.forward_layer.cell.bias\n",
            "WARNING:tensorflow:Value in checkpoint could not be found in the restored object: (root).net.seq2seq_model.item_encoder.gru.backward_layer.cell.kernel\n",
            "WARNING:tensorflow:Value in checkpoint could not be found in the restored object: (root).net.seq2seq_model.item_encoder.gru.backward_layer.cell.recurrent_kernel\n",
            "WARNING:tensorflow:Value in checkpoint could not be found in the restored object: (root).net.seq2seq_model.item_encoder.gru.backward_layer.cell.bias\n",
            "WARNING:tensorflow:Value in checkpoint could not be found in the restored object: (root).net.seq2seq_model.optimizer_gn's state 'm' for (root).net.seq2seq_model.decoder.fc.kernel\n",
            "WARNING:tensorflow:Value in checkpoint could not be found in the restored object: (root).net.seq2seq_model.optimizer_gn's state 'm' for (root).net.seq2seq_model.decoder.gru.cell.kernel\n",
            "WARNING:tensorflow:Value in checkpoint could not be found in the restored object: (root).net.seq2seq_model.optimizer_gn's state 'm' for (root).net.seq2seq_model.decoder.gru.cell.recurrent_kernel\n",
            "WARNING:tensorflow:Value in checkpoint could not be found in the restored object: (root).net.seq2seq_model.optimizer_gn's state 'm' for (root).net.seq2seq_model.decoder.gru.cell.bias\n",
            "WARNING:tensorflow:Value in checkpoint could not be found in the restored object: (root).net.seq2seq_model.optimizer_gn's state 'm' for (root).net.seq2seq_model.user_encoder.gru.forward_layer.cell.kernel\n",
            "WARNING:tensorflow:Value in checkpoint could not be found in the restored object: (root).net.seq2seq_model.optimizer_gn's state 'm' for (root).net.seq2seq_model.user_encoder.gru.forward_layer.cell.recurrent_kernel\n",
            "WARNING:tensorflow:Value in checkpoint could not be found in the restored object: (root).net.seq2seq_model.optimizer_gn's state 'm' for (root).net.seq2seq_model.user_encoder.gru.forward_layer.cell.bias\n",
            "WARNING:tensorflow:Value in checkpoint could not be found in the restored object: (root).net.seq2seq_model.optimizer_gn's state 'm' for (root).net.seq2seq_model.user_encoder.gru.backward_layer.cell.kernel\n",
            "WARNING:tensorflow:Value in checkpoint could not be found in the restored object: (root).net.seq2seq_model.optimizer_gn's state 'm' for (root).net.seq2seq_model.user_encoder.gru.backward_layer.cell.recurrent_kernel\n",
            "WARNING:tensorflow:Value in checkpoint could not be found in the restored object: (root).net.seq2seq_model.optimizer_gn's state 'm' for (root).net.seq2seq_model.user_encoder.gru.backward_layer.cell.bias\n",
            "WARNING:tensorflow:Value in checkpoint could not be found in the restored object: (root).net.seq2seq_model.optimizer_gn's state 'm' for (root).net.seq2seq_model.item_encoder.gru.forward_layer.cell.kernel\n",
            "WARNING:tensorflow:Value in checkpoint could not be found in the restored object: (root).net.seq2seq_model.optimizer_gn's state 'm' for (root).net.seq2seq_model.item_encoder.gru.forward_layer.cell.recurrent_kernel\n",
            "WARNING:tensorflow:Value in checkpoint could not be found in the restored object: (root).net.seq2seq_model.optimizer_gn's state 'm' for (root).net.seq2seq_model.item_encoder.gru.forward_layer.cell.bias\n",
            "WARNING:tensorflow:Value in checkpoint could not be found in the restored object: (root).net.seq2seq_model.optimizer_gn's state 'm' for (root).net.seq2seq_model.item_encoder.gru.backward_layer.cell.kernel\n",
            "WARNING:tensorflow:Value in checkpoint could not be found in the restored object: (root).net.seq2seq_model.optimizer_gn's state 'm' for (root).net.seq2seq_model.item_encoder.gru.backward_layer.cell.recurrent_kernel\n",
            "WARNING:tensorflow:Value in checkpoint could not be found in the restored object: (root).net.seq2seq_model.optimizer_gn's state 'm' for (root).net.seq2seq_model.item_encoder.gru.backward_layer.cell.bias\n",
            "WARNING:tensorflow:Value in checkpoint could not be found in the restored object: (root).net.seq2seq_model.optimizer_gn's state 'v' for (root).net.seq2seq_model.decoder.fc.kernel\n",
            "WARNING:tensorflow:Value in checkpoint could not be found in the restored object: (root).net.seq2seq_model.optimizer_gn's state 'v' for (root).net.seq2seq_model.decoder.gru.cell.kernel\n",
            "WARNING:tensorflow:Value in checkpoint could not be found in the restored object: (root).net.seq2seq_model.optimizer_gn's state 'v' for (root).net.seq2seq_model.decoder.gru.cell.recurrent_kernel\n",
            "WARNING:tensorflow:Value in checkpoint could not be found in the restored object: (root).net.seq2seq_model.optimizer_gn's state 'v' for (root).net.seq2seq_model.decoder.gru.cell.bias\n",
            "WARNING:tensorflow:Value in checkpoint could not be found in the restored object: (root).net.seq2seq_model.optimizer_gn's state 'v' for (root).net.seq2seq_model.user_encoder.gru.forward_layer.cell.kernel\n",
            "WARNING:tensorflow:Value in checkpoint could not be found in the restored object: (root).net.seq2seq_model.optimizer_gn's state 'v' for (root).net.seq2seq_model.user_encoder.gru.forward_layer.cell.recurrent_kernel\n",
            "WARNING:tensorflow:Value in checkpoint could not be found in the restored object: (root).net.seq2seq_model.optimizer_gn's state 'v' for (root).net.seq2seq_model.user_encoder.gru.forward_layer.cell.bias\n",
            "WARNING:tensorflow:Value in checkpoint could not be found in the restored object: (root).net.seq2seq_model.optimizer_gn's state 'v' for (root).net.seq2seq_model.user_encoder.gru.backward_layer.cell.kernel\n",
            "WARNING:tensorflow:Value in checkpoint could not be found in the restored object: (root).net.seq2seq_model.optimizer_gn's state 'v' for (root).net.seq2seq_model.user_encoder.gru.backward_layer.cell.recurrent_kernel\n",
            "WARNING:tensorflow:Value in checkpoint could not be found in the restored object: (root).net.seq2seq_model.optimizer_gn's state 'v' for (root).net.seq2seq_model.user_encoder.gru.backward_layer.cell.bias\n",
            "WARNING:tensorflow:Value in checkpoint could not be found in the restored object: (root).net.seq2seq_model.optimizer_gn's state 'v' for (root).net.seq2seq_model.item_encoder.gru.forward_layer.cell.kernel\n",
            "WARNING:tensorflow:Value in checkpoint could not be found in the restored object: (root).net.seq2seq_model.optimizer_gn's state 'v' for (root).net.seq2seq_model.item_encoder.gru.forward_layer.cell.recurrent_kernel\n",
            "WARNING:tensorflow:Value in checkpoint could not be found in the restored object: (root).net.seq2seq_model.optimizer_gn's state 'v' for (root).net.seq2seq_model.item_encoder.gru.forward_layer.cell.bias\n",
            "WARNING:tensorflow:Value in checkpoint could not be found in the restored object: (root).net.seq2seq_model.optimizer_gn's state 'v' for (root).net.seq2seq_model.item_encoder.gru.backward_layer.cell.kernel\n",
            "WARNING:tensorflow:Value in checkpoint could not be found in the restored object: (root).net.seq2seq_model.optimizer_gn's state 'v' for (root).net.seq2seq_model.item_encoder.gru.backward_layer.cell.recurrent_kernel\n",
            "WARNING:tensorflow:Value in checkpoint could not be found in the restored object: (root).net.seq2seq_model.optimizer_gn's state 'v' for (root).net.seq2seq_model.item_encoder.gru.backward_layer.cell.bias\n",
            "WARNING:tensorflow:Value in checkpoint could not be found in the restored object: (root).net.seq2seq_model.optimizer_ds's state 'm' for (root).net.seq2seq_model.discriminator.conv_unigram.kernel\n",
            "WARNING:tensorflow:Value in checkpoint could not be found in the restored object: (root).net.seq2seq_model.optimizer_ds's state 'm' for (root).net.seq2seq_model.discriminator.conv_unigram.bias\n",
            "WARNING:tensorflow:Value in checkpoint could not be found in the restored object: (root).net.seq2seq_model.optimizer_ds's state 'm' for (root).net.seq2seq_model.discriminator.conv_bigram.kernel\n",
            "WARNING:tensorflow:Value in checkpoint could not be found in the restored object: (root).net.seq2seq_model.optimizer_ds's state 'm' for (root).net.seq2seq_model.discriminator.conv_bigram.bias\n",
            "WARNING:tensorflow:Value in checkpoint could not be found in the restored object: (root).net.seq2seq_model.optimizer_ds's state 'm' for (root).net.seq2seq_model.discriminator.conv_trigram.kernel\n",
            "WARNING:tensorflow:Value in checkpoint could not be found in the restored object: (root).net.seq2seq_model.optimizer_ds's state 'm' for (root).net.seq2seq_model.discriminator.conv_trigram.bias\n",
            "WARNING:tensorflow:Value in checkpoint could not be found in the restored object: (root).net.seq2seq_model.optimizer_ds's state 'm' for (root).net.seq2seq_model.discriminator.conv_fourgram.kernel\n",
            "WARNING:tensorflow:Value in checkpoint could not be found in the restored object: (root).net.seq2seq_model.optimizer_ds's state 'm' for (root).net.seq2seq_model.discriminator.conv_fourgram.bias\n",
            "WARNING:tensorflow:Value in checkpoint could not be found in the restored object: (root).net.seq2seq_model.optimizer_ds's state 'm' for (root).net.seq2seq_model.discriminator.conv_fivegram.kernel\n",
            "WARNING:tensorflow:Value in checkpoint could not be found in the restored object: (root).net.seq2seq_model.optimizer_ds's state 'm' for (root).net.seq2seq_model.discriminator.conv_fivegram.bias\n",
            "WARNING:tensorflow:Value in checkpoint could not be found in the restored object: (root).net.seq2seq_model.optimizer_ds's state 'm' for (root).net.seq2seq_model.discriminator.fc.kernel\n",
            "WARNING:tensorflow:Value in checkpoint could not be found in the restored object: (root).net.seq2seq_model.optimizer_ds's state 'm' for (root).net.seq2seq_model.discriminator.fc.bias\n",
            "WARNING:tensorflow:Value in checkpoint could not be found in the restored object: (root).net.seq2seq_model.optimizer_ds's state 'v' for (root).net.seq2seq_model.discriminator.conv_unigram.kernel\n",
            "WARNING:tensorflow:Value in checkpoint could not be found in the restored object: (root).net.seq2seq_model.optimizer_ds's state 'v' for (root).net.seq2seq_model.discriminator.conv_unigram.bias\n",
            "WARNING:tensorflow:Value in checkpoint could not be found in the restored object: (root).net.seq2seq_model.optimizer_ds's state 'v' for (root).net.seq2seq_model.discriminator.conv_bigram.kernel\n",
            "WARNING:tensorflow:Value in checkpoint could not be found in the restored object: (root).net.seq2seq_model.optimizer_ds's state 'v' for (root).net.seq2seq_model.discriminator.conv_bigram.bias\n",
            "WARNING:tensorflow:Value in checkpoint could not be found in the restored object: (root).net.seq2seq_model.optimizer_ds's state 'v' for (root).net.seq2seq_model.discriminator.conv_trigram.kernel\n",
            "WARNING:tensorflow:Value in checkpoint could not be found in the restored object: (root).net.seq2seq_model.optimizer_ds's state 'v' for (root).net.seq2seq_model.discriminator.conv_trigram.bias\n",
            "WARNING:tensorflow:Value in checkpoint could not be found in the restored object: (root).net.seq2seq_model.optimizer_ds's state 'v' for (root).net.seq2seq_model.discriminator.conv_fourgram.kernel\n",
            "WARNING:tensorflow:Value in checkpoint could not be found in the restored object: (root).net.seq2seq_model.optimizer_ds's state 'v' for (root).net.seq2seq_model.discriminator.conv_fourgram.bias\n",
            "WARNING:tensorflow:Value in checkpoint could not be found in the restored object: (root).net.seq2seq_model.optimizer_ds's state 'v' for (root).net.seq2seq_model.discriminator.conv_fivegram.kernel\n",
            "WARNING:tensorflow:Value in checkpoint could not be found in the restored object: (root).net.seq2seq_model.optimizer_ds's state 'v' for (root).net.seq2seq_model.discriminator.conv_fivegram.bias\n",
            "WARNING:tensorflow:Value in checkpoint could not be found in the restored object: (root).net.seq2seq_model.optimizer_ds's state 'v' for (root).net.seq2seq_model.discriminator.fc.kernel\n",
            "WARNING:tensorflow:Value in checkpoint could not be found in the restored object: (root).net.seq2seq_model.optimizer_ds's state 'v' for (root).net.seq2seq_model.discriminator.fc.bias\n"
          ]
        }
      ],
      "source": [
        "gc.collect()\n",
        "gc.collect(0)\n",
        "gc.collect(1)\n",
        "gc.collect(2)\n",
        "\n",
        "# creating an instance of Multi_Task Model\n",
        "mt_model = MultiTaskModel()\n",
        "ckpt = tf.train.Checkpoint(step=tf.Variable(0), optimizer=tf.keras.optimizers.Adam(), net=mt_model)\n",
        "manager = tf.train.CheckpointManager(ckpt, './tf_ckpts', max_to_keep=6000)\n"
      ]
    },
    {
      "cell_type": "code",
      "execution_count": 122,
      "metadata": {},
      "outputs": [
        {
          "name": "stdout",
          "output_type": "stream",
          "text": [
            "2022-12-17 17:53:20.406288: I tensorflow/stream_executor/cuda/cuda_gpu_executor.cc:975] successful NUMA node read from SysFS had negative value (-1), but there must be at least one NUMA node, so returning NUMA node zero\n",
            "2022-12-17 17:53:20.425891: I tensorflow/stream_executor/cuda/cuda_gpu_executor.cc:975] successful NUMA node read from SysFS had negative value (-1), but there must be at least one NUMA node, so returning NUMA node zero\n",
            "2022-12-17 17:53:20.426153: I tensorflow/stream_executor/cuda/cuda_gpu_executor.cc:975] successful NUMA node read from SysFS had negative value (-1), but there must be at least one NUMA node, so returning NUMA node zero\n",
            "\n",
            "***** TensorBoard Uploader *****\n",
            "\n",
            "This will list all experiments that you've uploaded to\n",
            "https://tensorboard.dev. TensorBoard.dev experiments are visible\n",
            "to everyone. Do not upload sensitive data.\n",
            "\n",
            "Your use of this service is subject to Google's Terms of Service\n",
            "<https://policies.google.com/terms> and Privacy Policy\n",
            "<https://policies.google.com/privacy>, and TensorBoard.dev's Terms of Service\n",
            "<https://tensorboard.dev/policy/terms/>.\n",
            "\n",
            "This notice will not be shown again while you are logged into the uploader.\n",
            "To log out, run `tensorboard dev auth revoke`.\n",
            "\n",
            "Continue? (yes/NO) ^C\n",
            "Traceback (most recent call last):\n",
            "  File \"/home/mobin/anaconda3/envs/colabenv/bin/tensorboard\", line 8, in <module>\n",
            "    sys.exit(run_main())\n",
            "  File \"/home/mobin/anaconda3/envs/colabenv/lib/python3.7/site-packages/tensorboard/main.py\", line 46, in run_main\n",
            "    app.run(tensorboard.main, flags_parser=tensorboard.configure)\n",
            "  File \"/home/mobin/anaconda3/envs/colabenv/lib/python3.7/site-packages/absl/app.py\", line 308, in run\n",
            "    _run_main(main, args)\n",
            "  File \"/home/mobin/anaconda3/envs/colabenv/lib/python3.7/site-packages/absl/app.py\", line 254, in _run_main\n",
            "    sys.exit(main(argv))\n",
            "  File \"/home/mobin/anaconda3/envs/colabenv/lib/python3.7/site-packages/tensorboard/program.py\", line 276, in main\n",
            "    return runner(self.flags) or 0\n",
            "  File \"/home/mobin/anaconda3/envs/colabenv/lib/python3.7/site-packages/tensorboard/uploader/uploader_subcommand.py\", line 692, in run\n",
            "    return _run(flags, self._experiment_url_callback)\n",
            "  File \"/home/mobin/anaconda3/envs/colabenv/lib/python3.7/site-packages/tensorboard/uploader/uploader_subcommand.py\", line 94, in _run\n",
            "    _prompt_for_user_ack(intent)\n",
            "  File \"/home/mobin/anaconda3/envs/colabenv/lib/python3.7/site-packages/tensorboard/uploader/uploader_subcommand.py\", line 67, in _prompt_for_user_ack\n",
            "    response = input(\"Continue? (yes/NO) \")\n",
            "KeyboardInterrupt\n"
          ]
        }
      ],
      "source": [
        "!tensorboard dev list\n"
      ]
    },
    {
      "cell_type": "code",
      "execution_count": 120,
      "metadata": {},
      "outputs": [
        {
          "name": "stdout",
          "output_type": "stream",
          "text": [
            "2022-12-17 17:51:25.992833: I tensorflow/stream_executor/cuda/cuda_gpu_executor.cc:975] successful NUMA node read from SysFS had negative value (-1), but there must be at least one NUMA node, so returning NUMA node zero\n",
            "2022-12-17 17:51:26.010557: I tensorflow/stream_executor/cuda/cuda_gpu_executor.cc:975] successful NUMA node read from SysFS had negative value (-1), but there must be at least one NUMA node, so returning NUMA node zero\n",
            "2022-12-17 17:51:26.010758: I tensorflow/stream_executor/cuda/cuda_gpu_executor.cc:975] successful NUMA node read from SysFS had negative value (-1), but there must be at least one NUMA node, so returning NUMA node zero\n",
            "\n",
            "***** TensorBoard Uploader *****\n",
            "\n",
            "This will upload your TensorBoard logs to https://tensorboard.dev/ from\n",
            "the following directory:\n",
            "\n",
            "./logs\n",
            "\n",
            "This TensorBoard will be visible to everyone. Do not upload sensitive\n",
            "data.\n",
            "\n",
            "Your use of this service is subject to Google's Terms of Service\n",
            "<https://policies.google.com/terms> and Privacy Policy\n",
            "<https://policies.google.com/privacy>, and TensorBoard.dev's Terms of Service\n",
            "<https://tensorboard.dev/policy/terms/>.\n",
            "\n",
            "This notice will not be shown again while you are logged into the uploader.\n",
            "To log out, run `tensorboard dev auth revoke`.\n",
            "\n",
            "Continue? (yes/NO) ^C\n",
            "Traceback (most recent call last):\n",
            "  File \"/home/mobin/anaconda3/envs/colabenv/bin/tensorboard\", line 8, in <module>\n",
            "    sys.exit(run_main())\n",
            "  File \"/home/mobin/anaconda3/envs/colabenv/lib/python3.7/site-packages/tensorboard/main.py\", line 46, in run_main\n",
            "    app.run(tensorboard.main, flags_parser=tensorboard.configure)\n",
            "  File \"/home/mobin/anaconda3/envs/colabenv/lib/python3.7/site-packages/absl/app.py\", line 308, in run\n",
            "    _run_main(main, args)\n",
            "  File \"/home/mobin/anaconda3/envs/colabenv/lib/python3.7/site-packages/absl/app.py\", line 254, in _run_main\n",
            "    sys.exit(main(argv))\n",
            "  File \"/home/mobin/anaconda3/envs/colabenv/lib/python3.7/site-packages/tensorboard/program.py\", line 276, in main\n",
            "    return runner(self.flags) or 0\n",
            "  File \"/home/mobin/anaconda3/envs/colabenv/lib/python3.7/site-packages/tensorboard/uploader/uploader_subcommand.py\", line 692, in run\n",
            "    return _run(flags, self._experiment_url_callback)\n",
            "  File \"/home/mobin/anaconda3/envs/colabenv/lib/python3.7/site-packages/tensorboard/uploader/uploader_subcommand.py\", line 94, in _run\n",
            "    _prompt_for_user_ack(intent)\n",
            "  File \"/home/mobin/anaconda3/envs/colabenv/lib/python3.7/site-packages/tensorboard/uploader/uploader_subcommand.py\", line 67, in _prompt_for_user_ack\n",
            "    response = input(\"Continue? (yes/NO) \")\n",
            "KeyboardInterrupt\n"
          ]
        }
      ],
      "source": [
        "!tensorboard dev upload --logdir ./logs \\\n",
        "  --name \"Simple experiment with ds\" \\\n",
        "  --description \"Training results from https://colab.sandbox.google.com/github/tensorflow/tensorboard/blob/master/docs/tbdev_getting_started.ipynb\" \\\n",
        "  --one_shot"
      ]
    },
    {
      "cell_type": "code",
      "execution_count": 116,
      "metadata": {},
      "outputs": [
        {
          "name": "stdout",
          "output_type": "stream",
          "text": [
            "Restored from ./tf_ckpts/ckpt-437\n",
            "\n",
            "\n",
            "epoch :  4370\n"
          ]
        },
        {
          "ename": "ValueError",
          "evalue": "Exception encountered when calling layer \"encoder_4\" (type Encoder).\n\nIn this `tf.Variable` creation, the initial value's shape ((28405, 300)) is not compatible with the explicitly supplied `shape` argument ((6191, 300)).\n\nCall arguments received by layer \"encoder_4\" (type Encoder):\n  • reviews=tf.Tensor(shape=(224, 64), dtype=int32)\n  • state=None",
          "output_type": "error",
          "traceback": [
            "\u001b[0;31m---------------------------------------------------------------------------\u001b[0m",
            "\u001b[0;31mValueError\u001b[0m                                Traceback (most recent call last)",
            "\u001b[0;32m/tmp/ipykernel_799220/3832490847.py\u001b[0m in \u001b[0;36m<module>\u001b[0;34m\u001b[0m\n\u001b[0;32m----> 1\u001b[0;31m \u001b[0mmt_model\u001b[0m\u001b[0;34m.\u001b[0m\u001b[0mtrain\u001b[0m\u001b[0;34m(\u001b[0m\u001b[0mn_epochs\u001b[0m\u001b[0;34m=\u001b[0m\u001b[0;36m3000\u001b[0m\u001b[0;34m)\u001b[0m\u001b[0;34m\u001b[0m\u001b[0;34m\u001b[0m\u001b[0m\n\u001b[0m",
            "\u001b[0;32m/tmp/ipykernel_799220/2762001945.py\u001b[0m in \u001b[0;36mtrain\u001b[0;34m(self, n_epochs)\u001b[0m\n\u001b[1;32m     14\u001b[0m           \u001b[0;32mfor\u001b[0m \u001b[0mepoch\u001b[0m \u001b[0;32min\u001b[0m \u001b[0mrange\u001b[0m\u001b[0;34m(\u001b[0m\u001b[0mn_epochs\u001b[0m\u001b[0;34m)\u001b[0m\u001b[0;34m:\u001b[0m\u001b[0;34m\u001b[0m\u001b[0;34m\u001b[0m\u001b[0m\n\u001b[1;32m     15\u001b[0m               \u001b[0mprint\u001b[0m\u001b[0;34m(\u001b[0m\u001b[0;34m\"\\n\\nepoch : \"\u001b[0m\u001b[0;34m,\u001b[0m \u001b[0mint\u001b[0m\u001b[0;34m(\u001b[0m\u001b[0mckpt\u001b[0m\u001b[0;34m.\u001b[0m\u001b[0mstep\u001b[0m\u001b[0;34m)\u001b[0m\u001b[0;34m)\u001b[0m\u001b[0;34m\u001b[0m\u001b[0;34m\u001b[0m\u001b[0m\n\u001b[0;32m---> 16\u001b[0;31m               \u001b[0mself\u001b[0m\u001b[0;34m.\u001b[0m\u001b[0mseq2seq_model\u001b[0m\u001b[0;34m.\u001b[0m\u001b[0mgenerate_textual_features\u001b[0m\u001b[0;34m(\u001b[0m\u001b[0;34m)\u001b[0m\u001b[0;34m\u001b[0m\u001b[0;34m\u001b[0m\u001b[0m\n\u001b[0m\u001b[1;32m     17\u001b[0m \u001b[0;34m\u001b[0m\u001b[0m\n\u001b[1;32m     18\u001b[0m               \u001b[0mprint\u001b[0m\u001b[0;34m(\u001b[0m\u001b[0;34m\"********************************************* PMF Model Training Turn *********************************************\"\u001b[0m\u001b[0;34m)\u001b[0m\u001b[0;34m\u001b[0m\u001b[0;34m\u001b[0m\u001b[0m\n",
            "\u001b[0;32m/tmp/ipykernel_799220/2500344308.py\u001b[0m in \u001b[0;36mgenerate_textual_features\u001b[0;34m(self)\u001b[0m\n\u001b[1;32m     41\u001b[0m             \u001b[0mbatch_userdoc\u001b[0m \u001b[0;34m=\u001b[0m \u001b[0mtf\u001b[0m\u001b[0;34m.\u001b[0m\u001b[0mreshape\u001b[0m\u001b[0;34m(\u001b[0m\u001b[0mtf\u001b[0m\u001b[0;34m.\u001b[0m\u001b[0mconvert_to_tensor\u001b[0m\u001b[0;34m(\u001b[0m \u001b[0mbatch_userdoc_flattend\u001b[0m\u001b[0;34m,\u001b[0m\u001b[0mdtype\u001b[0m\u001b[0;34m=\u001b[0m\u001b[0mtf\u001b[0m\u001b[0;34m.\u001b[0m\u001b[0mint32\u001b[0m\u001b[0;34m)\u001b[0m\u001b[0;34m,\u001b[0m\u001b[0;34m[\u001b[0m\u001b[0muserdoc_slice_idx\u001b[0m\u001b[0;34m[\u001b[0m\u001b[0;34m-\u001b[0m\u001b[0;36m1\u001b[0m\u001b[0;34m]\u001b[0m\u001b[0;34m,\u001b[0m\u001b[0mself\u001b[0m\u001b[0;34m.\u001b[0m\u001b[0msequence_length\u001b[0m\u001b[0;34m]\u001b[0m\u001b[0;34m)\u001b[0m\u001b[0;34m\u001b[0m\u001b[0;34m\u001b[0m\u001b[0m\n\u001b[1;32m     42\u001b[0m \u001b[0;34m\u001b[0m\u001b[0m\n\u001b[0;32m---> 43\u001b[0;31m             \u001b[0muser_enc_state\u001b[0m \u001b[0;34m=\u001b[0m \u001b[0mself\u001b[0m\u001b[0;34m.\u001b[0m\u001b[0muser_encoder\u001b[0m\u001b[0;34m(\u001b[0m\u001b[0mbatch_userdoc\u001b[0m\u001b[0;34m)\u001b[0m \u001b[0;31m# user vector representations\u001b[0m\u001b[0;34m\u001b[0m\u001b[0;34m\u001b[0m\u001b[0m\n\u001b[0m\u001b[1;32m     44\u001b[0m             \u001b[0muser_context_vector\u001b[0m \u001b[0;34m=\u001b[0m \u001b[0mtf\u001b[0m\u001b[0;34m.\u001b[0m\u001b[0mstack\u001b[0m\u001b[0;34m(\u001b[0m\u001b[0;34m[\u001b[0m \u001b[0mtf\u001b[0m\u001b[0;34m.\u001b[0m\u001b[0mreduce_mean\u001b[0m\u001b[0;34m(\u001b[0m\u001b[0muser_enc_state\u001b[0m\u001b[0;34m[\u001b[0m \u001b[0muserdoc_slice_idx\u001b[0m\u001b[0;34m[\u001b[0m\u001b[0msl_num\u001b[0m\u001b[0;34m]\u001b[0m \u001b[0;34m:\u001b[0m \u001b[0muserdoc_slice_idx\u001b[0m\u001b[0;34m[\u001b[0m\u001b[0msl_num\u001b[0m\u001b[0;34m+\u001b[0m\u001b[0;36m1\u001b[0m\u001b[0;34m]\u001b[0m \u001b[0;34m]\u001b[0m\u001b[0;34m,\u001b[0m\u001b[0;36m0\u001b[0m\u001b[0;34m)\u001b[0m \u001b[0;32mfor\u001b[0m  \u001b[0msl_num\u001b[0m \u001b[0;32min\u001b[0m \u001b[0mrange\u001b[0m\u001b[0;34m(\u001b[0m\u001b[0mlen\u001b[0m\u001b[0;34m(\u001b[0m\u001b[0mbatch_userID\u001b[0m\u001b[0;34m)\u001b[0m\u001b[0;34m)\u001b[0m\u001b[0;34m]\u001b[0m\u001b[0;34m)\u001b[0m\u001b[0;34m\u001b[0m\u001b[0;34m\u001b[0m\u001b[0m\n\u001b[1;32m     45\u001b[0m \u001b[0;34m\u001b[0m\u001b[0m\n",
            "\u001b[0;32m~/anaconda3/envs/colabenv/lib/python3.7/site-packages/keras/utils/traceback_utils.py\u001b[0m in \u001b[0;36merror_handler\u001b[0;34m(*args, **kwargs)\u001b[0m\n\u001b[1;32m     65\u001b[0m     \u001b[0;32mexcept\u001b[0m \u001b[0mException\u001b[0m \u001b[0;32mas\u001b[0m \u001b[0me\u001b[0m\u001b[0;34m:\u001b[0m  \u001b[0;31m# pylint: disable=broad-except\u001b[0m\u001b[0;34m\u001b[0m\u001b[0;34m\u001b[0m\u001b[0m\n\u001b[1;32m     66\u001b[0m       \u001b[0mfiltered_tb\u001b[0m \u001b[0;34m=\u001b[0m \u001b[0m_process_traceback_frames\u001b[0m\u001b[0;34m(\u001b[0m\u001b[0me\u001b[0m\u001b[0;34m.\u001b[0m\u001b[0m__traceback__\u001b[0m\u001b[0;34m)\u001b[0m\u001b[0;34m\u001b[0m\u001b[0;34m\u001b[0m\u001b[0m\n\u001b[0;32m---> 67\u001b[0;31m       \u001b[0;32mraise\u001b[0m \u001b[0me\u001b[0m\u001b[0;34m.\u001b[0m\u001b[0mwith_traceback\u001b[0m\u001b[0;34m(\u001b[0m\u001b[0mfiltered_tb\u001b[0m\u001b[0;34m)\u001b[0m \u001b[0;32mfrom\u001b[0m \u001b[0;32mNone\u001b[0m\u001b[0;34m\u001b[0m\u001b[0;34m\u001b[0m\u001b[0m\n\u001b[0m\u001b[1;32m     68\u001b[0m     \u001b[0;32mfinally\u001b[0m\u001b[0;34m:\u001b[0m\u001b[0;34m\u001b[0m\u001b[0;34m\u001b[0m\u001b[0m\n\u001b[1;32m     69\u001b[0m       \u001b[0;32mdel\u001b[0m \u001b[0mfiltered_tb\u001b[0m\u001b[0;34m\u001b[0m\u001b[0;34m\u001b[0m\u001b[0m\n",
            "\u001b[0;32m/tmp/ipykernel_799220/1793026167.py\u001b[0m in \u001b[0;36mcall\u001b[0;34m(self, reviews, state)\u001b[0m\n\u001b[1;32m     11\u001b[0m \u001b[0;34m\u001b[0m\u001b[0m\n\u001b[1;32m     12\u001b[0m   \u001b[0;32mdef\u001b[0m \u001b[0mcall\u001b[0m\u001b[0;34m(\u001b[0m\u001b[0mself\u001b[0m\u001b[0;34m,\u001b[0m \u001b[0mreviews\u001b[0m\u001b[0;34m,\u001b[0m \u001b[0mstate\u001b[0m\u001b[0;34m=\u001b[0m\u001b[0;32mNone\u001b[0m\u001b[0;34m)\u001b[0m\u001b[0;34m:\u001b[0m\u001b[0;34m\u001b[0m\u001b[0;34m\u001b[0m\u001b[0m\n\u001b[0;32m---> 13\u001b[0;31m     \u001b[0mvectors\u001b[0m \u001b[0;34m=\u001b[0m \u001b[0mself\u001b[0m\u001b[0;34m.\u001b[0m\u001b[0membedding\u001b[0m\u001b[0;34m(\u001b[0m\u001b[0mreviews\u001b[0m\u001b[0;34m)\u001b[0m\u001b[0;34m\u001b[0m\u001b[0;34m\u001b[0m\u001b[0m\n\u001b[0m\u001b[1;32m     14\u001b[0m     \u001b[0m_\u001b[0m\u001b[0;34m,\u001b[0m\u001b[0mencoder_forward_state\u001b[0m\u001b[0;34m,\u001b[0m\u001b[0mencoder_backward_state\u001b[0m  \u001b[0;34m=\u001b[0m \u001b[0mself\u001b[0m\u001b[0;34m.\u001b[0m\u001b[0mgru\u001b[0m\u001b[0;34m(\u001b[0m\u001b[0mvectors\u001b[0m\u001b[0;34m,\u001b[0m \u001b[0minitial_state\u001b[0m\u001b[0;34m=\u001b[0m\u001b[0mstate\u001b[0m\u001b[0;34m)\u001b[0m\u001b[0;34m\u001b[0m\u001b[0;34m\u001b[0m\u001b[0m\n\u001b[1;32m     15\u001b[0m \u001b[0;34m\u001b[0m\u001b[0m\n",
            "\u001b[0;31mValueError\u001b[0m: Exception encountered when calling layer \"encoder_4\" (type Encoder).\n\nIn this `tf.Variable` creation, the initial value's shape ((28405, 300)) is not compatible with the explicitly supplied `shape` argument ((6191, 300)).\n\nCall arguments received by layer \"encoder_4\" (type Encoder):\n  • reviews=tf.Tensor(shape=(224, 64), dtype=int32)\n  • state=None"
          ]
        }
      ],
      "source": [
        "mt_model.train(n_epochs=3000)"
      ]
    },
    {
      "cell_type": "markdown",
      "metadata": {},
      "source": [
        "# **Ploting Results**"
      ]
    },
    {
      "cell_type": "code",
      "execution_count": null,
      "metadata": {},
      "outputs": [],
      "source": [
        "%load_ext tensorboard"
      ]
    },
    {
      "cell_type": "code",
      "execution_count": null,
      "metadata": {},
      "outputs": [
        {
          "data": {
            "text/html": [
              "\n",
              "      <iframe id=\"tensorboard-frame-4774d9d3d963b17\" width=\"100%\" height=\"800\" frameborder=\"0\">\n",
              "      </iframe>\n",
              "      <script>\n",
              "        (function() {\n",
              "          const frame = document.getElementById(\"tensorboard-frame-4774d9d3d963b17\");\n",
              "          const url = new URL(\"/\", window.location);\n",
              "          const port = 6006;\n",
              "          if (port) {\n",
              "            url.port = port;\n",
              "          }\n",
              "          frame.src = url;\n",
              "        })();\n",
              "      </script>\n",
              "    "
            ],
            "text/plain": [
              "<IPython.core.display.HTML object>"
            ]
          },
          "metadata": {},
          "output_type": "display_data"
        }
      ],
      "source": [
        "%tensorboard --logdir logs\n",
        "# deactive tracking protection of the page if you get 403 error\n"
      ]
    },
    {
      "cell_type": "markdown",
      "metadata": {
        "id": "xniWi24qcZsb"
      },
      "source": [
        "# test code"
      ]
    },
    {
      "cell_type": "code",
      "execution_count": null,
      "metadata": {
        "id": "85ryd-vJrTix"
      },
      "outputs": [],
      "source": [
        "#log_ps, mse_train, mse_test= pm.train(10)"
      ]
    },
    {
      "cell_type": "code",
      "execution_count": null,
      "metadata": {
        "id": "4meEBmwsqMYC"
      },
      "outputs": [],
      "source": [
        "\n",
        "# dec_result,dec_state=decoder(dec_output_tokens,dec_output_tokens,context_vector= user_context_vector,state=dec_state)\n",
        "# sampled_token = tf.random.categorical(dec_result[:,-1, :], num_samples=1)\n",
        "# print( sampled_token.numpy())\n",
        "# dec_output_tokens=np.append( dec_output_tokens , sampled_token.numpy()[0])\n",
        "# print(dec_output_tokens)\n",
        "\n",
        "# vocab = np.array(input_text_processor.get_vocabulary())\n",
        "# first_word = vocab[dec_output_tokens]\n",
        "# first_word"
      ]
    }
  ],
  "metadata": {
    "colab": {
      "collapsed_sections": [],
      "name": "Explainable Recommender System.ipynb",
      "provenance": [],
      "toc_visible": true
    },
    "gpuClass": "standard",
    "kernelspec": {
      "display_name": "Python 3.7.13 ('colabenv')",
      "language": "python",
      "name": "python3"
    },
    "language_info": {
      "codemirror_mode": {
        "name": "ipython",
        "version": 3
      },
      "file_extension": ".py",
      "mimetype": "text/x-python",
      "name": "python",
      "nbconvert_exporter": "python",
      "pygments_lexer": "ipython3",
      "version": "3.7.13"
    },
    "vscode": {
      "interpreter": {
        "hash": "5859fc1fd51a29bc96a6c335b5cef2533de774a99a73e1484108bae0d11f06ff"
      }
    }
  },
  "nbformat": 4,
  "nbformat_minor": 0
}
