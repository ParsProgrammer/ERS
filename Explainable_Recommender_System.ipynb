{
  "cells": [
    {
      "cell_type": "code",
      "execution_count": 1,
      "metadata": {},
      "outputs": [
        {
          "name": "stdout",
          "output_type": "stream",
          "text": [
            "Cloning into 'ERS'...\n",
            "remote: Enumerating objects: 81, done.\u001b[K\n",
            "remote: Counting objects: 100% (81/81), done.\u001b[K\n",
            "remote: Compressing objects: 100% (56/56), done.\u001b[K\n",
            "remote: Total 81 (delta 25), reused 74 (delta 23), pack-reused 0\u001b[K\n",
            "Receiving objects: 100% (81/81), 40.05 MiB | 5.97 MiB/s, done.\n",
            "Resolving deltas: 100% (25/25), done.\n"
          ]
        }
      ],
      "source": [
        "# uncomment the code below to clone the data\n",
        "# ! git clone https://github.com/ParsProgrammer/ERS.git"
      ]
    },
    {
      "cell_type": "markdown",
      "metadata": {},
      "source": [
        "# **Packages**"
      ]
    },
    {
      "cell_type": "code",
      "execution_count": 1,
      "metadata": {
        "colab": {
          "base_uri": "https://localhost:8080/"
        },
        "id": "xrzVYQNxJm_W",
        "outputId": "8f98d417-6c2d-47ff-a041-84238103eba9"
      },
      "outputs": [],
      "source": [
        "%pip install tensorflow-gpu==2.9\n",
        "%pip install tensorflow-text"
      ]
    },
    {
      "cell_type": "code",
      "execution_count": 2,
      "metadata": {
        "id": "BTOV54y-ckzq"
      },
      "outputs": [],
      "source": [
        "import tensorflow as tf\n",
        "import tensorflow_text as tf_text"
      ]
    },
    {
      "cell_type": "code",
      "execution_count": 3,
      "metadata": {},
      "outputs": [],
      "source": [
        "%pip install matplotlib"
      ]
    },
    {
      "cell_type": "code",
      "execution_count": 4,
      "metadata": {
        "id": "1u4wpNQOEUc9"
      },
      "outputs": [],
      "source": [
        "import pandas as pd\n",
        "import gzip\n",
        "import gc\n",
        "import numpy as np\n",
        "from tensorflow import keras\n",
        "from sklearn.model_selection import KFold\n",
        "import datetime \n",
        "import os\n",
        "import matplotlib.pyplot as plt\n"
      ]
    },
    {
      "cell_type": "code",
      "execution_count": 5,
      "metadata": {
        "colab": {
          "base_uri": "https://localhost:8080/"
        },
        "id": "HTkARkSuo9PR",
        "outputId": "8548446d-69cd-4727-8b8f-851569dd33d5"
      },
      "outputs": [],
      "source": [
        "%pip install gensim==4.2\n",
        "%pip install nltk"
      ]
    },
    {
      "cell_type": "code",
      "execution_count": 6,
      "metadata": {},
      "outputs": [],
      "source": [
        "from gensim.models import Word2Vec\n",
        "from gensim.models import KeyedVectors\n",
        "import gensim.downloader as api\n",
        "from nltk.tokenize import sent_tokenize, word_tokenize\n"
      ]
    },
    {
      "cell_type": "code",
      "execution_count": 7,
      "metadata": {
        "colab": {
          "base_uri": "https://localhost:8080/"
        },
        "id": "NnDuJU4fpMLE",
        "outputId": "ecfd7d10-b929-43ce-cd99-0e2213f4e376"
      },
      "outputs": [
        {
          "name": "stderr",
          "output_type": "stream",
          "text": [
            "[nltk_data] Downloading package punkt to /home/mobin/nltk_data...\n",
            "[nltk_data]   Package punkt is already up-to-date!\n"
          ]
        },
        {
          "data": {
            "text/plain": [
              "True"
            ]
          },
          "execution_count": 7,
          "metadata": {},
          "output_type": "execute_result"
        }
      ],
      "source": [
        "import nltk\n",
        "nltk.download('punkt')"
      ]
    },
    {
      "cell_type": "code",
      "execution_count": 8,
      "metadata": {},
      "outputs": [
        {
          "name": "stderr",
          "output_type": "stream",
          "text": [
            "2022-11-22 08:29:30.912394: I tensorflow/stream_executor/cuda/cuda_gpu_executor.cc:975] successful NUMA node read from SysFS had negative value (-1), but there must be at least one NUMA node, so returning NUMA node zero\n",
            "2022-11-22 08:29:30.984280: I tensorflow/stream_executor/cuda/cuda_gpu_executor.cc:975] successful NUMA node read from SysFS had negative value (-1), but there must be at least one NUMA node, so returning NUMA node zero\n",
            "2022-11-22 08:29:30.984456: I tensorflow/stream_executor/cuda/cuda_gpu_executor.cc:975] successful NUMA node read from SysFS had negative value (-1), but there must be at least one NUMA node, so returning NUMA node zero\n",
            "2022-11-22 08:29:30.986047: I tensorflow/core/platform/cpu_feature_guard.cc:193] This TensorFlow binary is optimized with oneAPI Deep Neural Network Library (oneDNN) to use the following CPU instructions in performance-critical operations:  AVX2 FMA\n",
            "To enable them in other operations, rebuild TensorFlow with the appropriate compiler flags.\n",
            "2022-11-22 08:29:30.987597: I tensorflow/stream_executor/cuda/cuda_gpu_executor.cc:975] successful NUMA node read from SysFS had negative value (-1), but there must be at least one NUMA node, so returning NUMA node zero\n",
            "2022-11-22 08:29:30.987755: I tensorflow/stream_executor/cuda/cuda_gpu_executor.cc:975] successful NUMA node read from SysFS had negative value (-1), but there must be at least one NUMA node, so returning NUMA node zero\n",
            "2022-11-22 08:29:30.987861: I tensorflow/stream_executor/cuda/cuda_gpu_executor.cc:975] successful NUMA node read from SysFS had negative value (-1), but there must be at least one NUMA node, so returning NUMA node zero\n",
            "2022-11-22 08:29:31.431220: I tensorflow/stream_executor/cuda/cuda_gpu_executor.cc:975] successful NUMA node read from SysFS had negative value (-1), but there must be at least one NUMA node, so returning NUMA node zero\n",
            "2022-11-22 08:29:31.431392: I tensorflow/stream_executor/cuda/cuda_gpu_executor.cc:975] successful NUMA node read from SysFS had negative value (-1), but there must be at least one NUMA node, so returning NUMA node zero\n",
            "2022-11-22 08:29:31.431516: I tensorflow/stream_executor/cuda/cuda_gpu_executor.cc:975] successful NUMA node read from SysFS had negative value (-1), but there must be at least one NUMA node, so returning NUMA node zero\n",
            "2022-11-22 08:29:31.431849: I tensorflow/core/common_runtime/gpu/gpu_device.cc:1532] Created device /job:localhost/replica:0/task:0/device:GPU:0 with 2132 MB memory:  -> device: 0, name: NVIDIA GeForce RTX 3050 Laptop GPU, pci bus id: 0000:01:00.0, compute capability: 8.6\n"
          ]
        },
        {
          "name": "stdout",
          "output_type": "stream",
          "text": [
            "1 Physical GPUs, 1 Logical GPUs\n"
          ]
        }
      ],
      "source": [
        "gpus = tf.config.list_physical_devices('GPU')\n",
        "if gpus:\n",
        "  try:\n",
        "    # Currently, memory growth needs to be the same across GPUs\n",
        "    for gpu in gpus:\n",
        "      tf.config.experimental.set_memory_growth(gpu, True)\n",
        "    logical_gpus = tf.config.list_logical_devices('GPU')\n",
        "    print(len(gpus), \"Physical GPUs,\", len(logical_gpus), \"Logical GPUs\")\n",
        "  except RuntimeError as e:\n",
        "    # Memory growth must be set before GPUs have been initialized\n",
        "    print(e)"
      ]
    },
    {
      "cell_type": "code",
      "execution_count": 9,
      "metadata": {},
      "outputs": [],
      "source": [
        "%pip install tensorboard\n",
        "%pip install -U tensorboard_plugin_profile"
      ]
    },
    {
      "cell_type": "markdown",
      "metadata": {
        "id": "DyypFCrlw2SV"
      },
      "source": [
        "# **Data Extraction**"
      ]
    },
    {
      "cell_type": "code",
      "execution_count": 11,
      "metadata": {
        "id": "p7IbgFIxRQb-"
      },
      "outputs": [],
      "source": [
        "def parse(path):\n",
        "  g = gzip.open(path, 'rb')\n",
        "  for l in g:\n",
        "    name=b'\"verified\": \\\"true\\\",'\n",
        "    l=l.replace(b'\"verified\": true,',bytes(name))\n",
        "    name1=b'\"verified\": \\\"false\\\",'\n",
        "    l=l.replace(b'\"verified\": false,',bytes(name))\n",
        "    yield eval(l)\n",
        "\n",
        "def getDF(path):\n",
        "  i = 0\n",
        "  df = {}\n",
        "  for d in parse(path):\n",
        "    df[i] = d\n",
        "    i += 1\n",
        "  return pd.DataFrame.from_dict(df, orient='index')\n",
        "\n",
        "df = getDF('reviews_Grocery_and_Gourmet_Food_5.json.gz')\n",
        "\n",
        "# dataset link\n",
        "# Grocery and Gourmet Food\n",
        "# https://jmcauley.ucsd.edu/data/amazon/"
      ]
    },
    {
      "cell_type": "markdown",
      "metadata": {
        "id": "_auxwvSRYsvu"
      },
      "source": [
        "Dataset Schema"
      ]
    },
    {
      "cell_type": "code",
      "execution_count": 12,
      "metadata": {
        "colab": {
          "base_uri": "https://localhost:8080/",
          "height": 1000
        },
        "id": "E9FGFZINRQOn",
        "outputId": "0dad1216-9ec6-4528-fa44-32ab26a94602"
      },
      "outputs": [
        {
          "data": {
            "text/html": [
              "<div>\n",
              "<style scoped>\n",
              "    .dataframe tbody tr th:only-of-type {\n",
              "        vertical-align: middle;\n",
              "    }\n",
              "\n",
              "    .dataframe tbody tr th {\n",
              "        vertical-align: top;\n",
              "    }\n",
              "\n",
              "    .dataframe thead th {\n",
              "        text-align: right;\n",
              "    }\n",
              "</style>\n",
              "<table border=\"1\" class=\"dataframe\">\n",
              "  <thead>\n",
              "    <tr style=\"text-align: right;\">\n",
              "      <th></th>\n",
              "      <th>userID</th>\n",
              "      <th>itemID</th>\n",
              "      <th>reviewText</th>\n",
              "      <th>rating</th>\n",
              "    </tr>\n",
              "  </thead>\n",
              "  <tbody>\n",
              "    <tr>\n",
              "      <th>0</th>\n",
              "      <td>A1VEELTKS8NLZB</td>\n",
              "      <td>616719923X</td>\n",
              "      <td>Just another flavor of Kit Kat but the taste i...</td>\n",
              "      <td>4.0</td>\n",
              "    </tr>\n",
              "    <tr>\n",
              "      <th>1</th>\n",
              "      <td>A14R9XMZVJ6INB</td>\n",
              "      <td>616719923X</td>\n",
              "      <td>I bought this on impulse and it comes from Jap...</td>\n",
              "      <td>3.0</td>\n",
              "    </tr>\n",
              "    <tr>\n",
              "      <th>2</th>\n",
              "      <td>A27IQHDZFQFNGG</td>\n",
              "      <td>616719923X</td>\n",
              "      <td>Really good. Great gift for any fan of green t...</td>\n",
              "      <td>4.0</td>\n",
              "    </tr>\n",
              "    <tr>\n",
              "      <th>3</th>\n",
              "      <td>A31QY5TASILE89</td>\n",
              "      <td>616719923X</td>\n",
              "      <td>I had never had it before, was curious to see ...</td>\n",
              "      <td>5.0</td>\n",
              "    </tr>\n",
              "    <tr>\n",
              "      <th>4</th>\n",
              "      <td>A2LWK003FFMCI5</td>\n",
              "      <td>616719923X</td>\n",
              "      <td>I've been looking forward to trying these afte...</td>\n",
              "      <td>4.0</td>\n",
              "    </tr>\n",
              "    <tr>\n",
              "      <th>...</th>\n",
              "      <td>...</td>\n",
              "      <td>...</td>\n",
              "      <td>...</td>\n",
              "      <td>...</td>\n",
              "    </tr>\n",
              "    <tr>\n",
              "      <th>151249</th>\n",
              "      <td>A2L6QS8SVHT9RG</td>\n",
              "      <td>B00KCJRVO2</td>\n",
              "      <td>Delicious gluten-free oatmeal: we tried both t...</td>\n",
              "      <td>4.0</td>\n",
              "    </tr>\n",
              "    <tr>\n",
              "      <th>151250</th>\n",
              "      <td>AFJFXN42RZ3G2</td>\n",
              "      <td>B00KCJRVO2</td>\n",
              "      <td>With the many selections of instant oatmeal ce...</td>\n",
              "      <td>4.0</td>\n",
              "    </tr>\n",
              "    <tr>\n",
              "      <th>151251</th>\n",
              "      <td>ASEBX8TBYWQWA</td>\n",
              "      <td>B00KCJRVO2</td>\n",
              "      <td>While I usually review CDs and DVDs, as well a...</td>\n",
              "      <td>5.0</td>\n",
              "    </tr>\n",
              "    <tr>\n",
              "      <th>151252</th>\n",
              "      <td>ANKQGTXHREOI5</td>\n",
              "      <td>B00KCJRVO2</td>\n",
              "      <td>My son and I enjoyed these oatmeal packets.  H...</td>\n",
              "      <td>4.0</td>\n",
              "    </tr>\n",
              "    <tr>\n",
              "      <th>151253</th>\n",
              "      <td>A2CF66KIQ3RKX3</td>\n",
              "      <td>B00KCJRVO2</td>\n",
              "      <td>I like to eat oatmeal i the mornings. I usuall...</td>\n",
              "      <td>4.0</td>\n",
              "    </tr>\n",
              "  </tbody>\n",
              "</table>\n",
              "<p>151254 rows × 4 columns</p>\n",
              "</div>"
            ],
            "text/plain": [
              "                userID      itemID  \\\n",
              "0       A1VEELTKS8NLZB  616719923X   \n",
              "1       A14R9XMZVJ6INB  616719923X   \n",
              "2       A27IQHDZFQFNGG  616719923X   \n",
              "3       A31QY5TASILE89  616719923X   \n",
              "4       A2LWK003FFMCI5  616719923X   \n",
              "...                ...         ...   \n",
              "151249  A2L6QS8SVHT9RG  B00KCJRVO2   \n",
              "151250   AFJFXN42RZ3G2  B00KCJRVO2   \n",
              "151251   ASEBX8TBYWQWA  B00KCJRVO2   \n",
              "151252   ANKQGTXHREOI5  B00KCJRVO2   \n",
              "151253  A2CF66KIQ3RKX3  B00KCJRVO2   \n",
              "\n",
              "                                               reviewText  rating  \n",
              "0       Just another flavor of Kit Kat but the taste i...     4.0  \n",
              "1       I bought this on impulse and it comes from Jap...     3.0  \n",
              "2       Really good. Great gift for any fan of green t...     4.0  \n",
              "3       I had never had it before, was curious to see ...     5.0  \n",
              "4       I've been looking forward to trying these afte...     4.0  \n",
              "...                                                   ...     ...  \n",
              "151249  Delicious gluten-free oatmeal: we tried both t...     4.0  \n",
              "151250  With the many selections of instant oatmeal ce...     4.0  \n",
              "151251  While I usually review CDs and DVDs, as well a...     5.0  \n",
              "151252  My son and I enjoyed these oatmeal packets.  H...     4.0  \n",
              "151253  I like to eat oatmeal i the mornings. I usuall...     4.0  \n",
              "\n",
              "[151254 rows x 4 columns]"
            ]
          },
          "execution_count": 12,
          "metadata": {},
          "output_type": "execute_result"
        }
      ],
      "source": [
        "df.rename(columns={\"reviewerID\": \"userID\", \"asin\": \"itemID\",\"overall\":\"rating\"},inplace=True)\n",
        "df=df[['userID','itemID','reviewText','rating']]\n",
        "df"
      ]
    },
    {
      "cell_type": "markdown",
      "metadata": {},
      "source": [
        "# **Data Splitting**"
      ]
    },
    {
      "cell_type": "code",
      "execution_count": 13,
      "metadata": {},
      "outputs": [
        {
          "name": "stdout",
          "output_type": "stream",
          "text": [
            "[ 15126  15127  15128 ... 151251 151252 151253] 136128\n",
            "[     0      1      2 ... 151251 151252 151253] 136128\n",
            "[     0      1      2 ... 151251 151252 151253] 136128\n",
            "[     0      1      2 ... 151251 151252 151253] 136128\n",
            "[     0      1      2 ... 151251 151252 151253] 136129\n",
            "[     0      1      2 ... 151251 151252 151253] 136129\n",
            "[     0      1      2 ... 151251 151252 151253] 136129\n",
            "[     0      1      2 ... 151251 151252 151253] 136129\n",
            "[     0      1      2 ... 151251 151252 151253] 136129\n",
            "[     0      1      2 ... 136126 136127 136128] 136129\n"
          ]
        }
      ],
      "source": [
        "current_fold=10\n",
        "kfold = KFold(10)\n",
        "random_iterator=kfold.split(df)\n",
        "for i in range(current_fold):\n",
        "  train_index, test_index = next(random_iterator, None)\n",
        "  print(train_index,len(train_index))\n",
        "  train_df, test_df =df.iloc[train_index], df.iloc[test_index]\n"
      ]
    },
    {
      "cell_type": "code",
      "execution_count": 14,
      "metadata": {},
      "outputs": [
        {
          "data": {
            "text/html": [
              "<div>\n",
              "<style scoped>\n",
              "    .dataframe tbody tr th:only-of-type {\n",
              "        vertical-align: middle;\n",
              "    }\n",
              "\n",
              "    .dataframe tbody tr th {\n",
              "        vertical-align: top;\n",
              "    }\n",
              "\n",
              "    .dataframe thead th {\n",
              "        text-align: right;\n",
              "    }\n",
              "</style>\n",
              "<table border=\"1\" class=\"dataframe\">\n",
              "  <thead>\n",
              "    <tr style=\"text-align: right;\">\n",
              "      <th></th>\n",
              "      <th>userID</th>\n",
              "      <th>itemID</th>\n",
              "      <th>reviewText</th>\n",
              "      <th>rating</th>\n",
              "    </tr>\n",
              "  </thead>\n",
              "  <tbody>\n",
              "    <tr>\n",
              "      <th>0</th>\n",
              "      <td>A1VEELTKS8NLZB</td>\n",
              "      <td>616719923X</td>\n",
              "      <td>Just another flavor of Kit Kat but the taste i...</td>\n",
              "      <td>4.0</td>\n",
              "    </tr>\n",
              "    <tr>\n",
              "      <th>1</th>\n",
              "      <td>A14R9XMZVJ6INB</td>\n",
              "      <td>616719923X</td>\n",
              "      <td>I bought this on impulse and it comes from Jap...</td>\n",
              "      <td>3.0</td>\n",
              "    </tr>\n",
              "    <tr>\n",
              "      <th>2</th>\n",
              "      <td>A27IQHDZFQFNGG</td>\n",
              "      <td>616719923X</td>\n",
              "      <td>Really good. Great gift for any fan of green t...</td>\n",
              "      <td>4.0</td>\n",
              "    </tr>\n",
              "    <tr>\n",
              "      <th>3</th>\n",
              "      <td>A31QY5TASILE89</td>\n",
              "      <td>616719923X</td>\n",
              "      <td>I had never had it before, was curious to see ...</td>\n",
              "      <td>5.0</td>\n",
              "    </tr>\n",
              "    <tr>\n",
              "      <th>4</th>\n",
              "      <td>A2LWK003FFMCI5</td>\n",
              "      <td>616719923X</td>\n",
              "      <td>I've been looking forward to trying these afte...</td>\n",
              "      <td>4.0</td>\n",
              "    </tr>\n",
              "    <tr>\n",
              "      <th>...</th>\n",
              "      <td>...</td>\n",
              "      <td>...</td>\n",
              "      <td>...</td>\n",
              "      <td>...</td>\n",
              "    </tr>\n",
              "    <tr>\n",
              "      <th>136124</th>\n",
              "      <td>A74CGCGJ11Y23</td>\n",
              "      <td>B009M516NE</td>\n",
              "      <td>I've made rice pilaf from scratch. I've also t...</td>\n",
              "      <td>4.0</td>\n",
              "    </tr>\n",
              "    <tr>\n",
              "      <th>136125</th>\n",
              "      <td>A36MP37DITBU6F</td>\n",
              "      <td>B009M516NE</td>\n",
              "      <td>This is a slightly mild flavored rice pilaf. t...</td>\n",
              "      <td>4.0</td>\n",
              "    </tr>\n",
              "    <tr>\n",
              "      <th>136126</th>\n",
              "      <td>A1JBBR4MNGQ70G</td>\n",
              "      <td>B009M516NE</td>\n",
              "      <td>I added a package of Albacore tuna to this mix...</td>\n",
              "      <td>3.0</td>\n",
              "    </tr>\n",
              "    <tr>\n",
              "      <th>136127</th>\n",
              "      <td>A2P739KOM4U5JB</td>\n",
              "      <td>B009M516NE</td>\n",
              "      <td>I am happy to report that Side Mates were grea...</td>\n",
              "      <td>4.0</td>\n",
              "    </tr>\n",
              "    <tr>\n",
              "      <th>136128</th>\n",
              "      <td>AT53ZTTO707MB</td>\n",
              "      <td>B009M516NE</td>\n",
              "      <td>This was a nice combo of rice, pasta and herbs...</td>\n",
              "      <td>3.0</td>\n",
              "    </tr>\n",
              "  </tbody>\n",
              "</table>\n",
              "<p>136129 rows × 4 columns</p>\n",
              "</div>"
            ],
            "text/plain": [
              "                userID      itemID  \\\n",
              "0       A1VEELTKS8NLZB  616719923X   \n",
              "1       A14R9XMZVJ6INB  616719923X   \n",
              "2       A27IQHDZFQFNGG  616719923X   \n",
              "3       A31QY5TASILE89  616719923X   \n",
              "4       A2LWK003FFMCI5  616719923X   \n",
              "...                ...         ...   \n",
              "136124   A74CGCGJ11Y23  B009M516NE   \n",
              "136125  A36MP37DITBU6F  B009M516NE   \n",
              "136126  A1JBBR4MNGQ70G  B009M516NE   \n",
              "136127  A2P739KOM4U5JB  B009M516NE   \n",
              "136128   AT53ZTTO707MB  B009M516NE   \n",
              "\n",
              "                                               reviewText  rating  \n",
              "0       Just another flavor of Kit Kat but the taste i...     4.0  \n",
              "1       I bought this on impulse and it comes from Jap...     3.0  \n",
              "2       Really good. Great gift for any fan of green t...     4.0  \n",
              "3       I had never had it before, was curious to see ...     5.0  \n",
              "4       I've been looking forward to trying these afte...     4.0  \n",
              "...                                                   ...     ...  \n",
              "136124  I've made rice pilaf from scratch. I've also t...     4.0  \n",
              "136125  This is a slightly mild flavored rice pilaf. t...     4.0  \n",
              "136126  I added a package of Albacore tuna to this mix...     3.0  \n",
              "136127  I am happy to report that Side Mates were grea...     4.0  \n",
              "136128  This was a nice combo of rice, pasta and herbs...     3.0  \n",
              "\n",
              "[136129 rows x 4 columns]"
            ]
          },
          "execution_count": 14,
          "metadata": {},
          "output_type": "execute_result"
        }
      ],
      "source": [
        "train_df"
      ]
    },
    {
      "cell_type": "markdown",
      "metadata": {
        "id": "gYb9dMRLXjZT"
      },
      "source": [
        "# **Data Analysis**"
      ]
    },
    {
      "cell_type": "markdown",
      "metadata": {
        "id": "6yY4NJsolgtl"
      },
      "source": [
        "**User Data**"
      ]
    },
    {
      "cell_type": "markdown",
      "metadata": {
        "id": "g9kPFQ1GJr_I"
      },
      "source": [
        "determining all unique users with their reviews and ratings"
      ]
    },
    {
      "cell_type": "code",
      "execution_count": 15,
      "metadata": {
        "colab": {
          "base_uri": "https://localhost:8080/",
          "height": 609
        },
        "id": "l_eSbOjWRQD3",
        "outputId": "63fd7abe-5957-46a2-aa85-8ca3721bdec5"
      },
      "outputs": [
        {
          "name": "stderr",
          "output_type": "stream",
          "text": [
            "/home/mobin/anaconda3/envs/colabenv/lib/python3.7/site-packages/ipykernel_launcher.py:2: FutureWarning: Indexing with multiple keys (implicitly converted to a tuple of keys) will be deprecated, use a list instead.\n",
            "  \n"
          ]
        }
      ],
      "source": [
        "user_df=df[['userID','reviewText','rating']].groupby('userID')['rating','reviewText'].apply(lambda x: pd.Series([list(x['reviewText']),list(x['rating'])],index=['reviewText', 'rating'])).reset_index()\n",
        "user_df"
      ]
    },
    {
      "cell_type": "code",
      "execution_count": 16,
      "metadata": {
        "colab": {
          "base_uri": "https://localhost:8080/"
        },
        "id": "frXwp0g9RxQa",
        "outputId": "e64ec82c-1531-4930-aa50-9666b627ee3b"
      },
      "outputs": [
        {
          "name": "stdout",
          "output_type": "stream",
          "text": [
            "['It is a good stand by coffee you can count on.  I would reley on it for the daily use catagory.', 'I like the &#34;wake up&#34; factor of this blend.  I could drink it all day long and never get tired of it.', 'I am pleased with the brew, but not enthused.  I have had better for the price, but its ok. Thats it', 'Much better than the Daybreak blend.  Much Bolder taste and better richness.  Could be a lil fresher though.  I would buy it again at lower price.', 'ypiuy y yu 8t 8t o t875t9t uf5o g r6  t9 t7r rf8y0[8uyr  d8oy p0t8y 897 77u7td8t 7t 7ty yr f8', 'It is an ok tea,not the best or worst.  It seems a lil weak if you ask me.  I wish it had a stronger taste!', 'I really went through this off brand coffee.  I found it in the corner of the site,give it a try!It is a great value,and will get it in the future.', 'Impressed with the price and taste of this coffee.  I also like the lower price compared with the competition. Winner!', 'I love the packaging and brew of this coffee.  Yes works great in the Keurig.  I like the organic brew.  Certainly taste the difference!', 'I really like this coffee.  It has a very unique taste ,and comes in a heavy box,which I like how it is dispensed.', 'Love the packaging of this coffee. Seems to brew just fine with the Keurig.  I think it has a great taste and should be part of my norm.  Hope others will support organic coffee! (-:', 'I received this coffee for the first time.  Has a good full flavor and peps you up! I will but on some Raggie and jam on it!', 'Its ok, not much of a choc kinda freak. Not my cup of tea really.  Might be asking the wrong person.']\n",
            "[5.0, 5.0, 4.0, 4.0, 5.0, 3.0, 4.0, 5.0, 5.0, 5.0, 5.0, 4.0, 3.0]\n"
          ]
        }
      ],
      "source": [
        "print(user_df['reviewText'][0])\n",
        "print(user_df['rating'][0])\n",
        "# user_df.loc[0][1] --->the same as above code"
      ]
    },
    {
      "cell_type": "markdown",
      "metadata": {
        "id": "ReAbgOc7q3Tp"
      },
      "source": [
        "**Item Data**"
      ]
    },
    {
      "cell_type": "markdown",
      "metadata": {
        "id": "arvKphT7KCTg"
      },
      "source": [
        "determining all unique items with their reviews and ratings"
      ]
    },
    {
      "cell_type": "code",
      "execution_count": 17,
      "metadata": {
        "colab": {
          "base_uri": "https://localhost:8080/",
          "height": 478
        },
        "id": "qAjW8mmJq9Cj",
        "outputId": "e03f94a0-8923-417b-c9c0-fd8cd33ea676"
      },
      "outputs": [
        {
          "name": "stderr",
          "output_type": "stream",
          "text": [
            "/home/mobin/anaconda3/envs/colabenv/lib/python3.7/site-packages/ipykernel_launcher.py:3: FutureWarning: Indexing with multiple keys (implicitly converted to a tuple of keys) will be deprecated, use a list instead.\n",
            "  This is separate from the ipykernel package so we can avoid doing imports until\n"
          ]
        }
      ],
      "source": [
        "item_df=df[['itemID','reviewText','rating']].groupby('itemID')['reviewText','rating'].apply(lambda x: pd.Series([list(x['reviewText']),list(x['rating'])],index=['reviewText', 'rating'])).reset_index()\n",
        "item_df"
      ]
    },
    {
      "cell_type": "code",
      "execution_count": 18,
      "metadata": {
        "colab": {
          "base_uri": "https://localhost:8080/"
        },
        "id": "QOAi0ySLrPhl",
        "outputId": "ac4f63bb-b40f-4f78-8f8a-5af36423755f"
      },
      "outputs": [
        {
          "name": "stdout",
          "output_type": "stream",
          "text": [
            "['Just another flavor of Kit Kat but the taste is unique and a bit different.  The only thing that is bothersome is the price.  I thought it was a bit expensive....', \"I bought this on impulse and it comes from Japan,  which amused my family,  all those weird stamps and markings on the package. So that was fun.  It said it would take about a month to arrive and it did take that long.  I was hoping for a more interesting taste but to our family,  it just tasted a bit less flavorful or weaker than the standard milk chocolate kit kat.  The green tea flavor was too subtle for the sugar and it just tasted sweet. The wafers were very crispy, and that was good,  but it tasted a bit anemic to us.I'm happy I bought it, but don't need to buy it again.\", 'Really good. Great gift for any fan of green tea! Just so expensive to purchase candy from across the sea.', 'I had never had it before, was curious to see what it was like. Smooth, great subtle good flavor. I am ordering more and plan to make it a routine.', \"I've been looking forward to trying these after hearing about how popular they were in Japan, and among Kit Kat fans as well. I do not recommend ordering these during warm weather, because they can melt and become smushy. I ordered mine right when summer began, and they were a bit mushy so I let them solidify under room temp. Afterwards, I tried some and they tasted fine. I was expecting a stronger green tea or matcha flavor, but it is actually quite subtle. The outer coating was creamy and not overly sugary, which I liked. Overall, I wouldn't say it's insanely good, but definitely a yummy treat.\", \"These Kit-kats are very good, but if you're looking for a strong green tea flavor- you will be disappointed. The green tea flavor is very subtle.\", 'I found these in a Mitsuwa Marketplace in Illinois.I actually expected them to taste better than the did.  they were okay but seem smaller than standard kit kats and the taste was a tad mild compared to other green tea candies I have tried.But still, they were pleasant enough and nice for a change.', 'Creamy white chocolate infused with Matcha green tea surrounding layers of wafers. Much less sweeter than the traditional Kitkat. Small size is perfect to satisfy the chocolate craving w/o the guilt. Was in LA last week and picked up a bag on a whim at the Japanese store in Little Tokyo. Now, back in WI and regretting not picking up a handful more. Not only were these Kitkats delicious, the bags were only $5 each!', \"After hearing mixed opinions about these Kit Kats, I decided to try them. They are excellent, and I do not regret purchasing them at all. They taste like matcha with a bit of a vanilla and milky flavor as well. They are not too sweet or too plain. These are the best Kit Kats I've ever had, and I would recommend them to anyone who likes matcha-flavored candies or anyone wanting to try an unusual kind of Kit Kat.\", 'I love green tea, I love Kit Kats, but the two do not belong together. I hate the after taste of them.', 'I ordered these in Summer so they of course arrived melted, a trip the freezer made them awesome again though. Just order them in cooler times of the year and you should get them in good condition.I love these so much more than the regular chocolate Kit-Kat bars. I hope some day to see them on store shelves in the US some day.', 'These are definitely THE BEST candy bar out there!  I just wish I was able to find them in a local store instead of having to buy them online!', \"Yes - this is one of the most expensive candies around, because it only comes imported. But my goodness - are these ever good. The KitKat folks could really clean up if they started selling these in the US. Once you try them you can't wait for more. So yummy and delivered quickly and fresh.\", 'I love the green tea kitkat, taste so good, not as sweet as the milk chocolate one, and it comes with 12 small pack, easy to keep on a diet, i love this one and the dark chocolate one!', \"I love Kit Kat & green tea....together they are okay.  Nothing to get excited about.  I wouldn't order this again.\", \"I tried this for the first time today and it is delicious but I don't quite taste the Matcha flavor as you would in like say a Green Tea ice cream. To me it tasted like white chocolate with a grainy texture which I'm guessing is the Matcha tea powder. I think my favorite KitKat flavor mix is the Mocha.\"]\n",
            "[4.0, 3.0, 4.0, 5.0, 4.0, 4.0, 3.0, 5.0, 5.0, 1.0, 5.0, 5.0, 5.0, 5.0, 3.0, 4.0]\n"
          ]
        }
      ],
      "source": [
        "print(item_df['reviewText'][0])\n",
        "print(item_df['rating'][0])\n",
        "# item_df.loc[0][1] --->the same as above code"
      ]
    },
    {
      "cell_type": "markdown",
      "metadata": {
        "id": "jCekVFHgXtom"
      },
      "source": [
        "##   Ratings"
      ]
    },
    {
      "cell_type": "code",
      "execution_count": 19,
      "metadata": {
        "colab": {
          "base_uri": "https://localhost:8080/",
          "height": 441
        },
        "id": "cZb_XiBoGHSa",
        "outputId": "f1cb72ea-8d50-467a-d412-92d75a9d167e"
      },
      "outputs": [
        {
          "data": {
            "text/plain": [
              "count    151254.000000\n",
              "mean          4.243042\n",
              "std           1.090003\n",
              "min           1.000000\n",
              "25%           4.000000\n",
              "50%           5.000000\n",
              "75%           5.000000\n",
              "max           5.000000\n",
              "Name: rating, dtype: float64"
            ]
          },
          "execution_count": 19,
          "metadata": {},
          "output_type": "execute_result"
        },
        {
          "data": {
            "image/png": "[encoded data removed]",
            "text/plain": [
              "<Figure size 432x288 with 1 Axes>"
            ]
          },
          "metadata": {
            "needs_background": "light"
          },
          "output_type": "display_data"
        }
      ],
      "source": [
        "df.groupby('rating').size().plot(kind=\"bar\");\n",
        "df['rating'].describe()\n",
        "#histogram of ratings"
      ]
    },
    {
      "cell_type": "code",
      "execution_count": 20,
      "metadata": {
        "colab": {
          "base_uri": "https://localhost:8080/",
          "height": 367
        },
        "id": "hPn4ftb2vqn-",
        "outputId": "91fde917-2de7-4a70-ea94-2e4ae376ea5a"
      },
      "outputs": [
        {
          "data": {
            "image/png": "[encoded data removed]",
            "text/plain": [
              "<Figure size 1152x432 with 1 Axes>"
            ]
          },
          "metadata": {
            "needs_background": "light"
          },
          "output_type": "display_data"
        }
      ],
      "source": [
        "user_means=user_df.rating.apply(lambda x: np.mean(x))\n",
        "user_means[:50].plot(kind=\"bar\", grid=False, figsize=(16, 6), title=\"Mean ratings for 50 users\");"
      ]
    },
    {
      "cell_type": "code",
      "execution_count": 21,
      "metadata": {
        "colab": {
          "base_uri": "https://localhost:8080/",
          "height": 204
        },
        "id": "ZuVzD2bTv4iE",
        "outputId": "8533423d-08da-4eeb-c78b-51397de9ecff"
      },
      "outputs": [
        {
          "data": {
            "image/png": "[encoded data removed]",
            "text/plain": [
              "<Figure size 2304x432 with 2 Axes>"
            ]
          },
          "metadata": {
            "needs_background": "light"
          },
          "output_type": "display_data"
        }
      ],
      "source": [
        "fig, (ax1, ax2) = plt.subplots(ncols=2, figsize=(32,6), sharey=True)\n",
        "user_means.nlargest(50).plot(kind=\"bar\", ax=ax1, title=\"Top 50 users in data set\")\n",
        "user_means.nsmallest(50).plot(kind=\"bar\", ax=ax2, title=\"Bottom 50 users in data set\");"
      ]
    },
    {
      "cell_type": "code",
      "execution_count": 22,
      "metadata": {
        "colab": {
          "base_uri": "https://localhost:8080/",
          "height": 300
        },
        "id": "FChjMJ0MvtiU",
        "outputId": "81b5374f-986d-4079-8cb6-a99614f56d4c"
      },
      "outputs": [
        {
          "data": {
            "text/plain": [
              "[<matplotlib.lines.Line2D at 0x7f4402097c50>]"
            ]
          },
          "execution_count": 22,
          "metadata": {},
          "output_type": "execute_result"
        },
        {
          "data": {
            "image/png": "[encoded data removed]",
            "text/plain": [
              "<Figure size 1440x432 with 1 Axes>"
            ]
          },
          "metadata": {
            "needs_background": "light"
          },
          "output_type": "display_data"
        }
      ],
      "source": [
        "user_means = df.groupby(\"userID\").rating.mean().sort_values()\n",
        "_, ax = plt.subplots(figsize=(20, 6))\n",
        "ax.plot(np.arange(len(user_means)), user_means.values, \"k-\")\n"
      ]
    },
    {
      "cell_type": "code",
      "execution_count": 23,
      "metadata": {
        "colab": {
          "base_uri": "https://localhost:8080/",
          "height": 367
        },
        "id": "VQfmX7OwGaRN",
        "outputId": "65757a6a-d630-49fc-a97c-0742c3a1b7a5"
      },
      "outputs": [
        {
          "data": {
            "image/png": "[encoded data removed]",
            "text/plain": [
              "<Figure size 1152x432 with 1 Axes>"
            ]
          },
          "metadata": {
            "needs_background": "light"
          },
          "output_type": "display_data"
        }
      ],
      "source": [
        "item_means=item_df.rating.apply(lambda x: np.mean(x))\n",
        "item_means[:50].plot(kind=\"bar\", grid=False, figsize=(16, 6), title=\"Mean ratings for 50 items\");"
      ]
    },
    {
      "cell_type": "code",
      "execution_count": 24,
      "metadata": {
        "colab": {
          "base_uri": "https://localhost:8080/",
          "height": 201
        },
        "id": "6Dyp-7KeGyoK",
        "outputId": "6d657471-73d2-4291-aa92-49de438f0a59"
      },
      "outputs": [
        {
          "data": {
            "image/png": "[encoded data removed]",
            "text/plain": [
              "<Figure size 2304x432 with 2 Axes>"
            ]
          },
          "metadata": {
            "needs_background": "light"
          },
          "output_type": "display_data"
        }
      ],
      "source": [
        "fig, (ax1, ax2) = plt.subplots(ncols=2, figsize=(32,6), sharey=True)\n",
        "item_means.nlargest(50).plot(kind=\"bar\", ax=ax1, title=\"Top 50 items in data set\")\n",
        "item_means.nsmallest(50).plot(kind=\"bar\", ax=ax2, title=\"Bottom 50 items in data set\");"
      ]
    },
    {
      "cell_type": "markdown",
      "metadata": {
        "id": "IxGLa04uYQRt"
      },
      "source": [
        "## Reviews"
      ]
    },
    {
      "cell_type": "code",
      "execution_count": 25,
      "metadata": {
        "colab": {
          "base_uri": "https://localhost:8080/"
        },
        "id": "z0QEq-vnYohN",
        "outputId": "183d2ce2-65c2-49c9-ca8c-7f216083e4bc"
      },
      "outputs": [
        {
          "data": {
            "text/plain": [
              "count     151254\n",
              "unique    151199\n",
              "top             \n",
              "freq          22\n",
              "Name: reviewText, dtype: object"
            ]
          },
          "execution_count": 25,
          "metadata": {},
          "output_type": "execute_result"
        }
      ],
      "source": [
        "df['reviewText'].describe()"
      ]
    },
    {
      "cell_type": "code",
      "execution_count": 26,
      "metadata": {
        "colab": {
          "base_uri": "https://localhost:8080/",
          "height": 459
        },
        "id": "OLw7n7EcbEKV",
        "outputId": "ffd1376f-19a1-42f2-a991-e490d04d84d4"
      },
      "outputs": [
        {
          "data": {
            "text/plain": [
              "count    151254.000000\n",
              "mean        509.002142\n",
              "std         524.745639\n",
              "min           0.000000\n",
              "25%         191.000000\n",
              "50%         353.000000\n",
              "75%         644.000000\n",
              "max       29569.000000\n",
              "Name: reviewText, dtype: float64"
            ]
          },
          "execution_count": 26,
          "metadata": {},
          "output_type": "execute_result"
        },
        {
          "data": {
            "image/png": "[encoded data removed]",
            "text/plain": [
              "<Figure size 1728x576 with 1 Axes>"
            ]
          },
          "metadata": {
            "needs_background": "light"
          },
          "output_type": "display_data"
        }
      ],
      "source": [
        "# review length\n",
        "rv_le=df['reviewText'].apply(lambda x:len(x) )\n",
        "rv_le.plot(kind='hist',bins=2000,figsize=(24, 8),xlabel=\"length of reviews\")\n",
        "rv_le.describe()\n"
      ]
    },
    {
      "cell_type": "code",
      "execution_count": 27,
      "metadata": {
        "colab": {
          "base_uri": "https://localhost:8080/"
        },
        "id": "LTgNznNQ8aR1",
        "outputId": "3c1809ac-2fc3-4d67-ce83-7253c8687332"
      },
      "outputs": [
        {
          "name": "stdout",
          "output_type": "stream",
          "text": [
            "mean of reviews per user: 10.302704175464887\n",
            "mean of words per review: 509.00214209211\n",
            "mean of words per user: 5244.098494652953\n"
          ]
        }
      ],
      "source": [
        "sum=0\n",
        "sum2=0\n",
        "for x in user_df['reviewText']:\n",
        "  sum+=len(x)\n",
        "  for y in x:\n",
        "   sum2 +=len(y)\n",
        "\n",
        "r_mean=sum/len(user_df['reviewText'])\n",
        "w_mean=sum2/(r_mean*len(user_df['reviewText']))\n",
        "print('mean of reviews per user:', r_mean)\n",
        "print('mean of words per review:', w_mean)\n",
        "print('mean of words per user:',r_mean * w_mean)\n",
        "# plot for reviews per user"
      ]
    },
    {
      "cell_type": "code",
      "execution_count": 28,
      "metadata": {
        "colab": {
          "base_uri": "https://localhost:8080/"
        },
        "id": "Nje_ix7gAaf3",
        "outputId": "c3260e88-aa4f-46f3-aa38-85cbb25e0219"
      },
      "outputs": [
        {
          "name": "stdout",
          "output_type": "stream",
          "text": [
            "mean of reviews per item: 17.359577642603007\n",
            "mean of words per review: 509.00214209211\n",
            "mean of words per item: 8836.062205899232\n"
          ]
        }
      ],
      "source": [
        "sum=0\n",
        "sum2=0\n",
        "for x in item_df['reviewText']:\n",
        "  sum+=len(x)\n",
        "  for y in x:\n",
        "   sum2 +=len(y)\n",
        "\n",
        "r_mean=sum/len(item_df['reviewText'])\n",
        "w_mean=sum2/(r_mean*len(item_df['reviewText']))\n",
        "print('mean of reviews per item:', r_mean)\n",
        "print('mean of words per review:', w_mean)\n",
        "print('mean of words per item:',r_mean * w_mean)"
      ]
    },
    {
      "cell_type": "markdown",
      "metadata": {
        "id": "IvMysaUvxxU3"
      },
      "source": [
        "# **Embedding Matrix**"
      ]
    },
    {
      "cell_type": "code",
      "execution_count": 29,
      "metadata": {
        "id": "WovD0fA5q-J6"
      },
      "outputs": [],
      "source": [
        "# hyperparameters\n",
        "embedding_dim=300\n",
        "min_frequent_word_num=50\n",
        "max_vocab_size=5000"
      ]
    },
    {
      "cell_type": "code",
      "execution_count": 30,
      "metadata": {},
      "outputs": [],
      "source": [
        "def load_word2vec_model():\n",
        "    if os.path.exists(\"word2vec.wordvectors\"):\n",
        "        print(\"loaded from word2vec.wordvectors\")\n",
        "        return KeyedVectors.load(\"word2vec.wordvectors\",mmap='r')\n",
        "    else:\n",
        "        # downloading google news word2vec model\n",
        "        if not os.path.exists(\"word2vec_google.bin\"):\n",
        "            downloaded_model = api.load('word2vec-google-news-300')\n",
        "            downloaded_model.save_word2vec_format('word2vec_google.bin',binary=True)\n",
        "            del downloaded_model\n",
        "        # loading google news word2vec model\n",
        "        google_word2vec = KeyedVectors.load_word2vec_format(\"word2vec_google.bin\", binary=True)\n",
        "\n",
        "       # tokenizing the whole reviews in text_corpus\n",
        "        text_corpus=[]\n",
        "        for k in range(len(df['reviewText'])):    # iterate through each sentence in the reviews\n",
        "            for i in sent_tokenize(df['reviewText'].loc[k]):\n",
        "                temp = []\n",
        "                # tokenize the sentence into words          \n",
        "                for j in word_tokenize(i):\n",
        "                    temp.append(j.lower())\n",
        "                text_corpus.append(temp)\n",
        "                del temp\n",
        "\n",
        "\n",
        "        # creating a new word2vec model and initializing it from pretrained google_word2vec\n",
        "        word2vec_model=Word2Vec( text_corpus,max_final_vocab=max_vocab_size,min_count=min_frequent_word_num ,vector_size= embedding_dim,window = 1,workers=16, sg=1,epochs=1)\n",
        "        word2vec_model.build_vocab(text_corpus)\n",
        "\n",
        "        word2vec_model.build_vocab([google_word2vec.index_to_key],update=True)\n",
        "        word2vec_model.wv.vectors_lockf = np.ones(len(word2vec_model.wv))\n",
        "        word2vec_model.wv.intersect_word2vec_format(\"word2vec_google.bin\",binary=True,lockf=1.0)\n",
        "        \n",
        "        # fine tuning the model and saving it\n",
        "        word2vec_model.train(text_corpus, epochs=5, total_examples=word2vec_model.corpus_count)\n",
        "        word2vec_model.wv.save(\"word2vec.wordvectors\")\n",
        "        \n",
        "        del google_word2vec\n",
        "        del text_corpus[:]\n",
        "        gc.collect()\n",
        "  \n",
        "        return word2vec_model.wv\n",
        "        "
      ]
    },
    {
      "cell_type": "code",
      "execution_count": 31,
      "metadata": {},
      "outputs": [
        {
          "name": "stdout",
          "output_type": "stream",
          "text": [
            "loaded from word2vec.wordvectors\n"
          ]
        }
      ],
      "source": [
        "# loading the embedding lookup matrix shape=( 5k ,300 )\n",
        "embedding_matrix = load_word2vec_model() "
      ]
    },
    {
      "cell_type": "code",
      "execution_count": 32,
      "metadata": {},
      "outputs": [
        {
          "data": {
            "text/plain": [
              "(5004, 300)"
            ]
          },
          "execution_count": 32,
          "metadata": {},
          "output_type": "execute_result"
        }
      ],
      "source": [
        "special_token_embedding = np.random.rand(4,embedding_matrix.vector_size)\n",
        "full_embedding_matrix = np.concatenate((special_token_embedding,embedding_matrix.vectors))\n",
        "full_embedding_matrix.shape"
      ]
    },
    {
      "cell_type": "code",
      "execution_count": 33,
      "metadata": {},
      "outputs": [],
      "source": [
        "# example\n",
        "# embedding_matrix['keep']"
      ]
    },
    {
      "cell_type": "markdown",
      "metadata": {
        "id": "PVT3Ur54LsIz"
      },
      "source": [
        "# **Text Vectorization**"
      ]
    },
    {
      "cell_type": "markdown",
      "metadata": {
        "id": "N4QVJNF8EGGe"
      },
      "source": [
        "- The conversion of tokens to ids"
      ]
    },
    {
      "cell_type": "code",
      "execution_count": 34,
      "metadata": {
        "id": "Wgb-wnWWozZ3"
      },
      "outputs": [],
      "source": [
        "# hyperparameters\n",
        "review_dec_length=32\n",
        "review_enc_length=48 "
      ]
    },
    {
      "cell_type": "markdown",
      "metadata": {
        "id": "VZ_V0IYdnB2s"
      },
      "source": [
        "## Text Preprocessing"
      ]
    },
    {
      "cell_type": "code",
      "execution_count": 35,
      "metadata": {
        "id": "PP90xBH8aZ2b"
      },
      "outputs": [],
      "source": [
        "def tf_lower_and_split_punct_enc(text):\n",
        "  # Split accecented characters.\n",
        "  text = tf_text.normalize_utf8(text, 'NFKD')\n",
        "  text = tf.strings.lower(text)\n",
        "  # Keep space, a to z, and select punctuation.\n",
        "  text = tf.strings.regex_replace(text, '[^ a-z.?!,¿]', '')\n",
        "  # Add spaces around punctuation.\n",
        "  text = tf.strings.regex_replace(text, '[.?!,¿]', r' \\0 ')\n",
        "  # Strip whitespace.\n",
        "  text = tf.strings.strip(text)\n",
        "  text = tf.strings.join(['[START]', text, '[END]'], separator=' ')\n",
        "\n",
        "  return text\n",
        "\n",
        "def tf_lower_and_split_punct_decin(text):\n",
        "  # Split accecented characters.\n",
        "  text = tf_text.normalize_utf8(text, 'NFKD')\n",
        "  text = tf.strings.lower(text)\n",
        "  # Keep space, a to z, and select punctuation.\n",
        "  text = tf.strings.regex_replace(text, '[^ a-z.?!,¿]', '')\n",
        "  # Add spaces around punctuation.\n",
        "  text = tf.strings.regex_replace(text, '[.?!,¿]', r' \\0 ')\n",
        "  # Strip whitespace.\n",
        "  text = tf.strings.strip(text)\n",
        " \n",
        "  text = tf.strings.join(['[START]', text], separator=' ')\n",
        "  \n",
        "  return text\n",
        "\n",
        "\n",
        "def tf_lower_and_split_punct_decout(text):\n",
        "  # Split accecented characters.\n",
        "  text = tf_text.normalize_utf8(text, 'NFKD')\n",
        "  text = tf.strings.lower(text)\n",
        "  # Keep space, a to z, and select punctuation.\n",
        "  text = tf.strings.regex_replace(text, '[^ a-z.?!,¿]', '')\n",
        "  # Add spaces around punctuation.\n",
        "  text = tf.strings.regex_replace(text, '[.?!,¿]', r' \\0 ')\n",
        "  # Strip whitespace.\n",
        "  text = tf.strings.strip(text)\n",
        "\n",
        "  text = tf.strings.join([ text, '[END]'], separator=' ')\n",
        "\n",
        "  return text\n"
      ]
    },
    {
      "cell_type": "markdown",
      "metadata": {},
      "source": [
        "## Vectorization layer"
      ]
    },
    {
      "cell_type": "code",
      "execution_count": 36,
      "metadata": {
        "id": "BeaTIprJ6Uz_"
      },
      "outputs": [],
      "source": [
        "# input text processor is in charge of maping tokens to ids and vice versa\n",
        "enc_input_processor = tf.keras.layers.TextVectorization( max_tokens = max_vocab_size+4, standardize = tf_lower_and_split_punct_enc, output_sequence_length = review_enc_length )\n",
        "dec_input_processor = tf.keras.layers.TextVectorization( max_tokens = max_vocab_size+4, standardize = tf_lower_and_split_punct_decin, output_sequence_length = review_dec_length )\n",
        "dec_output_processor = tf.keras.layers.TextVectorization( max_tokens = max_vocab_size+4, standardize = tf_lower_and_split_punct_decout, output_sequence_length = review_dec_length )"
      ]
    },
    {
      "cell_type": "code",
      "execution_count": 37,
      "metadata": {},
      "outputs": [],
      "source": [
        "enc_input_processor.set_vocabulary(['','[UNK]','[START]','[END]'] +  embedding_matrix.index_to_key )\n",
        "dec_input_processor.set_vocabulary(['','[UNK]','[START]','[END]'] +  embedding_matrix.index_to_key )\n",
        "dec_output_processor.set_vocabulary(['','[UNK]','[START]','[END]'] +  embedding_matrix.index_to_key )"
      ]
    },
    {
      "cell_type": "markdown",
      "metadata": {
        "id": "zlGMIsZTV2oI"
      },
      "source": [
        "* some example about how to work with input text processor"
      ]
    },
    {
      "cell_type": "code",
      "execution_count": 38,
      "metadata": {
        "id": "ZwtcZjLM6XCZ"
      },
      "outputs": [
        {
          "name": "stdout",
          "output_type": "stream",
          "text": [
            "input_text_processor vocab size : 5004\n"
          ]
        },
        {
          "data": {
            "text/plain": [
              "['', '[UNK]', '[START]', '[END]', '.', ',', 'the', 'i']"
            ]
          },
          "execution_count": 38,
          "metadata": {},
          "output_type": "execute_result"
        }
      ],
      "source": [
        "# included sos, eos, unk and space \n",
        "print(\"input_text_processor vocab size :\" ,len(enc_input_processor.get_vocabulary()))\n",
        "# Here are the first 8 words from the vocabulary:\n",
        "enc_input_processor.get_vocabulary()[:8]"
      ]
    },
    {
      "cell_type": "code",
      "execution_count": 39,
      "metadata": {
        "id": "Rbn35v_Unwr1"
      },
      "outputs": [
        {
          "data": {
            "text/plain": [
              "42"
            ]
          },
          "execution_count": 39,
          "metadata": {},
          "output_type": "execute_result"
        }
      ],
      "source": [
        "enc_input_processor.get_vocabulary().index('just')"
      ]
    },
    {
      "cell_type": "code",
      "execution_count": 40,
      "metadata": {
        "id": "LSWPZQ_tH8np"
      },
      "outputs": [
        {
          "data": {
            "text/plain": [
              "'sent'"
            ]
          },
          "execution_count": 40,
          "metadata": {},
          "output_type": "execute_result"
        }
      ],
      "source": [
        "enc_input_processor.get_vocabulary()[1240]"
      ]
    },
    {
      "cell_type": "code",
      "execution_count": 41,
      "metadata": {
        "id": "Ouk6_52DSBaW"
      },
      "outputs": [
        {
          "name": "stdout",
          "output_type": "stream",
          "text": [
            "Just another flavor of Kit Kat but the taste is unique and a bit different.  The only thing that is bothersome is the price.  I thought it was a bit expensive....\n",
            "tf.Tensor(\n",
            "[  42  288   41   12 1527    1   19    6   37   13 1136    9    8  116\n",
            "  206    4    6   92  246   17   13    1   13    6  118    4    7  248\n",
            "   10   29    8  116], shape=(32,), dtype=int64)\n"
          ]
        }
      ],
      "source": [
        "print(item_df['reviewText'][0][0])\n",
        "print(dec_output_processor(  item_df['reviewText'][0][0]))"
      ]
    },
    {
      "cell_type": "markdown",
      "metadata": {},
      "source": [
        "# **Data Transformation**"
      ]
    },
    {
      "cell_type": "code",
      "execution_count": 42,
      "metadata": {},
      "outputs": [],
      "source": [
        "#hyperparameters\n",
        "batch_size=128\n",
        "num_batches=int(train_df.shape[0]/batch_size)\n",
        "print(num_batches)"
      ]
    },
    {
      "cell_type": "code",
      "execution_count": 44,
      "metadata": {},
      "outputs": [
        {
          "data": {
            "text/plain": [
              "1702240356"
            ]
          },
          "execution_count": 44,
          "metadata": {},
          "output_type": "execute_result"
        }
      ],
      "source": [
        "dt = np.dtype( [('userid', 'int32'), ('itemid', 'int32'),('rating', 'int32'),('review_in', 'int32',(review_dec_length,)),('review_out', 'int32',(review_dec_length,)) ])\n",
        "tt=np.empty([150, 1], dtype=dt)\n",
        "tt['rating'][50][0]"
      ]
    },
    {
      "cell_type": "code",
      "execution_count": 45,
      "metadata": {},
      "outputs": [
        {
          "data": {
            "text/plain": [
              "array([['A1U6M8VJHK2ECA', 'B009M516NE', 5.0],\n",
              "       ['A244CRJ2QSVLZ4', 'B009M516NE', 5.0],\n",
              "       ['A1SB9BNNGKNX2Z', 'B009M516NE', 3.0],\n",
              "       ...,\n",
              "       ['ASEBX8TBYWQWA', 'B00KCJRVO2', 5.0],\n",
              "       ['ANKQGTXHREOI5', 'B00KCJRVO2', 4.0],\n",
              "       ['A2CF66KIQ3RKX3', 'B00KCJRVO2', 4.0]], dtype=object)"
            ]
          },
          "execution_count": 45,
          "metadata": {},
          "output_type": "execute_result"
        }
      ],
      "source": [
        "train_data=np.empty([train_df.shape[0], ], dtype=dt)\n",
        "test_data=np.empty([test_df.shape[0], ], dtype=dt)\n",
        "\n",
        "user_to_row = {}\n",
        "item_to_column = {}\n",
        "\n",
        "\n",
        "for i, user_id in enumerate(np.unique(df['userID'])):\n",
        "    user_to_row[user_id] = i\n",
        "\n",
        "for j, item_id in enumerate(np.unique(df['itemID'].tolist())):\n",
        "    item_to_column[item_id] = j\n",
        "\n",
        "train_rw_input = dec_input_processor(train_df['reviewText'])\n",
        "test_rw_input = dec_input_processor(test_df['reviewText'])\n",
        "train_rw_putput = dec_output_processor(train_df['reviewText'])\n",
        "test_rw_output = dec_output_processor(test_df['reviewText'])\n",
        "\n",
        "for index, row in enumerate( train_df[['userID','itemID','rating']].to_numpy()):\n",
        "   \n",
        "    train_data['userid'][index] = user_to_row[row[0]]\n",
        "    train_data['itemid'][index] = item_to_column[row[1]]\n",
        "    train_data['rating'][index] = row[2]\n",
        "    train_data['review_in'][index] = train_rw_input[index]\n",
        "    train_data['review_out'][index] = train_rw_putput[index]\n",
        "\n",
        "\n",
        "for index, row in enumerate( test_df[['userID','itemID','rating']].to_numpy()):\n",
        "   \n",
        "    test_data['userid'][index]= user_to_row[row[0]]\n",
        "    test_data['itemid'][index]= item_to_column[row[1]]\n",
        "    test_data['rating'][index]= row[2]\n",
        "    test_data['review_in'][index] = test_rw_input[index]\n",
        "    test_data['review_out'][index] = test_rw_output[index]\n",
        "\n",
        "\n",
        "#for index,row in enumerate( train_data):\n",
        " # train_data['review'][row]=train_rw[i]\n",
        "#for i,row in enumerate( test_data):\n",
        "#  test_data['review'][row]=train_rw[i]\n",
        "test_df[['userID','itemID','rating']].to_numpy()"
      ]
    },
    {
      "cell_type": "code",
      "execution_count": 46,
      "metadata": {},
      "outputs": [
        {
          "data": {
            "text/plain": [
              "(1439, 54, 5, [   2,   36,  177,  191,    1,   23,  607,    5,   19,    1,    1, 2774,    4,    7,  180,   18,  155,  110,    6,    1,  651,    9,   79,   46,   12,    6,  437,   17,  102,  728,  158,  110], [  36,  177,  191,    1,   23,  607,    5,   19,    1,    1, 2774,    4,    7,  180,   18,  155,  110,    6,    1,  651,    9,   79,   46,   12,    6,  437,   17,  102,  728,  158,  110,   75])"
            ]
          },
          "execution_count": 46,
          "metadata": {},
          "output_type": "execute_result"
        }
      ],
      "source": [
        "train_data[500]"
      ]
    },
    {
      "cell_type": "code",
      "execution_count": 47,
      "metadata": {},
      "outputs": [],
      "source": [
        "train_ds = tf.data.Dataset.from_tensor_slices(\n",
        "    (\n",
        "       tf.cast(train_data['userid'],tf.int32),\n",
        "       tf.cast(train_data['itemid'],tf.int32),\n",
        "       tf.cast(train_data['rating'],tf.int32),  \n",
        "       tf.cast(train_data['review_in'],tf.int32),\n",
        "       tf.cast(train_data['review_out'],tf.int32)  \n",
        "  \n",
        "    )\n",
        ").shuffle(1024).batch(batch_size)\n",
        "test_ds = tf.data.Dataset.from_tensor_slices(\n",
        "    (\n",
        "       tf.cast(test_data['userid'],tf.int32),\n",
        "       tf.cast(test_data['itemid'],tf.int32),\n",
        "       tf.cast(test_data['rating'],tf.int32),  \n",
        "       tf.cast(test_data['review_in'],tf.int32),\n",
        "       tf.cast(test_data['review_out'],tf.int32)    \n",
        "    )\n",
        ").shuffle(1024).batch(batch_size)"
      ]
    },
    {
      "cell_type": "code",
      "execution_count": 48,
      "metadata": {},
      "outputs": [
        {
          "data": {
            "text/plain": [
              "(2510, 0, 4, [  2,  36,   1,  23,  47,  34,   5,  19,  43,   1, 276,  16,   8, 189, 250,  55,  41,  18,  62,  40, 529,   4,   6, 250,  55,  41,  13,  47, 817,   4,   0,   0], [ 36,   1,  23,  47,  34,   5,  19,  43,   1, 276,  16,   8, 189, 250,  55,  41,  18,  62,  40, 529,   4,   6, 250,  55,  41,  13,  47, 817,   4,   3,   0,   0])"
            ]
          },
          "execution_count": 48,
          "metadata": {},
          "output_type": "execute_result"
        }
      ],
      "source": [
        "train_data[5]"
      ]
    },
    {
      "cell_type": "code",
      "execution_count": 49,
      "metadata": {},
      "outputs": [
        {
          "name": "stdout",
          "output_type": "stream",
          "text": [
            "<TakeDataset element_spec=(TensorSpec(shape=(None,), dtype=tf.int32, name=None), TensorSpec(shape=(None,), dtype=tf.int32, name=None), TensorSpec(shape=(None,), dtype=tf.int32, name=None), TensorSpec(shape=(None, 32), dtype=tf.int32, name=None), TensorSpec(shape=(None, 32), dtype=tf.int32, name=None))>\n"
          ]
        }
      ],
      "source": [
        "print(train_ds.take(1))"
      ]
    },
    {
      "cell_type": "markdown",
      "metadata": {
        "id": "cV4PGxjttli6"
      },
      "source": [
        "# **User and Item Documents**"
      ]
    },
    {
      "cell_type": "markdown",
      "metadata": {
        "id": "6BwcnBKDxVMk"
      },
      "source": [
        "**User Documents**"
      ]
    },
    {
      "cell_type": "code",
      "execution_count": 50,
      "metadata": {},
      "outputs": [],
      "source": [
        "user_doc = list( map(enc_input_processor,[doc for doc in user_df['reviewText']]))"
      ]
    },
    {
      "cell_type": "markdown",
      "metadata": {
        "id": "SWDCul-D_N99"
      },
      "source": [
        "**Item Documents**"
      ]
    },
    {
      "cell_type": "code",
      "execution_count": 51,
      "metadata": {
        "id": "phoN10nsXZGc"
      },
      "outputs": [],
      "source": [
        "item_doc = list( map(enc_input_processor,[doc for doc in item_df['reviewText']]))"
      ]
    },
    {
      "cell_type": "code",
      "execution_count": 52,
      "metadata": {
        "id": "0kTL6A4FmuZY"
      },
      "outputs": [
        {
          "data": {
            "text/plain": [
              "<tf.Tensor: shape=(48,), dtype=int64, numpy=\n",
              "array([  2, 151, 250,  55,   5,  20,  42,   8, 817, 614,  12,  41,   4,\n",
              "        33, 171,   5,   7, 219,  10,  47,  74,   9,  33,  99,  22, 191,\n",
              "       309,   4,   3,   0,   0,   0,   0,   0,   0,   0,   0,   0,   0,\n",
              "         0,   0,   0,   0,   0,   0,   0,   0,   0])>"
            ]
          },
          "execution_count": 52,
          "metadata": {},
          "output_type": "execute_result"
        }
      ],
      "source": [
        "item_doc[5004][-1]"
      ]
    },
    {
      "cell_type": "code",
      "execution_count": 53,
      "metadata": {
        "id": "1G79SrZySBqJ"
      },
      "outputs": [
        {
          "data": {
            "text/plain": [
              "Text(0.5, 1.0, 'Mask')"
            ]
          },
          "execution_count": 53,
          "metadata": {},
          "output_type": "execute_result"
        },
        {
          "data": {
            "image/png": "[encoded data removed]",
            "text/plain": [
              "<Figure size 432x288 with 2 Axes>"
            ]
          },
          "metadata": {
            "needs_background": "light"
          },
          "output_type": "display_data"
        }
      ],
      "source": [
        "plt.subplot(1, 2, 1)\n",
        "plt.pcolormesh(item_doc[0])\n",
        "plt.title('Token IDs')\n",
        "\n",
        "plt.subplot(1, 2, 2)\n",
        "plt.pcolormesh(item_doc[0] != 0)\n",
        "plt.title('Mask')"
      ]
    },
    {
      "cell_type": "markdown",
      "metadata": {
        "id": "UbR2h5ML5h70"
      },
      "source": [
        "### Converting ID to Vector"
      ]
    },
    {
      "cell_type": "code",
      "execution_count": 56,
      "metadata": {},
      "outputs": [
        {
          "data": {
            "text/plain": [
              "'[START] it is a good stand by coffee you can count on . i would [UNK] on it for the daily use [UNK] . [END]                       '"
            ]
          },
          "execution_count": 56,
          "metadata": {},
          "output_type": "execute_result"
        }
      ],
      "source": [
        "input_vocab = enc_input_processor.get_vocabulary()\n",
        "\" \".join([input_vocab[id] for id in user_doc[0][0]])\n"
      ]
    },
    {
      "cell_type": "markdown",
      "metadata": {},
      "source": [
        "# **TF-IDF Matrix**"
      ]
    },
    {
      "cell_type": "code",
      "execution_count": 54,
      "metadata": {},
      "outputs": [],
      "source": [
        "tfidf_calculator = tf.keras.layers.TextVectorization(\n",
        "  max_tokens  = max_vocab_size+4,\n",
        "  output_mode ='tf-idf',\n",
        "  pad_to_max_tokens = False  \n",
        "  )\n",
        "tfidf_calculator.adapt(['','[UNK]','[START]','[END]'] +  embedding_matrix.index_to_key )\n",
        "print(len(tfidf_calculator.get_vocabulary(include_special_tokens=True)))\n",
        "list(set(embedding_matrix.index_to_key)-set(tfidf_calculator.get_vocabulary()))[:9]"
      ]
    },
    {
      "cell_type": "code",
      "execution_count": 57,
      "metadata": {},
      "outputs": [],
      "source": [
        "user_corpus = user_df['reviewText'].apply(lambda doc: [\" \".join(rv.split()[:review_enc_length]) for rv in doc])\n",
        "item_corpus = item_df['reviewText'].apply(lambda doc: [\" \".join(rv.split()[:review_enc_length]) for rv in doc])\n"
      ]
    },
    {
      "cell_type": "code",
      "execution_count": 58,
      "metadata": {},
      "outputs": [],
      "source": [
        "user_tfidf_obj =  map(tfidf_calculator,[doc for doc in user_corpus])\n",
        "item_tfidf_obj =  map(tfidf_calculator,[doc for doc in item_corpus])\n",
        "\n"
      ]
    },
    {
      "cell_type": "code",
      "execution_count": 59,
      "metadata": {},
      "outputs": [],
      "source": [
        "#user_tfidf=list(user_tfidf_obj[:5])\n",
        "#item_tfidf=list(item_tfidf_obj[:4])"
      ]
    },
    {
      "cell_type": "code",
      "execution_count": 60,
      "metadata": {},
      "outputs": [],
      "source": [
        "#user_tfidf[1000]"
      ]
    },
    {
      "cell_type": "markdown",
      "metadata": {},
      "source": [
        "# Delete Useless Variables"
      ]
    },
    {
      "cell_type": "code",
      "execution_count": 61,
      "metadata": {},
      "outputs": [],
      "source": [
        "del df\n",
        "del user_corpus\n",
        "del item_corpus\n",
        "del train_df\n",
        "del test_df\n",
        " "
      ]
    },
    {
      "cell_type": "markdown",
      "metadata": {},
      "source": [
        "# **Context-aware Matrix Factorization for Rating Prediction**"
      ]
    },
    {
      "cell_type": "code",
      "execution_count": 62,
      "metadata": {},
      "outputs": [],
      "source": [
        "#hyperparameters\n",
        "num_users=user_df.shape[0]\n",
        "num_items=item_df.shape[0]\n",
        "feature_num=64\n",
        "units=int(feature_num/2 )# gru units\n"
      ]
    },
    {
      "cell_type": "code",
      "execution_count": 63,
      "metadata": {},
      "outputs": [],
      "source": [
        "user_specific_vector = tf.Variable(np.zeros(shape=(num_users, feature_num),dtype=np.float32)) \n",
        "item_specific_vector = tf.Variable(np.zeros(shape=(num_items, feature_num),dtype=np.float32)) "
      ]
    },
    {
      "cell_type": "markdown",
      "metadata": {
        "id": "6uKWBtzhmMA5"
      },
      "source": [
        "## **PMF (Probabilistic Matrix Factorization)**"
      ]
    },
    {
      "cell_type": "code",
      "execution_count": 64,
      "metadata": {
        "id": "5JAoyyjOnJis"
      },
      "outputs": [],
      "source": [
        "class PMF():\n",
        "    def __init__(self, num_feat=16, epsilon=1, _lambda=0.1, momentum=0.8, maxepoch=20, num_batches=152, batch_size=1000,num_item=9000,num_user=15000,mean_inv=3):\n",
        "        self.num_feat = num_feat  # Number of latent features,\n",
        "        self.epsilon = epsilon  # learning rate,\n",
        "        self._lambda = _lambda  # L2 regularization,\n",
        "        self.momentum = momentum  # momentum of the gradient,\n",
        "        self.maxepoch = maxepoch  # Number of epoch before stop,\n",
        "        self.num_batches = num_batches  # Number of batches in each epoch (for SGD optimization),\n",
        "        self.batch_size = batch_size  # Number of training samples used in each batches (for SGD optimization)\n",
        "        self.num_item=num_item\n",
        "        self.num_user=num_user\n",
        "        self.V =  0.1 * np.random.randn(self.num_item, self.num_feat).astype(np.float64)  # Item feature vectors\n",
        "        self.U =  0.1 * np.random.randn(self.num_user, self.num_feat).astype(np.float64)  # User feature vectors\n",
        "        self.V_inc = np.zeros((self.num_item, self.num_feat),dtype=np.float64)\n",
        "        self.U_inc = np.zeros((self.num_user, self.num_feat),dtype=np.float64)\n",
        "        self.rmse_train = []\n",
        "        self.rmse_test = []\n",
        "        self.mean_inv= mean_inv  \n",
        "        \n",
        "    # ***Fit the model with train_tuple and evaluate RMSE on both train and test data.  ***********#\n",
        "    # ***************** train_vec=TrainData, test_vec=TestData*************#\n",
        "    def train(self):\n",
        "          \n",
        "            # Shuffle training truples\n",
        "            shuffled_order = np.arange(train_data.shape[0])  \n",
        "            np.random.shuffle(shuffled_order)  \n",
        "            # Batch update\n",
        "            \n",
        "            for batch in range(self.num_batches):  \n",
        "                # print \"epoch %d batch %d\" % (self.epoch, batch+1)\n",
        "\n",
        "                test = np.arange(self.batch_size * batch, self.batch_size * (batch + 1))\n",
        "              \n",
        "                batch_idx = np.mod(test, shuffled_order.shape[0])  \n",
        "            \n",
        "                batch_UserID = np.array(train_data['userid'][shuffled_order[batch_idx]], dtype='int32')\n",
        "                batch_ItemID = np.array(train_data['itemid'][shuffled_order[batch_idx]], dtype='int32')\n",
        "                # Compute Objective Function\n",
        "               \n",
        "                pred_out = np.sum(np.multiply(self.U[batch_UserID, :],\n",
        "                                              self.V[batch_ItemID, :]),\n",
        "                                  axis=1)  # mean_inv subtracted # np.multiply\n",
        "                \n",
        "                rawErr = pred_out - train_data['rating'][shuffled_order[batch_idx]] + self.mean_inv\n",
        "                \n",
        "                # Compute gradients\n",
        "                Ix_User = 2 * np.multiply(rawErr[:, np.newaxis], self.V[batch_ItemID, :]) \\\n",
        "                       + self._lambda * (self.U[batch_UserID, :] - tf.gather(user_specific_vector,batch_UserID).numpy())\n",
        "                Ix_Item = 2 * np.multiply(rawErr[:, np.newaxis], self.U[batch_UserID, :]) \\\n",
        "                       + self._lambda * (self.V[batch_ItemID, :] -  tf.gather(item_specific_vector,batch_ItemID).numpy()) \n",
        "                       # np.newaxis :increase the dimension\n",
        "               \n",
        "                dw_Item = np.zeros((self.num_item, self.num_feat))\n",
        "                dw_User = np.zeros((self.num_user, self.num_feat))\n",
        "                \n",
        "                # loop to aggreate the gradients of the same element\n",
        "                for i in range(self.batch_size):\n",
        "                    dw_Item[batch_ItemID[i], :] += Ix_Item[i, :]\n",
        "                    dw_User[batch_UserID[i], :] += Ix_User[i, :]\n",
        "\n",
        "                # Update with momentum\n",
        "              \n",
        "                self.V_inc = self.momentum * self.V_inc + self.epsilon * dw_Item / self.batch_size\n",
        "                self.U_inc = self.momentum * self.U_inc + self.epsilon * dw_User / self.batch_size\n",
        "                \n",
        "                self.V = self.V - self.V_inc\n",
        "                self.U = self.U - self.U_inc\n",
        "            \n",
        "                # Compute Objective Function after\n",
        "                if batch == self.num_batches - 1:\n",
        "                    pred_out = np.sum(np.multiply(self.U[np.array(train_data['userid'], dtype='int32'), :],\n",
        "                                                  self.V[np.array(train_data['itemid'], dtype='int32'), :]),\n",
        "                                      axis=1)  # mean_inv subtracted\n",
        "                    rawErr = pred_out - train_data['rating'] + self.mean_inv\n",
        "                    obj = np.linalg.norm(rawErr) ** 2 \\\n",
        "                          + 0.5 * self._lambda * (np.linalg.norm(self.U - user_specific_vector) ** 2 + np.linalg.norm(self.V - item_specific_vector) ** 2)\n",
        "                   # print(\"1***************\\n\",self.U.shape)\n",
        "                   # print(\"2***************\\n\",user_specific_vector.shape)\n",
        "                    self.rmse_train.append(np.sqrt(obj / train_data.shape[0]))\n",
        "\n",
        "                # Compute validation error\n",
        "                if batch == self.num_batches - 1:\n",
        "                    pred_out = np.sum(np.multiply(self.U[np.array(test_data['userid'], dtype='int32'), :],\n",
        "                                                  self.V[np.array(test_data['itemid'], dtype='int32'), :]),\n",
        "                                      axis=1)  # mean_inv subtracted\n",
        "                    rawErr = pred_out - test_data['rating'] + self.mean_inv\n",
        "                   \n",
        "                    self.rmse_test.append(np.linalg.norm(rawErr) / np.sqrt(test_data.shape[0]))\n",
        "\n",
        "                    # Print info\n",
        "                    if batch == self.num_batches - 1:\n",
        "                        print('\\nTraining RMSE: %f, Test RMSE %f' % (self.rmse_train[-1], self.rmse_test[-1]))\n",
        "\n",
        "    def predict(self, invID):\n",
        "        return np.dot(self.V, self.U[int(invID), :]) + self.mean_inv  # numpy.dot 点乘\n",
        "\n",
        "    # ****************Set parameters by providing a parameter dictionary.  ***********#\n",
        "\n",
        "    def topK(self, test_data, k=10):\n",
        "        inv_lst = np.unique(test_data[:, 0])\n",
        "        pred = {}\n",
        "        for inv in inv_lst:\n",
        "            if pred.get(inv, None) is None:\n",
        "                pred[inv] = np.argsort(self.predict(inv))[-k:]  # numpy.argsort\n",
        "\n",
        "        intersection_cnt = {}\n",
        "        for i in range(test_data.shape[0]):\n",
        "            if test_data[i, 1] in pred[test_data[i, 0]]:\n",
        "                intersection_cnt[test_data[i, 0]] = intersection_cnt.get(test_data[i, 0], 0) + 1\n",
        "        invPairs_cnt = np.bincount(np.array(test_data[:, 0], dtype='int32'))\n",
        "\n",
        "        precision_acc = 0.0\n",
        "        recall_acc = 0.0\n",
        "        for inv in inv_lst:\n",
        "            precision_acc += intersection_cnt.get(inv, 0) / float(k)\n",
        "            recall_acc += intersection_cnt.get(inv, 0) / float(invPairs_cnt[int(inv)])\n",
        "\n",
        "        return precision_acc / len(inv_lst), recall_acc / len(inv_lst)\n"
      ]
    },
    {
      "cell_type": "markdown",
      "metadata": {
        "id": "f0y4xKXSRYU-"
      },
      "source": [
        "# **Adversarial Seq2Seq Learning**"
      ]
    },
    {
      "cell_type": "markdown",
      "metadata": {},
      "source": [
        "## **Metrics**"
      ]
    },
    {
      "cell_type": "code",
      "execution_count": 65,
      "metadata": {},
      "outputs": [],
      "source": [
        "# log files for training and test\n",
        "current_time = datetime.datetime.now().strftime(\"%Y%m%d-%H%M%S\")\n",
        "train_log_dir = 'logs/gradient_tape/' + current_time + '/train'\n",
        "train_summary_writer = tf.summary.create_file_writer(train_log_dir)\n",
        "test_log_dir = 'logs/gradient_tape/' + current_time + '/test'\n",
        "test_summary_writer = tf.summary.create_file_writer(test_log_dir)\n",
        "graph_log_dir = 'logs/graph/' + current_time \n",
        "graph_summary_writer = tf.summary.create_file_writer(graph_log_dir)"
      ]
    },
    {
      "cell_type": "code",
      "execution_count": 66,
      "metadata": {},
      "outputs": [],
      "source": [
        "class PerplexityMetric(tf.keras.metrics.Metric):\n",
        "    def __init__(self,name='perplexity',**kwargs):\n",
        "        super().__init__(name=name, **kwargs)\n",
        "        self.perplexity=self.add_weight(name='pl',initializer='zeros')\n",
        "\n",
        "    def update_state(self, nll_loss):\n",
        "        self.perplexity= 2 ** nll_loss\n",
        "\n",
        "    def result(self):\n",
        "        return self.perplexity"
      ]
    },
    {
      "cell_type": "code",
      "execution_count": 67,
      "metadata": {},
      "outputs": [],
      "source": [
        "train_plx_gen_tch = PerplexityMetric(name='generator perplexity')  # teacher forcing mode\n",
        "train_plx_gen_plc = PerplexityMetric(name='generator perplexity')  # policy gradient mode\n",
        "train_loss_gen_policy = tf.keras.metrics.Mean('train loss gen policy', dtype=tf.float32)\n",
        "\n",
        "train_acc_dis = tf.keras.metrics.BinaryAccuracy(threshold=0.5)"
      ]
    },
    {
      "cell_type": "markdown",
      "metadata": {},
      "source": [
        "## **Recurrent Review Generator**"
      ]
    },
    {
      "cell_type": "markdown",
      "metadata": {},
      "source": [
        "- it consists of two encoders and one decoder"
      ]
    },
    {
      "cell_type": "markdown",
      "metadata": {
        "id": "o8UVYfYjX9YW"
      },
      "source": [
        "### **Encoder**"
      ]
    },
    {
      "cell_type": "code",
      "execution_count": 68,
      "metadata": {
        "id": "TwRd0VNHkMf0"
      },
      "outputs": [],
      "source": [
        "class Encoder(tf.keras.layers.Layer):\n",
        "  def __init__(self, embedding_dim, enc_units):\n",
        "    super().__init__()\n",
        "    self.enc_units = enc_units\n",
        "    self.input_vocab_size = max_vocab_size\n",
        "    self.embedding = tf.keras.layers.Embedding(max_vocab_size+4, embedding_dim, embeddings_initializer=keras.initializers.Constant(full_embedding_matrix),trainable=False)\n",
        "    self.gru= tf.keras.layers.Bidirectional(tf.keras.layers.GRU(enc_units,return_state=True,  recurrent_initializer='glorot_uniform' ))\n",
        "\n",
        "\n",
        "  def call(self, reviews, state=None):\n",
        "    vectors = self.embedding(reviews)\n",
        "    _,encoder_forward_state,encoder_backward_state  = self.gru(vectors, initial_state=state)\n",
        " \n",
        "    return  tf.concat([ encoder_forward_state, encoder_backward_state],-1)\n",
        "\n",
        "    "
      ]
    },
    {
      "cell_type": "markdown",
      "metadata": {},
      "source": [
        "### **Decoder (Generator)**"
      ]
    },
    {
      "cell_type": "code",
      "execution_count": 69,
      "metadata": {
        "id": "skIgKP4iCABs"
      },
      "outputs": [],
      "source": [
        "class Decoder(tf.keras.layers.Layer):\n",
        "  def __init__(self, embedding_dim, dec_units):\n",
        "    super().__init__()\n",
        "    self.dec_units = dec_units\n",
        "    self.output_vocab_size = max_vocab_size\n",
        "    self.embedding = tf.keras.layers.Embedding(max_vocab_size+4, embedding_dim,embeddings_initializer=keras.initializers.Constant(full_embedding_matrix), trainable=False)\n",
        "    self.gru=tf.keras.layers.GRU(dec_units , return_state=True,return_sequences=True)\n",
        "    self.fc = tf.keras.layers.Dense(max_vocab_size, use_bias=False)\n",
        "    self.sf=tf.keras.layers.Activation('softmax')\n",
        "\n",
        "  def call(self, decoder_input, context_vector,state=None):\n",
        "\n",
        "     embedded_input = self.embedding(decoder_input)\n",
        "     joint_input_context = tf.concat([embedded_input, tf.tile(tf.expand_dims(context_vector,1),[1,embedded_input.shape[1],1])],2 )\n",
        "     outputs,dec_state = self.gru(joint_input_context, initial_state=state)\n",
        "     logits = self.fc( outputs)\n",
        "     prob_dist = self.sf(logits)\n",
        "\n",
        "     return prob_dist,dec_state\n"
      ]
    },
    {
      "cell_type": "code",
      "execution_count": 70,
      "metadata": {
        "id": "DyhJk5pGKW_N"
      },
      "outputs": [],
      "source": [
        "class GeneratorLoss(tf.keras.losses.Loss):\n",
        "  def __init__(self):\n",
        "    self.name = 'masked_loss'\n",
        "   # self.loss = tf.keras.losses.SparseCategoricalCrossentropy( reduction='none')\n",
        "\n",
        "  def __call__(self, y_true, y_pred):\n",
        "    # Calculating the loss for a batch of reviews.\n",
        "\n",
        "    mask = tf.cast(y_true != 0, tf.int32)\n",
        "    maskoff_ind=tf.reduce_sum(mask)\n",
        "    a=tf.one_hot(y_true[:maskoff_ind], max_vocab_size, 1.0, 0.0)\n",
        "    b=tf.math.log( tf.clip_by_value(y_pred[:maskoff_ind], 1e-20, 1.0))\n",
        "    #print(y_true)\n",
        "    #print(\"\\n\\n\\n\",a)\n",
        "    #print(\"\\n\\n\\n\",b)\n",
        "    c=a * b\n",
        "   # print(\"\\n\\n\\n\",c)\n",
        "    loss=-tf.reduce_sum(c) /tf.cast(maskoff_ind,dtype=tf.float32)\n",
        "   # print(loss)\n",
        "    return loss"
      ]
    },
    {
      "cell_type": "markdown",
      "metadata": {
        "id": "4v_zte_RHR5a"
      },
      "source": [
        "## **Discriminator**"
      ]
    },
    {
      "cell_type": "code",
      "execution_count": 71,
      "metadata": {
        "id": "84ZgGwB9HXi5"
      },
      "outputs": [],
      "source": [
        "class Discriminator(tf.keras.Model):\n",
        "    def __init__( self, review_dec_length, vocab_size, embedding_dim, filter_sizes, num_filters, l2_reg_lambda=0.0):\n",
        "      super().__init__()\n",
        "      self.review_dec_length=review_dec_length\n",
        "      self.vocab_size=max_vocab_size\n",
        "      self.embedding_dim=embedding_dim\n",
        "      self.filter_sizes=filter_sizes\n",
        "      self.num_filters= num_filters\n",
        "\n",
        "      self.embedding = tf.keras.layers.Embedding(max_vocab_size+4, embedding_dim,weights=[full_embedding_matrix],name=\"discriminator_embedding\",trainable=False)\n",
        "     \n",
        "      self.conv_unigram= tf.keras.layers.Conv1D(num_filters, filter_sizes[0], activation=\"tanh\",name=\"conv_unigram\")\n",
        "      self.conv_bigram= tf.keras.layers.Conv1D(num_filters, filter_sizes[1],activation=\"tanh\",name=\"conv_bigram\")\n",
        "      self.conv_trigram= tf.keras.layers.Conv1D(num_filters, filter_sizes[2],activation=\"tanh\",name=\"conv_trigram\")\n",
        "      self.conv_fourgram= tf.keras.layers.Conv1D(num_filters, filter_sizes[3],activation=\"tanh\",name=\"conv_fourgram\")\n",
        "      self.conv_fivegram= tf.keras.layers.Conv1D(num_filters, filter_sizes[4],activation=\"tanh\",name=\"conv_fivegram\")\n",
        "\n",
        "      self.gmp_unigram = tf.keras.layers.GlobalMaxPooling1D(name=\"gmp_unigram\")\n",
        "      self.gmp_bigram = tf.keras.layers.GlobalMaxPooling1D(name=\"gmp_bigram\")\n",
        "      self.gmp_trigram = tf.keras.layers.GlobalMaxPooling1D(name=\"gmp_trigram\")\n",
        "      self.gmp_fourgram = tf.keras.layers.GlobalMaxPooling1D(name=\"gmp_fourgram\")\n",
        "      self.gmp_fivegram = tf.keras.layers.GlobalMaxPooling1D(name=\"gmp_fivegram\")\n",
        "\n",
        "      self.dropout=tf.keras.layers.Dropout(.5,name=\"dropout\")\n",
        "      self.fc=tf.keras.layers.Dense(1,activation=\"sigmoid\")\n",
        "\n",
        "\n",
        "    def get_reward(self, discriminator_inputs , context_vector,training=False ):\n",
        "      \n",
        "      embedded_input= self.embedding(discriminator_inputs)\n",
        "      joint_input_context =tf.concat([embedded_input, tf.tile(tf.expand_dims(context_vector,1),[1,embedded_input.shape[1],1])],2 )\n",
        "\n",
        "      cv_unigram=self.conv_unigram(joint_input_context)\n",
        "      cv_bigram=self.conv_bigram(joint_input_context)\n",
        "      cv_trigram=self.conv_trigram(joint_input_context)\n",
        "      cv_fourgram=self.conv_fourgram(joint_input_context)\n",
        "      cv_fivegram=self.conv_fivegram(joint_input_context)\n",
        "\n",
        "      gmp_unigram = self.gmp_unigram(cv_unigram)\n",
        "      gmp_bigram = self.gmp_bigram(cv_bigram)\n",
        "      gmp_trigram =  self.gmp_trigram(cv_trigram)\n",
        "      gmp_fourgram = self.gmp_fourgram(cv_fourgram)\n",
        "      gmp_fivegram = self.gmp_fivegram(cv_fivegram)\n",
        "    \n",
        "      gmp_overal = tf.concat([gmp_unigram,gmp_bigram,gmp_trigram,gmp_fourgram,gmp_fivegram],1)\n",
        "      \n",
        "      if training:\n",
        "        dropout = self.dropout(gmp_overal,training=training)\n",
        "        ath= self.fc(dropout)\n",
        "      else:\n",
        "        ath= self.fc(gmp_overal)\n",
        "\n",
        "      gc.collect()\n",
        "      return ath[:,0]\n"
      ]
    },
    {
      "cell_type": "code",
      "execution_count": 72,
      "metadata": {
        "id": "FCRHY3LgfD2_"
      },
      "outputs": [],
      "source": [
        "class DiscriminatorLoss(tf.keras.losses.Loss):\n",
        "  def __init__(self):\n",
        "    self.name = 'cross-entropy_loss'\n",
        "    self.binary_cross_entropy_loss = tf.keras.losses.BinaryCrossentropy( reduction='none')\n",
        "\n",
        "  def __call__(self, y_true, y_pred):\n",
        "    loss = self.binary_cross_entropy_loss(y_true, y_pred)\n",
        "    return loss"
      ]
    },
    {
      "cell_type": "markdown",
      "metadata": {},
      "source": [
        "## **Adversarial Training**"
      ]
    },
    {
      "cell_type": "code",
      "execution_count": 73,
      "metadata": {
        "id": "GnKB7mW5evTE"
      },
      "outputs": [],
      "source": [
        "#hyperparameter\n",
        "t_step=1 # teacher forcing training number\n",
        "g_step=1 # generator training number\n",
        "d_step=3 # discriminator training number\n",
        "rollout_num=1\n"
      ]
    },
    {
      "cell_type": "code",
      "execution_count": 74,
      "metadata": {
        "id": "MB7HymOiTfdl"
      },
      "outputs": [],
      "source": [
        "class MaskedLossReward(tf.keras.losses.Loss):\n",
        "  def __init__(self):\n",
        "    self.name = 'masked_loss_reward'\n",
        "\n",
        "  def __call__(self, y_true, y_pred,reward):\n",
        "    # Calculate the loss for each step.\n",
        "\n",
        "    mask = tf.cast(y_true != 0, tf.int32)\n",
        "    maskoff_ind=tf.reduce_sum(mask)\n",
        "    a=tf.one_hot(y_true[:maskoff_ind], max_vocab_size, 1.0, 0.0)\n",
        "    b=tf.math.log( tf.clip_by_value(y_pred[:maskoff_ind], 1e-20, 1.0))\n",
        "    aa=tf.reduce_sum( a * b,2)\n",
        "\n",
        "    aaa=aa*reward[:maskoff_ind]\n",
        "    loss=- tf.reduce_sum(aaa)  /tf.cast(maskoff_ind,dtype=tf.float32)\n",
        "    return loss"
      ]
    },
    {
      "cell_type": "code",
      "execution_count": 75,
      "metadata": {
        "id": "Z3NlswFZRbub"
      },
      "outputs": [],
      "source": [
        "class Seq2Seq(tf.keras.Model): \n",
        "    def __init__(self, latent_dim, num_batches, batch_size, use_tf_function=False):\n",
        "        super().__init__()\n",
        "        self.use_tf_function = use_tf_function\n",
        "        self.num_batches = num_batches\n",
        "        self.batch_size = batch_size\n",
        "        self.latent_dim = latent_dim\n",
        "\n",
        "        self.user_encoder = Encoder(embedding_dim, units)\n",
        "        self.item_encoder = Encoder(embedding_dim, units)\n",
        "        self.decoder = Decoder(embedding_dim, units) #generator\n",
        "        self.discriminator = Discriminator(review_dec_length, max_vocab_size, embedding_dim,[1, 2, 3 ,4, 5] ,100)\n",
        "      \n",
        "        self.loss_gn = GeneratorLoss()\n",
        "        self.loss_ds = DiscriminatorLoss()\n",
        "        self.loss_fn = MaskedLossReward() # generator loss with reward\n",
        "\n",
        "        self.optimizer_gn=tf.optimizers.Adam()\n",
        "        self.optimizer_ds=tf.optimizers.Adam()\n",
        "\n",
        "\n",
        "    def _train_step_gn_teacher(self,  batch_Userdoc_flattened, batch_Itemdoc_flattened,batch_Userdoc,batch_Itemdoc,batch_review_in,batch_review_out,user_review_num,item_review_num):\n",
        "            with tf.GradientTape() as tape:\n",
        "              user_enc_state = self.user_encoder(tf.reshape( tf.convert_to_tensor(batch_Userdoc_flattened,dtype=tf.int32) ,[user_review_num,review_enc_length])) # user vector representations      \n",
        "              item_enc_state = self.item_encoder(tf.reshape( tf.convert_to_tensor(batch_Itemdoc_flattened,dtype=tf.int32) ,[item_review_num,review_enc_length])) # item vector representations\n",
        "                  \n",
        "              pointer=0\n",
        "              user_context_vector=tf.zeros([0,feature_num])\n",
        "            \n",
        "              for i,doc in enumerate(batch_Userdoc): \n",
        "                user_context_vector=tf.concat([ user_context_vector, tf.reduce_mean(user_enc_state[pointer:pointer + doc.shape[0]],0,keepdims=True)   ],0)\n",
        "                pointer +=doc.shape[0]\n",
        "        \n",
        "              pointer=0\n",
        "              item_context_vector=tf.zeros([0,feature_num])\n",
        "              \n",
        "              for i,doc in enumerate(batch_Itemdoc): \n",
        "                item_context_vector=tf.concat([ item_context_vector, tf.reduce_mean(item_enc_state[pointer:pointer + doc.shape[0]],0,keepdims=True)   ],0)\n",
        "                pointer +=doc.shape[0]\n",
        "\n",
        "              context_vector= tf.concat( [user_context_vector,item_context_vector],1)\n",
        "        \n",
        "              loss = tf.constant(0.0)\n",
        "              dec_pred, dec_state=self.decoder( batch_review_in , context_vector)\n",
        "              \n",
        "              loss=self.loss_gn(batch_review_out , dec_pred)\n",
        "            variables =self.user_encoder.trainable_variables + self.item_encoder.trainable_variables + self.decoder.trainable_variables\n",
        "            gradients = tape.gradient(loss,variables)\n",
        "            self.optimizer_gn.apply_gradients(zip(gradients, variables))          \n",
        "            print(\"gen batch loss in supervised training\", loss)\n",
        "            \n",
        "            train_plx_gen_tch.update_state(loss)\n",
        "      \n",
        "    def _train_step_gn_policy(self, batch_Userdoc_flattened, batch_Itemdoc_flattened,batch_Userdoc,batch_Itemdoc,user_review_num,item_review_num):\n",
        "            with tf.GradientTape() as tape:\n",
        "              user_enc_state = self.user_encoder(tf.reshape( tf.convert_to_tensor(batch_Userdoc_flattened,dtype=tf.int32) ,[user_review_num,review_enc_length])) # user vector representations      \n",
        "              item_enc_state = self.item_encoder(tf.reshape( tf.convert_to_tensor(batch_Itemdoc_flattened,dtype=tf.int32) ,[item_review_num,review_enc_length])) # item vector representations                   \n",
        "              pointer=0\n",
        "              user_context_vector=tf.zeros([0,feature_num])                \n",
        "              for i,doc in enumerate(batch_Userdoc): \n",
        "                user_context_vector = tf.concat([ user_context_vector, tf.reduce_mean(user_enc_state[pointer:pointer + doc.shape[0]],0,keepdims=True)   ],0)\n",
        "                pointer += doc.shape[0]            \n",
        "              pointer=0\n",
        "              item_context_vector=tf.zeros([0,feature_num])                  \n",
        "              for i,doc in enumerate(batch_Itemdoc): \n",
        "                item_context_vector = tf.concat([ item_context_vector, tf.reduce_mean(item_enc_state[pointer:pointer + doc.shape[0]],0,keepdims=True)   ],0)\n",
        "                pointer += doc.shape[0]\n",
        "              context_vector = tf.concat( [user_context_vector,item_context_vector],1)\n",
        "              \n",
        "              dec_state=None\n",
        "              dec_prob=[]\n",
        "              generated_samples = tf.cast(tf.constant(np.full((len(batch_Itemdoc),1),2)),dtype=tf.int32)\n",
        "                  \n",
        "              for j in range(review_dec_length):                      \n",
        "                  d_prob,dec_state=self.decoder( generated_samples[:,j:j+1], context_vector ,dec_state)\n",
        "                  dec_prob.append(d_prob[:,-1])\n",
        "                  #probability distribution of words  \n",
        "                  # Sample a token from the last distribution\n",
        "                  new_tokens = tf.random.categorical(d_prob[:,-1],1,dtype=tf.int32)    \n",
        "                  generated_samples = tf.concat([generated_samples, new_tokens],-1)   \n",
        "                  del d_prob          \n",
        "                              \n",
        "              #generated_samples,context_vector= self.generate_sample(batch_UserID,batch_ItemID)\n",
        "              #generated_samples=tf.cast(tf.concat([generated_samples,np.transpose([[3] * batch_size])],1),dtype=tf.int32)\n",
        "             # generating samples\n",
        "              g_loss = tf.constant(0.0)           \n",
        "\n",
        "              reward=[]\n",
        "              with tape.stop_recording():\n",
        "                for k in range(rollout_num):\n",
        "                  \n",
        "                    for given_num in range(1,review_dec_length+1):\n",
        "                      # the generation of first part of seq\n",
        "                      _, dec_state=self.decoder(generated_samples[:,:given_num], context_vector)\n",
        "\n",
        "                      # generated probability distribution given the samples\n",
        "                      dec_rollout_prob=tf.zeros([batch_size,1,max_vocab_size],dtype= tf.float32)                     \n",
        "                      rollout_samples=tf.zeros([review_dec_length-given_num+1, batch_size] ,dtype= tf.int32)                 \n",
        "                      rd=None\n",
        "\n",
        "                      if given_num!=review_dec_length+2:\n",
        "                          # sampling seq length - i tokens with the roll out policy \n",
        "                        \n",
        "                          current_input_token=generated_samples[:,given_num-1:given_num]\n",
        "                          rollout_samples_list =tf.unstack(rollout_samples)                   \n",
        "                          for j in range(review_dec_length-given_num+2):\n",
        "                              dec_rollout_prob,dec_state=self.decoder( current_input_token, context_vector ,dec_state)\n",
        "                          \n",
        "                              # Sample a token\n",
        "                              current_input_token = tf.random.categorical(dec_rollout_prob[:,0,:],1,dtype=tf.int32) \n",
        "\n",
        "                              rollout_samples_list.append(current_input_token[:,0])\n",
        "                      \n",
        "                          rollout_samples=tf.stack(tf.transpose(rollout_samples_list))   \n",
        "                          full_samples= tf.concat([ generated_samples[:,1:given_num], rollout_samples] ,1)\n",
        "                          dec_rollout_prob=None\n",
        "                          rollout_samples=None                        \n",
        "                          gc.collect()\n",
        "                          gc.collect(0)   \n",
        "                          gc.collect(1)   \n",
        "                          gc.collect(2)   \n",
        "\n",
        "                          #full sample\n",
        "                          rd=self.discriminator.get_reward(full_samples,context_vector)\n",
        "\n",
        "                      else:\n",
        "                          rd=self.discriminator.get_reward(generated_samples[:,1:],context_vector)\n",
        "                          #  print(\"size of dis\",asizeof.asized(self.discriminator, detail=1).format() )\n",
        "\n",
        "                    \n",
        "                      if k==0: \n",
        "                          reward.append(rd)\n",
        "                      else:\n",
        "                        reward[given_num-1] +=rd  \n",
        "\n",
        "              reward = tf.stack(reward,1)/ rollout_num # batchsize * seq_length\n",
        "              g_loss = self.loss_fn(generated_samples[:,1:] , tf.transpose( tf.stack(dec_prob) , [1,0,2]) , reward)\n",
        "            variables = self.user_encoder.trainable_variables + self.item_encoder.trainable_variables + self.decoder.trainable_variables \n",
        "            gradients = tape.gradient(g_loss, variables)                  \n",
        "            self.optimizer_gn.apply_gradients(zip(gradients, variables))\n",
        "            print(\"gen batch loss in policy gradient training: \",g_loss)\n",
        "            train_plx_gen_plc.update_state(g_loss)\n",
        "          \n",
        "    def _train_step_disc(self):\n",
        "\n",
        "          with tf.GradientTape() as tape:\n",
        "\n",
        "            positive_data,positive_user_indices,positive_item_indices = self.sample_real_data() # ground-truth data\n",
        "            negative_data,negative_user_indices,negative_item_indices = self.sample_fake_data() # machine-generated data\n",
        "            #data shape (batch_size * seq length)\n",
        "            whole_user_indices = tf.concat([positive_user_indices,negative_user_indices],0)\n",
        "            whole_item_indices = tf.concat([positive_item_indices,negative_item_indices],0)\n",
        "\n",
        "            positive_labels = tf.ones(batch_size, dtype=tf.int32) \n",
        "            negative_labels = tf.zeros(batch_size, dtype=tf.int32) \n",
        "            labels = tf.concat([positive_labels, negative_labels], 0)\n",
        "\n",
        "            shuffle_indices = tf.random.shuffle( tf.range(0, len(labels),dtype=tf.int32))\n",
        "            whole_data = tf.gather(tf.concat([positive_data,negative_data],0),shuffle_indices)    \n",
        "            labels = tf.gather(labels,shuffle_indices)\n",
        "            whole_user_indices = tf.gather(whole_user_indices,shuffle_indices)\n",
        "            whole_item_indices = tf.gather(whole_item_indices,shuffle_indices)\n",
        "            query_embedding = tf.concat([tf.gather(user_specific_vector , whole_user_indices) ,tf.gather( item_specific_vector , whole_item_indices)], 1)\n",
        "            # query shape (batch_size ,2.feature_num)\n",
        "            dis_reward = self.discriminator.get_reward( whole_data,query_embedding,training=True)\n",
        "            disc_loss = self.loss_ds(labels,dis_reward)\n",
        "         \n",
        "          variables = self.discriminator.trainable_variables \n",
        "          gradients = tape.gradient(disc_loss, variables)\n",
        "          self.optimizer_ds.apply_gradients(zip(gradients, variables))\n",
        "          print(\"disc loss: \",disc_loss)\n",
        "\n",
        "          train_acc_dis.update_state(labels,dis_reward)\n",
        "\n",
        "    def sample_real_data(self):\n",
        "\n",
        "      sample = train_data[np.random.choice(range(0,train_data.shape[0]),batch_size)][['userid','itemid','review_out']]\n",
        "\n",
        "      return   tf.stack(sample['review_out']) ,sample['userid'], sample['itemid']\n",
        " \n",
        "    def sample_fake_data(self):\n",
        "                \n",
        "      drawn_userid = np.random.choice(range(0,num_users),batch_size).astype('int32')\n",
        "      drawn_itemid = np.random.choice(range(0,num_items),batch_size).astype('int32')   \n",
        "      context_vector = tf.concat([tf.gather(user_specific_vector , drawn_userid) ,tf.gather(item_specific_vector , drawn_itemid)], 1)\n",
        "      sample = self.generate_sample(context_vector)\n",
        "\n",
        "      return sample,drawn_userid,drawn_itemid\n",
        "\n",
        "    def generate_sample(self, context_vector ):\n",
        "   \n",
        "        dec_out = [tf.convert_to_tensor(batch_size * [[2]])]\n",
        "        dec_state=None    \n",
        "        for _ in range(review_dec_length):           \n",
        "            dec_prob,dec_state = self.decoder( dec_out[-1], context_vector ,dec_state)          \n",
        "            dec_out.append(tf.random.categorical(dec_prob[:,-1],1,dtype=tf.int32))            \n",
        "            del dec_prob          \n",
        "        gc.collect()\n",
        "        \n",
        "        return tf.squeeze(tf.stack(dec_out,1))[:,1:] \n",
        "\n",
        "    def train(self):\n",
        "        tf.profiler.experimental.start('logs')\n",
        "\n",
        "        for batch_step in range(4):\n",
        "          with tf.profiler.experimental.Trace(\"train\",step_num=batch_step, _r=1):\n",
        "            print(\"\\n batch number : \",batch_step)\n",
        "            (batch_UserID,batch_ItemID,batch_rating,batch_review_in,batch_review_out) = next(iter(train_ds))\n",
        "            \n",
        "            batch_Userdoc=[user_doc[i] for i in batch_UserID]\n",
        "            batch_Itemdoc=[item_doc[i] for i in batch_ItemID]\n",
        "            user_review_num = np.sum([it.shape[0] for it in batch_Userdoc],dtype=int)\n",
        "            item_review_num = np.sum([it.shape[0] for it in batch_Itemdoc],dtype=int)\n",
        "\n",
        "            batch_Userdoc_flattened= []\n",
        "            for i, doc in enumerate(batch_Userdoc):\n",
        "                batch_Userdoc_flattened=np.append(batch_Userdoc_flattened, doc)\n",
        "\n",
        "            batch_Itemdoc_flattened= []\n",
        "            for i, doc in enumerate(batch_Itemdoc):\n",
        "                batch_Itemdoc_flattened=np.append(batch_Itemdoc_flattened, doc)\n",
        "\n",
        "            # t step generator training teacher forcing\n",
        "            for _ in range(t_step): \n",
        "              self._train_step_gn_teacher(batch_Userdoc_flattened,batch_Itemdoc_flattened,batch_Userdoc,batch_Itemdoc,batch_review_in,batch_review_out,user_review_num,item_review_num)\n",
        "              \n",
        "            # g step generator training policy gradient    \n",
        "            for _ in range(g_step):             \n",
        "              self._train_step_gn_policy(batch_Userdoc_flattened,batch_Itemdoc_flattened,batch_Userdoc,batch_Itemdoc,user_review_num,item_review_num)  \n",
        "             \n",
        "            # d step discriminator training\n",
        "            for _ in range(d_step):\n",
        "                self._train_step_disc()\n",
        "\n",
        "\n",
        "            with train_summary_writer.as_default():\n",
        "                  tf.summary.scalar('Training perplexity for generator in Teacher Forcing mode', train_plx_gen_tch.result(), step=int(ckpt.step))\n",
        "                  tf.summary.scalar('Training perplexity for generator in Policy Gradient mode', train_plx_gen_plc.result(), step=int(ckpt.step))\n",
        "                  tf.summary.scalar('Training accuracy for discriminator', train_acc_dis.result(), step=int(ckpt.step))\n",
        "        \n",
        "        tf.profiler.experimental.stop()\n",
        "    \n"
      ]
    },
    {
      "cell_type": "markdown",
      "metadata": {
        "id": "_3YKdf1-uW8Q"
      },
      "source": [
        "# **Multi-Task Learning**"
      ]
    },
    {
      "cell_type": "code",
      "execution_count": 76,
      "metadata": {
        "id": "khZxlR9oRxVe"
      },
      "outputs": [],
      "source": [
        "class MultiTaskModel(tf.keras.Model):\n",
        "      def __init__(self):\n",
        "        super().__init__()\n",
        "        self.pmf_model=PMF(num_feat=feature_num,maxepoch=100,num_item=len(item_to_column) ,num_user=len(user_to_row), mean_inv=np.mean(train_data['rating']))\n",
        "        self.seq2seq_model=Seq2Seq(embedding_dim,num_batches,batch_size)      \n",
        "\n",
        "      def train(self,n_epochs):    \n",
        "          ckpt.restore(manager.latest_checkpoint)\n",
        "          if manager.latest_checkpoint:\n",
        "            print(\"Restored from {}\".format(manager.latest_checkpoint))\n",
        "          else:\n",
        "            print(\"Initializing from scratch.\")\n",
        "\n",
        "          for epoch in range(n_epochs):\n",
        "              print(\"\\n\\nepoch : \", int(ckpt.step))\n",
        "            \n",
        "              print(\"********************************************* \\nPMF Model Training Turn =>\")\n",
        "              self.pmf_model.train()\n",
        "              print(\"\\n********************************************* \\nSeq2Seq Model Training Turn =>\")                                         \n",
        "              self.seq2seq_model.train( )\n",
        "            \n",
        "              ckpt.step.assign_add(1)\n",
        "              save_path = manager.save()\n",
        "              print(\"Saved checkpoint for epoch {}: {}\".format(int(ckpt.step), save_path))\n",
        "            # with graph_summary_writer.as_default():\n",
        "            #     tf.summary.trace_export('seq2seq train step',profiler_outdir=graph_log_dir,step=epoch)\n"
      ]
    },
    {
      "cell_type": "code",
      "execution_count": 77,
      "metadata": {
        "colab": {
          "base_uri": "https://localhost:8080/"
        },
        "id": "mrzxSK6IUr6O",
        "outputId": "212b1776-5de7-4896-f09a-4ea54c2405df"
      },
      "outputs": [],
      "source": [
        "gc.collect()\n",
        "gc.collect(0)\n",
        "gc.collect(1)\n",
        "gc.collect(2)\n",
        "\n",
        "# creating an instance of Multi_Task Model\n",
        "mt_model = MultiTaskModel()\n",
        "ckpt = tf.train.Checkpoint(step=tf.Variable(0), optimizer=tf.keras.optimizers.Adam(), net=mt_model)\n",
        "manager = tf.train.CheckpointManager(ckpt, './tf_ckpts', max_to_keep=30)\n"
      ]
    },
    {
      "cell_type": "code",
      "execution_count": 78,
      "metadata": {},
      "outputs": [],
      "source": [
        "#tf.profiler.experimental.stop()\n"
      ]
    },
    {
      "cell_type": "code",
      "execution_count": 79,
      "metadata": {},
      "outputs": [
        {
          "name": "stdout",
          "output_type": "stream",
          "text": [
            "Restored from ./tf_ckpts/ckpt-14\n",
            "\n",
            "\n",
            "epoch :  14\n",
            "********************************************* \n",
            "PMF Model Training Turn =>\n",
            "\n",
            "Training RMSE: 1.081711, Test RMSE 1.083858\n",
            "\n",
            "********************************************* \n",
            "Seq2Seq Model Training Turn =>\n",
            "\n",
            " batch number :  0\n"
          ]
        },
        {
          "name": "stderr",
          "output_type": "stream",
          "text": [
            "2022-11-21 14:42:19.154143: I tensorflow/core/profiler/lib/profiler_session.cc:99] Profiler session initializing.\n",
            "2022-11-21 14:42:19.154178: I tensorflow/core/profiler/lib/profiler_session.cc:114] Profiler session started.\n",
            "2022-11-21 14:42:19.154215: I tensorflow/core/profiler/internal/gpu/cupti_tracer.cc:1665] Profiler found 1 GPUs\n",
            "2022-11-21 14:42:19.154549: W tensorflow/stream_executor/platform/default/dso_loader.cc:64] Could not load dynamic library 'libcupti.so.11.2'; dlerror: libcupti.so.11.2: cannot open shared object file: No such file or directory\n",
            "2022-11-21 14:42:20.509443: I tensorflow/stream_executor/cuda/cuda_dnn.cc:384] Loaded cuDNN version 8500\n",
            "2022-11-21 14:42:20.759241: I tensorflow/stream_executor/cuda/cuda_blas.cc:1786] TensorFloat-32 will be used for the matrix multiplication. This will only be logged once.\n"
          ]
        },
        {
          "name": "stdout",
          "output_type": "stream",
          "text": [
            "gen batch loss in supervised training tf.Tensor(6.49052, shape=(), dtype=float32)\n"
          ]
        },
        {
          "name": "stderr",
          "output_type": "stream",
          "text": [
            "2022-11-21 14:42:23.259139: W tensorflow/core/common_runtime/bfc_allocator.cc:290] Allocator (GPU_0_bfc) ran out of memory trying to allocate 3.09GiB with freed_by_count=0. The caller indicates that this is not a failure, but this may mean that there could be performance gains if more memory were available.\n",
            "2022-11-21 14:42:23.259176: W tensorflow/core/common_runtime/bfc_allocator.cc:290] Allocator (GPU_0_bfc) ran out of memory trying to allocate 3.09GiB with freed_by_count=0. The caller indicates that this is not a failure, but this may mean that there could be performance gains if more memory were available.\n",
            "2022-11-21 14:42:23.287325: W tensorflow/core/common_runtime/bfc_allocator.cc:290] Allocator (GPU_0_bfc) ran out of memory trying to allocate 3.09GiB with freed_by_count=0. The caller indicates that this is not a failure, but this may mean that there could be performance gains if more memory were available.\n",
            "2022-11-21 14:42:23.287355: W tensorflow/core/common_runtime/bfc_allocator.cc:290] Allocator (GPU_0_bfc) ran out of memory trying to allocate 3.09GiB with freed_by_count=0. The caller indicates that this is not a failure, but this may mean that there could be performance gains if more memory were available.\n",
            "2022-11-21 14:42:23.318307: W tensorflow/core/common_runtime/bfc_allocator.cc:290] Allocator (GPU_0_bfc) ran out of memory trying to allocate 3.09GiB with freed_by_count=0. The caller indicates that this is not a failure, but this may mean that there could be performance gains if more memory were available.\n",
            "2022-11-21 14:42:23.318334: W tensorflow/core/common_runtime/bfc_allocator.cc:290] Allocator (GPU_0_bfc) ran out of memory trying to allocate 3.09GiB with freed_by_count=0. The caller indicates that this is not a failure, but this may mean that there could be performance gains if more memory were available.\n",
            "2022-11-21 14:42:23.352147: W tensorflow/core/common_runtime/bfc_allocator.cc:290] Allocator (GPU_0_bfc) ran out of memory trying to allocate 3.09GiB with freed_by_count=0. The caller indicates that this is not a failure, but this may mean that there could be performance gains if more memory were available.\n",
            "2022-11-21 14:42:23.352175: W tensorflow/core/common_runtime/bfc_allocator.cc:290] Allocator (GPU_0_bfc) ran out of memory trying to allocate 3.09GiB with freed_by_count=0. The caller indicates that this is not a failure, but this may mean that there could be performance gains if more memory were available.\n",
            "2022-11-21 14:42:24.108605: W tensorflow/core/common_runtime/bfc_allocator.cc:290] Allocator (GPU_0_bfc) ran out of memory trying to allocate 3.09GiB with freed_by_count=0. The caller indicates that this is not a failure, but this may mean that there could be performance gains if more memory were available.\n",
            "2022-11-21 14:42:24.108641: W tensorflow/core/common_runtime/bfc_allocator.cc:290] Allocator (GPU_0_bfc) ran out of memory trying to allocate 3.09GiB with freed_by_count=0. The caller indicates that this is not a failure, but this may mean that there could be performance gains if more memory were available.\n",
            "2022-11-21 14:42:57.294670: W tensorflow/core/common_runtime/bfc_allocator.cc:479] Allocator (GPU_0_bfc) ran out of memory trying to allocate 78.12MiB (rounded to 81920000)requested by op Log\n",
            "If the cause is memory fragmentation maybe the environment variable 'TF_GPU_ALLOCATOR=cuda_malloc_async' will improve the situation. \n",
            "Current allocation summary follows.\n",
            "Current allocation summary follows.\n",
            "2022-11-21 14:42:57.294811: I tensorflow/core/common_runtime/bfc_allocator.cc:1027] BFCAllocator dump for GPU_0_bfc\n",
            "2022-11-21 14:42:57.294824: I tensorflow/core/common_runtime/bfc_allocator.cc:1034] Bin (256): \tTotal Chunks: 546, Chunks in use: 546. 136.5KiB allocated for chunks. 136.5KiB in use in bin. 91.8KiB client-requested in use in bin.\n",
            "2022-11-21 14:42:57.294834: I tensorflow/core/common_runtime/bfc_allocator.cc:1034] Bin (512): \tTotal Chunks: 69, Chunks in use: 69. 38.8KiB allocated for chunks. 38.8KiB in use in bin. 37.1KiB client-requested in use in bin.\n",
            "2022-11-21 14:42:57.294841: I tensorflow/core/common_runtime/bfc_allocator.cc:1034] Bin (1024): \tTotal Chunks: 9, Chunks in use: 9. 12.8KiB allocated for chunks. 12.8KiB in use in bin. 12.0KiB client-requested in use in bin.\n",
            "2022-11-21 14:42:57.294847: I tensorflow/core/common_runtime/bfc_allocator.cc:1034] Bin (2048): \tTotal Chunks: 19, Chunks in use: 19. 53.0KiB allocated for chunks. 53.0KiB in use in bin. 51.9KiB client-requested in use in bin.\n",
            "2022-11-21 14:42:57.294854: I tensorflow/core/common_runtime/bfc_allocator.cc:1034] Bin (4096): \tTotal Chunks: 142, Chunks in use: 142. 633.5KiB allocated for chunks. 633.5KiB in use in bin. 630.9KiB client-requested in use in bin.\n",
            "2022-11-21 14:42:57.294860: I tensorflow/core/common_runtime/bfc_allocator.cc:1034] Bin (8192): \tTotal Chunks: 81, Chunks in use: 80. 970.2KiB allocated for chunks. 954.8KiB in use in bin. 944.5KiB client-requested in use in bin.\n",
            "2022-11-21 14:42:57.294867: I tensorflow/core/common_runtime/bfc_allocator.cc:1034] Bin (16384): \tTotal Chunks: 200, Chunks in use: 199. 4.11MiB allocated for chunks. 4.10MiB in use in bin. 4.09MiB client-requested in use in bin.\n",
            "2022-11-21 14:42:57.294873: I tensorflow/core/common_runtime/bfc_allocator.cc:1034] Bin (32768): \tTotal Chunks: 115, Chunks in use: 115. 5.71MiB allocated for chunks. 5.71MiB in use in bin. 5.70MiB client-requested in use in bin.\n",
            "2022-11-21 14:42:57.294879: I tensorflow/core/common_runtime/bfc_allocator.cc:1034] Bin (65536): \tTotal Chunks: 49, Chunks in use: 48. 4.88MiB allocated for chunks. 4.79MiB in use in bin. 4.76MiB client-requested in use in bin.\n",
            "2022-11-21 14:42:57.294886: I tensorflow/core/common_runtime/bfc_allocator.cc:1034] Bin (131072): \tTotal Chunks: 102, Chunks in use: 102. 18.41MiB allocated for chunks. 18.41MiB in use in bin. 17.70MiB client-requested in use in bin.\n",
            "2022-11-21 14:42:57.294891: I tensorflow/core/common_runtime/bfc_allocator.cc:1034] Bin (262144): \tTotal Chunks: 15, Chunks in use: 15. 5.19MiB allocated for chunks. 5.19MiB in use in bin. 4.96MiB client-requested in use in bin.\n",
            "2022-11-21 14:42:57.294898: I tensorflow/core/common_runtime/bfc_allocator.cc:1034] Bin (524288): \tTotal Chunks: 13, Chunks in use: 13. 8.96MiB allocated for chunks. 8.96MiB in use in bin. 8.50MiB client-requested in use in bin.\n",
            "2022-11-21 14:42:57.294904: I tensorflow/core/common_runtime/bfc_allocator.cc:1034] Bin (1048576): \tTotal Chunks: 0, Chunks in use: 0. 0B allocated for chunks. 0B in use in bin. 0B client-requested in use in bin.\n",
            "2022-11-21 14:42:57.294912: I tensorflow/core/common_runtime/bfc_allocator.cc:1034] Bin (2097152): \tTotal Chunks: 69, Chunks in use: 67. 176.42MiB allocated for chunks. 170.06MiB in use in bin. 166.91MiB client-requested in use in bin.\n",
            "2022-11-21 14:42:57.294918: I tensorflow/core/common_runtime/bfc_allocator.cc:1034] Bin (4194304): \tTotal Chunks: 7, Chunks in use: 5. 38.22MiB allocated for chunks. 27.59MiB in use in bin. 25.35MiB client-requested in use in bin.\n",
            "2022-11-21 14:42:57.294925: I tensorflow/core/common_runtime/bfc_allocator.cc:1034] Bin (8388608): \tTotal Chunks: 2, Chunks in use: 2. 25.58MiB allocated for chunks. 25.58MiB in use in bin. 24.41MiB client-requested in use in bin.\n",
            "2022-11-21 14:42:57.294931: I tensorflow/core/common_runtime/bfc_allocator.cc:1034] Bin (16777216): \tTotal Chunks: 3, Chunks in use: 2. 63.87MiB allocated for chunks. 34.56MiB in use in bin. 34.56MiB client-requested in use in bin.\n",
            "2022-11-21 14:42:57.294938: I tensorflow/core/common_runtime/bfc_allocator.cc:1034] Bin (33554432): \tTotal Chunks: 2, Chunks in use: 2. 66.47MiB allocated for chunks. 66.47MiB in use in bin. 66.47MiB client-requested in use in bin.\n",
            "2022-11-21 14:42:57.294948: I tensorflow/core/common_runtime/bfc_allocator.cc:1034] Bin (67108864): \tTotal Chunks: 10, Chunks in use: 9. 939.27MiB allocated for chunks. 863.59MiB in use in bin. 765.93MiB client-requested in use in bin.\n",
            "2022-11-21 14:42:57.294955: I tensorflow/core/common_runtime/bfc_allocator.cc:1034] Bin (134217728): \tTotal Chunks: 5, Chunks in use: 5. 774.04MiB allocated for chunks. 774.04MiB in use in bin. 609.46MiB client-requested in use in bin.\n",
            "2022-11-21 14:42:57.294960: I tensorflow/core/common_runtime/bfc_allocator.cc:1034] Bin (268435456): \tTotal Chunks: 0, Chunks in use: 0. 0B allocated for chunks. 0B in use in bin. 0B client-requested in use in bin.\n",
            "2022-11-21 14:42:57.294968: I tensorflow/core/common_runtime/bfc_allocator.cc:1050] Bin for 78.12MiB was 64.00MiB, Chunk State: \n",
            "2022-11-21 14:42:57.294982: I tensorflow/core/common_runtime/bfc_allocator.cc:1056]   Size: 75.68MiB | Requested Size: 17.46MiB | in_use: 0 | bin_num: 18, prev:   Size: 146.48MiB | Requested Size: 78.12MiB | in_use: 1 | bin_num: -1, next:   Size: 78.12MiB | Requested Size: 78.12MiB | in_use: 1 | bin_num: -1\n",
            "2022-11-21 14:42:57.294987: I tensorflow/core/common_runtime/bfc_allocator.cc:1063] Next region of size 86966272\n",
            "2022-11-21 14:42:57.294997: I tensorflow/core/common_runtime/bfc_allocator.cc:1083] InUse at 7f423c000000 of size 86966272 next 18446744073709551615\n",
            "2022-11-21 14:42:57.295001: I tensorflow/core/common_runtime/bfc_allocator.cc:1063] Next region of size 1073741824\n",
            "2022-11-21 14:42:57.295006: I tensorflow/core/common_runtime/bfc_allocator.cc:1083] InUse at 7f4242000000 of size 169862400 next 97\n",
            "2022-11-21 14:42:57.295010: I tensorflow/core/common_runtime/bfc_allocator.cc:1083] InUse at 7f424c1fe500 of size 169862400 next 130\n",
            "2022-11-21 14:42:57.295014: I tensorflow/core/common_runtime/bfc_allocator.cc:1083] InUse at 7f42563fca00 of size 169862400 next 137\n",
            "2022-11-21 14:42:57.295019: I tensorflow/core/common_runtime/bfc_allocator.cc:1083] InUse at 7f42605faf00 of size 153600000 next 1499\n",
            "2022-11-21 14:42:57.295024: I tensorflow/core/common_runtime/bfc_allocator.cc:1083] Free  at 7f4269876f00 of size 79360000 next 1462\n",
            "2022-11-21 14:42:57.295028: I tensorflow/core/common_runtime/bfc_allocator.cc:1083] InUse at 7f426e425f00 of size 81920000 next 1486\n",
            "2022-11-21 14:42:57.295032: I tensorflow/core/common_runtime/bfc_allocator.cc:1083] InUse at 7f4273245f00 of size 81920000 next 1457\n",
            "2022-11-21 14:42:57.295037: I tensorflow/core/common_runtime/bfc_allocator.cc:1083] InUse at 7f4278065f00 of size 81920000 next 1461\n",
            "2022-11-21 14:42:57.295041: I tensorflow/core/common_runtime/bfc_allocator.cc:1083] InUse at 7f427ce85f00 of size 85434624 next 18446744073709551615\n",
            "2022-11-21 14:42:57.295045: I tensorflow/core/common_runtime/bfc_allocator.cc:1063] Next region of size 536870912\n",
            "2022-11-21 14:42:57.295050: I tensorflow/core/common_runtime/bfc_allocator.cc:1083] InUse at 7f4292000000 of size 120247552 next 58\n",
            "2022-11-21 14:42:57.295054: I tensorflow/core/common_runtime/bfc_allocator.cc:1083] InUse at 7f42992ad500 of size 12288 next 80\n",
            "2022-11-21 14:42:57.295058: I tensorflow/core/common_runtime/bfc_allocator.cc:1083] InUse at 7f42992b0500 of size 256 next 66\n",
            "2022-11-21 14:42:57.295063: I tensorflow/core/common_runtime/bfc_allocator.cc:1083] InUse at 7f42992b0600 of size 256 next 133\n",
            "2022-11-21 14:42:57.295072: I tensorflow/core/common_runtime/bfc_allocator.cc:1083] InUse at 7f42992b0700 of size 256 next 134\n",
            "2022-11-21 14:42:57.295077: I tensorflow/core/common_runtime/bfc_allocator.cc:1083] InUse at 7f42992b0800 of size 512 next 135\n",
            "2022-11-21 14:42:57.295081: I tensorflow/core/common_runtime/bfc_allocator.cc:1083] InUse at 7f42992b0a00 of size 256 next 138\n",
            "2022-11-21 14:42:57.295086: I tensorflow/core/common_runtime/bfc_allocator.cc:1083] InUse at 7f42992b0b00 of size 768 next 113\n",
            "2022-11-21 14:42:57.295090: I tensorflow/core/common_runtime/bfc_allocator.cc:1083] InUse at 7f42992b0e00 of size 256 next 57\n",
            "2022-11-21 14:42:57.295095: I tensorflow/core/common_runtime/bfc_allocator.cc:1083] InUse at 7f42992b0f00 of size 1536 next 714\n",
            "2022-11-21 14:42:57.295099: I tensorflow/core/common_runtime/bfc_allocator.cc:1083] InUse at 7f42992b1500 of size 256 next 701\n",
            "2022-11-21 14:42:57.295103: I tensorflow/core/common_runtime/bfc_allocator.cc:1083] InUse at 7f42992b1600 of size 256 next 117\n",
            "2022-11-21 14:42:57.295108: I tensorflow/core/common_runtime/bfc_allocator.cc:1083] InUse at 7f42992b1700 of size 256 next 685\n",
            "2022-11-21 14:42:57.295112: I tensorflow/core/common_runtime/bfc_allocator.cc:1083] InUse at 7f42992b1800 of size 256 next 705\n",
            "2022-11-21 14:42:57.295116: I tensorflow/core/common_runtime/bfc_allocator.cc:1083] InUse at 7f42992b1900 of size 256 next 663\n",
            "2022-11-21 14:42:57.295120: I tensorflow/core/common_runtime/bfc_allocator.cc:1083] InUse at 7f42992b1a00 of size 256 next 662\n",
            "2022-11-21 14:42:57.295124: I tensorflow/core/common_runtime/bfc_allocator.cc:1083] InUse at 7f42992b1b00 of size 6656 next 142\n",
            "2022-11-21 14:42:57.295129: I tensorflow/core/common_runtime/bfc_allocator.cc:1083] InUse at 7f42992b3500 of size 256 next 148\n",
            "2022-11-21 14:42:57.295133: I tensorflow/core/common_runtime/bfc_allocator.cc:1083] InUse at 7f42992b3600 of size 256 next 147\n",
            "2022-11-21 14:42:57.295137: I tensorflow/core/common_runtime/bfc_allocator.cc:1083] InUse at 7f42992b3700 of size 256 next 74\n",
            "2022-11-21 14:42:57.295141: I tensorflow/core/common_runtime/bfc_allocator.cc:1083] InUse at 7f42992b3800 of size 4096 next 702\n",
            "2022-11-21 14:42:57.295146: I tensorflow/core/common_runtime/bfc_allocator.cc:1083] InUse at 7f42992b4800 of size 4096 next 688\n",
            "2022-11-21 14:42:57.295150: I tensorflow/core/common_runtime/bfc_allocator.cc:1083] InUse at 7f42992b5800 of size 4096 next 704\n",
            "2022-11-21 14:42:57.295154: I tensorflow/core/common_runtime/bfc_allocator.cc:1083] InUse at 7f42992b6800 of size 256 next 713\n",
            "2022-11-21 14:42:57.295158: I tensorflow/core/common_runtime/bfc_allocator.cc:1083] InUse at 7f42992b6900 of size 256 next 93\n",
            "2022-11-21 14:42:57.295162: I tensorflow/core/common_runtime/bfc_allocator.cc:1083] InUse at 7f42992b6a00 of size 1280 next 353\n",
            "2022-11-21 14:42:57.295166: I tensorflow/core/common_runtime/bfc_allocator.cc:1083] InUse at 7f42992b6f00 of size 256 next 75\n",
            "2022-11-21 14:42:57.295171: I tensorflow/core/common_runtime/bfc_allocator.cc:1083] InUse at 7f42992b7000 of size 1536 next 76\n",
            "2022-11-21 14:42:57.295175: I tensorflow/core/common_runtime/bfc_allocator.cc:1083] InUse at 7f42992b7600 of size 256 next 77\n",
            "2022-11-21 14:42:57.295179: I tensorflow/core/common_runtime/bfc_allocator.cc:1083] InUse at 7f42992b7700 of size 1792 next 655\n",
            "2022-11-21 14:42:57.295183: I tensorflow/core/common_runtime/bfc_allocator.cc:1083] InUse at 7f42992b7e00 of size 256 next 397\n",
            "2022-11-21 14:42:57.295188: I tensorflow/core/common_runtime/bfc_allocator.cc:1083] InUse at 7f42992b7f00 of size 2048 next 653\n",
            "2022-11-21 14:42:57.295192: I tensorflow/core/common_runtime/bfc_allocator.cc:1083] InUse at 7f42992b8700 of size 256 next 395\n",
            "2022-11-21 14:42:57.295196: I tensorflow/core/common_runtime/bfc_allocator.cc:1083] InUse at 7f42992b8800 of size 3328 next 151\n",
            "2022-11-21 14:42:57.295200: I tensorflow/core/common_runtime/bfc_allocator.cc:1083] InUse at 7f42992b9500 of size 256 next 399\n",
            "2022-11-21 14:42:57.295204: I tensorflow/core/common_runtime/bfc_allocator.cc:1083] InUse at 7f42992b9600 of size 256 next 95\n",
            "2022-11-21 14:42:57.295209: I tensorflow/core/common_runtime/bfc_allocator.cc:1083] InUse at 7f42992b9700 of size 256 next 79\n",
            "2022-11-21 14:42:57.295213: I tensorflow/core/common_runtime/bfc_allocator.cc:1083] InUse at 7f42992b9800 of size 256 next 120\n",
            "2022-11-21 14:42:57.295217: I tensorflow/core/common_runtime/bfc_allocator.cc:1083] InUse at 7f42992b9900 of size 256 next 121\n",
            "2022-11-21 14:42:57.295221: I tensorflow/core/common_runtime/bfc_allocator.cc:1083] InUse at 7f42992b9a00 of size 256 next 150\n",
            "2022-11-21 14:42:57.295225: I tensorflow/core/common_runtime/bfc_allocator.cc:1083] InUse at 7f42992b9b00 of size 256 next 92\n",
            "2022-11-21 14:42:57.295229: I tensorflow/core/common_runtime/bfc_allocator.cc:1083] InUse at 7f42992b9c00 of size 256 next 123\n",
            "2022-11-21 14:42:57.295233: I tensorflow/core/common_runtime/bfc_allocator.cc:1083] InUse at 7f42992b9d00 of size 256 next 125\n",
            "2022-11-21 14:42:57.295238: I tensorflow/core/common_runtime/bfc_allocator.cc:1083] InUse at 7f42992b9e00 of size 256 next 146\n",
            "2022-11-21 14:42:57.295242: I tensorflow/core/common_runtime/bfc_allocator.cc:1083] InUse at 7f42992b9f00 of size 256 next 401\n",
            "2022-11-21 14:42:57.295246: I tensorflow/core/common_runtime/bfc_allocator.cc:1083] InUse at 7f42992ba000 of size 18118656 next 87\n",
            "2022-11-21 14:42:57.295251: I tensorflow/core/common_runtime/bfc_allocator.cc:1083] InUse at 7f429a401800 of size 18118656 next 152\n",
            "2022-11-21 14:42:57.295255: I tensorflow/core/common_runtime/bfc_allocator.cc:1083] InUse at 7f429b549000 of size 2560000 next 403\n",
            "2022-11-21 14:42:57.295259: I tensorflow/core/common_runtime/bfc_allocator.cc:1083] InUse at 7f429b7ba000 of size 2560000 next 404\n",
            "2022-11-21 14:42:57.295264: I tensorflow/core/common_runtime/bfc_allocator.cc:1083] InUse at 7f429ba2b000 of size 2560000 next 698\n",
            "2022-11-21 14:42:57.295268: I tensorflow/core/common_runtime/bfc_allocator.cc:1083] InUse at 7f429bc9c000 of size 2560000 next 725\n",
            "2022-11-21 14:42:57.295272: I tensorflow/core/common_runtime/bfc_allocator.cc:1083] InUse at 7f429bf0d000 of size 2560000 next 729\n",
            "2022-11-21 14:42:57.295276: I tensorflow/core/common_runtime/bfc_allocator.cc:1083] InUse at 7f429c17e000 of size 2560000 next 747\n",
            "2022-11-21 14:42:57.295280: I tensorflow/core/common_runtime/bfc_allocator.cc:1083] InUse at 7f429c3ef000 of size 177408 next 787\n",
            "2022-11-21 14:42:57.295285: I tensorflow/core/common_runtime/bfc_allocator.cc:1083] InUse at 7f429c41a500 of size 2560000 next 751\n",
            "2022-11-21 14:42:57.295289: I tensorflow/core/common_runtime/bfc_allocator.cc:1083] InUse at 7f429c68b500 of size 2560000 next 769\n",
            "2022-11-21 14:42:57.295294: I tensorflow/core/common_runtime/bfc_allocator.cc:1083] InUse at 7f429c8fc500 of size 219136 next 772\n",
            "2022-11-21 14:42:57.295298: I tensorflow/core/common_runtime/bfc_allocator.cc:1083] InUse at 7f429c931d00 of size 512 next 792\n",
            "2022-11-21 14:42:57.295302: I tensorflow/core/common_runtime/bfc_allocator.cc:1083] InUse at 7f429c931f00 of size 176128 next 795\n",
            "2022-11-21 14:42:57.295306: I tensorflow/core/common_runtime/bfc_allocator.cc:1083] InUse at 7f429c95cf00 of size 256 next 796\n",
            "2022-11-21 14:42:57.295311: I tensorflow/core/common_runtime/bfc_allocator.cc:1083] InUse at 7f429c95d000 of size 256 next 797\n",
            "2022-11-21 14:42:57.295315: I tensorflow/core/common_runtime/bfc_allocator.cc:1083] InUse at 7f429c95d100 of size 256 next 798\n",
            "2022-11-21 14:42:57.295319: I tensorflow/core/common_runtime/bfc_allocator.cc:1083] InUse at 7f429c95d200 of size 256 next 799\n",
            "2022-11-21 14:42:57.295323: I tensorflow/core/common_runtime/bfc_allocator.cc:1083] InUse at 7f429c95d300 of size 256 next 800\n",
            "2022-11-21 14:42:57.295327: I tensorflow/core/common_runtime/bfc_allocator.cc:1083] InUse at 7f429c95d400 of size 256 next 801\n",
            "2022-11-21 14:42:57.295332: I tensorflow/core/common_runtime/bfc_allocator.cc:1083] InUse at 7f429c95d500 of size 54784 next 802\n",
            "2022-11-21 14:42:57.295336: I tensorflow/core/common_runtime/bfc_allocator.cc:1083] InUse at 7f429c96ab00 of size 54784 next 803\n",
            "2022-11-21 14:42:57.295340: I tensorflow/core/common_runtime/bfc_allocator.cc:1083] InUse at 7f429c978100 of size 54784 next 804\n",
            "2022-11-21 14:42:57.295344: I tensorflow/core/common_runtime/bfc_allocator.cc:1083] InUse at 7f429c985700 of size 4096 next 805\n",
            "2022-11-21 14:42:57.295348: I tensorflow/core/common_runtime/bfc_allocator.cc:1083] InUse at 7f429c986700 of size 4096 next 806\n",
            "2022-11-21 14:42:57.295352: I tensorflow/core/common_runtime/bfc_allocator.cc:1083] InUse at 7f429c987700 of size 4096 next 807\n",
            "2022-11-21 14:42:57.295357: I tensorflow/core/common_runtime/bfc_allocator.cc:1083] InUse at 7f429c988700 of size 177408 next 808\n",
            "2022-11-21 14:42:57.295361: I tensorflow/core/common_runtime/bfc_allocator.cc:1083] InUse at 7f429c9b3c00 of size 16384 next 809\n",
            "2022-11-21 14:42:57.295365: I tensorflow/core/common_runtime/bfc_allocator.cc:1083] InUse at 7f429c9b7c00 of size 16384 next 810\n",
            "2022-11-21 14:42:57.295370: I tensorflow/core/common_runtime/bfc_allocator.cc:1083] InUse at 7f429c9bbc00 of size 256 next 811\n",
            "2022-11-21 14:42:57.295374: I tensorflow/core/common_runtime/bfc_allocator.cc:1083] InUse at 7f429c9bbd00 of size 2560000 next 773\n",
            "2022-11-21 14:42:57.295378: I tensorflow/core/common_runtime/bfc_allocator.cc:1083] InUse at 7f429cc2cd00 of size 2560000 next 791\n",
            "2022-11-21 14:42:57.295382: I tensorflow/core/common_runtime/bfc_allocator.cc:1083] InUse at 7f429ce9dd00 of size 219136 next 793\n",
            "2022-11-21 14:42:57.295386: I tensorflow/core/common_runtime/bfc_allocator.cc:1083] InUse at 7f429ced3500 of size 512 next 814\n",
            "2022-11-21 14:42:57.295391: I tensorflow/core/common_runtime/bfc_allocator.cc:1083] InUse at 7f429ced3700 of size 176128 next 818\n",
            "2022-11-21 14:42:57.295395: I tensorflow/core/common_runtime/bfc_allocator.cc:1083] InUse at 7f429cefe700 of size 256 next 819\n",
            "2022-11-21 14:42:57.295399: I tensorflow/core/common_runtime/bfc_allocator.cc:1083] InUse at 7f429cefe800 of size 256 next 820\n",
            "2022-11-21 14:42:57.295403: I tensorflow/core/common_runtime/bfc_allocator.cc:1083] InUse at 7f429cefe900 of size 256 next 821\n",
            "2022-11-21 14:42:57.295407: I tensorflow/core/common_runtime/bfc_allocator.cc:1083] InUse at 7f429cefea00 of size 256 next 822\n",
            "2022-11-21 14:42:57.295411: I tensorflow/core/common_runtime/bfc_allocator.cc:1083] InUse at 7f429cefeb00 of size 256 next 823\n",
            "2022-11-21 14:42:57.295416: I tensorflow/core/common_runtime/bfc_allocator.cc:1083] InUse at 7f429cefec00 of size 256 next 824\n",
            "2022-11-21 14:42:57.295420: I tensorflow/core/common_runtime/bfc_allocator.cc:1083] InUse at 7f429cefed00 of size 54784 next 825\n",
            "2022-11-21 14:42:57.295424: I tensorflow/core/common_runtime/bfc_allocator.cc:1083] InUse at 7f429cf0c300 of size 54784 next 826\n",
            "2022-11-21 14:42:57.295428: I tensorflow/core/common_runtime/bfc_allocator.cc:1083] InUse at 7f429cf19900 of size 54784 next 827\n",
            "2022-11-21 14:42:57.295432: I tensorflow/core/common_runtime/bfc_allocator.cc:1083] InUse at 7f429cf26f00 of size 4096 next 828\n",
            "2022-11-21 14:42:57.295437: I tensorflow/core/common_runtime/bfc_allocator.cc:1083] InUse at 7f429cf27f00 of size 4096 next 829\n",
            "2022-11-21 14:42:57.295441: I tensorflow/core/common_runtime/bfc_allocator.cc:1083] InUse at 7f429cf28f00 of size 4096 next 830\n",
            "2022-11-21 14:42:57.295445: I tensorflow/core/common_runtime/bfc_allocator.cc:1083] InUse at 7f429cf29f00 of size 177408 next 831\n",
            "2022-11-21 14:42:57.295449: I tensorflow/core/common_runtime/bfc_allocator.cc:1083] InUse at 7f429cf55400 of size 16384 next 832\n",
            "2022-11-21 14:42:57.295453: I tensorflow/core/common_runtime/bfc_allocator.cc:1083] InUse at 7f429cf59400 of size 16384 next 833\n",
            "2022-11-21 14:42:57.295458: I tensorflow/core/common_runtime/bfc_allocator.cc:1083] InUse at 7f429cf5d400 of size 256 next 834\n",
            "2022-11-21 14:42:57.295462: I tensorflow/core/common_runtime/bfc_allocator.cc:1083] InUse at 7f429cf5d500 of size 98560 next 836\n",
            "2022-11-21 14:42:57.295466: I tensorflow/core/common_runtime/bfc_allocator.cc:1083] InUse at 7f429cf75600 of size 2814208 next 812\n",
            "2022-11-21 14:42:57.295470: I tensorflow/core/common_runtime/bfc_allocator.cc:1083] InUse at 7f429d224700 of size 98560 next 813\n",
            "2022-11-21 14:42:57.295475: I tensorflow/core/common_runtime/bfc_allocator.cc:1083] InUse at 7f429d23c800 of size 2560000 next 794\n",
            "2022-11-21 14:42:57.295479: I tensorflow/core/common_runtime/bfc_allocator.cc:1083] InUse at 7f429d4ad800 of size 219136 next 815\n",
            "2022-11-21 14:42:57.295483: I tensorflow/core/common_runtime/bfc_allocator.cc:1083] InUse at 7f429d4e3000 of size 512 next 835\n",
            "2022-11-21 14:42:57.295487: I tensorflow/core/common_runtime/bfc_allocator.cc:1083] InUse at 7f429d4e3200 of size 176128 next 839\n",
            "2022-11-21 14:42:57.295492: I tensorflow/core/common_runtime/bfc_allocator.cc:1083] InUse at 7f429d50e200 of size 256 next 840\n",
            "2022-11-21 14:42:57.295496: I tensorflow/core/common_runtime/bfc_allocator.cc:1083] InUse at 7f429d50e300 of size 256 next 841\n",
            "2022-11-21 14:42:57.295500: I tensorflow/core/common_runtime/bfc_allocator.cc:1083] InUse at 7f429d50e400 of size 256 next 842\n",
            "2022-11-21 14:42:57.295504: I tensorflow/core/common_runtime/bfc_allocator.cc:1083] InUse at 7f429d50e500 of size 256 next 843\n",
            "2022-11-21 14:42:57.295508: I tensorflow/core/common_runtime/bfc_allocator.cc:1083] InUse at 7f429d50e600 of size 256 next 844\n",
            "2022-11-21 14:42:57.295512: I tensorflow/core/common_runtime/bfc_allocator.cc:1083] InUse at 7f429d50e700 of size 256 next 845\n",
            "2022-11-21 14:42:57.295516: I tensorflow/core/common_runtime/bfc_allocator.cc:1083] InUse at 7f429d50e800 of size 54784 next 846\n",
            "2022-11-21 14:42:57.295521: I tensorflow/core/common_runtime/bfc_allocator.cc:1083] InUse at 7f429d51be00 of size 54784 next 847\n",
            "2022-11-21 14:42:57.295525: I tensorflow/core/common_runtime/bfc_allocator.cc:1083] InUse at 7f429d529400 of size 54784 next 848\n",
            "2022-11-21 14:42:57.295529: I tensorflow/core/common_runtime/bfc_allocator.cc:1083] InUse at 7f429d536a00 of size 4096 next 849\n",
            "2022-11-21 14:42:57.295533: I tensorflow/core/common_runtime/bfc_allocator.cc:1083] InUse at 7f429d537a00 of size 4096 next 850\n",
            "2022-11-21 14:42:57.295537: I tensorflow/core/common_runtime/bfc_allocator.cc:1083] InUse at 7f429d538a00 of size 4096 next 851\n",
            "2022-11-21 14:42:57.295542: I tensorflow/core/common_runtime/bfc_allocator.cc:1083] InUse at 7f429d539a00 of size 177408 next 852\n",
            "2022-11-21 14:42:57.295546: I tensorflow/core/common_runtime/bfc_allocator.cc:1083] InUse at 7f429d564f00 of size 16384 next 853\n",
            "2022-11-21 14:42:57.295550: I tensorflow/core/common_runtime/bfc_allocator.cc:1083] InUse at 7f429d568f00 of size 16384 next 854\n",
            "2022-11-21 14:42:57.295554: I tensorflow/core/common_runtime/bfc_allocator.cc:1083] InUse at 7f429d56cf00 of size 256 next 855\n",
            "2022-11-21 14:42:57.295558: I tensorflow/core/common_runtime/bfc_allocator.cc:1083] InUse at 7f429d56d000 of size 2560000 next 816\n",
            "2022-11-21 14:42:57.295562: I tensorflow/core/common_runtime/bfc_allocator.cc:1083] InUse at 7f429d7de000 of size 2560000 next 817\n",
            "2022-11-21 14:42:57.295567: I tensorflow/core/common_runtime/bfc_allocator.cc:1083] InUse at 7f429da4f000 of size 219136 next 837\n",
            "2022-11-21 14:42:57.295571: I tensorflow/core/common_runtime/bfc_allocator.cc:1083] InUse at 7f429da84800 of size 512 next 858\n",
            "2022-11-21 14:42:57.295575: I tensorflow/core/common_runtime/bfc_allocator.cc:1083] InUse at 7f429da84a00 of size 176128 next 862\n",
            "2022-11-21 14:42:57.295579: I tensorflow/core/common_runtime/bfc_allocator.cc:1083] InUse at 7f429daafa00 of size 256 next 863\n",
            "2022-11-21 14:42:57.295583: I tensorflow/core/common_runtime/bfc_allocator.cc:1083] InUse at 7f429daafb00 of size 256 next 864\n",
            "2022-11-21 14:42:57.295588: I tensorflow/core/common_runtime/bfc_allocator.cc:1083] InUse at 7f429daafc00 of size 256 next 865\n",
            "2022-11-21 14:42:57.295592: I tensorflow/core/common_runtime/bfc_allocator.cc:1083] InUse at 7f429daafd00 of size 256 next 866\n",
            "2022-11-21 14:42:57.295596: I tensorflow/core/common_runtime/bfc_allocator.cc:1083] InUse at 7f429daafe00 of size 256 next 867\n",
            "2022-11-21 14:42:57.295600: I tensorflow/core/common_runtime/bfc_allocator.cc:1083] InUse at 7f429daaff00 of size 256 next 868\n",
            "2022-11-21 14:42:57.295604: I tensorflow/core/common_runtime/bfc_allocator.cc:1083] InUse at 7f429dab0000 of size 54784 next 869\n",
            "2022-11-21 14:42:57.295608: I tensorflow/core/common_runtime/bfc_allocator.cc:1083] InUse at 7f429dabd600 of size 54784 next 870\n",
            "2022-11-21 14:42:57.295613: I tensorflow/core/common_runtime/bfc_allocator.cc:1083] InUse at 7f429dacac00 of size 54784 next 871\n",
            "2022-11-21 14:42:57.295617: I tensorflow/core/common_runtime/bfc_allocator.cc:1083] InUse at 7f429dad8200 of size 4096 next 872\n",
            "2022-11-21 14:42:57.295621: I tensorflow/core/common_runtime/bfc_allocator.cc:1083] InUse at 7f429dad9200 of size 4096 next 873\n",
            "2022-11-21 14:42:57.295625: I tensorflow/core/common_runtime/bfc_allocator.cc:1083] InUse at 7f429dada200 of size 4096 next 874\n",
            "2022-11-21 14:42:57.295630: I tensorflow/core/common_runtime/bfc_allocator.cc:1083] InUse at 7f429dadb200 of size 177408 next 875\n",
            "2022-11-21 14:42:57.295634: I tensorflow/core/common_runtime/bfc_allocator.cc:1083] InUse at 7f429db06700 of size 16384 next 876\n",
            "2022-11-21 14:42:57.295638: I tensorflow/core/common_runtime/bfc_allocator.cc:1083] InUse at 7f429db0a700 of size 16384 next 877\n",
            "2022-11-21 14:42:57.295642: I tensorflow/core/common_runtime/bfc_allocator.cc:1083] InUse at 7f429db0e700 of size 256 next 878\n",
            "2022-11-21 14:42:57.295646: I tensorflow/core/common_runtime/bfc_allocator.cc:1083] InUse at 7f429db0e800 of size 98560 next 880\n",
            "2022-11-21 14:42:57.295651: I tensorflow/core/common_runtime/bfc_allocator.cc:1083] InUse at 7f429db26900 of size 2814208 next 856\n",
            "2022-11-21 14:42:57.295655: I tensorflow/core/common_runtime/bfc_allocator.cc:1083] InUse at 7f429ddd5a00 of size 98560 next 857\n",
            "2022-11-21 14:42:57.295659: I tensorflow/core/common_runtime/bfc_allocator.cc:1083] InUse at 7f429ddedb00 of size 2560000 next 838\n",
            "2022-11-21 14:42:57.295663: I tensorflow/core/common_runtime/bfc_allocator.cc:1083] InUse at 7f429e05eb00 of size 219136 next 859\n",
            "2022-11-21 14:42:57.295667: I tensorflow/core/common_runtime/bfc_allocator.cc:1083] InUse at 7f429e094300 of size 512 next 879\n",
            "2022-11-21 14:42:57.295671: I tensorflow/core/common_runtime/bfc_allocator.cc:1083] InUse at 7f429e094500 of size 176128 next 883\n",
            "2022-11-21 14:42:57.295676: I tensorflow/core/common_runtime/bfc_allocator.cc:1083] InUse at 7f429e0bf500 of size 256 next 884\n",
            "2022-11-21 14:42:57.295680: I tensorflow/core/common_runtime/bfc_allocator.cc:1083] InUse at 7f429e0bf600 of size 256 next 885\n",
            "2022-11-21 14:42:57.295684: I tensorflow/core/common_runtime/bfc_allocator.cc:1083] InUse at 7f429e0bf700 of size 256 next 886\n",
            "2022-11-21 14:42:57.295688: I tensorflow/core/common_runtime/bfc_allocator.cc:1083] InUse at 7f429e0bf800 of size 256 next 887\n",
            "2022-11-21 14:42:57.295692: I tensorflow/core/common_runtime/bfc_allocator.cc:1083] InUse at 7f429e0bf900 of size 256 next 888\n",
            "2022-11-21 14:42:57.295696: I tensorflow/core/common_runtime/bfc_allocator.cc:1083] InUse at 7f429e0bfa00 of size 256 next 889\n",
            "2022-11-21 14:42:57.295700: I tensorflow/core/common_runtime/bfc_allocator.cc:1083] InUse at 7f429e0bfb00 of size 54784 next 890\n",
            "2022-11-21 14:42:57.295705: I tensorflow/core/common_runtime/bfc_allocator.cc:1083] InUse at 7f429e0cd100 of size 54784 next 891\n",
            "2022-11-21 14:42:57.295709: I tensorflow/core/common_runtime/bfc_allocator.cc:1083] InUse at 7f429e0da700 of size 54784 next 892\n",
            "2022-11-21 14:42:57.295713: I tensorflow/core/common_runtime/bfc_allocator.cc:1083] InUse at 7f429e0e7d00 of size 4096 next 893\n",
            "2022-11-21 14:42:57.295717: I tensorflow/core/common_runtime/bfc_allocator.cc:1083] InUse at 7f429e0e8d00 of size 4096 next 894\n",
            "2022-11-21 14:42:57.295721: I tensorflow/core/common_runtime/bfc_allocator.cc:1083] InUse at 7f429e0e9d00 of size 4096 next 895\n",
            "2022-11-21 14:42:57.295725: I tensorflow/core/common_runtime/bfc_allocator.cc:1083] InUse at 7f429e0ead00 of size 177408 next 896\n",
            "2022-11-21 14:42:57.295730: I tensorflow/core/common_runtime/bfc_allocator.cc:1083] InUse at 7f429e116200 of size 16384 next 897\n",
            "2022-11-21 14:42:57.295734: I tensorflow/core/common_runtime/bfc_allocator.cc:1083] InUse at 7f429e11a200 of size 16384 next 898\n",
            "2022-11-21 14:42:57.295738: I tensorflow/core/common_runtime/bfc_allocator.cc:1083] InUse at 7f429e11e200 of size 256 next 899\n",
            "2022-11-21 14:42:57.295742: I tensorflow/core/common_runtime/bfc_allocator.cc:1083] InUse at 7f429e11e300 of size 2560000 next 860\n",
            "2022-11-21 14:42:57.295746: I tensorflow/core/common_runtime/bfc_allocator.cc:1083] InUse at 7f429e38f300 of size 2560000 next 861\n",
            "2022-11-21 14:42:57.295751: I tensorflow/core/common_runtime/bfc_allocator.cc:1083] InUse at 7f429e600300 of size 219136 next 881\n",
            "2022-11-21 14:42:57.295755: I tensorflow/core/common_runtime/bfc_allocator.cc:1083] InUse at 7f429e635b00 of size 512 next 902\n",
            "2022-11-21 14:42:57.295759: I tensorflow/core/common_runtime/bfc_allocator.cc:1083] InUse at 7f429e635d00 of size 176128 next 906\n",
            "2022-11-21 14:42:57.295763: I tensorflow/core/common_runtime/bfc_allocator.cc:1083] InUse at 7f429e660d00 of size 256 next 907\n",
            "2022-11-21 14:42:57.295767: I tensorflow/core/common_runtime/bfc_allocator.cc:1083] InUse at 7f429e660e00 of size 256 next 908\n",
            "2022-11-21 14:42:57.295771: I tensorflow/core/common_runtime/bfc_allocator.cc:1083] InUse at 7f429e660f00 of size 256 next 909\n",
            "2022-11-21 14:42:57.295776: I tensorflow/core/common_runtime/bfc_allocator.cc:1083] InUse at 7f429e661000 of size 256 next 910\n",
            "2022-11-21 14:42:57.295780: I tensorflow/core/common_runtime/bfc_allocator.cc:1083] InUse at 7f429e661100 of size 256 next 911\n",
            "2022-11-21 14:42:57.295784: I tensorflow/core/common_runtime/bfc_allocator.cc:1083] InUse at 7f429e661200 of size 256 next 912\n",
            "2022-11-21 14:42:57.295788: I tensorflow/core/common_runtime/bfc_allocator.cc:1083] InUse at 7f429e661300 of size 54784 next 913\n",
            "2022-11-21 14:42:57.295792: I tensorflow/core/common_runtime/bfc_allocator.cc:1083] InUse at 7f429e66e900 of size 54784 next 914\n",
            "2022-11-21 14:42:57.295796: I tensorflow/core/common_runtime/bfc_allocator.cc:1083] InUse at 7f429e67bf00 of size 54784 next 915\n",
            "2022-11-21 14:42:57.295801: I tensorflow/core/common_runtime/bfc_allocator.cc:1083] InUse at 7f429e689500 of size 4096 next 916\n",
            "2022-11-21 14:42:57.295805: I tensorflow/core/common_runtime/bfc_allocator.cc:1083] InUse at 7f429e68a500 of size 4096 next 917\n",
            "2022-11-21 14:42:57.295809: I tensorflow/core/common_runtime/bfc_allocator.cc:1083] InUse at 7f429e68b500 of size 4096 next 918\n",
            "2022-11-21 14:42:57.295813: I tensorflow/core/common_runtime/bfc_allocator.cc:1083] InUse at 7f429e68c500 of size 177408 next 919\n",
            "2022-11-21 14:42:57.295817: I tensorflow/core/common_runtime/bfc_allocator.cc:1083] InUse at 7f429e6b7a00 of size 16384 next 920\n",
            "2022-11-21 14:42:57.295822: I tensorflow/core/common_runtime/bfc_allocator.cc:1083] InUse at 7f429e6bba00 of size 16384 next 921\n",
            "2022-11-21 14:42:57.295826: I tensorflow/core/common_runtime/bfc_allocator.cc:1083] InUse at 7f429e6bfa00 of size 256 next 922\n",
            "2022-11-21 14:42:57.295830: I tensorflow/core/common_runtime/bfc_allocator.cc:1083] InUse at 7f429e6bfb00 of size 98560 next 924\n",
            "2022-11-21 14:42:57.295834: I tensorflow/core/common_runtime/bfc_allocator.cc:1083] InUse at 7f429e6d7c00 of size 2814208 next 900\n",
            "2022-11-21 14:42:57.295838: I tensorflow/core/common_runtime/bfc_allocator.cc:1083] InUse at 7f429e986d00 of size 98560 next 901\n",
            "2022-11-21 14:42:57.295844: I tensorflow/core/common_runtime/bfc_allocator.cc:1083] InUse at 7f429e99ee00 of size 2560000 next 882\n",
            "2022-11-21 14:42:57.295848: I tensorflow/core/common_runtime/bfc_allocator.cc:1083] InUse at 7f429ec0fe00 of size 219136 next 903\n",
            "2022-11-21 14:42:57.295852: I tensorflow/core/common_runtime/bfc_allocator.cc:1083] InUse at 7f429ec45600 of size 512 next 923\n",
            "2022-11-21 14:42:57.295856: I tensorflow/core/common_runtime/bfc_allocator.cc:1083] InUse at 7f429ec45800 of size 176128 next 927\n",
            "2022-11-21 14:42:57.295861: I tensorflow/core/common_runtime/bfc_allocator.cc:1083] InUse at 7f429ec70800 of size 256 next 928\n",
            "2022-11-21 14:42:57.295866: I tensorflow/core/common_runtime/bfc_allocator.cc:1083] InUse at 7f429ec70900 of size 256 next 929\n",
            "2022-11-21 14:42:57.295871: I tensorflow/core/common_runtime/bfc_allocator.cc:1083] InUse at 7f429ec70a00 of size 256 next 930\n",
            "2022-11-21 14:42:57.295875: I tensorflow/core/common_runtime/bfc_allocator.cc:1083] InUse at 7f429ec70b00 of size 256 next 931\n",
            "2022-11-21 14:42:57.295879: I tensorflow/core/common_runtime/bfc_allocator.cc:1083] InUse at 7f429ec70c00 of size 256 next 932\n",
            "2022-11-21 14:42:57.295883: I tensorflow/core/common_runtime/bfc_allocator.cc:1083] InUse at 7f429ec70d00 of size 256 next 933\n",
            "2022-11-21 14:42:57.295887: I tensorflow/core/common_runtime/bfc_allocator.cc:1083] InUse at 7f429ec70e00 of size 54784 next 934\n",
            "2022-11-21 14:42:57.295892: I tensorflow/core/common_runtime/bfc_allocator.cc:1083] InUse at 7f429ec7e400 of size 54784 next 935\n",
            "2022-11-21 14:42:57.295896: I tensorflow/core/common_runtime/bfc_allocator.cc:1083] InUse at 7f429ec8ba00 of size 54784 next 936\n",
            "2022-11-21 14:42:57.295900: I tensorflow/core/common_runtime/bfc_allocator.cc:1083] InUse at 7f429ec99000 of size 4096 next 937\n",
            "2022-11-21 14:42:57.295904: I tensorflow/core/common_runtime/bfc_allocator.cc:1083] InUse at 7f429ec9a000 of size 4096 next 938\n",
            "2022-11-21 14:42:57.295908: I tensorflow/core/common_runtime/bfc_allocator.cc:1083] InUse at 7f429ec9b000 of size 4096 next 939\n",
            "2022-11-21 14:42:57.295912: I tensorflow/core/common_runtime/bfc_allocator.cc:1083] InUse at 7f429ec9c000 of size 177408 next 940\n",
            "2022-11-21 14:42:57.295917: I tensorflow/core/common_runtime/bfc_allocator.cc:1083] InUse at 7f429ecc7500 of size 16384 next 941\n",
            "2022-11-21 14:42:57.295921: I tensorflow/core/common_runtime/bfc_allocator.cc:1083] InUse at 7f429eccb500 of size 16384 next 942\n",
            "2022-11-21 14:42:57.295925: I tensorflow/core/common_runtime/bfc_allocator.cc:1083] InUse at 7f429eccf500 of size 256 next 943\n",
            "2022-11-21 14:42:57.295929: I tensorflow/core/common_runtime/bfc_allocator.cc:1083] InUse at 7f429eccf600 of size 2560000 next 904\n",
            "2022-11-21 14:42:57.295933: I tensorflow/core/common_runtime/bfc_allocator.cc:1083] InUse at 7f429ef40600 of size 2560000 next 905\n",
            "2022-11-21 14:42:57.295938: I tensorflow/core/common_runtime/bfc_allocator.cc:1083] InUse at 7f429f1b1600 of size 219136 next 925\n",
            "2022-11-21 14:42:57.295942: I tensorflow/core/common_runtime/bfc_allocator.cc:1083] InUse at 7f429f1e6e00 of size 512 next 946\n",
            "2022-11-21 14:42:57.295946: I tensorflow/core/common_runtime/bfc_allocator.cc:1083] InUse at 7f429f1e7000 of size 176128 next 950\n",
            "2022-11-21 14:42:57.295950: I tensorflow/core/common_runtime/bfc_allocator.cc:1083] InUse at 7f429f212000 of size 256 next 951\n",
            "2022-11-21 14:42:57.295954: I tensorflow/core/common_runtime/bfc_allocator.cc:1083] InUse at 7f429f212100 of size 256 next 952\n",
            "2022-11-21 14:42:57.295958: I tensorflow/core/common_runtime/bfc_allocator.cc:1083] InUse at 7f429f212200 of size 256 next 953\n",
            "2022-11-21 14:42:57.295962: I tensorflow/core/common_runtime/bfc_allocator.cc:1083] InUse at 7f429f212300 of size 256 next 954\n",
            "2022-11-21 14:42:57.295967: I tensorflow/core/common_runtime/bfc_allocator.cc:1083] InUse at 7f429f212400 of size 256 next 955\n",
            "2022-11-21 14:42:57.295971: I tensorflow/core/common_runtime/bfc_allocator.cc:1083] InUse at 7f429f212500 of size 256 next 956\n",
            "2022-11-21 14:42:57.295975: I tensorflow/core/common_runtime/bfc_allocator.cc:1083] InUse at 7f429f212600 of size 54784 next 957\n",
            "2022-11-21 14:42:57.295979: I tensorflow/core/common_runtime/bfc_allocator.cc:1083] InUse at 7f429f21fc00 of size 54784 next 958\n",
            "2022-11-21 14:42:57.295983: I tensorflow/core/common_runtime/bfc_allocator.cc:1083] InUse at 7f429f22d200 of size 54784 next 959\n",
            "2022-11-21 14:42:57.295987: I tensorflow/core/common_runtime/bfc_allocator.cc:1083] InUse at 7f429f23a800 of size 4096 next 960\n",
            "2022-11-21 14:42:57.295991: I tensorflow/core/common_runtime/bfc_allocator.cc:1083] InUse at 7f429f23b800 of size 4096 next 961\n",
            "2022-11-21 14:42:57.295996: I tensorflow/core/common_runtime/bfc_allocator.cc:1083] InUse at 7f429f23c800 of size 4096 next 962\n",
            "2022-11-21 14:42:57.296000: I tensorflow/core/common_runtime/bfc_allocator.cc:1083] InUse at 7f429f23d800 of size 177408 next 963\n",
            "2022-11-21 14:42:57.296004: I tensorflow/core/common_runtime/bfc_allocator.cc:1083] InUse at 7f429f268d00 of size 16384 next 964\n",
            "2022-11-21 14:42:57.296008: I tensorflow/core/common_runtime/bfc_allocator.cc:1083] InUse at 7f429f26cd00 of size 16384 next 965\n",
            "2022-11-21 14:42:57.296013: I tensorflow/core/common_runtime/bfc_allocator.cc:1083] InUse at 7f429f270d00 of size 256 next 966\n",
            "2022-11-21 14:42:57.296017: I tensorflow/core/common_runtime/bfc_allocator.cc:1083] InUse at 7f429f270e00 of size 98560 next 967\n",
            "2022-11-21 14:42:57.296021: I tensorflow/core/common_runtime/bfc_allocator.cc:1083] InUse at 7f429f288f00 of size 2814208 next 944\n",
            "2022-11-21 14:42:57.296025: I tensorflow/core/common_runtime/bfc_allocator.cc:1083] InUse at 7f429f538000 of size 98560 next 945\n",
            "2022-11-21 14:42:57.296029: I tensorflow/core/common_runtime/bfc_allocator.cc:1083] InUse at 7f429f550100 of size 2560000 next 926\n",
            "2022-11-21 14:42:57.296034: I tensorflow/core/common_runtime/bfc_allocator.cc:1083] InUse at 7f429f7c1100 of size 219136 next 947\n",
            "2022-11-21 14:42:57.296038: I tensorflow/core/common_runtime/bfc_allocator.cc:1083] InUse at 7f429f7f6900 of size 512 next 968\n",
            "2022-11-21 14:42:57.296042: I tensorflow/core/common_runtime/bfc_allocator.cc:1083] InUse at 7f429f7f6b00 of size 176128 next 971\n",
            "2022-11-21 14:42:57.296046: I tensorflow/core/common_runtime/bfc_allocator.cc:1083] InUse at 7f429f821b00 of size 256 next 972\n",
            "2022-11-21 14:42:57.296050: I tensorflow/core/common_runtime/bfc_allocator.cc:1083] InUse at 7f429f821c00 of size 256 next 973\n",
            "2022-11-21 14:42:57.296055: I tensorflow/core/common_runtime/bfc_allocator.cc:1083] InUse at 7f429f821d00 of size 256 next 974\n",
            "2022-11-21 14:42:57.296059: I tensorflow/core/common_runtime/bfc_allocator.cc:1083] InUse at 7f429f821e00 of size 256 next 975\n",
            "2022-11-21 14:42:57.296063: I tensorflow/core/common_runtime/bfc_allocator.cc:1083] InUse at 7f429f821f00 of size 256 next 976\n",
            "2022-11-21 14:42:57.296067: I tensorflow/core/common_runtime/bfc_allocator.cc:1083] InUse at 7f429f822000 of size 256 next 977\n",
            "2022-11-21 14:42:57.296071: I tensorflow/core/common_runtime/bfc_allocator.cc:1083] InUse at 7f429f822100 of size 54784 next 978\n",
            "2022-11-21 14:42:57.296075: I tensorflow/core/common_runtime/bfc_allocator.cc:1083] InUse at 7f429f82f700 of size 54784 next 979\n",
            "2022-11-21 14:42:57.296079: I tensorflow/core/common_runtime/bfc_allocator.cc:1083] InUse at 7f429f83cd00 of size 54784 next 980\n",
            "2022-11-21 14:42:57.296084: I tensorflow/core/common_runtime/bfc_allocator.cc:1083] InUse at 7f429f84a300 of size 4096 next 981\n",
            "2022-11-21 14:42:57.296088: I tensorflow/core/common_runtime/bfc_allocator.cc:1083] InUse at 7f429f84b300 of size 4096 next 982\n",
            "2022-11-21 14:42:57.296092: I tensorflow/core/common_runtime/bfc_allocator.cc:1083] InUse at 7f429f84c300 of size 4096 next 983\n",
            "2022-11-21 14:42:57.296096: I tensorflow/core/common_runtime/bfc_allocator.cc:1083] InUse at 7f429f84d300 of size 177408 next 984\n",
            "2022-11-21 14:42:57.296100: I tensorflow/core/common_runtime/bfc_allocator.cc:1083] InUse at 7f429f878800 of size 16384 next 985\n",
            "2022-11-21 14:42:57.296104: I tensorflow/core/common_runtime/bfc_allocator.cc:1083] InUse at 7f429f87c800 of size 16384 next 986\n",
            "2022-11-21 14:42:57.296109: I tensorflow/core/common_runtime/bfc_allocator.cc:1083] InUse at 7f429f880800 of size 256 next 987\n",
            "2022-11-21 14:42:57.296113: I tensorflow/core/common_runtime/bfc_allocator.cc:1083] InUse at 7f429f880900 of size 2560000 next 948\n",
            "2022-11-21 14:42:57.296117: I tensorflow/core/common_runtime/bfc_allocator.cc:1083] InUse at 7f429faf1900 of size 2560000 next 949\n",
            "2022-11-21 14:42:57.296121: I tensorflow/core/common_runtime/bfc_allocator.cc:1083] InUse at 7f429fd62900 of size 219136 next 969\n",
            "2022-11-21 14:42:57.296125: I tensorflow/core/common_runtime/bfc_allocator.cc:1083] InUse at 7f429fd98100 of size 512 next 989\n",
            "2022-11-21 14:42:57.296130: I tensorflow/core/common_runtime/bfc_allocator.cc:1083] InUse at 7f429fd98300 of size 176128 next 993\n",
            "2022-11-21 14:42:57.296134: I tensorflow/core/common_runtime/bfc_allocator.cc:1083] InUse at 7f429fdc3300 of size 256 next 994\n",
            "2022-11-21 14:42:57.296138: I tensorflow/core/common_runtime/bfc_allocator.cc:1083] InUse at 7f429fdc3400 of size 256 next 995\n",
            "2022-11-21 14:42:57.296142: I tensorflow/core/common_runtime/bfc_allocator.cc:1083] InUse at 7f429fdc3500 of size 256 next 996\n",
            "2022-11-21 14:42:57.296146: I tensorflow/core/common_runtime/bfc_allocator.cc:1083] InUse at 7f429fdc3600 of size 256 next 997\n",
            "2022-11-21 14:42:57.296150: I tensorflow/core/common_runtime/bfc_allocator.cc:1083] InUse at 7f429fdc3700 of size 256 next 998\n",
            "2022-11-21 14:42:57.296155: I tensorflow/core/common_runtime/bfc_allocator.cc:1083] InUse at 7f429fdc3800 of size 256 next 999\n",
            "2022-11-21 14:42:57.296159: I tensorflow/core/common_runtime/bfc_allocator.cc:1083] InUse at 7f429fdc3900 of size 54784 next 1000\n",
            "2022-11-21 14:42:57.296163: I tensorflow/core/common_runtime/bfc_allocator.cc:1083] InUse at 7f429fdd0f00 of size 54784 next 1001\n",
            "2022-11-21 14:42:57.296167: I tensorflow/core/common_runtime/bfc_allocator.cc:1083] InUse at 7f429fdde500 of size 54784 next 1002\n",
            "2022-11-21 14:42:57.296172: I tensorflow/core/common_runtime/bfc_allocator.cc:1083] InUse at 7f429fdebb00 of size 4096 next 1003\n",
            "2022-11-21 14:42:57.296176: I tensorflow/core/common_runtime/bfc_allocator.cc:1083] InUse at 7f429fdecb00 of size 4096 next 1004\n",
            "2022-11-21 14:42:57.296180: I tensorflow/core/common_runtime/bfc_allocator.cc:1083] InUse at 7f429fdedb00 of size 4096 next 1005\n",
            "2022-11-21 14:42:57.296184: I tensorflow/core/common_runtime/bfc_allocator.cc:1083] InUse at 7f429fdeeb00 of size 177408 next 1006\n",
            "2022-11-21 14:42:57.296188: I tensorflow/core/common_runtime/bfc_allocator.cc:1083] InUse at 7f429fe1a000 of size 16384 next 1007\n",
            "2022-11-21 14:42:57.296192: I tensorflow/core/common_runtime/bfc_allocator.cc:1083] InUse at 7f429fe1e000 of size 16384 next 1008\n",
            "2022-11-21 14:42:57.296197: I tensorflow/core/common_runtime/bfc_allocator.cc:1083] InUse at 7f429fe22000 of size 256 next 1009\n",
            "2022-11-21 14:42:57.296201: I tensorflow/core/common_runtime/bfc_allocator.cc:1083] InUse at 7f429fe22100 of size 98560 next 1011\n",
            "2022-11-21 14:42:57.296205: I tensorflow/core/common_runtime/bfc_allocator.cc:1083] InUse at 7f429fe3a200 of size 2560000 next 970\n",
            "2022-11-21 14:42:57.296209: I tensorflow/core/common_runtime/bfc_allocator.cc:1083] InUse at 7f42a00ab200 of size 4915968 next 94\n",
            "2022-11-21 14:42:57.296214: I tensorflow/core/common_runtime/bfc_allocator.cc:1083] InUse at 7f42a055b500 of size 115200 next 98\n",
            "2022-11-21 14:42:57.296218: I tensorflow/core/common_runtime/bfc_allocator.cc:1083] InUse at 7f42a0577700 of size 115200 next 99\n",
            "2022-11-21 14:42:57.296222: I tensorflow/core/common_runtime/bfc_allocator.cc:1083] InUse at 7f42a0593900 of size 12288 next 100\n",
            "2022-11-21 14:42:57.296227: I tensorflow/core/common_runtime/bfc_allocator.cc:1083] InUse at 7f42a0596900 of size 12288 next 101\n",
            "2022-11-21 14:42:57.296231: I tensorflow/core/common_runtime/bfc_allocator.cc:1083] InUse at 7f42a0599900 of size 768 next 102\n",
            "2022-11-21 14:42:57.296235: I tensorflow/core/common_runtime/bfc_allocator.cc:1083] InUse at 7f42a0599c00 of size 768 next 103\n",
            "2022-11-21 14:42:57.296239: I tensorflow/core/common_runtime/bfc_allocator.cc:1083] InUse at 7f42a0599f00 of size 768 next 104\n",
            "2022-11-21 14:42:57.296243: I tensorflow/core/common_runtime/bfc_allocator.cc:1083] InUse at 7f42a059a200 of size 115200 next 105\n",
            "2022-11-21 14:42:57.296248: I tensorflow/core/common_runtime/bfc_allocator.cc:1083] InUse at 7f42a05b6400 of size 160768 next 59\n",
            "2022-11-21 14:42:57.296252: I tensorflow/core/common_runtime/bfc_allocator.cc:1083] InUse at 7f42a05dd800 of size 128256 next 687\n",
            "2022-11-21 14:42:57.296257: I tensorflow/core/common_runtime/bfc_allocator.cc:1083] InUse at 7f42a05fcd00 of size 404992 next 60\n",
            "2022-11-21 14:42:57.296261: I tensorflow/core/common_runtime/bfc_allocator.cc:1083] InUse at 7f42a065fb00 of size 115200 next 106\n",
            "2022-11-21 14:42:57.296265: I tensorflow/core/common_runtime/bfc_allocator.cc:1083] InUse at 7f42a067bd00 of size 12288 next 107\n",
            "2022-11-21 14:42:57.296269: I tensorflow/core/common_runtime/bfc_allocator.cc:1083] InUse at 7f42a067ed00 of size 12288 next 108\n",
            "2022-11-21 14:42:57.296273: I tensorflow/core/common_runtime/bfc_allocator.cc:1083] InUse at 7f42a0681d00 of size 12288 next 109\n",
            "2022-11-21 14:42:57.296278: I tensorflow/core/common_runtime/bfc_allocator.cc:1083] InUse at 7f42a0684d00 of size 768 next 110\n",
            "2022-11-21 14:42:57.296282: I tensorflow/core/common_runtime/bfc_allocator.cc:1083] InUse at 7f42a0685000 of size 768 next 111\n",
            "2022-11-21 14:42:57.296286: I tensorflow/core/common_runtime/bfc_allocator.cc:1083] InUse at 7f42a0685300 of size 768 next 112\n",
            "2022-11-21 14:42:57.296290: I tensorflow/core/common_runtime/bfc_allocator.cc:1083] InUse at 7f42a0685600 of size 98560 next 988\n",
            "2022-11-21 14:42:57.296294: I tensorflow/core/common_runtime/bfc_allocator.cc:1083] InUse at 7f42a069d700 of size 219136 next 990\n",
            "2022-11-21 14:42:57.296299: I tensorflow/core/common_runtime/bfc_allocator.cc:1083] InUse at 7f42a06d2f00 of size 512 next 1010\n",
            "2022-11-21 14:42:57.296303: I tensorflow/core/common_runtime/bfc_allocator.cc:1083] InUse at 7f42a06d3100 of size 176128 next 1014\n",
            "2022-11-21 14:42:57.296307: I tensorflow/core/common_runtime/bfc_allocator.cc:1083] InUse at 7f42a06fe100 of size 256 next 1015\n",
            "2022-11-21 14:42:57.296311: I tensorflow/core/common_runtime/bfc_allocator.cc:1083] InUse at 7f42a06fe200 of size 256 next 1016\n",
            "2022-11-21 14:42:57.296315: I tensorflow/core/common_runtime/bfc_allocator.cc:1083] InUse at 7f42a06fe300 of size 256 next 1017\n",
            "2022-11-21 14:42:57.296320: I tensorflow/core/common_runtime/bfc_allocator.cc:1083] InUse at 7f42a06fe400 of size 256 next 1018\n",
            "2022-11-21 14:42:57.296324: I tensorflow/core/common_runtime/bfc_allocator.cc:1083] InUse at 7f42a06fe500 of size 256 next 1019\n",
            "2022-11-21 14:42:57.296328: I tensorflow/core/common_runtime/bfc_allocator.cc:1083] InUse at 7f42a06fe600 of size 256 next 1020\n",
            "2022-11-21 14:42:57.296332: I tensorflow/core/common_runtime/bfc_allocator.cc:1083] InUse at 7f42a06fe700 of size 54784 next 1021\n",
            "2022-11-21 14:42:57.296336: I tensorflow/core/common_runtime/bfc_allocator.cc:1083] InUse at 7f42a070bd00 of size 54784 next 1022\n",
            "2022-11-21 14:42:57.296341: I tensorflow/core/common_runtime/bfc_allocator.cc:1083] InUse at 7f42a0719300 of size 54784 next 1023\n",
            "2022-11-21 14:42:57.296345: I tensorflow/core/common_runtime/bfc_allocator.cc:1083] InUse at 7f42a0726900 of size 4096 next 1024\n",
            "2022-11-21 14:42:57.296349: I tensorflow/core/common_runtime/bfc_allocator.cc:1083] InUse at 7f42a0727900 of size 4096 next 1025\n",
            "2022-11-21 14:42:57.296353: I tensorflow/core/common_runtime/bfc_allocator.cc:1083] InUse at 7f42a0728900 of size 4096 next 1026\n",
            "2022-11-21 14:42:57.296357: I tensorflow/core/common_runtime/bfc_allocator.cc:1083] InUse at 7f42a0729900 of size 177408 next 1027\n",
            "2022-11-21 14:42:57.296362: I tensorflow/core/common_runtime/bfc_allocator.cc:1083] InUse at 7f42a0754e00 of size 16384 next 1028\n",
            "2022-11-21 14:42:57.296366: I tensorflow/core/common_runtime/bfc_allocator.cc:1083] InUse at 7f42a0758e00 of size 16384 next 1029\n",
            "2022-11-21 14:42:57.296370: I tensorflow/core/common_runtime/bfc_allocator.cc:1083] InUse at 7f42a075ce00 of size 256 next 1030\n",
            "2022-11-21 14:42:57.296374: I tensorflow/core/common_runtime/bfc_allocator.cc:1083] InUse at 7f42a075cf00 of size 2560000 next 991\n",
            "2022-11-21 14:42:57.296379: I tensorflow/core/common_runtime/bfc_allocator.cc:1083] InUse at 7f42a09cdf00 of size 2560000 next 992\n",
            "2022-11-21 14:42:57.296383: I tensorflow/core/common_runtime/bfc_allocator.cc:1083] InUse at 7f42a0c3ef00 of size 219136 next 1012\n",
            "2022-11-21 14:42:57.296387: I tensorflow/core/common_runtime/bfc_allocator.cc:1083] InUse at 7f42a0c74700 of size 512 next 1033\n",
            "2022-11-21 14:42:57.296392: I tensorflow/core/common_runtime/bfc_allocator.cc:1083] InUse at 7f42a0c74900 of size 176128 next 1037\n",
            "2022-11-21 14:42:57.296396: I tensorflow/core/common_runtime/bfc_allocator.cc:1083] InUse at 7f42a0c9f900 of size 256 next 1038\n",
            "2022-11-21 14:42:57.296400: I tensorflow/core/common_runtime/bfc_allocator.cc:1083] InUse at 7f42a0c9fa00 of size 256 next 1039\n",
            "2022-11-21 14:42:57.296404: I tensorflow/core/common_runtime/bfc_allocator.cc:1083] InUse at 7f42a0c9fb00 of size 256 next 1040\n",
            "2022-11-21 14:42:57.296408: I tensorflow/core/common_runtime/bfc_allocator.cc:1083] InUse at 7f42a0c9fc00 of size 256 next 1041\n",
            "2022-11-21 14:42:57.296412: I tensorflow/core/common_runtime/bfc_allocator.cc:1083] InUse at 7f42a0c9fd00 of size 256 next 1042\n",
            "2022-11-21 14:42:57.296416: I tensorflow/core/common_runtime/bfc_allocator.cc:1083] InUse at 7f42a0c9fe00 of size 256 next 1043\n",
            "2022-11-21 14:42:57.296421: I tensorflow/core/common_runtime/bfc_allocator.cc:1083] InUse at 7f42a0c9ff00 of size 54784 next 1044\n",
            "2022-11-21 14:42:57.296425: I tensorflow/core/common_runtime/bfc_allocator.cc:1083] InUse at 7f42a0cad500 of size 54784 next 1045\n",
            "2022-11-21 14:42:57.296429: I tensorflow/core/common_runtime/bfc_allocator.cc:1083] InUse at 7f42a0cbab00 of size 54784 next 1046\n",
            "2022-11-21 14:42:57.296433: I tensorflow/core/common_runtime/bfc_allocator.cc:1083] InUse at 7f42a0cc8100 of size 4096 next 1047\n",
            "2022-11-21 14:42:57.296437: I tensorflow/core/common_runtime/bfc_allocator.cc:1083] InUse at 7f42a0cc9100 of size 4096 next 1048\n",
            "2022-11-21 14:42:57.296442: I tensorflow/core/common_runtime/bfc_allocator.cc:1083] InUse at 7f42a0cca100 of size 4096 next 1049\n",
            "2022-11-21 14:42:57.296446: I tensorflow/core/common_runtime/bfc_allocator.cc:1083] InUse at 7f42a0ccb100 of size 177408 next 1050\n",
            "2022-11-21 14:42:57.296450: I tensorflow/core/common_runtime/bfc_allocator.cc:1083] InUse at 7f42a0cf6600 of size 16384 next 1051\n",
            "2022-11-21 14:42:57.296454: I tensorflow/core/common_runtime/bfc_allocator.cc:1083] InUse at 7f42a0cfa600 of size 16384 next 1052\n",
            "2022-11-21 14:42:57.296458: I tensorflow/core/common_runtime/bfc_allocator.cc:1083] InUse at 7f42a0cfe600 of size 256 next 1053\n",
            "2022-11-21 14:42:57.296463: I tensorflow/core/common_runtime/bfc_allocator.cc:1083] InUse at 7f42a0cfe700 of size 98560 next 1055\n",
            "2022-11-21 14:42:57.296467: I tensorflow/core/common_runtime/bfc_allocator.cc:1083] InUse at 7f42a0d16800 of size 2814208 next 1031\n",
            "2022-11-21 14:42:57.296471: I tensorflow/core/common_runtime/bfc_allocator.cc:1083] InUse at 7f42a0fc5900 of size 98560 next 1032\n",
            "2022-11-21 14:42:57.296476: I tensorflow/core/common_runtime/bfc_allocator.cc:1083] InUse at 7f42a0fdda00 of size 2560000 next 1013\n",
            "2022-11-21 14:42:57.296480: I tensorflow/core/common_runtime/bfc_allocator.cc:1083] InUse at 7f42a124ea00 of size 219136 next 1034\n",
            "2022-11-21 14:42:57.296484: I tensorflow/core/common_runtime/bfc_allocator.cc:1083] InUse at 7f42a1284200 of size 512 next 1054\n",
            "2022-11-21 14:42:57.296488: I tensorflow/core/common_runtime/bfc_allocator.cc:1083] InUse at 7f42a1284400 of size 176128 next 1058\n",
            "2022-11-21 14:42:57.296493: I tensorflow/core/common_runtime/bfc_allocator.cc:1083] InUse at 7f42a12af400 of size 256 next 1059\n",
            "2022-11-21 14:42:57.296497: I tensorflow/core/common_runtime/bfc_allocator.cc:1083] InUse at 7f42a12af500 of size 256 next 1060\n",
            "2022-11-21 14:42:57.296501: I tensorflow/core/common_runtime/bfc_allocator.cc:1083] InUse at 7f42a12af600 of size 256 next 1061\n",
            "2022-11-21 14:42:57.296505: I tensorflow/core/common_runtime/bfc_allocator.cc:1083] InUse at 7f42a12af700 of size 256 next 1062\n",
            "2022-11-21 14:42:57.296509: I tensorflow/core/common_runtime/bfc_allocator.cc:1083] InUse at 7f42a12af800 of size 256 next 1063\n",
            "2022-11-21 14:42:57.296514: I tensorflow/core/common_runtime/bfc_allocator.cc:1083] InUse at 7f42a12af900 of size 256 next 1064\n",
            "2022-11-21 14:42:57.296518: I tensorflow/core/common_runtime/bfc_allocator.cc:1083] InUse at 7f42a12afa00 of size 54784 next 1065\n",
            "2022-11-21 14:42:57.296522: I tensorflow/core/common_runtime/bfc_allocator.cc:1083] InUse at 7f42a12bd000 of size 54784 next 1066\n",
            "2022-11-21 14:42:57.296526: I tensorflow/core/common_runtime/bfc_allocator.cc:1083] InUse at 7f42a12ca600 of size 54784 next 1067\n",
            "2022-11-21 14:42:57.296530: I tensorflow/core/common_runtime/bfc_allocator.cc:1083] InUse at 7f42a12d7c00 of size 4096 next 1068\n",
            "2022-11-21 14:42:57.296535: I tensorflow/core/common_runtime/bfc_allocator.cc:1083] InUse at 7f42a12d8c00 of size 4096 next 1069\n",
            "2022-11-21 14:42:57.296539: I tensorflow/core/common_runtime/bfc_allocator.cc:1083] InUse at 7f42a12d9c00 of size 4096 next 1070\n",
            "2022-11-21 14:42:57.296543: I tensorflow/core/common_runtime/bfc_allocator.cc:1083] InUse at 7f42a12dac00 of size 177408 next 1071\n",
            "2022-11-21 14:42:57.296547: I tensorflow/core/common_runtime/bfc_allocator.cc:1083] InUse at 7f42a1306100 of size 16384 next 1072\n",
            "2022-11-21 14:42:57.296552: I tensorflow/core/common_runtime/bfc_allocator.cc:1083] InUse at 7f42a130a100 of size 16384 next 1073\n",
            "2022-11-21 14:42:57.296556: I tensorflow/core/common_runtime/bfc_allocator.cc:1083] InUse at 7f42a130e100 of size 256 next 1074\n",
            "2022-11-21 14:42:57.296560: I tensorflow/core/common_runtime/bfc_allocator.cc:1083] InUse at 7f42a130e200 of size 2560000 next 1035\n",
            "2022-11-21 14:42:57.296564: I tensorflow/core/common_runtime/bfc_allocator.cc:1083] InUse at 7f42a157f200 of size 2560000 next 1036\n",
            "2022-11-21 14:42:57.296568: I tensorflow/core/common_runtime/bfc_allocator.cc:1083] InUse at 7f42a17f0200 of size 219136 next 1056\n",
            "2022-11-21 14:42:57.296573: I tensorflow/core/common_runtime/bfc_allocator.cc:1083] InUse at 7f42a1825a00 of size 512 next 1077\n",
            "2022-11-21 14:42:57.296577: I tensorflow/core/common_runtime/bfc_allocator.cc:1083] InUse at 7f42a1825c00 of size 176128 next 1081\n",
            "2022-11-21 14:42:57.296581: I tensorflow/core/common_runtime/bfc_allocator.cc:1083] InUse at 7f42a1850c00 of size 256 next 1082\n",
            "2022-11-21 14:42:57.296585: I tensorflow/core/common_runtime/bfc_allocator.cc:1083] InUse at 7f42a1850d00 of size 256 next 1083\n",
            "2022-11-21 14:42:57.296589: I tensorflow/core/common_runtime/bfc_allocator.cc:1083] InUse at 7f42a1850e00 of size 256 next 1084\n",
            "2022-11-21 14:42:57.296594: I tensorflow/core/common_runtime/bfc_allocator.cc:1083] InUse at 7f42a1850f00 of size 256 next 1085\n",
            "2022-11-21 14:42:57.296598: I tensorflow/core/common_runtime/bfc_allocator.cc:1083] InUse at 7f42a1851000 of size 256 next 1086\n",
            "2022-11-21 14:42:57.296602: I tensorflow/core/common_runtime/bfc_allocator.cc:1083] InUse at 7f42a1851100 of size 256 next 1087\n",
            "2022-11-21 14:42:57.296606: I tensorflow/core/common_runtime/bfc_allocator.cc:1083] InUse at 7f42a1851200 of size 54784 next 1088\n",
            "2022-11-21 14:42:57.296610: I tensorflow/core/common_runtime/bfc_allocator.cc:1083] InUse at 7f42a185e800 of size 54784 next 1089\n",
            "2022-11-21 14:42:57.296615: I tensorflow/core/common_runtime/bfc_allocator.cc:1083] InUse at 7f42a186be00 of size 54784 next 1090\n",
            "2022-11-21 14:42:57.296619: I tensorflow/core/common_runtime/bfc_allocator.cc:1083] InUse at 7f42a1879400 of size 4096 next 1091\n",
            "2022-11-21 14:42:57.296623: I tensorflow/core/common_runtime/bfc_allocator.cc:1083] InUse at 7f42a187a400 of size 4096 next 1092\n",
            "2022-11-21 14:42:57.296627: I tensorflow/core/common_runtime/bfc_allocator.cc:1083] InUse at 7f42a187b400 of size 4096 next 1093\n",
            "2022-11-21 14:42:57.296631: I tensorflow/core/common_runtime/bfc_allocator.cc:1083] InUse at 7f42a187c400 of size 177408 next 1094\n",
            "2022-11-21 14:42:57.296636: I tensorflow/core/common_runtime/bfc_allocator.cc:1083] InUse at 7f42a18a7900 of size 16384 next 1095\n",
            "2022-11-21 14:42:57.296640: I tensorflow/core/common_runtime/bfc_allocator.cc:1083] InUse at 7f42a18ab900 of size 16384 next 1096\n",
            "2022-11-21 14:42:57.296644: I tensorflow/core/common_runtime/bfc_allocator.cc:1083] InUse at 7f42a18af900 of size 256 next 1097\n",
            "2022-11-21 14:42:57.296648: I tensorflow/core/common_runtime/bfc_allocator.cc:1083] InUse at 7f42a18afa00 of size 98560 next 1099\n",
            "2022-11-21 14:42:57.296652: I tensorflow/core/common_runtime/bfc_allocator.cc:1083] InUse at 7f42a18c7b00 of size 2814208 next 1075\n",
            "2022-11-21 14:42:57.296657: I tensorflow/core/common_runtime/bfc_allocator.cc:1083] InUse at 7f42a1b76c00 of size 98560 next 1076\n",
            "2022-11-21 14:42:57.296661: I tensorflow/core/common_runtime/bfc_allocator.cc:1083] InUse at 7f42a1b8ed00 of size 2560000 next 1057\n",
            "2022-11-21 14:42:57.296665: I tensorflow/core/common_runtime/bfc_allocator.cc:1083] InUse at 7f42a1dffd00 of size 219136 next 1078\n",
            "2022-11-21 14:42:57.296669: I tensorflow/core/common_runtime/bfc_allocator.cc:1083] InUse at 7f42a1e35500 of size 512 next 1098\n",
            "2022-11-21 14:42:57.296673: I tensorflow/core/common_runtime/bfc_allocator.cc:1083] InUse at 7f42a1e35700 of size 176128 next 1102\n",
            "2022-11-21 14:42:57.296678: I tensorflow/core/common_runtime/bfc_allocator.cc:1083] InUse at 7f42a1e60700 of size 256 next 1103\n",
            "2022-11-21 14:42:57.296682: I tensorflow/core/common_runtime/bfc_allocator.cc:1083] InUse at 7f42a1e60800 of size 256 next 1104\n",
            "2022-11-21 14:42:57.296686: I tensorflow/core/common_runtime/bfc_allocator.cc:1083] InUse at 7f42a1e60900 of size 256 next 1105\n",
            "2022-11-21 14:42:57.296690: I tensorflow/core/common_runtime/bfc_allocator.cc:1083] InUse at 7f42a1e60a00 of size 256 next 1106\n",
            "2022-11-21 14:42:57.296694: I tensorflow/core/common_runtime/bfc_allocator.cc:1083] InUse at 7f42a1e60b00 of size 256 next 1107\n",
            "2022-11-21 14:42:57.296698: I tensorflow/core/common_runtime/bfc_allocator.cc:1083] InUse at 7f42a1e60c00 of size 256 next 1108\n",
            "2022-11-21 14:42:57.296702: I tensorflow/core/common_runtime/bfc_allocator.cc:1083] InUse at 7f42a1e60d00 of size 54784 next 1109\n",
            "2022-11-21 14:42:57.296704: I tensorflow/core/common_runtime/bfc_allocator.cc:1083] InUse at 7f42a1e6e300 of size 54784 next 1110\n",
            "2022-11-21 14:42:57.296706: I tensorflow/core/common_runtime/bfc_allocator.cc:1083] InUse at 7f42a1e7b900 of size 54784 next 1111\n",
            "2022-11-21 14:42:57.296709: I tensorflow/core/common_runtime/bfc_allocator.cc:1083] InUse at 7f42a1e88f00 of size 4096 next 1112\n",
            "2022-11-21 14:42:57.296711: I tensorflow/core/common_runtime/bfc_allocator.cc:1083] InUse at 7f42a1e89f00 of size 4096 next 1113\n",
            "2022-11-21 14:42:57.296714: I tensorflow/core/common_runtime/bfc_allocator.cc:1083] InUse at 7f42a1e8af00 of size 4096 next 1114\n",
            "2022-11-21 14:42:57.296716: I tensorflow/core/common_runtime/bfc_allocator.cc:1083] InUse at 7f42a1e8bf00 of size 177408 next 1115\n",
            "2022-11-21 14:42:57.296719: I tensorflow/core/common_runtime/bfc_allocator.cc:1083] InUse at 7f42a1eb7400 of size 16384 next 1116\n",
            "2022-11-21 14:42:57.296721: I tensorflow/core/common_runtime/bfc_allocator.cc:1083] InUse at 7f42a1ebb400 of size 16384 next 1117\n",
            "2022-11-21 14:42:57.296723: I tensorflow/core/common_runtime/bfc_allocator.cc:1083] InUse at 7f42a1ebf400 of size 256 next 1118\n",
            "2022-11-21 14:42:57.296726: I tensorflow/core/common_runtime/bfc_allocator.cc:1083] InUse at 7f42a1ebf500 of size 2560000 next 1079\n",
            "2022-11-21 14:42:57.296728: I tensorflow/core/common_runtime/bfc_allocator.cc:1083] InUse at 7f42a2130500 of size 2560000 next 1080\n",
            "2022-11-21 14:42:57.296731: I tensorflow/core/common_runtime/bfc_allocator.cc:1083] InUse at 7f42a23a1500 of size 219136 next 1100\n",
            "2022-11-21 14:42:57.296733: I tensorflow/core/common_runtime/bfc_allocator.cc:1083] InUse at 7f42a23d6d00 of size 512 next 1121\n",
            "2022-11-21 14:42:57.296735: I tensorflow/core/common_runtime/bfc_allocator.cc:1083] InUse at 7f42a23d6f00 of size 176128 next 1125\n",
            "2022-11-21 14:42:57.296738: I tensorflow/core/common_runtime/bfc_allocator.cc:1083] InUse at 7f42a2401f00 of size 256 next 1126\n",
            "2022-11-21 14:42:57.296740: I tensorflow/core/common_runtime/bfc_allocator.cc:1083] InUse at 7f42a2402000 of size 256 next 1127\n",
            "2022-11-21 14:42:57.296743: I tensorflow/core/common_runtime/bfc_allocator.cc:1083] InUse at 7f42a2402100 of size 256 next 1128\n",
            "2022-11-21 14:42:57.296745: I tensorflow/core/common_runtime/bfc_allocator.cc:1083] InUse at 7f42a2402200 of size 256 next 1129\n",
            "2022-11-21 14:42:57.296747: I tensorflow/core/common_runtime/bfc_allocator.cc:1083] InUse at 7f42a2402300 of size 256 next 1130\n",
            "2022-11-21 14:42:57.296750: I tensorflow/core/common_runtime/bfc_allocator.cc:1083] InUse at 7f42a2402400 of size 256 next 1131\n",
            "2022-11-21 14:42:57.296752: I tensorflow/core/common_runtime/bfc_allocator.cc:1083] InUse at 7f42a2402500 of size 54784 next 1132\n",
            "2022-11-21 14:42:57.296754: I tensorflow/core/common_runtime/bfc_allocator.cc:1083] InUse at 7f42a240fb00 of size 54784 next 1133\n",
            "2022-11-21 14:42:57.296757: I tensorflow/core/common_runtime/bfc_allocator.cc:1083] InUse at 7f42a241d100 of size 54784 next 1134\n",
            "2022-11-21 14:42:57.296759: I tensorflow/core/common_runtime/bfc_allocator.cc:1083] InUse at 7f42a242a700 of size 4096 next 1135\n",
            "2022-11-21 14:42:57.296762: I tensorflow/core/common_runtime/bfc_allocator.cc:1083] InUse at 7f42a242b700 of size 4096 next 1136\n",
            "2022-11-21 14:42:57.296764: I tensorflow/core/common_runtime/bfc_allocator.cc:1083] InUse at 7f42a242c700 of size 4096 next 1137\n",
            "2022-11-21 14:42:57.296766: I tensorflow/core/common_runtime/bfc_allocator.cc:1083] InUse at 7f42a242d700 of size 177408 next 1138\n",
            "2022-11-21 14:42:57.296769: I tensorflow/core/common_runtime/bfc_allocator.cc:1083] InUse at 7f42a2458c00 of size 16384 next 1139\n",
            "2022-11-21 14:42:57.296771: I tensorflow/core/common_runtime/bfc_allocator.cc:1083] InUse at 7f42a245cc00 of size 16384 next 1140\n",
            "2022-11-21 14:42:57.296774: I tensorflow/core/common_runtime/bfc_allocator.cc:1083] InUse at 7f42a2460c00 of size 256 next 1141\n",
            "2022-11-21 14:42:57.296776: I tensorflow/core/common_runtime/bfc_allocator.cc:1083] InUse at 7f42a2460d00 of size 98560 next 1143\n",
            "2022-11-21 14:42:57.296779: I tensorflow/core/common_runtime/bfc_allocator.cc:1083] InUse at 7f42a2478e00 of size 2814208 next 1119\n",
            "2022-11-21 14:42:57.296781: I tensorflow/core/common_runtime/bfc_allocator.cc:1083] InUse at 7f42a2727f00 of size 98560 next 1120\n",
            "2022-11-21 14:42:57.296783: I tensorflow/core/common_runtime/bfc_allocator.cc:1083] InUse at 7f42a2740000 of size 2560000 next 1101\n",
            "2022-11-21 14:42:57.296786: I tensorflow/core/common_runtime/bfc_allocator.cc:1083] InUse at 7f42a29b1000 of size 219136 next 1122\n",
            "2022-11-21 14:42:57.296788: I tensorflow/core/common_runtime/bfc_allocator.cc:1083] InUse at 7f42a29e6800 of size 512 next 1142\n",
            "2022-11-21 14:42:57.296791: I tensorflow/core/common_runtime/bfc_allocator.cc:1083] InUse at 7f42a29e6a00 of size 176128 next 1146\n",
            "2022-11-21 14:42:57.296793: I tensorflow/core/common_runtime/bfc_allocator.cc:1083] InUse at 7f42a2a11a00 of size 256 next 1147\n",
            "2022-11-21 14:42:57.296795: I tensorflow/core/common_runtime/bfc_allocator.cc:1083] InUse at 7f42a2a11b00 of size 256 next 1148\n",
            "2022-11-21 14:42:57.296798: I tensorflow/core/common_runtime/bfc_allocator.cc:1083] InUse at 7f42a2a11c00 of size 256 next 1149\n",
            "2022-11-21 14:42:57.296800: I tensorflow/core/common_runtime/bfc_allocator.cc:1083] InUse at 7f42a2a11d00 of size 256 next 1150\n",
            "2022-11-21 14:42:57.296802: I tensorflow/core/common_runtime/bfc_allocator.cc:1083] InUse at 7f42a2a11e00 of size 256 next 1151\n",
            "2022-11-21 14:42:57.296805: I tensorflow/core/common_runtime/bfc_allocator.cc:1083] InUse at 7f42a2a11f00 of size 256 next 1152\n",
            "2022-11-21 14:42:57.296807: I tensorflow/core/common_runtime/bfc_allocator.cc:1083] InUse at 7f42a2a12000 of size 54784 next 1153\n",
            "2022-11-21 14:42:57.296809: I tensorflow/core/common_runtime/bfc_allocator.cc:1083] InUse at 7f42a2a1f600 of size 54784 next 1154\n",
            "2022-11-21 14:42:57.296812: I tensorflow/core/common_runtime/bfc_allocator.cc:1083] InUse at 7f42a2a2cc00 of size 54784 next 1155\n",
            "2022-11-21 14:42:57.296814: I tensorflow/core/common_runtime/bfc_allocator.cc:1083] InUse at 7f42a2a3a200 of size 4096 next 1156\n",
            "2022-11-21 14:42:57.296816: I tensorflow/core/common_runtime/bfc_allocator.cc:1083] InUse at 7f42a2a3b200 of size 4096 next 1157\n",
            "2022-11-21 14:42:57.296819: I tensorflow/core/common_runtime/bfc_allocator.cc:1083] InUse at 7f42a2a3c200 of size 4096 next 1158\n",
            "2022-11-21 14:42:57.296821: I tensorflow/core/common_runtime/bfc_allocator.cc:1083] InUse at 7f42a2a3d200 of size 177408 next 1159\n",
            "2022-11-21 14:42:57.296824: I tensorflow/core/common_runtime/bfc_allocator.cc:1083] InUse at 7f42a2a68700 of size 16384 next 1160\n",
            "2022-11-21 14:42:57.296827: I tensorflow/core/common_runtime/bfc_allocator.cc:1083] InUse at 7f42a2a6c700 of size 16384 next 1161\n",
            "2022-11-21 14:42:57.296829: I tensorflow/core/common_runtime/bfc_allocator.cc:1083] InUse at 7f42a2a70700 of size 256 next 1162\n",
            "2022-11-21 14:42:57.296831: I tensorflow/core/common_runtime/bfc_allocator.cc:1083] InUse at 7f42a2a70800 of size 2560000 next 1123\n",
            "2022-11-21 14:42:57.296834: I tensorflow/core/common_runtime/bfc_allocator.cc:1083] InUse at 7f42a2ce1800 of size 2560000 next 1124\n",
            "2022-11-21 14:42:57.296836: I tensorflow/core/common_runtime/bfc_allocator.cc:1083] InUse at 7f42a2f52800 of size 219136 next 1144\n",
            "2022-11-21 14:42:57.296839: I tensorflow/core/common_runtime/bfc_allocator.cc:1083] InUse at 7f42a2f88000 of size 512 next 1165\n",
            "2022-11-21 14:42:57.296841: I tensorflow/core/common_runtime/bfc_allocator.cc:1083] InUse at 7f42a2f88200 of size 176128 next 1169\n",
            "2022-11-21 14:42:57.296843: I tensorflow/core/common_runtime/bfc_allocator.cc:1083] InUse at 7f42a2fb3200 of size 256 next 1170\n",
            "2022-11-21 14:42:57.296846: I tensorflow/core/common_runtime/bfc_allocator.cc:1083] InUse at 7f42a2fb3300 of size 256 next 1171\n",
            "2022-11-21 14:42:57.296848: I tensorflow/core/common_runtime/bfc_allocator.cc:1083] InUse at 7f42a2fb3400 of size 256 next 1172\n",
            "2022-11-21 14:42:57.296850: I tensorflow/core/common_runtime/bfc_allocator.cc:1083] InUse at 7f42a2fb3500 of size 256 next 1173\n",
            "2022-11-21 14:42:57.296853: I tensorflow/core/common_runtime/bfc_allocator.cc:1083] InUse at 7f42a2fb3600 of size 256 next 1174\n",
            "2022-11-21 14:42:57.296855: I tensorflow/core/common_runtime/bfc_allocator.cc:1083] InUse at 7f42a2fb3700 of size 256 next 1175\n",
            "2022-11-21 14:42:57.296858: I tensorflow/core/common_runtime/bfc_allocator.cc:1083] InUse at 7f42a2fb3800 of size 54784 next 1176\n",
            "2022-11-21 14:42:57.296860: I tensorflow/core/common_runtime/bfc_allocator.cc:1083] InUse at 7f42a2fc0e00 of size 54784 next 1177\n",
            "2022-11-21 14:42:57.296862: I tensorflow/core/common_runtime/bfc_allocator.cc:1083] InUse at 7f42a2fce400 of size 54784 next 1178\n",
            "2022-11-21 14:42:57.296865: I tensorflow/core/common_runtime/bfc_allocator.cc:1083] InUse at 7f42a2fdba00 of size 4096 next 1179\n",
            "2022-11-21 14:42:57.296867: I tensorflow/core/common_runtime/bfc_allocator.cc:1083] InUse at 7f42a2fdca00 of size 4096 next 1180\n",
            "2022-11-21 14:42:57.296870: I tensorflow/core/common_runtime/bfc_allocator.cc:1083] InUse at 7f42a2fdda00 of size 4096 next 1181\n",
            "2022-11-21 14:42:57.296872: I tensorflow/core/common_runtime/bfc_allocator.cc:1083] InUse at 7f42a2fdea00 of size 177408 next 1182\n",
            "2022-11-21 14:42:57.296874: I tensorflow/core/common_runtime/bfc_allocator.cc:1083] InUse at 7f42a3009f00 of size 16384 next 1183\n",
            "2022-11-21 14:42:57.296877: I tensorflow/core/common_runtime/bfc_allocator.cc:1083] InUse at 7f42a300df00 of size 16384 next 1184\n",
            "2022-11-21 14:42:57.296879: I tensorflow/core/common_runtime/bfc_allocator.cc:1083] InUse at 7f42a3011f00 of size 256 next 1185\n",
            "2022-11-21 14:42:57.296881: I tensorflow/core/common_runtime/bfc_allocator.cc:1083] InUse at 7f42a3012000 of size 98560 next 1187\n",
            "2022-11-21 14:42:57.296884: I tensorflow/core/common_runtime/bfc_allocator.cc:1083] InUse at 7f42a302a100 of size 2814208 next 1163\n",
            "2022-11-21 14:42:57.296886: I tensorflow/core/common_runtime/bfc_allocator.cc:1083] InUse at 7f42a32d9200 of size 98560 next 1164\n",
            "2022-11-21 14:42:57.296889: I tensorflow/core/common_runtime/bfc_allocator.cc:1083] InUse at 7f42a32f1300 of size 2560000 next 1145\n",
            "2022-11-21 14:42:57.296891: I tensorflow/core/common_runtime/bfc_allocator.cc:1083] InUse at 7f42a3562300 of size 219136 next 1166\n",
            "2022-11-21 14:42:57.296893: I tensorflow/core/common_runtime/bfc_allocator.cc:1083] InUse at 7f42a3597b00 of size 512 next 1186\n",
            "2022-11-21 14:42:57.296896: I tensorflow/core/common_runtime/bfc_allocator.cc:1083] InUse at 7f42a3597d00 of size 176128 next 1190\n",
            "2022-11-21 14:42:57.296898: I tensorflow/core/common_runtime/bfc_allocator.cc:1083] InUse at 7f42a35c2d00 of size 256 next 1191\n",
            "2022-11-21 14:42:57.296901: I tensorflow/core/common_runtime/bfc_allocator.cc:1083] InUse at 7f42a35c2e00 of size 256 next 1192\n",
            "2022-11-21 14:42:57.296903: I tensorflow/core/common_runtime/bfc_allocator.cc:1083] InUse at 7f42a35c2f00 of size 256 next 1193\n",
            "2022-11-21 14:42:57.296905: I tensorflow/core/common_runtime/bfc_allocator.cc:1083] InUse at 7f42a35c3000 of size 256 next 1194\n",
            "2022-11-21 14:42:57.296908: I tensorflow/core/common_runtime/bfc_allocator.cc:1083] InUse at 7f42a35c3100 of size 256 next 1195\n",
            "2022-11-21 14:42:57.296910: I tensorflow/core/common_runtime/bfc_allocator.cc:1083] InUse at 7f42a35c3200 of size 256 next 1196\n",
            "2022-11-21 14:42:57.296912: I tensorflow/core/common_runtime/bfc_allocator.cc:1083] InUse at 7f42a35c3300 of size 54784 next 1197\n",
            "2022-11-21 14:42:57.296915: I tensorflow/core/common_runtime/bfc_allocator.cc:1083] InUse at 7f42a35d0900 of size 54784 next 1198\n",
            "2022-11-21 14:42:57.296917: I tensorflow/core/common_runtime/bfc_allocator.cc:1083] InUse at 7f42a35ddf00 of size 54784 next 1199\n",
            "2022-11-21 14:42:57.296920: I tensorflow/core/common_runtime/bfc_allocator.cc:1083] InUse at 7f42a35eb500 of size 4096 next 1200\n",
            "2022-11-21 14:42:57.296922: I tensorflow/core/common_runtime/bfc_allocator.cc:1083] InUse at 7f42a35ec500 of size 4096 next 1201\n",
            "2022-11-21 14:42:57.296924: I tensorflow/core/common_runtime/bfc_allocator.cc:1083] InUse at 7f42a35ed500 of size 4096 next 1202\n",
            "2022-11-21 14:42:57.296927: I tensorflow/core/common_runtime/bfc_allocator.cc:1083] InUse at 7f42a35ee500 of size 177408 next 1203\n",
            "2022-11-21 14:42:57.296929: I tensorflow/core/common_runtime/bfc_allocator.cc:1083] InUse at 7f42a3619a00 of size 16384 next 1204\n",
            "2022-11-21 14:42:57.296931: I tensorflow/core/common_runtime/bfc_allocator.cc:1083] InUse at 7f42a361da00 of size 16384 next 1205\n",
            "2022-11-21 14:42:57.296934: I tensorflow/core/common_runtime/bfc_allocator.cc:1083] InUse at 7f42a3621a00 of size 256 next 1206\n",
            "2022-11-21 14:42:57.296936: I tensorflow/core/common_runtime/bfc_allocator.cc:1083] InUse at 7f42a3621b00 of size 2560000 next 1167\n",
            "2022-11-21 14:42:57.296939: I tensorflow/core/common_runtime/bfc_allocator.cc:1083] InUse at 7f42a3892b00 of size 2560000 next 1168\n",
            "2022-11-21 14:42:57.296941: I tensorflow/core/common_runtime/bfc_allocator.cc:1083] InUse at 7f42a3b03b00 of size 219136 next 1188\n",
            "2022-11-21 14:42:57.296943: I tensorflow/core/common_runtime/bfc_allocator.cc:1083] InUse at 7f42a3b39300 of size 512 next 1209\n",
            "2022-11-21 14:42:57.296946: I tensorflow/core/common_runtime/bfc_allocator.cc:1083] InUse at 7f42a3b39500 of size 176128 next 1213\n",
            "2022-11-21 14:42:57.296948: I tensorflow/core/common_runtime/bfc_allocator.cc:1083] InUse at 7f42a3b64500 of size 256 next 1214\n",
            "2022-11-21 14:42:57.296950: I tensorflow/core/common_runtime/bfc_allocator.cc:1083] InUse at 7f42a3b64600 of size 256 next 1215\n",
            "2022-11-21 14:42:57.296953: I tensorflow/core/common_runtime/bfc_allocator.cc:1083] InUse at 7f42a3b64700 of size 256 next 1216\n",
            "2022-11-21 14:42:57.296955: I tensorflow/core/common_runtime/bfc_allocator.cc:1083] InUse at 7f42a3b64800 of size 256 next 1217\n",
            "2022-11-21 14:42:57.296957: I tensorflow/core/common_runtime/bfc_allocator.cc:1083] InUse at 7f42a3b64900 of size 256 next 1218\n",
            "2022-11-21 14:42:57.296960: I tensorflow/core/common_runtime/bfc_allocator.cc:1083] InUse at 7f42a3b64a00 of size 256 next 1219\n",
            "2022-11-21 14:42:57.296962: I tensorflow/core/common_runtime/bfc_allocator.cc:1083] InUse at 7f42a3b64b00 of size 54784 next 1220\n",
            "2022-11-21 14:42:57.296964: I tensorflow/core/common_runtime/bfc_allocator.cc:1083] InUse at 7f42a3b72100 of size 54784 next 1221\n",
            "2022-11-21 14:42:57.296967: I tensorflow/core/common_runtime/bfc_allocator.cc:1083] InUse at 7f42a3b7f700 of size 54784 next 1222\n",
            "2022-11-21 14:42:57.296969: I tensorflow/core/common_runtime/bfc_allocator.cc:1083] InUse at 7f42a3b8cd00 of size 4096 next 1223\n",
            "2022-11-21 14:42:57.296971: I tensorflow/core/common_runtime/bfc_allocator.cc:1083] InUse at 7f42a3b8dd00 of size 4096 next 1224\n",
            "2022-11-21 14:42:57.296974: I tensorflow/core/common_runtime/bfc_allocator.cc:1083] InUse at 7f42a3b8ed00 of size 4096 next 1225\n",
            "2022-11-21 14:42:57.296976: I tensorflow/core/common_runtime/bfc_allocator.cc:1083] InUse at 7f42a3b8fd00 of size 177408 next 1226\n",
            "2022-11-21 14:42:57.296979: I tensorflow/core/common_runtime/bfc_allocator.cc:1083] InUse at 7f42a3bbb200 of size 16384 next 1227\n",
            "2022-11-21 14:42:57.296981: I tensorflow/core/common_runtime/bfc_allocator.cc:1083] InUse at 7f42a3bbf200 of size 16384 next 1228\n",
            "2022-11-21 14:42:57.296984: I tensorflow/core/common_runtime/bfc_allocator.cc:1083] InUse at 7f42a3bc3200 of size 256 next 1229\n",
            "2022-11-21 14:42:57.296986: I tensorflow/core/common_runtime/bfc_allocator.cc:1083] InUse at 7f42a3bc3300 of size 98560 next 1231\n",
            "2022-11-21 14:42:57.296988: I tensorflow/core/common_runtime/bfc_allocator.cc:1083] InUse at 7f42a3bdb400 of size 2814208 next 1207\n",
            "2022-11-21 14:42:57.296991: I tensorflow/core/common_runtime/bfc_allocator.cc:1083] InUse at 7f42a3e8a500 of size 98560 next 1208\n",
            "2022-11-21 14:42:57.296993: I tensorflow/core/common_runtime/bfc_allocator.cc:1083] InUse at 7f42a3ea2600 of size 2560000 next 1189\n",
            "2022-11-21 14:42:57.296996: I tensorflow/core/common_runtime/bfc_allocator.cc:1083] InUse at 7f42a4113600 of size 219136 next 1210\n",
            "2022-11-21 14:42:57.296998: I tensorflow/core/common_runtime/bfc_allocator.cc:1083] InUse at 7f42a4148e00 of size 512 next 1230\n",
            "2022-11-21 14:42:57.297000: I tensorflow/core/common_runtime/bfc_allocator.cc:1083] InUse at 7f42a4149000 of size 176128 next 1234\n",
            "2022-11-21 14:42:57.297003: I tensorflow/core/common_runtime/bfc_allocator.cc:1083] InUse at 7f42a4174000 of size 256 next 1235\n",
            "2022-11-21 14:42:57.297005: I tensorflow/core/common_runtime/bfc_allocator.cc:1083] InUse at 7f42a4174100 of size 256 next 1236\n",
            "2022-11-21 14:42:57.297007: I tensorflow/core/common_runtime/bfc_allocator.cc:1083] InUse at 7f42a4174200 of size 256 next 1237\n",
            "2022-11-21 14:42:57.297010: I tensorflow/core/common_runtime/bfc_allocator.cc:1083] InUse at 7f42a4174300 of size 256 next 1238\n",
            "2022-11-21 14:42:57.297012: I tensorflow/core/common_runtime/bfc_allocator.cc:1083] InUse at 7f42a4174400 of size 256 next 1239\n",
            "2022-11-21 14:42:57.297014: I tensorflow/core/common_runtime/bfc_allocator.cc:1083] InUse at 7f42a4174500 of size 256 next 1240\n",
            "2022-11-21 14:42:57.297017: I tensorflow/core/common_runtime/bfc_allocator.cc:1083] InUse at 7f42a4174600 of size 54784 next 1241\n",
            "2022-11-21 14:42:57.297019: I tensorflow/core/common_runtime/bfc_allocator.cc:1083] InUse at 7f42a4181c00 of size 54784 next 1242\n",
            "2022-11-21 14:42:57.297022: I tensorflow/core/common_runtime/bfc_allocator.cc:1083] InUse at 7f42a418f200 of size 54784 next 1243\n",
            "2022-11-21 14:42:57.297024: I tensorflow/core/common_runtime/bfc_allocator.cc:1083] InUse at 7f42a419c800 of size 4096 next 1244\n",
            "2022-11-21 14:42:57.297027: I tensorflow/core/common_runtime/bfc_allocator.cc:1083] InUse at 7f42a419d800 of size 4096 next 1245\n",
            "2022-11-21 14:42:57.297029: I tensorflow/core/common_runtime/bfc_allocator.cc:1083] InUse at 7f42a419e800 of size 4096 next 1246\n",
            "2022-11-21 14:42:57.297031: I tensorflow/core/common_runtime/bfc_allocator.cc:1083] InUse at 7f42a419f800 of size 177408 next 1247\n",
            "2022-11-21 14:42:57.297034: I tensorflow/core/common_runtime/bfc_allocator.cc:1083] InUse at 7f42a41cad00 of size 16384 next 1248\n",
            "2022-11-21 14:42:57.297036: I tensorflow/core/common_runtime/bfc_allocator.cc:1083] InUse at 7f42a41ced00 of size 16384 next 1249\n",
            "2022-11-21 14:42:57.297038: I tensorflow/core/common_runtime/bfc_allocator.cc:1083] InUse at 7f42a41d2d00 of size 256 next 1250\n",
            "2022-11-21 14:42:57.297041: I tensorflow/core/common_runtime/bfc_allocator.cc:1083] InUse at 7f42a41d2e00 of size 2560000 next 1211\n",
            "2022-11-21 14:42:57.297043: I tensorflow/core/common_runtime/bfc_allocator.cc:1083] InUse at 7f42a4443e00 of size 2560000 next 1212\n",
            "2022-11-21 14:42:57.297046: I tensorflow/core/common_runtime/bfc_allocator.cc:1083] InUse at 7f42a46b4e00 of size 219136 next 1232\n",
            "2022-11-21 14:42:57.297048: I tensorflow/core/common_runtime/bfc_allocator.cc:1083] InUse at 7f42a46ea600 of size 512 next 1253\n",
            "2022-11-21 14:42:57.297050: I tensorflow/core/common_runtime/bfc_allocator.cc:1083] InUse at 7f42a46ea800 of size 176128 next 1257\n",
            "2022-11-21 14:42:57.297053: I tensorflow/core/common_runtime/bfc_allocator.cc:1083] InUse at 7f42a4715800 of size 256 next 1258\n",
            "2022-11-21 14:42:57.297055: I tensorflow/core/common_runtime/bfc_allocator.cc:1083] InUse at 7f42a4715900 of size 256 next 1259\n",
            "2022-11-21 14:42:57.297058: I tensorflow/core/common_runtime/bfc_allocator.cc:1083] InUse at 7f42a4715a00 of size 256 next 1260\n",
            "2022-11-21 14:42:57.297060: I tensorflow/core/common_runtime/bfc_allocator.cc:1083] InUse at 7f42a4715b00 of size 256 next 1261\n",
            "2022-11-21 14:42:57.297062: I tensorflow/core/common_runtime/bfc_allocator.cc:1083] InUse at 7f42a4715c00 of size 256 next 1262\n",
            "2022-11-21 14:42:57.297065: I tensorflow/core/common_runtime/bfc_allocator.cc:1083] InUse at 7f42a4715d00 of size 256 next 1263\n",
            "2022-11-21 14:42:57.297067: I tensorflow/core/common_runtime/bfc_allocator.cc:1083] InUse at 7f42a4715e00 of size 54784 next 1264\n",
            "2022-11-21 14:42:57.297069: I tensorflow/core/common_runtime/bfc_allocator.cc:1083] InUse at 7f42a4723400 of size 54784 next 1265\n",
            "2022-11-21 14:42:57.297072: I tensorflow/core/common_runtime/bfc_allocator.cc:1083] InUse at 7f42a4730a00 of size 54784 next 1266\n",
            "2022-11-21 14:42:57.297074: I tensorflow/core/common_runtime/bfc_allocator.cc:1083] InUse at 7f42a473e000 of size 4096 next 1267\n",
            "2022-11-21 14:42:57.297076: I tensorflow/core/common_runtime/bfc_allocator.cc:1083] InUse at 7f42a473f000 of size 4096 next 1268\n",
            "2022-11-21 14:42:57.297079: I tensorflow/core/common_runtime/bfc_allocator.cc:1083] InUse at 7f42a4740000 of size 4096 next 1269\n",
            "2022-11-21 14:42:57.297081: I tensorflow/core/common_runtime/bfc_allocator.cc:1083] InUse at 7f42a4741000 of size 177408 next 1270\n",
            "2022-11-21 14:42:57.297084: I tensorflow/core/common_runtime/bfc_allocator.cc:1083] InUse at 7f42a476c500 of size 16384 next 1271\n",
            "2022-11-21 14:42:57.297086: I tensorflow/core/common_runtime/bfc_allocator.cc:1083] InUse at 7f42a4770500 of size 16384 next 1272\n",
            "2022-11-21 14:42:57.297089: I tensorflow/core/common_runtime/bfc_allocator.cc:1083] InUse at 7f42a4774500 of size 256 next 1273\n",
            "2022-11-21 14:42:57.297091: I tensorflow/core/common_runtime/bfc_allocator.cc:1083] InUse at 7f42a4774600 of size 98560 next 1275\n",
            "2022-11-21 14:42:57.297093: I tensorflow/core/common_runtime/bfc_allocator.cc:1083] InUse at 7f42a478c700 of size 2814208 next 1251\n",
            "2022-11-21 14:42:57.297096: I tensorflow/core/common_runtime/bfc_allocator.cc:1083] InUse at 7f42a4a3b800 of size 98560 next 1252\n",
            "2022-11-21 14:42:57.297098: I tensorflow/core/common_runtime/bfc_allocator.cc:1083] InUse at 7f42a4a53900 of size 2560000 next 1233\n",
            "2022-11-21 14:42:57.297101: I tensorflow/core/common_runtime/bfc_allocator.cc:1083] InUse at 7f42a4cc4900 of size 219136 next 1254\n",
            "2022-11-21 14:42:57.297103: I tensorflow/core/common_runtime/bfc_allocator.cc:1083] InUse at 7f42a4cfa100 of size 512 next 1274\n",
            "2022-11-21 14:42:57.297105: I tensorflow/core/common_runtime/bfc_allocator.cc:1083] InUse at 7f42a4cfa300 of size 176128 next 1278\n",
            "2022-11-21 14:42:57.297108: I tensorflow/core/common_runtime/bfc_allocator.cc:1083] InUse at 7f42a4d25300 of size 256 next 1279\n",
            "2022-11-21 14:42:57.297110: I tensorflow/core/common_runtime/bfc_allocator.cc:1083] InUse at 7f42a4d25400 of size 256 next 1280\n",
            "2022-11-21 14:42:57.297112: I tensorflow/core/common_runtime/bfc_allocator.cc:1083] InUse at 7f42a4d25500 of size 256 next 1281\n",
            "2022-11-21 14:42:57.297115: I tensorflow/core/common_runtime/bfc_allocator.cc:1083] InUse at 7f42a4d25600 of size 256 next 1282\n",
            "2022-11-21 14:42:57.297117: I tensorflow/core/common_runtime/bfc_allocator.cc:1083] InUse at 7f42a4d25700 of size 256 next 1283\n",
            "2022-11-21 14:42:57.297120: I tensorflow/core/common_runtime/bfc_allocator.cc:1083] InUse at 7f42a4d25800 of size 256 next 1284\n",
            "2022-11-21 14:42:57.297122: I tensorflow/core/common_runtime/bfc_allocator.cc:1083] InUse at 7f42a4d25900 of size 54784 next 1285\n",
            "2022-11-21 14:42:57.297124: I tensorflow/core/common_runtime/bfc_allocator.cc:1083] InUse at 7f42a4d32f00 of size 54784 next 1286\n",
            "2022-11-21 14:42:57.297127: I tensorflow/core/common_runtime/bfc_allocator.cc:1083] InUse at 7f42a4d40500 of size 54784 next 1287\n",
            "2022-11-21 14:42:57.297129: I tensorflow/core/common_runtime/bfc_allocator.cc:1083] InUse at 7f42a4d4db00 of size 4096 next 1288\n",
            "2022-11-21 14:42:57.297131: I tensorflow/core/common_runtime/bfc_allocator.cc:1083] InUse at 7f42a4d4eb00 of size 4096 next 1289\n",
            "2022-11-21 14:42:57.297134: I tensorflow/core/common_runtime/bfc_allocator.cc:1083] InUse at 7f42a4d4fb00 of size 4096 next 1290\n",
            "2022-11-21 14:42:57.297136: I tensorflow/core/common_runtime/bfc_allocator.cc:1083] InUse at 7f42a4d50b00 of size 177408 next 1291\n",
            "2022-11-21 14:42:57.297139: I tensorflow/core/common_runtime/bfc_allocator.cc:1083] InUse at 7f42a4d7c000 of size 16384 next 1292\n",
            "2022-11-21 14:42:57.297141: I tensorflow/core/common_runtime/bfc_allocator.cc:1083] InUse at 7f42a4d80000 of size 16384 next 1293\n",
            "2022-11-21 14:42:57.297143: I tensorflow/core/common_runtime/bfc_allocator.cc:1083] InUse at 7f42a4d84000 of size 256 next 1294\n",
            "2022-11-21 14:42:57.297146: I tensorflow/core/common_runtime/bfc_allocator.cc:1083] InUse at 7f42a4d84100 of size 2560000 next 1255\n",
            "2022-11-21 14:42:57.297148: I tensorflow/core/common_runtime/bfc_allocator.cc:1083] InUse at 7f42a4ff5100 of size 2560000 next 1256\n",
            "2022-11-21 14:42:57.297151: I tensorflow/core/common_runtime/bfc_allocator.cc:1083] InUse at 7f42a5266100 of size 219136 next 1276\n",
            "2022-11-21 14:42:57.297153: I tensorflow/core/common_runtime/bfc_allocator.cc:1083] InUse at 7f42a529b900 of size 512 next 1297\n",
            "2022-11-21 14:42:57.297155: I tensorflow/core/common_runtime/bfc_allocator.cc:1083] InUse at 7f42a529bb00 of size 176128 next 1301\n",
            "2022-11-21 14:42:57.297158: I tensorflow/core/common_runtime/bfc_allocator.cc:1083] InUse at 7f42a52c6b00 of size 256 next 1302\n",
            "2022-11-21 14:42:57.297160: I tensorflow/core/common_runtime/bfc_allocator.cc:1083] InUse at 7f42a52c6c00 of size 256 next 1303\n",
            "2022-11-21 14:42:57.297163: I tensorflow/core/common_runtime/bfc_allocator.cc:1083] InUse at 7f42a52c6d00 of size 256 next 1304\n",
            "2022-11-21 14:42:57.297165: I tensorflow/core/common_runtime/bfc_allocator.cc:1083] InUse at 7f42a52c6e00 of size 256 next 1305\n",
            "2022-11-21 14:42:57.297167: I tensorflow/core/common_runtime/bfc_allocator.cc:1083] InUse at 7f42a52c6f00 of size 256 next 1306\n",
            "2022-11-21 14:42:57.297170: I tensorflow/core/common_runtime/bfc_allocator.cc:1083] InUse at 7f42a52c7000 of size 256 next 1307\n",
            "2022-11-21 14:42:57.297172: I tensorflow/core/common_runtime/bfc_allocator.cc:1083] InUse at 7f42a52c7100 of size 54784 next 1308\n",
            "2022-11-21 14:42:57.297174: I tensorflow/core/common_runtime/bfc_allocator.cc:1083] InUse at 7f42a52d4700 of size 54784 next 1309\n",
            "2022-11-21 14:42:57.297177: I tensorflow/core/common_runtime/bfc_allocator.cc:1083] InUse at 7f42a52e1d00 of size 54784 next 1310\n",
            "2022-11-21 14:42:57.297179: I tensorflow/core/common_runtime/bfc_allocator.cc:1083] InUse at 7f42a52ef300 of size 4096 next 1311\n",
            "2022-11-21 14:42:57.297182: I tensorflow/core/common_runtime/bfc_allocator.cc:1083] InUse at 7f42a52f0300 of size 4096 next 1312\n",
            "2022-11-21 14:42:57.297184: I tensorflow/core/common_runtime/bfc_allocator.cc:1083] InUse at 7f42a52f1300 of size 4096 next 1313\n",
            "2022-11-21 14:42:57.297186: I tensorflow/core/common_runtime/bfc_allocator.cc:1083] InUse at 7f42a52f2300 of size 177408 next 1314\n",
            "2022-11-21 14:42:57.297189: I tensorflow/core/common_runtime/bfc_allocator.cc:1083] InUse at 7f42a531d800 of size 16384 next 1315\n",
            "2022-11-21 14:42:57.297191: I tensorflow/core/common_runtime/bfc_allocator.cc:1083] InUse at 7f42a5321800 of size 16384 next 1316\n",
            "2022-11-21 14:42:57.297194: I tensorflow/core/common_runtime/bfc_allocator.cc:1083] InUse at 7f42a5325800 of size 256 next 1317\n",
            "2022-11-21 14:42:57.297196: I tensorflow/core/common_runtime/bfc_allocator.cc:1083] InUse at 7f42a5325900 of size 98560 next 1319\n",
            "2022-11-21 14:42:57.297198: I tensorflow/core/common_runtime/bfc_allocator.cc:1083] InUse at 7f42a533da00 of size 2814208 next 1295\n",
            "2022-11-21 14:42:57.297201: I tensorflow/core/common_runtime/bfc_allocator.cc:1083] InUse at 7f42a55ecb00 of size 98560 next 1296\n",
            "2022-11-21 14:42:57.297203: I tensorflow/core/common_runtime/bfc_allocator.cc:1083] InUse at 7f42a5604c00 of size 2560000 next 1277\n",
            "2022-11-21 14:42:57.297205: I tensorflow/core/common_runtime/bfc_allocator.cc:1083] InUse at 7f42a5875c00 of size 219136 next 1298\n",
            "2022-11-21 14:42:57.297208: I tensorflow/core/common_runtime/bfc_allocator.cc:1083] InUse at 7f42a58ab400 of size 512 next 1318\n",
            "2022-11-21 14:42:57.297210: I tensorflow/core/common_runtime/bfc_allocator.cc:1083] InUse at 7f42a58ab600 of size 176128 next 1322\n",
            "2022-11-21 14:42:57.297213: I tensorflow/core/common_runtime/bfc_allocator.cc:1083] InUse at 7f42a58d6600 of size 256 next 1323\n",
            "2022-11-21 14:42:57.297215: I tensorflow/core/common_runtime/bfc_allocator.cc:1083] InUse at 7f42a58d6700 of size 256 next 1324\n",
            "2022-11-21 14:42:57.297218: I tensorflow/core/common_runtime/bfc_allocator.cc:1083] InUse at 7f42a58d6800 of size 256 next 1325\n",
            "2022-11-21 14:42:57.297220: I tensorflow/core/common_runtime/bfc_allocator.cc:1083] InUse at 7f42a58d6900 of size 256 next 1326\n",
            "2022-11-21 14:42:57.297228: I tensorflow/core/common_runtime/bfc_allocator.cc:1083] InUse at 7f42a58d6a00 of size 256 next 1327\n",
            "2022-11-21 14:42:57.297231: I tensorflow/core/common_runtime/bfc_allocator.cc:1083] InUse at 7f42a58d6b00 of size 256 next 1328\n",
            "2022-11-21 14:42:57.297233: I tensorflow/core/common_runtime/bfc_allocator.cc:1083] InUse at 7f42a58d6c00 of size 54784 next 1329\n",
            "2022-11-21 14:42:57.297236: I tensorflow/core/common_runtime/bfc_allocator.cc:1083] InUse at 7f42a58e4200 of size 54784 next 1330\n",
            "2022-11-21 14:42:57.297238: I tensorflow/core/common_runtime/bfc_allocator.cc:1083] InUse at 7f42a58f1800 of size 54784 next 1331\n",
            "2022-11-21 14:42:57.297241: I tensorflow/core/common_runtime/bfc_allocator.cc:1083] InUse at 7f42a58fee00 of size 4096 next 1332\n",
            "2022-11-21 14:42:57.297243: I tensorflow/core/common_runtime/bfc_allocator.cc:1083] InUse at 7f42a58ffe00 of size 4096 next 1333\n",
            "2022-11-21 14:42:57.297246: I tensorflow/core/common_runtime/bfc_allocator.cc:1083] InUse at 7f42a5900e00 of size 4096 next 1334\n",
            "2022-11-21 14:42:57.297248: I tensorflow/core/common_runtime/bfc_allocator.cc:1083] InUse at 7f42a5901e00 of size 177408 next 1335\n",
            "2022-11-21 14:42:57.297250: I tensorflow/core/common_runtime/bfc_allocator.cc:1083] InUse at 7f42a592d300 of size 16384 next 1336\n",
            "2022-11-21 14:42:57.297253: I tensorflow/core/common_runtime/bfc_allocator.cc:1083] InUse at 7f42a5931300 of size 16384 next 1337\n",
            "2022-11-21 14:42:57.297255: I tensorflow/core/common_runtime/bfc_allocator.cc:1083] InUse at 7f42a5935300 of size 256 next 1338\n",
            "2022-11-21 14:42:57.297258: I tensorflow/core/common_runtime/bfc_allocator.cc:1083] InUse at 7f42a5935400 of size 2560000 next 1299\n",
            "2022-11-21 14:42:57.297261: I tensorflow/core/common_runtime/bfc_allocator.cc:1083] InUse at 7f42a5ba6400 of size 2560000 next 1300\n",
            "2022-11-21 14:42:57.297263: I tensorflow/core/common_runtime/bfc_allocator.cc:1083] InUse at 7f42a5e17400 of size 219136 next 1320\n",
            "2022-11-21 14:42:57.297266: I tensorflow/core/common_runtime/bfc_allocator.cc:1083] InUse at 7f42a5e4cc00 of size 512 next 1341\n",
            "2022-11-21 14:42:57.297268: I tensorflow/core/common_runtime/bfc_allocator.cc:1083] InUse at 7f42a5e4ce00 of size 176128 next 1345\n",
            "2022-11-21 14:42:57.297271: I tensorflow/core/common_runtime/bfc_allocator.cc:1083] InUse at 7f42a5e77e00 of size 256 next 1346\n",
            "2022-11-21 14:42:57.297273: I tensorflow/core/common_runtime/bfc_allocator.cc:1083] InUse at 7f42a5e77f00 of size 256 next 1347\n",
            "2022-11-21 14:42:57.297275: I tensorflow/core/common_runtime/bfc_allocator.cc:1083] InUse at 7f42a5e78000 of size 256 next 1348\n",
            "2022-11-21 14:42:57.297278: I tensorflow/core/common_runtime/bfc_allocator.cc:1083] InUse at 7f42a5e78100 of size 256 next 1349\n",
            "2022-11-21 14:42:57.297280: I tensorflow/core/common_runtime/bfc_allocator.cc:1083] InUse at 7f42a5e78200 of size 256 next 1350\n",
            "2022-11-21 14:42:57.297282: I tensorflow/core/common_runtime/bfc_allocator.cc:1083] InUse at 7f42a5e78300 of size 256 next 1351\n",
            "2022-11-21 14:42:57.297285: I tensorflow/core/common_runtime/bfc_allocator.cc:1083] InUse at 7f42a5e78400 of size 54784 next 1352\n",
            "2022-11-21 14:42:57.297287: I tensorflow/core/common_runtime/bfc_allocator.cc:1083] InUse at 7f42a5e85a00 of size 54784 next 1353\n",
            "2022-11-21 14:42:57.297290: I tensorflow/core/common_runtime/bfc_allocator.cc:1083] InUse at 7f42a5e93000 of size 54784 next 1354\n",
            "2022-11-21 14:42:57.297292: I tensorflow/core/common_runtime/bfc_allocator.cc:1083] InUse at 7f42a5ea0600 of size 4096 next 1355\n",
            "2022-11-21 14:42:57.297295: I tensorflow/core/common_runtime/bfc_allocator.cc:1083] InUse at 7f42a5ea1600 of size 4096 next 1356\n",
            "2022-11-21 14:42:57.297297: I tensorflow/core/common_runtime/bfc_allocator.cc:1083] InUse at 7f42a5ea2600 of size 4096 next 1357\n",
            "2022-11-21 14:42:57.297299: I tensorflow/core/common_runtime/bfc_allocator.cc:1083] InUse at 7f42a5ea3600 of size 177408 next 1358\n",
            "2022-11-21 14:42:57.297302: I tensorflow/core/common_runtime/bfc_allocator.cc:1083] InUse at 7f42a5eceb00 of size 16384 next 1359\n",
            "2022-11-21 14:42:57.297304: I tensorflow/core/common_runtime/bfc_allocator.cc:1083] InUse at 7f42a5ed2b00 of size 16384 next 1360\n",
            "2022-11-21 14:42:57.297307: I tensorflow/core/common_runtime/bfc_allocator.cc:1083] InUse at 7f42a5ed6b00 of size 256 next 1361\n",
            "2022-11-21 14:42:57.297309: I tensorflow/core/common_runtime/bfc_allocator.cc:1083] InUse at 7f42a5ed6c00 of size 98560 next 1363\n",
            "2022-11-21 14:42:57.297311: I tensorflow/core/common_runtime/bfc_allocator.cc:1083] InUse at 7f42a5eeed00 of size 2814208 next 1339\n",
            "2022-11-21 14:42:57.297314: I tensorflow/core/common_runtime/bfc_allocator.cc:1083] InUse at 7f42a619de00 of size 98560 next 1340\n",
            "2022-11-21 14:42:57.297316: I tensorflow/core/common_runtime/bfc_allocator.cc:1083] InUse at 7f42a61b5f00 of size 2560000 next 1321\n",
            "2022-11-21 14:42:57.297319: I tensorflow/core/common_runtime/bfc_allocator.cc:1083] InUse at 7f42a6426f00 of size 219136 next 1342\n",
            "2022-11-21 14:42:57.297321: I tensorflow/core/common_runtime/bfc_allocator.cc:1083] InUse at 7f42a645c700 of size 512 next 1362\n",
            "2022-11-21 14:42:57.297323: I tensorflow/core/common_runtime/bfc_allocator.cc:1083] InUse at 7f42a645c900 of size 176128 next 1366\n",
            "2022-11-21 14:42:57.297326: I tensorflow/core/common_runtime/bfc_allocator.cc:1083] InUse at 7f42a6487900 of size 256 next 1367\n",
            "2022-11-21 14:42:57.297328: I tensorflow/core/common_runtime/bfc_allocator.cc:1083] InUse at 7f42a6487a00 of size 256 next 1368\n",
            "2022-11-21 14:42:57.297331: I tensorflow/core/common_runtime/bfc_allocator.cc:1083] InUse at 7f42a6487b00 of size 256 next 1369\n",
            "2022-11-21 14:42:57.297333: I tensorflow/core/common_runtime/bfc_allocator.cc:1083] InUse at 7f42a6487c00 of size 256 next 1370\n",
            "2022-11-21 14:42:57.297335: I tensorflow/core/common_runtime/bfc_allocator.cc:1083] InUse at 7f42a6487d00 of size 256 next 1371\n",
            "2022-11-21 14:42:57.297338: I tensorflow/core/common_runtime/bfc_allocator.cc:1083] InUse at 7f42a6487e00 of size 256 next 1372\n",
            "2022-11-21 14:42:57.297340: I tensorflow/core/common_runtime/bfc_allocator.cc:1083] InUse at 7f42a6487f00 of size 54784 next 1373\n",
            "2022-11-21 14:42:57.297343: I tensorflow/core/common_runtime/bfc_allocator.cc:1083] InUse at 7f42a6495500 of size 54784 next 1374\n",
            "2022-11-21 14:42:57.297345: I tensorflow/core/common_runtime/bfc_allocator.cc:1083] InUse at 7f42a64a2b00 of size 54784 next 1375\n",
            "2022-11-21 14:42:57.297347: I tensorflow/core/common_runtime/bfc_allocator.cc:1083] InUse at 7f42a64b0100 of size 4096 next 1376\n",
            "2022-11-21 14:42:57.297350: I tensorflow/core/common_runtime/bfc_allocator.cc:1083] InUse at 7f42a64b1100 of size 4096 next 1377\n",
            "2022-11-21 14:42:57.297352: I tensorflow/core/common_runtime/bfc_allocator.cc:1083] InUse at 7f42a64b2100 of size 4096 next 1378\n",
            "2022-11-21 14:42:57.297355: I tensorflow/core/common_runtime/bfc_allocator.cc:1083] InUse at 7f42a64b3100 of size 177408 next 1379\n",
            "2022-11-21 14:42:57.297357: I tensorflow/core/common_runtime/bfc_allocator.cc:1083] InUse at 7f42a64de600 of size 16384 next 1380\n",
            "2022-11-21 14:42:57.297359: I tensorflow/core/common_runtime/bfc_allocator.cc:1083] InUse at 7f42a64e2600 of size 16384 next 1381\n",
            "2022-11-21 14:42:57.297362: I tensorflow/core/common_runtime/bfc_allocator.cc:1083] InUse at 7f42a64e6600 of size 256 next 1382\n",
            "2022-11-21 14:42:57.297364: I tensorflow/core/common_runtime/bfc_allocator.cc:1083] InUse at 7f42a64e6700 of size 2560000 next 1343\n",
            "2022-11-21 14:42:57.297366: I tensorflow/core/common_runtime/bfc_allocator.cc:1083] InUse at 7f42a6757700 of size 2560000 next 1344\n",
            "2022-11-21 14:42:57.297369: I tensorflow/core/common_runtime/bfc_allocator.cc:1083] InUse at 7f42a69c8700 of size 219136 next 1364\n",
            "2022-11-21 14:42:57.297371: I tensorflow/core/common_runtime/bfc_allocator.cc:1083] InUse at 7f42a69fdf00 of size 512 next 1385\n",
            "2022-11-21 14:42:57.297374: I tensorflow/core/common_runtime/bfc_allocator.cc:1083] InUse at 7f42a69fe100 of size 16384 next 1460\n",
            "2022-11-21 14:42:57.297376: I tensorflow/core/common_runtime/bfc_allocator.cc:1083] Free  at 7f42a6a02100 of size 17408 next 1421\n",
            "2022-11-21 14:42:57.297378: I tensorflow/core/common_runtime/bfc_allocator.cc:1083] InUse at 7f42a6a06500 of size 512 next 1409\n",
            "2022-11-21 14:42:57.297381: I tensorflow/core/common_runtime/bfc_allocator.cc:1083] InUse at 7f42a6a06700 of size 512 next 1406\n",
            "2022-11-21 14:42:57.297383: I tensorflow/core/common_runtime/bfc_allocator.cc:1083] InUse at 7f42a6a06900 of size 512 next 1425\n",
            "2022-11-21 14:42:57.297386: I tensorflow/core/common_runtime/bfc_allocator.cc:1083] InUse at 7f42a6a06b00 of size 512 next 1422\n",
            "2022-11-21 14:42:57.297388: I tensorflow/core/common_runtime/bfc_allocator.cc:1083] InUse at 7f42a6a06d00 of size 512 next 1415\n",
            "2022-11-21 14:42:57.297390: I tensorflow/core/common_runtime/bfc_allocator.cc:1083] InUse at 7f42a6a06f00 of size 512 next 1411\n",
            "2022-11-21 14:42:57.297393: I tensorflow/core/common_runtime/bfc_allocator.cc:1083] InUse at 7f42a6a07100 of size 512 next 1408\n",
            "2022-11-21 14:42:57.297395: I tensorflow/core/common_runtime/bfc_allocator.cc:1083] InUse at 7f42a6a07300 of size 512 next 1427\n",
            "2022-11-21 14:42:57.297398: I tensorflow/core/common_runtime/bfc_allocator.cc:1083] InUse at 7f42a6a07500 of size 512 next 1435\n",
            "2022-11-21 14:42:57.297400: I tensorflow/core/common_runtime/bfc_allocator.cc:1083] InUse at 7f42a6a07700 of size 512 next 1436\n",
            "2022-11-21 14:42:57.297402: I tensorflow/core/common_runtime/bfc_allocator.cc:1083] InUse at 7f42a6a07900 of size 512 next 1437\n",
            "2022-11-21 14:42:57.297405: I tensorflow/core/common_runtime/bfc_allocator.cc:1083] InUse at 7f42a6a07b00 of size 512 next 1442\n",
            "2022-11-21 14:42:57.297407: I tensorflow/core/common_runtime/bfc_allocator.cc:1083] InUse at 7f42a6a07d00 of size 512 next 1443\n",
            "2022-11-21 14:42:57.297409: I tensorflow/core/common_runtime/bfc_allocator.cc:1083] InUse at 7f42a6a07f00 of size 512 next 1444\n",
            "2022-11-21 14:42:57.297412: I tensorflow/core/common_runtime/bfc_allocator.cc:1083] InUse at 7f42a6a08100 of size 16384 next 1502\n",
            "2022-11-21 14:42:57.297414: I tensorflow/core/common_runtime/bfc_allocator.cc:1083] Free  at 7f42a6a0c100 of size 90112 next 1501\n",
            "2022-11-21 14:42:57.297417: I tensorflow/core/common_runtime/bfc_allocator.cc:1083] InUse at 7f42a6a22100 of size 512 next 1494\n",
            "2022-11-21 14:42:57.297419: I tensorflow/core/common_runtime/bfc_allocator.cc:1083] InUse at 7f42a6a22300 of size 28160 next 1389\n",
            "2022-11-21 14:42:57.297421: I tensorflow/core/common_runtime/bfc_allocator.cc:1083] InUse at 7f42a6a29100 of size 256 next 1390\n",
            "2022-11-21 14:42:57.297424: I tensorflow/core/common_runtime/bfc_allocator.cc:1083] InUse at 7f42a6a29200 of size 256 next 1391\n",
            "2022-11-21 14:42:57.297426: I tensorflow/core/common_runtime/bfc_allocator.cc:1083] InUse at 7f42a6a29300 of size 256 next 1392\n",
            "2022-11-21 14:42:57.297429: I tensorflow/core/common_runtime/bfc_allocator.cc:1083] InUse at 7f42a6a29400 of size 256 next 1393\n",
            "2022-11-21 14:42:57.297431: I tensorflow/core/common_runtime/bfc_allocator.cc:1083] InUse at 7f42a6a29500 of size 256 next 1394\n",
            "2022-11-21 14:42:57.297433: I tensorflow/core/common_runtime/bfc_allocator.cc:1083] InUse at 7f42a6a29600 of size 256 next 1395\n",
            "2022-11-21 14:42:57.297436: I tensorflow/core/common_runtime/bfc_allocator.cc:1083] InUse at 7f42a6a29700 of size 54784 next 1396\n",
            "2022-11-21 14:42:57.297438: I tensorflow/core/common_runtime/bfc_allocator.cc:1083] InUse at 7f42a6a36d00 of size 54784 next 1397\n",
            "2022-11-21 14:42:57.297440: I tensorflow/core/common_runtime/bfc_allocator.cc:1083] InUse at 7f42a6a44300 of size 54784 next 1398\n",
            "2022-11-21 14:42:57.297443: I tensorflow/core/common_runtime/bfc_allocator.cc:1083] InUse at 7f42a6a51900 of size 4096 next 1399\n",
            "2022-11-21 14:42:57.297445: I tensorflow/core/common_runtime/bfc_allocator.cc:1083] InUse at 7f42a6a52900 of size 4096 next 1400\n",
            "2022-11-21 14:42:57.297448: I tensorflow/core/common_runtime/bfc_allocator.cc:1083] InUse at 7f42a6a53900 of size 4096 next 1401\n",
            "2022-11-21 14:42:57.297450: I tensorflow/core/common_runtime/bfc_allocator.cc:1083] InUse at 7f42a6a54900 of size 177408 next 1402\n",
            "2022-11-21 14:42:57.297453: I tensorflow/core/common_runtime/bfc_allocator.cc:1083] InUse at 7f42a6a7fe00 of size 16384 next 1403\n",
            "2022-11-21 14:42:57.297455: I tensorflow/core/common_runtime/bfc_allocator.cc:1083] InUse at 7f42a6a83e00 of size 16384 next 1404\n",
            "2022-11-21 14:42:57.297457: I tensorflow/core/common_runtime/bfc_allocator.cc:1083] InUse at 7f42a6a87e00 of size 256 next 1405\n",
            "2022-11-21 14:42:57.297460: I tensorflow/core/common_runtime/bfc_allocator.cc:1083] InUse at 7f42a6a87f00 of size 98560 next 1407\n",
            "2022-11-21 14:42:57.297462: I tensorflow/core/common_runtime/bfc_allocator.cc:1083] InUse at 7f42a6aa0000 of size 2814208 next 1383\n",
            "2022-11-21 14:42:57.297465: I tensorflow/core/common_runtime/bfc_allocator.cc:1083] InUse at 7f42a6d4f100 of size 98560 next 1384\n",
            "2022-11-21 14:42:57.297467: I tensorflow/core/common_runtime/bfc_allocator.cc:1083] InUse at 7f42a6d67200 of size 2560000 next 1365\n",
            "2022-11-21 14:42:57.297469: I tensorflow/core/common_runtime/bfc_allocator.cc:1083] InUse at 7f42a6fd8200 of size 171264 next 1414\n",
            "2022-11-21 14:42:57.297472: I tensorflow/core/common_runtime/bfc_allocator.cc:1083] InUse at 7f42a7001f00 of size 275200 next 1419\n",
            "2022-11-21 14:42:57.297474: I tensorflow/core/common_runtime/bfc_allocator.cc:1083] Free  at 7f42a7045200 of size 5120000 next 1420\n",
            "2022-11-21 14:42:57.297477: I tensorflow/core/common_runtime/bfc_allocator.cc:1083] InUse at 7f42a7527200 of size 171264 next 1416\n",
            "2022-11-21 14:42:57.297479: I tensorflow/core/common_runtime/bfc_allocator.cc:1083] InUse at 7f42a7550f00 of size 342528 next 1424\n",
            "2022-11-21 14:42:57.297482: I tensorflow/core/common_runtime/bfc_allocator.cc:1083] InUse at 7f42a75a4900 of size 342528 next 1386\n",
            "2022-11-21 14:42:57.297484: I tensorflow/core/common_runtime/bfc_allocator.cc:1083] InUse at 7f42a75f8300 of size 342528 next 1413\n",
            "2022-11-21 14:42:57.297487: I tensorflow/core/common_runtime/bfc_allocator.cc:1083] InUse at 7f42a764bd00 of size 513792 next 1428\n",
            "2022-11-21 14:42:57.297489: I tensorflow/core/common_runtime/bfc_allocator.cc:1083] InUse at 7f42a76c9400 of size 513792 next 1418\n",
            "2022-11-21 14:42:57.297492: I tensorflow/core/common_runtime/bfc_allocator.cc:1083] InUse at 7f42a7746b00 of size 695040 next 1410\n",
            "2022-11-21 14:42:57.297494: I tensorflow/core/common_runtime/bfc_allocator.cc:1083] Free  at 7f42a77f0600 of size 6021376 next 1430\n",
            "2022-11-21 14:42:57.297497: I tensorflow/core/common_runtime/bfc_allocator.cc:1083] InUse at 7f42a7dae700 of size 6004992 next 1412\n",
            "2022-11-21 14:42:57.297499: I tensorflow/core/common_runtime/bfc_allocator.cc:1083] Free  at 7f42a8368800 of size 30730240 next 1417\n",
            "2022-11-21 14:42:57.297502: I tensorflow/core/common_runtime/bfc_allocator.cc:1083] InUse at 7f42aa0b7000 of size 684800 next 1432\n",
            "2022-11-21 14:42:57.297504: I tensorflow/core/common_runtime/bfc_allocator.cc:1083] InUse at 7f42aa15e300 of size 684800 next 1433\n",
            "2022-11-21 14:42:57.297507: I tensorflow/core/common_runtime/bfc_allocator.cc:1083] InUse at 7f42aa205600 of size 684800 next 1434\n",
            "2022-11-21 14:42:57.297509: I tensorflow/core/common_runtime/bfc_allocator.cc:1083] InUse at 7f42aa2ac900 of size 512 next 1500\n",
            "2022-11-21 14:42:57.297511: I tensorflow/core/common_runtime/bfc_allocator.cc:1083] Free  at 7f42aa2acb00 of size 15872 next 1493\n",
            "2022-11-21 14:42:57.297514: I tensorflow/core/common_runtime/bfc_allocator.cc:1083] InUse at 7f42aa2b0900 of size 16384 next 1482\n",
            "2022-11-21 14:42:57.297516: I tensorflow/core/common_runtime/bfc_allocator.cc:1083] Free  at 7f42aa2b4900 of size 3141632 next 1438\n",
            "2022-11-21 14:42:57.297519: I tensorflow/core/common_runtime/bfc_allocator.cc:1083] InUse at 7f42aa5b3900 of size 856064 next 1439\n",
            "2022-11-21 14:42:57.297521: I tensorflow/core/common_runtime/bfc_allocator.cc:1083] InUse at 7f42aa684900 of size 856064 next 1440\n",
            "2022-11-21 14:42:57.297523: I tensorflow/core/common_runtime/bfc_allocator.cc:1083] InUse at 7f42aa755900 of size 856064 next 1441\n",
            "2022-11-21 14:42:57.297526: I tensorflow/core/common_runtime/bfc_allocator.cc:1083] Free  at 7f42aa826900 of size 3532800 next 1450\n",
            "2022-11-21 14:42:57.297528: I tensorflow/core/common_runtime/bfc_allocator.cc:1083] InUse at 7f42aab85100 of size 2048 next 1451\n",
            "2022-11-21 14:42:57.297531: I tensorflow/core/common_runtime/bfc_allocator.cc:1083] InUse at 7f42aab85900 of size 2048 next 1452\n",
            "2022-11-21 14:42:57.297533: I tensorflow/core/common_runtime/bfc_allocator.cc:1083] InUse at 7f42aab86100 of size 2048 next 1453\n",
            "2022-11-21 14:42:57.297535: I tensorflow/core/common_runtime/bfc_allocator.cc:1083] InUse at 7f42aab86900 of size 256 next 1454\n",
            "2022-11-21 14:42:57.297538: I tensorflow/core/common_runtime/bfc_allocator.cc:1083] InUse at 7f42aab86a00 of size 256 next 1455\n",
            "2022-11-21 14:42:57.297540: I tensorflow/core/common_runtime/bfc_allocator.cc:1083] InUse at 7f42aab86b00 of size 256 next 1456\n",
            "2022-11-21 14:42:57.297543: I tensorflow/core/common_runtime/bfc_allocator.cc:1083] InUse at 7f42aab86c00 of size 122131456 next 18446744073709551615\n",
            "2022-11-21 14:42:57.297545: I tensorflow/core/common_runtime/bfc_allocator.cc:1063] Next region of size 268435456\n",
            "2022-11-21 14:42:57.297548: I tensorflow/core/common_runtime/bfc_allocator.cc:1083] InUse at 7f433c000000 of size 34849024 next 15\n",
            "2022-11-21 14:42:57.297550: I tensorflow/core/common_runtime/bfc_allocator.cc:1083] InUse at 7f433e13c100 of size 34849024 next 14\n",
            "2022-11-21 14:42:57.297553: I tensorflow/core/common_runtime/bfc_allocator.cc:1083] InUse at 7f4340278200 of size 3872000 next 17\n",
            "2022-11-21 14:42:57.297555: I tensorflow/core/common_runtime/bfc_allocator.cc:1083] InUse at 7f4340629700 of size 3872000 next 19\n",
            "2022-11-21 14:42:57.297558: I tensorflow/core/common_runtime/bfc_allocator.cc:1083] InUse at 7f43409dac00 of size 3758336 next 23\n",
            "2022-11-21 14:42:57.297560: I tensorflow/core/common_runtime/bfc_allocator.cc:1083] InUse at 7f4340d70500 of size 2230528 next 25\n",
            "2022-11-21 14:42:57.297563: I tensorflow/core/common_runtime/bfc_allocator.cc:1083] InUse at 7f4340f90e00 of size 6004992 next 38\n",
            "2022-11-21 14:42:57.297565: I tensorflow/core/common_runtime/bfc_allocator.cc:1083] InUse at 7f434154af00 of size 6004992 next 61\n",
            "2022-11-21 14:42:57.297568: I tensorflow/core/common_runtime/bfc_allocator.cc:1083] InUse at 7f4341b05000 of size 533248 next 144\n",
            "2022-11-21 14:42:57.297570: I tensorflow/core/common_runtime/bfc_allocator.cc:1083] InUse at 7f4341b87300 of size 377600 next 669\n",
            "2022-11-21 14:42:57.297573: I tensorflow/core/common_runtime/bfc_allocator.cc:1083] InUse at 7f4341be3600 of size 256 next 129\n",
            "2022-11-21 14:42:57.297575: I tensorflow/core/common_runtime/bfc_allocator.cc:1083] InUse at 7f4341be3700 of size 256 next 128\n",
            "2022-11-21 14:42:57.297578: I tensorflow/core/common_runtime/bfc_allocator.cc:1083] InUse at 7f4341be3800 of size 256 next 127\n",
            "2022-11-21 14:42:57.297580: I tensorflow/core/common_runtime/bfc_allocator.cc:1083] InUse at 7f4341be3900 of size 256 next 85\n",
            "2022-11-21 14:42:57.297582: I tensorflow/core/common_runtime/bfc_allocator.cc:1083] InUse at 7f4341be3a00 of size 256 next 86\n",
            "2022-11-21 14:42:57.297585: I tensorflow/core/common_runtime/bfc_allocator.cc:1083] InUse at 7f4341be3b00 of size 256 next 83\n",
            "2022-11-21 14:42:57.297587: I tensorflow/core/common_runtime/bfc_allocator.cc:1083] InUse at 7f4341be3c00 of size 38400 next 84\n",
            "2022-11-21 14:42:57.297590: I tensorflow/core/common_runtime/bfc_allocator.cc:1083] InUse at 7f4341bed200 of size 38400 next 82\n",
            "2022-11-21 14:42:57.297592: I tensorflow/core/common_runtime/bfc_allocator.cc:1083] InUse at 7f4341bf6800 of size 38400 next 81\n",
            "2022-11-21 14:42:57.297594: I tensorflow/core/common_runtime/bfc_allocator.cc:1083] InUse at 7f4341bffe00 of size 4096 next 91\n",
            "2022-11-21 14:42:57.297597: I tensorflow/core/common_runtime/bfc_allocator.cc:1083] InUse at 7f4341c00e00 of size 4096 next 90\n",
            "2022-11-21 14:42:57.297599: I tensorflow/core/common_runtime/bfc_allocator.cc:1083] InUse at 7f4341c01e00 of size 4096 next 89\n",
            "2022-11-21 14:42:57.297602: I tensorflow/core/common_runtime/bfc_allocator.cc:1083] InUse at 7f4341c02e00 of size 128256 next 88\n",
            "2022-11-21 14:42:57.297604: I tensorflow/core/common_runtime/bfc_allocator.cc:1083] InUse at 7f4341c22300 of size 377600 next 67\n",
            "2022-11-21 14:42:57.297607: I tensorflow/core/common_runtime/bfc_allocator.cc:1083] InUse at 7f4341c7e600 of size 256 next 68\n",
            "2022-11-21 14:42:57.297609: I tensorflow/core/common_runtime/bfc_allocator.cc:1083] InUse at 7f4341c7e700 of size 377600 next 658\n",
            "2022-11-21 14:42:57.297611: I tensorflow/core/common_runtime/bfc_allocator.cc:1083] InUse at 7f4341cdaa00 of size 256 next 64\n",
            "2022-11-21 14:42:57.297614: I tensorflow/core/common_runtime/bfc_allocator.cc:1083] InUse at 7f4341cdab00 of size 256 next 63\n",
            "2022-11-21 14:42:57.297616: I tensorflow/core/common_runtime/bfc_allocator.cc:1083] InUse at 7f4341cdac00 of size 256 next 73\n",
            "2022-11-21 14:42:57.297619: I tensorflow/core/common_runtime/bfc_allocator.cc:1083] InUse at 7f4341cdad00 of size 256 next 72\n",
            "2022-11-21 14:42:57.297621: I tensorflow/core/common_runtime/bfc_allocator.cc:1083] InUse at 7f4341cdae00 of size 256 next 71\n",
            "2022-11-21 14:42:57.297624: I tensorflow/core/common_runtime/bfc_allocator.cc:1083] InUse at 7f4341cdaf00 of size 256 next 70\n",
            "2022-11-21 14:42:57.297626: I tensorflow/core/common_runtime/bfc_allocator.cc:1083] InUse at 7f4341cdb000 of size 38400 next 69\n",
            "2022-11-21 14:42:57.297628: I tensorflow/core/common_runtime/bfc_allocator.cc:1083] InUse at 7f4341ce4600 of size 38400 next 56\n",
            "2022-11-21 14:42:57.297631: I tensorflow/core/common_runtime/bfc_allocator.cc:1083] InUse at 7f4341cedc00 of size 38400 next 659\n",
            "2022-11-21 14:42:57.297633: I tensorflow/core/common_runtime/bfc_allocator.cc:1083] InUse at 7f4341cf7200 of size 4096 next 115\n",
            "2022-11-21 14:42:57.297636: I tensorflow/core/common_runtime/bfc_allocator.cc:1083] InUse at 7f4341cf8200 of size 4096 next 154\n",
            "2022-11-21 14:42:57.297638: I tensorflow/core/common_runtime/bfc_allocator.cc:1083] InUse at 7f4341cf9200 of size 4096 next 155\n",
            "2022-11-21 14:42:57.297640: I tensorflow/core/common_runtime/bfc_allocator.cc:1083] InUse at 7f4341cfa200 of size 128256 next 156\n",
            "2022-11-21 14:42:57.297643: I tensorflow/core/common_runtime/bfc_allocator.cc:1083] InUse at 7f4341d19700 of size 377600 next 136\n",
            "2022-11-21 14:42:57.297645: I tensorflow/core/common_runtime/bfc_allocator.cc:1083] InUse at 7f4341d75a00 of size 256 next 96\n",
            "2022-11-21 14:42:57.297648: I tensorflow/core/common_runtime/bfc_allocator.cc:1083] InUse at 7f4341d75b00 of size 256 next 343\n",
            "2022-11-21 14:42:57.297650: I tensorflow/core/common_runtime/bfc_allocator.cc:1083] InUse at 7f4341d75c00 of size 8448 next 599\n",
            "2022-11-21 14:42:57.297652: I tensorflow/core/common_runtime/bfc_allocator.cc:1083] InUse at 7f4341d77d00 of size 256 next 342\n",
            "2022-11-21 14:42:57.297655: I tensorflow/core/common_runtime/bfc_allocator.cc:1083] InUse at 7f4341d77e00 of size 8704 next 597\n",
            "2022-11-21 14:42:57.297657: I tensorflow/core/common_runtime/bfc_allocator.cc:1083] InUse at 7f4341d7a000 of size 256 next 339\n",
            "2022-11-21 14:42:57.297660: I tensorflow/core/common_runtime/bfc_allocator.cc:1083] InUse at 7f4341d7a100 of size 8960 next 595\n",
            "2022-11-21 14:42:57.297662: I tensorflow/core/common_runtime/bfc_allocator.cc:1083] InUse at 7f4341d7c400 of size 256 next 337\n",
            "2022-11-21 14:42:57.297665: I tensorflow/core/common_runtime/bfc_allocator.cc:1083] InUse at 7f4341d7c500 of size 9216 next 593\n",
            "2022-11-21 14:42:57.297667: I tensorflow/core/common_runtime/bfc_allocator.cc:1083] InUse at 7f4341d7e900 of size 256 next 335\n",
            "2022-11-21 14:42:57.297670: I tensorflow/core/common_runtime/bfc_allocator.cc:1083] InUse at 7f4341d7ea00 of size 9472 next 591\n",
            "2022-11-21 14:42:57.297672: I tensorflow/core/common_runtime/bfc_allocator.cc:1083] InUse at 7f4341d80f00 of size 256 next 333\n",
            "2022-11-21 14:42:57.297675: I tensorflow/core/common_runtime/bfc_allocator.cc:1083] InUse at 7f4341d81000 of size 9728 next 589\n",
            "2022-11-21 14:42:57.297677: I tensorflow/core/common_runtime/bfc_allocator.cc:1083] InUse at 7f4341d83600 of size 256 next 332\n",
            "2022-11-21 14:42:57.297679: I tensorflow/core/common_runtime/bfc_allocator.cc:1083] InUse at 7f4341d83700 of size 9984 next 587\n",
            "2022-11-21 14:42:57.297682: I tensorflow/core/common_runtime/bfc_allocator.cc:1083] InUse at 7f4341d85e00 of size 256 next 330\n",
            "2022-11-21 14:42:57.297684: I tensorflow/core/common_runtime/bfc_allocator.cc:1083] InUse at 7f4341d85f00 of size 10240 next 585\n",
            "2022-11-21 14:42:57.297687: I tensorflow/core/common_runtime/bfc_allocator.cc:1083] InUse at 7f4341d88700 of size 256 next 584\n",
            "2022-11-21 14:42:57.297689: I tensorflow/core/common_runtime/bfc_allocator.cc:1083] InUse at 7f4341d88800 of size 10496 next 581\n",
            "2022-11-21 14:42:57.297692: I tensorflow/core/common_runtime/bfc_allocator.cc:1083] InUse at 7f4341d8b100 of size 256 next 323\n",
            "2022-11-21 14:42:57.297694: I tensorflow/core/common_runtime/bfc_allocator.cc:1083] InUse at 7f4341d8b200 of size 10752 next 579\n",
            "2022-11-21 14:42:57.297697: I tensorflow/core/common_runtime/bfc_allocator.cc:1083] InUse at 7f4341d8dc00 of size 256 next 321\n",
            "2022-11-21 14:42:57.297699: I tensorflow/core/common_runtime/bfc_allocator.cc:1083] InUse at 7f4341d8dd00 of size 11008 next 577\n",
            "2022-11-21 14:42:57.297702: I tensorflow/core/common_runtime/bfc_allocator.cc:1083] InUse at 7f4341d90800 of size 256 next 319\n",
            "2022-11-21 14:42:57.297704: I tensorflow/core/common_runtime/bfc_allocator.cc:1083] InUse at 7f4341d90900 of size 11264 next 575\n",
            "2022-11-21 14:42:57.297706: I tensorflow/core/common_runtime/bfc_allocator.cc:1083] InUse at 7f4341d93500 of size 256 next 318\n",
            "2022-11-21 14:42:57.297709: I tensorflow/core/common_runtime/bfc_allocator.cc:1083] InUse at 7f4341d93600 of size 11520 next 573\n",
            "2022-11-21 14:42:57.297711: I tensorflow/core/common_runtime/bfc_allocator.cc:1083] InUse at 7f4341d96300 of size 256 next 315\n",
            "2022-11-21 14:42:57.297714: I tensorflow/core/common_runtime/bfc_allocator.cc:1083] InUse at 7f4341d96400 of size 11776 next 571\n",
            "2022-11-21 14:42:57.297716: I tensorflow/core/common_runtime/bfc_allocator.cc:1083] InUse at 7f4341d99200 of size 256 next 314\n",
            "2022-11-21 14:42:57.297719: I tensorflow/core/common_runtime/bfc_allocator.cc:1083] InUse at 7f4341d99300 of size 12032 next 569\n",
            "2022-11-21 14:42:57.297721: I tensorflow/core/common_runtime/bfc_allocator.cc:1083] InUse at 7f4341d9c200 of size 256 next 312\n",
            "2022-11-21 14:42:57.297724: I tensorflow/core/common_runtime/bfc_allocator.cc:1083] InUse at 7f4341d9c300 of size 12288 next 567\n",
            "2022-11-21 14:42:57.297726: I tensorflow/core/common_runtime/bfc_allocator.cc:1083] InUse at 7f4341d9f300 of size 256 next 311\n",
            "2022-11-21 14:42:57.297729: I tensorflow/core/common_runtime/bfc_allocator.cc:1083] InUse at 7f4341d9f400 of size 12544 next 565\n",
            "2022-11-21 14:42:57.297731: I tensorflow/core/common_runtime/bfc_allocator.cc:1083] InUse at 7f4341da2500 of size 256 next 309\n",
            "2022-11-21 14:42:57.297734: I tensorflow/core/common_runtime/bfc_allocator.cc:1083] InUse at 7f4341da2600 of size 12800 next 563\n",
            "2022-11-21 14:42:57.297736: I tensorflow/core/common_runtime/bfc_allocator.cc:1083] InUse at 7f4341da5800 of size 256 next 306\n",
            "2022-11-21 14:42:57.297738: I tensorflow/core/common_runtime/bfc_allocator.cc:1083] InUse at 7f4341da5900 of size 13056 next 562\n",
            "2022-11-21 14:42:57.297741: I tensorflow/core/common_runtime/bfc_allocator.cc:1083] InUse at 7f4341da8c00 of size 256 next 305\n",
            "2022-11-21 14:42:57.297743: I tensorflow/core/common_runtime/bfc_allocator.cc:1083] InUse at 7f4341da8d00 of size 13312 next 559\n",
            "2022-11-21 14:42:57.297746: I tensorflow/core/common_runtime/bfc_allocator.cc:1083] InUse at 7f4341dac100 of size 256 next 302\n",
            "2022-11-21 14:42:57.297748: I tensorflow/core/common_runtime/bfc_allocator.cc:1083] InUse at 7f4341dac200 of size 13568 next 558\n",
            "2022-11-21 14:42:57.297751: I tensorflow/core/common_runtime/bfc_allocator.cc:1083] InUse at 7f4341daf700 of size 256 next 300\n",
            "2022-11-21 14:42:57.297753: I tensorflow/core/common_runtime/bfc_allocator.cc:1083] InUse at 7f4341daf800 of size 13824 next 555\n",
            "2022-11-21 14:42:57.297755: I tensorflow/core/common_runtime/bfc_allocator.cc:1083] InUse at 7f4341db2e00 of size 256 next 298\n",
            "2022-11-21 14:42:57.297758: I tensorflow/core/common_runtime/bfc_allocator.cc:1083] InUse at 7f4341db2f00 of size 14080 next 553\n",
            "2022-11-21 14:42:57.297760: I tensorflow/core/common_runtime/bfc_allocator.cc:1083] InUse at 7f4341db6600 of size 256 next 296\n",
            "2022-11-21 14:42:57.297763: I tensorflow/core/common_runtime/bfc_allocator.cc:1083] InUse at 7f4341db6700 of size 14336 next 551\n",
            "2022-11-21 14:42:57.297765: I tensorflow/core/common_runtime/bfc_allocator.cc:1083] InUse at 7f4341db9f00 of size 256 next 294\n",
            "2022-11-21 14:42:57.297768: I tensorflow/core/common_runtime/bfc_allocator.cc:1083] InUse at 7f4341dba000 of size 14592 next 549\n",
            "2022-11-21 14:42:57.297770: I tensorflow/core/common_runtime/bfc_allocator.cc:1083] InUse at 7f4341dbd900 of size 256 next 292\n",
            "2022-11-21 14:42:57.297773: I tensorflow/core/common_runtime/bfc_allocator.cc:1083] InUse at 7f4341dbda00 of size 14848 next 547\n",
            "2022-11-21 14:42:57.297775: I tensorflow/core/common_runtime/bfc_allocator.cc:1083] InUse at 7f4341dc1400 of size 256 next 290\n",
            "2022-11-21 14:42:57.297778: I tensorflow/core/common_runtime/bfc_allocator.cc:1083] InUse at 7f4341dc1500 of size 15104 next 545\n",
            "2022-11-21 14:42:57.297780: I tensorflow/core/common_runtime/bfc_allocator.cc:1083] InUse at 7f4341dc5000 of size 256 next 288\n",
            "2022-11-21 14:42:57.297782: I tensorflow/core/common_runtime/bfc_allocator.cc:1083] InUse at 7f4341dc5100 of size 15360 next 543\n",
            "2022-11-21 14:42:57.297785: I tensorflow/core/common_runtime/bfc_allocator.cc:1083] InUse at 7f4341dc8d00 of size 256 next 286\n",
            "2022-11-21 14:42:57.297787: I tensorflow/core/common_runtime/bfc_allocator.cc:1083] InUse at 7f4341dc8e00 of size 15616 next 541\n",
            "2022-11-21 14:42:57.297790: I tensorflow/core/common_runtime/bfc_allocator.cc:1083] InUse at 7f4341dccb00 of size 256 next 284\n",
            "2022-11-21 14:42:57.297792: I tensorflow/core/common_runtime/bfc_allocator.cc:1083] InUse at 7f4341dccc00 of size 15872 next 539\n",
            "2022-11-21 14:42:57.297795: I tensorflow/core/common_runtime/bfc_allocator.cc:1083] InUse at 7f4341dd0a00 of size 256 next 282\n",
            "2022-11-21 14:42:57.297797: I tensorflow/core/common_runtime/bfc_allocator.cc:1083] InUse at 7f4341dd0b00 of size 16128 next 537\n",
            "2022-11-21 14:42:57.297800: I tensorflow/core/common_runtime/bfc_allocator.cc:1083] InUse at 7f4341dd4a00 of size 256 next 280\n",
            "2022-11-21 14:42:57.297802: I tensorflow/core/common_runtime/bfc_allocator.cc:1083] InUse at 7f4341dd4b00 of size 16384 next 535\n",
            "2022-11-21 14:42:57.297805: I tensorflow/core/common_runtime/bfc_allocator.cc:1083] InUse at 7f4341dd8b00 of size 256 next 278\n",
            "2022-11-21 14:42:57.297807: I tensorflow/core/common_runtime/bfc_allocator.cc:1083] InUse at 7f4341dd8c00 of size 16640 next 533\n",
            "2022-11-21 14:42:57.297810: I tensorflow/core/common_runtime/bfc_allocator.cc:1083] InUse at 7f4341ddcd00 of size 256 next 276\n",
            "2022-11-21 14:42:57.297812: I tensorflow/core/common_runtime/bfc_allocator.cc:1083] InUse at 7f4341ddce00 of size 16896 next 531\n",
            "2022-11-21 14:42:57.297815: I tensorflow/core/common_runtime/bfc_allocator.cc:1083] InUse at 7f4341de1000 of size 256 next 275\n",
            "2022-11-21 14:42:57.297817: I tensorflow/core/common_runtime/bfc_allocator.cc:1083] InUse at 7f4341de1100 of size 17152 next 529\n",
            "2022-11-21 14:42:57.297820: I tensorflow/core/common_runtime/bfc_allocator.cc:1083] InUse at 7f4341de5400 of size 256 next 527\n",
            "2022-11-21 14:42:57.297822: I tensorflow/core/common_runtime/bfc_allocator.cc:1083] InUse at 7f4341de5500 of size 17408 next 270\n",
            "2022-11-21 14:42:57.297825: I tensorflow/core/common_runtime/bfc_allocator.cc:1083] InUse at 7f4341de9900 of size 256 next 525\n",
            "2022-11-21 14:42:57.297827: I tensorflow/core/common_runtime/bfc_allocator.cc:1083] InUse at 7f4341de9a00 of size 17664 next 268\n",
            "2022-11-21 14:42:57.297829: I tensorflow/core/common_runtime/bfc_allocator.cc:1083] InUse at 7f4341dedf00 of size 256 next 523\n",
            "2022-11-21 14:42:57.297832: I tensorflow/core/common_runtime/bfc_allocator.cc:1083] InUse at 7f4341dee000 of size 17920 next 266\n",
            "2022-11-21 14:42:57.297834: I tensorflow/core/common_runtime/bfc_allocator.cc:1083] InUse at 7f4341df2600 of size 256 next 521\n",
            "2022-11-21 14:42:57.297837: I tensorflow/core/common_runtime/bfc_allocator.cc:1083] InUse at 7f4341df2700 of size 18176 next 264\n",
            "2022-11-21 14:42:57.297839: I tensorflow/core/common_runtime/bfc_allocator.cc:1083] InUse at 7f4341df6e00 of size 256 next 520\n",
            "2022-11-21 14:42:57.297842: I tensorflow/core/common_runtime/bfc_allocator.cc:1083] InUse at 7f4341df6f00 of size 18432 next 262\n",
            "2022-11-21 14:42:57.297844: I tensorflow/core/common_runtime/bfc_allocator.cc:1083] InUse at 7f4341dfb700 of size 256 next 518\n",
            "2022-11-21 14:42:57.297847: I tensorflow/core/common_runtime/bfc_allocator.cc:1083] InUse at 7f4341dfb800 of size 18688 next 261\n",
            "2022-11-21 14:42:57.297849: I tensorflow/core/common_runtime/bfc_allocator.cc:1083] InUse at 7f4341e00100 of size 256 next 515\n",
            "2022-11-21 14:42:57.297852: I tensorflow/core/common_runtime/bfc_allocator.cc:1083] InUse at 7f4341e00200 of size 18944 next 258\n",
            "2022-11-21 14:42:57.297854: I tensorflow/core/common_runtime/bfc_allocator.cc:1083] InUse at 7f4341e04c00 of size 256 next 514\n",
            "2022-11-21 14:42:57.297857: I tensorflow/core/common_runtime/bfc_allocator.cc:1083] InUse at 7f4341e04d00 of size 19200 next 256\n",
            "2022-11-21 14:42:57.297859: I tensorflow/core/common_runtime/bfc_allocator.cc:1083] InUse at 7f4341e09800 of size 256 next 511\n",
            "2022-11-21 14:42:57.297862: I tensorflow/core/common_runtime/bfc_allocator.cc:1083] InUse at 7f4341e09900 of size 19456 next 254\n",
            "2022-11-21 14:42:57.297864: I tensorflow/core/common_runtime/bfc_allocator.cc:1083] InUse at 7f4341e0e500 of size 256 next 509\n",
            "2022-11-21 14:42:57.297866: I tensorflow/core/common_runtime/bfc_allocator.cc:1083] InUse at 7f4341e0e600 of size 19712 next 507\n",
            "2022-11-21 14:42:57.297869: I tensorflow/core/common_runtime/bfc_allocator.cc:1083] InUse at 7f4341e13300 of size 256 next 250\n",
            "2022-11-21 14:42:57.297871: I tensorflow/core/common_runtime/bfc_allocator.cc:1083] InUse at 7f4341e13400 of size 19968 next 505\n",
            "2022-11-21 14:42:57.297874: I tensorflow/core/common_runtime/bfc_allocator.cc:1083] InUse at 7f4341e18200 of size 256 next 248\n",
            "2022-11-21 14:42:57.297876: I tensorflow/core/common_runtime/bfc_allocator.cc:1083] InUse at 7f4341e18300 of size 20224 next 503\n",
            "2022-11-21 14:42:57.297879: I tensorflow/core/common_runtime/bfc_allocator.cc:1083] InUse at 7f4341e1d200 of size 256 next 247\n",
            "2022-11-21 14:42:57.297881: I tensorflow/core/common_runtime/bfc_allocator.cc:1083] InUse at 7f4341e1d300 of size 20480 next 501\n",
            "2022-11-21 14:42:57.297884: I tensorflow/core/common_runtime/bfc_allocator.cc:1083] InUse at 7f4341e22300 of size 256 next 244\n",
            "2022-11-21 14:42:57.297886: I tensorflow/core/common_runtime/bfc_allocator.cc:1083] InUse at 7f4341e22400 of size 20736 next 499\n",
            "2022-11-21 14:42:57.297888: I tensorflow/core/common_runtime/bfc_allocator.cc:1083] InUse at 7f4341e27500 of size 256 next 243\n",
            "2022-11-21 14:42:57.297891: I tensorflow/core/common_runtime/bfc_allocator.cc:1083] InUse at 7f4341e27600 of size 20992 next 497\n",
            "2022-11-21 14:42:57.297894: I tensorflow/core/common_runtime/bfc_allocator.cc:1083] InUse at 7f4341e2c800 of size 256 next 241\n",
            "2022-11-21 14:42:57.297896: I tensorflow/core/common_runtime/bfc_allocator.cc:1083] InUse at 7f4341e2c900 of size 21248 next 495\n",
            "2022-11-21 14:42:57.297899: I tensorflow/core/common_runtime/bfc_allocator.cc:1083] InUse at 7f4341e31c00 of size 256 next 238\n",
            "2022-11-21 14:42:57.297901: I tensorflow/core/common_runtime/bfc_allocator.cc:1083] InUse at 7f4341e31d00 of size 21504 next 493\n",
            "2022-11-21 14:42:57.297904: I tensorflow/core/common_runtime/bfc_allocator.cc:1083] InUse at 7f4341e37100 of size 256 next 236\n",
            "2022-11-21 14:42:57.297906: I tensorflow/core/common_runtime/bfc_allocator.cc:1083] InUse at 7f4341e37200 of size 21760 next 491\n",
            "2022-11-21 14:42:57.297908: I tensorflow/core/common_runtime/bfc_allocator.cc:1083] InUse at 7f4341e3c700 of size 256 next 234\n",
            "2022-11-21 14:42:57.297911: I tensorflow/core/common_runtime/bfc_allocator.cc:1083] InUse at 7f4341e3c800 of size 22016 next 489\n",
            "2022-11-21 14:42:57.297913: I tensorflow/core/common_runtime/bfc_allocator.cc:1083] InUse at 7f4341e41e00 of size 256 next 233\n",
            "2022-11-21 14:42:57.297916: I tensorflow/core/common_runtime/bfc_allocator.cc:1083] InUse at 7f4341e41f00 of size 22272 next 487\n",
            "2022-11-21 14:42:57.297918: I tensorflow/core/common_runtime/bfc_allocator.cc:1083] InUse at 7f4341e47600 of size 256 next 230\n",
            "2022-11-21 14:42:57.297921: I tensorflow/core/common_runtime/bfc_allocator.cc:1083] InUse at 7f4341e47700 of size 22528 next 486\n",
            "2022-11-21 14:42:57.297923: I tensorflow/core/common_runtime/bfc_allocator.cc:1083] InUse at 7f4341e4cf00 of size 256 next 228\n",
            "2022-11-21 14:42:57.297926: I tensorflow/core/common_runtime/bfc_allocator.cc:1083] InUse at 7f4341e4d000 of size 22784 next 483\n",
            "2022-11-21 14:42:57.297928: I tensorflow/core/common_runtime/bfc_allocator.cc:1083] InUse at 7f4341e52900 of size 256 next 226\n",
            "2022-11-21 14:42:57.297930: I tensorflow/core/common_runtime/bfc_allocator.cc:1083] InUse at 7f4341e52a00 of size 23040 next 481\n",
            "2022-11-21 14:42:57.297933: I tensorflow/core/common_runtime/bfc_allocator.cc:1083] InUse at 7f4341e58400 of size 256 next 224\n",
            "2022-11-21 14:42:57.297935: I tensorflow/core/common_runtime/bfc_allocator.cc:1083] InUse at 7f4341e58500 of size 23296 next 479\n",
            "2022-11-21 14:42:57.297938: I tensorflow/core/common_runtime/bfc_allocator.cc:1083] InUse at 7f4341e5e000 of size 256 next 222\n",
            "2022-11-21 14:42:57.297940: I tensorflow/core/common_runtime/bfc_allocator.cc:1083] InUse at 7f4341e5e100 of size 23552 next 477\n",
            "2022-11-21 14:42:57.297943: I tensorflow/core/common_runtime/bfc_allocator.cc:1083] InUse at 7f4341e63d00 of size 256 next 221\n",
            "2022-11-21 14:42:57.297945: I tensorflow/core/common_runtime/bfc_allocator.cc:1083] InUse at 7f4341e63e00 of size 23808 next 475\n",
            "2022-11-21 14:42:57.297948: I tensorflow/core/common_runtime/bfc_allocator.cc:1083] InUse at 7f4341e69b00 of size 256 next 218\n",
            "2022-11-21 14:42:57.297950: I tensorflow/core/common_runtime/bfc_allocator.cc:1083] InUse at 7f4341e69c00 of size 24064 next 216\n",
            "2022-11-21 14:42:57.297953: I tensorflow/core/common_runtime/bfc_allocator.cc:1083] InUse at 7f4341e6fa00 of size 256 next 471\n",
            "2022-11-21 14:42:57.297955: I tensorflow/core/common_runtime/bfc_allocator.cc:1083] InUse at 7f4341e6fb00 of size 24320 next 215\n",
            "2022-11-21 14:42:57.297958: I tensorflow/core/common_runtime/bfc_allocator.cc:1083] InUse at 7f4341e75a00 of size 256 next 470\n",
            "2022-11-21 14:42:57.297960: I tensorflow/core/common_runtime/bfc_allocator.cc:1083] InUse at 7f4341e75b00 of size 24576 next 214\n",
            "2022-11-21 14:42:57.297962: I tensorflow/core/common_runtime/bfc_allocator.cc:1083] InUse at 7f4341e7bb00 of size 256 next 467\n",
            "2022-11-21 14:42:57.297965: I tensorflow/core/common_runtime/bfc_allocator.cc:1083] InUse at 7f4341e7bc00 of size 24832 next 212\n",
            "2022-11-21 14:42:57.297967: I tensorflow/core/common_runtime/bfc_allocator.cc:1083] InUse at 7f4341e81d00 of size 256 next 465\n",
            "2022-11-21 14:42:57.297970: I tensorflow/core/common_runtime/bfc_allocator.cc:1083] InUse at 7f4341e81e00 of size 25088 next 209\n",
            "2022-11-21 14:42:57.297972: I tensorflow/core/common_runtime/bfc_allocator.cc:1083] InUse at 7f4341e88000 of size 256 next 463\n",
            "2022-11-21 14:42:57.297974: I tensorflow/core/common_runtime/bfc_allocator.cc:1083] InUse at 7f4341e88100 of size 25344 next 207\n",
            "2022-11-21 14:42:57.297977: I tensorflow/core/common_runtime/bfc_allocator.cc:1083] InUse at 7f4341e8e400 of size 256 next 461\n",
            "2022-11-21 14:42:57.297979: I tensorflow/core/common_runtime/bfc_allocator.cc:1083] InUse at 7f4341e8e500 of size 25600 next 206\n",
            "2022-11-21 14:42:57.297982: I tensorflow/core/common_runtime/bfc_allocator.cc:1083] InUse at 7f4341e94900 of size 256 next 459\n",
            "2022-11-21 14:42:57.297984: I tensorflow/core/common_runtime/bfc_allocator.cc:1083] InUse at 7f4341e94a00 of size 25856 next 203\n",
            "2022-11-21 14:42:57.297987: I tensorflow/core/common_runtime/bfc_allocator.cc:1083] InUse at 7f4341e9af00 of size 256 next 457\n",
            "2022-11-21 14:42:57.297989: I tensorflow/core/common_runtime/bfc_allocator.cc:1083] InUse at 7f4341e9b000 of size 26112 next 201\n",
            "2022-11-21 14:42:57.297992: I tensorflow/core/common_runtime/bfc_allocator.cc:1083] InUse at 7f4341ea1600 of size 256 next 456\n",
            "2022-11-21 14:42:57.297994: I tensorflow/core/common_runtime/bfc_allocator.cc:1083] InUse at 7f4341ea1700 of size 26368 next 200\n",
            "2022-11-21 14:42:57.297996: I tensorflow/core/common_runtime/bfc_allocator.cc:1083] InUse at 7f4341ea7e00 of size 256 next 454\n",
            "2022-11-21 14:42:57.297999: I tensorflow/core/common_runtime/bfc_allocator.cc:1083] InUse at 7f4341ea7f00 of size 26624 next 197\n",
            "2022-11-21 14:42:57.298001: I tensorflow/core/common_runtime/bfc_allocator.cc:1083] InUse at 7f4341eae700 of size 256 next 452\n",
            "2022-11-21 14:42:57.298004: I tensorflow/core/common_runtime/bfc_allocator.cc:1083] InUse at 7f4341eae800 of size 26880 next 195\n",
            "2022-11-21 14:42:57.298006: I tensorflow/core/common_runtime/bfc_allocator.cc:1083] InUse at 7f4341eb5100 of size 256 next 199\n",
            "2022-11-21 14:42:57.298009: I tensorflow/core/common_runtime/bfc_allocator.cc:1083] InUse at 7f4341eb5200 of size 27136 next 193\n",
            "2022-11-21 14:42:57.298011: I tensorflow/core/common_runtime/bfc_allocator.cc:1083] InUse at 7f4341ebbc00 of size 256 next 448\n",
            "2022-11-21 14:42:57.298014: I tensorflow/core/common_runtime/bfc_allocator.cc:1083] InUse at 7f4341ebbd00 of size 27392 next 191\n",
            "2022-11-21 14:42:57.298016: I tensorflow/core/common_runtime/bfc_allocator.cc:1083] InUse at 7f4341ec2800 of size 256 next 446\n",
            "2022-11-21 14:42:57.298019: I tensorflow/core/common_runtime/bfc_allocator.cc:1083] InUse at 7f4341ec2900 of size 27648 next 189\n",
            "2022-11-21 14:42:57.298021: I tensorflow/core/common_runtime/bfc_allocator.cc:1083] InUse at 7f4341ec9500 of size 256 next 444\n",
            "2022-11-21 14:42:57.298023: I tensorflow/core/common_runtime/bfc_allocator.cc:1083] InUse at 7f4341ec9600 of size 27904 next 188\n",
            "2022-11-21 14:42:57.298026: I tensorflow/core/common_runtime/bfc_allocator.cc:1083] InUse at 7f4341ed0300 of size 256 next 442\n",
            "2022-11-21 14:42:57.298028: I tensorflow/core/common_runtime/bfc_allocator.cc:1083] InUse at 7f4341ed0400 of size 28160 next 185\n",
            "2022-11-21 14:42:57.298031: I tensorflow/core/common_runtime/bfc_allocator.cc:1083] InUse at 7f4341ed7200 of size 256 next 440\n",
            "2022-11-21 14:42:57.298033: I tensorflow/core/common_runtime/bfc_allocator.cc:1083] InUse at 7f4341ed7300 of size 46848 next 664\n",
            "2022-11-21 14:42:57.298036: I tensorflow/core/common_runtime/bfc_allocator.cc:1083] InUse at 7f4341ee2a00 of size 256 next 665\n",
            "2022-11-21 14:42:57.298038: I tensorflow/core/common_runtime/bfc_allocator.cc:1083] InUse at 7f4341ee2b00 of size 6004992 next 666\n",
            "2022-11-21 14:42:57.298040: I tensorflow/core/common_runtime/bfc_allocator.cc:1083] InUse at 7f434249cc00 of size 16384 next 667\n",
            "2022-11-21 14:42:57.298043: I tensorflow/core/common_runtime/bfc_allocator.cc:1083] InUse at 7f43424a0c00 of size 14024704 next 670\n",
            "2022-11-21 14:42:57.298045: I tensorflow/core/common_runtime/bfc_allocator.cc:1083] InUse at 7f4343200c00 of size 164352 next 671\n",
            "2022-11-21 14:42:57.298048: I tensorflow/core/common_runtime/bfc_allocator.cc:1083] InUse at 7f4343228e00 of size 164352 next 672\n",
            "2022-11-21 14:42:57.298050: I tensorflow/core/common_runtime/bfc_allocator.cc:1083] InUse at 7f4343251000 of size 164352 next 673\n",
            "2022-11-21 14:42:57.298053: I tensorflow/core/common_runtime/bfc_allocator.cc:1083] InUse at 7f4343279200 of size 12288 next 674\n",
            "2022-11-21 14:42:57.298055: I tensorflow/core/common_runtime/bfc_allocator.cc:1083] InUse at 7f434327c200 of size 12288 next 675\n",
            "2022-11-21 14:42:57.298058: I tensorflow/core/common_runtime/bfc_allocator.cc:1083] InUse at 7f434327f200 of size 12288 next 676\n",
            "2022-11-21 14:42:57.298060: I tensorflow/core/common_runtime/bfc_allocator.cc:1083] InUse at 7f4343282200 of size 768 next 677\n",
            "2022-11-21 14:42:57.298062: I tensorflow/core/common_runtime/bfc_allocator.cc:1083] InUse at 7f4343282500 of size 768 next 678\n",
            "2022-11-21 14:42:57.298065: I tensorflow/core/common_runtime/bfc_allocator.cc:1083] InUse at 7f4343282800 of size 768 next 679\n",
            "2022-11-21 14:42:57.298067: I tensorflow/core/common_runtime/bfc_allocator.cc:1083] InUse at 7f4343282b00 of size 754944 next 65\n",
            "2022-11-21 14:42:57.298070: I tensorflow/core/common_runtime/bfc_allocator.cc:1083] InUse at 7f434333b000 of size 256 next 183\n",
            "2022-11-21 14:42:57.298072: I tensorflow/core/common_runtime/bfc_allocator.cc:1083] InUse at 7f434333b100 of size 28672 next 437\n",
            "2022-11-21 14:42:57.298075: I tensorflow/core/common_runtime/bfc_allocator.cc:1083] InUse at 7f4343342100 of size 256 next 182\n",
            "2022-11-21 14:42:57.298077: I tensorflow/core/common_runtime/bfc_allocator.cc:1083] InUse at 7f4343342200 of size 28928 next 435\n",
            "2022-11-21 14:42:57.298080: I tensorflow/core/common_runtime/bfc_allocator.cc:1083] InUse at 7f4343349300 of size 256 next 179\n",
            "2022-11-21 14:42:57.298082: I tensorflow/core/common_runtime/bfc_allocator.cc:1083] InUse at 7f4343349400 of size 29184 next 433\n",
            "2022-11-21 14:42:57.298085: I tensorflow/core/common_runtime/bfc_allocator.cc:1083] InUse at 7f4343350600 of size 256 next 178\n",
            "2022-11-21 14:42:57.298087: I tensorflow/core/common_runtime/bfc_allocator.cc:1083] InUse at 7f4343350700 of size 29440 next 431\n",
            "2022-11-21 14:42:57.298089: I tensorflow/core/common_runtime/bfc_allocator.cc:1083] InUse at 7f4343357a00 of size 256 next 176\n",
            "2022-11-21 14:42:57.298092: I tensorflow/core/common_runtime/bfc_allocator.cc:1083] InUse at 7f4343357b00 of size 29696 next 429\n",
            "2022-11-21 14:42:57.298094: I tensorflow/core/common_runtime/bfc_allocator.cc:1083] InUse at 7f434335ef00 of size 256 next 173\n",
            "2022-11-21 14:42:57.298097: I tensorflow/core/common_runtime/bfc_allocator.cc:1083] InUse at 7f434335f000 of size 29952 next 428\n",
            "2022-11-21 14:42:57.298099: I tensorflow/core/common_runtime/bfc_allocator.cc:1083] InUse at 7f4343366500 of size 256 next 171\n",
            "2022-11-21 14:42:57.298102: I tensorflow/core/common_runtime/bfc_allocator.cc:1083] InUse at 7f4343366600 of size 30208 next 425\n",
            "2022-11-21 14:42:57.298104: I tensorflow/core/common_runtime/bfc_allocator.cc:1083] InUse at 7f434336dc00 of size 256 next 426\n",
            "2022-11-21 14:42:57.298107: I tensorflow/core/common_runtime/bfc_allocator.cc:1083] InUse at 7f434336dd00 of size 30464 next 423\n",
            "2022-11-21 14:42:57.298109: I tensorflow/core/common_runtime/bfc_allocator.cc:1083] InUse at 7f4343375400 of size 256 next 168\n",
            "2022-11-21 14:42:57.298112: I tensorflow/core/common_runtime/bfc_allocator.cc:1083] InUse at 7f4343375500 of size 30720 next 421\n",
            "2022-11-21 14:42:57.298114: I tensorflow/core/common_runtime/bfc_allocator.cc:1083] InUse at 7f434337cd00 of size 256 next 166\n",
            "2022-11-21 14:42:57.298117: I tensorflow/core/common_runtime/bfc_allocator.cc:1083] InUse at 7f434337ce00 of size 30976 next 420\n",
            "2022-11-21 14:42:57.298119: I tensorflow/core/common_runtime/bfc_allocator.cc:1083] InUse at 7f4343384700 of size 256 next 164\n",
            "2022-11-21 14:42:57.298122: I tensorflow/core/common_runtime/bfc_allocator.cc:1083] InUse at 7f4343384800 of size 31232 next 417\n",
            "2022-11-21 14:42:57.298124: I tensorflow/core/common_runtime/bfc_allocator.cc:1083] InUse at 7f434338c200 of size 256 next 162\n",
            "2022-11-21 14:42:57.298126: I tensorflow/core/common_runtime/bfc_allocator.cc:1083] InUse at 7f434338c300 of size 31488 next 415\n",
            "2022-11-21 14:42:57.298129: I tensorflow/core/common_runtime/bfc_allocator.cc:1083] InUse at 7f4343393e00 of size 256 next 160\n",
            "2022-11-21 14:42:57.298131: I tensorflow/core/common_runtime/bfc_allocator.cc:1083] InUse at 7f4343393f00 of size 31744 next 413\n",
            "2022-11-21 14:42:57.298134: I tensorflow/core/common_runtime/bfc_allocator.cc:1083] InUse at 7f434339bb00 of size 256 next 158\n",
            "2022-11-21 14:42:57.298136: I tensorflow/core/common_runtime/bfc_allocator.cc:1083] InUse at 7f434339bc00 of size 32000 next 411\n",
            "2022-11-21 14:42:57.298139: I tensorflow/core/common_runtime/bfc_allocator.cc:1083] InUse at 7f43433a3900 of size 256 next 119\n",
            "2022-11-21 14:42:57.298141: I tensorflow/core/common_runtime/bfc_allocator.cc:1083] InUse at 7f43433a3a00 of size 32256 next 409\n",
            "2022-11-21 14:42:57.298144: I tensorflow/core/common_runtime/bfc_allocator.cc:1083] InUse at 7f43433ab800 of size 256 next 118\n",
            "2022-11-21 14:42:57.298146: I tensorflow/core/common_runtime/bfc_allocator.cc:1083] InUse at 7f43433ab900 of size 32512 next 408\n",
            "2022-11-21 14:42:57.298149: I tensorflow/core/common_runtime/bfc_allocator.cc:1083] InUse at 7f43433b3800 of size 256 next 161\n",
            "2022-11-21 14:42:57.298151: I tensorflow/core/common_runtime/bfc_allocator.cc:1083] InUse at 7f43433b3900 of size 32768 next 170\n",
            "2022-11-21 14:42:57.298154: I tensorflow/core/common_runtime/bfc_allocator.cc:1083] InUse at 7f43433bb900 of size 256 next 167\n",
            "2022-11-21 14:42:57.298156: I tensorflow/core/common_runtime/bfc_allocator.cc:1083] InUse at 7f43433bba00 of size 256 next 394\n",
            "2022-11-21 14:42:57.298158: I tensorflow/core/common_runtime/bfc_allocator.cc:1083] InUse at 7f43433bbb00 of size 256 next 626\n",
            "2022-11-21 14:42:57.298161: I tensorflow/core/common_runtime/bfc_allocator.cc:1083] InUse at 7f43433bbc00 of size 512 next 627\n",
            "2022-11-21 14:42:57.298163: I tensorflow/core/common_runtime/bfc_allocator.cc:1083] InUse at 7f43433bbe00 of size 256 next 329\n",
            "2022-11-21 14:42:57.298166: I tensorflow/core/common_runtime/bfc_allocator.cc:1083] InUse at 7f43433bbf00 of size 768 next 583\n",
            "2022-11-21 14:42:57.298168: I tensorflow/core/common_runtime/bfc_allocator.cc:1083] InUse at 7f43433bc200 of size 256 next 528\n",
            "2022-11-21 14:42:57.298171: I tensorflow/core/common_runtime/bfc_allocator.cc:1083] InUse at 7f43433bc300 of size 1024 next 512\n",
            "2022-11-21 14:42:57.298173: I tensorflow/core/common_runtime/bfc_allocator.cc:1083] InUse at 7f43433bc700 of size 256 next 163\n",
            "2022-11-21 14:42:57.298175: I tensorflow/core/common_runtime/bfc_allocator.cc:1083] InUse at 7f43433bc800 of size 1280 next 410\n",
            "2022-11-21 14:42:57.298178: I tensorflow/core/common_runtime/bfc_allocator.cc:1083] InUse at 7f43433bcd00 of size 256 next 691\n",
            "2022-11-21 14:42:57.298180: I tensorflow/core/common_runtime/bfc_allocator.cc:1083] InUse at 7f43433bce00 of size 1536 next 165\n",
            "2022-11-21 14:42:57.298183: I tensorflow/core/common_runtime/bfc_allocator.cc:1083] InUse at 7f43433bd400 of size 256 next 157\n",
            "2022-11-21 14:42:57.298185: I tensorflow/core/common_runtime/bfc_allocator.cc:1083] InUse at 7f43433bd500 of size 1792 next 412\n",
            "2022-11-21 14:42:57.298187: I tensorflow/core/common_runtime/bfc_allocator.cc:1083] InUse at 7f43433bdc00 of size 256 next 159\n",
            "2022-11-21 14:42:57.298190: I tensorflow/core/common_runtime/bfc_allocator.cc:1083] InUse at 7f43433bdd00 of size 2048 next 414\n",
            "2022-11-21 14:42:57.298192: I tensorflow/core/common_runtime/bfc_allocator.cc:1083] InUse at 7f43433be500 of size 256 next 427\n",
            "2022-11-21 14:42:57.298195: I tensorflow/core/common_runtime/bfc_allocator.cc:1083] InUse at 7f43433be600 of size 2304 next 416\n",
            "2022-11-21 14:42:57.298197: I tensorflow/core/common_runtime/bfc_allocator.cc:1083] InUse at 7f43433bef00 of size 256 next 430\n",
            "2022-11-21 14:42:57.298200: I tensorflow/core/common_runtime/bfc_allocator.cc:1083] InUse at 7f43433bf000 of size 2560 next 418\n",
            "2022-11-21 14:42:57.298202: I tensorflow/core/common_runtime/bfc_allocator.cc:1083] InUse at 7f43433bfa00 of size 256 next 419\n",
            "2022-11-21 14:42:57.298204: I tensorflow/core/common_runtime/bfc_allocator.cc:1083] InUse at 7f43433bfb00 of size 2816 next 422\n",
            "2022-11-21 14:42:57.298207: I tensorflow/core/common_runtime/bfc_allocator.cc:1083] InUse at 7f43433c0600 of size 256 next 174\n",
            "2022-11-21 14:42:57.298209: I tensorflow/core/common_runtime/bfc_allocator.cc:1083] InUse at 7f43433c0700 of size 3072 next 175\n",
            "2022-11-21 14:42:57.298212: I tensorflow/core/common_runtime/bfc_allocator.cc:1083] InUse at 7f43433c1300 of size 256 next 169\n",
            "2022-11-21 14:42:57.298214: I tensorflow/core/common_runtime/bfc_allocator.cc:1083] InUse at 7f43433c1400 of size 3328 next 441\n",
            "2022-11-21 14:42:57.298217: I tensorflow/core/common_runtime/bfc_allocator.cc:1083] InUse at 7f43433c2100 of size 256 next 424\n",
            "2022-11-21 14:42:57.298219: I tensorflow/core/common_runtime/bfc_allocator.cc:1083] InUse at 7f43433c2200 of size 3584 next 449\n",
            "2022-11-21 14:42:57.298221: I tensorflow/core/common_runtime/bfc_allocator.cc:1083] InUse at 7f43433c3000 of size 256 next 172\n",
            "2022-11-21 14:42:57.298224: I tensorflow/core/common_runtime/bfc_allocator.cc:1083] InUse at 7f43433c3100 of size 3840 next 439\n",
            "2022-11-21 14:42:57.298226: I tensorflow/core/common_runtime/bfc_allocator.cc:1083] InUse at 7f43433c4000 of size 256 next 177\n",
            "2022-11-21 14:42:57.298229: I tensorflow/core/common_runtime/bfc_allocator.cc:1083] InUse at 7f43433c4100 of size 4096 next 432\n",
            "2022-11-21 14:42:57.298231: I tensorflow/core/common_runtime/bfc_allocator.cc:1083] InUse at 7f43433c5100 of size 256 next 434\n",
            "2022-11-21 14:42:57.298234: I tensorflow/core/common_runtime/bfc_allocator.cc:1083] InUse at 7f43433c5200 of size 4352 next 186\n",
            "2022-11-21 14:42:57.298236: I tensorflow/core/common_runtime/bfc_allocator.cc:1083] InUse at 7f43433c6300 of size 256 next 180\n",
            "2022-11-21 14:42:57.298239: I tensorflow/core/common_runtime/bfc_allocator.cc:1083] InUse at 7f43433c6400 of size 4608 next 436\n",
            "2022-11-21 14:42:57.298241: I tensorflow/core/common_runtime/bfc_allocator.cc:1083] InUse at 7f43433c7600 of size 256 next 181\n",
            "2022-11-21 14:42:57.298243: I tensorflow/core/common_runtime/bfc_allocator.cc:1083] InUse at 7f43433c7700 of size 4864 next 187\n",
            "2022-11-21 14:42:57.298246: I tensorflow/core/common_runtime/bfc_allocator.cc:1083] InUse at 7f43433c8a00 of size 256 next 438\n",
            "2022-11-21 14:42:57.298248: I tensorflow/core/common_runtime/bfc_allocator.cc:1083] InUse at 7f43433c8b00 of size 5120 next 184\n",
            "2022-11-21 14:42:57.298251: I tensorflow/core/common_runtime/bfc_allocator.cc:1083] InUse at 7f43433c9f00 of size 256 next 194\n",
            "2022-11-21 14:42:57.298253: I tensorflow/core/common_runtime/bfc_allocator.cc:1083] InUse at 7f43433ca000 of size 5376 next 443\n",
            "2022-11-21 14:42:57.298256: I tensorflow/core/common_runtime/bfc_allocator.cc:1083] InUse at 7f43433cb500 of size 256 next 445\n",
            "2022-11-21 14:42:57.298258: I tensorflow/core/common_runtime/bfc_allocator.cc:1083] InUse at 7f43433cb600 of size 5632 next 190\n",
            "2022-11-21 14:42:57.298260: I tensorflow/core/common_runtime/bfc_allocator.cc:1083] InUse at 7f43433ccc00 of size 256 next 450\n",
            "2022-11-21 14:42:57.298263: I tensorflow/core/common_runtime/bfc_allocator.cc:1083] InUse at 7f43433ccd00 of size 5888 next 451\n",
            "2022-11-21 14:42:57.298265: I tensorflow/core/common_runtime/bfc_allocator.cc:1083] InUse at 7f43433ce400 of size 256 next 192\n",
            "2022-11-21 14:42:57.298268: I tensorflow/core/common_runtime/bfc_allocator.cc:1083] InUse at 7f43433ce500 of size 6144 next 447\n",
            "2022-11-21 14:42:57.298270: I tensorflow/core/common_runtime/bfc_allocator.cc:1083] InUse at 7f43433cfd00 of size 256 next 455\n",
            "2022-11-21 14:42:57.298273: I tensorflow/core/common_runtime/bfc_allocator.cc:1083] InUse at 7f43433cfe00 of size 6400 next 196\n",
            "2022-11-21 14:42:57.298275: I tensorflow/core/common_runtime/bfc_allocator.cc:1083] InUse at 7f43433d1700 of size 256 next 464\n",
            "2022-11-21 14:42:57.298277: I tensorflow/core/common_runtime/bfc_allocator.cc:1083] InUse at 7f43433d1800 of size 6656 next 460\n",
            "2022-11-21 14:42:57.298280: I tensorflow/core/common_runtime/bfc_allocator.cc:1083] InUse at 7f43433d3200 of size 256 next 453\n",
            "2022-11-21 14:42:57.298282: I tensorflow/core/common_runtime/bfc_allocator.cc:1083] InUse at 7f43433d3300 of size 6912 next 198\n",
            "2022-11-21 14:42:57.298285: I tensorflow/core/common_runtime/bfc_allocator.cc:1083] InUse at 7f43433d4e00 of size 256 next 202\n",
            "2022-11-21 14:42:57.298287: I tensorflow/core/common_runtime/bfc_allocator.cc:1083] InUse at 7f43433d4f00 of size 7168 next 458\n",
            "2022-11-21 14:42:57.298290: I tensorflow/core/common_runtime/bfc_allocator.cc:1083] InUse at 7f43433d6b00 of size 256 next 476\n",
            "2022-11-21 14:42:57.298292: I tensorflow/core/common_runtime/bfc_allocator.cc:1083] InUse at 7f43433d6c00 of size 7424 next 205\n",
            "2022-11-21 14:42:57.298294: I tensorflow/core/common_runtime/bfc_allocator.cc:1083] InUse at 7f43433d8900 of size 256 next 204\n",
            "2022-11-21 14:42:57.298297: I tensorflow/core/common_runtime/bfc_allocator.cc:1083] InUse at 7f43433d8a00 of size 7680 next 213\n",
            "2022-11-21 14:42:57.298299: I tensorflow/core/common_runtime/bfc_allocator.cc:1083] InUse at 7f43433da800 of size 256 next 211\n",
            "2022-11-21 14:42:57.298302: I tensorflow/core/common_runtime/bfc_allocator.cc:1083] InUse at 7f43433da900 of size 7936 next 240\n",
            "2022-11-21 14:42:57.298304: I tensorflow/core/common_runtime/bfc_allocator.cc:1083] InUse at 7f43433dc800 of size 256 next 462\n",
            "2022-11-21 14:42:57.298307: I tensorflow/core/common_runtime/bfc_allocator.cc:1083] InUse at 7f43433dc900 of size 8192 next 208\n",
            "2022-11-21 14:42:57.298309: I tensorflow/core/common_runtime/bfc_allocator.cc:1083] InUse at 7f43433de900 of size 256 next 210\n",
            "2022-11-21 14:42:57.298312: I tensorflow/core/common_runtime/bfc_allocator.cc:1083] InUse at 7f43433dea00 of size 8448 next 466\n",
            "2022-11-21 14:42:57.298314: I tensorflow/core/common_runtime/bfc_allocator.cc:1083] InUse at 7f43433e0b00 of size 256 next 468\n",
            "2022-11-21 14:42:57.298316: I tensorflow/core/common_runtime/bfc_allocator.cc:1083] InUse at 7f43433e0c00 of size 8704 next 469\n",
            "2022-11-21 14:42:57.298319: I tensorflow/core/common_runtime/bfc_allocator.cc:1083] InUse at 7f43433e2e00 of size 256 next 485\n",
            "2022-11-21 14:42:57.298321: I tensorflow/core/common_runtime/bfc_allocator.cc:1083] InUse at 7f43433e2f00 of size 8960 next 229\n",
            "2022-11-21 14:42:57.298324: I tensorflow/core/common_runtime/bfc_allocator.cc:1083] InUse at 7f43433e5200 of size 256 next 220\n",
            "2022-11-21 14:42:57.298326: I tensorflow/core/common_runtime/bfc_allocator.cc:1083] InUse at 7f43433e5300 of size 9216 next 472\n",
            "2022-11-21 14:42:57.298328: I tensorflow/core/common_runtime/bfc_allocator.cc:1083] InUse at 7f43433e7700 of size 256 next 217\n",
            "2022-11-21 14:42:57.298331: I tensorflow/core/common_runtime/bfc_allocator.cc:1083] InUse at 7f43433e7800 of size 9472 next 473\n",
            "2022-11-21 14:42:57.298333: I tensorflow/core/common_runtime/bfc_allocator.cc:1083] InUse at 7f43433e9d00 of size 256 next 474\n",
            "2022-11-21 14:42:57.298336: I tensorflow/core/common_runtime/bfc_allocator.cc:1083] InUse at 7f43433e9e00 of size 9728 next 219\n",
            "2022-11-21 14:42:57.298338: I tensorflow/core/common_runtime/bfc_allocator.cc:1083] InUse at 7f43433ec400 of size 256 next 231\n",
            "2022-11-21 14:42:57.298340: I tensorflow/core/common_runtime/bfc_allocator.cc:1083] InUse at 7f43433ec500 of size 9984 next 478\n",
            "2022-11-21 14:42:57.298343: I tensorflow/core/common_runtime/bfc_allocator.cc:1083] InUse at 7f43433eec00 of size 256 next 223\n",
            "2022-11-21 14:42:57.298345: I tensorflow/core/common_runtime/bfc_allocator.cc:1083] InUse at 7f43433eed00 of size 10240 next 232\n",
            "2022-11-21 14:42:57.298348: I tensorflow/core/common_runtime/bfc_allocator.cc:1083] InUse at 7f43433f1500 of size 256 next 480\n",
            "2022-11-21 14:42:57.298350: I tensorflow/core/common_runtime/bfc_allocator.cc:1083] InUse at 7f43433f1600 of size 10496 next 225\n",
            "2022-11-21 14:42:57.298352: I tensorflow/core/common_runtime/bfc_allocator.cc:1083] InUse at 7f43433f3f00 of size 256 next 235\n",
            "2022-11-21 14:42:57.298355: I tensorflow/core/common_runtime/bfc_allocator.cc:1083] InUse at 7f43433f4000 of size 10752 next 482\n",
            "2022-11-21 14:42:57.298357: I tensorflow/core/common_runtime/bfc_allocator.cc:1083] InUse at 7f43433f6a00 of size 256 next 227\n",
            "2022-11-21 14:42:57.298360: I tensorflow/core/common_runtime/bfc_allocator.cc:1083] InUse at 7f43433f6b00 of size 11008 next 484\n",
            "2022-11-21 14:42:57.298362: I tensorflow/core/common_runtime/bfc_allocator.cc:1083] InUse at 7f43433f9600 of size 256 next 488\n",
            "2022-11-21 14:42:57.298365: I tensorflow/core/common_runtime/bfc_allocator.cc:1083] InUse at 7f43433f9700 of size 11264 next 259\n",
            "2022-11-21 14:42:57.298367: I tensorflow/core/common_runtime/bfc_allocator.cc:1083] InUse at 7f43433fc300 of size 256 next 242\n",
            "2022-11-21 14:42:57.298369: I tensorflow/core/common_runtime/bfc_allocator.cc:1083] InUse at 7f43433fc400 of size 11520 next 307\n",
            "2022-11-21 14:42:57.298372: I tensorflow/core/common_runtime/bfc_allocator.cc:1083] InUse at 7f43433ff100 of size 256 next 490\n",
            "2022-11-21 14:42:57.298374: I tensorflow/core/common_runtime/bfc_allocator.cc:1083] InUse at 7f43433ff200 of size 11776 next 492\n",
            "2022-11-21 14:42:57.298377: I tensorflow/core/common_runtime/bfc_allocator.cc:1083] InUse at 7f4343402000 of size 256 next 237\n",
            "2022-11-21 14:42:57.298379: I tensorflow/core/common_runtime/bfc_allocator.cc:1083] InUse at 7f4343402100 of size 12032 next 506\n",
            "2022-11-21 14:42:57.298381: I tensorflow/core/common_runtime/bfc_allocator.cc:1083] InUse at 7f4343405000 of size 256 next 494\n",
            "2022-11-21 14:42:57.298384: I tensorflow/core/common_runtime/bfc_allocator.cc:1083] InUse at 7f4343405100 of size 12288 next 239\n",
            "2022-11-21 14:42:57.298386: I tensorflow/core/common_runtime/bfc_allocator.cc:1083] InUse at 7f4343408100 of size 256 next 496\n",
            "2022-11-21 14:42:57.298389: I tensorflow/core/common_runtime/bfc_allocator.cc:1083] InUse at 7f4343408200 of size 12544 next 498\n",
            "2022-11-21 14:42:57.298391: I tensorflow/core/common_runtime/bfc_allocator.cc:1083] InUse at 7f434340b300 of size 256 next 246\n",
            "2022-11-21 14:42:57.298393: I tensorflow/core/common_runtime/bfc_allocator.cc:1083] InUse at 7f434340b400 of size 12800 next 500\n",
            "2022-11-21 14:42:57.298396: I tensorflow/core/common_runtime/bfc_allocator.cc:1083] InUse at 7f434340e600 of size 256 next 245\n",
            "2022-11-21 14:42:57.298398: I tensorflow/core/common_runtime/bfc_allocator.cc:1083] InUse at 7f434340e700 of size 13056 next 502\n",
            "2022-11-21 14:42:57.298400: I tensorflow/core/common_runtime/bfc_allocator.cc:1083] InUse at 7f4343411a00 of size 256 next 504\n",
            "2022-11-21 14:42:57.298403: I tensorflow/core/common_runtime/bfc_allocator.cc:1083] InUse at 7f4343411b00 of size 13312 next 249\n",
            "2022-11-21 14:42:57.298405: I tensorflow/core/common_runtime/bfc_allocator.cc:1083] InUse at 7f4343414f00 of size 256 next 251\n",
            "2022-11-21 14:42:57.298408: I tensorflow/core/common_runtime/bfc_allocator.cc:1083] InUse at 7f4343415000 of size 13568 next 252\n",
            "2022-11-21 14:42:57.298410: I tensorflow/core/common_runtime/bfc_allocator.cc:1083] InUse at 7f4343418500 of size 256 next 517\n",
            "2022-11-21 14:42:57.298413: I tensorflow/core/common_runtime/bfc_allocator.cc:1083] InUse at 7f4343418600 of size 13824 next 508\n",
            "2022-11-21 14:42:57.298415: I tensorflow/core/common_runtime/bfc_allocator.cc:1083] InUse at 7f434341bc00 of size 256 next 253\n",
            "2022-11-21 14:42:57.298418: I tensorflow/core/common_runtime/bfc_allocator.cc:1083] InUse at 7f434341bd00 of size 14080 next 510\n",
            "2022-11-21 14:42:57.298420: I tensorflow/core/common_runtime/bfc_allocator.cc:1083] InUse at 7f434341f400 of size 256 next 513\n",
            "2022-11-21 14:42:57.298422: I tensorflow/core/common_runtime/bfc_allocator.cc:1083] InUse at 7f434341f500 of size 14336 next 255\n",
            "2022-11-21 14:42:57.298425: I tensorflow/core/common_runtime/bfc_allocator.cc:1083] InUse at 7f4343422d00 of size 256 next 522\n",
            "2022-11-21 14:42:57.298427: I tensorflow/core/common_runtime/bfc_allocator.cc:1083] InUse at 7f4343422e00 of size 14592 next 257\n",
            "2022-11-21 14:42:57.298429: I tensorflow/core/common_runtime/bfc_allocator.cc:1083] InUse at 7f4343426700 of size 256 next 516\n",
            "2022-11-21 14:42:57.298432: I tensorflow/core/common_runtime/bfc_allocator.cc:1083] InUse at 7f4343426800 of size 14848 next 519\n",
            "2022-11-21 14:42:57.298434: I tensorflow/core/common_runtime/bfc_allocator.cc:1083] InUse at 7f434342a200 of size 256 next 260\n",
            "2022-11-21 14:42:57.298437: I tensorflow/core/common_runtime/bfc_allocator.cc:1083] InUse at 7f434342a300 of size 15104 next 263\n",
            "2022-11-21 14:42:57.298439: I tensorflow/core/common_runtime/bfc_allocator.cc:1083] InUse at 7f434342de00 of size 256 next 540\n",
            "2022-11-21 14:42:57.298441: I tensorflow/core/common_runtime/bfc_allocator.cc:1083] InUse at 7f434342df00 of size 15360 next 274\n",
            "2022-11-21 14:42:57.298444: I tensorflow/core/common_runtime/bfc_allocator.cc:1083] InUse at 7f4343431b00 of size 256 next 265\n",
            "2022-11-21 14:42:57.298446: I tensorflow/core/common_runtime/bfc_allocator.cc:1083] InUse at 7f4343431c00 of size 15616 next 267\n",
            "2022-11-21 14:42:57.298449: I tensorflow/core/common_runtime/bfc_allocator.cc:1083] InUse at 7f4343435900 of size 256 next 552\n",
            "2022-11-21 14:42:57.298451: I tensorflow/core/common_runtime/bfc_allocator.cc:1083] InUse at 7f4343435a00 of size 15872 next 271\n",
            "2022-11-21 14:42:57.298453: I tensorflow/core/common_runtime/bfc_allocator.cc:1083] InUse at 7f4343439800 of size 256 next 524\n",
            "2022-11-21 14:42:57.298456: I tensorflow/core/common_runtime/bfc_allocator.cc:1083] InUse at 7f4343439900 of size 16128 next 269\n",
            "2022-11-21 14:42:57.298458: I tensorflow/core/common_runtime/bfc_allocator.cc:1083] InUse at 7f434343d800 of size 256 next 532\n",
            "2022-11-21 14:42:57.298460: I tensorflow/core/common_runtime/bfc_allocator.cc:1083] InUse at 7f434343d900 of size 16384 next 526\n",
            "2022-11-21 14:42:57.298463: I tensorflow/core/common_runtime/bfc_allocator.cc:1083] InUse at 7f4343441900 of size 256 next 272\n",
            "2022-11-21 14:42:57.298465: I tensorflow/core/common_runtime/bfc_allocator.cc:1083] InUse at 7f4343441a00 of size 16640 next 273\n",
            "2022-11-21 14:42:57.298468: I tensorflow/core/common_runtime/bfc_allocator.cc:1083] InUse at 7f4343445b00 of size 256 next 530\n",
            "2022-11-21 14:42:57.298470: I tensorflow/core/common_runtime/bfc_allocator.cc:1083] InUse at 7f4343445c00 of size 16896 next 546\n",
            "2022-11-21 14:42:57.298473: I tensorflow/core/common_runtime/bfc_allocator.cc:1083] InUse at 7f4343449e00 of size 256 next 536\n",
            "2022-11-21 14:42:57.298475: I tensorflow/core/common_runtime/bfc_allocator.cc:1083] InUse at 7f4343449f00 of size 17152 next 277\n",
            "2022-11-21 14:42:57.298477: I tensorflow/core/common_runtime/bfc_allocator.cc:1083] InUse at 7f434344e200 of size 256 next 534\n",
            "2022-11-21 14:42:57.298480: I tensorflow/core/common_runtime/bfc_allocator.cc:1083] InUse at 7f434344e300 of size 17408 next 279\n",
            "2022-11-21 14:42:57.298482: I tensorflow/core/common_runtime/bfc_allocator.cc:1083] InUse at 7f4343452700 of size 256 next 281\n",
            "2022-11-21 14:42:57.298485: I tensorflow/core/common_runtime/bfc_allocator.cc:1083] InUse at 7f4343452800 of size 17664 next 544\n",
            "2022-11-21 14:42:57.298487: I tensorflow/core/common_runtime/bfc_allocator.cc:1083] InUse at 7f4343456d00 of size 256 next 538\n",
            "2022-11-21 14:42:57.298489: I tensorflow/core/common_runtime/bfc_allocator.cc:1083] InUse at 7f4343456e00 of size 17920 next 557\n",
            "2022-11-21 14:42:57.298492: I tensorflow/core/common_runtime/bfc_allocator.cc:1083] InUse at 7f434345b400 of size 256 next 283\n",
            "2022-11-21 14:42:57.298494: I tensorflow/core/common_runtime/bfc_allocator.cc:1083] InUse at 7f434345b500 of size 18176 next 285\n",
            "2022-11-21 14:42:57.298497: I tensorflow/core/common_runtime/bfc_allocator.cc:1083] InUse at 7f434345fc00 of size 256 next 304\n",
            "2022-11-21 14:42:57.298499: I tensorflow/core/common_runtime/bfc_allocator.cc:1083] InUse at 7f434345fd00 of size 18432 next 542\n",
            "2022-11-21 14:42:57.298501: I tensorflow/core/common_runtime/bfc_allocator.cc:1083] InUse at 7f4343464500 of size 256 next 287\n",
            "2022-11-21 14:42:57.298504: I tensorflow/core/common_runtime/bfc_allocator.cc:1083] InUse at 7f4343464600 of size 18688 next 289\n",
            "2022-11-21 14:42:57.298506: I tensorflow/core/common_runtime/bfc_allocator.cc:1083] InUse at 7f4343468f00 of size 256 next 316\n",
            "2022-11-21 14:42:57.298509: I tensorflow/core/common_runtime/bfc_allocator.cc:1083] InUse at 7f4343469000 of size 18944 next 291\n",
            "2022-11-21 14:42:57.298511: I tensorflow/core/common_runtime/bfc_allocator.cc:1083] InUse at 7f434346da00 of size 256 next 548\n",
            "2022-11-21 14:42:57.298513: I tensorflow/core/common_runtime/bfc_allocator.cc:1083] InUse at 7f434346db00 of size 19200 next 293\n",
            "2022-11-21 14:42:57.298516: I tensorflow/core/common_runtime/bfc_allocator.cc:1083] InUse at 7f4343472600 of size 256 next 550\n",
            "2022-11-21 14:42:57.298518: I tensorflow/core/common_runtime/bfc_allocator.cc:1083] InUse at 7f4343472700 of size 19456 next 295\n",
            "2022-11-21 14:42:57.298521: I tensorflow/core/common_runtime/bfc_allocator.cc:1083] InUse at 7f4343477300 of size 256 next 297\n",
            "2022-11-21 14:42:57.298523: I tensorflow/core/common_runtime/bfc_allocator.cc:1083] InUse at 7f4343477400 of size 19712 next 561\n",
            "2022-11-21 14:42:57.298525: I tensorflow/core/common_runtime/bfc_allocator.cc:1083] InUse at 7f434347c100 of size 256 next 554\n",
            "2022-11-21 14:42:57.298528: I tensorflow/core/common_runtime/bfc_allocator.cc:1083] InUse at 7f434347c200 of size 19968 next 299\n",
            "2022-11-21 14:42:57.298530: I tensorflow/core/common_runtime/bfc_allocator.cc:1083] InUse at 7f4343481000 of size 256 next 556\n",
            "2022-11-21 14:42:57.298532: I tensorflow/core/common_runtime/bfc_allocator.cc:1083] InUse at 7f4343481100 of size 20224 next 301\n",
            "2022-11-21 14:42:57.298535: I tensorflow/core/common_runtime/bfc_allocator.cc:1083] InUse at 7f4343486000 of size 256 next 303\n",
            "2022-11-21 14:42:57.298537: I tensorflow/core/common_runtime/bfc_allocator.cc:1083] InUse at 7f4343486100 of size 20480 next 560\n",
            "2022-11-21 14:42:57.298540: I tensorflow/core/common_runtime/bfc_allocator.cc:1083] InUse at 7f434348b100 of size 256 next 594\n",
            "2022-11-21 14:42:57.298542: I tensorflow/core/common_runtime/bfc_allocator.cc:1083] InUse at 7f434348b200 of size 20736 next 326\n",
            "2022-11-21 14:42:57.298545: I tensorflow/core/common_runtime/bfc_allocator.cc:1083] InUse at 7f4343490300 of size 256 next 308\n",
            "2022-11-21 14:42:57.298547: I tensorflow/core/common_runtime/bfc_allocator.cc:1083] InUse at 7f4343490400 of size 20992 next 564\n",
            "2022-11-21 14:42:57.298549: I tensorflow/core/common_runtime/bfc_allocator.cc:1083] InUse at 7f4343495600 of size 256 next 325\n",
            "2022-11-21 14:42:57.298552: I tensorflow/core/common_runtime/bfc_allocator.cc:1083] InUse at 7f4343495700 of size 21248 next 310\n",
            "2022-11-21 14:42:57.298554: I tensorflow/core/common_runtime/bfc_allocator.cc:1083] InUse at 7f434349aa00 of size 256 next 566\n",
            "2022-11-21 14:42:57.298557: I tensorflow/core/common_runtime/bfc_allocator.cc:1083] InUse at 7f434349ab00 of size 21504 next 568\n",
            "2022-11-21 14:42:57.298559: I tensorflow/core/common_runtime/bfc_allocator.cc:1083] InUse at 7f434349ff00 of size 256 next 327\n",
            "2022-11-21 14:42:57.298561: I tensorflow/core/common_runtime/bfc_allocator.cc:1083] InUse at 7f43434a0000 of size 21760 next 313\n",
            "2022-11-21 14:42:57.298564: I tensorflow/core/common_runtime/bfc_allocator.cc:1083] InUse at 7f43434a5500 of size 256 next 570\n",
            "2022-11-21 14:42:57.298566: I tensorflow/core/common_runtime/bfc_allocator.cc:1083] InUse at 7f43434a5600 of size 22016 next 572\n",
            "2022-11-21 14:42:57.298569: I tensorflow/core/common_runtime/bfc_allocator.cc:1083] InUse at 7f43434aac00 of size 256 next 317\n",
            "2022-11-21 14:42:57.298571: I tensorflow/core/common_runtime/bfc_allocator.cc:1083] InUse at 7f43434aad00 of size 22272 next 574\n",
            "2022-11-21 14:42:57.298573: I tensorflow/core/common_runtime/bfc_allocator.cc:1083] InUse at 7f43434b0400 of size 256 next 576\n",
            "2022-11-21 14:42:57.298576: I tensorflow/core/common_runtime/bfc_allocator.cc:1083] InUse at 7f43434b0500 of size 22528 next 580\n",
            "2022-11-21 14:42:57.298578: I tensorflow/core/common_runtime/bfc_allocator.cc:1083] InUse at 7f43434b5d00 of size 256 next 320\n",
            "2022-11-21 14:42:57.298581: I tensorflow/core/common_runtime/bfc_allocator.cc:1083] InUse at 7f43434b5e00 of size 22784 next 578\n",
            "2022-11-21 14:42:57.298583: I tensorflow/core/common_runtime/bfc_allocator.cc:1083] InUse at 7f43434bb700 of size 256 next 322\n",
            "2022-11-21 14:42:57.298585: I tensorflow/core/common_runtime/bfc_allocator.cc:1083] InUse at 7f43434bb800 of size 23040 next 324\n",
            "2022-11-21 14:42:57.298588: I tensorflow/core/common_runtime/bfc_allocator.cc:1083] InUse at 7f43434c1200 of size 256 next 338\n",
            "2022-11-21 14:42:57.298590: I tensorflow/core/common_runtime/bfc_allocator.cc:1083] InUse at 7f43434c1300 of size 23296 next 582\n",
            "2022-11-21 14:42:57.298593: I tensorflow/core/common_runtime/bfc_allocator.cc:1083] InUse at 7f43434c6e00 of size 256 next 328\n",
            "2022-11-21 14:42:57.298595: I tensorflow/core/common_runtime/bfc_allocator.cc:1083] InUse at 7f43434c6f00 of size 23552 next 331\n",
            "2022-11-21 14:42:57.298597: I tensorflow/core/common_runtime/bfc_allocator.cc:1083] InUse at 7f43434ccb00 of size 256 next 340\n",
            "2022-11-21 14:42:57.298600: I tensorflow/core/common_runtime/bfc_allocator.cc:1083] InUse at 7f43434ccc00 of size 23808 next 586\n",
            "2022-11-21 14:42:57.298602: I tensorflow/core/common_runtime/bfc_allocator.cc:1083] InUse at 7f43434d2900 of size 256 next 588\n",
            "2022-11-21 14:42:57.298605: I tensorflow/core/common_runtime/bfc_allocator.cc:1083] InUse at 7f43434d2a00 of size 24064 next 590\n",
            "2022-11-21 14:42:57.298607: I tensorflow/core/common_runtime/bfc_allocator.cc:1083] InUse at 7f43434d8800 of size 256 next 334\n",
            "2022-11-21 14:42:57.298609: I tensorflow/core/common_runtime/bfc_allocator.cc:1083] InUse at 7f43434d8900 of size 24320 next 351\n",
            "2022-11-21 14:42:57.298612: I tensorflow/core/common_runtime/bfc_allocator.cc:1083] InUse at 7f43434de800 of size 256 next 341\n",
            "2022-11-21 14:42:57.298614: I tensorflow/core/common_runtime/bfc_allocator.cc:1083] InUse at 7f43434de900 of size 24576 next 592\n",
            "2022-11-21 14:42:57.298617: I tensorflow/core/common_runtime/bfc_allocator.cc:1083] InUse at 7f43434e4900 of size 256 next 346\n",
            "2022-11-21 14:42:57.298619: I tensorflow/core/common_runtime/bfc_allocator.cc:1083] InUse at 7f43434e4a00 of size 24832 next 336\n",
            "2022-11-21 14:42:57.298621: I tensorflow/core/common_runtime/bfc_allocator.cc:1083] InUse at 7f43434eab00 of size 256 next 601\n",
            "2022-11-21 14:42:57.298624: I tensorflow/core/common_runtime/bfc_allocator.cc:1083] InUse at 7f43434eac00 of size 25088 next 596\n",
            "2022-11-21 14:42:57.298626: I tensorflow/core/common_runtime/bfc_allocator.cc:1083] InUse at 7f43434f0e00 of size 256 next 630\n",
            "2022-11-21 14:42:57.298629: I tensorflow/core/common_runtime/bfc_allocator.cc:1083] InUse at 7f43434f0f00 of size 25344 next 598\n",
            "2022-11-21 14:42:57.298631: I tensorflow/core/common_runtime/bfc_allocator.cc:1083] InUse at 7f43434f7200 of size 256 next 600\n",
            "2022-11-21 14:42:57.298633: I tensorflow/core/common_runtime/bfc_allocator.cc:1083] InUse at 7f43434f7300 of size 25600 next 350\n",
            "2022-11-21 14:42:57.298636: I tensorflow/core/common_runtime/bfc_allocator.cc:1083] InUse at 7f43434fd700 of size 256 next 344\n",
            "2022-11-21 14:42:57.298638: I tensorflow/core/common_runtime/bfc_allocator.cc:1083] InUse at 7f43434fd800 of size 25856 next 369\n",
            "2022-11-21 14:42:57.298641: I tensorflow/core/common_runtime/bfc_allocator.cc:1083] InUse at 7f4343503d00 of size 256 next 604\n",
            "2022-11-21 14:42:57.298643: I tensorflow/core/common_runtime/bfc_allocator.cc:1083] InUse at 7f4343503e00 of size 26112 next 618\n",
            "2022-11-21 14:42:57.298646: I tensorflow/core/common_runtime/bfc_allocator.cc:1083] InUse at 7f434350a400 of size 256 next 348\n",
            "2022-11-21 14:42:57.298648: I tensorflow/core/common_runtime/bfc_allocator.cc:1083] InUse at 7f434350a500 of size 26368 next 606\n",
            "2022-11-21 14:42:57.298650: I tensorflow/core/common_runtime/bfc_allocator.cc:1083] InUse at 7f4343510c00 of size 256 next 610\n",
            "2022-11-21 14:42:57.298653: I tensorflow/core/common_runtime/bfc_allocator.cc:1083] InUse at 7f4343510d00 of size 26624 next 608\n",
            "2022-11-21 14:42:57.298655: I tensorflow/core/common_runtime/bfc_allocator.cc:1083] InUse at 7f4343517500 of size 256 next 366\n",
            "2022-11-21 14:42:57.298658: I tensorflow/core/common_runtime/bfc_allocator.cc:1083] InUse at 7f4343517600 of size 26880 next 376\n",
            "2022-11-21 14:42:57.298660: I tensorflow/core/common_runtime/bfc_allocator.cc:1083] InUse at 7f434351df00 of size 256 next 354\n",
            "2022-11-21 14:42:57.298663: I tensorflow/core/common_runtime/bfc_allocator.cc:1083] InUse at 7f434351e000 of size 27136 next 611\n",
            "2022-11-21 14:42:57.298665: I tensorflow/core/common_runtime/bfc_allocator.cc:1083] InUse at 7f4343524a00 of size 256 next 612\n",
            "2022-11-21 14:42:57.298668: I tensorflow/core/common_runtime/bfc_allocator.cc:1083] InUse at 7f4343524b00 of size 27392 next 357\n",
            "2022-11-21 14:42:57.298670: I tensorflow/core/common_runtime/bfc_allocator.cc:1083] InUse at 7f434352b600 of size 256 next 356\n",
            "2022-11-21 14:42:57.298672: I tensorflow/core/common_runtime/bfc_allocator.cc:1083] InUse at 7f434352b700 of size 27648 next 614\n",
            "2022-11-21 14:42:57.298675: I tensorflow/core/common_runtime/bfc_allocator.cc:1083] InUse at 7f4343532300 of size 256 next 616\n",
            "2022-11-21 14:42:57.298677: I tensorflow/core/common_runtime/bfc_allocator.cc:1083] InUse at 7f4343532400 of size 27904 next 360\n",
            "2022-11-21 14:42:57.298680: I tensorflow/core/common_runtime/bfc_allocator.cc:1083] InUse at 7f4343539100 of size 256 next 364\n",
            "2022-11-21 14:42:57.298682: I tensorflow/core/common_runtime/bfc_allocator.cc:1083] InUse at 7f4343539200 of size 28160 next 362\n",
            "2022-11-21 14:42:57.298685: I tensorflow/core/common_runtime/bfc_allocator.cc:1083] InUse at 7f4343540000 of size 256 next 620\n",
            "2022-11-21 14:42:57.298687: I tensorflow/core/common_runtime/bfc_allocator.cc:1083] InUse at 7f4343540100 of size 28416 next 622\n",
            "2022-11-21 14:42:57.298689: I tensorflow/core/common_runtime/bfc_allocator.cc:1083] InUse at 7f4343547000 of size 256 next 623\n",
            "2022-11-21 14:42:57.298692: I tensorflow/core/common_runtime/bfc_allocator.cc:1083] InUse at 7f4343547100 of size 28672 next 367\n",
            "2022-11-21 14:42:57.298694: I tensorflow/core/common_runtime/bfc_allocator.cc:1083] InUse at 7f434354e100 of size 256 next 368\n",
            "2022-11-21 14:42:57.298697: I tensorflow/core/common_runtime/bfc_allocator.cc:1083] InUse at 7f434354e200 of size 28928 next 657\n",
            "2022-11-21 14:42:57.298699: I tensorflow/core/common_runtime/bfc_allocator.cc:1083] InUse at 7f4343555300 of size 256 next 370\n",
            "2022-11-21 14:42:57.298702: I tensorflow/core/common_runtime/bfc_allocator.cc:1083] InUse at 7f4343555400 of size 29184 next 391\n",
            "2022-11-21 14:42:57.298704: I tensorflow/core/common_runtime/bfc_allocator.cc:1083] InUse at 7f434355c600 of size 256 next 372\n",
            "2022-11-21 14:42:57.298707: I tensorflow/core/common_runtime/bfc_allocator.cc:1083] InUse at 7f434355c700 of size 29440 next 378\n",
            "2022-11-21 14:42:57.298709: I tensorflow/core/common_runtime/bfc_allocator.cc:1083] InUse at 7f4343563a00 of size 256 next 634\n",
            "2022-11-21 14:42:57.298711: I tensorflow/core/common_runtime/bfc_allocator.cc:1083] InUse at 7f4343563b00 of size 29696 next 374\n",
            "2022-11-21 14:42:57.298714: I tensorflow/core/common_runtime/bfc_allocator.cc:1083] InUse at 7f434356af00 of size 256 next 632\n",
            "2022-11-21 14:42:57.298716: I tensorflow/core/common_runtime/bfc_allocator.cc:1083] InUse at 7f434356b000 of size 29952 next 635\n",
            "2022-11-21 14:42:57.298719: I tensorflow/core/common_runtime/bfc_allocator.cc:1083] InUse at 7f4343572500 of size 256 next 642\n",
            "2022-11-21 14:42:57.298721: I tensorflow/core/common_runtime/bfc_allocator.cc:1083] InUse at 7f4343572600 of size 30208 next 393\n",
            "2022-11-21 14:42:57.298724: I tensorflow/core/common_runtime/bfc_allocator.cc:1083] InUse at 7f4343579c00 of size 256 next 388\n",
            "2022-11-21 14:42:57.298726: I tensorflow/core/common_runtime/bfc_allocator.cc:1083] InUse at 7f4343579d00 of size 30464 next 380\n",
            "2022-11-21 14:42:57.298728: I tensorflow/core/common_runtime/bfc_allocator.cc:1083] InUse at 7f4343581400 of size 256 next 638\n",
            "2022-11-21 14:42:57.298731: I tensorflow/core/common_runtime/bfc_allocator.cc:1083] InUse at 7f4343581500 of size 30720 next 381\n",
            "2022-11-21 14:42:57.298733: I tensorflow/core/common_runtime/bfc_allocator.cc:1083] InUse at 7f4343588d00 of size 256 next 382\n",
            "2022-11-21 14:42:57.298735: I tensorflow/core/common_runtime/bfc_allocator.cc:1083] InUse at 7f4343588e00 of size 30976 next 640\n",
            "2022-11-21 14:42:57.298738: I tensorflow/core/common_runtime/bfc_allocator.cc:1083] InUse at 7f4343590700 of size 256 next 384\n",
            "2022-11-21 14:42:57.298740: I tensorflow/core/common_runtime/bfc_allocator.cc:1083] InUse at 7f4343590800 of size 31232 next 646\n",
            "2022-11-21 14:42:57.298743: I tensorflow/core/common_runtime/bfc_allocator.cc:1083] InUse at 7f4343598200 of size 256 next 386\n",
            "2022-11-21 14:42:57.298745: I tensorflow/core/common_runtime/bfc_allocator.cc:1083] InUse at 7f4343598300 of size 31488 next 692\n",
            "2022-11-21 14:42:57.298747: I tensorflow/core/common_runtime/bfc_allocator.cc:1083] InUse at 7f434359fe00 of size 256 next 644\n",
            "2022-11-21 14:42:57.298750: I tensorflow/core/common_runtime/bfc_allocator.cc:1083] InUse at 7f434359ff00 of size 31744 next 649\n",
            "2022-11-21 14:42:57.298752: I tensorflow/core/common_runtime/bfc_allocator.cc:1083] InUse at 7f43435a7b00 of size 256 next 402\n",
            "2022-11-21 14:42:57.298755: I tensorflow/core/common_runtime/bfc_allocator.cc:1083] InUse at 7f43435a7c00 of size 32000 next 390\n",
            "2022-11-21 14:42:57.298757: I tensorflow/core/common_runtime/bfc_allocator.cc:1083] InUse at 7f43435af900 of size 256 next 648\n",
            "2022-11-21 14:42:57.298759: I tensorflow/core/common_runtime/bfc_allocator.cc:1083] InUse at 7f43435afa00 of size 32256 next 392\n",
            "2022-11-21 14:42:57.298762: I tensorflow/core/common_runtime/bfc_allocator.cc:1083] InUse at 7f43435b7800 of size 256 next 652\n",
            "2022-11-21 14:42:57.298764: I tensorflow/core/common_runtime/bfc_allocator.cc:1083] InUse at 7f43435b7900 of size 32512 next 398\n",
            "2022-11-21 14:42:57.298767: I tensorflow/core/common_runtime/bfc_allocator.cc:1083] InUse at 7f43435bf800 of size 256 next 661\n",
            "2022-11-21 14:42:57.298769: I tensorflow/core/common_runtime/bfc_allocator.cc:1083] InUse at 7f43435bf900 of size 32768 next 396\n",
            "2022-11-21 14:42:57.298772: I tensorflow/core/common_runtime/bfc_allocator.cc:1083] InUse at 7f43435c7900 of size 65536 next 405\n",
            "2022-11-21 14:42:57.298774: I tensorflow/core/common_runtime/bfc_allocator.cc:1083] InUse at 7f43435d7900 of size 512 next 656\n",
            "2022-11-21 14:42:57.298776: I tensorflow/core/common_runtime/bfc_allocator.cc:1083] InUse at 7f43435d7b00 of size 256 next 697\n",
            "2022-11-21 14:42:57.298779: I tensorflow/core/common_runtime/bfc_allocator.cc:1083] InUse at 7f43435d7c00 of size 256 next 654\n",
            "2022-11-21 14:42:57.298781: I tensorflow/core/common_runtime/bfc_allocator.cc:1083] InUse at 7f43435d7d00 of size 512 next 689\n",
            "2022-11-21 14:42:57.298784: I tensorflow/core/common_runtime/bfc_allocator.cc:1083] InUse at 7f43435d7f00 of size 153600 next 400\n",
            "2022-11-21 14:42:57.298786: I tensorflow/core/common_runtime/bfc_allocator.cc:1083] InUse at 7f43435fd700 of size 219136 next 660\n",
            "2022-11-21 14:42:57.298788: I tensorflow/core/common_runtime/bfc_allocator.cc:1083] InUse at 7f4343632f00 of size 16384 next 686\n",
            "2022-11-21 14:42:57.298791: I tensorflow/core/common_runtime/bfc_allocator.cc:1083] InUse at 7f4343636f00 of size 512 next 690\n",
            "2022-11-21 14:42:57.298793: I tensorflow/core/common_runtime/bfc_allocator.cc:1083] InUse at 7f4343637100 of size 176128 next 699\n",
            "2022-11-21 14:42:57.298796: I tensorflow/core/common_runtime/bfc_allocator.cc:1083] InUse at 7f4343662100 of size 256 next 696\n",
            "2022-11-21 14:42:57.298798: I tensorflow/core/common_runtime/bfc_allocator.cc:1083] InUse at 7f4343662200 of size 256 next 695\n",
            "2022-11-21 14:42:57.298801: I tensorflow/core/common_runtime/bfc_allocator.cc:1083] InUse at 7f4343662300 of size 256 next 694\n",
            "2022-11-21 14:42:57.298803: I tensorflow/core/common_runtime/bfc_allocator.cc:1083] InUse at 7f4343662400 of size 256 next 668\n",
            "2022-11-21 14:42:57.298806: I tensorflow/core/common_runtime/bfc_allocator.cc:1083] InUse at 7f4343662500 of size 54784 next 715\n",
            "2022-11-21 14:42:57.298808: I tensorflow/core/common_runtime/bfc_allocator.cc:1083] InUse at 7f434366fb00 of size 54784 next 700\n",
            "2022-11-21 14:42:57.298810: I tensorflow/core/common_runtime/bfc_allocator.cc:1083] InUse at 7f434367d100 of size 54784 next 703\n",
            "2022-11-21 14:42:57.298813: I tensorflow/core/common_runtime/bfc_allocator.cc:1083] InUse at 7f434368a700 of size 4096 next 680\n",
            "2022-11-21 14:42:57.298815: I tensorflow/core/common_runtime/bfc_allocator.cc:1083] InUse at 7f434368b700 of size 4096 next 720\n",
            "2022-11-21 14:42:57.298818: I tensorflow/core/common_runtime/bfc_allocator.cc:1083] InUse at 7f434368c700 of size 4096 next 717\n",
            "2022-11-21 14:42:57.298820: I tensorflow/core/common_runtime/bfc_allocator.cc:1083] InUse at 7f434368d700 of size 177408 next 721\n",
            "2022-11-21 14:42:57.298823: I tensorflow/core/common_runtime/bfc_allocator.cc:1083] InUse at 7f43436b8c00 of size 16384 next 722\n",
            "2022-11-21 14:42:57.298825: I tensorflow/core/common_runtime/bfc_allocator.cc:1083] InUse at 7f43436bcc00 of size 16384 next 723\n",
            "2022-11-21 14:42:57.298827: I tensorflow/core/common_runtime/bfc_allocator.cc:1083] InUse at 7f43436c0c00 of size 256 next 724\n",
            "2022-11-21 14:42:57.298830: I tensorflow/core/common_runtime/bfc_allocator.cc:1083] InUse at 7f43436c0d00 of size 98560 next 726\n",
            "2022-11-21 14:42:57.298832: I tensorflow/core/common_runtime/bfc_allocator.cc:1083] InUse at 7f43436d8e00 of size 219136 next 693\n",
            "2022-11-21 14:42:57.298835: I tensorflow/core/common_runtime/bfc_allocator.cc:1083] InUse at 7f434370e600 of size 512 next 727\n",
            "2022-11-21 14:42:57.298837: I tensorflow/core/common_runtime/bfc_allocator.cc:1083] InUse at 7f434370e800 of size 176128 next 730\n",
            "2022-11-21 14:42:57.298839: I tensorflow/core/common_runtime/bfc_allocator.cc:1083] InUse at 7f4343739800 of size 256 next 731\n",
            "2022-11-21 14:42:57.298842: I tensorflow/core/common_runtime/bfc_allocator.cc:1083] InUse at 7f4343739900 of size 256 next 732\n",
            "2022-11-21 14:42:57.298844: I tensorflow/core/common_runtime/bfc_allocator.cc:1083] InUse at 7f4343739a00 of size 256 next 733\n",
            "2022-11-21 14:42:57.298846: I tensorflow/core/common_runtime/bfc_allocator.cc:1083] InUse at 7f4343739b00 of size 256 next 734\n",
            "2022-11-21 14:42:57.298849: I tensorflow/core/common_runtime/bfc_allocator.cc:1083] InUse at 7f4343739c00 of size 256 next 735\n",
            "2022-11-21 14:42:57.298851: I tensorflow/core/common_runtime/bfc_allocator.cc:1083] InUse at 7f4343739d00 of size 256 next 736\n",
            "2022-11-21 14:42:57.298854: I tensorflow/core/common_runtime/bfc_allocator.cc:1083] InUse at 7f4343739e00 of size 54784 next 737\n",
            "2022-11-21 14:42:57.298856: I tensorflow/core/common_runtime/bfc_allocator.cc:1083] InUse at 7f4343747400 of size 54784 next 738\n",
            "2022-11-21 14:42:57.298858: I tensorflow/core/common_runtime/bfc_allocator.cc:1083] InUse at 7f4343754a00 of size 54784 next 739\n",
            "2022-11-21 14:42:57.298861: I tensorflow/core/common_runtime/bfc_allocator.cc:1083] InUse at 7f4343762000 of size 4096 next 740\n",
            "2022-11-21 14:42:57.298863: I tensorflow/core/common_runtime/bfc_allocator.cc:1083] InUse at 7f4343763000 of size 4096 next 741\n",
            "2022-11-21 14:42:57.298866: I tensorflow/core/common_runtime/bfc_allocator.cc:1083] InUse at 7f4343764000 of size 4096 next 742\n",
            "2022-11-21 14:42:57.298868: I tensorflow/core/common_runtime/bfc_allocator.cc:1083] InUse at 7f4343765000 of size 177408 next 743\n",
            "2022-11-21 14:42:57.298870: I tensorflow/core/common_runtime/bfc_allocator.cc:1083] InUse at 7f4343790500 of size 16384 next 744\n",
            "2022-11-21 14:42:57.298873: I tensorflow/core/common_runtime/bfc_allocator.cc:1083] InUse at 7f4343794500 of size 16384 next 745\n",
            "2022-11-21 14:42:57.298875: I tensorflow/core/common_runtime/bfc_allocator.cc:1083] InUse at 7f4343798500 of size 256 next 746\n",
            "2022-11-21 14:42:57.298878: I tensorflow/core/common_runtime/bfc_allocator.cc:1083] InUse at 7f4343798600 of size 98560 next 748\n",
            "2022-11-21 14:42:57.298880: I tensorflow/core/common_runtime/bfc_allocator.cc:1083] InUse at 7f43437b0700 of size 219136 next 728\n",
            "2022-11-21 14:42:57.298882: I tensorflow/core/common_runtime/bfc_allocator.cc:1083] InUse at 7f43437e5f00 of size 512 next 749\n",
            "2022-11-21 14:42:57.298885: I tensorflow/core/common_runtime/bfc_allocator.cc:1083] InUse at 7f43437e6100 of size 176128 next 752\n",
            "2022-11-21 14:42:57.298887: I tensorflow/core/common_runtime/bfc_allocator.cc:1083] InUse at 7f4343811100 of size 256 next 753\n",
            "2022-11-21 14:42:57.298889: I tensorflow/core/common_runtime/bfc_allocator.cc:1083] InUse at 7f4343811200 of size 256 next 754\n",
            "2022-11-21 14:42:57.298892: I tensorflow/core/common_runtime/bfc_allocator.cc:1083] InUse at 7f4343811300 of size 256 next 755\n",
            "2022-11-21 14:42:57.298894: I tensorflow/core/common_runtime/bfc_allocator.cc:1083] InUse at 7f4343811400 of size 256 next 756\n",
            "2022-11-21 14:42:57.298897: I tensorflow/core/common_runtime/bfc_allocator.cc:1083] InUse at 7f4343811500 of size 256 next 757\n",
            "2022-11-21 14:42:57.298899: I tensorflow/core/common_runtime/bfc_allocator.cc:1083] InUse at 7f4343811600 of size 256 next 758\n",
            "2022-11-21 14:42:57.298901: I tensorflow/core/common_runtime/bfc_allocator.cc:1083] InUse at 7f4343811700 of size 54784 next 759\n",
            "2022-11-21 14:42:57.298904: I tensorflow/core/common_runtime/bfc_allocator.cc:1083] InUse at 7f434381ed00 of size 54784 next 760\n",
            "2022-11-21 14:42:57.298906: I tensorflow/core/common_runtime/bfc_allocator.cc:1083] InUse at 7f434382c300 of size 54784 next 761\n",
            "2022-11-21 14:42:57.298909: I tensorflow/core/common_runtime/bfc_allocator.cc:1083] InUse at 7f4343839900 of size 4096 next 762\n",
            "2022-11-21 14:42:57.298911: I tensorflow/core/common_runtime/bfc_allocator.cc:1083] InUse at 7f434383a900 of size 4096 next 763\n",
            "2022-11-21 14:42:57.298913: I tensorflow/core/common_runtime/bfc_allocator.cc:1083] InUse at 7f434383b900 of size 4096 next 764\n",
            "2022-11-21 14:42:57.298916: I tensorflow/core/common_runtime/bfc_allocator.cc:1083] InUse at 7f434383c900 of size 177408 next 765\n",
            "2022-11-21 14:42:57.298918: I tensorflow/core/common_runtime/bfc_allocator.cc:1083] InUse at 7f4343867e00 of size 16384 next 766\n",
            "2022-11-21 14:42:57.298920: I tensorflow/core/common_runtime/bfc_allocator.cc:1083] InUse at 7f434386be00 of size 16384 next 767\n",
            "2022-11-21 14:42:57.298923: I tensorflow/core/common_runtime/bfc_allocator.cc:1083] InUse at 7f434386fe00 of size 256 next 768\n",
            "2022-11-21 14:42:57.298925: I tensorflow/core/common_runtime/bfc_allocator.cc:1083] InUse at 7f434386ff00 of size 98560 next 770\n",
            "2022-11-21 14:42:57.298928: I tensorflow/core/common_runtime/bfc_allocator.cc:1083] InUse at 7f4343888000 of size 219136 next 750\n",
            "2022-11-21 14:42:57.298930: I tensorflow/core/common_runtime/bfc_allocator.cc:1083] InUse at 7f43438bd800 of size 512 next 771\n",
            "2022-11-21 14:42:57.298932: I tensorflow/core/common_runtime/bfc_allocator.cc:1083] InUse at 7f43438bda00 of size 176128 next 774\n",
            "2022-11-21 14:42:57.298935: I tensorflow/core/common_runtime/bfc_allocator.cc:1083] InUse at 7f43438e8a00 of size 256 next 775\n",
            "2022-11-21 14:42:57.298937: I tensorflow/core/common_runtime/bfc_allocator.cc:1083] InUse at 7f43438e8b00 of size 256 next 776\n",
            "2022-11-21 14:42:57.298940: I tensorflow/core/common_runtime/bfc_allocator.cc:1083] InUse at 7f43438e8c00 of size 256 next 777\n",
            "2022-11-21 14:42:57.298942: I tensorflow/core/common_runtime/bfc_allocator.cc:1083] InUse at 7f43438e8d00 of size 256 next 778\n",
            "2022-11-21 14:42:57.298944: I tensorflow/core/common_runtime/bfc_allocator.cc:1083] InUse at 7f43438e8e00 of size 256 next 779\n",
            "2022-11-21 14:42:57.298947: I tensorflow/core/common_runtime/bfc_allocator.cc:1083] InUse at 7f43438e8f00 of size 256 next 780\n",
            "2022-11-21 14:42:57.298949: I tensorflow/core/common_runtime/bfc_allocator.cc:1083] InUse at 7f43438e9000 of size 54784 next 781\n",
            "2022-11-21 14:42:57.298952: I tensorflow/core/common_runtime/bfc_allocator.cc:1083] InUse at 7f43438f6600 of size 54784 next 782\n",
            "2022-11-21 14:42:57.298954: I tensorflow/core/common_runtime/bfc_allocator.cc:1083] InUse at 7f4343903c00 of size 54784 next 783\n",
            "2022-11-21 14:42:57.298956: I tensorflow/core/common_runtime/bfc_allocator.cc:1083] InUse at 7f4343911200 of size 4096 next 784\n",
            "2022-11-21 14:42:57.298959: I tensorflow/core/common_runtime/bfc_allocator.cc:1083] InUse at 7f4343912200 of size 4096 next 785\n",
            "2022-11-21 14:42:57.298961: I tensorflow/core/common_runtime/bfc_allocator.cc:1083] InUse at 7f4343913200 of size 4096 next 786\n",
            "2022-11-21 14:42:57.298964: I tensorflow/core/common_runtime/bfc_allocator.cc:1083] InUse at 7f4343914200 of size 16384 next 788\n",
            "2022-11-21 14:42:57.298966: I tensorflow/core/common_runtime/bfc_allocator.cc:1083] InUse at 7f4343918200 of size 16384 next 789\n",
            "2022-11-21 14:42:57.298969: I tensorflow/core/common_runtime/bfc_allocator.cc:1083] InUse at 7f434391c200 of size 256 next 790\n",
            "2022-11-21 14:42:57.298971: I tensorflow/core/common_runtime/bfc_allocator.cc:1083] InUse at 7f434391c300 of size 108544 next 681\n",
            "2022-11-21 14:42:57.298974: I tensorflow/core/common_runtime/bfc_allocator.cc:1083] InUse at 7f4343936b00 of size 256 next 708\n",
            "2022-11-21 14:42:57.298976: I tensorflow/core/common_runtime/bfc_allocator.cc:1083] InUse at 7f4343936c00 of size 256 next 709\n",
            "2022-11-21 14:42:57.298978: I tensorflow/core/common_runtime/bfc_allocator.cc:1083] InUse at 7f4343936d00 of size 256 next 712\n",
            "2022-11-21 14:42:57.298981: I tensorflow/core/common_runtime/bfc_allocator.cc:1083] InUse at 7f4343936e00 of size 256 next 716\n",
            "2022-11-21 14:42:57.298983: I tensorflow/core/common_runtime/bfc_allocator.cc:1083] InUse at 7f4343936f00 of size 256 next 710\n",
            "2022-11-21 14:42:57.298986: I tensorflow/core/common_runtime/bfc_allocator.cc:1083] InUse at 7f4343937000 of size 256 next 718\n",
            "2022-11-21 14:42:57.298988: I tensorflow/core/common_runtime/bfc_allocator.cc:1083] InUse at 7f4343937100 of size 256 next 719\n",
            "2022-11-21 14:42:57.298990: I tensorflow/core/common_runtime/bfc_allocator.cc:1083] InUse at 7f4343937200 of size 16384 next 711\n",
            "2022-11-21 14:42:57.298993: I tensorflow/core/common_runtime/bfc_allocator.cc:1083] InUse at 7f434393b200 of size 266752 next 132\n",
            "2022-11-21 14:42:57.298995: I tensorflow/core/common_runtime/bfc_allocator.cc:1083] InUse at 7f434397c400 of size 38400 next 407\n",
            "2022-11-21 14:42:57.298998: I tensorflow/core/common_runtime/bfc_allocator.cc:1083] InUse at 7f4343985a00 of size 4096 next 116\n",
            "2022-11-21 14:42:57.299000: I tensorflow/core/common_runtime/bfc_allocator.cc:1083] InUse at 7f4343986a00 of size 4096 next 149\n",
            "2022-11-21 14:42:57.299003: I tensorflow/core/common_runtime/bfc_allocator.cc:1083] InUse at 7f4343987a00 of size 128256 next 126\n",
            "2022-11-21 14:42:57.299005: I tensorflow/core/common_runtime/bfc_allocator.cc:1083] InUse at 7f43439a6f00 of size 266752 next 143\n",
            "2022-11-21 14:42:57.299008: I tensorflow/core/common_runtime/bfc_allocator.cc:1083] InUse at 7f43439e8100 of size 256 next 145\n",
            "2022-11-21 14:42:57.299010: I tensorflow/core/common_runtime/bfc_allocator.cc:1083] InUse at 7f43439e8200 of size 870656 next 706\n",
            "2022-11-21 14:42:57.299013: I tensorflow/core/common_runtime/bfc_allocator.cc:1083] InUse at 7f4343abcb00 of size 640000 next 682\n",
            "2022-11-21 14:42:57.299015: I tensorflow/core/common_runtime/bfc_allocator.cc:1083] InUse at 7f4343b58f00 of size 640000 next 683\n",
            "2022-11-21 14:42:57.299018: I tensorflow/core/common_runtime/bfc_allocator.cc:1083] InUse at 7f4343bf5300 of size 640000 next 684\n",
            "2022-11-21 14:42:57.299020: I tensorflow/core/common_runtime/bfc_allocator.cc:1083] InUse at 7f4343c91700 of size 12797952 next 140\n",
            "2022-11-21 14:42:57.299023: I tensorflow/core/common_runtime/bfc_allocator.cc:1083] InUse at 7f43448c5f00 of size 125018368 next 18446744073709551615\n",
            "2022-11-21 14:42:57.299025: I tensorflow/core/common_runtime/bfc_allocator.cc:1063] Next region of size 268435456\n",
            "2022-11-21 14:42:57.299028: I tensorflow/core/common_runtime/bfc_allocator.cc:1083] InUse at 7f438c000000 of size 119980800 next 153\n",
            "2022-11-21 14:42:57.299030: I tensorflow/core/common_runtime/bfc_allocator.cc:1083] InUse at 7f439326c300 of size 148454656 next 18446744073709551615\n",
            "2022-11-21 14:42:57.299033: I tensorflow/core/common_runtime/bfc_allocator.cc:1063] Next region of size 2097152\n",
            "2022-11-21 14:42:57.299035: I tensorflow/core/common_runtime/bfc_allocator.cc:1083] InUse at 7f43ff000000 of size 1280 next 1\n",
            "2022-11-21 14:42:57.299038: I tensorflow/core/common_runtime/bfc_allocator.cc:1083] InUse at 7f43ff000500 of size 256 next 2\n",
            "2022-11-21 14:42:57.299040: I tensorflow/core/common_runtime/bfc_allocator.cc:1083] InUse at 7f43ff000600 of size 256 next 3\n",
            "2022-11-21 14:42:57.299043: I tensorflow/core/common_runtime/bfc_allocator.cc:1083] InUse at 7f43ff000700 of size 256 next 4\n",
            "2022-11-21 14:42:57.299045: I tensorflow/core/common_runtime/bfc_allocator.cc:1083] InUse at 7f43ff000800 of size 256 next 5\n",
            "2022-11-21 14:42:57.299047: I tensorflow/core/common_runtime/bfc_allocator.cc:1083] InUse at 7f43ff000900 of size 256 next 6\n",
            "2022-11-21 14:42:57.299050: I tensorflow/core/common_runtime/bfc_allocator.cc:1083] InUse at 7f43ff000a00 of size 40192 next 7\n",
            "2022-11-21 14:42:57.299052: I tensorflow/core/common_runtime/bfc_allocator.cc:1083] InUse at 7f43ff00a700 of size 40192 next 8\n",
            "2022-11-21 14:42:57.299055: I tensorflow/core/common_runtime/bfc_allocator.cc:1083] InUse at 7f43ff014400 of size 40192 next 9\n",
            "2022-11-21 14:42:57.299057: I tensorflow/core/common_runtime/bfc_allocator.cc:1083] InUse at 7f43ff01e100 of size 256 next 16\n",
            "2022-11-21 14:42:57.299059: I tensorflow/core/common_runtime/bfc_allocator.cc:1083] InUse at 7f43ff01e200 of size 4608 next 22\n",
            "2022-11-21 14:42:57.299062: I tensorflow/core/common_runtime/bfc_allocator.cc:1083] InUse at 7f43ff01f400 of size 6144 next 18\n",
            "2022-11-21 14:42:57.299064: I tensorflow/core/common_runtime/bfc_allocator.cc:1083] InUse at 7f43ff020c00 of size 256 next 10\n",
            "2022-11-21 14:42:57.299067: I tensorflow/core/common_runtime/bfc_allocator.cc:1083] InUse at 7f43ff020d00 of size 256 next 24\n",
            "2022-11-21 14:42:57.299069: I tensorflow/core/common_runtime/bfc_allocator.cc:1083] InUse at 7f43ff020e00 of size 256 next 26\n",
            "2022-11-21 14:42:57.299071: I tensorflow/core/common_runtime/bfc_allocator.cc:1083] InUse at 7f43ff020f00 of size 256 next 12\n",
            "2022-11-21 14:42:57.299074: I tensorflow/core/common_runtime/bfc_allocator.cc:1083] InUse at 7f43ff021000 of size 256 next 28\n",
            "2022-11-21 14:42:57.299076: I tensorflow/core/common_runtime/bfc_allocator.cc:1083] InUse at 7f43ff021100 of size 256 next 31\n",
            "2022-11-21 14:42:57.299079: I tensorflow/core/common_runtime/bfc_allocator.cc:1083] InUse at 7f43ff021200 of size 256 next 32\n",
            "2022-11-21 14:42:57.299081: I tensorflow/core/common_runtime/bfc_allocator.cc:1083] InUse at 7f43ff021300 of size 256 next 33\n",
            "2022-11-21 14:42:57.299084: I tensorflow/core/common_runtime/bfc_allocator.cc:1083] InUse at 7f43ff021400 of size 256 next 21\n",
            "2022-11-21 14:42:57.299086: I tensorflow/core/common_runtime/bfc_allocator.cc:1083] InUse at 7f43ff021500 of size 39424 next 27\n",
            "2022-11-21 14:42:57.299089: I tensorflow/core/common_runtime/bfc_allocator.cc:1083] InUse at 7f43ff02af00 of size 5120 next 30\n",
            "2022-11-21 14:42:57.299091: I tensorflow/core/common_runtime/bfc_allocator.cc:1083] InUse at 7f43ff02c300 of size 256 next 34\n",
            "2022-11-21 14:42:57.299093: I tensorflow/core/common_runtime/bfc_allocator.cc:1083] InUse at 7f43ff02c400 of size 256 next 35\n",
            "2022-11-21 14:42:57.299096: I tensorflow/core/common_runtime/bfc_allocator.cc:1083] InUse at 7f43ff02c500 of size 12288 next 41\n",
            "2022-11-21 14:42:57.299098: I tensorflow/core/common_runtime/bfc_allocator.cc:1083] InUse at 7f43ff02f500 of size 12288 next 42\n",
            "2022-11-21 14:42:57.299100: I tensorflow/core/common_runtime/bfc_allocator.cc:1083] InUse at 7f43ff032500 of size 12288 next 43\n",
            "2022-11-21 14:42:57.299103: I tensorflow/core/common_runtime/bfc_allocator.cc:1083] InUse at 7f43ff035500 of size 768 next 44\n",
            "2022-11-21 14:42:57.299105: I tensorflow/core/common_runtime/bfc_allocator.cc:1083] InUse at 7f43ff035800 of size 768 next 45\n",
            "2022-11-21 14:42:57.299108: I tensorflow/core/common_runtime/bfc_allocator.cc:1083] InUse at 7f43ff035b00 of size 768 next 46\n",
            "2022-11-21 14:42:57.299110: I tensorflow/core/common_runtime/bfc_allocator.cc:1083] InUse at 7f43ff035e00 of size 14336 next 20\n",
            "2022-11-21 14:42:57.299112: I tensorflow/core/common_runtime/bfc_allocator.cc:1083] InUse at 7f43ff039600 of size 19712 next 29\n",
            "2022-11-21 14:42:57.299115: I tensorflow/core/common_runtime/bfc_allocator.cc:1083] InUse at 7f43ff03e300 of size 400128 next 36\n",
            "2022-11-21 14:42:57.299117: I tensorflow/core/common_runtime/bfc_allocator.cc:1083] InUse at 7f43ff09fe00 of size 115200 next 37\n",
            "2022-11-21 14:42:57.299120: I tensorflow/core/common_runtime/bfc_allocator.cc:1083] InUse at 7f43ff0bc000 of size 115200 next 39\n",
            "2022-11-21 14:42:57.299122: I tensorflow/core/common_runtime/bfc_allocator.cc:1083] InUse at 7f43ff0d8200 of size 115200 next 40\n",
            "2022-11-21 14:42:57.299124: I tensorflow/core/common_runtime/bfc_allocator.cc:1083] InUse at 7f43ff0f4400 of size 115200 next 47\n",
            "2022-11-21 14:42:57.299127: I tensorflow/core/common_runtime/bfc_allocator.cc:1083] InUse at 7f43ff110600 of size 115200 next 48\n",
            "2022-11-21 14:42:57.299129: I tensorflow/core/common_runtime/bfc_allocator.cc:1083] InUse at 7f43ff12c800 of size 115200 next 49\n",
            "2022-11-21 14:42:57.299132: I tensorflow/core/common_runtime/bfc_allocator.cc:1083] InUse at 7f43ff148a00 of size 12288 next 50\n",
            "2022-11-21 14:42:57.299134: I tensorflow/core/common_runtime/bfc_allocator.cc:1083] InUse at 7f43ff14ba00 of size 12288 next 51\n",
            "2022-11-21 14:42:57.299136: I tensorflow/core/common_runtime/bfc_allocator.cc:1083] InUse at 7f43ff14ea00 of size 768 next 52\n",
            "2022-11-21 14:42:57.299139: I tensorflow/core/common_runtime/bfc_allocator.cc:1083] InUse at 7f43ff14ed00 of size 768 next 53\n",
            "2022-11-21 14:42:57.299141: I tensorflow/core/common_runtime/bfc_allocator.cc:1083] InUse at 7f43ff14f000 of size 768 next 54\n",
            "2022-11-21 14:42:57.299144: I tensorflow/core/common_runtime/bfc_allocator.cc:1083] InUse at 7f43ff14f300 of size 266752 next 55\n",
            "2022-11-21 14:42:57.299146: I tensorflow/core/common_runtime/bfc_allocator.cc:1083] InUse at 7f43ff190500 of size 127488 next 62\n",
            "2022-11-21 14:42:57.299149: I tensorflow/core/common_runtime/bfc_allocator.cc:1083] InUse at 7f43ff1af700 of size 256 next 651\n",
            "2022-11-21 14:42:57.299151: I tensorflow/core/common_runtime/bfc_allocator.cc:1083] InUse at 7f43ff1af800 of size 2560 next 650\n",
            "2022-11-21 14:42:57.299153: I tensorflow/core/common_runtime/bfc_allocator.cc:1083] InUse at 7f43ff1b0200 of size 256 next 647\n",
            "2022-11-21 14:42:57.299156: I tensorflow/core/common_runtime/bfc_allocator.cc:1083] InUse at 7f43ff1b0300 of size 2816 next 389\n",
            "2022-11-21 14:42:57.299158: I tensorflow/core/common_runtime/bfc_allocator.cc:1083] InUse at 7f43ff1b0e00 of size 256 next 645\n",
            "2022-11-21 14:42:57.299160: I tensorflow/core/common_runtime/bfc_allocator.cc:1083] InUse at 7f43ff1b0f00 of size 3072 next 387\n",
            "2022-11-21 14:42:57.299163: I tensorflow/core/common_runtime/bfc_allocator.cc:1083] InUse at 7f43ff1b1b00 of size 256 next 643\n",
            "2022-11-21 14:42:57.299165: I tensorflow/core/common_runtime/bfc_allocator.cc:1083] InUse at 7f43ff1b1c00 of size 3328 next 385\n",
            "2022-11-21 14:42:57.299168: I tensorflow/core/common_runtime/bfc_allocator.cc:1083] InUse at 7f43ff1b2900 of size 256 next 641\n",
            "2022-11-21 14:42:57.299170: I tensorflow/core/common_runtime/bfc_allocator.cc:1083] InUse at 7f43ff1b2a00 of size 3584 next 383\n",
            "2022-11-21 14:42:57.299173: I tensorflow/core/common_runtime/bfc_allocator.cc:1083] InUse at 7f43ff1b3800 of size 256 next 639\n",
            "2022-11-21 14:42:57.299175: I tensorflow/core/common_runtime/bfc_allocator.cc:1083] InUse at 7f43ff1b3900 of size 3840 next 637\n",
            "2022-11-21 14:42:57.299177: I tensorflow/core/common_runtime/bfc_allocator.cc:1083] InUse at 7f43ff1b4800 of size 256 next 379\n",
            "2022-11-21 14:42:57.299180: I tensorflow/core/common_runtime/bfc_allocator.cc:1083] InUse at 7f43ff1b4900 of size 4096 next 636\n",
            "2022-11-21 14:42:57.299182: I tensorflow/core/common_runtime/bfc_allocator.cc:1083] InUse at 7f43ff1b5900 of size 256 next 377\n",
            "2022-11-21 14:42:57.299185: I tensorflow/core/common_runtime/bfc_allocator.cc:1083] InUse at 7f43ff1b5a00 of size 4352 next 633\n",
            "2022-11-21 14:42:57.299187: I tensorflow/core/common_runtime/bfc_allocator.cc:1083] InUse at 7f43ff1b6b00 of size 256 next 375\n",
            "2022-11-21 14:42:57.299189: I tensorflow/core/common_runtime/bfc_allocator.cc:1083] InUse at 7f43ff1b6c00 of size 8448 next 139\n",
            "2022-11-21 14:42:57.299192: I tensorflow/core/common_runtime/bfc_allocator.cc:1083] InUse at 7f43ff1b8d00 of size 38400 next 406\n",
            "2022-11-21 14:42:57.299194: I tensorflow/core/common_runtime/bfc_allocator.cc:1083] InUse at 7f43ff1c2300 of size 38400 next 141\n",
            "2022-11-21 14:42:57.299197: I tensorflow/core/common_runtime/bfc_allocator.cc:1083] InUse at 7f43ff1cb900 of size 38400 next 124\n",
            "2022-11-21 14:42:57.299199: I tensorflow/core/common_runtime/bfc_allocator.cc:1083] InUse at 7f43ff1d4f00 of size 38400 next 122\n",
            "2022-11-21 14:42:57.299201: I tensorflow/core/common_runtime/bfc_allocator.cc:1083] InUse at 7f43ff1de500 of size 38400 next 131\n",
            "2022-11-21 14:42:57.299204: I tensorflow/core/common_runtime/bfc_allocator.cc:1083] InUse at 7f43ff1e7b00 of size 256 next 631\n",
            "2022-11-21 14:42:57.299206: I tensorflow/core/common_runtime/bfc_allocator.cc:1083] InUse at 7f43ff1e7c00 of size 4864 next 373\n",
            "2022-11-21 14:42:57.299209: I tensorflow/core/common_runtime/bfc_allocator.cc:1083] InUse at 7f43ff1e8f00 of size 256 next 629\n",
            "2022-11-21 14:42:57.299211: I tensorflow/core/common_runtime/bfc_allocator.cc:1083] InUse at 7f43ff1e9000 of size 5120 next 371\n",
            "2022-11-21 14:42:57.299214: I tensorflow/core/common_runtime/bfc_allocator.cc:1083] InUse at 7f43ff1ea400 of size 256 next 628\n",
            "2022-11-21 14:42:57.299216: I tensorflow/core/common_runtime/bfc_allocator.cc:1083] InUse at 7f43ff1ea500 of size 5376 next 625\n",
            "2022-11-21 14:42:57.299218: I tensorflow/core/common_runtime/bfc_allocator.cc:1083] InUse at 7f43ff1eba00 of size 256 next 624\n",
            "2022-11-21 14:42:57.299221: I tensorflow/core/common_runtime/bfc_allocator.cc:1083] InUse at 7f43ff1ebb00 of size 5632 next 365\n",
            "2022-11-21 14:42:57.299223: I tensorflow/core/common_runtime/bfc_allocator.cc:1083] InUse at 7f43ff1ed100 of size 256 next 621\n",
            "2022-11-21 14:42:57.299226: I tensorflow/core/common_runtime/bfc_allocator.cc:1083] InUse at 7f43ff1ed200 of size 5888 next 363\n",
            "2022-11-21 14:42:57.299228: I tensorflow/core/common_runtime/bfc_allocator.cc:1083] InUse at 7f43ff1ee900 of size 256 next 619\n",
            "2022-11-21 14:42:57.299230: I tensorflow/core/common_runtime/bfc_allocator.cc:1083] InUse at 7f43ff1eea00 of size 6144 next 361\n",
            "2022-11-21 14:42:57.299233: I tensorflow/core/common_runtime/bfc_allocator.cc:1083] InUse at 7f43ff1f0200 of size 256 next 617\n",
            "2022-11-21 14:42:57.299235: I tensorflow/core/common_runtime/bfc_allocator.cc:1083] InUse at 7f43ff1f0300 of size 6400 next 359\n",
            "2022-11-21 14:42:57.299238: I tensorflow/core/common_runtime/bfc_allocator.cc:1083] InUse at 7f43ff1f1c00 of size 256 next 615\n",
            "2022-11-21 14:42:57.299240: I tensorflow/core/common_runtime/bfc_allocator.cc:1083] InUse at 7f43ff1f1d00 of size 6656 next 358\n",
            "2022-11-21 14:42:57.299242: I tensorflow/core/common_runtime/bfc_allocator.cc:1083] InUse at 7f43ff1f3700 of size 256 next 613\n",
            "2022-11-21 14:42:57.299245: I tensorflow/core/common_runtime/bfc_allocator.cc:1083] InUse at 7f43ff1f3800 of size 6912 next 355\n",
            "2022-11-21 14:42:57.299248: I tensorflow/core/common_runtime/bfc_allocator.cc:1083] InUse at 7f43ff1f5300 of size 256 next 609\n",
            "2022-11-21 14:42:57.299250: I tensorflow/core/common_runtime/bfc_allocator.cc:1083] InUse at 7f43ff1f5400 of size 7168 next 352\n",
            "2022-11-21 14:42:57.299253: I tensorflow/core/common_runtime/bfc_allocator.cc:1083] InUse at 7f43ff1f7000 of size 256 next 607\n",
            "2022-11-21 14:42:57.299255: I tensorflow/core/common_runtime/bfc_allocator.cc:1083] InUse at 7f43ff1f7100 of size 7424 next 349\n",
            "2022-11-21 14:42:57.299257: I tensorflow/core/common_runtime/bfc_allocator.cc:1083] InUse at 7f43ff1f8e00 of size 256 next 605\n",
            "2022-11-21 14:42:57.299260: I tensorflow/core/common_runtime/bfc_allocator.cc:1083] InUse at 7f43ff1f8f00 of size 7680 next 347\n",
            "2022-11-21 14:42:57.299262: I tensorflow/core/common_runtime/bfc_allocator.cc:1083] InUse at 7f43ff1fad00 of size 256 next 603\n",
            "2022-11-21 14:42:57.299264: I tensorflow/core/common_runtime/bfc_allocator.cc:1083] InUse at 7f43ff1fae00 of size 7936 next 345\n",
            "2022-11-21 14:42:57.299267: I tensorflow/core/common_runtime/bfc_allocator.cc:1083] InUse at 7f43ff1fcd00 of size 256 next 602\n",
            "2022-11-21 14:42:57.299269: I tensorflow/core/common_runtime/bfc_allocator.cc:1083] InUse at 7f43ff1fce00 of size 12800 next 18446744073709551615\n",
            "2022-11-21 14:42:57.299272: I tensorflow/core/common_runtime/bfc_allocator.cc:1088]      Summary of in-use Chunks by size: \n",
            "2022-11-21 14:42:57.299276: I tensorflow/core/common_runtime/bfc_allocator.cc:1091] 546 Chunks of size 256 totalling 136.5KiB\n",
            "2022-11-21 14:42:57.299279: I tensorflow/core/common_runtime/bfc_allocator.cc:1091] 52 Chunks of size 512 totalling 26.0KiB\n",
            "2022-11-21 14:42:57.299282: I tensorflow/core/common_runtime/bfc_allocator.cc:1091] 17 Chunks of size 768 totalling 12.8KiB\n",
            "2022-11-21 14:42:57.299285: I tensorflow/core/common_runtime/bfc_allocator.cc:1091] 1 Chunks of size 1024 totalling 1.0KiB\n",
            "2022-11-21 14:42:57.299288: I tensorflow/core/common_runtime/bfc_allocator.cc:1091] 3 Chunks of size 1280 totalling 3.8KiB\n",
            "2022-11-21 14:42:57.299290: I tensorflow/core/common_runtime/bfc_allocator.cc:1091] 3 Chunks of size 1536 totalling 4.5KiB\n",
            "2022-11-21 14:42:57.299293: I tensorflow/core/common_runtime/bfc_allocator.cc:1091] 2 Chunks of size 1792 totalling 3.5KiB\n",
            "2022-11-21 14:42:57.299296: I tensorflow/core/common_runtime/bfc_allocator.cc:1091] 5 Chunks of size 2048 totalling 10.0KiB\n",
            "2022-11-21 14:42:57.299299: I tensorflow/core/common_runtime/bfc_allocator.cc:1091] 1 Chunks of size 2304 totalling 2.2KiB\n",
            "2022-11-21 14:42:57.299301: I tensorflow/core/common_runtime/bfc_allocator.cc:1091] 2 Chunks of size 2560 totalling 5.0KiB\n",
            "2022-11-21 14:42:57.299304: I tensorflow/core/common_runtime/bfc_allocator.cc:1091] 2 Chunks of size 2816 totalling 5.5KiB\n",
            "2022-11-21 14:42:57.299307: I tensorflow/core/common_runtime/bfc_allocator.cc:1091] 2 Chunks of size 3072 totalling 6.0KiB\n",
            "2022-11-21 14:42:57.299309: I tensorflow/core/common_runtime/bfc_allocator.cc:1091] 3 Chunks of size 3328 totalling 9.8KiB\n",
            "2022-11-21 14:42:57.299312: I tensorflow/core/common_runtime/bfc_allocator.cc:1091] 2 Chunks of size 3584 totalling 7.0KiB\n",
            "2022-11-21 14:42:57.299315: I tensorflow/core/common_runtime/bfc_allocator.cc:1091] 2 Chunks of size 3840 totalling 7.5KiB\n",
            "2022-11-21 14:42:57.299318: I tensorflow/core/common_runtime/bfc_allocator.cc:1091] 109 Chunks of size 4096 totalling 436.0KiB\n",
            "2022-11-21 14:42:57.299321: I tensorflow/core/common_runtime/bfc_allocator.cc:1091] 2 Chunks of size 4352 totalling 8.5KiB\n",
            "2022-11-21 14:42:57.299323: I tensorflow/core/common_runtime/bfc_allocator.cc:1091] 2 Chunks of size 4608 totalling 9.0KiB\n",
            "2022-11-21 14:42:57.299326: I tensorflow/core/common_runtime/bfc_allocator.cc:1091] 2 Chunks of size 4864 totalling 9.5KiB\n",
            "2022-11-21 14:42:57.299329: I tensorflow/core/common_runtime/bfc_allocator.cc:1091] 3 Chunks of size 5120 totalling 15.0KiB\n",
            "2022-11-21 14:42:57.299332: I tensorflow/core/common_runtime/bfc_allocator.cc:1091] 2 Chunks of size 5376 totalling 10.5KiB\n",
            "2022-11-21 14:42:57.299335: I tensorflow/core/common_runtime/bfc_allocator.cc:1091] 2 Chunks of size 5632 totalling 11.0KiB\n",
            "2022-11-21 14:42:57.299337: I tensorflow/core/common_runtime/bfc_allocator.cc:1091] 2 Chunks of size 5888 totalling 11.5KiB\n",
            "2022-11-21 14:42:57.299340: I tensorflow/core/common_runtime/bfc_allocator.cc:1091] 3 Chunks of size 6144 totalling 18.0KiB\n",
            "2022-11-21 14:42:57.299343: I tensorflow/core/common_runtime/bfc_allocator.cc:1091] 2 Chunks of size 6400 totalling 12.5KiB\n",
            "2022-11-21 14:42:57.299346: I tensorflow/core/common_runtime/bfc_allocator.cc:1091] 3 Chunks of size 6656 totalling 19.5KiB\n",
            "2022-11-21 14:42:57.299348: I tensorflow/core/common_runtime/bfc_allocator.cc:1091] 2 Chunks of size 6912 totalling 13.5KiB\n",
            "2022-11-21 14:42:57.299351: I tensorflow/core/common_runtime/bfc_allocator.cc:1091] 2 Chunks of size 7168 totalling 14.0KiB\n",
            "2022-11-21 14:42:57.299354: I tensorflow/core/common_runtime/bfc_allocator.cc:1091] 2 Chunks of size 7424 totalling 14.5KiB\n",
            "2022-11-21 14:42:57.299357: I tensorflow/core/common_runtime/bfc_allocator.cc:1091] 2 Chunks of size 7680 totalling 15.0KiB\n",
            "2022-11-21 14:42:57.299360: I tensorflow/core/common_runtime/bfc_allocator.cc:1091] 2 Chunks of size 7936 totalling 15.5KiB\n",
            "2022-11-21 14:42:57.299362: I tensorflow/core/common_runtime/bfc_allocator.cc:1091] 1 Chunks of size 8192 totalling 8.0KiB\n",
            "2022-11-21 14:42:57.299365: I tensorflow/core/common_runtime/bfc_allocator.cc:1091] 3 Chunks of size 8448 totalling 24.8KiB\n",
            "2022-11-21 14:42:57.299368: I tensorflow/core/common_runtime/bfc_allocator.cc:1091] 2 Chunks of size 8704 totalling 17.0KiB\n",
            "2022-11-21 14:42:57.299371: I tensorflow/core/common_runtime/bfc_allocator.cc:1091] 2 Chunks of size 8960 totalling 17.5KiB\n",
            "2022-11-21 14:42:57.299374: I tensorflow/core/common_runtime/bfc_allocator.cc:1091] 2 Chunks of size 9216 totalling 18.0KiB\n",
            "2022-11-21 14:42:57.299377: I tensorflow/core/common_runtime/bfc_allocator.cc:1091] 2 Chunks of size 9472 totalling 18.5KiB\n",
            "2022-11-21 14:42:57.299379: I tensorflow/core/common_runtime/bfc_allocator.cc:1091] 2 Chunks of size 9728 totalling 19.0KiB\n",
            "2022-11-21 14:42:57.299382: I tensorflow/core/common_runtime/bfc_allocator.cc:1091] 2 Chunks of size 9984 totalling 19.5KiB\n",
            "2022-11-21 14:42:57.299385: I tensorflow/core/common_runtime/bfc_allocator.cc:1091] 2 Chunks of size 10240 totalling 20.0KiB\n",
            "2022-11-21 14:42:57.299388: I tensorflow/core/common_runtime/bfc_allocator.cc:1091] 2 Chunks of size 10496 totalling 20.5KiB\n",
            "2022-11-21 14:42:57.299391: I tensorflow/core/common_runtime/bfc_allocator.cc:1091] 2 Chunks of size 10752 totalling 21.0KiB\n",
            "2022-11-21 14:42:57.299394: I tensorflow/core/common_runtime/bfc_allocator.cc:1091] 2 Chunks of size 11008 totalling 21.5KiB\n",
            "2022-11-21 14:42:57.299396: I tensorflow/core/common_runtime/bfc_allocator.cc:1091] 2 Chunks of size 11264 totalling 22.0KiB\n",
            "2022-11-21 14:42:57.299399: I tensorflow/core/common_runtime/bfc_allocator.cc:1091] 2 Chunks of size 11520 totalling 22.5KiB\n",
            "2022-11-21 14:42:57.299402: I tensorflow/core/common_runtime/bfc_allocator.cc:1091] 2 Chunks of size 11776 totalling 23.0KiB\n",
            "2022-11-21 14:42:57.299405: I tensorflow/core/common_runtime/bfc_allocator.cc:1091] 2 Chunks of size 12032 totalling 23.5KiB\n",
            "2022-11-21 14:42:57.299407: I tensorflow/core/common_runtime/bfc_allocator.cc:1091] 16 Chunks of size 12288 totalling 192.0KiB\n",
            "2022-11-21 14:42:57.299410: I tensorflow/core/common_runtime/bfc_allocator.cc:1091] 2 Chunks of size 12544 totalling 24.5KiB\n",
            "2022-11-21 14:42:57.299413: I tensorflow/core/common_runtime/bfc_allocator.cc:1091] 3 Chunks of size 12800 totalling 37.5KiB\n",
            "2022-11-21 14:42:57.299416: I tensorflow/core/common_runtime/bfc_allocator.cc:1091] 2 Chunks of size 13056 totalling 25.5KiB\n",
            "2022-11-21 14:42:57.299419: I tensorflow/core/common_runtime/bfc_allocator.cc:1091] 2 Chunks of size 13312 totalling 26.0KiB\n",
            "2022-11-21 14:42:57.299421: I tensorflow/core/common_runtime/bfc_allocator.cc:1091] 2 Chunks of size 13568 totalling 26.5KiB\n",
            "2022-11-21 14:42:57.299424: I tensorflow/core/common_runtime/bfc_allocator.cc:1091] 2 Chunks of size 13824 totalling 27.0KiB\n",
            "2022-11-21 14:42:57.299427: I tensorflow/core/common_runtime/bfc_allocator.cc:1091] 2 Chunks of size 14080 totalling 27.5KiB\n",
            "2022-11-21 14:42:57.299430: I tensorflow/core/common_runtime/bfc_allocator.cc:1091] 3 Chunks of size 14336 totalling 42.0KiB\n",
            "2022-11-21 14:42:57.299433: I tensorflow/core/common_runtime/bfc_allocator.cc:1091] 2 Chunks of size 14592 totalling 28.5KiB\n",
            "2022-11-21 14:42:57.299435: I tensorflow/core/common_runtime/bfc_allocator.cc:1091] 2 Chunks of size 14848 totalling 29.0KiB\n",
            "2022-11-21 14:42:57.299438: I tensorflow/core/common_runtime/bfc_allocator.cc:1091] 2 Chunks of size 15104 totalling 29.5KiB\n",
            "2022-11-21 14:42:57.299441: I tensorflow/core/common_runtime/bfc_allocator.cc:1091] 2 Chunks of size 15360 totalling 30.0KiB\n",
            "2022-11-21 14:42:57.299444: I tensorflow/core/common_runtime/bfc_allocator.cc:1091] 2 Chunks of size 15616 totalling 30.5KiB\n",
            "2022-11-21 14:42:57.299447: I tensorflow/core/common_runtime/bfc_allocator.cc:1091] 2 Chunks of size 15872 totalling 31.0KiB\n",
            "2022-11-21 14:42:57.299449: I tensorflow/core/common_runtime/bfc_allocator.cc:1091] 2 Chunks of size 16128 totalling 31.5KiB\n",
            "2022-11-21 14:42:57.299452: I tensorflow/core/common_runtime/bfc_allocator.cc:1091] 72 Chunks of size 16384 totalling 1.12MiB\n",
            "2022-11-21 14:42:57.299455: I tensorflow/core/common_runtime/bfc_allocator.cc:1091] 2 Chunks of size 16640 totalling 32.5KiB\n",
            "2022-11-21 14:42:57.299458: I tensorflow/core/common_runtime/bfc_allocator.cc:1091] 2 Chunks of size 16896 totalling 33.0KiB\n",
            "2022-11-21 14:42:57.299461: I tensorflow/core/common_runtime/bfc_allocator.cc:1091] 2 Chunks of size 17152 totalling 33.5KiB\n",
            "2022-11-21 14:42:57.299464: I tensorflow/core/common_runtime/bfc_allocator.cc:1091] 2 Chunks of size 17408 totalling 34.0KiB\n",
            "2022-11-21 14:42:57.299466: I tensorflow/core/common_runtime/bfc_allocator.cc:1091] 2 Chunks of size 17664 totalling 34.5KiB\n",
            "2022-11-21 14:42:57.299469: I tensorflow/core/common_runtime/bfc_allocator.cc:1091] 2 Chunks of size 17920 totalling 35.0KiB\n",
            "2022-11-21 14:42:57.299472: I tensorflow/core/common_runtime/bfc_allocator.cc:1091] 2 Chunks of size 18176 totalling 35.5KiB\n",
            "2022-11-21 14:42:57.299475: I tensorflow/core/common_runtime/bfc_allocator.cc:1091] 2 Chunks of size 18432 totalling 36.0KiB\n",
            "2022-11-21 14:42:57.299477: I tensorflow/core/common_runtime/bfc_allocator.cc:1091] 2 Chunks of size 18688 totalling 36.5KiB\n",
            "2022-11-21 14:42:57.299480: I tensorflow/core/common_runtime/bfc_allocator.cc:1091] 2 Chunks of size 18944 totalling 37.0KiB\n",
            "2022-11-21 14:42:57.299483: I tensorflow/core/common_runtime/bfc_allocator.cc:1091] 2 Chunks of size 19200 totalling 37.5KiB\n",
            "2022-11-21 14:42:57.299486: I tensorflow/core/common_runtime/bfc_allocator.cc:1091] 2 Chunks of size 19456 totalling 38.0KiB\n",
            "2022-11-21 14:42:57.299489: I tensorflow/core/common_runtime/bfc_allocator.cc:1091] 3 Chunks of size 19712 totalling 57.8KiB\n",
            "2022-11-21 14:42:57.299491: I tensorflow/core/common_runtime/bfc_allocator.cc:1091] 2 Chunks of size 19968 totalling 39.0KiB\n",
            "2022-11-21 14:42:57.299494: I tensorflow/core/common_runtime/bfc_allocator.cc:1091] 2 Chunks of size 20224 totalling 39.5KiB\n",
            "2022-11-21 14:42:57.299497: I tensorflow/core/common_runtime/bfc_allocator.cc:1091] 2 Chunks of size 20480 totalling 40.0KiB\n",
            "2022-11-21 14:42:57.299500: I tensorflow/core/common_runtime/bfc_allocator.cc:1091] 2 Chunks of size 20736 totalling 40.5KiB\n",
            "2022-11-21 14:42:57.299503: I tensorflow/core/common_runtime/bfc_allocator.cc:1091] 2 Chunks of size 20992 totalling 41.0KiB\n",
            "2022-11-21 14:42:57.299506: I tensorflow/core/common_runtime/bfc_allocator.cc:1091] 2 Chunks of size 21248 totalling 41.5KiB\n",
            "2022-11-21 14:42:57.299509: I tensorflow/core/common_runtime/bfc_allocator.cc:1091] 2 Chunks of size 21504 totalling 42.0KiB\n",
            "2022-11-21 14:42:57.299511: I tensorflow/core/common_runtime/bfc_allocator.cc:1091] 2 Chunks of size 21760 totalling 42.5KiB\n",
            "2022-11-21 14:42:57.299514: I tensorflow/core/common_runtime/bfc_allocator.cc:1091] 2 Chunks of size 22016 totalling 43.0KiB\n",
            "2022-11-21 14:42:57.299517: I tensorflow/core/common_runtime/bfc_allocator.cc:1091] 2 Chunks of size 22272 totalling 43.5KiB\n",
            "2022-11-21 14:42:57.299520: I tensorflow/core/common_runtime/bfc_allocator.cc:1091] 2 Chunks of size 22528 totalling 44.0KiB\n",
            "2022-11-21 14:42:57.299523: I tensorflow/core/common_runtime/bfc_allocator.cc:1091] 2 Chunks of size 22784 totalling 44.5KiB\n",
            "2022-11-21 14:42:57.299525: I tensorflow/core/common_runtime/bfc_allocator.cc:1091] 2 Chunks of size 23040 totalling 45.0KiB\n",
            "2022-11-21 14:42:57.299528: I tensorflow/core/common_runtime/bfc_allocator.cc:1091] 2 Chunks of size 23296 totalling 45.5KiB\n",
            "2022-11-21 14:42:57.299531: I tensorflow/core/common_runtime/bfc_allocator.cc:1091] 2 Chunks of size 23552 totalling 46.0KiB\n",
            "2022-11-21 14:42:57.299534: I tensorflow/core/common_runtime/bfc_allocator.cc:1091] 2 Chunks of size 23808 totalling 46.5KiB\n",
            "2022-11-21 14:42:57.299537: I tensorflow/core/common_runtime/bfc_allocator.cc:1091] 2 Chunks of size 24064 totalling 47.0KiB\n",
            "2022-11-21 14:42:57.299539: I tensorflow/core/common_runtime/bfc_allocator.cc:1091] 2 Chunks of size 24320 totalling 47.5KiB\n",
            "2022-11-21 14:42:57.299542: I tensorflow/core/common_runtime/bfc_allocator.cc:1091] 2 Chunks of size 24576 totalling 48.0KiB\n",
            "2022-11-21 14:42:57.299545: I tensorflow/core/common_runtime/bfc_allocator.cc:1091] 2 Chunks of size 24832 totalling 48.5KiB\n",
            "2022-11-21 14:42:57.299548: I tensorflow/core/common_runtime/bfc_allocator.cc:1091] 2 Chunks of size 25088 totalling 49.0KiB\n",
            "2022-11-21 14:42:57.299550: I tensorflow/core/common_runtime/bfc_allocator.cc:1091] 2 Chunks of size 25344 totalling 49.5KiB\n",
            "2022-11-21 14:42:57.299553: I tensorflow/core/common_runtime/bfc_allocator.cc:1091] 2 Chunks of size 25600 totalling 50.0KiB\n",
            "2022-11-21 14:42:57.299556: I tensorflow/core/common_runtime/bfc_allocator.cc:1091] 2 Chunks of size 25856 totalling 50.5KiB\n",
            "2022-11-21 14:42:57.299559: I tensorflow/core/common_runtime/bfc_allocator.cc:1091] 2 Chunks of size 26112 totalling 51.0KiB\n",
            "2022-11-21 14:42:57.299562: I tensorflow/core/common_runtime/bfc_allocator.cc:1091] 2 Chunks of size 26368 totalling 51.5KiB\n",
            "2022-11-21 14:42:57.299564: I tensorflow/core/common_runtime/bfc_allocator.cc:1091] 2 Chunks of size 26624 totalling 52.0KiB\n",
            "2022-11-21 14:42:57.299567: I tensorflow/core/common_runtime/bfc_allocator.cc:1091] 2 Chunks of size 26880 totalling 52.5KiB\n",
            "2022-11-21 14:42:57.299570: I tensorflow/core/common_runtime/bfc_allocator.cc:1091] 2 Chunks of size 27136 totalling 53.0KiB\n",
            "2022-11-21 14:42:57.299573: I tensorflow/core/common_runtime/bfc_allocator.cc:1091] 2 Chunks of size 27392 totalling 53.5KiB\n",
            "2022-11-21 14:42:57.299576: I tensorflow/core/common_runtime/bfc_allocator.cc:1091] 2 Chunks of size 27648 totalling 54.0KiB\n",
            "2022-11-21 14:42:57.299578: I tensorflow/core/common_runtime/bfc_allocator.cc:1091] 2 Chunks of size 27904 totalling 54.5KiB\n",
            "2022-11-21 14:42:57.299581: I tensorflow/core/common_runtime/bfc_allocator.cc:1091] 3 Chunks of size 28160 totalling 82.5KiB\n",
            "2022-11-21 14:42:57.299584: I tensorflow/core/common_runtime/bfc_allocator.cc:1091] 1 Chunks of size 28416 totalling 27.8KiB\n",
            "2022-11-21 14:42:57.299587: I tensorflow/core/common_runtime/bfc_allocator.cc:1091] 2 Chunks of size 28672 totalling 56.0KiB\n",
            "2022-11-21 14:42:57.299590: I tensorflow/core/common_runtime/bfc_allocator.cc:1091] 2 Chunks of size 28928 totalling 56.5KiB\n",
            "2022-11-21 14:42:57.299592: I tensorflow/core/common_runtime/bfc_allocator.cc:1091] 2 Chunks of size 29184 totalling 57.0KiB\n",
            "2022-11-21 14:42:57.299595: I tensorflow/core/common_runtime/bfc_allocator.cc:1091] 2 Chunks of size 29440 totalling 57.5KiB\n",
            "2022-11-21 14:42:57.299598: I tensorflow/core/common_runtime/bfc_allocator.cc:1091] 2 Chunks of size 29696 totalling 58.0KiB\n",
            "2022-11-21 14:42:57.299601: I tensorflow/core/common_runtime/bfc_allocator.cc:1091] 2 Chunks of size 29952 totalling 58.5KiB\n",
            "2022-11-21 14:42:57.299604: I tensorflow/core/common_runtime/bfc_allocator.cc:1091] 2 Chunks of size 30208 totalling 59.0KiB\n",
            "2022-11-21 14:42:57.299606: I tensorflow/core/common_runtime/bfc_allocator.cc:1091] 2 Chunks of size 30464 totalling 59.5KiB\n",
            "2022-11-21 14:42:57.299609: I tensorflow/core/common_runtime/bfc_allocator.cc:1091] 2 Chunks of size 30720 totalling 60.0KiB\n",
            "2022-11-21 14:42:57.299612: I tensorflow/core/common_runtime/bfc_allocator.cc:1091] 2 Chunks of size 30976 totalling 60.5KiB\n",
            "2022-11-21 14:42:57.299615: I tensorflow/core/common_runtime/bfc_allocator.cc:1091] 2 Chunks of size 31232 totalling 61.0KiB\n",
            "2022-11-21 14:42:57.299617: I tensorflow/core/common_runtime/bfc_allocator.cc:1091] 2 Chunks of size 31488 totalling 61.5KiB\n",
            "2022-11-21 14:42:57.299620: I tensorflow/core/common_runtime/bfc_allocator.cc:1091] 2 Chunks of size 31744 totalling 62.0KiB\n",
            "2022-11-21 14:42:57.299623: I tensorflow/core/common_runtime/bfc_allocator.cc:1091] 2 Chunks of size 32000 totalling 62.5KiB\n",
            "2022-11-21 14:42:57.299626: I tensorflow/core/common_runtime/bfc_allocator.cc:1091] 2 Chunks of size 32256 totalling 63.0KiB\n",
            "2022-11-21 14:42:57.299628: I tensorflow/core/common_runtime/bfc_allocator.cc:1091] 2 Chunks of size 32512 totalling 63.5KiB\n",
            "2022-11-21 14:42:57.299631: I tensorflow/core/common_runtime/bfc_allocator.cc:1091] 2 Chunks of size 32768 totalling 64.0KiB\n",
            "2022-11-21 14:42:57.299634: I tensorflow/core/common_runtime/bfc_allocator.cc:1091] 12 Chunks of size 38400 totalling 450.0KiB\n",
            "2022-11-21 14:42:57.299637: I tensorflow/core/common_runtime/bfc_allocator.cc:1091] 1 Chunks of size 39424 totalling 38.5KiB\n",
            "2022-11-21 14:42:57.299640: I tensorflow/core/common_runtime/bfc_allocator.cc:1091] 3 Chunks of size 40192 totalling 117.8KiB\n",
            "2022-11-21 14:42:57.299642: I tensorflow/core/common_runtime/bfc_allocator.cc:1091] 1 Chunks of size 46848 totalling 45.8KiB\n",
            "2022-11-21 14:42:57.299645: I tensorflow/core/common_runtime/bfc_allocator.cc:1091] 96 Chunks of size 54784 totalling 5.02MiB\n",
            "2022-11-21 14:42:57.299648: I tensorflow/core/common_runtime/bfc_allocator.cc:1091] 1 Chunks of size 65536 totalling 64.0KiB\n",
            "2022-11-21 14:42:57.299651: I tensorflow/core/common_runtime/bfc_allocator.cc:1091] 31 Chunks of size 98560 totalling 2.91MiB\n",
            "2022-11-21 14:42:57.299654: I tensorflow/core/common_runtime/bfc_allocator.cc:1091] 1 Chunks of size 108544 totalling 106.0KiB\n",
            "2022-11-21 14:42:57.299657: I tensorflow/core/common_runtime/bfc_allocator.cc:1091] 10 Chunks of size 115200 totalling 1.10MiB\n",
            "2022-11-21 14:42:57.299659: I tensorflow/core/common_runtime/bfc_allocator.cc:1091] 1 Chunks of size 127488 totalling 124.5KiB\n",
            "2022-11-21 14:42:57.299662: I tensorflow/core/common_runtime/bfc_allocator.cc:1091] 4 Chunks of size 128256 totalling 501.0KiB\n",
            "2022-11-21 14:42:57.299665: I tensorflow/core/common_runtime/bfc_allocator.cc:1091] 1 Chunks of size 153600 totalling 150.0KiB\n",
            "2022-11-21 14:42:57.299668: I tensorflow/core/common_runtime/bfc_allocator.cc:1091] 1 Chunks of size 160768 totalling 157.0KiB\n",
            "2022-11-21 14:42:57.299671: I tensorflow/core/common_runtime/bfc_allocator.cc:1091] 3 Chunks of size 164352 totalling 481.5KiB\n",
            "2022-11-21 14:42:57.299674: I tensorflow/core/common_runtime/bfc_allocator.cc:1091] 2 Chunks of size 171264 totalling 334.5KiB\n",
            "2022-11-21 14:42:57.299676: I tensorflow/core/common_runtime/bfc_allocator.cc:1091] 31 Chunks of size 176128 totalling 5.21MiB\n",
            "2022-11-21 14:42:57.299679: I tensorflow/core/common_runtime/bfc_allocator.cc:1091] 32 Chunks of size 177408 totalling 5.41MiB\n",
            "2022-11-21 14:42:57.299682: I tensorflow/core/common_runtime/bfc_allocator.cc:1091] 32 Chunks of size 219136 totalling 6.69MiB\n",
            "2022-11-21 14:42:57.299684: I tensorflow/core/common_runtime/bfc_allocator.cc:1091] 3 Chunks of size 266752 totalling 781.5KiB\n",
            "2022-11-21 14:42:57.299687: I tensorflow/core/common_runtime/bfc_allocator.cc:1091] 1 Chunks of size 275200 totalling 268.8KiB\n",
            "2022-11-21 14:42:57.299690: I tensorflow/core/common_runtime/bfc_allocator.cc:1091] 3 Chunks of size 342528 totalling 1003.5KiB\n",
            "2022-11-21 14:42:57.299693: I tensorflow/core/common_runtime/bfc_allocator.cc:1091] 4 Chunks of size 377600 totalling 1.44MiB\n",
            "2022-11-21 14:42:57.299696: I tensorflow/core/common_runtime/bfc_allocator.cc:1091] 1 Chunks of size 400128 totalling 390.8KiB\n",
            "2022-11-21 14:42:57.299699: I tensorflow/core/common_runtime/bfc_allocator.cc:1091] 1 Chunks of size 404992 totalling 395.5KiB\n",
            "2022-11-21 14:42:57.299702: I tensorflow/core/common_runtime/bfc_allocator.cc:1091] 2 Chunks of size 513792 totalling 1003.5KiB\n",
            "2022-11-21 14:42:57.299704: I tensorflow/core/common_runtime/bfc_allocator.cc:1091] 1 Chunks of size 533248 totalling 520.8KiB\n",
            "2022-11-21 14:42:57.299707: I tensorflow/core/common_runtime/bfc_allocator.cc:1091] 3 Chunks of size 640000 totalling 1.83MiB\n",
            "2022-11-21 14:42:57.299710: I tensorflow/core/common_runtime/bfc_allocator.cc:1091] 3 Chunks of size 684800 totalling 1.96MiB\n",
            "2022-11-21 14:42:57.299713: I tensorflow/core/common_runtime/bfc_allocator.cc:1091] 1 Chunks of size 695040 totalling 678.8KiB\n",
            "2022-11-21 14:42:57.299715: I tensorflow/core/common_runtime/bfc_allocator.cc:1091] 1 Chunks of size 754944 totalling 737.2KiB\n",
            "2022-11-21 14:42:57.299718: I tensorflow/core/common_runtime/bfc_allocator.cc:1091] 3 Chunks of size 856064 totalling 2.45MiB\n",
            "2022-11-21 14:42:57.299721: I tensorflow/core/common_runtime/bfc_allocator.cc:1091] 1 Chunks of size 870656 totalling 850.2KiB\n",
            "2022-11-21 14:42:57.299724: I tensorflow/core/common_runtime/bfc_allocator.cc:1091] 1 Chunks of size 2230528 totalling 2.13MiB\n",
            "2022-11-21 14:42:57.299727: I tensorflow/core/common_runtime/bfc_allocator.cc:1091] 50 Chunks of size 2560000 totalling 122.07MiB\n",
            "2022-11-21 14:42:57.299730: I tensorflow/core/common_runtime/bfc_allocator.cc:1091] 13 Chunks of size 2814208 totalling 34.89MiB\n",
            "2022-11-21 14:42:57.299732: I tensorflow/core/common_runtime/bfc_allocator.cc:1091] 1 Chunks of size 3758336 totalling 3.58MiB\n",
            "2022-11-21 14:42:57.299735: I tensorflow/core/common_runtime/bfc_allocator.cc:1091] 2 Chunks of size 3872000 totalling 7.38MiB\n",
            "2022-11-21 14:42:57.299738: I tensorflow/core/common_runtime/bfc_allocator.cc:1091] 1 Chunks of size 4915968 totalling 4.69MiB\n",
            "2022-11-21 14:42:57.299741: I tensorflow/core/common_runtime/bfc_allocator.cc:1091] 4 Chunks of size 6004992 totalling 22.91MiB\n",
            "2022-11-21 14:42:57.299744: I tensorflow/core/common_runtime/bfc_allocator.cc:1091] 1 Chunks of size 12797952 totalling 12.21MiB\n",
            "2022-11-21 14:42:57.299746: I tensorflow/core/common_runtime/bfc_allocator.cc:1091] 1 Chunks of size 14024704 totalling 13.38MiB\n",
            "2022-11-21 14:42:57.299749: I tensorflow/core/common_runtime/bfc_allocator.cc:1091] 2 Chunks of size 18118656 totalling 34.56MiB\n",
            "2022-11-21 14:42:57.299752: I tensorflow/core/common_runtime/bfc_allocator.cc:1091] 2 Chunks of size 34849024 totalling 66.47MiB\n",
            "2022-11-21 14:42:57.299755: I tensorflow/core/common_runtime/bfc_allocator.cc:1091] 3 Chunks of size 81920000 totalling 234.38MiB\n",
            "2022-11-21 14:42:57.299758: I tensorflow/core/common_runtime/bfc_allocator.cc:1091] 1 Chunks of size 85434624 totalling 81.48MiB\n",
            "2022-11-21 14:42:57.299761: I tensorflow/core/common_runtime/bfc_allocator.cc:1091] 1 Chunks of size 86966272 totalling 82.94MiB\n",
            "2022-11-21 14:42:57.299764: I tensorflow/core/common_runtime/bfc_allocator.cc:1091] 1 Chunks of size 119980800 totalling 114.42MiB\n",
            "2022-11-21 14:42:57.299766: I tensorflow/core/common_runtime/bfc_allocator.cc:1091] 1 Chunks of size 120247552 totalling 114.68MiB\n",
            "2022-11-21 14:42:57.299769: I tensorflow/core/common_runtime/bfc_allocator.cc:1091] 1 Chunks of size 122131456 totalling 116.47MiB\n",
            "2022-11-21 14:42:57.299772: I tensorflow/core/common_runtime/bfc_allocator.cc:1091] 1 Chunks of size 125018368 totalling 119.23MiB\n",
            "2022-11-21 14:42:57.299775: I tensorflow/core/common_runtime/bfc_allocator.cc:1091] 1 Chunks of size 148454656 totalling 141.58MiB\n",
            "2022-11-21 14:42:57.299778: I tensorflow/core/common_runtime/bfc_allocator.cc:1091] 1 Chunks of size 153600000 totalling 146.48MiB\n",
            "2022-11-21 14:42:57.299781: I tensorflow/core/common_runtime/bfc_allocator.cc:1091] 3 Chunks of size 169862400 totalling 485.98MiB\n",
            "2022-11-21 14:42:57.299783: I tensorflow/core/common_runtime/bfc_allocator.cc:1095] Sum Total of in-use chunks: 1.96GiB\n",
            "2022-11-21 14:42:57.299786: I tensorflow/core/common_runtime/bfc_allocator.cc:1097] total_region_allocated_bytes_: 2236547072 memory_limit_: 2236547072 available bytes: 0 curr_region_allocation_bytes_: 4294967296\n",
            "2022-11-21 14:42:57.299791: I tensorflow/core/common_runtime/bfc_allocator.cc:1103] Stats: \n",
            "Limit:                      2236547072\n",
            "InUse:                      2108517632\n",
            "MaxInUse:                   2215685376\n",
            "NumAllocs:                      439664\n",
            "MaxAllocSize:                295152128\n",
            "Reserved:                            0\n",
            "PeakReserved:                        0\n",
            "LargestFreeBlock:                    0\n",
            "\n",
            "2022-11-21 14:42:57.299809: W tensorflow/core/common_runtime/bfc_allocator.cc:491] *****************xx************xxx___*************************************************x*************\n",
            "2022-11-21 14:42:57.300235: W tensorflow/core/framework/op_kernel.cc:1733] RESOURCE_EXHAUSTED: failed to allocate memory\n"
          ]
        },
        {
          "ename": "ResourceExhaustedError",
          "evalue": "failed to allocate memory [Op:Log]",
          "output_type": "error",
          "traceback": [
            "\u001b[0;31m---------------------------------------------------------------------------\u001b[0m",
            "\u001b[0;31mResourceExhaustedError\u001b[0m                    Traceback (most recent call last)",
            "\u001b[0;32m/tmp/ipykernel_27813/2364707427.py\u001b[0m in \u001b[0;36m<module>\u001b[0;34m\u001b[0m\n\u001b[0;32m----> 1\u001b[0;31m \u001b[0mmt_model\u001b[0m\u001b[0;34m.\u001b[0m\u001b[0mtrain\u001b[0m\u001b[0;34m(\u001b[0m\u001b[0mn_epochs\u001b[0m\u001b[0;34m=\u001b[0m\u001b[0;36m2\u001b[0m\u001b[0;34m)\u001b[0m\u001b[0;34m\u001b[0m\u001b[0;34m\u001b[0m\u001b[0m\n\u001b[0m",
            "\u001b[0;32m/tmp/ipykernel_27813/4197836446.py\u001b[0m in \u001b[0;36mtrain\u001b[0;34m(self, n_epochs)\u001b[0m\n\u001b[1;32m     18\u001b[0m               \u001b[0mself\u001b[0m\u001b[0;34m.\u001b[0m\u001b[0mpmf_model\u001b[0m\u001b[0;34m.\u001b[0m\u001b[0mtrain\u001b[0m\u001b[0;34m(\u001b[0m\u001b[0;34m)\u001b[0m\u001b[0;34m\u001b[0m\u001b[0;34m\u001b[0m\u001b[0m\n\u001b[1;32m     19\u001b[0m               \u001b[0mprint\u001b[0m\u001b[0;34m(\u001b[0m\u001b[0;34m\"\\n********************************************* \\nSeq2Seq Model Training Turn =>\"\u001b[0m\u001b[0;34m)\u001b[0m\u001b[0;34m\u001b[0m\u001b[0;34m\u001b[0m\u001b[0m\n\u001b[0;32m---> 20\u001b[0;31m               \u001b[0mself\u001b[0m\u001b[0;34m.\u001b[0m\u001b[0mseq2seq_model\u001b[0m\u001b[0;34m.\u001b[0m\u001b[0mtrain\u001b[0m\u001b[0;34m(\u001b[0m \u001b[0;34m)\u001b[0m\u001b[0;34m\u001b[0m\u001b[0;34m\u001b[0m\u001b[0m\n\u001b[0m\u001b[1;32m     21\u001b[0m \u001b[0;34m\u001b[0m\u001b[0m\n\u001b[1;32m     22\u001b[0m               \u001b[0mckpt\u001b[0m\u001b[0;34m.\u001b[0m\u001b[0mstep\u001b[0m\u001b[0;34m.\u001b[0m\u001b[0massign_add\u001b[0m\u001b[0;34m(\u001b[0m\u001b[0;36m1\u001b[0m\u001b[0;34m)\u001b[0m\u001b[0;34m\u001b[0m\u001b[0;34m\u001b[0m\u001b[0m\n",
            "\u001b[0;32m/tmp/ipykernel_27813/2140678383.py\u001b[0m in \u001b[0;36mtrain\u001b[0;34m(self)\u001b[0m\n\u001b[1;32m    227\u001b[0m             \u001b[0;31m# g step generator training policy gradient\u001b[0m\u001b[0;34m\u001b[0m\u001b[0;34m\u001b[0m\u001b[0;34m\u001b[0m\u001b[0m\n\u001b[1;32m    228\u001b[0m             \u001b[0;32mfor\u001b[0m \u001b[0m_\u001b[0m \u001b[0;32min\u001b[0m \u001b[0mrange\u001b[0m\u001b[0;34m(\u001b[0m\u001b[0mg_step\u001b[0m\u001b[0;34m)\u001b[0m\u001b[0;34m:\u001b[0m\u001b[0;34m\u001b[0m\u001b[0;34m\u001b[0m\u001b[0m\n\u001b[0;32m--> 229\u001b[0;31m               \u001b[0mself\u001b[0m\u001b[0;34m.\u001b[0m\u001b[0m_train_step_gn_policy\u001b[0m\u001b[0;34m(\u001b[0m\u001b[0mbatch_Userdoc_flattened\u001b[0m\u001b[0;34m,\u001b[0m\u001b[0mbatch_Itemdoc_flattened\u001b[0m\u001b[0;34m,\u001b[0m\u001b[0mbatch_Userdoc\u001b[0m\u001b[0;34m,\u001b[0m\u001b[0mbatch_Itemdoc\u001b[0m\u001b[0;34m,\u001b[0m\u001b[0muser_review_num\u001b[0m\u001b[0;34m,\u001b[0m\u001b[0mitem_review_num\u001b[0m\u001b[0;34m)\u001b[0m\u001b[0;34m\u001b[0m\u001b[0;34m\u001b[0m\u001b[0m\n\u001b[0m\u001b[1;32m    230\u001b[0m \u001b[0;34m\u001b[0m\u001b[0m\n\u001b[1;32m    231\u001b[0m             \u001b[0;31m# d step discriminator training\u001b[0m\u001b[0;34m\u001b[0m\u001b[0;34m\u001b[0m\u001b[0;34m\u001b[0m\u001b[0m\n",
            "\u001b[0;32m/tmp/ipykernel_27813/2140678383.py\u001b[0m in \u001b[0;36m_train_step_gn_policy\u001b[0;34m(self, batch_Userdoc_flattened, batch_Itemdoc_flattened, batch_Userdoc, batch_Itemdoc, user_review_num, item_review_num)\u001b[0m\n\u001b[1;32m    135\u001b[0m \u001b[0;34m\u001b[0m\u001b[0m\n\u001b[1;32m    136\u001b[0m               \u001b[0mreward\u001b[0m \u001b[0;34m=\u001b[0m \u001b[0mtf\u001b[0m\u001b[0;34m.\u001b[0m\u001b[0mstack\u001b[0m\u001b[0;34m(\u001b[0m\u001b[0mreward\u001b[0m\u001b[0;34m,\u001b[0m\u001b[0;36m1\u001b[0m\u001b[0;34m)\u001b[0m\u001b[0;34m/\u001b[0m \u001b[0mrollout_num\u001b[0m \u001b[0;31m# batchsize * seq_length\u001b[0m\u001b[0;34m\u001b[0m\u001b[0;34m\u001b[0m\u001b[0m\n\u001b[0;32m--> 137\u001b[0;31m               \u001b[0mg_loss\u001b[0m \u001b[0;34m=\u001b[0m \u001b[0mself\u001b[0m\u001b[0;34m.\u001b[0m\u001b[0mloss_fn\u001b[0m\u001b[0;34m(\u001b[0m\u001b[0mgenerated_samples\u001b[0m\u001b[0;34m[\u001b[0m\u001b[0;34m:\u001b[0m\u001b[0;34m,\u001b[0m\u001b[0;36m1\u001b[0m\u001b[0;34m:\u001b[0m\u001b[0;34m]\u001b[0m \u001b[0;34m,\u001b[0m \u001b[0mtf\u001b[0m\u001b[0;34m.\u001b[0m\u001b[0mtranspose\u001b[0m\u001b[0;34m(\u001b[0m \u001b[0mtf\u001b[0m\u001b[0;34m.\u001b[0m\u001b[0mstack\u001b[0m\u001b[0;34m(\u001b[0m\u001b[0mdec_prob\u001b[0m\u001b[0;34m)\u001b[0m \u001b[0;34m,\u001b[0m \u001b[0;34m[\u001b[0m\u001b[0;36m1\u001b[0m\u001b[0;34m,\u001b[0m\u001b[0;36m0\u001b[0m\u001b[0;34m,\u001b[0m\u001b[0;36m2\u001b[0m\u001b[0;34m]\u001b[0m\u001b[0;34m)\u001b[0m \u001b[0;34m,\u001b[0m \u001b[0mreward\u001b[0m\u001b[0;34m)\u001b[0m\u001b[0;34m\u001b[0m\u001b[0;34m\u001b[0m\u001b[0m\n\u001b[0m\u001b[1;32m    138\u001b[0m             \u001b[0mvariables\u001b[0m \u001b[0;34m=\u001b[0m \u001b[0mself\u001b[0m\u001b[0;34m.\u001b[0m\u001b[0muser_encoder\u001b[0m\u001b[0;34m.\u001b[0m\u001b[0mtrainable_variables\u001b[0m \u001b[0;34m+\u001b[0m \u001b[0mself\u001b[0m\u001b[0;34m.\u001b[0m\u001b[0mitem_encoder\u001b[0m\u001b[0;34m.\u001b[0m\u001b[0mtrainable_variables\u001b[0m \u001b[0;34m+\u001b[0m \u001b[0mself\u001b[0m\u001b[0;34m.\u001b[0m\u001b[0mdecoder\u001b[0m\u001b[0;34m.\u001b[0m\u001b[0mtrainable_variables\u001b[0m\u001b[0;34m\u001b[0m\u001b[0;34m\u001b[0m\u001b[0m\n\u001b[1;32m    139\u001b[0m             \u001b[0mgradients\u001b[0m \u001b[0;34m=\u001b[0m \u001b[0mtape\u001b[0m\u001b[0;34m.\u001b[0m\u001b[0mgradient\u001b[0m\u001b[0;34m(\u001b[0m\u001b[0mg_loss\u001b[0m\u001b[0;34m,\u001b[0m \u001b[0mvariables\u001b[0m\u001b[0;34m)\u001b[0m\u001b[0;34m\u001b[0m\u001b[0;34m\u001b[0m\u001b[0m\n",
            "\u001b[0;32m/tmp/ipykernel_27813/1302124346.py\u001b[0m in \u001b[0;36m__call__\u001b[0;34m(self, y_true, y_pred, reward)\u001b[0m\n\u001b[1;32m      9\u001b[0m     \u001b[0mmaskoff_ind\u001b[0m\u001b[0;34m=\u001b[0m\u001b[0mtf\u001b[0m\u001b[0;34m.\u001b[0m\u001b[0mreduce_sum\u001b[0m\u001b[0;34m(\u001b[0m\u001b[0mmask\u001b[0m\u001b[0;34m)\u001b[0m\u001b[0;34m\u001b[0m\u001b[0;34m\u001b[0m\u001b[0m\n\u001b[1;32m     10\u001b[0m     \u001b[0ma\u001b[0m\u001b[0;34m=\u001b[0m\u001b[0mtf\u001b[0m\u001b[0;34m.\u001b[0m\u001b[0mone_hot\u001b[0m\u001b[0;34m(\u001b[0m\u001b[0my_true\u001b[0m\u001b[0;34m[\u001b[0m\u001b[0;34m:\u001b[0m\u001b[0mmaskoff_ind\u001b[0m\u001b[0;34m]\u001b[0m\u001b[0;34m,\u001b[0m \u001b[0mmax_vocab_size\u001b[0m\u001b[0;34m,\u001b[0m \u001b[0;36m1.0\u001b[0m\u001b[0;34m,\u001b[0m \u001b[0;36m0.0\u001b[0m\u001b[0;34m)\u001b[0m\u001b[0;34m\u001b[0m\u001b[0;34m\u001b[0m\u001b[0m\n\u001b[0;32m---> 11\u001b[0;31m     \u001b[0mb\u001b[0m\u001b[0;34m=\u001b[0m\u001b[0mtf\u001b[0m\u001b[0;34m.\u001b[0m\u001b[0mmath\u001b[0m\u001b[0;34m.\u001b[0m\u001b[0mlog\u001b[0m\u001b[0;34m(\u001b[0m \u001b[0mtf\u001b[0m\u001b[0;34m.\u001b[0m\u001b[0mclip_by_value\u001b[0m\u001b[0;34m(\u001b[0m\u001b[0my_pred\u001b[0m\u001b[0;34m[\u001b[0m\u001b[0;34m:\u001b[0m\u001b[0mmaskoff_ind\u001b[0m\u001b[0;34m]\u001b[0m\u001b[0;34m,\u001b[0m \u001b[0;36m1e-20\u001b[0m\u001b[0;34m,\u001b[0m \u001b[0;36m1.0\u001b[0m\u001b[0;34m)\u001b[0m\u001b[0;34m)\u001b[0m\u001b[0;34m\u001b[0m\u001b[0;34m\u001b[0m\u001b[0m\n\u001b[0m\u001b[1;32m     12\u001b[0m     \u001b[0maa\u001b[0m\u001b[0;34m=\u001b[0m\u001b[0mtf\u001b[0m\u001b[0;34m.\u001b[0m\u001b[0mreduce_sum\u001b[0m\u001b[0;34m(\u001b[0m \u001b[0ma\u001b[0m \u001b[0;34m*\u001b[0m \u001b[0mb\u001b[0m\u001b[0;34m,\u001b[0m\u001b[0;36m2\u001b[0m\u001b[0;34m)\u001b[0m\u001b[0;34m\u001b[0m\u001b[0;34m\u001b[0m\u001b[0m\n\u001b[1;32m     13\u001b[0m \u001b[0;34m\u001b[0m\u001b[0m\n",
            "\u001b[0;32m~/anaconda3/envs/colabenv/lib/python3.7/site-packages/tensorflow/python/ops/gen_math_ops.py\u001b[0m in \u001b[0;36mlog\u001b[0;34m(x, name)\u001b[0m\n\u001b[1;32m   5468\u001b[0m       \u001b[0;32mreturn\u001b[0m \u001b[0m_result\u001b[0m\u001b[0;34m\u001b[0m\u001b[0;34m\u001b[0m\u001b[0m\n\u001b[1;32m   5469\u001b[0m     \u001b[0;32mexcept\u001b[0m \u001b[0m_core\u001b[0m\u001b[0;34m.\u001b[0m\u001b[0m_NotOkStatusException\u001b[0m \u001b[0;32mas\u001b[0m \u001b[0me\u001b[0m\u001b[0;34m:\u001b[0m\u001b[0;34m\u001b[0m\u001b[0;34m\u001b[0m\u001b[0m\n\u001b[0;32m-> 5470\u001b[0;31m       \u001b[0m_ops\u001b[0m\u001b[0;34m.\u001b[0m\u001b[0mraise_from_not_ok_status\u001b[0m\u001b[0;34m(\u001b[0m\u001b[0me\u001b[0m\u001b[0;34m,\u001b[0m \u001b[0mname\u001b[0m\u001b[0;34m)\u001b[0m\u001b[0;34m\u001b[0m\u001b[0;34m\u001b[0m\u001b[0m\n\u001b[0m\u001b[1;32m   5471\u001b[0m     \u001b[0;32mexcept\u001b[0m \u001b[0m_core\u001b[0m\u001b[0;34m.\u001b[0m\u001b[0m_FallbackException\u001b[0m\u001b[0;34m:\u001b[0m\u001b[0;34m\u001b[0m\u001b[0;34m\u001b[0m\u001b[0m\n\u001b[1;32m   5472\u001b[0m       \u001b[0;32mpass\u001b[0m\u001b[0;34m\u001b[0m\u001b[0;34m\u001b[0m\u001b[0m\n",
            "\u001b[0;32m~/anaconda3/envs/colabenv/lib/python3.7/site-packages/tensorflow/python/framework/ops.py\u001b[0m in \u001b[0;36mraise_from_not_ok_status\u001b[0;34m(e, name)\u001b[0m\n\u001b[1;32m   7162\u001b[0m \u001b[0;32mdef\u001b[0m \u001b[0mraise_from_not_ok_status\u001b[0m\u001b[0;34m(\u001b[0m\u001b[0me\u001b[0m\u001b[0;34m,\u001b[0m \u001b[0mname\u001b[0m\u001b[0;34m)\u001b[0m\u001b[0;34m:\u001b[0m\u001b[0;34m\u001b[0m\u001b[0;34m\u001b[0m\u001b[0m\n\u001b[1;32m   7163\u001b[0m   \u001b[0me\u001b[0m\u001b[0;34m.\u001b[0m\u001b[0mmessage\u001b[0m \u001b[0;34m+=\u001b[0m \u001b[0;34m(\u001b[0m\u001b[0;34m\" name: \"\u001b[0m \u001b[0;34m+\u001b[0m \u001b[0mname\u001b[0m \u001b[0;32mif\u001b[0m \u001b[0mname\u001b[0m \u001b[0;32mis\u001b[0m \u001b[0;32mnot\u001b[0m \u001b[0;32mNone\u001b[0m \u001b[0;32melse\u001b[0m \u001b[0;34m\"\"\u001b[0m\u001b[0;34m)\u001b[0m\u001b[0;34m\u001b[0m\u001b[0;34m\u001b[0m\u001b[0m\n\u001b[0;32m-> 7164\u001b[0;31m   \u001b[0;32mraise\u001b[0m \u001b[0mcore\u001b[0m\u001b[0;34m.\u001b[0m\u001b[0m_status_to_exception\u001b[0m\u001b[0;34m(\u001b[0m\u001b[0me\u001b[0m\u001b[0;34m)\u001b[0m \u001b[0;32mfrom\u001b[0m \u001b[0;32mNone\u001b[0m  \u001b[0;31m# pylint: disable=protected-access\u001b[0m\u001b[0;34m\u001b[0m\u001b[0;34m\u001b[0m\u001b[0m\n\u001b[0m\u001b[1;32m   7165\u001b[0m \u001b[0;34m\u001b[0m\u001b[0m\n\u001b[1;32m   7166\u001b[0m \u001b[0;34m\u001b[0m\u001b[0m\n",
            "\u001b[0;31mResourceExhaustedError\u001b[0m: failed to allocate memory [Op:Log]"
          ]
        }
      ],
      "source": [
        "mt_model.train(n_epochs=2)"
      ]
    },
    {
      "cell_type": "markdown",
      "metadata": {},
      "source": [
        "# **Ploting Results**"
      ]
    },
    {
      "cell_type": "code",
      "execution_count": null,
      "metadata": {},
      "outputs": [],
      "source": [
        "%load_ext tensorboard"
      ]
    },
    {
      "cell_type": "code",
      "execution_count": null,
      "metadata": {},
      "outputs": [
        {
          "data": {
            "text/html": [
              "\n",
              "      <iframe id=\"tensorboard-frame-f4e1c84a7854f31d\" width=\"100%\" height=\"800\" frameborder=\"0\">\n",
              "      </iframe>\n",
              "      <script>\n",
              "        (function() {\n",
              "          const frame = document.getElementById(\"tensorboard-frame-f4e1c84a7854f31d\");\n",
              "          const url = new URL(\"/\", window.location);\n",
              "          const port = 6006;\n",
              "          if (port) {\n",
              "            url.port = port;\n",
              "          }\n",
              "          frame.src = url;\n",
              "        })();\n",
              "      </script>\n",
              "    "
            ],
            "text/plain": [
              "<IPython.core.display.HTML object>"
            ]
          },
          "metadata": {},
          "output_type": "display_data"
        }
      ],
      "source": [
        "%tensorboard --logdir logs\n"
      ]
    },
    {
      "cell_type": "markdown",
      "metadata": {
        "id": "xniWi24qcZsb"
      },
      "source": [
        "# test code"
      ]
    },
    {
      "cell_type": "code",
      "execution_count": null,
      "metadata": {
        "id": "85ryd-vJrTix"
      },
      "outputs": [],
      "source": [
        "#log_ps, mse_train, mse_test= pm.train(10)"
      ]
    },
    {
      "cell_type": "code",
      "execution_count": null,
      "metadata": {
        "id": "4meEBmwsqMYC"
      },
      "outputs": [],
      "source": [
        "\n",
        "# dec_result,dec_state=decoder(dec_output_tokens,dec_output_tokens,context_vector= user_context_vector,state=dec_state)\n",
        "# sampled_token = tf.random.categorical(dec_result[:,-1, :], num_samples=1)\n",
        "# print( sampled_token.numpy())\n",
        "# dec_output_tokens=np.append( dec_output_tokens , sampled_token.numpy()[0])\n",
        "# print(dec_output_tokens)\n",
        "\n",
        "# vocab = np.array(input_text_processor.get_vocabulary())\n",
        "# first_word = vocab[dec_output_tokens]\n",
        "# first_word"
      ]
    }
  ],
  "metadata": {
    "colab": {
      "collapsed_sections": [],
      "name": "Explainable Recommender System.ipynb",
      "provenance": [],
      "toc_visible": true
    },
    "gpuClass": "standard",
    "kernelspec": {
      "display_name": "Python 3.7.13 ('colabenv')",
      "language": "python",
      "name": "python3"
    },
    "language_info": {
      "codemirror_mode": {
        "name": "ipython",
        "version": 3
      },
      "file_extension": ".py",
      "mimetype": "text/x-python",
      "name": "python",
      "nbconvert_exporter": "python",
      "pygments_lexer": "ipython3",
      "version": "3.7.13"
    },
    "vscode": {
      "interpreter": {
        "hash": "5859fc1fd51a29bc96a6c335b5cef2533de774a99a73e1484108bae0d11f06ff"
      }
    }
  },
  "nbformat": 4,
  "nbformat_minor": 0
}
